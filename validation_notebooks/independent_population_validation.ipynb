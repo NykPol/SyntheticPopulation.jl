{
 "cells": [
  {
   "cell_type": "code",
   "execution_count": 45,
   "metadata": {},
   "outputs": [
    {
     "name": "stderr",
     "output_type": "stream",
     "text": [
      "WARNING: replacing module SyntheticPopulation.\n"
     ]
    }
   ],
   "source": [
    "include(\"../src/SyntheticPopulation.jl\")\n",
    "include(\"utils.jl\")\n",
    "using .SyntheticPopulation\n",
    "using DataFrames\n",
    "using StatsBase"
   ]
  },
  {
   "attachments": {},
   "cell_type": "markdown",
   "metadata": {},
   "source": [
    "# Summary:\n",
    "Sample-free IPF algorithm is well suited for creating joint distributions of the attributes that are independent."
   ]
  },
  {
   "attachments": {},
   "cell_type": "markdown",
   "metadata": {},
   "source": [
    "# 1. Population with independent variables"
   ]
  },
  {
   "attachments": {},
   "cell_type": "markdown",
   "metadata": {},
   "source": [
    "### 1.1. Generate target population with independent variables\n",
    "First we generate target population that we'll try to synthesize using available algorithms. All variables are independent."
   ]
  },
  {
   "cell_type": "code",
   "execution_count": 46,
   "metadata": {
    "scrolled": false
   },
   "outputs": [
    {
     "data": {
      "text/html": [
       "<div><div style = \"float: left;\"><span>526×5 DataFrame</span></div><div style = \"float: right;\"><span style = \"font-style: italic;\">501 rows omitted</span></div><div style = \"clear: both;\"></div></div><div class = \"data-frame\" style = \"overflow-x: scroll;\"><table class = \"data-frame\" style = \"margin-bottom: 6px;\"><thead><tr class = \"header\"><th class = \"rowNumber\" style = \"font-weight: bold; text-align: right;\">Row</th><th style = \"text-align: left;\">AGE</th><th style = \"text-align: left;\">MARITAL_STATUS</th><th style = \"text-align: left;\">SEX</th><th style = \"text-align: left;\">INCOME</th><th style = \"text-align: left;\">population</th></tr><tr class = \"subheader headerLastRow\"><th class = \"rowNumber\" style = \"font-weight: bold; text-align: right;\"></th><th title = \"Int64\" style = \"text-align: left;\">Int64</th><th title = \"Union{Missing, String}\" style = \"text-align: left;\">String?</th><th title = \"Char\" style = \"text-align: left;\">Char</th><th title = \"Union{Missing, Int64}\" style = \"text-align: left;\">Int64?</th><th title = \"Int64\" style = \"text-align: left;\">Int64</th></tr></thead><tbody><tr><td class = \"rowNumber\" style = \"font-weight: bold; text-align: right;\">1</td><td style = \"text-align: right;\">5</td><td style = \"font-style: italic; text-align: left;\">missing</td><td style = \"text-align: left;\">F</td><td style = \"font-style: italic; text-align: right;\">missing</td><td style = \"text-align: right;\">10088</td></tr><tr><td class = \"rowNumber\" style = \"font-weight: bold; text-align: right;\">2</td><td style = \"text-align: right;\">5</td><td style = \"font-style: italic; text-align: left;\">missing</td><td style = \"text-align: left;\">M</td><td style = \"font-style: italic; text-align: right;\">missing</td><td style = \"text-align: right;\">10029</td></tr><tr><td class = \"rowNumber\" style = \"font-weight: bold; text-align: right;\">3</td><td style = \"text-align: right;\">10</td><td style = \"font-style: italic; text-align: left;\">missing</td><td style = \"text-align: left;\">F</td><td style = \"font-style: italic; text-align: right;\">missing</td><td style = \"text-align: right;\">9964</td></tr><tr><td class = \"rowNumber\" style = \"font-weight: bold; text-align: right;\">4</td><td style = \"text-align: right;\">10</td><td style = \"font-style: italic; text-align: left;\">missing</td><td style = \"text-align: left;\">M</td><td style = \"font-style: italic; text-align: right;\">missing</td><td style = \"text-align: right;\">9928</td></tr><tr><td class = \"rowNumber\" style = \"font-weight: bold; text-align: right;\">5</td><td style = \"text-align: right;\">15</td><td style = \"font-style: italic; text-align: left;\">missing</td><td style = \"text-align: left;\">F</td><td style = \"font-style: italic; text-align: right;\">missing</td><td style = \"text-align: right;\">9966</td></tr><tr><td class = \"rowNumber\" style = \"font-weight: bold; text-align: right;\">6</td><td style = \"text-align: right;\">15</td><td style = \"font-style: italic; text-align: left;\">missing</td><td style = \"text-align: left;\">M</td><td style = \"font-style: italic; text-align: right;\">missing</td><td style = \"text-align: right;\">10025</td></tr><tr><td class = \"rowNumber\" style = \"font-weight: bold; text-align: right;\">7</td><td style = \"text-align: right;\">20</td><td style = \"text-align: left;\">Divorced</td><td style = \"text-align: left;\">F</td><td style = \"text-align: right;\">40000</td><td style = \"text-align: right;\">769</td></tr><tr><td class = \"rowNumber\" style = \"font-weight: bold; text-align: right;\">8</td><td style = \"text-align: right;\">20</td><td style = \"text-align: left;\">Divorced</td><td style = \"text-align: left;\">F</td><td style = \"text-align: right;\">50000</td><td style = \"text-align: right;\">700</td></tr><tr><td class = \"rowNumber\" style = \"font-weight: bold; text-align: right;\">9</td><td style = \"text-align: right;\">20</td><td style = \"text-align: left;\">Divorced</td><td style = \"text-align: left;\">M</td><td style = \"text-align: right;\">40000</td><td style = \"text-align: right;\">776</td></tr><tr><td class = \"rowNumber\" style = \"font-weight: bold; text-align: right;\">10</td><td style = \"text-align: right;\">20</td><td style = \"text-align: left;\">Divorced</td><td style = \"text-align: left;\">M</td><td style = \"text-align: right;\">50000</td><td style = \"text-align: right;\">734</td></tr><tr><td class = \"rowNumber\" style = \"font-weight: bold; text-align: right;\">11</td><td style = \"text-align: right;\">20</td><td style = \"text-align: left;\">Married</td><td style = \"text-align: left;\">F</td><td style = \"text-align: right;\">40000</td><td style = \"text-align: right;\">3740</td></tr><tr><td class = \"rowNumber\" style = \"font-weight: bold; text-align: right;\">12</td><td style = \"text-align: right;\">20</td><td style = \"text-align: left;\">Married</td><td style = \"text-align: left;\">F</td><td style = \"text-align: right;\">50000</td><td style = \"text-align: right;\">3756</td></tr><tr><td class = \"rowNumber\" style = \"font-weight: bold; text-align: right;\">13</td><td style = \"text-align: right;\">20</td><td style = \"text-align: left;\">Married</td><td style = \"text-align: left;\">M</td><td style = \"text-align: right;\">40000</td><td style = \"text-align: right;\">3698</td></tr><tr><td style = \"text-align: right;\">&vellip;</td><td style = \"text-align: right;\">&vellip;</td><td style = \"text-align: right;\">&vellip;</td><td style = \"text-align: right;\">&vellip;</td><td style = \"text-align: right;\">&vellip;</td><td style = \"text-align: right;\">&vellip;</td></tr><tr><td class = \"rowNumber\" style = \"font-weight: bold; text-align: right;\">515</td><td style = \"text-align: right;\">20</td><td style = \"text-align: left;\">Divorced</td><td style = \"text-align: left;\">M</td><td style = \"text-align: right;\">80000</td><td style = \"text-align: right;\">0</td></tr><tr><td class = \"rowNumber\" style = \"font-weight: bold; text-align: right;\">516</td><td style = \"text-align: right;\">25</td><td style = \"text-align: left;\">Divorced</td><td style = \"text-align: left;\">M</td><td style = \"text-align: right;\">80000</td><td style = \"text-align: right;\">0</td></tr><tr><td class = \"rowNumber\" style = \"font-weight: bold; text-align: right;\">517</td><td style = \"text-align: right;\">20</td><td style = \"text-align: left;\">Widowed</td><td style = \"text-align: left;\">M</td><td style = \"text-align: right;\">80000</td><td style = \"text-align: right;\">0</td></tr><tr><td class = \"rowNumber\" style = \"font-weight: bold; text-align: right;\">518</td><td style = \"text-align: right;\">25</td><td style = \"text-align: left;\">Widowed</td><td style = \"text-align: left;\">M</td><td style = \"text-align: right;\">80000</td><td style = \"text-align: right;\">0</td></tr><tr><td class = \"rowNumber\" style = \"font-weight: bold; text-align: right;\">519</td><td style = \"text-align: right;\">20</td><td style = \"text-align: left;\">Not_married</td><td style = \"text-align: left;\">F</td><td style = \"text-align: right;\">80000</td><td style = \"text-align: right;\">0</td></tr><tr><td class = \"rowNumber\" style = \"font-weight: bold; text-align: right;\">520</td><td style = \"text-align: right;\">25</td><td style = \"text-align: left;\">Not_married</td><td style = \"text-align: left;\">F</td><td style = \"text-align: right;\">80000</td><td style = \"text-align: right;\">0</td></tr><tr><td class = \"rowNumber\" style = \"font-weight: bold; text-align: right;\">521</td><td style = \"text-align: right;\">20</td><td style = \"text-align: left;\">Married</td><td style = \"text-align: left;\">F</td><td style = \"text-align: right;\">80000</td><td style = \"text-align: right;\">0</td></tr><tr><td class = \"rowNumber\" style = \"font-weight: bold; text-align: right;\">522</td><td style = \"text-align: right;\">25</td><td style = \"text-align: left;\">Married</td><td style = \"text-align: left;\">F</td><td style = \"text-align: right;\">80000</td><td style = \"text-align: right;\">0</td></tr><tr><td class = \"rowNumber\" style = \"font-weight: bold; text-align: right;\">523</td><td style = \"text-align: right;\">20</td><td style = \"text-align: left;\">Divorced</td><td style = \"text-align: left;\">F</td><td style = \"text-align: right;\">80000</td><td style = \"text-align: right;\">0</td></tr><tr><td class = \"rowNumber\" style = \"font-weight: bold; text-align: right;\">524</td><td style = \"text-align: right;\">25</td><td style = \"text-align: left;\">Divorced</td><td style = \"text-align: left;\">F</td><td style = \"text-align: right;\">80000</td><td style = \"text-align: right;\">0</td></tr><tr><td class = \"rowNumber\" style = \"font-weight: bold; text-align: right;\">525</td><td style = \"text-align: right;\">20</td><td style = \"text-align: left;\">Widowed</td><td style = \"text-align: left;\">F</td><td style = \"text-align: right;\">80000</td><td style = \"text-align: right;\">0</td></tr><tr><td class = \"rowNumber\" style = \"font-weight: bold; text-align: right;\">526</td><td style = \"text-align: right;\">25</td><td style = \"text-align: left;\">Widowed</td><td style = \"text-align: left;\">F</td><td style = \"text-align: right;\">80000</td><td style = \"text-align: right;\">0</td></tr></tbody></table></div>"
      ],
      "text/latex": [
       "\\begin{tabular}{r|ccccc}\n",
       "\t& AGE & MARITAL\\_STATUS & SEX & INCOME & population\\\\\n",
       "\t\\hline\n",
       "\t& Int64 & String? & Char & Int64? & Int64\\\\\n",
       "\t\\hline\n",
       "\t1 & 5 & \\emph{missing} & F & \\emph{missing} & 10088 \\\\\n",
       "\t2 & 5 & \\emph{missing} & M & \\emph{missing} & 10029 \\\\\n",
       "\t3 & 10 & \\emph{missing} & F & \\emph{missing} & 9964 \\\\\n",
       "\t4 & 10 & \\emph{missing} & M & \\emph{missing} & 9928 \\\\\n",
       "\t5 & 15 & \\emph{missing} & F & \\emph{missing} & 9966 \\\\\n",
       "\t6 & 15 & \\emph{missing} & M & \\emph{missing} & 10025 \\\\\n",
       "\t7 & 20 & Divorced & F & 40000 & 769 \\\\\n",
       "\t8 & 20 & Divorced & F & 50000 & 700 \\\\\n",
       "\t9 & 20 & Divorced & M & 40000 & 776 \\\\\n",
       "\t10 & 20 & Divorced & M & 50000 & 734 \\\\\n",
       "\t11 & 20 & Married & F & 40000 & 3740 \\\\\n",
       "\t12 & 20 & Married & F & 50000 & 3756 \\\\\n",
       "\t13 & 20 & Married & M & 40000 & 3698 \\\\\n",
       "\t14 & 20 & Married & M & 50000 & 3674 \\\\\n",
       "\t15 & 20 & Not\\_married & F & 40000 & 2260 \\\\\n",
       "\t16 & 20 & Not\\_married & F & 50000 & 2203 \\\\\n",
       "\t17 & 20 & Not\\_married & M & 40000 & 2237 \\\\\n",
       "\t18 & 20 & Not\\_married & M & 50000 & 2218 \\\\\n",
       "\t19 & 20 & Widowed & F & 40000 & 718 \\\\\n",
       "\t20 & 20 & Widowed & F & 50000 & 786 \\\\\n",
       "\t21 & 20 & Widowed & M & 40000 & 746 \\\\\n",
       "\t22 & 20 & Widowed & M & 50000 & 763 \\\\\n",
       "\t23 & 25 & Divorced & F & 40000 & 715 \\\\\n",
       "\t24 & 25 & Divorced & F & 50000 & 749 \\\\\n",
       "\t$\\dots$ & $\\dots$ & $\\dots$ & $\\dots$ & $\\dots$ & $\\dots$ \\\\\n",
       "\\end{tabular}\n"
      ],
      "text/plain": [
       "\u001b[1m526×5 DataFrame\u001b[0m\n",
       "\u001b[1m Row \u001b[0m│\u001b[1m AGE   \u001b[0m\u001b[1m MARITAL_STATUS \u001b[0m\u001b[1m SEX  \u001b[0m\u001b[1m INCOME  \u001b[0m\u001b[1m population \u001b[0m\n",
       "     │\u001b[90m Int64 \u001b[0m\u001b[90m String?        \u001b[0m\u001b[90m Char \u001b[0m\u001b[90m Int64?  \u001b[0m\u001b[90m Int64      \u001b[0m\n",
       "─────┼──────────────────────────────────────────────────\n",
       "   1 │     5 \u001b[90m missing        \u001b[0m F    \u001b[90m missing \u001b[0m      10088\n",
       "   2 │     5 \u001b[90m missing        \u001b[0m M    \u001b[90m missing \u001b[0m      10029\n",
       "   3 │    10 \u001b[90m missing        \u001b[0m F    \u001b[90m missing \u001b[0m       9964\n",
       "   4 │    10 \u001b[90m missing        \u001b[0m M    \u001b[90m missing \u001b[0m       9928\n",
       "   5 │    15 \u001b[90m missing        \u001b[0m F    \u001b[90m missing \u001b[0m       9966\n",
       "   6 │    15 \u001b[90m missing        \u001b[0m M    \u001b[90m missing \u001b[0m      10025\n",
       "   7 │    20  Divorced        F       40000         769\n",
       "   8 │    20  Divorced        F       50000         700\n",
       "  ⋮  │   ⋮          ⋮          ⋮       ⋮         ⋮\n",
       " 520 │    25  Not_married     F       80000           0\n",
       " 521 │    20  Married         F       80000           0\n",
       " 522 │    25  Married         F       80000           0\n",
       " 523 │    20  Divorced        F       80000           0\n",
       " 524 │    25  Divorced        F       80000           0\n",
       " 525 │    20  Widowed         F       80000           0\n",
       " 526 │    25  Widowed         F       80000           0\n",
       "\u001b[36m                                        511 rows omitted\u001b[0m"
      ]
     },
     "metadata": {},
     "output_type": "display_data"
    }
   ],
   "source": [
    "SIZE = 300000\n",
    "OLD_ADULTS = 0.6\n",
    "YOUNG_ADULTS = 0.2\n",
    "CHILDREN = 0.2\n",
    "\n",
    "SEX = ['M', 'F']; SEX_WEIGHTS = [0.5, 0.5]\n",
    "MARITAL_STATUS = [\"Not_married\", \"Married\", \"Divorced\", \"Widowed\"]; \n",
    "MARITAL_WEIGHTS = [0.3, 0.5, 0.1, 0.1]\n",
    "\n",
    "AGE_YOUNG_ADULT = [20, 25];\n",
    "AGE_YOUNG_ADULT_WEIGHTS = repeat([1 / length(AGE_YOUNG_ADULT)], length(AGE_YOUNG_ADULT));\n",
    "AGE_OLD_ADULT = [30, 35, 40, 45, 50, 55, 60, 65, 70, 75, 80];\n",
    "AGE_OLD_ADULT_WEIGHTS = repeat([1 / length(AGE_OLD_ADULT)], length(AGE_OLD_ADULT));\n",
    "AGE_CHILDREN = [5, 10, 15];\n",
    "AGE_CHILDREN_WEIGHTS = repeat([1 / length(AGE_CHILDREN)], length(AGE_CHILDREN));\n",
    "\n",
    "INCOME = [40000, 50000, 60000, 70000, 80000];\n",
    "ZERO_INCOME = [60000, 70000, 80000];\n",
    "INCOME_WEIGHTS_YOUNG = SIZE .* YOUNG_ADULTS .* [0.5, 0.5, 0, 0, 0]\n",
    "INCOME_WEIGHTS_OLD = SIZE * (OLD_ADULTS+YOUNG_ADULTS) .* [0.2, 0.2, 0.2, 0.2, 0.2] .- INCOME_WEIGHTS_YOUNG\n",
    "\n",
    "population_young_adult = DataFrame(\n",
    "    AGE = sample(AGE_YOUNG_ADULT, Weights(AGE_YOUNG_ADULT_WEIGHTS), Int(SIZE * YOUNG_ADULTS)),\n",
    "    MARITAL_STATUS = sample(MARITAL_STATUS, Weights(MARITAL_WEIGHTS), Int(SIZE * YOUNG_ADULTS)),\n",
    "    SEX = sample(SEX, Weights(SEX_WEIGHTS), Int(SIZE * YOUNG_ADULTS)),\n",
    "    INCOME = sample(INCOME, Weights(INCOME_WEIGHTS_YOUNG), Int(SIZE * YOUNG_ADULTS)),\n",
    ")\n",
    "population_old_adult = DataFrame(\n",
    "    AGE = sample(AGE_OLD_ADULT, Weights(AGE_OLD_ADULT_WEIGHTS), Int(SIZE * OLD_ADULTS)),\n",
    "    MARITAL_STATUS = sample(MARITAL_STATUS, Weights(MARITAL_WEIGHTS), Int(SIZE * OLD_ADULTS)),\n",
    "    SEX = sample(SEX, Weights(SEX_WEIGHTS), Int(SIZE * OLD_ADULTS)),\n",
    "    INCOME = sample(INCOME, Weights(INCOME_WEIGHTS_OLD), Int(SIZE * OLD_ADULTS)),\n",
    ")\n",
    "population_children = DataFrame(\n",
    "    AGE = sample(AGE_CHILDREN, Weights(AGE_CHILDREN_WEIGHTS), Int(SIZE * CHILDREN)),\n",
    "    MARITAL_STATUS = repeat([missing], Int(SIZE * CHILDREN)),\n",
    "    SEX = sample(SEX, Weights(SEX_WEIGHTS), Int(SIZE * CHILDREN)),\n",
    "    INCOME = repeat([missing], Int(SIZE * CHILDREN))\n",
    ")\n",
    "\n",
    "disaggregated_independent_population = reduce(vcat, [\n",
    "    population_young_adult, \n",
    "    population_old_adult,\n",
    "    population_children\n",
    "    ]\n",
    ")\n",
    "\n",
    "independent_population = combine(groupby(disaggregated_independent_population, names(disaggregated_independent_population), sort=true), nrow)\n",
    "rename!(independent_population, :nrow => :population)\n",
    "zero_population = DataFrame(vec(collect(Iterators.product(AGE_YOUNG_ADULT, MARITAL_STATUS, SEX, ZERO_INCOME))))\n",
    "zero_population.:population = repeat([0], nrow(zero_population))\n",
    "rename!(zero_population, names(independent_population))\n",
    "independent_population = reduce(vcat, [independent_population, zero_population])"
   ]
  },
  {
   "attachments": {},
   "cell_type": "markdown",
   "metadata": {},
   "source": [
    "### 1.2. Compute marginal attribute distributions of the independent population\n",
    "Then we compute the marginal population attributes. This is a type of data that we can usually get from the census data and will be input for our algorithms for population generation."
   ]
  },
  {
   "cell_type": "code",
   "execution_count": 47,
   "metadata": {},
   "outputs": [
    {
     "data": {
      "text/html": [
       "<div><div style = \"float: left;\"><span>5×2 DataFrame</span></div><div style = \"clear: both;\"></div></div><div class = \"data-frame\" style = \"overflow-x: scroll;\"><table class = \"data-frame\" style = \"margin-bottom: 6px;\"><thead><tr class = \"header\"><th class = \"rowNumber\" style = \"font-weight: bold; text-align: right;\">Row</th><th style = \"text-align: left;\">INCOME</th><th style = \"text-align: left;\">population</th></tr><tr class = \"subheader headerLastRow\"><th class = \"rowNumber\" style = \"font-weight: bold; text-align: right;\"></th><th title = \"Union{Missing, Int64}\" style = \"text-align: left;\">Int64?</th><th title = \"Int64\" style = \"text-align: left;\">Int64</th></tr></thead><tbody><tr><td class = \"rowNumber\" style = \"font-weight: bold; text-align: right;\">1</td><td style = \"text-align: right;\">40000</td><td style = \"text-align: right;\">48219</td></tr><tr><td class = \"rowNumber\" style = \"font-weight: bold; text-align: right;\">2</td><td style = \"text-align: right;\">50000</td><td style = \"text-align: right;\">47529</td></tr><tr><td class = \"rowNumber\" style = \"font-weight: bold; text-align: right;\">3</td><td style = \"text-align: right;\">60000</td><td style = \"text-align: right;\">48165</td></tr><tr><td class = \"rowNumber\" style = \"font-weight: bold; text-align: right;\">4</td><td style = \"text-align: right;\">70000</td><td style = \"text-align: right;\">48003</td></tr><tr><td class = \"rowNumber\" style = \"font-weight: bold; text-align: right;\">5</td><td style = \"text-align: right;\">80000</td><td style = \"text-align: right;\">48084</td></tr></tbody></table></div>"
      ],
      "text/latex": [
       "\\begin{tabular}{r|cc}\n",
       "\t& INCOME & population\\\\\n",
       "\t\\hline\n",
       "\t& Int64? & Int64\\\\\n",
       "\t\\hline\n",
       "\t1 & 40000 & 48219 \\\\\n",
       "\t2 & 50000 & 47529 \\\\\n",
       "\t3 & 60000 & 48165 \\\\\n",
       "\t4 & 70000 & 48003 \\\\\n",
       "\t5 & 80000 & 48084 \\\\\n",
       "\\end{tabular}\n"
      ],
      "text/plain": [
       "\u001b[1m5×2 DataFrame\u001b[0m\n",
       "\u001b[1m Row \u001b[0m│\u001b[1m INCOME \u001b[0m\u001b[1m population \u001b[0m\n",
       "     │\u001b[90m Int64? \u001b[0m\u001b[90m Int64      \u001b[0m\n",
       "─────┼────────────────────\n",
       "   1 │  40000       48219\n",
       "   2 │  50000       47529\n",
       "   3 │  60000       48165\n",
       "   4 │  70000       48003\n",
       "   5 │  80000       48084"
      ]
     },
     "metadata": {},
     "output_type": "display_data"
    }
   ],
   "source": [
    "#Population by age and sex\n",
    "independent_age_sex = combine(groupby(disaggregated_independent_population, [:AGE, :SEX], sort=true), nrow); \n",
    "sort!(independent_age_sex, [:SEX, :AGE])\n",
    "\n",
    "#Population by sex and marital status\n",
    "independent_sex_marital = combine(groupby(disaggregated_independent_population, [:MARITAL_STATUS, :SEX], sort=true), nrow); \n",
    "sort!(independent_sex_marital, [:SEX, :MARITAL_STATUS])\n",
    "\n",
    "#Population by income\n",
    "independent_income = combine(groupby(disaggregated_independent_population, [:INCOME], sort=true), nrow)\n",
    "\n",
    "#Correct column names\n",
    "independent_age_sex, independent_sex_marital, independent_income = map(x -> rename!(x, :nrow => :population), [independent_age_sex, independent_sex_marital, independent_income])\n",
    "\n",
    "#filter out missing values\n",
    "independent_sex_marital = filter(:MARITAL_STATUS => x -> typeof(x) != Missing, independent_sex_marital)\n",
    "independent_income = filter(:INCOME => x -> typeof(x) != Missing, independent_income)"
   ]
  },
  {
   "attachments": {},
   "cell_type": "markdown",
   "metadata": {},
   "source": [
    "### 1.3. Generate independent population from marginals\n",
    "Then, we use our algorithm to estimate joint distribution of the attributes. "
   ]
  },
  {
   "attachments": {},
   "cell_type": "markdown",
   "metadata": {},
   "source": [
    "#### Guo, Bhat, 2007"
   ]
  },
  {
   "cell_type": "code",
   "execution_count": 48,
   "metadata": {},
   "outputs": [
    {
     "name": "stderr",
     "output_type": "stream",
     "text": [
      "┌ Info: Inconsistent target margins, converting `X` and `mar` to proportions. Margin totals: [149670, 119652]\n",
      "└ @ ProportionalFitting /Users/marcinzurek/.julia/packages/ProportionalFitting/gNJEu/src/ipf.jl:61\n",
      "┌ Info: Converged in 1 iterations.\n",
      "└ @ ProportionalFitting /Users/marcinzurek/.julia/packages/ProportionalFitting/gNJEu/src/ipf.jl:130\n",
      "┌ Info: Inconsistent target margins, converting `X` and `mar` to proportions. Margin totals: [150330, 120348]\n",
      "└ @ ProportionalFitting /Users/marcinzurek/.julia/packages/ProportionalFitting/gNJEu/src/ipf.jl:61\n",
      "┌ Info: Converged in 1 iterations.\n",
      "└ @ ProportionalFitting /Users/marcinzurek/.julia/packages/ProportionalFitting/gNJEu/src/ipf.jl:130\n",
      "┌ Info: Inconsistent target margins, converting `X` and `mar` to proportions. Margin totals: [300001, 240000]\n",
      "└ @ ProportionalFitting /Users/marcinzurek/.julia/packages/ProportionalFitting/gNJEu/src/ipf.jl:61\n",
      "┌ Info: Converged in 1 iterations.\n",
      "└ @ ProportionalFitting /Users/marcinzurek/.julia/packages/ProportionalFitting/gNJEu/src/ipf.jl:130\n"
     ]
    },
    {
     "data": {
      "text/html": [
       "<div><div style = \"float: left;\"><span>640×5 DataFrame</span></div><div style = \"float: right;\"><span style = \"font-style: italic;\">615 rows omitted</span></div><div style = \"clear: both;\"></div></div><div class = \"data-frame\" style = \"overflow-x: scroll;\"><table class = \"data-frame\" style = \"margin-bottom: 6px;\"><thead><tr class = \"header\"><th class = \"rowNumber\" style = \"font-weight: bold; text-align: right;\">Row</th><th style = \"text-align: left;\">AGE</th><th style = \"text-align: left;\">MARITAL_STATUS</th><th style = \"text-align: left;\">SEX</th><th style = \"text-align: left;\">INCOME</th><th style = \"text-align: left;\">population</th></tr><tr class = \"subheader headerLastRow\"><th class = \"rowNumber\" style = \"font-weight: bold; text-align: right;\"></th><th title = \"Int64\" style = \"text-align: left;\">Int64</th><th title = \"String\" style = \"text-align: left;\">String</th><th title = \"Char\" style = \"text-align: left;\">Char</th><th title = \"Int64\" style = \"text-align: left;\">Int64</th><th title = \"Int64\" style = \"text-align: left;\">Int64</th></tr></thead><tbody><tr><td class = \"rowNumber\" style = \"font-weight: bold; text-align: right;\">1</td><td style = \"text-align: right;\">5</td><td style = \"text-align: left;\">Divorced</td><td style = \"text-align: left;\">F</td><td style = \"text-align: right;\">40000</td><td style = \"text-align: right;\">203</td></tr><tr><td class = \"rowNumber\" style = \"font-weight: bold; text-align: right;\">2</td><td style = \"text-align: right;\">10</td><td style = \"text-align: left;\">Divorced</td><td style = \"text-align: left;\">F</td><td style = \"text-align: right;\">40000</td><td style = \"text-align: right;\">200</td></tr><tr><td class = \"rowNumber\" style = \"font-weight: bold; text-align: right;\">3</td><td style = \"text-align: right;\">15</td><td style = \"text-align: left;\">Divorced</td><td style = \"text-align: left;\">F</td><td style = \"text-align: right;\">40000</td><td style = \"text-align: right;\">200</td></tr><tr><td class = \"rowNumber\" style = \"font-weight: bold; text-align: right;\">4</td><td style = \"text-align: right;\">20</td><td style = \"text-align: left;\">Divorced</td><td style = \"text-align: left;\">F</td><td style = \"text-align: right;\">40000</td><td style = \"text-align: right;\">300</td></tr><tr><td class = \"rowNumber\" style = \"font-weight: bold; text-align: right;\">5</td><td style = \"text-align: right;\">25</td><td style = \"text-align: left;\">Divorced</td><td style = \"text-align: left;\">F</td><td style = \"text-align: right;\">40000</td><td style = \"text-align: right;\">302</td></tr><tr><td class = \"rowNumber\" style = \"font-weight: bold; text-align: right;\">6</td><td style = \"text-align: right;\">30</td><td style = \"text-align: left;\">Divorced</td><td style = \"text-align: left;\">F</td><td style = \"text-align: right;\">40000</td><td style = \"text-align: right;\">164</td></tr><tr><td class = \"rowNumber\" style = \"font-weight: bold; text-align: right;\">7</td><td style = \"text-align: right;\">35</td><td style = \"text-align: left;\">Divorced</td><td style = \"text-align: left;\">F</td><td style = \"text-align: right;\">40000</td><td style = \"text-align: right;\">162</td></tr><tr><td class = \"rowNumber\" style = \"font-weight: bold; text-align: right;\">8</td><td style = \"text-align: right;\">40</td><td style = \"text-align: left;\">Divorced</td><td style = \"text-align: left;\">F</td><td style = \"text-align: right;\">40000</td><td style = \"text-align: right;\">159</td></tr><tr><td class = \"rowNumber\" style = \"font-weight: bold; text-align: right;\">9</td><td style = \"text-align: right;\">45</td><td style = \"text-align: left;\">Divorced</td><td style = \"text-align: left;\">F</td><td style = \"text-align: right;\">40000</td><td style = \"text-align: right;\">166</td></tr><tr><td class = \"rowNumber\" style = \"font-weight: bold; text-align: right;\">10</td><td style = \"text-align: right;\">50</td><td style = \"text-align: left;\">Divorced</td><td style = \"text-align: left;\">F</td><td style = \"text-align: right;\">40000</td><td style = \"text-align: right;\">165</td></tr><tr><td class = \"rowNumber\" style = \"font-weight: bold; text-align: right;\">11</td><td style = \"text-align: right;\">55</td><td style = \"text-align: left;\">Divorced</td><td style = \"text-align: left;\">F</td><td style = \"text-align: right;\">40000</td><td style = \"text-align: right;\">163</td></tr><tr><td class = \"rowNumber\" style = \"font-weight: bold; text-align: right;\">12</td><td style = \"text-align: right;\">60</td><td style = \"text-align: left;\">Divorced</td><td style = \"text-align: left;\">F</td><td style = \"text-align: right;\">40000</td><td style = \"text-align: right;\">163</td></tr><tr><td class = \"rowNumber\" style = \"font-weight: bold; text-align: right;\">13</td><td style = \"text-align: right;\">65</td><td style = \"text-align: left;\">Divorced</td><td style = \"text-align: left;\">F</td><td style = \"text-align: right;\">40000</td><td style = \"text-align: right;\">164</td></tr><tr><td style = \"text-align: right;\">&vellip;</td><td style = \"text-align: right;\">&vellip;</td><td style = \"text-align: right;\">&vellip;</td><td style = \"text-align: right;\">&vellip;</td><td style = \"text-align: right;\">&vellip;</td><td style = \"text-align: right;\">&vellip;</td></tr><tr><td class = \"rowNumber\" style = \"font-weight: bold; text-align: right;\">629</td><td style = \"text-align: right;\">25</td><td style = \"text-align: left;\">Widowed</td><td style = \"text-align: left;\">M</td><td style = \"text-align: right;\">80000</td><td style = \"text-align: right;\">306</td></tr><tr><td class = \"rowNumber\" style = \"font-weight: bold; text-align: right;\">630</td><td style = \"text-align: right;\">30</td><td style = \"text-align: left;\">Widowed</td><td style = \"text-align: left;\">M</td><td style = \"text-align: right;\">80000</td><td style = \"text-align: right;\">164</td></tr><tr><td class = \"rowNumber\" style = \"font-weight: bold; text-align: right;\">631</td><td style = \"text-align: right;\">35</td><td style = \"text-align: left;\">Widowed</td><td style = \"text-align: left;\">M</td><td style = \"text-align: right;\">80000</td><td style = \"text-align: right;\">167</td></tr><tr><td class = \"rowNumber\" style = \"font-weight: bold; text-align: right;\">632</td><td style = \"text-align: right;\">40</td><td style = \"text-align: left;\">Widowed</td><td style = \"text-align: left;\">M</td><td style = \"text-align: right;\">80000</td><td style = \"text-align: right;\">163</td></tr><tr><td class = \"rowNumber\" style = \"font-weight: bold; text-align: right;\">633</td><td style = \"text-align: right;\">45</td><td style = \"text-align: left;\">Widowed</td><td style = \"text-align: left;\">M</td><td style = \"text-align: right;\">80000</td><td style = \"text-align: right;\">164</td></tr><tr><td class = \"rowNumber\" style = \"font-weight: bold; text-align: right;\">634</td><td style = \"text-align: right;\">50</td><td style = \"text-align: left;\">Widowed</td><td style = \"text-align: left;\">M</td><td style = \"text-align: right;\">80000</td><td style = \"text-align: right;\">161</td></tr><tr><td class = \"rowNumber\" style = \"font-weight: bold; text-align: right;\">635</td><td style = \"text-align: right;\">55</td><td style = \"text-align: left;\">Widowed</td><td style = \"text-align: left;\">M</td><td style = \"text-align: right;\">80000</td><td style = \"text-align: right;\">166</td></tr><tr><td class = \"rowNumber\" style = \"font-weight: bold; text-align: right;\">636</td><td style = \"text-align: right;\">60</td><td style = \"text-align: left;\">Widowed</td><td style = \"text-align: left;\">M</td><td style = \"text-align: right;\">80000</td><td style = \"text-align: right;\">167</td></tr><tr><td class = \"rowNumber\" style = \"font-weight: bold; text-align: right;\">637</td><td style = \"text-align: right;\">65</td><td style = \"text-align: left;\">Widowed</td><td style = \"text-align: left;\">M</td><td style = \"text-align: right;\">80000</td><td style = \"text-align: right;\">167</td></tr><tr><td class = \"rowNumber\" style = \"font-weight: bold; text-align: right;\">638</td><td style = \"text-align: right;\">70</td><td style = \"text-align: left;\">Widowed</td><td style = \"text-align: left;\">M</td><td style = \"text-align: right;\">80000</td><td style = \"text-align: right;\">164</td></tr><tr><td class = \"rowNumber\" style = \"font-weight: bold; text-align: right;\">639</td><td style = \"text-align: right;\">75</td><td style = \"text-align: left;\">Widowed</td><td style = \"text-align: left;\">M</td><td style = \"text-align: right;\">80000</td><td style = \"text-align: right;\">166</td></tr><tr><td class = \"rowNumber\" style = \"font-weight: bold; text-align: right;\">640</td><td style = \"text-align: right;\">80</td><td style = \"text-align: left;\">Widowed</td><td style = \"text-align: left;\">M</td><td style = \"text-align: right;\">80000</td><td style = \"text-align: right;\">166</td></tr></tbody></table></div>"
      ],
      "text/latex": [
       "\\begin{tabular}{r|ccccc}\n",
       "\t& AGE & MARITAL\\_STATUS & SEX & INCOME & population\\\\\n",
       "\t\\hline\n",
       "\t& Int64 & String & Char & Int64 & Int64\\\\\n",
       "\t\\hline\n",
       "\t1 & 5 & Divorced & F & 40000 & 203 \\\\\n",
       "\t2 & 10 & Divorced & F & 40000 & 200 \\\\\n",
       "\t3 & 15 & Divorced & F & 40000 & 200 \\\\\n",
       "\t4 & 20 & Divorced & F & 40000 & 300 \\\\\n",
       "\t5 & 25 & Divorced & F & 40000 & 302 \\\\\n",
       "\t6 & 30 & Divorced & F & 40000 & 164 \\\\\n",
       "\t7 & 35 & Divorced & F & 40000 & 162 \\\\\n",
       "\t8 & 40 & Divorced & F & 40000 & 159 \\\\\n",
       "\t9 & 45 & Divorced & F & 40000 & 166 \\\\\n",
       "\t10 & 50 & Divorced & F & 40000 & 165 \\\\\n",
       "\t11 & 55 & Divorced & F & 40000 & 163 \\\\\n",
       "\t12 & 60 & Divorced & F & 40000 & 163 \\\\\n",
       "\t13 & 65 & Divorced & F & 40000 & 164 \\\\\n",
       "\t14 & 70 & Divorced & F & 40000 & 166 \\\\\n",
       "\t15 & 75 & Divorced & F & 40000 & 166 \\\\\n",
       "\t16 & 80 & Divorced & F & 40000 & 164 \\\\\n",
       "\t17 & 5 & Married & F & 40000 & 1017 \\\\\n",
       "\t18 & 10 & Married & F & 40000 & 1004 \\\\\n",
       "\t19 & 15 & Married & F & 40000 & 1005 \\\\\n",
       "\t20 & 20 & Married & F & 40000 & 1505 \\\\\n",
       "\t21 & 25 & Married & F & 40000 & 1515 \\\\\n",
       "\t22 & 30 & Married & F & 40000 & 822 \\\\\n",
       "\t23 & 35 & Married & F & 40000 & 811 \\\\\n",
       "\t24 & 40 & Married & F & 40000 & 799 \\\\\n",
       "\t$\\dots$ & $\\dots$ & $\\dots$ & $\\dots$ & $\\dots$ & $\\dots$ \\\\\n",
       "\\end{tabular}\n"
      ],
      "text/plain": [
       "\u001b[1m640×5 DataFrame\u001b[0m\n",
       "\u001b[1m Row \u001b[0m│\u001b[1m AGE   \u001b[0m\u001b[1m MARITAL_STATUS \u001b[0m\u001b[1m SEX  \u001b[0m\u001b[1m INCOME \u001b[0m\u001b[1m population \u001b[0m\n",
       "     │\u001b[90m Int64 \u001b[0m\u001b[90m String         \u001b[0m\u001b[90m Char \u001b[0m\u001b[90m Int64  \u001b[0m\u001b[90m Int64      \u001b[0m\n",
       "─────┼─────────────────────────────────────────────────\n",
       "   1 │     5  Divorced        F      40000         203\n",
       "   2 │    10  Divorced        F      40000         200\n",
       "   3 │    15  Divorced        F      40000         200\n",
       "   4 │    20  Divorced        F      40000         300\n",
       "   5 │    25  Divorced        F      40000         302\n",
       "   6 │    30  Divorced        F      40000         164\n",
       "   7 │    35  Divorced        F      40000         162\n",
       "   8 │    40  Divorced        F      40000         159\n",
       "  ⋮  │   ⋮          ⋮          ⋮      ⋮         ⋮\n",
       " 634 │    50  Widowed         M      80000         161\n",
       " 635 │    55  Widowed         M      80000         166\n",
       " 636 │    60  Widowed         M      80000         167\n",
       " 637 │    65  Widowed         M      80000         167\n",
       " 638 │    70  Widowed         M      80000         164\n",
       " 639 │    75  Widowed         M      80000         166\n",
       " 640 │    80  Widowed         M      80000         166\n",
       "\u001b[36m                                       625 rows omitted\u001b[0m"
      ]
     },
     "metadata": {},
     "output_type": "display_data"
    }
   ],
   "source": [
    "guo_bhat = SyntheticPopulation.generate_joint_distribution(independent_age_sex, independent_sex_marital, independent_income)\n",
    "guo_bhat = guo_bhat[:, Not(:id)]"
   ]
  },
  {
   "attachments": {},
   "cell_type": "markdown",
   "metadata": {},
   "source": [
    "#### Ponge, Enbergs, Schungel, Hellingrath, Karch, Ludwig, 2021"
   ]
  },
  {
   "cell_type": "code",
   "execution_count": 49,
   "metadata": {},
   "outputs": [
    {
     "name": "stderr",
     "output_type": "stream",
     "text": [
      "┌ Info: Inconsistent target margins, converting `X` and `mar` to proportions. Margin totals: [149670, 119652]\n",
      "└ @ ProportionalFitting /Users/marcinzurek/.julia/packages/ProportionalFitting/gNJEu/src/ipf.jl:61\n",
      "┌ Warning: Did not converge. Try increasing the number of iterations. Maximum absolute difference between subsequent iterations: NaN\n",
      "└ @ ProportionalFitting /Users/marcinzurek/.julia/packages/ProportionalFitting/gNJEu/src/ipf.jl:128\n",
      "┌ Info: Inconsistent target margins, converting `X` and `mar` to proportions. Margin totals: [149670, 119652]\n",
      "└ @ ProportionalFitting /Users/marcinzurek/.julia/packages/ProportionalFitting/gNJEu/src/ipf.jl:61\n",
      "┌ Info: Converged in 1 iterations.\n",
      "└ @ ProportionalFitting /Users/marcinzurek/.julia/packages/ProportionalFitting/gNJEu/src/ipf.jl:130\n",
      "┌ Info: Inconsistent target margins, converting `X` and `mar` to proportions. Margin totals: [150330, 120348]\n",
      "└ @ ProportionalFitting /Users/marcinzurek/.julia/packages/ProportionalFitting/gNJEu/src/ipf.jl:61\n",
      "┌ Warning: Did not converge. Try increasing the number of iterations. Maximum absolute difference between subsequent iterations: NaN\n",
      "└ @ ProportionalFitting /Users/marcinzurek/.julia/packages/ProportionalFitting/gNJEu/src/ipf.jl:128\n",
      "┌ Info: Inconsistent target margins, converting `X` and `mar` to proportions. Margin totals: [150330, 120348]\n",
      "└ @ ProportionalFitting /Users/marcinzurek/.julia/packages/ProportionalFitting/gNJEu/src/ipf.jl:61\n",
      "┌ Info: Converged in 1 iterations.\n",
      "└ @ ProportionalFitting /Users/marcinzurek/.julia/packages/ProportionalFitting/gNJEu/src/ipf.jl:130\n"
     ]
    },
    {
     "name": "stderr",
     "output_type": "stream",
     "text": [
      "┌ Info: Inconsistent target margins, converting `X` and `mar` to proportions. Margin totals: [300001, 240000]\n",
      "└ @ ProportionalFitting /Users/marcinzurek/.julia/packages/ProportionalFitting/gNJEu/src/ipf.jl:61\n",
      "┌ Info: Converged in 27 iterations.\n",
      "└ @ ProportionalFitting /Users/marcinzurek/.julia/packages/ProportionalFitting/gNJEu/src/ipf.jl:130\n"
     ]
    },
    {
     "data": {
      "text/html": [
       "<div><div style = \"float: left;\"><span>640×5 DataFrame</span></div><div style = \"float: right;\"><span style = \"font-style: italic;\">615 rows omitted</span></div><div style = \"clear: both;\"></div></div><div class = \"data-frame\" style = \"overflow-x: scroll;\"><table class = \"data-frame\" style = \"margin-bottom: 6px;\"><thead><tr class = \"header\"><th class = \"rowNumber\" style = \"font-weight: bold; text-align: right;\">Row</th><th style = \"text-align: left;\">AGE</th><th style = \"text-align: left;\">MARITAL_STATUS</th><th style = \"text-align: left;\">SEX</th><th style = \"text-align: left;\">INCOME</th><th style = \"text-align: left;\">population</th></tr><tr class = \"subheader headerLastRow\"><th class = \"rowNumber\" style = \"font-weight: bold; text-align: right;\"></th><th title = \"Int64\" style = \"text-align: left;\">Int64</th><th title = \"String\" style = \"text-align: left;\">String</th><th title = \"Char\" style = \"text-align: left;\">Char</th><th title = \"Int64\" style = \"text-align: left;\">Int64</th><th title = \"Int64\" style = \"text-align: left;\">Int64</th></tr></thead><tbody><tr><td class = \"rowNumber\" style = \"font-weight: bold; text-align: right;\">1</td><td style = \"text-align: right;\">5</td><td style = \"text-align: left;\">Divorced</td><td style = \"text-align: left;\">F</td><td style = \"text-align: right;\">40000</td><td style = \"text-align: right;\">126</td></tr><tr><td class = \"rowNumber\" style = \"font-weight: bold; text-align: right;\">2</td><td style = \"text-align: right;\">10</td><td style = \"text-align: left;\">Divorced</td><td style = \"text-align: left;\">F</td><td style = \"text-align: right;\">40000</td><td style = \"text-align: right;\">125</td></tr><tr><td class = \"rowNumber\" style = \"font-weight: bold; text-align: right;\">3</td><td style = \"text-align: right;\">15</td><td style = \"text-align: left;\">Divorced</td><td style = \"text-align: left;\">F</td><td style = \"text-align: right;\">40000</td><td style = \"text-align: right;\">125</td></tr><tr><td class = \"rowNumber\" style = \"font-weight: bold; text-align: right;\">4</td><td style = \"text-align: right;\">20</td><td style = \"text-align: left;\">Divorced</td><td style = \"text-align: left;\">F</td><td style = \"text-align: right;\">40000</td><td style = \"text-align: right;\">751</td></tr><tr><td class = \"rowNumber\" style = \"font-weight: bold; text-align: right;\">5</td><td style = \"text-align: right;\">25</td><td style = \"text-align: left;\">Divorced</td><td style = \"text-align: left;\">F</td><td style = \"text-align: right;\">40000</td><td style = \"text-align: right;\">756</td></tr><tr><td class = \"rowNumber\" style = \"font-weight: bold; text-align: right;\">6</td><td style = \"text-align: right;\">30</td><td style = \"text-align: left;\">Divorced</td><td style = \"text-align: left;\">F</td><td style = \"text-align: right;\">40000</td><td style = \"text-align: right;\">102</td></tr><tr><td class = \"rowNumber\" style = \"font-weight: bold; text-align: right;\">7</td><td style = \"text-align: right;\">35</td><td style = \"text-align: left;\">Divorced</td><td style = \"text-align: left;\">F</td><td style = \"text-align: right;\">40000</td><td style = \"text-align: right;\">101</td></tr><tr><td class = \"rowNumber\" style = \"font-weight: bold; text-align: right;\">8</td><td style = \"text-align: right;\">40</td><td style = \"text-align: left;\">Divorced</td><td style = \"text-align: left;\">F</td><td style = \"text-align: right;\">40000</td><td style = \"text-align: right;\">99</td></tr><tr><td class = \"rowNumber\" style = \"font-weight: bold; text-align: right;\">9</td><td style = \"text-align: right;\">45</td><td style = \"text-align: left;\">Divorced</td><td style = \"text-align: left;\">F</td><td style = \"text-align: right;\">40000</td><td style = \"text-align: right;\">103</td></tr><tr><td class = \"rowNumber\" style = \"font-weight: bold; text-align: right;\">10</td><td style = \"text-align: right;\">50</td><td style = \"text-align: left;\">Divorced</td><td style = \"text-align: left;\">F</td><td style = \"text-align: right;\">40000</td><td style = \"text-align: right;\">103</td></tr><tr><td class = \"rowNumber\" style = \"font-weight: bold; text-align: right;\">11</td><td style = \"text-align: right;\">55</td><td style = \"text-align: left;\">Divorced</td><td style = \"text-align: left;\">F</td><td style = \"text-align: right;\">40000</td><td style = \"text-align: right;\">102</td></tr><tr><td class = \"rowNumber\" style = \"font-weight: bold; text-align: right;\">12</td><td style = \"text-align: right;\">60</td><td style = \"text-align: left;\">Divorced</td><td style = \"text-align: left;\">F</td><td style = \"text-align: right;\">40000</td><td style = \"text-align: right;\">102</td></tr><tr><td class = \"rowNumber\" style = \"font-weight: bold; text-align: right;\">13</td><td style = \"text-align: right;\">65</td><td style = \"text-align: left;\">Divorced</td><td style = \"text-align: left;\">F</td><td style = \"text-align: right;\">40000</td><td style = \"text-align: right;\">102</td></tr><tr><td style = \"text-align: right;\">&vellip;</td><td style = \"text-align: right;\">&vellip;</td><td style = \"text-align: right;\">&vellip;</td><td style = \"text-align: right;\">&vellip;</td><td style = \"text-align: right;\">&vellip;</td><td style = \"text-align: right;\">&vellip;</td></tr><tr><td class = \"rowNumber\" style = \"font-weight: bold; text-align: right;\">629</td><td style = \"text-align: right;\">25</td><td style = \"text-align: left;\">Widowed</td><td style = \"text-align: left;\">M</td><td style = \"text-align: right;\">80000</td><td style = \"text-align: right;\">0</td></tr><tr><td class = \"rowNumber\" style = \"font-weight: bold; text-align: right;\">630</td><td style = \"text-align: right;\">30</td><td style = \"text-align: left;\">Widowed</td><td style = \"text-align: left;\">M</td><td style = \"text-align: right;\">80000</td><td style = \"text-align: right;\">205</td></tr><tr><td class = \"rowNumber\" style = \"font-weight: bold; text-align: right;\">631</td><td style = \"text-align: right;\">35</td><td style = \"text-align: left;\">Widowed</td><td style = \"text-align: left;\">M</td><td style = \"text-align: right;\">80000</td><td style = \"text-align: right;\">209</td></tr><tr><td class = \"rowNumber\" style = \"font-weight: bold; text-align: right;\">632</td><td style = \"text-align: right;\">40</td><td style = \"text-align: left;\">Widowed</td><td style = \"text-align: left;\">M</td><td style = \"text-align: right;\">80000</td><td style = \"text-align: right;\">204</td></tr><tr><td class = \"rowNumber\" style = \"font-weight: bold; text-align: right;\">633</td><td style = \"text-align: right;\">45</td><td style = \"text-align: left;\">Widowed</td><td style = \"text-align: left;\">M</td><td style = \"text-align: right;\">80000</td><td style = \"text-align: right;\">205</td></tr><tr><td class = \"rowNumber\" style = \"font-weight: bold; text-align: right;\">634</td><td style = \"text-align: right;\">50</td><td style = \"text-align: left;\">Widowed</td><td style = \"text-align: left;\">M</td><td style = \"text-align: right;\">80000</td><td style = \"text-align: right;\">202</td></tr><tr><td class = \"rowNumber\" style = \"font-weight: bold; text-align: right;\">635</td><td style = \"text-align: right;\">55</td><td style = \"text-align: left;\">Widowed</td><td style = \"text-align: left;\">M</td><td style = \"text-align: right;\">80000</td><td style = \"text-align: right;\">208</td></tr><tr><td class = \"rowNumber\" style = \"font-weight: bold; text-align: right;\">636</td><td style = \"text-align: right;\">60</td><td style = \"text-align: left;\">Widowed</td><td style = \"text-align: left;\">M</td><td style = \"text-align: right;\">80000</td><td style = \"text-align: right;\">208</td></tr><tr><td class = \"rowNumber\" style = \"font-weight: bold; text-align: right;\">637</td><td style = \"text-align: right;\">65</td><td style = \"text-align: left;\">Widowed</td><td style = \"text-align: left;\">M</td><td style = \"text-align: right;\">80000</td><td style = \"text-align: right;\">208</td></tr><tr><td class = \"rowNumber\" style = \"font-weight: bold; text-align: right;\">638</td><td style = \"text-align: right;\">70</td><td style = \"text-align: left;\">Widowed</td><td style = \"text-align: left;\">M</td><td style = \"text-align: right;\">80000</td><td style = \"text-align: right;\">205</td></tr><tr><td class = \"rowNumber\" style = \"font-weight: bold; text-align: right;\">639</td><td style = \"text-align: right;\">75</td><td style = \"text-align: left;\">Widowed</td><td style = \"text-align: left;\">M</td><td style = \"text-align: right;\">80000</td><td style = \"text-align: right;\">208</td></tr><tr><td class = \"rowNumber\" style = \"font-weight: bold; text-align: right;\">640</td><td style = \"text-align: right;\">80</td><td style = \"text-align: left;\">Widowed</td><td style = \"text-align: left;\">M</td><td style = \"text-align: right;\">80000</td><td style = \"text-align: right;\">208</td></tr></tbody></table></div>"
      ],
      "text/latex": [
       "\\begin{tabular}{r|ccccc}\n",
       "\t& AGE & MARITAL\\_STATUS & SEX & INCOME & population\\\\\n",
       "\t\\hline\n",
       "\t& Int64 & String & Char & Int64 & Int64\\\\\n",
       "\t\\hline\n",
       "\t1 & 5 & Divorced & F & 40000 & 126 \\\\\n",
       "\t2 & 10 & Divorced & F & 40000 & 125 \\\\\n",
       "\t3 & 15 & Divorced & F & 40000 & 125 \\\\\n",
       "\t4 & 20 & Divorced & F & 40000 & 751 \\\\\n",
       "\t5 & 25 & Divorced & F & 40000 & 756 \\\\\n",
       "\t6 & 30 & Divorced & F & 40000 & 102 \\\\\n",
       "\t7 & 35 & Divorced & F & 40000 & 101 \\\\\n",
       "\t8 & 40 & Divorced & F & 40000 & 99 \\\\\n",
       "\t9 & 45 & Divorced & F & 40000 & 103 \\\\\n",
       "\t10 & 50 & Divorced & F & 40000 & 103 \\\\\n",
       "\t11 & 55 & Divorced & F & 40000 & 102 \\\\\n",
       "\t12 & 60 & Divorced & F & 40000 & 102 \\\\\n",
       "\t13 & 65 & Divorced & F & 40000 & 102 \\\\\n",
       "\t14 & 70 & Divorced & F & 40000 & 103 \\\\\n",
       "\t15 & 75 & Divorced & F & 40000 & 104 \\\\\n",
       "\t16 & 80 & Divorced & F & 40000 & 102 \\\\\n",
       "\t17 & 5 & Married & F & 40000 & 634 \\\\\n",
       "\t18 & 10 & Married & F & 40000 & 626 \\\\\n",
       "\t19 & 15 & Married & F & 40000 & 626 \\\\\n",
       "\t20 & 20 & Married & F & 40000 & 3773 \\\\\n",
       "\t21 & 25 & Married & F & 40000 & 3798 \\\\\n",
       "\t22 & 30 & Married & F & 40000 & 513 \\\\\n",
       "\t23 & 35 & Married & F & 40000 & 506 \\\\\n",
       "\t24 & 40 & Married & F & 40000 & 498 \\\\\n",
       "\t$\\dots$ & $\\dots$ & $\\dots$ & $\\dots$ & $\\dots$ & $\\dots$ \\\\\n",
       "\\end{tabular}\n"
      ],
      "text/plain": [
       "\u001b[1m640×5 DataFrame\u001b[0m\n",
       "\u001b[1m Row \u001b[0m│\u001b[1m AGE   \u001b[0m\u001b[1m MARITAL_STATUS \u001b[0m\u001b[1m SEX  \u001b[0m\u001b[1m INCOME \u001b[0m\u001b[1m population \u001b[0m\n",
       "     │\u001b[90m Int64 \u001b[0m\u001b[90m String         \u001b[0m\u001b[90m Char \u001b[0m\u001b[90m Int64  \u001b[0m\u001b[90m Int64      \u001b[0m\n",
       "─────┼─────────────────────────────────────────────────\n",
       "   1 │     5  Divorced        F      40000         126\n",
       "   2 │    10  Divorced        F      40000         125\n",
       "   3 │    15  Divorced        F      40000         125\n",
       "   4 │    20  Divorced        F      40000         751\n",
       "   5 │    25  Divorced        F      40000         756\n",
       "   6 │    30  Divorced        F      40000         102\n",
       "   7 │    35  Divorced        F      40000         101\n",
       "   8 │    40  Divorced        F      40000          99\n",
       "  ⋮  │   ⋮          ⋮          ⋮      ⋮         ⋮\n",
       " 634 │    50  Widowed         M      80000         202\n",
       " 635 │    55  Widowed         M      80000         208\n",
       " 636 │    60  Widowed         M      80000         208\n",
       " 637 │    65  Widowed         M      80000         208\n",
       " 638 │    70  Widowed         M      80000         205\n",
       " 639 │    75  Widowed         M      80000         208\n",
       " 640 │    80  Widowed         M      80000         208\n",
       "\u001b[36m                                       625 rows omitted\u001b[0m"
      ]
     },
     "metadata": {},
     "output_type": "display_data"
    }
   ],
   "source": [
    "ponge_et_al = SyntheticPopulation.generate_joint_distribution(independent_age_sex, independent_sex_marital, independent_income, config_file = \"ind_ponge2021.json\")\n",
    "ponge_et_al = ponge_et_al[:, Not(:id)]"
   ]
  },
  {
   "attachments": {},
   "cell_type": "markdown",
   "metadata": {},
   "source": [
    "#### Modified algorithm"
   ]
  },
  {
   "cell_type": "code",
   "execution_count": 50,
   "metadata": {
    "scrolled": true
   },
   "outputs": [
    {
     "name": "stderr",
     "output_type": "stream",
     "text": [
      "┌ Info: Converged in 46 iterations.\n",
      "└ @ ProportionalFitting /Users/marcinzurek/.julia/packages/ProportionalFitting/gNJEu/src/ipf.jl:130\n",
      "┌ Info: Inconsistent target margins, converting `X` and `mar` to proportions. Margin totals: [240000, 60000]\n",
      "└ @ ProportionalFitting /Users/marcinzurek/.julia/packages/ProportionalFitting/gNJEu/src/ipf.jl:61\n",
      "┌ Info: Converged in 1 iterations.\n",
      "└ @ ProportionalFitting /Users/marcinzurek/.julia/packages/ProportionalFitting/gNJEu/src/ipf.jl:130\n",
      "┌ Warning: Did not converge. Try increasing the number of iterations. Maximum absolute difference between subsequent iterations: NaN\n",
      "└ @ ProportionalFitting /Users/marcinzurek/.julia/packages/ProportionalFitting/gNJEu/src/ipf.jl:128\n"
     ]
    },
    {
     "name": "stderr",
     "output_type": "stream",
     "text": [
      "┌ Info: Converged in 2 iterations.\n",
      "└ @ ProportionalFitting /Users/marcinzurek/.julia/packages/ProportionalFitting/gNJEu/src/ipf.jl:130\n",
      "┌ Info: Inconsistent target margins, converting `X` and `mar` to proportions. Margin totals: [120349, 120348]\n",
      "└ @ ProportionalFitting /Users/marcinzurek/.julia/packages/ProportionalFitting/gNJEu/src/ipf.jl:61\n",
      "┌ Warning: Did not converge. Try increasing the number of iterations. Maximum absolute difference between subsequent iterations: NaN\n",
      "└ @ ProportionalFitting /Users/marcinzurek/.julia/packages/ProportionalFitting/gNJEu/src/ipf.jl:128\n",
      "┌ Info: Inconsistent target margins, converting `X` and `mar` to proportions. Margin totals: [120349, 120348]\n",
      "└ @ ProportionalFitting /Users/marcinzurek/.julia/packages/ProportionalFitting/gNJEu/src/ipf.jl:61\n",
      "┌ Info: Converged in 1 iterations.\n",
      "└ @ ProportionalFitting /Users/marcinzurek/.julia/packages/ProportionalFitting/gNJEu/src/ipf.jl:130\n",
      "┌ Info: Inconsistent target margins, converting `X` and `mar` to proportions. Margin totals: [30019, 119652]\n",
      "└ @ ProportionalFitting /Users/marcinzurek/.julia/packages/ProportionalFitting/gNJEu/src/ipf.jl:61\n",
      "┌ Info: Converged in 1 iterations.\n",
      "└ @ ProportionalFitting /Users/marcinzurek/.julia/packages/ProportionalFitting/gNJEu/src/ipf.jl:130\n",
      "┌ Info: Inconsistent target margins, converting `X` and `mar` to proportions. Margin totals: [29982, 120348]\n",
      "└ @ ProportionalFitting /Users/marcinzurek/.julia/packages/ProportionalFitting/gNJEu/src/ipf.jl:61\n",
      "┌ Info: Converged in 1 iterations.\n",
      "└ @ ProportionalFitting /Users/marcinzurek/.julia/packages/ProportionalFitting/gNJEu/src/ipf.jl:130\n"
     ]
    },
    {
     "data": {
      "text/html": [
       "<div><div style = \"float: left;\"><span>526×5 DataFrame</span></div><div style = \"float: right;\"><span style = \"font-style: italic;\">501 rows omitted</span></div><div style = \"clear: both;\"></div></div><div class = \"data-frame\" style = \"overflow-x: scroll;\"><table class = \"data-frame\" style = \"margin-bottom: 6px;\"><thead><tr class = \"header\"><th class = \"rowNumber\" style = \"font-weight: bold; text-align: right;\">Row</th><th style = \"text-align: left;\">INCOME</th><th style = \"text-align: left;\">AGE</th><th style = \"text-align: left;\">MARITAL_STATUS</th><th style = \"text-align: left;\">SEX</th><th style = \"text-align: left;\">population</th></tr><tr class = \"subheader headerLastRow\"><th class = \"rowNumber\" style = \"font-weight: bold; text-align: right;\"></th><th title = \"Union{Missing, Int64}\" style = \"text-align: left;\">Int64?</th><th title = \"Union{Missing, Int64}\" style = \"text-align: left;\">Int64?</th><th title = \"Union{Missing, String}\" style = \"text-align: left;\">String?</th><th title = \"Union{Missing, Char}\" style = \"text-align: left;\">Char?</th><th title = \"Int64\" style = \"text-align: left;\">Int64</th></tr></thead><tbody><tr><td class = \"rowNumber\" style = \"font-weight: bold; text-align: right;\">1</td><td style = \"font-style: italic; text-align: right;\">missing</td><td style = \"text-align: right;\">5</td><td style = \"font-style: italic; text-align: left;\">missing</td><td style = \"text-align: left;\">F</td><td style = \"text-align: right;\">10088</td></tr><tr><td class = \"rowNumber\" style = \"font-weight: bold; text-align: right;\">2</td><td style = \"font-style: italic; text-align: right;\">missing</td><td style = \"text-align: right;\">10</td><td style = \"font-style: italic; text-align: left;\">missing</td><td style = \"text-align: left;\">F</td><td style = \"text-align: right;\">9963</td></tr><tr><td class = \"rowNumber\" style = \"font-weight: bold; text-align: right;\">3</td><td style = \"font-style: italic; text-align: right;\">missing</td><td style = \"text-align: right;\">15</td><td style = \"font-style: italic; text-align: left;\">missing</td><td style = \"text-align: left;\">F</td><td style = \"text-align: right;\">9965</td></tr><tr><td class = \"rowNumber\" style = \"font-weight: bold; text-align: right;\">4</td><td style = \"text-align: right;\">40000</td><td style = \"text-align: right;\">20</td><td style = \"text-align: left;\">Divorced</td><td style = \"text-align: left;\">F</td><td style = \"text-align: right;\">751</td></tr><tr><td class = \"rowNumber\" style = \"font-weight: bold; text-align: right;\">5</td><td style = \"text-align: right;\">50000</td><td style = \"text-align: right;\">20</td><td style = \"text-align: left;\">Divorced</td><td style = \"text-align: left;\">F</td><td style = \"text-align: right;\">741</td></tr><tr><td class = \"rowNumber\" style = \"font-weight: bold; text-align: right;\">6</td><td style = \"text-align: right;\">60000</td><td style = \"text-align: right;\">20</td><td style = \"text-align: left;\">Divorced</td><td style = \"text-align: left;\">F</td><td style = \"text-align: right;\">0</td></tr><tr><td class = \"rowNumber\" style = \"font-weight: bold; text-align: right;\">7</td><td style = \"text-align: right;\">70000</td><td style = \"text-align: right;\">20</td><td style = \"text-align: left;\">Divorced</td><td style = \"text-align: left;\">F</td><td style = \"text-align: right;\">0</td></tr><tr><td class = \"rowNumber\" style = \"font-weight: bold; text-align: right;\">8</td><td style = \"text-align: right;\">80000</td><td style = \"text-align: right;\">20</td><td style = \"text-align: left;\">Divorced</td><td style = \"text-align: left;\">F</td><td style = \"text-align: right;\">0</td></tr><tr><td class = \"rowNumber\" style = \"font-weight: bold; text-align: right;\">9</td><td style = \"text-align: right;\">40000</td><td style = \"text-align: right;\">25</td><td style = \"text-align: left;\">Divorced</td><td style = \"text-align: left;\">F</td><td style = \"text-align: right;\">756</td></tr><tr><td class = \"rowNumber\" style = \"font-weight: bold; text-align: right;\">10</td><td style = \"text-align: right;\">50000</td><td style = \"text-align: right;\">25</td><td style = \"text-align: left;\">Divorced</td><td style = \"text-align: left;\">F</td><td style = \"text-align: right;\">745</td></tr><tr><td class = \"rowNumber\" style = \"font-weight: bold; text-align: right;\">11</td><td style = \"text-align: right;\">60000</td><td style = \"text-align: right;\">25</td><td style = \"text-align: left;\">Divorced</td><td style = \"text-align: left;\">F</td><td style = \"text-align: right;\">0</td></tr><tr><td class = \"rowNumber\" style = \"font-weight: bold; text-align: right;\">12</td><td style = \"text-align: right;\">70000</td><td style = \"text-align: right;\">25</td><td style = \"text-align: left;\">Divorced</td><td style = \"text-align: left;\">F</td><td style = \"text-align: right;\">0</td></tr><tr><td class = \"rowNumber\" style = \"font-weight: bold; text-align: right;\">13</td><td style = \"text-align: right;\">80000</td><td style = \"text-align: right;\">25</td><td style = \"text-align: left;\">Divorced</td><td style = \"text-align: left;\">F</td><td style = \"text-align: right;\">0</td></tr><tr><td style = \"text-align: right;\">&vellip;</td><td style = \"text-align: right;\">&vellip;</td><td style = \"text-align: right;\">&vellip;</td><td style = \"text-align: right;\">&vellip;</td><td style = \"text-align: right;\">&vellip;</td><td style = \"text-align: right;\">&vellip;</td></tr><tr><td class = \"rowNumber\" style = \"font-weight: bold; text-align: right;\">515</td><td style = \"text-align: right;\">70000</td><td style = \"text-align: right;\">70</td><td style = \"text-align: left;\">Widowed</td><td style = \"text-align: left;\">M</td><td style = \"text-align: right;\">218</td></tr><tr><td class = \"rowNumber\" style = \"font-weight: bold; text-align: right;\">516</td><td style = \"text-align: right;\">80000</td><td style = \"text-align: right;\">70</td><td style = \"text-align: left;\">Widowed</td><td style = \"text-align: left;\">M</td><td style = \"text-align: right;\">218</td></tr><tr><td class = \"rowNumber\" style = \"font-weight: bold; text-align: right;\">517</td><td style = \"text-align: right;\">40000</td><td style = \"text-align: right;\">75</td><td style = \"text-align: left;\">Widowed</td><td style = \"text-align: left;\">M</td><td style = \"text-align: right;\">83</td></tr><tr><td class = \"rowNumber\" style = \"font-weight: bold; text-align: right;\">518</td><td style = \"text-align: right;\">50000</td><td style = \"text-align: right;\">75</td><td style = \"text-align: left;\">Widowed</td><td style = \"text-align: left;\">M</td><td style = \"text-align: right;\">82</td></tr><tr><td class = \"rowNumber\" style = \"font-weight: bold; text-align: right;\">519</td><td style = \"text-align: right;\">60000</td><td style = \"text-align: right;\">75</td><td style = \"text-align: left;\">Widowed</td><td style = \"text-align: left;\">M</td><td style = \"text-align: right;\">222</td></tr><tr><td class = \"rowNumber\" style = \"font-weight: bold; text-align: right;\">520</td><td style = \"text-align: right;\">70000</td><td style = \"text-align: right;\">75</td><td style = \"text-align: left;\">Widowed</td><td style = \"text-align: left;\">M</td><td style = \"text-align: right;\">221</td></tr><tr><td class = \"rowNumber\" style = \"font-weight: bold; text-align: right;\">521</td><td style = \"text-align: right;\">80000</td><td style = \"text-align: right;\">75</td><td style = \"text-align: left;\">Widowed</td><td style = \"text-align: left;\">M</td><td style = \"text-align: right;\">222</td></tr><tr><td class = \"rowNumber\" style = \"font-weight: bold; text-align: right;\">522</td><td style = \"text-align: right;\">40000</td><td style = \"text-align: right;\">80</td><td style = \"text-align: left;\">Widowed</td><td style = \"text-align: left;\">M</td><td style = \"text-align: right;\">83</td></tr><tr><td class = \"rowNumber\" style = \"font-weight: bold; text-align: right;\">523</td><td style = \"text-align: right;\">50000</td><td style = \"text-align: right;\">80</td><td style = \"text-align: left;\">Widowed</td><td style = \"text-align: left;\">M</td><td style = \"text-align: right;\">82</td></tr><tr><td class = \"rowNumber\" style = \"font-weight: bold; text-align: right;\">524</td><td style = \"text-align: right;\">60000</td><td style = \"text-align: right;\">80</td><td style = \"text-align: left;\">Widowed</td><td style = \"text-align: left;\">M</td><td style = \"text-align: right;\">222</td></tr><tr><td class = \"rowNumber\" style = \"font-weight: bold; text-align: right;\">525</td><td style = \"text-align: right;\">70000</td><td style = \"text-align: right;\">80</td><td style = \"text-align: left;\">Widowed</td><td style = \"text-align: left;\">M</td><td style = \"text-align: right;\">222</td></tr><tr><td class = \"rowNumber\" style = \"font-weight: bold; text-align: right;\">526</td><td style = \"text-align: right;\">80000</td><td style = \"text-align: right;\">80</td><td style = \"text-align: left;\">Widowed</td><td style = \"text-align: left;\">M</td><td style = \"text-align: right;\">222</td></tr></tbody></table></div>"
      ],
      "text/latex": [
       "\\begin{tabular}{r|ccccc}\n",
       "\t& INCOME & AGE & MARITAL\\_STATUS & SEX & population\\\\\n",
       "\t\\hline\n",
       "\t& Int64? & Int64? & String? & Char? & Int64\\\\\n",
       "\t\\hline\n",
       "\t1 & \\emph{missing} & 5 & \\emph{missing} & F & 10088 \\\\\n",
       "\t2 & \\emph{missing} & 10 & \\emph{missing} & F & 9963 \\\\\n",
       "\t3 & \\emph{missing} & 15 & \\emph{missing} & F & 9965 \\\\\n",
       "\t4 & 40000 & 20 & Divorced & F & 751 \\\\\n",
       "\t5 & 50000 & 20 & Divorced & F & 741 \\\\\n",
       "\t6 & 60000 & 20 & Divorced & F & 0 \\\\\n",
       "\t7 & 70000 & 20 & Divorced & F & 0 \\\\\n",
       "\t8 & 80000 & 20 & Divorced & F & 0 \\\\\n",
       "\t9 & 40000 & 25 & Divorced & F & 756 \\\\\n",
       "\t10 & 50000 & 25 & Divorced & F & 745 \\\\\n",
       "\t11 & 60000 & 25 & Divorced & F & 0 \\\\\n",
       "\t12 & 70000 & 25 & Divorced & F & 0 \\\\\n",
       "\t13 & 80000 & 25 & Divorced & F & 0 \\\\\n",
       "\t14 & 40000 & 30 & Divorced & F & 82 \\\\\n",
       "\t15 & 50000 & 30 & Divorced & F & 80 \\\\\n",
       "\t16 & 60000 & 30 & Divorced & F & 218 \\\\\n",
       "\t17 & 70000 & 30 & Divorced & F & 217 \\\\\n",
       "\t18 & 80000 & 30 & Divorced & F & 218 \\\\\n",
       "\t19 & 40000 & 35 & Divorced & F & 80 \\\\\n",
       "\t20 & 50000 & 35 & Divorced & F & 79 \\\\\n",
       "\t21 & 60000 & 35 & Divorced & F & 215 \\\\\n",
       "\t22 & 70000 & 35 & Divorced & F & 214 \\\\\n",
       "\t23 & 80000 & 35 & Divorced & F & 215 \\\\\n",
       "\t24 & 40000 & 40 & Divorced & F & 79 \\\\\n",
       "\t$\\dots$ & $\\dots$ & $\\dots$ & $\\dots$ & $\\dots$ & $\\dots$ \\\\\n",
       "\\end{tabular}\n"
      ],
      "text/plain": [
       "\u001b[1m526×5 DataFrame\u001b[0m\n",
       "\u001b[1m Row \u001b[0m│\u001b[1m INCOME  \u001b[0m\u001b[1m AGE    \u001b[0m\u001b[1m MARITAL_STATUS \u001b[0m\u001b[1m SEX   \u001b[0m\u001b[1m population \u001b[0m\n",
       "     │\u001b[90m Int64?  \u001b[0m\u001b[90m Int64? \u001b[0m\u001b[90m String?        \u001b[0m\u001b[90m Char? \u001b[0m\u001b[90m Int64      \u001b[0m\n",
       "─────┼────────────────────────────────────────────────────\n",
       "   1 │\u001b[90m missing \u001b[0m      5 \u001b[90m missing        \u001b[0m F           10088\n",
       "   2 │\u001b[90m missing \u001b[0m     10 \u001b[90m missing        \u001b[0m F            9963\n",
       "   3 │\u001b[90m missing \u001b[0m     15 \u001b[90m missing        \u001b[0m F            9965\n",
       "   4 │   40000      20  Divorced        F             751\n",
       "   5 │   50000      20  Divorced        F             741\n",
       "   6 │   60000      20  Divorced        F               0\n",
       "   7 │   70000      20  Divorced        F               0\n",
       "   8 │   80000      20  Divorced        F               0\n",
       "  ⋮  │    ⋮       ⋮           ⋮           ⋮        ⋮\n",
       " 520 │   70000      75  Widowed         M             221\n",
       " 521 │   80000      75  Widowed         M             222\n",
       " 522 │   40000      80  Widowed         M              83\n",
       " 523 │   50000      80  Widowed         M              82\n",
       " 524 │   60000      80  Widowed         M             222\n",
       " 525 │   70000      80  Widowed         M             222\n",
       " 526 │   80000      80  Widowed         M             222\n",
       "\u001b[36m                                          511 rows omitted\u001b[0m"
      ]
     },
     "metadata": {},
     "output_type": "display_data"
    }
   ],
   "source": [
    "modified = SyntheticPopulation.generate_joint_distribution(independent_income, independent_age_sex, independent_sex_marital, config_file = \"ind_modified.json\")\n",
    "modified = modified[:, Not(:id)]"
   ]
  },
  {
   "attachments": {},
   "cell_type": "markdown",
   "metadata": {},
   "source": [
    "### 1.4. External validation of fit of generated independent population.\n",
    "Finally, we evaluate if the generated population is correct. We use approach based on Z-score described by [Williamson, 2013] [1].\n",
    "\n",
    "\n",
    "[1] Williamson, P. (2013). An evaluation of two synthetic small-area microdata simulation methodologies: Synthetic reconstruction and combinatorial optimisation. Spatial microsimulation: A reference guide for users, 19-47. https://ndl.ethernet.edu.et/bitstream/123456789/14722/1/205.pdf#page=38"
   ]
  },
  {
   "attachments": {},
   "cell_type": "markdown",
   "metadata": {},
   "source": [
    "#### Guo, Bhat, 2007"
   ]
  },
  {
   "cell_type": "code",
   "execution_count": 51,
   "metadata": {},
   "outputs": [
    {
     "name": "stdout",
     "output_type": "stream",
     "text": [
      "=================\n",
      "=Cell statistics=\n",
      "=================\n",
      "Percentage of well fitting values at 0.95 confidence interval: 0.0076045627376425855\n",
      "Percentage of well fitting values at 0.90 confidence interval: 0.0038022813688212928\n",
      "\n",
      "==================\n",
      "=Table statistics=\n",
      "==================\n",
      "Statistic value equals: Inf\n",
      "Table is not well fitting.\n",
      "\n"
     ]
    },
    {
     "data": {
      "text/html": [
       "<div><div style = \"float: left;\"><span>526×7 DataFrame</span></div><div style = \"float: right;\"><span style = \"font-style: italic;\">501 rows omitted</span></div><div style = \"clear: both;\"></div></div><div class = \"data-frame\" style = \"overflow-x: scroll;\"><table class = \"data-frame\" style = \"margin-bottom: 6px;\"><thead><tr class = \"header\"><th class = \"rowNumber\" style = \"font-weight: bold; text-align: right;\">Row</th><th style = \"text-align: left;\">AGE</th><th style = \"text-align: left;\">MARITAL_STATUS</th><th style = \"text-align: left;\">SEX</th><th style = \"text-align: left;\">INCOME</th><th style = \"text-align: left;\">population</th><th style = \"text-align: left;\">estimated_population</th><th style = \"text-align: left;\">Z_score</th></tr><tr class = \"subheader headerLastRow\"><th class = \"rowNumber\" style = \"font-weight: bold; text-align: right;\"></th><th title = \"Int64\" style = \"text-align: left;\">Int64</th><th title = \"Union{Missing, String}\" style = \"text-align: left;\">String?</th><th title = \"Char\" style = \"text-align: left;\">Char</th><th title = \"Union{Missing, Int64}\" style = \"text-align: left;\">Int64?</th><th title = \"Int64\" style = \"text-align: left;\">Int64</th><th title = \"Union{Missing, Int64}\" style = \"text-align: left;\">Int64?</th><th title = \"Float64\" style = \"text-align: left;\">Float64</th></tr></thead><tbody><tr><td class = \"rowNumber\" style = \"font-weight: bold; text-align: right;\">1</td><td style = \"text-align: right;\">20</td><td style = \"text-align: left;\">Divorced</td><td style = \"text-align: left;\">F</td><td style = \"text-align: right;\">40000</td><td style = \"text-align: right;\">769</td><td style = \"text-align: right;\">300</td><td style = \"text-align: right;\">16.9343</td></tr><tr><td class = \"rowNumber\" style = \"font-weight: bold; text-align: right;\">2</td><td style = \"text-align: right;\">20</td><td style = \"text-align: left;\">Divorced</td><td style = \"text-align: left;\">F</td><td style = \"text-align: right;\">50000</td><td style = \"text-align: right;\">700</td><td style = \"text-align: right;\">295</td><td style = \"text-align: right;\">15.3255</td></tr><tr><td class = \"rowNumber\" style = \"font-weight: bold; text-align: right;\">3</td><td style = \"text-align: right;\">20</td><td style = \"text-align: left;\">Divorced</td><td style = \"text-align: left;\">F</td><td style = \"text-align: right;\">60000</td><td style = \"text-align: right;\">0</td><td style = \"text-align: right;\">299</td><td style = \"text-align: right;\">-Inf</td></tr><tr><td class = \"rowNumber\" style = \"font-weight: bold; text-align: right;\">4</td><td style = \"text-align: right;\">20</td><td style = \"text-align: left;\">Divorced</td><td style = \"text-align: left;\">F</td><td style = \"text-align: right;\">70000</td><td style = \"text-align: right;\">0</td><td style = \"text-align: right;\">298</td><td style = \"text-align: right;\">-Inf</td></tr><tr><td class = \"rowNumber\" style = \"font-weight: bold; text-align: right;\">5</td><td style = \"text-align: right;\">20</td><td style = \"text-align: left;\">Divorced</td><td style = \"text-align: left;\">F</td><td style = \"text-align: right;\">80000</td><td style = \"text-align: right;\">0</td><td style = \"text-align: right;\">299</td><td style = \"text-align: right;\">-Inf</td></tr><tr><td class = \"rowNumber\" style = \"font-weight: bold; text-align: right;\">6</td><td style = \"text-align: right;\">20</td><td style = \"text-align: left;\">Divorced</td><td style = \"text-align: left;\">M</td><td style = \"text-align: right;\">40000</td><td style = \"text-align: right;\">776</td><td style = \"text-align: right;\">298</td><td style = \"text-align: right;\">17.1814</td></tr><tr><td class = \"rowNumber\" style = \"font-weight: bold; text-align: right;\">7</td><td style = \"text-align: right;\">20</td><td style = \"text-align: left;\">Divorced</td><td style = \"text-align: left;\">M</td><td style = \"text-align: right;\">50000</td><td style = \"text-align: right;\">734</td><td style = \"text-align: right;\">294</td><td style = \"text-align: right;\">16.2606</td></tr><tr><td class = \"rowNumber\" style = \"font-weight: bold; text-align: right;\">8</td><td style = \"text-align: right;\">20</td><td style = \"text-align: left;\">Divorced</td><td style = \"text-align: left;\">M</td><td style = \"text-align: right;\">60000</td><td style = \"text-align: right;\">0</td><td style = \"text-align: right;\">298</td><td style = \"text-align: right;\">-Inf</td></tr><tr><td class = \"rowNumber\" style = \"font-weight: bold; text-align: right;\">9</td><td style = \"text-align: right;\">20</td><td style = \"text-align: left;\">Divorced</td><td style = \"text-align: left;\">M</td><td style = \"text-align: right;\">70000</td><td style = \"text-align: right;\">0</td><td style = \"text-align: right;\">297</td><td style = \"text-align: right;\">-Inf</td></tr><tr><td class = \"rowNumber\" style = \"font-weight: bold; text-align: right;\">10</td><td style = \"text-align: right;\">20</td><td style = \"text-align: left;\">Divorced</td><td style = \"text-align: left;\">M</td><td style = \"text-align: right;\">80000</td><td style = \"text-align: right;\">0</td><td style = \"text-align: right;\">297</td><td style = \"text-align: right;\">-Inf</td></tr><tr><td class = \"rowNumber\" style = \"font-weight: bold; text-align: right;\">11</td><td style = \"text-align: right;\">20</td><td style = \"text-align: left;\">Married</td><td style = \"text-align: left;\">F</td><td style = \"text-align: right;\">40000</td><td style = \"text-align: right;\">3740</td><td style = \"text-align: right;\">1505</td><td style = \"text-align: right;\">36.7761</td></tr><tr><td class = \"rowNumber\" style = \"font-weight: bold; text-align: right;\">12</td><td style = \"text-align: right;\">20</td><td style = \"text-align: left;\">Married</td><td style = \"text-align: left;\">F</td><td style = \"text-align: right;\">50000</td><td style = \"text-align: right;\">3756</td><td style = \"text-align: right;\">1484</td><td style = \"text-align: right;\">37.3062</td></tr><tr><td class = \"rowNumber\" style = \"font-weight: bold; text-align: right;\">13</td><td style = \"text-align: right;\">20</td><td style = \"text-align: left;\">Married</td><td style = \"text-align: left;\">F</td><td style = \"text-align: right;\">60000</td><td style = \"text-align: right;\">0</td><td style = \"text-align: right;\">1504</td><td style = \"text-align: right;\">-Inf</td></tr><tr><td style = \"text-align: right;\">&vellip;</td><td style = \"text-align: right;\">&vellip;</td><td style = \"text-align: right;\">&vellip;</td><td style = \"text-align: right;\">&vellip;</td><td style = \"text-align: right;\">&vellip;</td><td style = \"text-align: right;\">&vellip;</td><td style = \"text-align: right;\">&vellip;</td><td style = \"text-align: right;\">&vellip;</td></tr><tr><td class = \"rowNumber\" style = \"font-weight: bold; text-align: right;\">515</td><td style = \"text-align: right;\">80</td><td style = \"text-align: left;\">Widowed</td><td style = \"text-align: left;\">F</td><td style = \"text-align: right;\">80000</td><td style = \"text-align: right;\">223</td><td style = \"text-align: right;\">163</td><td style = \"text-align: right;\">4.01939</td></tr><tr><td class = \"rowNumber\" style = \"font-weight: bold; text-align: right;\">516</td><td style = \"text-align: right;\">80</td><td style = \"text-align: left;\">Widowed</td><td style = \"text-align: left;\">M</td><td style = \"text-align: right;\">40000</td><td style = \"text-align: right;\">76</td><td style = \"text-align: right;\">167</td><td style = \"text-align: right;\">-10.4397</td></tr><tr><td class = \"rowNumber\" style = \"font-weight: bold; text-align: right;\">517</td><td style = \"text-align: right;\">80</td><td style = \"text-align: left;\">Widowed</td><td style = \"text-align: left;\">M</td><td style = \"text-align: right;\">50000</td><td style = \"text-align: right;\">92</td><td style = \"text-align: right;\">165</td><td style = \"text-align: right;\">-7.61194</td></tr><tr><td class = \"rowNumber\" style = \"font-weight: bold; text-align: right;\">518</td><td style = \"text-align: right;\">80</td><td style = \"text-align: left;\">Widowed</td><td style = \"text-align: left;\">M</td><td style = \"text-align: right;\">60000</td><td style = \"text-align: right;\">230</td><td style = \"text-align: right;\">167</td><td style = \"text-align: right;\">4.15569</td></tr><tr><td class = \"rowNumber\" style = \"font-weight: bold; text-align: right;\">519</td><td style = \"text-align: right;\">80</td><td style = \"text-align: left;\">Widowed</td><td style = \"text-align: left;\">M</td><td style = \"text-align: right;\">70000</td><td style = \"text-align: right;\">212</td><td style = \"text-align: right;\">166</td><td style = \"text-align: right;\">3.16041</td></tr><tr><td class = \"rowNumber\" style = \"font-weight: bold; text-align: right;\">520</td><td style = \"text-align: right;\">80</td><td style = \"text-align: left;\">Widowed</td><td style = \"text-align: left;\">M</td><td style = \"text-align: right;\">80000</td><td style = \"text-align: right;\">224</td><td style = \"text-align: right;\">166</td><td style = \"text-align: right;\">3.87674</td></tr><tr><td class = \"rowNumber\" style = \"font-weight: bold; text-align: right;\">521</td><td style = \"text-align: right;\">5</td><td style = \"text-align: left;\">missing</td><td style = \"text-align: left;\">F</td><td style = \"text-align: right;\">missing</td><td style = \"text-align: right;\">10088</td><td style = \"text-align: right;\">0</td><td style = \"text-align: right;\">102.172</td></tr><tr><td class = \"rowNumber\" style = \"font-weight: bold; text-align: right;\">522</td><td style = \"text-align: right;\">5</td><td style = \"text-align: left;\">missing</td><td style = \"text-align: left;\">M</td><td style = \"text-align: right;\">missing</td><td style = \"text-align: right;\">10029</td><td style = \"text-align: right;\">0</td><td style = \"text-align: right;\">101.862</td></tr><tr><td class = \"rowNumber\" style = \"font-weight: bold; text-align: right;\">523</td><td style = \"text-align: right;\">10</td><td style = \"text-align: left;\">missing</td><td style = \"text-align: left;\">F</td><td style = \"text-align: right;\">missing</td><td style = \"text-align: right;\">9964</td><td style = \"text-align: right;\">0</td><td style = \"text-align: right;\">101.52</td></tr><tr><td class = \"rowNumber\" style = \"font-weight: bold; text-align: right;\">524</td><td style = \"text-align: right;\">10</td><td style = \"text-align: left;\">missing</td><td style = \"text-align: left;\">M</td><td style = \"text-align: right;\">missing</td><td style = \"text-align: right;\">9928</td><td style = \"text-align: right;\">0</td><td style = \"text-align: right;\">101.33</td></tr><tr><td class = \"rowNumber\" style = \"font-weight: bold; text-align: right;\">525</td><td style = \"text-align: right;\">15</td><td style = \"text-align: left;\">missing</td><td style = \"text-align: left;\">F</td><td style = \"text-align: right;\">missing</td><td style = \"text-align: right;\">9966</td><td style = \"text-align: right;\">0</td><td style = \"text-align: right;\">101.531</td></tr><tr><td class = \"rowNumber\" style = \"font-weight: bold; text-align: right;\">526</td><td style = \"text-align: right;\">15</td><td style = \"text-align: left;\">missing</td><td style = \"text-align: left;\">M</td><td style = \"text-align: right;\">missing</td><td style = \"text-align: right;\">10025</td><td style = \"text-align: right;\">0</td><td style = \"text-align: right;\">101.841</td></tr></tbody></table></div>"
      ],
      "text/latex": [
       "\\begin{tabular}{r|ccccccc}\n",
       "\t& AGE & MARITAL\\_STATUS & SEX & INCOME & population & estimated\\_population & Z\\_score\\\\\n",
       "\t\\hline\n",
       "\t& Int64 & String? & Char & Int64? & Int64 & Int64? & Float64\\\\\n",
       "\t\\hline\n",
       "\t1 & 20 & Divorced & F & 40000 & 769 & 300 & 16.9343 \\\\\n",
       "\t2 & 20 & Divorced & F & 50000 & 700 & 295 & 15.3255 \\\\\n",
       "\t3 & 20 & Divorced & F & 60000 & 0 & 299 & -Inf \\\\\n",
       "\t4 & 20 & Divorced & F & 70000 & 0 & 298 & -Inf \\\\\n",
       "\t5 & 20 & Divorced & F & 80000 & 0 & 299 & -Inf \\\\\n",
       "\t6 & 20 & Divorced & M & 40000 & 776 & 298 & 17.1814 \\\\\n",
       "\t7 & 20 & Divorced & M & 50000 & 734 & 294 & 16.2606 \\\\\n",
       "\t8 & 20 & Divorced & M & 60000 & 0 & 298 & -Inf \\\\\n",
       "\t9 & 20 & Divorced & M & 70000 & 0 & 297 & -Inf \\\\\n",
       "\t10 & 20 & Divorced & M & 80000 & 0 & 297 & -Inf \\\\\n",
       "\t11 & 20 & Married & F & 40000 & 3740 & 1505 & 36.7761 \\\\\n",
       "\t12 & 20 & Married & F & 50000 & 3756 & 1484 & 37.3062 \\\\\n",
       "\t13 & 20 & Married & F & 60000 & 0 & 1504 & -Inf \\\\\n",
       "\t14 & 20 & Married & F & 70000 & 0 & 1498 & -Inf \\\\\n",
       "\t15 & 20 & Married & F & 80000 & 0 & 1501 & -Inf \\\\\n",
       "\t16 & 20 & Married & M & 40000 & 3698 & 1494 & 36.4688 \\\\\n",
       "\t17 & 20 & Married & M & 50000 & 3674 & 1472 & 36.553 \\\\\n",
       "\t18 & 20 & Married & M & 60000 & 0 & 1492 & -Inf \\\\\n",
       "\t19 & 20 & Married & M & 70000 & 0 & 1487 & -Inf \\\\\n",
       "\t20 & 20 & Married & M & 80000 & 0 & 1490 & -Inf \\\\\n",
       "\t21 & 20 & Not\\_married & F & 40000 & 2260 & 895 & 28.8218 \\\\\n",
       "\t22 & 20 & Not\\_married & F & 50000 & 2203 & 883 & 28.2272 \\\\\n",
       "\t23 & 20 & Not\\_married & F & 60000 & 0 & 894 & -Inf \\\\\n",
       "\t24 & 20 & Not\\_married & F & 70000 & 0 & 891 & -Inf \\\\\n",
       "\t$\\dots$ & $\\dots$ & $\\dots$ & $\\dots$ & $\\dots$ & $\\dots$ & $\\dots$ & $\\dots$ \\\\\n",
       "\\end{tabular}\n"
      ],
      "text/plain": [
       "\u001b[1m526×7 DataFrame\u001b[0m\n",
       "\u001b[1m Row \u001b[0m│\u001b[1m AGE   \u001b[0m\u001b[1m MARITAL_STATUS \u001b[0m\u001b[1m SEX  \u001b[0m\u001b[1m INCOME  \u001b[0m\u001b[1m population \u001b[0m\u001b[1m estimated_population \u001b[0m\u001b[1m\u001b[0m ⋯\n",
       "     │\u001b[90m Int64 \u001b[0m\u001b[90m String?        \u001b[0m\u001b[90m Char \u001b[0m\u001b[90m Int64?  \u001b[0m\u001b[90m Int64      \u001b[0m\u001b[90m Int64?               \u001b[0m\u001b[90m\u001b[0m ⋯\n",
       "─────┼──────────────────────────────────────────────────────────────────────────\n",
       "   1 │    20  Divorced        F       40000         769                   300  ⋯\n",
       "   2 │    20  Divorced        F       50000         700                   295\n",
       "   3 │    20  Divorced        F       60000           0                   299\n",
       "   4 │    20  Divorced        F       70000           0                   298\n",
       "   5 │    20  Divorced        F       80000           0                   299  ⋯\n",
       "   6 │    20  Divorced        M       40000         776                   298\n",
       "   7 │    20  Divorced        M       50000         734                   294\n",
       "   8 │    20  Divorced        M       60000           0                   298\n",
       "  ⋮  │   ⋮          ⋮          ⋮       ⋮         ⋮                ⋮            ⋱\n",
       " 520 │    80  Widowed         M       80000         224                   166  ⋯\n",
       " 521 │     5 \u001b[90m missing        \u001b[0m F    \u001b[90m missing \u001b[0m      10088                     0\n",
       " 522 │     5 \u001b[90m missing        \u001b[0m M    \u001b[90m missing \u001b[0m      10029                     0\n",
       " 523 │    10 \u001b[90m missing        \u001b[0m F    \u001b[90m missing \u001b[0m       9964                     0\n",
       " 524 │    10 \u001b[90m missing        \u001b[0m M    \u001b[90m missing \u001b[0m       9928                     0  ⋯\n",
       " 525 │    15 \u001b[90m missing        \u001b[0m F    \u001b[90m missing \u001b[0m       9966                     0\n",
       " 526 │    15 \u001b[90m missing        \u001b[0m M    \u001b[90m missing \u001b[0m      10025                     0\n",
       "\u001b[36m                                                   1 column and 511 rows omitted\u001b[0m"
      ]
     },
     "metadata": {},
     "output_type": "display_data"
    }
   ],
   "source": [
    "validate_table(guo_bhat, independent_population)"
   ]
  },
  {
   "attachments": {},
   "cell_type": "markdown",
   "metadata": {},
   "source": [
    "#### Ponge, Enbergs, Schungel, Hellingrath, Karch, Ludwig, 2021"
   ]
  },
  {
   "cell_type": "code",
   "execution_count": 52,
   "metadata": {},
   "outputs": [
    {
     "name": "stdout",
     "output_type": "stream",
     "text": [
      "=================\n",
      "=Cell statistics=\n",
      "=================\n",
      "Percentage of well fitting values at 0.95 confidence interval: 0.5741444866920152\n",
      "Percentage of well fitting values at 0.90 confidence interval: 0.5038022813688213\n",
      "\n",
      "==================\n",
      "=Table statistics=\n",
      "==================\n",
      "Statistic value equals: 65428.004664156935\n",
      "Table is not well fitting.\n",
      "\n"
     ]
    },
    {
     "data": {
      "text/html": [
       "<div><div style = \"float: left;\"><span>526×7 DataFrame</span></div><div style = \"float: right;\"><span style = \"font-style: italic;\">501 rows omitted</span></div><div style = \"clear: both;\"></div></div><div class = \"data-frame\" style = \"overflow-x: scroll;\"><table class = \"data-frame\" style = \"margin-bottom: 6px;\"><thead><tr class = \"header\"><th class = \"rowNumber\" style = \"font-weight: bold; text-align: right;\">Row</th><th style = \"text-align: left;\">AGE</th><th style = \"text-align: left;\">MARITAL_STATUS</th><th style = \"text-align: left;\">SEX</th><th style = \"text-align: left;\">INCOME</th><th style = \"text-align: left;\">population</th><th style = \"text-align: left;\">estimated_population</th><th style = \"text-align: left;\">Z_score</th></tr><tr class = \"subheader headerLastRow\"><th class = \"rowNumber\" style = \"font-weight: bold; text-align: right;\"></th><th title = \"Int64\" style = \"text-align: left;\">Int64</th><th title = \"Union{Missing, String}\" style = \"text-align: left;\">String?</th><th title = \"Char\" style = \"text-align: left;\">Char</th><th title = \"Union{Missing, Int64}\" style = \"text-align: left;\">Int64?</th><th title = \"Int64\" style = \"text-align: left;\">Int64</th><th title = \"Union{Missing, Int64}\" style = \"text-align: left;\">Int64?</th><th title = \"Real\" style = \"text-align: left;\">Real</th></tr></thead><tbody><tr><td class = \"rowNumber\" style = \"font-weight: bold; text-align: right;\">1</td><td style = \"text-align: right;\">20</td><td style = \"text-align: left;\">Divorced</td><td style = \"text-align: left;\">F</td><td style = \"text-align: right;\">40000</td><td style = \"text-align: right;\">769</td><td style = \"text-align: right;\">751</td><td style = \"text-align: right;\">0.64993</td></tr><tr><td class = \"rowNumber\" style = \"font-weight: bold; text-align: right;\">2</td><td style = \"text-align: right;\">20</td><td style = \"text-align: left;\">Divorced</td><td style = \"text-align: left;\">F</td><td style = \"text-align: right;\">50000</td><td style = \"text-align: right;\">700</td><td style = \"text-align: right;\">741</td><td style = \"text-align: right;\">-1.55147</td></tr><tr><td class = \"rowNumber\" style = \"font-weight: bold; text-align: right;\">3</td><td style = \"text-align: right;\">20</td><td style = \"text-align: left;\">Divorced</td><td style = \"text-align: left;\">F</td><td style = \"text-align: right;\">60000</td><td style = \"text-align: right;\">0</td><td style = \"text-align: right;\">0</td><td style = \"text-align: right;\">0</td></tr><tr><td class = \"rowNumber\" style = \"font-weight: bold; text-align: right;\">4</td><td style = \"text-align: right;\">20</td><td style = \"text-align: left;\">Divorced</td><td style = \"text-align: left;\">F</td><td style = \"text-align: right;\">70000</td><td style = \"text-align: right;\">0</td><td style = \"text-align: right;\">0</td><td style = \"text-align: right;\">0</td></tr><tr><td class = \"rowNumber\" style = \"font-weight: bold; text-align: right;\">5</td><td style = \"text-align: right;\">20</td><td style = \"text-align: left;\">Divorced</td><td style = \"text-align: left;\">F</td><td style = \"text-align: right;\">80000</td><td style = \"text-align: right;\">0</td><td style = \"text-align: right;\">0</td><td style = \"text-align: right;\">0</td></tr><tr><td class = \"rowNumber\" style = \"font-weight: bold; text-align: right;\">6</td><td style = \"text-align: right;\">20</td><td style = \"text-align: left;\">Divorced</td><td style = \"text-align: left;\">M</td><td style = \"text-align: right;\">40000</td><td style = \"text-align: right;\">776</td><td style = \"text-align: right;\">747</td><td style = \"text-align: right;\">1.04239</td></tr><tr><td class = \"rowNumber\" style = \"font-weight: bold; text-align: right;\">7</td><td style = \"text-align: right;\">20</td><td style = \"text-align: left;\">Divorced</td><td style = \"text-align: left;\">M</td><td style = \"text-align: right;\">50000</td><td style = \"text-align: right;\">734</td><td style = \"text-align: right;\">737</td><td style = \"text-align: right;\">-0.110868</td></tr><tr><td class = \"rowNumber\" style = \"font-weight: bold; text-align: right;\">8</td><td style = \"text-align: right;\">20</td><td style = \"text-align: left;\">Divorced</td><td style = \"text-align: left;\">M</td><td style = \"text-align: right;\">60000</td><td style = \"text-align: right;\">0</td><td style = \"text-align: right;\">0</td><td style = \"text-align: right;\">0</td></tr><tr><td class = \"rowNumber\" style = \"font-weight: bold; text-align: right;\">9</td><td style = \"text-align: right;\">20</td><td style = \"text-align: left;\">Divorced</td><td style = \"text-align: left;\">M</td><td style = \"text-align: right;\">70000</td><td style = \"text-align: right;\">0</td><td style = \"text-align: right;\">0</td><td style = \"text-align: right;\">0</td></tr><tr><td class = \"rowNumber\" style = \"font-weight: bold; text-align: right;\">10</td><td style = \"text-align: right;\">20</td><td style = \"text-align: left;\">Divorced</td><td style = \"text-align: left;\">M</td><td style = \"text-align: right;\">80000</td><td style = \"text-align: right;\">0</td><td style = \"text-align: right;\">0</td><td style = \"text-align: right;\">0</td></tr><tr><td class = \"rowNumber\" style = \"font-weight: bold; text-align: right;\">11</td><td style = \"text-align: right;\">20</td><td style = \"text-align: left;\">Married</td><td style = \"text-align: left;\">F</td><td style = \"text-align: right;\">40000</td><td style = \"text-align: right;\">3740</td><td style = \"text-align: right;\">3773</td><td style = \"text-align: right;\">-0.543003</td></tr><tr><td class = \"rowNumber\" style = \"font-weight: bold; text-align: right;\">12</td><td style = \"text-align: right;\">20</td><td style = \"text-align: left;\">Married</td><td style = \"text-align: left;\">F</td><td style = \"text-align: right;\">50000</td><td style = \"text-align: right;\">3756</td><td style = \"text-align: right;\">3719</td><td style = \"text-align: right;\">0.60754</td></tr><tr><td class = \"rowNumber\" style = \"font-weight: bold; text-align: right;\">13</td><td style = \"text-align: right;\">20</td><td style = \"text-align: left;\">Married</td><td style = \"text-align: left;\">F</td><td style = \"text-align: right;\">60000</td><td style = \"text-align: right;\">0</td><td style = \"text-align: right;\">0</td><td style = \"text-align: right;\">0</td></tr><tr><td style = \"text-align: right;\">&vellip;</td><td style = \"text-align: right;\">&vellip;</td><td style = \"text-align: right;\">&vellip;</td><td style = \"text-align: right;\">&vellip;</td><td style = \"text-align: right;\">&vellip;</td><td style = \"text-align: right;\">&vellip;</td><td style = \"text-align: right;\">&vellip;</td><td style = \"text-align: right;\">&vellip;</td></tr><tr><td class = \"rowNumber\" style = \"font-weight: bold; text-align: right;\">515</td><td style = \"text-align: right;\">80</td><td style = \"text-align: left;\">Widowed</td><td style = \"text-align: left;\">F</td><td style = \"text-align: right;\">80000</td><td style = \"text-align: right;\">223</td><td style = \"text-align: right;\">204</td><td style = \"text-align: right;\">1.27281</td></tr><tr><td class = \"rowNumber\" style = \"font-weight: bold; text-align: right;\">516</td><td style = \"text-align: right;\">80</td><td style = \"text-align: left;\">Widowed</td><td style = \"text-align: left;\">M</td><td style = \"text-align: right;\">40000</td><td style = \"text-align: right;\">76</td><td style = \"text-align: right;\">104</td><td style = \"text-align: right;\">-3.21223</td></tr><tr><td class = \"rowNumber\" style = \"font-weight: bold; text-align: right;\">517</td><td style = \"text-align: right;\">80</td><td style = \"text-align: left;\">Widowed</td><td style = \"text-align: left;\">M</td><td style = \"text-align: right;\">50000</td><td style = \"text-align: right;\">92</td><td style = \"text-align: right;\">103</td><td style = \"text-align: right;\">-1.14701</td></tr><tr><td class = \"rowNumber\" style = \"font-weight: bold; text-align: right;\">518</td><td style = \"text-align: right;\">80</td><td style = \"text-align: left;\">Widowed</td><td style = \"text-align: left;\">M</td><td style = \"text-align: right;\">60000</td><td style = \"text-align: right;\">230</td><td style = \"text-align: right;\">208</td><td style = \"text-align: right;\">1.45119</td></tr><tr><td class = \"rowNumber\" style = \"font-weight: bold; text-align: right;\">519</td><td style = \"text-align: right;\">80</td><td style = \"text-align: left;\">Widowed</td><td style = \"text-align: left;\">M</td><td style = \"text-align: right;\">70000</td><td style = \"text-align: right;\">212</td><td style = \"text-align: right;\">208</td><td style = \"text-align: right;\">0.274818</td></tr><tr><td class = \"rowNumber\" style = \"font-weight: bold; text-align: right;\">520</td><td style = \"text-align: right;\">80</td><td style = \"text-align: left;\">Widowed</td><td style = \"text-align: left;\">M</td><td style = \"text-align: right;\">80000</td><td style = \"text-align: right;\">224</td><td style = \"text-align: right;\">208</td><td style = \"text-align: right;\">1.06944</td></tr><tr><td class = \"rowNumber\" style = \"font-weight: bold; text-align: right;\">521</td><td style = \"text-align: right;\">5</td><td style = \"text-align: left;\">missing</td><td style = \"text-align: left;\">F</td><td style = \"text-align: right;\">missing</td><td style = \"text-align: right;\">10088</td><td style = \"text-align: right;\">0</td><td style = \"text-align: right;\">102.172</td></tr><tr><td class = \"rowNumber\" style = \"font-weight: bold; text-align: right;\">522</td><td style = \"text-align: right;\">5</td><td style = \"text-align: left;\">missing</td><td style = \"text-align: left;\">M</td><td style = \"text-align: right;\">missing</td><td style = \"text-align: right;\">10029</td><td style = \"text-align: right;\">0</td><td style = \"text-align: right;\">101.862</td></tr><tr><td class = \"rowNumber\" style = \"font-weight: bold; text-align: right;\">523</td><td style = \"text-align: right;\">10</td><td style = \"text-align: left;\">missing</td><td style = \"text-align: left;\">F</td><td style = \"text-align: right;\">missing</td><td style = \"text-align: right;\">9964</td><td style = \"text-align: right;\">0</td><td style = \"text-align: right;\">101.52</td></tr><tr><td class = \"rowNumber\" style = \"font-weight: bold; text-align: right;\">524</td><td style = \"text-align: right;\">10</td><td style = \"text-align: left;\">missing</td><td style = \"text-align: left;\">M</td><td style = \"text-align: right;\">missing</td><td style = \"text-align: right;\">9928</td><td style = \"text-align: right;\">0</td><td style = \"text-align: right;\">101.33</td></tr><tr><td class = \"rowNumber\" style = \"font-weight: bold; text-align: right;\">525</td><td style = \"text-align: right;\">15</td><td style = \"text-align: left;\">missing</td><td style = \"text-align: left;\">F</td><td style = \"text-align: right;\">missing</td><td style = \"text-align: right;\">9966</td><td style = \"text-align: right;\">0</td><td style = \"text-align: right;\">101.531</td></tr><tr><td class = \"rowNumber\" style = \"font-weight: bold; text-align: right;\">526</td><td style = \"text-align: right;\">15</td><td style = \"text-align: left;\">missing</td><td style = \"text-align: left;\">M</td><td style = \"text-align: right;\">missing</td><td style = \"text-align: right;\">10025</td><td style = \"text-align: right;\">0</td><td style = \"text-align: right;\">101.841</td></tr></tbody></table></div>"
      ],
      "text/latex": [
       "\\begin{tabular}{r|ccccccc}\n",
       "\t& AGE & MARITAL\\_STATUS & SEX & INCOME & population & estimated\\_population & Z\\_score\\\\\n",
       "\t\\hline\n",
       "\t& Int64 & String? & Char & Int64? & Int64 & Int64? & Real\\\\\n",
       "\t\\hline\n",
       "\t1 & 20 & Divorced & F & 40000 & 769 & 751 & 0.64993 \\\\\n",
       "\t2 & 20 & Divorced & F & 50000 & 700 & 741 & -1.55147 \\\\\n",
       "\t3 & 20 & Divorced & F & 60000 & 0 & 0 & 0 \\\\\n",
       "\t4 & 20 & Divorced & F & 70000 & 0 & 0 & 0 \\\\\n",
       "\t5 & 20 & Divorced & F & 80000 & 0 & 0 & 0 \\\\\n",
       "\t6 & 20 & Divorced & M & 40000 & 776 & 747 & 1.04239 \\\\\n",
       "\t7 & 20 & Divorced & M & 50000 & 734 & 737 & -0.110868 \\\\\n",
       "\t8 & 20 & Divorced & M & 60000 & 0 & 0 & 0 \\\\\n",
       "\t9 & 20 & Divorced & M & 70000 & 0 & 0 & 0 \\\\\n",
       "\t10 & 20 & Divorced & M & 80000 & 0 & 0 & 0 \\\\\n",
       "\t11 & 20 & Married & F & 40000 & 3740 & 3773 & -0.543003 \\\\\n",
       "\t12 & 20 & Married & F & 50000 & 3756 & 3719 & 0.60754 \\\\\n",
       "\t13 & 20 & Married & F & 60000 & 0 & 0 & 0 \\\\\n",
       "\t14 & 20 & Married & F & 70000 & 0 & 0 & 0 \\\\\n",
       "\t15 & 20 & Married & F & 80000 & 0 & 0 & 0 \\\\\n",
       "\t16 & 20 & Married & M & 40000 & 3698 & 3744 & -0.761146 \\\\\n",
       "\t17 & 20 & Married & M & 50000 & 3674 & 3691 & -0.282199 \\\\\n",
       "\t18 & 20 & Married & M & 60000 & 0 & 0 & 0 \\\\\n",
       "\t19 & 20 & Married & M & 70000 & 0 & 0 & 0 \\\\\n",
       "\t20 & 20 & Married & M & 80000 & 0 & 0 & 0 \\\\\n",
       "\t21 & 20 & Not\\_married & F & 40000 & 2260 & 2245 & 0.316723 \\\\\n",
       "\t22 & 20 & Not\\_married & F & 50000 & 2203 & 2212 & -0.192458 \\\\\n",
       "\t23 & 20 & Not\\_married & F & 60000 & 0 & 0 & 0 \\\\\n",
       "\t24 & 20 & Not\\_married & F & 70000 & 0 & 0 & 0 \\\\\n",
       "\t$\\dots$ & $\\dots$ & $\\dots$ & $\\dots$ & $\\dots$ & $\\dots$ & $\\dots$ & $\\dots$ \\\\\n",
       "\\end{tabular}\n"
      ],
      "text/plain": [
       "\u001b[1m526×7 DataFrame\u001b[0m\n",
       "\u001b[1m Row \u001b[0m│\u001b[1m AGE   \u001b[0m\u001b[1m MARITAL_STATUS \u001b[0m\u001b[1m SEX  \u001b[0m\u001b[1m INCOME  \u001b[0m\u001b[1m population \u001b[0m\u001b[1m estimated_population \u001b[0m\u001b[1m\u001b[0m ⋯\n",
       "     │\u001b[90m Int64 \u001b[0m\u001b[90m String?        \u001b[0m\u001b[90m Char \u001b[0m\u001b[90m Int64?  \u001b[0m\u001b[90m Int64      \u001b[0m\u001b[90m Int64?               \u001b[0m\u001b[90m\u001b[0m ⋯\n",
       "─────┼──────────────────────────────────────────────────────────────────────────\n",
       "   1 │    20  Divorced        F       40000         769                   751  ⋯\n",
       "   2 │    20  Divorced        F       50000         700                   741\n",
       "   3 │    20  Divorced        F       60000           0                     0\n",
       "   4 │    20  Divorced        F       70000           0                     0\n",
       "   5 │    20  Divorced        F       80000           0                     0  ⋯\n",
       "   6 │    20  Divorced        M       40000         776                   747\n",
       "   7 │    20  Divorced        M       50000         734                   737\n",
       "   8 │    20  Divorced        M       60000           0                     0\n",
       "  ⋮  │   ⋮          ⋮          ⋮       ⋮         ⋮                ⋮            ⋱\n",
       " 520 │    80  Widowed         M       80000         224                   208  ⋯\n",
       " 521 │     5 \u001b[90m missing        \u001b[0m F    \u001b[90m missing \u001b[0m      10088                     0\n",
       " 522 │     5 \u001b[90m missing        \u001b[0m M    \u001b[90m missing \u001b[0m      10029                     0\n",
       " 523 │    10 \u001b[90m missing        \u001b[0m F    \u001b[90m missing \u001b[0m       9964                     0\n",
       " 524 │    10 \u001b[90m missing        \u001b[0m M    \u001b[90m missing \u001b[0m       9928                     0  ⋯\n",
       " 525 │    15 \u001b[90m missing        \u001b[0m F    \u001b[90m missing \u001b[0m       9966                     0\n",
       " 526 │    15 \u001b[90m missing        \u001b[0m M    \u001b[90m missing \u001b[0m      10025                     0\n",
       "\u001b[36m                                                   1 column and 511 rows omitted\u001b[0m"
      ]
     },
     "metadata": {},
     "output_type": "display_data"
    }
   ],
   "source": [
    "validate_table(ponge_et_al, independent_population)"
   ]
  },
  {
   "attachments": {},
   "cell_type": "markdown",
   "metadata": {},
   "source": [
    "#### Modified algorithm"
   ]
  },
  {
   "cell_type": "code",
   "execution_count": 53,
   "metadata": {},
   "outputs": [
    {
     "name": "stdout",
     "output_type": "stream",
     "text": [
      "=================\n",
      "=Cell statistics=\n",
      "=================\n",
      "Percentage of well fitting values at 0.95 confidence interval: 0.9695817490494296\n",
      "Percentage of well fitting values at 0.90 confidence interval: 0.9315589353612167\n",
      "\n",
      "==================\n",
      "=Table statistics=\n",
      "==================\n",
      "Statistic value equals: 453.64722572037283\n",
      "Table is well fitting at 0.9 and 0.95 confidence interval.\n",
      "\n"
     ]
    },
    {
     "data": {
      "text/html": [
       "<div><div style = \"float: left;\"><span>526×7 DataFrame</span></div><div style = \"float: right;\"><span style = \"font-style: italic;\">501 rows omitted</span></div><div style = \"clear: both;\"></div></div><div class = \"data-frame\" style = \"overflow-x: scroll;\"><table class = \"data-frame\" style = \"margin-bottom: 6px;\"><thead><tr class = \"header\"><th class = \"rowNumber\" style = \"font-weight: bold; text-align: right;\">Row</th><th style = \"text-align: left;\">AGE</th><th style = \"text-align: left;\">MARITAL_STATUS</th><th style = \"text-align: left;\">SEX</th><th style = \"text-align: left;\">INCOME</th><th style = \"text-align: left;\">population</th><th style = \"text-align: left;\">estimated_population</th><th style = \"text-align: left;\">Z_score</th></tr><tr class = \"subheader headerLastRow\"><th class = \"rowNumber\" style = \"font-weight: bold; text-align: right;\"></th><th title = \"Int64\" style = \"text-align: left;\">Int64</th><th title = \"Union{Missing, String}\" style = \"text-align: left;\">String?</th><th title = \"Char\" style = \"text-align: left;\">Char</th><th title = \"Union{Missing, Int64}\" style = \"text-align: left;\">Int64?</th><th title = \"Int64\" style = \"text-align: left;\">Int64</th><th title = \"Union{Missing, Int64}\" style = \"text-align: left;\">Int64?</th><th title = \"Real\" style = \"text-align: left;\">Real</th></tr></thead><tbody><tr><td class = \"rowNumber\" style = \"font-weight: bold; text-align: right;\">1</td><td style = \"text-align: right;\">20</td><td style = \"text-align: left;\">Divorced</td><td style = \"text-align: left;\">F</td><td style = \"text-align: right;\">40000</td><td style = \"text-align: right;\">769</td><td style = \"text-align: right;\">751</td><td style = \"text-align: right;\">0.64993</td></tr><tr><td class = \"rowNumber\" style = \"font-weight: bold; text-align: right;\">2</td><td style = \"text-align: right;\">20</td><td style = \"text-align: left;\">Divorced</td><td style = \"text-align: left;\">M</td><td style = \"text-align: right;\">40000</td><td style = \"text-align: right;\">776</td><td style = \"text-align: right;\">747</td><td style = \"text-align: right;\">1.04239</td></tr><tr><td class = \"rowNumber\" style = \"font-weight: bold; text-align: right;\">3</td><td style = \"text-align: right;\">20</td><td style = \"text-align: left;\">Married</td><td style = \"text-align: left;\">F</td><td style = \"text-align: right;\">40000</td><td style = \"text-align: right;\">3740</td><td style = \"text-align: right;\">3773</td><td style = \"text-align: right;\">-0.543003</td></tr><tr><td class = \"rowNumber\" style = \"font-weight: bold; text-align: right;\">4</td><td style = \"text-align: right;\">20</td><td style = \"text-align: left;\">Married</td><td style = \"text-align: left;\">M</td><td style = \"text-align: right;\">40000</td><td style = \"text-align: right;\">3698</td><td style = \"text-align: right;\">3744</td><td style = \"text-align: right;\">-0.761146</td></tr><tr><td class = \"rowNumber\" style = \"font-weight: bold; text-align: right;\">5</td><td style = \"text-align: right;\">20</td><td style = \"text-align: left;\">Not_married</td><td style = \"text-align: left;\">F</td><td style = \"text-align: right;\">40000</td><td style = \"text-align: right;\">2260</td><td style = \"text-align: right;\">2245</td><td style = \"text-align: right;\">0.316723</td></tr><tr><td class = \"rowNumber\" style = \"font-weight: bold; text-align: right;\">6</td><td style = \"text-align: right;\">20</td><td style = \"text-align: left;\">Not_married</td><td style = \"text-align: left;\">M</td><td style = \"text-align: right;\">40000</td><td style = \"text-align: right;\">2237</td><td style = \"text-align: right;\">2234</td><td style = \"text-align: right;\">0.0636669</td></tr><tr><td class = \"rowNumber\" style = \"font-weight: bold; text-align: right;\">7</td><td style = \"text-align: right;\">20</td><td style = \"text-align: left;\">Widowed</td><td style = \"text-align: left;\">F</td><td style = \"text-align: right;\">40000</td><td style = \"text-align: right;\">718</td><td style = \"text-align: right;\">751</td><td style = \"text-align: right;\">-1.23303</td></tr><tr><td class = \"rowNumber\" style = \"font-weight: bold; text-align: right;\">8</td><td style = \"text-align: right;\">20</td><td style = \"text-align: left;\">Widowed</td><td style = \"text-align: left;\">M</td><td style = \"text-align: right;\">40000</td><td style = \"text-align: right;\">746</td><td style = \"text-align: right;\">750</td><td style = \"text-align: right;\">-0.146633</td></tr><tr><td class = \"rowNumber\" style = \"font-weight: bold; text-align: right;\">9</td><td style = \"text-align: right;\">25</td><td style = \"text-align: left;\">Divorced</td><td style = \"text-align: left;\">F</td><td style = \"text-align: right;\">40000</td><td style = \"text-align: right;\">715</td><td style = \"text-align: right;\">756</td><td style = \"text-align: right;\">-1.53514</td></tr><tr><td class = \"rowNumber\" style = \"font-weight: bold; text-align: right;\">10</td><td style = \"text-align: right;\">25</td><td style = \"text-align: left;\">Divorced</td><td style = \"text-align: left;\">M</td><td style = \"text-align: right;\">40000</td><td style = \"text-align: right;\">753</td><td style = \"text-align: right;\">764</td><td style = \"text-align: right;\">-0.401366</td></tr><tr><td class = \"rowNumber\" style = \"font-weight: bold; text-align: right;\">11</td><td style = \"text-align: right;\">25</td><td style = \"text-align: left;\">Married</td><td style = \"text-align: left;\">F</td><td style = \"text-align: right;\">40000</td><td style = \"text-align: right;\">3736</td><td style = \"text-align: right;\">3798</td><td style = \"text-align: right;\">-1.02073</td></tr><tr><td class = \"rowNumber\" style = \"font-weight: bold; text-align: right;\">12</td><td style = \"text-align: right;\">25</td><td style = \"text-align: left;\">Married</td><td style = \"text-align: left;\">M</td><td style = \"text-align: right;\">40000</td><td style = \"text-align: right;\">3883</td><td style = \"text-align: right;\">3831</td><td style = \"text-align: right;\">0.839941</td></tr><tr><td class = \"rowNumber\" style = \"font-weight: bold; text-align: right;\">13</td><td style = \"text-align: right;\">25</td><td style = \"text-align: left;\">Not_married</td><td style = \"text-align: left;\">F</td><td style = \"text-align: right;\">40000</td><td style = \"text-align: right;\">2310</td><td style = \"text-align: right;\">2260</td><td style = \"text-align: right;\">1.04434</td></tr><tr><td style = \"text-align: right;\">&vellip;</td><td style = \"text-align: right;\">&vellip;</td><td style = \"text-align: right;\">&vellip;</td><td style = \"text-align: right;\">&vellip;</td><td style = \"text-align: right;\">&vellip;</td><td style = \"text-align: right;\">&vellip;</td><td style = \"text-align: right;\">&vellip;</td><td style = \"text-align: right;\">&vellip;</td></tr><tr><td class = \"rowNumber\" style = \"font-weight: bold; text-align: right;\">515</td><td style = \"text-align: right;\">80</td><td style = \"text-align: left;\">Married</td><td style = \"text-align: left;\">F</td><td style = \"text-align: right;\">80000</td><td style = \"text-align: right;\">1081</td><td style = \"text-align: right;\">1092</td><td style = \"text-align: right;\">-0.335169</td></tr><tr><td class = \"rowNumber\" style = \"font-weight: bold; text-align: right;\">516</td><td style = \"text-align: right;\">80</td><td style = \"text-align: left;\">Married</td><td style = \"text-align: left;\">M</td><td style = \"text-align: right;\">80000</td><td style = \"text-align: right;\">1146</td><td style = \"text-align: right;\">1108</td><td style = \"text-align: right;\">1.12466</td></tr><tr><td class = \"rowNumber\" style = \"font-weight: bold; text-align: right;\">517</td><td style = \"text-align: right;\">80</td><td style = \"text-align: left;\">Not_married</td><td style = \"text-align: left;\">F</td><td style = \"text-align: right;\">80000</td><td style = \"text-align: right;\">678</td><td style = \"text-align: right;\">650</td><td style = \"text-align: right;\">1.07655</td></tr><tr><td class = \"rowNumber\" style = \"font-weight: bold; text-align: right;\">518</td><td style = \"text-align: right;\">80</td><td style = \"text-align: left;\">Not_married</td><td style = \"text-align: left;\">M</td><td style = \"text-align: right;\">80000</td><td style = \"text-align: right;\">688</td><td style = \"text-align: right;\">661</td><td style = \"text-align: right;\">1.03055</td></tr><tr><td class = \"rowNumber\" style = \"font-weight: bold; text-align: right;\">519</td><td style = \"text-align: right;\">80</td><td style = \"text-align: left;\">Widowed</td><td style = \"text-align: left;\">F</td><td style = \"text-align: right;\">80000</td><td style = \"text-align: right;\">223</td><td style = \"text-align: right;\">217</td><td style = \"text-align: right;\">0.401939</td></tr><tr><td class = \"rowNumber\" style = \"font-weight: bold; text-align: right;\">520</td><td style = \"text-align: right;\">80</td><td style = \"text-align: left;\">Widowed</td><td style = \"text-align: left;\">M</td><td style = \"text-align: right;\">80000</td><td style = \"text-align: right;\">224</td><td style = \"text-align: right;\">222</td><td style = \"text-align: right;\">0.133681</td></tr><tr><td class = \"rowNumber\" style = \"font-weight: bold; text-align: right;\">521</td><td style = \"text-align: right;\">5</td><td style = \"text-align: left;\">missing</td><td style = \"text-align: left;\">F</td><td style = \"text-align: right;\">missing</td><td style = \"text-align: right;\">10088</td><td style = \"text-align: right;\">10088</td><td style = \"text-align: right;\">0.0</td></tr><tr><td class = \"rowNumber\" style = \"font-weight: bold; text-align: right;\">522</td><td style = \"text-align: right;\">5</td><td style = \"text-align: left;\">missing</td><td style = \"text-align: left;\">M</td><td style = \"text-align: right;\">missing</td><td style = \"text-align: right;\">10029</td><td style = \"text-align: right;\">10028</td><td style = \"text-align: right;\">0.0101567</td></tr><tr><td class = \"rowNumber\" style = \"font-weight: bold; text-align: right;\">523</td><td style = \"text-align: right;\">10</td><td style = \"text-align: left;\">missing</td><td style = \"text-align: left;\">F</td><td style = \"text-align: right;\">missing</td><td style = \"text-align: right;\">9964</td><td style = \"text-align: right;\">9963</td><td style = \"text-align: right;\">0.0101887</td></tr><tr><td class = \"rowNumber\" style = \"font-weight: bold; text-align: right;\">524</td><td style = \"text-align: right;\">10</td><td style = \"text-align: left;\">missing</td><td style = \"text-align: left;\">M</td><td style = \"text-align: right;\">missing</td><td style = \"text-align: right;\">9928</td><td style = \"text-align: right;\">9927</td><td style = \"text-align: right;\">0.0102065</td></tr><tr><td class = \"rowNumber\" style = \"font-weight: bold; text-align: right;\">525</td><td style = \"text-align: right;\">15</td><td style = \"text-align: left;\">missing</td><td style = \"text-align: left;\">F</td><td style = \"text-align: right;\">missing</td><td style = \"text-align: right;\">9966</td><td style = \"text-align: right;\">9965</td><td style = \"text-align: right;\">0.0101877</td></tr><tr><td class = \"rowNumber\" style = \"font-weight: bold; text-align: right;\">526</td><td style = \"text-align: right;\">15</td><td style = \"text-align: left;\">missing</td><td style = \"text-align: left;\">M</td><td style = \"text-align: right;\">missing</td><td style = \"text-align: right;\">10025</td><td style = \"text-align: right;\">10023</td><td style = \"text-align: right;\">0.0203174</td></tr></tbody></table></div>"
      ],
      "text/latex": [
       "\\begin{tabular}{r|ccccccc}\n",
       "\t& AGE & MARITAL\\_STATUS & SEX & INCOME & population & estimated\\_population & Z\\_score\\\\\n",
       "\t\\hline\n",
       "\t& Int64 & String? & Char & Int64? & Int64 & Int64? & Real\\\\\n",
       "\t\\hline\n",
       "\t1 & 20 & Divorced & F & 40000 & 769 & 751 & 0.64993 \\\\\n",
       "\t2 & 20 & Divorced & M & 40000 & 776 & 747 & 1.04239 \\\\\n",
       "\t3 & 20 & Married & F & 40000 & 3740 & 3773 & -0.543003 \\\\\n",
       "\t4 & 20 & Married & M & 40000 & 3698 & 3744 & -0.761146 \\\\\n",
       "\t5 & 20 & Not\\_married & F & 40000 & 2260 & 2245 & 0.316723 \\\\\n",
       "\t6 & 20 & Not\\_married & M & 40000 & 2237 & 2234 & 0.0636669 \\\\\n",
       "\t7 & 20 & Widowed & F & 40000 & 718 & 751 & -1.23303 \\\\\n",
       "\t8 & 20 & Widowed & M & 40000 & 746 & 750 & -0.146633 \\\\\n",
       "\t9 & 25 & Divorced & F & 40000 & 715 & 756 & -1.53514 \\\\\n",
       "\t10 & 25 & Divorced & M & 40000 & 753 & 764 & -0.401366 \\\\\n",
       "\t11 & 25 & Married & F & 40000 & 3736 & 3798 & -1.02073 \\\\\n",
       "\t12 & 25 & Married & M & 40000 & 3883 & 3831 & 0.839941 \\\\\n",
       "\t13 & 25 & Not\\_married & F & 40000 & 2310 & 2260 & 1.04434 \\\\\n",
       "\t14 & 25 & Not\\_married & M & 40000 & 2305 & 2286 & 0.397277 \\\\\n",
       "\t15 & 25 & Widowed & F & 40000 & 777 & 756 & 0.754348 \\\\\n",
       "\t16 & 25 & Widowed & M & 40000 & 759 & 768 & -0.327093 \\\\\n",
       "\t17 & 30 & Divorced & F & 40000 & 78 & 82 & -0.45297 \\\\\n",
       "\t18 & 30 & Divorced & M & 40000 & 93 & 81 & 1.24453 \\\\\n",
       "\t19 & 30 & Married & F & 40000 & 424 & 409 & 0.72898 \\\\\n",
       "\t20 & 30 & Married & M & 40000 & 418 & 408 & 0.489457 \\\\\n",
       "\t21 & 30 & Not\\_married & F & 40000 & 219 & 244 & -1.68996 \\\\\n",
       "\t22 & 30 & Not\\_married & M & 40000 & 230 & 243 & -0.857523 \\\\\n",
       "\t23 & 30 & Widowed & F & 40000 & 79 & 82 & -0.337571 \\\\\n",
       "\t24 & 30 & Widowed & M & 40000 & 80 & 82 & -0.223637 \\\\\n",
       "\t$\\dots$ & $\\dots$ & $\\dots$ & $\\dots$ & $\\dots$ & $\\dots$ & $\\dots$ & $\\dots$ \\\\\n",
       "\\end{tabular}\n"
      ],
      "text/plain": [
       "\u001b[1m526×7 DataFrame\u001b[0m\n",
       "\u001b[1m Row \u001b[0m│\u001b[1m AGE   \u001b[0m\u001b[1m MARITAL_STATUS \u001b[0m\u001b[1m SEX  \u001b[0m\u001b[1m INCOME  \u001b[0m\u001b[1m population \u001b[0m\u001b[1m estimated_population \u001b[0m\u001b[1m\u001b[0m ⋯\n",
       "     │\u001b[90m Int64 \u001b[0m\u001b[90m String?        \u001b[0m\u001b[90m Char \u001b[0m\u001b[90m Int64?  \u001b[0m\u001b[90m Int64      \u001b[0m\u001b[90m Int64?               \u001b[0m\u001b[90m\u001b[0m ⋯\n",
       "─────┼──────────────────────────────────────────────────────────────────────────\n",
       "   1 │    20  Divorced        F       40000         769                   751  ⋯\n",
       "   2 │    20  Divorced        M       40000         776                   747\n",
       "   3 │    20  Married         F       40000        3740                  3773\n",
       "   4 │    20  Married         M       40000        3698                  3744\n",
       "   5 │    20  Not_married     F       40000        2260                  2245  ⋯\n",
       "   6 │    20  Not_married     M       40000        2237                  2234\n",
       "   7 │    20  Widowed         F       40000         718                   751\n",
       "   8 │    20  Widowed         M       40000         746                   750\n",
       "  ⋮  │   ⋮          ⋮          ⋮       ⋮         ⋮                ⋮            ⋱\n",
       " 520 │    80  Widowed         M       80000         224                   222  ⋯\n",
       " 521 │     5 \u001b[90m missing        \u001b[0m F    \u001b[90m missing \u001b[0m      10088                 10088\n",
       " 522 │     5 \u001b[90m missing        \u001b[0m M    \u001b[90m missing \u001b[0m      10029                 10028\n",
       " 523 │    10 \u001b[90m missing        \u001b[0m F    \u001b[90m missing \u001b[0m       9964                  9963\n",
       " 524 │    10 \u001b[90m missing        \u001b[0m M    \u001b[90m missing \u001b[0m       9928                  9927  ⋯\n",
       " 525 │    15 \u001b[90m missing        \u001b[0m F    \u001b[90m missing \u001b[0m       9966                  9965\n",
       " 526 │    15 \u001b[90m missing        \u001b[0m M    \u001b[90m missing \u001b[0m      10025                 10023\n",
       "\u001b[36m                                                   1 column and 511 rows omitted\u001b[0m"
      ]
     },
     "metadata": {},
     "output_type": "display_data"
    }
   ],
   "source": [
    "res = validate_table(modified, independent_population)"
   ]
  },
  {
   "attachments": {},
   "cell_type": "markdown",
   "metadata": {},
   "source": [
    "### 1.5 Internal Validation"
   ]
  },
  {
   "attachments": {},
   "cell_type": "markdown",
   "metadata": {},
   "source": [
    "Once the tables have been generated, the internal validation can be performed. This is done to assess the distance between input contingency tables the the generated tables."
   ]
  },
  {
   "attachments": {},
   "cell_type": "markdown",
   "metadata": {},
   "source": [
    "#### Guo, Bhat, 2007"
   ]
  },
  {
   "cell_type": "code",
   "execution_count": 54,
   "metadata": {},
   "outputs": [
    {
     "data": {
      "text/plain": [
       "(\u001b[1m32×3 DataFrame\u001b[0m\n",
       "\u001b[1m Row \u001b[0m│\u001b[1m AGE   \u001b[0m\u001b[1m SEX  \u001b[0m\u001b[1m population \u001b[0m\n",
       "     │\u001b[90m Int64 \u001b[0m\u001b[90m Char \u001b[0m\u001b[90m Int64      \u001b[0m\n",
       "─────┼─────────────────────────\n",
       "   1 │     5  F          10089\n",
       "   2 │     5  M          10026\n",
       "   3 │    10  F           9965\n",
       "   4 │    10  M           9925\n",
       "   5 │    15  F           9966\n",
       "   6 │    15  M          10023\n",
       "   7 │    20  F          14930\n",
       "   8 │    20  M          14845\n",
       "  ⋮  │   ⋮     ⋮        ⋮\n",
       "  26 │    65  M           8296\n",
       "  27 │    70  F           8255\n",
       "  28 │    70  M           8147\n",
       "  29 │    75  F           8276\n",
       "  30 │    75  M           8260\n",
       "  31 │    80  F           8151\n",
       "  32 │    80  M           8279\n",
       "\u001b[36m                17 rows omitted\u001b[0m, \u001b[1m8×3 DataFrame\u001b[0m\n",
       "\u001b[1m Row \u001b[0m│\u001b[1m MARITAL_STATUS \u001b[0m\u001b[1m SEX  \u001b[0m\u001b[1m population \u001b[0m\n",
       "     │\u001b[90m String         \u001b[0m\u001b[90m Char \u001b[0m\u001b[90m Int64      \u001b[0m\n",
       "─────┼──────────────────────────────────\n",
       "   1 │ Divorced        F          14954\n",
       "   2 │ Divorced        M          15021\n",
       "   3 │ Married         F          75091\n",
       "   4 │ Married         M          75286\n",
       "   5 │ Not_married     F          44671\n",
       "   6 │ Not_married     M          44926\n",
       "   7 │ Widowed         F          14951\n",
       "   8 │ Widowed         M          15088, \u001b[1m5×2 DataFrame\u001b[0m\n",
       "\u001b[1m Row \u001b[0m│\u001b[1m INCOME \u001b[0m\u001b[1m population \u001b[0m\n",
       "     │\u001b[90m Int64  \u001b[0m\u001b[90m Int64      \u001b[0m\n",
       "─────┼────────────────────\n",
       "   1 │  40000       60280\n",
       "   2 │  50000       59410\n",
       "   3 │  60000       60204\n",
       "   4 │  70000       59989\n",
       "   5 │  80000       60105)"
      ]
     },
     "metadata": {},
     "output_type": "display_data"
    }
   ],
   "source": [
    "guo_bhat_age_sex, guo_bhat_sex_marital, guo_bhat_income = compute_marginals(guo_bhat)"
   ]
  },
  {
   "cell_type": "code",
   "execution_count": 55,
   "metadata": {},
   "outputs": [
    {
     "name": "stdout",
     "output_type": "stream",
     "text": [
      "=================\n",
      "=Cell statistics=\n",
      "=================\n",
      "Percentage of well fitting values at 0.95 confidence interval: 1.0\n",
      "Percentage of well fitting values at 0.90 confidence interval: 1.0\n",
      "\n",
      "==================\n",
      "=Table statistics=\n",
      "==================\n",
      "Statistic value equals: 0.006108342375349761\n",
      "Table is well fitting at 0.9 and 0.95 confidence interval.\n",
      "\n"
     ]
    },
    {
     "data": {
      "text/html": [
       "<div><div style = \"float: left;\"><span>32×5 DataFrame</span></div><div style = \"float: right;\"><span style = \"font-style: italic;\">7 rows omitted</span></div><div style = \"clear: both;\"></div></div><div class = \"data-frame\" style = \"overflow-x: scroll;\"><table class = \"data-frame\" style = \"margin-bottom: 6px;\"><thead><tr class = \"header\"><th class = \"rowNumber\" style = \"font-weight: bold; text-align: right;\">Row</th><th style = \"text-align: left;\">AGE</th><th style = \"text-align: left;\">SEX</th><th style = \"text-align: left;\">population</th><th style = \"text-align: left;\">estimated_population</th><th style = \"text-align: left;\">Z_score</th></tr><tr class = \"subheader headerLastRow\"><th class = \"rowNumber\" style = \"font-weight: bold; text-align: right;\"></th><th title = \"Int64\" style = \"text-align: left;\">Int64</th><th title = \"Char\" style = \"text-align: left;\">Char</th><th title = \"Int64\" style = \"text-align: left;\">Int64</th><th title = \"Union{Missing, Int64}\" style = \"text-align: left;\">Int64?</th><th title = \"Float64\" style = \"text-align: left;\">Float64</th></tr></thead><tbody><tr><td class = \"rowNumber\" style = \"font-weight: bold; text-align: right;\">1</td><td style = \"text-align: right;\">5</td><td style = \"text-align: left;\">F</td><td style = \"text-align: right;\">10088</td><td style = \"text-align: right;\">10089</td><td style = \"text-align: right;\">-0.010128</td></tr><tr><td class = \"rowNumber\" style = \"font-weight: bold; text-align: right;\">2</td><td style = \"text-align: right;\">5</td><td style = \"text-align: left;\">M</td><td style = \"text-align: right;\">10029</td><td style = \"text-align: right;\">10026</td><td style = \"text-align: right;\">0.0304702</td></tr><tr><td class = \"rowNumber\" style = \"font-weight: bold; text-align: right;\">3</td><td style = \"text-align: right;\">10</td><td style = \"text-align: left;\">F</td><td style = \"text-align: right;\">9964</td><td style = \"text-align: right;\">9965</td><td style = \"text-align: right;\">-0.0101887</td></tr><tr><td class = \"rowNumber\" style = \"font-weight: bold; text-align: right;\">4</td><td style = \"text-align: right;\">10</td><td style = \"text-align: left;\">M</td><td style = \"text-align: right;\">9928</td><td style = \"text-align: right;\">9925</td><td style = \"text-align: right;\">0.0306195</td></tr><tr><td class = \"rowNumber\" style = \"font-weight: bold; text-align: right;\">5</td><td style = \"text-align: right;\">15</td><td style = \"text-align: left;\">F</td><td style = \"text-align: right;\">9966</td><td style = \"text-align: right;\">9966</td><td style = \"text-align: right;\">0.0</td></tr><tr><td class = \"rowNumber\" style = \"font-weight: bold; text-align: right;\">6</td><td style = \"text-align: right;\">15</td><td style = \"text-align: left;\">M</td><td style = \"text-align: right;\">10025</td><td style = \"text-align: right;\">10023</td><td style = \"text-align: right;\">0.0203174</td></tr><tr><td class = \"rowNumber\" style = \"font-weight: bold; text-align: right;\">7</td><td style = \"text-align: right;\">20</td><td style = \"text-align: left;\">F</td><td style = \"text-align: right;\">14932</td><td style = \"text-align: right;\">14930</td><td style = \"text-align: right;\">0.0167903</td></tr><tr><td class = \"rowNumber\" style = \"font-weight: bold; text-align: right;\">8</td><td style = \"text-align: right;\">20</td><td style = \"text-align: left;\">M</td><td style = \"text-align: right;\">14846</td><td style = \"text-align: right;\">14845</td><td style = \"text-align: right;\">0.00841814</td></tr><tr><td class = \"rowNumber\" style = \"font-weight: bold; text-align: right;\">9</td><td style = \"text-align: right;\">25</td><td style = \"text-align: left;\">F</td><td style = \"text-align: right;\">15031</td><td style = \"text-align: right;\">15027</td><td style = \"text-align: right;\">0.0334756</td></tr><tr><td class = \"rowNumber\" style = \"font-weight: bold; text-align: right;\">10</td><td style = \"text-align: right;\">25</td><td style = \"text-align: left;\">M</td><td style = \"text-align: right;\">15191</td><td style = \"text-align: right;\">15193</td><td style = \"text-align: right;\">-0.0166541</td></tr><tr><td class = \"rowNumber\" style = \"font-weight: bold; text-align: right;\">11</td><td style = \"text-align: right;\">30</td><td style = \"text-align: left;\">F</td><td style = \"text-align: right;\">8157</td><td style = \"text-align: right;\">8158</td><td style = \"text-align: right;\">-0.0112259</td></tr><tr><td class = \"rowNumber\" style = \"font-weight: bold; text-align: right;\">12</td><td style = \"text-align: right;\">30</td><td style = \"text-align: left;\">M</td><td style = \"text-align: right;\">8137</td><td style = \"text-align: right;\">8137</td><td style = \"text-align: right;\">0.0</td></tr><tr><td class = \"rowNumber\" style = \"font-weight: bold; text-align: right;\">13</td><td style = \"text-align: right;\">35</td><td style = \"text-align: left;\">F</td><td style = \"text-align: right;\">8047</td><td style = \"text-align: right;\">8046</td><td style = \"text-align: right;\">0.0113002</td></tr><tr><td style = \"text-align: right;\">&vellip;</td><td style = \"text-align: right;\">&vellip;</td><td style = \"text-align: right;\">&vellip;</td><td style = \"text-align: right;\">&vellip;</td><td style = \"text-align: right;\">&vellip;</td><td style = \"text-align: right;\">&vellip;</td></tr><tr><td class = \"rowNumber\" style = \"font-weight: bold; text-align: right;\">21</td><td style = \"text-align: right;\">55</td><td style = \"text-align: left;\">F</td><td style = \"text-align: right;\">8120</td><td style = \"text-align: right;\">8121</td><td style = \"text-align: right;\">-0.0112507</td></tr><tr><td class = \"rowNumber\" style = \"font-weight: bold; text-align: right;\">22</td><td style = \"text-align: right;\">55</td><td style = \"text-align: left;\">M</td><td style = \"text-align: right;\">8267</td><td style = \"text-align: right;\">8266</td><td style = \"text-align: right;\">0.0111531</td></tr><tr><td class = \"rowNumber\" style = \"font-weight: bold; text-align: right;\">23</td><td style = \"text-align: right;\">60</td><td style = \"text-align: left;\">F</td><td style = \"text-align: right;\">8125</td><td style = \"text-align: right;\">8125</td><td style = \"text-align: right;\">0.0</td></tr><tr><td class = \"rowNumber\" style = \"font-weight: bold; text-align: right;\">24</td><td style = \"text-align: right;\">60</td><td style = \"text-align: left;\">M</td><td style = \"text-align: right;\">8291</td><td style = \"text-align: right;\">8290</td><td style = \"text-align: right;\">0.0111374</td></tr><tr><td class = \"rowNumber\" style = \"font-weight: bold; text-align: right;\">25</td><td style = \"text-align: right;\">65</td><td style = \"text-align: left;\">F</td><td style = \"text-align: right;\">8147</td><td style = \"text-align: right;\">8148</td><td style = \"text-align: right;\">-0.0112326</td></tr><tr><td class = \"rowNumber\" style = \"font-weight: bold; text-align: right;\">26</td><td style = \"text-align: right;\">65</td><td style = \"text-align: left;\">M</td><td style = \"text-align: right;\">8294</td><td style = \"text-align: right;\">8296</td><td style = \"text-align: right;\">-0.0222708</td></tr><tr><td class = \"rowNumber\" style = \"font-weight: bold; text-align: right;\">27</td><td style = \"text-align: right;\">70</td><td style = \"text-align: left;\">F</td><td style = \"text-align: right;\">8256</td><td style = \"text-align: right;\">8255</td><td style = \"text-align: right;\">0.0111603</td></tr><tr><td class = \"rowNumber\" style = \"font-weight: bold; text-align: right;\">28</td><td style = \"text-align: right;\">70</td><td style = \"text-align: left;\">M</td><td style = \"text-align: right;\">8147</td><td style = \"text-align: right;\">8147</td><td style = \"text-align: right;\">0.0</td></tr><tr><td class = \"rowNumber\" style = \"font-weight: bold; text-align: right;\">29</td><td style = \"text-align: right;\">75</td><td style = \"text-align: left;\">F</td><td style = \"text-align: right;\">8277</td><td style = \"text-align: right;\">8276</td><td style = \"text-align: right;\">0.0111465</td></tr><tr><td class = \"rowNumber\" style = \"font-weight: bold; text-align: right;\">30</td><td style = \"text-align: right;\">75</td><td style = \"text-align: left;\">M</td><td style = \"text-align: right;\">8261</td><td style = \"text-align: right;\">8260</td><td style = \"text-align: right;\">0.011157</td></tr><tr><td class = \"rowNumber\" style = \"font-weight: bold; text-align: right;\">31</td><td style = \"text-align: right;\">80</td><td style = \"text-align: left;\">F</td><td style = \"text-align: right;\">8151</td><td style = \"text-align: right;\">8151</td><td style = \"text-align: right;\">0.0</td></tr><tr><td class = \"rowNumber\" style = \"font-weight: bold; text-align: right;\">32</td><td style = \"text-align: right;\">80</td><td style = \"text-align: left;\">M</td><td style = \"text-align: right;\">8279</td><td style = \"text-align: right;\">8279</td><td style = \"text-align: right;\">0.0</td></tr></tbody></table></div>"
      ],
      "text/latex": [
       "\\begin{tabular}{r|ccccc}\n",
       "\t& AGE & SEX & population & estimated\\_population & Z\\_score\\\\\n",
       "\t\\hline\n",
       "\t& Int64 & Char & Int64 & Int64? & Float64\\\\\n",
       "\t\\hline\n",
       "\t1 & 5 & F & 10088 & 10089 & -0.010128 \\\\\n",
       "\t2 & 5 & M & 10029 & 10026 & 0.0304702 \\\\\n",
       "\t3 & 10 & F & 9964 & 9965 & -0.0101887 \\\\\n",
       "\t4 & 10 & M & 9928 & 9925 & 0.0306195 \\\\\n",
       "\t5 & 15 & F & 9966 & 9966 & 0.0 \\\\\n",
       "\t6 & 15 & M & 10025 & 10023 & 0.0203174 \\\\\n",
       "\t7 & 20 & F & 14932 & 14930 & 0.0167903 \\\\\n",
       "\t8 & 20 & M & 14846 & 14845 & 0.00841814 \\\\\n",
       "\t9 & 25 & F & 15031 & 15027 & 0.0334756 \\\\\n",
       "\t10 & 25 & M & 15191 & 15193 & -0.0166541 \\\\\n",
       "\t11 & 30 & F & 8157 & 8158 & -0.0112259 \\\\\n",
       "\t12 & 30 & M & 8137 & 8137 & 0.0 \\\\\n",
       "\t13 & 35 & F & 8047 & 8046 & 0.0113002 \\\\\n",
       "\t14 & 35 & M & 8321 & 8320 & 0.0111178 \\\\\n",
       "\t15 & 40 & F & 7927 & 7927 & 0.0 \\\\\n",
       "\t16 & 40 & M & 8116 & 8116 & 0.0 \\\\\n",
       "\t17 & 45 & F & 8249 & 8250 & -0.0111649 \\\\\n",
       "\t18 & 45 & M & 8169 & 8169 & 0.0 \\\\\n",
       "\t19 & 50 & F & 8233 & 8233 & 0.0 \\\\\n",
       "\t20 & 50 & M & 8029 & 8029 & 0.0 \\\\\n",
       "\t21 & 55 & F & 8120 & 8121 & -0.0112507 \\\\\n",
       "\t22 & 55 & M & 8267 & 8266 & 0.0111531 \\\\\n",
       "\t23 & 60 & F & 8125 & 8125 & 0.0 \\\\\n",
       "\t24 & 60 & M & 8291 & 8290 & 0.0111374 \\\\\n",
       "\t$\\dots$ & $\\dots$ & $\\dots$ & $\\dots$ & $\\dots$ & $\\dots$ \\\\\n",
       "\\end{tabular}\n"
      ],
      "text/plain": [
       "\u001b[1m32×5 DataFrame\u001b[0m\n",
       "\u001b[1m Row \u001b[0m│\u001b[1m AGE   \u001b[0m\u001b[1m SEX  \u001b[0m\u001b[1m population \u001b[0m\u001b[1m estimated_population \u001b[0m\u001b[1m Z_score     \u001b[0m\n",
       "     │\u001b[90m Int64 \u001b[0m\u001b[90m Char \u001b[0m\u001b[90m Int64      \u001b[0m\u001b[90m Int64?               \u001b[0m\u001b[90m Float64     \u001b[0m\n",
       "─────┼────────────────────────────────────────────────────────────\n",
       "   1 │     5  F          10088                 10089  -0.010128\n",
       "   2 │     5  M          10029                 10026   0.0304702\n",
       "   3 │    10  F           9964                  9965  -0.0101887\n",
       "   4 │    10  M           9928                  9925   0.0306195\n",
       "   5 │    15  F           9966                  9966   0.0\n",
       "   6 │    15  M          10025                 10023   0.0203174\n",
       "   7 │    20  F          14932                 14930   0.0167903\n",
       "   8 │    20  M          14846                 14845   0.00841814\n",
       "  ⋮  │   ⋮     ⋮        ⋮                ⋮                 ⋮\n",
       "  26 │    65  M           8294                  8296  -0.0222708\n",
       "  27 │    70  F           8256                  8255   0.0111603\n",
       "  28 │    70  M           8147                  8147   0.0\n",
       "  29 │    75  F           8277                  8276   0.0111465\n",
       "  30 │    75  M           8261                  8260   0.011157\n",
       "  31 │    80  F           8151                  8151   0.0\n",
       "  32 │    80  M           8279                  8279   0.0\n",
       "\u001b[36m                                                   17 rows omitted\u001b[0m"
      ]
     },
     "metadata": {},
     "output_type": "display_data"
    }
   ],
   "source": [
    "validate_table(guo_bhat_age_sex, independent_age_sex)"
   ]
  },
  {
   "cell_type": "code",
   "execution_count": 56,
   "metadata": {},
   "outputs": [
    {
     "name": "stdout",
     "output_type": "stream",
     "text": [
      "=================\n",
      "=Cell statistics=\n",
      "=================\n",
      "Percentage of well fitting values at 0.95 confidence interval: 0.0\n",
      "Percentage of well fitting values at 0.90 confidence interval: 0.0\n",
      "\n",
      "==================\n",
      "=Table statistics=\n",
      "==================\n",
      "Statistic value equals: 18452.229230875575\n",
      "Table is not well fitting.\n",
      "\n"
     ]
    },
    {
     "data": {
      "text/html": [
       "<div><div style = \"float: left;\"><span>8×5 DataFrame</span></div><div style = \"clear: both;\"></div></div><div class = \"data-frame\" style = \"overflow-x: scroll;\"><table class = \"data-frame\" style = \"margin-bottom: 6px;\"><thead><tr class = \"header\"><th class = \"rowNumber\" style = \"font-weight: bold; text-align: right;\">Row</th><th style = \"text-align: left;\">MARITAL_STATUS</th><th style = \"text-align: left;\">SEX</th><th style = \"text-align: left;\">population</th><th style = \"text-align: left;\">estimated_population</th><th style = \"text-align: left;\">Z_score</th></tr><tr class = \"subheader headerLastRow\"><th class = \"rowNumber\" style = \"font-weight: bold; text-align: right;\"></th><th title = \"Union{Missing, String}\" style = \"text-align: left;\">String?</th><th title = \"Char\" style = \"text-align: left;\">Char</th><th title = \"Int64\" style = \"text-align: left;\">Int64</th><th title = \"Union{Missing, Int64}\" style = \"text-align: left;\">Int64?</th><th title = \"Float64\" style = \"text-align: left;\">Float64</th></tr></thead><tbody><tr><td class = \"rowNumber\" style = \"font-weight: bold; text-align: right;\">1</td><td style = \"text-align: left;\">Divorced</td><td style = \"text-align: left;\">F</td><td style = \"text-align: right;\">11955</td><td style = \"text-align: right;\">14954</td><td style = \"text-align: right;\">-28.1382</td></tr><tr><td class = \"rowNumber\" style = \"font-weight: bold; text-align: right;\">2</td><td style = \"text-align: left;\">Divorced</td><td style = \"text-align: left;\">M</td><td style = \"text-align: right;\">12027</td><td style = \"text-align: right;\">15021</td><td style = \"text-align: right;\">-28.0115</td></tr><tr><td class = \"rowNumber\" style = \"font-weight: bold; text-align: right;\">3</td><td style = \"text-align: left;\">Married</td><td style = \"text-align: left;\">F</td><td style = \"text-align: right;\">60032</td><td style = \"text-align: right;\">75091</td><td style = \"text-align: right;\">-70.9762</td></tr><tr><td class = \"rowNumber\" style = \"font-weight: bold; text-align: right;\">4</td><td style = \"text-align: left;\">Married</td><td style = \"text-align: left;\">M</td><td style = \"text-align: right;\">60273</td><td style = \"text-align: right;\">75286</td><td style = \"text-align: right;\">-70.6651</td></tr><tr><td class = \"rowNumber\" style = \"font-weight: bold; text-align: right;\">5</td><td style = \"text-align: left;\">Not_married</td><td style = \"text-align: left;\">F</td><td style = \"text-align: right;\">35714</td><td style = \"text-align: right;\">44671</td><td style = \"text-align: right;\">-51.3724</td></tr><tr><td class = \"rowNumber\" style = \"font-weight: bold; text-align: right;\">6</td><td style = \"text-align: left;\">Not_married</td><td style = \"text-align: left;\">M</td><td style = \"text-align: right;\">35969</td><td style = \"text-align: right;\">44926</td><td style = \"text-align: right;\">-51.2219</td></tr><tr><td class = \"rowNumber\" style = \"font-weight: bold; text-align: right;\">7</td><td style = \"text-align: left;\">Widowed</td><td style = \"text-align: left;\">F</td><td style = \"text-align: right;\">11951</td><td style = \"text-align: right;\">14951</td><td style = \"text-align: right;\">-28.1521</td></tr><tr><td class = \"rowNumber\" style = \"font-weight: bold; text-align: right;\">8</td><td style = \"text-align: left;\">Widowed</td><td style = \"text-align: left;\">M</td><td style = \"text-align: right;\">12079</td><td style = \"text-align: right;\">15088</td><td style = \"text-align: right;\">-28.0944</td></tr></tbody></table></div>"
      ],
      "text/latex": [
       "\\begin{tabular}{r|ccccc}\n",
       "\t& MARITAL\\_STATUS & SEX & population & estimated\\_population & Z\\_score\\\\\n",
       "\t\\hline\n",
       "\t& String? & Char & Int64 & Int64? & Float64\\\\\n",
       "\t\\hline\n",
       "\t1 & Divorced & F & 11955 & 14954 & -28.1382 \\\\\n",
       "\t2 & Divorced & M & 12027 & 15021 & -28.0115 \\\\\n",
       "\t3 & Married & F & 60032 & 75091 & -70.9762 \\\\\n",
       "\t4 & Married & M & 60273 & 75286 & -70.6651 \\\\\n",
       "\t5 & Not\\_married & F & 35714 & 44671 & -51.3724 \\\\\n",
       "\t6 & Not\\_married & M & 35969 & 44926 & -51.2219 \\\\\n",
       "\t7 & Widowed & F & 11951 & 14951 & -28.1521 \\\\\n",
       "\t8 & Widowed & M & 12079 & 15088 & -28.0944 \\\\\n",
       "\\end{tabular}\n"
      ],
      "text/plain": [
       "\u001b[1m8×5 DataFrame\u001b[0m\n",
       "\u001b[1m Row \u001b[0m│\u001b[1m MARITAL_STATUS \u001b[0m\u001b[1m SEX  \u001b[0m\u001b[1m population \u001b[0m\u001b[1m estimated_population \u001b[0m\u001b[1m Z_score  \u001b[0m\n",
       "     │\u001b[90m String?        \u001b[0m\u001b[90m Char \u001b[0m\u001b[90m Int64      \u001b[0m\u001b[90m Int64?               \u001b[0m\u001b[90m Float64  \u001b[0m\n",
       "─────┼──────────────────────────────────────────────────────────────────\n",
       "   1 │ Divorced        F          11955                 14954  -28.1382\n",
       "   2 │ Divorced        M          12027                 15021  -28.0115\n",
       "   3 │ Married         F          60032                 75091  -70.9762\n",
       "   4 │ Married         M          60273                 75286  -70.6651\n",
       "   5 │ Not_married     F          35714                 44671  -51.3724\n",
       "   6 │ Not_married     M          35969                 44926  -51.2219\n",
       "   7 │ Widowed         F          11951                 14951  -28.1521\n",
       "   8 │ Widowed         M          12079                 15088  -28.0944"
      ]
     },
     "metadata": {},
     "output_type": "display_data"
    }
   ],
   "source": [
    "validate_table(guo_bhat_sex_marital, independent_sex_marital)"
   ]
  },
  {
   "cell_type": "code",
   "execution_count": 57,
   "metadata": {},
   "outputs": [
    {
     "name": "stdout",
     "output_type": "stream",
     "text": [
      "=================\n",
      "=Cell statistics=\n",
      "=================\n",
      "Percentage of well fitting values at 0.95 confidence interval: 0.0\n",
      "Percentage of well fitting values at 0.90 confidence interval: 0.0\n",
      "\n",
      "==================\n",
      "=Table statistics=\n",
      "==================\n",
      "Statistic value equals: 18742.666304999133\n",
      "Table is not well fitting.\n",
      "\n"
     ]
    },
    {
     "data": {
      "text/html": [
       "<div><div style = \"float: left;\"><span>5×4 DataFrame</span></div><div style = \"clear: both;\"></div></div><div class = \"data-frame\" style = \"overflow-x: scroll;\"><table class = \"data-frame\" style = \"margin-bottom: 6px;\"><thead><tr class = \"header\"><th class = \"rowNumber\" style = \"font-weight: bold; text-align: right;\">Row</th><th style = \"text-align: left;\">INCOME</th><th style = \"text-align: left;\">population</th><th style = \"text-align: left;\">estimated_population</th><th style = \"text-align: left;\">Z_score</th></tr><tr class = \"subheader headerLastRow\"><th class = \"rowNumber\" style = \"font-weight: bold; text-align: right;\"></th><th title = \"Union{Missing, Int64}\" style = \"text-align: left;\">Int64?</th><th title = \"Int64\" style = \"text-align: left;\">Int64</th><th title = \"Union{Missing, Int64}\" style = \"text-align: left;\">Int64?</th><th title = \"Float64\" style = \"text-align: left;\">Float64</th></tr></thead><tbody><tr><td class = \"rowNumber\" style = \"font-weight: bold; text-align: right;\">1</td><td style = \"text-align: right;\">40000</td><td style = \"text-align: right;\">48219</td><td style = \"text-align: right;\">60280</td><td style = \"text-align: right;\">-61.4437</td></tr><tr><td class = \"rowNumber\" style = \"font-weight: bold; text-align: right;\">2</td><td style = \"text-align: right;\">50000</td><td style = \"text-align: right;\">47529</td><td style = \"text-align: right;\">59410</td><td style = \"text-align: right;\">-60.8551</td></tr><tr><td class = \"rowNumber\" style = \"font-weight: bold; text-align: right;\">3</td><td style = \"text-align: right;\">60000</td><td style = \"text-align: right;\">48165</td><td style = \"text-align: right;\">60204</td><td style = \"text-align: right;\">-61.3573</td></tr><tr><td class = \"rowNumber\" style = \"font-weight: bold; text-align: right;\">4</td><td style = \"text-align: right;\">70000</td><td style = \"text-align: right;\">48003</td><td style = \"text-align: right;\">59989</td><td style = \"text-align: right;\">-61.1644</td></tr><tr><td class = \"rowNumber\" style = \"font-weight: bold; text-align: right;\">5</td><td style = \"text-align: right;\">80000</td><td style = \"text-align: right;\">48084</td><td style = \"text-align: right;\">60105</td><td style = \"text-align: right;\">-61.3042</td></tr></tbody></table></div>"
      ],
      "text/latex": [
       "\\begin{tabular}{r|cccc}\n",
       "\t& INCOME & population & estimated\\_population & Z\\_score\\\\\n",
       "\t\\hline\n",
       "\t& Int64? & Int64 & Int64? & Float64\\\\\n",
       "\t\\hline\n",
       "\t1 & 40000 & 48219 & 60280 & -61.4437 \\\\\n",
       "\t2 & 50000 & 47529 & 59410 & -60.8551 \\\\\n",
       "\t3 & 60000 & 48165 & 60204 & -61.3573 \\\\\n",
       "\t4 & 70000 & 48003 & 59989 & -61.1644 \\\\\n",
       "\t5 & 80000 & 48084 & 60105 & -61.3042 \\\\\n",
       "\\end{tabular}\n"
      ],
      "text/plain": [
       "\u001b[1m5×4 DataFrame\u001b[0m\n",
       "\u001b[1m Row \u001b[0m│\u001b[1m INCOME \u001b[0m\u001b[1m population \u001b[0m\u001b[1m estimated_population \u001b[0m\u001b[1m Z_score  \u001b[0m\n",
       "     │\u001b[90m Int64? \u001b[0m\u001b[90m Int64      \u001b[0m\u001b[90m Int64?               \u001b[0m\u001b[90m Float64  \u001b[0m\n",
       "─────┼────────────────────────────────────────────────────\n",
       "   1 │  40000       48219                 60280  -61.4437\n",
       "   2 │  50000       47529                 59410  -60.8551\n",
       "   3 │  60000       48165                 60204  -61.3573\n",
       "   4 │  70000       48003                 59989  -61.1644\n",
       "   5 │  80000       48084                 60105  -61.3042"
      ]
     },
     "metadata": {},
     "output_type": "display_data"
    }
   ],
   "source": [
    "validate_table(guo_bhat_income, independent_income)"
   ]
  },
  {
   "attachments": {},
   "cell_type": "markdown",
   "metadata": {},
   "source": [
    "#### Ponge, Enbergs, Schungel, Hellingrath, Karch, Ludwig, 2021"
   ]
  },
  {
   "cell_type": "code",
   "execution_count": 58,
   "metadata": {},
   "outputs": [
    {
     "data": {
      "text/plain": [
       "(\u001b[1m32×3 DataFrame\u001b[0m\n",
       "\u001b[1m Row \u001b[0m│\u001b[1m AGE   \u001b[0m\u001b[1m SEX  \u001b[0m\u001b[1m population \u001b[0m\n",
       "     │\u001b[90m Int64 \u001b[0m\u001b[90m Char \u001b[0m\u001b[90m Int64      \u001b[0m\n",
       "─────┼─────────────────────────\n",
       "   1 │     5  F          10086\n",
       "   2 │     5  M          10029\n",
       "   3 │    10  F           9965\n",
       "   4 │    10  M           9926\n",
       "   5 │    15  F           9966\n",
       "   6 │    15  M          10025\n",
       "   7 │    20  F          14932\n",
       "   8 │    20  M          14846\n",
       "  ⋮  │   ⋮     ⋮        ⋮\n",
       "  26 │    65  M           8294\n",
       "  27 │    70  F           8256\n",
       "  28 │    70  M           8149\n",
       "  29 │    75  F           8278\n",
       "  30 │    75  M           8260\n",
       "  31 │    80  F           8150\n",
       "  32 │    80  M           8279\n",
       "\u001b[36m                17 rows omitted\u001b[0m, \u001b[1m8×3 DataFrame\u001b[0m\n",
       "\u001b[1m Row \u001b[0m│\u001b[1m MARITAL_STATUS \u001b[0m\u001b[1m SEX  \u001b[0m\u001b[1m population \u001b[0m\n",
       "     │\u001b[90m String         \u001b[0m\u001b[90m Char \u001b[0m\u001b[90m Int64      \u001b[0m\n",
       "─────┼──────────────────────────────────\n",
       "   1 │ Divorced        F          14954\n",
       "   2 │ Divorced        M          15022\n",
       "   3 │ Married         F          75092\n",
       "   4 │ Married         M          75290\n",
       "   5 │ Not_married     F          44676\n",
       "   6 │ Not_married     M          44934\n",
       "   7 │ Widowed         F          14951\n",
       "   8 │ Widowed         M          15090, \u001b[1m5×2 DataFrame\u001b[0m\n",
       "\u001b[1m Row \u001b[0m│\u001b[1m INCOME \u001b[0m\u001b[1m population \u001b[0m\n",
       "     │\u001b[90m Int64  \u001b[0m\u001b[90m Int64      \u001b[0m\n",
       "─────┼────────────────────\n",
       "   1 │  40000       60271\n",
       "   2 │  50000       59410\n",
       "   3 │  60000       60207\n",
       "   4 │  70000       60017\n",
       "   5 │  80000       60104)"
      ]
     },
     "metadata": {},
     "output_type": "display_data"
    }
   ],
   "source": [
    "ponge_et_al_age_sex, ponge_et_al_sex_marital, ponge_et_al_income = compute_marginals(ponge_et_al)"
   ]
  },
  {
   "cell_type": "code",
   "execution_count": 59,
   "metadata": {},
   "outputs": [
    {
     "name": "stdout",
     "output_type": "stream",
     "text": [
      "=================\n",
      "=Cell statistics=\n",
      "=================\n",
      "Percentage of well fitting values at 0.95 confidence interval: 1.0\n",
      "Percentage of well fitting values at 0.90 confidence interval: 1.0\n",
      "\n",
      "==================\n",
      "=Table statistics=\n",
      "==================\n",
      "Statistic value equals: 0.0056659673041173034\n",
      "Table is well fitting at 0.9 and 0.95 confidence interval.\n",
      "\n"
     ]
    },
    {
     "data": {
      "text/html": [
       "<div><div style = \"float: left;\"><span>32×5 DataFrame</span></div><div style = \"float: right;\"><span style = \"font-style: italic;\">7 rows omitted</span></div><div style = \"clear: both;\"></div></div><div class = \"data-frame\" style = \"overflow-x: scroll;\"><table class = \"data-frame\" style = \"margin-bottom: 6px;\"><thead><tr class = \"header\"><th class = \"rowNumber\" style = \"font-weight: bold; text-align: right;\">Row</th><th style = \"text-align: left;\">AGE</th><th style = \"text-align: left;\">SEX</th><th style = \"text-align: left;\">population</th><th style = \"text-align: left;\">estimated_population</th><th style = \"text-align: left;\">Z_score</th></tr><tr class = \"subheader headerLastRow\"><th class = \"rowNumber\" style = \"font-weight: bold; text-align: right;\"></th><th title = \"Int64\" style = \"text-align: left;\">Int64</th><th title = \"Char\" style = \"text-align: left;\">Char</th><th title = \"Int64\" style = \"text-align: left;\">Int64</th><th title = \"Union{Missing, Int64}\" style = \"text-align: left;\">Int64?</th><th title = \"Float64\" style = \"text-align: left;\">Float64</th></tr></thead><tbody><tr><td class = \"rowNumber\" style = \"font-weight: bold; text-align: right;\">1</td><td style = \"text-align: right;\">5</td><td style = \"text-align: left;\">F</td><td style = \"text-align: right;\">10088</td><td style = \"text-align: right;\">10086</td><td style = \"text-align: right;\">0.0202561</td></tr><tr><td class = \"rowNumber\" style = \"font-weight: bold; text-align: right;\">2</td><td style = \"text-align: right;\">5</td><td style = \"text-align: left;\">M</td><td style = \"text-align: right;\">10029</td><td style = \"text-align: right;\">10029</td><td style = \"text-align: right;\">0.0</td></tr><tr><td class = \"rowNumber\" style = \"font-weight: bold; text-align: right;\">3</td><td style = \"text-align: right;\">10</td><td style = \"text-align: left;\">F</td><td style = \"text-align: right;\">9964</td><td style = \"text-align: right;\">9965</td><td style = \"text-align: right;\">-0.0101887</td></tr><tr><td class = \"rowNumber\" style = \"font-weight: bold; text-align: right;\">4</td><td style = \"text-align: right;\">10</td><td style = \"text-align: left;\">M</td><td style = \"text-align: right;\">9928</td><td style = \"text-align: right;\">9926</td><td style = \"text-align: right;\">0.020413</td></tr><tr><td class = \"rowNumber\" style = \"font-weight: bold; text-align: right;\">5</td><td style = \"text-align: right;\">15</td><td style = \"text-align: left;\">F</td><td style = \"text-align: right;\">9966</td><td style = \"text-align: right;\">9966</td><td style = \"text-align: right;\">0.0</td></tr><tr><td class = \"rowNumber\" style = \"font-weight: bold; text-align: right;\">6</td><td style = \"text-align: right;\">15</td><td style = \"text-align: left;\">M</td><td style = \"text-align: right;\">10025</td><td style = \"text-align: right;\">10025</td><td style = \"text-align: right;\">0.0</td></tr><tr><td class = \"rowNumber\" style = \"font-weight: bold; text-align: right;\">7</td><td style = \"text-align: right;\">20</td><td style = \"text-align: left;\">F</td><td style = \"text-align: right;\">14932</td><td style = \"text-align: right;\">14932</td><td style = \"text-align: right;\">0.0</td></tr><tr><td class = \"rowNumber\" style = \"font-weight: bold; text-align: right;\">8</td><td style = \"text-align: right;\">20</td><td style = \"text-align: left;\">M</td><td style = \"text-align: right;\">14846</td><td style = \"text-align: right;\">14846</td><td style = \"text-align: right;\">0.0</td></tr><tr><td class = \"rowNumber\" style = \"font-weight: bold; text-align: right;\">9</td><td style = \"text-align: right;\">25</td><td style = \"text-align: left;\">F</td><td style = \"text-align: right;\">15031</td><td style = \"text-align: right;\">15030</td><td style = \"text-align: right;\">0.00836889</td></tr><tr><td class = \"rowNumber\" style = \"font-weight: bold; text-align: right;\">10</td><td style = \"text-align: right;\">25</td><td style = \"text-align: left;\">M</td><td style = \"text-align: right;\">15191</td><td style = \"text-align: right;\">15191</td><td style = \"text-align: right;\">0.0</td></tr><tr><td class = \"rowNumber\" style = \"font-weight: bold; text-align: right;\">11</td><td style = \"text-align: right;\">30</td><td style = \"text-align: left;\">F</td><td style = \"text-align: right;\">8157</td><td style = \"text-align: right;\">8159</td><td style = \"text-align: right;\">-0.0224518</td></tr><tr><td class = \"rowNumber\" style = \"font-weight: bold; text-align: right;\">12</td><td style = \"text-align: right;\">30</td><td style = \"text-align: left;\">M</td><td style = \"text-align: right;\">8137</td><td style = \"text-align: right;\">8137</td><td style = \"text-align: right;\">0.0</td></tr><tr><td class = \"rowNumber\" style = \"font-weight: bold; text-align: right;\">13</td><td style = \"text-align: right;\">35</td><td style = \"text-align: left;\">F</td><td style = \"text-align: right;\">8047</td><td style = \"text-align: right;\">8049</td><td style = \"text-align: right;\">-0.0226005</td></tr><tr><td style = \"text-align: right;\">&vellip;</td><td style = \"text-align: right;\">&vellip;</td><td style = \"text-align: right;\">&vellip;</td><td style = \"text-align: right;\">&vellip;</td><td style = \"text-align: right;\">&vellip;</td><td style = \"text-align: right;\">&vellip;</td></tr><tr><td class = \"rowNumber\" style = \"font-weight: bold; text-align: right;\">21</td><td style = \"text-align: right;\">55</td><td style = \"text-align: left;\">F</td><td style = \"text-align: right;\">8120</td><td style = \"text-align: right;\">8120</td><td style = \"text-align: right;\">0.0</td></tr><tr><td class = \"rowNumber\" style = \"font-weight: bold; text-align: right;\">22</td><td style = \"text-align: right;\">55</td><td style = \"text-align: left;\">M</td><td style = \"text-align: right;\">8267</td><td style = \"text-align: right;\">8268</td><td style = \"text-align: right;\">-0.0111531</td></tr><tr><td class = \"rowNumber\" style = \"font-weight: bold; text-align: right;\">23</td><td style = \"text-align: right;\">60</td><td style = \"text-align: left;\">F</td><td style = \"text-align: right;\">8125</td><td style = \"text-align: right;\">8123</td><td style = \"text-align: right;\">0.0224947</td></tr><tr><td class = \"rowNumber\" style = \"font-weight: bold; text-align: right;\">24</td><td style = \"text-align: right;\">60</td><td style = \"text-align: left;\">M</td><td style = \"text-align: right;\">8291</td><td style = \"text-align: right;\">8293</td><td style = \"text-align: right;\">-0.0222747</td></tr><tr><td class = \"rowNumber\" style = \"font-weight: bold; text-align: right;\">25</td><td style = \"text-align: right;\">65</td><td style = \"text-align: left;\">F</td><td style = \"text-align: right;\">8147</td><td style = \"text-align: right;\">8149</td><td style = \"text-align: right;\">-0.0224652</td></tr><tr><td class = \"rowNumber\" style = \"font-weight: bold; text-align: right;\">26</td><td style = \"text-align: right;\">65</td><td style = \"text-align: left;\">M</td><td style = \"text-align: right;\">8294</td><td style = \"text-align: right;\">8294</td><td style = \"text-align: right;\">0.0</td></tr><tr><td class = \"rowNumber\" style = \"font-weight: bold; text-align: right;\">27</td><td style = \"text-align: right;\">70</td><td style = \"text-align: left;\">F</td><td style = \"text-align: right;\">8256</td><td style = \"text-align: right;\">8256</td><td style = \"text-align: right;\">0.0</td></tr><tr><td class = \"rowNumber\" style = \"font-weight: bold; text-align: right;\">28</td><td style = \"text-align: right;\">70</td><td style = \"text-align: left;\">M</td><td style = \"text-align: right;\">8147</td><td style = \"text-align: right;\">8149</td><td style = \"text-align: right;\">-0.0224652</td></tr><tr><td class = \"rowNumber\" style = \"font-weight: bold; text-align: right;\">29</td><td style = \"text-align: right;\">75</td><td style = \"text-align: left;\">F</td><td style = \"text-align: right;\">8277</td><td style = \"text-align: right;\">8278</td><td style = \"text-align: right;\">-0.0111465</td></tr><tr><td class = \"rowNumber\" style = \"font-weight: bold; text-align: right;\">30</td><td style = \"text-align: right;\">75</td><td style = \"text-align: left;\">M</td><td style = \"text-align: right;\">8261</td><td style = \"text-align: right;\">8260</td><td style = \"text-align: right;\">0.011157</td></tr><tr><td class = \"rowNumber\" style = \"font-weight: bold; text-align: right;\">31</td><td style = \"text-align: right;\">80</td><td style = \"text-align: left;\">F</td><td style = \"text-align: right;\">8151</td><td style = \"text-align: right;\">8150</td><td style = \"text-align: right;\">0.0112299</td></tr><tr><td class = \"rowNumber\" style = \"font-weight: bold; text-align: right;\">32</td><td style = \"text-align: right;\">80</td><td style = \"text-align: left;\">M</td><td style = \"text-align: right;\">8279</td><td style = \"text-align: right;\">8279</td><td style = \"text-align: right;\">0.0</td></tr></tbody></table></div>"
      ],
      "text/latex": [
       "\\begin{tabular}{r|ccccc}\n",
       "\t& AGE & SEX & population & estimated\\_population & Z\\_score\\\\\n",
       "\t\\hline\n",
       "\t& Int64 & Char & Int64 & Int64? & Float64\\\\\n",
       "\t\\hline\n",
       "\t1 & 5 & F & 10088 & 10086 & 0.0202561 \\\\\n",
       "\t2 & 5 & M & 10029 & 10029 & 0.0 \\\\\n",
       "\t3 & 10 & F & 9964 & 9965 & -0.0101887 \\\\\n",
       "\t4 & 10 & M & 9928 & 9926 & 0.020413 \\\\\n",
       "\t5 & 15 & F & 9966 & 9966 & 0.0 \\\\\n",
       "\t6 & 15 & M & 10025 & 10025 & 0.0 \\\\\n",
       "\t7 & 20 & F & 14932 & 14932 & 0.0 \\\\\n",
       "\t8 & 20 & M & 14846 & 14846 & 0.0 \\\\\n",
       "\t9 & 25 & F & 15031 & 15030 & 0.00836889 \\\\\n",
       "\t10 & 25 & M & 15191 & 15191 & 0.0 \\\\\n",
       "\t11 & 30 & F & 8157 & 8159 & -0.0224518 \\\\\n",
       "\t12 & 30 & M & 8137 & 8137 & 0.0 \\\\\n",
       "\t13 & 35 & F & 8047 & 8049 & -0.0226005 \\\\\n",
       "\t14 & 35 & M & 8321 & 8321 & 0.0 \\\\\n",
       "\t15 & 40 & F & 7927 & 7928 & -0.0113831 \\\\\n",
       "\t16 & 40 & M & 8116 & 8118 & -0.0225068 \\\\\n",
       "\t17 & 45 & F & 8249 & 8250 & -0.0111649 \\\\\n",
       "\t18 & 45 & M & 8169 & 8170 & -0.0112179 \\\\\n",
       "\t19 & 50 & F & 8233 & 8232 & 0.0111754 \\\\\n",
       "\t20 & 50 & M & 8029 & 8030 & -0.0113125 \\\\\n",
       "\t21 & 55 & F & 8120 & 8120 & 0.0 \\\\\n",
       "\t22 & 55 & M & 8267 & 8268 & -0.0111531 \\\\\n",
       "\t23 & 60 & F & 8125 & 8123 & 0.0224947 \\\\\n",
       "\t24 & 60 & M & 8291 & 8293 & -0.0222747 \\\\\n",
       "\t$\\dots$ & $\\dots$ & $\\dots$ & $\\dots$ & $\\dots$ & $\\dots$ \\\\\n",
       "\\end{tabular}\n"
      ],
      "text/plain": [
       "\u001b[1m32×5 DataFrame\u001b[0m\n",
       "\u001b[1m Row \u001b[0m│\u001b[1m AGE   \u001b[0m\u001b[1m SEX  \u001b[0m\u001b[1m population \u001b[0m\u001b[1m estimated_population \u001b[0m\u001b[1m Z_score     \u001b[0m\n",
       "     │\u001b[90m Int64 \u001b[0m\u001b[90m Char \u001b[0m\u001b[90m Int64      \u001b[0m\u001b[90m Int64?               \u001b[0m\u001b[90m Float64     \u001b[0m\n",
       "─────┼────────────────────────────────────────────────────────────\n",
       "   1 │     5  F          10088                 10086   0.0202561\n",
       "   2 │     5  M          10029                 10029   0.0\n",
       "   3 │    10  F           9964                  9965  -0.0101887\n",
       "   4 │    10  M           9928                  9926   0.020413\n",
       "   5 │    15  F           9966                  9966   0.0\n",
       "   6 │    15  M          10025                 10025   0.0\n",
       "   7 │    20  F          14932                 14932   0.0\n",
       "   8 │    20  M          14846                 14846   0.0\n",
       "  ⋮  │   ⋮     ⋮        ⋮                ⋮                 ⋮\n",
       "  26 │    65  M           8294                  8294   0.0\n",
       "  27 │    70  F           8256                  8256   0.0\n",
       "  28 │    70  M           8147                  8149  -0.0224652\n",
       "  29 │    75  F           8277                  8278  -0.0111465\n",
       "  30 │    75  M           8261                  8260   0.011157\n",
       "  31 │    80  F           8151                  8150   0.0112299\n",
       "  32 │    80  M           8279                  8279   0.0\n",
       "\u001b[36m                                                   17 rows omitted\u001b[0m"
      ]
     },
     "metadata": {},
     "output_type": "display_data"
    }
   ],
   "source": [
    "validate_table(ponge_et_al_age_sex, independent_age_sex)"
   ]
  },
  {
   "cell_type": "code",
   "execution_count": 60,
   "metadata": {},
   "outputs": [
    {
     "name": "stdout",
     "output_type": "stream",
     "text": [
      "=================\n",
      "=Cell statistics=\n",
      "=================\n",
      "Percentage of well fitting values at 0.95 confidence interval: 0.0\n",
      "Percentage of well fitting values at 0.90 confidence interval: 0.0\n",
      "\n",
      "==================\n",
      "=Table statistics=\n",
      "==================\n",
      "Statistic value equals: 18464.76948572168\n",
      "Table is not well fitting.\n",
      "\n"
     ]
    },
    {
     "data": {
      "text/html": [
       "<div><div style = \"float: left;\"><span>8×5 DataFrame</span></div><div style = \"clear: both;\"></div></div><div class = \"data-frame\" style = \"overflow-x: scroll;\"><table class = \"data-frame\" style = \"margin-bottom: 6px;\"><thead><tr class = \"header\"><th class = \"rowNumber\" style = \"font-weight: bold; text-align: right;\">Row</th><th style = \"text-align: left;\">MARITAL_STATUS</th><th style = \"text-align: left;\">SEX</th><th style = \"text-align: left;\">population</th><th style = \"text-align: left;\">estimated_population</th><th style = \"text-align: left;\">Z_score</th></tr><tr class = \"subheader headerLastRow\"><th class = \"rowNumber\" style = \"font-weight: bold; text-align: right;\"></th><th title = \"Union{Missing, String}\" style = \"text-align: left;\">String?</th><th title = \"Char\" style = \"text-align: left;\">Char</th><th title = \"Int64\" style = \"text-align: left;\">Int64</th><th title = \"Union{Missing, Int64}\" style = \"text-align: left;\">Int64?</th><th title = \"Float64\" style = \"text-align: left;\">Float64</th></tr></thead><tbody><tr><td class = \"rowNumber\" style = \"font-weight: bold; text-align: right;\">1</td><td style = \"text-align: left;\">Divorced</td><td style = \"text-align: left;\">F</td><td style = \"text-align: right;\">11955</td><td style = \"text-align: right;\">14954</td><td style = \"text-align: right;\">-28.1382</td></tr><tr><td class = \"rowNumber\" style = \"font-weight: bold; text-align: right;\">2</td><td style = \"text-align: left;\">Divorced</td><td style = \"text-align: left;\">M</td><td style = \"text-align: right;\">12027</td><td style = \"text-align: right;\">15022</td><td style = \"text-align: right;\">-28.0209</td></tr><tr><td class = \"rowNumber\" style = \"font-weight: bold; text-align: right;\">3</td><td style = \"text-align: left;\">Married</td><td style = \"text-align: left;\">F</td><td style = \"text-align: right;\">60032</td><td style = \"text-align: right;\">75092</td><td style = \"text-align: right;\">-70.9809</td></tr><tr><td class = \"rowNumber\" style = \"font-weight: bold; text-align: right;\">4</td><td style = \"text-align: left;\">Married</td><td style = \"text-align: left;\">M</td><td style = \"text-align: right;\">60273</td><td style = \"text-align: right;\">75290</td><td style = \"text-align: right;\">-70.6839</td></tr><tr><td class = \"rowNumber\" style = \"font-weight: bold; text-align: right;\">5</td><td style = \"text-align: left;\">Not_married</td><td style = \"text-align: left;\">F</td><td style = \"text-align: right;\">35714</td><td style = \"text-align: right;\">44676</td><td style = \"text-align: right;\">-51.4011</td></tr><tr><td class = \"rowNumber\" style = \"font-weight: bold; text-align: right;\">6</td><td style = \"text-align: left;\">Not_married</td><td style = \"text-align: left;\">M</td><td style = \"text-align: right;\">35969</td><td style = \"text-align: right;\">44934</td><td style = \"text-align: right;\">-51.2677</td></tr><tr><td class = \"rowNumber\" style = \"font-weight: bold; text-align: right;\">7</td><td style = \"text-align: left;\">Widowed</td><td style = \"text-align: left;\">F</td><td style = \"text-align: right;\">11951</td><td style = \"text-align: right;\">14951</td><td style = \"text-align: right;\">-28.1521</td></tr><tr><td class = \"rowNumber\" style = \"font-weight: bold; text-align: right;\">8</td><td style = \"text-align: left;\">Widowed</td><td style = \"text-align: left;\">M</td><td style = \"text-align: right;\">12079</td><td style = \"text-align: right;\">15090</td><td style = \"text-align: right;\">-28.1131</td></tr></tbody></table></div>"
      ],
      "text/latex": [
       "\\begin{tabular}{r|ccccc}\n",
       "\t& MARITAL\\_STATUS & SEX & population & estimated\\_population & Z\\_score\\\\\n",
       "\t\\hline\n",
       "\t& String? & Char & Int64 & Int64? & Float64\\\\\n",
       "\t\\hline\n",
       "\t1 & Divorced & F & 11955 & 14954 & -28.1382 \\\\\n",
       "\t2 & Divorced & M & 12027 & 15022 & -28.0209 \\\\\n",
       "\t3 & Married & F & 60032 & 75092 & -70.9809 \\\\\n",
       "\t4 & Married & M & 60273 & 75290 & -70.6839 \\\\\n",
       "\t5 & Not\\_married & F & 35714 & 44676 & -51.4011 \\\\\n",
       "\t6 & Not\\_married & M & 35969 & 44934 & -51.2677 \\\\\n",
       "\t7 & Widowed & F & 11951 & 14951 & -28.1521 \\\\\n",
       "\t8 & Widowed & M & 12079 & 15090 & -28.1131 \\\\\n",
       "\\end{tabular}\n"
      ],
      "text/plain": [
       "\u001b[1m8×5 DataFrame\u001b[0m\n",
       "\u001b[1m Row \u001b[0m│\u001b[1m MARITAL_STATUS \u001b[0m\u001b[1m SEX  \u001b[0m\u001b[1m population \u001b[0m\u001b[1m estimated_population \u001b[0m\u001b[1m Z_score  \u001b[0m\n",
       "     │\u001b[90m String?        \u001b[0m\u001b[90m Char \u001b[0m\u001b[90m Int64      \u001b[0m\u001b[90m Int64?               \u001b[0m\u001b[90m Float64  \u001b[0m\n",
       "─────┼──────────────────────────────────────────────────────────────────\n",
       "   1 │ Divorced        F          11955                 14954  -28.1382\n",
       "   2 │ Divorced        M          12027                 15022  -28.0209\n",
       "   3 │ Married         F          60032                 75092  -70.9809\n",
       "   4 │ Married         M          60273                 75290  -70.6839\n",
       "   5 │ Not_married     F          35714                 44676  -51.4011\n",
       "   6 │ Not_married     M          35969                 44934  -51.2677\n",
       "   7 │ Widowed         F          11951                 14951  -28.1521\n",
       "   8 │ Widowed         M          12079                 15090  -28.1131"
      ]
     },
     "metadata": {},
     "output_type": "display_data"
    }
   ],
   "source": [
    "validate_table(ponge_et_al_sex_marital, independent_sex_marital)"
   ]
  },
  {
   "cell_type": "code",
   "execution_count": 61,
   "metadata": {},
   "outputs": [
    {
     "name": "stdout",
     "output_type": "stream",
     "text": [
      "=================\n",
      "=Cell statistics=\n",
      "=================\n",
      "Percentage of well fitting values at 0.95 confidence interval: 0.0\n",
      "Percentage of well fitting values at 0.90 confidence interval: 0.0\n",
      "\n",
      "==================\n",
      "=Table statistics=\n",
      "==================\n",
      "Statistic value equals: 18755.784492158546\n",
      "Table is not well fitting.\n",
      "\n"
     ]
    },
    {
     "data": {
      "text/html": [
       "<div><div style = \"float: left;\"><span>5×4 DataFrame</span></div><div style = \"clear: both;\"></div></div><div class = \"data-frame\" style = \"overflow-x: scroll;\"><table class = \"data-frame\" style = \"margin-bottom: 6px;\"><thead><tr class = \"header\"><th class = \"rowNumber\" style = \"font-weight: bold; text-align: right;\">Row</th><th style = \"text-align: left;\">INCOME</th><th style = \"text-align: left;\">population</th><th style = \"text-align: left;\">estimated_population</th><th style = \"text-align: left;\">Z_score</th></tr><tr class = \"subheader headerLastRow\"><th class = \"rowNumber\" style = \"font-weight: bold; text-align: right;\"></th><th title = \"Union{Missing, Int64}\" style = \"text-align: left;\">Int64?</th><th title = \"Int64\" style = \"text-align: left;\">Int64</th><th title = \"Union{Missing, Int64}\" style = \"text-align: left;\">Int64?</th><th title = \"Float64\" style = \"text-align: left;\">Float64</th></tr></thead><tbody><tr><td class = \"rowNumber\" style = \"font-weight: bold; text-align: right;\">1</td><td style = \"text-align: right;\">40000</td><td style = \"text-align: right;\">48219</td><td style = \"text-align: right;\">60271</td><td style = \"text-align: right;\">-61.3978</td></tr><tr><td class = \"rowNumber\" style = \"font-weight: bold; text-align: right;\">2</td><td style = \"text-align: right;\">50000</td><td style = \"text-align: right;\">47529</td><td style = \"text-align: right;\">59410</td><td style = \"text-align: right;\">-60.8551</td></tr><tr><td class = \"rowNumber\" style = \"font-weight: bold; text-align: right;\">3</td><td style = \"text-align: right;\">60000</td><td style = \"text-align: right;\">48165</td><td style = \"text-align: right;\">60207</td><td style = \"text-align: right;\">-61.3726</td></tr><tr><td class = \"rowNumber\" style = \"font-weight: bold; text-align: right;\">4</td><td style = \"text-align: right;\">70000</td><td style = \"text-align: right;\">48003</td><td style = \"text-align: right;\">60017</td><td style = \"text-align: right;\">-61.3073</td></tr><tr><td class = \"rowNumber\" style = \"font-weight: bold; text-align: right;\">5</td><td style = \"text-align: right;\">80000</td><td style = \"text-align: right;\">48084</td><td style = \"text-align: right;\">60104</td><td style = \"text-align: right;\">-61.2991</td></tr></tbody></table></div>"
      ],
      "text/latex": [
       "\\begin{tabular}{r|cccc}\n",
       "\t& INCOME & population & estimated\\_population & Z\\_score\\\\\n",
       "\t\\hline\n",
       "\t& Int64? & Int64 & Int64? & Float64\\\\\n",
       "\t\\hline\n",
       "\t1 & 40000 & 48219 & 60271 & -61.3978 \\\\\n",
       "\t2 & 50000 & 47529 & 59410 & -60.8551 \\\\\n",
       "\t3 & 60000 & 48165 & 60207 & -61.3726 \\\\\n",
       "\t4 & 70000 & 48003 & 60017 & -61.3073 \\\\\n",
       "\t5 & 80000 & 48084 & 60104 & -61.2991 \\\\\n",
       "\\end{tabular}\n"
      ],
      "text/plain": [
       "\u001b[1m5×4 DataFrame\u001b[0m\n",
       "\u001b[1m Row \u001b[0m│\u001b[1m INCOME \u001b[0m\u001b[1m population \u001b[0m\u001b[1m estimated_population \u001b[0m\u001b[1m Z_score  \u001b[0m\n",
       "     │\u001b[90m Int64? \u001b[0m\u001b[90m Int64      \u001b[0m\u001b[90m Int64?               \u001b[0m\u001b[90m Float64  \u001b[0m\n",
       "─────┼────────────────────────────────────────────────────\n",
       "   1 │  40000       48219                 60271  -61.3978\n",
       "   2 │  50000       47529                 59410  -60.8551\n",
       "   3 │  60000       48165                 60207  -61.3726\n",
       "   4 │  70000       48003                 60017  -61.3073\n",
       "   5 │  80000       48084                 60104  -61.2991"
      ]
     },
     "metadata": {},
     "output_type": "display_data"
    }
   ],
   "source": [
    "validate_table(ponge_et_al_income, independent_income)"
   ]
  },
  {
   "attachments": {},
   "cell_type": "markdown",
   "metadata": {},
   "source": [
    "#### Modified"
   ]
  },
  {
   "cell_type": "code",
   "execution_count": 62,
   "metadata": {},
   "outputs": [
    {
     "data": {
      "text/plain": [
       "(\u001b[1m32×3 DataFrame\u001b[0m\n",
       "\u001b[1m Row \u001b[0m│\u001b[1m AGE    \u001b[0m\u001b[1m SEX   \u001b[0m\u001b[1m population \u001b[0m\n",
       "     │\u001b[90m Int64? \u001b[0m\u001b[90m Char? \u001b[0m\u001b[90m Int64      \u001b[0m\n",
       "─────┼───────────────────────────\n",
       "   1 │      5  F           10088\n",
       "   2 │      5  M           10028\n",
       "   3 │     10  F            9963\n",
       "   4 │     10  M            9927\n",
       "   5 │     15  F            9965\n",
       "   6 │     15  M           10023\n",
       "   7 │     20  F           14932\n",
       "   8 │     20  M           14846\n",
       "  ⋮  │   ⋮       ⋮        ⋮\n",
       "  26 │     65  M            8294\n",
       "  27 │     70  F            8255\n",
       "  28 │     70  M            8146\n",
       "  29 │     75  F            8277\n",
       "  30 │     75  M            8262\n",
       "  31 │     80  F            8149\n",
       "  32 │     80  M            8280\n",
       "\u001b[36m                  17 rows omitted\u001b[0m, \u001b[1m8×3 DataFrame\u001b[0m\n",
       "\u001b[1m Row \u001b[0m│\u001b[1m MARITAL_STATUS \u001b[0m\u001b[1m SEX   \u001b[0m\u001b[1m population \u001b[0m\n",
       "     │\u001b[90m String?        \u001b[0m\u001b[90m Char? \u001b[0m\u001b[90m Int64      \u001b[0m\n",
       "─────┼───────────────────────────────────\n",
       "   1 │ Divorced        F           11952\n",
       "   2 │ Divorced        M           12027\n",
       "   3 │ Married         F           60028\n",
       "   4 │ Married         M           60274\n",
       "   5 │ Not_married     F           35717\n",
       "   6 │ Not_married     M           35969\n",
       "   7 │ Widowed         F           11947\n",
       "   8 │ Widowed         M           12080, \u001b[1m5×2 DataFrame\u001b[0m\n",
       "\u001b[1m Row \u001b[0m│\u001b[1m INCOME \u001b[0m\u001b[1m population \u001b[0m\n",
       "     │\u001b[90m Int64? \u001b[0m\u001b[90m Int64      \u001b[0m\n",
       "─────┼────────────────────\n",
       "   1 │  40000       48217\n",
       "   2 │  50000       47527\n",
       "   3 │  60000       48166\n",
       "   4 │  70000       48001\n",
       "   5 │  80000       48083)"
      ]
     },
     "metadata": {},
     "output_type": "display_data"
    }
   ],
   "source": [
    "modified_age_sex, modified_sex_marital, modified_income = compute_marginals(modified)"
   ]
  },
  {
   "cell_type": "code",
   "execution_count": 63,
   "metadata": {},
   "outputs": [
    {
     "name": "stdout",
     "output_type": "stream",
     "text": [
      "=================\n",
      "=Cell statistics=\n",
      "=================\n",
      "Percentage of well fitting values at 0.95 confidence interval: 1.0\n",
      "Percentage of well fitting values at 0.90 confidence interval: 1.0\n",
      "\n",
      "==================\n",
      "=Table statistics=\n",
      "==================\n",
      "Statistic value equals: 0.004042217643011466\n",
      "Table is well fitting at 0.9 and 0.95 confidence interval.\n",
      "\n"
     ]
    },
    {
     "data": {
      "text/html": [
       "<div><div style = \"float: left;\"><span>32×5 DataFrame</span></div><div style = \"float: right;\"><span style = \"font-style: italic;\">7 rows omitted</span></div><div style = \"clear: both;\"></div></div><div class = \"data-frame\" style = \"overflow-x: scroll;\"><table class = \"data-frame\" style = \"margin-bottom: 6px;\"><thead><tr class = \"header\"><th class = \"rowNumber\" style = \"font-weight: bold; text-align: right;\">Row</th><th style = \"text-align: left;\">AGE</th><th style = \"text-align: left;\">SEX</th><th style = \"text-align: left;\">population</th><th style = \"text-align: left;\">estimated_population</th><th style = \"text-align: left;\">Z_score</th></tr><tr class = \"subheader headerLastRow\"><th class = \"rowNumber\" style = \"font-weight: bold; text-align: right;\"></th><th title = \"Int64\" style = \"text-align: left;\">Int64</th><th title = \"Char\" style = \"text-align: left;\">Char</th><th title = \"Int64\" style = \"text-align: left;\">Int64</th><th title = \"Union{Missing, Int64}\" style = \"text-align: left;\">Int64?</th><th title = \"Float64\" style = \"text-align: left;\">Float64</th></tr></thead><tbody><tr><td class = \"rowNumber\" style = \"font-weight: bold; text-align: right;\">1</td><td style = \"text-align: right;\">5</td><td style = \"text-align: left;\">F</td><td style = \"text-align: right;\">10088</td><td style = \"text-align: right;\">10088</td><td style = \"text-align: right;\">0.0</td></tr><tr><td class = \"rowNumber\" style = \"font-weight: bold; text-align: right;\">2</td><td style = \"text-align: right;\">5</td><td style = \"text-align: left;\">M</td><td style = \"text-align: right;\">10029</td><td style = \"text-align: right;\">10028</td><td style = \"text-align: right;\">0.0101567</td></tr><tr><td class = \"rowNumber\" style = \"font-weight: bold; text-align: right;\">3</td><td style = \"text-align: right;\">10</td><td style = \"text-align: left;\">F</td><td style = \"text-align: right;\">9964</td><td style = \"text-align: right;\">9963</td><td style = \"text-align: right;\">0.0101887</td></tr><tr><td class = \"rowNumber\" style = \"font-weight: bold; text-align: right;\">4</td><td style = \"text-align: right;\">10</td><td style = \"text-align: left;\">M</td><td style = \"text-align: right;\">9928</td><td style = \"text-align: right;\">9927</td><td style = \"text-align: right;\">0.0102065</td></tr><tr><td class = \"rowNumber\" style = \"font-weight: bold; text-align: right;\">5</td><td style = \"text-align: right;\">15</td><td style = \"text-align: left;\">F</td><td style = \"text-align: right;\">9966</td><td style = \"text-align: right;\">9965</td><td style = \"text-align: right;\">0.0101877</td></tr><tr><td class = \"rowNumber\" style = \"font-weight: bold; text-align: right;\">6</td><td style = \"text-align: right;\">15</td><td style = \"text-align: left;\">M</td><td style = \"text-align: right;\">10025</td><td style = \"text-align: right;\">10023</td><td style = \"text-align: right;\">0.0203174</td></tr><tr><td class = \"rowNumber\" style = \"font-weight: bold; text-align: right;\">7</td><td style = \"text-align: right;\">20</td><td style = \"text-align: left;\">F</td><td style = \"text-align: right;\">14932</td><td style = \"text-align: right;\">14932</td><td style = \"text-align: right;\">0.0</td></tr><tr><td class = \"rowNumber\" style = \"font-weight: bold; text-align: right;\">8</td><td style = \"text-align: right;\">20</td><td style = \"text-align: left;\">M</td><td style = \"text-align: right;\">14846</td><td style = \"text-align: right;\">14846</td><td style = \"text-align: right;\">0.0</td></tr><tr><td class = \"rowNumber\" style = \"font-weight: bold; text-align: right;\">9</td><td style = \"text-align: right;\">25</td><td style = \"text-align: left;\">F</td><td style = \"text-align: right;\">15031</td><td style = \"text-align: right;\">15030</td><td style = \"text-align: right;\">0.00836889</td></tr><tr><td class = \"rowNumber\" style = \"font-weight: bold; text-align: right;\">10</td><td style = \"text-align: right;\">25</td><td style = \"text-align: left;\">M</td><td style = \"text-align: right;\">15191</td><td style = \"text-align: right;\">15191</td><td style = \"text-align: right;\">0.0</td></tr><tr><td class = \"rowNumber\" style = \"font-weight: bold; text-align: right;\">11</td><td style = \"text-align: right;\">30</td><td style = \"text-align: left;\">F</td><td style = \"text-align: right;\">8157</td><td style = \"text-align: right;\">8156</td><td style = \"text-align: right;\">0.0112259</td></tr><tr><td class = \"rowNumber\" style = \"font-weight: bold; text-align: right;\">12</td><td style = \"text-align: right;\">30</td><td style = \"text-align: left;\">M</td><td style = \"text-align: right;\">8137</td><td style = \"text-align: right;\">8138</td><td style = \"text-align: right;\">-0.0112393</td></tr><tr><td class = \"rowNumber\" style = \"font-weight: bold; text-align: right;\">13</td><td style = \"text-align: right;\">35</td><td style = \"text-align: left;\">F</td><td style = \"text-align: right;\">8047</td><td style = \"text-align: right;\">8047</td><td style = \"text-align: right;\">0.0</td></tr><tr><td style = \"text-align: right;\">&vellip;</td><td style = \"text-align: right;\">&vellip;</td><td style = \"text-align: right;\">&vellip;</td><td style = \"text-align: right;\">&vellip;</td><td style = \"text-align: right;\">&vellip;</td><td style = \"text-align: right;\">&vellip;</td></tr><tr><td class = \"rowNumber\" style = \"font-weight: bold; text-align: right;\">21</td><td style = \"text-align: right;\">55</td><td style = \"text-align: left;\">F</td><td style = \"text-align: right;\">8120</td><td style = \"text-align: right;\">8118</td><td style = \"text-align: right;\">0.0225014</td></tr><tr><td class = \"rowNumber\" style = \"font-weight: bold; text-align: right;\">22</td><td style = \"text-align: right;\">55</td><td style = \"text-align: left;\">M</td><td style = \"text-align: right;\">8267</td><td style = \"text-align: right;\">8267</td><td style = \"text-align: right;\">0.0</td></tr><tr><td class = \"rowNumber\" style = \"font-weight: bold; text-align: right;\">23</td><td style = \"text-align: right;\">60</td><td style = \"text-align: left;\">F</td><td style = \"text-align: right;\">8125</td><td style = \"text-align: right;\">8126</td><td style = \"text-align: right;\">-0.0112474</td></tr><tr><td class = \"rowNumber\" style = \"font-weight: bold; text-align: right;\">24</td><td style = \"text-align: right;\">60</td><td style = \"text-align: left;\">M</td><td style = \"text-align: right;\">8291</td><td style = \"text-align: right;\">8290</td><td style = \"text-align: right;\">0.0111374</td></tr><tr><td class = \"rowNumber\" style = \"font-weight: bold; text-align: right;\">25</td><td style = \"text-align: right;\">65</td><td style = \"text-align: left;\">F</td><td style = \"text-align: right;\">8147</td><td style = \"text-align: right;\">8146</td><td style = \"text-align: right;\">0.0112326</td></tr><tr><td class = \"rowNumber\" style = \"font-weight: bold; text-align: right;\">26</td><td style = \"text-align: right;\">65</td><td style = \"text-align: left;\">M</td><td style = \"text-align: right;\">8294</td><td style = \"text-align: right;\">8294</td><td style = \"text-align: right;\">0.0</td></tr><tr><td class = \"rowNumber\" style = \"font-weight: bold; text-align: right;\">27</td><td style = \"text-align: right;\">70</td><td style = \"text-align: left;\">F</td><td style = \"text-align: right;\">8256</td><td style = \"text-align: right;\">8255</td><td style = \"text-align: right;\">0.0111603</td></tr><tr><td class = \"rowNumber\" style = \"font-weight: bold; text-align: right;\">28</td><td style = \"text-align: right;\">70</td><td style = \"text-align: left;\">M</td><td style = \"text-align: right;\">8147</td><td style = \"text-align: right;\">8146</td><td style = \"text-align: right;\">0.0112326</td></tr><tr><td class = \"rowNumber\" style = \"font-weight: bold; text-align: right;\">29</td><td style = \"text-align: right;\">75</td><td style = \"text-align: left;\">F</td><td style = \"text-align: right;\">8277</td><td style = \"text-align: right;\">8277</td><td style = \"text-align: right;\">0.0</td></tr><tr><td class = \"rowNumber\" style = \"font-weight: bold; text-align: right;\">30</td><td style = \"text-align: right;\">75</td><td style = \"text-align: left;\">M</td><td style = \"text-align: right;\">8261</td><td style = \"text-align: right;\">8262</td><td style = \"text-align: right;\">-0.011157</td></tr><tr><td class = \"rowNumber\" style = \"font-weight: bold; text-align: right;\">31</td><td style = \"text-align: right;\">80</td><td style = \"text-align: left;\">F</td><td style = \"text-align: right;\">8151</td><td style = \"text-align: right;\">8149</td><td style = \"text-align: right;\">0.0224598</td></tr><tr><td class = \"rowNumber\" style = \"font-weight: bold; text-align: right;\">32</td><td style = \"text-align: right;\">80</td><td style = \"text-align: left;\">M</td><td style = \"text-align: right;\">8279</td><td style = \"text-align: right;\">8280</td><td style = \"text-align: right;\">-0.0111452</td></tr></tbody></table></div>"
      ],
      "text/latex": [
       "\\begin{tabular}{r|ccccc}\n",
       "\t& AGE & SEX & population & estimated\\_population & Z\\_score\\\\\n",
       "\t\\hline\n",
       "\t& Int64 & Char & Int64 & Int64? & Float64\\\\\n",
       "\t\\hline\n",
       "\t1 & 5 & F & 10088 & 10088 & 0.0 \\\\\n",
       "\t2 & 5 & M & 10029 & 10028 & 0.0101567 \\\\\n",
       "\t3 & 10 & F & 9964 & 9963 & 0.0101887 \\\\\n",
       "\t4 & 10 & M & 9928 & 9927 & 0.0102065 \\\\\n",
       "\t5 & 15 & F & 9966 & 9965 & 0.0101877 \\\\\n",
       "\t6 & 15 & M & 10025 & 10023 & 0.0203174 \\\\\n",
       "\t7 & 20 & F & 14932 & 14932 & 0.0 \\\\\n",
       "\t8 & 20 & M & 14846 & 14846 & 0.0 \\\\\n",
       "\t9 & 25 & F & 15031 & 15030 & 0.00836889 \\\\\n",
       "\t10 & 25 & M & 15191 & 15191 & 0.0 \\\\\n",
       "\t11 & 30 & F & 8157 & 8156 & 0.0112259 \\\\\n",
       "\t12 & 30 & M & 8137 & 8138 & -0.0112393 \\\\\n",
       "\t13 & 35 & F & 8047 & 8047 & 0.0 \\\\\n",
       "\t14 & 35 & M & 8321 & 8322 & -0.0111178 \\\\\n",
       "\t15 & 40 & F & 7927 & 7928 & -0.0113831 \\\\\n",
       "\t16 & 40 & M & 8116 & 8117 & -0.0112534 \\\\\n",
       "\t17 & 45 & F & 8249 & 8249 & 0.0 \\\\\n",
       "\t18 & 45 & M & 8169 & 8168 & 0.0112179 \\\\\n",
       "\t19 & 50 & F & 8233 & 8231 & 0.0223508 \\\\\n",
       "\t20 & 50 & M & 8029 & 8029 & 0.0 \\\\\n",
       "\t21 & 55 & F & 8120 & 8118 & 0.0225014 \\\\\n",
       "\t22 & 55 & M & 8267 & 8267 & 0.0 \\\\\n",
       "\t23 & 60 & F & 8125 & 8126 & -0.0112474 \\\\\n",
       "\t24 & 60 & M & 8291 & 8290 & 0.0111374 \\\\\n",
       "\t$\\dots$ & $\\dots$ & $\\dots$ & $\\dots$ & $\\dots$ & $\\dots$ \\\\\n",
       "\\end{tabular}\n"
      ],
      "text/plain": [
       "\u001b[1m32×5 DataFrame\u001b[0m\n",
       "\u001b[1m Row \u001b[0m│\u001b[1m AGE   \u001b[0m\u001b[1m SEX  \u001b[0m\u001b[1m population \u001b[0m\u001b[1m estimated_population \u001b[0m\u001b[1m Z_score     \u001b[0m\n",
       "     │\u001b[90m Int64 \u001b[0m\u001b[90m Char \u001b[0m\u001b[90m Int64      \u001b[0m\u001b[90m Int64?               \u001b[0m\u001b[90m Float64     \u001b[0m\n",
       "─────┼────────────────────────────────────────────────────────────\n",
       "   1 │     5  F          10088                 10088   0.0\n",
       "   2 │     5  M          10029                 10028   0.0101567\n",
       "   3 │    10  F           9964                  9963   0.0101887\n",
       "   4 │    10  M           9928                  9927   0.0102065\n",
       "   5 │    15  F           9966                  9965   0.0101877\n",
       "   6 │    15  M          10025                 10023   0.0203174\n",
       "   7 │    20  F          14932                 14932   0.0\n",
       "   8 │    20  M          14846                 14846   0.0\n",
       "  ⋮  │   ⋮     ⋮        ⋮                ⋮                 ⋮\n",
       "  26 │    65  M           8294                  8294   0.0\n",
       "  27 │    70  F           8256                  8255   0.0111603\n",
       "  28 │    70  M           8147                  8146   0.0112326\n",
       "  29 │    75  F           8277                  8277   0.0\n",
       "  30 │    75  M           8261                  8262  -0.011157\n",
       "  31 │    80  F           8151                  8149   0.0224598\n",
       "  32 │    80  M           8279                  8280  -0.0111452\n",
       "\u001b[36m                                                   17 rows omitted\u001b[0m"
      ]
     },
     "metadata": {},
     "output_type": "display_data"
    }
   ],
   "source": [
    "validate_table(modified_age_sex, independent_age_sex)"
   ]
  },
  {
   "cell_type": "code",
   "execution_count": 64,
   "metadata": {},
   "outputs": [
    {
     "name": "stdout",
     "output_type": "stream",
     "text": [
      "=================\n",
      "=Cell statistics=\n",
      "=================\n",
      "Percentage of well fitting values at 0.95 confidence interval: 1.0\n",
      "Percentage of well fitting values at 0.90 confidence interval: 1.0\n",
      "\n",
      "==================\n",
      "=Table statistics=\n",
      "==================\n",
      "Statistic value equals: 0.002962067521548061\n",
      "Table is well fitting at 0.9 and 0.95 confidence interval.\n",
      "\n"
     ]
    },
    {
     "data": {
      "text/html": [
       "<div><div style = \"float: left;\"><span>8×5 DataFrame</span></div><div style = \"clear: both;\"></div></div><div class = \"data-frame\" style = \"overflow-x: scroll;\"><table class = \"data-frame\" style = \"margin-bottom: 6px;\"><thead><tr class = \"header\"><th class = \"rowNumber\" style = \"font-weight: bold; text-align: right;\">Row</th><th style = \"text-align: left;\">MARITAL_STATUS</th><th style = \"text-align: left;\">SEX</th><th style = \"text-align: left;\">population</th><th style = \"text-align: left;\">estimated_population</th><th style = \"text-align: left;\">Z_score</th></tr><tr class = \"subheader headerLastRow\"><th class = \"rowNumber\" style = \"font-weight: bold; text-align: right;\"></th><th title = \"Union{Missing, String}\" style = \"text-align: left;\">String?</th><th title = \"Char\" style = \"text-align: left;\">Char</th><th title = \"Int64\" style = \"text-align: left;\">Int64</th><th title = \"Union{Missing, Int64}\" style = \"text-align: left;\">Int64?</th><th title = \"Float64\" style = \"text-align: left;\">Float64</th></tr></thead><tbody><tr><td class = \"rowNumber\" style = \"font-weight: bold; text-align: right;\">1</td><td style = \"text-align: left;\">Divorced</td><td style = \"text-align: left;\">F</td><td style = \"text-align: right;\">11955</td><td style = \"text-align: right;\">11952</td><td style = \"text-align: right;\">0.0281476</td></tr><tr><td class = \"rowNumber\" style = \"font-weight: bold; text-align: right;\">2</td><td style = \"text-align: left;\">Divorced</td><td style = \"text-align: left;\">M</td><td style = \"text-align: right;\">12027</td><td style = \"text-align: right;\">12027</td><td style = \"text-align: right;\">0.0</td></tr><tr><td class = \"rowNumber\" style = \"font-weight: bold; text-align: right;\">3</td><td style = \"text-align: left;\">Married</td><td style = \"text-align: left;\">F</td><td style = \"text-align: right;\">60032</td><td style = \"text-align: right;\">60028</td><td style = \"text-align: right;\">0.0188528</td></tr><tr><td class = \"rowNumber\" style = \"font-weight: bold; text-align: right;\">4</td><td style = \"text-align: left;\">Married</td><td style = \"text-align: left;\">M</td><td style = \"text-align: right;\">60273</td><td style = \"text-align: right;\">60274</td><td style = \"text-align: right;\">-0.00470693</td></tr><tr><td class = \"rowNumber\" style = \"font-weight: bold; text-align: right;\">5</td><td style = \"text-align: left;\">Not_married</td><td style = \"text-align: left;\">F</td><td style = \"text-align: right;\">35714</td><td style = \"text-align: right;\">35717</td><td style = \"text-align: right;\">-0.0172063</td></tr><tr><td class = \"rowNumber\" style = \"font-weight: bold; text-align: right;\">6</td><td style = \"text-align: left;\">Not_married</td><td style = \"text-align: left;\">M</td><td style = \"text-align: right;\">35969</td><td style = \"text-align: right;\">35969</td><td style = \"text-align: right;\">0.0</td></tr><tr><td class = \"rowNumber\" style = \"font-weight: bold; text-align: right;\">7</td><td style = \"text-align: left;\">Widowed</td><td style = \"text-align: left;\">F</td><td style = \"text-align: right;\">11951</td><td style = \"text-align: right;\">11947</td><td style = \"text-align: right;\">0.0375361</td></tr><tr><td class = \"rowNumber\" style = \"font-weight: bold; text-align: right;\">8</td><td style = \"text-align: left;\">Widowed</td><td style = \"text-align: left;\">M</td><td style = \"text-align: right;\">12079</td><td style = \"text-align: right;\">12080</td><td style = \"text-align: right;\">-0.0093368</td></tr></tbody></table></div>"
      ],
      "text/latex": [
       "\\begin{tabular}{r|ccccc}\n",
       "\t& MARITAL\\_STATUS & SEX & population & estimated\\_population & Z\\_score\\\\\n",
       "\t\\hline\n",
       "\t& String? & Char & Int64 & Int64? & Float64\\\\\n",
       "\t\\hline\n",
       "\t1 & Divorced & F & 11955 & 11952 & 0.0281476 \\\\\n",
       "\t2 & Divorced & M & 12027 & 12027 & 0.0 \\\\\n",
       "\t3 & Married & F & 60032 & 60028 & 0.0188528 \\\\\n",
       "\t4 & Married & M & 60273 & 60274 & -0.00470693 \\\\\n",
       "\t5 & Not\\_married & F & 35714 & 35717 & -0.0172063 \\\\\n",
       "\t6 & Not\\_married & M & 35969 & 35969 & 0.0 \\\\\n",
       "\t7 & Widowed & F & 11951 & 11947 & 0.0375361 \\\\\n",
       "\t8 & Widowed & M & 12079 & 12080 & -0.0093368 \\\\\n",
       "\\end{tabular}\n"
      ],
      "text/plain": [
       "\u001b[1m8×5 DataFrame\u001b[0m\n",
       "\u001b[1m Row \u001b[0m│\u001b[1m MARITAL_STATUS \u001b[0m\u001b[1m SEX  \u001b[0m\u001b[1m population \u001b[0m\u001b[1m estimated_population \u001b[0m\u001b[1m Z_score     \u001b[0m\n",
       "     │\u001b[90m String?        \u001b[0m\u001b[90m Char \u001b[0m\u001b[90m Int64      \u001b[0m\u001b[90m Int64?               \u001b[0m\u001b[90m Float64     \u001b[0m\n",
       "─────┼─────────────────────────────────────────────────────────────────────\n",
       "   1 │ Divorced        F          11955                 11952   0.0281476\n",
       "   2 │ Divorced        M          12027                 12027   0.0\n",
       "   3 │ Married         F          60032                 60028   0.0188528\n",
       "   4 │ Married         M          60273                 60274  -0.00470693\n",
       "   5 │ Not_married     F          35714                 35717  -0.0172063\n",
       "   6 │ Not_married     M          35969                 35969   0.0\n",
       "   7 │ Widowed         F          11951                 11947   0.0375361\n",
       "   8 │ Widowed         M          12079                 12080  -0.0093368"
      ]
     },
     "metadata": {},
     "output_type": "display_data"
    }
   ],
   "source": [
    "validate_table(modified_sex_marital, independent_sex_marital)"
   ]
  },
  {
   "cell_type": "code",
   "execution_count": 65,
   "metadata": {},
   "outputs": [
    {
     "name": "stdout",
     "output_type": "stream",
     "text": [
      "=================\n",
      "=Cell statistics=\n",
      "=================\n",
      "Percentage of well fitting values at 0.95 confidence interval: 1.0\n",
      "Percentage of well fitting values at 0.90 confidence interval: 1.0\n",
      "\n",
      "==================\n",
      "=Table statistics=\n",
      "==================\n",
      "Statistic value equals: 0.0003648975849099926\n",
      "Table is well fitting at 0.9 and 0.95 confidence interval.\n",
      "\n"
     ]
    },
    {
     "data": {
      "text/html": [
       "<div><div style = \"float: left;\"><span>5×4 DataFrame</span></div><div style = \"clear: both;\"></div></div><div class = \"data-frame\" style = \"overflow-x: scroll;\"><table class = \"data-frame\" style = \"margin-bottom: 6px;\"><thead><tr class = \"header\"><th class = \"rowNumber\" style = \"font-weight: bold; text-align: right;\">Row</th><th style = \"text-align: left;\">INCOME</th><th style = \"text-align: left;\">population</th><th style = \"text-align: left;\">estimated_population</th><th style = \"text-align: left;\">Z_score</th></tr><tr class = \"subheader headerLastRow\"><th class = \"rowNumber\" style = \"font-weight: bold; text-align: right;\"></th><th title = \"Union{Missing, Int64}\" style = \"text-align: left;\">Int64?</th><th title = \"Int64\" style = \"text-align: left;\">Int64</th><th title = \"Union{Missing, Int64}\" style = \"text-align: left;\">Int64?</th><th title = \"Float64\" style = \"text-align: left;\">Float64</th></tr></thead><tbody><tr><td class = \"rowNumber\" style = \"font-weight: bold; text-align: right;\">1</td><td style = \"text-align: right;\">40000</td><td style = \"text-align: right;\">48219</td><td style = \"text-align: right;\">48217</td><td style = \"text-align: right;\">0.0101888</td></tr><tr><td class = \"rowNumber\" style = \"font-weight: bold; text-align: right;\">2</td><td style = \"text-align: right;\">50000</td><td style = \"text-align: right;\">47529</td><td style = \"text-align: right;\">47527</td><td style = \"text-align: right;\">0.0102441</td></tr><tr><td class = \"rowNumber\" style = \"font-weight: bold; text-align: right;\">3</td><td style = \"text-align: right;\">60000</td><td style = \"text-align: right;\">48165</td><td style = \"text-align: right;\">48166</td><td style = \"text-align: right;\">-0.00509655</td></tr><tr><td class = \"rowNumber\" style = \"font-weight: bold; text-align: right;\">4</td><td style = \"text-align: right;\">70000</td><td style = \"text-align: right;\">48003</td><td style = \"text-align: right;\">48001</td><td style = \"text-align: right;\">0.010206</td></tr><tr><td class = \"rowNumber\" style = \"font-weight: bold; text-align: right;\">5</td><td style = \"text-align: right;\">80000</td><td style = \"text-align: right;\">48084</td><td style = \"text-align: right;\">48083</td><td style = \"text-align: right;\">0.00509976</td></tr></tbody></table></div>"
      ],
      "text/latex": [
       "\\begin{tabular}{r|cccc}\n",
       "\t& INCOME & population & estimated\\_population & Z\\_score\\\\\n",
       "\t\\hline\n",
       "\t& Int64? & Int64 & Int64? & Float64\\\\\n",
       "\t\\hline\n",
       "\t1 & 40000 & 48219 & 48217 & 0.0101888 \\\\\n",
       "\t2 & 50000 & 47529 & 47527 & 0.0102441 \\\\\n",
       "\t3 & 60000 & 48165 & 48166 & -0.00509655 \\\\\n",
       "\t4 & 70000 & 48003 & 48001 & 0.010206 \\\\\n",
       "\t5 & 80000 & 48084 & 48083 & 0.00509976 \\\\\n",
       "\\end{tabular}\n"
      ],
      "text/plain": [
       "\u001b[1m5×4 DataFrame\u001b[0m\n",
       "\u001b[1m Row \u001b[0m│\u001b[1m INCOME \u001b[0m\u001b[1m population \u001b[0m\u001b[1m estimated_population \u001b[0m\u001b[1m Z_score     \u001b[0m\n",
       "     │\u001b[90m Int64? \u001b[0m\u001b[90m Int64      \u001b[0m\u001b[90m Int64?               \u001b[0m\u001b[90m Float64     \u001b[0m\n",
       "─────┼───────────────────────────────────────────────────────\n",
       "   1 │  40000       48219                 48217   0.0101888\n",
       "   2 │  50000       47529                 47527   0.0102441\n",
       "   3 │  60000       48165                 48166  -0.00509655\n",
       "   4 │  70000       48003                 48001   0.010206\n",
       "   5 │  80000       48084                 48083   0.00509976"
      ]
     },
     "metadata": {},
     "output_type": "display_data"
    }
   ],
   "source": [
    "validate_table(modified_income, independent_income)"
   ]
  }
 ],
 "metadata": {
  "kernelspec": {
   "display_name": "Julia 1.8.5",
   "language": "julia",
   "name": "julia-1.8"
  },
  "language_info": {
   "file_extension": ".jl",
   "mimetype": "application/julia",
   "name": "julia",
   "version": "1.8.5"
  }
 },
 "nbformat": 4,
 "nbformat_minor": 2
}
