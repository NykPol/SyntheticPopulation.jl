{
 "cells": [
  {
   "cell_type": "code",
   "execution_count": 22,
   "metadata": {},
   "outputs": [
    {
     "name": "stderr",
     "output_type": "stream",
     "text": [
      "WARNING: replacing module SyntheticPopulation.\n"
     ]
    }
   ],
   "source": [
    "include(\"../src/SyntheticPopulation.jl\")\n",
    "include(\"utils.jl\")\n",
    "using .SyntheticPopulation\n",
    "using DataFrames\n",
    "using StatsBase"
   ]
  },
  {
   "attachments": {},
   "cell_type": "markdown",
   "metadata": {},
   "source": [
    "# Summary:\n",
    "Sample-free IPF algorithm is not efficient for creating joint distributions of the attributes that are highly dependent."
   ]
  },
  {
   "attachments": {},
   "cell_type": "markdown",
   "metadata": {},
   "source": [
    "# 1. Population with dependent variables"
   ]
  },
  {
   "attachments": {},
   "cell_type": "markdown",
   "metadata": {},
   "source": [
    "### 1.1. Generate target population with dependent variables\n",
    "First we generate target population that we'll try to synthesize using available algorithms. The variables marital status and income are highly dependent on sex."
   ]
  },
  {
   "cell_type": "code",
   "execution_count": 23,
   "metadata": {
    "scrolled": false
   },
   "outputs": [
    {
     "data": {
      "text/html": [
       "<div><div style = \"float: left;\"><span>526×5 DataFrame</span></div><div style = \"float: right;\"><span style = \"font-style: italic;\">501 rows omitted</span></div><div style = \"clear: both;\"></div></div><div class = \"data-frame\" style = \"overflow-x: scroll;\"><table class = \"data-frame\" style = \"margin-bottom: 6px;\"><thead><tr class = \"header\"><th class = \"rowNumber\" style = \"font-weight: bold; text-align: right;\">Row</th><th style = \"text-align: left;\">AGE</th><th style = \"text-align: left;\">MARITAL_STATUS</th><th style = \"text-align: left;\">SEX</th><th style = \"text-align: left;\">INCOME</th><th style = \"text-align: left;\">population</th></tr><tr class = \"subheader headerLastRow\"><th class = \"rowNumber\" style = \"font-weight: bold; text-align: right;\"></th><th title = \"Int64\" style = \"text-align: left;\">Int64</th><th title = \"Union{Missing, String}\" style = \"text-align: left;\">String?</th><th title = \"Char\" style = \"text-align: left;\">Char</th><th title = \"Union{Missing, Int64}\" style = \"text-align: left;\">Int64?</th><th title = \"Int64\" style = \"text-align: left;\">Int64</th></tr></thead><tbody><tr><td class = \"rowNumber\" style = \"font-weight: bold; text-align: right;\">1</td><td style = \"text-align: right;\">5</td><td style = \"font-style: italic; text-align: left;\">missing</td><td style = \"text-align: left;\">F</td><td style = \"font-style: italic; text-align: right;\">missing</td><td style = \"text-align: right;\">10086</td></tr><tr><td class = \"rowNumber\" style = \"font-weight: bold; text-align: right;\">2</td><td style = \"text-align: right;\">5</td><td style = \"font-style: italic; text-align: left;\">missing</td><td style = \"text-align: left;\">M</td><td style = \"font-style: italic; text-align: right;\">missing</td><td style = \"text-align: right;\">10066</td></tr><tr><td class = \"rowNumber\" style = \"font-weight: bold; text-align: right;\">3</td><td style = \"text-align: right;\">10</td><td style = \"font-style: italic; text-align: left;\">missing</td><td style = \"text-align: left;\">F</td><td style = \"font-style: italic; text-align: right;\">missing</td><td style = \"text-align: right;\">9996</td></tr><tr><td class = \"rowNumber\" style = \"font-weight: bold; text-align: right;\">4</td><td style = \"text-align: right;\">10</td><td style = \"font-style: italic; text-align: left;\">missing</td><td style = \"text-align: left;\">M</td><td style = \"font-style: italic; text-align: right;\">missing</td><td style = \"text-align: right;\">9789</td></tr><tr><td class = \"rowNumber\" style = \"font-weight: bold; text-align: right;\">5</td><td style = \"text-align: right;\">15</td><td style = \"font-style: italic; text-align: left;\">missing</td><td style = \"text-align: left;\">F</td><td style = \"font-style: italic; text-align: right;\">missing</td><td style = \"text-align: right;\">9926</td></tr><tr><td class = \"rowNumber\" style = \"font-weight: bold; text-align: right;\">6</td><td style = \"text-align: right;\">15</td><td style = \"font-style: italic; text-align: left;\">missing</td><td style = \"text-align: left;\">M</td><td style = \"font-style: italic; text-align: right;\">missing</td><td style = \"text-align: right;\">10137</td></tr><tr><td class = \"rowNumber\" style = \"font-weight: bold; text-align: right;\">7</td><td style = \"text-align: right;\">20</td><td style = \"text-align: left;\">Divorced</td><td style = \"text-align: left;\">F</td><td style = \"text-align: right;\">40000</td><td style = \"text-align: right;\">249</td></tr><tr><td class = \"rowNumber\" style = \"font-weight: bold; text-align: right;\">8</td><td style = \"text-align: right;\">20</td><td style = \"text-align: left;\">Divorced</td><td style = \"text-align: left;\">F</td><td style = \"text-align: right;\">50000</td><td style = \"text-align: right;\">2821</td></tr><tr><td class = \"rowNumber\" style = \"font-weight: bold; text-align: right;\">9</td><td style = \"text-align: right;\">20</td><td style = \"text-align: left;\">Divorced</td><td style = \"text-align: left;\">M</td><td style = \"text-align: right;\">40000</td><td style = \"text-align: right;\">431</td></tr><tr><td class = \"rowNumber\" style = \"font-weight: bold; text-align: right;\">10</td><td style = \"text-align: right;\">20</td><td style = \"text-align: left;\">Divorced</td><td style = \"text-align: left;\">M</td><td style = \"text-align: right;\">50000</td><td style = \"text-align: right;\">4111</td></tr><tr><td class = \"rowNumber\" style = \"font-weight: bold; text-align: right;\">11</td><td style = \"text-align: right;\">20</td><td style = \"text-align: left;\">Married</td><td style = \"text-align: left;\">F</td><td style = \"text-align: right;\">40000</td><td style = \"text-align: right;\">411</td></tr><tr><td class = \"rowNumber\" style = \"font-weight: bold; text-align: right;\">12</td><td style = \"text-align: right;\">20</td><td style = \"text-align: left;\">Married</td><td style = \"text-align: left;\">F</td><td style = \"text-align: right;\">50000</td><td style = \"text-align: right;\">4079</td></tr><tr><td class = \"rowNumber\" style = \"font-weight: bold; text-align: right;\">13</td><td style = \"text-align: right;\">20</td><td style = \"text-align: left;\">Married</td><td style = \"text-align: left;\">M</td><td style = \"text-align: right;\">40000</td><td style = \"text-align: right;\">270</td></tr><tr><td style = \"text-align: right;\">&vellip;</td><td style = \"text-align: right;\">&vellip;</td><td style = \"text-align: right;\">&vellip;</td><td style = \"text-align: right;\">&vellip;</td><td style = \"text-align: right;\">&vellip;</td><td style = \"text-align: right;\">&vellip;</td></tr><tr><td class = \"rowNumber\" style = \"font-weight: bold; text-align: right;\">515</td><td style = \"text-align: right;\">20</td><td style = \"text-align: left;\">Divorced</td><td style = \"text-align: left;\">M</td><td style = \"text-align: right;\">80000</td><td style = \"text-align: right;\">0</td></tr><tr><td class = \"rowNumber\" style = \"font-weight: bold; text-align: right;\">516</td><td style = \"text-align: right;\">25</td><td style = \"text-align: left;\">Divorced</td><td style = \"text-align: left;\">M</td><td style = \"text-align: right;\">80000</td><td style = \"text-align: right;\">0</td></tr><tr><td class = \"rowNumber\" style = \"font-weight: bold; text-align: right;\">517</td><td style = \"text-align: right;\">20</td><td style = \"text-align: left;\">Widowed</td><td style = \"text-align: left;\">M</td><td style = \"text-align: right;\">80000</td><td style = \"text-align: right;\">0</td></tr><tr><td class = \"rowNumber\" style = \"font-weight: bold; text-align: right;\">518</td><td style = \"text-align: right;\">25</td><td style = \"text-align: left;\">Widowed</td><td style = \"text-align: left;\">M</td><td style = \"text-align: right;\">80000</td><td style = \"text-align: right;\">0</td></tr><tr><td class = \"rowNumber\" style = \"font-weight: bold; text-align: right;\">519</td><td style = \"text-align: right;\">20</td><td style = \"text-align: left;\">Not_married</td><td style = \"text-align: left;\">F</td><td style = \"text-align: right;\">80000</td><td style = \"text-align: right;\">0</td></tr><tr><td class = \"rowNumber\" style = \"font-weight: bold; text-align: right;\">520</td><td style = \"text-align: right;\">25</td><td style = \"text-align: left;\">Not_married</td><td style = \"text-align: left;\">F</td><td style = \"text-align: right;\">80000</td><td style = \"text-align: right;\">0</td></tr><tr><td class = \"rowNumber\" style = \"font-weight: bold; text-align: right;\">521</td><td style = \"text-align: right;\">20</td><td style = \"text-align: left;\">Married</td><td style = \"text-align: left;\">F</td><td style = \"text-align: right;\">80000</td><td style = \"text-align: right;\">0</td></tr><tr><td class = \"rowNumber\" style = \"font-weight: bold; text-align: right;\">522</td><td style = \"text-align: right;\">25</td><td style = \"text-align: left;\">Married</td><td style = \"text-align: left;\">F</td><td style = \"text-align: right;\">80000</td><td style = \"text-align: right;\">0</td></tr><tr><td class = \"rowNumber\" style = \"font-weight: bold; text-align: right;\">523</td><td style = \"text-align: right;\">20</td><td style = \"text-align: left;\">Divorced</td><td style = \"text-align: left;\">F</td><td style = \"text-align: right;\">80000</td><td style = \"text-align: right;\">0</td></tr><tr><td class = \"rowNumber\" style = \"font-weight: bold; text-align: right;\">524</td><td style = \"text-align: right;\">25</td><td style = \"text-align: left;\">Divorced</td><td style = \"text-align: left;\">F</td><td style = \"text-align: right;\">80000</td><td style = \"text-align: right;\">0</td></tr><tr><td class = \"rowNumber\" style = \"font-weight: bold; text-align: right;\">525</td><td style = \"text-align: right;\">20</td><td style = \"text-align: left;\">Widowed</td><td style = \"text-align: left;\">F</td><td style = \"text-align: right;\">80000</td><td style = \"text-align: right;\">0</td></tr><tr><td class = \"rowNumber\" style = \"font-weight: bold; text-align: right;\">526</td><td style = \"text-align: right;\">25</td><td style = \"text-align: left;\">Widowed</td><td style = \"text-align: left;\">F</td><td style = \"text-align: right;\">80000</td><td style = \"text-align: right;\">0</td></tr></tbody></table></div>"
      ],
      "text/latex": [
       "\\begin{tabular}{r|ccccc}\n",
       "\t& AGE & MARITAL\\_STATUS & SEX & INCOME & population\\\\\n",
       "\t\\hline\n",
       "\t& Int64 & String? & Char & Int64? & Int64\\\\\n",
       "\t\\hline\n",
       "\t1 & 5 & \\emph{missing} & F & \\emph{missing} & 10086 \\\\\n",
       "\t2 & 5 & \\emph{missing} & M & \\emph{missing} & 10066 \\\\\n",
       "\t3 & 10 & \\emph{missing} & F & \\emph{missing} & 9996 \\\\\n",
       "\t4 & 10 & \\emph{missing} & M & \\emph{missing} & 9789 \\\\\n",
       "\t5 & 15 & \\emph{missing} & F & \\emph{missing} & 9926 \\\\\n",
       "\t6 & 15 & \\emph{missing} & M & \\emph{missing} & 10137 \\\\\n",
       "\t7 & 20 & Divorced & F & 40000 & 249 \\\\\n",
       "\t8 & 20 & Divorced & F & 50000 & 2821 \\\\\n",
       "\t9 & 20 & Divorced & M & 40000 & 431 \\\\\n",
       "\t10 & 20 & Divorced & M & 50000 & 4111 \\\\\n",
       "\t11 & 20 & Married & F & 40000 & 411 \\\\\n",
       "\t12 & 20 & Married & F & 50000 & 4079 \\\\\n",
       "\t13 & 20 & Married & M & 40000 & 270 \\\\\n",
       "\t14 & 20 & Married & M & 50000 & 2754 \\\\\n",
       "\t15 & 20 & Not\\_married & F & 40000 & 559 \\\\\n",
       "\t16 & 20 & Not\\_married & F & 50000 & 5463 \\\\\n",
       "\t17 & 20 & Not\\_married & M & 40000 & 145 \\\\\n",
       "\t18 & 20 & Not\\_married & M & 50000 & 1332 \\\\\n",
       "\t19 & 20 & Widowed & F & 40000 & 140 \\\\\n",
       "\t20 & 20 & Widowed & F & 50000 & 1363 \\\\\n",
       "\t21 & 20 & Widowed & M & 40000 & 494 \\\\\n",
       "\t22 & 20 & Widowed & M & 50000 & 5338 \\\\\n",
       "\t23 & 25 & Divorced & F & 40000 & 278 \\\\\n",
       "\t24 & 25 & Divorced & F & 50000 & 2765 \\\\\n",
       "\t$\\dots$ & $\\dots$ & $\\dots$ & $\\dots$ & $\\dots$ & $\\dots$ \\\\\n",
       "\\end{tabular}\n"
      ],
      "text/plain": [
       "\u001b[1m526×5 DataFrame\u001b[0m\n",
       "\u001b[1m Row \u001b[0m│\u001b[1m AGE   \u001b[0m\u001b[1m MARITAL_STATUS \u001b[0m\u001b[1m SEX  \u001b[0m\u001b[1m INCOME  \u001b[0m\u001b[1m population \u001b[0m\n",
       "     │\u001b[90m Int64 \u001b[0m\u001b[90m String?        \u001b[0m\u001b[90m Char \u001b[0m\u001b[90m Int64?  \u001b[0m\u001b[90m Int64      \u001b[0m\n",
       "─────┼──────────────────────────────────────────────────\n",
       "   1 │     5 \u001b[90m missing        \u001b[0m F    \u001b[90m missing \u001b[0m      10086\n",
       "   2 │     5 \u001b[90m missing        \u001b[0m M    \u001b[90m missing \u001b[0m      10066\n",
       "   3 │    10 \u001b[90m missing        \u001b[0m F    \u001b[90m missing \u001b[0m       9996\n",
       "   4 │    10 \u001b[90m missing        \u001b[0m M    \u001b[90m missing \u001b[0m       9789\n",
       "   5 │    15 \u001b[90m missing        \u001b[0m F    \u001b[90m missing \u001b[0m       9926\n",
       "   6 │    15 \u001b[90m missing        \u001b[0m M    \u001b[90m missing \u001b[0m      10137\n",
       "   7 │    20  Divorced        F       40000         249\n",
       "   8 │    20  Divorced        F       50000        2821\n",
       "  ⋮  │   ⋮          ⋮          ⋮       ⋮         ⋮\n",
       " 520 │    25  Not_married     F       80000           0\n",
       " 521 │    20  Married         F       80000           0\n",
       " 522 │    25  Married         F       80000           0\n",
       " 523 │    20  Divorced        F       80000           0\n",
       " 524 │    25  Divorced        F       80000           0\n",
       " 525 │    20  Widowed         F       80000           0\n",
       " 526 │    25  Widowed         F       80000           0\n",
       "\u001b[36m                                        511 rows omitted\u001b[0m"
      ]
     },
     "metadata": {},
     "output_type": "display_data"
    }
   ],
   "source": [
    "SIZE = 300000\n",
    "OLD_ADULTS = 0.6\n",
    "YOUNG_ADULTS = 0.2\n",
    "CHILDREN = 0.2\n",
    "\n",
    "SEX = ['M', 'F']; SEX_WEIGHTS = [0.5, 0.5]\n",
    "MARITAL_STATUS = [\"Not_married\", \"Married\", \"Divorced\", \"Widowed\"]; \n",
    "MARITAL_STATUS_WEIGHTS_M = [0.1, 0.2, 0.3, 0.4]; \n",
    "MARITAL_STATUS_WEIGHTS_F = [0.4, 0.3, 0.2, 0.1];\n",
    "\n",
    "AGE_YOUNG_ADULT = [20, 25];\n",
    "AGE_YOUNG_ADULT_WEIGHTS = repeat([1 / length(AGE_YOUNG_ADULT)], length(AGE_YOUNG_ADULT));\n",
    "AGE_OLD_ADULT = [30, 35, 40, 45, 50, 55, 60, 65, 70, 75, 80];\n",
    "AGE_OLD_ADULT_WEIGHTS = repeat([1 / length(AGE_OLD_ADULT)], length(AGE_OLD_ADULT));\n",
    "AGE_CHILDREN = [5, 10, 15];\n",
    "AGE_CHILDREN_WEIGHTS = repeat([1 / length(AGE_CHILDREN)], length(AGE_CHILDREN));\n",
    "\n",
    "INCOME = [40000, 50000, 60000, 70000, 80000];\n",
    "ZERO_INCOME = [60000, 70000, 80000]\n",
    "INCOME_WEIGHTS_M_YOUNG = SIZE ./ 2 .* YOUNG_ADULTS .* [0.01, 0.1, 0, 0, 0];\n",
    "INCOME_WEIGHTS_F_YOUNG = SIZE ./ 2 .* YOUNG_ADULTS .* [0.39, 0.3, 0, 0, 0];\n",
    "INCOME_WEIGHTS_M_OLD = SIZE ./2 * (OLD_ADULTS+YOUNG_ADULTS) .* [0.01, 0.1, 0.2, 0.3, 0.39] .- INCOME_WEIGHTS_M_YOUNG;\n",
    "INCOME_WEIGHTS_F_OLD = SIZE ./2 * (OLD_ADULTS+YOUNG_ADULTS) .*[0.39, 0.3, 0.2, 0.1, 0.01] .- INCOME_WEIGHTS_F_YOUNG;\n",
    "\n",
    "population_m_young_adult = DataFrame(\n",
    "    AGE = sample(AGE_YOUNG_ADULT, Weights(AGE_YOUNG_ADULT_WEIGHTS), Int(SIZE * YOUNG_ADULTS / 2)),\n",
    "    MARITAL_STATUS = sample(MARITAL_STATUS, Weights(MARITAL_STATUS_WEIGHTS_M), Int(SIZE * YOUNG_ADULTS / 2)),\n",
    "    SEX = repeat(['M'], Int(SIZE * YOUNG_ADULTS / 2)),\n",
    "    INCOME = sample(INCOME, Weights(INCOME_WEIGHTS_M_YOUNG), Int(SIZE * YOUNG_ADULTS / 2)),\n",
    ")\n",
    "population_f_young_adult = DataFrame(\n",
    "    AGE = sample(AGE_YOUNG_ADULT, Weights(AGE_YOUNG_ADULT_WEIGHTS), Int(SIZE * YOUNG_ADULTS / 2)),\n",
    "    MARITAL_STATUS = sample(MARITAL_STATUS, Weights(MARITAL_STATUS_WEIGHTS_F), Int(SIZE * YOUNG_ADULTS / 2)),\n",
    "    SEX = repeat(['F'], Int(SIZE * YOUNG_ADULTS / 2)),\n",
    "    INCOME = sample(INCOME, Weights(INCOME_WEIGHTS_M_YOUNG), Int(SIZE * YOUNG_ADULTS / 2)),\n",
    ")\n",
    "population_m_old_adult = DataFrame(\n",
    "    AGE = sample(AGE_OLD_ADULT, Weights(AGE_OLD_ADULT_WEIGHTS), Int(SIZE * OLD_ADULTS / 2)),\n",
    "    MARITAL_STATUS = sample(MARITAL_STATUS, Weights(MARITAL_STATUS_WEIGHTS_M), Int(SIZE * OLD_ADULTS / 2)),\n",
    "    SEX = repeat(['M'], Int(SIZE * OLD_ADULTS / 2)),\n",
    "    INCOME = sample(INCOME, Weights(INCOME_WEIGHTS_M_OLD), Int(SIZE * OLD_ADULTS / 2)),\n",
    ")\n",
    "population_f_old_adult = DataFrame(\n",
    "    AGE = sample(AGE_OLD_ADULT, Weights(AGE_OLD_ADULT_WEIGHTS), Int(SIZE * OLD_ADULTS / 2)),\n",
    "    MARITAL_STATUS = sample(MARITAL_STATUS, Weights(MARITAL_STATUS_WEIGHTS_F), Int(SIZE * OLD_ADULTS / 2)),\n",
    "    SEX = repeat(['F'], Int(SIZE * OLD_ADULTS / 2)),\n",
    "    INCOME = sample(INCOME, Weights(INCOME_WEIGHTS_F_OLD), Int(SIZE * OLD_ADULTS / 2)),\n",
    ")\n",
    "population_children = DataFrame(\n",
    "    AGE = sample(AGE_CHILDREN, Weights(AGE_CHILDREN_WEIGHTS), Int(SIZE * CHILDREN)),\n",
    "    MARITAL_STATUS = repeat([missing], Int(SIZE * CHILDREN)),\n",
    "    SEX = sample(SEX, Weights(SEX_WEIGHTS), Int(SIZE * CHILDREN)),\n",
    "    INCOME = repeat([missing], Int(SIZE * CHILDREN))\n",
    ")\n",
    "\n",
    "disaggregated_dependent_population = reduce(vcat, [\n",
    "    population_m_young_adult, \n",
    "    population_f_young_adult,\n",
    "    population_m_old_adult,\n",
    "    population_f_old_adult,\n",
    "    population_children\n",
    "    ]\n",
    ")\n",
    "\n",
    "dependent_population = combine(groupby(disaggregated_dependent_population, names(disaggregated_dependent_population), sort=true), nrow)\n",
    "rename!(dependent_population, :nrow => :population)\n",
    "zero_population = DataFrame(vec(collect(Iterators.product(AGE_YOUNG_ADULT, MARITAL_STATUS, SEX, ZERO_INCOME))))\n",
    "zero_population.:population = repeat([0], nrow(zero_population))\n",
    "rename!(zero_population, names(dependent_population))\n",
    "dependent_population = reduce(vcat, [dependent_population, zero_population])"
   ]
  },
  {
   "attachments": {},
   "cell_type": "markdown",
   "metadata": {},
   "source": [
    "### 1.2. Compute marginal attribute distributions of the dependent population\n",
    "Then we compute the marginal population attributes. This is a type of data that we can usually get from the census data and will be input for our algorithms for population generation."
   ]
  },
  {
   "cell_type": "code",
   "execution_count": 24,
   "metadata": {},
   "outputs": [
    {
     "data": {
      "text/html": [
       "<div><div style = \"float: left;\"><span>5×2 DataFrame</span></div><div style = \"clear: both;\"></div></div><div class = \"data-frame\" style = \"overflow-x: scroll;\"><table class = \"data-frame\" style = \"margin-bottom: 6px;\"><thead><tr class = \"header\"><th class = \"rowNumber\" style = \"font-weight: bold; text-align: right;\">Row</th><th style = \"text-align: left;\">INCOME</th><th style = \"text-align: left;\">population</th></tr><tr class = \"subheader headerLastRow\"><th class = \"rowNumber\" style = \"font-weight: bold; text-align: right;\"></th><th title = \"Union{Missing, Int64}\" style = \"text-align: left;\">Int64?</th><th title = \"Int64\" style = \"text-align: left;\">Int64</th></tr></thead><tbody><tr><td class = \"rowNumber\" style = \"font-weight: bold; text-align: right;\">1</td><td style = \"text-align: right;\">40000</td><td style = \"text-align: right;\">38003</td></tr><tr><td class = \"rowNumber\" style = \"font-weight: bold; text-align: right;\">2</td><td style = \"text-align: right;\">50000</td><td style = \"text-align: right;\">85892</td></tr><tr><td class = \"rowNumber\" style = \"font-weight: bold; text-align: right;\">3</td><td style = \"text-align: right;\">60000</td><td style = \"text-align: right;\">40390</td></tr><tr><td class = \"rowNumber\" style = \"font-weight: bold; text-align: right;\">4</td><td style = \"text-align: right;\">70000</td><td style = \"text-align: right;\">38496</td></tr><tr><td class = \"rowNumber\" style = \"font-weight: bold; text-align: right;\">5</td><td style = \"text-align: right;\">80000</td><td style = \"text-align: right;\">37219</td></tr></tbody></table></div>"
      ],
      "text/latex": [
       "\\begin{tabular}{r|cc}\n",
       "\t& INCOME & population\\\\\n",
       "\t\\hline\n",
       "\t& Int64? & Int64\\\\\n",
       "\t\\hline\n",
       "\t1 & 40000 & 38003 \\\\\n",
       "\t2 & 50000 & 85892 \\\\\n",
       "\t3 & 60000 & 40390 \\\\\n",
       "\t4 & 70000 & 38496 \\\\\n",
       "\t5 & 80000 & 37219 \\\\\n",
       "\\end{tabular}\n"
      ],
      "text/plain": [
       "\u001b[1m5×2 DataFrame\u001b[0m\n",
       "\u001b[1m Row \u001b[0m│\u001b[1m INCOME \u001b[0m\u001b[1m population \u001b[0m\n",
       "     │\u001b[90m Int64? \u001b[0m\u001b[90m Int64      \u001b[0m\n",
       "─────┼────────────────────\n",
       "   1 │  40000       38003\n",
       "   2 │  50000       85892\n",
       "   3 │  60000       40390\n",
       "   4 │  70000       38496\n",
       "   5 │  80000       37219"
      ]
     },
     "metadata": {},
     "output_type": "display_data"
    }
   ],
   "source": [
    "#Population by age and sex\n",
    "dependent_age_sex = combine(groupby(disaggregated_dependent_population, [:AGE, :SEX], sort=true), nrow); \n",
    "sort!(dependent_age_sex, [:SEX, :AGE])\n",
    "\n",
    "#Population by sex and marital status\n",
    "dependent_sex_marital = combine(groupby(disaggregated_dependent_population, [:MARITAL_STATUS, :SEX], sort=true), nrow); \n",
    "sort!(dependent_sex_marital, [:SEX, :MARITAL_STATUS])\n",
    "\n",
    "#Population by income\n",
    "dependent_income = combine(groupby(disaggregated_dependent_population, [:INCOME], sort=true), nrow)\n",
    "\n",
    "#Correct column names\n",
    "dependent_age_sex, dependent_sex_marital, dependent_income = map(x -> rename!(x, :nrow => :population), [dependent_age_sex, dependent_sex_marital, dependent_income])\n",
    "\n",
    "#filter out missing values\n",
    "dependent_sex_marital = filter(:MARITAL_STATUS => x -> typeof(x) != Missing, dependent_sex_marital)\n",
    "dependent_income = filter(:INCOME => x -> typeof(x) != Missing, dependent_income)"
   ]
  },
  {
   "attachments": {},
   "cell_type": "markdown",
   "metadata": {},
   "source": [
    "### 1.3. Generate dependent population from marginals\n",
    "Then, we use our algorithm to estimate joint distribution of the attributes. "
   ]
  },
  {
   "attachments": {},
   "cell_type": "markdown",
   "metadata": {},
   "source": [
    "#### Guo, Bhat, 2007"
   ]
  },
  {
   "cell_type": "code",
   "execution_count": 25,
   "metadata": {},
   "outputs": [
    {
     "name": "stderr",
     "output_type": "stream",
     "text": [
      "┌ Info: Inconsistent target margins, converting `X` and `mar` to proportions. Margin totals: [150008, 120000]\n",
      "└ @ ProportionalFitting /Users/marcinzurek/.julia/packages/ProportionalFitting/gNJEu/src/ipf.jl:61\n",
      "┌ Info: Converged in 1 iterations.\n",
      "└ @ ProportionalFitting /Users/marcinzurek/.julia/packages/ProportionalFitting/gNJEu/src/ipf.jl:130\n",
      "┌ Info: Inconsistent target margins, converting `X` and `mar` to proportions. Margin totals: [149992, 120000]\n",
      "└ @ ProportionalFitting /Users/marcinzurek/.julia/packages/ProportionalFitting/gNJEu/src/ipf.jl:61\n",
      "┌ Info: Converged in 1 iterations.\n",
      "└ @ ProportionalFitting /Users/marcinzurek/.julia/packages/ProportionalFitting/gNJEu/src/ipf.jl:130\n",
      "┌ Info: Inconsistent target margins, converting `X` and `mar` to proportions. Margin totals: [300002, 240000]\n",
      "└ @ ProportionalFitting /Users/marcinzurek/.julia/packages/ProportionalFitting/gNJEu/src/ipf.jl:61\n",
      "┌ Info: Converged in 1 iterations.\n",
      "└ @ ProportionalFitting /Users/marcinzurek/.julia/packages/ProportionalFitting/gNJEu/src/ipf.jl:130\n"
     ]
    },
    {
     "data": {
      "text/html": [
       "<div><div style = \"float: left;\"><span>640×5 DataFrame</span></div><div style = \"float: right;\"><span style = \"font-style: italic;\">615 rows omitted</span></div><div style = \"clear: both;\"></div></div><div class = \"data-frame\" style = \"overflow-x: scroll;\"><table class = \"data-frame\" style = \"margin-bottom: 6px;\"><thead><tr class = \"header\"><th class = \"rowNumber\" style = \"font-weight: bold; text-align: right;\">Row</th><th style = \"text-align: left;\">AGE</th><th style = \"text-align: left;\">MARITAL_STATUS</th><th style = \"text-align: left;\">SEX</th><th style = \"text-align: left;\">INCOME</th><th style = \"text-align: left;\">population</th></tr><tr class = \"subheader headerLastRow\"><th class = \"rowNumber\" style = \"font-weight: bold; text-align: right;\"></th><th title = \"Int64\" style = \"text-align: left;\">Int64</th><th title = \"String\" style = \"text-align: left;\">String</th><th title = \"Char\" style = \"text-align: left;\">Char</th><th title = \"Int64\" style = \"text-align: left;\">Int64</th><th title = \"Int64\" style = \"text-align: left;\">Int64</th></tr></thead><tbody><tr><td class = \"rowNumber\" style = \"font-weight: bold; text-align: right;\">1</td><td style = \"text-align: right;\">5</td><td style = \"text-align: left;\">Divorced</td><td style = \"text-align: left;\">F</td><td style = \"text-align: right;\">40000</td><td style = \"text-align: right;\">322</td></tr><tr><td class = \"rowNumber\" style = \"font-weight: bold; text-align: right;\">2</td><td style = \"text-align: right;\">10</td><td style = \"text-align: left;\">Divorced</td><td style = \"text-align: left;\">F</td><td style = \"text-align: right;\">40000</td><td style = \"text-align: right;\">319</td></tr><tr><td class = \"rowNumber\" style = \"font-weight: bold; text-align: right;\">3</td><td style = \"text-align: right;\">15</td><td style = \"text-align: left;\">Divorced</td><td style = \"text-align: left;\">F</td><td style = \"text-align: right;\">40000</td><td style = \"text-align: right;\">317</td></tr><tr><td class = \"rowNumber\" style = \"font-weight: bold; text-align: right;\">4</td><td style = \"text-align: right;\">20</td><td style = \"text-align: left;\">Divorced</td><td style = \"text-align: left;\">F</td><td style = \"text-align: right;\">40000</td><td style = \"text-align: right;\">481</td></tr><tr><td class = \"rowNumber\" style = \"font-weight: bold; text-align: right;\">5</td><td style = \"text-align: right;\">25</td><td style = \"text-align: left;\">Divorced</td><td style = \"text-align: left;\">F</td><td style = \"text-align: right;\">40000</td><td style = \"text-align: right;\">476</td></tr><tr><td class = \"rowNumber\" style = \"font-weight: bold; text-align: right;\">6</td><td style = \"text-align: right;\">30</td><td style = \"text-align: left;\">Divorced</td><td style = \"text-align: left;\">F</td><td style = \"text-align: right;\">40000</td><td style = \"text-align: right;\">259</td></tr><tr><td class = \"rowNumber\" style = \"font-weight: bold; text-align: right;\">7</td><td style = \"text-align: right;\">35</td><td style = \"text-align: left;\">Divorced</td><td style = \"text-align: left;\">F</td><td style = \"text-align: right;\">40000</td><td style = \"text-align: right;\">260</td></tr><tr><td class = \"rowNumber\" style = \"font-weight: bold; text-align: right;\">8</td><td style = \"text-align: right;\">40</td><td style = \"text-align: left;\">Divorced</td><td style = \"text-align: left;\">F</td><td style = \"text-align: right;\">40000</td><td style = \"text-align: right;\">262</td></tr><tr><td class = \"rowNumber\" style = \"font-weight: bold; text-align: right;\">9</td><td style = \"text-align: right;\">45</td><td style = \"text-align: left;\">Divorced</td><td style = \"text-align: left;\">F</td><td style = \"text-align: right;\">40000</td><td style = \"text-align: right;\">262</td></tr><tr><td class = \"rowNumber\" style = \"font-weight: bold; text-align: right;\">10</td><td style = \"text-align: right;\">50</td><td style = \"text-align: left;\">Divorced</td><td style = \"text-align: left;\">F</td><td style = \"text-align: right;\">40000</td><td style = \"text-align: right;\">258</td></tr><tr><td class = \"rowNumber\" style = \"font-weight: bold; text-align: right;\">11</td><td style = \"text-align: right;\">55</td><td style = \"text-align: left;\">Divorced</td><td style = \"text-align: left;\">F</td><td style = \"text-align: right;\">40000</td><td style = \"text-align: right;\">263</td></tr><tr><td class = \"rowNumber\" style = \"font-weight: bold; text-align: right;\">12</td><td style = \"text-align: right;\">60</td><td style = \"text-align: left;\">Divorced</td><td style = \"text-align: left;\">F</td><td style = \"text-align: right;\">40000</td><td style = \"text-align: right;\">264</td></tr><tr><td class = \"rowNumber\" style = \"font-weight: bold; text-align: right;\">13</td><td style = \"text-align: right;\">65</td><td style = \"text-align: left;\">Divorced</td><td style = \"text-align: left;\">F</td><td style = \"text-align: right;\">40000</td><td style = \"text-align: right;\">259</td></tr><tr><td style = \"text-align: right;\">&vellip;</td><td style = \"text-align: right;\">&vellip;</td><td style = \"text-align: right;\">&vellip;</td><td style = \"text-align: right;\">&vellip;</td><td style = \"text-align: right;\">&vellip;</td><td style = \"text-align: right;\">&vellip;</td></tr><tr><td class = \"rowNumber\" style = \"font-weight: bold; text-align: right;\">629</td><td style = \"text-align: right;\">25</td><td style = \"text-align: left;\">Widowed</td><td style = \"text-align: left;\">M</td><td style = \"text-align: right;\">80000</td><td style = \"text-align: right;\">930</td></tr><tr><td class = \"rowNumber\" style = \"font-weight: bold; text-align: right;\">630</td><td style = \"text-align: right;\">30</td><td style = \"text-align: left;\">Widowed</td><td style = \"text-align: left;\">M</td><td style = \"text-align: right;\">80000</td><td style = \"text-align: right;\">502</td></tr><tr><td class = \"rowNumber\" style = \"font-weight: bold; text-align: right;\">631</td><td style = \"text-align: right;\">35</td><td style = \"text-align: left;\">Widowed</td><td style = \"text-align: left;\">M</td><td style = \"text-align: right;\">80000</td><td style = \"text-align: right;\">499</td></tr><tr><td class = \"rowNumber\" style = \"font-weight: bold; text-align: right;\">632</td><td style = \"text-align: right;\">40</td><td style = \"text-align: left;\">Widowed</td><td style = \"text-align: left;\">M</td><td style = \"text-align: right;\">80000</td><td style = \"text-align: right;\">510</td></tr><tr><td class = \"rowNumber\" style = \"font-weight: bold; text-align: right;\">633</td><td style = \"text-align: right;\">45</td><td style = \"text-align: left;\">Widowed</td><td style = \"text-align: left;\">M</td><td style = \"text-align: right;\">80000</td><td style = \"text-align: right;\">501</td></tr><tr><td class = \"rowNumber\" style = \"font-weight: bold; text-align: right;\">634</td><td style = \"text-align: right;\">50</td><td style = \"text-align: left;\">Widowed</td><td style = \"text-align: left;\">M</td><td style = \"text-align: right;\">80000</td><td style = \"text-align: right;\">504</td></tr><tr><td class = \"rowNumber\" style = \"font-weight: bold; text-align: right;\">635</td><td style = \"text-align: right;\">55</td><td style = \"text-align: left;\">Widowed</td><td style = \"text-align: left;\">M</td><td style = \"text-align: right;\">80000</td><td style = \"text-align: right;\">503</td></tr><tr><td class = \"rowNumber\" style = \"font-weight: bold; text-align: right;\">636</td><td style = \"text-align: right;\">60</td><td style = \"text-align: left;\">Widowed</td><td style = \"text-align: left;\">M</td><td style = \"text-align: right;\">80000</td><td style = \"text-align: right;\">510</td></tr><tr><td class = \"rowNumber\" style = \"font-weight: bold; text-align: right;\">637</td><td style = \"text-align: right;\">65</td><td style = \"text-align: left;\">Widowed</td><td style = \"text-align: left;\">M</td><td style = \"text-align: right;\">80000</td><td style = \"text-align: right;\">507</td></tr><tr><td class = \"rowNumber\" style = \"font-weight: bold; text-align: right;\">638</td><td style = \"text-align: right;\">70</td><td style = \"text-align: left;\">Widowed</td><td style = \"text-align: left;\">M</td><td style = \"text-align: right;\">80000</td><td style = \"text-align: right;\">495</td></tr><tr><td class = \"rowNumber\" style = \"font-weight: bold; text-align: right;\">639</td><td style = \"text-align: right;\">75</td><td style = \"text-align: left;\">Widowed</td><td style = \"text-align: left;\">M</td><td style = \"text-align: right;\">80000</td><td style = \"text-align: right;\">501</td></tr><tr><td class = \"rowNumber\" style = \"font-weight: bold; text-align: right;\">640</td><td style = \"text-align: right;\">80</td><td style = \"text-align: left;\">Widowed</td><td style = \"text-align: left;\">M</td><td style = \"text-align: right;\">80000</td><td style = \"text-align: right;\">500</td></tr></tbody></table></div>"
      ],
      "text/latex": [
       "\\begin{tabular}{r|ccccc}\n",
       "\t& AGE & MARITAL\\_STATUS & SEX & INCOME & population\\\\\n",
       "\t\\hline\n",
       "\t& Int64 & String & Char & Int64 & Int64\\\\\n",
       "\t\\hline\n",
       "\t1 & 5 & Divorced & F & 40000 & 322 \\\\\n",
       "\t2 & 10 & Divorced & F & 40000 & 319 \\\\\n",
       "\t3 & 15 & Divorced & F & 40000 & 317 \\\\\n",
       "\t4 & 20 & Divorced & F & 40000 & 481 \\\\\n",
       "\t5 & 25 & Divorced & F & 40000 & 476 \\\\\n",
       "\t6 & 30 & Divorced & F & 40000 & 259 \\\\\n",
       "\t7 & 35 & Divorced & F & 40000 & 260 \\\\\n",
       "\t8 & 40 & Divorced & F & 40000 & 262 \\\\\n",
       "\t9 & 45 & Divorced & F & 40000 & 262 \\\\\n",
       "\t10 & 50 & Divorced & F & 40000 & 258 \\\\\n",
       "\t11 & 55 & Divorced & F & 40000 & 263 \\\\\n",
       "\t12 & 60 & Divorced & F & 40000 & 264 \\\\\n",
       "\t13 & 65 & Divorced & F & 40000 & 259 \\\\\n",
       "\t14 & 70 & Divorced & F & 40000 & 263 \\\\\n",
       "\t15 & 75 & Divorced & F & 40000 & 260 \\\\\n",
       "\t16 & 80 & Divorced & F & 40000 & 261 \\\\\n",
       "\t17 & 5 & Married & F & 40000 & 480 \\\\\n",
       "\t18 & 10 & Married & F & 40000 & 476 \\\\\n",
       "\t19 & 15 & Married & F & 40000 & 473 \\\\\n",
       "\t20 & 20 & Married & F & 40000 & 718 \\\\\n",
       "\t21 & 25 & Married & F & 40000 & 710 \\\\\n",
       "\t22 & 30 & Married & F & 40000 & 386 \\\\\n",
       "\t23 & 35 & Married & F & 40000 & 388 \\\\\n",
       "\t24 & 40 & Married & F & 40000 & 392 \\\\\n",
       "\t$\\dots$ & $\\dots$ & $\\dots$ & $\\dots$ & $\\dots$ & $\\dots$ \\\\\n",
       "\\end{tabular}\n"
      ],
      "text/plain": [
       "\u001b[1m640×5 DataFrame\u001b[0m\n",
       "\u001b[1m Row \u001b[0m│\u001b[1m AGE   \u001b[0m\u001b[1m MARITAL_STATUS \u001b[0m\u001b[1m SEX  \u001b[0m\u001b[1m INCOME \u001b[0m\u001b[1m population \u001b[0m\n",
       "     │\u001b[90m Int64 \u001b[0m\u001b[90m String         \u001b[0m\u001b[90m Char \u001b[0m\u001b[90m Int64  \u001b[0m\u001b[90m Int64      \u001b[0m\n",
       "─────┼─────────────────────────────────────────────────\n",
       "   1 │     5  Divorced        F      40000         322\n",
       "   2 │    10  Divorced        F      40000         319\n",
       "   3 │    15  Divorced        F      40000         317\n",
       "   4 │    20  Divorced        F      40000         481\n",
       "   5 │    25  Divorced        F      40000         476\n",
       "   6 │    30  Divorced        F      40000         259\n",
       "   7 │    35  Divorced        F      40000         260\n",
       "   8 │    40  Divorced        F      40000         262\n",
       "  ⋮  │   ⋮          ⋮          ⋮      ⋮         ⋮\n",
       " 634 │    50  Widowed         M      80000         504\n",
       " 635 │    55  Widowed         M      80000         503\n",
       " 636 │    60  Widowed         M      80000         510\n",
       " 637 │    65  Widowed         M      80000         507\n",
       " 638 │    70  Widowed         M      80000         495\n",
       " 639 │    75  Widowed         M      80000         501\n",
       " 640 │    80  Widowed         M      80000         500\n",
       "\u001b[36m                                       625 rows omitted\u001b[0m"
      ]
     },
     "metadata": {},
     "output_type": "display_data"
    }
   ],
   "source": [
    "guo_bhat = SyntheticPopulation.generate_joint_distribution(dependent_age_sex, dependent_sex_marital, dependent_income)\n",
    "guo_bhat = guo_bhat[:, Not(:id)]"
   ]
  },
  {
   "attachments": {},
   "cell_type": "markdown",
   "metadata": {},
   "source": [
    "#### Ponge, Enbergs, Schungel, Hellingrath, Karch, Ludwig, 2021"
   ]
  },
  {
   "cell_type": "code",
   "execution_count": 26,
   "metadata": {},
   "outputs": [
    {
     "name": "stderr",
     "output_type": "stream",
     "text": [
      "┌ Info: Inconsistent target margins, converting `X` and `mar` to proportions. Margin totals: [150008, 120000]\n",
      "└ @ ProportionalFitting /Users/marcinzurek/.julia/packages/ProportionalFitting/gNJEu/src/ipf.jl:61\n",
      "┌ Warning: Did not converge. Try increasing the number of iterations. Maximum absolute difference between subsequent iterations: NaN\n",
      "└ @ ProportionalFitting /Users/marcinzurek/.julia/packages/ProportionalFitting/gNJEu/src/ipf.jl:128\n",
      "┌ Info: Inconsistent target margins, converting `X` and `mar` to proportions. Margin totals: [150008, 120000]\n",
      "└ @ ProportionalFitting /Users/marcinzurek/.julia/packages/ProportionalFitting/gNJEu/src/ipf.jl:61\n",
      "┌ Info: Converged in 1 iterations.\n",
      "└ @ ProportionalFitting /Users/marcinzurek/.julia/packages/ProportionalFitting/gNJEu/src/ipf.jl:130\n",
      "┌ Info: Inconsistent target margins, converting `X` and `mar` to proportions. Margin totals: [149992, 120000]\n",
      "└ @ ProportionalFitting /Users/marcinzurek/.julia/packages/ProportionalFitting/gNJEu/src/ipf.jl:61\n",
      "┌ Warning: Did not converge. Try increasing the number of iterations. Maximum absolute difference between subsequent iterations: NaN\n",
      "└ @ ProportionalFitting /Users/marcinzurek/.julia/packages/ProportionalFitting/gNJEu/src/ipf.jl:128\n",
      "┌ Info: Inconsistent target margins, converting `X` and `mar` to proportions. Margin totals: [149992, 120000]\n",
      "└ @ ProportionalFitting /Users/marcinzurek/.julia/packages/ProportionalFitting/gNJEu/src/ipf.jl:61\n",
      "┌ Info: Converged in 1 iterations.\n",
      "└ @ ProportionalFitting /Users/marcinzurek/.julia/packages/ProportionalFitting/gNJEu/src/ipf.jl:130\n"
     ]
    },
    {
     "name": "stderr",
     "output_type": "stream",
     "text": [
      "┌ Info: Inconsistent target margins, converting `X` and `mar` to proportions. Margin totals: [300002, 240000]\n",
      "└ @ ProportionalFitting /Users/marcinzurek/.julia/packages/ProportionalFitting/gNJEu/src/ipf.jl:61\n",
      "┌ Info: Converged in 18 iterations.\n",
      "└ @ ProportionalFitting /Users/marcinzurek/.julia/packages/ProportionalFitting/gNJEu/src/ipf.jl:130\n"
     ]
    },
    {
     "data": {
      "text/html": [
       "<div><div style = \"float: left;\"><span>640×5 DataFrame</span></div><div style = \"float: right;\"><span style = \"font-style: italic;\">615 rows omitted</span></div><div style = \"clear: both;\"></div></div><div class = \"data-frame\" style = \"overflow-x: scroll;\"><table class = \"data-frame\" style = \"margin-bottom: 6px;\"><thead><tr class = \"header\"><th class = \"rowNumber\" style = \"font-weight: bold; text-align: right;\">Row</th><th style = \"text-align: left;\">AGE</th><th style = \"text-align: left;\">MARITAL_STATUS</th><th style = \"text-align: left;\">SEX</th><th style = \"text-align: left;\">INCOME</th><th style = \"text-align: left;\">population</th></tr><tr class = \"subheader headerLastRow\"><th class = \"rowNumber\" style = \"font-weight: bold; text-align: right;\"></th><th title = \"Int64\" style = \"text-align: left;\">Int64</th><th title = \"String\" style = \"text-align: left;\">String</th><th title = \"Char\" style = \"text-align: left;\">Char</th><th title = \"Int64\" style = \"text-align: left;\">Int64</th><th title = \"Int64\" style = \"text-align: left;\">Int64</th></tr></thead><tbody><tr><td class = \"rowNumber\" style = \"font-weight: bold; text-align: right;\">1</td><td style = \"text-align: right;\">5</td><td style = \"text-align: left;\">Divorced</td><td style = \"text-align: left;\">F</td><td style = \"text-align: right;\">40000</td><td style = \"text-align: right;\">246</td></tr><tr><td class = \"rowNumber\" style = \"font-weight: bold; text-align: right;\">2</td><td style = \"text-align: right;\">10</td><td style = \"text-align: left;\">Divorced</td><td style = \"text-align: left;\">F</td><td style = \"text-align: right;\">40000</td><td style = \"text-align: right;\">244</td></tr><tr><td class = \"rowNumber\" style = \"font-weight: bold; text-align: right;\">3</td><td style = \"text-align: right;\">15</td><td style = \"text-align: left;\">Divorced</td><td style = \"text-align: left;\">F</td><td style = \"text-align: right;\">40000</td><td style = \"text-align: right;\">242</td></tr><tr><td class = \"rowNumber\" style = \"font-weight: bold; text-align: right;\">4</td><td style = \"text-align: right;\">20</td><td style = \"text-align: left;\">Divorced</td><td style = \"text-align: left;\">F</td><td style = \"text-align: right;\">40000</td><td style = \"text-align: right;\">932</td></tr><tr><td class = \"rowNumber\" style = \"font-weight: bold; text-align: right;\">5</td><td style = \"text-align: right;\">25</td><td style = \"text-align: left;\">Divorced</td><td style = \"text-align: left;\">F</td><td style = \"text-align: right;\">40000</td><td style = \"text-align: right;\">921</td></tr><tr><td class = \"rowNumber\" style = \"font-weight: bold; text-align: right;\">6</td><td style = \"text-align: right;\">30</td><td style = \"text-align: left;\">Divorced</td><td style = \"text-align: left;\">F</td><td style = \"text-align: right;\">40000</td><td style = \"text-align: right;\">198</td></tr><tr><td class = \"rowNumber\" style = \"font-weight: bold; text-align: right;\">7</td><td style = \"text-align: right;\">35</td><td style = \"text-align: left;\">Divorced</td><td style = \"text-align: left;\">F</td><td style = \"text-align: right;\">40000</td><td style = \"text-align: right;\">199</td></tr><tr><td class = \"rowNumber\" style = \"font-weight: bold; text-align: right;\">8</td><td style = \"text-align: right;\">40</td><td style = \"text-align: left;\">Divorced</td><td style = \"text-align: left;\">F</td><td style = \"text-align: right;\">40000</td><td style = \"text-align: right;\">201</td></tr><tr><td class = \"rowNumber\" style = \"font-weight: bold; text-align: right;\">9</td><td style = \"text-align: right;\">45</td><td style = \"text-align: left;\">Divorced</td><td style = \"text-align: left;\">F</td><td style = \"text-align: right;\">40000</td><td style = \"text-align: right;\">200</td></tr><tr><td class = \"rowNumber\" style = \"font-weight: bold; text-align: right;\">10</td><td style = \"text-align: right;\">50</td><td style = \"text-align: left;\">Divorced</td><td style = \"text-align: left;\">F</td><td style = \"text-align: right;\">40000</td><td style = \"text-align: right;\">198</td></tr><tr><td class = \"rowNumber\" style = \"font-weight: bold; text-align: right;\">11</td><td style = \"text-align: right;\">55</td><td style = \"text-align: left;\">Divorced</td><td style = \"text-align: left;\">F</td><td style = \"text-align: right;\">40000</td><td style = \"text-align: right;\">201</td></tr><tr><td class = \"rowNumber\" style = \"font-weight: bold; text-align: right;\">12</td><td style = \"text-align: right;\">60</td><td style = \"text-align: left;\">Divorced</td><td style = \"text-align: left;\">F</td><td style = \"text-align: right;\">40000</td><td style = \"text-align: right;\">202</td></tr><tr><td class = \"rowNumber\" style = \"font-weight: bold; text-align: right;\">13</td><td style = \"text-align: right;\">65</td><td style = \"text-align: left;\">Divorced</td><td style = \"text-align: left;\">F</td><td style = \"text-align: right;\">40000</td><td style = \"text-align: right;\">198</td></tr><tr><td style = \"text-align: right;\">&vellip;</td><td style = \"text-align: right;\">&vellip;</td><td style = \"text-align: right;\">&vellip;</td><td style = \"text-align: right;\">&vellip;</td><td style = \"text-align: right;\">&vellip;</td><td style = \"text-align: right;\">&vellip;</td></tr><tr><td class = \"rowNumber\" style = \"font-weight: bold; text-align: right;\">629</td><td style = \"text-align: right;\">25</td><td style = \"text-align: left;\">Widowed</td><td style = \"text-align: left;\">M</td><td style = \"text-align: right;\">80000</td><td style = \"text-align: right;\">0</td></tr><tr><td class = \"rowNumber\" style = \"font-weight: bold; text-align: right;\">630</td><td style = \"text-align: right;\">30</td><td style = \"text-align: left;\">Widowed</td><td style = \"text-align: left;\">M</td><td style = \"text-align: right;\">80000</td><td style = \"text-align: right;\">627</td></tr><tr><td class = \"rowNumber\" style = \"font-weight: bold; text-align: right;\">631</td><td style = \"text-align: right;\">35</td><td style = \"text-align: left;\">Widowed</td><td style = \"text-align: left;\">M</td><td style = \"text-align: right;\">80000</td><td style = \"text-align: right;\">623</td></tr><tr><td class = \"rowNumber\" style = \"font-weight: bold; text-align: right;\">632</td><td style = \"text-align: right;\">40</td><td style = \"text-align: left;\">Widowed</td><td style = \"text-align: left;\">M</td><td style = \"text-align: right;\">80000</td><td style = \"text-align: right;\">638</td></tr><tr><td class = \"rowNumber\" style = \"font-weight: bold; text-align: right;\">633</td><td style = \"text-align: right;\">45</td><td style = \"text-align: left;\">Widowed</td><td style = \"text-align: left;\">M</td><td style = \"text-align: right;\">80000</td><td style = \"text-align: right;\">626</td></tr><tr><td class = \"rowNumber\" style = \"font-weight: bold; text-align: right;\">634</td><td style = \"text-align: right;\">50</td><td style = \"text-align: left;\">Widowed</td><td style = \"text-align: left;\">M</td><td style = \"text-align: right;\">80000</td><td style = \"text-align: right;\">631</td></tr><tr><td class = \"rowNumber\" style = \"font-weight: bold; text-align: right;\">635</td><td style = \"text-align: right;\">55</td><td style = \"text-align: left;\">Widowed</td><td style = \"text-align: left;\">M</td><td style = \"text-align: right;\">80000</td><td style = \"text-align: right;\">629</td></tr><tr><td class = \"rowNumber\" style = \"font-weight: bold; text-align: right;\">636</td><td style = \"text-align: right;\">60</td><td style = \"text-align: left;\">Widowed</td><td style = \"text-align: left;\">M</td><td style = \"text-align: right;\">80000</td><td style = \"text-align: right;\">638</td></tr><tr><td class = \"rowNumber\" style = \"font-weight: bold; text-align: right;\">637</td><td style = \"text-align: right;\">65</td><td style = \"text-align: left;\">Widowed</td><td style = \"text-align: left;\">M</td><td style = \"text-align: right;\">80000</td><td style = \"text-align: right;\">634</td></tr><tr><td class = \"rowNumber\" style = \"font-weight: bold; text-align: right;\">638</td><td style = \"text-align: right;\">70</td><td style = \"text-align: left;\">Widowed</td><td style = \"text-align: left;\">M</td><td style = \"text-align: right;\">80000</td><td style = \"text-align: right;\">619</td></tr><tr><td class = \"rowNumber\" style = \"font-weight: bold; text-align: right;\">639</td><td style = \"text-align: right;\">75</td><td style = \"text-align: left;\">Widowed</td><td style = \"text-align: left;\">M</td><td style = \"text-align: right;\">80000</td><td style = \"text-align: right;\">626</td></tr><tr><td class = \"rowNumber\" style = \"font-weight: bold; text-align: right;\">640</td><td style = \"text-align: right;\">80</td><td style = \"text-align: left;\">Widowed</td><td style = \"text-align: left;\">M</td><td style = \"text-align: right;\">80000</td><td style = \"text-align: right;\">625</td></tr></tbody></table></div>"
      ],
      "text/latex": [
       "\\begin{tabular}{r|ccccc}\n",
       "\t& AGE & MARITAL\\_STATUS & SEX & INCOME & population\\\\\n",
       "\t\\hline\n",
       "\t& Int64 & String & Char & Int64 & Int64\\\\\n",
       "\t\\hline\n",
       "\t1 & 5 & Divorced & F & 40000 & 246 \\\\\n",
       "\t2 & 10 & Divorced & F & 40000 & 244 \\\\\n",
       "\t3 & 15 & Divorced & F & 40000 & 242 \\\\\n",
       "\t4 & 20 & Divorced & F & 40000 & 932 \\\\\n",
       "\t5 & 25 & Divorced & F & 40000 & 921 \\\\\n",
       "\t6 & 30 & Divorced & F & 40000 & 198 \\\\\n",
       "\t7 & 35 & Divorced & F & 40000 & 199 \\\\\n",
       "\t8 & 40 & Divorced & F & 40000 & 201 \\\\\n",
       "\t9 & 45 & Divorced & F & 40000 & 200 \\\\\n",
       "\t10 & 50 & Divorced & F & 40000 & 198 \\\\\n",
       "\t11 & 55 & Divorced & F & 40000 & 201 \\\\\n",
       "\t12 & 60 & Divorced & F & 40000 & 202 \\\\\n",
       "\t13 & 65 & Divorced & F & 40000 & 198 \\\\\n",
       "\t14 & 70 & Divorced & F & 40000 & 201 \\\\\n",
       "\t15 & 75 & Divorced & F & 40000 & 199 \\\\\n",
       "\t16 & 80 & Divorced & F & 40000 & 200 \\\\\n",
       "\t17 & 5 & Married & F & 40000 & 368 \\\\\n",
       "\t18 & 10 & Married & F & 40000 & 364 \\\\\n",
       "\t19 & 15 & Married & F & 40000 & 362 \\\\\n",
       "\t20 & 20 & Married & F & 40000 & 1391 \\\\\n",
       "\t21 & 25 & Married & F & 40000 & 1375 \\\\\n",
       "\t22 & 30 & Married & F & 40000 & 295 \\\\\n",
       "\t23 & 35 & Married & F & 40000 & 297 \\\\\n",
       "\t24 & 40 & Married & F & 40000 & 300 \\\\\n",
       "\t$\\dots$ & $\\dots$ & $\\dots$ & $\\dots$ & $\\dots$ & $\\dots$ \\\\\n",
       "\\end{tabular}\n"
      ],
      "text/plain": [
       "\u001b[1m640×5 DataFrame\u001b[0m\n",
       "\u001b[1m Row \u001b[0m│\u001b[1m AGE   \u001b[0m\u001b[1m MARITAL_STATUS \u001b[0m\u001b[1m SEX  \u001b[0m\u001b[1m INCOME \u001b[0m\u001b[1m population \u001b[0m\n",
       "     │\u001b[90m Int64 \u001b[0m\u001b[90m String         \u001b[0m\u001b[90m Char \u001b[0m\u001b[90m Int64  \u001b[0m\u001b[90m Int64      \u001b[0m\n",
       "─────┼─────────────────────────────────────────────────\n",
       "   1 │     5  Divorced        F      40000         246\n",
       "   2 │    10  Divorced        F      40000         244\n",
       "   3 │    15  Divorced        F      40000         242\n",
       "   4 │    20  Divorced        F      40000         932\n",
       "   5 │    25  Divorced        F      40000         921\n",
       "   6 │    30  Divorced        F      40000         198\n",
       "   7 │    35  Divorced        F      40000         199\n",
       "   8 │    40  Divorced        F      40000         201\n",
       "  ⋮  │   ⋮          ⋮          ⋮      ⋮         ⋮\n",
       " 634 │    50  Widowed         M      80000         631\n",
       " 635 │    55  Widowed         M      80000         629\n",
       " 636 │    60  Widowed         M      80000         638\n",
       " 637 │    65  Widowed         M      80000         634\n",
       " 638 │    70  Widowed         M      80000         619\n",
       " 639 │    75  Widowed         M      80000         626\n",
       " 640 │    80  Widowed         M      80000         625\n",
       "\u001b[36m                                       625 rows omitted\u001b[0m"
      ]
     },
     "metadata": {},
     "output_type": "display_data"
    }
   ],
   "source": [
    "ponge_et_al = SyntheticPopulation.generate_joint_distribution(dependent_age_sex, dependent_sex_marital, dependent_income, config_file = \"ind_ponge2021.json\")\n",
    "ponge_et_al = ponge_et_al[:, Not(:id)]"
   ]
  },
  {
   "attachments": {},
   "cell_type": "markdown",
   "metadata": {},
   "source": [
    "#### Modified algorithm"
   ]
  },
  {
   "cell_type": "code",
   "execution_count": 27,
   "metadata": {
    "scrolled": true
   },
   "outputs": [
    {
     "name": "stderr",
     "output_type": "stream",
     "text": [
      "┌ Warning: Did not converge. Try increasing the number of iterations. Maximum absolute difference between subsequent iterations: NaN\n",
      "└ @ ProportionalFitting /Users/marcinzurek/.julia/packages/ProportionalFitting/gNJEu/src/ipf.jl:128\n",
      "┌ Info: Converged in 2 iterations.\n",
      "└ @ ProportionalFitting /Users/marcinzurek/.julia/packages/ProportionalFitting/gNJEu/src/ipf.jl:130\n",
      "┌ Warning: Did not converge. Try increasing the number of iterations. Maximum absolute difference between subsequent iterations: NaN\n",
      "└ @ ProportionalFitting /Users/marcinzurek/.julia/packages/ProportionalFitting/gNJEu/src/ipf.jl:128\n",
      "┌ Info: Converged in 2 iterations.\n",
      "└ @ ProportionalFitting /Users/marcinzurek/.julia/packages/ProportionalFitting/gNJEu/src/ipf.jl:130\n",
      "┌ Info: Inconsistent target margins, converting `X` and `mar` to proportions. Margin totals: [30008, 120000]\n",
      "└ @ ProportionalFitting /Users/marcinzurek/.julia/packages/ProportionalFitting/gNJEu/src/ipf.jl:61\n",
      "┌ Info: Converged in 1 iterations.\n",
      "└ @ ProportionalFitting /Users/marcinzurek/.julia/packages/ProportionalFitting/gNJEu/src/ipf.jl:130\n",
      "┌ Info: Inconsistent target margins, converting `X` and `mar` to proportions. Margin totals: [29992, 120000]\n",
      "└ @ ProportionalFitting /Users/marcinzurek/.julia/packages/ProportionalFitting/gNJEu/src/ipf.jl:61\n",
      "┌ Info: Converged in 1 iterations.\n",
      "└ @ ProportionalFitting /Users/marcinzurek/.julia/packages/ProportionalFitting/gNJEu/src/ipf.jl:130\n",
      "┌ Info: Inconsistent target margins, converting `X` and `mar` to proportions. Margin totals: [239998, 240000]\n",
      "└ @ ProportionalFitting /Users/marcinzurek/.julia/packages/ProportionalFitting/gNJEu/src/ipf.jl:61\n",
      "┌ Info: Converged in 22 iterations.\n",
      "└ @ ProportionalFitting /Users/marcinzurek/.julia/packages/ProportionalFitting/gNJEu/src/ipf.jl:130\n",
      "┌ Info: Inconsistent target margins, converting `X` and `mar` to proportions. Margin totals: [60004, 240000]\n",
      "└ @ ProportionalFitting /Users/marcinzurek/.julia/packages/ProportionalFitting/gNJEu/src/ipf.jl:61\n",
      "┌ Info: Converged in 1 iterations.\n",
      "└ @ ProportionalFitting /Users/marcinzurek/.julia/packages/ProportionalFitting/gNJEu/src/ipf.jl:130\n"
     ]
    },
    {
     "data": {
      "text/html": [
       "<div><div style = \"float: left;\"><span>526×5 DataFrame</span></div><div style = \"float: right;\"><span style = \"font-style: italic;\">501 rows omitted</span></div><div style = \"clear: both;\"></div></div><div class = \"data-frame\" style = \"overflow-x: scroll;\"><table class = \"data-frame\" style = \"margin-bottom: 6px;\"><thead><tr class = \"header\"><th class = \"rowNumber\" style = \"font-weight: bold; text-align: right;\">Row</th><th style = \"text-align: left;\">AGE</th><th style = \"text-align: left;\">MARITAL_STATUS</th><th style = \"text-align: left;\">SEX</th><th style = \"text-align: left;\">INCOME</th><th style = \"text-align: left;\">population</th></tr><tr class = \"subheader headerLastRow\"><th class = \"rowNumber\" style = \"font-weight: bold; text-align: right;\"></th><th title = \"Union{Missing, Int64}\" style = \"text-align: left;\">Int64?</th><th title = \"Union{Missing, String}\" style = \"text-align: left;\">String?</th><th title = \"Union{Missing, Char}\" style = \"text-align: left;\">Char?</th><th title = \"Union{Missing, Int64}\" style = \"text-align: left;\">Int64?</th><th title = \"Int64\" style = \"text-align: left;\">Int64</th></tr></thead><tbody><tr><td class = \"rowNumber\" style = \"font-weight: bold; text-align: right;\">1</td><td style = \"text-align: right;\">5</td><td style = \"font-style: italic; text-align: left;\">missing</td><td style = \"text-align: left;\">F</td><td style = \"font-style: italic; text-align: right;\">missing</td><td style = \"text-align: right;\">10088</td></tr><tr><td class = \"rowNumber\" style = \"font-weight: bold; text-align: right;\">2</td><td style = \"text-align: right;\">10</td><td style = \"font-style: italic; text-align: left;\">missing</td><td style = \"text-align: left;\">F</td><td style = \"font-style: italic; text-align: right;\">missing</td><td style = \"text-align: right;\">9997</td></tr><tr><td class = \"rowNumber\" style = \"font-weight: bold; text-align: right;\">3</td><td style = \"text-align: right;\">15</td><td style = \"font-style: italic; text-align: left;\">missing</td><td style = \"text-align: left;\">F</td><td style = \"font-style: italic; text-align: right;\">missing</td><td style = \"text-align: right;\">9928</td></tr><tr><td class = \"rowNumber\" style = \"font-weight: bold; text-align: right;\">4</td><td style = \"text-align: right;\">20</td><td style = \"text-align: left;\">Divorced</td><td style = \"text-align: left;\">F</td><td style = \"text-align: right;\">40000</td><td style = \"text-align: right;\">932</td></tr><tr><td class = \"rowNumber\" style = \"font-weight: bold; text-align: right;\">5</td><td style = \"text-align: right;\">25</td><td style = \"text-align: left;\">Divorced</td><td style = \"text-align: left;\">F</td><td style = \"text-align: right;\">40000</td><td style = \"text-align: right;\">921</td></tr><tr><td class = \"rowNumber\" style = \"font-weight: bold; text-align: right;\">6</td><td style = \"text-align: right;\">30</td><td style = \"text-align: left;\">Divorced</td><td style = \"text-align: left;\">F</td><td style = \"text-align: right;\">40000</td><td style = \"text-align: right;\">178</td></tr><tr><td class = \"rowNumber\" style = \"font-weight: bold; text-align: right;\">7</td><td style = \"text-align: right;\">35</td><td style = \"text-align: left;\">Divorced</td><td style = \"text-align: left;\">F</td><td style = \"text-align: right;\">40000</td><td style = \"text-align: right;\">179</td></tr><tr><td class = \"rowNumber\" style = \"font-weight: bold; text-align: right;\">8</td><td style = \"text-align: right;\">40</td><td style = \"text-align: left;\">Divorced</td><td style = \"text-align: left;\">F</td><td style = \"text-align: right;\">40000</td><td style = \"text-align: right;\">180</td></tr><tr><td class = \"rowNumber\" style = \"font-weight: bold; text-align: right;\">9</td><td style = \"text-align: right;\">45</td><td style = \"text-align: left;\">Divorced</td><td style = \"text-align: left;\">F</td><td style = \"text-align: right;\">40000</td><td style = \"text-align: right;\">180</td></tr><tr><td class = \"rowNumber\" style = \"font-weight: bold; text-align: right;\">10</td><td style = \"text-align: right;\">50</td><td style = \"text-align: left;\">Divorced</td><td style = \"text-align: left;\">F</td><td style = \"text-align: right;\">40000</td><td style = \"text-align: right;\">177</td></tr><tr><td class = \"rowNumber\" style = \"font-weight: bold; text-align: right;\">11</td><td style = \"text-align: right;\">55</td><td style = \"text-align: left;\">Divorced</td><td style = \"text-align: left;\">F</td><td style = \"text-align: right;\">40000</td><td style = \"text-align: right;\">181</td></tr><tr><td class = \"rowNumber\" style = \"font-weight: bold; text-align: right;\">12</td><td style = \"text-align: right;\">60</td><td style = \"text-align: left;\">Divorced</td><td style = \"text-align: left;\">F</td><td style = \"text-align: right;\">40000</td><td style = \"text-align: right;\">182</td></tr><tr><td class = \"rowNumber\" style = \"font-weight: bold; text-align: right;\">13</td><td style = \"text-align: right;\">65</td><td style = \"text-align: left;\">Divorced</td><td style = \"text-align: left;\">F</td><td style = \"text-align: right;\">40000</td><td style = \"text-align: right;\">178</td></tr><tr><td style = \"text-align: right;\">&vellip;</td><td style = \"text-align: right;\">&vellip;</td><td style = \"text-align: right;\">&vellip;</td><td style = \"text-align: right;\">&vellip;</td><td style = \"text-align: right;\">&vellip;</td><td style = \"text-align: right;\">&vellip;</td></tr><tr><td class = \"rowNumber\" style = \"font-weight: bold; text-align: right;\">515</td><td style = \"text-align: right;\">25</td><td style = \"text-align: left;\">Widowed</td><td style = \"text-align: left;\">M</td><td style = \"text-align: right;\">80000</td><td style = \"text-align: right;\">0</td></tr><tr><td class = \"rowNumber\" style = \"font-weight: bold; text-align: right;\">516</td><td style = \"text-align: right;\">30</td><td style = \"text-align: left;\">Widowed</td><td style = \"text-align: left;\">M</td><td style = \"text-align: right;\">80000</td><td style = \"text-align: right;\">669</td></tr><tr><td class = \"rowNumber\" style = \"font-weight: bold; text-align: right;\">517</td><td style = \"text-align: right;\">35</td><td style = \"text-align: left;\">Widowed</td><td style = \"text-align: left;\">M</td><td style = \"text-align: right;\">80000</td><td style = \"text-align: right;\">665</td></tr><tr><td class = \"rowNumber\" style = \"font-weight: bold; text-align: right;\">518</td><td style = \"text-align: right;\">40</td><td style = \"text-align: left;\">Widowed</td><td style = \"text-align: left;\">M</td><td style = \"text-align: right;\">80000</td><td style = \"text-align: right;\">680</td></tr><tr><td class = \"rowNumber\" style = \"font-weight: bold; text-align: right;\">519</td><td style = \"text-align: right;\">45</td><td style = \"text-align: left;\">Widowed</td><td style = \"text-align: left;\">M</td><td style = \"text-align: right;\">80000</td><td style = \"text-align: right;\">668</td></tr><tr><td class = \"rowNumber\" style = \"font-weight: bold; text-align: right;\">520</td><td style = \"text-align: right;\">50</td><td style = \"text-align: left;\">Widowed</td><td style = \"text-align: left;\">M</td><td style = \"text-align: right;\">80000</td><td style = \"text-align: right;\">673</td></tr><tr><td class = \"rowNumber\" style = \"font-weight: bold; text-align: right;\">521</td><td style = \"text-align: right;\">55</td><td style = \"text-align: left;\">Widowed</td><td style = \"text-align: left;\">M</td><td style = \"text-align: right;\">80000</td><td style = \"text-align: right;\">671</td></tr><tr><td class = \"rowNumber\" style = \"font-weight: bold; text-align: right;\">522</td><td style = \"text-align: right;\">60</td><td style = \"text-align: left;\">Widowed</td><td style = \"text-align: left;\">M</td><td style = \"text-align: right;\">80000</td><td style = \"text-align: right;\">680</td></tr><tr><td class = \"rowNumber\" style = \"font-weight: bold; text-align: right;\">523</td><td style = \"text-align: right;\">65</td><td style = \"text-align: left;\">Widowed</td><td style = \"text-align: left;\">M</td><td style = \"text-align: right;\">80000</td><td style = \"text-align: right;\">676</td></tr><tr><td class = \"rowNumber\" style = \"font-weight: bold; text-align: right;\">524</td><td style = \"text-align: right;\">70</td><td style = \"text-align: left;\">Widowed</td><td style = \"text-align: left;\">M</td><td style = \"text-align: right;\">80000</td><td style = \"text-align: right;\">660</td></tr><tr><td class = \"rowNumber\" style = \"font-weight: bold; text-align: right;\">525</td><td style = \"text-align: right;\">75</td><td style = \"text-align: left;\">Widowed</td><td style = \"text-align: left;\">M</td><td style = \"text-align: right;\">80000</td><td style = \"text-align: right;\">668</td></tr><tr><td class = \"rowNumber\" style = \"font-weight: bold; text-align: right;\">526</td><td style = \"text-align: right;\">80</td><td style = \"text-align: left;\">Widowed</td><td style = \"text-align: left;\">M</td><td style = \"text-align: right;\">80000</td><td style = \"text-align: right;\">667</td></tr></tbody></table></div>"
      ],
      "text/latex": [
       "\\begin{tabular}{r|ccccc}\n",
       "\t& AGE & MARITAL\\_STATUS & SEX & INCOME & population\\\\\n",
       "\t\\hline\n",
       "\t& Int64? & String? & Char? & Int64? & Int64\\\\\n",
       "\t\\hline\n",
       "\t1 & 5 & \\emph{missing} & F & \\emph{missing} & 10088 \\\\\n",
       "\t2 & 10 & \\emph{missing} & F & \\emph{missing} & 9997 \\\\\n",
       "\t3 & 15 & \\emph{missing} & F & \\emph{missing} & 9928 \\\\\n",
       "\t4 & 20 & Divorced & F & 40000 & 932 \\\\\n",
       "\t5 & 25 & Divorced & F & 40000 & 921 \\\\\n",
       "\t6 & 30 & Divorced & F & 40000 & 178 \\\\\n",
       "\t7 & 35 & Divorced & F & 40000 & 179 \\\\\n",
       "\t8 & 40 & Divorced & F & 40000 & 180 \\\\\n",
       "\t9 & 45 & Divorced & F & 40000 & 180 \\\\\n",
       "\t10 & 50 & Divorced & F & 40000 & 177 \\\\\n",
       "\t11 & 55 & Divorced & F & 40000 & 181 \\\\\n",
       "\t12 & 60 & Divorced & F & 40000 & 182 \\\\\n",
       "\t13 & 65 & Divorced & F & 40000 & 178 \\\\\n",
       "\t14 & 70 & Divorced & F & 40000 & 181 \\\\\n",
       "\t15 & 75 & Divorced & F & 40000 & 179 \\\\\n",
       "\t16 & 80 & Divorced & F & 40000 & 179 \\\\\n",
       "\t17 & 20 & Married & F & 40000 & 1391 \\\\\n",
       "\t18 & 25 & Married & F & 40000 & 1375 \\\\\n",
       "\t19 & 30 & Married & F & 40000 & 265 \\\\\n",
       "\t20 & 35 & Married & F & 40000 & 267 \\\\\n",
       "\t21 & 40 & Married & F & 40000 & 269 \\\\\n",
       "\t22 & 45 & Married & F & 40000 & 269 \\\\\n",
       "\t23 & 50 & Married & F & 40000 & 265 \\\\\n",
       "\t24 & 55 & Married & F & 40000 & 270 \\\\\n",
       "\t$\\dots$ & $\\dots$ & $\\dots$ & $\\dots$ & $\\dots$ & $\\dots$ \\\\\n",
       "\\end{tabular}\n"
      ],
      "text/plain": [
       "\u001b[1m526×5 DataFrame\u001b[0m\n",
       "\u001b[1m Row \u001b[0m│\u001b[1m AGE    \u001b[0m\u001b[1m MARITAL_STATUS \u001b[0m\u001b[1m SEX   \u001b[0m\u001b[1m INCOME  \u001b[0m\u001b[1m population \u001b[0m\n",
       "     │\u001b[90m Int64? \u001b[0m\u001b[90m String?        \u001b[0m\u001b[90m Char? \u001b[0m\u001b[90m Int64?  \u001b[0m\u001b[90m Int64      \u001b[0m\n",
       "─────┼────────────────────────────────────────────────────\n",
       "   1 │      5 \u001b[90m missing        \u001b[0m F     \u001b[90m missing \u001b[0m      10088\n",
       "   2 │     10 \u001b[90m missing        \u001b[0m F     \u001b[90m missing \u001b[0m       9997\n",
       "   3 │     15 \u001b[90m missing        \u001b[0m F     \u001b[90m missing \u001b[0m       9928\n",
       "   4 │     20  Divorced        F        40000         932\n",
       "   5 │     25  Divorced        F        40000         921\n",
       "   6 │     30  Divorced        F        40000         178\n",
       "   7 │     35  Divorced        F        40000         179\n",
       "   8 │     40  Divorced        F        40000         180\n",
       "  ⋮  │   ⋮           ⋮           ⋮       ⋮         ⋮\n",
       " 520 │     50  Widowed         M        80000         673\n",
       " 521 │     55  Widowed         M        80000         671\n",
       " 522 │     60  Widowed         M        80000         680\n",
       " 523 │     65  Widowed         M        80000         676\n",
       " 524 │     70  Widowed         M        80000         660\n",
       " 525 │     75  Widowed         M        80000         668\n",
       " 526 │     80  Widowed         M        80000         667\n",
       "\u001b[36m                                          511 rows omitted\u001b[0m"
      ]
     },
     "metadata": {},
     "output_type": "display_data"
    }
   ],
   "source": [
    "modified = SyntheticPopulation.generate_joint_distribution(dependent_age_sex, dependent_sex_marital, dependent_income, config_file = \"ind_modified.json\")\n",
    "modified = modified[:, Not(:id)]"
   ]
  },
  {
   "attachments": {},
   "cell_type": "markdown",
   "metadata": {},
   "source": [
    "### 1.4. Evaluation of fit of generated dependent population.\n",
    "Finally, we evaluate if the generated population is correct. We use approach based on Z-score described by [Williamson, 2013] [1].\n",
    "\n",
    "\n",
    "[1] Williamson, P. (2013). An evaluation of two synthetic small-area microdata simulation methodologies: Synthetic reconstruction and combinatorial optimisation. Spatial microsimulation: A reference guide for users, 19-47. https://ndl.ethernet.edu.et/bitstream/123456789/14722/1/205.pdf#page=38"
   ]
  },
  {
   "attachments": {},
   "cell_type": "markdown",
   "metadata": {},
   "source": [
    "#### Guo, Bhat, 2007"
   ]
  },
  {
   "cell_type": "code",
   "execution_count": 28,
   "metadata": {},
   "outputs": [
    {
     "name": "stdout",
     "output_type": "stream",
     "text": [
      "=================\n",
      "=Cell statistics=\n",
      "=================\n",
      "Percentage of well fitting values at 0.95 confidence interval: 0.011406844106463879\n",
      "Percentage of well fitting values at 0.90 confidence interval: 0.0076045627376425855\n",
      "\n",
      "==================\n",
      "=Table statistics=\n",
      "==================\n",
      "Statistic value equals: Inf\n",
      "Table is not well fitting.\n",
      "\n"
     ]
    },
    {
     "data": {
      "text/html": [
       "<div><div style = \"float: left;\"><span>526×7 DataFrame</span></div><div style = \"float: right;\"><span style = \"font-style: italic;\">501 rows omitted</span></div><div style = \"clear: both;\"></div></div><div class = \"data-frame\" style = \"overflow-x: scroll;\"><table class = \"data-frame\" style = \"margin-bottom: 6px;\"><thead><tr class = \"header\"><th class = \"rowNumber\" style = \"font-weight: bold; text-align: right;\">Row</th><th style = \"text-align: left;\">AGE</th><th style = \"text-align: left;\">MARITAL_STATUS</th><th style = \"text-align: left;\">SEX</th><th style = \"text-align: left;\">INCOME</th><th style = \"text-align: left;\">population</th><th style = \"text-align: left;\">estimated_population</th><th style = \"text-align: left;\">Z_score</th></tr><tr class = \"subheader headerLastRow\"><th class = \"rowNumber\" style = \"font-weight: bold; text-align: right;\"></th><th title = \"Int64\" style = \"text-align: left;\">Int64</th><th title = \"Union{Missing, String}\" style = \"text-align: left;\">String?</th><th title = \"Char\" style = \"text-align: left;\">Char</th><th title = \"Union{Missing, Int64}\" style = \"text-align: left;\">Int64?</th><th title = \"Int64\" style = \"text-align: left;\">Int64</th><th title = \"Union{Missing, Int64}\" style = \"text-align: left;\">Int64?</th><th title = \"Float64\" style = \"text-align: left;\">Float64</th></tr></thead><tbody><tr><td class = \"rowNumber\" style = \"font-weight: bold; text-align: right;\">1</td><td style = \"text-align: right;\">20</td><td style = \"text-align: left;\">Divorced</td><td style = \"text-align: left;\">F</td><td style = \"text-align: right;\">40000</td><td style = \"text-align: right;\">249</td><td style = \"text-align: right;\">481</td><td style = \"text-align: right;\">-14.7085</td></tr><tr><td class = \"rowNumber\" style = \"font-weight: bold; text-align: right;\">2</td><td style = \"text-align: right;\">20</td><td style = \"text-align: left;\">Divorced</td><td style = \"text-align: left;\">F</td><td style = \"text-align: right;\">50000</td><td style = \"text-align: right;\">2821</td><td style = \"text-align: right;\">1087</td><td style = \"text-align: right;\">32.8019</td></tr><tr><td class = \"rowNumber\" style = \"font-weight: bold; text-align: right;\">3</td><td style = \"text-align: right;\">20</td><td style = \"text-align: left;\">Divorced</td><td style = \"text-align: left;\">F</td><td style = \"text-align: right;\">60000</td><td style = \"text-align: right;\">0</td><td style = \"text-align: right;\">511</td><td style = \"text-align: right;\">-Inf</td></tr><tr><td class = \"rowNumber\" style = \"font-weight: bold; text-align: right;\">4</td><td style = \"text-align: right;\">20</td><td style = \"text-align: left;\">Divorced</td><td style = \"text-align: left;\">F</td><td style = \"text-align: right;\">70000</td><td style = \"text-align: right;\">0</td><td style = \"text-align: right;\">487</td><td style = \"text-align: right;\">-Inf</td></tr><tr><td class = \"rowNumber\" style = \"font-weight: bold; text-align: right;\">5</td><td style = \"text-align: right;\">20</td><td style = \"text-align: left;\">Divorced</td><td style = \"text-align: left;\">F</td><td style = \"text-align: right;\">80000</td><td style = \"text-align: right;\">0</td><td style = \"text-align: right;\">471</td><td style = \"text-align: right;\">-Inf</td></tr><tr><td class = \"rowNumber\" style = \"font-weight: bold; text-align: right;\">6</td><td style = \"text-align: right;\">20</td><td style = \"text-align: left;\">Divorced</td><td style = \"text-align: left;\">M</td><td style = \"text-align: right;\">40000</td><td style = \"text-align: right;\">431</td><td style = \"text-align: right;\">714</td><td style = \"text-align: right;\">-13.6414</td></tr><tr><td class = \"rowNumber\" style = \"font-weight: bold; text-align: right;\">7</td><td style = \"text-align: right;\">20</td><td style = \"text-align: left;\">Divorced</td><td style = \"text-align: left;\">M</td><td style = \"text-align: right;\">50000</td><td style = \"text-align: right;\">4111</td><td style = \"text-align: right;\">1614</td><td style = \"text-align: right;\">39.214</td></tr><tr><td class = \"rowNumber\" style = \"font-weight: bold; text-align: right;\">8</td><td style = \"text-align: right;\">20</td><td style = \"text-align: left;\">Divorced</td><td style = \"text-align: left;\">M</td><td style = \"text-align: right;\">60000</td><td style = \"text-align: right;\">0</td><td style = \"text-align: right;\">759</td><td style = \"text-align: right;\">-Inf</td></tr><tr><td class = \"rowNumber\" style = \"font-weight: bold; text-align: right;\">9</td><td style = \"text-align: right;\">20</td><td style = \"text-align: left;\">Divorced</td><td style = \"text-align: left;\">M</td><td style = \"text-align: right;\">70000</td><td style = \"text-align: right;\">0</td><td style = \"text-align: right;\">724</td><td style = \"text-align: right;\">-Inf</td></tr><tr><td class = \"rowNumber\" style = \"font-weight: bold; text-align: right;\">10</td><td style = \"text-align: right;\">20</td><td style = \"text-align: left;\">Divorced</td><td style = \"text-align: left;\">M</td><td style = \"text-align: right;\">80000</td><td style = \"text-align: right;\">0</td><td style = \"text-align: right;\">700</td><td style = \"text-align: right;\">-Inf</td></tr><tr><td class = \"rowNumber\" style = \"font-weight: bold; text-align: right;\">11</td><td style = \"text-align: right;\">20</td><td style = \"text-align: left;\">Married</td><td style = \"text-align: left;\">F</td><td style = \"text-align: right;\">40000</td><td style = \"text-align: right;\">411</td><td style = \"text-align: right;\">718</td><td style = \"text-align: right;\">-15.1536</td></tr><tr><td class = \"rowNumber\" style = \"font-weight: bold; text-align: right;\">12</td><td style = \"text-align: right;\">20</td><td style = \"text-align: left;\">Married</td><td style = \"text-align: left;\">F</td><td style = \"text-align: right;\">50000</td><td style = \"text-align: right;\">4079</td><td style = \"text-align: right;\">1623</td><td style = \"text-align: right;\">38.719</td></tr><tr><td class = \"rowNumber\" style = \"font-weight: bold; text-align: right;\">13</td><td style = \"text-align: right;\">20</td><td style = \"text-align: left;\">Married</td><td style = \"text-align: left;\">F</td><td style = \"text-align: right;\">60000</td><td style = \"text-align: right;\">0</td><td style = \"text-align: right;\">763</td><td style = \"text-align: right;\">-Inf</td></tr><tr><td style = \"text-align: right;\">&vellip;</td><td style = \"text-align: right;\">&vellip;</td><td style = \"text-align: right;\">&vellip;</td><td style = \"text-align: right;\">&vellip;</td><td style = \"text-align: right;\">&vellip;</td><td style = \"text-align: right;\">&vellip;</td><td style = \"text-align: right;\">&vellip;</td><td style = \"text-align: right;\">&vellip;</td></tr><tr><td class = \"rowNumber\" style = \"font-weight: bold; text-align: right;\">515</td><td style = \"text-align: right;\">80</td><td style = \"text-align: left;\">Widowed</td><td style = \"text-align: left;\">F</td><td style = \"text-align: right;\">80000</td><td style = \"text-align: right;\">7</td><td style = \"text-align: right;\">127</td><td style = \"text-align: right;\">-45.3563</td></tr><tr><td class = \"rowNumber\" style = \"font-weight: bold; text-align: right;\">516</td><td style = \"text-align: right;\">80</td><td style = \"text-align: left;\">Widowed</td><td style = \"text-align: left;\">M</td><td style = \"text-align: right;\">40000</td><td style = \"text-align: right;\">23</td><td style = \"text-align: right;\">511</td><td style = \"text-align: right;\">-101.759</td></tr><tr><td class = \"rowNumber\" style = \"font-weight: bold; text-align: right;\">517</td><td style = \"text-align: right;\">80</td><td style = \"text-align: left;\">Widowed</td><td style = \"text-align: left;\">M</td><td style = \"text-align: right;\">50000</td><td style = \"text-align: right;\">231</td><td style = \"text-align: right;\">1154</td><td style = \"text-align: right;\">-60.7523</td></tr><tr><td class = \"rowNumber\" style = \"font-weight: bold; text-align: right;\">518</td><td style = \"text-align: right;\">80</td><td style = \"text-align: left;\">Widowed</td><td style = \"text-align: left;\">M</td><td style = \"text-align: right;\">60000</td><td style = \"text-align: right;\">668</td><td style = \"text-align: right;\">543</td><td style = \"text-align: right;\">4.84179</td></tr><tr><td class = \"rowNumber\" style = \"font-weight: bold; text-align: right;\">519</td><td style = \"text-align: right;\">80</td><td style = \"text-align: left;\">Widowed</td><td style = \"text-align: left;\">M</td><td style = \"text-align: right;\">70000</td><td style = \"text-align: right;\">979</td><td style = \"text-align: right;\">517</td><td style = \"text-align: right;\">14.7897</td></tr><tr><td class = \"rowNumber\" style = \"font-weight: bold; text-align: right;\">520</td><td style = \"text-align: right;\">80</td><td style = \"text-align: left;\">Widowed</td><td style = \"text-align: left;\">M</td><td style = \"text-align: right;\">80000</td><td style = \"text-align: right;\">1303</td><td style = \"text-align: right;\">500</td><td style = \"text-align: right;\">22.294</td></tr><tr><td class = \"rowNumber\" style = \"font-weight: bold; text-align: right;\">521</td><td style = \"text-align: right;\">5</td><td style = \"text-align: left;\">missing</td><td style = \"text-align: left;\">F</td><td style = \"text-align: right;\">missing</td><td style = \"text-align: right;\">10086</td><td style = \"text-align: right;\">0</td><td style = \"text-align: right;\">102.161</td></tr><tr><td class = \"rowNumber\" style = \"font-weight: bold; text-align: right;\">522</td><td style = \"text-align: right;\">5</td><td style = \"text-align: left;\">missing</td><td style = \"text-align: left;\">M</td><td style = \"text-align: right;\">missing</td><td style = \"text-align: right;\">10066</td><td style = \"text-align: right;\">0</td><td style = \"text-align: right;\">102.056</td></tr><tr><td class = \"rowNumber\" style = \"font-weight: bold; text-align: right;\">523</td><td style = \"text-align: right;\">10</td><td style = \"text-align: left;\">missing</td><td style = \"text-align: left;\">F</td><td style = \"text-align: right;\">missing</td><td style = \"text-align: right;\">9996</td><td style = \"text-align: right;\">0</td><td style = \"text-align: right;\">101.688</td></tr><tr><td class = \"rowNumber\" style = \"font-weight: bold; text-align: right;\">524</td><td style = \"text-align: right;\">10</td><td style = \"text-align: left;\">missing</td><td style = \"text-align: left;\">M</td><td style = \"text-align: right;\">missing</td><td style = \"text-align: right;\">9789</td><td style = \"text-align: right;\">0</td><td style = \"text-align: right;\">100.594</td></tr><tr><td class = \"rowNumber\" style = \"font-weight: bold; text-align: right;\">525</td><td style = \"text-align: right;\">15</td><td style = \"text-align: left;\">missing</td><td style = \"text-align: left;\">F</td><td style = \"text-align: right;\">missing</td><td style = \"text-align: right;\">9926</td><td style = \"text-align: right;\">0</td><td style = \"text-align: right;\">101.32</td></tr><tr><td class = \"rowNumber\" style = \"font-weight: bold; text-align: right;\">526</td><td style = \"text-align: right;\">15</td><td style = \"text-align: left;\">missing</td><td style = \"text-align: left;\">M</td><td style = \"text-align: right;\">missing</td><td style = \"text-align: right;\">10137</td><td style = \"text-align: right;\">0</td><td style = \"text-align: right;\">102.428</td></tr></tbody></table></div>"
      ],
      "text/latex": [
       "\\begin{tabular}{r|ccccccc}\n",
       "\t& AGE & MARITAL\\_STATUS & SEX & INCOME & population & estimated\\_population & Z\\_score\\\\\n",
       "\t\\hline\n",
       "\t& Int64 & String? & Char & Int64? & Int64 & Int64? & Float64\\\\\n",
       "\t\\hline\n",
       "\t1 & 20 & Divorced & F & 40000 & 249 & 481 & -14.7085 \\\\\n",
       "\t2 & 20 & Divorced & F & 50000 & 2821 & 1087 & 32.8019 \\\\\n",
       "\t3 & 20 & Divorced & F & 60000 & 0 & 511 & -Inf \\\\\n",
       "\t4 & 20 & Divorced & F & 70000 & 0 & 487 & -Inf \\\\\n",
       "\t5 & 20 & Divorced & F & 80000 & 0 & 471 & -Inf \\\\\n",
       "\t6 & 20 & Divorced & M & 40000 & 431 & 714 & -13.6414 \\\\\n",
       "\t7 & 20 & Divorced & M & 50000 & 4111 & 1614 & 39.214 \\\\\n",
       "\t8 & 20 & Divorced & M & 60000 & 0 & 759 & -Inf \\\\\n",
       "\t9 & 20 & Divorced & M & 70000 & 0 & 724 & -Inf \\\\\n",
       "\t10 & 20 & Divorced & M & 80000 & 0 & 700 & -Inf \\\\\n",
       "\t11 & 20 & Married & F & 40000 & 411 & 718 & -15.1536 \\\\\n",
       "\t12 & 20 & Married & F & 50000 & 4079 & 1623 & 38.719 \\\\\n",
       "\t13 & 20 & Married & F & 60000 & 0 & 763 & -Inf \\\\\n",
       "\t14 & 20 & Married & F & 70000 & 0 & 727 & -Inf \\\\\n",
       "\t15 & 20 & Married & F & 80000 & 0 & 703 & -Inf \\\\\n",
       "\t16 & 20 & Married & M & 40000 & 270 & 475 & -12.4815 \\\\\n",
       "\t17 & 20 & Married & M & 50000 & 2754 & 1073 & 32.1802 \\\\\n",
       "\t18 & 20 & Married & M & 60000 & 0 & 505 & -Inf \\\\\n",
       "\t19 & 20 & Married & M & 70000 & 0 & 481 & -Inf \\\\\n",
       "\t20 & 20 & Married & M & 80000 & 0 & 465 & -Inf \\\\\n",
       "\t21 & 20 & Not\\_married & F & 40000 & 559 & 951 & -16.5953 \\\\\n",
       "\t22 & 20 & Not\\_married & F & 50000 & 5463 & 2148 & 45.2646 \\\\\n",
       "\t23 & 20 & Not\\_married & F & 60000 & 0 & 1010 & -Inf \\\\\n",
       "\t24 & 20 & Not\\_married & F & 70000 & 0 & 963 & -Inf \\\\\n",
       "\t$\\dots$ & $\\dots$ & $\\dots$ & $\\dots$ & $\\dots$ & $\\dots$ & $\\dots$ & $\\dots$ \\\\\n",
       "\\end{tabular}\n"
      ],
      "text/plain": [
       "\u001b[1m526×7 DataFrame\u001b[0m\n",
       "\u001b[1m Row \u001b[0m│\u001b[1m AGE   \u001b[0m\u001b[1m MARITAL_STATUS \u001b[0m\u001b[1m SEX  \u001b[0m\u001b[1m INCOME  \u001b[0m\u001b[1m population \u001b[0m\u001b[1m estimated_population \u001b[0m\u001b[1m\u001b[0m ⋯\n",
       "     │\u001b[90m Int64 \u001b[0m\u001b[90m String?        \u001b[0m\u001b[90m Char \u001b[0m\u001b[90m Int64?  \u001b[0m\u001b[90m Int64      \u001b[0m\u001b[90m Int64?               \u001b[0m\u001b[90m\u001b[0m ⋯\n",
       "─────┼──────────────────────────────────────────────────────────────────────────\n",
       "   1 │    20  Divorced        F       40000         249                   481  ⋯\n",
       "   2 │    20  Divorced        F       50000        2821                  1087\n",
       "   3 │    20  Divorced        F       60000           0                   511\n",
       "   4 │    20  Divorced        F       70000           0                   487\n",
       "   5 │    20  Divorced        F       80000           0                   471  ⋯\n",
       "   6 │    20  Divorced        M       40000         431                   714\n",
       "   7 │    20  Divorced        M       50000        4111                  1614\n",
       "   8 │    20  Divorced        M       60000           0                   759\n",
       "  ⋮  │   ⋮          ⋮          ⋮       ⋮         ⋮                ⋮            ⋱\n",
       " 520 │    80  Widowed         M       80000        1303                   500  ⋯\n",
       " 521 │     5 \u001b[90m missing        \u001b[0m F    \u001b[90m missing \u001b[0m      10086                     0\n",
       " 522 │     5 \u001b[90m missing        \u001b[0m M    \u001b[90m missing \u001b[0m      10066                     0\n",
       " 523 │    10 \u001b[90m missing        \u001b[0m F    \u001b[90m missing \u001b[0m       9996                     0\n",
       " 524 │    10 \u001b[90m missing        \u001b[0m M    \u001b[90m missing \u001b[0m       9789                     0  ⋯\n",
       " 525 │    15 \u001b[90m missing        \u001b[0m F    \u001b[90m missing \u001b[0m       9926                     0\n",
       " 526 │    15 \u001b[90m missing        \u001b[0m M    \u001b[90m missing \u001b[0m      10137                     0\n",
       "\u001b[36m                                                   1 column and 511 rows omitted\u001b[0m"
      ]
     },
     "metadata": {},
     "output_type": "display_data"
    }
   ],
   "source": [
    "validate_table(guo_bhat, dependent_population)"
   ]
  },
  {
   "attachments": {},
   "cell_type": "markdown",
   "metadata": {},
   "source": [
    "#### Ponge, Enbergs, Schungel, Hellingrath, Karch, Ludwig, 2021"
   ]
  },
  {
   "cell_type": "code",
   "execution_count": 29,
   "metadata": {},
   "outputs": [
    {
     "name": "stdout",
     "output_type": "stream",
     "text": [
      "=================\n",
      "=Cell statistics=\n",
      "=================\n",
      "Percentage of well fitting values at 0.95 confidence interval: 0.2623574144486692\n",
      "Percentage of well fitting values at 0.90 confidence interval: 0.24904942965779467\n",
      "\n",
      "==================\n",
      "=Table statistics=\n",
      "==================\n",
      "Statistic value equals: 594442.2578293269\n",
      "Table is not well fitting.\n",
      "\n"
     ]
    },
    {
     "data": {
      "text/html": [
       "<div><div style = \"float: left;\"><span>526×7 DataFrame</span></div><div style = \"float: right;\"><span style = \"font-style: italic;\">501 rows omitted</span></div><div style = \"clear: both;\"></div></div><div class = \"data-frame\" style = \"overflow-x: scroll;\"><table class = \"data-frame\" style = \"margin-bottom: 6px;\"><thead><tr class = \"header\"><th class = \"rowNumber\" style = \"font-weight: bold; text-align: right;\">Row</th><th style = \"text-align: left;\">AGE</th><th style = \"text-align: left;\">MARITAL_STATUS</th><th style = \"text-align: left;\">SEX</th><th style = \"text-align: left;\">INCOME</th><th style = \"text-align: left;\">population</th><th style = \"text-align: left;\">estimated_population</th><th style = \"text-align: left;\">Z_score</th></tr><tr class = \"subheader headerLastRow\"><th class = \"rowNumber\" style = \"font-weight: bold; text-align: right;\"></th><th title = \"Int64\" style = \"text-align: left;\">Int64</th><th title = \"Union{Missing, String}\" style = \"text-align: left;\">String?</th><th title = \"Char\" style = \"text-align: left;\">Char</th><th title = \"Union{Missing, Int64}\" style = \"text-align: left;\">Int64?</th><th title = \"Int64\" style = \"text-align: left;\">Int64</th><th title = \"Union{Missing, Int64}\" style = \"text-align: left;\">Int64?</th><th title = \"Real\" style = \"text-align: left;\">Real</th></tr></thead><tbody><tr><td class = \"rowNumber\" style = \"font-weight: bold; text-align: right;\">1</td><td style = \"text-align: right;\">20</td><td style = \"text-align: left;\">Divorced</td><td style = \"text-align: left;\">F</td><td style = \"text-align: right;\">40000</td><td style = \"text-align: right;\">249</td><td style = \"text-align: right;\">932</td><td style = \"text-align: right;\">-43.3013</td></tr><tr><td class = \"rowNumber\" style = \"font-weight: bold; text-align: right;\">2</td><td style = \"text-align: right;\">20</td><td style = \"text-align: left;\">Divorced</td><td style = \"text-align: left;\">F</td><td style = \"text-align: right;\">50000</td><td style = \"text-align: right;\">2821</td><td style = \"text-align: right;\">2105</td><td style = \"text-align: right;\">13.5445</td></tr><tr><td class = \"rowNumber\" style = \"font-weight: bold; text-align: right;\">3</td><td style = \"text-align: right;\">20</td><td style = \"text-align: left;\">Divorced</td><td style = \"text-align: left;\">F</td><td style = \"text-align: right;\">60000</td><td style = \"text-align: right;\">0</td><td style = \"text-align: right;\">0</td><td style = \"text-align: right;\">0</td></tr><tr><td class = \"rowNumber\" style = \"font-weight: bold; text-align: right;\">4</td><td style = \"text-align: right;\">20</td><td style = \"text-align: left;\">Divorced</td><td style = \"text-align: left;\">F</td><td style = \"text-align: right;\">70000</td><td style = \"text-align: right;\">0</td><td style = \"text-align: right;\">0</td><td style = \"text-align: right;\">0</td></tr><tr><td class = \"rowNumber\" style = \"font-weight: bold; text-align: right;\">5</td><td style = \"text-align: right;\">20</td><td style = \"text-align: left;\">Divorced</td><td style = \"text-align: left;\">F</td><td style = \"text-align: right;\">80000</td><td style = \"text-align: right;\">0</td><td style = \"text-align: right;\">0</td><td style = \"text-align: right;\">0</td></tr><tr><td class = \"rowNumber\" style = \"font-weight: bold; text-align: right;\">6</td><td style = \"text-align: right;\">20</td><td style = \"text-align: left;\">Divorced</td><td style = \"text-align: left;\">M</td><td style = \"text-align: right;\">40000</td><td style = \"text-align: right;\">431</td><td style = \"text-align: right;\">1384</td><td style = \"text-align: right;\">-45.9374</td></tr><tr><td class = \"rowNumber\" style = \"font-weight: bold; text-align: right;\">7</td><td style = \"text-align: right;\">20</td><td style = \"text-align: left;\">Divorced</td><td style = \"text-align: left;\">M</td><td style = \"text-align: right;\">50000</td><td style = \"text-align: right;\">4111</td><td style = \"text-align: right;\">3127</td><td style = \"text-align: right;\">15.4532</td></tr><tr><td class = \"rowNumber\" style = \"font-weight: bold; text-align: right;\">8</td><td style = \"text-align: right;\">20</td><td style = \"text-align: left;\">Divorced</td><td style = \"text-align: left;\">M</td><td style = \"text-align: right;\">60000</td><td style = \"text-align: right;\">0</td><td style = \"text-align: right;\">0</td><td style = \"text-align: right;\">0</td></tr><tr><td class = \"rowNumber\" style = \"font-weight: bold; text-align: right;\">9</td><td style = \"text-align: right;\">20</td><td style = \"text-align: left;\">Divorced</td><td style = \"text-align: left;\">M</td><td style = \"text-align: right;\">70000</td><td style = \"text-align: right;\">0</td><td style = \"text-align: right;\">0</td><td style = \"text-align: right;\">0</td></tr><tr><td class = \"rowNumber\" style = \"font-weight: bold; text-align: right;\">10</td><td style = \"text-align: right;\">20</td><td style = \"text-align: left;\">Divorced</td><td style = \"text-align: left;\">M</td><td style = \"text-align: right;\">80000</td><td style = \"text-align: right;\">0</td><td style = \"text-align: right;\">0</td><td style = \"text-align: right;\">0</td></tr><tr><td class = \"rowNumber\" style = \"font-weight: bold; text-align: right;\">11</td><td style = \"text-align: right;\">20</td><td style = \"text-align: left;\">Married</td><td style = \"text-align: left;\">F</td><td style = \"text-align: right;\">40000</td><td style = \"text-align: right;\">411</td><td style = \"text-align: right;\">1391</td><td style = \"text-align: right;\">-48.373</td></tr><tr><td class = \"rowNumber\" style = \"font-weight: bold; text-align: right;\">12</td><td style = \"text-align: right;\">20</td><td style = \"text-align: left;\">Married</td><td style = \"text-align: left;\">F</td><td style = \"text-align: right;\">50000</td><td style = \"text-align: right;\">4079</td><td style = \"text-align: right;\">3143</td><td style = \"text-align: right;\">14.7561</td></tr><tr><td class = \"rowNumber\" style = \"font-weight: bold; text-align: right;\">13</td><td style = \"text-align: right;\">20</td><td style = \"text-align: left;\">Married</td><td style = \"text-align: left;\">F</td><td style = \"text-align: right;\">60000</td><td style = \"text-align: right;\">0</td><td style = \"text-align: right;\">0</td><td style = \"text-align: right;\">0</td></tr><tr><td style = \"text-align: right;\">&vellip;</td><td style = \"text-align: right;\">&vellip;</td><td style = \"text-align: right;\">&vellip;</td><td style = \"text-align: right;\">&vellip;</td><td style = \"text-align: right;\">&vellip;</td><td style = \"text-align: right;\">&vellip;</td><td style = \"text-align: right;\">&vellip;</td><td style = \"text-align: right;\">&vellip;</td></tr><tr><td class = \"rowNumber\" style = \"font-weight: bold; text-align: right;\">515</td><td style = \"text-align: right;\">80</td><td style = \"text-align: left;\">Widowed</td><td style = \"text-align: left;\">F</td><td style = \"text-align: right;\">80000</td><td style = \"text-align: right;\">7</td><td style = \"text-align: right;\">159</td><td style = \"text-align: right;\">-57.4513</td></tr><tr><td class = \"rowNumber\" style = \"font-weight: bold; text-align: right;\">516</td><td style = \"text-align: right;\">80</td><td style = \"text-align: left;\">Widowed</td><td style = \"text-align: left;\">M</td><td style = \"text-align: right;\">40000</td><td style = \"text-align: right;\">23</td><td style = \"text-align: right;\">391</td><td style = \"text-align: right;\">-76.7362</td></tr><tr><td class = \"rowNumber\" style = \"font-weight: bold; text-align: right;\">517</td><td style = \"text-align: right;\">80</td><td style = \"text-align: left;\">Widowed</td><td style = \"text-align: left;\">M</td><td style = \"text-align: right;\">50000</td><td style = \"text-align: right;\">231</td><td style = \"text-align: right;\">884</td><td style = \"text-align: right;\">-42.9808</td></tr><tr><td class = \"rowNumber\" style = \"font-weight: bold; text-align: right;\">518</td><td style = \"text-align: right;\">80</td><td style = \"text-align: left;\">Widowed</td><td style = \"text-align: left;\">M</td><td style = \"text-align: right;\">60000</td><td style = \"text-align: right;\">668</td><td style = \"text-align: right;\">678</td><td style = \"text-align: right;\">-0.387343</td></tr><tr><td class = \"rowNumber\" style = \"font-weight: bold; text-align: right;\">519</td><td style = \"text-align: right;\">80</td><td style = \"text-align: left;\">Widowed</td><td style = \"text-align: left;\">M</td><td style = \"text-align: right;\">70000</td><td style = \"text-align: right;\">979</td><td style = \"text-align: right;\">647</td><td style = \"text-align: right;\">10.6281</td></tr><tr><td class = \"rowNumber\" style = \"font-weight: bold; text-align: right;\">520</td><td style = \"text-align: right;\">80</td><td style = \"text-align: left;\">Widowed</td><td style = \"text-align: left;\">M</td><td style = \"text-align: right;\">80000</td><td style = \"text-align: right;\">1303</td><td style = \"text-align: right;\">625</td><td style = \"text-align: right;\">18.8236</td></tr><tr><td class = \"rowNumber\" style = \"font-weight: bold; text-align: right;\">521</td><td style = \"text-align: right;\">5</td><td style = \"text-align: left;\">missing</td><td style = \"text-align: left;\">F</td><td style = \"text-align: right;\">missing</td><td style = \"text-align: right;\">10086</td><td style = \"text-align: right;\">0</td><td style = \"text-align: right;\">102.161</td></tr><tr><td class = \"rowNumber\" style = \"font-weight: bold; text-align: right;\">522</td><td style = \"text-align: right;\">5</td><td style = \"text-align: left;\">missing</td><td style = \"text-align: left;\">M</td><td style = \"text-align: right;\">missing</td><td style = \"text-align: right;\">10066</td><td style = \"text-align: right;\">0</td><td style = \"text-align: right;\">102.056</td></tr><tr><td class = \"rowNumber\" style = \"font-weight: bold; text-align: right;\">523</td><td style = \"text-align: right;\">10</td><td style = \"text-align: left;\">missing</td><td style = \"text-align: left;\">F</td><td style = \"text-align: right;\">missing</td><td style = \"text-align: right;\">9996</td><td style = \"text-align: right;\">0</td><td style = \"text-align: right;\">101.688</td></tr><tr><td class = \"rowNumber\" style = \"font-weight: bold; text-align: right;\">524</td><td style = \"text-align: right;\">10</td><td style = \"text-align: left;\">missing</td><td style = \"text-align: left;\">M</td><td style = \"text-align: right;\">missing</td><td style = \"text-align: right;\">9789</td><td style = \"text-align: right;\">0</td><td style = \"text-align: right;\">100.594</td></tr><tr><td class = \"rowNumber\" style = \"font-weight: bold; text-align: right;\">525</td><td style = \"text-align: right;\">15</td><td style = \"text-align: left;\">missing</td><td style = \"text-align: left;\">F</td><td style = \"text-align: right;\">missing</td><td style = \"text-align: right;\">9926</td><td style = \"text-align: right;\">0</td><td style = \"text-align: right;\">101.32</td></tr><tr><td class = \"rowNumber\" style = \"font-weight: bold; text-align: right;\">526</td><td style = \"text-align: right;\">15</td><td style = \"text-align: left;\">missing</td><td style = \"text-align: left;\">M</td><td style = \"text-align: right;\">missing</td><td style = \"text-align: right;\">10137</td><td style = \"text-align: right;\">0</td><td style = \"text-align: right;\">102.428</td></tr></tbody></table></div>"
      ],
      "text/latex": [
       "\\begin{tabular}{r|ccccccc}\n",
       "\t& AGE & MARITAL\\_STATUS & SEX & INCOME & population & estimated\\_population & Z\\_score\\\\\n",
       "\t\\hline\n",
       "\t& Int64 & String? & Char & Int64? & Int64 & Int64? & Real\\\\\n",
       "\t\\hline\n",
       "\t1 & 20 & Divorced & F & 40000 & 249 & 932 & -43.3013 \\\\\n",
       "\t2 & 20 & Divorced & F & 50000 & 2821 & 2105 & 13.5445 \\\\\n",
       "\t3 & 20 & Divorced & F & 60000 & 0 & 0 & 0 \\\\\n",
       "\t4 & 20 & Divorced & F & 70000 & 0 & 0 & 0 \\\\\n",
       "\t5 & 20 & Divorced & F & 80000 & 0 & 0 & 0 \\\\\n",
       "\t6 & 20 & Divorced & M & 40000 & 431 & 1384 & -45.9374 \\\\\n",
       "\t7 & 20 & Divorced & M & 50000 & 4111 & 3127 & 15.4532 \\\\\n",
       "\t8 & 20 & Divorced & M & 60000 & 0 & 0 & 0 \\\\\n",
       "\t9 & 20 & Divorced & M & 70000 & 0 & 0 & 0 \\\\\n",
       "\t10 & 20 & Divorced & M & 80000 & 0 & 0 & 0 \\\\\n",
       "\t11 & 20 & Married & F & 40000 & 411 & 1391 & -48.373 \\\\\n",
       "\t12 & 20 & Married & F & 50000 & 4079 & 3143 & 14.7561 \\\\\n",
       "\t13 & 20 & Married & F & 60000 & 0 & 0 & 0 \\\\\n",
       "\t14 & 20 & Married & F & 70000 & 0 & 0 & 0 \\\\\n",
       "\t15 & 20 & Married & F & 80000 & 0 & 0 & 0 \\\\\n",
       "\t16 & 20 & Married & M & 40000 & 270 & 920 & -39.5756 \\\\\n",
       "\t17 & 20 & Married & M & 50000 & 2754 & 2079 & 12.9218 \\\\\n",
       "\t18 & 20 & Married & M & 60000 & 0 & 0 & 0 \\\\\n",
       "\t19 & 20 & Married & M & 70000 & 0 & 0 & 0 \\\\\n",
       "\t20 & 20 & Married & M & 80000 & 0 & 0 & 0 \\\\\n",
       "\t21 & 20 & Not\\_married & F & 40000 & 559 & 1841 & -54.2734 \\\\\n",
       "\t22 & 20 & Not\\_married & F & 50000 & 5463 & 4162 & 17.7645 \\\\\n",
       "\t23 & 20 & Not\\_married & F & 60000 & 0 & 0 & 0 \\\\\n",
       "\t24 & 20 & Not\\_married & F & 70000 & 0 & 0 & 0 \\\\\n",
       "\t$\\dots$ & $\\dots$ & $\\dots$ & $\\dots$ & $\\dots$ & $\\dots$ & $\\dots$ & $\\dots$ \\\\\n",
       "\\end{tabular}\n"
      ],
      "text/plain": [
       "\u001b[1m526×7 DataFrame\u001b[0m\n",
       "\u001b[1m Row \u001b[0m│\u001b[1m AGE   \u001b[0m\u001b[1m MARITAL_STATUS \u001b[0m\u001b[1m SEX  \u001b[0m\u001b[1m INCOME  \u001b[0m\u001b[1m population \u001b[0m\u001b[1m estimated_population \u001b[0m\u001b[1m\u001b[0m ⋯\n",
       "     │\u001b[90m Int64 \u001b[0m\u001b[90m String?        \u001b[0m\u001b[90m Char \u001b[0m\u001b[90m Int64?  \u001b[0m\u001b[90m Int64      \u001b[0m\u001b[90m Int64?               \u001b[0m\u001b[90m\u001b[0m ⋯\n",
       "─────┼──────────────────────────────────────────────────────────────────────────\n",
       "   1 │    20  Divorced        F       40000         249                   932  ⋯\n",
       "   2 │    20  Divorced        F       50000        2821                  2105\n",
       "   3 │    20  Divorced        F       60000           0                     0\n",
       "   4 │    20  Divorced        F       70000           0                     0\n",
       "   5 │    20  Divorced        F       80000           0                     0  ⋯\n",
       "   6 │    20  Divorced        M       40000         431                  1384\n",
       "   7 │    20  Divorced        M       50000        4111                  3127\n",
       "   8 │    20  Divorced        M       60000           0                     0\n",
       "  ⋮  │   ⋮          ⋮          ⋮       ⋮         ⋮                ⋮            ⋱\n",
       " 520 │    80  Widowed         M       80000        1303                   625  ⋯\n",
       " 521 │     5 \u001b[90m missing        \u001b[0m F    \u001b[90m missing \u001b[0m      10086                     0\n",
       " 522 │     5 \u001b[90m missing        \u001b[0m M    \u001b[90m missing \u001b[0m      10066                     0\n",
       " 523 │    10 \u001b[90m missing        \u001b[0m F    \u001b[90m missing \u001b[0m       9996                     0\n",
       " 524 │    10 \u001b[90m missing        \u001b[0m M    \u001b[90m missing \u001b[0m       9789                     0  ⋯\n",
       " 525 │    15 \u001b[90m missing        \u001b[0m F    \u001b[90m missing \u001b[0m       9926                     0\n",
       " 526 │    15 \u001b[90m missing        \u001b[0m M    \u001b[90m missing \u001b[0m      10137                     0\n",
       "\u001b[36m                                                   1 column and 511 rows omitted\u001b[0m"
      ]
     },
     "metadata": {},
     "output_type": "display_data"
    }
   ],
   "source": [
    "validate_table(ponge_et_al, dependent_population)"
   ]
  },
  {
   "attachments": {},
   "cell_type": "markdown",
   "metadata": {},
   "source": [
    "#### Modified algorithm"
   ]
  },
  {
   "cell_type": "code",
   "execution_count": 30,
   "metadata": {},
   "outputs": [
    {
     "name": "stdout",
     "output_type": "stream",
     "text": [
      "=================\n",
      "=Cell statistics=\n",
      "=================\n",
      "Percentage of well fitting values at 0.95 confidence interval: 0.2376425855513308\n",
      "Percentage of well fitting values at 0.90 confidence interval: 0.20912547528517111\n",
      "\n",
      "==================\n",
      "=Table statistics=\n",
      "==================\n",
      "Statistic value equals: 526200.9116311877\n",
      "Table is not well fitting.\n",
      "\n"
     ]
    },
    {
     "data": {
      "text/html": [
       "<div><div style = \"float: left;\"><span>526×7 DataFrame</span></div><div style = \"float: right;\"><span style = \"font-style: italic;\">501 rows omitted</span></div><div style = \"clear: both;\"></div></div><div class = \"data-frame\" style = \"overflow-x: scroll;\"><table class = \"data-frame\" style = \"margin-bottom: 6px;\"><thead><tr class = \"header\"><th class = \"rowNumber\" style = \"font-weight: bold; text-align: right;\">Row</th><th style = \"text-align: left;\">AGE</th><th style = \"text-align: left;\">MARITAL_STATUS</th><th style = \"text-align: left;\">SEX</th><th style = \"text-align: left;\">INCOME</th><th style = \"text-align: left;\">population</th><th style = \"text-align: left;\">estimated_population</th><th style = \"text-align: left;\">Z_score</th></tr><tr class = \"subheader headerLastRow\"><th class = \"rowNumber\" style = \"font-weight: bold; text-align: right;\"></th><th title = \"Int64\" style = \"text-align: left;\">Int64</th><th title = \"Union{Missing, String}\" style = \"text-align: left;\">String?</th><th title = \"Char\" style = \"text-align: left;\">Char</th><th title = \"Union{Missing, Int64}\" style = \"text-align: left;\">Int64?</th><th title = \"Int64\" style = \"text-align: left;\">Int64</th><th title = \"Union{Missing, Int64}\" style = \"text-align: left;\">Int64?</th><th title = \"Real\" style = \"text-align: left;\">Real</th></tr></thead><tbody><tr><td class = \"rowNumber\" style = \"font-weight: bold; text-align: right;\">1</td><td style = \"text-align: right;\">5</td><td style = \"font-style: italic; text-align: left;\">missing</td><td style = \"text-align: left;\">F</td><td style = \"font-style: italic; text-align: right;\">missing</td><td style = \"text-align: right;\">10086</td><td style = \"text-align: right;\">10088</td><td style = \"text-align: right;\">-0.020258</td></tr><tr><td class = \"rowNumber\" style = \"font-weight: bold; text-align: right;\">2</td><td style = \"text-align: right;\">5</td><td style = \"font-style: italic; text-align: left;\">missing</td><td style = \"text-align: left;\">M</td><td style = \"font-style: italic; text-align: right;\">missing</td><td style = \"text-align: right;\">10066</td><td style = \"text-align: right;\">10067</td><td style = \"text-align: right;\">-0.0101387</td></tr><tr><td class = \"rowNumber\" style = \"font-weight: bold; text-align: right;\">3</td><td style = \"text-align: right;\">10</td><td style = \"font-style: italic; text-align: left;\">missing</td><td style = \"text-align: left;\">F</td><td style = \"font-style: italic; text-align: right;\">missing</td><td style = \"text-align: right;\">9996</td><td style = \"text-align: right;\">9997</td><td style = \"text-align: right;\">-0.0101729</td></tr><tr><td class = \"rowNumber\" style = \"font-weight: bold; text-align: right;\">4</td><td style = \"text-align: right;\">10</td><td style = \"font-style: italic; text-align: left;\">missing</td><td style = \"text-align: left;\">M</td><td style = \"font-style: italic; text-align: right;\">missing</td><td style = \"text-align: right;\">9789</td><td style = \"text-align: right;\">9790</td><td style = \"text-align: right;\">-0.0102762</td></tr><tr><td class = \"rowNumber\" style = \"font-weight: bold; text-align: right;\">5</td><td style = \"text-align: right;\">15</td><td style = \"font-style: italic; text-align: left;\">missing</td><td style = \"text-align: left;\">F</td><td style = \"font-style: italic; text-align: right;\">missing</td><td style = \"text-align: right;\">9926</td><td style = \"text-align: right;\">9928</td><td style = \"text-align: right;\">-0.020415</td></tr><tr><td class = \"rowNumber\" style = \"font-weight: bold; text-align: right;\">6</td><td style = \"text-align: right;\">15</td><td style = \"font-style: italic; text-align: left;\">missing</td><td style = \"text-align: left;\">M</td><td style = \"font-style: italic; text-align: right;\">missing</td><td style = \"text-align: right;\">10137</td><td style = \"text-align: right;\">10137</td><td style = \"text-align: right;\">0.0</td></tr><tr><td class = \"rowNumber\" style = \"font-weight: bold; text-align: right;\">7</td><td style = \"text-align: right;\">20</td><td style = \"text-align: left;\">Divorced</td><td style = \"text-align: left;\">F</td><td style = \"text-align: right;\">40000</td><td style = \"text-align: right;\">249</td><td style = \"text-align: right;\">932</td><td style = \"text-align: right;\">-43.3013</td></tr><tr><td class = \"rowNumber\" style = \"font-weight: bold; text-align: right;\">8</td><td style = \"text-align: right;\">20</td><td style = \"text-align: left;\">Divorced</td><td style = \"text-align: left;\">F</td><td style = \"text-align: right;\">50000</td><td style = \"text-align: right;\">2821</td><td style = \"text-align: right;\">2105</td><td style = \"text-align: right;\">13.5445</td></tr><tr><td class = \"rowNumber\" style = \"font-weight: bold; text-align: right;\">9</td><td style = \"text-align: right;\">20</td><td style = \"text-align: left;\">Divorced</td><td style = \"text-align: left;\">F</td><td style = \"text-align: right;\">60000</td><td style = \"text-align: right;\">0</td><td style = \"text-align: right;\">0</td><td style = \"text-align: right;\">0</td></tr><tr><td class = \"rowNumber\" style = \"font-weight: bold; text-align: right;\">10</td><td style = \"text-align: right;\">20</td><td style = \"text-align: left;\">Divorced</td><td style = \"text-align: left;\">F</td><td style = \"text-align: right;\">70000</td><td style = \"text-align: right;\">0</td><td style = \"text-align: right;\">0</td><td style = \"text-align: right;\">0</td></tr><tr><td class = \"rowNumber\" style = \"font-weight: bold; text-align: right;\">11</td><td style = \"text-align: right;\">20</td><td style = \"text-align: left;\">Divorced</td><td style = \"text-align: left;\">F</td><td style = \"text-align: right;\">80000</td><td style = \"text-align: right;\">0</td><td style = \"text-align: right;\">0</td><td style = \"text-align: right;\">0</td></tr><tr><td class = \"rowNumber\" style = \"font-weight: bold; text-align: right;\">12</td><td style = \"text-align: right;\">20</td><td style = \"text-align: left;\">Divorced</td><td style = \"text-align: left;\">M</td><td style = \"text-align: right;\">40000</td><td style = \"text-align: right;\">431</td><td style = \"text-align: right;\">1384</td><td style = \"text-align: right;\">-45.9374</td></tr><tr><td class = \"rowNumber\" style = \"font-weight: bold; text-align: right;\">13</td><td style = \"text-align: right;\">20</td><td style = \"text-align: left;\">Divorced</td><td style = \"text-align: left;\">M</td><td style = \"text-align: right;\">50000</td><td style = \"text-align: right;\">4111</td><td style = \"text-align: right;\">3127</td><td style = \"text-align: right;\">15.4532</td></tr><tr><td style = \"text-align: right;\">&vellip;</td><td style = \"text-align: right;\">&vellip;</td><td style = \"text-align: right;\">&vellip;</td><td style = \"text-align: right;\">&vellip;</td><td style = \"text-align: right;\">&vellip;</td><td style = \"text-align: right;\">&vellip;</td><td style = \"text-align: right;\">&vellip;</td><td style = \"text-align: right;\">&vellip;</td></tr><tr><td class = \"rowNumber\" style = \"font-weight: bold; text-align: right;\">515</td><td style = \"text-align: right;\">80</td><td style = \"text-align: left;\">Not_married</td><td style = \"text-align: left;\">M</td><td style = \"text-align: right;\">70000</td><td style = \"text-align: right;\">229</td><td style = \"text-align: right;\">172</td><td style = \"text-align: right;\">3.7681</td></tr><tr><td class = \"rowNumber\" style = \"font-weight: bold; text-align: right;\">516</td><td style = \"text-align: right;\">80</td><td style = \"text-align: left;\">Not_married</td><td style = \"text-align: left;\">M</td><td style = \"text-align: right;\">80000</td><td style = \"text-align: right;\">325</td><td style = \"text-align: right;\">166</td><td style = \"text-align: right;\">8.82451</td></tr><tr><td class = \"rowNumber\" style = \"font-weight: bold; text-align: right;\">517</td><td style = \"text-align: right;\">80</td><td style = \"text-align: left;\">Widowed</td><td style = \"text-align: left;\">F</td><td style = \"text-align: right;\">40000</td><td style = \"text-align: right;\">308</td><td style = \"text-align: right;\">89</td><td style = \"text-align: right;\">12.4851</td></tr><tr><td class = \"rowNumber\" style = \"font-weight: bold; text-align: right;\">518</td><td style = \"text-align: right;\">80</td><td style = \"text-align: left;\">Widowed</td><td style = \"text-align: left;\">F</td><td style = \"text-align: right;\">50000</td><td style = \"text-align: right;\">211</td><td style = \"text-align: right;\">202</td><td style = \"text-align: right;\">0.619804</td></tr><tr><td class = \"rowNumber\" style = \"font-weight: bold; text-align: right;\">519</td><td style = \"text-align: right;\">80</td><td style = \"text-align: left;\">Widowed</td><td style = \"text-align: left;\">F</td><td style = \"text-align: right;\">60000</td><td style = \"text-align: right;\">204</td><td style = \"text-align: right;\">184</td><td style = \"text-align: right;\">1.40076</td></tr><tr><td class = \"rowNumber\" style = \"font-weight: bold; text-align: right;\">520</td><td style = \"text-align: right;\">80</td><td style = \"text-align: left;\">Widowed</td><td style = \"text-align: left;\">F</td><td style = \"text-align: right;\">70000</td><td style = \"text-align: right;\">93</td><td style = \"text-align: right;\">175</td><td style = \"text-align: right;\">-8.50432</td></tr><tr><td class = \"rowNumber\" style = \"font-weight: bold; text-align: right;\">521</td><td style = \"text-align: right;\">80</td><td style = \"text-align: left;\">Widowed</td><td style = \"text-align: left;\">F</td><td style = \"text-align: right;\">80000</td><td style = \"text-align: right;\">7</td><td style = \"text-align: right;\">169</td><td style = \"text-align: right;\">-61.231</td></tr><tr><td class = \"rowNumber\" style = \"font-weight: bold; text-align: right;\">522</td><td style = \"text-align: right;\">80</td><td style = \"text-align: left;\">Widowed</td><td style = \"text-align: left;\">M</td><td style = \"text-align: right;\">40000</td><td style = \"text-align: right;\">23</td><td style = \"text-align: right;\">351</td><td style = \"text-align: right;\">-68.3953</td></tr><tr><td class = \"rowNumber\" style = \"font-weight: bold; text-align: right;\">523</td><td style = \"text-align: right;\">80</td><td style = \"text-align: left;\">Widowed</td><td style = \"text-align: left;\">M</td><td style = \"text-align: right;\">50000</td><td style = \"text-align: right;\">231</td><td style = \"text-align: right;\">794</td><td style = \"text-align: right;\">-37.057</td></tr><tr><td class = \"rowNumber\" style = \"font-weight: bold; text-align: right;\">524</td><td style = \"text-align: right;\">80</td><td style = \"text-align: left;\">Widowed</td><td style = \"text-align: left;\">M</td><td style = \"text-align: right;\">60000</td><td style = \"text-align: right;\">668</td><td style = \"text-align: right;\">724</td><td style = \"text-align: right;\">-2.16912</td></tr><tr><td class = \"rowNumber\" style = \"font-weight: bold; text-align: right;\">525</td><td style = \"text-align: right;\">80</td><td style = \"text-align: left;\">Widowed</td><td style = \"text-align: left;\">M</td><td style = \"text-align: right;\">70000</td><td style = \"text-align: right;\">979</td><td style = \"text-align: right;\">690</td><td style = \"text-align: right;\">9.25159</td></tr><tr><td class = \"rowNumber\" style = \"font-weight: bold; text-align: right;\">526</td><td style = \"text-align: right;\">80</td><td style = \"text-align: left;\">Widowed</td><td style = \"text-align: left;\">M</td><td style = \"text-align: right;\">80000</td><td style = \"text-align: right;\">1303</td><td style = \"text-align: right;\">667</td><td style = \"text-align: right;\">17.6575</td></tr></tbody></table></div>"
      ],
      "text/latex": [
       "\\begin{tabular}{r|ccccccc}\n",
       "\t& AGE & MARITAL\\_STATUS & SEX & INCOME & population & estimated\\_population & Z\\_score\\\\\n",
       "\t\\hline\n",
       "\t& Int64 & String? & Char & Int64? & Int64 & Int64? & Real\\\\\n",
       "\t\\hline\n",
       "\t1 & 5 & \\emph{missing} & F & \\emph{missing} & 10086 & 10088 & -0.020258 \\\\\n",
       "\t2 & 5 & \\emph{missing} & M & \\emph{missing} & 10066 & 10067 & -0.0101387 \\\\\n",
       "\t3 & 10 & \\emph{missing} & F & \\emph{missing} & 9996 & 9997 & -0.0101729 \\\\\n",
       "\t4 & 10 & \\emph{missing} & M & \\emph{missing} & 9789 & 9790 & -0.0102762 \\\\\n",
       "\t5 & 15 & \\emph{missing} & F & \\emph{missing} & 9926 & 9928 & -0.020415 \\\\\n",
       "\t6 & 15 & \\emph{missing} & M & \\emph{missing} & 10137 & 10137 & 0.0 \\\\\n",
       "\t7 & 20 & Divorced & F & 40000 & 249 & 932 & -43.3013 \\\\\n",
       "\t8 & 20 & Divorced & F & 50000 & 2821 & 2105 & 13.5445 \\\\\n",
       "\t9 & 20 & Divorced & F & 60000 & 0 & 0 & 0 \\\\\n",
       "\t10 & 20 & Divorced & F & 70000 & 0 & 0 & 0 \\\\\n",
       "\t11 & 20 & Divorced & F & 80000 & 0 & 0 & 0 \\\\\n",
       "\t12 & 20 & Divorced & M & 40000 & 431 & 1384 & -45.9374 \\\\\n",
       "\t13 & 20 & Divorced & M & 50000 & 4111 & 3127 & 15.4532 \\\\\n",
       "\t14 & 20 & Divorced & M & 60000 & 0 & 0 & 0 \\\\\n",
       "\t15 & 20 & Divorced & M & 70000 & 0 & 0 & 0 \\\\\n",
       "\t16 & 20 & Divorced & M & 80000 & 0 & 0 & 0 \\\\\n",
       "\t17 & 20 & Married & F & 40000 & 411 & 1391 & -48.373 \\\\\n",
       "\t18 & 20 & Married & F & 50000 & 4079 & 3143 & 14.7561 \\\\\n",
       "\t19 & 20 & Married & F & 60000 & 0 & 0 & 0 \\\\\n",
       "\t20 & 20 & Married & F & 70000 & 0 & 0 & 0 \\\\\n",
       "\t21 & 20 & Married & F & 80000 & 0 & 0 & 0 \\\\\n",
       "\t22 & 20 & Married & M & 40000 & 270 & 920 & -39.5756 \\\\\n",
       "\t23 & 20 & Married & M & 50000 & 2754 & 2079 & 12.9218 \\\\\n",
       "\t24 & 20 & Married & M & 60000 & 0 & 0 & 0 \\\\\n",
       "\t$\\dots$ & $\\dots$ & $\\dots$ & $\\dots$ & $\\dots$ & $\\dots$ & $\\dots$ & $\\dots$ \\\\\n",
       "\\end{tabular}\n"
      ],
      "text/plain": [
       "\u001b[1m526×7 DataFrame\u001b[0m\n",
       "\u001b[1m Row \u001b[0m│\u001b[1m AGE   \u001b[0m\u001b[1m MARITAL_STATUS \u001b[0m\u001b[1m SEX  \u001b[0m\u001b[1m INCOME  \u001b[0m\u001b[1m population \u001b[0m\u001b[1m estimated_population \u001b[0m\u001b[1m\u001b[0m ⋯\n",
       "     │\u001b[90m Int64 \u001b[0m\u001b[90m String?        \u001b[0m\u001b[90m Char \u001b[0m\u001b[90m Int64?  \u001b[0m\u001b[90m Int64      \u001b[0m\u001b[90m Int64?               \u001b[0m\u001b[90m\u001b[0m ⋯\n",
       "─────┼──────────────────────────────────────────────────────────────────────────\n",
       "   1 │     5 \u001b[90m missing        \u001b[0m F    \u001b[90m missing \u001b[0m      10086                 10088  ⋯\n",
       "   2 │     5 \u001b[90m missing        \u001b[0m M    \u001b[90m missing \u001b[0m      10066                 10067\n",
       "   3 │    10 \u001b[90m missing        \u001b[0m F    \u001b[90m missing \u001b[0m       9996                  9997\n",
       "   4 │    10 \u001b[90m missing        \u001b[0m M    \u001b[90m missing \u001b[0m       9789                  9790\n",
       "   5 │    15 \u001b[90m missing        \u001b[0m F    \u001b[90m missing \u001b[0m       9926                  9928  ⋯\n",
       "   6 │    15 \u001b[90m missing        \u001b[0m M    \u001b[90m missing \u001b[0m      10137                 10137\n",
       "   7 │    20  Divorced        F       40000         249                   932\n",
       "   8 │    20  Divorced        F       50000        2821                  2105\n",
       "  ⋮  │   ⋮          ⋮          ⋮       ⋮         ⋮                ⋮            ⋱\n",
       " 520 │    80  Widowed         F       70000          93                   175  ⋯\n",
       " 521 │    80  Widowed         F       80000           7                   169\n",
       " 522 │    80  Widowed         M       40000          23                   351\n",
       " 523 │    80  Widowed         M       50000         231                   794\n",
       " 524 │    80  Widowed         M       60000         668                   724  ⋯\n",
       " 525 │    80  Widowed         M       70000         979                   690\n",
       " 526 │    80  Widowed         M       80000        1303                   667\n",
       "\u001b[36m                                                   1 column and 511 rows omitted\u001b[0m"
      ]
     },
     "metadata": {},
     "output_type": "display_data"
    }
   ],
   "source": [
    "validate_table(modified, dependent_population)"
   ]
  },
  {
   "attachments": {},
   "cell_type": "markdown",
   "metadata": {},
   "source": [
    "### 1.5 Internal Validation"
   ]
  },
  {
   "attachments": {},
   "cell_type": "markdown",
   "metadata": {},
   "source": [
    "Once the tables have been generated, the internal validation can be performed. This is done to assess the distance between input contingency tables the the generated tables."
   ]
  },
  {
   "attachments": {},
   "cell_type": "markdown",
   "metadata": {},
   "source": [
    "#### Guo, Bhat, 2007"
   ]
  },
  {
   "cell_type": "code",
   "execution_count": 31,
   "metadata": {},
   "outputs": [
    {
     "data": {
      "text/plain": [
       "(\u001b[1m32×3 DataFrame\u001b[0m\n",
       "\u001b[1m Row \u001b[0m│\u001b[1m AGE   \u001b[0m\u001b[1m SEX  \u001b[0m\u001b[1m population \u001b[0m\n",
       "     │\u001b[90m Int64 \u001b[0m\u001b[90m Char \u001b[0m\u001b[90m Int64      \u001b[0m\n",
       "─────┼─────────────────────────\n",
       "   1 │     5  F          10088\n",
       "   2 │     5  M          10067\n",
       "   3 │    10  F           9997\n",
       "   4 │    10  M           9790\n",
       "   5 │    15  F           9928\n",
       "   6 │    15  M          10137\n",
       "   7 │    20  F          15083\n",
       "   8 │    20  M          14873\n",
       "  ⋮  │   ⋮     ⋮        ⋮\n",
       "  26 │    65  M           8247\n",
       "  27 │    70  F           8239\n",
       "  28 │    70  M           8053\n",
       "  29 │    75  F           8167\n",
       "  30 │    75  M           8148\n",
       "  31 │    80  F           8178\n",
       "  32 │    80  M           8136\n",
       "\u001b[36m                17 rows omitted\u001b[0m, \u001b[1m8×3 DataFrame\u001b[0m\n",
       "\u001b[1m Row \u001b[0m│\u001b[1m MARITAL_STATUS \u001b[0m\u001b[1m SEX  \u001b[0m\u001b[1m population \u001b[0m\n",
       "     │\u001b[90m String         \u001b[0m\u001b[90m Char \u001b[0m\u001b[90m Int64      \u001b[0m\n",
       "─────┼──────────────────────────────────\n",
       "   1 │ Divorced        F          30207\n",
       "   2 │ Divorced        M          45492\n",
       "   3 │ Married         F          45088\n",
       "   4 │ Married         M          30247\n",
       "   5 │ Not_married     F          59699\n",
       "   6 │ Not_married     M          14803\n",
       "   7 │ Widowed         F          15020\n",
       "   8 │ Widowed         M          59453, \u001b[1m5×2 DataFrame\u001b[0m\n",
       "\u001b[1m Row \u001b[0m│\u001b[1m INCOME \u001b[0m\u001b[1m population \u001b[0m\n",
       "     │\u001b[90m Int64  \u001b[0m\u001b[90m Int64      \u001b[0m\n",
       "─────┼────────────────────\n",
       "   1 │  40000       47505\n",
       "   2 │  50000      107366\n",
       "   3 │  60000       50491\n",
       "   4 │  70000       48122\n",
       "   5 │  80000       46525)"
      ]
     },
     "metadata": {},
     "output_type": "display_data"
    }
   ],
   "source": [
    "guo_bhat_age_sex, guo_bhat_sex_marital, guo_bhat_income = compute_marginals(guo_bhat)"
   ]
  },
  {
   "cell_type": "code",
   "execution_count": 32,
   "metadata": {},
   "outputs": [
    {
     "name": "stdout",
     "output_type": "stream",
     "text": [
      "=================\n",
      "=Cell statistics=\n",
      "=================\n",
      "Percentage of well fitting values at 0.95 confidence interval: 1.0\n",
      "Percentage of well fitting values at 0.90 confidence interval: 1.0\n",
      "\n",
      "==================\n",
      "=Table statistics=\n",
      "==================\n",
      "Statistic value equals: 0.008775099886151695\n",
      "Table is well fitting at 0.9 and 0.95 confidence interval.\n",
      "\n"
     ]
    },
    {
     "data": {
      "text/html": [
       "<div><div style = \"float: left;\"><span>32×5 DataFrame</span></div><div style = \"float: right;\"><span style = \"font-style: italic;\">7 rows omitted</span></div><div style = \"clear: both;\"></div></div><div class = \"data-frame\" style = \"overflow-x: scroll;\"><table class = \"data-frame\" style = \"margin-bottom: 6px;\"><thead><tr class = \"header\"><th class = \"rowNumber\" style = \"font-weight: bold; text-align: right;\">Row</th><th style = \"text-align: left;\">AGE</th><th style = \"text-align: left;\">SEX</th><th style = \"text-align: left;\">population</th><th style = \"text-align: left;\">estimated_population</th><th style = \"text-align: left;\">Z_score</th></tr><tr class = \"subheader headerLastRow\"><th class = \"rowNumber\" style = \"font-weight: bold; text-align: right;\"></th><th title = \"Int64\" style = \"text-align: left;\">Int64</th><th title = \"Char\" style = \"text-align: left;\">Char</th><th title = \"Int64\" style = \"text-align: left;\">Int64</th><th title = \"Union{Missing, Int64}\" style = \"text-align: left;\">Int64?</th><th title = \"Float64\" style = \"text-align: left;\">Float64</th></tr></thead><tbody><tr><td class = \"rowNumber\" style = \"font-weight: bold; text-align: right;\">1</td><td style = \"text-align: right;\">5</td><td style = \"text-align: left;\">F</td><td style = \"text-align: right;\">10086</td><td style = \"text-align: right;\">10088</td><td style = \"text-align: right;\">-0.020258</td></tr><tr><td class = \"rowNumber\" style = \"font-weight: bold; text-align: right;\">2</td><td style = \"text-align: right;\">5</td><td style = \"text-align: left;\">M</td><td style = \"text-align: right;\">10066</td><td style = \"text-align: right;\">10067</td><td style = \"text-align: right;\">-0.0101387</td></tr><tr><td class = \"rowNumber\" style = \"font-weight: bold; text-align: right;\">3</td><td style = \"text-align: right;\">10</td><td style = \"text-align: left;\">F</td><td style = \"text-align: right;\">9996</td><td style = \"text-align: right;\">9997</td><td style = \"text-align: right;\">-0.0101729</td></tr><tr><td class = \"rowNumber\" style = \"font-weight: bold; text-align: right;\">4</td><td style = \"text-align: right;\">10</td><td style = \"text-align: left;\">M</td><td style = \"text-align: right;\">9789</td><td style = \"text-align: right;\">9790</td><td style = \"text-align: right;\">-0.0102762</td></tr><tr><td class = \"rowNumber\" style = \"font-weight: bold; text-align: right;\">5</td><td style = \"text-align: right;\">15</td><td style = \"text-align: left;\">F</td><td style = \"text-align: right;\">9926</td><td style = \"text-align: right;\">9928</td><td style = \"text-align: right;\">-0.020415</td></tr><tr><td class = \"rowNumber\" style = \"font-weight: bold; text-align: right;\">6</td><td style = \"text-align: right;\">15</td><td style = \"text-align: left;\">M</td><td style = \"text-align: right;\">10137</td><td style = \"text-align: right;\">10137</td><td style = \"text-align: right;\">0.0</td></tr><tr><td class = \"rowNumber\" style = \"font-weight: bold; text-align: right;\">7</td><td style = \"text-align: right;\">20</td><td style = \"text-align: left;\">F</td><td style = \"text-align: right;\">15085</td><td style = \"text-align: right;\">15083</td><td style = \"text-align: right;\">0.0167094</td></tr><tr><td class = \"rowNumber\" style = \"font-weight: bold; text-align: right;\">8</td><td style = \"text-align: right;\">20</td><td style = \"text-align: left;\">M</td><td style = \"text-align: right;\">14875</td><td style = \"text-align: right;\">14873</td><td style = \"text-align: right;\">0.0168207</td></tr><tr><td class = \"rowNumber\" style = \"font-weight: bold; text-align: right;\">9</td><td style = \"text-align: right;\">25</td><td style = \"text-align: left;\">F</td><td style = \"text-align: right;\">14915</td><td style = \"text-align: right;\">14913</td><td style = \"text-align: right;\">0.0167993</td></tr><tr><td class = \"rowNumber\" style = \"font-weight: bold; text-align: right;\">10</td><td style = \"text-align: right;\">25</td><td style = \"text-align: left;\">M</td><td style = \"text-align: right;\">15125</td><td style = \"text-align: right;\">15125</td><td style = \"text-align: right;\">0.0</td></tr><tr><td class = \"rowNumber\" style = \"font-weight: bold; text-align: right;\">11</td><td style = \"text-align: right;\">30</td><td style = \"text-align: left;\">F</td><td style = \"text-align: right;\">8108</td><td style = \"text-align: right;\">8110</td><td style = \"text-align: right;\">-0.0225176</td></tr><tr><td class = \"rowNumber\" style = \"font-weight: bold; text-align: right;\">12</td><td style = \"text-align: right;\">30</td><td style = \"text-align: left;\">M</td><td style = \"text-align: right;\">8160</td><td style = \"text-align: right;\">8159</td><td style = \"text-align: right;\">0.0112239</td></tr><tr><td class = \"rowNumber\" style = \"font-weight: bold; text-align: right;\">13</td><td style = \"text-align: right;\">35</td><td style = \"text-align: left;\">F</td><td style = \"text-align: right;\">8151</td><td style = \"text-align: right;\">8150</td><td style = \"text-align: right;\">0.0112299</td></tr><tr><td style = \"text-align: right;\">&vellip;</td><td style = \"text-align: right;\">&vellip;</td><td style = \"text-align: right;\">&vellip;</td><td style = \"text-align: right;\">&vellip;</td><td style = \"text-align: right;\">&vellip;</td><td style = \"text-align: right;\">&vellip;</td></tr><tr><td class = \"rowNumber\" style = \"font-weight: bold; text-align: right;\">21</td><td style = \"text-align: right;\">55</td><td style = \"text-align: left;\">F</td><td style = \"text-align: right;\">8238</td><td style = \"text-align: right;\">8238</td><td style = \"text-align: right;\">0.0</td></tr><tr><td class = \"rowNumber\" style = \"font-weight: bold; text-align: right;\">22</td><td style = \"text-align: right;\">55</td><td style = \"text-align: left;\">M</td><td style = \"text-align: right;\">8190</td><td style = \"text-align: right;\">8188</td><td style = \"text-align: right;\">0.0224078</td></tr><tr><td class = \"rowNumber\" style = \"font-weight: bold; text-align: right;\">23</td><td style = \"text-align: right;\">60</td><td style = \"text-align: left;\">F</td><td style = \"text-align: right;\">8279</td><td style = \"text-align: right;\">8282</td><td style = \"text-align: right;\">-0.0334356</td></tr><tr><td class = \"rowNumber\" style = \"font-weight: bold; text-align: right;\">24</td><td style = \"text-align: right;\">60</td><td style = \"text-align: left;\">M</td><td style = \"text-align: right;\">8298</td><td style = \"text-align: right;\">8300</td><td style = \"text-align: right;\">-0.0222656</td></tr><tr><td class = \"rowNumber\" style = \"font-weight: bold; text-align: right;\">25</td><td style = \"text-align: right;\">65</td><td style = \"text-align: left;\">F</td><td style = \"text-align: right;\">8116</td><td style = \"text-align: right;\">8115</td><td style = \"text-align: right;\">0.0112534</td></tr><tr><td class = \"rowNumber\" style = \"font-weight: bold; text-align: right;\">26</td><td style = \"text-align: right;\">65</td><td style = \"text-align: left;\">M</td><td style = \"text-align: right;\">8246</td><td style = \"text-align: right;\">8247</td><td style = \"text-align: right;\">-0.0111668</td></tr><tr><td class = \"rowNumber\" style = \"font-weight: bold; text-align: right;\">27</td><td style = \"text-align: right;\">70</td><td style = \"text-align: left;\">F</td><td style = \"text-align: right;\">8240</td><td style = \"text-align: right;\">8239</td><td style = \"text-align: right;\">0.0111708</td></tr><tr><td class = \"rowNumber\" style = \"font-weight: bold; text-align: right;\">28</td><td style = \"text-align: right;\">70</td><td style = \"text-align: left;\">M</td><td style = \"text-align: right;\">8050</td><td style = \"text-align: right;\">8053</td><td style = \"text-align: right;\">-0.0338945</td></tr><tr><td class = \"rowNumber\" style = \"font-weight: bold; text-align: right;\">29</td><td style = \"text-align: right;\">75</td><td style = \"text-align: left;\">F</td><td style = \"text-align: right;\">8165</td><td style = \"text-align: right;\">8167</td><td style = \"text-align: right;\">-0.0224411</td></tr><tr><td class = \"rowNumber\" style = \"font-weight: bold; text-align: right;\">30</td><td style = \"text-align: right;\">75</td><td style = \"text-align: left;\">M</td><td style = \"text-align: right;\">8148</td><td style = \"text-align: right;\">8148</td><td style = \"text-align: right;\">0.0</td></tr><tr><td class = \"rowNumber\" style = \"font-weight: bold; text-align: right;\">31</td><td style = \"text-align: right;\">80</td><td style = \"text-align: left;\">F</td><td style = \"text-align: right;\">8180</td><td style = \"text-align: right;\">8178</td><td style = \"text-align: right;\">0.0224211</td></tr><tr><td class = \"rowNumber\" style = \"font-weight: bold; text-align: right;\">32</td><td style = \"text-align: right;\">80</td><td style = \"text-align: left;\">M</td><td style = \"text-align: right;\">8137</td><td style = \"text-align: right;\">8136</td><td style = \"text-align: right;\">0.0112393</td></tr></tbody></table></div>"
      ],
      "text/latex": [
       "\\begin{tabular}{r|ccccc}\n",
       "\t& AGE & SEX & population & estimated\\_population & Z\\_score\\\\\n",
       "\t\\hline\n",
       "\t& Int64 & Char & Int64 & Int64? & Float64\\\\\n",
       "\t\\hline\n",
       "\t1 & 5 & F & 10086 & 10088 & -0.020258 \\\\\n",
       "\t2 & 5 & M & 10066 & 10067 & -0.0101387 \\\\\n",
       "\t3 & 10 & F & 9996 & 9997 & -0.0101729 \\\\\n",
       "\t4 & 10 & M & 9789 & 9790 & -0.0102762 \\\\\n",
       "\t5 & 15 & F & 9926 & 9928 & -0.020415 \\\\\n",
       "\t6 & 15 & M & 10137 & 10137 & 0.0 \\\\\n",
       "\t7 & 20 & F & 15085 & 15083 & 0.0167094 \\\\\n",
       "\t8 & 20 & M & 14875 & 14873 & 0.0168207 \\\\\n",
       "\t9 & 25 & F & 14915 & 14913 & 0.0167993 \\\\\n",
       "\t10 & 25 & M & 15125 & 15125 & 0.0 \\\\\n",
       "\t11 & 30 & F & 8108 & 8110 & -0.0225176 \\\\\n",
       "\t12 & 30 & M & 8160 & 8159 & 0.0112239 \\\\\n",
       "\t13 & 35 & F & 8151 & 8150 & 0.0112299 \\\\\n",
       "\t14 & 35 & M & 8110 & 8112 & -0.0225149 \\\\\n",
       "\t15 & 40 & F & 8227 & 8229 & -0.0223587 \\\\\n",
       "\t16 & 40 & M & 8304 & 8304 & 0.0 \\\\\n",
       "\t17 & 45 & F & 8208 & 8208 & 0.0 \\\\\n",
       "\t18 & 45 & M & 8150 & 8150 & 0.0 \\\\\n",
       "\t19 & 50 & F & 8088 & 8089 & -0.0112723 \\\\\n",
       "\t20 & 50 & M & 8207 & 8206 & 0.0111926 \\\\\n",
       "\t21 & 55 & F & 8238 & 8238 & 0.0 \\\\\n",
       "\t22 & 55 & M & 8190 & 8188 & 0.0224078 \\\\\n",
       "\t23 & 60 & F & 8279 & 8282 & -0.0334356 \\\\\n",
       "\t24 & 60 & M & 8298 & 8300 & -0.0222656 \\\\\n",
       "\t$\\dots$ & $\\dots$ & $\\dots$ & $\\dots$ & $\\dots$ & $\\dots$ \\\\\n",
       "\\end{tabular}\n"
      ],
      "text/plain": [
       "\u001b[1m32×5 DataFrame\u001b[0m\n",
       "\u001b[1m Row \u001b[0m│\u001b[1m AGE   \u001b[0m\u001b[1m SEX  \u001b[0m\u001b[1m population \u001b[0m\u001b[1m estimated_population \u001b[0m\u001b[1m Z_score    \u001b[0m\n",
       "     │\u001b[90m Int64 \u001b[0m\u001b[90m Char \u001b[0m\u001b[90m Int64      \u001b[0m\u001b[90m Int64?               \u001b[0m\u001b[90m Float64    \u001b[0m\n",
       "─────┼───────────────────────────────────────────────────────────\n",
       "   1 │     5  F          10086                 10088  -0.020258\n",
       "   2 │     5  M          10066                 10067  -0.0101387\n",
       "   3 │    10  F           9996                  9997  -0.0101729\n",
       "   4 │    10  M           9789                  9790  -0.0102762\n",
       "   5 │    15  F           9926                  9928  -0.020415\n",
       "   6 │    15  M          10137                 10137   0.0\n",
       "   7 │    20  F          15085                 15083   0.0167094\n",
       "   8 │    20  M          14875                 14873   0.0168207\n",
       "  ⋮  │   ⋮     ⋮        ⋮                ⋮                ⋮\n",
       "  26 │    65  M           8246                  8247  -0.0111668\n",
       "  27 │    70  F           8240                  8239   0.0111708\n",
       "  28 │    70  M           8050                  8053  -0.0338945\n",
       "  29 │    75  F           8165                  8167  -0.0224411\n",
       "  30 │    75  M           8148                  8148   0.0\n",
       "  31 │    80  F           8180                  8178   0.0224211\n",
       "  32 │    80  M           8137                  8136   0.0112393\n",
       "\u001b[36m                                                  17 rows omitted\u001b[0m"
      ]
     },
     "metadata": {},
     "output_type": "display_data"
    }
   ],
   "source": [
    "validate_table(guo_bhat_age_sex, dependent_age_sex)"
   ]
  },
  {
   "cell_type": "code",
   "execution_count": 33,
   "metadata": {},
   "outputs": [
    {
     "name": "stdout",
     "output_type": "stream",
     "text": [
      "=================\n",
      "=Cell statistics=\n",
      "=================\n",
      "Percentage of well fitting values at 0.95 confidence interval: 0.0\n",
      "Percentage of well fitting values at 0.90 confidence interval: 0.0\n",
      "\n",
      "==================\n",
      "=Table statistics=\n",
      "==================\n",
      "Statistic value equals: 17703.528812267272\n",
      "Table is not well fitting.\n",
      "\n"
     ]
    },
    {
     "data": {
      "text/html": [
       "<div><div style = \"float: left;\"><span>8×5 DataFrame</span></div><div style = \"clear: both;\"></div></div><div class = \"data-frame\" style = \"overflow-x: scroll;\"><table class = \"data-frame\" style = \"margin-bottom: 6px;\"><thead><tr class = \"header\"><th class = \"rowNumber\" style = \"font-weight: bold; text-align: right;\">Row</th><th style = \"text-align: left;\">MARITAL_STATUS</th><th style = \"text-align: left;\">SEX</th><th style = \"text-align: left;\">population</th><th style = \"text-align: left;\">estimated_population</th><th style = \"text-align: left;\">Z_score</th></tr><tr class = \"subheader headerLastRow\"><th class = \"rowNumber\" style = \"font-weight: bold; text-align: right;\"></th><th title = \"Union{Missing, String}\" style = \"text-align: left;\">String?</th><th title = \"Char\" style = \"text-align: left;\">Char</th><th title = \"Int64\" style = \"text-align: left;\">Int64</th><th title = \"Union{Missing, Int64}\" style = \"text-align: left;\">Int64?</th><th title = \"Float64\" style = \"text-align: left;\">Float64</th></tr></thead><tbody><tr><td class = \"rowNumber\" style = \"font-weight: bold; text-align: right;\">1</td><td style = \"text-align: left;\">Divorced</td><td style = \"text-align: left;\">F</td><td style = \"text-align: right;\">24163</td><td style = \"text-align: right;\">30207</td><td style = \"text-align: right;\">-41.0007</td></tr><tr><td class = \"rowNumber\" style = \"font-weight: bold; text-align: right;\">2</td><td style = \"text-align: left;\">Divorced</td><td style = \"text-align: left;\">M</td><td style = \"text-align: right;\">36393</td><td style = \"text-align: right;\">45492</td><td style = \"text-align: right;\">-51.7838</td></tr><tr><td class = \"rowNumber\" style = \"font-weight: bold; text-align: right;\">3</td><td style = \"text-align: left;\">Married</td><td style = \"text-align: left;\">F</td><td style = \"text-align: right;\">36069</td><td style = \"text-align: right;\">45088</td><td style = \"text-align: right;\">-51.5176</td></tr><tr><td class = \"rowNumber\" style = \"font-weight: bold; text-align: right;\">4</td><td style = \"text-align: left;\">Married</td><td style = \"text-align: left;\">M</td><td style = \"text-align: right;\">24197</td><td style = \"text-align: right;\">30247</td><td style = \"text-align: right;\">-41.0158</td></tr><tr><td class = \"rowNumber\" style = \"font-weight: bold; text-align: right;\">5</td><td style = \"text-align: left;\">Not_married</td><td style = \"text-align: left;\">F</td><td style = \"text-align: right;\">47753</td><td style = \"text-align: right;\">59699</td><td style = \"text-align: right;\">-61.0799</td></tr><tr><td class = \"rowNumber\" style = \"font-weight: bold; text-align: right;\">6</td><td style = \"text-align: left;\">Not_married</td><td style = \"text-align: left;\">M</td><td style = \"text-align: right;\">11845</td><td style = \"text-align: right;\">14803</td><td style = \"text-align: right;\">-27.8754</td></tr><tr><td class = \"rowNumber\" style = \"font-weight: bold; text-align: right;\">7</td><td style = \"text-align: left;\">Widowed</td><td style = \"text-align: left;\">F</td><td style = \"text-align: right;\">12015</td><td style = \"text-align: right;\">15020</td><td style = \"text-align: right;\">-28.1278</td></tr><tr><td class = \"rowNumber\" style = \"font-weight: bold; text-align: right;\">8</td><td style = \"text-align: left;\">Widowed</td><td style = \"text-align: left;\">M</td><td style = \"text-align: right;\">47565</td><td style = \"text-align: right;\">59453</td><td style = \"text-align: right;\">-60.8736</td></tr></tbody></table></div>"
      ],
      "text/latex": [
       "\\begin{tabular}{r|ccccc}\n",
       "\t& MARITAL\\_STATUS & SEX & population & estimated\\_population & Z\\_score\\\\\n",
       "\t\\hline\n",
       "\t& String? & Char & Int64 & Int64? & Float64\\\\\n",
       "\t\\hline\n",
       "\t1 & Divorced & F & 24163 & 30207 & -41.0007 \\\\\n",
       "\t2 & Divorced & M & 36393 & 45492 & -51.7838 \\\\\n",
       "\t3 & Married & F & 36069 & 45088 & -51.5176 \\\\\n",
       "\t4 & Married & M & 24197 & 30247 & -41.0158 \\\\\n",
       "\t5 & Not\\_married & F & 47753 & 59699 & -61.0799 \\\\\n",
       "\t6 & Not\\_married & M & 11845 & 14803 & -27.8754 \\\\\n",
       "\t7 & Widowed & F & 12015 & 15020 & -28.1278 \\\\\n",
       "\t8 & Widowed & M & 47565 & 59453 & -60.8736 \\\\\n",
       "\\end{tabular}\n"
      ],
      "text/plain": [
       "\u001b[1m8×5 DataFrame\u001b[0m\n",
       "\u001b[1m Row \u001b[0m│\u001b[1m MARITAL_STATUS \u001b[0m\u001b[1m SEX  \u001b[0m\u001b[1m population \u001b[0m\u001b[1m estimated_population \u001b[0m\u001b[1m Z_score  \u001b[0m\n",
       "     │\u001b[90m String?        \u001b[0m\u001b[90m Char \u001b[0m\u001b[90m Int64      \u001b[0m\u001b[90m Int64?               \u001b[0m\u001b[90m Float64  \u001b[0m\n",
       "─────┼──────────────────────────────────────────────────────────────────\n",
       "   1 │ Divorced        F          24163                 30207  -41.0007\n",
       "   2 │ Divorced        M          36393                 45492  -51.7838\n",
       "   3 │ Married         F          36069                 45088  -51.5176\n",
       "   4 │ Married         M          24197                 30247  -41.0158\n",
       "   5 │ Not_married     F          47753                 59699  -61.0799\n",
       "   6 │ Not_married     M          11845                 14803  -27.8754\n",
       "   7 │ Widowed         F          12015                 15020  -28.1278\n",
       "   8 │ Widowed         M          47565                 59453  -60.8736"
      ]
     },
     "metadata": {},
     "output_type": "display_data"
    }
   ],
   "source": [
    "validate_table(guo_bhat_sex_marital, dependent_sex_marital)"
   ]
  },
  {
   "cell_type": "code",
   "execution_count": 34,
   "metadata": {},
   "outputs": [
    {
     "name": "stdout",
     "output_type": "stream",
     "text": [
      "=================\n",
      "=Cell statistics=\n",
      "=================\n",
      "Percentage of well fitting values at 0.95 confidence interval: 0.0\n",
      "Percentage of well fitting values at 0.90 confidence interval: 0.0\n",
      "\n",
      "==================\n",
      "=Table statistics=\n",
      "==================\n",
      "Statistic value equals: 19841.805899022544\n",
      "Table is not well fitting.\n",
      "\n"
     ]
    },
    {
     "data": {
      "text/html": [
       "<div><div style = \"float: left;\"><span>5×4 DataFrame</span></div><div style = \"clear: both;\"></div></div><div class = \"data-frame\" style = \"overflow-x: scroll;\"><table class = \"data-frame\" style = \"margin-bottom: 6px;\"><thead><tr class = \"header\"><th class = \"rowNumber\" style = \"font-weight: bold; text-align: right;\">Row</th><th style = \"text-align: left;\">INCOME</th><th style = \"text-align: left;\">population</th><th style = \"text-align: left;\">estimated_population</th><th style = \"text-align: left;\">Z_score</th></tr><tr class = \"subheader headerLastRow\"><th class = \"rowNumber\" style = \"font-weight: bold; text-align: right;\"></th><th title = \"Union{Missing, Int64}\" style = \"text-align: left;\">Int64?</th><th title = \"Int64\" style = \"text-align: left;\">Int64</th><th title = \"Union{Missing, Int64}\" style = \"text-align: left;\">Int64?</th><th title = \"Float64\" style = \"text-align: left;\">Float64</th></tr></thead><tbody><tr><td class = \"rowNumber\" style = \"font-weight: bold; text-align: right;\">1</td><td style = \"text-align: right;\">40000</td><td style = \"text-align: right;\">38003</td><td style = \"text-align: right;\">47505</td><td style = \"text-align: right;\">-53.1299</td></tr><tr><td class = \"rowNumber\" style = \"font-weight: bold; text-align: right;\">2</td><td style = \"text-align: right;\">50000</td><td style = \"text-align: right;\">85892</td><td style = \"text-align: right;\">107366</td><td style = \"text-align: right;\">-91.4386</td></tr><tr><td class = \"rowNumber\" style = \"font-weight: bold; text-align: right;\">3</td><td style = \"text-align: right;\">60000</td><td style = \"text-align: right;\">40390</td><td style = \"text-align: right;\">50491</td><td style = \"text-align: right;\">-55.1115</td></tr><tr><td class = \"rowNumber\" style = \"font-weight: bold; text-align: right;\">4</td><td style = \"text-align: right;\">70000</td><td style = \"text-align: right;\">38496</td><td style = \"text-align: right;\">48122</td><td style = \"text-align: right;\">-53.5429</td></tr><tr><td class = \"rowNumber\" style = \"font-weight: bold; text-align: right;\">5</td><td style = \"text-align: right;\">80000</td><td style = \"text-align: right;\">37219</td><td style = \"text-align: right;\">46525</td><td style = \"text-align: right;\">-52.4774</td></tr></tbody></table></div>"
      ],
      "text/latex": [
       "\\begin{tabular}{r|cccc}\n",
       "\t& INCOME & population & estimated\\_population & Z\\_score\\\\\n",
       "\t\\hline\n",
       "\t& Int64? & Int64 & Int64? & Float64\\\\\n",
       "\t\\hline\n",
       "\t1 & 40000 & 38003 & 47505 & -53.1299 \\\\\n",
       "\t2 & 50000 & 85892 & 107366 & -91.4386 \\\\\n",
       "\t3 & 60000 & 40390 & 50491 & -55.1115 \\\\\n",
       "\t4 & 70000 & 38496 & 48122 & -53.5429 \\\\\n",
       "\t5 & 80000 & 37219 & 46525 & -52.4774 \\\\\n",
       "\\end{tabular}\n"
      ],
      "text/plain": [
       "\u001b[1m5×4 DataFrame\u001b[0m\n",
       "\u001b[1m Row \u001b[0m│\u001b[1m INCOME \u001b[0m\u001b[1m population \u001b[0m\u001b[1m estimated_population \u001b[0m\u001b[1m Z_score  \u001b[0m\n",
       "     │\u001b[90m Int64? \u001b[0m\u001b[90m Int64      \u001b[0m\u001b[90m Int64?               \u001b[0m\u001b[90m Float64  \u001b[0m\n",
       "─────┼────────────────────────────────────────────────────\n",
       "   1 │  40000       38003                 47505  -53.1299\n",
       "   2 │  50000       85892                107366  -91.4386\n",
       "   3 │  60000       40390                 50491  -55.1115\n",
       "   4 │  70000       38496                 48122  -53.5429\n",
       "   5 │  80000       37219                 46525  -52.4774"
      ]
     },
     "metadata": {},
     "output_type": "display_data"
    }
   ],
   "source": [
    "validate_table(guo_bhat_income, dependent_income)"
   ]
  },
  {
   "attachments": {},
   "cell_type": "markdown",
   "metadata": {},
   "source": [
    "#### Ponge, Enbergs, Schungel, Hellingrath, Karch, Ludwig, 2021"
   ]
  },
  {
   "cell_type": "code",
   "execution_count": 35,
   "metadata": {},
   "outputs": [
    {
     "data": {
      "text/plain": [
       "(\u001b[1m32×3 DataFrame\u001b[0m\n",
       "\u001b[1m Row \u001b[0m│\u001b[1m AGE   \u001b[0m\u001b[1m SEX  \u001b[0m\u001b[1m population \u001b[0m\n",
       "     │\u001b[90m Int64 \u001b[0m\u001b[90m Char \u001b[0m\u001b[90m Int64      \u001b[0m\n",
       "─────┼─────────────────────────\n",
       "   1 │     5  F          10088\n",
       "   2 │     5  M          10066\n",
       "   3 │    10  F           9997\n",
       "   4 │    10  M           9789\n",
       "   5 │    15  F           9927\n",
       "   6 │    15  M          10137\n",
       "   7 │    20  F          15084\n",
       "   8 │    20  M          14874\n",
       "  ⋮  │   ⋮     ⋮        ⋮\n",
       "  26 │    65  M           8246\n",
       "  27 │    70  F           8242\n",
       "  28 │    70  M           8048\n",
       "  29 │    75  F           8166\n",
       "  30 │    75  M           8146\n",
       "  31 │    80  F           8179\n",
       "  32 │    80  M           8136\n",
       "\u001b[36m                17 rows omitted\u001b[0m, \u001b[1m8×3 DataFrame\u001b[0m\n",
       "\u001b[1m Row \u001b[0m│\u001b[1m MARITAL_STATUS \u001b[0m\u001b[1m SEX  \u001b[0m\u001b[1m population \u001b[0m\n",
       "     │\u001b[90m String         \u001b[0m\u001b[90m Char \u001b[0m\u001b[90m Int64      \u001b[0m\n",
       "─────┼──────────────────────────────────\n",
       "   1 │ Divorced        F          30210\n",
       "   2 │ Divorced        M          45488\n",
       "   3 │ Married         F          45089\n",
       "   4 │ Married         M          30240\n",
       "   5 │ Not_married     F          59695\n",
       "   6 │ Not_married     M          14799\n",
       "   7 │ Widowed         F          15021\n",
       "   8 │ Widowed         M          59449, \u001b[1m5×2 DataFrame\u001b[0m\n",
       "\u001b[1m Row \u001b[0m│\u001b[1m INCOME \u001b[0m\u001b[1m population \u001b[0m\n",
       "     │\u001b[90m Int64  \u001b[0m\u001b[90m Int64      \u001b[0m\n",
       "─────┼────────────────────\n",
       "   1 │  40000       47501\n",
       "   2 │  50000      107363\n",
       "   3 │  60000       50482\n",
       "   4 │  70000       48117\n",
       "   5 │  80000       46528)"
      ]
     },
     "metadata": {},
     "output_type": "display_data"
    }
   ],
   "source": [
    "ponge_et_al_age_sex, ponge_et_al_sex_marital, ponge_et_al_income = compute_marginals(ponge_et_al)"
   ]
  },
  {
   "cell_type": "code",
   "execution_count": 36,
   "metadata": {},
   "outputs": [
    {
     "name": "stdout",
     "output_type": "stream",
     "text": [
      "=================\n",
      "=Cell statistics=\n",
      "=================\n",
      "Percentage of well fitting values at 0.95 confidence interval: 1.0\n",
      "Percentage of well fitting values at 0.90 confidence interval: 1.0\n",
      "\n",
      "==================\n",
      "=Table statistics=\n",
      "==================\n",
      "Statistic value equals: 0.00711812581680025\n",
      "Table is well fitting at 0.9 and 0.95 confidence interval.\n",
      "\n"
     ]
    },
    {
     "data": {
      "text/html": [
       "<div><div style = \"float: left;\"><span>32×5 DataFrame</span></div><div style = \"float: right;\"><span style = \"font-style: italic;\">7 rows omitted</span></div><div style = \"clear: both;\"></div></div><div class = \"data-frame\" style = \"overflow-x: scroll;\"><table class = \"data-frame\" style = \"margin-bottom: 6px;\"><thead><tr class = \"header\"><th class = \"rowNumber\" style = \"font-weight: bold; text-align: right;\">Row</th><th style = \"text-align: left;\">AGE</th><th style = \"text-align: left;\">SEX</th><th style = \"text-align: left;\">population</th><th style = \"text-align: left;\">estimated_population</th><th style = \"text-align: left;\">Z_score</th></tr><tr class = \"subheader headerLastRow\"><th class = \"rowNumber\" style = \"font-weight: bold; text-align: right;\"></th><th title = \"Int64\" style = \"text-align: left;\">Int64</th><th title = \"Char\" style = \"text-align: left;\">Char</th><th title = \"Int64\" style = \"text-align: left;\">Int64</th><th title = \"Union{Missing, Int64}\" style = \"text-align: left;\">Int64?</th><th title = \"Float64\" style = \"text-align: left;\">Float64</th></tr></thead><tbody><tr><td class = \"rowNumber\" style = \"font-weight: bold; text-align: right;\">1</td><td style = \"text-align: right;\">5</td><td style = \"text-align: left;\">F</td><td style = \"text-align: right;\">10086</td><td style = \"text-align: right;\">10088</td><td style = \"text-align: right;\">-0.020258</td></tr><tr><td class = \"rowNumber\" style = \"font-weight: bold; text-align: right;\">2</td><td style = \"text-align: right;\">5</td><td style = \"text-align: left;\">M</td><td style = \"text-align: right;\">10066</td><td style = \"text-align: right;\">10066</td><td style = \"text-align: right;\">0.0</td></tr><tr><td class = \"rowNumber\" style = \"font-weight: bold; text-align: right;\">3</td><td style = \"text-align: right;\">10</td><td style = \"text-align: left;\">F</td><td style = \"text-align: right;\">9996</td><td style = \"text-align: right;\">9997</td><td style = \"text-align: right;\">-0.0101729</td></tr><tr><td class = \"rowNumber\" style = \"font-weight: bold; text-align: right;\">4</td><td style = \"text-align: right;\">10</td><td style = \"text-align: left;\">M</td><td style = \"text-align: right;\">9789</td><td style = \"text-align: right;\">9789</td><td style = \"text-align: right;\">0.0</td></tr><tr><td class = \"rowNumber\" style = \"font-weight: bold; text-align: right;\">5</td><td style = \"text-align: right;\">15</td><td style = \"text-align: left;\">F</td><td style = \"text-align: right;\">9926</td><td style = \"text-align: right;\">9927</td><td style = \"text-align: right;\">-0.0102075</td></tr><tr><td class = \"rowNumber\" style = \"font-weight: bold; text-align: right;\">6</td><td style = \"text-align: right;\">15</td><td style = \"text-align: left;\">M</td><td style = \"text-align: right;\">10137</td><td style = \"text-align: right;\">10137</td><td style = \"text-align: right;\">0.0</td></tr><tr><td class = \"rowNumber\" style = \"font-weight: bold; text-align: right;\">7</td><td style = \"text-align: right;\">20</td><td style = \"text-align: left;\">F</td><td style = \"text-align: right;\">15085</td><td style = \"text-align: right;\">15084</td><td style = \"text-align: right;\">0.00835469</td></tr><tr><td class = \"rowNumber\" style = \"font-weight: bold; text-align: right;\">8</td><td style = \"text-align: right;\">20</td><td style = \"text-align: left;\">M</td><td style = \"text-align: right;\">14875</td><td style = \"text-align: right;\">14874</td><td style = \"text-align: right;\">0.00841036</td></tr><tr><td class = \"rowNumber\" style = \"font-weight: bold; text-align: right;\">9</td><td style = \"text-align: right;\">25</td><td style = \"text-align: left;\">F</td><td style = \"text-align: right;\">14915</td><td style = \"text-align: right;\">14914</td><td style = \"text-align: right;\">0.00839966</td></tr><tr><td class = \"rowNumber\" style = \"font-weight: bold; text-align: right;\">10</td><td style = \"text-align: right;\">25</td><td style = \"text-align: left;\">M</td><td style = \"text-align: right;\">15125</td><td style = \"text-align: right;\">15125</td><td style = \"text-align: right;\">0.0</td></tr><tr><td class = \"rowNumber\" style = \"font-weight: bold; text-align: right;\">11</td><td style = \"text-align: right;\">30</td><td style = \"text-align: left;\">F</td><td style = \"text-align: right;\">8108</td><td style = \"text-align: right;\">8110</td><td style = \"text-align: right;\">-0.0225176</td></tr><tr><td class = \"rowNumber\" style = \"font-weight: bold; text-align: right;\">12</td><td style = \"text-align: right;\">30</td><td style = \"text-align: left;\">M</td><td style = \"text-align: right;\">8160</td><td style = \"text-align: right;\">8158</td><td style = \"text-align: right;\">0.0224478</td></tr><tr><td class = \"rowNumber\" style = \"font-weight: bold; text-align: right;\">13</td><td style = \"text-align: right;\">35</td><td style = \"text-align: left;\">F</td><td style = \"text-align: right;\">8151</td><td style = \"text-align: right;\">8150</td><td style = \"text-align: right;\">0.0112299</td></tr><tr><td style = \"text-align: right;\">&vellip;</td><td style = \"text-align: right;\">&vellip;</td><td style = \"text-align: right;\">&vellip;</td><td style = \"text-align: right;\">&vellip;</td><td style = \"text-align: right;\">&vellip;</td><td style = \"text-align: right;\">&vellip;</td></tr><tr><td class = \"rowNumber\" style = \"font-weight: bold; text-align: right;\">21</td><td style = \"text-align: right;\">55</td><td style = \"text-align: left;\">F</td><td style = \"text-align: right;\">8238</td><td style = \"text-align: right;\">8238</td><td style = \"text-align: right;\">0.0</td></tr><tr><td class = \"rowNumber\" style = \"font-weight: bold; text-align: right;\">22</td><td style = \"text-align: right;\">55</td><td style = \"text-align: left;\">M</td><td style = \"text-align: right;\">8190</td><td style = \"text-align: right;\">8190</td><td style = \"text-align: right;\">0.0</td></tr><tr><td class = \"rowNumber\" style = \"font-weight: bold; text-align: right;\">23</td><td style = \"text-align: right;\">60</td><td style = \"text-align: left;\">F</td><td style = \"text-align: right;\">8279</td><td style = \"text-align: right;\">8280</td><td style = \"text-align: right;\">-0.0111452</td></tr><tr><td class = \"rowNumber\" style = \"font-weight: bold; text-align: right;\">24</td><td style = \"text-align: right;\">60</td><td style = \"text-align: left;\">M</td><td style = \"text-align: right;\">8298</td><td style = \"text-align: right;\">8296</td><td style = \"text-align: right;\">0.0222656</td></tr><tr><td class = \"rowNumber\" style = \"font-weight: bold; text-align: right;\">25</td><td style = \"text-align: right;\">65</td><td style = \"text-align: left;\">F</td><td style = \"text-align: right;\">8116</td><td style = \"text-align: right;\">8118</td><td style = \"text-align: right;\">-0.0225068</td></tr><tr><td class = \"rowNumber\" style = \"font-weight: bold; text-align: right;\">26</td><td style = \"text-align: right;\">65</td><td style = \"text-align: left;\">M</td><td style = \"text-align: right;\">8246</td><td style = \"text-align: right;\">8246</td><td style = \"text-align: right;\">0.0</td></tr><tr><td class = \"rowNumber\" style = \"font-weight: bold; text-align: right;\">27</td><td style = \"text-align: right;\">70</td><td style = \"text-align: left;\">F</td><td style = \"text-align: right;\">8240</td><td style = \"text-align: right;\">8242</td><td style = \"text-align: right;\">-0.0223416</td></tr><tr><td class = \"rowNumber\" style = \"font-weight: bold; text-align: right;\">28</td><td style = \"text-align: right;\">70</td><td style = \"text-align: left;\">M</td><td style = \"text-align: right;\">8050</td><td style = \"text-align: right;\">8048</td><td style = \"text-align: right;\">0.0225964</td></tr><tr><td class = \"rowNumber\" style = \"font-weight: bold; text-align: right;\">29</td><td style = \"text-align: right;\">75</td><td style = \"text-align: left;\">F</td><td style = \"text-align: right;\">8165</td><td style = \"text-align: right;\">8166</td><td style = \"text-align: right;\">-0.0112205</td></tr><tr><td class = \"rowNumber\" style = \"font-weight: bold; text-align: right;\">30</td><td style = \"text-align: right;\">75</td><td style = \"text-align: left;\">M</td><td style = \"text-align: right;\">8148</td><td style = \"text-align: right;\">8146</td><td style = \"text-align: right;\">0.0224638</td></tr><tr><td class = \"rowNumber\" style = \"font-weight: bold; text-align: right;\">31</td><td style = \"text-align: right;\">80</td><td style = \"text-align: left;\">F</td><td style = \"text-align: right;\">8180</td><td style = \"text-align: right;\">8179</td><td style = \"text-align: right;\">0.0112105</td></tr><tr><td class = \"rowNumber\" style = \"font-weight: bold; text-align: right;\">32</td><td style = \"text-align: right;\">80</td><td style = \"text-align: left;\">M</td><td style = \"text-align: right;\">8137</td><td style = \"text-align: right;\">8136</td><td style = \"text-align: right;\">0.0112393</td></tr></tbody></table></div>"
      ],
      "text/latex": [
       "\\begin{tabular}{r|ccccc}\n",
       "\t& AGE & SEX & population & estimated\\_population & Z\\_score\\\\\n",
       "\t\\hline\n",
       "\t& Int64 & Char & Int64 & Int64? & Float64\\\\\n",
       "\t\\hline\n",
       "\t1 & 5 & F & 10086 & 10088 & -0.020258 \\\\\n",
       "\t2 & 5 & M & 10066 & 10066 & 0.0 \\\\\n",
       "\t3 & 10 & F & 9996 & 9997 & -0.0101729 \\\\\n",
       "\t4 & 10 & M & 9789 & 9789 & 0.0 \\\\\n",
       "\t5 & 15 & F & 9926 & 9927 & -0.0102075 \\\\\n",
       "\t6 & 15 & M & 10137 & 10137 & 0.0 \\\\\n",
       "\t7 & 20 & F & 15085 & 15084 & 0.00835469 \\\\\n",
       "\t8 & 20 & M & 14875 & 14874 & 0.00841036 \\\\\n",
       "\t9 & 25 & F & 14915 & 14914 & 0.00839966 \\\\\n",
       "\t10 & 25 & M & 15125 & 15125 & 0.0 \\\\\n",
       "\t11 & 30 & F & 8108 & 8110 & -0.0225176 \\\\\n",
       "\t12 & 30 & M & 8160 & 8158 & 0.0224478 \\\\\n",
       "\t13 & 35 & F & 8151 & 8150 & 0.0112299 \\\\\n",
       "\t14 & 35 & M & 8110 & 8110 & 0.0 \\\\\n",
       "\t15 & 40 & F & 8227 & 8228 & -0.0111794 \\\\\n",
       "\t16 & 40 & M & 8304 & 8302 & 0.0222578 \\\\\n",
       "\t17 & 45 & F & 8208 & 8207 & 0.0111919 \\\\\n",
       "\t18 & 45 & M & 8150 & 8147 & 0.0336917 \\\\\n",
       "\t19 & 50 & F & 8088 & 8087 & 0.0112723 \\\\\n",
       "\t20 & 50 & M & 8207 & 8206 & 0.0111926 \\\\\n",
       "\t21 & 55 & F & 8238 & 8238 & 0.0 \\\\\n",
       "\t22 & 55 & M & 8190 & 8190 & 0.0 \\\\\n",
       "\t23 & 60 & F & 8279 & 8280 & -0.0111452 \\\\\n",
       "\t24 & 60 & M & 8298 & 8296 & 0.0222656 \\\\\n",
       "\t$\\dots$ & $\\dots$ & $\\dots$ & $\\dots$ & $\\dots$ & $\\dots$ \\\\\n",
       "\\end{tabular}\n"
      ],
      "text/plain": [
       "\u001b[1m32×5 DataFrame\u001b[0m\n",
       "\u001b[1m Row \u001b[0m│\u001b[1m AGE   \u001b[0m\u001b[1m SEX  \u001b[0m\u001b[1m population \u001b[0m\u001b[1m estimated_population \u001b[0m\u001b[1m Z_score     \u001b[0m\n",
       "     │\u001b[90m Int64 \u001b[0m\u001b[90m Char \u001b[0m\u001b[90m Int64      \u001b[0m\u001b[90m Int64?               \u001b[0m\u001b[90m Float64     \u001b[0m\n",
       "─────┼────────────────────────────────────────────────────────────\n",
       "   1 │     5  F          10086                 10088  -0.020258\n",
       "   2 │     5  M          10066                 10066   0.0\n",
       "   3 │    10  F           9996                  9997  -0.0101729\n",
       "   4 │    10  M           9789                  9789   0.0\n",
       "   5 │    15  F           9926                  9927  -0.0102075\n",
       "   6 │    15  M          10137                 10137   0.0\n",
       "   7 │    20  F          15085                 15084   0.00835469\n",
       "   8 │    20  M          14875                 14874   0.00841036\n",
       "  ⋮  │   ⋮     ⋮        ⋮                ⋮                 ⋮\n",
       "  26 │    65  M           8246                  8246   0.0\n",
       "  27 │    70  F           8240                  8242  -0.0223416\n",
       "  28 │    70  M           8050                  8048   0.0225964\n",
       "  29 │    75  F           8165                  8166  -0.0112205\n",
       "  30 │    75  M           8148                  8146   0.0224638\n",
       "  31 │    80  F           8180                  8179   0.0112105\n",
       "  32 │    80  M           8137                  8136   0.0112393\n",
       "\u001b[36m                                                   17 rows omitted\u001b[0m"
      ]
     },
     "metadata": {},
     "output_type": "display_data"
    }
   ],
   "source": [
    "validate_table(ponge_et_al_age_sex, dependent_age_sex)"
   ]
  },
  {
   "cell_type": "code",
   "execution_count": 37,
   "metadata": {},
   "outputs": [
    {
     "name": "stdout",
     "output_type": "stream",
     "text": [
      "=================\n",
      "=Cell statistics=\n",
      "=================\n",
      "Percentage of well fitting values at 0.95 confidence interval: 0.0\n",
      "Percentage of well fitting values at 0.90 confidence interval: 0.0\n",
      "\n",
      "==================\n",
      "=Table statistics=\n",
      "==================\n",
      "Statistic value equals: 17692.974117952195\n",
      "Table is not well fitting.\n",
      "\n"
     ]
    },
    {
     "data": {
      "text/html": [
       "<div><div style = \"float: left;\"><span>8×5 DataFrame</span></div><div style = \"clear: both;\"></div></div><div class = \"data-frame\" style = \"overflow-x: scroll;\"><table class = \"data-frame\" style = \"margin-bottom: 6px;\"><thead><tr class = \"header\"><th class = \"rowNumber\" style = \"font-weight: bold; text-align: right;\">Row</th><th style = \"text-align: left;\">MARITAL_STATUS</th><th style = \"text-align: left;\">SEX</th><th style = \"text-align: left;\">population</th><th style = \"text-align: left;\">estimated_population</th><th style = \"text-align: left;\">Z_score</th></tr><tr class = \"subheader headerLastRow\"><th class = \"rowNumber\" style = \"font-weight: bold; text-align: right;\"></th><th title = \"Union{Missing, String}\" style = \"text-align: left;\">String?</th><th title = \"Char\" style = \"text-align: left;\">Char</th><th title = \"Int64\" style = \"text-align: left;\">Int64</th><th title = \"Union{Missing, Int64}\" style = \"text-align: left;\">Int64?</th><th title = \"Float64\" style = \"text-align: left;\">Float64</th></tr></thead><tbody><tr><td class = \"rowNumber\" style = \"font-weight: bold; text-align: right;\">1</td><td style = \"text-align: left;\">Divorced</td><td style = \"text-align: left;\">F</td><td style = \"text-align: right;\">24163</td><td style = \"text-align: right;\">30210</td><td style = \"text-align: right;\">-41.0211</td></tr><tr><td class = \"rowNumber\" style = \"font-weight: bold; text-align: right;\">2</td><td style = \"text-align: left;\">Divorced</td><td style = \"text-align: left;\">M</td><td style = \"text-align: right;\">36393</td><td style = \"text-align: right;\">45488</td><td style = \"text-align: right;\">-51.761</td></tr><tr><td class = \"rowNumber\" style = \"font-weight: bold; text-align: right;\">3</td><td style = \"text-align: left;\">Married</td><td style = \"text-align: left;\">F</td><td style = \"text-align: right;\">36069</td><td style = \"text-align: right;\">45089</td><td style = \"text-align: right;\">-51.5233</td></tr><tr><td class = \"rowNumber\" style = \"font-weight: bold; text-align: right;\">4</td><td style = \"text-align: left;\">Married</td><td style = \"text-align: left;\">M</td><td style = \"text-align: right;\">24197</td><td style = \"text-align: right;\">30240</td><td style = \"text-align: right;\">-40.9684</td></tr><tr><td class = \"rowNumber\" style = \"font-weight: bold; text-align: right;\">5</td><td style = \"text-align: left;\">Not_married</td><td style = \"text-align: left;\">F</td><td style = \"text-align: right;\">47753</td><td style = \"text-align: right;\">59695</td><td style = \"text-align: right;\">-61.0594</td></tr><tr><td class = \"rowNumber\" style = \"font-weight: bold; text-align: right;\">6</td><td style = \"text-align: left;\">Not_married</td><td style = \"text-align: left;\">M</td><td style = \"text-align: right;\">11845</td><td style = \"text-align: right;\">14799</td><td style = \"text-align: right;\">-27.8377</td></tr><tr><td class = \"rowNumber\" style = \"font-weight: bold; text-align: right;\">7</td><td style = \"text-align: left;\">Widowed</td><td style = \"text-align: left;\">F</td><td style = \"text-align: right;\">12015</td><td style = \"text-align: right;\">15021</td><td style = \"text-align: right;\">-28.1371</td></tr><tr><td class = \"rowNumber\" style = \"font-weight: bold; text-align: right;\">8</td><td style = \"text-align: left;\">Widowed</td><td style = \"text-align: left;\">M</td><td style = \"text-align: right;\">47565</td><td style = \"text-align: right;\">59449</td><td style = \"text-align: right;\">-60.8531</td></tr></tbody></table></div>"
      ],
      "text/latex": [
       "\\begin{tabular}{r|ccccc}\n",
       "\t& MARITAL\\_STATUS & SEX & population & estimated\\_population & Z\\_score\\\\\n",
       "\t\\hline\n",
       "\t& String? & Char & Int64 & Int64? & Float64\\\\\n",
       "\t\\hline\n",
       "\t1 & Divorced & F & 24163 & 30210 & -41.0211 \\\\\n",
       "\t2 & Divorced & M & 36393 & 45488 & -51.761 \\\\\n",
       "\t3 & Married & F & 36069 & 45089 & -51.5233 \\\\\n",
       "\t4 & Married & M & 24197 & 30240 & -40.9684 \\\\\n",
       "\t5 & Not\\_married & F & 47753 & 59695 & -61.0594 \\\\\n",
       "\t6 & Not\\_married & M & 11845 & 14799 & -27.8377 \\\\\n",
       "\t7 & Widowed & F & 12015 & 15021 & -28.1371 \\\\\n",
       "\t8 & Widowed & M & 47565 & 59449 & -60.8531 \\\\\n",
       "\\end{tabular}\n"
      ],
      "text/plain": [
       "\u001b[1m8×5 DataFrame\u001b[0m\n",
       "\u001b[1m Row \u001b[0m│\u001b[1m MARITAL_STATUS \u001b[0m\u001b[1m SEX  \u001b[0m\u001b[1m population \u001b[0m\u001b[1m estimated_population \u001b[0m\u001b[1m Z_score  \u001b[0m\n",
       "     │\u001b[90m String?        \u001b[0m\u001b[90m Char \u001b[0m\u001b[90m Int64      \u001b[0m\u001b[90m Int64?               \u001b[0m\u001b[90m Float64  \u001b[0m\n",
       "─────┼──────────────────────────────────────────────────────────────────\n",
       "   1 │ Divorced        F          24163                 30210  -41.0211\n",
       "   2 │ Divorced        M          36393                 45488  -51.761\n",
       "   3 │ Married         F          36069                 45089  -51.5233\n",
       "   4 │ Married         M          24197                 30240  -40.9684\n",
       "   5 │ Not_married     F          47753                 59695  -61.0594\n",
       "   6 │ Not_married     M          11845                 14799  -27.8377\n",
       "   7 │ Widowed         F          12015                 15021  -28.1371\n",
       "   8 │ Widowed         M          47565                 59449  -60.8531"
      ]
     },
     "metadata": {},
     "output_type": "display_data"
    }
   ],
   "source": [
    "validate_table(ponge_et_al_sex_marital, dependent_sex_marital)"
   ]
  },
  {
   "cell_type": "code",
   "execution_count": 38,
   "metadata": {},
   "outputs": [
    {
     "name": "stdout",
     "output_type": "stream",
     "text": [
      "=================\n",
      "=Cell statistics=\n",
      "=================\n",
      "Percentage of well fitting values at 0.95 confidence interval: 0.0\n",
      "Percentage of well fitting values at 0.90 confidence interval: 0.0\n",
      "\n",
      "==================\n",
      "=Table statistics=\n",
      "==================\n",
      "Statistic value equals: 19830.482214515705\n",
      "Table is not well fitting.\n",
      "\n"
     ]
    },
    {
     "data": {
      "text/html": [
       "<div><div style = \"float: left;\"><span>5×4 DataFrame</span></div><div style = \"clear: both;\"></div></div><div class = \"data-frame\" style = \"overflow-x: scroll;\"><table class = \"data-frame\" style = \"margin-bottom: 6px;\"><thead><tr class = \"header\"><th class = \"rowNumber\" style = \"font-weight: bold; text-align: right;\">Row</th><th style = \"text-align: left;\">INCOME</th><th style = \"text-align: left;\">population</th><th style = \"text-align: left;\">estimated_population</th><th style = \"text-align: left;\">Z_score</th></tr><tr class = \"subheader headerLastRow\"><th class = \"rowNumber\" style = \"font-weight: bold; text-align: right;\"></th><th title = \"Union{Missing, Int64}\" style = \"text-align: left;\">Int64?</th><th title = \"Int64\" style = \"text-align: left;\">Int64</th><th title = \"Union{Missing, Int64}\" style = \"text-align: left;\">Int64?</th><th title = \"Float64\" style = \"text-align: left;\">Float64</th></tr></thead><tbody><tr><td class = \"rowNumber\" style = \"font-weight: bold; text-align: right;\">1</td><td style = \"text-align: right;\">40000</td><td style = \"text-align: right;\">38003</td><td style = \"text-align: right;\">47501</td><td style = \"text-align: right;\">-53.1076</td></tr><tr><td class = \"rowNumber\" style = \"font-weight: bold; text-align: right;\">2</td><td style = \"text-align: right;\">50000</td><td style = \"text-align: right;\">85892</td><td style = \"text-align: right;\">107363</td><td style = \"text-align: right;\">-91.4258</td></tr><tr><td class = \"rowNumber\" style = \"font-weight: bold; text-align: right;\">3</td><td style = \"text-align: right;\">60000</td><td style = \"text-align: right;\">40390</td><td style = \"text-align: right;\">50482</td><td style = \"text-align: right;\">-55.0624</td></tr><tr><td class = \"rowNumber\" style = \"font-weight: bold; text-align: right;\">4</td><td style = \"text-align: right;\">70000</td><td style = \"text-align: right;\">38496</td><td style = \"text-align: right;\">48117</td><td style = \"text-align: right;\">-53.5151</td></tr><tr><td class = \"rowNumber\" style = \"font-weight: bold; text-align: right;\">5</td><td style = \"text-align: right;\">80000</td><td style = \"text-align: right;\">37219</td><td style = \"text-align: right;\">46528</td><td style = \"text-align: right;\">-52.4944</td></tr></tbody></table></div>"
      ],
      "text/latex": [
       "\\begin{tabular}{r|cccc}\n",
       "\t& INCOME & population & estimated\\_population & Z\\_score\\\\\n",
       "\t\\hline\n",
       "\t& Int64? & Int64 & Int64? & Float64\\\\\n",
       "\t\\hline\n",
       "\t1 & 40000 & 38003 & 47501 & -53.1076 \\\\\n",
       "\t2 & 50000 & 85892 & 107363 & -91.4258 \\\\\n",
       "\t3 & 60000 & 40390 & 50482 & -55.0624 \\\\\n",
       "\t4 & 70000 & 38496 & 48117 & -53.5151 \\\\\n",
       "\t5 & 80000 & 37219 & 46528 & -52.4944 \\\\\n",
       "\\end{tabular}\n"
      ],
      "text/plain": [
       "\u001b[1m5×4 DataFrame\u001b[0m\n",
       "\u001b[1m Row \u001b[0m│\u001b[1m INCOME \u001b[0m\u001b[1m population \u001b[0m\u001b[1m estimated_population \u001b[0m\u001b[1m Z_score  \u001b[0m\n",
       "     │\u001b[90m Int64? \u001b[0m\u001b[90m Int64      \u001b[0m\u001b[90m Int64?               \u001b[0m\u001b[90m Float64  \u001b[0m\n",
       "─────┼────────────────────────────────────────────────────\n",
       "   1 │  40000       38003                 47501  -53.1076\n",
       "   2 │  50000       85892                107363  -91.4258\n",
       "   3 │  60000       40390                 50482  -55.0624\n",
       "   4 │  70000       38496                 48117  -53.5151\n",
       "   5 │  80000       37219                 46528  -52.4944"
      ]
     },
     "metadata": {},
     "output_type": "display_data"
    }
   ],
   "source": [
    "validate_table(ponge_et_al_income, dependent_income)"
   ]
  },
  {
   "attachments": {},
   "cell_type": "markdown",
   "metadata": {},
   "source": [
    "#### Modified"
   ]
  },
  {
   "cell_type": "code",
   "execution_count": 39,
   "metadata": {},
   "outputs": [
    {
     "data": {
      "text/plain": [
       "(\u001b[1m32×3 DataFrame\u001b[0m\n",
       "\u001b[1m Row \u001b[0m│\u001b[1m AGE    \u001b[0m\u001b[1m SEX   \u001b[0m\u001b[1m population \u001b[0m\n",
       "     │\u001b[90m Int64? \u001b[0m\u001b[90m Char? \u001b[0m\u001b[90m Int64      \u001b[0m\n",
       "─────┼───────────────────────────\n",
       "   1 │      5  F           10088\n",
       "   2 │      5  M           10067\n",
       "   3 │     10  F            9997\n",
       "   4 │     10  M            9790\n",
       "   5 │     15  F            9928\n",
       "   6 │     15  M           10137\n",
       "   7 │     20  F           15084\n",
       "   8 │     20  M           14874\n",
       "  ⋮  │   ⋮       ⋮        ⋮\n",
       "  26 │     65  M            8246\n",
       "  27 │     70  F            8241\n",
       "  28 │     70  M            8050\n",
       "  29 │     75  F            8167\n",
       "  30 │     75  M            8148\n",
       "  31 │     80  F            8179\n",
       "  32 │     80  M            8138\n",
       "\u001b[36m                  17 rows omitted\u001b[0m, \u001b[1m8×3 DataFrame\u001b[0m\n",
       "\u001b[1m Row \u001b[0m│\u001b[1m MARITAL_STATUS \u001b[0m\u001b[1m SEX   \u001b[0m\u001b[1m population \u001b[0m\n",
       "     │\u001b[90m String?        \u001b[0m\u001b[90m Char? \u001b[0m\u001b[90m Int64      \u001b[0m\n",
       "─────┼───────────────────────────────────\n",
       "   1 │ Divorced        F           24166\n",
       "   2 │ Divorced        M           36391\n",
       "   3 │ Married         F           36071\n",
       "   4 │ Married         M           24193\n",
       "   5 │ Not_married     F           47755\n",
       "   6 │ Not_married     M           11843\n",
       "   7 │ Widowed         F           12015\n",
       "   8 │ Widowed         M           47565, \u001b[1m5×2 DataFrame\u001b[0m\n",
       "\u001b[1m Row \u001b[0m│\u001b[1m INCOME \u001b[0m\u001b[1m population \u001b[0m\n",
       "     │\u001b[90m Int64? \u001b[0m\u001b[90m Int64      \u001b[0m\n",
       "─────┼────────────────────\n",
       "   1 │  40000       38005\n",
       "   2 │  50000       85889\n",
       "   3 │  60000       40390\n",
       "   4 │  70000       38496\n",
       "   5 │  80000       37219)"
      ]
     },
     "metadata": {},
     "output_type": "display_data"
    }
   ],
   "source": [
    "modified_age_sex, modified_sex_marital, modified_income = compute_marginals(modified)"
   ]
  },
  {
   "cell_type": "code",
   "execution_count": 40,
   "metadata": {},
   "outputs": [
    {
     "name": "stdout",
     "output_type": "stream",
     "text": [
      "=================\n",
      "=Cell statistics=\n",
      "=================\n",
      "Percentage of well fitting values at 0.95 confidence interval: 1.0\n",
      "Percentage of well fitting values at 0.90 confidence interval: 1.0\n",
      "\n",
      "==================\n",
      "=Table statistics=\n",
      "==================\n",
      "Statistic value equals: 0.0071171169063627745\n",
      "Table is well fitting at 0.9 and 0.95 confidence interval.\n",
      "\n"
     ]
    },
    {
     "data": {
      "text/html": [
       "<div><div style = \"float: left;\"><span>32×5 DataFrame</span></div><div style = \"float: right;\"><span style = \"font-style: italic;\">7 rows omitted</span></div><div style = \"clear: both;\"></div></div><div class = \"data-frame\" style = \"overflow-x: scroll;\"><table class = \"data-frame\" style = \"margin-bottom: 6px;\"><thead><tr class = \"header\"><th class = \"rowNumber\" style = \"font-weight: bold; text-align: right;\">Row</th><th style = \"text-align: left;\">AGE</th><th style = \"text-align: left;\">SEX</th><th style = \"text-align: left;\">population</th><th style = \"text-align: left;\">estimated_population</th><th style = \"text-align: left;\">Z_score</th></tr><tr class = \"subheader headerLastRow\"><th class = \"rowNumber\" style = \"font-weight: bold; text-align: right;\"></th><th title = \"Int64\" style = \"text-align: left;\">Int64</th><th title = \"Char\" style = \"text-align: left;\">Char</th><th title = \"Int64\" style = \"text-align: left;\">Int64</th><th title = \"Union{Missing, Int64}\" style = \"text-align: left;\">Int64?</th><th title = \"Float64\" style = \"text-align: left;\">Float64</th></tr></thead><tbody><tr><td class = \"rowNumber\" style = \"font-weight: bold; text-align: right;\">1</td><td style = \"text-align: right;\">5</td><td style = \"text-align: left;\">F</td><td style = \"text-align: right;\">10086</td><td style = \"text-align: right;\">10088</td><td style = \"text-align: right;\">-0.020258</td></tr><tr><td class = \"rowNumber\" style = \"font-weight: bold; text-align: right;\">2</td><td style = \"text-align: right;\">5</td><td style = \"text-align: left;\">M</td><td style = \"text-align: right;\">10066</td><td style = \"text-align: right;\">10067</td><td style = \"text-align: right;\">-0.0101387</td></tr><tr><td class = \"rowNumber\" style = \"font-weight: bold; text-align: right;\">3</td><td style = \"text-align: right;\">10</td><td style = \"text-align: left;\">F</td><td style = \"text-align: right;\">9996</td><td style = \"text-align: right;\">9997</td><td style = \"text-align: right;\">-0.0101729</td></tr><tr><td class = \"rowNumber\" style = \"font-weight: bold; text-align: right;\">4</td><td style = \"text-align: right;\">10</td><td style = \"text-align: left;\">M</td><td style = \"text-align: right;\">9789</td><td style = \"text-align: right;\">9790</td><td style = \"text-align: right;\">-0.0102762</td></tr><tr><td class = \"rowNumber\" style = \"font-weight: bold; text-align: right;\">5</td><td style = \"text-align: right;\">15</td><td style = \"text-align: left;\">F</td><td style = \"text-align: right;\">9926</td><td style = \"text-align: right;\">9928</td><td style = \"text-align: right;\">-0.020415</td></tr><tr><td class = \"rowNumber\" style = \"font-weight: bold; text-align: right;\">6</td><td style = \"text-align: right;\">15</td><td style = \"text-align: left;\">M</td><td style = \"text-align: right;\">10137</td><td style = \"text-align: right;\">10137</td><td style = \"text-align: right;\">0.0</td></tr><tr><td class = \"rowNumber\" style = \"font-weight: bold; text-align: right;\">7</td><td style = \"text-align: right;\">20</td><td style = \"text-align: left;\">F</td><td style = \"text-align: right;\">15085</td><td style = \"text-align: right;\">15084</td><td style = \"text-align: right;\">0.00835469</td></tr><tr><td class = \"rowNumber\" style = \"font-weight: bold; text-align: right;\">8</td><td style = \"text-align: right;\">20</td><td style = \"text-align: left;\">M</td><td style = \"text-align: right;\">14875</td><td style = \"text-align: right;\">14874</td><td style = \"text-align: right;\">0.00841036</td></tr><tr><td class = \"rowNumber\" style = \"font-weight: bold; text-align: right;\">9</td><td style = \"text-align: right;\">25</td><td style = \"text-align: left;\">F</td><td style = \"text-align: right;\">14915</td><td style = \"text-align: right;\">14914</td><td style = \"text-align: right;\">0.00839966</td></tr><tr><td class = \"rowNumber\" style = \"font-weight: bold; text-align: right;\">10</td><td style = \"text-align: right;\">25</td><td style = \"text-align: left;\">M</td><td style = \"text-align: right;\">15125</td><td style = \"text-align: right;\">15125</td><td style = \"text-align: right;\">0.0</td></tr><tr><td class = \"rowNumber\" style = \"font-weight: bold; text-align: right;\">11</td><td style = \"text-align: right;\">30</td><td style = \"text-align: left;\">F</td><td style = \"text-align: right;\">8108</td><td style = \"text-align: right;\">8108</td><td style = \"text-align: right;\">0.0</td></tr><tr><td class = \"rowNumber\" style = \"font-weight: bold; text-align: right;\">12</td><td style = \"text-align: right;\">30</td><td style = \"text-align: left;\">M</td><td style = \"text-align: right;\">8160</td><td style = \"text-align: right;\">8159</td><td style = \"text-align: right;\">0.0112239</td></tr><tr><td class = \"rowNumber\" style = \"font-weight: bold; text-align: right;\">13</td><td style = \"text-align: right;\">35</td><td style = \"text-align: left;\">F</td><td style = \"text-align: right;\">8151</td><td style = \"text-align: right;\">8153</td><td style = \"text-align: right;\">-0.0224598</td></tr><tr><td style = \"text-align: right;\">&vellip;</td><td style = \"text-align: right;\">&vellip;</td><td style = \"text-align: right;\">&vellip;</td><td style = \"text-align: right;\">&vellip;</td><td style = \"text-align: right;\">&vellip;</td><td style = \"text-align: right;\">&vellip;</td></tr><tr><td class = \"rowNumber\" style = \"font-weight: bold; text-align: right;\">21</td><td style = \"text-align: right;\">55</td><td style = \"text-align: left;\">F</td><td style = \"text-align: right;\">8238</td><td style = \"text-align: right;\">8240</td><td style = \"text-align: right;\">-0.0223442</td></tr><tr><td class = \"rowNumber\" style = \"font-weight: bold; text-align: right;\">22</td><td style = \"text-align: right;\">55</td><td style = \"text-align: left;\">M</td><td style = \"text-align: right;\">8190</td><td style = \"text-align: right;\">8186</td><td style = \"text-align: right;\">0.0448155</td></tr><tr><td class = \"rowNumber\" style = \"font-weight: bold; text-align: right;\">23</td><td style = \"text-align: right;\">60</td><td style = \"text-align: left;\">F</td><td style = \"text-align: right;\">8279</td><td style = \"text-align: right;\">8278</td><td style = \"text-align: right;\">0.0111452</td></tr><tr><td class = \"rowNumber\" style = \"font-weight: bold; text-align: right;\">24</td><td style = \"text-align: right;\">60</td><td style = \"text-align: left;\">M</td><td style = \"text-align: right;\">8298</td><td style = \"text-align: right;\">8296</td><td style = \"text-align: right;\">0.0222656</td></tr><tr><td class = \"rowNumber\" style = \"font-weight: bold; text-align: right;\">25</td><td style = \"text-align: right;\">65</td><td style = \"text-align: left;\">F</td><td style = \"text-align: right;\">8116</td><td style = \"text-align: right;\">8117</td><td style = \"text-align: right;\">-0.0112534</td></tr><tr><td class = \"rowNumber\" style = \"font-weight: bold; text-align: right;\">26</td><td style = \"text-align: right;\">65</td><td style = \"text-align: left;\">M</td><td style = \"text-align: right;\">8246</td><td style = \"text-align: right;\">8246</td><td style = \"text-align: right;\">0.0</td></tr><tr><td class = \"rowNumber\" style = \"font-weight: bold; text-align: right;\">27</td><td style = \"text-align: right;\">70</td><td style = \"text-align: left;\">F</td><td style = \"text-align: right;\">8240</td><td style = \"text-align: right;\">8241</td><td style = \"text-align: right;\">-0.0111708</td></tr><tr><td class = \"rowNumber\" style = \"font-weight: bold; text-align: right;\">28</td><td style = \"text-align: right;\">70</td><td style = \"text-align: left;\">M</td><td style = \"text-align: right;\">8050</td><td style = \"text-align: right;\">8050</td><td style = \"text-align: right;\">0.0</td></tr><tr><td class = \"rowNumber\" style = \"font-weight: bold; text-align: right;\">29</td><td style = \"text-align: right;\">75</td><td style = \"text-align: left;\">F</td><td style = \"text-align: right;\">8165</td><td style = \"text-align: right;\">8167</td><td style = \"text-align: right;\">-0.0224411</td></tr><tr><td class = \"rowNumber\" style = \"font-weight: bold; text-align: right;\">30</td><td style = \"text-align: right;\">75</td><td style = \"text-align: left;\">M</td><td style = \"text-align: right;\">8148</td><td style = \"text-align: right;\">8148</td><td style = \"text-align: right;\">0.0</td></tr><tr><td class = \"rowNumber\" style = \"font-weight: bold; text-align: right;\">31</td><td style = \"text-align: right;\">80</td><td style = \"text-align: left;\">F</td><td style = \"text-align: right;\">8180</td><td style = \"text-align: right;\">8179</td><td style = \"text-align: right;\">0.0112105</td></tr><tr><td class = \"rowNumber\" style = \"font-weight: bold; text-align: right;\">32</td><td style = \"text-align: right;\">80</td><td style = \"text-align: left;\">M</td><td style = \"text-align: right;\">8137</td><td style = \"text-align: right;\">8138</td><td style = \"text-align: right;\">-0.0112393</td></tr></tbody></table></div>"
      ],
      "text/latex": [
       "\\begin{tabular}{r|ccccc}\n",
       "\t& AGE & SEX & population & estimated\\_population & Z\\_score\\\\\n",
       "\t\\hline\n",
       "\t& Int64 & Char & Int64 & Int64? & Float64\\\\\n",
       "\t\\hline\n",
       "\t1 & 5 & F & 10086 & 10088 & -0.020258 \\\\\n",
       "\t2 & 5 & M & 10066 & 10067 & -0.0101387 \\\\\n",
       "\t3 & 10 & F & 9996 & 9997 & -0.0101729 \\\\\n",
       "\t4 & 10 & M & 9789 & 9790 & -0.0102762 \\\\\n",
       "\t5 & 15 & F & 9926 & 9928 & -0.020415 \\\\\n",
       "\t6 & 15 & M & 10137 & 10137 & 0.0 \\\\\n",
       "\t7 & 20 & F & 15085 & 15084 & 0.00835469 \\\\\n",
       "\t8 & 20 & M & 14875 & 14874 & 0.00841036 \\\\\n",
       "\t9 & 25 & F & 14915 & 14914 & 0.00839966 \\\\\n",
       "\t10 & 25 & M & 15125 & 15125 & 0.0 \\\\\n",
       "\t11 & 30 & F & 8108 & 8108 & 0.0 \\\\\n",
       "\t12 & 30 & M & 8160 & 8159 & 0.0112239 \\\\\n",
       "\t13 & 35 & F & 8151 & 8153 & -0.0224598 \\\\\n",
       "\t14 & 35 & M & 8110 & 8111 & -0.0112575 \\\\\n",
       "\t15 & 40 & F & 8227 & 8228 & -0.0111794 \\\\\n",
       "\t16 & 40 & M & 8304 & 8303 & 0.0111289 \\\\\n",
       "\t17 & 45 & F & 8208 & 8210 & -0.0223839 \\\\\n",
       "\t18 & 45 & M & 8150 & 8150 & 0.0 \\\\\n",
       "\t19 & 50 & F & 8088 & 8088 & 0.0 \\\\\n",
       "\t20 & 50 & M & 8207 & 8206 & 0.0111926 \\\\\n",
       "\t21 & 55 & F & 8238 & 8240 & -0.0223442 \\\\\n",
       "\t22 & 55 & M & 8190 & 8186 & 0.0448155 \\\\\n",
       "\t23 & 60 & F & 8279 & 8278 & 0.0111452 \\\\\n",
       "\t24 & 60 & M & 8298 & 8296 & 0.0222656 \\\\\n",
       "\t$\\dots$ & $\\dots$ & $\\dots$ & $\\dots$ & $\\dots$ & $\\dots$ \\\\\n",
       "\\end{tabular}\n"
      ],
      "text/plain": [
       "\u001b[1m32×5 DataFrame\u001b[0m\n",
       "\u001b[1m Row \u001b[0m│\u001b[1m AGE   \u001b[0m\u001b[1m SEX  \u001b[0m\u001b[1m population \u001b[0m\u001b[1m estimated_population \u001b[0m\u001b[1m Z_score     \u001b[0m\n",
       "     │\u001b[90m Int64 \u001b[0m\u001b[90m Char \u001b[0m\u001b[90m Int64      \u001b[0m\u001b[90m Int64?               \u001b[0m\u001b[90m Float64     \u001b[0m\n",
       "─────┼────────────────────────────────────────────────────────────\n",
       "   1 │     5  F          10086                 10088  -0.020258\n",
       "   2 │     5  M          10066                 10067  -0.0101387\n",
       "   3 │    10  F           9996                  9997  -0.0101729\n",
       "   4 │    10  M           9789                  9790  -0.0102762\n",
       "   5 │    15  F           9926                  9928  -0.020415\n",
       "   6 │    15  M          10137                 10137   0.0\n",
       "   7 │    20  F          15085                 15084   0.00835469\n",
       "   8 │    20  M          14875                 14874   0.00841036\n",
       "  ⋮  │   ⋮     ⋮        ⋮                ⋮                 ⋮\n",
       "  26 │    65  M           8246                  8246   0.0\n",
       "  27 │    70  F           8240                  8241  -0.0111708\n",
       "  28 │    70  M           8050                  8050   0.0\n",
       "  29 │    75  F           8165                  8167  -0.0224411\n",
       "  30 │    75  M           8148                  8148   0.0\n",
       "  31 │    80  F           8180                  8179   0.0112105\n",
       "  32 │    80  M           8137                  8138  -0.0112393\n",
       "\u001b[36m                                                   17 rows omitted\u001b[0m"
      ]
     },
     "metadata": {},
     "output_type": "display_data"
    }
   ],
   "source": [
    "validate_table(modified_age_sex, dependent_age_sex)"
   ]
  },
  {
   "cell_type": "code",
   "execution_count": 41,
   "metadata": {},
   "outputs": [
    {
     "name": "stdout",
     "output_type": "stream",
     "text": [
      "=================\n",
      "=Cell statistics=\n",
      "=================\n",
      "Percentage of well fitting values at 0.95 confidence interval: 1.0\n",
      "Percentage of well fitting values at 0.90 confidence interval: 1.0\n",
      "\n",
      "==================\n",
      "=Table statistics=\n",
      "==================\n",
      "Statistic value equals: 0.0018694172078463035\n",
      "Table is well fitting at 0.9 and 0.95 confidence interval.\n",
      "\n"
     ]
    },
    {
     "data": {
      "text/html": [
       "<div><div style = \"float: left;\"><span>8×5 DataFrame</span></div><div style = \"clear: both;\"></div></div><div class = \"data-frame\" style = \"overflow-x: scroll;\"><table class = \"data-frame\" style = \"margin-bottom: 6px;\"><thead><tr class = \"header\"><th class = \"rowNumber\" style = \"font-weight: bold; text-align: right;\">Row</th><th style = \"text-align: left;\">MARITAL_STATUS</th><th style = \"text-align: left;\">SEX</th><th style = \"text-align: left;\">population</th><th style = \"text-align: left;\">estimated_population</th><th style = \"text-align: left;\">Z_score</th></tr><tr class = \"subheader headerLastRow\"><th class = \"rowNumber\" style = \"font-weight: bold; text-align: right;\"></th><th title = \"Union{Missing, String}\" style = \"text-align: left;\">String?</th><th title = \"Char\" style = \"text-align: left;\">Char</th><th title = \"Int64\" style = \"text-align: left;\">Int64</th><th title = \"Union{Missing, Int64}\" style = \"text-align: left;\">Int64?</th><th title = \"Float64\" style = \"text-align: left;\">Float64</th></tr></thead><tbody><tr><td class = \"rowNumber\" style = \"font-weight: bold; text-align: right;\">1</td><td style = \"text-align: left;\">Divorced</td><td style = \"text-align: left;\">F</td><td style = \"text-align: right;\">24163</td><td style = \"text-align: right;\">24166</td><td style = \"text-align: right;\">-0.0203511</td></tr><tr><td class = \"rowNumber\" style = \"font-weight: bold; text-align: right;\">2</td><td style = \"text-align: left;\">Divorced</td><td style = \"text-align: left;\">M</td><td style = \"text-align: right;\">36393</td><td style = \"text-align: right;\">36391</td><td style = \"text-align: right;\">0.0113823</td></tr><tr><td class = \"rowNumber\" style = \"font-weight: bold; text-align: right;\">3</td><td style = \"text-align: left;\">Married</td><td style = \"text-align: left;\">F</td><td style = \"text-align: right;\">36069</td><td style = \"text-align: right;\">36071</td><td style = \"text-align: right;\">-0.0114242</td></tr><tr><td class = \"rowNumber\" style = \"font-weight: bold; text-align: right;\">4</td><td style = \"text-align: left;\">Married</td><td style = \"text-align: left;\">M</td><td style = \"text-align: right;\">24197</td><td style = \"text-align: right;\">24193</td><td style = \"text-align: right;\">0.0271179</td></tr><tr><td class = \"rowNumber\" style = \"font-weight: bold; text-align: right;\">5</td><td style = \"text-align: left;\">Not_married</td><td style = \"text-align: left;\">F</td><td style = \"text-align: right;\">47753</td><td style = \"text-align: right;\">47755</td><td style = \"text-align: right;\">-0.010226</td></tr><tr><td class = \"rowNumber\" style = \"font-weight: bold; text-align: right;\">6</td><td style = \"text-align: left;\">Not_married</td><td style = \"text-align: left;\">M</td><td style = \"text-align: right;\">11845</td><td style = \"text-align: right;\">11843</td><td style = \"text-align: right;\">0.0188475</td></tr><tr><td class = \"rowNumber\" style = \"font-weight: bold; text-align: right;\">7</td><td style = \"text-align: left;\">Widowed</td><td style = \"text-align: left;\">F</td><td style = \"text-align: right;\">12015</td><td style = \"text-align: right;\">12015</td><td style = \"text-align: right;\">0.0</td></tr><tr><td class = \"rowNumber\" style = \"font-weight: bold; text-align: right;\">8</td><td style = \"text-align: left;\">Widowed</td><td style = \"text-align: left;\">M</td><td style = \"text-align: right;\">47565</td><td style = \"text-align: right;\">47565</td><td style = \"text-align: right;\">0.0</td></tr></tbody></table></div>"
      ],
      "text/latex": [
       "\\begin{tabular}{r|ccccc}\n",
       "\t& MARITAL\\_STATUS & SEX & population & estimated\\_population & Z\\_score\\\\\n",
       "\t\\hline\n",
       "\t& String? & Char & Int64 & Int64? & Float64\\\\\n",
       "\t\\hline\n",
       "\t1 & Divorced & F & 24163 & 24166 & -0.0203511 \\\\\n",
       "\t2 & Divorced & M & 36393 & 36391 & 0.0113823 \\\\\n",
       "\t3 & Married & F & 36069 & 36071 & -0.0114242 \\\\\n",
       "\t4 & Married & M & 24197 & 24193 & 0.0271179 \\\\\n",
       "\t5 & Not\\_married & F & 47753 & 47755 & -0.010226 \\\\\n",
       "\t6 & Not\\_married & M & 11845 & 11843 & 0.0188475 \\\\\n",
       "\t7 & Widowed & F & 12015 & 12015 & 0.0 \\\\\n",
       "\t8 & Widowed & M & 47565 & 47565 & 0.0 \\\\\n",
       "\\end{tabular}\n"
      ],
      "text/plain": [
       "\u001b[1m8×5 DataFrame\u001b[0m\n",
       "\u001b[1m Row \u001b[0m│\u001b[1m MARITAL_STATUS \u001b[0m\u001b[1m SEX  \u001b[0m\u001b[1m population \u001b[0m\u001b[1m estimated_population \u001b[0m\u001b[1m Z_score    \u001b[0m\n",
       "     │\u001b[90m String?        \u001b[0m\u001b[90m Char \u001b[0m\u001b[90m Int64      \u001b[0m\u001b[90m Int64?               \u001b[0m\u001b[90m Float64    \u001b[0m\n",
       "─────┼────────────────────────────────────────────────────────────────────\n",
       "   1 │ Divorced        F          24163                 24166  -0.0203511\n",
       "   2 │ Divorced        M          36393                 36391   0.0113823\n",
       "   3 │ Married         F          36069                 36071  -0.0114242\n",
       "   4 │ Married         M          24197                 24193   0.0271179\n",
       "   5 │ Not_married     F          47753                 47755  -0.010226\n",
       "   6 │ Not_married     M          11845                 11843   0.0188475\n",
       "   7 │ Widowed         F          12015                 12015   0.0\n",
       "   8 │ Widowed         M          47565                 47565   0.0"
      ]
     },
     "metadata": {},
     "output_type": "display_data"
    }
   ],
   "source": [
    "validate_table(modified_sex_marital, dependent_sex_marital)"
   ]
  },
  {
   "cell_type": "code",
   "execution_count": 42,
   "metadata": {},
   "outputs": [
    {
     "name": "stdout",
     "output_type": "stream",
     "text": [
      "=================\n",
      "=Cell statistics=\n",
      "=================\n",
      "Percentage of well fitting values at 0.95 confidence interval: 1.0\n",
      "Percentage of well fitting values at 0.90 confidence interval: 1.0\n",
      "\n",
      "==================\n",
      "=Table statistics=\n",
      "==================\n",
      "Statistic value equals: 0.00028824047519773564\n",
      "Table is well fitting at 0.9 and 0.95 confidence interval.\n",
      "\n"
     ]
    },
    {
     "data": {
      "text/html": [
       "<div><div style = \"float: left;\"><span>5×4 DataFrame</span></div><div style = \"clear: both;\"></div></div><div class = \"data-frame\" style = \"overflow-x: scroll;\"><table class = \"data-frame\" style = \"margin-bottom: 6px;\"><thead><tr class = \"header\"><th class = \"rowNumber\" style = \"font-weight: bold; text-align: right;\">Row</th><th style = \"text-align: left;\">INCOME</th><th style = \"text-align: left;\">population</th><th style = \"text-align: left;\">estimated_population</th><th style = \"text-align: left;\">Z_score</th></tr><tr class = \"subheader headerLastRow\"><th class = \"rowNumber\" style = \"font-weight: bold; text-align: right;\"></th><th title = \"Union{Missing, Int64}\" style = \"text-align: left;\">Int64?</th><th title = \"Int64\" style = \"text-align: left;\">Int64</th><th title = \"Union{Missing, Int64}\" style = \"text-align: left;\">Int64?</th><th title = \"Float64\" style = \"text-align: left;\">Float64</th></tr></thead><tbody><tr><td class = \"rowNumber\" style = \"font-weight: bold; text-align: right;\">1</td><td style = \"text-align: right;\">40000</td><td style = \"text-align: right;\">38003</td><td style = \"text-align: right;\">38005</td><td style = \"text-align: right;\">-0.0111829</td></tr><tr><td class = \"rowNumber\" style = \"font-weight: bold; text-align: right;\">2</td><td style = \"text-align: right;\">50000</td><td style = \"text-align: right;\">85892</td><td style = \"text-align: right;\">85889</td><td style = \"text-align: right;\">0.0127743</td></tr><tr><td class = \"rowNumber\" style = \"font-weight: bold; text-align: right;\">3</td><td style = \"text-align: right;\">60000</td><td style = \"text-align: right;\">40390</td><td style = \"text-align: right;\">40390</td><td style = \"text-align: right;\">0.0</td></tr><tr><td class = \"rowNumber\" style = \"font-weight: bold; text-align: right;\">4</td><td style = \"text-align: right;\">70000</td><td style = \"text-align: right;\">38496</td><td style = \"text-align: right;\">38496</td><td style = \"text-align: right;\">0.0</td></tr><tr><td class = \"rowNumber\" style = \"font-weight: bold; text-align: right;\">5</td><td style = \"text-align: right;\">80000</td><td style = \"text-align: right;\">37219</td><td style = \"text-align: right;\">37219</td><td style = \"text-align: right;\">0.0</td></tr></tbody></table></div>"
      ],
      "text/latex": [
       "\\begin{tabular}{r|cccc}\n",
       "\t& INCOME & population & estimated\\_population & Z\\_score\\\\\n",
       "\t\\hline\n",
       "\t& Int64? & Int64 & Int64? & Float64\\\\\n",
       "\t\\hline\n",
       "\t1 & 40000 & 38003 & 38005 & -0.0111829 \\\\\n",
       "\t2 & 50000 & 85892 & 85889 & 0.0127743 \\\\\n",
       "\t3 & 60000 & 40390 & 40390 & 0.0 \\\\\n",
       "\t4 & 70000 & 38496 & 38496 & 0.0 \\\\\n",
       "\t5 & 80000 & 37219 & 37219 & 0.0 \\\\\n",
       "\\end{tabular}\n"
      ],
      "text/plain": [
       "\u001b[1m5×4 DataFrame\u001b[0m\n",
       "\u001b[1m Row \u001b[0m│\u001b[1m INCOME \u001b[0m\u001b[1m population \u001b[0m\u001b[1m estimated_population \u001b[0m\u001b[1m Z_score    \u001b[0m\n",
       "     │\u001b[90m Int64? \u001b[0m\u001b[90m Int64      \u001b[0m\u001b[90m Int64?               \u001b[0m\u001b[90m Float64    \u001b[0m\n",
       "─────┼──────────────────────────────────────────────────────\n",
       "   1 │  40000       38003                 38005  -0.0111829\n",
       "   2 │  50000       85892                 85889   0.0127743\n",
       "   3 │  60000       40390                 40390   0.0\n",
       "   4 │  70000       38496                 38496   0.0\n",
       "   5 │  80000       37219                 37219   0.0"
      ]
     },
     "metadata": {},
     "output_type": "display_data"
    }
   ],
   "source": [
    "validate_table(modified_income, dependent_income)"
   ]
  }
 ],
 "metadata": {
  "kernelspec": {
   "display_name": "Julia 1.8.5",
   "language": "julia",
   "name": "julia-1.8"
  },
  "language_info": {
   "file_extension": ".jl",
   "mimetype": "application/julia",
   "name": "julia",
   "version": "1.8.5"
  }
 },
 "nbformat": 4,
 "nbformat_minor": 2
}
