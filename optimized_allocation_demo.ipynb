{
 "cells": [
  {
   "cell_type": "markdown",
   "metadata": {},
   "source": [
    "### Manualy create the input dataframes based on Chinese census data"
   ]
  },
  {
   "cell_type": "code",
   "execution_count": 1,
   "metadata": {},
   "outputs": [],
   "source": [
    "using DataFrames\n",
    "using SyntheticPopulation"
   ]
  },
  {
   "cell_type": "code",
   "execution_count": 2,
   "metadata": {},
   "outputs": [],
   "source": [
    "\n",
    "#each individual and each household represent 100.000 individuals or households\n",
    "SCALE = 0.00001 \n",
    "\n",
    "#all values are based on China census data\n",
    "individual_popoulation_size = 21890000\n",
    "\n",
    "#individuals\n",
    "marginal_ind_age_sex = DataFrame(\n",
    "    sex = repeat(['M', 'F'], 18),\n",
    "    age = repeat(2:5:87, inner = 2), \n",
    "    population = SCALE .* 10000 .* [52.6, 49.0, 48.5, 44.8, 33.6, 30.6, 34.6, 28.8, 71.6, 63.4, 99.6, 90.9, 130.9, 119.4, 110.8, 103.5, 83.8, 76.4, 84.2, 77.7, 84.2, 77.8, 82.8, 79.9, 67.7, 71.0, 56.9, 62.6, 31.5, 35.3, 18.5, 23.0, 15.2, 19.7, 12.5, 16.0]\n",
    "    )\n",
    "\n",
    "marginal_ind_sex_maritalstatus = DataFrame(\n",
    "    sex = repeat(['M', 'F'], 4), \n",
    "    maritalstatus = repeat([\"Never_married\", \"Married\", \"Divorced\", \"Widowed\"], inner = 2), \n",
    "    population = SCALE .* [1679, 1611, 5859, 5774, 140, 206, 128, 426] ./ 0.00082\n",
    "    )\n",
    "\n",
    "marginal_ind_income = DataFrame(\n",
    "    income = [25394, 44855, 63969, 88026, 145915], \n",
    "    population = repeat([individual_popoulation_size * SCALE / 5], 5)\n",
    "    )\n",
    "\n",
    "#households\n",
    "household_total_population = 8230000\n",
    "marginal_hh_size = DataFrame(\n",
    "    hh_size = [1,2,3,4,5],\n",
    "    population = Int.(round.(SCALE * household_total_population .* [0.299, 0.331, 0.217, 0.09, 0.063]))\n",
    "    )\n",
    "nothing #to avoid printing output"
   ]
  },
  {
   "cell_type": "markdown",
   "metadata": {},
   "source": [
    "### Create dataframe of individals\n",
    "Some individual types have the population 0 because we are using the scale of 0.00001"
   ]
  },
  {
   "cell_type": "code",
   "execution_count": 3,
   "metadata": {},
   "outputs": [
    {
     "name": "stderr",
     "output_type": "stream",
     "text": [
      "┌ Info: Inconsistent target margins, converting `X` and `mar` to proportions. Margin totals: [193.0, 220.0]\n",
      "└ @ ProportionalFitting C:\\Users\\plzurekma\\.julia\\packages\\ProportionalFitting\\gNJEu\\src\\ipf.jl:61\n",
      "┌ Info: Converged in 1 iterations.\n",
      "└ @ ProportionalFitting C:\\Users\\plzurekma\\.julia\\packages\\ProportionalFitting\\gNJEu\\src\\ipf.jl:130\n",
      "┌ Info: Inconsistent target margins, converting `X` and `mar` to proportions. Margin totals: [105.0, 92.0]\n",
      "└ @ ProportionalFitting C:\\Users\\plzurekma\\.julia\\packages\\ProportionalFitting\\gNJEu\\src\\ipf.jl:61\n",
      "┌ Info: Converged in 1 iterations.\n",
      "└ @ ProportionalFitting C:\\Users\\plzurekma\\.julia\\packages\\ProportionalFitting\\gNJEu\\src\\ipf.jl:130\n",
      "┌ Info: Inconsistent target margins, converting `X` and `mar` to proportions. Margin totals: [115.0, 94.0]\n",
      "└ @ ProportionalFitting C:\\Users\\plzurekma\\.julia\\packages\\ProportionalFitting\\gNJEu\\src\\ipf.jl:61\n",
      "┌ Info: Converged in 1 iterations.\n",
      "└ @ ProportionalFitting C:\\Users\\plzurekma\\.julia\\packages\\ProportionalFitting\\gNJEu\\src\\ipf.jl:130\n",
      "┌ Info: Inconsistent target margins, converting `X` and `mar` to proportions. Margin totals: [105.0, 15.0]\n",
      "└ @ ProportionalFitting C:\\Users\\plzurekma\\.julia\\packages\\ProportionalFitting\\gNJEu\\src\\ipf.jl:61\n",
      "┌ Info: Converged in 1 iterations.\n",
      "└ @ ProportionalFitting C:\\Users\\plzurekma\\.julia\\packages\\ProportionalFitting\\gNJEu\\src\\ipf.jl:130\n",
      "┌ Info: Inconsistent target margins, converting `X` and `mar` to proportions. Margin totals: [115.0, 16.0]\n",
      "└ @ ProportionalFitting C:\\Users\\plzurekma\\.julia\\packages\\ProportionalFitting\\gNJEu\\src\\ipf.jl:61\n",
      "┌ Info: Converged in 1 iterations.\n",
      "└ @ ProportionalFitting C:\\Users\\plzurekma\\.julia\\packages\\ProportionalFitting\\gNJEu\\src\\ipf.jl:130\n"
     ]
    },
    {
     "data": {
      "text/html": [
       "<div><div style = \"float: left;\"><span>600×6 DataFrame</span></div><div style = \"float: right;\"><span style = \"font-style: italic;\">575 rows omitted</span></div><div style = \"clear: both;\"></div></div><div class = \"data-frame\" style = \"overflow-x: scroll;\"><table class = \"data-frame\" style = \"margin-bottom: 6px;\"><thead><tr class = \"header\"><th class = \"rowNumber\" style = \"font-weight: bold; text-align: right;\">Row</th><th style = \"text-align: left;\">id</th><th style = \"text-align: left;\">maritalstatus</th><th style = \"text-align: left;\">income</th><th style = \"text-align: left;\">sex</th><th style = \"text-align: left;\">age</th><th style = \"text-align: left;\">population</th></tr><tr class = \"subheader headerLastRow\"><th class = \"rowNumber\" style = \"font-weight: bold; text-align: right;\"></th><th title = \"Int64\" style = \"text-align: left;\">Int64</th><th title = \"Union{Missing, String}\" style = \"text-align: left;\">String?</th><th title = \"Union{Missing, Int64}\" style = \"text-align: left;\">Int64?</th><th title = \"Union{Missing, Char}\" style = \"text-align: left;\">Char?</th><th title = \"Union{Missing, Int64}\" style = \"text-align: left;\">Int64?</th><th title = \"Int64\" style = \"text-align: left;\">Int64</th></tr></thead><tbody><tr><td class = \"rowNumber\" style = \"font-weight: bold; text-align: right;\">1</td><td style = \"text-align: right;\">1</td><td style = \"text-align: left;\">Divorced</td><td style = \"text-align: right;\">25394</td><td style = \"text-align: left;\">F</td><td style = \"text-align: right;\">22</td><td style = \"text-align: right;\">0</td></tr><tr><td class = \"rowNumber\" style = \"font-weight: bold; text-align: right;\">2</td><td style = \"text-align: right;\">2</td><td style = \"text-align: left;\">Married</td><td style = \"text-align: right;\">25394</td><td style = \"text-align: left;\">F</td><td style = \"text-align: right;\">22</td><td style = \"text-align: right;\">1</td></tr><tr><td class = \"rowNumber\" style = \"font-weight: bold; text-align: right;\">3</td><td style = \"text-align: right;\">3</td><td style = \"text-align: left;\">Never_married</td><td style = \"text-align: right;\">25394</td><td style = \"text-align: left;\">F</td><td style = \"text-align: right;\">22</td><td style = \"text-align: right;\">0</td></tr><tr><td class = \"rowNumber\" style = \"font-weight: bold; text-align: right;\">4</td><td style = \"text-align: right;\">4</td><td style = \"text-align: left;\">Widowed</td><td style = \"text-align: right;\">25394</td><td style = \"text-align: left;\">F</td><td style = \"text-align: right;\">22</td><td style = \"text-align: right;\">0</td></tr><tr><td class = \"rowNumber\" style = \"font-weight: bold; text-align: right;\">5</td><td style = \"text-align: right;\">5</td><td style = \"text-align: left;\">Divorced</td><td style = \"text-align: right;\">44855</td><td style = \"text-align: left;\">F</td><td style = \"text-align: right;\">22</td><td style = \"text-align: right;\">0</td></tr><tr><td class = \"rowNumber\" style = \"font-weight: bold; text-align: right;\">6</td><td style = \"text-align: right;\">6</td><td style = \"text-align: left;\">Married</td><td style = \"text-align: right;\">44855</td><td style = \"text-align: left;\">F</td><td style = \"text-align: right;\">22</td><td style = \"text-align: right;\">1</td></tr><tr><td class = \"rowNumber\" style = \"font-weight: bold; text-align: right;\">7</td><td style = \"text-align: right;\">7</td><td style = \"text-align: left;\">Never_married</td><td style = \"text-align: right;\">44855</td><td style = \"text-align: left;\">F</td><td style = \"text-align: right;\">22</td><td style = \"text-align: right;\">0</td></tr><tr><td class = \"rowNumber\" style = \"font-weight: bold; text-align: right;\">8</td><td style = \"text-align: right;\">8</td><td style = \"text-align: left;\">Widowed</td><td style = \"text-align: right;\">44855</td><td style = \"text-align: left;\">F</td><td style = \"text-align: right;\">22</td><td style = \"text-align: right;\">0</td></tr><tr><td class = \"rowNumber\" style = \"font-weight: bold; text-align: right;\">9</td><td style = \"text-align: right;\">9</td><td style = \"text-align: left;\">Divorced</td><td style = \"text-align: right;\">63969</td><td style = \"text-align: left;\">F</td><td style = \"text-align: right;\">22</td><td style = \"text-align: right;\">0</td></tr><tr><td class = \"rowNumber\" style = \"font-weight: bold; text-align: right;\">10</td><td style = \"text-align: right;\">10</td><td style = \"text-align: left;\">Married</td><td style = \"text-align: right;\">63969</td><td style = \"text-align: left;\">F</td><td style = \"text-align: right;\">22</td><td style = \"text-align: right;\">1</td></tr><tr><td class = \"rowNumber\" style = \"font-weight: bold; text-align: right;\">11</td><td style = \"text-align: right;\">11</td><td style = \"text-align: left;\">Never_married</td><td style = \"text-align: right;\">63969</td><td style = \"text-align: left;\">F</td><td style = \"text-align: right;\">22</td><td style = \"text-align: right;\">0</td></tr><tr><td class = \"rowNumber\" style = \"font-weight: bold; text-align: right;\">12</td><td style = \"text-align: right;\">12</td><td style = \"text-align: left;\">Widowed</td><td style = \"text-align: right;\">63969</td><td style = \"text-align: left;\">F</td><td style = \"text-align: right;\">22</td><td style = \"text-align: right;\">0</td></tr><tr><td class = \"rowNumber\" style = \"font-weight: bold; text-align: right;\">13</td><td style = \"text-align: right;\">13</td><td style = \"text-align: left;\">Divorced</td><td style = \"text-align: right;\">88026</td><td style = \"text-align: left;\">F</td><td style = \"text-align: right;\">22</td><td style = \"text-align: right;\">0</td></tr><tr><td style = \"text-align: right;\">&vellip;</td><td style = \"text-align: right;\">&vellip;</td><td style = \"text-align: right;\">&vellip;</td><td style = \"text-align: right;\">&vellip;</td><td style = \"text-align: right;\">&vellip;</td><td style = \"text-align: right;\">&vellip;</td><td style = \"text-align: right;\">&vellip;</td></tr><tr><td class = \"rowNumber\" style = \"font-weight: bold; text-align: right;\">589</td><td style = \"text-align: right;\">589</td><td style = \"text-align: left;\">missing</td><td style = \"text-align: right;\">88026</td><td style = \"text-align: left;\">M</td><td style = \"text-align: right;\">7</td><td style = \"text-align: right;\">1</td></tr><tr><td class = \"rowNumber\" style = \"font-weight: bold; text-align: right;\">590</td><td style = \"text-align: right;\">590</td><td style = \"text-align: left;\">missing</td><td style = \"text-align: right;\">145915</td><td style = \"text-align: left;\">M</td><td style = \"text-align: right;\">7</td><td style = \"text-align: right;\">1</td></tr><tr><td class = \"rowNumber\" style = \"font-weight: bold; text-align: right;\">591</td><td style = \"text-align: right;\">591</td><td style = \"text-align: left;\">missing</td><td style = \"text-align: right;\">25394</td><td style = \"text-align: left;\">M</td><td style = \"text-align: right;\">12</td><td style = \"text-align: right;\">0</td></tr><tr><td class = \"rowNumber\" style = \"font-weight: bold; text-align: right;\">592</td><td style = \"text-align: right;\">592</td><td style = \"text-align: left;\">missing</td><td style = \"text-align: right;\">44855</td><td style = \"text-align: left;\">M</td><td style = \"text-align: right;\">12</td><td style = \"text-align: right;\">0</td></tr><tr><td class = \"rowNumber\" style = \"font-weight: bold; text-align: right;\">593</td><td style = \"text-align: right;\">593</td><td style = \"text-align: left;\">missing</td><td style = \"text-align: right;\">63969</td><td style = \"text-align: left;\">M</td><td style = \"text-align: right;\">12</td><td style = \"text-align: right;\">0</td></tr><tr><td class = \"rowNumber\" style = \"font-weight: bold; text-align: right;\">594</td><td style = \"text-align: right;\">594</td><td style = \"text-align: left;\">missing</td><td style = \"text-align: right;\">88026</td><td style = \"text-align: left;\">M</td><td style = \"text-align: right;\">12</td><td style = \"text-align: right;\">0</td></tr><tr><td class = \"rowNumber\" style = \"font-weight: bold; text-align: right;\">595</td><td style = \"text-align: right;\">595</td><td style = \"text-align: left;\">missing</td><td style = \"text-align: right;\">145915</td><td style = \"text-align: left;\">M</td><td style = \"text-align: right;\">12</td><td style = \"text-align: right;\">0</td></tr><tr><td class = \"rowNumber\" style = \"font-weight: bold; text-align: right;\">596</td><td style = \"text-align: right;\">596</td><td style = \"text-align: left;\">missing</td><td style = \"text-align: right;\">25394</td><td style = \"text-align: left;\">M</td><td style = \"text-align: right;\">17</td><td style = \"text-align: right;\">0</td></tr><tr><td class = \"rowNumber\" style = \"font-weight: bold; text-align: right;\">597</td><td style = \"text-align: right;\">597</td><td style = \"text-align: left;\">missing</td><td style = \"text-align: right;\">44855</td><td style = \"text-align: left;\">M</td><td style = \"text-align: right;\">17</td><td style = \"text-align: right;\">0</td></tr><tr><td class = \"rowNumber\" style = \"font-weight: bold; text-align: right;\">598</td><td style = \"text-align: right;\">598</td><td style = \"text-align: left;\">missing</td><td style = \"text-align: right;\">63969</td><td style = \"text-align: left;\">M</td><td style = \"text-align: right;\">17</td><td style = \"text-align: right;\">0</td></tr><tr><td class = \"rowNumber\" style = \"font-weight: bold; text-align: right;\">599</td><td style = \"text-align: right;\">599</td><td style = \"text-align: left;\">missing</td><td style = \"text-align: right;\">88026</td><td style = \"text-align: left;\">M</td><td style = \"text-align: right;\">17</td><td style = \"text-align: right;\">0</td></tr><tr><td class = \"rowNumber\" style = \"font-weight: bold; text-align: right;\">600</td><td style = \"text-align: right;\">600</td><td style = \"text-align: left;\">missing</td><td style = \"text-align: right;\">145915</td><td style = \"text-align: left;\">M</td><td style = \"text-align: right;\">17</td><td style = \"text-align: right;\">0</td></tr></tbody></table></div>"
      ],
      "text/latex": [
       "\\begin{tabular}{r|cccccc}\n",
       "\t& id & maritalstatus & income & sex & age & population\\\\\n",
       "\t\\hline\n",
       "\t& Int64 & String? & Int64? & Char? & Int64? & Int64\\\\\n",
       "\t\\hline\n",
       "\t1 & 1 & Divorced & 25394 & F & 22 & 0 \\\\\n",
       "\t2 & 2 & Married & 25394 & F & 22 & 1 \\\\\n",
       "\t3 & 3 & Never\\_married & 25394 & F & 22 & 0 \\\\\n",
       "\t4 & 4 & Widowed & 25394 & F & 22 & 0 \\\\\n",
       "\t5 & 5 & Divorced & 44855 & F & 22 & 0 \\\\\n",
       "\t6 & 6 & Married & 44855 & F & 22 & 1 \\\\\n",
       "\t7 & 7 & Never\\_married & 44855 & F & 22 & 0 \\\\\n",
       "\t8 & 8 & Widowed & 44855 & F & 22 & 0 \\\\\n",
       "\t9 & 9 & Divorced & 63969 & F & 22 & 0 \\\\\n",
       "\t10 & 10 & Married & 63969 & F & 22 & 1 \\\\\n",
       "\t11 & 11 & Never\\_married & 63969 & F & 22 & 0 \\\\\n",
       "\t12 & 12 & Widowed & 63969 & F & 22 & 0 \\\\\n",
       "\t13 & 13 & Divorced & 88026 & F & 22 & 0 \\\\\n",
       "\t14 & 14 & Married & 88026 & F & 22 & 1 \\\\\n",
       "\t15 & 15 & Never\\_married & 88026 & F & 22 & 0 \\\\\n",
       "\t16 & 16 & Widowed & 88026 & F & 22 & 0 \\\\\n",
       "\t17 & 17 & Divorced & 145915 & F & 22 & 0 \\\\\n",
       "\t18 & 18 & Married & 145915 & F & 22 & 1 \\\\\n",
       "\t19 & 19 & Never\\_married & 145915 & F & 22 & 0 \\\\\n",
       "\t20 & 20 & Widowed & 145915 & F & 22 & 0 \\\\\n",
       "\t21 & 21 & Divorced & 25394 & F & 27 & 0 \\\\\n",
       "\t22 & 22 & Married & 25394 & F & 27 & 1 \\\\\n",
       "\t23 & 23 & Never\\_married & 25394 & F & 27 & 0 \\\\\n",
       "\t24 & 24 & Widowed & 25394 & F & 27 & 0 \\\\\n",
       "\t$\\dots$ & $\\dots$ & $\\dots$ & $\\dots$ & $\\dots$ & $\\dots$ & $\\dots$ \\\\\n",
       "\\end{tabular}\n"
      ],
      "text/plain": [
       "\u001b[1m600×6 DataFrame\u001b[0m\n",
       "\u001b[1m Row \u001b[0m│\u001b[1m id    \u001b[0m\u001b[1m maritalstatus \u001b[0m\u001b[1m income \u001b[0m\u001b[1m sex   \u001b[0m\u001b[1m age    \u001b[0m\u001b[1m population \u001b[0m\n",
       "     │\u001b[90m Int64 \u001b[0m\u001b[90m String?       \u001b[0m\u001b[90m Int64? \u001b[0m\u001b[90m Char? \u001b[0m\u001b[90m Int64? \u001b[0m\u001b[90m Int64      \u001b[0m\n",
       "─────┼─────────────────────────────────────────────────────────\n",
       "   1 │     1  Divorced        25394  F          22           0\n",
       "   2 │     2  Married         25394  F          22           1\n",
       "   3 │     3  Never_married   25394  F          22           0\n",
       "   4 │     4  Widowed         25394  F          22           0\n",
       "   5 │     5  Divorced        44855  F          22           0\n",
       "   6 │     6  Married         44855  F          22           1\n",
       "   7 │     7  Never_married   44855  F          22           0\n",
       "   8 │     8  Widowed         44855  F          22           0\n",
       "  ⋮  │   ⋮          ⋮          ⋮       ⋮      ⋮         ⋮\n",
       " 594 │   594 \u001b[90m missing       \u001b[0m  88026  M          12           0\n",
       " 595 │   595 \u001b[90m missing       \u001b[0m 145915  M          12           0\n",
       " 596 │   596 \u001b[90m missing       \u001b[0m  25394  M          17           0\n",
       " 597 │   597 \u001b[90m missing       \u001b[0m  44855  M          17           0\n",
       " 598 │   598 \u001b[90m missing       \u001b[0m  63969  M          17           0\n",
       " 599 │   599 \u001b[90m missing       \u001b[0m  88026  M          17           0\n",
       " 600 │   600 \u001b[90m missing       \u001b[0m 145915  M          17           0\n",
       "\u001b[36m                                               585 rows omitted\u001b[0m"
      ]
     },
     "metadata": {},
     "output_type": "display_data"
    }
   ],
   "source": [
    "\n",
    "#generation of dataframe of individuals\n",
    "aggregated_individuals = generate_joint_distribution(marginal_ind_sex_maritalstatus, marginal_ind_income, marginal_ind_age_sex, config_file = \"tutorial_notebooks/config_file.json\")"
   ]
  },
  {
   "cell_type": "code",
   "execution_count": 4,
   "metadata": {},
   "outputs": [
    {
     "data": {
      "text/html": [
       "<div><div style = \"float: left;\"><span>6×7 DataFrame</span></div><div style = \"clear: both;\"></div></div><div class = \"data-frame\" style = \"overflow-x: scroll;\"><table class = \"data-frame\" style = \"margin-bottom: 6px;\"><thead><tr class = \"header\"><th class = \"rowNumber\" style = \"font-weight: bold; text-align: right;\">Row</th><th style = \"text-align: left;\">variable</th><th style = \"text-align: left;\">mean</th><th style = \"text-align: left;\">min</th><th style = \"text-align: left;\">median</th><th style = \"text-align: left;\">max</th><th style = \"text-align: left;\">nmissing</th><th style = \"text-align: left;\">eltype</th></tr><tr class = \"subheader headerLastRow\"><th class = \"rowNumber\" style = \"font-weight: bold; text-align: right;\"></th><th title = \"Symbol\" style = \"text-align: left;\">Symbol</th><th title = \"Union{Nothing, Float64}\" style = \"text-align: left;\">Union…</th><th title = \"Any\" style = \"text-align: left;\">Any</th><th title = \"Union{Nothing, Float64}\" style = \"text-align: left;\">Union…</th><th title = \"Any\" style = \"text-align: left;\">Any</th><th title = \"Int64\" style = \"text-align: left;\">Int64</th><th title = \"Type\" style = \"text-align: left;\">Type</th></tr></thead><tbody><tr><td class = \"rowNumber\" style = \"font-weight: bold; text-align: right;\">1</td><td style = \"text-align: left;\">id</td><td style = \"text-align: left;\">284.815</td><td style = \"text-align: left;\">2</td><td style = \"text-align: left;\">310.0</td><td style = \"text-align: left;\">590</td><td style = \"text-align: right;\">0</td><td style = \"text-align: left;\">Int64</td></tr><tr><td class = \"rowNumber\" style = \"font-weight: bold; text-align: right;\">2</td><td style = \"text-align: left;\">maritalstatus</td><td style = \"font-style: italic; text-align: left;\"></td><td style = \"text-align: left;\">Divorced</td><td style = \"font-style: italic; text-align: left;\"></td><td style = \"text-align: left;\">Married</td><td style = \"text-align: right;\">20</td><td style = \"text-align: left;\">Union{Missing, String}</td></tr><tr><td class = \"rowNumber\" style = \"font-weight: bold; text-align: right;\">3</td><td style = \"text-align: left;\">income</td><td style = \"text-align: left;\">73631.8</td><td style = \"text-align: left;\">25394</td><td style = \"text-align: left;\">63969.0</td><td style = \"text-align: left;\">145915</td><td style = \"text-align: right;\">0</td><td style = \"text-align: left;\">Union{Missing, Int64}</td></tr><tr><td class = \"rowNumber\" style = \"font-weight: bold; text-align: right;\">4</td><td style = \"text-align: left;\">sex</td><td style = \"font-style: italic; text-align: left;\"></td><td style = \"text-align: left;\">F</td><td style = \"font-style: italic; text-align: left;\"></td><td style = \"text-align: left;\">M</td><td style = \"text-align: right;\">0</td><td style = \"text-align: left;\">Union{Missing, Char}</td></tr><tr><td class = \"rowNumber\" style = \"font-weight: bold; text-align: right;\">5</td><td style = \"text-align: left;\">age</td><td style = \"text-align: left;\">38.6667</td><td style = \"text-align: left;\">2</td><td style = \"text-align: left;\">37.0</td><td style = \"text-align: left;\">72</td><td style = \"text-align: right;\">0</td><td style = \"text-align: left;\">Union{Missing, Int64}</td></tr><tr><td class = \"rowNumber\" style = \"font-weight: bold; text-align: right;\">6</td><td style = \"text-align: left;\">population</td><td style = \"text-align: left;\">1.14815</td><td style = \"text-align: left;\">1</td><td style = \"text-align: left;\">1.0</td><td style = \"text-align: left;\">2</td><td style = \"text-align: right;\">0</td><td style = \"text-align: left;\">Int64</td></tr></tbody></table></div>"
      ],
      "text/latex": [
       "\\begin{tabular}{r|ccccccc}\n",
       "\t& variable & mean & min & median & max & nmissing & eltype\\\\\n",
       "\t\\hline\n",
       "\t& Symbol & Union… & Any & Union… & Any & Int64 & Type\\\\\n",
       "\t\\hline\n",
       "\t1 & id & 284.815 & 2 & 310.0 & 590 & 0 & Int64 \\\\\n",
       "\t2 & maritalstatus &  & Divorced &  & Married & 20 & Union\\{Missing, String\\} \\\\\n",
       "\t3 & income & 73631.8 & 25394 & 63969.0 & 145915 & 0 & Union\\{Missing, Int64\\} \\\\\n",
       "\t4 & sex &  & F &  & M & 0 & Union\\{Missing, Char\\} \\\\\n",
       "\t5 & age & 38.6667 & 2 & 37.0 & 72 & 0 & Union\\{Missing, Int64\\} \\\\\n",
       "\t6 & population & 1.14815 & 1 & 1.0 & 2 & 0 & Int64 \\\\\n",
       "\\end{tabular}\n"
      ],
      "text/plain": [
       "\u001b[1m6×7 DataFrame\u001b[0m\n",
       "\u001b[1m Row \u001b[0m│\u001b[1m variable      \u001b[0m\u001b[1m mean    \u001b[0m\u001b[1m min      \u001b[0m\u001b[1m median  \u001b[0m\u001b[1m max     \u001b[0m\u001b[1m nmissing \u001b[0m\u001b[1m eltype   \u001b[0m ⋯\n",
       "     │\u001b[90m Symbol        \u001b[0m\u001b[90m Union…  \u001b[0m\u001b[90m Any      \u001b[0m\u001b[90m Union…  \u001b[0m\u001b[90m Any     \u001b[0m\u001b[90m Int64    \u001b[0m\u001b[90m Type     \u001b[0m ⋯\n",
       "─────┼──────────────────────────────────────────────────────────────────────────\n",
       "   1 │ id             284.815  2         310.0    590             0  Int64     ⋯\n",
       "   2 │ maritalstatus \u001b[90m         \u001b[0m Divorced \u001b[90m         \u001b[0m Married        20  Union{Mis\n",
       "   3 │ income         73631.8  25394     63969.0  145915          0  Union{Mis\n",
       "   4 │ sex           \u001b[90m         \u001b[0m F        \u001b[90m         \u001b[0m M               0  Union{Mis\n",
       "   5 │ age            38.6667  2         37.0     72              0  Union{Mis ⋯\n",
       "   6 │ population     1.14815  1         1.0      2               0  Int64\n",
       "\u001b[36m                                                                1 column omitted\u001b[0m"
      ]
     },
     "metadata": {},
     "output_type": "display_data"
    }
   ],
   "source": [
    "# extra information about the individuals\n",
    "describe(aggregated_individuals[aggregated_individuals.:population .> 0,:])"
   ]
  },
  {
   "cell_type": "markdown",
   "metadata": {},
   "source": [
    "### Create dataframe of households"
   ]
  },
  {
   "cell_type": "code",
   "execution_count": 5,
   "metadata": {},
   "outputs": [
    {
     "data": {
      "text/html": [
       "<div><div style = \"float: left;\"><span>5×3 DataFrame</span></div><div style = \"clear: both;\"></div></div><div class = \"data-frame\" style = \"overflow-x: scroll;\"><table class = \"data-frame\" style = \"margin-bottom: 6px;\"><thead><tr class = \"header\"><th class = \"rowNumber\" style = \"font-weight: bold; text-align: right;\">Row</th><th style = \"text-align: left;\">id</th><th style = \"text-align: left;\">hh_size</th><th style = \"text-align: left;\">population</th></tr><tr class = \"subheader headerLastRow\"><th class = \"rowNumber\" style = \"font-weight: bold; text-align: right;\"></th><th title = \"Int64\" style = \"text-align: left;\">Int64</th><th title = \"Int64\" style = \"text-align: left;\">Int64</th><th title = \"Int64\" style = \"text-align: left;\">Int64</th></tr></thead><tbody><tr><td class = \"rowNumber\" style = \"font-weight: bold; text-align: right;\">1</td><td style = \"text-align: right;\">1</td><td style = \"text-align: right;\">1</td><td style = \"text-align: right;\">25</td></tr><tr><td class = \"rowNumber\" style = \"font-weight: bold; text-align: right;\">2</td><td style = \"text-align: right;\">2</td><td style = \"text-align: right;\">2</td><td style = \"text-align: right;\">27</td></tr><tr><td class = \"rowNumber\" style = \"font-weight: bold; text-align: right;\">3</td><td style = \"text-align: right;\">3</td><td style = \"text-align: right;\">3</td><td style = \"text-align: right;\">18</td></tr><tr><td class = \"rowNumber\" style = \"font-weight: bold; text-align: right;\">4</td><td style = \"text-align: right;\">4</td><td style = \"text-align: right;\">4</td><td style = \"text-align: right;\">7</td></tr><tr><td class = \"rowNumber\" style = \"font-weight: bold; text-align: right;\">5</td><td style = \"text-align: right;\">5</td><td style = \"text-align: right;\">5</td><td style = \"text-align: right;\">5</td></tr></tbody></table></div>"
      ],
      "text/latex": [
       "\\begin{tabular}{r|ccc}\n",
       "\t& id & hh\\_size & population\\\\\n",
       "\t\\hline\n",
       "\t& Int64 & Int64 & Int64\\\\\n",
       "\t\\hline\n",
       "\t1 & 1 & 1 & 25 \\\\\n",
       "\t2 & 2 & 2 & 27 \\\\\n",
       "\t3 & 3 & 3 & 18 \\\\\n",
       "\t4 & 4 & 4 & 7 \\\\\n",
       "\t5 & 5 & 5 & 5 \\\\\n",
       "\\end{tabular}\n"
      ],
      "text/plain": [
       "\u001b[1m5×3 DataFrame\u001b[0m\n",
       "\u001b[1m Row \u001b[0m│\u001b[1m id    \u001b[0m\u001b[1m hh_size \u001b[0m\u001b[1m population \u001b[0m\n",
       "     │\u001b[90m Int64 \u001b[0m\u001b[90m Int64   \u001b[0m\u001b[90m Int64      \u001b[0m\n",
       "─────┼────────────────────────────\n",
       "   1 │     1        1          25\n",
       "   2 │     2        2          27\n",
       "   3 │     3        3          18\n",
       "   4 │     4        4           7\n",
       "   5 │     5        5           5"
      ]
     },
     "metadata": {},
     "output_type": "display_data"
    }
   ],
   "source": [
    "\n",
    "#generation of dataframe of households\n",
    "aggregated_households = generate_joint_distribution(marginal_hh_size)"
   ]
  },
  {
   "cell_type": "markdown",
   "metadata": {},
   "source": [
    "### Allocate individuals to households"
   ]
  },
  {
   "cell_type": "code",
   "execution_count": 6,
   "metadata": {},
   "outputs": [
    {
     "name": "stdout",
     "output_type": "stream",
     "text": [
      "Total number of individuals: 155\n",
      "Total number of households: 82\n",
      "Allocation started...\n",
      "Creation of individual constraints started.\n"
     ]
    },
    {
     "name": "stderr",
     "output_type": "stream",
     "text": [
      "\u001b[32mAdding individual constraints 100%|██████████████████████| Time: 0:00:00\u001b[39m\u001b[K\n",
      "\u001b[32mPreparing household constraints 1/3 100%|████████████████| Time: 0:00:00\u001b[39m\u001b[K\n",
      "\u001b[32mPreparing household constraints 2/3 100%|████████████████| Time: 0:00:00\u001b[39m\u001b[K\n",
      "\u001b[32mPreparing household constraints 3/3 100%|████████████████| Time: 0:00:00\u001b[39m\u001b[K\n"
     ]
    },
    {
     "name": "stdout",
     "output_type": "stream",
     "text": [
      "Creation of individual constraints finished.\n",
      "Preparation for creation of household constraints started.\n",
      "Preparation for creation of household constraints finished.\n",
      "Creation of household constraints started.\n"
     ]
    },
    {
     "name": "stderr",
     "output_type": "stream",
     "text": [
      "\u001b[32mAdding household constraints. 100%|██████████████████████| Time: 0:00:01\u001b[39m\u001b[K\n"
     ]
    },
    {
     "name": "stdout",
     "output_type": "stream",
     "text": [
      "Creation of household constraints finished\n",
      "Optimization of allocation started.\n",
      "Optimization completed.\n",
      "Objective value: 155.0\n"
     ]
    },
    {
     "name": "stderr",
     "output_type": "stream",
     "text": [
      "\u001b[32mDisaggregating individuals 100%|█████████████████████████| Time: 0:00:00\u001b[39m\u001b[K\n",
      "\u001b[32mDisaggregating households 100%|██████████████████████████| Time: 0:00:00\u001b[39m\u001b[K"
     ]
    },
    {
     "name": "stdout",
     "output_type": "stream",
     "text": [
      "Allocation finished."
     ]
    },
    {
     "name": "stderr",
     "output_type": "stream",
     "text": [
      "\n"
     ]
    },
    {
     "data": {
      "text/plain": [
       "(A JuMP Model\n",
       "Maximization problem with:\n",
       "Variables: 12710\n",
       "Objective function type: JuMP.AffExpr\n",
       "`JuMP.AffExpr`-in-`MathOptInterface.EqualTo{Float64}`: 81 constraints\n",
       "`JuMP.AffExpr`-in-`MathOptInterface.GreaterThan{Float64}`: 30 constraints\n",
       "`JuMP.AffExpr`-in-`MathOptInterface.LessThan{Float64}`: 208102 constraints\n",
       "`JuMP.VariableRef`-in-`MathOptInterface.ZeroOne`: 12710 constraints\n",
       "Model mode: AUTOMATIC\n",
       "CachingOptimizer state: ATTACHED_OPTIMIZER\n",
       "Solver name: GLPK\n",
       "Names registered in the model: allocation, [0.0 1.0 … 0.0 0.0; 0.0 0.0 … 0.0 0.0; … ; 0.0 0.0 … 0.0 0.0; 0.0 0.0 … 0.0 0.0], \u001b[1m155×3 DataFrame\u001b[0m\n",
       "\u001b[1m Row \u001b[0m│\u001b[1m id    \u001b[0m\u001b[1m agg_ind_id \u001b[0m\u001b[1m household_id \u001b[0m\n",
       "     │\u001b[90m Int64 \u001b[0m\u001b[90m Int64?     \u001b[0m\u001b[90m Int64?       \u001b[0m\n",
       "─────┼─────────────────────────────────\n",
       "   1 │     1           2             2\n",
       "   2 │     2           6            61\n",
       "   3 │     3          10            54\n",
       "   4 │     4          14            64\n",
       "   5 │     5          18            76\n",
       "   6 │     6          22            26\n",
       "   7 │     7          26            27\n",
       "   8 │     8          30            28\n",
       "  ⋮  │   ⋮        ⋮            ⋮\n",
       " 149 │   149         584            58\n",
       " 150 │   150         585            73\n",
       " 151 │   151         586            53\n",
       " 152 │   152         587            17\n",
       " 153 │   153         588            14\n",
       " 154 │   154         589            10\n",
       " 155 │   155         590             9\n",
       "\u001b[36m                       140 rows omitted\u001b[0m, \u001b[1m82×7 DataFrame\u001b[0m\n",
       "\u001b[1m Row \u001b[0m│\u001b[1m id    \u001b[0m\u001b[1m agg_hh_id \u001b[0m\u001b[1m head_id \u001b[0m\u001b[1m partner_id \u001b[0m\u001b[1m child1_id \u001b[0m\u001b[1m child2_id \u001b[0m\u001b[1m child3_id \u001b[0m\n",
       "     │\u001b[90m Int64 \u001b[0m\u001b[90m Int64?    \u001b[0m\u001b[90m Int64?  \u001b[0m\u001b[90m Int64?     \u001b[0m\u001b[90m Int64?    \u001b[0m\u001b[90m Int64?    \u001b[0m\u001b[90m Int64?    \u001b[0m\n",
       "─────┼────────────────────────────────────────────────────────────────────────\n",
       "   1 │     1          1      563 \u001b[90m    missing \u001b[0m\u001b[90m   missing \u001b[0m\u001b[90m   missing \u001b[0m\u001b[90m   missing \u001b[0m\n",
       "   2 │     2          1        2 \u001b[90m    missing \u001b[0m\u001b[90m   missing \u001b[0m\u001b[90m   missing \u001b[0m\u001b[90m   missing \u001b[0m\n",
       "   3 │     3          1      470 \u001b[90m    missing \u001b[0m\u001b[90m   missing \u001b[0m\u001b[90m   missing \u001b[0m\u001b[90m   missing \u001b[0m\n",
       "   4 │     4          1      565 \u001b[90m    missing \u001b[0m\u001b[90m   missing \u001b[0m\u001b[90m   missing \u001b[0m\u001b[90m   missing \u001b[0m\n",
       "   5 │     5          1      581 \u001b[90m    missing \u001b[0m\u001b[90m   missing \u001b[0m\u001b[90m   missing \u001b[0m\u001b[90m   missing \u001b[0m\n",
       "   6 │     6          1      337 \u001b[90m    missing \u001b[0m\u001b[90m   missing \u001b[0m\u001b[90m   missing \u001b[0m\u001b[90m   missing \u001b[0m\n",
       "   7 │     7          1      174 \u001b[90m    missing \u001b[0m\u001b[90m   missing \u001b[0m\u001b[90m   missing \u001b[0m\u001b[90m   missing \u001b[0m\n",
       "   8 │     8          1       45 \u001b[90m    missing \u001b[0m\u001b[90m   missing \u001b[0m\u001b[90m   missing \u001b[0m\u001b[90m   missing \u001b[0m\n",
       "  ⋮  │   ⋮        ⋮         ⋮         ⋮           ⋮          ⋮          ⋮\n",
       "  76 │    76          4      126         438         18 \u001b[90m   missing \u001b[0m\u001b[90m   missing \u001b[0m\n",
       "  77 │    77          4      186         478 \u001b[90m   missing \u001b[0m\u001b[90m   missing \u001b[0m\u001b[90m   missing \u001b[0m\n",
       "  78 │    78          5      354 \u001b[90m    missing \u001b[0m       561        566 \u001b[90m   missing \u001b[0m\n",
       "  79 │    79          5      194         442 \u001b[90m   missing \u001b[0m\u001b[90m   missing \u001b[0m\u001b[90m   missing \u001b[0m\n",
       "  80 │    80          5      202 \u001b[90m    missing \u001b[0m\u001b[90m   missing \u001b[0m\u001b[90m   missing \u001b[0m\u001b[90m   missing \u001b[0m\n",
       "  81 │    81          5      198         466 \u001b[90m   missing \u001b[0m\u001b[90m   missing \u001b[0m\u001b[90m   missing \u001b[0m\n",
       "  82 │    82          5      206 \u001b[90m    missing \u001b[0m\u001b[90m   missing \u001b[0m\u001b[90m   missing \u001b[0m\u001b[90m   missing \u001b[0m\n",
       "\u001b[36m                                                               67 rows omitted\u001b[0m)"
      ]
     },
     "metadata": {},
     "output_type": "display_data"
    }
   ],
   "source": [
    "model, allocation_values, disaggregated_individuals, disaggregated_households = assign_and_optimize_individuals_to_households!(aggregated_individuals, aggregated_households)"
   ]
  },
  {
   "cell_type": "markdown",
   "metadata": {},
   "source": [
    "### Check the outputs of allocation"
   ]
  },
  {
   "cell_type": "code",
   "execution_count": 7,
   "metadata": {},
   "outputs": [
    {
     "data": {
      "text/plain": [
       "A JuMP Model\n",
       "Maximization problem with:\n",
       "Variables: 12710\n",
       "Objective function type: JuMP.AffExpr\n",
       "`JuMP.AffExpr`-in-`MathOptInterface.EqualTo{Float64}`: 81 constraints\n",
       "`JuMP.AffExpr`-in-`MathOptInterface.GreaterThan{Float64}`: 30 constraints\n",
       "`JuMP.AffExpr`-in-`MathOptInterface.LessThan{Float64}`: 208102 constraints\n",
       "`JuMP.VariableRef`-in-`MathOptInterface.ZeroOne`: 12710 constraints\n",
       "Model mode: AUTOMATIC\n",
       "CachingOptimizer state: ATTACHED_OPTIMIZER\n",
       "Solver name: GLPK\n",
       "Names registered in the model: allocation"
      ]
     },
     "metadata": {},
     "output_type": "display_data"
    }
   ],
   "source": [
    "model"
   ]
  },
  {
   "cell_type": "code",
   "execution_count": 8,
   "metadata": {},
   "outputs": [
    {
     "data": {
      "text/html": [
       "<div><div style = \"float: left;\"><span>600×6 DataFrame</span></div><div style = \"float: right;\"><span style = \"font-style: italic;\">575 rows omitted</span></div><div style = \"clear: both;\"></div></div><div class = \"data-frame\" style = \"overflow-x: scroll;\"><table class = \"data-frame\" style = \"margin-bottom: 6px;\"><thead><tr class = \"header\"><th class = \"rowNumber\" style = \"font-weight: bold; text-align: right;\">Row</th><th style = \"text-align: left;\">id</th><th style = \"text-align: left;\">maritalstatus</th><th style = \"text-align: left;\">income</th><th style = \"text-align: left;\">sex</th><th style = \"text-align: left;\">age</th><th style = \"text-align: left;\">population</th></tr><tr class = \"subheader headerLastRow\"><th class = \"rowNumber\" style = \"font-weight: bold; text-align: right;\"></th><th title = \"Int64\" style = \"text-align: left;\">Int64</th><th title = \"Union{Missing, String}\" style = \"text-align: left;\">String?</th><th title = \"Union{Missing, Int64}\" style = \"text-align: left;\">Int64?</th><th title = \"Union{Missing, Char}\" style = \"text-align: left;\">Char?</th><th title = \"Union{Missing, Int64}\" style = \"text-align: left;\">Int64?</th><th title = \"Int64\" style = \"text-align: left;\">Int64</th></tr></thead><tbody><tr><td class = \"rowNumber\" style = \"font-weight: bold; text-align: right;\">1</td><td style = \"text-align: right;\">1</td><td style = \"text-align: left;\">Divorced</td><td style = \"text-align: right;\">25394</td><td style = \"text-align: left;\">F</td><td style = \"text-align: right;\">22</td><td style = \"text-align: right;\">0</td></tr><tr><td class = \"rowNumber\" style = \"font-weight: bold; text-align: right;\">2</td><td style = \"text-align: right;\">2</td><td style = \"text-align: left;\">Married</td><td style = \"text-align: right;\">25394</td><td style = \"text-align: left;\">F</td><td style = \"text-align: right;\">22</td><td style = \"text-align: right;\">1</td></tr><tr><td class = \"rowNumber\" style = \"font-weight: bold; text-align: right;\">3</td><td style = \"text-align: right;\">3</td><td style = \"text-align: left;\">Never_married</td><td style = \"text-align: right;\">25394</td><td style = \"text-align: left;\">F</td><td style = \"text-align: right;\">22</td><td style = \"text-align: right;\">0</td></tr><tr><td class = \"rowNumber\" style = \"font-weight: bold; text-align: right;\">4</td><td style = \"text-align: right;\">4</td><td style = \"text-align: left;\">Widowed</td><td style = \"text-align: right;\">25394</td><td style = \"text-align: left;\">F</td><td style = \"text-align: right;\">22</td><td style = \"text-align: right;\">0</td></tr><tr><td class = \"rowNumber\" style = \"font-weight: bold; text-align: right;\">5</td><td style = \"text-align: right;\">5</td><td style = \"text-align: left;\">Divorced</td><td style = \"text-align: right;\">44855</td><td style = \"text-align: left;\">F</td><td style = \"text-align: right;\">22</td><td style = \"text-align: right;\">0</td></tr><tr><td class = \"rowNumber\" style = \"font-weight: bold; text-align: right;\">6</td><td style = \"text-align: right;\">6</td><td style = \"text-align: left;\">Married</td><td style = \"text-align: right;\">44855</td><td style = \"text-align: left;\">F</td><td style = \"text-align: right;\">22</td><td style = \"text-align: right;\">1</td></tr><tr><td class = \"rowNumber\" style = \"font-weight: bold; text-align: right;\">7</td><td style = \"text-align: right;\">7</td><td style = \"text-align: left;\">Never_married</td><td style = \"text-align: right;\">44855</td><td style = \"text-align: left;\">F</td><td style = \"text-align: right;\">22</td><td style = \"text-align: right;\">0</td></tr><tr><td class = \"rowNumber\" style = \"font-weight: bold; text-align: right;\">8</td><td style = \"text-align: right;\">8</td><td style = \"text-align: left;\">Widowed</td><td style = \"text-align: right;\">44855</td><td style = \"text-align: left;\">F</td><td style = \"text-align: right;\">22</td><td style = \"text-align: right;\">0</td></tr><tr><td class = \"rowNumber\" style = \"font-weight: bold; text-align: right;\">9</td><td style = \"text-align: right;\">9</td><td style = \"text-align: left;\">Divorced</td><td style = \"text-align: right;\">63969</td><td style = \"text-align: left;\">F</td><td style = \"text-align: right;\">22</td><td style = \"text-align: right;\">0</td></tr><tr><td class = \"rowNumber\" style = \"font-weight: bold; text-align: right;\">10</td><td style = \"text-align: right;\">10</td><td style = \"text-align: left;\">Married</td><td style = \"text-align: right;\">63969</td><td style = \"text-align: left;\">F</td><td style = \"text-align: right;\">22</td><td style = \"text-align: right;\">1</td></tr><tr><td class = \"rowNumber\" style = \"font-weight: bold; text-align: right;\">11</td><td style = \"text-align: right;\">11</td><td style = \"text-align: left;\">Never_married</td><td style = \"text-align: right;\">63969</td><td style = \"text-align: left;\">F</td><td style = \"text-align: right;\">22</td><td style = \"text-align: right;\">0</td></tr><tr><td class = \"rowNumber\" style = \"font-weight: bold; text-align: right;\">12</td><td style = \"text-align: right;\">12</td><td style = \"text-align: left;\">Widowed</td><td style = \"text-align: right;\">63969</td><td style = \"text-align: left;\">F</td><td style = \"text-align: right;\">22</td><td style = \"text-align: right;\">0</td></tr><tr><td class = \"rowNumber\" style = \"font-weight: bold; text-align: right;\">13</td><td style = \"text-align: right;\">13</td><td style = \"text-align: left;\">Divorced</td><td style = \"text-align: right;\">88026</td><td style = \"text-align: left;\">F</td><td style = \"text-align: right;\">22</td><td style = \"text-align: right;\">0</td></tr><tr><td style = \"text-align: right;\">&vellip;</td><td style = \"text-align: right;\">&vellip;</td><td style = \"text-align: right;\">&vellip;</td><td style = \"text-align: right;\">&vellip;</td><td style = \"text-align: right;\">&vellip;</td><td style = \"text-align: right;\">&vellip;</td><td style = \"text-align: right;\">&vellip;</td></tr><tr><td class = \"rowNumber\" style = \"font-weight: bold; text-align: right;\">589</td><td style = \"text-align: right;\">589</td><td style = \"text-align: left;\">missing</td><td style = \"text-align: right;\">88026</td><td style = \"text-align: left;\">M</td><td style = \"text-align: right;\">7</td><td style = \"text-align: right;\">1</td></tr><tr><td class = \"rowNumber\" style = \"font-weight: bold; text-align: right;\">590</td><td style = \"text-align: right;\">590</td><td style = \"text-align: left;\">missing</td><td style = \"text-align: right;\">145915</td><td style = \"text-align: left;\">M</td><td style = \"text-align: right;\">7</td><td style = \"text-align: right;\">1</td></tr><tr><td class = \"rowNumber\" style = \"font-weight: bold; text-align: right;\">591</td><td style = \"text-align: right;\">591</td><td style = \"text-align: left;\">missing</td><td style = \"text-align: right;\">25394</td><td style = \"text-align: left;\">M</td><td style = \"text-align: right;\">12</td><td style = \"text-align: right;\">0</td></tr><tr><td class = \"rowNumber\" style = \"font-weight: bold; text-align: right;\">592</td><td style = \"text-align: right;\">592</td><td style = \"text-align: left;\">missing</td><td style = \"text-align: right;\">44855</td><td style = \"text-align: left;\">M</td><td style = \"text-align: right;\">12</td><td style = \"text-align: right;\">0</td></tr><tr><td class = \"rowNumber\" style = \"font-weight: bold; text-align: right;\">593</td><td style = \"text-align: right;\">593</td><td style = \"text-align: left;\">missing</td><td style = \"text-align: right;\">63969</td><td style = \"text-align: left;\">M</td><td style = \"text-align: right;\">12</td><td style = \"text-align: right;\">0</td></tr><tr><td class = \"rowNumber\" style = \"font-weight: bold; text-align: right;\">594</td><td style = \"text-align: right;\">594</td><td style = \"text-align: left;\">missing</td><td style = \"text-align: right;\">88026</td><td style = \"text-align: left;\">M</td><td style = \"text-align: right;\">12</td><td style = \"text-align: right;\">0</td></tr><tr><td class = \"rowNumber\" style = \"font-weight: bold; text-align: right;\">595</td><td style = \"text-align: right;\">595</td><td style = \"text-align: left;\">missing</td><td style = \"text-align: right;\">145915</td><td style = \"text-align: left;\">M</td><td style = \"text-align: right;\">12</td><td style = \"text-align: right;\">0</td></tr><tr><td class = \"rowNumber\" style = \"font-weight: bold; text-align: right;\">596</td><td style = \"text-align: right;\">596</td><td style = \"text-align: left;\">missing</td><td style = \"text-align: right;\">25394</td><td style = \"text-align: left;\">M</td><td style = \"text-align: right;\">17</td><td style = \"text-align: right;\">0</td></tr><tr><td class = \"rowNumber\" style = \"font-weight: bold; text-align: right;\">597</td><td style = \"text-align: right;\">597</td><td style = \"text-align: left;\">missing</td><td style = \"text-align: right;\">44855</td><td style = \"text-align: left;\">M</td><td style = \"text-align: right;\">17</td><td style = \"text-align: right;\">0</td></tr><tr><td class = \"rowNumber\" style = \"font-weight: bold; text-align: right;\">598</td><td style = \"text-align: right;\">598</td><td style = \"text-align: left;\">missing</td><td style = \"text-align: right;\">63969</td><td style = \"text-align: left;\">M</td><td style = \"text-align: right;\">17</td><td style = \"text-align: right;\">0</td></tr><tr><td class = \"rowNumber\" style = \"font-weight: bold; text-align: right;\">599</td><td style = \"text-align: right;\">599</td><td style = \"text-align: left;\">missing</td><td style = \"text-align: right;\">88026</td><td style = \"text-align: left;\">M</td><td style = \"text-align: right;\">17</td><td style = \"text-align: right;\">0</td></tr><tr><td class = \"rowNumber\" style = \"font-weight: bold; text-align: right;\">600</td><td style = \"text-align: right;\">600</td><td style = \"text-align: left;\">missing</td><td style = \"text-align: right;\">145915</td><td style = \"text-align: left;\">M</td><td style = \"text-align: right;\">17</td><td style = \"text-align: right;\">0</td></tr></tbody></table></div>"
      ],
      "text/latex": [
       "\\begin{tabular}{r|cccccc}\n",
       "\t& id & maritalstatus & income & sex & age & population\\\\\n",
       "\t\\hline\n",
       "\t& Int64 & String? & Int64? & Char? & Int64? & Int64\\\\\n",
       "\t\\hline\n",
       "\t1 & 1 & Divorced & 25394 & F & 22 & 0 \\\\\n",
       "\t2 & 2 & Married & 25394 & F & 22 & 1 \\\\\n",
       "\t3 & 3 & Never\\_married & 25394 & F & 22 & 0 \\\\\n",
       "\t4 & 4 & Widowed & 25394 & F & 22 & 0 \\\\\n",
       "\t5 & 5 & Divorced & 44855 & F & 22 & 0 \\\\\n",
       "\t6 & 6 & Married & 44855 & F & 22 & 1 \\\\\n",
       "\t7 & 7 & Never\\_married & 44855 & F & 22 & 0 \\\\\n",
       "\t8 & 8 & Widowed & 44855 & F & 22 & 0 \\\\\n",
       "\t9 & 9 & Divorced & 63969 & F & 22 & 0 \\\\\n",
       "\t10 & 10 & Married & 63969 & F & 22 & 1 \\\\\n",
       "\t11 & 11 & Never\\_married & 63969 & F & 22 & 0 \\\\\n",
       "\t12 & 12 & Widowed & 63969 & F & 22 & 0 \\\\\n",
       "\t13 & 13 & Divorced & 88026 & F & 22 & 0 \\\\\n",
       "\t14 & 14 & Married & 88026 & F & 22 & 1 \\\\\n",
       "\t15 & 15 & Never\\_married & 88026 & F & 22 & 0 \\\\\n",
       "\t16 & 16 & Widowed & 88026 & F & 22 & 0 \\\\\n",
       "\t17 & 17 & Divorced & 145915 & F & 22 & 0 \\\\\n",
       "\t18 & 18 & Married & 145915 & F & 22 & 1 \\\\\n",
       "\t19 & 19 & Never\\_married & 145915 & F & 22 & 0 \\\\\n",
       "\t20 & 20 & Widowed & 145915 & F & 22 & 0 \\\\\n",
       "\t21 & 21 & Divorced & 25394 & F & 27 & 0 \\\\\n",
       "\t22 & 22 & Married & 25394 & F & 27 & 1 \\\\\n",
       "\t23 & 23 & Never\\_married & 25394 & F & 27 & 0 \\\\\n",
       "\t24 & 24 & Widowed & 25394 & F & 27 & 0 \\\\\n",
       "\t$\\dots$ & $\\dots$ & $\\dots$ & $\\dots$ & $\\dots$ & $\\dots$ & $\\dots$ \\\\\n",
       "\\end{tabular}\n"
      ],
      "text/plain": [
       "\u001b[1m600×6 DataFrame\u001b[0m\n",
       "\u001b[1m Row \u001b[0m│\u001b[1m id    \u001b[0m\u001b[1m maritalstatus \u001b[0m\u001b[1m income \u001b[0m\u001b[1m sex   \u001b[0m\u001b[1m age    \u001b[0m\u001b[1m population \u001b[0m\n",
       "     │\u001b[90m Int64 \u001b[0m\u001b[90m String?       \u001b[0m\u001b[90m Int64? \u001b[0m\u001b[90m Char? \u001b[0m\u001b[90m Int64? \u001b[0m\u001b[90m Int64      \u001b[0m\n",
       "─────┼─────────────────────────────────────────────────────────\n",
       "   1 │     1  Divorced        25394  F          22           0\n",
       "   2 │     2  Married         25394  F          22           1\n",
       "   3 │     3  Never_married   25394  F          22           0\n",
       "   4 │     4  Widowed         25394  F          22           0\n",
       "   5 │     5  Divorced        44855  F          22           0\n",
       "   6 │     6  Married         44855  F          22           1\n",
       "   7 │     7  Never_married   44855  F          22           0\n",
       "   8 │     8  Widowed         44855  F          22           0\n",
       "  ⋮  │   ⋮          ⋮          ⋮       ⋮      ⋮         ⋮\n",
       " 594 │   594 \u001b[90m missing       \u001b[0m  88026  M          12           0\n",
       " 595 │   595 \u001b[90m missing       \u001b[0m 145915  M          12           0\n",
       " 596 │   596 \u001b[90m missing       \u001b[0m  25394  M          17           0\n",
       " 597 │   597 \u001b[90m missing       \u001b[0m  44855  M          17           0\n",
       " 598 │   598 \u001b[90m missing       \u001b[0m  63969  M          17           0\n",
       " 599 │   599 \u001b[90m missing       \u001b[0m  88026  M          17           0\n",
       " 600 │   600 \u001b[90m missing       \u001b[0m 145915  M          17           0\n",
       "\u001b[36m                                               585 rows omitted\u001b[0m"
      ]
     },
     "metadata": {},
     "output_type": "display_data"
    }
   ],
   "source": [
    "aggregated_individuals"
   ]
  },
  {
   "cell_type": "code",
   "execution_count": 9,
   "metadata": {},
   "outputs": [
    {
     "data": {
      "text/html": [
       "<div><div style = \"float: left;\"><span>155×3 DataFrame</span></div><div style = \"float: right;\"><span style = \"font-style: italic;\">130 rows omitted</span></div><div style = \"clear: both;\"></div></div><div class = \"data-frame\" style = \"overflow-x: scroll;\"><table class = \"data-frame\" style = \"margin-bottom: 6px;\"><thead><tr class = \"header\"><th class = \"rowNumber\" style = \"font-weight: bold; text-align: right;\">Row</th><th style = \"text-align: left;\">id</th><th style = \"text-align: left;\">agg_ind_id</th><th style = \"text-align: left;\">household_id</th></tr><tr class = \"subheader headerLastRow\"><th class = \"rowNumber\" style = \"font-weight: bold; text-align: right;\"></th><th title = \"Int64\" style = \"text-align: left;\">Int64</th><th title = \"Union{Missing, Int64}\" style = \"text-align: left;\">Int64?</th><th title = \"Union{Missing, Int64}\" style = \"text-align: left;\">Int64?</th></tr></thead><tbody><tr><td class = \"rowNumber\" style = \"font-weight: bold; text-align: right;\">1</td><td style = \"text-align: right;\">1</td><td style = \"text-align: right;\">2</td><td style = \"text-align: right;\">2</td></tr><tr><td class = \"rowNumber\" style = \"font-weight: bold; text-align: right;\">2</td><td style = \"text-align: right;\">2</td><td style = \"text-align: right;\">6</td><td style = \"text-align: right;\">61</td></tr><tr><td class = \"rowNumber\" style = \"font-weight: bold; text-align: right;\">3</td><td style = \"text-align: right;\">3</td><td style = \"text-align: right;\">10</td><td style = \"text-align: right;\">54</td></tr><tr><td class = \"rowNumber\" style = \"font-weight: bold; text-align: right;\">4</td><td style = \"text-align: right;\">4</td><td style = \"text-align: right;\">14</td><td style = \"text-align: right;\">64</td></tr><tr><td class = \"rowNumber\" style = \"font-weight: bold; text-align: right;\">5</td><td style = \"text-align: right;\">5</td><td style = \"text-align: right;\">18</td><td style = \"text-align: right;\">76</td></tr><tr><td class = \"rowNumber\" style = \"font-weight: bold; text-align: right;\">6</td><td style = \"text-align: right;\">6</td><td style = \"text-align: right;\">22</td><td style = \"text-align: right;\">26</td></tr><tr><td class = \"rowNumber\" style = \"font-weight: bold; text-align: right;\">7</td><td style = \"text-align: right;\">7</td><td style = \"text-align: right;\">26</td><td style = \"text-align: right;\">27</td></tr><tr><td class = \"rowNumber\" style = \"font-weight: bold; text-align: right;\">8</td><td style = \"text-align: right;\">8</td><td style = \"text-align: right;\">30</td><td style = \"text-align: right;\">28</td></tr><tr><td class = \"rowNumber\" style = \"font-weight: bold; text-align: right;\">9</td><td style = \"text-align: right;\">9</td><td style = \"text-align: right;\">34</td><td style = \"text-align: right;\">29</td></tr><tr><td class = \"rowNumber\" style = \"font-weight: bold; text-align: right;\">10</td><td style = \"text-align: right;\">10</td><td style = \"text-align: right;\">38</td><td style = \"text-align: right;\">30</td></tr><tr><td class = \"rowNumber\" style = \"font-weight: bold; text-align: right;\">11</td><td style = \"text-align: right;\">11</td><td style = \"text-align: right;\">41</td><td style = \"text-align: right;\">15</td></tr><tr><td class = \"rowNumber\" style = \"font-weight: bold; text-align: right;\">12</td><td style = \"text-align: right;\">12</td><td style = \"text-align: right;\">42</td><td style = \"text-align: right;\">45</td></tr><tr><td class = \"rowNumber\" style = \"font-weight: bold; text-align: right;\">13</td><td style = \"text-align: right;\">13</td><td style = \"text-align: right;\">42</td><td style = \"text-align: right;\">32</td></tr><tr><td style = \"text-align: right;\">&vellip;</td><td style = \"text-align: right;\">&vellip;</td><td style = \"text-align: right;\">&vellip;</td><td style = \"text-align: right;\">&vellip;</td></tr><tr><td class = \"rowNumber\" style = \"font-weight: bold; text-align: right;\">144</td><td style = \"text-align: right;\">144</td><td style = \"text-align: right;\">569</td><td style = \"text-align: right;\">59</td></tr><tr><td class = \"rowNumber\" style = \"font-weight: bold; text-align: right;\">145</td><td style = \"text-align: right;\">145</td><td style = \"text-align: right;\">570</td><td style = \"text-align: right;\">16</td></tr><tr><td class = \"rowNumber\" style = \"font-weight: bold; text-align: right;\">146</td><td style = \"text-align: right;\">146</td><td style = \"text-align: right;\">581</td><td style = \"text-align: right;\">5</td></tr><tr><td class = \"rowNumber\" style = \"font-weight: bold; text-align: right;\">147</td><td style = \"text-align: right;\">147</td><td style = \"text-align: right;\">582</td><td style = \"text-align: right;\">19</td></tr><tr><td class = \"rowNumber\" style = \"font-weight: bold; text-align: right;\">148</td><td style = \"text-align: right;\">148</td><td style = \"text-align: right;\">583</td><td style = \"text-align: right;\">70</td></tr><tr><td class = \"rowNumber\" style = \"font-weight: bold; text-align: right;\">149</td><td style = \"text-align: right;\">149</td><td style = \"text-align: right;\">584</td><td style = \"text-align: right;\">58</td></tr><tr><td class = \"rowNumber\" style = \"font-weight: bold; text-align: right;\">150</td><td style = \"text-align: right;\">150</td><td style = \"text-align: right;\">585</td><td style = \"text-align: right;\">73</td></tr><tr><td class = \"rowNumber\" style = \"font-weight: bold; text-align: right;\">151</td><td style = \"text-align: right;\">151</td><td style = \"text-align: right;\">586</td><td style = \"text-align: right;\">53</td></tr><tr><td class = \"rowNumber\" style = \"font-weight: bold; text-align: right;\">152</td><td style = \"text-align: right;\">152</td><td style = \"text-align: right;\">587</td><td style = \"text-align: right;\">17</td></tr><tr><td class = \"rowNumber\" style = \"font-weight: bold; text-align: right;\">153</td><td style = \"text-align: right;\">153</td><td style = \"text-align: right;\">588</td><td style = \"text-align: right;\">14</td></tr><tr><td class = \"rowNumber\" style = \"font-weight: bold; text-align: right;\">154</td><td style = \"text-align: right;\">154</td><td style = \"text-align: right;\">589</td><td style = \"text-align: right;\">10</td></tr><tr><td class = \"rowNumber\" style = \"font-weight: bold; text-align: right;\">155</td><td style = \"text-align: right;\">155</td><td style = \"text-align: right;\">590</td><td style = \"text-align: right;\">9</td></tr></tbody></table></div>"
      ],
      "text/latex": [
       "\\begin{tabular}{r|ccc}\n",
       "\t& id & agg\\_ind\\_id & household\\_id\\\\\n",
       "\t\\hline\n",
       "\t& Int64 & Int64? & Int64?\\\\\n",
       "\t\\hline\n",
       "\t1 & 1 & 2 & 2 \\\\\n",
       "\t2 & 2 & 6 & 61 \\\\\n",
       "\t3 & 3 & 10 & 54 \\\\\n",
       "\t4 & 4 & 14 & 64 \\\\\n",
       "\t5 & 5 & 18 & 76 \\\\\n",
       "\t6 & 6 & 22 & 26 \\\\\n",
       "\t7 & 7 & 26 & 27 \\\\\n",
       "\t8 & 8 & 30 & 28 \\\\\n",
       "\t9 & 9 & 34 & 29 \\\\\n",
       "\t10 & 10 & 38 & 30 \\\\\n",
       "\t11 & 11 & 41 & 15 \\\\\n",
       "\t12 & 12 & 42 & 45 \\\\\n",
       "\t13 & 13 & 42 & 32 \\\\\n",
       "\t14 & 14 & 45 & 8 \\\\\n",
       "\t15 & 15 & 46 & 37 \\\\\n",
       "\t16 & 16 & 46 & 34 \\\\\n",
       "\t17 & 17 & 49 & 56 \\\\\n",
       "\t18 & 18 & 50 & 35 \\\\\n",
       "\t19 & 19 & 50 & 36 \\\\\n",
       "\t20 & 20 & 53 & 66 \\\\\n",
       "\t21 & 21 & 54 & 58 \\\\\n",
       "\t22 & 22 & 54 & 41 \\\\\n",
       "\t23 & 23 & 57 & 71 \\\\\n",
       "\t24 & 24 & 58 & 39 \\\\\n",
       "\t$\\dots$ & $\\dots$ & $\\dots$ & $\\dots$ \\\\\n",
       "\\end{tabular}\n"
      ],
      "text/plain": [
       "\u001b[1m155×3 DataFrame\u001b[0m\n",
       "\u001b[1m Row \u001b[0m│\u001b[1m id    \u001b[0m\u001b[1m agg_ind_id \u001b[0m\u001b[1m household_id \u001b[0m\n",
       "     │\u001b[90m Int64 \u001b[0m\u001b[90m Int64?     \u001b[0m\u001b[90m Int64?       \u001b[0m\n",
       "─────┼─────────────────────────────────\n",
       "   1 │     1           2             2\n",
       "   2 │     2           6            61\n",
       "   3 │     3          10            54\n",
       "   4 │     4          14            64\n",
       "   5 │     5          18            76\n",
       "   6 │     6          22            26\n",
       "   7 │     7          26            27\n",
       "   8 │     8          30            28\n",
       "  ⋮  │   ⋮        ⋮            ⋮\n",
       " 149 │   149         584            58\n",
       " 150 │   150         585            73\n",
       " 151 │   151         586            53\n",
       " 152 │   152         587            17\n",
       " 153 │   153         588            14\n",
       " 154 │   154         589            10\n",
       " 155 │   155         590             9\n",
       "\u001b[36m                       140 rows omitted\u001b[0m"
      ]
     },
     "metadata": {},
     "output_type": "display_data"
    }
   ],
   "source": [
    "disaggregated_individuals"
   ]
  },
  {
   "cell_type": "code",
   "execution_count": 10,
   "metadata": {},
   "outputs": [
    {
     "data": {
      "text/html": [
       "<div><div style = \"float: left;\"><span>5×3 DataFrame</span></div><div style = \"clear: both;\"></div></div><div class = \"data-frame\" style = \"overflow-x: scroll;\"><table class = \"data-frame\" style = \"margin-bottom: 6px;\"><thead><tr class = \"header\"><th class = \"rowNumber\" style = \"font-weight: bold; text-align: right;\">Row</th><th style = \"text-align: left;\">id</th><th style = \"text-align: left;\">hh_size</th><th style = \"text-align: left;\">population</th></tr><tr class = \"subheader headerLastRow\"><th class = \"rowNumber\" style = \"font-weight: bold; text-align: right;\"></th><th title = \"Int64\" style = \"text-align: left;\">Int64</th><th title = \"Int64\" style = \"text-align: left;\">Int64</th><th title = \"Int64\" style = \"text-align: left;\">Int64</th></tr></thead><tbody><tr><td class = \"rowNumber\" style = \"font-weight: bold; text-align: right;\">1</td><td style = \"text-align: right;\">1</td><td style = \"text-align: right;\">1</td><td style = \"text-align: right;\">25</td></tr><tr><td class = \"rowNumber\" style = \"font-weight: bold; text-align: right;\">2</td><td style = \"text-align: right;\">2</td><td style = \"text-align: right;\">2</td><td style = \"text-align: right;\">27</td></tr><tr><td class = \"rowNumber\" style = \"font-weight: bold; text-align: right;\">3</td><td style = \"text-align: right;\">3</td><td style = \"text-align: right;\">3</td><td style = \"text-align: right;\">18</td></tr><tr><td class = \"rowNumber\" style = \"font-weight: bold; text-align: right;\">4</td><td style = \"text-align: right;\">4</td><td style = \"text-align: right;\">4</td><td style = \"text-align: right;\">7</td></tr><tr><td class = \"rowNumber\" style = \"font-weight: bold; text-align: right;\">5</td><td style = \"text-align: right;\">5</td><td style = \"text-align: right;\">5</td><td style = \"text-align: right;\">5</td></tr></tbody></table></div>"
      ],
      "text/latex": [
       "\\begin{tabular}{r|ccc}\n",
       "\t& id & hh\\_size & population\\\\\n",
       "\t\\hline\n",
       "\t& Int64 & Int64 & Int64\\\\\n",
       "\t\\hline\n",
       "\t1 & 1 & 1 & 25 \\\\\n",
       "\t2 & 2 & 2 & 27 \\\\\n",
       "\t3 & 3 & 3 & 18 \\\\\n",
       "\t4 & 4 & 4 & 7 \\\\\n",
       "\t5 & 5 & 5 & 5 \\\\\n",
       "\\end{tabular}\n"
      ],
      "text/plain": [
       "\u001b[1m5×3 DataFrame\u001b[0m\n",
       "\u001b[1m Row \u001b[0m│\u001b[1m id    \u001b[0m\u001b[1m hh_size \u001b[0m\u001b[1m population \u001b[0m\n",
       "     │\u001b[90m Int64 \u001b[0m\u001b[90m Int64   \u001b[0m\u001b[90m Int64      \u001b[0m\n",
       "─────┼────────────────────────────\n",
       "   1 │     1        1          25\n",
       "   2 │     2        2          27\n",
       "   3 │     3        3          18\n",
       "   4 │     4        4           7\n",
       "   5 │     5        5           5"
      ]
     },
     "metadata": {},
     "output_type": "display_data"
    }
   ],
   "source": [
    "aggregated_households"
   ]
  },
  {
   "cell_type": "code",
   "execution_count": 11,
   "metadata": {},
   "outputs": [
    {
     "data": {
      "text/html": [
       "<div><div style = \"float: left;\"><span>82×7 DataFrame</span></div><div style = \"float: right;\"><span style = \"font-style: italic;\">57 rows omitted</span></div><div style = \"clear: both;\"></div></div><div class = \"data-frame\" style = \"overflow-x: scroll;\"><table class = \"data-frame\" style = \"margin-bottom: 6px;\"><thead><tr class = \"header\"><th class = \"rowNumber\" style = \"font-weight: bold; text-align: right;\">Row</th><th style = \"text-align: left;\">id</th><th style = \"text-align: left;\">agg_hh_id</th><th style = \"text-align: left;\">head_id</th><th style = \"text-align: left;\">partner_id</th><th style = \"text-align: left;\">child1_id</th><th style = \"text-align: left;\">child2_id</th><th style = \"text-align: left;\">child3_id</th></tr><tr class = \"subheader headerLastRow\"><th class = \"rowNumber\" style = \"font-weight: bold; text-align: right;\"></th><th title = \"Int64\" style = \"text-align: left;\">Int64</th><th title = \"Union{Missing, Int64}\" style = \"text-align: left;\">Int64?</th><th title = \"Union{Missing, Int64}\" style = \"text-align: left;\">Int64?</th><th title = \"Union{Missing, Int64}\" style = \"text-align: left;\">Int64?</th><th title = \"Union{Missing, Int64}\" style = \"text-align: left;\">Int64?</th><th title = \"Union{Missing, Int64}\" style = \"text-align: left;\">Int64?</th><th title = \"Union{Missing, Int64}\" style = \"text-align: left;\">Int64?</th></tr></thead><tbody><tr><td class = \"rowNumber\" style = \"font-weight: bold; text-align: right;\">1</td><td style = \"text-align: right;\">1</td><td style = \"text-align: right;\">1</td><td style = \"text-align: right;\">563</td><td style = \"font-style: italic; text-align: right;\">missing</td><td style = \"font-style: italic; text-align: right;\">missing</td><td style = \"font-style: italic; text-align: right;\">missing</td><td style = \"font-style: italic; text-align: right;\">missing</td></tr><tr><td class = \"rowNumber\" style = \"font-weight: bold; text-align: right;\">2</td><td style = \"text-align: right;\">2</td><td style = \"text-align: right;\">1</td><td style = \"text-align: right;\">2</td><td style = \"font-style: italic; text-align: right;\">missing</td><td style = \"font-style: italic; text-align: right;\">missing</td><td style = \"font-style: italic; text-align: right;\">missing</td><td style = \"font-style: italic; text-align: right;\">missing</td></tr><tr><td class = \"rowNumber\" style = \"font-weight: bold; text-align: right;\">3</td><td style = \"text-align: right;\">3</td><td style = \"text-align: right;\">1</td><td style = \"text-align: right;\">470</td><td style = \"font-style: italic; text-align: right;\">missing</td><td style = \"font-style: italic; text-align: right;\">missing</td><td style = \"font-style: italic; text-align: right;\">missing</td><td style = \"font-style: italic; text-align: right;\">missing</td></tr><tr><td class = \"rowNumber\" style = \"font-weight: bold; text-align: right;\">4</td><td style = \"text-align: right;\">4</td><td style = \"text-align: right;\">1</td><td style = \"text-align: right;\">565</td><td style = \"font-style: italic; text-align: right;\">missing</td><td style = \"font-style: italic; text-align: right;\">missing</td><td style = \"font-style: italic; text-align: right;\">missing</td><td style = \"font-style: italic; text-align: right;\">missing</td></tr><tr><td class = \"rowNumber\" style = \"font-weight: bold; text-align: right;\">5</td><td style = \"text-align: right;\">5</td><td style = \"text-align: right;\">1</td><td style = \"text-align: right;\">581</td><td style = \"font-style: italic; text-align: right;\">missing</td><td style = \"font-style: italic; text-align: right;\">missing</td><td style = \"font-style: italic; text-align: right;\">missing</td><td style = \"font-style: italic; text-align: right;\">missing</td></tr><tr><td class = \"rowNumber\" style = \"font-weight: bold; text-align: right;\">6</td><td style = \"text-align: right;\">6</td><td style = \"text-align: right;\">1</td><td style = \"text-align: right;\">337</td><td style = \"font-style: italic; text-align: right;\">missing</td><td style = \"font-style: italic; text-align: right;\">missing</td><td style = \"font-style: italic; text-align: right;\">missing</td><td style = \"font-style: italic; text-align: right;\">missing</td></tr><tr><td class = \"rowNumber\" style = \"font-weight: bold; text-align: right;\">7</td><td style = \"text-align: right;\">7</td><td style = \"text-align: right;\">1</td><td style = \"text-align: right;\">174</td><td style = \"font-style: italic; text-align: right;\">missing</td><td style = \"font-style: italic; text-align: right;\">missing</td><td style = \"font-style: italic; text-align: right;\">missing</td><td style = \"font-style: italic; text-align: right;\">missing</td></tr><tr><td class = \"rowNumber\" style = \"font-weight: bold; text-align: right;\">8</td><td style = \"text-align: right;\">8</td><td style = \"text-align: right;\">1</td><td style = \"text-align: right;\">45</td><td style = \"font-style: italic; text-align: right;\">missing</td><td style = \"font-style: italic; text-align: right;\">missing</td><td style = \"font-style: italic; text-align: right;\">missing</td><td style = \"font-style: italic; text-align: right;\">missing</td></tr><tr><td class = \"rowNumber\" style = \"font-weight: bold; text-align: right;\">9</td><td style = \"text-align: right;\">9</td><td style = \"text-align: right;\">1</td><td style = \"text-align: right;\">590</td><td style = \"font-style: italic; text-align: right;\">missing</td><td style = \"font-style: italic; text-align: right;\">missing</td><td style = \"font-style: italic; text-align: right;\">missing</td><td style = \"font-style: italic; text-align: right;\">missing</td></tr><tr><td class = \"rowNumber\" style = \"font-weight: bold; text-align: right;\">10</td><td style = \"text-align: right;\">10</td><td style = \"text-align: right;\">1</td><td style = \"text-align: right;\">589</td><td style = \"font-style: italic; text-align: right;\">missing</td><td style = \"font-style: italic; text-align: right;\">missing</td><td style = \"font-style: italic; text-align: right;\">missing</td><td style = \"font-style: italic; text-align: right;\">missing</td></tr><tr><td class = \"rowNumber\" style = \"font-weight: bold; text-align: right;\">11</td><td style = \"text-align: right;\">11</td><td style = \"text-align: right;\">1</td><td style = \"text-align: right;\">210</td><td style = \"font-style: italic; text-align: right;\">missing</td><td style = \"font-style: italic; text-align: right;\">missing</td><td style = \"font-style: italic; text-align: right;\">missing</td><td style = \"font-style: italic; text-align: right;\">missing</td></tr><tr><td class = \"rowNumber\" style = \"font-weight: bold; text-align: right;\">12</td><td style = \"text-align: right;\">12</td><td style = \"text-align: right;\">1</td><td style = \"text-align: right;\">214</td><td style = \"font-style: italic; text-align: right;\">missing</td><td style = \"font-style: italic; text-align: right;\">missing</td><td style = \"font-style: italic; text-align: right;\">missing</td><td style = \"font-style: italic; text-align: right;\">missing</td></tr><tr><td class = \"rowNumber\" style = \"font-weight: bold; text-align: right;\">13</td><td style = \"text-align: right;\">13</td><td style = \"text-align: right;\">1</td><td style = \"text-align: right;\">78</td><td style = \"font-style: italic; text-align: right;\">missing</td><td style = \"font-style: italic; text-align: right;\">missing</td><td style = \"font-style: italic; text-align: right;\">missing</td><td style = \"font-style: italic; text-align: right;\">missing</td></tr><tr><td style = \"text-align: right;\">&vellip;</td><td style = \"text-align: right;\">&vellip;</td><td style = \"text-align: right;\">&vellip;</td><td style = \"text-align: right;\">&vellip;</td><td style = \"text-align: right;\">&vellip;</td><td style = \"text-align: right;\">&vellip;</td><td style = \"text-align: right;\">&vellip;</td><td style = \"text-align: right;\">&vellip;</td></tr><tr><td class = \"rowNumber\" style = \"font-weight: bold; text-align: right;\">71</td><td style = \"text-align: right;\">71</td><td style = \"text-align: right;\">4</td><td style = \"text-align: right;\">162</td><td style = \"font-style: italic; text-align: right;\">450</td><td style = \"font-style: italic; text-align: right;\">57</td><td style = \"font-style: italic; text-align: right;\">missing</td><td style = \"font-style: italic; text-align: right;\">missing</td></tr><tr><td class = \"rowNumber\" style = \"font-weight: bold; text-align: right;\">72</td><td style = \"text-align: right;\">72</td><td style = \"text-align: right;\">4</td><td style = \"text-align: right;\">166</td><td style = \"font-style: italic; text-align: right;\">454</td><td style = \"font-style: italic; text-align: right;\">missing</td><td style = \"font-style: italic; text-align: right;\">missing</td><td style = \"font-style: italic; text-align: right;\">missing</td></tr><tr><td class = \"rowNumber\" style = \"font-weight: bold; text-align: right;\">73</td><td style = \"text-align: right;\">73</td><td style = \"text-align: right;\">4</td><td style = \"text-align: right;\">310</td><td style = \"font-style: italic; text-align: right;\">missing</td><td style = \"font-style: italic; text-align: right;\">564</td><td style = \"font-style: italic; text-align: right;\">585</td><td style = \"font-style: italic; text-align: right;\">missing</td></tr><tr><td class = \"rowNumber\" style = \"font-weight: bold; text-align: right;\">74</td><td style = \"text-align: right;\">74</td><td style = \"text-align: right;\">4</td><td style = \"text-align: right;\">114</td><td style = \"font-style: italic; text-align: right;\">402</td><td style = \"font-style: italic; text-align: right;\">missing</td><td style = \"font-style: italic; text-align: right;\">missing</td><td style = \"font-style: italic; text-align: right;\">missing</td></tr><tr><td class = \"rowNumber\" style = \"font-weight: bold; text-align: right;\">75</td><td style = \"text-align: right;\">75</td><td style = \"text-align: right;\">4</td><td style = \"text-align: right;\">86</td><td style = \"font-style: italic; text-align: right;\">366</td><td style = \"font-style: italic; text-align: right;\">562</td><td style = \"font-style: italic; text-align: right;\">568</td><td style = \"font-style: italic; text-align: right;\">missing</td></tr><tr><td class = \"rowNumber\" style = \"font-weight: bold; text-align: right;\">76</td><td style = \"text-align: right;\">76</td><td style = \"text-align: right;\">4</td><td style = \"text-align: right;\">126</td><td style = \"font-style: italic; text-align: right;\">438</td><td style = \"font-style: italic; text-align: right;\">18</td><td style = \"font-style: italic; text-align: right;\">missing</td><td style = \"font-style: italic; text-align: right;\">missing</td></tr><tr><td class = \"rowNumber\" style = \"font-weight: bold; text-align: right;\">77</td><td style = \"text-align: right;\">77</td><td style = \"text-align: right;\">4</td><td style = \"text-align: right;\">186</td><td style = \"font-style: italic; text-align: right;\">478</td><td style = \"font-style: italic; text-align: right;\">missing</td><td style = \"font-style: italic; text-align: right;\">missing</td><td style = \"font-style: italic; text-align: right;\">missing</td></tr><tr><td class = \"rowNumber\" style = \"font-weight: bold; text-align: right;\">78</td><td style = \"text-align: right;\">78</td><td style = \"text-align: right;\">5</td><td style = \"text-align: right;\">354</td><td style = \"font-style: italic; text-align: right;\">missing</td><td style = \"font-style: italic; text-align: right;\">561</td><td style = \"font-style: italic; text-align: right;\">566</td><td style = \"font-style: italic; text-align: right;\">missing</td></tr><tr><td class = \"rowNumber\" style = \"font-weight: bold; text-align: right;\">79</td><td style = \"text-align: right;\">79</td><td style = \"text-align: right;\">5</td><td style = \"text-align: right;\">194</td><td style = \"font-style: italic; text-align: right;\">442</td><td style = \"font-style: italic; text-align: right;\">missing</td><td style = \"font-style: italic; text-align: right;\">missing</td><td style = \"font-style: italic; text-align: right;\">missing</td></tr><tr><td class = \"rowNumber\" style = \"font-weight: bold; text-align: right;\">80</td><td style = \"text-align: right;\">80</td><td style = \"text-align: right;\">5</td><td style = \"text-align: right;\">202</td><td style = \"font-style: italic; text-align: right;\">missing</td><td style = \"font-style: italic; text-align: right;\">missing</td><td style = \"font-style: italic; text-align: right;\">missing</td><td style = \"font-style: italic; text-align: right;\">missing</td></tr><tr><td class = \"rowNumber\" style = \"font-weight: bold; text-align: right;\">81</td><td style = \"text-align: right;\">81</td><td style = \"text-align: right;\">5</td><td style = \"text-align: right;\">198</td><td style = \"font-style: italic; text-align: right;\">466</td><td style = \"font-style: italic; text-align: right;\">missing</td><td style = \"font-style: italic; text-align: right;\">missing</td><td style = \"font-style: italic; text-align: right;\">missing</td></tr><tr><td class = \"rowNumber\" style = \"font-weight: bold; text-align: right;\">82</td><td style = \"text-align: right;\">82</td><td style = \"text-align: right;\">5</td><td style = \"text-align: right;\">206</td><td style = \"font-style: italic; text-align: right;\">missing</td><td style = \"font-style: italic; text-align: right;\">missing</td><td style = \"font-style: italic; text-align: right;\">missing</td><td style = \"font-style: italic; text-align: right;\">missing</td></tr></tbody></table></div>"
      ],
      "text/latex": [
       "\\begin{tabular}{r|ccccccc}\n",
       "\t& id & agg\\_hh\\_id & head\\_id & partner\\_id & child1\\_id & child2\\_id & child3\\_id\\\\\n",
       "\t\\hline\n",
       "\t& Int64 & Int64? & Int64? & Int64? & Int64? & Int64? & Int64?\\\\\n",
       "\t\\hline\n",
       "\t1 & 1 & 1 & 563 & \\emph{missing} & \\emph{missing} & \\emph{missing} & \\emph{missing} \\\\\n",
       "\t2 & 2 & 1 & 2 & \\emph{missing} & \\emph{missing} & \\emph{missing} & \\emph{missing} \\\\\n",
       "\t3 & 3 & 1 & 470 & \\emph{missing} & \\emph{missing} & \\emph{missing} & \\emph{missing} \\\\\n",
       "\t4 & 4 & 1 & 565 & \\emph{missing} & \\emph{missing} & \\emph{missing} & \\emph{missing} \\\\\n",
       "\t5 & 5 & 1 & 581 & \\emph{missing} & \\emph{missing} & \\emph{missing} & \\emph{missing} \\\\\n",
       "\t6 & 6 & 1 & 337 & \\emph{missing} & \\emph{missing} & \\emph{missing} & \\emph{missing} \\\\\n",
       "\t7 & 7 & 1 & 174 & \\emph{missing} & \\emph{missing} & \\emph{missing} & \\emph{missing} \\\\\n",
       "\t8 & 8 & 1 & 45 & \\emph{missing} & \\emph{missing} & \\emph{missing} & \\emph{missing} \\\\\n",
       "\t9 & 9 & 1 & 590 & \\emph{missing} & \\emph{missing} & \\emph{missing} & \\emph{missing} \\\\\n",
       "\t10 & 10 & 1 & 589 & \\emph{missing} & \\emph{missing} & \\emph{missing} & \\emph{missing} \\\\\n",
       "\t11 & 11 & 1 & 210 & \\emph{missing} & \\emph{missing} & \\emph{missing} & \\emph{missing} \\\\\n",
       "\t12 & 12 & 1 & 214 & \\emph{missing} & \\emph{missing} & \\emph{missing} & \\emph{missing} \\\\\n",
       "\t13 & 13 & 1 & 78 & \\emph{missing} & \\emph{missing} & \\emph{missing} & \\emph{missing} \\\\\n",
       "\t14 & 14 & 1 & 588 & \\emph{missing} & \\emph{missing} & \\emph{missing} & \\emph{missing} \\\\\n",
       "\t15 & 15 & 1 & 41 & \\emph{missing} & \\emph{missing} & \\emph{missing} & \\emph{missing} \\\\\n",
       "\t16 & 16 & 1 & 570 & \\emph{missing} & \\emph{missing} & \\emph{missing} & \\emph{missing} \\\\\n",
       "\t17 & 17 & 1 & 587 & \\emph{missing} & \\emph{missing} & \\emph{missing} & \\emph{missing} \\\\\n",
       "\t18 & 18 & 1 & 398 & \\emph{missing} & \\emph{missing} & \\emph{missing} & \\emph{missing} \\\\\n",
       "\t19 & 19 & 1 & 582 & \\emph{missing} & \\emph{missing} & \\emph{missing} & \\emph{missing} \\\\\n",
       "\t20 & 20 & 1 & 325 & \\emph{missing} & \\emph{missing} & \\emph{missing} & \\emph{missing} \\\\\n",
       "\t21 & 21 & 1 & 329 & \\emph{missing} & \\emph{missing} & \\emph{missing} & \\emph{missing} \\\\\n",
       "\t22 & 22 & 1 & 333 & \\emph{missing} & \\emph{missing} & \\emph{missing} & \\emph{missing} \\\\\n",
       "\t23 & 23 & 1 & 290 & \\emph{missing} & \\emph{missing} & \\emph{missing} & \\emph{missing} \\\\\n",
       "\t24 & 24 & 1 & 218 & \\emph{missing} & \\emph{missing} & \\emph{missing} & \\emph{missing} \\\\\n",
       "\t$\\dots$ & $\\dots$ & $\\dots$ & $\\dots$ & $\\dots$ & $\\dots$ & $\\dots$ & $\\dots$ \\\\\n",
       "\\end{tabular}\n"
      ],
      "text/plain": [
       "\u001b[1m82×7 DataFrame\u001b[0m\n",
       "\u001b[1m Row \u001b[0m│\u001b[1m id    \u001b[0m\u001b[1m agg_hh_id \u001b[0m\u001b[1m head_id \u001b[0m\u001b[1m partner_id \u001b[0m\u001b[1m child1_id \u001b[0m\u001b[1m child2_id \u001b[0m\u001b[1m child3_id \u001b[0m\n",
       "     │\u001b[90m Int64 \u001b[0m\u001b[90m Int64?    \u001b[0m\u001b[90m Int64?  \u001b[0m\u001b[90m Int64?     \u001b[0m\u001b[90m Int64?    \u001b[0m\u001b[90m Int64?    \u001b[0m\u001b[90m Int64?    \u001b[0m\n",
       "─────┼────────────────────────────────────────────────────────────────────────\n",
       "   1 │     1          1      563 \u001b[90m    missing \u001b[0m\u001b[90m   missing \u001b[0m\u001b[90m   missing \u001b[0m\u001b[90m   missing \u001b[0m\n",
       "   2 │     2          1        2 \u001b[90m    missing \u001b[0m\u001b[90m   missing \u001b[0m\u001b[90m   missing \u001b[0m\u001b[90m   missing \u001b[0m\n",
       "   3 │     3          1      470 \u001b[90m    missing \u001b[0m\u001b[90m   missing \u001b[0m\u001b[90m   missing \u001b[0m\u001b[90m   missing \u001b[0m\n",
       "   4 │     4          1      565 \u001b[90m    missing \u001b[0m\u001b[90m   missing \u001b[0m\u001b[90m   missing \u001b[0m\u001b[90m   missing \u001b[0m\n",
       "   5 │     5          1      581 \u001b[90m    missing \u001b[0m\u001b[90m   missing \u001b[0m\u001b[90m   missing \u001b[0m\u001b[90m   missing \u001b[0m\n",
       "   6 │     6          1      337 \u001b[90m    missing \u001b[0m\u001b[90m   missing \u001b[0m\u001b[90m   missing \u001b[0m\u001b[90m   missing \u001b[0m\n",
       "   7 │     7          1      174 \u001b[90m    missing \u001b[0m\u001b[90m   missing \u001b[0m\u001b[90m   missing \u001b[0m\u001b[90m   missing \u001b[0m\n",
       "   8 │     8          1       45 \u001b[90m    missing \u001b[0m\u001b[90m   missing \u001b[0m\u001b[90m   missing \u001b[0m\u001b[90m   missing \u001b[0m\n",
       "  ⋮  │   ⋮        ⋮         ⋮         ⋮           ⋮          ⋮          ⋮\n",
       "  76 │    76          4      126         438         18 \u001b[90m   missing \u001b[0m\u001b[90m   missing \u001b[0m\n",
       "  77 │    77          4      186         478 \u001b[90m   missing \u001b[0m\u001b[90m   missing \u001b[0m\u001b[90m   missing \u001b[0m\n",
       "  78 │    78          5      354 \u001b[90m    missing \u001b[0m       561        566 \u001b[90m   missing \u001b[0m\n",
       "  79 │    79          5      194         442 \u001b[90m   missing \u001b[0m\u001b[90m   missing \u001b[0m\u001b[90m   missing \u001b[0m\n",
       "  80 │    80          5      202 \u001b[90m    missing \u001b[0m\u001b[90m   missing \u001b[0m\u001b[90m   missing \u001b[0m\u001b[90m   missing \u001b[0m\n",
       "  81 │    81          5      198         466 \u001b[90m   missing \u001b[0m\u001b[90m   missing \u001b[0m\u001b[90m   missing \u001b[0m\n",
       "  82 │    82          5      206 \u001b[90m    missing \u001b[0m\u001b[90m   missing \u001b[0m\u001b[90m   missing \u001b[0m\u001b[90m   missing \u001b[0m\n",
       "\u001b[36m                                                               67 rows omitted\u001b[0m"
      ]
     },
     "metadata": {},
     "output_type": "display_data"
    }
   ],
   "source": [
    "disaggregated_households"
   ]
  },
  {
   "cell_type": "markdown",
   "metadata": {},
   "source": [
    "### See the full output of allocation (join of disaggrgated_households with aggregated_individuals)"
   ]
  },
  {
   "cell_type": "code",
   "execution_count": 12,
   "metadata": {},
   "outputs": [
    {
     "data": {
      "text/html": [
       "<div><div style = \"float: left;\"><span>82×32 DataFrame</span></div><div style = \"float: right;\"><span style = \"font-style: italic;\">57 rows omitted</span></div><div style = \"clear: both;\"></div></div><div class = \"data-frame\" style = \"overflow-x: scroll;\"><table class = \"data-frame\" style = \"margin-bottom: 6px;\"><thead><tr class = \"header\"><th class = \"rowNumber\" style = \"font-weight: bold; text-align: right;\">Row</th><th style = \"text-align: left;\">id</th><th style = \"text-align: left;\">agg_hh_id</th><th style = \"text-align: left;\">head_id</th><th style = \"text-align: left;\">partner_id</th><th style = \"text-align: left;\">child1_id</th><th style = \"text-align: left;\">child2_id</th><th style = \"text-align: left;\">child3_id</th><th style = \"text-align: left;\">head_maritalstatus</th><th style = \"text-align: left;\">head_income</th><th style = \"text-align: left;\">head_sex</th><th style = \"text-align: left;\">head_age</th><th style = \"text-align: left;\">head_population</th><th style = \"text-align: left;\">partner_maritalstatus</th><th style = \"text-align: left;\">partner_income</th><th style = \"text-align: left;\">partner_sex</th><th style = \"text-align: left;\">partner_age</th><th style = \"text-align: left;\">partner_population</th><th style = \"text-align: left;\">child1_maritalstatus</th><th style = \"text-align: left;\">child1_income</th><th style = \"text-align: left;\">child1_sex</th><th style = \"text-align: left;\">child1_age</th><th style = \"text-align: left;\">child1_population</th><th style = \"text-align: left;\">child2_maritalstatus</th><th style = \"text-align: left;\">child2_income</th><th style = \"text-align: left;\">child2_sex</th><th style = \"text-align: left;\">child2_age</th><th style = \"text-align: left;\">child2_population</th><th style = \"text-align: left;\">child3_maritalstatus</th><th style = \"text-align: left;\">child3_income</th><th style = \"text-align: left;\">child3_sex</th><th style = \"text-align: left;\">child3_age</th><th style = \"text-align: left;\">child3_population</th></tr><tr class = \"subheader headerLastRow\"><th class = \"rowNumber\" style = \"font-weight: bold; text-align: right;\"></th><th title = \"Int64\" style = \"text-align: left;\">Int64</th><th title = \"Union{Missing, Int64}\" style = \"text-align: left;\">Int64?</th><th title = \"Union{Missing, Int64}\" style = \"text-align: left;\">Int64?</th><th title = \"Union{Missing, Int64}\" style = \"text-align: left;\">Int64?</th><th title = \"Union{Missing, Int64}\" style = \"text-align: left;\">Int64?</th><th title = \"Union{Missing, Int64}\" style = \"text-align: left;\">Int64?</th><th title = \"Union{Missing, Int64}\" style = \"text-align: left;\">Int64?</th><th title = \"Union{Missing, String}\" style = \"text-align: left;\">String?</th><th title = \"Union{Missing, Int64}\" style = \"text-align: left;\">Int64?</th><th title = \"Union{Missing, Char}\" style = \"text-align: left;\">Char?</th><th title = \"Union{Missing, Int64}\" style = \"text-align: left;\">Int64?</th><th title = \"Union{Missing, Int64}\" style = \"text-align: left;\">Int64?</th><th title = \"Union{Missing, String}\" style = \"text-align: left;\">String?</th><th title = \"Union{Missing, Int64}\" style = \"text-align: left;\">Int64?</th><th title = \"Union{Missing, Char}\" style = \"text-align: left;\">Char?</th><th title = \"Union{Missing, Int64}\" style = \"text-align: left;\">Int64?</th><th title = \"Union{Missing, Int64}\" style = \"text-align: left;\">Int64?</th><th title = \"Union{Missing, String}\" style = \"text-align: left;\">String?</th><th title = \"Union{Missing, Int64}\" style = \"text-align: left;\">Int64?</th><th title = \"Union{Missing, Char}\" style = \"text-align: left;\">Char?</th><th title = \"Union{Missing, Int64}\" style = \"text-align: left;\">Int64?</th><th title = \"Union{Missing, Int64}\" style = \"text-align: left;\">Int64?</th><th title = \"Union{Missing, String}\" style = \"text-align: left;\">String?</th><th title = \"Union{Missing, Int64}\" style = \"text-align: left;\">Int64?</th><th title = \"Union{Missing, Char}\" style = \"text-align: left;\">Char?</th><th title = \"Union{Missing, Int64}\" style = \"text-align: left;\">Int64?</th><th title = \"Union{Missing, Int64}\" style = \"text-align: left;\">Int64?</th><th title = \"Union{Missing, String}\" style = \"text-align: left;\">String?</th><th title = \"Union{Missing, Int64}\" style = \"text-align: left;\">Int64?</th><th title = \"Union{Missing, Char}\" style = \"text-align: left;\">Char?</th><th title = \"Union{Missing, Int64}\" style = \"text-align: left;\">Int64?</th><th title = \"Union{Missing, Int64}\" style = \"text-align: left;\">Int64?</th></tr></thead><tbody><tr><td class = \"rowNumber\" style = \"font-weight: bold; text-align: right;\">1</td><td style = \"text-align: right;\">78</td><td style = \"text-align: right;\">5</td><td style = \"text-align: right;\">354</td><td style = \"font-style: italic; text-align: right;\">missing</td><td style = \"text-align: right;\">561</td><td style = \"text-align: right;\">566</td><td style = \"font-style: italic; text-align: right;\">missing</td><td style = \"text-align: left;\">Married</td><td style = \"text-align: right;\">88026</td><td style = \"text-align: left;\">M</td><td style = \"text-align: right;\">37</td><td style = \"text-align: right;\">2</td><td style = \"font-style: italic; text-align: left;\">missing</td><td style = \"font-style: italic; text-align: right;\">missing</td><td style = \"font-style: italic; text-align: left;\">missing</td><td style = \"font-style: italic; text-align: right;\">missing</td><td style = \"font-style: italic; text-align: right;\">missing</td><td style = \"font-style: italic; text-align: left;\">missing</td><td style = \"text-align: right;\">25394</td><td style = \"text-align: left;\">F</td><td style = \"text-align: right;\">2</td><td style = \"text-align: right;\">1</td><td style = \"font-style: italic; text-align: left;\">missing</td><td style = \"text-align: right;\">25394</td><td style = \"text-align: left;\">F</td><td style = \"text-align: right;\">7</td><td style = \"text-align: right;\">1</td><td style = \"font-style: italic; text-align: left;\">missing</td><td style = \"font-style: italic; text-align: right;\">missing</td><td style = \"font-style: italic; text-align: left;\">missing</td><td style = \"font-style: italic; text-align: right;\">missing</td><td style = \"font-style: italic; text-align: right;\">missing</td></tr><tr><td class = \"rowNumber\" style = \"font-weight: bold; text-align: right;\">2</td><td style = \"text-align: right;\">75</td><td style = \"text-align: right;\">4</td><td style = \"text-align: right;\">86</td><td style = \"text-align: right;\">366</td><td style = \"text-align: right;\">562</td><td style = \"text-align: right;\">568</td><td style = \"font-style: italic; text-align: right;\">missing</td><td style = \"text-align: left;\">Married</td><td style = \"text-align: right;\">44855</td><td style = \"text-align: left;\">F</td><td style = \"text-align: right;\">42</td><td style = \"text-align: right;\">1</td><td style = \"text-align: left;\">Married</td><td style = \"text-align: right;\">44855</td><td style = \"text-align: left;\">M</td><td style = \"text-align: right;\">42</td><td style = \"text-align: right;\">1</td><td style = \"font-style: italic; text-align: left;\">missing</td><td style = \"text-align: right;\">44855</td><td style = \"text-align: left;\">F</td><td style = \"text-align: right;\">2</td><td style = \"text-align: right;\">1</td><td style = \"font-style: italic; text-align: left;\">missing</td><td style = \"text-align: right;\">63969</td><td style = \"text-align: left;\">F</td><td style = \"text-align: right;\">7</td><td style = \"text-align: right;\">1</td><td style = \"font-style: italic; text-align: left;\">missing</td><td style = \"font-style: italic; text-align: right;\">missing</td><td style = \"font-style: italic; text-align: left;\">missing</td><td style = \"font-style: italic; text-align: right;\">missing</td><td style = \"font-style: italic; text-align: right;\">missing</td></tr><tr><td class = \"rowNumber\" style = \"font-weight: bold; text-align: right;\">3</td><td style = \"text-align: right;\">73</td><td style = \"text-align: right;\">4</td><td style = \"text-align: right;\">310</td><td style = \"font-style: italic; text-align: right;\">missing</td><td style = \"text-align: right;\">564</td><td style = \"text-align: right;\">585</td><td style = \"font-style: italic; text-align: right;\">missing</td><td style = \"text-align: left;\">Married</td><td style = \"text-align: right;\">63969</td><td style = \"text-align: left;\">M</td><td style = \"text-align: right;\">27</td><td style = \"text-align: right;\">1</td><td style = \"font-style: italic; text-align: left;\">missing</td><td style = \"font-style: italic; text-align: right;\">missing</td><td style = \"font-style: italic; text-align: left;\">missing</td><td style = \"font-style: italic; text-align: right;\">missing</td><td style = \"font-style: italic; text-align: right;\">missing</td><td style = \"font-style: italic; text-align: left;\">missing</td><td style = \"text-align: right;\">88026</td><td style = \"text-align: left;\">F</td><td style = \"text-align: right;\">2</td><td style = \"text-align: right;\">1</td><td style = \"font-style: italic; text-align: left;\">missing</td><td style = \"text-align: right;\">145915</td><td style = \"text-align: left;\">M</td><td style = \"text-align: right;\">2</td><td style = \"text-align: right;\">1</td><td style = \"font-style: italic; text-align: left;\">missing</td><td style = \"font-style: italic; text-align: right;\">missing</td><td style = \"font-style: italic; text-align: left;\">missing</td><td style = \"font-style: italic; text-align: right;\">missing</td><td style = \"font-style: italic; text-align: right;\">missing</td></tr><tr><td class = \"rowNumber\" style = \"font-weight: bold; text-align: right;\">4</td><td style = \"text-align: right;\">61</td><td style = \"text-align: right;\">3</td><td style = \"text-align: right;\">122</td><td style = \"text-align: right;\">410</td><td style = \"text-align: right;\">6</td><td style = \"font-style: italic; text-align: right;\">missing</td><td style = \"font-style: italic; text-align: right;\">missing</td><td style = \"text-align: left;\">Married</td><td style = \"text-align: right;\">25394</td><td style = \"text-align: left;\">F</td><td style = \"text-align: right;\">52</td><td style = \"text-align: right;\">1</td><td style = \"text-align: left;\">Married</td><td style = \"text-align: right;\">63969</td><td style = \"text-align: left;\">M</td><td style = \"text-align: right;\">52</td><td style = \"text-align: right;\">1</td><td style = \"text-align: left;\">Married</td><td style = \"text-align: right;\">44855</td><td style = \"text-align: left;\">F</td><td style = \"text-align: right;\">22</td><td style = \"text-align: right;\">1</td><td style = \"font-style: italic; text-align: left;\">missing</td><td style = \"font-style: italic; text-align: right;\">missing</td><td style = \"font-style: italic; text-align: left;\">missing</td><td style = \"font-style: italic; text-align: right;\">missing</td><td style = \"font-style: italic; text-align: right;\">missing</td><td style = \"font-style: italic; text-align: left;\">missing</td><td style = \"font-style: italic; text-align: right;\">missing</td><td style = \"font-style: italic; text-align: left;\">missing</td><td style = \"font-style: italic; text-align: right;\">missing</td><td style = \"font-style: italic; text-align: right;\">missing</td></tr><tr><td class = \"rowNumber\" style = \"font-weight: bold; text-align: right;\">5</td><td style = \"text-align: right;\">54</td><td style = \"text-align: right;\">3</td><td style = \"text-align: right;\">110</td><td style = \"text-align: right;\">382</td><td style = \"text-align: right;\">10</td><td style = \"font-style: italic; text-align: right;\">missing</td><td style = \"font-style: italic; text-align: right;\">missing</td><td style = \"text-align: left;\">Married</td><td style = \"text-align: right;\">63969</td><td style = \"text-align: left;\">F</td><td style = \"text-align: right;\">47</td><td style = \"text-align: right;\">1</td><td style = \"text-align: left;\">Married</td><td style = \"text-align: right;\">25394</td><td style = \"text-align: left;\">M</td><td style = \"text-align: right;\">47</td><td style = \"text-align: right;\">1</td><td style = \"text-align: left;\">Married</td><td style = \"text-align: right;\">63969</td><td style = \"text-align: left;\">F</td><td style = \"text-align: right;\">22</td><td style = \"text-align: right;\">1</td><td style = \"font-style: italic; text-align: left;\">missing</td><td style = \"font-style: italic; text-align: right;\">missing</td><td style = \"font-style: italic; text-align: left;\">missing</td><td style = \"font-style: italic; text-align: right;\">missing</td><td style = \"font-style: italic; text-align: right;\">missing</td><td style = \"font-style: italic; text-align: left;\">missing</td><td style = \"font-style: italic; text-align: right;\">missing</td><td style = \"font-style: italic; text-align: left;\">missing</td><td style = \"font-style: italic; text-align: right;\">missing</td><td style = \"font-style: italic; text-align: right;\">missing</td></tr><tr><td class = \"rowNumber\" style = \"font-weight: bold; text-align: right;\">6</td><td style = \"text-align: right;\">64</td><td style = \"text-align: right;\">3</td><td style = \"text-align: right;\">134</td><td style = \"text-align: right;\">422</td><td style = \"text-align: right;\">14</td><td style = \"font-style: italic; text-align: right;\">missing</td><td style = \"font-style: italic; text-align: right;\">missing</td><td style = \"text-align: left;\">Married</td><td style = \"text-align: right;\">88026</td><td style = \"text-align: left;\">F</td><td style = \"text-align: right;\">52</td><td style = \"text-align: right;\">1</td><td style = \"text-align: left;\">Married</td><td style = \"text-align: right;\">25394</td><td style = \"text-align: left;\">M</td><td style = \"text-align: right;\">57</td><td style = \"text-align: right;\">1</td><td style = \"text-align: left;\">Married</td><td style = \"text-align: right;\">88026</td><td style = \"text-align: left;\">F</td><td style = \"text-align: right;\">22</td><td style = \"text-align: right;\">1</td><td style = \"font-style: italic; text-align: left;\">missing</td><td style = \"font-style: italic; text-align: right;\">missing</td><td style = \"font-style: italic; text-align: left;\">missing</td><td style = \"font-style: italic; text-align: right;\">missing</td><td style = \"font-style: italic; text-align: right;\">missing</td><td style = \"font-style: italic; text-align: left;\">missing</td><td style = \"font-style: italic; text-align: right;\">missing</td><td style = \"font-style: italic; text-align: left;\">missing</td><td style = \"font-style: italic; text-align: right;\">missing</td><td style = \"font-style: italic; text-align: right;\">missing</td></tr><tr><td class = \"rowNumber\" style = \"font-weight: bold; text-align: right;\">7</td><td style = \"text-align: right;\">76</td><td style = \"text-align: right;\">4</td><td style = \"text-align: right;\">126</td><td style = \"text-align: right;\">438</td><td style = \"text-align: right;\">18</td><td style = \"font-style: italic; text-align: right;\">missing</td><td style = \"font-style: italic; text-align: right;\">missing</td><td style = \"text-align: left;\">Married</td><td style = \"text-align: right;\">44855</td><td style = \"text-align: left;\">F</td><td style = \"text-align: right;\">52</td><td style = \"text-align: right;\">1</td><td style = \"text-align: left;\">Married</td><td style = \"text-align: right;\">145915</td><td style = \"text-align: left;\">M</td><td style = \"text-align: right;\">57</td><td style = \"text-align: right;\">1</td><td style = \"text-align: left;\">Married</td><td style = \"text-align: right;\">145915</td><td style = \"text-align: left;\">F</td><td style = \"text-align: right;\">22</td><td style = \"text-align: right;\">1</td><td style = \"font-style: italic; text-align: left;\">missing</td><td style = \"font-style: italic; text-align: right;\">missing</td><td style = \"font-style: italic; text-align: left;\">missing</td><td style = \"font-style: italic; text-align: right;\">missing</td><td style = \"font-style: italic; text-align: right;\">missing</td><td style = \"font-style: italic; text-align: left;\">missing</td><td style = \"font-style: italic; text-align: right;\">missing</td><td style = \"font-style: italic; text-align: left;\">missing</td><td style = \"font-style: italic; text-align: right;\">missing</td><td style = \"font-style: italic; text-align: right;\">missing</td></tr><tr><td class = \"rowNumber\" style = \"font-weight: bold; text-align: right;\">8</td><td style = \"text-align: right;\">56</td><td style = \"text-align: right;\">3</td><td style = \"text-align: right;\">182</td><td style = \"text-align: right;\">474</td><td style = \"text-align: right;\">49</td><td style = \"font-style: italic; text-align: right;\">missing</td><td style = \"font-style: italic; text-align: right;\">missing</td><td style = \"text-align: left;\">Married</td><td style = \"text-align: right;\">25394</td><td style = \"text-align: left;\">F</td><td style = \"text-align: right;\">67</td><td style = \"text-align: right;\">1</td><td style = \"text-align: left;\">Married</td><td style = \"text-align: right;\">88026</td><td style = \"text-align: left;\">M</td><td style = \"text-align: right;\">67</td><td style = \"text-align: right;\">1</td><td style = \"text-align: left;\">Divorced</td><td style = \"text-align: right;\">63969</td><td style = \"text-align: left;\">F</td><td style = \"text-align: right;\">32</td><td style = \"text-align: right;\">1</td><td style = \"font-style: italic; text-align: left;\">missing</td><td style = \"font-style: italic; text-align: right;\">missing</td><td style = \"font-style: italic; text-align: left;\">missing</td><td style = \"font-style: italic; text-align: right;\">missing</td><td style = \"font-style: italic; text-align: right;\">missing</td><td style = \"font-style: italic; text-align: left;\">missing</td><td style = \"font-style: italic; text-align: right;\">missing</td><td style = \"font-style: italic; text-align: left;\">missing</td><td style = \"font-style: italic; text-align: right;\">missing</td><td style = \"font-style: italic; text-align: right;\">missing</td></tr><tr><td class = \"rowNumber\" style = \"font-weight: bold; text-align: right;\">9</td><td style = \"text-align: right;\">66</td><td style = \"text-align: right;\">3</td><td style = \"text-align: right;\">142</td><td style = \"text-align: right;\">430</td><td style = \"text-align: right;\">53</td><td style = \"font-style: italic; text-align: right;\">missing</td><td style = \"font-style: italic; text-align: right;\">missing</td><td style = \"text-align: left;\">Married</td><td style = \"text-align: right;\">25394</td><td style = \"text-align: left;\">F</td><td style = \"text-align: right;\">57</td><td style = \"text-align: right;\">1</td><td style = \"text-align: left;\">Married</td><td style = \"text-align: right;\">63969</td><td style = \"text-align: left;\">M</td><td style = \"text-align: right;\">57</td><td style = \"text-align: right;\">1</td><td style = \"text-align: left;\">Divorced</td><td style = \"text-align: right;\">88026</td><td style = \"text-align: left;\">F</td><td style = \"text-align: right;\">32</td><td style = \"text-align: right;\">1</td><td style = \"font-style: italic; text-align: left;\">missing</td><td style = \"font-style: italic; text-align: right;\">missing</td><td style = \"font-style: italic; text-align: left;\">missing</td><td style = \"font-style: italic; text-align: right;\">missing</td><td style = \"font-style: italic; text-align: right;\">missing</td><td style = \"font-style: italic; text-align: left;\">missing</td><td style = \"font-style: italic; text-align: right;\">missing</td><td style = \"font-style: italic; text-align: left;\">missing</td><td style = \"font-style: italic; text-align: right;\">missing</td><td style = \"font-style: italic; text-align: right;\">missing</td></tr><tr><td class = \"rowNumber\" style = \"font-weight: bold; text-align: right;\">10</td><td style = \"text-align: right;\">71</td><td style = \"text-align: right;\">4</td><td style = \"text-align: right;\">162</td><td style = \"text-align: right;\">450</td><td style = \"text-align: right;\">57</td><td style = \"font-style: italic; text-align: right;\">missing</td><td style = \"font-style: italic; text-align: right;\">missing</td><td style = \"text-align: left;\">Married</td><td style = \"text-align: right;\">25394</td><td style = \"text-align: left;\">F</td><td style = \"text-align: right;\">62</td><td style = \"text-align: right;\">1</td><td style = \"text-align: left;\">Married</td><td style = \"text-align: right;\">63969</td><td style = \"text-align: left;\">M</td><td style = \"text-align: right;\">62</td><td style = \"text-align: right;\">1</td><td style = \"text-align: left;\">Divorced</td><td style = \"text-align: right;\">145915</td><td style = \"text-align: left;\">F</td><td style = \"text-align: right;\">32</td><td style = \"text-align: right;\">1</td><td style = \"font-style: italic; text-align: left;\">missing</td><td style = \"font-style: italic; text-align: right;\">missing</td><td style = \"font-style: italic; text-align: left;\">missing</td><td style = \"font-style: italic; text-align: right;\">missing</td><td style = \"font-style: italic; text-align: right;\">missing</td><td style = \"font-style: italic; text-align: left;\">missing</td><td style = \"font-style: italic; text-align: right;\">missing</td><td style = \"font-style: italic; text-align: left;\">missing</td><td style = \"font-style: italic; text-align: right;\">missing</td><td style = \"font-style: italic; text-align: right;\">missing</td></tr><tr><td class = \"rowNumber\" style = \"font-weight: bold; text-align: right;\">11</td><td style = \"text-align: right;\">62</td><td style = \"text-align: right;\">3</td><td style = \"text-align: right;\">138</td><td style = \"text-align: right;\">414</td><td style = \"text-align: right;\">282</td><td style = \"font-style: italic; text-align: right;\">missing</td><td style = \"font-style: italic; text-align: right;\">missing</td><td style = \"text-align: left;\">Married</td><td style = \"text-align: right;\">145915</td><td style = \"text-align: left;\">F</td><td style = \"text-align: right;\">52</td><td style = \"text-align: right;\">1</td><td style = \"text-align: left;\">Married</td><td style = \"text-align: right;\">88026</td><td style = \"text-align: left;\">M</td><td style = \"text-align: right;\">52</td><td style = \"text-align: right;\">1</td><td style = \"text-align: left;\">Married</td><td style = \"text-align: right;\">25394</td><td style = \"text-align: left;\">M</td><td style = \"text-align: right;\">22</td><td style = \"text-align: right;\">1</td><td style = \"font-style: italic; text-align: left;\">missing</td><td style = \"font-style: italic; text-align: right;\">missing</td><td style = \"font-style: italic; text-align: left;\">missing</td><td style = \"font-style: italic; text-align: right;\">missing</td><td style = \"font-style: italic; text-align: right;\">missing</td><td style = \"font-style: italic; text-align: left;\">missing</td><td style = \"font-style: italic; text-align: right;\">missing</td><td style = \"font-style: italic; text-align: left;\">missing</td><td style = \"font-style: italic; text-align: right;\">missing</td><td style = \"font-style: italic; text-align: right;\">missing</td></tr><tr><td class = \"rowNumber\" style = \"font-weight: bold; text-align: right;\">12</td><td style = \"text-align: right;\">60</td><td style = \"text-align: right;\">3</td><td style = \"text-align: right;\">118</td><td style = \"text-align: right;\">406</td><td style = \"text-align: right;\">286</td><td style = \"font-style: italic; text-align: right;\">missing</td><td style = \"font-style: italic; text-align: right;\">missing</td><td style = \"text-align: left;\">Married</td><td style = \"text-align: right;\">145915</td><td style = \"text-align: left;\">F</td><td style = \"text-align: right;\">47</td><td style = \"text-align: right;\">1</td><td style = \"text-align: left;\">Married</td><td style = \"text-align: right;\">44855</td><td style = \"text-align: left;\">M</td><td style = \"text-align: right;\">52</td><td style = \"text-align: right;\">1</td><td style = \"text-align: left;\">Married</td><td style = \"text-align: right;\">44855</td><td style = \"text-align: left;\">M</td><td style = \"text-align: right;\">22</td><td style = \"text-align: right;\">1</td><td style = \"font-style: italic; text-align: left;\">missing</td><td style = \"font-style: italic; text-align: right;\">missing</td><td style = \"font-style: italic; text-align: left;\">missing</td><td style = \"font-style: italic; text-align: right;\">missing</td><td style = \"font-style: italic; text-align: right;\">missing</td><td style = \"font-style: italic; text-align: left;\">missing</td><td style = \"font-style: italic; text-align: right;\">missing</td><td style = \"font-style: italic; text-align: left;\">missing</td><td style = \"font-style: italic; text-align: right;\">missing</td><td style = \"font-style: italic; text-align: right;\">missing</td></tr><tr><td class = \"rowNumber\" style = \"font-weight: bold; text-align: right;\">13</td><td style = \"text-align: right;\">67</td><td style = \"text-align: right;\">3</td><td style = \"text-align: right;\">146</td><td style = \"text-align: right;\">434</td><td style = \"text-align: right;\">294</td><td style = \"font-style: italic; text-align: right;\">missing</td><td style = \"font-style: italic; text-align: right;\">missing</td><td style = \"text-align: left;\">Married</td><td style = \"text-align: right;\">44855</td><td style = \"text-align: left;\">F</td><td style = \"text-align: right;\">57</td><td style = \"text-align: right;\">1</td><td style = \"text-align: left;\">Married</td><td style = \"text-align: right;\">88026</td><td style = \"text-align: left;\">M</td><td style = \"text-align: right;\">57</td><td style = \"text-align: right;\">1</td><td style = \"text-align: left;\">Married</td><td style = \"text-align: right;\">88026</td><td style = \"text-align: left;\">M</td><td style = \"text-align: right;\">22</td><td style = \"text-align: right;\">1</td><td style = \"font-style: italic; text-align: left;\">missing</td><td style = \"font-style: italic; text-align: right;\">missing</td><td style = \"font-style: italic; text-align: left;\">missing</td><td style = \"font-style: italic; text-align: right;\">missing</td><td style = \"font-style: italic; text-align: right;\">missing</td><td style = \"font-style: italic; text-align: left;\">missing</td><td style = \"font-style: italic; text-align: right;\">missing</td><td style = \"font-style: italic; text-align: left;\">missing</td><td style = \"font-style: italic; text-align: right;\">missing</td><td style = \"font-style: italic; text-align: right;\">missing</td></tr><tr><td style = \"text-align: right;\">&vellip;</td><td style = \"text-align: right;\">&vellip;</td><td style = \"text-align: right;\">&vellip;</td><td style = \"text-align: right;\">&vellip;</td><td style = \"text-align: right;\">&vellip;</td><td style = \"text-align: right;\">&vellip;</td><td style = \"text-align: right;\">&vellip;</td><td style = \"text-align: right;\">&vellip;</td><td style = \"text-align: right;\">&vellip;</td><td style = \"text-align: right;\">&vellip;</td><td style = \"text-align: right;\">&vellip;</td><td style = \"text-align: right;\">&vellip;</td><td style = \"text-align: right;\">&vellip;</td><td style = \"text-align: right;\">&vellip;</td><td style = \"text-align: right;\">&vellip;</td><td style = \"text-align: right;\">&vellip;</td><td style = \"text-align: right;\">&vellip;</td><td style = \"text-align: right;\">&vellip;</td><td style = \"text-align: right;\">&vellip;</td><td style = \"text-align: right;\">&vellip;</td><td style = \"text-align: right;\">&vellip;</td><td style = \"text-align: right;\">&vellip;</td><td style = \"text-align: right;\">&vellip;</td><td style = \"text-align: right;\">&vellip;</td><td style = \"text-align: right;\">&vellip;</td><td style = \"text-align: right;\">&vellip;</td><td style = \"text-align: right;\">&vellip;</td><td style = \"text-align: right;\">&vellip;</td><td style = \"text-align: right;\">&vellip;</td><td style = \"text-align: right;\">&vellip;</td><td style = \"text-align: right;\">&vellip;</td><td style = \"text-align: right;\">&vellip;</td><td style = \"text-align: right;\">&vellip;</td></tr><tr><td class = \"rowNumber\" style = \"font-weight: bold; text-align: right;\">71</td><td style = \"text-align: right;\">6</td><td style = \"text-align: right;\">1</td><td style = \"text-align: right;\">337</td><td style = \"font-style: italic; text-align: right;\">missing</td><td style = \"text-align: right;\">missing</td><td style = \"font-style: italic; text-align: right;\">missing</td><td style = \"font-style: italic; text-align: right;\">missing</td><td style = \"text-align: left;\">Divorced</td><td style = \"text-align: right;\">145915</td><td style = \"text-align: left;\">M</td><td style = \"text-align: right;\">32</td><td style = \"text-align: right;\">1</td><td style = \"font-style: italic; text-align: left;\">missing</td><td style = \"font-style: italic; text-align: right;\">missing</td><td style = \"font-style: italic; text-align: left;\">missing</td><td style = \"font-style: italic; text-align: right;\">missing</td><td style = \"font-style: italic; text-align: right;\">missing</td><td style = \"text-align: left;\">missing</td><td style = \"text-align: right;\">missing</td><td style = \"text-align: left;\">missing</td><td style = \"text-align: right;\">missing</td><td style = \"text-align: right;\">missing</td><td style = \"font-style: italic; text-align: left;\">missing</td><td style = \"font-style: italic; text-align: right;\">missing</td><td style = \"font-style: italic; text-align: left;\">missing</td><td style = \"font-style: italic; text-align: right;\">missing</td><td style = \"font-style: italic; text-align: right;\">missing</td><td style = \"font-style: italic; text-align: left;\">missing</td><td style = \"font-style: italic; text-align: right;\">missing</td><td style = \"font-style: italic; text-align: left;\">missing</td><td style = \"font-style: italic; text-align: right;\">missing</td><td style = \"font-style: italic; text-align: right;\">missing</td></tr><tr><td class = \"rowNumber\" style = \"font-weight: bold; text-align: right;\">72</td><td style = \"text-align: right;\">18</td><td style = \"text-align: right;\">1</td><td style = \"text-align: right;\">398</td><td style = \"font-style: italic; text-align: right;\">missing</td><td style = \"text-align: right;\">missing</td><td style = \"font-style: italic; text-align: right;\">missing</td><td style = \"font-style: italic; text-align: right;\">missing</td><td style = \"text-align: left;\">Married</td><td style = \"text-align: right;\">145915</td><td style = \"text-align: left;\">M</td><td style = \"text-align: right;\">47</td><td style = \"text-align: right;\">1</td><td style = \"font-style: italic; text-align: left;\">missing</td><td style = \"font-style: italic; text-align: right;\">missing</td><td style = \"font-style: italic; text-align: left;\">missing</td><td style = \"font-style: italic; text-align: right;\">missing</td><td style = \"font-style: italic; text-align: right;\">missing</td><td style = \"text-align: left;\">missing</td><td style = \"text-align: right;\">missing</td><td style = \"text-align: left;\">missing</td><td style = \"text-align: right;\">missing</td><td style = \"text-align: right;\">missing</td><td style = \"font-style: italic; text-align: left;\">missing</td><td style = \"font-style: italic; text-align: right;\">missing</td><td style = \"font-style: italic; text-align: left;\">missing</td><td style = \"font-style: italic; text-align: right;\">missing</td><td style = \"font-style: italic; text-align: right;\">missing</td><td style = \"font-style: italic; text-align: left;\">missing</td><td style = \"font-style: italic; text-align: right;\">missing</td><td style = \"font-style: italic; text-align: left;\">missing</td><td style = \"font-style: italic; text-align: right;\">missing</td><td style = \"font-style: italic; text-align: right;\">missing</td></tr><tr><td class = \"rowNumber\" style = \"font-weight: bold; text-align: right;\">73</td><td style = \"text-align: right;\">3</td><td style = \"text-align: right;\">1</td><td style = \"text-align: right;\">470</td><td style = \"text-align: right;\">missing</td><td style = \"text-align: right;\">missing</td><td style = \"font-style: italic; text-align: right;\">missing</td><td style = \"font-style: italic; text-align: right;\">missing</td><td style = \"text-align: left;\">Married</td><td style = \"text-align: right;\">63969</td><td style = \"text-align: left;\">M</td><td style = \"text-align: right;\">67</td><td style = \"text-align: right;\">1</td><td style = \"text-align: left;\">missing</td><td style = \"text-align: right;\">missing</td><td style = \"text-align: left;\">missing</td><td style = \"text-align: right;\">missing</td><td style = \"text-align: right;\">missing</td><td style = \"font-style: italic; text-align: left;\">missing</td><td style = \"text-align: right;\">missing</td><td style = \"text-align: left;\">missing</td><td style = \"text-align: right;\">missing</td><td style = \"text-align: right;\">missing</td><td style = \"font-style: italic; text-align: left;\">missing</td><td style = \"font-style: italic; text-align: right;\">missing</td><td style = \"font-style: italic; text-align: left;\">missing</td><td style = \"font-style: italic; text-align: right;\">missing</td><td style = \"font-style: italic; text-align: right;\">missing</td><td style = \"font-style: italic; text-align: left;\">missing</td><td style = \"font-style: italic; text-align: right;\">missing</td><td style = \"font-style: italic; text-align: left;\">missing</td><td style = \"font-style: italic; text-align: right;\">missing</td><td style = \"font-style: italic; text-align: right;\">missing</td></tr><tr><td class = \"rowNumber\" style = \"font-weight: bold; text-align: right;\">74</td><td style = \"text-align: right;\">1</td><td style = \"text-align: right;\">1</td><td style = \"text-align: right;\">563</td><td style = \"text-align: right;\">missing</td><td style = \"text-align: right;\">missing</td><td style = \"font-style: italic; text-align: right;\">missing</td><td style = \"font-style: italic; text-align: right;\">missing</td><td style = \"text-align: left;\">missing</td><td style = \"text-align: right;\">63969</td><td style = \"text-align: left;\">F</td><td style = \"text-align: right;\">2</td><td style = \"text-align: right;\">1</td><td style = \"text-align: left;\">missing</td><td style = \"text-align: right;\">missing</td><td style = \"text-align: left;\">missing</td><td style = \"text-align: right;\">missing</td><td style = \"text-align: right;\">missing</td><td style = \"font-style: italic; text-align: left;\">missing</td><td style = \"text-align: right;\">missing</td><td style = \"text-align: left;\">missing</td><td style = \"text-align: right;\">missing</td><td style = \"text-align: right;\">missing</td><td style = \"font-style: italic; text-align: left;\">missing</td><td style = \"font-style: italic; text-align: right;\">missing</td><td style = \"font-style: italic; text-align: left;\">missing</td><td style = \"font-style: italic; text-align: right;\">missing</td><td style = \"font-style: italic; text-align: right;\">missing</td><td style = \"font-style: italic; text-align: left;\">missing</td><td style = \"font-style: italic; text-align: right;\">missing</td><td style = \"font-style: italic; text-align: left;\">missing</td><td style = \"font-style: italic; text-align: right;\">missing</td><td style = \"font-style: italic; text-align: right;\">missing</td></tr><tr><td class = \"rowNumber\" style = \"font-weight: bold; text-align: right;\">75</td><td style = \"text-align: right;\">4</td><td style = \"text-align: right;\">1</td><td style = \"text-align: right;\">565</td><td style = \"text-align: right;\">missing</td><td style = \"text-align: right;\">missing</td><td style = \"font-style: italic; text-align: right;\">missing</td><td style = \"font-style: italic; text-align: right;\">missing</td><td style = \"text-align: left;\">missing</td><td style = \"text-align: right;\">145915</td><td style = \"text-align: left;\">F</td><td style = \"text-align: right;\">2</td><td style = \"text-align: right;\">1</td><td style = \"text-align: left;\">missing</td><td style = \"text-align: right;\">missing</td><td style = \"text-align: left;\">missing</td><td style = \"text-align: right;\">missing</td><td style = \"text-align: right;\">missing</td><td style = \"font-style: italic; text-align: left;\">missing</td><td style = \"text-align: right;\">missing</td><td style = \"text-align: left;\">missing</td><td style = \"text-align: right;\">missing</td><td style = \"text-align: right;\">missing</td><td style = \"font-style: italic; text-align: left;\">missing</td><td style = \"font-style: italic; text-align: right;\">missing</td><td style = \"font-style: italic; text-align: left;\">missing</td><td style = \"font-style: italic; text-align: right;\">missing</td><td style = \"font-style: italic; text-align: right;\">missing</td><td style = \"font-style: italic; text-align: left;\">missing</td><td style = \"font-style: italic; text-align: right;\">missing</td><td style = \"font-style: italic; text-align: left;\">missing</td><td style = \"font-style: italic; text-align: right;\">missing</td><td style = \"font-style: italic; text-align: right;\">missing</td></tr><tr><td class = \"rowNumber\" style = \"font-weight: bold; text-align: right;\">76</td><td style = \"text-align: right;\">16</td><td style = \"text-align: right;\">1</td><td style = \"text-align: right;\">570</td><td style = \"text-align: right;\">missing</td><td style = \"text-align: right;\">missing</td><td style = \"font-style: italic; text-align: right;\">missing</td><td style = \"font-style: italic; text-align: right;\">missing</td><td style = \"text-align: left;\">missing</td><td style = \"text-align: right;\">145915</td><td style = \"text-align: left;\">F</td><td style = \"text-align: right;\">7</td><td style = \"text-align: right;\">1</td><td style = \"text-align: left;\">missing</td><td style = \"text-align: right;\">missing</td><td style = \"text-align: left;\">missing</td><td style = \"text-align: right;\">missing</td><td style = \"text-align: right;\">missing</td><td style = \"font-style: italic; text-align: left;\">missing</td><td style = \"text-align: right;\">missing</td><td style = \"text-align: left;\">missing</td><td style = \"text-align: right;\">missing</td><td style = \"text-align: right;\">missing</td><td style = \"font-style: italic; text-align: left;\">missing</td><td style = \"font-style: italic; text-align: right;\">missing</td><td style = \"font-style: italic; text-align: left;\">missing</td><td style = \"font-style: italic; text-align: right;\">missing</td><td style = \"font-style: italic; text-align: right;\">missing</td><td style = \"font-style: italic; text-align: left;\">missing</td><td style = \"font-style: italic; text-align: right;\">missing</td><td style = \"font-style: italic; text-align: left;\">missing</td><td style = \"font-style: italic; text-align: right;\">missing</td><td style = \"font-style: italic; text-align: right;\">missing</td></tr><tr><td class = \"rowNumber\" style = \"font-weight: bold; text-align: right;\">77</td><td style = \"text-align: right;\">5</td><td style = \"text-align: right;\">1</td><td style = \"text-align: right;\">581</td><td style = \"text-align: right;\">missing</td><td style = \"text-align: right;\">missing</td><td style = \"font-style: italic; text-align: right;\">missing</td><td style = \"font-style: italic; text-align: right;\">missing</td><td style = \"text-align: left;\">missing</td><td style = \"text-align: right;\">25394</td><td style = \"text-align: left;\">M</td><td style = \"text-align: right;\">2</td><td style = \"text-align: right;\">1</td><td style = \"text-align: left;\">missing</td><td style = \"text-align: right;\">missing</td><td style = \"text-align: left;\">missing</td><td style = \"text-align: right;\">missing</td><td style = \"text-align: right;\">missing</td><td style = \"font-style: italic; text-align: left;\">missing</td><td style = \"text-align: right;\">missing</td><td style = \"text-align: left;\">missing</td><td style = \"text-align: right;\">missing</td><td style = \"text-align: right;\">missing</td><td style = \"font-style: italic; text-align: left;\">missing</td><td style = \"font-style: italic; text-align: right;\">missing</td><td style = \"font-style: italic; text-align: left;\">missing</td><td style = \"font-style: italic; text-align: right;\">missing</td><td style = \"font-style: italic; text-align: right;\">missing</td><td style = \"font-style: italic; text-align: left;\">missing</td><td style = \"font-style: italic; text-align: right;\">missing</td><td style = \"font-style: italic; text-align: left;\">missing</td><td style = \"font-style: italic; text-align: right;\">missing</td><td style = \"font-style: italic; text-align: right;\">missing</td></tr><tr><td class = \"rowNumber\" style = \"font-weight: bold; text-align: right;\">78</td><td style = \"text-align: right;\">19</td><td style = \"text-align: right;\">1</td><td style = \"text-align: right;\">582</td><td style = \"text-align: right;\">missing</td><td style = \"font-style: italic; text-align: right;\">missing</td><td style = \"font-style: italic; text-align: right;\">missing</td><td style = \"font-style: italic; text-align: right;\">missing</td><td style = \"text-align: left;\">missing</td><td style = \"text-align: right;\">44855</td><td style = \"text-align: left;\">M</td><td style = \"text-align: right;\">2</td><td style = \"text-align: right;\">1</td><td style = \"text-align: left;\">missing</td><td style = \"text-align: right;\">missing</td><td style = \"text-align: left;\">missing</td><td style = \"text-align: right;\">missing</td><td style = \"text-align: right;\">missing</td><td style = \"font-style: italic; text-align: left;\">missing</td><td style = \"font-style: italic; text-align: right;\">missing</td><td style = \"font-style: italic; text-align: left;\">missing</td><td style = \"font-style: italic; text-align: right;\">missing</td><td style = \"font-style: italic; text-align: right;\">missing</td><td style = \"font-style: italic; text-align: left;\">missing</td><td style = \"font-style: italic; text-align: right;\">missing</td><td style = \"font-style: italic; text-align: left;\">missing</td><td style = \"font-style: italic; text-align: right;\">missing</td><td style = \"font-style: italic; text-align: right;\">missing</td><td style = \"font-style: italic; text-align: left;\">missing</td><td style = \"font-style: italic; text-align: right;\">missing</td><td style = \"font-style: italic; text-align: left;\">missing</td><td style = \"font-style: italic; text-align: right;\">missing</td><td style = \"font-style: italic; text-align: right;\">missing</td></tr><tr><td class = \"rowNumber\" style = \"font-weight: bold; text-align: right;\">79</td><td style = \"text-align: right;\">17</td><td style = \"text-align: right;\">1</td><td style = \"text-align: right;\">587</td><td style = \"text-align: right;\">missing</td><td style = \"font-style: italic; text-align: right;\">missing</td><td style = \"font-style: italic; text-align: right;\">missing</td><td style = \"font-style: italic; text-align: right;\">missing</td><td style = \"text-align: left;\">missing</td><td style = \"text-align: right;\">44855</td><td style = \"text-align: left;\">M</td><td style = \"text-align: right;\">7</td><td style = \"text-align: right;\">1</td><td style = \"text-align: left;\">missing</td><td style = \"text-align: right;\">missing</td><td style = \"text-align: left;\">missing</td><td style = \"text-align: right;\">missing</td><td style = \"text-align: right;\">missing</td><td style = \"font-style: italic; text-align: left;\">missing</td><td style = \"font-style: italic; text-align: right;\">missing</td><td style = \"font-style: italic; text-align: left;\">missing</td><td style = \"font-style: italic; text-align: right;\">missing</td><td style = \"font-style: italic; text-align: right;\">missing</td><td style = \"font-style: italic; text-align: left;\">missing</td><td style = \"font-style: italic; text-align: right;\">missing</td><td style = \"font-style: italic; text-align: left;\">missing</td><td style = \"font-style: italic; text-align: right;\">missing</td><td style = \"font-style: italic; text-align: right;\">missing</td><td style = \"font-style: italic; text-align: left;\">missing</td><td style = \"font-style: italic; text-align: right;\">missing</td><td style = \"font-style: italic; text-align: left;\">missing</td><td style = \"font-style: italic; text-align: right;\">missing</td><td style = \"font-style: italic; text-align: right;\">missing</td></tr><tr><td class = \"rowNumber\" style = \"font-weight: bold; text-align: right;\">80</td><td style = \"text-align: right;\">14</td><td style = \"text-align: right;\">1</td><td style = \"text-align: right;\">588</td><td style = \"text-align: right;\">missing</td><td style = \"font-style: italic; text-align: right;\">missing</td><td style = \"font-style: italic; text-align: right;\">missing</td><td style = \"font-style: italic; text-align: right;\">missing</td><td style = \"text-align: left;\">missing</td><td style = \"text-align: right;\">63969</td><td style = \"text-align: left;\">M</td><td style = \"text-align: right;\">7</td><td style = \"text-align: right;\">1</td><td style = \"text-align: left;\">missing</td><td style = \"text-align: right;\">missing</td><td style = \"text-align: left;\">missing</td><td style = \"text-align: right;\">missing</td><td style = \"text-align: right;\">missing</td><td style = \"font-style: italic; text-align: left;\">missing</td><td style = \"font-style: italic; text-align: right;\">missing</td><td style = \"font-style: italic; text-align: left;\">missing</td><td style = \"font-style: italic; text-align: right;\">missing</td><td style = \"font-style: italic; text-align: right;\">missing</td><td style = \"font-style: italic; text-align: left;\">missing</td><td style = \"font-style: italic; text-align: right;\">missing</td><td style = \"font-style: italic; text-align: left;\">missing</td><td style = \"font-style: italic; text-align: right;\">missing</td><td style = \"font-style: italic; text-align: right;\">missing</td><td style = \"font-style: italic; text-align: left;\">missing</td><td style = \"font-style: italic; text-align: right;\">missing</td><td style = \"font-style: italic; text-align: left;\">missing</td><td style = \"font-style: italic; text-align: right;\">missing</td><td style = \"font-style: italic; text-align: right;\">missing</td></tr><tr><td class = \"rowNumber\" style = \"font-weight: bold; text-align: right;\">81</td><td style = \"text-align: right;\">10</td><td style = \"text-align: right;\">1</td><td style = \"text-align: right;\">589</td><td style = \"text-align: right;\">missing</td><td style = \"font-style: italic; text-align: right;\">missing</td><td style = \"font-style: italic; text-align: right;\">missing</td><td style = \"font-style: italic; text-align: right;\">missing</td><td style = \"text-align: left;\">missing</td><td style = \"text-align: right;\">88026</td><td style = \"text-align: left;\">M</td><td style = \"text-align: right;\">7</td><td style = \"text-align: right;\">1</td><td style = \"text-align: left;\">missing</td><td style = \"text-align: right;\">missing</td><td style = \"text-align: left;\">missing</td><td style = \"text-align: right;\">missing</td><td style = \"text-align: right;\">missing</td><td style = \"font-style: italic; text-align: left;\">missing</td><td style = \"font-style: italic; text-align: right;\">missing</td><td style = \"font-style: italic; text-align: left;\">missing</td><td style = \"font-style: italic; text-align: right;\">missing</td><td style = \"font-style: italic; text-align: right;\">missing</td><td style = \"font-style: italic; text-align: left;\">missing</td><td style = \"font-style: italic; text-align: right;\">missing</td><td style = \"font-style: italic; text-align: left;\">missing</td><td style = \"font-style: italic; text-align: right;\">missing</td><td style = \"font-style: italic; text-align: right;\">missing</td><td style = \"font-style: italic; text-align: left;\">missing</td><td style = \"font-style: italic; text-align: right;\">missing</td><td style = \"font-style: italic; text-align: left;\">missing</td><td style = \"font-style: italic; text-align: right;\">missing</td><td style = \"font-style: italic; text-align: right;\">missing</td></tr><tr><td class = \"rowNumber\" style = \"font-weight: bold; text-align: right;\">82</td><td style = \"text-align: right;\">9</td><td style = \"text-align: right;\">1</td><td style = \"text-align: right;\">590</td><td style = \"text-align: right;\">missing</td><td style = \"font-style: italic; text-align: right;\">missing</td><td style = \"font-style: italic; text-align: right;\">missing</td><td style = \"font-style: italic; text-align: right;\">missing</td><td style = \"text-align: left;\">missing</td><td style = \"text-align: right;\">145915</td><td style = \"text-align: left;\">M</td><td style = \"text-align: right;\">7</td><td style = \"text-align: right;\">1</td><td style = \"text-align: left;\">missing</td><td style = \"text-align: right;\">missing</td><td style = \"text-align: left;\">missing</td><td style = \"text-align: right;\">missing</td><td style = \"text-align: right;\">missing</td><td style = \"font-style: italic; text-align: left;\">missing</td><td style = \"font-style: italic; text-align: right;\">missing</td><td style = \"font-style: italic; text-align: left;\">missing</td><td style = \"font-style: italic; text-align: right;\">missing</td><td style = \"font-style: italic; text-align: right;\">missing</td><td style = \"font-style: italic; text-align: left;\">missing</td><td style = \"font-style: italic; text-align: right;\">missing</td><td style = \"font-style: italic; text-align: left;\">missing</td><td style = \"font-style: italic; text-align: right;\">missing</td><td style = \"font-style: italic; text-align: right;\">missing</td><td style = \"font-style: italic; text-align: left;\">missing</td><td style = \"font-style: italic; text-align: right;\">missing</td><td style = \"font-style: italic; text-align: left;\">missing</td><td style = \"font-style: italic; text-align: right;\">missing</td><td style = \"font-style: italic; text-align: right;\">missing</td></tr></tbody></table></div>"
      ],
      "text/latex": [
       "\\begin{tabular}{r|ccccccccc}\n",
       "\t& id & agg\\_hh\\_id & head\\_id & partner\\_id & child1\\_id & child2\\_id & child3\\_id & head\\_maritalstatus & \\\\\n",
       "\t\\hline\n",
       "\t& Int64 & Int64? & Int64? & Int64? & Int64? & Int64? & Int64? & String? & \\\\\n",
       "\t\\hline\n",
       "\t1 & 78 & 5 & 354 & \\emph{missing} & 561 & 566 & \\emph{missing} & Married & $\\dots$ \\\\\n",
       "\t2 & 75 & 4 & 86 & 366 & 562 & 568 & \\emph{missing} & Married & $\\dots$ \\\\\n",
       "\t3 & 73 & 4 & 310 & \\emph{missing} & 564 & 585 & \\emph{missing} & Married & $\\dots$ \\\\\n",
       "\t4 & 61 & 3 & 122 & 410 & 6 & \\emph{missing} & \\emph{missing} & Married & $\\dots$ \\\\\n",
       "\t5 & 54 & 3 & 110 & 382 & 10 & \\emph{missing} & \\emph{missing} & Married & $\\dots$ \\\\\n",
       "\t6 & 64 & 3 & 134 & 422 & 14 & \\emph{missing} & \\emph{missing} & Married & $\\dots$ \\\\\n",
       "\t7 & 76 & 4 & 126 & 438 & 18 & \\emph{missing} & \\emph{missing} & Married & $\\dots$ \\\\\n",
       "\t8 & 56 & 3 & 182 & 474 & 49 & \\emph{missing} & \\emph{missing} & Married & $\\dots$ \\\\\n",
       "\t9 & 66 & 3 & 142 & 430 & 53 & \\emph{missing} & \\emph{missing} & Married & $\\dots$ \\\\\n",
       "\t10 & 71 & 4 & 162 & 450 & 57 & \\emph{missing} & \\emph{missing} & Married & $\\dots$ \\\\\n",
       "\t11 & 62 & 3 & 138 & 414 & 282 & \\emph{missing} & \\emph{missing} & Married & $\\dots$ \\\\\n",
       "\t12 & 60 & 3 & 118 & 406 & 286 & \\emph{missing} & \\emph{missing} & Married & $\\dots$ \\\\\n",
       "\t13 & 67 & 3 & 146 & 434 & 294 & \\emph{missing} & \\emph{missing} & Married & $\\dots$ \\\\\n",
       "\t14 & 57 & 3 & 394 & \\emph{missing} & 298 & \\emph{missing} & \\emph{missing} & Married & $\\dots$ \\\\\n",
       "\t15 & 68 & 3 & 190 & \\emph{missing} & 321 & \\emph{missing} & \\emph{missing} & Married & $\\dots$ \\\\\n",
       "\t16 & 55 & 3 & 98 & 358 & 567 & \\emph{missing} & \\emph{missing} & Married & $\\dots$ \\\\\n",
       "\t17 & 59 & 3 & 78 & 322 & 569 & \\emph{missing} & \\emph{missing} & Married & $\\dots$ \\\\\n",
       "\t18 & 70 & 3 & 70 & 326 & 583 & \\emph{missing} & \\emph{missing} & Married & $\\dots$ \\\\\n",
       "\t19 & 58 & 3 & 54 & 302 & 584 & \\emph{missing} & \\emph{missing} & Married & $\\dots$ \\\\\n",
       "\t20 & 53 & 3 & 90 & 378 & 586 & \\emph{missing} & \\emph{missing} & Married & $\\dots$ \\\\\n",
       "\t21 & 26 & 2 & 22 & 306 & \\emph{missing} & \\emph{missing} & \\emph{missing} & Married & $\\dots$ \\\\\n",
       "\t22 & 29 & 2 & 34 & 314 & \\emph{missing} & \\emph{missing} & \\emph{missing} & Married & $\\dots$ \\\\\n",
       "\t23 & 30 & 2 & 38 & 318 & \\emph{missing} & \\emph{missing} & \\emph{missing} & Married & $\\dots$ \\\\\n",
       "\t24 & 42 & 2 & 62 & 322 & \\emph{missing} & \\emph{missing} & \\emph{missing} & Married & $\\dots$ \\\\\n",
       "\t$\\dots$ & $\\dots$ & $\\dots$ & $\\dots$ & $\\dots$ & $\\dots$ & $\\dots$ & $\\dots$ & $\\dots$ &  \\\\\n",
       "\\end{tabular}\n"
      ],
      "text/plain": [
       "\u001b[1m82×32 DataFrame\u001b[0m\n",
       "\u001b[1m Row \u001b[0m│\u001b[1m id    \u001b[0m\u001b[1m agg_hh_id \u001b[0m\u001b[1m head_id \u001b[0m\u001b[1m partner_id \u001b[0m\u001b[1m child1_id \u001b[0m\u001b[1m child2_id \u001b[0m\u001b[1m child3_id \u001b[0m\u001b[1m\u001b[0m ⋯\n",
       "     │\u001b[90m Int64 \u001b[0m\u001b[90m Int64?    \u001b[0m\u001b[90m Int64?  \u001b[0m\u001b[90m Int64?     \u001b[0m\u001b[90m Int64?    \u001b[0m\u001b[90m Int64?    \u001b[0m\u001b[90m Int64?    \u001b[0m\u001b[90m\u001b[0m ⋯\n",
       "─────┼──────────────────────────────────────────────────────────────────────────\n",
       "   1 │    78          5      354 \u001b[90m    missing \u001b[0m       561        566 \u001b[90m   missing \u001b[0m ⋯\n",
       "   2 │    75          4       86         366        562        568 \u001b[90m   missing \u001b[0m\n",
       "   3 │    73          4      310 \u001b[90m    missing \u001b[0m       564        585 \u001b[90m   missing \u001b[0m\n",
       "   4 │    61          3      122         410          6 \u001b[90m   missing \u001b[0m\u001b[90m   missing \u001b[0m\n",
       "   5 │    54          3      110         382         10 \u001b[90m   missing \u001b[0m\u001b[90m   missing \u001b[0m ⋯\n",
       "   6 │    64          3      134         422         14 \u001b[90m   missing \u001b[0m\u001b[90m   missing \u001b[0m\n",
       "   7 │    76          4      126         438         18 \u001b[90m   missing \u001b[0m\u001b[90m   missing \u001b[0m\n",
       "   8 │    56          3      182         474         49 \u001b[90m   missing \u001b[0m\u001b[90m   missing \u001b[0m\n",
       "  ⋮  │   ⋮        ⋮         ⋮         ⋮           ⋮          ⋮          ⋮      ⋱\n",
       "  76 │    16          1      570 \u001b[90m    missing \u001b[0m\u001b[90m   missing \u001b[0m\u001b[90m   missing \u001b[0m\u001b[90m   missing \u001b[0m\u001b[90m\u001b[0m ⋯\n",
       "  77 │     5          1      581 \u001b[90m    missing \u001b[0m\u001b[90m   missing \u001b[0m\u001b[90m   missing \u001b[0m\u001b[90m   missing \u001b[0m\u001b[90m\u001b[0m\n",
       "  78 │    19          1      582 \u001b[90m    missing \u001b[0m\u001b[90m   missing \u001b[0m\u001b[90m   missing \u001b[0m\u001b[90m   missing \u001b[0m\u001b[90m\u001b[0m\n",
       "  79 │    17          1      587 \u001b[90m    missing \u001b[0m\u001b[90m   missing \u001b[0m\u001b[90m   missing \u001b[0m\u001b[90m   missing \u001b[0m\u001b[90m\u001b[0m\n",
       "  80 │    14          1      588 \u001b[90m    missing \u001b[0m\u001b[90m   missing \u001b[0m\u001b[90m   missing \u001b[0m\u001b[90m   missing \u001b[0m\u001b[90m\u001b[0m ⋯\n",
       "  81 │    10          1      589 \u001b[90m    missing \u001b[0m\u001b[90m   missing \u001b[0m\u001b[90m   missing \u001b[0m\u001b[90m   missing \u001b[0m\u001b[90m\u001b[0m\n",
       "  82 │     9          1      590 \u001b[90m    missing \u001b[0m\u001b[90m   missing \u001b[0m\u001b[90m   missing \u001b[0m\u001b[90m   missing \u001b[0m\u001b[90m\u001b[0m\n",
       "\u001b[36m                                                  25 columns and 67 rows omitted\u001b[0m"
      ]
     },
     "metadata": {},
     "output_type": "display_data"
    }
   ],
   "source": [
    "function join_and_rename!(df1::DataFrame, df2::DataFrame, column_name::Symbol)\n",
    "    df_joined = leftjoin(df1, df2, on = column_name => :id, makeunique=true, matchmissing = :notequal)\n",
    "\n",
    "    # Rename the new columns\n",
    "    for col in names(df2)[2:end]  # Skip the id column\n",
    "        rename!(df_joined, Symbol(col) => Symbol(replace(string(column_name), \"_id\" => \"_\"*col)))\n",
    "    end\n",
    "\n",
    "    return df_joined\n",
    "end\n",
    "\n",
    "# Apply the function to each id column in df1\n",
    "id_columns = [:head_id, :partner_id, :child1_id, :child2_id, :child3_id]\n",
    "disaggregated_households_joined = disaggregated_households\n",
    "for column_name in id_columns\n",
    "    disaggregated_households_joined = join_and_rename!(disaggregated_households_joined, aggregated_individuals, column_name)\n",
    "end\n",
    "disaggregated_households_joined"
   ]
  },
  {
   "cell_type": "code",
   "execution_count": 13,
   "metadata": {},
   "outputs": [
    {
     "data": {
      "text/html": [
       "<div><div style = \"float: left;\"><span>32×7 DataFrame</span></div><div style = \"float: right;\"><span style = \"font-style: italic;\">7 rows omitted</span></div><div style = \"clear: both;\"></div></div><div class = \"data-frame\" style = \"overflow-x: scroll;\"><table class = \"data-frame\" style = \"margin-bottom: 6px;\"><thead><tr class = \"header\"><th class = \"rowNumber\" style = \"font-weight: bold; text-align: right;\">Row</th><th style = \"text-align: left;\">variable</th><th style = \"text-align: left;\">mean</th><th style = \"text-align: left;\">min</th><th style = \"text-align: left;\">median</th><th style = \"text-align: left;\">max</th><th style = \"text-align: left;\">nmissing</th><th style = \"text-align: left;\">eltype</th></tr><tr class = \"subheader headerLastRow\"><th class = \"rowNumber\" style = \"font-weight: bold; text-align: right;\"></th><th title = \"Symbol\" style = \"text-align: left;\">Symbol</th><th title = \"Union{Nothing, Float64}\" style = \"text-align: left;\">Union…</th><th title = \"Any\" style = \"text-align: left;\">Any</th><th title = \"Union{Nothing, Float64}\" style = \"text-align: left;\">Union…</th><th title = \"Any\" style = \"text-align: left;\">Any</th><th title = \"Int64\" style = \"text-align: left;\">Int64</th><th title = \"Type\" style = \"text-align: left;\">Type</th></tr></thead><tbody><tr><td class = \"rowNumber\" style = \"font-weight: bold; text-align: right;\">1</td><td style = \"text-align: left;\">id</td><td style = \"text-align: left;\">41.5</td><td style = \"text-align: left;\">1</td><td style = \"text-align: left;\">41.5</td><td style = \"text-align: left;\">82</td><td style = \"text-align: right;\">0</td><td style = \"text-align: left;\">Int64</td></tr><tr><td class = \"rowNumber\" style = \"font-weight: bold; text-align: right;\">2</td><td style = \"text-align: left;\">agg_hh_id</td><td style = \"text-align: left;\">2.26829</td><td style = \"text-align: left;\">1</td><td style = \"text-align: left;\">2.0</td><td style = \"text-align: left;\">5</td><td style = \"text-align: right;\">0</td><td style = \"text-align: left;\">Union{Missing, Int64}</td></tr><tr><td class = \"rowNumber\" style = \"font-weight: bold; text-align: right;\">3</td><td style = \"text-align: left;\">head_id</td><td style = \"text-align: left;\">188.329</td><td style = \"text-align: left;\">2</td><td style = \"text-align: left;\">132.0</td><td style = \"text-align: left;\">590</td><td style = \"text-align: right;\">0</td><td style = \"text-align: left;\">Union{Missing, Int64}</td></tr><tr><td class = \"rowNumber\" style = \"font-weight: bold; text-align: right;\">4</td><td style = \"text-align: left;\">partner_id</td><td style = \"text-align: left;\">380.48</td><td style = \"text-align: left;\">302</td><td style = \"text-align: left;\">368.0</td><td style = \"text-align: left;\">478</td><td style = \"text-align: right;\">32</td><td style = \"text-align: left;\">Union{Missing, Int64}</td></tr><tr><td class = \"rowNumber\" style = \"font-weight: bold; text-align: right;\">5</td><td style = \"text-align: left;\">child1_id</td><td style = \"text-align: left;\">313.2</td><td style = \"text-align: left;\">6</td><td style = \"text-align: left;\">296.0</td><td style = \"text-align: left;\">586</td><td style = \"text-align: right;\">62</td><td style = \"text-align: left;\">Union{Missing, Int64}</td></tr><tr><td class = \"rowNumber\" style = \"font-weight: bold; text-align: right;\">6</td><td style = \"text-align: left;\">child2_id</td><td style = \"text-align: left;\">573.0</td><td style = \"text-align: left;\">566</td><td style = \"text-align: left;\">568.0</td><td style = \"text-align: left;\">585</td><td style = \"text-align: right;\">79</td><td style = \"text-align: left;\">Union{Missing, Int64}</td></tr><tr><td class = \"rowNumber\" style = \"font-weight: bold; text-align: right;\">7</td><td style = \"text-align: left;\">child3_id</td><td style = \"text-align: left;\">NaN</td><td style = \"font-style: italic; text-align: left;\"></td><td style = \"font-style: italic; text-align: left;\"></td><td style = \"font-style: italic; text-align: left;\"></td><td style = \"text-align: right;\">82</td><td style = \"text-align: left;\">Union{Missing, Int64}</td></tr><tr><td class = \"rowNumber\" style = \"font-weight: bold; text-align: right;\">8</td><td style = \"text-align: left;\">head_maritalstatus</td><td style = \"font-style: italic; text-align: left;\"></td><td style = \"text-align: left;\">Divorced</td><td style = \"font-style: italic; text-align: left;\"></td><td style = \"text-align: left;\">Married</td><td style = \"text-align: right;\">9</td><td style = \"text-align: left;\">Union{Missing, String}</td></tr><tr><td class = \"rowNumber\" style = \"font-weight: bold; text-align: right;\">9</td><td style = \"text-align: left;\">head_income</td><td style = \"text-align: left;\">74865.9</td><td style = \"text-align: left;\">25394</td><td style = \"text-align: left;\">63969.0</td><td style = \"text-align: left;\">145915</td><td style = \"text-align: right;\">0</td><td style = \"text-align: left;\">Union{Missing, Int64}</td></tr><tr><td class = \"rowNumber\" style = \"font-weight: bold; text-align: right;\">10</td><td style = \"text-align: left;\">head_sex</td><td style = \"font-style: italic; text-align: left;\"></td><td style = \"text-align: left;\">F</td><td style = \"font-style: italic; text-align: left;\"></td><td style = \"text-align: left;\">M</td><td style = \"text-align: right;\">0</td><td style = \"text-align: left;\">Union{Missing, Char}</td></tr><tr><td class = \"rowNumber\" style = \"font-weight: bold; text-align: right;\">11</td><td style = \"text-align: left;\">head_age</td><td style = \"text-align: left;\">40.5366</td><td style = \"text-align: left;\">2</td><td style = \"text-align: left;\">37.0</td><td style = \"text-align: left;\">72</td><td style = \"text-align: right;\">0</td><td style = \"text-align: left;\">Union{Missing, Int64}</td></tr><tr><td class = \"rowNumber\" style = \"font-weight: bold; text-align: right;\">12</td><td style = \"text-align: left;\">head_population</td><td style = \"text-align: left;\">1.2561</td><td style = \"text-align: left;\">1</td><td style = \"text-align: left;\">1.0</td><td style = \"text-align: left;\">2</td><td style = \"text-align: right;\">0</td><td style = \"text-align: left;\">Union{Missing, Int64}</td></tr><tr><td class = \"rowNumber\" style = \"font-weight: bold; text-align: right;\">13</td><td style = \"text-align: left;\">partner_maritalstatus</td><td style = \"font-style: italic; text-align: left;\"></td><td style = \"text-align: left;\">Married</td><td style = \"font-style: italic; text-align: left;\"></td><td style = \"text-align: left;\">Married</td><td style = \"text-align: right;\">32</td><td style = \"text-align: left;\">Union{Missing, String}</td></tr><tr><td style = \"text-align: right;\">&vellip;</td><td style = \"text-align: right;\">&vellip;</td><td style = \"text-align: right;\">&vellip;</td><td style = \"text-align: right;\">&vellip;</td><td style = \"text-align: right;\">&vellip;</td><td style = \"text-align: right;\">&vellip;</td><td style = \"text-align: right;\">&vellip;</td><td style = \"text-align: right;\">&vellip;</td></tr><tr><td class = \"rowNumber\" style = \"font-weight: bold; text-align: right;\">21</td><td style = \"text-align: left;\">child1_age</td><td style = \"text-align: left;\">16.75</td><td style = \"text-align: left;\">2</td><td style = \"text-align: left;\">22.0</td><td style = \"text-align: left;\">32</td><td style = \"text-align: right;\">62</td><td style = \"text-align: left;\">Union{Missing, Int64}</td></tr><tr><td class = \"rowNumber\" style = \"font-weight: bold; text-align: right;\">22</td><td style = \"text-align: left;\">child1_population</td><td style = \"font-style: italic; text-align: left;\">1.0</td><td style = \"text-align: left;\">1</td><td style = \"font-style: italic; text-align: left;\">1.0</td><td style = \"text-align: left;\">1</td><td style = \"text-align: right;\">62</td><td style = \"text-align: left;\">Union{Missing, Int64}</td></tr><tr><td class = \"rowNumber\" style = \"font-weight: bold; text-align: right;\">23</td><td style = \"text-align: left;\">child2_maritalstatus</td><td style = \"text-align: left;\"></td><td style = \"text-align: left;\"></td><td style = \"text-align: left;\"></td><td style = \"text-align: left;\"></td><td style = \"text-align: right;\">82</td><td style = \"text-align: left;\">Union{Missing, String}</td></tr><tr><td class = \"rowNumber\" style = \"font-weight: bold; text-align: right;\">24</td><td style = \"text-align: left;\">child2_income</td><td style = \"text-align: left;\">78426.0</td><td style = \"text-align: left;\">25394</td><td style = \"text-align: left;\">63969.0</td><td style = \"text-align: left;\">145915</td><td style = \"text-align: right;\">79</td><td style = \"text-align: left;\">Union{Missing, Int64}</td></tr><tr><td class = \"rowNumber\" style = \"font-weight: bold; text-align: right;\">25</td><td style = \"text-align: left;\">child2_sex</td><td style = \"font-style: italic; text-align: left;\"></td><td style = \"text-align: left;\">F</td><td style = \"font-style: italic; text-align: left;\"></td><td style = \"text-align: left;\">M</td><td style = \"text-align: right;\">79</td><td style = \"text-align: left;\">Union{Missing, Char}</td></tr><tr><td class = \"rowNumber\" style = \"font-weight: bold; text-align: right;\">26</td><td style = \"text-align: left;\">child2_age</td><td style = \"text-align: left;\">5.33333</td><td style = \"text-align: left;\">2</td><td style = \"text-align: left;\">7.0</td><td style = \"text-align: left;\">7</td><td style = \"text-align: right;\">79</td><td style = \"text-align: left;\">Union{Missing, Int64}</td></tr><tr><td class = \"rowNumber\" style = \"font-weight: bold; text-align: right;\">27</td><td style = \"text-align: left;\">child2_population</td><td style = \"font-style: italic; text-align: left;\">1.0</td><td style = \"text-align: left;\">1</td><td style = \"font-style: italic; text-align: left;\">1.0</td><td style = \"text-align: left;\">1</td><td style = \"text-align: right;\">79</td><td style = \"text-align: left;\">Union{Missing, Int64}</td></tr><tr><td class = \"rowNumber\" style = \"font-weight: bold; text-align: right;\">28</td><td style = \"text-align: left;\">child3_maritalstatus</td><td style = \"text-align: left;\"></td><td style = \"text-align: left;\"></td><td style = \"text-align: left;\"></td><td style = \"text-align: left;\"></td><td style = \"text-align: right;\">82</td><td style = \"text-align: left;\">Union{Missing, String}</td></tr><tr><td class = \"rowNumber\" style = \"font-weight: bold; text-align: right;\">29</td><td style = \"text-align: left;\">child3_income</td><td style = \"text-align: left;\">NaN</td><td style = \"text-align: left;\"></td><td style = \"text-align: left;\"></td><td style = \"text-align: left;\"></td><td style = \"text-align: right;\">82</td><td style = \"text-align: left;\">Union{Missing, Int64}</td></tr><tr><td class = \"rowNumber\" style = \"font-weight: bold; text-align: right;\">30</td><td style = \"text-align: left;\">child3_sex</td><td style = \"font-style: italic; text-align: left;\"></td><td style = \"font-style: italic; text-align: left;\"></td><td style = \"font-style: italic; text-align: left;\"></td><td style = \"font-style: italic; text-align: left;\"></td><td style = \"text-align: right;\">82</td><td style = \"text-align: left;\">Union{Missing, Char}</td></tr><tr><td class = \"rowNumber\" style = \"font-weight: bold; text-align: right;\">31</td><td style = \"text-align: left;\">child3_age</td><td style = \"text-align: left;\">NaN</td><td style = \"text-align: left;\"></td><td style = \"text-align: left;\"></td><td style = \"text-align: left;\"></td><td style = \"text-align: right;\">82</td><td style = \"text-align: left;\">Union{Missing, Int64}</td></tr><tr><td class = \"rowNumber\" style = \"font-weight: bold; text-align: right;\">32</td><td style = \"text-align: left;\">child3_population</td><td style = \"font-style: italic; text-align: left;\">NaN</td><td style = \"text-align: left;\"></td><td style = \"font-style: italic; text-align: left;\"></td><td style = \"text-align: left;\"></td><td style = \"text-align: right;\">82</td><td style = \"text-align: left;\">Union{Missing, Int64}</td></tr></tbody></table></div>"
      ],
      "text/latex": [
       "\\begin{tabular}{r|ccccccc}\n",
       "\t& variable & mean & min & median & max & nmissing & eltype\\\\\n",
       "\t\\hline\n",
       "\t& Symbol & Union… & Any & Union… & Any & Int64 & Type\\\\\n",
       "\t\\hline\n",
       "\t1 & id & 41.5 & 1 & 41.5 & 82 & 0 & Int64 \\\\\n",
       "\t2 & agg\\_hh\\_id & 2.26829 & 1 & 2.0 & 5 & 0 & Union\\{Missing, Int64\\} \\\\\n",
       "\t3 & head\\_id & 188.329 & 2 & 132.0 & 590 & 0 & Union\\{Missing, Int64\\} \\\\\n",
       "\t4 & partner\\_id & 380.48 & 302 & 368.0 & 478 & 32 & Union\\{Missing, Int64\\} \\\\\n",
       "\t5 & child1\\_id & 313.2 & 6 & 296.0 & 586 & 62 & Union\\{Missing, Int64\\} \\\\\n",
       "\t6 & child2\\_id & 573.0 & 566 & 568.0 & 585 & 79 & Union\\{Missing, Int64\\} \\\\\n",
       "\t7 & child3\\_id & NaN &  &  &  & 82 & Union\\{Missing, Int64\\} \\\\\n",
       "\t8 & head\\_maritalstatus &  & Divorced &  & Married & 9 & Union\\{Missing, String\\} \\\\\n",
       "\t9 & head\\_income & 74865.9 & 25394 & 63969.0 & 145915 & 0 & Union\\{Missing, Int64\\} \\\\\n",
       "\t10 & head\\_sex &  & F &  & M & 0 & Union\\{Missing, Char\\} \\\\\n",
       "\t11 & head\\_age & 40.5366 & 2 & 37.0 & 72 & 0 & Union\\{Missing, Int64\\} \\\\\n",
       "\t12 & head\\_population & 1.2561 & 1 & 1.0 & 2 & 0 & Union\\{Missing, Int64\\} \\\\\n",
       "\t13 & partner\\_maritalstatus &  & Married &  & Married & 32 & Union\\{Missing, String\\} \\\\\n",
       "\t14 & partner\\_income & 71996.9 & 25394 & 63969.0 & 145915 & 32 & Union\\{Missing, Int64\\} \\\\\n",
       "\t15 & partner\\_sex &  & M &  & M & 32 & Union\\{Missing, Char\\} \\\\\n",
       "\t16 & partner\\_age & 44.7 & 27 & 42.0 & 67 & 32 & Union\\{Missing, Int64\\} \\\\\n",
       "\t17 & partner\\_population & 1.38 & 1 & 1.0 & 2 & 32 & Union\\{Missing, Int64\\} \\\\\n",
       "\t18 & child1\\_maritalstatus &  & Divorced &  & Married & 70 & Union\\{Missing, String\\} \\\\\n",
       "\t19 & child1\\_income & 71940.2 & 25394 & 63969.0 & 145915 & 62 & Union\\{Missing, Int64\\} \\\\\n",
       "\t20 & child1\\_sex &  & F &  & M & 62 & Union\\{Missing, Char\\} \\\\\n",
       "\t21 & child1\\_age & 16.75 & 2 & 22.0 & 32 & 62 & Union\\{Missing, Int64\\} \\\\\n",
       "\t22 & child1\\_population & 1.0 & 1 & 1.0 & 1 & 62 & Union\\{Missing, Int64\\} \\\\\n",
       "\t23 & child2\\_maritalstatus &  &  &  &  & 82 & Union\\{Missing, String\\} \\\\\n",
       "\t24 & child2\\_income & 78426.0 & 25394 & 63969.0 & 145915 & 79 & Union\\{Missing, Int64\\} \\\\\n",
       "\t$\\dots$ & $\\dots$ & $\\dots$ & $\\dots$ & $\\dots$ & $\\dots$ & $\\dots$ & $\\dots$ \\\\\n",
       "\\end{tabular}\n"
      ],
      "text/plain": [
       "\u001b[1m32×7 DataFrame\u001b[0m\n",
       "\u001b[1m Row \u001b[0m│\u001b[1m variable             \u001b[0m\u001b[1m mean    \u001b[0m\u001b[1m min      \u001b[0m\u001b[1m median  \u001b[0m\u001b[1m max     \u001b[0m\u001b[1m nmissing \u001b[0m\u001b[1m el\u001b[0m ⋯\n",
       "     │\u001b[90m Symbol               \u001b[0m\u001b[90m Union…  \u001b[0m\u001b[90m Any      \u001b[0m\u001b[90m Union…  \u001b[0m\u001b[90m Any     \u001b[0m\u001b[90m Int64    \u001b[0m\u001b[90m Ty\u001b[0m ⋯\n",
       "─────┼──────────────────────────────────────────────────────────────────────────\n",
       "   1 │ id                    41.5     1         41.5     82              0  In ⋯\n",
       "   2 │ agg_hh_id             2.26829  1         2.0      5               0  Un\n",
       "   3 │ head_id               188.329  2         132.0    590             0  Un\n",
       "   4 │ partner_id            380.48   302       368.0    478            32  Un\n",
       "   5 │ child1_id             313.2    6         296.0    586            62  Un ⋯\n",
       "   6 │ child2_id             573.0    566       568.0    585            79  Un\n",
       "   7 │ child3_id             NaN     \u001b[90m          \u001b[0m\u001b[90m         \u001b[0m\u001b[90m         \u001b[0m       82  Un\n",
       "   8 │ head_maritalstatus   \u001b[90m         \u001b[0m Divorced \u001b[90m         \u001b[0m Married         9  Un\n",
       "  ⋮  │          ⋮               ⋮        ⋮         ⋮        ⋮        ⋮         ⋱\n",
       "  26 │ child2_age            5.33333  2         7.0      7              79  Un ⋯\n",
       "  27 │ child2_population     1.0      1         1.0      1              79  Un\n",
       "  28 │ child3_maritalstatus \u001b[90m         \u001b[0m\u001b[90m          \u001b[0m\u001b[90m         \u001b[0m\u001b[90m         \u001b[0m       82  Un\n",
       "  29 │ child3_income         NaN     \u001b[90m          \u001b[0m\u001b[90m         \u001b[0m\u001b[90m         \u001b[0m       82  Un\n",
       "  30 │ child3_sex           \u001b[90m         \u001b[0m\u001b[90m          \u001b[0m\u001b[90m         \u001b[0m\u001b[90m         \u001b[0m       82  Un ⋯\n",
       "  31 │ child3_age            NaN     \u001b[90m          \u001b[0m\u001b[90m         \u001b[0m\u001b[90m         \u001b[0m       82  Un\n",
       "  32 │ child3_population     NaN     \u001b[90m          \u001b[0m\u001b[90m         \u001b[0m\u001b[90m         \u001b[0m       82  Un\n",
       "\u001b[36m                                                    1 column and 17 rows omitted\u001b[0m"
      ]
     },
     "metadata": {},
     "output_type": "display_data"
    }
   ],
   "source": [
    "describe(disaggregated_households_joined)"
   ]
  },
  {
   "cell_type": "markdown",
   "metadata": {},
   "source": [
    "#### Extra tests to validate outputs"
   ]
  },
  {
   "cell_type": "code",
   "execution_count": 14,
   "metadata": {},
   "outputs": [
    {
     "name": "stdout",
     "output_type": "stream",
     "text": [
      "[35, 40, 25, 30][30, 35, 25]Union{}[][40, 30, 25, 35][35]Union{}[]\n",
      "[2, 1][1, 2][1][1]Int64[]"
     ]
    }
   ],
   "source": [
    "#check that there is a proper age difference between children and parents (between 20 and 40)\n",
    "for parent in [:head_age, :partner_age]\n",
    "    for child in [:child1_age, :child2_age, :child3_age]\n",
    "        print(unique(collect(skipmissing(disaggregated_households_joined[!, parent] - disaggregated_households_joined[!, child]))))\n",
    "    end\n",
    "end\n",
    "print(\"\\n\")\n",
    "#check that for all assigned individuals, the value in column :population from aggregated_individuals is larger than 1\n",
    "for column in [:head_population, :partner_population, :child1_population, :child2_population, :child3_population]\n",
    "    print(unique(collect(skipmissing(disaggregated_households_joined[!, column]))))\n",
    "end"
   ]
  }
 ],
 "metadata": {
  "kernelspec": {
   "display_name": "Julia 1.10.2",
   "language": "julia",
   "name": "julia-1.10"
  },
  "language_info": {
   "file_extension": ".jl",
   "mimetype": "application/julia",
   "name": "julia",
   "version": "1.10.2"
  }
 },
 "nbformat": 4,
 "nbformat_minor": 2
}
