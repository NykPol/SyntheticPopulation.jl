{
 "cells": [
  {
   "cell_type": "markdown",
   "metadata": {},
   "source": [
    "### Manualy create the input dataframes based on Chinese census data"
   ]
  },
  {
   "cell_type": "code",
   "execution_count": 1,
   "metadata": {},
   "outputs": [],
   "source": [
    "using DataFrames\n",
    "using SyntheticPopulation"
   ]
  },
  {
   "cell_type": "code",
   "execution_count": 2,
   "metadata": {},
   "outputs": [],
   "source": [
    "\n",
    "#each individual and each household represent 100.000 individuals or households\n",
    "SCALE = 0.0001 \n",
    "\n",
    "#all values are based on China census data\n",
    "individual_popoulation_size = 21890000\n",
    "\n",
    "#individuals\n",
    "marginal_ind_age_sex = DataFrame(\n",
    "    sex = repeat(['M', 'F'], 18),\n",
    "    age = repeat(2:5:87, inner = 2), \n",
    "    population = SCALE .* 10000 .* [52.6, 49.0, 48.5, 44.8, 33.6, 30.6, 34.6, 28.8, 71.6, 63.4, 99.6, 90.9, 130.9, 119.4, 110.8, 103.5, 83.8, 76.4, 84.2, 77.7, 84.2, 77.8, 82.8, 79.9, 67.7, 71.0, 56.9, 62.6, 31.5, 35.3, 18.5, 23.0, 15.2, 19.7, 12.5, 16.0]\n",
    "    )\n",
    "\n",
    "marginal_ind_sex_maritalstatus = DataFrame(\n",
    "    sex = repeat(['M', 'F'], 4), \n",
    "    maritalstatus = repeat([\"Never_married\", \"Married\", \"Divorced\", \"Widowed\"], inner = 2), \n",
    "    population = SCALE .* [1679, 1611, 5859, 5774, 140, 206, 128, 426] ./ 0.00082\n",
    "    )\n",
    "\n",
    "marginal_ind_income = DataFrame(\n",
    "    income = [25394, 44855, 63969, 88026, 145915], \n",
    "    population = repeat([individual_popoulation_size * SCALE / 5], 5)\n",
    "    )\n",
    "\n",
    "#households\n",
    "household_total_population = 8230000\n",
    "marginal_hh_size = DataFrame(\n",
    "    hh_size = [1,2,3,4,5],\n",
    "    population = Int.(round.(SCALE * household_total_population .* [0.299, 0.331, 0.217, 0.09, 0.063]))\n",
    "    )\n",
    "nothing #to avoid printing output"
   ]
  },
  {
   "cell_type": "markdown",
   "metadata": {},
   "source": [
    "### Create dataframe of individals\n",
    "Some individual types may have the population 0 because we are using the scale of 0.0001"
   ]
  },
  {
   "cell_type": "code",
   "execution_count": 3,
   "metadata": {},
   "outputs": [
    {
     "name": "stderr",
     "output_type": "stream",
     "text": [
      "┌ Info: Inconsistent target margins, converting `X` and `mar` to proportions. Margin totals: [1930.0, 2190.0]\n",
      "└ @ ProportionalFitting C:\\Users\\plzurekma\\.julia\\packages\\ProportionalFitting\\gNJEu\\src\\ipf.jl:61\n",
      "┌ Info: Converged in 1 iterations.\n",
      "└ @ ProportionalFitting C:\\Users\\plzurekma\\.julia\\packages\\ProportionalFitting\\gNJEu\\src\\ipf.jl:130\n",
      "┌ Info: Inconsistent target margins, converting `X` and `mar` to proportions. Margin totals: [1085.0, 917.0]\n",
      "└ @ ProportionalFitting C:\\Users\\plzurekma\\.julia\\packages\\ProportionalFitting\\gNJEu\\src\\ipf.jl:61\n",
      "┌ Info: Converged in 1 iterations.\n",
      "└ @ ProportionalFitting C:\\Users\\plzurekma\\.julia\\packages\\ProportionalFitting\\gNJEu\\src\\ipf.jl:130\n",
      "┌ Info: Inconsistent target margins, converting `X` and `mar` to proportions. Margin totals: [1110.0, 951.0]\n",
      "└ @ ProportionalFitting C:\\Users\\plzurekma\\.julia\\packages\\ProportionalFitting\\gNJEu\\src\\ipf.jl:61\n",
      "┌ Info: Converged in 1 iterations.\n",
      "└ @ ProportionalFitting C:\\Users\\plzurekma\\.julia\\packages\\ProportionalFitting\\gNJEu\\src\\ipf.jl:130\n",
      "┌ Info: Inconsistent target margins, converting `X` and `mar` to proportions. Margin totals: [1085.0, 154.0]\n",
      "└ @ ProportionalFitting C:\\Users\\plzurekma\\.julia\\packages\\ProportionalFitting\\gNJEu\\src\\ipf.jl:61\n",
      "┌ Info: Converged in 1 iterations.\n",
      "└ @ ProportionalFitting C:\\Users\\plzurekma\\.julia\\packages\\ProportionalFitting\\gNJEu\\src\\ipf.jl:130\n",
      "┌ Info: Inconsistent target margins, converting `X` and `mar` to proportions. Margin totals: [1110.0, 170.0]\n",
      "└ @ ProportionalFitting C:\\Users\\plzurekma\\.julia\\packages\\ProportionalFitting\\gNJEu\\src\\ipf.jl:61\n",
      "┌ Info: Converged in 1 iterations.\n",
      "└ @ ProportionalFitting C:\\Users\\plzurekma\\.julia\\packages\\ProportionalFitting\\gNJEu\\src\\ipf.jl:130\n"
     ]
    },
    {
     "data": {
      "text/html": [
       "<div><div style = \"float: left;\"><span>600×6 DataFrame</span></div><div style = \"float: right;\"><span style = \"font-style: italic;\">575 rows omitted</span></div><div style = \"clear: both;\"></div></div><div class = \"data-frame\" style = \"overflow-x: scroll;\"><table class = \"data-frame\" style = \"margin-bottom: 6px;\"><thead><tr class = \"header\"><th class = \"rowNumber\" style = \"font-weight: bold; text-align: right;\">Row</th><th style = \"text-align: left;\">id</th><th style = \"text-align: left;\">maritalstatus</th><th style = \"text-align: left;\">income</th><th style = \"text-align: left;\">sex</th><th style = \"text-align: left;\">age</th><th style = \"text-align: left;\">population</th></tr><tr class = \"subheader headerLastRow\"><th class = \"rowNumber\" style = \"font-weight: bold; text-align: right;\"></th><th title = \"Int64\" style = \"text-align: left;\">Int64</th><th title = \"Union{Missing, String}\" style = \"text-align: left;\">String?</th><th title = \"Union{Missing, Int64}\" style = \"text-align: left;\">Int64?</th><th title = \"Union{Missing, Char}\" style = \"text-align: left;\">Char?</th><th title = \"Union{Missing, Int64}\" style = \"text-align: left;\">Int64?</th><th title = \"Int64\" style = \"text-align: left;\">Int64</th></tr></thead><tbody><tr><td class = \"rowNumber\" style = \"font-weight: bold; text-align: right;\">1</td><td style = \"text-align: right;\">1</td><td style = \"text-align: left;\">Divorced</td><td style = \"text-align: right;\">25394</td><td style = \"text-align: left;\">F</td><td style = \"text-align: right;\">22</td><td style = \"text-align: right;\">3</td></tr><tr><td class = \"rowNumber\" style = \"font-weight: bold; text-align: right;\">2</td><td style = \"text-align: right;\">2</td><td style = \"text-align: left;\">Married</td><td style = \"text-align: right;\">25394</td><td style = \"text-align: left;\">F</td><td style = \"text-align: right;\">22</td><td style = \"text-align: right;\">9</td></tr><tr><td class = \"rowNumber\" style = \"font-weight: bold; text-align: right;\">3</td><td style = \"text-align: right;\">3</td><td style = \"text-align: left;\">Never_married</td><td style = \"text-align: right;\">25394</td><td style = \"text-align: left;\">F</td><td style = \"text-align: right;\">22</td><td style = \"text-align: right;\">0</td></tr><tr><td class = \"rowNumber\" style = \"font-weight: bold; text-align: right;\">4</td><td style = \"text-align: right;\">4</td><td style = \"text-align: left;\">Widowed</td><td style = \"text-align: right;\">25394</td><td style = \"text-align: left;\">F</td><td style = \"text-align: right;\">22</td><td style = \"text-align: right;\">0</td></tr><tr><td class = \"rowNumber\" style = \"font-weight: bold; text-align: right;\">5</td><td style = \"text-align: right;\">5</td><td style = \"text-align: left;\">Divorced</td><td style = \"text-align: right;\">44855</td><td style = \"text-align: left;\">F</td><td style = \"text-align: right;\">22</td><td style = \"text-align: right;\">3</td></tr><tr><td class = \"rowNumber\" style = \"font-weight: bold; text-align: right;\">6</td><td style = \"text-align: right;\">6</td><td style = \"text-align: left;\">Married</td><td style = \"text-align: right;\">44855</td><td style = \"text-align: left;\">F</td><td style = \"text-align: right;\">22</td><td style = \"text-align: right;\">9</td></tr><tr><td class = \"rowNumber\" style = \"font-weight: bold; text-align: right;\">7</td><td style = \"text-align: right;\">7</td><td style = \"text-align: left;\">Never_married</td><td style = \"text-align: right;\">44855</td><td style = \"text-align: left;\">F</td><td style = \"text-align: right;\">22</td><td style = \"text-align: right;\">0</td></tr><tr><td class = \"rowNumber\" style = \"font-weight: bold; text-align: right;\">8</td><td style = \"text-align: right;\">8</td><td style = \"text-align: left;\">Widowed</td><td style = \"text-align: right;\">44855</td><td style = \"text-align: left;\">F</td><td style = \"text-align: right;\">22</td><td style = \"text-align: right;\">0</td></tr><tr><td class = \"rowNumber\" style = \"font-weight: bold; text-align: right;\">9</td><td style = \"text-align: right;\">9</td><td style = \"text-align: left;\">Divorced</td><td style = \"text-align: right;\">63969</td><td style = \"text-align: left;\">F</td><td style = \"text-align: right;\">22</td><td style = \"text-align: right;\">3</td></tr><tr><td class = \"rowNumber\" style = \"font-weight: bold; text-align: right;\">10</td><td style = \"text-align: right;\">10</td><td style = \"text-align: left;\">Married</td><td style = \"text-align: right;\">63969</td><td style = \"text-align: left;\">F</td><td style = \"text-align: right;\">22</td><td style = \"text-align: right;\">9</td></tr><tr><td class = \"rowNumber\" style = \"font-weight: bold; text-align: right;\">11</td><td style = \"text-align: right;\">11</td><td style = \"text-align: left;\">Never_married</td><td style = \"text-align: right;\">63969</td><td style = \"text-align: left;\">F</td><td style = \"text-align: right;\">22</td><td style = \"text-align: right;\">0</td></tr><tr><td class = \"rowNumber\" style = \"font-weight: bold; text-align: right;\">12</td><td style = \"text-align: right;\">12</td><td style = \"text-align: left;\">Widowed</td><td style = \"text-align: right;\">63969</td><td style = \"text-align: left;\">F</td><td style = \"text-align: right;\">22</td><td style = \"text-align: right;\">0</td></tr><tr><td class = \"rowNumber\" style = \"font-weight: bold; text-align: right;\">13</td><td style = \"text-align: right;\">13</td><td style = \"text-align: left;\">Divorced</td><td style = \"text-align: right;\">88026</td><td style = \"text-align: left;\">F</td><td style = \"text-align: right;\">22</td><td style = \"text-align: right;\">3</td></tr><tr><td style = \"text-align: right;\">&vellip;</td><td style = \"text-align: right;\">&vellip;</td><td style = \"text-align: right;\">&vellip;</td><td style = \"text-align: right;\">&vellip;</td><td style = \"text-align: right;\">&vellip;</td><td style = \"text-align: right;\">&vellip;</td><td style = \"text-align: right;\">&vellip;</td></tr><tr><td class = \"rowNumber\" style = \"font-weight: bold; text-align: right;\">589</td><td style = \"text-align: right;\">589</td><td style = \"font-style: italic; text-align: left;\">missing</td><td style = \"text-align: right;\">88026</td><td style = \"text-align: left;\">M</td><td style = \"text-align: right;\">7</td><td style = \"text-align: right;\">10</td></tr><tr><td class = \"rowNumber\" style = \"font-weight: bold; text-align: right;\">590</td><td style = \"text-align: right;\">590</td><td style = \"font-style: italic; text-align: left;\">missing</td><td style = \"text-align: right;\">145915</td><td style = \"text-align: left;\">M</td><td style = \"text-align: right;\">7</td><td style = \"text-align: right;\">10</td></tr><tr><td class = \"rowNumber\" style = \"font-weight: bold; text-align: right;\">591</td><td style = \"text-align: right;\">591</td><td style = \"font-style: italic; text-align: left;\">missing</td><td style = \"text-align: right;\">25394</td><td style = \"text-align: left;\">M</td><td style = \"text-align: right;\">12</td><td style = \"text-align: right;\">6</td></tr><tr><td class = \"rowNumber\" style = \"font-weight: bold; text-align: right;\">592</td><td style = \"text-align: right;\">592</td><td style = \"font-style: italic; text-align: left;\">missing</td><td style = \"text-align: right;\">44855</td><td style = \"text-align: left;\">M</td><td style = \"text-align: right;\">12</td><td style = \"text-align: right;\">6</td></tr><tr><td class = \"rowNumber\" style = \"font-weight: bold; text-align: right;\">593</td><td style = \"text-align: right;\">593</td><td style = \"font-style: italic; text-align: left;\">missing</td><td style = \"text-align: right;\">63969</td><td style = \"text-align: left;\">M</td><td style = \"text-align: right;\">12</td><td style = \"text-align: right;\">6</td></tr><tr><td class = \"rowNumber\" style = \"font-weight: bold; text-align: right;\">594</td><td style = \"text-align: right;\">594</td><td style = \"font-style: italic; text-align: left;\">missing</td><td style = \"text-align: right;\">88026</td><td style = \"text-align: left;\">M</td><td style = \"text-align: right;\">12</td><td style = \"text-align: right;\">6</td></tr><tr><td class = \"rowNumber\" style = \"font-weight: bold; text-align: right;\">595</td><td style = \"text-align: right;\">595</td><td style = \"font-style: italic; text-align: left;\">missing</td><td style = \"text-align: right;\">145915</td><td style = \"text-align: left;\">M</td><td style = \"text-align: right;\">12</td><td style = \"text-align: right;\">6</td></tr><tr><td class = \"rowNumber\" style = \"font-weight: bold; text-align: right;\">596</td><td style = \"text-align: right;\">596</td><td style = \"font-style: italic; text-align: left;\">missing</td><td style = \"text-align: right;\">25394</td><td style = \"text-align: left;\">M</td><td style = \"text-align: right;\">17</td><td style = \"text-align: right;\">6</td></tr><tr><td class = \"rowNumber\" style = \"font-weight: bold; text-align: right;\">597</td><td style = \"text-align: right;\">597</td><td style = \"font-style: italic; text-align: left;\">missing</td><td style = \"text-align: right;\">44855</td><td style = \"text-align: left;\">M</td><td style = \"text-align: right;\">17</td><td style = \"text-align: right;\">6</td></tr><tr><td class = \"rowNumber\" style = \"font-weight: bold; text-align: right;\">598</td><td style = \"text-align: right;\">598</td><td style = \"font-style: italic; text-align: left;\">missing</td><td style = \"text-align: right;\">63969</td><td style = \"text-align: left;\">M</td><td style = \"text-align: right;\">17</td><td style = \"text-align: right;\">6</td></tr><tr><td class = \"rowNumber\" style = \"font-weight: bold; text-align: right;\">599</td><td style = \"text-align: right;\">599</td><td style = \"font-style: italic; text-align: left;\">missing</td><td style = \"text-align: right;\">88026</td><td style = \"text-align: left;\">M</td><td style = \"text-align: right;\">17</td><td style = \"text-align: right;\">6</td></tr><tr><td class = \"rowNumber\" style = \"font-weight: bold; text-align: right;\">600</td><td style = \"text-align: right;\">600</td><td style = \"font-style: italic; text-align: left;\">missing</td><td style = \"text-align: right;\">145915</td><td style = \"text-align: left;\">M</td><td style = \"text-align: right;\">17</td><td style = \"text-align: right;\">6</td></tr></tbody></table></div>"
      ],
      "text/latex": [
       "\\begin{tabular}{r|cccccc}\n",
       "\t& id & maritalstatus & income & sex & age & population\\\\\n",
       "\t\\hline\n",
       "\t& Int64 & String? & Int64? & Char? & Int64? & Int64\\\\\n",
       "\t\\hline\n",
       "\t1 & 1 & Divorced & 25394 & F & 22 & 3 \\\\\n",
       "\t2 & 2 & Married & 25394 & F & 22 & 9 \\\\\n",
       "\t3 & 3 & Never\\_married & 25394 & F & 22 & 0 \\\\\n",
       "\t4 & 4 & Widowed & 25394 & F & 22 & 0 \\\\\n",
       "\t5 & 5 & Divorced & 44855 & F & 22 & 3 \\\\\n",
       "\t6 & 6 & Married & 44855 & F & 22 & 9 \\\\\n",
       "\t7 & 7 & Never\\_married & 44855 & F & 22 & 0 \\\\\n",
       "\t8 & 8 & Widowed & 44855 & F & 22 & 0 \\\\\n",
       "\t9 & 9 & Divorced & 63969 & F & 22 & 3 \\\\\n",
       "\t10 & 10 & Married & 63969 & F & 22 & 9 \\\\\n",
       "\t11 & 11 & Never\\_married & 63969 & F & 22 & 0 \\\\\n",
       "\t12 & 12 & Widowed & 63969 & F & 22 & 0 \\\\\n",
       "\t13 & 13 & Divorced & 88026 & F & 22 & 3 \\\\\n",
       "\t14 & 14 & Married & 88026 & F & 22 & 9 \\\\\n",
       "\t15 & 15 & Never\\_married & 88026 & F & 22 & 0 \\\\\n",
       "\t16 & 16 & Widowed & 88026 & F & 22 & 0 \\\\\n",
       "\t17 & 17 & Divorced & 145915 & F & 22 & 3 \\\\\n",
       "\t18 & 18 & Married & 145915 & F & 22 & 9 \\\\\n",
       "\t19 & 19 & Never\\_married & 145915 & F & 22 & 0 \\\\\n",
       "\t20 & 20 & Widowed & 145915 & F & 22 & 0 \\\\\n",
       "\t21 & 21 & Divorced & 25394 & F & 27 & 4 \\\\\n",
       "\t22 & 22 & Married & 25394 & F & 27 & 14 \\\\\n",
       "\t23 & 23 & Never\\_married & 25394 & F & 27 & 0 \\\\\n",
       "\t24 & 24 & Widowed & 25394 & F & 27 & 0 \\\\\n",
       "\t$\\dots$ & $\\dots$ & $\\dots$ & $\\dots$ & $\\dots$ & $\\dots$ & $\\dots$ \\\\\n",
       "\\end{tabular}\n"
      ],
      "text/plain": [
       "\u001b[1m600×6 DataFrame\u001b[0m\n",
       "\u001b[1m Row \u001b[0m│\u001b[1m id    \u001b[0m\u001b[1m maritalstatus \u001b[0m\u001b[1m income \u001b[0m\u001b[1m sex   \u001b[0m\u001b[1m age    \u001b[0m\u001b[1m population \u001b[0m\n",
       "     │\u001b[90m Int64 \u001b[0m\u001b[90m String?       \u001b[0m\u001b[90m Int64? \u001b[0m\u001b[90m Char? \u001b[0m\u001b[90m Int64? \u001b[0m\u001b[90m Int64      \u001b[0m\n",
       "─────┼─────────────────────────────────────────────────────────\n",
       "   1 │     1  Divorced        25394  F          22           3\n",
       "   2 │     2  Married         25394  F          22           9\n",
       "   3 │     3  Never_married   25394  F          22           0\n",
       "   4 │     4  Widowed         25394  F          22           0\n",
       "   5 │     5  Divorced        44855  F          22           3\n",
       "   6 │     6  Married         44855  F          22           9\n",
       "   7 │     7  Never_married   44855  F          22           0\n",
       "   8 │     8  Widowed         44855  F          22           0\n",
       "  ⋮  │   ⋮          ⋮          ⋮       ⋮      ⋮         ⋮\n",
       " 594 │   594 \u001b[90m missing       \u001b[0m  88026  M          12           6\n",
       " 595 │   595 \u001b[90m missing       \u001b[0m 145915  M          12           6\n",
       " 596 │   596 \u001b[90m missing       \u001b[0m  25394  M          17           6\n",
       " 597 │   597 \u001b[90m missing       \u001b[0m  44855  M          17           6\n",
       " 598 │   598 \u001b[90m missing       \u001b[0m  63969  M          17           6\n",
       " 599 │   599 \u001b[90m missing       \u001b[0m  88026  M          17           6\n",
       " 600 │   600 \u001b[90m missing       \u001b[0m 145915  M          17           6\n",
       "\u001b[36m                                               585 rows omitted\u001b[0m"
      ]
     },
     "metadata": {},
     "output_type": "display_data"
    }
   ],
   "source": [
    "\n",
    "#generation of dataframe of individuals\n",
    "aggregated_individuals = generate_joint_distribution(marginal_ind_sex_maritalstatus, marginal_ind_income, marginal_ind_age_sex, config_file = \"tutorial_notebooks/config_file.json\")"
   ]
  },
  {
   "cell_type": "code",
   "execution_count": 4,
   "metadata": {},
   "outputs": [
    {
     "data": {
      "text/html": [
       "<div><div style = \"float: left;\"><span>6×7 DataFrame</span></div><div style = \"clear: both;\"></div></div><div class = \"data-frame\" style = \"overflow-x: scroll;\"><table class = \"data-frame\" style = \"margin-bottom: 6px;\"><thead><tr class = \"header\"><th class = \"rowNumber\" style = \"font-weight: bold; text-align: right;\">Row</th><th style = \"text-align: left;\">variable</th><th style = \"text-align: left;\">mean</th><th style = \"text-align: left;\">min</th><th style = \"text-align: left;\">median</th><th style = \"text-align: left;\">max</th><th style = \"text-align: left;\">nmissing</th><th style = \"text-align: left;\">eltype</th></tr><tr class = \"subheader headerLastRow\"><th class = \"rowNumber\" style = \"font-weight: bold; text-align: right;\"></th><th title = \"Symbol\" style = \"text-align: left;\">Symbol</th><th title = \"Union{Nothing, Float64}\" style = \"text-align: left;\">Union…</th><th title = \"Any\" style = \"text-align: left;\">Any</th><th title = \"Union{Nothing, Float64}\" style = \"text-align: left;\">Union…</th><th title = \"Any\" style = \"text-align: left;\">Any</th><th title = \"Int64\" style = \"text-align: left;\">Int64</th><th title = \"Type\" style = \"text-align: left;\">Type</th></tr></thead><tbody><tr><td class = \"rowNumber\" style = \"font-weight: bold; text-align: right;\">1</td><td style = \"text-align: left;\">id</td><td style = \"text-align: left;\">323.158</td><td style = \"text-align: left;\">1</td><td style = \"text-align: left;\">335.5</td><td style = \"text-align: left;\">600</td><td style = \"text-align: right;\">0</td><td style = \"text-align: left;\">Int64</td></tr><tr><td class = \"rowNumber\" style = \"font-weight: bold; text-align: right;\">2</td><td style = \"text-align: left;\">maritalstatus</td><td style = \"font-style: italic; text-align: left;\"></td><td style = \"text-align: left;\">Divorced</td><td style = \"font-style: italic; text-align: left;\"></td><td style = \"text-align: left;\">Widowed</td><td style = \"text-align: right;\">40</td><td style = \"text-align: left;\">Union{Missing, String}</td></tr><tr><td class = \"rowNumber\" style = \"font-weight: bold; text-align: right;\">3</td><td style = \"text-align: left;\">income</td><td style = \"text-align: left;\">73631.8</td><td style = \"text-align: left;\">25394</td><td style = \"text-align: left;\">63969.0</td><td style = \"text-align: left;\">145915</td><td style = \"text-align: right;\">0</td><td style = \"text-align: left;\">Union{Missing, Int64}</td></tr><tr><td class = \"rowNumber\" style = \"font-weight: bold; text-align: right;\">4</td><td style = \"text-align: left;\">sex</td><td style = \"font-style: italic; text-align: left;\"></td><td style = \"text-align: left;\">F</td><td style = \"font-style: italic; text-align: left;\"></td><td style = \"text-align: left;\">M</td><td style = \"text-align: right;\">0</td><td style = \"text-align: left;\">Union{Missing, Char}</td></tr><tr><td class = \"rowNumber\" style = \"font-weight: bold; text-align: right;\">5</td><td style = \"text-align: left;\">age</td><td style = \"text-align: left;\">47.1316</td><td style = \"text-align: left;\">2</td><td style = \"text-align: left;\">47.0</td><td style = \"text-align: left;\">87</td><td style = \"text-align: right;\">0</td><td style = \"text-align: left;\">Union{Missing, Int64}</td></tr><tr><td class = \"rowNumber\" style = \"font-weight: bold; text-align: right;\">6</td><td style = \"text-align: left;\">population</td><td style = \"text-align: left;\">5.59211</td><td style = \"text-align: left;\">1</td><td style = \"text-align: left;\">3.0</td><td style = \"text-align: left;\">19</td><td style = \"text-align: right;\">0</td><td style = \"text-align: left;\">Int64</td></tr></tbody></table></div>"
      ],
      "text/latex": [
       "\\begin{tabular}{r|ccccccc}\n",
       "\t& variable & mean & min & median & max & nmissing & eltype\\\\\n",
       "\t\\hline\n",
       "\t& Symbol & Union… & Any & Union… & Any & Int64 & Type\\\\\n",
       "\t\\hline\n",
       "\t1 & id & 323.158 & 1 & 335.5 & 600 & 0 & Int64 \\\\\n",
       "\t2 & maritalstatus &  & Divorced &  & Widowed & 40 & Union\\{Missing, String\\} \\\\\n",
       "\t3 & income & 73631.8 & 25394 & 63969.0 & 145915 & 0 & Union\\{Missing, Int64\\} \\\\\n",
       "\t4 & sex &  & F &  & M & 0 & Union\\{Missing, Char\\} \\\\\n",
       "\t5 & age & 47.1316 & 2 & 47.0 & 87 & 0 & Union\\{Missing, Int64\\} \\\\\n",
       "\t6 & population & 5.59211 & 1 & 3.0 & 19 & 0 & Int64 \\\\\n",
       "\\end{tabular}\n"
      ],
      "text/plain": [
       "\u001b[1m6×7 DataFrame\u001b[0m\n",
       "\u001b[1m Row \u001b[0m│\u001b[1m variable      \u001b[0m\u001b[1m mean    \u001b[0m\u001b[1m min      \u001b[0m\u001b[1m median  \u001b[0m\u001b[1m max     \u001b[0m\u001b[1m nmissing \u001b[0m\u001b[1m eltype   \u001b[0m ⋯\n",
       "     │\u001b[90m Symbol        \u001b[0m\u001b[90m Union…  \u001b[0m\u001b[90m Any      \u001b[0m\u001b[90m Union…  \u001b[0m\u001b[90m Any     \u001b[0m\u001b[90m Int64    \u001b[0m\u001b[90m Type     \u001b[0m ⋯\n",
       "─────┼──────────────────────────────────────────────────────────────────────────\n",
       "   1 │ id             323.158  1         335.5    600             0  Int64     ⋯\n",
       "   2 │ maritalstatus \u001b[90m         \u001b[0m Divorced \u001b[90m         \u001b[0m Widowed        40  Union{Mis\n",
       "   3 │ income         73631.8  25394     63969.0  145915          0  Union{Mis\n",
       "   4 │ sex           \u001b[90m         \u001b[0m F        \u001b[90m         \u001b[0m M               0  Union{Mis\n",
       "   5 │ age            47.1316  2         47.0     87              0  Union{Mis ⋯\n",
       "   6 │ population     5.59211  1         3.0      19              0  Int64\n",
       "\u001b[36m                                                                1 column omitted\u001b[0m"
      ]
     },
     "metadata": {},
     "output_type": "display_data"
    }
   ],
   "source": [
    "# extra information about the individuals\n",
    "describe(aggregated_individuals[aggregated_individuals.:population .> 0,:])"
   ]
  },
  {
   "cell_type": "markdown",
   "metadata": {},
   "source": [
    "### Create dataframe of households"
   ]
  },
  {
   "cell_type": "code",
   "execution_count": 5,
   "metadata": {},
   "outputs": [
    {
     "data": {
      "text/html": [
       "<div><div style = \"float: left;\"><span>5×3 DataFrame</span></div><div style = \"clear: both;\"></div></div><div class = \"data-frame\" style = \"overflow-x: scroll;\"><table class = \"data-frame\" style = \"margin-bottom: 6px;\"><thead><tr class = \"header\"><th class = \"rowNumber\" style = \"font-weight: bold; text-align: right;\">Row</th><th style = \"text-align: left;\">id</th><th style = \"text-align: left;\">hh_size</th><th style = \"text-align: left;\">population</th></tr><tr class = \"subheader headerLastRow\"><th class = \"rowNumber\" style = \"font-weight: bold; text-align: right;\"></th><th title = \"Int64\" style = \"text-align: left;\">Int64</th><th title = \"Int64\" style = \"text-align: left;\">Int64</th><th title = \"Int64\" style = \"text-align: left;\">Int64</th></tr></thead><tbody><tr><td class = \"rowNumber\" style = \"font-weight: bold; text-align: right;\">1</td><td style = \"text-align: right;\">1</td><td style = \"text-align: right;\">1</td><td style = \"text-align: right;\">246</td></tr><tr><td class = \"rowNumber\" style = \"font-weight: bold; text-align: right;\">2</td><td style = \"text-align: right;\">2</td><td style = \"text-align: right;\">2</td><td style = \"text-align: right;\">272</td></tr><tr><td class = \"rowNumber\" style = \"font-weight: bold; text-align: right;\">3</td><td style = \"text-align: right;\">3</td><td style = \"text-align: right;\">3</td><td style = \"text-align: right;\">179</td></tr><tr><td class = \"rowNumber\" style = \"font-weight: bold; text-align: right;\">4</td><td style = \"text-align: right;\">4</td><td style = \"text-align: right;\">4</td><td style = \"text-align: right;\">74</td></tr><tr><td class = \"rowNumber\" style = \"font-weight: bold; text-align: right;\">5</td><td style = \"text-align: right;\">5</td><td style = \"text-align: right;\">5</td><td style = \"text-align: right;\">52</td></tr></tbody></table></div>"
      ],
      "text/latex": [
       "\\begin{tabular}{r|ccc}\n",
       "\t& id & hh\\_size & population\\\\\n",
       "\t\\hline\n",
       "\t& Int64 & Int64 & Int64\\\\\n",
       "\t\\hline\n",
       "\t1 & 1 & 1 & 246 \\\\\n",
       "\t2 & 2 & 2 & 272 \\\\\n",
       "\t3 & 3 & 3 & 179 \\\\\n",
       "\t4 & 4 & 4 & 74 \\\\\n",
       "\t5 & 5 & 5 & 52 \\\\\n",
       "\\end{tabular}\n"
      ],
      "text/plain": [
       "\u001b[1m5×3 DataFrame\u001b[0m\n",
       "\u001b[1m Row \u001b[0m│\u001b[1m id    \u001b[0m\u001b[1m hh_size \u001b[0m\u001b[1m population \u001b[0m\n",
       "     │\u001b[90m Int64 \u001b[0m\u001b[90m Int64   \u001b[0m\u001b[90m Int64      \u001b[0m\n",
       "─────┼────────────────────────────\n",
       "   1 │     1        1         246\n",
       "   2 │     2        2         272\n",
       "   3 │     3        3         179\n",
       "   4 │     4        4          74\n",
       "   5 │     5        5          52"
      ]
     },
     "metadata": {},
     "output_type": "display_data"
    }
   ],
   "source": [
    "\n",
    "#generation of dataframe of households\n",
    "aggregated_households = generate_joint_distribution(marginal_hh_size)"
   ]
  },
  {
   "cell_type": "markdown",
   "metadata": {},
   "source": [
    "### Allocate individuals to households"
   ]
  },
  {
   "cell_type": "code",
   "execution_count": 6,
   "metadata": {},
   "outputs": [
    {
     "name": "stdout",
     "output_type": "stream",
     "text": [
      "Total number of individuals: 2125\n",
      "Total number of households: 823\n",
      "Allocation started...\n",
      "Creation of individual constraints started.\n"
     ]
    },
    {
     "name": "stderr",
     "output_type": "stream",
     "text": [
      "\u001b[32mAdding individual constraints 100%|██████████████████████| Time: 0:00:00\u001b[39m\u001b[K\n"
     ]
    },
    {
     "name": "stdout",
     "output_type": "stream",
     "text": [
      "Creation of individual constraints finished.\n"
     ]
    },
    {
     "name": "stderr",
     "output_type": "stream",
     "text": [
      "\u001b[32mPreparing household constraints 1/3 100%|████████████████| Time: 0:00:00\u001b[39m\u001b[K\n"
     ]
    },
    {
     "name": "stdout",
     "output_type": "stream",
     "text": [
      "Preparation for creation of household constraints started.\n"
     ]
    },
    {
     "name": "stderr",
     "output_type": "stream",
     "text": [
      "\u001b[32mPreparing household constraints 2/3 100%|████████████████| Time: 0:00:00\u001b[39m\u001b[K\n",
      "\u001b[32mPreparing household constraints 3/3 100%|████████████████| Time: 0:00:00\u001b[39m\u001b[K\n"
     ]
    },
    {
     "name": "stdout",
     "output_type": "stream",
     "text": [
      "Preparation for creation of household constraints finished.\n",
      "Creation of household constraints started.\n"
     ]
    },
    {
     "name": "stderr",
     "output_type": "stream",
     "text": [
      "\u001b[32mAdding household constraints. 100%|██████████████████████| Time: 0:00:01\u001b[39m\u001b[K\n"
     ]
    },
    {
     "name": "stdout",
     "output_type": "stream",
     "text": [
      "Creation of household constraints finished\n",
      "Optimization of allocation started.\n",
      "Optimization completed.\n",
      "Objective value: 1758.0\n"
     ]
    },
    {
     "name": "stderr",
     "output_type": "stream",
     "text": [
      "\u001b[32mDisaggregating individuals 100%|█████████████████████████| Time: 0:00:00\u001b[39m\u001b[K\n",
      "\u001b[32mDisaggregating households 100%|██████████████████████████| Time: 0:00:00\u001b[39m\u001b[K\n"
     ]
    },
    {
     "name": "stdout",
     "output_type": "stream",
     "text": [
      "Allocation finished."
     ]
    },
    {
     "data": {
      "text/plain": [
       "(A JuMP Model\n",
       "Maximization problem with:\n",
       "Variables: 1748875\n",
       "Objective function type: JuMP.AffExpr\n",
       "`JuMP.AffExpr`-in-`MathOptInterface.EqualTo{Float64}`: 1062 constraints\n",
       "`JuMP.AffExpr`-in-`MathOptInterface.GreaterThan{Float64}`: 882 constraints\n",
       "`JuMP.AffExpr`-in-`MathOptInterface.LessThan{Float64}`: 4109 constraints\n",
       "`JuMP.VariableRef`-in-`MathOptInterface.ZeroOne`: 1748875 constraints\n",
       "Model mode: AUTOMATIC\n",
       "CachingOptimizer state: ATTACHED_OPTIMIZER\n",
       "Solver name: GLPK\n",
       "Names registered in the model: allocation, [0.0 0.0 … 0.0 0.0; 0.0 0.0 … 0.0 0.0; … ; 0.0 0.0 … 0.0 0.0; 0.0 0.0 … 0.0 0.0], \u001b[1m2125×3 DataFrame\u001b[0m\n",
       "\u001b[1m  Row \u001b[0m│\u001b[1m id    \u001b[0m\u001b[1m agg_ind_id \u001b[0m\u001b[1m household_id \u001b[0m\n",
       "      │\u001b[90m Int64 \u001b[0m\u001b[90m Int64?     \u001b[0m\u001b[90m Int64?       \u001b[0m\n",
       "──────┼─────────────────────────────────\n",
       "    1 │     1           1           519\n",
       "    2 │     2           1           520\n",
       "    3 │     3           1           521\n",
       "    4 │     4           2           522\n",
       "    5 │     5           2           523\n",
       "    6 │     6           2           524\n",
       "    7 │     7           2           525\n",
       "    8 │     8           2           526\n",
       "  ⋮   │   ⋮        ⋮            ⋮\n",
       " 2119 │  2119         599 \u001b[90m      missing \u001b[0m\n",
       " 2120 │  2120         600 \u001b[90m      missing \u001b[0m\n",
       " 2121 │  2121         600 \u001b[90m      missing \u001b[0m\n",
       " 2122 │  2122         600 \u001b[90m      missing \u001b[0m\n",
       " 2123 │  2123         600 \u001b[90m      missing \u001b[0m\n",
       " 2124 │  2124         600 \u001b[90m      missing \u001b[0m\n",
       " 2125 │  2125         600 \u001b[90m      missing \u001b[0m\n",
       "\u001b[36m                       2110 rows omitted\u001b[0m, \u001b[1m823×7 DataFrame\u001b[0m\n",
       "\u001b[1m Row \u001b[0m│\u001b[1m id    \u001b[0m\u001b[1m agg_hh_id \u001b[0m\u001b[1m head_id \u001b[0m\u001b[1m partner_id \u001b[0m\u001b[1m child1_id \u001b[0m\u001b[1m child2_id \u001b[0m\u001b[1m child3_id \u001b[0m\n",
       "     │\u001b[90m Int64 \u001b[0m\u001b[90m Int64?    \u001b[0m\u001b[90m Int64?  \u001b[0m\u001b[90m Int64?     \u001b[0m\u001b[90m Int64?    \u001b[0m\u001b[90m Int64?    \u001b[0m\u001b[90m Int64?    \u001b[0m\n",
       "─────┼────────────────────────────────────────────────────────────────────────\n",
       "   1 │     1          1      202 \u001b[90m    missing \u001b[0m\u001b[90m   missing \u001b[0m\u001b[90m   missing \u001b[0m\u001b[90m   missing \u001b[0m\n",
       "   2 │     2          1      202 \u001b[90m    missing \u001b[0m\u001b[90m   missing \u001b[0m\u001b[90m   missing \u001b[0m\u001b[90m   missing \u001b[0m\n",
       "   3 │     3          1      202 \u001b[90m    missing \u001b[0m\u001b[90m   missing \u001b[0m\u001b[90m   missing \u001b[0m\u001b[90m   missing \u001b[0m\n",
       "   4 │     4          1      206 \u001b[90m    missing \u001b[0m\u001b[90m   missing \u001b[0m\u001b[90m   missing \u001b[0m\u001b[90m   missing \u001b[0m\n",
       "   5 │     5          1      206 \u001b[90m    missing \u001b[0m\u001b[90m   missing \u001b[0m\u001b[90m   missing \u001b[0m\u001b[90m   missing \u001b[0m\n",
       "   6 │     6          1      206 \u001b[90m    missing \u001b[0m\u001b[90m   missing \u001b[0m\u001b[90m   missing \u001b[0m\u001b[90m   missing \u001b[0m\n",
       "   7 │     7          1      206 \u001b[90m    missing \u001b[0m\u001b[90m   missing \u001b[0m\u001b[90m   missing \u001b[0m\u001b[90m   missing \u001b[0m\n",
       "   8 │     8          1      206 \u001b[90m    missing \u001b[0m\u001b[90m   missing \u001b[0m\u001b[90m   missing \u001b[0m\u001b[90m   missing \u001b[0m\n",
       "  ⋮  │   ⋮        ⋮         ⋮         ⋮           ⋮          ⋮          ⋮\n",
       " 817 │   817          5      198 \u001b[90m    missing \u001b[0m       413        413        413\n",
       " 818 │   818          5      198 \u001b[90m    missing \u001b[0m       416        417        417\n",
       " 819 │   819          5      198 \u001b[90m    missing \u001b[0m       417        420        421\n",
       " 820 │   820          5      198 \u001b[90m    missing \u001b[0m       421        421        424\n",
       " 821 │   821          5      198 \u001b[90m    missing \u001b[0m       425        425        425\n",
       " 822 │   822          5      202 \u001b[90m    missing \u001b[0m       428        429        429\n",
       " 823 │   823          5      202 \u001b[90m    missing \u001b[0m       429        432        433\n",
       "\u001b[36m                                                              808 rows omitted\u001b[0m)"
      ]
     },
     "metadata": {},
     "output_type": "display_data"
    }
   ],
   "source": [
    "model, allocation_values, disaggregated_individuals, disaggregated_households = assign_and_optimize_individuals_to_households!(aggregated_individuals, aggregated_households)"
   ]
  },
  {
   "cell_type": "markdown",
   "metadata": {},
   "source": [
    "### Check the outputs of allocation"
   ]
  },
  {
   "cell_type": "code",
   "execution_count": 7,
   "metadata": {},
   "outputs": [
    {
     "data": {
      "text/plain": [
       "A JuMP Model\n",
       "Maximization problem with:\n",
       "Variables: 1748875\n",
       "Objective function type: JuMP.AffExpr\n",
       "`JuMP.AffExpr`-in-`MathOptInterface.EqualTo{Float64}`: 1062 constraints\n",
       "`JuMP.AffExpr`-in-`MathOptInterface.GreaterThan{Float64}`: 882 constraints\n",
       "`JuMP.AffExpr`-in-`MathOptInterface.LessThan{Float64}`: 4109 constraints\n",
       "`JuMP.VariableRef`-in-`MathOptInterface.ZeroOne`: 1748875 constraints\n",
       "Model mode: AUTOMATIC\n",
       "CachingOptimizer state: ATTACHED_OPTIMIZER\n",
       "Solver name: GLPK\n",
       "Names registered in the model: allocation"
      ]
     },
     "metadata": {},
     "output_type": "display_data"
    }
   ],
   "source": [
    "model"
   ]
  },
  {
   "cell_type": "code",
   "execution_count": 8,
   "metadata": {},
   "outputs": [
    {
     "data": {
      "text/html": [
       "<div><div style = \"float: left;\"><span>600×6 DataFrame</span></div><div style = \"float: right;\"><span style = \"font-style: italic;\">575 rows omitted</span></div><div style = \"clear: both;\"></div></div><div class = \"data-frame\" style = \"overflow-x: scroll;\"><table class = \"data-frame\" style = \"margin-bottom: 6px;\"><thead><tr class = \"header\"><th class = \"rowNumber\" style = \"font-weight: bold; text-align: right;\">Row</th><th style = \"text-align: left;\">id</th><th style = \"text-align: left;\">maritalstatus</th><th style = \"text-align: left;\">income</th><th style = \"text-align: left;\">sex</th><th style = \"text-align: left;\">age</th><th style = \"text-align: left;\">population</th></tr><tr class = \"subheader headerLastRow\"><th class = \"rowNumber\" style = \"font-weight: bold; text-align: right;\"></th><th title = \"Int64\" style = \"text-align: left;\">Int64</th><th title = \"Union{Missing, String}\" style = \"text-align: left;\">String?</th><th title = \"Union{Missing, Int64}\" style = \"text-align: left;\">Int64?</th><th title = \"Union{Missing, Char}\" style = \"text-align: left;\">Char?</th><th title = \"Union{Missing, Int64}\" style = \"text-align: left;\">Int64?</th><th title = \"Int64\" style = \"text-align: left;\">Int64</th></tr></thead><tbody><tr><td class = \"rowNumber\" style = \"font-weight: bold; text-align: right;\">1</td><td style = \"text-align: right;\">1</td><td style = \"text-align: left;\">Divorced</td><td style = \"text-align: right;\">25394</td><td style = \"text-align: left;\">F</td><td style = \"text-align: right;\">22</td><td style = \"text-align: right;\">3</td></tr><tr><td class = \"rowNumber\" style = \"font-weight: bold; text-align: right;\">2</td><td style = \"text-align: right;\">2</td><td style = \"text-align: left;\">Married</td><td style = \"text-align: right;\">25394</td><td style = \"text-align: left;\">F</td><td style = \"text-align: right;\">22</td><td style = \"text-align: right;\">9</td></tr><tr><td class = \"rowNumber\" style = \"font-weight: bold; text-align: right;\">3</td><td style = \"text-align: right;\">3</td><td style = \"text-align: left;\">Never_married</td><td style = \"text-align: right;\">25394</td><td style = \"text-align: left;\">F</td><td style = \"text-align: right;\">22</td><td style = \"text-align: right;\">0</td></tr><tr><td class = \"rowNumber\" style = \"font-weight: bold; text-align: right;\">4</td><td style = \"text-align: right;\">4</td><td style = \"text-align: left;\">Widowed</td><td style = \"text-align: right;\">25394</td><td style = \"text-align: left;\">F</td><td style = \"text-align: right;\">22</td><td style = \"text-align: right;\">0</td></tr><tr><td class = \"rowNumber\" style = \"font-weight: bold; text-align: right;\">5</td><td style = \"text-align: right;\">5</td><td style = \"text-align: left;\">Divorced</td><td style = \"text-align: right;\">44855</td><td style = \"text-align: left;\">F</td><td style = \"text-align: right;\">22</td><td style = \"text-align: right;\">3</td></tr><tr><td class = \"rowNumber\" style = \"font-weight: bold; text-align: right;\">6</td><td style = \"text-align: right;\">6</td><td style = \"text-align: left;\">Married</td><td style = \"text-align: right;\">44855</td><td style = \"text-align: left;\">F</td><td style = \"text-align: right;\">22</td><td style = \"text-align: right;\">9</td></tr><tr><td class = \"rowNumber\" style = \"font-weight: bold; text-align: right;\">7</td><td style = \"text-align: right;\">7</td><td style = \"text-align: left;\">Never_married</td><td style = \"text-align: right;\">44855</td><td style = \"text-align: left;\">F</td><td style = \"text-align: right;\">22</td><td style = \"text-align: right;\">0</td></tr><tr><td class = \"rowNumber\" style = \"font-weight: bold; text-align: right;\">8</td><td style = \"text-align: right;\">8</td><td style = \"text-align: left;\">Widowed</td><td style = \"text-align: right;\">44855</td><td style = \"text-align: left;\">F</td><td style = \"text-align: right;\">22</td><td style = \"text-align: right;\">0</td></tr><tr><td class = \"rowNumber\" style = \"font-weight: bold; text-align: right;\">9</td><td style = \"text-align: right;\">9</td><td style = \"text-align: left;\">Divorced</td><td style = \"text-align: right;\">63969</td><td style = \"text-align: left;\">F</td><td style = \"text-align: right;\">22</td><td style = \"text-align: right;\">3</td></tr><tr><td class = \"rowNumber\" style = \"font-weight: bold; text-align: right;\">10</td><td style = \"text-align: right;\">10</td><td style = \"text-align: left;\">Married</td><td style = \"text-align: right;\">63969</td><td style = \"text-align: left;\">F</td><td style = \"text-align: right;\">22</td><td style = \"text-align: right;\">9</td></tr><tr><td class = \"rowNumber\" style = \"font-weight: bold; text-align: right;\">11</td><td style = \"text-align: right;\">11</td><td style = \"text-align: left;\">Never_married</td><td style = \"text-align: right;\">63969</td><td style = \"text-align: left;\">F</td><td style = \"text-align: right;\">22</td><td style = \"text-align: right;\">0</td></tr><tr><td class = \"rowNumber\" style = \"font-weight: bold; text-align: right;\">12</td><td style = \"text-align: right;\">12</td><td style = \"text-align: left;\">Widowed</td><td style = \"text-align: right;\">63969</td><td style = \"text-align: left;\">F</td><td style = \"text-align: right;\">22</td><td style = \"text-align: right;\">0</td></tr><tr><td class = \"rowNumber\" style = \"font-weight: bold; text-align: right;\">13</td><td style = \"text-align: right;\">13</td><td style = \"text-align: left;\">Divorced</td><td style = \"text-align: right;\">88026</td><td style = \"text-align: left;\">F</td><td style = \"text-align: right;\">22</td><td style = \"text-align: right;\">3</td></tr><tr><td style = \"text-align: right;\">&vellip;</td><td style = \"text-align: right;\">&vellip;</td><td style = \"text-align: right;\">&vellip;</td><td style = \"text-align: right;\">&vellip;</td><td style = \"text-align: right;\">&vellip;</td><td style = \"text-align: right;\">&vellip;</td><td style = \"text-align: right;\">&vellip;</td></tr><tr><td class = \"rowNumber\" style = \"font-weight: bold; text-align: right;\">589</td><td style = \"text-align: right;\">589</td><td style = \"font-style: italic; text-align: left;\">missing</td><td style = \"text-align: right;\">88026</td><td style = \"text-align: left;\">M</td><td style = \"text-align: right;\">7</td><td style = \"text-align: right;\">10</td></tr><tr><td class = \"rowNumber\" style = \"font-weight: bold; text-align: right;\">590</td><td style = \"text-align: right;\">590</td><td style = \"font-style: italic; text-align: left;\">missing</td><td style = \"text-align: right;\">145915</td><td style = \"text-align: left;\">M</td><td style = \"text-align: right;\">7</td><td style = \"text-align: right;\">10</td></tr><tr><td class = \"rowNumber\" style = \"font-weight: bold; text-align: right;\">591</td><td style = \"text-align: right;\">591</td><td style = \"font-style: italic; text-align: left;\">missing</td><td style = \"text-align: right;\">25394</td><td style = \"text-align: left;\">M</td><td style = \"text-align: right;\">12</td><td style = \"text-align: right;\">6</td></tr><tr><td class = \"rowNumber\" style = \"font-weight: bold; text-align: right;\">592</td><td style = \"text-align: right;\">592</td><td style = \"font-style: italic; text-align: left;\">missing</td><td style = \"text-align: right;\">44855</td><td style = \"text-align: left;\">M</td><td style = \"text-align: right;\">12</td><td style = \"text-align: right;\">6</td></tr><tr><td class = \"rowNumber\" style = \"font-weight: bold; text-align: right;\">593</td><td style = \"text-align: right;\">593</td><td style = \"font-style: italic; text-align: left;\">missing</td><td style = \"text-align: right;\">63969</td><td style = \"text-align: left;\">M</td><td style = \"text-align: right;\">12</td><td style = \"text-align: right;\">6</td></tr><tr><td class = \"rowNumber\" style = \"font-weight: bold; text-align: right;\">594</td><td style = \"text-align: right;\">594</td><td style = \"font-style: italic; text-align: left;\">missing</td><td style = \"text-align: right;\">88026</td><td style = \"text-align: left;\">M</td><td style = \"text-align: right;\">12</td><td style = \"text-align: right;\">6</td></tr><tr><td class = \"rowNumber\" style = \"font-weight: bold; text-align: right;\">595</td><td style = \"text-align: right;\">595</td><td style = \"font-style: italic; text-align: left;\">missing</td><td style = \"text-align: right;\">145915</td><td style = \"text-align: left;\">M</td><td style = \"text-align: right;\">12</td><td style = \"text-align: right;\">6</td></tr><tr><td class = \"rowNumber\" style = \"font-weight: bold; text-align: right;\">596</td><td style = \"text-align: right;\">596</td><td style = \"font-style: italic; text-align: left;\">missing</td><td style = \"text-align: right;\">25394</td><td style = \"text-align: left;\">M</td><td style = \"text-align: right;\">17</td><td style = \"text-align: right;\">6</td></tr><tr><td class = \"rowNumber\" style = \"font-weight: bold; text-align: right;\">597</td><td style = \"text-align: right;\">597</td><td style = \"font-style: italic; text-align: left;\">missing</td><td style = \"text-align: right;\">44855</td><td style = \"text-align: left;\">M</td><td style = \"text-align: right;\">17</td><td style = \"text-align: right;\">6</td></tr><tr><td class = \"rowNumber\" style = \"font-weight: bold; text-align: right;\">598</td><td style = \"text-align: right;\">598</td><td style = \"font-style: italic; text-align: left;\">missing</td><td style = \"text-align: right;\">63969</td><td style = \"text-align: left;\">M</td><td style = \"text-align: right;\">17</td><td style = \"text-align: right;\">6</td></tr><tr><td class = \"rowNumber\" style = \"font-weight: bold; text-align: right;\">599</td><td style = \"text-align: right;\">599</td><td style = \"font-style: italic; text-align: left;\">missing</td><td style = \"text-align: right;\">88026</td><td style = \"text-align: left;\">M</td><td style = \"text-align: right;\">17</td><td style = \"text-align: right;\">6</td></tr><tr><td class = \"rowNumber\" style = \"font-weight: bold; text-align: right;\">600</td><td style = \"text-align: right;\">600</td><td style = \"font-style: italic; text-align: left;\">missing</td><td style = \"text-align: right;\">145915</td><td style = \"text-align: left;\">M</td><td style = \"text-align: right;\">17</td><td style = \"text-align: right;\">6</td></tr></tbody></table></div>"
      ],
      "text/latex": [
       "\\begin{tabular}{r|cccccc}\n",
       "\t& id & maritalstatus & income & sex & age & population\\\\\n",
       "\t\\hline\n",
       "\t& Int64 & String? & Int64? & Char? & Int64? & Int64\\\\\n",
       "\t\\hline\n",
       "\t1 & 1 & Divorced & 25394 & F & 22 & 3 \\\\\n",
       "\t2 & 2 & Married & 25394 & F & 22 & 9 \\\\\n",
       "\t3 & 3 & Never\\_married & 25394 & F & 22 & 0 \\\\\n",
       "\t4 & 4 & Widowed & 25394 & F & 22 & 0 \\\\\n",
       "\t5 & 5 & Divorced & 44855 & F & 22 & 3 \\\\\n",
       "\t6 & 6 & Married & 44855 & F & 22 & 9 \\\\\n",
       "\t7 & 7 & Never\\_married & 44855 & F & 22 & 0 \\\\\n",
       "\t8 & 8 & Widowed & 44855 & F & 22 & 0 \\\\\n",
       "\t9 & 9 & Divorced & 63969 & F & 22 & 3 \\\\\n",
       "\t10 & 10 & Married & 63969 & F & 22 & 9 \\\\\n",
       "\t11 & 11 & Never\\_married & 63969 & F & 22 & 0 \\\\\n",
       "\t12 & 12 & Widowed & 63969 & F & 22 & 0 \\\\\n",
       "\t13 & 13 & Divorced & 88026 & F & 22 & 3 \\\\\n",
       "\t14 & 14 & Married & 88026 & F & 22 & 9 \\\\\n",
       "\t15 & 15 & Never\\_married & 88026 & F & 22 & 0 \\\\\n",
       "\t16 & 16 & Widowed & 88026 & F & 22 & 0 \\\\\n",
       "\t17 & 17 & Divorced & 145915 & F & 22 & 3 \\\\\n",
       "\t18 & 18 & Married & 145915 & F & 22 & 9 \\\\\n",
       "\t19 & 19 & Never\\_married & 145915 & F & 22 & 0 \\\\\n",
       "\t20 & 20 & Widowed & 145915 & F & 22 & 0 \\\\\n",
       "\t21 & 21 & Divorced & 25394 & F & 27 & 4 \\\\\n",
       "\t22 & 22 & Married & 25394 & F & 27 & 14 \\\\\n",
       "\t23 & 23 & Never\\_married & 25394 & F & 27 & 0 \\\\\n",
       "\t24 & 24 & Widowed & 25394 & F & 27 & 0 \\\\\n",
       "\t$\\dots$ & $\\dots$ & $\\dots$ & $\\dots$ & $\\dots$ & $\\dots$ & $\\dots$ \\\\\n",
       "\\end{tabular}\n"
      ],
      "text/plain": [
       "\u001b[1m600×6 DataFrame\u001b[0m\n",
       "\u001b[1m Row \u001b[0m│\u001b[1m id    \u001b[0m\u001b[1m maritalstatus \u001b[0m\u001b[1m income \u001b[0m\u001b[1m sex   \u001b[0m\u001b[1m age    \u001b[0m\u001b[1m population \u001b[0m\n",
       "     │\u001b[90m Int64 \u001b[0m\u001b[90m String?       \u001b[0m\u001b[90m Int64? \u001b[0m\u001b[90m Char? \u001b[0m\u001b[90m Int64? \u001b[0m\u001b[90m Int64      \u001b[0m\n",
       "─────┼─────────────────────────────────────────────────────────\n",
       "   1 │     1  Divorced        25394  F          22           3\n",
       "   2 │     2  Married         25394  F          22           9\n",
       "   3 │     3  Never_married   25394  F          22           0\n",
       "   4 │     4  Widowed         25394  F          22           0\n",
       "   5 │     5  Divorced        44855  F          22           3\n",
       "   6 │     6  Married         44855  F          22           9\n",
       "   7 │     7  Never_married   44855  F          22           0\n",
       "   8 │     8  Widowed         44855  F          22           0\n",
       "  ⋮  │   ⋮          ⋮          ⋮       ⋮      ⋮         ⋮\n",
       " 594 │   594 \u001b[90m missing       \u001b[0m  88026  M          12           6\n",
       " 595 │   595 \u001b[90m missing       \u001b[0m 145915  M          12           6\n",
       " 596 │   596 \u001b[90m missing       \u001b[0m  25394  M          17           6\n",
       " 597 │   597 \u001b[90m missing       \u001b[0m  44855  M          17           6\n",
       " 598 │   598 \u001b[90m missing       \u001b[0m  63969  M          17           6\n",
       " 599 │   599 \u001b[90m missing       \u001b[0m  88026  M          17           6\n",
       " 600 │   600 \u001b[90m missing       \u001b[0m 145915  M          17           6\n",
       "\u001b[36m                                               585 rows omitted\u001b[0m"
      ]
     },
     "metadata": {},
     "output_type": "display_data"
    }
   ],
   "source": [
    "aggregated_individuals"
   ]
  },
  {
   "cell_type": "code",
   "execution_count": 9,
   "metadata": {},
   "outputs": [
    {
     "data": {
      "text/html": [
       "<div><div style = \"float: left;\"><span>2125×3 DataFrame</span></div><div style = \"float: right;\"><span style = \"font-style: italic;\">2100 rows omitted</span></div><div style = \"clear: both;\"></div></div><div class = \"data-frame\" style = \"overflow-x: scroll;\"><table class = \"data-frame\" style = \"margin-bottom: 6px;\"><thead><tr class = \"header\"><th class = \"rowNumber\" style = \"font-weight: bold; text-align: right;\">Row</th><th style = \"text-align: left;\">id</th><th style = \"text-align: left;\">agg_ind_id</th><th style = \"text-align: left;\">household_id</th></tr><tr class = \"subheader headerLastRow\"><th class = \"rowNumber\" style = \"font-weight: bold; text-align: right;\"></th><th title = \"Int64\" style = \"text-align: left;\">Int64</th><th title = \"Union{Missing, Int64}\" style = \"text-align: left;\">Int64?</th><th title = \"Union{Missing, Int64}\" style = \"text-align: left;\">Int64?</th></tr></thead><tbody><tr><td class = \"rowNumber\" style = \"font-weight: bold; text-align: right;\">1</td><td style = \"text-align: right;\">1</td><td style = \"text-align: right;\">1</td><td style = \"text-align: right;\">519</td></tr><tr><td class = \"rowNumber\" style = \"font-weight: bold; text-align: right;\">2</td><td style = \"text-align: right;\">2</td><td style = \"text-align: right;\">1</td><td style = \"text-align: right;\">520</td></tr><tr><td class = \"rowNumber\" style = \"font-weight: bold; text-align: right;\">3</td><td style = \"text-align: right;\">3</td><td style = \"text-align: right;\">1</td><td style = \"text-align: right;\">521</td></tr><tr><td class = \"rowNumber\" style = \"font-weight: bold; text-align: right;\">4</td><td style = \"text-align: right;\">4</td><td style = \"text-align: right;\">2</td><td style = \"text-align: right;\">522</td></tr><tr><td class = \"rowNumber\" style = \"font-weight: bold; text-align: right;\">5</td><td style = \"text-align: right;\">5</td><td style = \"text-align: right;\">2</td><td style = \"text-align: right;\">523</td></tr><tr><td class = \"rowNumber\" style = \"font-weight: bold; text-align: right;\">6</td><td style = \"text-align: right;\">6</td><td style = \"text-align: right;\">2</td><td style = \"text-align: right;\">524</td></tr><tr><td class = \"rowNumber\" style = \"font-weight: bold; text-align: right;\">7</td><td style = \"text-align: right;\">7</td><td style = \"text-align: right;\">2</td><td style = \"text-align: right;\">525</td></tr><tr><td class = \"rowNumber\" style = \"font-weight: bold; text-align: right;\">8</td><td style = \"text-align: right;\">8</td><td style = \"text-align: right;\">2</td><td style = \"text-align: right;\">526</td></tr><tr><td class = \"rowNumber\" style = \"font-weight: bold; text-align: right;\">9</td><td style = \"text-align: right;\">9</td><td style = \"text-align: right;\">2</td><td style = \"text-align: right;\">527</td></tr><tr><td class = \"rowNumber\" style = \"font-weight: bold; text-align: right;\">10</td><td style = \"text-align: right;\">10</td><td style = \"text-align: right;\">2</td><td style = \"text-align: right;\">528</td></tr><tr><td class = \"rowNumber\" style = \"font-weight: bold; text-align: right;\">11</td><td style = \"text-align: right;\">11</td><td style = \"text-align: right;\">2</td><td style = \"text-align: right;\">529</td></tr><tr><td class = \"rowNumber\" style = \"font-weight: bold; text-align: right;\">12</td><td style = \"text-align: right;\">12</td><td style = \"text-align: right;\">2</td><td style = \"text-align: right;\">530</td></tr><tr><td class = \"rowNumber\" style = \"font-weight: bold; text-align: right;\">13</td><td style = \"text-align: right;\">13</td><td style = \"text-align: right;\">5</td><td style = \"text-align: right;\">531</td></tr><tr><td style = \"text-align: right;\">&vellip;</td><td style = \"text-align: right;\">&vellip;</td><td style = \"text-align: right;\">&vellip;</td><td style = \"text-align: right;\">&vellip;</td></tr><tr><td class = \"rowNumber\" style = \"font-weight: bold; text-align: right;\">2114</td><td style = \"text-align: right;\">2114</td><td style = \"text-align: right;\">599</td><td style = \"font-style: italic; text-align: right;\">missing</td></tr><tr><td class = \"rowNumber\" style = \"font-weight: bold; text-align: right;\">2115</td><td style = \"text-align: right;\">2115</td><td style = \"text-align: right;\">599</td><td style = \"font-style: italic; text-align: right;\">missing</td></tr><tr><td class = \"rowNumber\" style = \"font-weight: bold; text-align: right;\">2116</td><td style = \"text-align: right;\">2116</td><td style = \"text-align: right;\">599</td><td style = \"font-style: italic; text-align: right;\">missing</td></tr><tr><td class = \"rowNumber\" style = \"font-weight: bold; text-align: right;\">2117</td><td style = \"text-align: right;\">2117</td><td style = \"text-align: right;\">599</td><td style = \"font-style: italic; text-align: right;\">missing</td></tr><tr><td class = \"rowNumber\" style = \"font-weight: bold; text-align: right;\">2118</td><td style = \"text-align: right;\">2118</td><td style = \"text-align: right;\">599</td><td style = \"font-style: italic; text-align: right;\">missing</td></tr><tr><td class = \"rowNumber\" style = \"font-weight: bold; text-align: right;\">2119</td><td style = \"text-align: right;\">2119</td><td style = \"text-align: right;\">599</td><td style = \"font-style: italic; text-align: right;\">missing</td></tr><tr><td class = \"rowNumber\" style = \"font-weight: bold; text-align: right;\">2120</td><td style = \"text-align: right;\">2120</td><td style = \"text-align: right;\">600</td><td style = \"font-style: italic; text-align: right;\">missing</td></tr><tr><td class = \"rowNumber\" style = \"font-weight: bold; text-align: right;\">2121</td><td style = \"text-align: right;\">2121</td><td style = \"text-align: right;\">600</td><td style = \"font-style: italic; text-align: right;\">missing</td></tr><tr><td class = \"rowNumber\" style = \"font-weight: bold; text-align: right;\">2122</td><td style = \"text-align: right;\">2122</td><td style = \"text-align: right;\">600</td><td style = \"font-style: italic; text-align: right;\">missing</td></tr><tr><td class = \"rowNumber\" style = \"font-weight: bold; text-align: right;\">2123</td><td style = \"text-align: right;\">2123</td><td style = \"text-align: right;\">600</td><td style = \"font-style: italic; text-align: right;\">missing</td></tr><tr><td class = \"rowNumber\" style = \"font-weight: bold; text-align: right;\">2124</td><td style = \"text-align: right;\">2124</td><td style = \"text-align: right;\">600</td><td style = \"font-style: italic; text-align: right;\">missing</td></tr><tr><td class = \"rowNumber\" style = \"font-weight: bold; text-align: right;\">2125</td><td style = \"text-align: right;\">2125</td><td style = \"text-align: right;\">600</td><td style = \"font-style: italic; text-align: right;\">missing</td></tr></tbody></table></div>"
      ],
      "text/latex": [
       "\\begin{tabular}{r|ccc}\n",
       "\t& id & agg\\_ind\\_id & household\\_id\\\\\n",
       "\t\\hline\n",
       "\t& Int64 & Int64? & Int64?\\\\\n",
       "\t\\hline\n",
       "\t1 & 1 & 1 & 519 \\\\\n",
       "\t2 & 2 & 1 & 520 \\\\\n",
       "\t3 & 3 & 1 & 521 \\\\\n",
       "\t4 & 4 & 2 & 522 \\\\\n",
       "\t5 & 5 & 2 & 523 \\\\\n",
       "\t6 & 6 & 2 & 524 \\\\\n",
       "\t7 & 7 & 2 & 525 \\\\\n",
       "\t8 & 8 & 2 & 526 \\\\\n",
       "\t9 & 9 & 2 & 527 \\\\\n",
       "\t10 & 10 & 2 & 528 \\\\\n",
       "\t11 & 11 & 2 & 529 \\\\\n",
       "\t12 & 12 & 2 & 530 \\\\\n",
       "\t13 & 13 & 5 & 531 \\\\\n",
       "\t14 & 14 & 5 & 532 \\\\\n",
       "\t15 & 15 & 5 & 533 \\\\\n",
       "\t16 & 16 & 6 & 534 \\\\\n",
       "\t17 & 17 & 6 & 535 \\\\\n",
       "\t18 & 18 & 6 & 536 \\\\\n",
       "\t19 & 19 & 6 & 537 \\\\\n",
       "\t20 & 20 & 6 & 538 \\\\\n",
       "\t21 & 21 & 6 & 539 \\\\\n",
       "\t22 & 22 & 6 & 540 \\\\\n",
       "\t23 & 23 & 6 & 541 \\\\\n",
       "\t24 & 24 & 6 & 542 \\\\\n",
       "\t$\\dots$ & $\\dots$ & $\\dots$ & $\\dots$ \\\\\n",
       "\\end{tabular}\n"
      ],
      "text/plain": [
       "\u001b[1m2125×3 DataFrame\u001b[0m\n",
       "\u001b[1m  Row \u001b[0m│\u001b[1m id    \u001b[0m\u001b[1m agg_ind_id \u001b[0m\u001b[1m household_id \u001b[0m\n",
       "      │\u001b[90m Int64 \u001b[0m\u001b[90m Int64?     \u001b[0m\u001b[90m Int64?       \u001b[0m\n",
       "──────┼─────────────────────────────────\n",
       "    1 │     1           1           519\n",
       "    2 │     2           1           520\n",
       "    3 │     3           1           521\n",
       "    4 │     4           2           522\n",
       "    5 │     5           2           523\n",
       "    6 │     6           2           524\n",
       "    7 │     7           2           525\n",
       "    8 │     8           2           526\n",
       "  ⋮   │   ⋮        ⋮            ⋮\n",
       " 2119 │  2119         599 \u001b[90m      missing \u001b[0m\n",
       " 2120 │  2120         600 \u001b[90m      missing \u001b[0m\n",
       " 2121 │  2121         600 \u001b[90m      missing \u001b[0m\n",
       " 2122 │  2122         600 \u001b[90m      missing \u001b[0m\n",
       " 2123 │  2123         600 \u001b[90m      missing \u001b[0m\n",
       " 2124 │  2124         600 \u001b[90m      missing \u001b[0m\n",
       " 2125 │  2125         600 \u001b[90m      missing \u001b[0m\n",
       "\u001b[36m                       2110 rows omitted\u001b[0m"
      ]
     },
     "metadata": {},
     "output_type": "display_data"
    }
   ],
   "source": [
    "disaggregated_individuals"
   ]
  },
  {
   "cell_type": "code",
   "execution_count": 10,
   "metadata": {},
   "outputs": [
    {
     "data": {
      "text/html": [
       "<div><div style = \"float: left;\"><span>5×3 DataFrame</span></div><div style = \"clear: both;\"></div></div><div class = \"data-frame\" style = \"overflow-x: scroll;\"><table class = \"data-frame\" style = \"margin-bottom: 6px;\"><thead><tr class = \"header\"><th class = \"rowNumber\" style = \"font-weight: bold; text-align: right;\">Row</th><th style = \"text-align: left;\">id</th><th style = \"text-align: left;\">hh_size</th><th style = \"text-align: left;\">population</th></tr><tr class = \"subheader headerLastRow\"><th class = \"rowNumber\" style = \"font-weight: bold; text-align: right;\"></th><th title = \"Int64\" style = \"text-align: left;\">Int64</th><th title = \"Int64\" style = \"text-align: left;\">Int64</th><th title = \"Int64\" style = \"text-align: left;\">Int64</th></tr></thead><tbody><tr><td class = \"rowNumber\" style = \"font-weight: bold; text-align: right;\">1</td><td style = \"text-align: right;\">1</td><td style = \"text-align: right;\">1</td><td style = \"text-align: right;\">246</td></tr><tr><td class = \"rowNumber\" style = \"font-weight: bold; text-align: right;\">2</td><td style = \"text-align: right;\">2</td><td style = \"text-align: right;\">2</td><td style = \"text-align: right;\">272</td></tr><tr><td class = \"rowNumber\" style = \"font-weight: bold; text-align: right;\">3</td><td style = \"text-align: right;\">3</td><td style = \"text-align: right;\">3</td><td style = \"text-align: right;\">179</td></tr><tr><td class = \"rowNumber\" style = \"font-weight: bold; text-align: right;\">4</td><td style = \"text-align: right;\">4</td><td style = \"text-align: right;\">4</td><td style = \"text-align: right;\">74</td></tr><tr><td class = \"rowNumber\" style = \"font-weight: bold; text-align: right;\">5</td><td style = \"text-align: right;\">5</td><td style = \"text-align: right;\">5</td><td style = \"text-align: right;\">52</td></tr></tbody></table></div>"
      ],
      "text/latex": [
       "\\begin{tabular}{r|ccc}\n",
       "\t& id & hh\\_size & population\\\\\n",
       "\t\\hline\n",
       "\t& Int64 & Int64 & Int64\\\\\n",
       "\t\\hline\n",
       "\t1 & 1 & 1 & 246 \\\\\n",
       "\t2 & 2 & 2 & 272 \\\\\n",
       "\t3 & 3 & 3 & 179 \\\\\n",
       "\t4 & 4 & 4 & 74 \\\\\n",
       "\t5 & 5 & 5 & 52 \\\\\n",
       "\\end{tabular}\n"
      ],
      "text/plain": [
       "\u001b[1m5×3 DataFrame\u001b[0m\n",
       "\u001b[1m Row \u001b[0m│\u001b[1m id    \u001b[0m\u001b[1m hh_size \u001b[0m\u001b[1m population \u001b[0m\n",
       "     │\u001b[90m Int64 \u001b[0m\u001b[90m Int64   \u001b[0m\u001b[90m Int64      \u001b[0m\n",
       "─────┼────────────────────────────\n",
       "   1 │     1        1         246\n",
       "   2 │     2        2         272\n",
       "   3 │     3        3         179\n",
       "   4 │     4        4          74\n",
       "   5 │     5        5          52"
      ]
     },
     "metadata": {},
     "output_type": "display_data"
    }
   ],
   "source": [
    "aggregated_households"
   ]
  },
  {
   "cell_type": "code",
   "execution_count": 12,
   "metadata": {},
   "outputs": [
    {
     "data": {
      "text/html": [
       "<div><div style = \"float: left;\"><span>823×7 DataFrame</span></div><div style = \"float: right;\"><span style = \"font-style: italic;\">798 rows omitted</span></div><div style = \"clear: both;\"></div></div><div class = \"data-frame\" style = \"overflow-x: scroll;\"><table class = \"data-frame\" style = \"margin-bottom: 6px;\"><thead><tr class = \"header\"><th class = \"rowNumber\" style = \"font-weight: bold; text-align: right;\">Row</th><th style = \"text-align: left;\">id</th><th style = \"text-align: left;\">agg_hh_id</th><th style = \"text-align: left;\">head_id</th><th style = \"text-align: left;\">partner_id</th><th style = \"text-align: left;\">child1_id</th><th style = \"text-align: left;\">child2_id</th><th style = \"text-align: left;\">child3_id</th></tr><tr class = \"subheader headerLastRow\"><th class = \"rowNumber\" style = \"font-weight: bold; text-align: right;\"></th><th title = \"Int64\" style = \"text-align: left;\">Int64</th><th title = \"Union{Missing, Int64}\" style = \"text-align: left;\">Int64?</th><th title = \"Union{Missing, Int64}\" style = \"text-align: left;\">Int64?</th><th title = \"Union{Missing, Int64}\" style = \"text-align: left;\">Int64?</th><th title = \"Union{Missing, Int64}\" style = \"text-align: left;\">Int64?</th><th title = \"Union{Missing, Int64}\" style = \"text-align: left;\">Int64?</th><th title = \"Union{Missing, Int64}\" style = \"text-align: left;\">Int64?</th></tr></thead><tbody><tr><td class = \"rowNumber\" style = \"font-weight: bold; text-align: right;\">1</td><td style = \"text-align: right;\">1</td><td style = \"text-align: right;\">1</td><td style = \"text-align: right;\">202</td><td style = \"font-style: italic; text-align: right;\">missing</td><td style = \"font-style: italic; text-align: right;\">missing</td><td style = \"font-style: italic; text-align: right;\">missing</td><td style = \"font-style: italic; text-align: right;\">missing</td></tr><tr><td class = \"rowNumber\" style = \"font-weight: bold; text-align: right;\">2</td><td style = \"text-align: right;\">2</td><td style = \"text-align: right;\">1</td><td style = \"text-align: right;\">202</td><td style = \"font-style: italic; text-align: right;\">missing</td><td style = \"font-style: italic; text-align: right;\">missing</td><td style = \"font-style: italic; text-align: right;\">missing</td><td style = \"font-style: italic; text-align: right;\">missing</td></tr><tr><td class = \"rowNumber\" style = \"font-weight: bold; text-align: right;\">3</td><td style = \"text-align: right;\">3</td><td style = \"text-align: right;\">1</td><td style = \"text-align: right;\">202</td><td style = \"font-style: italic; text-align: right;\">missing</td><td style = \"font-style: italic; text-align: right;\">missing</td><td style = \"font-style: italic; text-align: right;\">missing</td><td style = \"font-style: italic; text-align: right;\">missing</td></tr><tr><td class = \"rowNumber\" style = \"font-weight: bold; text-align: right;\">4</td><td style = \"text-align: right;\">4</td><td style = \"text-align: right;\">1</td><td style = \"text-align: right;\">206</td><td style = \"font-style: italic; text-align: right;\">missing</td><td style = \"font-style: italic; text-align: right;\">missing</td><td style = \"font-style: italic; text-align: right;\">missing</td><td style = \"font-style: italic; text-align: right;\">missing</td></tr><tr><td class = \"rowNumber\" style = \"font-weight: bold; text-align: right;\">5</td><td style = \"text-align: right;\">5</td><td style = \"text-align: right;\">1</td><td style = \"text-align: right;\">206</td><td style = \"font-style: italic; text-align: right;\">missing</td><td style = \"font-style: italic; text-align: right;\">missing</td><td style = \"font-style: italic; text-align: right;\">missing</td><td style = \"font-style: italic; text-align: right;\">missing</td></tr><tr><td class = \"rowNumber\" style = \"font-weight: bold; text-align: right;\">6</td><td style = \"text-align: right;\">6</td><td style = \"text-align: right;\">1</td><td style = \"text-align: right;\">206</td><td style = \"font-style: italic; text-align: right;\">missing</td><td style = \"font-style: italic; text-align: right;\">missing</td><td style = \"font-style: italic; text-align: right;\">missing</td><td style = \"font-style: italic; text-align: right;\">missing</td></tr><tr><td class = \"rowNumber\" style = \"font-weight: bold; text-align: right;\">7</td><td style = \"text-align: right;\">7</td><td style = \"text-align: right;\">1</td><td style = \"text-align: right;\">206</td><td style = \"font-style: italic; text-align: right;\">missing</td><td style = \"font-style: italic; text-align: right;\">missing</td><td style = \"font-style: italic; text-align: right;\">missing</td><td style = \"font-style: italic; text-align: right;\">missing</td></tr><tr><td class = \"rowNumber\" style = \"font-weight: bold; text-align: right;\">8</td><td style = \"text-align: right;\">8</td><td style = \"text-align: right;\">1</td><td style = \"text-align: right;\">206</td><td style = \"font-style: italic; text-align: right;\">missing</td><td style = \"font-style: italic; text-align: right;\">missing</td><td style = \"font-style: italic; text-align: right;\">missing</td><td style = \"font-style: italic; text-align: right;\">missing</td></tr><tr><td class = \"rowNumber\" style = \"font-weight: bold; text-align: right;\">9</td><td style = \"text-align: right;\">9</td><td style = \"text-align: right;\">1</td><td style = \"text-align: right;\">210</td><td style = \"font-style: italic; text-align: right;\">missing</td><td style = \"font-style: italic; text-align: right;\">missing</td><td style = \"font-style: italic; text-align: right;\">missing</td><td style = \"font-style: italic; text-align: right;\">missing</td></tr><tr><td class = \"rowNumber\" style = \"font-weight: bold; text-align: right;\">10</td><td style = \"text-align: right;\">10</td><td style = \"text-align: right;\">1</td><td style = \"text-align: right;\">210</td><td style = \"font-style: italic; text-align: right;\">missing</td><td style = \"font-style: italic; text-align: right;\">missing</td><td style = \"font-style: italic; text-align: right;\">missing</td><td style = \"font-style: italic; text-align: right;\">missing</td></tr><tr><td class = \"rowNumber\" style = \"font-weight: bold; text-align: right;\">11</td><td style = \"text-align: right;\">11</td><td style = \"text-align: right;\">1</td><td style = \"text-align: right;\">210</td><td style = \"font-style: italic; text-align: right;\">missing</td><td style = \"font-style: italic; text-align: right;\">missing</td><td style = \"font-style: italic; text-align: right;\">missing</td><td style = \"font-style: italic; text-align: right;\">missing</td></tr><tr><td class = \"rowNumber\" style = \"font-weight: bold; text-align: right;\">12</td><td style = \"text-align: right;\">12</td><td style = \"text-align: right;\">1</td><td style = \"text-align: right;\">210</td><td style = \"font-style: italic; text-align: right;\">missing</td><td style = \"font-style: italic; text-align: right;\">missing</td><td style = \"font-style: italic; text-align: right;\">missing</td><td style = \"font-style: italic; text-align: right;\">missing</td></tr><tr><td class = \"rowNumber\" style = \"font-weight: bold; text-align: right;\">13</td><td style = \"text-align: right;\">13</td><td style = \"text-align: right;\">1</td><td style = \"text-align: right;\">210</td><td style = \"font-style: italic; text-align: right;\">missing</td><td style = \"font-style: italic; text-align: right;\">missing</td><td style = \"font-style: italic; text-align: right;\">missing</td><td style = \"font-style: italic; text-align: right;\">missing</td></tr><tr><td style = \"text-align: right;\">&vellip;</td><td style = \"text-align: right;\">&vellip;</td><td style = \"text-align: right;\">&vellip;</td><td style = \"text-align: right;\">&vellip;</td><td style = \"text-align: right;\">&vellip;</td><td style = \"text-align: right;\">&vellip;</td><td style = \"text-align: right;\">&vellip;</td><td style = \"text-align: right;\">&vellip;</td></tr><tr><td class = \"rowNumber\" style = \"font-weight: bold; text-align: right;\">812</td><td style = \"text-align: right;\">812</td><td style = \"text-align: right;\">5</td><td style = \"text-align: right;\">194</td><td style = \"font-style: italic; text-align: right;\">missing</td><td style = \"text-align: right;\">397</td><td style = \"text-align: right;\">397</td><td style = \"text-align: right;\">400</td></tr><tr><td class = \"rowNumber\" style = \"font-weight: bold; text-align: right;\">813</td><td style = \"text-align: right;\">813</td><td style = \"text-align: right;\">5</td><td style = \"text-align: right;\">198</td><td style = \"font-style: italic; text-align: right;\">missing</td><td style = \"text-align: right;\">401</td><td style = \"text-align: right;\">401</td><td style = \"text-align: right;\">401</td></tr><tr><td class = \"rowNumber\" style = \"font-weight: bold; text-align: right;\">814</td><td style = \"text-align: right;\">814</td><td style = \"text-align: right;\">5</td><td style = \"text-align: right;\">198</td><td style = \"font-style: italic; text-align: right;\">missing</td><td style = \"text-align: right;\">404</td><td style = \"text-align: right;\">405</td><td style = \"text-align: right;\">405</td></tr><tr><td class = \"rowNumber\" style = \"font-weight: bold; text-align: right;\">815</td><td style = \"text-align: right;\">815</td><td style = \"text-align: right;\">5</td><td style = \"text-align: right;\">198</td><td style = \"font-style: italic; text-align: right;\">missing</td><td style = \"text-align: right;\">405</td><td style = \"text-align: right;\">408</td><td style = \"text-align: right;\">409</td></tr><tr><td class = \"rowNumber\" style = \"font-weight: bold; text-align: right;\">816</td><td style = \"text-align: right;\">816</td><td style = \"text-align: right;\">5</td><td style = \"text-align: right;\">198</td><td style = \"font-style: italic; text-align: right;\">missing</td><td style = \"text-align: right;\">409</td><td style = \"text-align: right;\">409</td><td style = \"text-align: right;\">412</td></tr><tr><td class = \"rowNumber\" style = \"font-weight: bold; text-align: right;\">817</td><td style = \"text-align: right;\">817</td><td style = \"text-align: right;\">5</td><td style = \"text-align: right;\">198</td><td style = \"font-style: italic; text-align: right;\">missing</td><td style = \"text-align: right;\">413</td><td style = \"text-align: right;\">413</td><td style = \"text-align: right;\">413</td></tr><tr><td class = \"rowNumber\" style = \"font-weight: bold; text-align: right;\">818</td><td style = \"text-align: right;\">818</td><td style = \"text-align: right;\">5</td><td style = \"text-align: right;\">198</td><td style = \"font-style: italic; text-align: right;\">missing</td><td style = \"text-align: right;\">416</td><td style = \"text-align: right;\">417</td><td style = \"text-align: right;\">417</td></tr><tr><td class = \"rowNumber\" style = \"font-weight: bold; text-align: right;\">819</td><td style = \"text-align: right;\">819</td><td style = \"text-align: right;\">5</td><td style = \"text-align: right;\">198</td><td style = \"font-style: italic; text-align: right;\">missing</td><td style = \"text-align: right;\">417</td><td style = \"text-align: right;\">420</td><td style = \"text-align: right;\">421</td></tr><tr><td class = \"rowNumber\" style = \"font-weight: bold; text-align: right;\">820</td><td style = \"text-align: right;\">820</td><td style = \"text-align: right;\">5</td><td style = \"text-align: right;\">198</td><td style = \"font-style: italic; text-align: right;\">missing</td><td style = \"text-align: right;\">421</td><td style = \"text-align: right;\">421</td><td style = \"text-align: right;\">424</td></tr><tr><td class = \"rowNumber\" style = \"font-weight: bold; text-align: right;\">821</td><td style = \"text-align: right;\">821</td><td style = \"text-align: right;\">5</td><td style = \"text-align: right;\">198</td><td style = \"font-style: italic; text-align: right;\">missing</td><td style = \"text-align: right;\">425</td><td style = \"text-align: right;\">425</td><td style = \"text-align: right;\">425</td></tr><tr><td class = \"rowNumber\" style = \"font-weight: bold; text-align: right;\">822</td><td style = \"text-align: right;\">822</td><td style = \"text-align: right;\">5</td><td style = \"text-align: right;\">202</td><td style = \"font-style: italic; text-align: right;\">missing</td><td style = \"text-align: right;\">428</td><td style = \"text-align: right;\">429</td><td style = \"text-align: right;\">429</td></tr><tr><td class = \"rowNumber\" style = \"font-weight: bold; text-align: right;\">823</td><td style = \"text-align: right;\">823</td><td style = \"text-align: right;\">5</td><td style = \"text-align: right;\">202</td><td style = \"font-style: italic; text-align: right;\">missing</td><td style = \"text-align: right;\">429</td><td style = \"text-align: right;\">432</td><td style = \"text-align: right;\">433</td></tr></tbody></table></div>"
      ],
      "text/latex": [
       "\\begin{tabular}{r|ccccccc}\n",
       "\t& id & agg\\_hh\\_id & head\\_id & partner\\_id & child1\\_id & child2\\_id & child3\\_id\\\\\n",
       "\t\\hline\n",
       "\t& Int64 & Int64? & Int64? & Int64? & Int64? & Int64? & Int64?\\\\\n",
       "\t\\hline\n",
       "\t1 & 1 & 1 & 202 & \\emph{missing} & \\emph{missing} & \\emph{missing} & \\emph{missing} \\\\\n",
       "\t2 & 2 & 1 & 202 & \\emph{missing} & \\emph{missing} & \\emph{missing} & \\emph{missing} \\\\\n",
       "\t3 & 3 & 1 & 202 & \\emph{missing} & \\emph{missing} & \\emph{missing} & \\emph{missing} \\\\\n",
       "\t4 & 4 & 1 & 206 & \\emph{missing} & \\emph{missing} & \\emph{missing} & \\emph{missing} \\\\\n",
       "\t5 & 5 & 1 & 206 & \\emph{missing} & \\emph{missing} & \\emph{missing} & \\emph{missing} \\\\\n",
       "\t6 & 6 & 1 & 206 & \\emph{missing} & \\emph{missing} & \\emph{missing} & \\emph{missing} \\\\\n",
       "\t7 & 7 & 1 & 206 & \\emph{missing} & \\emph{missing} & \\emph{missing} & \\emph{missing} \\\\\n",
       "\t8 & 8 & 1 & 206 & \\emph{missing} & \\emph{missing} & \\emph{missing} & \\emph{missing} \\\\\n",
       "\t9 & 9 & 1 & 210 & \\emph{missing} & \\emph{missing} & \\emph{missing} & \\emph{missing} \\\\\n",
       "\t10 & 10 & 1 & 210 & \\emph{missing} & \\emph{missing} & \\emph{missing} & \\emph{missing} \\\\\n",
       "\t11 & 11 & 1 & 210 & \\emph{missing} & \\emph{missing} & \\emph{missing} & \\emph{missing} \\\\\n",
       "\t12 & 12 & 1 & 210 & \\emph{missing} & \\emph{missing} & \\emph{missing} & \\emph{missing} \\\\\n",
       "\t13 & 13 & 1 & 210 & \\emph{missing} & \\emph{missing} & \\emph{missing} & \\emph{missing} \\\\\n",
       "\t14 & 14 & 1 & 214 & \\emph{missing} & \\emph{missing} & \\emph{missing} & \\emph{missing} \\\\\n",
       "\t15 & 15 & 1 & 214 & \\emph{missing} & \\emph{missing} & \\emph{missing} & \\emph{missing} \\\\\n",
       "\t16 & 16 & 1 & 214 & \\emph{missing} & \\emph{missing} & \\emph{missing} & \\emph{missing} \\\\\n",
       "\t17 & 17 & 1 & 214 & \\emph{missing} & \\emph{missing} & \\emph{missing} & \\emph{missing} \\\\\n",
       "\t18 & 18 & 1 & 214 & \\emph{missing} & \\emph{missing} & \\emph{missing} & \\emph{missing} \\\\\n",
       "\t19 & 19 & 1 & 218 & \\emph{missing} & \\emph{missing} & \\emph{missing} & \\emph{missing} \\\\\n",
       "\t20 & 20 & 1 & 218 & \\emph{missing} & \\emph{missing} & \\emph{missing} & \\emph{missing} \\\\\n",
       "\t21 & 21 & 1 & 218 & \\emph{missing} & \\emph{missing} & \\emph{missing} & \\emph{missing} \\\\\n",
       "\t22 & 22 & 1 & 218 & \\emph{missing} & \\emph{missing} & \\emph{missing} & \\emph{missing} \\\\\n",
       "\t23 & 23 & 1 & 218 & \\emph{missing} & \\emph{missing} & \\emph{missing} & \\emph{missing} \\\\\n",
       "\t24 & 24 & 1 & 222 & \\emph{missing} & \\emph{missing} & \\emph{missing} & \\emph{missing} \\\\\n",
       "\t$\\dots$ & $\\dots$ & $\\dots$ & $\\dots$ & $\\dots$ & $\\dots$ & $\\dots$ & $\\dots$ \\\\\n",
       "\\end{tabular}\n"
      ],
      "text/plain": [
       "\u001b[1m823×7 DataFrame\u001b[0m\n",
       "\u001b[1m Row \u001b[0m│\u001b[1m id    \u001b[0m\u001b[1m agg_hh_id \u001b[0m\u001b[1m head_id \u001b[0m\u001b[1m partner_id \u001b[0m\u001b[1m child1_id \u001b[0m\u001b[1m child2_id \u001b[0m\u001b[1m child3_id \u001b[0m\n",
       "     │\u001b[90m Int64 \u001b[0m\u001b[90m Int64?    \u001b[0m\u001b[90m Int64?  \u001b[0m\u001b[90m Int64?     \u001b[0m\u001b[90m Int64?    \u001b[0m\u001b[90m Int64?    \u001b[0m\u001b[90m Int64?    \u001b[0m\n",
       "─────┼────────────────────────────────────────────────────────────────────────\n",
       "   1 │     1          1      202 \u001b[90m    missing \u001b[0m\u001b[90m   missing \u001b[0m\u001b[90m   missing \u001b[0m\u001b[90m   missing \u001b[0m\n",
       "   2 │     2          1      202 \u001b[90m    missing \u001b[0m\u001b[90m   missing \u001b[0m\u001b[90m   missing \u001b[0m\u001b[90m   missing \u001b[0m\n",
       "   3 │     3          1      202 \u001b[90m    missing \u001b[0m\u001b[90m   missing \u001b[0m\u001b[90m   missing \u001b[0m\u001b[90m   missing \u001b[0m\n",
       "   4 │     4          1      206 \u001b[90m    missing \u001b[0m\u001b[90m   missing \u001b[0m\u001b[90m   missing \u001b[0m\u001b[90m   missing \u001b[0m\n",
       "   5 │     5          1      206 \u001b[90m    missing \u001b[0m\u001b[90m   missing \u001b[0m\u001b[90m   missing \u001b[0m\u001b[90m   missing \u001b[0m\n",
       "   6 │     6          1      206 \u001b[90m    missing \u001b[0m\u001b[90m   missing \u001b[0m\u001b[90m   missing \u001b[0m\u001b[90m   missing \u001b[0m\n",
       "   7 │     7          1      206 \u001b[90m    missing \u001b[0m\u001b[90m   missing \u001b[0m\u001b[90m   missing \u001b[0m\u001b[90m   missing \u001b[0m\n",
       "   8 │     8          1      206 \u001b[90m    missing \u001b[0m\u001b[90m   missing \u001b[0m\u001b[90m   missing \u001b[0m\u001b[90m   missing \u001b[0m\n",
       "  ⋮  │   ⋮        ⋮         ⋮         ⋮           ⋮          ⋮          ⋮\n",
       " 817 │   817          5      198 \u001b[90m    missing \u001b[0m       413        413        413\n",
       " 818 │   818          5      198 \u001b[90m    missing \u001b[0m       416        417        417\n",
       " 819 │   819          5      198 \u001b[90m    missing \u001b[0m       417        420        421\n",
       " 820 │   820          5      198 \u001b[90m    missing \u001b[0m       421        421        424\n",
       " 821 │   821          5      198 \u001b[90m    missing \u001b[0m       425        425        425\n",
       " 822 │   822          5      202 \u001b[90m    missing \u001b[0m       428        429        429\n",
       " 823 │   823          5      202 \u001b[90m    missing \u001b[0m       429        432        433\n",
       "\u001b[36m                                                              808 rows omitted\u001b[0m"
      ]
     },
     "metadata": {},
     "output_type": "display_data"
    }
   ],
   "source": [
    "disaggregated_households"
   ]
  },
  {
   "cell_type": "markdown",
   "metadata": {},
   "source": [
    "### See the full output of allocation (join of disaggrgated_households with aggregated_individuals)"
   ]
  },
  {
   "cell_type": "code",
   "execution_count": 13,
   "metadata": {},
   "outputs": [
    {
     "data": {
      "text/html": [
       "<div><div style = \"float: left;\"><span>823×32 DataFrame</span></div><div style = \"float: right;\"><span style = \"font-style: italic;\">798 rows omitted</span></div><div style = \"clear: both;\"></div></div><div class = \"data-frame\" style = \"overflow-x: scroll;\"><table class = \"data-frame\" style = \"margin-bottom: 6px;\"><thead><tr class = \"header\"><th class = \"rowNumber\" style = \"font-weight: bold; text-align: right;\">Row</th><th style = \"text-align: left;\">id</th><th style = \"text-align: left;\">agg_hh_id</th><th style = \"text-align: left;\">head_id</th><th style = \"text-align: left;\">partner_id</th><th style = \"text-align: left;\">child1_id</th><th style = \"text-align: left;\">child2_id</th><th style = \"text-align: left;\">child3_id</th><th style = \"text-align: left;\">head_maritalstatus</th><th style = \"text-align: left;\">head_income</th><th style = \"text-align: left;\">head_sex</th><th style = \"text-align: left;\">head_age</th><th style = \"text-align: left;\">head_population</th><th style = \"text-align: left;\">partner_maritalstatus</th><th style = \"text-align: left;\">partner_income</th><th style = \"text-align: left;\">partner_sex</th><th style = \"text-align: left;\">partner_age</th><th style = \"text-align: left;\">partner_population</th><th style = \"text-align: left;\">child1_maritalstatus</th><th style = \"text-align: left;\">child1_income</th><th style = \"text-align: left;\">child1_sex</th><th style = \"text-align: left;\">child1_age</th><th style = \"text-align: left;\">child1_population</th><th style = \"text-align: left;\">child2_maritalstatus</th><th style = \"text-align: left;\">child2_income</th><th style = \"text-align: left;\">child2_sex</th><th style = \"text-align: left;\">child2_age</th><th style = \"text-align: left;\">child2_population</th><th style = \"text-align: left;\">child3_maritalstatus</th><th style = \"text-align: left;\">child3_income</th><th style = \"text-align: left;\">child3_sex</th><th style = \"text-align: left;\">child3_age</th><th style = \"text-align: left;\">child3_population</th></tr><tr class = \"subheader headerLastRow\"><th class = \"rowNumber\" style = \"font-weight: bold; text-align: right;\"></th><th title = \"Int64\" style = \"text-align: left;\">Int64</th><th title = \"Union{Missing, Int64}\" style = \"text-align: left;\">Int64?</th><th title = \"Union{Missing, Int64}\" style = \"text-align: left;\">Int64?</th><th title = \"Union{Missing, Int64}\" style = \"text-align: left;\">Int64?</th><th title = \"Union{Missing, Int64}\" style = \"text-align: left;\">Int64?</th><th title = \"Union{Missing, Int64}\" style = \"text-align: left;\">Int64?</th><th title = \"Union{Missing, Int64}\" style = \"text-align: left;\">Int64?</th><th title = \"Union{Missing, String}\" style = \"text-align: left;\">String?</th><th title = \"Union{Missing, Int64}\" style = \"text-align: left;\">Int64?</th><th title = \"Union{Missing, Char}\" style = \"text-align: left;\">Char?</th><th title = \"Union{Missing, Int64}\" style = \"text-align: left;\">Int64?</th><th title = \"Union{Missing, Int64}\" style = \"text-align: left;\">Int64?</th><th title = \"Union{Missing, String}\" style = \"text-align: left;\">String?</th><th title = \"Union{Missing, Int64}\" style = \"text-align: left;\">Int64?</th><th title = \"Union{Missing, Char}\" style = \"text-align: left;\">Char?</th><th title = \"Union{Missing, Int64}\" style = \"text-align: left;\">Int64?</th><th title = \"Union{Missing, Int64}\" style = \"text-align: left;\">Int64?</th><th title = \"Union{Missing, String}\" style = \"text-align: left;\">String?</th><th title = \"Union{Missing, Int64}\" style = \"text-align: left;\">Int64?</th><th title = \"Union{Missing, Char}\" style = \"text-align: left;\">Char?</th><th title = \"Union{Missing, Int64}\" style = \"text-align: left;\">Int64?</th><th title = \"Union{Missing, Int64}\" style = \"text-align: left;\">Int64?</th><th title = \"Union{Missing, String}\" style = \"text-align: left;\">String?</th><th title = \"Union{Missing, Int64}\" style = \"text-align: left;\">Int64?</th><th title = \"Union{Missing, Char}\" style = \"text-align: left;\">Char?</th><th title = \"Union{Missing, Int64}\" style = \"text-align: left;\">Int64?</th><th title = \"Union{Missing, Int64}\" style = \"text-align: left;\">Int64?</th><th title = \"Union{Missing, String}\" style = \"text-align: left;\">String?</th><th title = \"Union{Missing, Int64}\" style = \"text-align: left;\">Int64?</th><th title = \"Union{Missing, Char}\" style = \"text-align: left;\">Char?</th><th title = \"Union{Missing, Int64}\" style = \"text-align: left;\">Int64?</th><th title = \"Union{Missing, Int64}\" style = \"text-align: left;\">Int64?</th></tr></thead><tbody><tr><td class = \"rowNumber\" style = \"font-weight: bold; text-align: right;\">1</td><td style = \"text-align: right;\">772</td><td style = \"text-align: right;\">5</td><td style = \"text-align: right;\">178</td><td style = \"font-style: italic; text-align: right;\">missing</td><td style = \"text-align: right;\">309</td><td style = \"text-align: right;\">309</td><td style = \"text-align: right;\">309</td><td style = \"text-align: left;\">Married</td><td style = \"text-align: right;\">145915</td><td style = \"text-align: left;\">F</td><td style = \"text-align: right;\">62</td><td style = \"text-align: right;\">11</td><td style = \"font-style: italic; text-align: left;\">missing</td><td style = \"font-style: italic; text-align: right;\">missing</td><td style = \"font-style: italic; text-align: left;\">missing</td><td style = \"font-style: italic; text-align: right;\">missing</td><td style = \"font-style: italic; text-align: right;\">missing</td><td style = \"text-align: left;\">Divorced</td><td style = \"text-align: right;\">63969</td><td style = \"text-align: left;\">M</td><td style = \"text-align: right;\">27</td><td style = \"text-align: right;\">4</td><td style = \"text-align: left;\">Divorced</td><td style = \"text-align: right;\">63969</td><td style = \"text-align: left;\">M</td><td style = \"text-align: right;\">27</td><td style = \"text-align: right;\">4</td><td style = \"text-align: left;\">Divorced</td><td style = \"text-align: right;\">63969</td><td style = \"text-align: left;\">M</td><td style = \"text-align: right;\">27</td><td style = \"text-align: right;\">4</td></tr><tr><td class = \"rowNumber\" style = \"font-weight: bold; text-align: right;\">2</td><td style = \"text-align: right;\">773</td><td style = \"text-align: right;\">5</td><td style = \"text-align: right;\">178</td><td style = \"font-style: italic; text-align: right;\">missing</td><td style = \"text-align: right;\">309</td><td style = \"text-align: right;\">311</td><td style = \"text-align: right;\">312</td><td style = \"text-align: left;\">Married</td><td style = \"text-align: right;\">145915</td><td style = \"text-align: left;\">F</td><td style = \"text-align: right;\">62</td><td style = \"text-align: right;\">11</td><td style = \"font-style: italic; text-align: left;\">missing</td><td style = \"font-style: italic; text-align: right;\">missing</td><td style = \"font-style: italic; text-align: left;\">missing</td><td style = \"font-style: italic; text-align: right;\">missing</td><td style = \"font-style: italic; text-align: right;\">missing</td><td style = \"text-align: left;\">Divorced</td><td style = \"text-align: right;\">63969</td><td style = \"text-align: left;\">M</td><td style = \"text-align: right;\">27</td><td style = \"text-align: right;\">4</td><td style = \"text-align: left;\">Never_married</td><td style = \"text-align: right;\">63969</td><td style = \"text-align: left;\">M</td><td style = \"text-align: right;\">27</td><td style = \"text-align: right;\">1</td><td style = \"text-align: left;\">Widowed</td><td style = \"text-align: right;\">63969</td><td style = \"text-align: left;\">M</td><td style = \"text-align: right;\">27</td><td style = \"text-align: right;\">1</td></tr><tr><td class = \"rowNumber\" style = \"font-weight: bold; text-align: right;\">3</td><td style = \"text-align: right;\">774</td><td style = \"text-align: right;\">5</td><td style = \"text-align: right;\">178</td><td style = \"font-style: italic; text-align: right;\">missing</td><td style = \"text-align: right;\">313</td><td style = \"text-align: right;\">313</td><td style = \"text-align: right;\">313</td><td style = \"text-align: left;\">Married</td><td style = \"text-align: right;\">145915</td><td style = \"text-align: left;\">F</td><td style = \"text-align: right;\">62</td><td style = \"text-align: right;\">11</td><td style = \"font-style: italic; text-align: left;\">missing</td><td style = \"font-style: italic; text-align: right;\">missing</td><td style = \"font-style: italic; text-align: left;\">missing</td><td style = \"font-style: italic; text-align: right;\">missing</td><td style = \"font-style: italic; text-align: right;\">missing</td><td style = \"text-align: left;\">Divorced</td><td style = \"text-align: right;\">88026</td><td style = \"text-align: left;\">M</td><td style = \"text-align: right;\">27</td><td style = \"text-align: right;\">4</td><td style = \"text-align: left;\">Divorced</td><td style = \"text-align: right;\">88026</td><td style = \"text-align: left;\">M</td><td style = \"text-align: right;\">27</td><td style = \"text-align: right;\">4</td><td style = \"text-align: left;\">Divorced</td><td style = \"text-align: right;\">88026</td><td style = \"text-align: left;\">M</td><td style = \"text-align: right;\">27</td><td style = \"text-align: right;\">4</td></tr><tr><td class = \"rowNumber\" style = \"font-weight: bold; text-align: right;\">4</td><td style = \"text-align: right;\">775</td><td style = \"text-align: right;\">5</td><td style = \"text-align: right;\">178</td><td style = \"font-style: italic; text-align: right;\">missing</td><td style = \"text-align: right;\">313</td><td style = \"text-align: right;\">315</td><td style = \"text-align: right;\">316</td><td style = \"text-align: left;\">Married</td><td style = \"text-align: right;\">145915</td><td style = \"text-align: left;\">F</td><td style = \"text-align: right;\">62</td><td style = \"text-align: right;\">11</td><td style = \"font-style: italic; text-align: left;\">missing</td><td style = \"font-style: italic; text-align: right;\">missing</td><td style = \"font-style: italic; text-align: left;\">missing</td><td style = \"font-style: italic; text-align: right;\">missing</td><td style = \"font-style: italic; text-align: right;\">missing</td><td style = \"text-align: left;\">Divorced</td><td style = \"text-align: right;\">88026</td><td style = \"text-align: left;\">M</td><td style = \"text-align: right;\">27</td><td style = \"text-align: right;\">4</td><td style = \"text-align: left;\">Never_married</td><td style = \"text-align: right;\">88026</td><td style = \"text-align: left;\">M</td><td style = \"text-align: right;\">27</td><td style = \"text-align: right;\">1</td><td style = \"text-align: left;\">Widowed</td><td style = \"text-align: right;\">88026</td><td style = \"text-align: left;\">M</td><td style = \"text-align: right;\">27</td><td style = \"text-align: right;\">1</td></tr><tr><td class = \"rowNumber\" style = \"font-weight: bold; text-align: right;\">5</td><td style = \"text-align: right;\">776</td><td style = \"text-align: right;\">5</td><td style = \"text-align: right;\">178</td><td style = \"font-style: italic; text-align: right;\">missing</td><td style = \"text-align: right;\">317</td><td style = \"text-align: right;\">317</td><td style = \"text-align: right;\">317</td><td style = \"text-align: left;\">Married</td><td style = \"text-align: right;\">145915</td><td style = \"text-align: left;\">F</td><td style = \"text-align: right;\">62</td><td style = \"text-align: right;\">11</td><td style = \"font-style: italic; text-align: left;\">missing</td><td style = \"font-style: italic; text-align: right;\">missing</td><td style = \"font-style: italic; text-align: left;\">missing</td><td style = \"font-style: italic; text-align: right;\">missing</td><td style = \"font-style: italic; text-align: right;\">missing</td><td style = \"text-align: left;\">Divorced</td><td style = \"text-align: right;\">145915</td><td style = \"text-align: left;\">M</td><td style = \"text-align: right;\">27</td><td style = \"text-align: right;\">4</td><td style = \"text-align: left;\">Divorced</td><td style = \"text-align: right;\">145915</td><td style = \"text-align: left;\">M</td><td style = \"text-align: right;\">27</td><td style = \"text-align: right;\">4</td><td style = \"text-align: left;\">Divorced</td><td style = \"text-align: right;\">145915</td><td style = \"text-align: left;\">M</td><td style = \"text-align: right;\">27</td><td style = \"text-align: right;\">4</td></tr><tr><td class = \"rowNumber\" style = \"font-weight: bold; text-align: right;\">6</td><td style = \"text-align: right;\">777</td><td style = \"text-align: right;\">5</td><td style = \"text-align: right;\">182</td><td style = \"font-style: italic; text-align: right;\">missing</td><td style = \"text-align: right;\">317</td><td style = \"text-align: right;\">319</td><td style = \"text-align: right;\">320</td><td style = \"text-align: left;\">Married</td><td style = \"text-align: right;\">25394</td><td style = \"text-align: left;\">F</td><td style = \"text-align: right;\">67</td><td style = \"text-align: right;\">9</td><td style = \"font-style: italic; text-align: left;\">missing</td><td style = \"font-style: italic; text-align: right;\">missing</td><td style = \"font-style: italic; text-align: left;\">missing</td><td style = \"font-style: italic; text-align: right;\">missing</td><td style = \"font-style: italic; text-align: right;\">missing</td><td style = \"text-align: left;\">Divorced</td><td style = \"text-align: right;\">145915</td><td style = \"text-align: left;\">M</td><td style = \"text-align: right;\">27</td><td style = \"text-align: right;\">4</td><td style = \"text-align: left;\">Never_married</td><td style = \"text-align: right;\">145915</td><td style = \"text-align: left;\">M</td><td style = \"text-align: right;\">27</td><td style = \"text-align: right;\">1</td><td style = \"text-align: left;\">Widowed</td><td style = \"text-align: right;\">145915</td><td style = \"text-align: left;\">M</td><td style = \"text-align: right;\">27</td><td style = \"text-align: right;\">1</td></tr><tr><td class = \"rowNumber\" style = \"font-weight: bold; text-align: right;\">7</td><td style = \"text-align: right;\">778</td><td style = \"text-align: right;\">5</td><td style = \"text-align: right;\">182</td><td style = \"font-style: italic; text-align: right;\">missing</td><td style = \"text-align: right;\">321</td><td style = \"text-align: right;\">321</td><td style = \"text-align: right;\">321</td><td style = \"text-align: left;\">Married</td><td style = \"text-align: right;\">25394</td><td style = \"text-align: left;\">F</td><td style = \"text-align: right;\">67</td><td style = \"text-align: right;\">9</td><td style = \"font-style: italic; text-align: left;\">missing</td><td style = \"font-style: italic; text-align: right;\">missing</td><td style = \"font-style: italic; text-align: left;\">missing</td><td style = \"font-style: italic; text-align: right;\">missing</td><td style = \"font-style: italic; text-align: right;\">missing</td><td style = \"text-align: left;\">Divorced</td><td style = \"text-align: right;\">25394</td><td style = \"text-align: left;\">M</td><td style = \"text-align: right;\">32</td><td style = \"text-align: right;\">5</td><td style = \"text-align: left;\">Divorced</td><td style = \"text-align: right;\">25394</td><td style = \"text-align: left;\">M</td><td style = \"text-align: right;\">32</td><td style = \"text-align: right;\">5</td><td style = \"text-align: left;\">Divorced</td><td style = \"text-align: right;\">25394</td><td style = \"text-align: left;\">M</td><td style = \"text-align: right;\">32</td><td style = \"text-align: right;\">5</td></tr><tr><td class = \"rowNumber\" style = \"font-weight: bold; text-align: right;\">8</td><td style = \"text-align: right;\">779</td><td style = \"text-align: right;\">5</td><td style = \"text-align: right;\">182</td><td style = \"font-style: italic; text-align: right;\">missing</td><td style = \"text-align: right;\">321</td><td style = \"text-align: right;\">321</td><td style = \"text-align: right;\">323</td><td style = \"text-align: left;\">Married</td><td style = \"text-align: right;\">25394</td><td style = \"text-align: left;\">F</td><td style = \"text-align: right;\">67</td><td style = \"text-align: right;\">9</td><td style = \"font-style: italic; text-align: left;\">missing</td><td style = \"font-style: italic; text-align: right;\">missing</td><td style = \"font-style: italic; text-align: left;\">missing</td><td style = \"font-style: italic; text-align: right;\">missing</td><td style = \"font-style: italic; text-align: right;\">missing</td><td style = \"text-align: left;\">Divorced</td><td style = \"text-align: right;\">25394</td><td style = \"text-align: left;\">M</td><td style = \"text-align: right;\">32</td><td style = \"text-align: right;\">5</td><td style = \"text-align: left;\">Divorced</td><td style = \"text-align: right;\">25394</td><td style = \"text-align: left;\">M</td><td style = \"text-align: right;\">32</td><td style = \"text-align: right;\">5</td><td style = \"text-align: left;\">Never_married</td><td style = \"text-align: right;\">25394</td><td style = \"text-align: left;\">M</td><td style = \"text-align: right;\">32</td><td style = \"text-align: right;\">1</td></tr><tr><td class = \"rowNumber\" style = \"font-weight: bold; text-align: right;\">9</td><td style = \"text-align: right;\">780</td><td style = \"text-align: right;\">5</td><td style = \"text-align: right;\">182</td><td style = \"font-style: italic; text-align: right;\">missing</td><td style = \"text-align: right;\">324</td><td style = \"text-align: right;\">325</td><td style = \"text-align: right;\">325</td><td style = \"text-align: left;\">Married</td><td style = \"text-align: right;\">25394</td><td style = \"text-align: left;\">F</td><td style = \"text-align: right;\">67</td><td style = \"text-align: right;\">9</td><td style = \"font-style: italic; text-align: left;\">missing</td><td style = \"font-style: italic; text-align: right;\">missing</td><td style = \"font-style: italic; text-align: left;\">missing</td><td style = \"font-style: italic; text-align: right;\">missing</td><td style = \"font-style: italic; text-align: right;\">missing</td><td style = \"text-align: left;\">Widowed</td><td style = \"text-align: right;\">25394</td><td style = \"text-align: left;\">M</td><td style = \"text-align: right;\">32</td><td style = \"text-align: right;\">1</td><td style = \"text-align: left;\">Divorced</td><td style = \"text-align: right;\">44855</td><td style = \"text-align: left;\">M</td><td style = \"text-align: right;\">32</td><td style = \"text-align: right;\">5</td><td style = \"text-align: left;\">Divorced</td><td style = \"text-align: right;\">44855</td><td style = \"text-align: left;\">M</td><td style = \"text-align: right;\">32</td><td style = \"text-align: right;\">5</td></tr><tr><td class = \"rowNumber\" style = \"font-weight: bold; text-align: right;\">10</td><td style = \"text-align: right;\">781</td><td style = \"text-align: right;\">5</td><td style = \"text-align: right;\">182</td><td style = \"font-style: italic; text-align: right;\">missing</td><td style = \"text-align: right;\">325</td><td style = \"text-align: right;\">325</td><td style = \"text-align: right;\">325</td><td style = \"text-align: left;\">Married</td><td style = \"text-align: right;\">25394</td><td style = \"text-align: left;\">F</td><td style = \"text-align: right;\">67</td><td style = \"text-align: right;\">9</td><td style = \"font-style: italic; text-align: left;\">missing</td><td style = \"font-style: italic; text-align: right;\">missing</td><td style = \"font-style: italic; text-align: left;\">missing</td><td style = \"font-style: italic; text-align: right;\">missing</td><td style = \"font-style: italic; text-align: right;\">missing</td><td style = \"text-align: left;\">Divorced</td><td style = \"text-align: right;\">44855</td><td style = \"text-align: left;\">M</td><td style = \"text-align: right;\">32</td><td style = \"text-align: right;\">5</td><td style = \"text-align: left;\">Divorced</td><td style = \"text-align: right;\">44855</td><td style = \"text-align: left;\">M</td><td style = \"text-align: right;\">32</td><td style = \"text-align: right;\">5</td><td style = \"text-align: left;\">Divorced</td><td style = \"text-align: right;\">44855</td><td style = \"text-align: left;\">M</td><td style = \"text-align: right;\">32</td><td style = \"text-align: right;\">5</td></tr><tr><td class = \"rowNumber\" style = \"font-weight: bold; text-align: right;\">11</td><td style = \"text-align: right;\">782</td><td style = \"text-align: right;\">5</td><td style = \"text-align: right;\">182</td><td style = \"font-style: italic; text-align: right;\">missing</td><td style = \"text-align: right;\">327</td><td style = \"text-align: right;\">328</td><td style = \"text-align: right;\">329</td><td style = \"text-align: left;\">Married</td><td style = \"text-align: right;\">25394</td><td style = \"text-align: left;\">F</td><td style = \"text-align: right;\">67</td><td style = \"text-align: right;\">9</td><td style = \"font-style: italic; text-align: left;\">missing</td><td style = \"font-style: italic; text-align: right;\">missing</td><td style = \"font-style: italic; text-align: left;\">missing</td><td style = \"font-style: italic; text-align: right;\">missing</td><td style = \"font-style: italic; text-align: right;\">missing</td><td style = \"text-align: left;\">Never_married</td><td style = \"text-align: right;\">44855</td><td style = \"text-align: left;\">M</td><td style = \"text-align: right;\">32</td><td style = \"text-align: right;\">1</td><td style = \"text-align: left;\">Widowed</td><td style = \"text-align: right;\">44855</td><td style = \"text-align: left;\">M</td><td style = \"text-align: right;\">32</td><td style = \"text-align: right;\">1</td><td style = \"text-align: left;\">Divorced</td><td style = \"text-align: right;\">63969</td><td style = \"text-align: left;\">M</td><td style = \"text-align: right;\">32</td><td style = \"text-align: right;\">5</td></tr><tr><td class = \"rowNumber\" style = \"font-weight: bold; text-align: right;\">12</td><td style = \"text-align: right;\">783</td><td style = \"text-align: right;\">5</td><td style = \"text-align: right;\">182</td><td style = \"font-style: italic; text-align: right;\">missing</td><td style = \"text-align: right;\">329</td><td style = \"text-align: right;\">329</td><td style = \"text-align: right;\">329</td><td style = \"text-align: left;\">Married</td><td style = \"text-align: right;\">25394</td><td style = \"text-align: left;\">F</td><td style = \"text-align: right;\">67</td><td style = \"text-align: right;\">9</td><td style = \"font-style: italic; text-align: left;\">missing</td><td style = \"font-style: italic; text-align: right;\">missing</td><td style = \"font-style: italic; text-align: left;\">missing</td><td style = \"font-style: italic; text-align: right;\">missing</td><td style = \"font-style: italic; text-align: right;\">missing</td><td style = \"text-align: left;\">Divorced</td><td style = \"text-align: right;\">63969</td><td style = \"text-align: left;\">M</td><td style = \"text-align: right;\">32</td><td style = \"text-align: right;\">5</td><td style = \"text-align: left;\">Divorced</td><td style = \"text-align: right;\">63969</td><td style = \"text-align: left;\">M</td><td style = \"text-align: right;\">32</td><td style = \"text-align: right;\">5</td><td style = \"text-align: left;\">Divorced</td><td style = \"text-align: right;\">63969</td><td style = \"text-align: left;\">M</td><td style = \"text-align: right;\">32</td><td style = \"text-align: right;\">5</td></tr><tr><td class = \"rowNumber\" style = \"font-weight: bold; text-align: right;\">13</td><td style = \"text-align: right;\">784</td><td style = \"text-align: right;\">5</td><td style = \"text-align: right;\">182</td><td style = \"font-style: italic; text-align: right;\">missing</td><td style = \"text-align: right;\">329</td><td style = \"text-align: right;\">331</td><td style = \"text-align: right;\">332</td><td style = \"text-align: left;\">Married</td><td style = \"text-align: right;\">25394</td><td style = \"text-align: left;\">F</td><td style = \"text-align: right;\">67</td><td style = \"text-align: right;\">9</td><td style = \"font-style: italic; text-align: left;\">missing</td><td style = \"font-style: italic; text-align: right;\">missing</td><td style = \"font-style: italic; text-align: left;\">missing</td><td style = \"font-style: italic; text-align: right;\">missing</td><td style = \"font-style: italic; text-align: right;\">missing</td><td style = \"text-align: left;\">Divorced</td><td style = \"text-align: right;\">63969</td><td style = \"text-align: left;\">M</td><td style = \"text-align: right;\">32</td><td style = \"text-align: right;\">5</td><td style = \"text-align: left;\">Never_married</td><td style = \"text-align: right;\">63969</td><td style = \"text-align: left;\">M</td><td style = \"text-align: right;\">32</td><td style = \"text-align: right;\">1</td><td style = \"text-align: left;\">Widowed</td><td style = \"text-align: right;\">63969</td><td style = \"text-align: left;\">M</td><td style = \"text-align: right;\">32</td><td style = \"text-align: right;\">1</td></tr><tr><td style = \"text-align: right;\">&vellip;</td><td style = \"text-align: right;\">&vellip;</td><td style = \"text-align: right;\">&vellip;</td><td style = \"text-align: right;\">&vellip;</td><td style = \"text-align: right;\">&vellip;</td><td style = \"text-align: right;\">&vellip;</td><td style = \"text-align: right;\">&vellip;</td><td style = \"text-align: right;\">&vellip;</td><td style = \"text-align: right;\">&vellip;</td><td style = \"text-align: right;\">&vellip;</td><td style = \"text-align: right;\">&vellip;</td><td style = \"text-align: right;\">&vellip;</td><td style = \"text-align: right;\">&vellip;</td><td style = \"text-align: right;\">&vellip;</td><td style = \"text-align: right;\">&vellip;</td><td style = \"text-align: right;\">&vellip;</td><td style = \"text-align: right;\">&vellip;</td><td style = \"text-align: right;\">&vellip;</td><td style = \"text-align: right;\">&vellip;</td><td style = \"text-align: right;\">&vellip;</td><td style = \"text-align: right;\">&vellip;</td><td style = \"text-align: right;\">&vellip;</td><td style = \"text-align: right;\">&vellip;</td><td style = \"text-align: right;\">&vellip;</td><td style = \"text-align: right;\">&vellip;</td><td style = \"text-align: right;\">&vellip;</td><td style = \"text-align: right;\">&vellip;</td><td style = \"text-align: right;\">&vellip;</td><td style = \"text-align: right;\">&vellip;</td><td style = \"text-align: right;\">&vellip;</td><td style = \"text-align: right;\">&vellip;</td><td style = \"text-align: right;\">&vellip;</td><td style = \"text-align: right;\">&vellip;</td></tr><tr><td class = \"rowNumber\" style = \"font-weight: bold; text-align: right;\">812</td><td style = \"text-align: right;\">235</td><td style = \"text-align: right;\">1</td><td style = \"text-align: right;\">426</td><td style = \"font-style: italic; text-align: right;\">missing</td><td style = \"font-style: italic; text-align: right;\">missing</td><td style = \"font-style: italic; text-align: right;\">missing</td><td style = \"font-style: italic; text-align: right;\">missing</td><td style = \"text-align: left;\">Married</td><td style = \"text-align: right;\">44855</td><td style = \"text-align: left;\">M</td><td style = \"text-align: right;\">57</td><td style = \"text-align: right;\">12</td><td style = \"font-style: italic; text-align: left;\">missing</td><td style = \"font-style: italic; text-align: right;\">missing</td><td style = \"font-style: italic; text-align: left;\">missing</td><td style = \"font-style: italic; text-align: right;\">missing</td><td style = \"font-style: italic; text-align: right;\">missing</td><td style = \"font-style: italic; text-align: left;\">missing</td><td style = \"font-style: italic; text-align: right;\">missing</td><td style = \"font-style: italic; text-align: left;\">missing</td><td style = \"font-style: italic; text-align: right;\">missing</td><td style = \"font-style: italic; text-align: right;\">missing</td><td style = \"font-style: italic; text-align: left;\">missing</td><td style = \"font-style: italic; text-align: right;\">missing</td><td style = \"font-style: italic; text-align: left;\">missing</td><td style = \"font-style: italic; text-align: right;\">missing</td><td style = \"font-style: italic; text-align: right;\">missing</td><td style = \"font-style: italic; text-align: left;\">missing</td><td style = \"font-style: italic; text-align: right;\">missing</td><td style = \"font-style: italic; text-align: left;\">missing</td><td style = \"font-style: italic; text-align: right;\">missing</td><td style = \"font-style: italic; text-align: right;\">missing</td></tr><tr><td class = \"rowNumber\" style = \"font-weight: bold; text-align: right;\">813</td><td style = \"text-align: right;\">236</td><td style = \"text-align: right;\">1</td><td style = \"text-align: right;\">426</td><td style = \"font-style: italic; text-align: right;\">missing</td><td style = \"font-style: italic; text-align: right;\">missing</td><td style = \"font-style: italic; text-align: right;\">missing</td><td style = \"font-style: italic; text-align: right;\">missing</td><td style = \"text-align: left;\">Married</td><td style = \"text-align: right;\">44855</td><td style = \"text-align: left;\">M</td><td style = \"text-align: right;\">57</td><td style = \"text-align: right;\">12</td><td style = \"font-style: italic; text-align: left;\">missing</td><td style = \"font-style: italic; text-align: right;\">missing</td><td style = \"font-style: italic; text-align: left;\">missing</td><td style = \"font-style: italic; text-align: right;\">missing</td><td style = \"font-style: italic; text-align: right;\">missing</td><td style = \"font-style: italic; text-align: left;\">missing</td><td style = \"font-style: italic; text-align: right;\">missing</td><td style = \"font-style: italic; text-align: left;\">missing</td><td style = \"font-style: italic; text-align: right;\">missing</td><td style = \"font-style: italic; text-align: right;\">missing</td><td style = \"font-style: italic; text-align: left;\">missing</td><td style = \"font-style: italic; text-align: right;\">missing</td><td style = \"font-style: italic; text-align: left;\">missing</td><td style = \"font-style: italic; text-align: right;\">missing</td><td style = \"font-style: italic; text-align: right;\">missing</td><td style = \"font-style: italic; text-align: left;\">missing</td><td style = \"font-style: italic; text-align: right;\">missing</td><td style = \"font-style: italic; text-align: left;\">missing</td><td style = \"font-style: italic; text-align: right;\">missing</td><td style = \"font-style: italic; text-align: right;\">missing</td></tr><tr><td class = \"rowNumber\" style = \"font-weight: bold; text-align: right;\">814</td><td style = \"text-align: right;\">237</td><td style = \"text-align: right;\">1</td><td style = \"text-align: right;\">426</td><td style = \"font-style: italic; text-align: right;\">missing</td><td style = \"font-style: italic; text-align: right;\">missing</td><td style = \"font-style: italic; text-align: right;\">missing</td><td style = \"font-style: italic; text-align: right;\">missing</td><td style = \"text-align: left;\">Married</td><td style = \"text-align: right;\">44855</td><td style = \"text-align: left;\">M</td><td style = \"text-align: right;\">57</td><td style = \"text-align: right;\">12</td><td style = \"font-style: italic; text-align: left;\">missing</td><td style = \"font-style: italic; text-align: right;\">missing</td><td style = \"font-style: italic; text-align: left;\">missing</td><td style = \"font-style: italic; text-align: right;\">missing</td><td style = \"font-style: italic; text-align: right;\">missing</td><td style = \"font-style: italic; text-align: left;\">missing</td><td style = \"font-style: italic; text-align: right;\">missing</td><td style = \"font-style: italic; text-align: left;\">missing</td><td style = \"font-style: italic; text-align: right;\">missing</td><td style = \"font-style: italic; text-align: right;\">missing</td><td style = \"font-style: italic; text-align: left;\">missing</td><td style = \"font-style: italic; text-align: right;\">missing</td><td style = \"font-style: italic; text-align: left;\">missing</td><td style = \"font-style: italic; text-align: right;\">missing</td><td style = \"font-style: italic; text-align: right;\">missing</td><td style = \"font-style: italic; text-align: left;\">missing</td><td style = \"font-style: italic; text-align: right;\">missing</td><td style = \"font-style: italic; text-align: left;\">missing</td><td style = \"font-style: italic; text-align: right;\">missing</td><td style = \"font-style: italic; text-align: right;\">missing</td></tr><tr><td class = \"rowNumber\" style = \"font-weight: bold; text-align: right;\">815</td><td style = \"text-align: right;\">238</td><td style = \"text-align: right;\">1</td><td style = \"text-align: right;\">426</td><td style = \"font-style: italic; text-align: right;\">missing</td><td style = \"font-style: italic; text-align: right;\">missing</td><td style = \"font-style: italic; text-align: right;\">missing</td><td style = \"font-style: italic; text-align: right;\">missing</td><td style = \"text-align: left;\">Married</td><td style = \"text-align: right;\">44855</td><td style = \"text-align: left;\">M</td><td style = \"text-align: right;\">57</td><td style = \"text-align: right;\">12</td><td style = \"font-style: italic; text-align: left;\">missing</td><td style = \"font-style: italic; text-align: right;\">missing</td><td style = \"font-style: italic; text-align: left;\">missing</td><td style = \"font-style: italic; text-align: right;\">missing</td><td style = \"font-style: italic; text-align: right;\">missing</td><td style = \"font-style: italic; text-align: left;\">missing</td><td style = \"font-style: italic; text-align: right;\">missing</td><td style = \"font-style: italic; text-align: left;\">missing</td><td style = \"font-style: italic; text-align: right;\">missing</td><td style = \"font-style: italic; text-align: right;\">missing</td><td style = \"font-style: italic; text-align: left;\">missing</td><td style = \"font-style: italic; text-align: right;\">missing</td><td style = \"font-style: italic; text-align: left;\">missing</td><td style = \"font-style: italic; text-align: right;\">missing</td><td style = \"font-style: italic; text-align: right;\">missing</td><td style = \"font-style: italic; text-align: left;\">missing</td><td style = \"font-style: italic; text-align: right;\">missing</td><td style = \"font-style: italic; text-align: left;\">missing</td><td style = \"font-style: italic; text-align: right;\">missing</td><td style = \"font-style: italic; text-align: right;\">missing</td></tr><tr><td class = \"rowNumber\" style = \"font-weight: bold; text-align: right;\">816</td><td style = \"text-align: right;\">239</td><td style = \"text-align: right;\">1</td><td style = \"text-align: right;\">426</td><td style = \"font-style: italic; text-align: right;\">missing</td><td style = \"font-style: italic; text-align: right;\">missing</td><td style = \"font-style: italic; text-align: right;\">missing</td><td style = \"font-style: italic; text-align: right;\">missing</td><td style = \"text-align: left;\">Married</td><td style = \"text-align: right;\">44855</td><td style = \"text-align: left;\">M</td><td style = \"text-align: right;\">57</td><td style = \"text-align: right;\">12</td><td style = \"font-style: italic; text-align: left;\">missing</td><td style = \"font-style: italic; text-align: right;\">missing</td><td style = \"font-style: italic; text-align: left;\">missing</td><td style = \"font-style: italic; text-align: right;\">missing</td><td style = \"font-style: italic; text-align: right;\">missing</td><td style = \"font-style: italic; text-align: left;\">missing</td><td style = \"font-style: italic; text-align: right;\">missing</td><td style = \"font-style: italic; text-align: left;\">missing</td><td style = \"font-style: italic; text-align: right;\">missing</td><td style = \"font-style: italic; text-align: right;\">missing</td><td style = \"font-style: italic; text-align: left;\">missing</td><td style = \"font-style: italic; text-align: right;\">missing</td><td style = \"font-style: italic; text-align: left;\">missing</td><td style = \"font-style: italic; text-align: right;\">missing</td><td style = \"font-style: italic; text-align: right;\">missing</td><td style = \"font-style: italic; text-align: left;\">missing</td><td style = \"font-style: italic; text-align: right;\">missing</td><td style = \"font-style: italic; text-align: left;\">missing</td><td style = \"font-style: italic; text-align: right;\">missing</td><td style = \"font-style: italic; text-align: right;\">missing</td></tr><tr><td class = \"rowNumber\" style = \"font-weight: bold; text-align: right;\">817</td><td style = \"text-align: right;\">240</td><td style = \"text-align: right;\">1</td><td style = \"text-align: right;\">426</td><td style = \"font-style: italic; text-align: right;\">missing</td><td style = \"font-style: italic; text-align: right;\">missing</td><td style = \"font-style: italic; text-align: right;\">missing</td><td style = \"font-style: italic; text-align: right;\">missing</td><td style = \"text-align: left;\">Married</td><td style = \"text-align: right;\">44855</td><td style = \"text-align: left;\">M</td><td style = \"text-align: right;\">57</td><td style = \"text-align: right;\">12</td><td style = \"font-style: italic; text-align: left;\">missing</td><td style = \"font-style: italic; text-align: right;\">missing</td><td style = \"font-style: italic; text-align: left;\">missing</td><td style = \"font-style: italic; text-align: right;\">missing</td><td style = \"font-style: italic; text-align: right;\">missing</td><td style = \"font-style: italic; text-align: left;\">missing</td><td style = \"font-style: italic; text-align: right;\">missing</td><td style = \"font-style: italic; text-align: left;\">missing</td><td style = \"font-style: italic; text-align: right;\">missing</td><td style = \"font-style: italic; text-align: right;\">missing</td><td style = \"font-style: italic; text-align: left;\">missing</td><td style = \"font-style: italic; text-align: right;\">missing</td><td style = \"font-style: italic; text-align: left;\">missing</td><td style = \"font-style: italic; text-align: right;\">missing</td><td style = \"font-style: italic; text-align: right;\">missing</td><td style = \"font-style: italic; text-align: left;\">missing</td><td style = \"font-style: italic; text-align: right;\">missing</td><td style = \"font-style: italic; text-align: left;\">missing</td><td style = \"font-style: italic; text-align: right;\">missing</td><td style = \"font-style: italic; text-align: right;\">missing</td></tr><tr><td class = \"rowNumber\" style = \"font-weight: bold; text-align: right;\">818</td><td style = \"text-align: right;\">241</td><td style = \"text-align: right;\">1</td><td style = \"text-align: right;\">430</td><td style = \"font-style: italic; text-align: right;\">missing</td><td style = \"font-style: italic; text-align: right;\">missing</td><td style = \"font-style: italic; text-align: right;\">missing</td><td style = \"font-style: italic; text-align: right;\">missing</td><td style = \"text-align: left;\">Married</td><td style = \"text-align: right;\">63969</td><td style = \"text-align: left;\">M</td><td style = \"text-align: right;\">57</td><td style = \"text-align: right;\">12</td><td style = \"font-style: italic; text-align: left;\">missing</td><td style = \"font-style: italic; text-align: right;\">missing</td><td style = \"font-style: italic; text-align: left;\">missing</td><td style = \"font-style: italic; text-align: right;\">missing</td><td style = \"font-style: italic; text-align: right;\">missing</td><td style = \"font-style: italic; text-align: left;\">missing</td><td style = \"font-style: italic; text-align: right;\">missing</td><td style = \"font-style: italic; text-align: left;\">missing</td><td style = \"font-style: italic; text-align: right;\">missing</td><td style = \"font-style: italic; text-align: right;\">missing</td><td style = \"font-style: italic; text-align: left;\">missing</td><td style = \"font-style: italic; text-align: right;\">missing</td><td style = \"font-style: italic; text-align: left;\">missing</td><td style = \"font-style: italic; text-align: right;\">missing</td><td style = \"font-style: italic; text-align: right;\">missing</td><td style = \"font-style: italic; text-align: left;\">missing</td><td style = \"font-style: italic; text-align: right;\">missing</td><td style = \"font-style: italic; text-align: left;\">missing</td><td style = \"font-style: italic; text-align: right;\">missing</td><td style = \"font-style: italic; text-align: right;\">missing</td></tr><tr><td class = \"rowNumber\" style = \"font-weight: bold; text-align: right;\">819</td><td style = \"text-align: right;\">242</td><td style = \"text-align: right;\">1</td><td style = \"text-align: right;\">430</td><td style = \"font-style: italic; text-align: right;\">missing</td><td style = \"font-style: italic; text-align: right;\">missing</td><td style = \"font-style: italic; text-align: right;\">missing</td><td style = \"font-style: italic; text-align: right;\">missing</td><td style = \"text-align: left;\">Married</td><td style = \"text-align: right;\">63969</td><td style = \"text-align: left;\">M</td><td style = \"text-align: right;\">57</td><td style = \"text-align: right;\">12</td><td style = \"font-style: italic; text-align: left;\">missing</td><td style = \"font-style: italic; text-align: right;\">missing</td><td style = \"font-style: italic; text-align: left;\">missing</td><td style = \"font-style: italic; text-align: right;\">missing</td><td style = \"font-style: italic; text-align: right;\">missing</td><td style = \"font-style: italic; text-align: left;\">missing</td><td style = \"font-style: italic; text-align: right;\">missing</td><td style = \"font-style: italic; text-align: left;\">missing</td><td style = \"font-style: italic; text-align: right;\">missing</td><td style = \"font-style: italic; text-align: right;\">missing</td><td style = \"font-style: italic; text-align: left;\">missing</td><td style = \"font-style: italic; text-align: right;\">missing</td><td style = \"font-style: italic; text-align: left;\">missing</td><td style = \"font-style: italic; text-align: right;\">missing</td><td style = \"font-style: italic; text-align: right;\">missing</td><td style = \"font-style: italic; text-align: left;\">missing</td><td style = \"font-style: italic; text-align: right;\">missing</td><td style = \"font-style: italic; text-align: left;\">missing</td><td style = \"font-style: italic; text-align: right;\">missing</td><td style = \"font-style: italic; text-align: right;\">missing</td></tr><tr><td class = \"rowNumber\" style = \"font-weight: bold; text-align: right;\">820</td><td style = \"text-align: right;\">243</td><td style = \"text-align: right;\">1</td><td style = \"text-align: right;\">430</td><td style = \"font-style: italic; text-align: right;\">missing</td><td style = \"font-style: italic; text-align: right;\">missing</td><td style = \"font-style: italic; text-align: right;\">missing</td><td style = \"font-style: italic; text-align: right;\">missing</td><td style = \"text-align: left;\">Married</td><td style = \"text-align: right;\">63969</td><td style = \"text-align: left;\">M</td><td style = \"text-align: right;\">57</td><td style = \"text-align: right;\">12</td><td style = \"font-style: italic; text-align: left;\">missing</td><td style = \"font-style: italic; text-align: right;\">missing</td><td style = \"font-style: italic; text-align: left;\">missing</td><td style = \"font-style: italic; text-align: right;\">missing</td><td style = \"font-style: italic; text-align: right;\">missing</td><td style = \"font-style: italic; text-align: left;\">missing</td><td style = \"font-style: italic; text-align: right;\">missing</td><td style = \"font-style: italic; text-align: left;\">missing</td><td style = \"font-style: italic; text-align: right;\">missing</td><td style = \"font-style: italic; text-align: right;\">missing</td><td style = \"font-style: italic; text-align: left;\">missing</td><td style = \"font-style: italic; text-align: right;\">missing</td><td style = \"font-style: italic; text-align: left;\">missing</td><td style = \"font-style: italic; text-align: right;\">missing</td><td style = \"font-style: italic; text-align: right;\">missing</td><td style = \"font-style: italic; text-align: left;\">missing</td><td style = \"font-style: italic; text-align: right;\">missing</td><td style = \"font-style: italic; text-align: left;\">missing</td><td style = \"font-style: italic; text-align: right;\">missing</td><td style = \"font-style: italic; text-align: right;\">missing</td></tr><tr><td class = \"rowNumber\" style = \"font-weight: bold; text-align: right;\">821</td><td style = \"text-align: right;\">244</td><td style = \"text-align: right;\">1</td><td style = \"text-align: right;\">430</td><td style = \"font-style: italic; text-align: right;\">missing</td><td style = \"font-style: italic; text-align: right;\">missing</td><td style = \"font-style: italic; text-align: right;\">missing</td><td style = \"font-style: italic; text-align: right;\">missing</td><td style = \"text-align: left;\">Married</td><td style = \"text-align: right;\">63969</td><td style = \"text-align: left;\">M</td><td style = \"text-align: right;\">57</td><td style = \"text-align: right;\">12</td><td style = \"font-style: italic; text-align: left;\">missing</td><td style = \"font-style: italic; text-align: right;\">missing</td><td style = \"font-style: italic; text-align: left;\">missing</td><td style = \"font-style: italic; text-align: right;\">missing</td><td style = \"font-style: italic; text-align: right;\">missing</td><td style = \"font-style: italic; text-align: left;\">missing</td><td style = \"font-style: italic; text-align: right;\">missing</td><td style = \"font-style: italic; text-align: left;\">missing</td><td style = \"font-style: italic; text-align: right;\">missing</td><td style = \"font-style: italic; text-align: right;\">missing</td><td style = \"font-style: italic; text-align: left;\">missing</td><td style = \"font-style: italic; text-align: right;\">missing</td><td style = \"font-style: italic; text-align: left;\">missing</td><td style = \"font-style: italic; text-align: right;\">missing</td><td style = \"font-style: italic; text-align: right;\">missing</td><td style = \"font-style: italic; text-align: left;\">missing</td><td style = \"font-style: italic; text-align: right;\">missing</td><td style = \"font-style: italic; text-align: left;\">missing</td><td style = \"font-style: italic; text-align: right;\">missing</td><td style = \"font-style: italic; text-align: right;\">missing</td></tr><tr><td class = \"rowNumber\" style = \"font-weight: bold; text-align: right;\">822</td><td style = \"text-align: right;\">245</td><td style = \"text-align: right;\">1</td><td style = \"text-align: right;\">430</td><td style = \"font-style: italic; text-align: right;\">missing</td><td style = \"font-style: italic; text-align: right;\">missing</td><td style = \"font-style: italic; text-align: right;\">missing</td><td style = \"font-style: italic; text-align: right;\">missing</td><td style = \"text-align: left;\">Married</td><td style = \"text-align: right;\">63969</td><td style = \"text-align: left;\">M</td><td style = \"text-align: right;\">57</td><td style = \"text-align: right;\">12</td><td style = \"font-style: italic; text-align: left;\">missing</td><td style = \"font-style: italic; text-align: right;\">missing</td><td style = \"font-style: italic; text-align: left;\">missing</td><td style = \"font-style: italic; text-align: right;\">missing</td><td style = \"font-style: italic; text-align: right;\">missing</td><td style = \"font-style: italic; text-align: left;\">missing</td><td style = \"font-style: italic; text-align: right;\">missing</td><td style = \"font-style: italic; text-align: left;\">missing</td><td style = \"font-style: italic; text-align: right;\">missing</td><td style = \"font-style: italic; text-align: right;\">missing</td><td style = \"font-style: italic; text-align: left;\">missing</td><td style = \"font-style: italic; text-align: right;\">missing</td><td style = \"font-style: italic; text-align: left;\">missing</td><td style = \"font-style: italic; text-align: right;\">missing</td><td style = \"font-style: italic; text-align: right;\">missing</td><td style = \"font-style: italic; text-align: left;\">missing</td><td style = \"font-style: italic; text-align: right;\">missing</td><td style = \"font-style: italic; text-align: left;\">missing</td><td style = \"font-style: italic; text-align: right;\">missing</td><td style = \"font-style: italic; text-align: right;\">missing</td></tr><tr><td class = \"rowNumber\" style = \"font-weight: bold; text-align: right;\">823</td><td style = \"text-align: right;\">246</td><td style = \"text-align: right;\">1</td><td style = \"text-align: right;\">430</td><td style = \"font-style: italic; text-align: right;\">missing</td><td style = \"font-style: italic; text-align: right;\">missing</td><td style = \"font-style: italic; text-align: right;\">missing</td><td style = \"font-style: italic; text-align: right;\">missing</td><td style = \"text-align: left;\">Married</td><td style = \"text-align: right;\">63969</td><td style = \"text-align: left;\">M</td><td style = \"text-align: right;\">57</td><td style = \"text-align: right;\">12</td><td style = \"font-style: italic; text-align: left;\">missing</td><td style = \"font-style: italic; text-align: right;\">missing</td><td style = \"font-style: italic; text-align: left;\">missing</td><td style = \"font-style: italic; text-align: right;\">missing</td><td style = \"font-style: italic; text-align: right;\">missing</td><td style = \"font-style: italic; text-align: left;\">missing</td><td style = \"font-style: italic; text-align: right;\">missing</td><td style = \"font-style: italic; text-align: left;\">missing</td><td style = \"font-style: italic; text-align: right;\">missing</td><td style = \"font-style: italic; text-align: right;\">missing</td><td style = \"font-style: italic; text-align: left;\">missing</td><td style = \"font-style: italic; text-align: right;\">missing</td><td style = \"font-style: italic; text-align: left;\">missing</td><td style = \"font-style: italic; text-align: right;\">missing</td><td style = \"font-style: italic; text-align: right;\">missing</td><td style = \"font-style: italic; text-align: left;\">missing</td><td style = \"font-style: italic; text-align: right;\">missing</td><td style = \"font-style: italic; text-align: left;\">missing</td><td style = \"font-style: italic; text-align: right;\">missing</td><td style = \"font-style: italic; text-align: right;\">missing</td></tr></tbody></table></div>"
      ],
      "text/latex": [
       "\\begin{tabular}{r|ccccccccc}\n",
       "\t& id & agg\\_hh\\_id & head\\_id & partner\\_id & child1\\_id & child2\\_id & child3\\_id & head\\_maritalstatus & \\\\\n",
       "\t\\hline\n",
       "\t& Int64 & Int64? & Int64? & Int64? & Int64? & Int64? & Int64? & String? & \\\\\n",
       "\t\\hline\n",
       "\t1 & 772 & 5 & 178 & \\emph{missing} & 309 & 309 & 309 & Married & $\\dots$ \\\\\n",
       "\t2 & 773 & 5 & 178 & \\emph{missing} & 309 & 311 & 312 & Married & $\\dots$ \\\\\n",
       "\t3 & 774 & 5 & 178 & \\emph{missing} & 313 & 313 & 313 & Married & $\\dots$ \\\\\n",
       "\t4 & 775 & 5 & 178 & \\emph{missing} & 313 & 315 & 316 & Married & $\\dots$ \\\\\n",
       "\t5 & 776 & 5 & 178 & \\emph{missing} & 317 & 317 & 317 & Married & $\\dots$ \\\\\n",
       "\t6 & 777 & 5 & 182 & \\emph{missing} & 317 & 319 & 320 & Married & $\\dots$ \\\\\n",
       "\t7 & 778 & 5 & 182 & \\emph{missing} & 321 & 321 & 321 & Married & $\\dots$ \\\\\n",
       "\t8 & 779 & 5 & 182 & \\emph{missing} & 321 & 321 & 323 & Married & $\\dots$ \\\\\n",
       "\t9 & 780 & 5 & 182 & \\emph{missing} & 324 & 325 & 325 & Married & $\\dots$ \\\\\n",
       "\t10 & 781 & 5 & 182 & \\emph{missing} & 325 & 325 & 325 & Married & $\\dots$ \\\\\n",
       "\t11 & 782 & 5 & 182 & \\emph{missing} & 327 & 328 & 329 & Married & $\\dots$ \\\\\n",
       "\t12 & 783 & 5 & 182 & \\emph{missing} & 329 & 329 & 329 & Married & $\\dots$ \\\\\n",
       "\t13 & 784 & 5 & 182 & \\emph{missing} & 329 & 331 & 332 & Married & $\\dots$ \\\\\n",
       "\t14 & 785 & 5 & 182 & \\emph{missing} & 333 & 333 & 333 & Married & $\\dots$ \\\\\n",
       "\t15 & 786 & 5 & 186 & \\emph{missing} & 333 & 333 & 335 & Married & $\\dots$ \\\\\n",
       "\t16 & 787 & 5 & 186 & \\emph{missing} & 336 & 337 & 337 & Married & $\\dots$ \\\\\n",
       "\t17 & 788 & 5 & 186 & \\emph{missing} & 337 & 337 & 337 & Married & $\\dots$ \\\\\n",
       "\t18 & 789 & 5 & 186 & \\emph{missing} & 339 & 340 & 341 & Married & $\\dots$ \\\\\n",
       "\t19 & 790 & 5 & 186 & \\emph{missing} & 341 & 341 & 341 & Married & $\\dots$ \\\\\n",
       "\t20 & 791 & 5 & 186 & \\emph{missing} & 343 & 344 & 345 & Married & $\\dots$ \\\\\n",
       "\t21 & 792 & 5 & 186 & \\emph{missing} & 345 & 345 & 345 & Married & $\\dots$ \\\\\n",
       "\t22 & 793 & 5 & 186 & \\emph{missing} & 347 & 348 & 349 & Married & $\\dots$ \\\\\n",
       "\t23 & 794 & 5 & 186 & \\emph{missing} & 349 & 349 & 349 & Married & $\\dots$ \\\\\n",
       "\t24 & 795 & 5 & 190 & \\emph{missing} & 351 & 352 & 353 & Married & $\\dots$ \\\\\n",
       "\t$\\dots$ & $\\dots$ & $\\dots$ & $\\dots$ & $\\dots$ & $\\dots$ & $\\dots$ & $\\dots$ & $\\dots$ &  \\\\\n",
       "\\end{tabular}\n"
      ],
      "text/plain": [
       "\u001b[1m823×32 DataFrame\u001b[0m\n",
       "\u001b[1m Row \u001b[0m│\u001b[1m id    \u001b[0m\u001b[1m agg_hh_id \u001b[0m\u001b[1m head_id \u001b[0m\u001b[1m partner_id \u001b[0m\u001b[1m child1_id \u001b[0m\u001b[1m child2_id \u001b[0m\u001b[1m child3_id \u001b[0m\u001b[1m\u001b[0m ⋯\n",
       "     │\u001b[90m Int64 \u001b[0m\u001b[90m Int64?    \u001b[0m\u001b[90m Int64?  \u001b[0m\u001b[90m Int64?     \u001b[0m\u001b[90m Int64?    \u001b[0m\u001b[90m Int64?    \u001b[0m\u001b[90m Int64?    \u001b[0m\u001b[90m\u001b[0m ⋯\n",
       "─────┼──────────────────────────────────────────────────────────────────────────\n",
       "   1 │   772          5      178 \u001b[90m    missing \u001b[0m       309        309        309  ⋯\n",
       "   2 │   773          5      178 \u001b[90m    missing \u001b[0m       309        311        312\n",
       "   3 │   774          5      178 \u001b[90m    missing \u001b[0m       313        313        313\n",
       "   4 │   775          5      178 \u001b[90m    missing \u001b[0m       313        315        316\n",
       "   5 │   776          5      178 \u001b[90m    missing \u001b[0m       317        317        317  ⋯\n",
       "   6 │   777          5      182 \u001b[90m    missing \u001b[0m       317        319        320\n",
       "   7 │   778          5      182 \u001b[90m    missing \u001b[0m       321        321        321\n",
       "   8 │   779          5      182 \u001b[90m    missing \u001b[0m       321        321        323\n",
       "  ⋮  │   ⋮        ⋮         ⋮         ⋮           ⋮          ⋮          ⋮      ⋱\n",
       " 817 │   240          1      426 \u001b[90m    missing \u001b[0m\u001b[90m   missing \u001b[0m\u001b[90m   missing \u001b[0m\u001b[90m   missing \u001b[0m ⋯\n",
       " 818 │   241          1      430 \u001b[90m    missing \u001b[0m\u001b[90m   missing \u001b[0m\u001b[90m   missing \u001b[0m\u001b[90m   missing \u001b[0m\n",
       " 819 │   242          1      430 \u001b[90m    missing \u001b[0m\u001b[90m   missing \u001b[0m\u001b[90m   missing \u001b[0m\u001b[90m   missing \u001b[0m\n",
       " 820 │   243          1      430 \u001b[90m    missing \u001b[0m\u001b[90m   missing \u001b[0m\u001b[90m   missing \u001b[0m\u001b[90m   missing \u001b[0m\n",
       " 821 │   244          1      430 \u001b[90m    missing \u001b[0m\u001b[90m   missing \u001b[0m\u001b[90m   missing \u001b[0m\u001b[90m   missing \u001b[0m ⋯\n",
       " 822 │   245          1      430 \u001b[90m    missing \u001b[0m\u001b[90m   missing \u001b[0m\u001b[90m   missing \u001b[0m\u001b[90m   missing \u001b[0m\n",
       " 823 │   246          1      430 \u001b[90m    missing \u001b[0m\u001b[90m   missing \u001b[0m\u001b[90m   missing \u001b[0m\u001b[90m   missing \u001b[0m\n",
       "\u001b[36m                                                 25 columns and 808 rows omitted\u001b[0m"
      ]
     },
     "metadata": {},
     "output_type": "display_data"
    }
   ],
   "source": [
    "function join_and_rename!(df1::DataFrame, df2::DataFrame, column_name::Symbol)\n",
    "    df_joined = leftjoin(df1, df2, on = column_name => :id, makeunique=true, matchmissing = :notequal)\n",
    "\n",
    "    # Rename the new columns\n",
    "    for col in names(df2)[2:end]  # Skip the id column\n",
    "        rename!(df_joined, Symbol(col) => Symbol(replace(string(column_name), \"_id\" => \"_\"*col)))\n",
    "    end\n",
    "\n",
    "    return df_joined\n",
    "end\n",
    "\n",
    "# Apply the function to each id column in df1\n",
    "id_columns = [:head_id, :partner_id, :child1_id, :child2_id, :child3_id]\n",
    "disaggregated_households_joined = disaggregated_households\n",
    "for column_name in id_columns\n",
    "    disaggregated_households_joined = join_and_rename!(disaggregated_households_joined, aggregated_individuals, column_name)\n",
    "end\n",
    "disaggregated_households_joined"
   ]
  },
  {
   "cell_type": "code",
   "execution_count": 14,
   "metadata": {},
   "outputs": [
    {
     "data": {
      "text/html": [
       "<div><div style = \"float: left;\"><span>32×7 DataFrame</span></div><div style = \"float: right;\"><span style = \"font-style: italic;\">7 rows omitted</span></div><div style = \"clear: both;\"></div></div><div class = \"data-frame\" style = \"overflow-x: scroll;\"><table class = \"data-frame\" style = \"margin-bottom: 6px;\"><thead><tr class = \"header\"><th class = \"rowNumber\" style = \"font-weight: bold; text-align: right;\">Row</th><th style = \"text-align: left;\">variable</th><th style = \"text-align: left;\">mean</th><th style = \"text-align: left;\">min</th><th style = \"text-align: left;\">median</th><th style = \"text-align: left;\">max</th><th style = \"text-align: left;\">nmissing</th><th style = \"text-align: left;\">eltype</th></tr><tr class = \"subheader headerLastRow\"><th class = \"rowNumber\" style = \"font-weight: bold; text-align: right;\"></th><th title = \"Symbol\" style = \"text-align: left;\">Symbol</th><th title = \"Union{Nothing, Float64}\" style = \"text-align: left;\">Union…</th><th title = \"Any\" style = \"text-align: left;\">Any</th><th title = \"Union{Nothing, Float64}\" style = \"text-align: left;\">Union…</th><th title = \"Any\" style = \"text-align: left;\">Any</th><th title = \"Int64\" style = \"text-align: left;\">Int64</th><th title = \"Type\" style = \"text-align: left;\">Type</th></tr></thead><tbody><tr><td class = \"rowNumber\" style = \"font-weight: bold; text-align: right;\">1</td><td style = \"text-align: left;\">id</td><td style = \"text-align: left;\">412.0</td><td style = \"text-align: left;\">1</td><td style = \"text-align: left;\">412.0</td><td style = \"text-align: left;\">823</td><td style = \"text-align: right;\">0</td><td style = \"text-align: left;\">Int64</td></tr><tr><td class = \"rowNumber\" style = \"font-weight: bold; text-align: right;\">2</td><td style = \"text-align: left;\">agg_hh_id</td><td style = \"text-align: left;\">2.28797</td><td style = \"text-align: left;\">1</td><td style = \"text-align: left;\">2.0</td><td style = \"text-align: left;\">5</td><td style = \"text-align: right;\">0</td><td style = \"text-align: left;\">Union{Missing, Int64}</td></tr><tr><td class = \"rowNumber\" style = \"font-weight: bold; text-align: right;\">3</td><td style = \"text-align: left;\">head_id</td><td style = \"text-align: left;\">178.262</td><td style = \"text-align: left;\">22</td><td style = \"text-align: left;\">138.0</td><td style = \"text-align: left;\">430</td><td style = \"text-align: right;\">0</td><td style = \"text-align: left;\">Union{Missing, Int64}</td></tr><tr><td class = \"rowNumber\" style = \"font-weight: bold; text-align: right;\">4</td><td style = \"text-align: left;\">partner_id</td><td style = \"text-align: left;\">389.248</td><td style = \"text-align: left;\">302</td><td style = \"text-align: left;\">354.0</td><td style = \"text-align: left;\">558</td><td style = \"text-align: right;\">371</td><td style = \"text-align: left;\">Union{Missing, Int64}</td></tr><tr><td class = \"rowNumber\" style = \"font-weight: bold; text-align: right;\">5</td><td style = \"text-align: left;\">child1_id</td><td style = \"text-align: left;\">153.354</td><td style = \"text-align: left;\">1</td><td style = \"text-align: left;\">109.0</td><td style = \"text-align: left;\">429</td><td style = \"text-align: right;\">518</td><td style = \"text-align: left;\">Union{Missing, Int64}</td></tr><tr><td class = \"rowNumber\" style = \"font-weight: bold; text-align: right;\">6</td><td style = \"text-align: left;\">child2_id</td><td style = \"text-align: left;\">296.183</td><td style = \"text-align: left;\">145</td><td style = \"text-align: left;\">298.0</td><td style = \"text-align: left;\">432</td><td style = \"text-align: right;\">697</td><td style = \"text-align: left;\">Union{Missing, Int64}</td></tr><tr><td class = \"rowNumber\" style = \"font-weight: bold; text-align: right;\">7</td><td style = \"text-align: left;\">child3_id</td><td style = \"text-align: left;\">363.654</td><td style = \"text-align: left;\">309</td><td style = \"text-align: left;\">357.0</td><td style = \"text-align: left;\">433</td><td style = \"text-align: right;\">771</td><td style = \"text-align: left;\">Union{Missing, Int64}</td></tr><tr><td class = \"rowNumber\" style = \"font-weight: bold; text-align: right;\">8</td><td style = \"text-align: left;\">head_maritalstatus</td><td style = \"font-style: italic; text-align: left;\"></td><td style = \"text-align: left;\">Married</td><td style = \"font-style: italic; text-align: left;\"></td><td style = \"text-align: left;\">Married</td><td style = \"text-align: right;\">0</td><td style = \"text-align: left;\">Union{Missing, String}</td></tr><tr><td class = \"rowNumber\" style = \"font-weight: bold; text-align: right;\">9</td><td style = \"text-align: left;\">head_income</td><td style = \"text-align: left;\">73596.6</td><td style = \"text-align: left;\">25394</td><td style = \"text-align: left;\">63969.0</td><td style = \"text-align: left;\">145915</td><td style = \"text-align: right;\">0</td><td style = \"text-align: left;\">Union{Missing, Int64}</td></tr><tr><td class = \"rowNumber\" style = \"font-weight: bold; text-align: right;\">10</td><td style = \"text-align: left;\">head_sex</td><td style = \"font-style: italic; text-align: left;\"></td><td style = \"text-align: left;\">F</td><td style = \"font-style: italic; text-align: left;\"></td><td style = \"text-align: left;\">M</td><td style = \"text-align: right;\">0</td><td style = \"text-align: left;\">Union{Missing, Char}</td></tr><tr><td class = \"rowNumber\" style = \"font-weight: bold; text-align: right;\">11</td><td style = \"text-align: left;\">head_age</td><td style = \"text-align: left;\">48.5006</td><td style = \"text-align: left;\">27</td><td style = \"text-align: left;\">47.0</td><td style = \"text-align: left;\">87</td><td style = \"text-align: right;\">0</td><td style = \"text-align: left;\">Union{Missing, Int64}</td></tr><tr><td class = \"rowNumber\" style = \"font-weight: bold; text-align: right;\">12</td><td style = \"text-align: left;\">head_population</td><td style = \"text-align: left;\">12.2552</td><td style = \"text-align: left;\">2</td><td style = \"text-align: left;\">12.0</td><td style = \"text-align: left;\">18</td><td style = \"text-align: right;\">0</td><td style = \"text-align: left;\">Union{Missing, Int64}</td></tr><tr><td class = \"rowNumber\" style = \"font-weight: bold; text-align: right;\">13</td><td style = \"text-align: left;\">partner_maritalstatus</td><td style = \"font-style: italic; text-align: left;\"></td><td style = \"text-align: left;\">Married</td><td style = \"font-style: italic; text-align: left;\"></td><td style = \"text-align: left;\">Married</td><td style = \"text-align: right;\">371</td><td style = \"text-align: left;\">Union{Missing, String}</td></tr><tr><td style = \"text-align: right;\">&vellip;</td><td style = \"text-align: right;\">&vellip;</td><td style = \"text-align: right;\">&vellip;</td><td style = \"text-align: right;\">&vellip;</td><td style = \"text-align: right;\">&vellip;</td><td style = \"text-align: right;\">&vellip;</td><td style = \"text-align: right;\">&vellip;</td><td style = \"text-align: right;\">&vellip;</td></tr><tr><td class = \"rowNumber\" style = \"font-weight: bold; text-align: right;\">21</td><td style = \"text-align: left;\">child1_age</td><td style = \"text-align: left;\">36.6885</td><td style = \"text-align: left;\">22</td><td style = \"text-align: left;\">32.0</td><td style = \"text-align: left;\">87</td><td style = \"text-align: right;\">518</td><td style = \"text-align: left;\">Union{Missing, Int64}</td></tr><tr><td class = \"rowNumber\" style = \"font-weight: bold; text-align: right;\">22</td><td style = \"text-align: left;\">child1_population</td><td style = \"text-align: left;\">4.78033</td><td style = \"text-align: left;\">1</td><td style = \"text-align: left;\">4.0</td><td style = \"text-align: left;\">10</td><td style = \"text-align: right;\">518</td><td style = \"text-align: left;\">Union{Missing, Int64}</td></tr><tr><td class = \"rowNumber\" style = \"font-weight: bold; text-align: right;\">23</td><td style = \"text-align: left;\">child2_maritalstatus</td><td style = \"font-style: italic; text-align: left;\"></td><td style = \"text-align: left;\">Divorced</td><td style = \"font-style: italic; text-align: left;\"></td><td style = \"text-align: left;\">Widowed</td><td style = \"text-align: right;\">697</td><td style = \"text-align: left;\">Union{Missing, String}</td></tr><tr><td class = \"rowNumber\" style = \"font-weight: bold; text-align: right;\">24</td><td style = \"text-align: left;\">child2_income</td><td style = \"text-align: left;\">73212.5</td><td style = \"text-align: left;\">25394</td><td style = \"text-align: left;\">63969.0</td><td style = \"text-align: left;\">145915</td><td style = \"text-align: right;\">697</td><td style = \"text-align: left;\">Union{Missing, Int64}</td></tr><tr><td class = \"rowNumber\" style = \"font-weight: bold; text-align: right;\">25</td><td style = \"text-align: left;\">child2_sex</td><td style = \"font-style: italic; text-align: left;\"></td><td style = \"text-align: left;\">F</td><td style = \"font-style: italic; text-align: left;\"></td><td style = \"text-align: left;\">M</td><td style = \"text-align: right;\">697</td><td style = \"text-align: left;\">Union{Missing, Char}</td></tr><tr><td class = \"rowNumber\" style = \"font-weight: bold; text-align: right;\">26</td><td style = \"text-align: left;\">child2_age</td><td style = \"text-align: left;\">41.9603</td><td style = \"text-align: left;\">22</td><td style = \"text-align: left;\">37.0</td><td style = \"text-align: left;\">87</td><td style = \"text-align: right;\">697</td><td style = \"text-align: left;\">Union{Missing, Int64}</td></tr><tr><td class = \"rowNumber\" style = \"font-weight: bold; text-align: right;\">27</td><td style = \"text-align: left;\">child2_population</td><td style = \"text-align: left;\">4.07937</td><td style = \"text-align: left;\">1</td><td style = \"text-align: left;\">3.0</td><td style = \"text-align: left;\">10</td><td style = \"text-align: right;\">697</td><td style = \"text-align: left;\">Union{Missing, Int64}</td></tr><tr><td class = \"rowNumber\" style = \"font-weight: bold; text-align: right;\">28</td><td style = \"text-align: left;\">child3_maritalstatus</td><td style = \"font-style: italic; text-align: left;\"></td><td style = \"text-align: left;\">Divorced</td><td style = \"font-style: italic; text-align: left;\"></td><td style = \"text-align: left;\">Widowed</td><td style = \"text-align: right;\">771</td><td style = \"text-align: left;\">Union{Missing, String}</td></tr><tr><td class = \"rowNumber\" style = \"font-weight: bold; text-align: right;\">29</td><td style = \"text-align: left;\">child3_income</td><td style = \"text-align: left;\">74090.4</td><td style = \"text-align: left;\">25394</td><td style = \"text-align: left;\">63969.0</td><td style = \"text-align: left;\">145915</td><td style = \"text-align: right;\">771</td><td style = \"text-align: left;\">Union{Missing, Int64}</td></tr><tr><td class = \"rowNumber\" style = \"font-weight: bold; text-align: right;\">30</td><td style = \"text-align: left;\">child3_sex</td><td style = \"font-style: italic; text-align: left;\"></td><td style = \"text-align: left;\">M</td><td style = \"font-style: italic; text-align: left;\"></td><td style = \"text-align: left;\">M</td><td style = \"text-align: right;\">771</td><td style = \"text-align: left;\">Union{Missing, Char}</td></tr><tr><td class = \"rowNumber\" style = \"font-weight: bold; text-align: right;\">31</td><td style = \"text-align: left;\">child3_age</td><td style = \"text-align: left;\">40.4615</td><td style = \"text-align: left;\">27</td><td style = \"text-align: left;\">37.0</td><td style = \"text-align: left;\">57</td><td style = \"text-align: right;\">771</td><td style = \"text-align: left;\">Union{Missing, Int64}</td></tr><tr><td class = \"rowNumber\" style = \"font-weight: bold; text-align: right;\">32</td><td style = \"text-align: left;\">child3_population</td><td style = \"text-align: left;\">3.09615</td><td style = \"text-align: left;\">1</td><td style = \"text-align: left;\">3.0</td><td style = \"text-align: left;\">5</td><td style = \"text-align: right;\">771</td><td style = \"text-align: left;\">Union{Missing, Int64}</td></tr></tbody></table></div>"
      ],
      "text/latex": [
       "\\begin{tabular}{r|ccccccc}\n",
       "\t& variable & mean & min & median & max & nmissing & eltype\\\\\n",
       "\t\\hline\n",
       "\t& Symbol & Union… & Any & Union… & Any & Int64 & Type\\\\\n",
       "\t\\hline\n",
       "\t1 & id & 412.0 & 1 & 412.0 & 823 & 0 & Int64 \\\\\n",
       "\t2 & agg\\_hh\\_id & 2.28797 & 1 & 2.0 & 5 & 0 & Union\\{Missing, Int64\\} \\\\\n",
       "\t3 & head\\_id & 178.262 & 22 & 138.0 & 430 & 0 & Union\\{Missing, Int64\\} \\\\\n",
       "\t4 & partner\\_id & 389.248 & 302 & 354.0 & 558 & 371 & Union\\{Missing, Int64\\} \\\\\n",
       "\t5 & child1\\_id & 153.354 & 1 & 109.0 & 429 & 518 & Union\\{Missing, Int64\\} \\\\\n",
       "\t6 & child2\\_id & 296.183 & 145 & 298.0 & 432 & 697 & Union\\{Missing, Int64\\} \\\\\n",
       "\t7 & child3\\_id & 363.654 & 309 & 357.0 & 433 & 771 & Union\\{Missing, Int64\\} \\\\\n",
       "\t8 & head\\_maritalstatus &  & Married &  & Married & 0 & Union\\{Missing, String\\} \\\\\n",
       "\t9 & head\\_income & 73596.6 & 25394 & 63969.0 & 145915 & 0 & Union\\{Missing, Int64\\} \\\\\n",
       "\t10 & head\\_sex &  & F &  & M & 0 & Union\\{Missing, Char\\} \\\\\n",
       "\t11 & head\\_age & 48.5006 & 27 & 47.0 & 87 & 0 & Union\\{Missing, Int64\\} \\\\\n",
       "\t12 & head\\_population & 12.2552 & 2 & 12.0 & 18 & 0 & Union\\{Missing, Int64\\} \\\\\n",
       "\t13 & partner\\_maritalstatus &  & Married &  & Married & 371 & Union\\{Missing, String\\} \\\\\n",
       "\t14 & partner\\_income & 73695.9 & 25394 & 63969.0 & 145915 & 371 & Union\\{Missing, Int64\\} \\\\\n",
       "\t15 & partner\\_sex &  & M &  & M & 371 & Union\\{Missing, Char\\} \\\\\n",
       "\t16 & partner\\_age & 46.8119 & 27 & 37.0 & 87 & 371 & Union\\{Missing, Int64\\} \\\\\n",
       "\t17 & partner\\_population & 12.7854 & 2 & 14.0 & 19 & 371 & Union\\{Missing, Int64\\} \\\\\n",
       "\t18 & child1\\_maritalstatus &  & Divorced &  & Widowed & 518 & Union\\{Missing, String\\} \\\\\n",
       "\t19 & child1\\_income & 72637.3 & 25394 & 63969.0 & 145915 & 518 & Union\\{Missing, Int64\\} \\\\\n",
       "\t20 & child1\\_sex &  & F &  & M & 518 & Union\\{Missing, Char\\} \\\\\n",
       "\t21 & child1\\_age & 36.6885 & 22 & 32.0 & 87 & 518 & Union\\{Missing, Int64\\} \\\\\n",
       "\t22 & child1\\_population & 4.78033 & 1 & 4.0 & 10 & 518 & Union\\{Missing, Int64\\} \\\\\n",
       "\t23 & child2\\_maritalstatus &  & Divorced &  & Widowed & 697 & Union\\{Missing, String\\} \\\\\n",
       "\t24 & child2\\_income & 73212.5 & 25394 & 63969.0 & 145915 & 697 & Union\\{Missing, Int64\\} \\\\\n",
       "\t$\\dots$ & $\\dots$ & $\\dots$ & $\\dots$ & $\\dots$ & $\\dots$ & $\\dots$ & $\\dots$ \\\\\n",
       "\\end{tabular}\n"
      ],
      "text/plain": [
       "\u001b[1m32×7 DataFrame\u001b[0m\n",
       "\u001b[1m Row \u001b[0m│\u001b[1m variable             \u001b[0m\u001b[1m mean    \u001b[0m\u001b[1m min      \u001b[0m\u001b[1m median  \u001b[0m\u001b[1m max     \u001b[0m\u001b[1m nmissing \u001b[0m\u001b[1m el\u001b[0m ⋯\n",
       "     │\u001b[90m Symbol               \u001b[0m\u001b[90m Union…  \u001b[0m\u001b[90m Any      \u001b[0m\u001b[90m Union…  \u001b[0m\u001b[90m Any     \u001b[0m\u001b[90m Int64    \u001b[0m\u001b[90m Ty\u001b[0m ⋯\n",
       "─────┼──────────────────────────────────────────────────────────────────────────\n",
       "   1 │ id                    412.0    1         412.0    823             0  In ⋯\n",
       "   2 │ agg_hh_id             2.28797  1         2.0      5               0  Un\n",
       "   3 │ head_id               178.262  22        138.0    430             0  Un\n",
       "   4 │ partner_id            389.248  302       354.0    558           371  Un\n",
       "   5 │ child1_id             153.354  1         109.0    429           518  Un ⋯\n",
       "   6 │ child2_id             296.183  145       298.0    432           697  Un\n",
       "   7 │ child3_id             363.654  309       357.0    433           771  Un\n",
       "   8 │ head_maritalstatus   \u001b[90m         \u001b[0m Married  \u001b[90m         \u001b[0m Married         0  Un\n",
       "  ⋮  │          ⋮               ⋮        ⋮         ⋮        ⋮        ⋮         ⋱\n",
       "  26 │ child2_age            41.9603  22        37.0     87            697  Un ⋯\n",
       "  27 │ child2_population     4.07937  1         3.0      10            697  Un\n",
       "  28 │ child3_maritalstatus \u001b[90m         \u001b[0m Divorced \u001b[90m         \u001b[0m Widowed       771  Un\n",
       "  29 │ child3_income         74090.4  25394     63969.0  145915        771  Un\n",
       "  30 │ child3_sex           \u001b[90m         \u001b[0m M        \u001b[90m         \u001b[0m M             771  Un ⋯\n",
       "  31 │ child3_age            40.4615  27        37.0     57            771  Un\n",
       "  32 │ child3_population     3.09615  1         3.0      5             771  Un\n",
       "\u001b[36m                                                    1 column and 17 rows omitted\u001b[0m"
      ]
     },
     "metadata": {},
     "output_type": "display_data"
    }
   ],
   "source": [
    "describe(disaggregated_households_joined)"
   ]
  },
  {
   "cell_type": "markdown",
   "metadata": {},
   "source": [
    "#### Extra tests to validate outputs\n",
    "At the moment the first test fails because the age difference constraints are disabled because of the computing complexity"
   ]
  },
  {
   "cell_type": "code",
   "execution_count": 21,
   "metadata": {},
   "outputs": [
    {
     "name": "stdout",
     "output_type": "stream",
     "text": [
      "check that there is a proper age difference between children and parents (between 20 and 40)\n",
      "[35, 40, 30, 25, 20, 15, 10, 0, -5, -10, -15, -20, -25, 5]\n",
      "[35, 40, 30, 25, 20, 15, 10, 0, -5, -10, -15, -20, -25]\n",
      "[35, 40, 30, 25, 20, 15, 10]\n",
      "[30, 35, 40]\n",
      "[30]\n",
      "Union{}[]\n",
      "\n",
      "\n",
      "check that for all assigned individuals, the value in column :population from aggregated_individuals is larger than 1\n",
      "[11, 9, 5, 12, 14, 18, 16, 3, 2][2, 12, 10, 8, 5, 3, 14, 19, 16][4, 5, 1, 3, 2, 10, 9][4, 1, 5, 3, 2, 10][4, 1, 5, 3]"
     ]
    }
   ],
   "source": [
    "print(\"check that there is a proper age difference between children and parents (between 20 and 40)\\n\")\n",
    "for parent in [:head_age, :partner_age]\n",
    "    for child in [:child1_age, :child2_age, :child3_age]\n",
    "        print(unique(collect(skipmissing(disaggregated_households_joined[!, parent] - disaggregated_households_joined[!, child]))))\n",
    "        print(\"\\n\")\n",
    "    end\n",
    "end\n",
    "print(\"\\n\\n\")\n",
    "\n",
    "print(\"check that for all assigned individuals, the value in column :population from aggregated_individuals is larger than 1\\n\")\n",
    "for column in [:head_population, :partner_population, :child1_population, :child2_population, :child3_population]\n",
    "    print(unique(collect(skipmissing(disaggregated_households_joined[!, column]))))\n",
    "end"
   ]
  }
 ],
 "metadata": {
  "kernelspec": {
   "display_name": "Julia 1.10.2",
   "language": "julia",
   "name": "julia-1.10"
  },
  "language_info": {
   "file_extension": ".jl",
   "mimetype": "application/julia",
   "name": "julia",
   "version": "1.10.2"
  }
 },
 "nbformat": 4,
 "nbformat_minor": 2
}
