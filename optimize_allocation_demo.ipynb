{
 "cells": [
  {
   "cell_type": "code",
   "execution_count": 7,
   "metadata": {},
   "outputs": [
    {
     "name": "stderr",
     "output_type": "stream",
     "text": [
      "┌ Info: Inconsistent target margins, converting `X` and `mar` to proportions. Margin totals: [1930.0, 2190.0]\n",
      "└ @ ProportionalFitting C:\\Users\\plzurekma\\.julia\\packages\\ProportionalFitting\\gNJEu\\src\\ipf.jl:61\n",
      "┌ Info: Converged in 1 iterations.\n",
      "└ @ ProportionalFitting C:\\Users\\plzurekma\\.julia\\packages\\ProportionalFitting\\gNJEu\\src\\ipf.jl:130\n",
      "┌ Info: Inconsistent target margins, converting `X` and `mar` to proportions. Margin totals: [1085.0, 917.0]\n",
      "└ @ ProportionalFitting C:\\Users\\plzurekma\\.julia\\packages\\ProportionalFitting\\gNJEu\\src\\ipf.jl:61\n",
      "┌ Info: Converged in 1 iterations.\n",
      "└ @ ProportionalFitting C:\\Users\\plzurekma\\.julia\\packages\\ProportionalFitting\\gNJEu\\src\\ipf.jl:130\n",
      "┌ Info: Inconsistent target margins, converting `X` and `mar` to proportions. Margin totals: [1110.0, 951.0]\n",
      "└ @ ProportionalFitting C:\\Users\\plzurekma\\.julia\\packages\\ProportionalFitting\\gNJEu\\src\\ipf.jl:61\n",
      "┌ Info: Converged in 1 iterations.\n",
      "└ @ ProportionalFitting C:\\Users\\plzurekma\\.julia\\packages\\ProportionalFitting\\gNJEu\\src\\ipf.jl:130\n",
      "┌ Info: Inconsistent target margins, converting `X` and `mar` to proportions. Margin totals: [1085.0, 154.0]\n",
      "└ @ ProportionalFitting C:\\Users\\plzurekma\\.julia\\packages\\ProportionalFitting\\gNJEu\\src\\ipf.jl:61\n",
      "┌ Info: Converged in 1 iterations.\n",
      "└ @ ProportionalFitting C:\\Users\\plzurekma\\.julia\\packages\\ProportionalFitting\\gNJEu\\src\\ipf.jl:130\n",
      "┌ Info: Inconsistent target margins, converting `X` and `mar` to proportions. Margin totals: [1110.0, 170.0]\n",
      "└ @ ProportionalFitting C:\\Users\\plzurekma\\.julia\\packages\\ProportionalFitting\\gNJEu\\src\\ipf.jl:61\n",
      "┌ Info: Converged in 1 iterations.\n",
      "└ @ ProportionalFitting C:\\Users\\plzurekma\\.julia\\packages\\ProportionalFitting\\gNJEu\\src\\ipf.jl:130\n"
     ]
    },
    {
     "data": {
      "text/html": [
       "<div><div style = \"float: left;\"><span>5×3 DataFrame</span></div><div style = \"clear: both;\"></div></div><div class = \"data-frame\" style = \"overflow-x: scroll;\"><table class = \"data-frame\" style = \"margin-bottom: 6px;\"><thead><tr class = \"header\"><th class = \"rowNumber\" style = \"font-weight: bold; text-align: right;\">Row</th><th style = \"text-align: left;\">id</th><th style = \"text-align: left;\">hh_size</th><th style = \"text-align: left;\">population</th></tr><tr class = \"subheader headerLastRow\"><th class = \"rowNumber\" style = \"font-weight: bold; text-align: right;\"></th><th title = \"Int64\" style = \"text-align: left;\">Int64</th><th title = \"Int64\" style = \"text-align: left;\">Int64</th><th title = \"Int64\" style = \"text-align: left;\">Int64</th></tr></thead><tbody><tr><td class = \"rowNumber\" style = \"font-weight: bold; text-align: right;\">1</td><td style = \"text-align: right;\">1</td><td style = \"text-align: right;\">1</td><td style = \"text-align: right;\">246</td></tr><tr><td class = \"rowNumber\" style = \"font-weight: bold; text-align: right;\">2</td><td style = \"text-align: right;\">2</td><td style = \"text-align: right;\">2</td><td style = \"text-align: right;\">272</td></tr><tr><td class = \"rowNumber\" style = \"font-weight: bold; text-align: right;\">3</td><td style = \"text-align: right;\">3</td><td style = \"text-align: right;\">3</td><td style = \"text-align: right;\">179</td></tr><tr><td class = \"rowNumber\" style = \"font-weight: bold; text-align: right;\">4</td><td style = \"text-align: right;\">4</td><td style = \"text-align: right;\">4</td><td style = \"text-align: right;\">74</td></tr><tr><td class = \"rowNumber\" style = \"font-weight: bold; text-align: right;\">5</td><td style = \"text-align: right;\">5</td><td style = \"text-align: right;\">5</td><td style = \"text-align: right;\">52</td></tr></tbody></table></div>"
      ],
      "text/latex": [
       "\\begin{tabular}{r|ccc}\n",
       "\t& id & hh\\_size & population\\\\\n",
       "\t\\hline\n",
       "\t& Int64 & Int64 & Int64\\\\\n",
       "\t\\hline\n",
       "\t1 & 1 & 1 & 246 \\\\\n",
       "\t2 & 2 & 2 & 272 \\\\\n",
       "\t3 & 3 & 3 & 179 \\\\\n",
       "\t4 & 4 & 4 & 74 \\\\\n",
       "\t5 & 5 & 5 & 52 \\\\\n",
       "\\end{tabular}\n"
      ],
      "text/plain": [
       "\u001b[1m5×3 DataFrame\u001b[0m\n",
       "\u001b[1m Row \u001b[0m│\u001b[1m id    \u001b[0m\u001b[1m hh_size \u001b[0m\u001b[1m population \u001b[0m\n",
       "     │\u001b[90m Int64 \u001b[0m\u001b[90m Int64   \u001b[0m\u001b[90m Int64      \u001b[0m\n",
       "─────┼────────────────────────────\n",
       "   1 │     1        1         246\n",
       "   2 │     2        2         272\n",
       "   3 │     3        3         179\n",
       "   4 │     4        4          74\n",
       "   5 │     5        5          52"
      ]
     },
     "metadata": {},
     "output_type": "display_data"
    }
   ],
   "source": [
    "using DataFrames\n",
    "using SyntheticPopulation\n",
    "\n",
    "#each individual and each household represent 100.000 individuals or households\n",
    "SCALE = 0.0001 \n",
    "\n",
    "#all values are based on China census data\n",
    "individual_popoulation_size = 21890000\n",
    "\n",
    "#individuals\n",
    "marginal_ind_age_sex = DataFrame(\n",
    "    sex = repeat(['M', 'F'], 18),\n",
    "    age = repeat(2:5:87, inner = 2), \n",
    "    population = SCALE .* 10000 .* [52.6, 49.0, 48.5, 44.8, 33.6, 30.6, 34.6, 28.8, 71.6, 63.4, 99.6, 90.9, 130.9, 119.4, 110.8, 103.5, 83.8, 76.4, 84.2, 77.7, 84.2, 77.8, 82.8, 79.9, 67.7, 71.0, 56.9, 62.6, 31.5, 35.3, 18.5, 23.0, 15.2, 19.7, 12.5, 16.0]\n",
    "    )\n",
    "\n",
    "marginal_ind_sex_maritalstatus = DataFrame(\n",
    "    sex = repeat(['M', 'F'], 4), \n",
    "    maritalstatus = repeat([\"Never_married\", \"Married\", \"Divorced\", \"Widowed\"], inner = 2), \n",
    "    population = SCALE .* [1679, 1611, 5859, 5774, 140, 206, 128, 426] ./ 0.00082\n",
    "    )\n",
    "\n",
    "marginal_ind_income = DataFrame(\n",
    "    income = [25394, 44855, 63969, 88026, 145915], \n",
    "    population = repeat([individual_popoulation_size * SCALE / 5], 5)\n",
    "    )\n",
    "\n",
    "#households\n",
    "household_total_population = 8230000\n",
    "marginal_hh_size = DataFrame(\n",
    "    hh_size = [1,2,3,4,5],\n",
    "    population = Int.(round.(SCALE * household_total_population .* [0.299, 0.331, 0.217, 0.09, 0.063]))\n",
    "    )\n",
    "\n",
    "#=\n",
    "#areas\n",
    "URL = \"https://osm-boundaries.com/api/v1/download?apiKey=6817153008f8ba7ae5587eaa8d01f052&db=osm20240401&osmIds=-912940&boundary=administrative&format=GeoJSON&srid=4326\"\n",
    "areas_filepath = download_osm_boundaries(URL)\n",
    "\n",
    "areas = generate_areas_dataframe_from_file(areas_filepath)\n",
    "\n",
    "#aggregated_areas - population referenced from https://nj.tjj.beijing.gov.cn/nj/main/2021-tjnj/zk/indexeh.htm\n",
    "aggregated_areas = copy(areas)\n",
    "aggregated_areas.:population = SCALE .* 10000 .* [56.8, 313.2, 201.9, 345.1, 34.6, 184.0, 132.4, 45.7, 52.8, 39.3, 44.1, 131.3, 199.4, 226.9, 110.6, 70.9]\n",
    "aggregated_areas\n",
    "=#\n",
    "\n",
    "#generation of dataframe of individuals\n",
    "aggregated_individuals = generate_joint_distribution(marginal_ind_sex_maritalstatus, marginal_ind_income, marginal_ind_age_sex, config_file = \"tutorial_notebooks/config_file.json\")\n",
    "\n",
    "#generation of dataframe of households\n",
    "aggregated_households = generate_joint_distribution(marginal_hh_size)\n"
   ]
  },
  {
   "cell_type": "code",
   "execution_count": 8,
   "metadata": {},
   "outputs": [],
   "source": [
    "model, allocation_values, disaggregated_individuals, disaggregated_households = assign_and_optimize_individuals_to_households(aggregated_individuals, aggregated_households)"
   ]
  },
  {
   "cell_type": "code",
   "execution_count": null,
   "metadata": {},
   "outputs": [],
   "source": [
    "model"
   ]
  },
  {
   "cell_type": "code",
   "execution_count": null,
   "metadata": {},
   "outputs": [],
   "source": [
    "sum(allocation_values)"
   ]
  },
  {
   "cell_type": "code",
   "execution_count": 3,
   "metadata": {},
   "outputs": [
    {
     "data": {
      "text/html": [
       "<div><div style = \"float: left;\"><span>155×2 DataFrame</span></div><div style = \"float: right;\"><span style = \"font-style: italic;\">130 rows omitted</span></div><div style = \"clear: both;\"></div></div><div class = \"data-frame\" style = \"overflow-x: scroll;\"><table class = \"data-frame\" style = \"margin-bottom: 6px;\"><thead><tr class = \"header\"><th class = \"rowNumber\" style = \"font-weight: bold; text-align: right;\">Row</th><th style = \"text-align: left;\">id</th><th style = \"text-align: left;\">household_id</th></tr><tr class = \"subheader headerLastRow\"><th class = \"rowNumber\" style = \"font-weight: bold; text-align: right;\"></th><th title = \"Int64\" style = \"text-align: left;\">Int64</th><th title = \"Union{Missing, Int64}\" style = \"text-align: left;\">Int64?</th></tr></thead><tbody><tr><td class = \"rowNumber\" style = \"font-weight: bold; text-align: right;\">1</td><td style = \"text-align: right;\">1</td><td style = \"text-align: right;\">58</td></tr><tr><td class = \"rowNumber\" style = \"font-weight: bold; text-align: right;\">2</td><td style = \"text-align: right;\">2</td><td style = \"text-align: right;\">59</td></tr><tr><td class = \"rowNumber\" style = \"font-weight: bold; text-align: right;\">3</td><td style = \"text-align: right;\">3</td><td style = \"text-align: right;\">60</td></tr><tr><td class = \"rowNumber\" style = \"font-weight: bold; text-align: right;\">4</td><td style = \"text-align: right;\">4</td><td style = \"text-align: right;\">61</td></tr><tr><td class = \"rowNumber\" style = \"font-weight: bold; text-align: right;\">5</td><td style = \"text-align: right;\">5</td><td style = \"text-align: right;\">62</td></tr><tr><td class = \"rowNumber\" style = \"font-weight: bold; text-align: right;\">6</td><td style = \"text-align: right;\">6</td><td style = \"text-align: right;\">26</td></tr><tr><td class = \"rowNumber\" style = \"font-weight: bold; text-align: right;\">7</td><td style = \"text-align: right;\">7</td><td style = \"text-align: right;\">27</td></tr><tr><td class = \"rowNumber\" style = \"font-weight: bold; text-align: right;\">8</td><td style = \"text-align: right;\">8</td><td style = \"text-align: right;\">28</td></tr><tr><td class = \"rowNumber\" style = \"font-weight: bold; text-align: right;\">9</td><td style = \"text-align: right;\">9</td><td style = \"text-align: right;\">29</td></tr><tr><td class = \"rowNumber\" style = \"font-weight: bold; text-align: right;\">10</td><td style = \"text-align: right;\">10</td><td style = \"text-align: right;\">30</td></tr><tr><td class = \"rowNumber\" style = \"font-weight: bold; text-align: right;\">11</td><td style = \"text-align: right;\">11</td><td style = \"text-align: right;\">53</td></tr><tr><td class = \"rowNumber\" style = \"font-weight: bold; text-align: right;\">12</td><td style = \"text-align: right;\">12</td><td style = \"text-align: right;\">31</td></tr><tr><td class = \"rowNumber\" style = \"font-weight: bold; text-align: right;\">13</td><td style = \"text-align: right;\">13</td><td style = \"text-align: right;\">32</td></tr><tr><td style = \"text-align: right;\">&vellip;</td><td style = \"text-align: right;\">&vellip;</td><td style = \"text-align: right;\">&vellip;</td></tr><tr><td class = \"rowNumber\" style = \"font-weight: bold; text-align: right;\">144</td><td style = \"text-align: right;\">144</td><td style = \"text-align: right;\">77</td></tr><tr><td class = \"rowNumber\" style = \"font-weight: bold; text-align: right;\">145</td><td style = \"text-align: right;\">145</td><td style = \"text-align: right;\">78</td></tr><tr><td class = \"rowNumber\" style = \"font-weight: bold; text-align: right;\">146</td><td style = \"text-align: right;\">146</td><td style = \"text-align: right;\">79</td></tr><tr><td class = \"rowNumber\" style = \"font-weight: bold; text-align: right;\">147</td><td style = \"text-align: right;\">147</td><td style = \"text-align: right;\">80</td></tr><tr><td class = \"rowNumber\" style = \"font-weight: bold; text-align: right;\">148</td><td style = \"text-align: right;\">148</td><td style = \"text-align: right;\">81</td></tr><tr><td class = \"rowNumber\" style = \"font-weight: bold; text-align: right;\">149</td><td style = \"text-align: right;\">149</td><td style = \"text-align: right;\">82</td></tr><tr><td class = \"rowNumber\" style = \"font-weight: bold; text-align: right;\">150</td><td style = \"text-align: right;\">150</td><td style = \"text-align: right;\">63</td></tr><tr><td class = \"rowNumber\" style = \"font-weight: bold; text-align: right;\">151</td><td style = \"text-align: right;\">151</td><td style = \"text-align: right;\">64</td></tr><tr><td class = \"rowNumber\" style = \"font-weight: bold; text-align: right;\">152</td><td style = \"text-align: right;\">152</td><td style = \"text-align: right;\">65</td></tr><tr><td class = \"rowNumber\" style = \"font-weight: bold; text-align: right;\">153</td><td style = \"text-align: right;\">153</td><td style = \"text-align: right;\">66</td></tr><tr><td class = \"rowNumber\" style = \"font-weight: bold; text-align: right;\">154</td><td style = \"text-align: right;\">154</td><td style = \"text-align: right;\">67</td></tr><tr><td class = \"rowNumber\" style = \"font-weight: bold; text-align: right;\">155</td><td style = \"text-align: right;\">155</td><td style = \"text-align: right;\">68</td></tr></tbody></table></div>"
      ],
      "text/latex": [
       "\\begin{tabular}{r|cc}\n",
       "\t& id & household\\_id\\\\\n",
       "\t\\hline\n",
       "\t& Int64 & Int64?\\\\\n",
       "\t\\hline\n",
       "\t1 & 1 & 58 \\\\\n",
       "\t2 & 2 & 59 \\\\\n",
       "\t3 & 3 & 60 \\\\\n",
       "\t4 & 4 & 61 \\\\\n",
       "\t5 & 5 & 62 \\\\\n",
       "\t6 & 6 & 26 \\\\\n",
       "\t7 & 7 & 27 \\\\\n",
       "\t8 & 8 & 28 \\\\\n",
       "\t9 & 9 & 29 \\\\\n",
       "\t10 & 10 & 30 \\\\\n",
       "\t11 & 11 & 53 \\\\\n",
       "\t12 & 12 & 31 \\\\\n",
       "\t13 & 13 & 32 \\\\\n",
       "\t14 & 14 & 54 \\\\\n",
       "\t15 & 15 & 33 \\\\\n",
       "\t16 & 16 & 34 \\\\\n",
       "\t17 & 17 & 55 \\\\\n",
       "\t18 & 18 & 35 \\\\\n",
       "\t19 & 19 & 36 \\\\\n",
       "\t20 & 20 & 56 \\\\\n",
       "\t21 & 21 & 37 \\\\\n",
       "\t22 & 22 & 38 \\\\\n",
       "\t23 & 23 & 57 \\\\\n",
       "\t24 & 24 & 39 \\\\\n",
       "\t$\\dots$ & $\\dots$ & $\\dots$ \\\\\n",
       "\\end{tabular}\n"
      ],
      "text/plain": [
       "\u001b[1m155×2 DataFrame\u001b[0m\n",
       "\u001b[1m Row \u001b[0m│\u001b[1m id    \u001b[0m\u001b[1m household_id \u001b[0m\n",
       "     │\u001b[90m Int64 \u001b[0m\u001b[90m Int64?       \u001b[0m\n",
       "─────┼─────────────────────\n",
       "   1 │     1            58\n",
       "   2 │     2            59\n",
       "   3 │     3            60\n",
       "   4 │     4            61\n",
       "   5 │     5            62\n",
       "   6 │     6            26\n",
       "   7 │     7            27\n",
       "   8 │     8            28\n",
       "  ⋮  │   ⋮         ⋮\n",
       " 149 │   149            82\n",
       " 150 │   150            63\n",
       " 151 │   151            64\n",
       " 152 │   152            65\n",
       " 153 │   153            66\n",
       " 154 │   154            67\n",
       " 155 │   155            68\n",
       "\u001b[36m           140 rows omitted\u001b[0m"
      ]
     },
     "metadata": {},
     "output_type": "display_data"
    }
   ],
   "source": [
    "disaggregated_individuals"
   ]
  },
  {
   "cell_type": "code",
   "execution_count": 5,
   "metadata": {},
   "outputs": [
    {
     "data": {
      "text/html": [
       "<div><div style = \"float: left;\"><span>600×6 DataFrame</span></div><div style = \"float: right;\"><span style = \"font-style: italic;\">575 rows omitted</span></div><div style = \"clear: both;\"></div></div><div class = \"data-frame\" style = \"overflow-x: scroll;\"><table class = \"data-frame\" style = \"margin-bottom: 6px;\"><thead><tr class = \"header\"><th class = \"rowNumber\" style = \"font-weight: bold; text-align: right;\">Row</th><th style = \"text-align: left;\">id</th><th style = \"text-align: left;\">maritalstatus</th><th style = \"text-align: left;\">income</th><th style = \"text-align: left;\">sex</th><th style = \"text-align: left;\">age</th><th style = \"text-align: left;\">population</th></tr><tr class = \"subheader headerLastRow\"><th class = \"rowNumber\" style = \"font-weight: bold; text-align: right;\"></th><th title = \"Int64\" style = \"text-align: left;\">Int64</th><th title = \"Union{Missing, String}\" style = \"text-align: left;\">String?</th><th title = \"Union{Missing, Int64}\" style = \"text-align: left;\">Int64?</th><th title = \"Union{Missing, Char}\" style = \"text-align: left;\">Char?</th><th title = \"Union{Missing, Int64}\" style = \"text-align: left;\">Int64?</th><th title = \"Int64\" style = \"text-align: left;\">Int64</th></tr></thead><tbody><tr><td class = \"rowNumber\" style = \"font-weight: bold; text-align: right;\">1</td><td style = \"text-align: right;\">1</td><td style = \"text-align: left;\">Divorced</td><td style = \"text-align: right;\">25394</td><td style = \"text-align: left;\">F</td><td style = \"text-align: right;\">22</td><td style = \"text-align: right;\">0</td></tr><tr><td class = \"rowNumber\" style = \"font-weight: bold; text-align: right;\">2</td><td style = \"text-align: right;\">2</td><td style = \"text-align: left;\">Married</td><td style = \"text-align: right;\">25394</td><td style = \"text-align: left;\">F</td><td style = \"text-align: right;\">22</td><td style = \"text-align: right;\">1</td></tr><tr><td class = \"rowNumber\" style = \"font-weight: bold; text-align: right;\">3</td><td style = \"text-align: right;\">3</td><td style = \"text-align: left;\">Never_married</td><td style = \"text-align: right;\">25394</td><td style = \"text-align: left;\">F</td><td style = \"text-align: right;\">22</td><td style = \"text-align: right;\">0</td></tr><tr><td class = \"rowNumber\" style = \"font-weight: bold; text-align: right;\">4</td><td style = \"text-align: right;\">4</td><td style = \"text-align: left;\">Widowed</td><td style = \"text-align: right;\">25394</td><td style = \"text-align: left;\">F</td><td style = \"text-align: right;\">22</td><td style = \"text-align: right;\">0</td></tr><tr><td class = \"rowNumber\" style = \"font-weight: bold; text-align: right;\">5</td><td style = \"text-align: right;\">5</td><td style = \"text-align: left;\">Divorced</td><td style = \"text-align: right;\">44855</td><td style = \"text-align: left;\">F</td><td style = \"text-align: right;\">22</td><td style = \"text-align: right;\">0</td></tr><tr><td class = \"rowNumber\" style = \"font-weight: bold; text-align: right;\">6</td><td style = \"text-align: right;\">6</td><td style = \"text-align: left;\">Married</td><td style = \"text-align: right;\">44855</td><td style = \"text-align: left;\">F</td><td style = \"text-align: right;\">22</td><td style = \"text-align: right;\">1</td></tr><tr><td class = \"rowNumber\" style = \"font-weight: bold; text-align: right;\">7</td><td style = \"text-align: right;\">7</td><td style = \"text-align: left;\">Never_married</td><td style = \"text-align: right;\">44855</td><td style = \"text-align: left;\">F</td><td style = \"text-align: right;\">22</td><td style = \"text-align: right;\">0</td></tr><tr><td class = \"rowNumber\" style = \"font-weight: bold; text-align: right;\">8</td><td style = \"text-align: right;\">8</td><td style = \"text-align: left;\">Widowed</td><td style = \"text-align: right;\">44855</td><td style = \"text-align: left;\">F</td><td style = \"text-align: right;\">22</td><td style = \"text-align: right;\">0</td></tr><tr><td class = \"rowNumber\" style = \"font-weight: bold; text-align: right;\">9</td><td style = \"text-align: right;\">9</td><td style = \"text-align: left;\">Divorced</td><td style = \"text-align: right;\">63969</td><td style = \"text-align: left;\">F</td><td style = \"text-align: right;\">22</td><td style = \"text-align: right;\">0</td></tr><tr><td class = \"rowNumber\" style = \"font-weight: bold; text-align: right;\">10</td><td style = \"text-align: right;\">10</td><td style = \"text-align: left;\">Married</td><td style = \"text-align: right;\">63969</td><td style = \"text-align: left;\">F</td><td style = \"text-align: right;\">22</td><td style = \"text-align: right;\">1</td></tr><tr><td class = \"rowNumber\" style = \"font-weight: bold; text-align: right;\">11</td><td style = \"text-align: right;\">11</td><td style = \"text-align: left;\">Never_married</td><td style = \"text-align: right;\">63969</td><td style = \"text-align: left;\">F</td><td style = \"text-align: right;\">22</td><td style = \"text-align: right;\">0</td></tr><tr><td class = \"rowNumber\" style = \"font-weight: bold; text-align: right;\">12</td><td style = \"text-align: right;\">12</td><td style = \"text-align: left;\">Widowed</td><td style = \"text-align: right;\">63969</td><td style = \"text-align: left;\">F</td><td style = \"text-align: right;\">22</td><td style = \"text-align: right;\">0</td></tr><tr><td class = \"rowNumber\" style = \"font-weight: bold; text-align: right;\">13</td><td style = \"text-align: right;\">13</td><td style = \"text-align: left;\">Divorced</td><td style = \"text-align: right;\">88026</td><td style = \"text-align: left;\">F</td><td style = \"text-align: right;\">22</td><td style = \"text-align: right;\">0</td></tr><tr><td style = \"text-align: right;\">&vellip;</td><td style = \"text-align: right;\">&vellip;</td><td style = \"text-align: right;\">&vellip;</td><td style = \"text-align: right;\">&vellip;</td><td style = \"text-align: right;\">&vellip;</td><td style = \"text-align: right;\">&vellip;</td><td style = \"text-align: right;\">&vellip;</td></tr><tr><td class = \"rowNumber\" style = \"font-weight: bold; text-align: right;\">589</td><td style = \"text-align: right;\">589</td><td style = \"text-align: left;\">missing</td><td style = \"text-align: right;\">88026</td><td style = \"text-align: left;\">M</td><td style = \"text-align: right;\">7</td><td style = \"text-align: right;\">1</td></tr><tr><td class = \"rowNumber\" style = \"font-weight: bold; text-align: right;\">590</td><td style = \"text-align: right;\">590</td><td style = \"text-align: left;\">missing</td><td style = \"text-align: right;\">145915</td><td style = \"text-align: left;\">M</td><td style = \"text-align: right;\">7</td><td style = \"text-align: right;\">1</td></tr><tr><td class = \"rowNumber\" style = \"font-weight: bold; text-align: right;\">591</td><td style = \"text-align: right;\">591</td><td style = \"text-align: left;\">missing</td><td style = \"text-align: right;\">25394</td><td style = \"text-align: left;\">M</td><td style = \"text-align: right;\">12</td><td style = \"text-align: right;\">0</td></tr><tr><td class = \"rowNumber\" style = \"font-weight: bold; text-align: right;\">592</td><td style = \"text-align: right;\">592</td><td style = \"text-align: left;\">missing</td><td style = \"text-align: right;\">44855</td><td style = \"text-align: left;\">M</td><td style = \"text-align: right;\">12</td><td style = \"text-align: right;\">0</td></tr><tr><td class = \"rowNumber\" style = \"font-weight: bold; text-align: right;\">593</td><td style = \"text-align: right;\">593</td><td style = \"text-align: left;\">missing</td><td style = \"text-align: right;\">63969</td><td style = \"text-align: left;\">M</td><td style = \"text-align: right;\">12</td><td style = \"text-align: right;\">0</td></tr><tr><td class = \"rowNumber\" style = \"font-weight: bold; text-align: right;\">594</td><td style = \"text-align: right;\">594</td><td style = \"text-align: left;\">missing</td><td style = \"text-align: right;\">88026</td><td style = \"text-align: left;\">M</td><td style = \"text-align: right;\">12</td><td style = \"text-align: right;\">0</td></tr><tr><td class = \"rowNumber\" style = \"font-weight: bold; text-align: right;\">595</td><td style = \"text-align: right;\">595</td><td style = \"text-align: left;\">missing</td><td style = \"text-align: right;\">145915</td><td style = \"text-align: left;\">M</td><td style = \"text-align: right;\">12</td><td style = \"text-align: right;\">0</td></tr><tr><td class = \"rowNumber\" style = \"font-weight: bold; text-align: right;\">596</td><td style = \"text-align: right;\">596</td><td style = \"text-align: left;\">missing</td><td style = \"text-align: right;\">25394</td><td style = \"text-align: left;\">M</td><td style = \"text-align: right;\">17</td><td style = \"text-align: right;\">0</td></tr><tr><td class = \"rowNumber\" style = \"font-weight: bold; text-align: right;\">597</td><td style = \"text-align: right;\">597</td><td style = \"text-align: left;\">missing</td><td style = \"text-align: right;\">44855</td><td style = \"text-align: left;\">M</td><td style = \"text-align: right;\">17</td><td style = \"text-align: right;\">0</td></tr><tr><td class = \"rowNumber\" style = \"font-weight: bold; text-align: right;\">598</td><td style = \"text-align: right;\">598</td><td style = \"text-align: left;\">missing</td><td style = \"text-align: right;\">63969</td><td style = \"text-align: left;\">M</td><td style = \"text-align: right;\">17</td><td style = \"text-align: right;\">0</td></tr><tr><td class = \"rowNumber\" style = \"font-weight: bold; text-align: right;\">599</td><td style = \"text-align: right;\">599</td><td style = \"text-align: left;\">missing</td><td style = \"text-align: right;\">88026</td><td style = \"text-align: left;\">M</td><td style = \"text-align: right;\">17</td><td style = \"text-align: right;\">0</td></tr><tr><td class = \"rowNumber\" style = \"font-weight: bold; text-align: right;\">600</td><td style = \"text-align: right;\">600</td><td style = \"text-align: left;\">missing</td><td style = \"text-align: right;\">145915</td><td style = \"text-align: left;\">M</td><td style = \"text-align: right;\">17</td><td style = \"text-align: right;\">0</td></tr></tbody></table></div>"
      ],
      "text/latex": [
       "\\begin{tabular}{r|cccccc}\n",
       "\t& id & maritalstatus & income & sex & age & population\\\\\n",
       "\t\\hline\n",
       "\t& Int64 & String? & Int64? & Char? & Int64? & Int64\\\\\n",
       "\t\\hline\n",
       "\t1 & 1 & Divorced & 25394 & F & 22 & 0 \\\\\n",
       "\t2 & 2 & Married & 25394 & F & 22 & 1 \\\\\n",
       "\t3 & 3 & Never\\_married & 25394 & F & 22 & 0 \\\\\n",
       "\t4 & 4 & Widowed & 25394 & F & 22 & 0 \\\\\n",
       "\t5 & 5 & Divorced & 44855 & F & 22 & 0 \\\\\n",
       "\t6 & 6 & Married & 44855 & F & 22 & 1 \\\\\n",
       "\t7 & 7 & Never\\_married & 44855 & F & 22 & 0 \\\\\n",
       "\t8 & 8 & Widowed & 44855 & F & 22 & 0 \\\\\n",
       "\t9 & 9 & Divorced & 63969 & F & 22 & 0 \\\\\n",
       "\t10 & 10 & Married & 63969 & F & 22 & 1 \\\\\n",
       "\t11 & 11 & Never\\_married & 63969 & F & 22 & 0 \\\\\n",
       "\t12 & 12 & Widowed & 63969 & F & 22 & 0 \\\\\n",
       "\t13 & 13 & Divorced & 88026 & F & 22 & 0 \\\\\n",
       "\t14 & 14 & Married & 88026 & F & 22 & 1 \\\\\n",
       "\t15 & 15 & Never\\_married & 88026 & F & 22 & 0 \\\\\n",
       "\t16 & 16 & Widowed & 88026 & F & 22 & 0 \\\\\n",
       "\t17 & 17 & Divorced & 145915 & F & 22 & 0 \\\\\n",
       "\t18 & 18 & Married & 145915 & F & 22 & 1 \\\\\n",
       "\t19 & 19 & Never\\_married & 145915 & F & 22 & 0 \\\\\n",
       "\t20 & 20 & Widowed & 145915 & F & 22 & 0 \\\\\n",
       "\t21 & 21 & Divorced & 25394 & F & 27 & 0 \\\\\n",
       "\t22 & 22 & Married & 25394 & F & 27 & 1 \\\\\n",
       "\t23 & 23 & Never\\_married & 25394 & F & 27 & 0 \\\\\n",
       "\t24 & 24 & Widowed & 25394 & F & 27 & 0 \\\\\n",
       "\t$\\dots$ & $\\dots$ & $\\dots$ & $\\dots$ & $\\dots$ & $\\dots$ & $\\dots$ \\\\\n",
       "\\end{tabular}\n"
      ],
      "text/plain": [
       "\u001b[1m600×6 DataFrame\u001b[0m\n",
       "\u001b[1m Row \u001b[0m│\u001b[1m id    \u001b[0m\u001b[1m maritalstatus \u001b[0m\u001b[1m income \u001b[0m\u001b[1m sex   \u001b[0m\u001b[1m age    \u001b[0m\u001b[1m population \u001b[0m\n",
       "     │\u001b[90m Int64 \u001b[0m\u001b[90m String?       \u001b[0m\u001b[90m Int64? \u001b[0m\u001b[90m Char? \u001b[0m\u001b[90m Int64? \u001b[0m\u001b[90m Int64      \u001b[0m\n",
       "─────┼─────────────────────────────────────────────────────────\n",
       "   1 │     1  Divorced        25394  F          22           0\n",
       "   2 │     2  Married         25394  F          22           1\n",
       "   3 │     3  Never_married   25394  F          22           0\n",
       "   4 │     4  Widowed         25394  F          22           0\n",
       "   5 │     5  Divorced        44855  F          22           0\n",
       "   6 │     6  Married         44855  F          22           1\n",
       "   7 │     7  Never_married   44855  F          22           0\n",
       "   8 │     8  Widowed         44855  F          22           0\n",
       "  ⋮  │   ⋮          ⋮          ⋮       ⋮      ⋮         ⋮\n",
       " 594 │   594 \u001b[90m missing       \u001b[0m  88026  M          12           0\n",
       " 595 │   595 \u001b[90m missing       \u001b[0m 145915  M          12           0\n",
       " 596 │   596 \u001b[90m missing       \u001b[0m  25394  M          17           0\n",
       " 597 │   597 \u001b[90m missing       \u001b[0m  44855  M          17           0\n",
       " 598 │   598 \u001b[90m missing       \u001b[0m  63969  M          17           0\n",
       " 599 │   599 \u001b[90m missing       \u001b[0m  88026  M          17           0\n",
       " 600 │   600 \u001b[90m missing       \u001b[0m 145915  M          17           0\n",
       "\u001b[36m                                               585 rows omitted\u001b[0m"
      ]
     },
     "metadata": {},
     "output_type": "display_data"
    }
   ],
   "source": [
    "aggregated_individuals"
   ]
  },
  {
   "cell_type": "code",
   "execution_count": 4,
   "metadata": {},
   "outputs": [
    {
     "data": {
      "text/html": [
       "<div><div style = \"float: left;\"><span>8×7 DataFrame</span></div><div style = \"clear: both;\"></div></div><div class = \"data-frame\" style = \"overflow-x: scroll;\"><table class = \"data-frame\" style = \"margin-bottom: 6px;\"><thead><tr class = \"header\"><th class = \"rowNumber\" style = \"font-weight: bold; text-align: right;\">Row</th><th style = \"text-align: left;\">variable</th><th style = \"text-align: left;\">mean</th><th style = \"text-align: left;\">min</th><th style = \"text-align: left;\">median</th><th style = \"text-align: left;\">max</th><th style = \"text-align: left;\">nmissing</th><th style = \"text-align: left;\">eltype</th></tr><tr class = \"subheader headerLastRow\"><th class = \"rowNumber\" style = \"font-weight: bold; text-align: right;\"></th><th title = \"Symbol\" style = \"text-align: left;\">Symbol</th><th title = \"Float64\" style = \"text-align: left;\">Float64</th><th title = \"Union{Nothing, Int64}\" style = \"text-align: left;\">Union…</th><th title = \"Union{Nothing, Float64}\" style = \"text-align: left;\">Union…</th><th title = \"Union{Nothing, Int64}\" style = \"text-align: left;\">Union…</th><th title = \"Int64\" style = \"text-align: left;\">Int64</th><th title = \"Type\" style = \"text-align: left;\">Type</th></tr></thead><tbody><tr><td class = \"rowNumber\" style = \"font-weight: bold; text-align: right;\">1</td><td style = \"text-align: left;\">id</td><td style = \"text-align: right;\">41.5</td><td style = \"text-align: left;\">1</td><td style = \"text-align: left;\">41.5</td><td style = \"text-align: left;\">82</td><td style = \"text-align: right;\">0</td><td style = \"text-align: left;\">Int64</td></tr><tr><td class = \"rowNumber\" style = \"font-weight: bold; text-align: right;\">2</td><td style = \"text-align: left;\">agg_hh_id</td><td style = \"text-align: right;\">2.26829</td><td style = \"text-align: left;\">1</td><td style = \"text-align: left;\">2.0</td><td style = \"text-align: left;\">5</td><td style = \"text-align: right;\">0</td><td style = \"text-align: left;\">Union{Missing, Int64}</td></tr><tr><td class = \"rowNumber\" style = \"font-weight: bold; text-align: right;\">3</td><td style = \"text-align: left;\">head_id</td><td style = \"text-align: right;\">52.3537</td><td style = \"text-align: left;\">6</td><td style = \"text-align: left;\">51.5</td><td style = \"text-align: left;\">98</td><td style = \"text-align: right;\">0</td><td style = \"text-align: left;\">Union{Missing, Int64}</td></tr><tr><td class = \"rowNumber\" style = \"font-weight: bold; text-align: right;\">4</td><td style = \"text-align: left;\">partner_id</td><td style = \"text-align: right;\">117.0</td><td style = \"text-align: left;\">99</td><td style = \"text-align: left;\">117.0</td><td style = \"text-align: left;\">135</td><td style = \"text-align: right;\">45</td><td style = \"text-align: left;\">Union{Missing, Int64}</td></tr><tr><td class = \"rowNumber\" style = \"font-weight: bold; text-align: right;\">5</td><td style = \"text-align: left;\">child1_id</td><td style = \"text-align: right;\">85.1</td><td style = \"text-align: left;\">1</td><td style = \"text-align: left;\">84.0</td><td style = \"text-align: left;\">149</td><td style = \"text-align: right;\">52</td><td style = \"text-align: left;\">Union{Missing, Int64}</td></tr><tr><td class = \"rowNumber\" style = \"font-weight: bold; text-align: right;\">6</td><td style = \"text-align: left;\">child2_id</td><td style = \"text-align: right;\">152.5</td><td style = \"text-align: left;\">150</td><td style = \"text-align: left;\">152.5</td><td style = \"text-align: left;\">155</td><td style = \"text-align: right;\">76</td><td style = \"text-align: left;\">Union{Missing, Int64}</td></tr><tr><td class = \"rowNumber\" style = \"font-weight: bold; text-align: right;\">7</td><td style = \"text-align: left;\">child3_id</td><td style = \"text-align: right;\">NaN</td><td style = \"font-style: italic; text-align: left;\"></td><td style = \"font-style: italic; text-align: left;\"></td><td style = \"font-style: italic; text-align: left;\"></td><td style = \"text-align: right;\">82</td><td style = \"text-align: left;\">Union{Missing, Int64}</td></tr><tr><td class = \"rowNumber\" style = \"font-weight: bold; text-align: right;\">8</td><td style = \"text-align: left;\">child4_id</td><td style = \"text-align: right;\">NaN</td><td style = \"font-style: italic; text-align: left;\"></td><td style = \"font-style: italic; text-align: left;\"></td><td style = \"font-style: italic; text-align: left;\"></td><td style = \"text-align: right;\">82</td><td style = \"text-align: left;\">Union{Missing, Int64}</td></tr></tbody></table></div>"
      ],
      "text/latex": [
       "\\begin{tabular}{r|ccccccc}\n",
       "\t& variable & mean & min & median & max & nmissing & eltype\\\\\n",
       "\t\\hline\n",
       "\t& Symbol & Float64 & Union… & Union… & Union… & Int64 & Type\\\\\n",
       "\t\\hline\n",
       "\t1 & id & 41.5 & 1 & 41.5 & 82 & 0 & Int64 \\\\\n",
       "\t2 & agg\\_hh\\_id & 2.26829 & 1 & 2.0 & 5 & 0 & Union\\{Missing, Int64\\} \\\\\n",
       "\t3 & head\\_id & 52.3537 & 6 & 51.5 & 98 & 0 & Union\\{Missing, Int64\\} \\\\\n",
       "\t4 & partner\\_id & 117.0 & 99 & 117.0 & 135 & 45 & Union\\{Missing, Int64\\} \\\\\n",
       "\t5 & child1\\_id & 85.1 & 1 & 84.0 & 149 & 52 & Union\\{Missing, Int64\\} \\\\\n",
       "\t6 & child2\\_id & 152.5 & 150 & 152.5 & 155 & 76 & Union\\{Missing, Int64\\} \\\\\n",
       "\t7 & child3\\_id & NaN &  &  &  & 82 & Union\\{Missing, Int64\\} \\\\\n",
       "\t8 & child4\\_id & NaN &  &  &  & 82 & Union\\{Missing, Int64\\} \\\\\n",
       "\\end{tabular}\n"
      ],
      "text/plain": [
       "\u001b[1m8×7 DataFrame\u001b[0m\n",
       "\u001b[1m Row \u001b[0m│\u001b[1m variable   \u001b[0m\u001b[1m mean      \u001b[0m\u001b[1m min    \u001b[0m\u001b[1m median \u001b[0m\u001b[1m max    \u001b[0m\u001b[1m nmissing \u001b[0m\u001b[1m eltype        \u001b[0m ⋯\n",
       "     │\u001b[90m Symbol     \u001b[0m\u001b[90m Float64   \u001b[0m\u001b[90m Union… \u001b[0m\u001b[90m Union… \u001b[0m\u001b[90m Union… \u001b[0m\u001b[90m Int64    \u001b[0m\u001b[90m Type          \u001b[0m ⋯\n",
       "─────┼──────────────────────────────────────────────────────────────────────────\n",
       "   1 │ id           41.5      1       41.5    82             0  Int64          ⋯\n",
       "   2 │ agg_hh_id     2.26829  1       2.0     5              0  Union{Missing,\n",
       "   3 │ head_id      52.3537   6       51.5    98             0  Union{Missing,\n",
       "   4 │ partner_id  117.0      99      117.0   135           45  Union{Missing,\n",
       "   5 │ child1_id    85.1      1       84.0    149           52  Union{Missing, ⋯\n",
       "   6 │ child2_id   152.5      150     152.5   155           76  Union{Missing,\n",
       "   7 │ child3_id   NaN       \u001b[90m        \u001b[0m\u001b[90m        \u001b[0m\u001b[90m        \u001b[0m       82  Union{Missing,\n",
       "   8 │ child4_id   NaN       \u001b[90m        \u001b[0m\u001b[90m        \u001b[0m\u001b[90m        \u001b[0m       82  Union{Missing,\n",
       "\u001b[36m                                                                1 column omitted\u001b[0m"
      ]
     },
     "metadata": {},
     "output_type": "display_data"
    }
   ],
   "source": [
    "describe(disaggregated_households)"
   ]
  }
 ],
 "metadata": {
  "kernelspec": {
   "display_name": "Julia 1.10.2",
   "language": "julia",
   "name": "julia-1.10"
  },
  "language_info": {
   "file_extension": ".jl",
   "mimetype": "application/julia",
   "name": "julia",
   "version": "1.10.2"
  }
 },
 "nbformat": 4,
 "nbformat_minor": 2
}
