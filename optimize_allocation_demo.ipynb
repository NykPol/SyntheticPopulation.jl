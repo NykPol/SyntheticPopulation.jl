{
 "cells": [
  {
   "cell_type": "code",
   "execution_count": 13,
   "metadata": {},
   "outputs": [
    {
     "name": "stdout",
     "output_type": "stream",
     "text": [
      "Downloading file... \n",
      "File downloaded. Unzipping file...\n",
      "File saved at c:\\Users\\plzurekma\\Documents\\SyntheticPopulation.jl\\file.geojson\n"
     ]
    },
    {
     "name": "stderr",
     "output_type": "stream",
     "text": [
      "┌ Info: Inconsistent target margins, converting `X` and `mar` to proportions. Margin totals: [193.0, 220.0]\n",
      "└ @ ProportionalFitting C:\\Users\\plzurekma\\.julia\\packages\\ProportionalFitting\\gNJEu\\src\\ipf.jl:61\n",
      "┌ Info: Converged in 1 iterations.\n",
      "└ @ ProportionalFitting C:\\Users\\plzurekma\\.julia\\packages\\ProportionalFitting\\gNJEu\\src\\ipf.jl:130\n",
      "┌ Info: Inconsistent target margins, converting `X` and `mar` to proportions. Margin totals: [105.0, 92.0]\n",
      "└ @ ProportionalFitting C:\\Users\\plzurekma\\.julia\\packages\\ProportionalFitting\\gNJEu\\src\\ipf.jl:61\n",
      "┌ Info: Converged in 1 iterations.\n",
      "└ @ ProportionalFitting C:\\Users\\plzurekma\\.julia\\packages\\ProportionalFitting\\gNJEu\\src\\ipf.jl:130\n",
      "┌ Info: Inconsistent target margins, converting `X` and `mar` to proportions. Margin totals: [115.0, 94.0]\n",
      "└ @ ProportionalFitting C:\\Users\\plzurekma\\.julia\\packages\\ProportionalFitting\\gNJEu\\src\\ipf.jl:61\n",
      "┌ Info: Converged in 1 iterations.\n",
      "└ @ ProportionalFitting C:\\Users\\plzurekma\\.julia\\packages\\ProportionalFitting\\gNJEu\\src\\ipf.jl:130\n",
      "┌ Info: Inconsistent target margins, converting `X` and `mar` to proportions. Margin totals: [105.0, 15.0]\n",
      "└ @ ProportionalFitting C:\\Users\\plzurekma\\.julia\\packages\\ProportionalFitting\\gNJEu\\src\\ipf.jl:61\n",
      "┌ Info: Converged in 1 iterations.\n",
      "└ @ ProportionalFitting C:\\Users\\plzurekma\\.julia\\packages\\ProportionalFitting\\gNJEu\\src\\ipf.jl:130\n",
      "┌ Info: Inconsistent target margins, converting `X` and `mar` to proportions. Margin totals: [115.0, 16.0]\n",
      "└ @ ProportionalFitting C:\\Users\\plzurekma\\.julia\\packages\\ProportionalFitting\\gNJEu\\src\\ipf.jl:61\n",
      "┌ Info: Converged in 1 iterations.\n",
      "└ @ ProportionalFitting C:\\Users\\plzurekma\\.julia\\packages\\ProportionalFitting\\gNJEu\\src\\ipf.jl:130\n"
     ]
    },
    {
     "data": {
      "text/html": [
       "<div><div style = \"float: left;\"><span>5×3 DataFrame</span></div><div style = \"clear: both;\"></div></div><div class = \"data-frame\" style = \"overflow-x: scroll;\"><table class = \"data-frame\" style = \"margin-bottom: 6px;\"><thead><tr class = \"header\"><th class = \"rowNumber\" style = \"font-weight: bold; text-align: right;\">Row</th><th style = \"text-align: left;\">id</th><th style = \"text-align: left;\">hh_size</th><th style = \"text-align: left;\">population</th></tr><tr class = \"subheader headerLastRow\"><th class = \"rowNumber\" style = \"font-weight: bold; text-align: right;\"></th><th title = \"Int64\" style = \"text-align: left;\">Int64</th><th title = \"Int64\" style = \"text-align: left;\">Int64</th><th title = \"Int64\" style = \"text-align: left;\">Int64</th></tr></thead><tbody><tr><td class = \"rowNumber\" style = \"font-weight: bold; text-align: right;\">1</td><td style = \"text-align: right;\">1</td><td style = \"text-align: right;\">1</td><td style = \"text-align: right;\">25</td></tr><tr><td class = \"rowNumber\" style = \"font-weight: bold; text-align: right;\">2</td><td style = \"text-align: right;\">2</td><td style = \"text-align: right;\">2</td><td style = \"text-align: right;\">27</td></tr><tr><td class = \"rowNumber\" style = \"font-weight: bold; text-align: right;\">3</td><td style = \"text-align: right;\">3</td><td style = \"text-align: right;\">3</td><td style = \"text-align: right;\">18</td></tr><tr><td class = \"rowNumber\" style = \"font-weight: bold; text-align: right;\">4</td><td style = \"text-align: right;\">4</td><td style = \"text-align: right;\">4</td><td style = \"text-align: right;\">7</td></tr><tr><td class = \"rowNumber\" style = \"font-weight: bold; text-align: right;\">5</td><td style = \"text-align: right;\">5</td><td style = \"text-align: right;\">5</td><td style = \"text-align: right;\">5</td></tr></tbody></table></div>"
      ],
      "text/latex": [
       "\\begin{tabular}{r|ccc}\n",
       "\t& id & hh\\_size & population\\\\\n",
       "\t\\hline\n",
       "\t& Int64 & Int64 & Int64\\\\\n",
       "\t\\hline\n",
       "\t1 & 1 & 1 & 25 \\\\\n",
       "\t2 & 2 & 2 & 27 \\\\\n",
       "\t3 & 3 & 3 & 18 \\\\\n",
       "\t4 & 4 & 4 & 7 \\\\\n",
       "\t5 & 5 & 5 & 5 \\\\\n",
       "\\end{tabular}\n"
      ],
      "text/plain": [
       "\u001b[1m5×3 DataFrame\u001b[0m\n",
       "\u001b[1m Row \u001b[0m│\u001b[1m id    \u001b[0m\u001b[1m hh_size \u001b[0m\u001b[1m population \u001b[0m\n",
       "     │\u001b[90m Int64 \u001b[0m\u001b[90m Int64   \u001b[0m\u001b[90m Int64      \u001b[0m\n",
       "─────┼────────────────────────────\n",
       "   1 │     1        1          25\n",
       "   2 │     2        2          27\n",
       "   3 │     3        3          18\n",
       "   4 │     4        4           7\n",
       "   5 │     5        5           5"
      ]
     },
     "metadata": {},
     "output_type": "display_data"
    }
   ],
   "source": [
    "using DataFrames\n",
    "using SyntheticPopulation\n",
    "\n",
    "#each individual and each household represent 100.000 individuals or households\n",
    "SCALE = 0.00001 \n",
    "\n",
    "#all values are based on China census data\n",
    "individual_popoulation_size = 21890000\n",
    "\n",
    "#individuals\n",
    "marginal_ind_age_sex = DataFrame(\n",
    "    sex = repeat(['M', 'F'], 18),\n",
    "    age = repeat(2:5:87, inner = 2), \n",
    "    population = SCALE .* 10000 .* [52.6, 49.0, 48.5, 44.8, 33.6, 30.6, 34.6, 28.8, 71.6, 63.4, 99.6, 90.9, 130.9, 119.4, 110.8, 103.5, 83.8, 76.4, 84.2, 77.7, 84.2, 77.8, 82.8, 79.9, 67.7, 71.0, 56.9, 62.6, 31.5, 35.3, 18.5, 23.0, 15.2, 19.7, 12.5, 16.0]\n",
    "    )\n",
    "\n",
    "marginal_ind_sex_maritalstatus = DataFrame(\n",
    "    sex = repeat(['M', 'F'], 4), \n",
    "    maritalstatus = repeat([\"Never_married\", \"Married\", \"Divorced\", \"Widowed\"], inner = 2), \n",
    "    population = SCALE .* [1679, 1611, 5859, 5774, 140, 206, 128, 426] ./ 0.00082\n",
    "    )\n",
    "\n",
    "marginal_ind_income = DataFrame(\n",
    "    income = [25394, 44855, 63969, 88026, 145915], \n",
    "    population = repeat([individual_popoulation_size * SCALE / 5], 5)\n",
    "    )\n",
    "\n",
    "#households\n",
    "household_total_population = 8230000\n",
    "marginal_hh_size = DataFrame(\n",
    "    hh_size = [1,2,3,4,5],\n",
    "    population = Int.(round.(SCALE * household_total_population .* [0.299, 0.331, 0.217, 0.09, 0.063]))\n",
    "    )\n",
    "\n",
    "\n",
    "#areas\n",
    "URL = \"https://osm-boundaries.com/Download/Submit?apiKey=ba9912041675bdf0cb40ca82631b6e96&db=osm20230102&osmIds=-2988894,-2988933,-2988895,-288600,-2988896,-2988946,-5505984,-2988897,-2988898,-2988899,-2988900,-5505985,-2988901,-2988902,-568660,-2988903&format=GeoJSON&srid=4326\"\n",
    "areas = generate_areas_dataframe_from_url(URL)\n",
    "\n",
    "#aggregated_areas - population referenced from https://nj.tjj.beijing.gov.cn/nj/main/2021-tjnj/zk/indexeh.htm\n",
    "aggregated_areas = copy(areas)\n",
    "aggregated_areas.:population = SCALE .* 10000 .* [56.8, 313.2, 201.9, 345.1, 34.6, 184.0, 132.4, 45.7, 52.8, 39.3, 44.1, 131.3, 199.4, 226.9, 110.6, 70.9]\n",
    "aggregated_areas\n",
    "\n",
    "#generation of dataframe of individuals\n",
    "aggregated_individuals = generate_joint_distribution(marginal_ind_sex_maritalstatus, marginal_ind_income, marginal_ind_age_sex, config_file = \"tutorial_notebooks/config_file.json\")\n",
    "\n",
    "#generation of dataframe of households\n",
    "aggregated_households = generate_joint_distribution(marginal_hh_size)\n"
   ]
  },
  {
   "cell_type": "code",
   "execution_count": 14,
   "metadata": {},
   "outputs": [
    {
     "name": "stdout",
     "output_type": "stream",
     "text": [
      "Total number of individuals: 155\n",
      "Total number of households: 82\n",
      "Allocation started...\n"
     ]
    },
    {
     "name": "stderr",
     "output_type": "stream",
     "text": [
      "\u001b[32mAdding individual constraints 100%|██████████████████████| Time: 0:00:00\u001b[39m\u001b[K\n",
      "\u001b[32mPreparing household constraints 1/3 100%|████████████████| Time: 0:00:00\u001b[39m\u001b[K\n",
      "\u001b[32mPreparing household constraints 3/3 100%|████████████████| Time: 0:00:00\u001b[39m\u001b[K\n",
      "\u001b[32mAssigning household constraints. 100%|███████████████████| Time: 0:00:00\u001b[39m\u001b[K\n"
     ]
    },
    {
     "name": "stdout",
     "output_type": "stream",
     "text": [
      "Creation of individual constraints started.\n",
      "Creation of individual constraints finished.\n",
      "Preparation for creation of household constraints started.\n",
      "Preparation for creation of household constraints finished.\n",
      "Creation of household constraints started.\n",
      "Creation of household constraints finished\n",
      "Optimization of allocation started.\n"
     ]
    },
    {
     "name": "stderr",
     "output_type": "stream",
     "text": [
      "\u001b[32mDisaggregating individuals 100%|█████████████████████████| Time: 0:00:00\u001b[39m\u001b[K\n"
     ]
    },
    {
     "name": "stdout",
     "output_type": "stream",
     "text": [
      "Optimization completed.\n",
      "Objective value: 155.0\n"
     ]
    },
    {
     "ename": "ArgumentError",
     "evalue": "ArgumentError: Cannot assign to non-existent column: child4_id",
     "output_type": "error",
     "traceback": [
      "ArgumentError: Cannot assign to non-existent column: child4_id\n",
      "\n",
      "Stacktrace:\n",
      " [1] insert_single_entry!(df::DataFrame, v::Int64, row_ind::Int64, col_ind::Symbol)\n",
      "   @ DataFrames C:\\Users\\plzurekma\\.julia\\packages\\DataFrames\\LteEl\\src\\dataframe\\dataframe.jl:663\n",
      " [2] setindex!(df::DataFrame, v::Int64, row_ind::Int64, col_ind::Symbol)\n",
      "   @ DataFrames C:\\Users\\plzurekma\\.julia\\packages\\DataFrames\\LteEl\\src\\dataframe\\dataframe.jl:688\n",
      " [3] assign_and_optimize_individuals_to_households(aggregated_individuals::DataFrame, aggregated_households::DataFrame)\n",
      "   @ SyntheticPopulation c:\\Users\\plzurekma\\Documents\\SyntheticPopulation.jl\\src\\optimized_individual_allocation.jl:238\n",
      " [4] top-level scope\n",
      "   @ c:\\Users\\plzurekma\\Documents\\SyntheticPopulation.jl\\optimize_allocation_demo.ipynb:1"
     ]
    }
   ],
   "source": [
    "model, allocation_values, disaggregated_individuals, disaggregated_households = assign_and_optimize_individuals_to_households(aggregated_individuals, aggregated_households)"
   ]
  },
  {
   "cell_type": "code",
   "execution_count": 10,
   "metadata": {},
   "outputs": [
    {
     "ename": "UndefVarError",
     "evalue": "UndefVarError: `model` not defined",
     "output_type": "error",
     "traceback": [
      "UndefVarError: `model` not defined\n"
     ]
    }
   ],
   "source": [
    "model"
   ]
  },
  {
   "cell_type": "code",
   "execution_count": 11,
   "metadata": {},
   "outputs": [
    {
     "ename": "UndefVarError",
     "evalue": "UndefVarError: `allocation_values` not defined",
     "output_type": "error",
     "traceback": [
      "UndefVarError: `allocation_values` not defined\n"
     ]
    }
   ],
   "source": [
    "allocation_values"
   ]
  },
  {
   "cell_type": "code",
   "execution_count": 7,
   "metadata": {},
   "outputs": [
    {
     "ename": "UndefVarError",
     "evalue": "UndefVarError: `disaggregated_individuals` not defined",
     "output_type": "error",
     "traceback": [
      "UndefVarError: `disaggregated_individuals` not defined\n"
     ]
    }
   ],
   "source": [
    "disaggregated_individuals"
   ]
  },
  {
   "cell_type": "code",
   "execution_count": 8,
   "metadata": {},
   "outputs": [
    {
     "data": {
      "text/html": [
       "<div><div style = \"float: left;\"><span>82×6 DataFrame</span></div><div style = \"float: right;\"><span style = \"font-style: italic;\">57 rows omitted</span></div><div style = \"clear: both;\"></div></div><div class = \"data-frame\" style = \"overflow-x: scroll;\"><table class = \"data-frame\" style = \"margin-bottom: 6px;\"><thead><tr class = \"header\"><th class = \"rowNumber\" style = \"font-weight: bold; text-align: right;\">Row</th><th style = \"text-align: left;\">id</th><th style = \"text-align: left;\">parent1_id</th><th style = \"text-align: left;\">parent2_id</th><th style = \"text-align: left;\">child1_id</th><th style = \"text-align: left;\">child2_id</th><th style = \"text-align: left;\">child3_id</th></tr><tr class = \"subheader headerLastRow\"><th class = \"rowNumber\" style = \"font-weight: bold; text-align: right;\"></th><th title = \"Int64\" style = \"text-align: left;\">Int64</th><th title = \"Union{Missing, Int64}\" style = \"text-align: left;\">Int64?</th><th title = \"Union{Missing, Int64}\" style = \"text-align: left;\">Int64?</th><th title = \"Union{Missing, Int64}\" style = \"text-align: left;\">Int64?</th><th title = \"Union{Missing, Int64}\" style = \"text-align: left;\">Int64?</th><th title = \"Union{Missing, Int64}\" style = \"text-align: left;\">Int64?</th></tr></thead><tbody><tr><td class = \"rowNumber\" style = \"font-weight: bold; text-align: right;\">1</td><td style = \"text-align: right;\">1</td><td style = \"font-style: italic; text-align: right;\">missing</td><td style = \"font-style: italic; text-align: right;\">missing</td><td style = \"text-align: right;\">6</td><td style = \"font-style: italic; text-align: right;\">missing</td><td style = \"font-style: italic; text-align: right;\">missing</td></tr><tr><td class = \"rowNumber\" style = \"font-weight: bold; text-align: right;\">2</td><td style = \"text-align: right;\">2</td><td style = \"font-style: italic; text-align: right;\">missing</td><td style = \"font-style: italic; text-align: right;\">missing</td><td style = \"text-align: right;\">24</td><td style = \"font-style: italic; text-align: right;\">missing</td><td style = \"font-style: italic; text-align: right;\">missing</td></tr><tr><td class = \"rowNumber\" style = \"font-weight: bold; text-align: right;\">3</td><td style = \"text-align: right;\">3</td><td style = \"font-style: italic; text-align: right;\">missing</td><td style = \"font-style: italic; text-align: right;\">missing</td><td style = \"text-align: right;\">133</td><td style = \"font-style: italic; text-align: right;\">missing</td><td style = \"font-style: italic; text-align: right;\">missing</td></tr><tr><td class = \"rowNumber\" style = \"font-weight: bold; text-align: right;\">4</td><td style = \"text-align: right;\">4</td><td style = \"text-align: right;\">1</td><td style = \"font-style: italic; text-align: right;\">missing</td><td style = \"text-align: right;\">42</td><td style = \"font-style: italic; text-align: right;\">missing</td><td style = \"font-style: italic; text-align: right;\">missing</td></tr><tr><td class = \"rowNumber\" style = \"font-weight: bold; text-align: right;\">5</td><td style = \"text-align: right;\">5</td><td style = \"font-style: italic; text-align: right;\">missing</td><td style = \"font-style: italic; text-align: right;\">missing</td><td style = \"text-align: right;\">10</td><td style = \"font-style: italic; text-align: right;\">missing</td><td style = \"font-style: italic; text-align: right;\">missing</td></tr><tr><td class = \"rowNumber\" style = \"font-weight: bold; text-align: right;\">6</td><td style = \"text-align: right;\">6</td><td style = \"font-style: italic; text-align: right;\">missing</td><td style = \"font-style: italic; text-align: right;\">missing</td><td style = \"text-align: right;\">120</td><td style = \"font-style: italic; text-align: right;\">missing</td><td style = \"font-style: italic; text-align: right;\">missing</td></tr><tr><td class = \"rowNumber\" style = \"font-weight: bold; text-align: right;\">7</td><td style = \"text-align: right;\">7</td><td style = \"font-style: italic; text-align: right;\">missing</td><td style = \"font-style: italic; text-align: right;\">missing</td><td style = \"text-align: right;\">7</td><td style = \"font-style: italic; text-align: right;\">missing</td><td style = \"font-style: italic; text-align: right;\">missing</td></tr><tr><td class = \"rowNumber\" style = \"font-weight: bold; text-align: right;\">8</td><td style = \"text-align: right;\">8</td><td style = \"text-align: right;\">1</td><td style = \"font-style: italic; text-align: right;\">missing</td><td style = \"text-align: right;\">134</td><td style = \"font-style: italic; text-align: right;\">missing</td><td style = \"font-style: italic; text-align: right;\">missing</td></tr><tr><td class = \"rowNumber\" style = \"font-weight: bold; text-align: right;\">9</td><td style = \"text-align: right;\">9</td><td style = \"font-style: italic; text-align: right;\">missing</td><td style = \"font-style: italic; text-align: right;\">missing</td><td style = \"text-align: right;\">16</td><td style = \"font-style: italic; text-align: right;\">missing</td><td style = \"font-style: italic; text-align: right;\">missing</td></tr><tr><td class = \"rowNumber\" style = \"font-weight: bold; text-align: right;\">10</td><td style = \"text-align: right;\">10</td><td style = \"font-style: italic; text-align: right;\">missing</td><td style = \"font-style: italic; text-align: right;\">missing</td><td style = \"text-align: right;\">18</td><td style = \"font-style: italic; text-align: right;\">missing</td><td style = \"font-style: italic; text-align: right;\">missing</td></tr><tr><td class = \"rowNumber\" style = \"font-weight: bold; text-align: right;\">11</td><td style = \"text-align: right;\">11</td><td style = \"font-style: italic; text-align: right;\">missing</td><td style = \"font-style: italic; text-align: right;\">missing</td><td style = \"text-align: right;\">124</td><td style = \"font-style: italic; text-align: right;\">missing</td><td style = \"font-style: italic; text-align: right;\">missing</td></tr><tr><td class = \"rowNumber\" style = \"font-weight: bold; text-align: right;\">12</td><td style = \"text-align: right;\">12</td><td style = \"font-style: italic; text-align: right;\">missing</td><td style = \"font-style: italic; text-align: right;\">missing</td><td style = \"text-align: right;\">123</td><td style = \"font-style: italic; text-align: right;\">missing</td><td style = \"font-style: italic; text-align: right;\">missing</td></tr><tr><td class = \"rowNumber\" style = \"font-weight: bold; text-align: right;\">13</td><td style = \"text-align: right;\">13</td><td style = \"text-align: right;\">1</td><td style = \"font-style: italic; text-align: right;\">missing</td><td style = \"text-align: right;\">122</td><td style = \"font-style: italic; text-align: right;\">missing</td><td style = \"font-style: italic; text-align: right;\">missing</td></tr><tr><td style = \"text-align: right;\">&vellip;</td><td style = \"text-align: right;\">&vellip;</td><td style = \"text-align: right;\">&vellip;</td><td style = \"text-align: right;\">&vellip;</td><td style = \"text-align: right;\">&vellip;</td><td style = \"text-align: right;\">&vellip;</td><td style = \"text-align: right;\">&vellip;</td></tr><tr><td class = \"rowNumber\" style = \"font-weight: bold; text-align: right;\">71</td><td style = \"text-align: right;\">71</td><td style = \"font-style: italic; text-align: right;\">missing</td><td style = \"font-style: italic; text-align: right;\">missing</td><td style = \"text-align: right;\">4</td><td style = \"font-style: italic; text-align: right;\">87</td><td style = \"font-style: italic; text-align: right;\">missing</td></tr><tr><td class = \"rowNumber\" style = \"font-weight: bold; text-align: right;\">72</td><td style = \"text-align: right;\">72</td><td style = \"font-style: italic; text-align: right;\">1</td><td style = \"font-style: italic; text-align: right;\">missing</td><td style = \"text-align: right;\">74</td><td style = \"font-style: italic; text-align: right;\">136</td><td style = \"font-style: italic; text-align: right;\">missing</td></tr><tr><td class = \"rowNumber\" style = \"font-weight: bold; text-align: right;\">73</td><td style = \"text-align: right;\">73</td><td style = \"text-align: right;\">missing</td><td style = \"font-style: italic; text-align: right;\">missing</td><td style = \"text-align: right;\">1</td><td style = \"font-style: italic; text-align: right;\">11</td><td style = \"font-style: italic; text-align: right;\">missing</td></tr><tr><td class = \"rowNumber\" style = \"font-weight: bold; text-align: right;\">74</td><td style = \"text-align: right;\">74</td><td style = \"font-style: italic; text-align: right;\">missing</td><td style = \"font-style: italic; text-align: right;\">missing</td><td style = \"text-align: right;\">93</td><td style = \"font-style: italic; text-align: right;\">139</td><td style = \"font-style: italic; text-align: right;\">missing</td></tr><tr><td class = \"rowNumber\" style = \"font-weight: bold; text-align: right;\">75</td><td style = \"text-align: right;\">75</td><td style = \"font-style: italic; text-align: right;\">missing</td><td style = \"font-style: italic; text-align: right;\">missing</td><td style = \"text-align: right;\">141</td><td style = \"font-style: italic; text-align: right;\">143</td><td style = \"font-style: italic; text-align: right;\">missing</td></tr><tr><td class = \"rowNumber\" style = \"font-weight: bold; text-align: right;\">76</td><td style = \"text-align: right;\">76</td><td style = \"font-style: italic; text-align: right;\">2</td><td style = \"font-style: italic; text-align: right;\">missing</td><td style = \"text-align: right;\">140</td><td style = \"font-style: italic; text-align: right;\">142</td><td style = \"font-style: italic; text-align: right;\">missing</td></tr><tr><td class = \"rowNumber\" style = \"font-weight: bold; text-align: right;\">77</td><td style = \"text-align: right;\">77</td><td style = \"text-align: right;\">missing</td><td style = \"font-style: italic; text-align: right;\">missing</td><td style = \"text-align: right;\">71</td><td style = \"font-style: italic; text-align: right;\">145</td><td style = \"font-style: italic; text-align: right;\">missing</td></tr><tr><td class = \"rowNumber\" style = \"font-weight: bold; text-align: right;\">78</td><td style = \"text-align: right;\">78</td><td style = \"font-style: italic; text-align: right;\">3</td><td style = \"font-style: italic; text-align: right;\">missing</td><td style = \"text-align: right;\">147</td><td style = \"font-style: italic; text-align: right;\">149</td><td style = \"font-style: italic; text-align: right;\">150</td></tr><tr><td class = \"rowNumber\" style = \"font-weight: bold; text-align: right;\">79</td><td style = \"text-align: right;\">79</td><td style = \"font-style: italic; text-align: right;\">1</td><td style = \"font-style: italic; text-align: right;\">missing</td><td style = \"text-align: right;\">146</td><td style = \"font-style: italic; text-align: right;\">148</td><td style = \"font-style: italic; text-align: right;\">missing</td></tr><tr><td class = \"rowNumber\" style = \"font-weight: bold; text-align: right;\">80</td><td style = \"text-align: right;\">80</td><td style = \"font-style: italic; text-align: right;\">missing</td><td style = \"font-style: italic; text-align: right;\">missing</td><td style = \"text-align: right;\">151</td><td style = \"font-style: italic; text-align: right;\">152</td><td style = \"font-style: italic; text-align: right;\">153</td></tr><tr><td class = \"rowNumber\" style = \"font-weight: bold; text-align: right;\">81</td><td style = \"text-align: right;\">81</td><td style = \"text-align: right;\">2</td><td style = \"font-style: italic; text-align: right;\">missing</td><td style = \"text-align: right;\">23</td><td style = \"font-style: italic; text-align: right;\">154</td><td style = \"font-style: italic; text-align: right;\">155</td></tr><tr><td class = \"rowNumber\" style = \"font-weight: bold; text-align: right;\">82</td><td style = \"text-align: right;\">82</td><td style = \"font-style: italic; text-align: right;\">missing</td><td style = \"font-style: italic; text-align: right;\">missing</td><td style = \"text-align: right;\">5</td><td style = \"font-style: italic; text-align: right;\">missing</td><td style = \"font-style: italic; text-align: right;\">missing</td></tr></tbody></table></div>"
      ],
      "text/latex": [
       "\\begin{tabular}{r|cccccc}\n",
       "\t& id & parent1\\_id & parent2\\_id & child1\\_id & child2\\_id & child3\\_id\\\\\n",
       "\t\\hline\n",
       "\t& Int64 & Int64? & Int64? & Int64? & Int64? & Int64?\\\\\n",
       "\t\\hline\n",
       "\t1 & 1 & \\emph{missing} & \\emph{missing} & 6 & \\emph{missing} & \\emph{missing} \\\\\n",
       "\t2 & 2 & \\emph{missing} & \\emph{missing} & 24 & \\emph{missing} & \\emph{missing} \\\\\n",
       "\t3 & 3 & \\emph{missing} & \\emph{missing} & 133 & \\emph{missing} & \\emph{missing} \\\\\n",
       "\t4 & 4 & 1 & \\emph{missing} & 42 & \\emph{missing} & \\emph{missing} \\\\\n",
       "\t5 & 5 & \\emph{missing} & \\emph{missing} & 10 & \\emph{missing} & \\emph{missing} \\\\\n",
       "\t6 & 6 & \\emph{missing} & \\emph{missing} & 120 & \\emph{missing} & \\emph{missing} \\\\\n",
       "\t7 & 7 & \\emph{missing} & \\emph{missing} & 7 & \\emph{missing} & \\emph{missing} \\\\\n",
       "\t8 & 8 & 1 & \\emph{missing} & 134 & \\emph{missing} & \\emph{missing} \\\\\n",
       "\t9 & 9 & \\emph{missing} & \\emph{missing} & 16 & \\emph{missing} & \\emph{missing} \\\\\n",
       "\t10 & 10 & \\emph{missing} & \\emph{missing} & 18 & \\emph{missing} & \\emph{missing} \\\\\n",
       "\t11 & 11 & \\emph{missing} & \\emph{missing} & 124 & \\emph{missing} & \\emph{missing} \\\\\n",
       "\t12 & 12 & \\emph{missing} & \\emph{missing} & 123 & \\emph{missing} & \\emph{missing} \\\\\n",
       "\t13 & 13 & 1 & \\emph{missing} & 122 & \\emph{missing} & \\emph{missing} \\\\\n",
       "\t14 & 14 & \\emph{missing} & \\emph{missing} & 127 & \\emph{missing} & \\emph{missing} \\\\\n",
       "\t15 & 15 & \\emph{missing} & \\emph{missing} & 45 & \\emph{missing} & \\emph{missing} \\\\\n",
       "\t16 & 16 & 1 & \\emph{missing} & 26 & \\emph{missing} & \\emph{missing} \\\\\n",
       "\t17 & 17 & \\emph{missing} & \\emph{missing} & 27 & \\emph{missing} & \\emph{missing} \\\\\n",
       "\t18 & 18 & \\emph{missing} & \\emph{missing} & 28 & \\emph{missing} & \\emph{missing} \\\\\n",
       "\t19 & 19 & \\emph{missing} & \\emph{missing} & 29 & \\emph{missing} & \\emph{missing} \\\\\n",
       "\t20 & 20 & 1 & \\emph{missing} & 30 & \\emph{missing} & \\emph{missing} \\\\\n",
       "\t21 & 21 & \\emph{missing} & \\emph{missing} & 21 & \\emph{missing} & \\emph{missing} \\\\\n",
       "\t22 & 22 & \\emph{missing} & \\emph{missing} & 19 & \\emph{missing} & \\emph{missing} \\\\\n",
       "\t23 & 23 & \\emph{missing} & \\emph{missing} & 32 & \\emph{missing} & \\emph{missing} \\\\\n",
       "\t24 & 24 & 1 & \\emph{missing} & 34 & \\emph{missing} & \\emph{missing} \\\\\n",
       "\t$\\dots$ & $\\dots$ & $\\dots$ & $\\dots$ & $\\dots$ & $\\dots$ & $\\dots$ \\\\\n",
       "\\end{tabular}\n"
      ],
      "text/plain": [
       "\u001b[1m82×6 DataFrame\u001b[0m\n",
       "\u001b[1m Row \u001b[0m│\u001b[1m id    \u001b[0m\u001b[1m parent1_id \u001b[0m\u001b[1m parent2_id \u001b[0m\u001b[1m child1_id \u001b[0m\u001b[1m child2_id \u001b[0m\u001b[1m child3_id \u001b[0m\n",
       "     │\u001b[90m Int64 \u001b[0m\u001b[90m Int64?     \u001b[0m\u001b[90m Int64?     \u001b[0m\u001b[90m Int64?    \u001b[0m\u001b[90m Int64?    \u001b[0m\u001b[90m Int64?    \u001b[0m\n",
       "─────┼────────────────────────────────────────────────────────────────\n",
       "   1 │     1 \u001b[90m    missing \u001b[0m\u001b[90m    missing \u001b[0m         6 \u001b[90m   missing \u001b[0m\u001b[90m   missing \u001b[0m\n",
       "   2 │     2 \u001b[90m    missing \u001b[0m\u001b[90m    missing \u001b[0m        24 \u001b[90m   missing \u001b[0m\u001b[90m   missing \u001b[0m\n",
       "   3 │     3 \u001b[90m    missing \u001b[0m\u001b[90m    missing \u001b[0m       133 \u001b[90m   missing \u001b[0m\u001b[90m   missing \u001b[0m\n",
       "   4 │     4           1 \u001b[90m    missing \u001b[0m        42 \u001b[90m   missing \u001b[0m\u001b[90m   missing \u001b[0m\n",
       "   5 │     5 \u001b[90m    missing \u001b[0m\u001b[90m    missing \u001b[0m        10 \u001b[90m   missing \u001b[0m\u001b[90m   missing \u001b[0m\n",
       "   6 │     6 \u001b[90m    missing \u001b[0m\u001b[90m    missing \u001b[0m       120 \u001b[90m   missing \u001b[0m\u001b[90m   missing \u001b[0m\n",
       "   7 │     7 \u001b[90m    missing \u001b[0m\u001b[90m    missing \u001b[0m         7 \u001b[90m   missing \u001b[0m\u001b[90m   missing \u001b[0m\n",
       "   8 │     8           1 \u001b[90m    missing \u001b[0m       134 \u001b[90m   missing \u001b[0m\u001b[90m   missing \u001b[0m\n",
       "  ⋮  │   ⋮        ⋮           ⋮           ⋮          ⋮          ⋮\n",
       "  76 │    76           2 \u001b[90m    missing \u001b[0m       140        142 \u001b[90m   missing \u001b[0m\n",
       "  77 │    77 \u001b[90m    missing \u001b[0m\u001b[90m    missing \u001b[0m        71        145 \u001b[90m   missing \u001b[0m\n",
       "  78 │    78           3 \u001b[90m    missing \u001b[0m       147        149        150\n",
       "  79 │    79           1 \u001b[90m    missing \u001b[0m       146        148 \u001b[90m   missing \u001b[0m\n",
       "  80 │    80 \u001b[90m    missing \u001b[0m\u001b[90m    missing \u001b[0m       151        152        153\n",
       "  81 │    81           2 \u001b[90m    missing \u001b[0m        23        154        155\n",
       "  82 │    82 \u001b[90m    missing \u001b[0m\u001b[90m    missing \u001b[0m         5 \u001b[90m   missing \u001b[0m\u001b[90m   missing \u001b[0m\n",
       "\u001b[36m                                                       67 rows omitted\u001b[0m"
      ]
     },
     "metadata": {},
     "output_type": "display_data"
    }
   ],
   "source": [
    "disaggregated_households"
   ]
  }
 ],
 "metadata": {
  "kernelspec": {
   "display_name": "Julia 1.10.2",
   "language": "julia",
   "name": "julia-1.10"
  },
  "language_info": {
   "file_extension": ".jl",
   "mimetype": "application/julia",
   "name": "julia",
   "version": "1.10.2"
  }
 },
 "nbformat": 4,
 "nbformat_minor": 2
}
