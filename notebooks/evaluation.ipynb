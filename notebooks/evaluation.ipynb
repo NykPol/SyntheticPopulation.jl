{
 "cells": [
  {
   "cell_type": "code",
   "execution_count": 1,
   "metadata": {},
   "outputs": [],
   "source": [
    "include(\"../src/SyntheticPopulation.jl\")"
   ]
  },
  {
   "cell_type": "markdown",
   "metadata": {},
   "source": [
    "# Summary:\n",
    "1. Sample-free IPF algorithm is well suited for creating joint distributions of the attributes that are independent (94% of cells fit well).\n",
    "2. Sample-free IPF algorithm is not so efficient for creating joint distributions of the attributes that are highly dependent (20% of cells fit well).\n",
    "3. To overcome the challenge, we provide a configurable config file which helps better adjust IPF algorithm. The config is described in another file."
   ]
  },
  {
   "cell_type": "markdown",
   "metadata": {},
   "source": [
    "# 1. Population with dependent variables"
   ]
  },
  {
   "attachments": {},
   "cell_type": "markdown",
   "metadata": {},
   "source": [
    "### 1.1. Generate target population with dependent variables\n",
    "First we generate target population that we'll try to synthesize using available algorithms. The variables marital status and income are highly dependent on sex."
   ]
  },
  {
   "cell_type": "code",
   "execution_count": 3,
   "metadata": {},
   "outputs": [
    {
     "data": {
      "text/html": [
       "<div><div style = \"float: left;\"><span>640×5 DataFrame</span></div><div style = \"float: right;\"><span style = \"font-style: italic;\">615 rows omitted</span></div><div style = \"clear: both;\"></div></div><div class = \"data-frame\" style = \"overflow-x: scroll;\"><table class = \"data-frame\" style = \"margin-bottom: 6px;\"><thead><tr class = \"header\"><th class = \"rowNumber\" style = \"font-weight: bold; text-align: right;\">Row</th><th style = \"text-align: left;\">AGE</th><th style = \"text-align: left;\">MARITAL_STATUS</th><th style = \"text-align: left;\">SEX</th><th style = \"text-align: left;\">INCOME</th><th style = \"text-align: left;\">population</th></tr><tr class = \"subheader headerLastRow\"><th class = \"rowNumber\" style = \"font-weight: bold; text-align: right;\"></th><th title = \"Int64\" style = \"text-align: left;\">Int64</th><th title = \"String\" style = \"text-align: left;\">String</th><th title = \"Char\" style = \"text-align: left;\">Char</th><th title = \"Int64\" style = \"text-align: left;\">Int64</th><th title = \"Int64\" style = \"text-align: left;\">Int64</th></tr></thead><tbody><tr><td class = \"rowNumber\" style = \"font-weight: bold; text-align: right;\">1</td><td style = \"text-align: right;\">5</td><td style = \"text-align: left;\">Divorced</td><td style = \"text-align: left;\">F</td><td style = \"text-align: right;\">40000</td><td style = \"text-align: right;\">1443</td></tr><tr><td class = \"rowNumber\" style = \"font-weight: bold; text-align: right;\">2</td><td style = \"text-align: right;\">10</td><td style = \"text-align: left;\">Divorced</td><td style = \"text-align: left;\">F</td><td style = \"text-align: right;\">40000</td><td style = \"text-align: right;\">1462</td></tr><tr><td class = \"rowNumber\" style = \"font-weight: bold; text-align: right;\">3</td><td style = \"text-align: right;\">15</td><td style = \"text-align: left;\">Divorced</td><td style = \"text-align: left;\">F</td><td style = \"text-align: right;\">40000</td><td style = \"text-align: right;\">1405</td></tr><tr><td class = \"rowNumber\" style = \"font-weight: bold; text-align: right;\">4</td><td style = \"text-align: right;\">20</td><td style = \"text-align: left;\">Divorced</td><td style = \"text-align: left;\">F</td><td style = \"text-align: right;\">40000</td><td style = \"text-align: right;\">1416</td></tr><tr><td class = \"rowNumber\" style = \"font-weight: bold; text-align: right;\">5</td><td style = \"text-align: right;\">25</td><td style = \"text-align: left;\">Divorced</td><td style = \"text-align: left;\">F</td><td style = \"text-align: right;\">40000</td><td style = \"text-align: right;\">1397</td></tr><tr><td class = \"rowNumber\" style = \"font-weight: bold; text-align: right;\">6</td><td style = \"text-align: right;\">30</td><td style = \"text-align: left;\">Divorced</td><td style = \"text-align: left;\">F</td><td style = \"text-align: right;\">40000</td><td style = \"text-align: right;\">1410</td></tr><tr><td class = \"rowNumber\" style = \"font-weight: bold; text-align: right;\">7</td><td style = \"text-align: right;\">35</td><td style = \"text-align: left;\">Divorced</td><td style = \"text-align: left;\">F</td><td style = \"text-align: right;\">40000</td><td style = \"text-align: right;\">1539</td></tr><tr><td class = \"rowNumber\" style = \"font-weight: bold; text-align: right;\">8</td><td style = \"text-align: right;\">40</td><td style = \"text-align: left;\">Divorced</td><td style = \"text-align: left;\">F</td><td style = \"text-align: right;\">40000</td><td style = \"text-align: right;\">1541</td></tr><tr><td class = \"rowNumber\" style = \"font-weight: bold; text-align: right;\">9</td><td style = \"text-align: right;\">45</td><td style = \"text-align: left;\">Divorced</td><td style = \"text-align: left;\">F</td><td style = \"text-align: right;\">40000</td><td style = \"text-align: right;\">1433</td></tr><tr><td class = \"rowNumber\" style = \"font-weight: bold; text-align: right;\">10</td><td style = \"text-align: right;\">50</td><td style = \"text-align: left;\">Divorced</td><td style = \"text-align: left;\">F</td><td style = \"text-align: right;\">40000</td><td style = \"text-align: right;\">1394</td></tr><tr><td class = \"rowNumber\" style = \"font-weight: bold; text-align: right;\">11</td><td style = \"text-align: right;\">55</td><td style = \"text-align: left;\">Divorced</td><td style = \"text-align: left;\">F</td><td style = \"text-align: right;\">40000</td><td style = \"text-align: right;\">1414</td></tr><tr><td class = \"rowNumber\" style = \"font-weight: bold; text-align: right;\">12</td><td style = \"text-align: right;\">60</td><td style = \"text-align: left;\">Divorced</td><td style = \"text-align: left;\">F</td><td style = \"text-align: right;\">40000</td><td style = \"text-align: right;\">1413</td></tr><tr><td class = \"rowNumber\" style = \"font-weight: bold; text-align: right;\">13</td><td style = \"text-align: right;\">65</td><td style = \"text-align: left;\">Divorced</td><td style = \"text-align: left;\">F</td><td style = \"text-align: right;\">40000</td><td style = \"text-align: right;\">1488</td></tr><tr><td style = \"text-align: right;\">&vellip;</td><td style = \"text-align: right;\">&vellip;</td><td style = \"text-align: right;\">&vellip;</td><td style = \"text-align: right;\">&vellip;</td><td style = \"text-align: right;\">&vellip;</td><td style = \"text-align: right;\">&vellip;</td></tr><tr><td class = \"rowNumber\" style = \"font-weight: bold; text-align: right;\">629</td><td style = \"text-align: right;\">25</td><td style = \"text-align: left;\">Widowed</td><td style = \"text-align: left;\">M</td><td style = \"text-align: right;\">80000</td><td style = \"text-align: right;\">2961</td></tr><tr><td class = \"rowNumber\" style = \"font-weight: bold; text-align: right;\">630</td><td style = \"text-align: right;\">30</td><td style = \"text-align: left;\">Widowed</td><td style = \"text-align: left;\">M</td><td style = \"text-align: right;\">80000</td><td style = \"text-align: right;\">2893</td></tr><tr><td class = \"rowNumber\" style = \"font-weight: bold; text-align: right;\">631</td><td style = \"text-align: right;\">35</td><td style = \"text-align: left;\">Widowed</td><td style = \"text-align: left;\">M</td><td style = \"text-align: right;\">80000</td><td style = \"text-align: right;\">2961</td></tr><tr><td class = \"rowNumber\" style = \"font-weight: bold; text-align: right;\">632</td><td style = \"text-align: right;\">40</td><td style = \"text-align: left;\">Widowed</td><td style = \"text-align: left;\">M</td><td style = \"text-align: right;\">80000</td><td style = \"text-align: right;\">2976</td></tr><tr><td class = \"rowNumber\" style = \"font-weight: bold; text-align: right;\">633</td><td style = \"text-align: right;\">45</td><td style = \"text-align: left;\">Widowed</td><td style = \"text-align: left;\">M</td><td style = \"text-align: right;\">80000</td><td style = \"text-align: right;\">2945</td></tr><tr><td class = \"rowNumber\" style = \"font-weight: bold; text-align: right;\">634</td><td style = \"text-align: right;\">50</td><td style = \"text-align: left;\">Widowed</td><td style = \"text-align: left;\">M</td><td style = \"text-align: right;\">80000</td><td style = \"text-align: right;\">2785</td></tr><tr><td class = \"rowNumber\" style = \"font-weight: bold; text-align: right;\">635</td><td style = \"text-align: right;\">55</td><td style = \"text-align: left;\">Widowed</td><td style = \"text-align: left;\">M</td><td style = \"text-align: right;\">80000</td><td style = \"text-align: right;\">2846</td></tr><tr><td class = \"rowNumber\" style = \"font-weight: bold; text-align: right;\">636</td><td style = \"text-align: right;\">60</td><td style = \"text-align: left;\">Widowed</td><td style = \"text-align: left;\">M</td><td style = \"text-align: right;\">80000</td><td style = \"text-align: right;\">2911</td></tr><tr><td class = \"rowNumber\" style = \"font-weight: bold; text-align: right;\">637</td><td style = \"text-align: right;\">65</td><td style = \"text-align: left;\">Widowed</td><td style = \"text-align: left;\">M</td><td style = \"text-align: right;\">80000</td><td style = \"text-align: right;\">2859</td></tr><tr><td class = \"rowNumber\" style = \"font-weight: bold; text-align: right;\">638</td><td style = \"text-align: right;\">70</td><td style = \"text-align: left;\">Widowed</td><td style = \"text-align: left;\">M</td><td style = \"text-align: right;\">80000</td><td style = \"text-align: right;\">2925</td></tr><tr><td class = \"rowNumber\" style = \"font-weight: bold; text-align: right;\">639</td><td style = \"text-align: right;\">75</td><td style = \"text-align: left;\">Widowed</td><td style = \"text-align: left;\">M</td><td style = \"text-align: right;\">80000</td><td style = \"text-align: right;\">2981</td></tr><tr><td class = \"rowNumber\" style = \"font-weight: bold; text-align: right;\">640</td><td style = \"text-align: right;\">80</td><td style = \"text-align: left;\">Widowed</td><td style = \"text-align: left;\">M</td><td style = \"text-align: right;\">80000</td><td style = \"text-align: right;\">2912</td></tr></tbody></table></div>"
      ],
      "text/latex": [
       "\\begin{tabular}{r|ccccc}\n",
       "\t& AGE & MARITAL\\_STATUS & SEX & INCOME & population\\\\\n",
       "\t\\hline\n",
       "\t& Int64 & String & Char & Int64 & Int64\\\\\n",
       "\t\\hline\n",
       "\t1 & 5 & Divorced & F & 40000 & 1443 \\\\\n",
       "\t2 & 10 & Divorced & F & 40000 & 1462 \\\\\n",
       "\t3 & 15 & Divorced & F & 40000 & 1405 \\\\\n",
       "\t4 & 20 & Divorced & F & 40000 & 1416 \\\\\n",
       "\t5 & 25 & Divorced & F & 40000 & 1397 \\\\\n",
       "\t6 & 30 & Divorced & F & 40000 & 1410 \\\\\n",
       "\t7 & 35 & Divorced & F & 40000 & 1539 \\\\\n",
       "\t8 & 40 & Divorced & F & 40000 & 1541 \\\\\n",
       "\t9 & 45 & Divorced & F & 40000 & 1433 \\\\\n",
       "\t10 & 50 & Divorced & F & 40000 & 1394 \\\\\n",
       "\t11 & 55 & Divorced & F & 40000 & 1414 \\\\\n",
       "\t12 & 60 & Divorced & F & 40000 & 1413 \\\\\n",
       "\t13 & 65 & Divorced & F & 40000 & 1488 \\\\\n",
       "\t14 & 70 & Divorced & F & 40000 & 1445 \\\\\n",
       "\t15 & 75 & Divorced & F & 40000 & 1446 \\\\\n",
       "\t16 & 80 & Divorced & F & 40000 & 1445 \\\\\n",
       "\t17 & 5 & Married & F & 40000 & 2102 \\\\\n",
       "\t18 & 10 & Married & F & 40000 & 2093 \\\\\n",
       "\t19 & 15 & Married & F & 40000 & 2208 \\\\\n",
       "\t20 & 20 & Married & F & 40000 & 2177 \\\\\n",
       "\t21 & 25 & Married & F & 40000 & 2185 \\\\\n",
       "\t22 & 30 & Married & F & 40000 & 2217 \\\\\n",
       "\t23 & 35 & Married & F & 40000 & 2202 \\\\\n",
       "\t24 & 40 & Married & F & 40000 & 2255 \\\\\n",
       "\t25 & 45 & Married & F & 40000 & 2152 \\\\\n",
       "\t26 & 50 & Married & F & 40000 & 2242 \\\\\n",
       "\t27 & 55 & Married & F & 40000 & 2199 \\\\\n",
       "\t28 & 60 & Married & F & 40000 & 2179 \\\\\n",
       "\t29 & 65 & Married & F & 40000 & 2130 \\\\\n",
       "\t30 & 70 & Married & F & 40000 & 2136 \\\\\n",
       "\t$\\dots$ & $\\dots$ & $\\dots$ & $\\dots$ & $\\dots$ & $\\dots$ \\\\\n",
       "\\end{tabular}\n"
      ],
      "text/plain": [
       "\u001b[1m640×5 DataFrame\u001b[0m\n",
       "\u001b[1m Row \u001b[0m│\u001b[1m AGE   \u001b[0m\u001b[1m MARITAL_STATUS \u001b[0m\u001b[1m SEX  \u001b[0m\u001b[1m INCOME \u001b[0m\u001b[1m population \u001b[0m\n",
       "     │\u001b[90m Int64 \u001b[0m\u001b[90m String         \u001b[0m\u001b[90m Char \u001b[0m\u001b[90m Int64  \u001b[0m\u001b[90m Int64      \u001b[0m\n",
       "─────┼─────────────────────────────────────────────────\n",
       "   1 │     5  Divorced        F      40000        1443\n",
       "   2 │    10  Divorced        F      40000        1462\n",
       "   3 │    15  Divorced        F      40000        1405\n",
       "   4 │    20  Divorced        F      40000        1416\n",
       "   5 │    25  Divorced        F      40000        1397\n",
       "   6 │    30  Divorced        F      40000        1410\n",
       "   7 │    35  Divorced        F      40000        1539\n",
       "   8 │    40  Divorced        F      40000        1541\n",
       "   9 │    45  Divorced        F      40000        1433\n",
       "  10 │    50  Divorced        F      40000        1394\n",
       "  11 │    55  Divorced        F      40000        1414\n",
       "  ⋮  │   ⋮          ⋮          ⋮      ⋮         ⋮\n",
       " 631 │    35  Widowed         M      80000        2961\n",
       " 632 │    40  Widowed         M      80000        2976\n",
       " 633 │    45  Widowed         M      80000        2945\n",
       " 634 │    50  Widowed         M      80000        2785\n",
       " 635 │    55  Widowed         M      80000        2846\n",
       " 636 │    60  Widowed         M      80000        2911\n",
       " 637 │    65  Widowed         M      80000        2859\n",
       " 638 │    70  Widowed         M      80000        2925\n",
       " 639 │    75  Widowed         M      80000        2981\n",
       " 640 │    80  Widowed         M      80000        2912\n",
       "\u001b[36m                                       619 rows omitted\u001b[0m"
      ]
     },
     "execution_count": 3,
     "metadata": {},
     "output_type": "execute_result"
    }
   ],
   "source": [
    "SIZE = 600000\n",
    "SEX = ['M', 'F']; SEX_WEIGHTS = [0.5, 0.5]\n",
    "MARITAL_STATUS = [\"Not_married\", \"Married\", \"Divorced\", \"Widowed\"]; \n",
    "MARITAL_STATUS_WEIGHTS_M = [0.1, 0.2, 0.3, 0.4]; \n",
    "MARITAL_STATUS_WEIGHTS_F = [0.4, 0.3, 0.2, 0.1];\n",
    "AGE = [5, 10, 15, 20, 25, 30, 35, 40, 45, 50, 55, 60, 65, 70, 75, 80]; \n",
    "AGE_WEIGHTS = repeat([1 / 16], 16)\n",
    "INCOME = [40000, 50000, 60000, 70000, 80000]; \n",
    "INCOME_WEIGHTS_M = [0.01, 0.1, 0.2, 0.3, 0.39];\n",
    "INCOME_WEIGHTS_F = [0.39, 0.3, 0.2, 0.1, 0.01];\n",
    "\n",
    "using StatsBase\n",
    "population_m = DataFrame(\n",
    "    AGE = sample(AGE, Weights(AGE_WEIGHTS),Int(SIZE / 2)),\n",
    "    MARITAL_STATUS = sample(MARITAL_STATUS, Weights(MARITAL_STATUS_WEIGHTS_M), Int(SIZE / 2)),\n",
    "    SEX = repeat(['M'], Int(SIZE / 2)),\n",
    "    INCOME = sample(INCOME, Weights(INCOME_WEIGHTS_M), Int(SIZE / 2)),\n",
    ")\n",
    "population_f = DataFrame(\n",
    "    AGE = sample(AGE, Weights(AGE_WEIGHTS), Int(SIZE / 2)),\n",
    "    MARITAL_STATUS = sample(MARITAL_STATUS, Weights(MARITAL_STATUS_WEIGHTS_F), Int(SIZE / 2)),\n",
    "    SEX = repeat(['F'], Int(SIZE / 2)),\n",
    "    INCOME = sample(INCOME, Weights(INCOME_WEIGHTS_F), Int(SIZE / 2)),\n",
    ")\n",
    "disaggregated_dependent_population = reduce(vcat, [population_m, population_f])\n",
    "\n",
    "dependent_population = combine(groupby(disaggregated_dependent_population, names(disaggregated_dependent_population), sort=true), nrow)\n",
    "rename!(dependent_population, :nrow => :population)\n",
    "sort!(dependent_population, [:INCOME, :SEX, :MARITAL_STATUS, :AGE])"
   ]
  },
  {
   "cell_type": "markdown",
   "metadata": {},
   "source": [
    "### 1.2. Compute marginal attribute distributions of the dependent population\n",
    "Then we compute the marginal population attributes. This is a type of data that we can usually get from the census data and will be input for our algorithms for population generation."
   ]
  },
  {
   "cell_type": "code",
   "execution_count": 6,
   "metadata": {},
   "outputs": [
    {
     "data": {
      "text/plain": [
       "3-element Vector{DataFrame}:\n",
       " \u001b[1m32×3 DataFrame\u001b[0m\n",
       "\u001b[1m Row \u001b[0m│\u001b[1m AGE   \u001b[0m\u001b[1m SEX  \u001b[0m\u001b[1m population \u001b[0m\n",
       "     │\u001b[90m Int64 \u001b[0m\u001b[90m Char \u001b[0m\u001b[90m Int64      \u001b[0m\n",
       "─────┼─────────────────────────\n",
       "   1 │     5  F          18503\n",
       "   2 │    10  F          18844\n",
       "   3 │    15  F          18729\n",
       "   4 │    20  F          18751\n",
       "   5 │    25  F          18642\n",
       "   6 │    30  F          18799\n",
       "   7 │    35  F          18839\n",
       "   8 │    40  F          18834\n",
       "   9 │    45  F          18785\n",
       "  10 │    50  F          18755\n",
       "  11 │    55  F          18602\n",
       "  ⋮  │   ⋮     ⋮        ⋮\n",
       "  23 │    35  M          18976\n",
       "  24 │    40  M          18706\n",
       "  25 │    45  M          18492\n",
       "  26 │    50  M          18861\n",
       "  27 │    55  M          18457\n",
       "  28 │    60  M          18736\n",
       "  29 │    65  M          18926\n",
       "  30 │    70  M          18758\n",
       "  31 │    75  M          18840\n",
       "  32 │    80  M          18727\n",
       "\u001b[36m                11 rows omitted\u001b[0m\n",
       " \u001b[1m8×3 DataFrame\u001b[0m\n",
       "\u001b[1m Row \u001b[0m│\u001b[1m MARITAL_STATUS \u001b[0m\u001b[1m SEX  \u001b[0m\u001b[1m population \u001b[0m\n",
       "     │\u001b[90m String         \u001b[0m\u001b[90m Char \u001b[0m\u001b[90m Int64      \u001b[0m\n",
       "─────┼──────────────────────────────────\n",
       "   1 │ Divorced        F          59942\n",
       "   2 │ Married         F          90102\n",
       "   3 │ Not_married     F         120003\n",
       "   4 │ Widowed         F          29953\n",
       "   5 │ Divorced        M          89888\n",
       "   6 │ Married         M          60462\n",
       "   7 │ Not_married     M          29851\n",
       "   8 │ Widowed         M         119799\n",
       " \u001b[1m5×2 DataFrame\u001b[0m\n",
       "\u001b[1m Row \u001b[0m│\u001b[1m INCOME \u001b[0m\u001b[1m population \u001b[0m\n",
       "     │\u001b[90m Int64  \u001b[0m\u001b[90m Int64      \u001b[0m\n",
       "─────┼────────────────────\n",
       "   1 │  40000      119828\n",
       "   2 │  50000      119958\n",
       "   3 │  60000      120061\n",
       "   4 │  70000      120188\n",
       "   5 │  80000      119965"
      ]
     },
     "execution_count": 6,
     "metadata": {},
     "output_type": "execute_result"
    }
   ],
   "source": [
    "dependent_age_sex = combine(groupby(disaggregated_dependent_population, [:AGE, :SEX], sort=true), nrow); sort!(dependent_age_sex, [:SEX, :AGE])\n",
    "dependent_sex_marital = combine(groupby(disaggregated_dependent_population, [:MARITAL_STATUS, :SEX], sort=true), nrow); sort!(dependent_sex_marital, [:SEX, :MARITAL_STATUS])\n",
    "dependent_income = combine(groupby(disaggregated_dependent_population, [:INCOME], sort=true), nrow)\n",
    "dependent_age_sex, dependent_sex_marital, dependent_income = map(x -> rename!(x, :nrow => :population), [dependent_age_sex, dependent_sex_marital, dependent_income])"
   ]
  },
  {
   "attachments": {},
   "cell_type": "markdown",
   "metadata": {},
   "source": [
    "### 1.3. Generate dependent population from marginals\n",
    "Then, we use our algorithm to estimate joint distribution of the attributes. "
   ]
  },
  {
   "cell_type": "code",
   "execution_count": 7,
   "metadata": {
    "scrolled": true
   },
   "outputs": [
    {
     "name": "stderr",
     "output_type": "stream",
     "text": [
      "\u001b[36m\u001b[1m[ \u001b[22m\u001b[39m\u001b[36m\u001b[1mInfo: \u001b[22m\u001b[39mConverged in 2 iterations.\n",
      "\u001b[36m\u001b[1m[ \u001b[22m\u001b[39m\u001b[36m\u001b[1mInfo: \u001b[22m\u001b[39mConverged in 2 iterations.\n",
      "\u001b[36m\u001b[1m[ \u001b[22m\u001b[39m\u001b[36m\u001b[1mInfo: \u001b[22m\u001b[39mInconsistent target margins, converting `X` and `mar` to proportions. Margin totals: [599997, 600000]\n",
      "\u001b[36m\u001b[1m[ \u001b[22m\u001b[39m\u001b[36m\u001b[1mInfo: \u001b[22m\u001b[39mConverged in 1 iterations.\n"
     ]
    },
    {
     "data": {
      "text/html": [
       "<div><div style = \"float: left;\"><span>640×5 DataFrame</span></div><div style = \"float: right;\"><span style = \"font-style: italic;\">615 rows omitted</span></div><div style = \"clear: both;\"></div></div><div class = \"data-frame\" style = \"overflow-x: scroll;\"><table class = \"data-frame\" style = \"margin-bottom: 6px;\"><thead><tr class = \"header\"><th class = \"rowNumber\" style = \"font-weight: bold; text-align: right;\">Row</th><th style = \"text-align: left;\">AGE</th><th style = \"text-align: left;\">MARITAL_STATUS</th><th style = \"text-align: left;\">SEX</th><th style = \"text-align: left;\">INCOME</th><th style = \"text-align: left;\">population</th></tr><tr class = \"subheader headerLastRow\"><th class = \"rowNumber\" style = \"font-weight: bold; text-align: right;\"></th><th title = \"Int64\" style = \"text-align: left;\">Int64</th><th title = \"String\" style = \"text-align: left;\">String</th><th title = \"Char\" style = \"text-align: left;\">Char</th><th title = \"Int64\" style = \"text-align: left;\">Int64</th><th title = \"Int64\" style = \"text-align: left;\">Int64</th></tr></thead><tbody><tr><td class = \"rowNumber\" style = \"font-weight: bold; text-align: right;\">1</td><td style = \"text-align: right;\">5</td><td style = \"text-align: left;\">Divorced</td><td style = \"text-align: left;\">F</td><td style = \"text-align: right;\">40000</td><td style = \"text-align: right;\">738</td></tr><tr><td class = \"rowNumber\" style = \"font-weight: bold; text-align: right;\">2</td><td style = \"text-align: right;\">10</td><td style = \"text-align: left;\">Divorced</td><td style = \"text-align: left;\">F</td><td style = \"text-align: right;\">40000</td><td style = \"text-align: right;\">752</td></tr><tr><td class = \"rowNumber\" style = \"font-weight: bold; text-align: right;\">3</td><td style = \"text-align: right;\">15</td><td style = \"text-align: left;\">Divorced</td><td style = \"text-align: left;\">F</td><td style = \"text-align: right;\">40000</td><td style = \"text-align: right;\">747</td></tr><tr><td class = \"rowNumber\" style = \"font-weight: bold; text-align: right;\">4</td><td style = \"text-align: right;\">20</td><td style = \"text-align: left;\">Divorced</td><td style = \"text-align: left;\">F</td><td style = \"text-align: right;\">40000</td><td style = \"text-align: right;\">748</td></tr><tr><td class = \"rowNumber\" style = \"font-weight: bold; text-align: right;\">5</td><td style = \"text-align: right;\">25</td><td style = \"text-align: left;\">Divorced</td><td style = \"text-align: left;\">F</td><td style = \"text-align: right;\">40000</td><td style = \"text-align: right;\">744</td></tr><tr><td class = \"rowNumber\" style = \"font-weight: bold; text-align: right;\">6</td><td style = \"text-align: right;\">30</td><td style = \"text-align: left;\">Divorced</td><td style = \"text-align: left;\">F</td><td style = \"text-align: right;\">40000</td><td style = \"text-align: right;\">750</td></tr><tr><td class = \"rowNumber\" style = \"font-weight: bold; text-align: right;\">7</td><td style = \"text-align: right;\">35</td><td style = \"text-align: left;\">Divorced</td><td style = \"text-align: left;\">F</td><td style = \"text-align: right;\">40000</td><td style = \"text-align: right;\">752</td></tr><tr><td class = \"rowNumber\" style = \"font-weight: bold; text-align: right;\">8</td><td style = \"text-align: right;\">40</td><td style = \"text-align: left;\">Divorced</td><td style = \"text-align: left;\">F</td><td style = \"text-align: right;\">40000</td><td style = \"text-align: right;\">752</td></tr><tr><td class = \"rowNumber\" style = \"font-weight: bold; text-align: right;\">9</td><td style = \"text-align: right;\">45</td><td style = \"text-align: left;\">Divorced</td><td style = \"text-align: left;\">F</td><td style = \"text-align: right;\">40000</td><td style = \"text-align: right;\">750</td></tr><tr><td class = \"rowNumber\" style = \"font-weight: bold; text-align: right;\">10</td><td style = \"text-align: right;\">50</td><td style = \"text-align: left;\">Divorced</td><td style = \"text-align: left;\">F</td><td style = \"text-align: right;\">40000</td><td style = \"text-align: right;\">748</td></tr><tr><td class = \"rowNumber\" style = \"font-weight: bold; text-align: right;\">11</td><td style = \"text-align: right;\">55</td><td style = \"text-align: left;\">Divorced</td><td style = \"text-align: left;\">F</td><td style = \"text-align: right;\">40000</td><td style = \"text-align: right;\">742</td></tr><tr><td class = \"rowNumber\" style = \"font-weight: bold; text-align: right;\">12</td><td style = \"text-align: right;\">60</td><td style = \"text-align: left;\">Divorced</td><td style = \"text-align: left;\">F</td><td style = \"text-align: right;\">40000</td><td style = \"text-align: right;\">748</td></tr><tr><td class = \"rowNumber\" style = \"font-weight: bold; text-align: right;\">13</td><td style = \"text-align: right;\">65</td><td style = \"text-align: left;\">Divorced</td><td style = \"text-align: left;\">F</td><td style = \"text-align: right;\">40000</td><td style = \"text-align: right;\">748</td></tr><tr><td style = \"text-align: right;\">&vellip;</td><td style = \"text-align: right;\">&vellip;</td><td style = \"text-align: right;\">&vellip;</td><td style = \"text-align: right;\">&vellip;</td><td style = \"text-align: right;\">&vellip;</td><td style = \"text-align: right;\">&vellip;</td></tr><tr><td class = \"rowNumber\" style = \"font-weight: bold; text-align: right;\">629</td><td style = \"text-align: right;\">25</td><td style = \"text-align: left;\">Widowed</td><td style = \"text-align: left;\">M</td><td style = \"text-align: right;\">80000</td><td style = \"text-align: right;\">1498</td></tr><tr><td class = \"rowNumber\" style = \"font-weight: bold; text-align: right;\">630</td><td style = \"text-align: right;\">30</td><td style = \"text-align: left;\">Widowed</td><td style = \"text-align: left;\">M</td><td style = \"text-align: right;\">80000</td><td style = \"text-align: right;\">1499</td></tr><tr><td class = \"rowNumber\" style = \"font-weight: bold; text-align: right;\">631</td><td style = \"text-align: right;\">35</td><td style = \"text-align: left;\">Widowed</td><td style = \"text-align: left;\">M</td><td style = \"text-align: right;\">80000</td><td style = \"text-align: right;\">1515</td></tr><tr><td class = \"rowNumber\" style = \"font-weight: bold; text-align: right;\">632</td><td style = \"text-align: right;\">40</td><td style = \"text-align: left;\">Widowed</td><td style = \"text-align: left;\">M</td><td style = \"text-align: right;\">80000</td><td style = \"text-align: right;\">1494</td></tr><tr><td class = \"rowNumber\" style = \"font-weight: bold; text-align: right;\">633</td><td style = \"text-align: right;\">45</td><td style = \"text-align: left;\">Widowed</td><td style = \"text-align: left;\">M</td><td style = \"text-align: right;\">80000</td><td style = \"text-align: right;\">1476</td></tr><tr><td class = \"rowNumber\" style = \"font-weight: bold; text-align: right;\">634</td><td style = \"text-align: right;\">50</td><td style = \"text-align: left;\">Widowed</td><td style = \"text-align: left;\">M</td><td style = \"text-align: right;\">80000</td><td style = \"text-align: right;\">1506</td></tr><tr><td class = \"rowNumber\" style = \"font-weight: bold; text-align: right;\">635</td><td style = \"text-align: right;\">55</td><td style = \"text-align: left;\">Widowed</td><td style = \"text-align: left;\">M</td><td style = \"text-align: right;\">80000</td><td style = \"text-align: right;\">1474</td></tr><tr><td class = \"rowNumber\" style = \"font-weight: bold; text-align: right;\">636</td><td style = \"text-align: right;\">60</td><td style = \"text-align: left;\">Widowed</td><td style = \"text-align: left;\">M</td><td style = \"text-align: right;\">80000</td><td style = \"text-align: right;\">1496</td></tr><tr><td class = \"rowNumber\" style = \"font-weight: bold; text-align: right;\">637</td><td style = \"text-align: right;\">65</td><td style = \"text-align: left;\">Widowed</td><td style = \"text-align: left;\">M</td><td style = \"text-align: right;\">80000</td><td style = \"text-align: right;\">1511</td></tr><tr><td class = \"rowNumber\" style = \"font-weight: bold; text-align: right;\">638</td><td style = \"text-align: right;\">70</td><td style = \"text-align: left;\">Widowed</td><td style = \"text-align: left;\">M</td><td style = \"text-align: right;\">80000</td><td style = \"text-align: right;\">1498</td></tr><tr><td class = \"rowNumber\" style = \"font-weight: bold; text-align: right;\">639</td><td style = \"text-align: right;\">75</td><td style = \"text-align: left;\">Widowed</td><td style = \"text-align: left;\">M</td><td style = \"text-align: right;\">80000</td><td style = \"text-align: right;\">1504</td></tr><tr><td class = \"rowNumber\" style = \"font-weight: bold; text-align: right;\">640</td><td style = \"text-align: right;\">80</td><td style = \"text-align: left;\">Widowed</td><td style = \"text-align: left;\">M</td><td style = \"text-align: right;\">80000</td><td style = \"text-align: right;\">1495</td></tr></tbody></table></div>"
      ],
      "text/latex": [
       "\\begin{tabular}{r|ccccc}\n",
       "\t& AGE & MARITAL\\_STATUS & SEX & INCOME & population\\\\\n",
       "\t\\hline\n",
       "\t& Int64 & String & Char & Int64 & Int64\\\\\n",
       "\t\\hline\n",
       "\t1 & 5 & Divorced & F & 40000 & 738 \\\\\n",
       "\t2 & 10 & Divorced & F & 40000 & 752 \\\\\n",
       "\t3 & 15 & Divorced & F & 40000 & 747 \\\\\n",
       "\t4 & 20 & Divorced & F & 40000 & 748 \\\\\n",
       "\t5 & 25 & Divorced & F & 40000 & 744 \\\\\n",
       "\t6 & 30 & Divorced & F & 40000 & 750 \\\\\n",
       "\t7 & 35 & Divorced & F & 40000 & 752 \\\\\n",
       "\t8 & 40 & Divorced & F & 40000 & 752 \\\\\n",
       "\t9 & 45 & Divorced & F & 40000 & 750 \\\\\n",
       "\t10 & 50 & Divorced & F & 40000 & 748 \\\\\n",
       "\t11 & 55 & Divorced & F & 40000 & 742 \\\\\n",
       "\t12 & 60 & Divorced & F & 40000 & 748 \\\\\n",
       "\t13 & 65 & Divorced & F & 40000 & 748 \\\\\n",
       "\t14 & 70 & Divorced & F & 40000 & 747 \\\\\n",
       "\t15 & 75 & Divorced & F & 40000 & 752 \\\\\n",
       "\t16 & 80 & Divorced & F & 40000 & 752 \\\\\n",
       "\t17 & 5 & Married & F & 40000 & 1110 \\\\\n",
       "\t18 & 10 & Married & F & 40000 & 1130 \\\\\n",
       "\t19 & 15 & Married & F & 40000 & 1123 \\\\\n",
       "\t20 & 20 & Married & F & 40000 & 1125 \\\\\n",
       "\t21 & 25 & Married & F & 40000 & 1118 \\\\\n",
       "\t22 & 30 & Married & F & 40000 & 1128 \\\\\n",
       "\t23 & 35 & Married & F & 40000 & 1130 \\\\\n",
       "\t24 & 40 & Married & F & 40000 & 1130 \\\\\n",
       "\t25 & 45 & Married & F & 40000 & 1127 \\\\\n",
       "\t26 & 50 & Married & F & 40000 & 1125 \\\\\n",
       "\t27 & 55 & Married & F & 40000 & 1116 \\\\\n",
       "\t28 & 60 & Married & F & 40000 & 1125 \\\\\n",
       "\t29 & 65 & Married & F & 40000 & 1125 \\\\\n",
       "\t30 & 70 & Married & F & 40000 & 1123 \\\\\n",
       "\t$\\dots$ & $\\dots$ & $\\dots$ & $\\dots$ & $\\dots$ & $\\dots$ \\\\\n",
       "\\end{tabular}\n"
      ],
      "text/plain": [
       "\u001b[1m640×5 DataFrame\u001b[0m\n",
       "\u001b[1m Row \u001b[0m│\u001b[1m AGE   \u001b[0m\u001b[1m MARITAL_STATUS \u001b[0m\u001b[1m SEX  \u001b[0m\u001b[1m INCOME \u001b[0m\u001b[1m population \u001b[0m\n",
       "     │\u001b[90m Int64 \u001b[0m\u001b[90m String         \u001b[0m\u001b[90m Char \u001b[0m\u001b[90m Int64  \u001b[0m\u001b[90m Int64      \u001b[0m\n",
       "─────┼─────────────────────────────────────────────────\n",
       "   1 │     5  Divorced        F      40000         738\n",
       "   2 │    10  Divorced        F      40000         752\n",
       "   3 │    15  Divorced        F      40000         747\n",
       "   4 │    20  Divorced        F      40000         748\n",
       "   5 │    25  Divorced        F      40000         744\n",
       "   6 │    30  Divorced        F      40000         750\n",
       "   7 │    35  Divorced        F      40000         752\n",
       "   8 │    40  Divorced        F      40000         752\n",
       "   9 │    45  Divorced        F      40000         750\n",
       "  10 │    50  Divorced        F      40000         748\n",
       "  11 │    55  Divorced        F      40000         742\n",
       "  ⋮  │   ⋮          ⋮          ⋮      ⋮         ⋮\n",
       " 631 │    35  Widowed         M      80000        1515\n",
       " 632 │    40  Widowed         M      80000        1494\n",
       " 633 │    45  Widowed         M      80000        1476\n",
       " 634 │    50  Widowed         M      80000        1506\n",
       " 635 │    55  Widowed         M      80000        1474\n",
       " 636 │    60  Widowed         M      80000        1496\n",
       " 637 │    65  Widowed         M      80000        1511\n",
       " 638 │    70  Widowed         M      80000        1498\n",
       " 639 │    75  Widowed         M      80000        1504\n",
       " 640 │    80  Widowed         M      80000        1495\n",
       "\u001b[36m                                       619 rows omitted\u001b[0m"
      ]
     },
     "execution_count": 7,
     "metadata": {},
     "output_type": "execute_result"
    }
   ],
   "source": [
    "#dependent population\n",
    "generated_dependent_aggregated_population = generate_joint_distribution(dependent_age_sex, dependent_sex_marital, dependent_income)\n",
    "generated_dependent_aggregated_population = generated_dependent_aggregated_population[:, Not(:id)]"
   ]
  },
  {
   "attachments": {},
   "cell_type": "markdown",
   "metadata": {},
   "source": [
    "### 1.4. Evaluation of fit of generated dependent population.\n",
    "Finally, we evaluate if the generated population is correct. We use approach based on Z-score described by [Williamson, 2013] [1].\n",
    "\n",
    "\n",
    "[1] Williamson, P. (2013). An evaluation of two synthetic small-area microdata simulation methodologies: Synthetic reconstruction and combinatorial optimisation. Spatial microsimulation: A reference guide for users, 19-47. https://ndl.ethernet.edu.et/bitstream/123456789/14722/1/205.pdf#page=38"
   ]
  },
  {
   "cell_type": "code",
   "execution_count": 8,
   "metadata": {},
   "outputs": [
    {
     "data": {
      "text/html": [
       "<div><div style = \"float: left;\"><span>640×7 DataFrame</span></div><div style = \"float: right;\"><span style = \"font-style: italic;\">615 rows omitted</span></div><div style = \"clear: both;\"></div></div><div class = \"data-frame\" style = \"overflow-x: scroll;\"><table class = \"data-frame\" style = \"margin-bottom: 6px;\"><thead><tr class = \"header\"><th class = \"rowNumber\" style = \"font-weight: bold; text-align: right;\">Row</th><th style = \"text-align: left;\">AGE</th><th style = \"text-align: left;\">MARITAL_STATUS</th><th style = \"text-align: left;\">SEX</th><th style = \"text-align: left;\">INCOME</th><th style = \"text-align: left;\">population</th><th style = \"text-align: left;\">estimated_population</th><th style = \"text-align: left;\">Z_score</th></tr><tr class = \"subheader headerLastRow\"><th class = \"rowNumber\" style = \"font-weight: bold; text-align: right;\"></th><th title = \"Int64\" style = \"text-align: left;\">Int64</th><th title = \"String\" style = \"text-align: left;\">String</th><th title = \"Char\" style = \"text-align: left;\">Char</th><th title = \"Int64\" style = \"text-align: left;\">Int64</th><th title = \"Int64\" style = \"text-align: left;\">Int64</th><th title = \"Int64\" style = \"text-align: left;\">Int64</th><th title = \"Float64\" style = \"text-align: left;\">Float64</th></tr></thead><tbody><tr><td class = \"rowNumber\" style = \"font-weight: bold; text-align: right;\">1</td><td style = \"text-align: right;\">5</td><td style = \"text-align: left;\">Divorced</td><td style = \"text-align: left;\">F</td><td style = \"text-align: right;\">40000</td><td style = \"text-align: right;\">1443</td><td style = \"text-align: right;\">738</td><td style = \"text-align: right;\">18.5814</td></tr><tr><td class = \"rowNumber\" style = \"font-weight: bold; text-align: right;\">2</td><td style = \"text-align: right;\">5</td><td style = \"text-align: left;\">Divorced</td><td style = \"text-align: left;\">F</td><td style = \"text-align: right;\">50000</td><td style = \"text-align: right;\">1088</td><td style = \"text-align: right;\">739</td><td style = \"text-align: right;\">10.5902</td></tr><tr><td class = \"rowNumber\" style = \"font-weight: bold; text-align: right;\">3</td><td style = \"text-align: right;\">5</td><td style = \"text-align: left;\">Divorced</td><td style = \"text-align: left;\">F</td><td style = \"text-align: right;\">60000</td><td style = \"text-align: right;\">744</td><td style = \"text-align: right;\">740</td><td style = \"text-align: right;\">0.146738</td></tr><tr><td class = \"rowNumber\" style = \"font-weight: bold; text-align: right;\">4</td><td style = \"text-align: right;\">5</td><td style = \"text-align: left;\">Divorced</td><td style = \"text-align: left;\">F</td><td style = \"text-align: right;\">70000</td><td style = \"text-align: right;\">373</td><td style = \"text-align: right;\">741</td><td style = \"text-align: right;\">-19.0602</td></tr><tr><td class = \"rowNumber\" style = \"font-weight: bold; text-align: right;\">5</td><td style = \"text-align: right;\">5</td><td style = \"text-align: left;\">Divorced</td><td style = \"text-align: left;\">F</td><td style = \"text-align: right;\">80000</td><td style = \"text-align: right;\">27</td><td style = \"text-align: right;\">739</td><td style = \"text-align: right;\">-137.028</td></tr><tr><td class = \"rowNumber\" style = \"font-weight: bold; text-align: right;\">6</td><td style = \"text-align: right;\">5</td><td style = \"text-align: left;\">Divorced</td><td style = \"text-align: left;\">M</td><td style = \"text-align: right;\">40000</td><td style = \"text-align: right;\">47</td><td style = \"text-align: right;\">1114</td><td style = \"text-align: right;\">-155.644</td></tr><tr><td class = \"rowNumber\" style = \"font-weight: bold; text-align: right;\">7</td><td style = \"text-align: right;\">5</td><td style = \"text-align: left;\">Divorced</td><td style = \"text-align: left;\">M</td><td style = \"text-align: right;\">50000</td><td style = \"text-align: right;\">572</td><td style = \"text-align: right;\">1116</td><td style = \"text-align: right;\">-22.7566</td></tr><tr><td class = \"rowNumber\" style = \"font-weight: bold; text-align: right;\">8</td><td style = \"text-align: right;\">5</td><td style = \"text-align: left;\">Divorced</td><td style = \"text-align: left;\">M</td><td style = \"text-align: right;\">60000</td><td style = \"text-align: right;\">1111</td><td style = \"text-align: right;\">1117</td><td style = \"text-align: right;\">-0.180176</td></tr><tr><td class = \"rowNumber\" style = \"font-weight: bold; text-align: right;\">9</td><td style = \"text-align: right;\">5</td><td style = \"text-align: left;\">Divorced</td><td style = \"text-align: left;\">M</td><td style = \"text-align: right;\">70000</td><td style = \"text-align: right;\">1687</td><td style = \"text-align: right;\">1118</td><td style = \"text-align: right;\">13.8729</td></tr><tr><td class = \"rowNumber\" style = \"font-weight: bold; text-align: right;\">10</td><td style = \"text-align: right;\">5</td><td style = \"text-align: left;\">Divorced</td><td style = \"text-align: left;\">M</td><td style = \"text-align: right;\">80000</td><td style = \"text-align: right;\">2167</td><td style = \"text-align: right;\">1116</td><td style = \"text-align: right;\">22.6182</td></tr><tr><td class = \"rowNumber\" style = \"font-weight: bold; text-align: right;\">11</td><td style = \"text-align: right;\">5</td><td style = \"text-align: left;\">Married</td><td style = \"text-align: left;\">F</td><td style = \"text-align: right;\">40000</td><td style = \"text-align: right;\">2102</td><td style = \"text-align: right;\">1110</td><td style = \"text-align: right;\">21.6749</td></tr><tr><td class = \"rowNumber\" style = \"font-weight: bold; text-align: right;\">12</td><td style = \"text-align: right;\">5</td><td style = \"text-align: left;\">Married</td><td style = \"text-align: left;\">F</td><td style = \"text-align: right;\">50000</td><td style = \"text-align: right;\">1640</td><td style = \"text-align: right;\">1111</td><td style = \"text-align: right;\">13.0806</td></tr><tr><td class = \"rowNumber\" style = \"font-weight: bold; text-align: right;\">13</td><td style = \"text-align: right;\">5</td><td style = \"text-align: left;\">Married</td><td style = \"text-align: left;\">F</td><td style = \"text-align: right;\">60000</td><td style = \"text-align: right;\">1137</td><td style = \"text-align: right;\">1112</td><td style = \"text-align: right;\">0.742116</td></tr><tr><td style = \"text-align: right;\">&vellip;</td><td style = \"text-align: right;\">&vellip;</td><td style = \"text-align: right;\">&vellip;</td><td style = \"text-align: right;\">&vellip;</td><td style = \"text-align: right;\">&vellip;</td><td style = \"text-align: right;\">&vellip;</td><td style = \"text-align: right;\">&vellip;</td><td style = \"text-align: right;\">&vellip;</td></tr><tr><td class = \"rowNumber\" style = \"font-weight: bold; text-align: right;\">629</td><td style = \"text-align: right;\">80</td><td style = \"text-align: left;\">Not_married</td><td style = \"text-align: left;\">M</td><td style = \"text-align: right;\">70000</td><td style = \"text-align: right;\">602</td><td style = \"text-align: right;\">373</td><td style = \"text-align: right;\">9.33803</td></tr><tr><td class = \"rowNumber\" style = \"font-weight: bold; text-align: right;\">630</td><td style = \"text-align: right;\">80</td><td style = \"text-align: left;\">Not_married</td><td style = \"text-align: left;\">M</td><td style = \"text-align: right;\">80000</td><td style = \"text-align: right;\">679</td><td style = \"text-align: right;\">372</td><td style = \"text-align: right;\">11.7883</td></tr><tr><td class = \"rowNumber\" style = \"font-weight: bold; text-align: right;\">631</td><td style = \"text-align: right;\">80</td><td style = \"text-align: left;\">Widowed</td><td style = \"text-align: left;\">F</td><td style = \"text-align: right;\">40000</td><td style = \"text-align: right;\">730</td><td style = \"text-align: right;\">376</td><td style = \"text-align: right;\">13.1101</td></tr><tr><td class = \"rowNumber\" style = \"font-weight: bold; text-align: right;\">632</td><td style = \"text-align: right;\">80</td><td style = \"text-align: left;\">Widowed</td><td style = \"text-align: left;\">F</td><td style = \"text-align: right;\">50000</td><td style = \"text-align: right;\">548</td><td style = \"text-align: right;\">376</td><td style = \"text-align: right;\">7.35083</td></tr><tr><td class = \"rowNumber\" style = \"font-weight: bold; text-align: right;\">633</td><td style = \"text-align: right;\">80</td><td style = \"text-align: left;\">Widowed</td><td style = \"text-align: left;\">F</td><td style = \"text-align: right;\">60000</td><td style = \"text-align: right;\">357</td><td style = \"text-align: right;\">377</td><td style = \"text-align: right;\">-1.05883</td></tr><tr><td class = \"rowNumber\" style = \"font-weight: bold; text-align: right;\">634</td><td style = \"text-align: right;\">80</td><td style = \"text-align: left;\">Widowed</td><td style = \"text-align: left;\">F</td><td style = \"text-align: right;\">70000</td><td style = \"text-align: right;\">195</td><td style = \"text-align: right;\">377</td><td style = \"text-align: right;\">-13.0354</td></tr><tr><td class = \"rowNumber\" style = \"font-weight: bold; text-align: right;\">635</td><td style = \"text-align: right;\">80</td><td style = \"text-align: left;\">Widowed</td><td style = \"text-align: left;\">F</td><td style = \"text-align: right;\">80000</td><td style = \"text-align: right;\">19</td><td style = \"text-align: right;\">376</td><td style = \"text-align: right;\">-81.9027</td></tr><tr><td class = \"rowNumber\" style = \"font-weight: bold; text-align: right;\">636</td><td style = \"text-align: right;\">80</td><td style = \"text-align: left;\">Widowed</td><td style = \"text-align: left;\">M</td><td style = \"text-align: right;\">40000</td><td style = \"text-align: right;\">59</td><td style = \"text-align: right;\">1493</td><td style = \"text-align: right;\">-186.7</td></tr><tr><td class = \"rowNumber\" style = \"font-weight: bold; text-align: right;\">637</td><td style = \"text-align: right;\">80</td><td style = \"text-align: left;\">Widowed</td><td style = \"text-align: left;\">M</td><td style = \"text-align: right;\">50000</td><td style = \"text-align: right;\">728</td><td style = \"text-align: right;\">1495</td><td style = \"text-align: right;\">-28.4442</td></tr><tr><td class = \"rowNumber\" style = \"font-weight: bold; text-align: right;\">638</td><td style = \"text-align: right;\">80</td><td style = \"text-align: left;\">Widowed</td><td style = \"text-align: left;\">M</td><td style = \"text-align: right;\">60000</td><td style = \"text-align: right;\">1486</td><td style = \"text-align: right;\">1496</td><td style = \"text-align: right;\">-0.259734</td></tr><tr><td class = \"rowNumber\" style = \"font-weight: bold; text-align: right;\">639</td><td style = \"text-align: right;\">80</td><td style = \"text-align: left;\">Widowed</td><td style = \"text-align: left;\">M</td><td style = \"text-align: right;\">70000</td><td style = \"text-align: right;\">2195</td><td style = \"text-align: right;\">1498</td><td style = \"text-align: right;\">14.9043</td></tr><tr><td class = \"rowNumber\" style = \"font-weight: bold; text-align: right;\">640</td><td style = \"text-align: right;\">80</td><td style = \"text-align: left;\">Widowed</td><td style = \"text-align: left;\">M</td><td style = \"text-align: right;\">80000</td><td style = \"text-align: right;\">2912</td><td style = \"text-align: right;\">1495</td><td style = \"text-align: right;\">26.3227</td></tr></tbody></table></div>"
      ],
      "text/latex": [
       "\\begin{tabular}{r|ccccccc}\n",
       "\t& AGE & MARITAL\\_STATUS & SEX & INCOME & population & estimated\\_population & Z\\_score\\\\\n",
       "\t\\hline\n",
       "\t& Int64 & String & Char & Int64 & Int64 & Int64 & Float64\\\\\n",
       "\t\\hline\n",
       "\t1 & 5 & Divorced & F & 40000 & 1443 & 738 & 18.5814 \\\\\n",
       "\t2 & 5 & Divorced & F & 50000 & 1088 & 739 & 10.5902 \\\\\n",
       "\t3 & 5 & Divorced & F & 60000 & 744 & 740 & 0.146738 \\\\\n",
       "\t4 & 5 & Divorced & F & 70000 & 373 & 741 & -19.0602 \\\\\n",
       "\t5 & 5 & Divorced & F & 80000 & 27 & 739 & -137.028 \\\\\n",
       "\t6 & 5 & Divorced & M & 40000 & 47 & 1114 & -155.644 \\\\\n",
       "\t7 & 5 & Divorced & M & 50000 & 572 & 1116 & -22.7566 \\\\\n",
       "\t8 & 5 & Divorced & M & 60000 & 1111 & 1117 & -0.180176 \\\\\n",
       "\t9 & 5 & Divorced & M & 70000 & 1687 & 1118 & 13.8729 \\\\\n",
       "\t10 & 5 & Divorced & M & 80000 & 2167 & 1116 & 22.6182 \\\\\n",
       "\t11 & 5 & Married & F & 40000 & 2102 & 1110 & 21.6749 \\\\\n",
       "\t12 & 5 & Married & F & 50000 & 1640 & 1111 & 13.0806 \\\\\n",
       "\t13 & 5 & Married & F & 60000 & 1137 & 1112 & 0.742116 \\\\\n",
       "\t14 & 5 & Married & F & 70000 & 572 & 1113 & -22.6311 \\\\\n",
       "\t15 & 5 & Married & F & 80000 & 54 & 1111 & -143.846 \\\\\n",
       "\t16 & 5 & Married & M & 40000 & 39 & 750 & -113.855 \\\\\n",
       "\t17 & 5 & Married & M & 50000 & 374 & 750 & -19.4486 \\\\\n",
       "\t18 & 5 & Married & M & 60000 & 724 & 751 & -1.00405 \\\\\n",
       "\t19 & 5 & Married & M & 70000 & 1159 & 752 & 11.9666 \\\\\n",
       "\t20 & 5 & Married & M & 80000 & 1424 & 750 & 17.8822 \\\\\n",
       "\t21 & 5 & Not\\_married & F & 40000 & 2997 & 1478 & 27.8165 \\\\\n",
       "\t22 & 5 & Not\\_married & F & 50000 & 2169 & 1480 & 14.8209 \\\\\n",
       "\t23 & 5 & Not\\_married & F & 60000 & 1516 & 1481 & 0.900052 \\\\\n",
       "\t24 & 5 & Not\\_married & F & 70000 & 724 & 1483 & -28.225 \\\\\n",
       "\t25 & 5 & Not\\_married & F & 80000 & 65 & 1480 & -175.519 \\\\\n",
       "\t26 & 5 & Not\\_married & M & 40000 & 13 & 370 & -99.0151 \\\\\n",
       "\t27 & 5 & Not\\_married & M & 50000 & 181 & 370 & -14.0504 \\\\\n",
       "\t28 & 5 & Not\\_married & M & 60000 & 393 & 371 & 1.11012 \\\\\n",
       "\t29 & 5 & Not\\_married & M & 70000 & 523 & 371 & 6.64939 \\\\\n",
       "\t30 & 5 & Not\\_married & M & 80000 & 709 & 370 & 12.7389 \\\\\n",
       "\t$\\dots$ & $\\dots$ & $\\dots$ & $\\dots$ & $\\dots$ & $\\dots$ & $\\dots$ & $\\dots$ \\\\\n",
       "\\end{tabular}\n"
      ],
      "text/plain": [
       "\u001b[1m640×7 DataFrame\u001b[0m\n",
       "\u001b[1m Row \u001b[0m│\u001b[1m AGE   \u001b[0m\u001b[1m MARITAL_STATUS \u001b[0m\u001b[1m SEX  \u001b[0m\u001b[1m INCOME \u001b[0m\u001b[1m population \u001b[0m\u001b[1m estimated_population \u001b[0m\u001b[1m \u001b[0m ⋯\n",
       "     │\u001b[90m Int64 \u001b[0m\u001b[90m String         \u001b[0m\u001b[90m Char \u001b[0m\u001b[90m Int64  \u001b[0m\u001b[90m Int64      \u001b[0m\u001b[90m Int64                \u001b[0m\u001b[90m \u001b[0m ⋯\n",
       "─────┼──────────────────────────────────────────────────────────────────────────\n",
       "   1 │     5  Divorced        F      40000        1443                   738   ⋯\n",
       "   2 │     5  Divorced        F      50000        1088                   739\n",
       "   3 │     5  Divorced        F      60000         744                   740\n",
       "   4 │     5  Divorced        F      70000         373                   741\n",
       "   5 │     5  Divorced        F      80000          27                   739   ⋯\n",
       "   6 │     5  Divorced        M      40000          47                  1114\n",
       "   7 │     5  Divorced        M      50000         572                  1116\n",
       "   8 │     5  Divorced        M      60000        1111                  1117\n",
       "   9 │     5  Divorced        M      70000        1687                  1118   ⋯\n",
       "  10 │     5  Divorced        M      80000        2167                  1116\n",
       "  11 │     5  Married         F      40000        2102                  1110\n",
       "  ⋮  │   ⋮          ⋮          ⋮      ⋮         ⋮                ⋮             ⋱\n",
       " 631 │    80  Widowed         F      40000         730                   376\n",
       " 632 │    80  Widowed         F      50000         548                   376   ⋯\n",
       " 633 │    80  Widowed         F      60000         357                   377\n",
       " 634 │    80  Widowed         F      70000         195                   377\n",
       " 635 │    80  Widowed         F      80000          19                   376\n",
       " 636 │    80  Widowed         M      40000          59                  1493   ⋯\n",
       " 637 │    80  Widowed         M      50000         728                  1495\n",
       " 638 │    80  Widowed         M      60000        1486                  1496\n",
       " 639 │    80  Widowed         M      70000        2195                  1498\n",
       " 640 │    80  Widowed         M      80000        2912                  1495   ⋯\n",
       "\u001b[36m                                                   1 column and 619 rows omitted\u001b[0m"
      ]
     },
     "execution_count": 8,
     "metadata": {},
     "output_type": "execute_result"
    }
   ],
   "source": [
    "sort!(generated_dependent_aggregated_population)\n",
    "sort!(dependent_population)\n",
    "dependent_population.:estimated_population = generated_dependent_aggregated_population.:population\n",
    "\n",
    "p = dependent_population.:population/sum(dependent_population.:population)\n",
    "t = dependent_population.:estimated_population/sum(dependent_population.:population)\n",
    "N = sum(dependent_population.:population)\n",
    "dependent_population.:Z_score = (p .- t) ./ sqrt.((p .* (1 .- p)) ./ N)\n",
    "dependent_population"
   ]
  },
  {
   "cell_type": "code",
   "execution_count": 10,
   "metadata": {
    "scrolled": true
   },
   "outputs": [
    {
     "name": "stdout",
     "output_type": "stream",
     "text": [
      "Percentage of well fitting values: 0.1890625\n",
      "Table does not have good fit. Critical value is 640 and our calculated statistic has value: 2.382529822692407e6"
     ]
    }
   ],
   "source": [
    "#percentage of well-fitting values\n",
    "wfv = count(i -> (-1.96<i<1.96), dependent_population.Z_score) / nrow(dependent_population)\n",
    "print(\"Percentage of well fitting values: \", wfv, \"\\n\")\n",
    "\n",
    "#does the table have a good fit?\n",
    "cv = sum(dependent_population.Z_score .^ 2) #much more than critical value for chi2 with 640 degrees of freedem -> bad fit\n",
    "print(\"Table does not have good fit. Critical value is 640 and our calculated statistic has value: \", cv)"
   ]
  },
  {
   "cell_type": "markdown",
   "metadata": {},
   "source": [
    "# 2. Population with independent variables"
   ]
  },
  {
   "attachments": {},
   "cell_type": "markdown",
   "metadata": {},
   "source": [
    "### 2.1. Generate target population with independent variables\n",
    "First we generate target population that we'll try to synthesize using available algorithms. All variables are independent."
   ]
  },
  {
   "cell_type": "code",
   "execution_count": 13,
   "metadata": {
    "scrolled": false
   },
   "outputs": [
    {
     "data": {
      "text/html": [
       "<div><div style = \"float: left;\"><span>640×7 DataFrame</span></div><div style = \"float: right;\"><span style = \"font-style: italic;\">615 rows omitted</span></div><div style = \"clear: both;\"></div></div><div class = \"data-frame\" style = \"overflow-x: scroll;\"><table class = \"data-frame\" style = \"margin-bottom: 6px;\"><thead><tr class = \"header\"><th class = \"rowNumber\" style = \"font-weight: bold; text-align: right;\">Row</th><th style = \"text-align: left;\">AGE</th><th style = \"text-align: left;\">MARITAL_STATUS</th><th style = \"text-align: left;\">SEX</th><th style = \"text-align: left;\">INCOME</th><th style = \"text-align: left;\">population</th><th style = \"text-align: left;\">estimated_population</th><th style = \"text-align: left;\">Z_score</th></tr><tr class = \"subheader headerLastRow\"><th class = \"rowNumber\" style = \"font-weight: bold; text-align: right;\"></th><th title = \"Int64\" style = \"text-align: left;\">Int64</th><th title = \"String\" style = \"text-align: left;\">String</th><th title = \"Char\" style = \"text-align: left;\">Char</th><th title = \"Int64\" style = \"text-align: left;\">Int64</th><th title = \"Int64\" style = \"text-align: left;\">Int64</th><th title = \"Int64\" style = \"text-align: left;\">Int64</th><th title = \"Float64\" style = \"text-align: left;\">Float64</th></tr></thead><tbody><tr><td class = \"rowNumber\" style = \"font-weight: bold; text-align: right;\">1</td><td style = \"text-align: right;\">5</td><td style = \"text-align: left;\">Divorced</td><td style = \"text-align: left;\">F</td><td style = \"text-align: right;\">40000</td><td style = \"text-align: right;\">1443</td><td style = \"text-align: right;\">738</td><td style = \"text-align: right;\">18.5814</td></tr><tr><td class = \"rowNumber\" style = \"font-weight: bold; text-align: right;\">2</td><td style = \"text-align: right;\">10</td><td style = \"text-align: left;\">Divorced</td><td style = \"text-align: left;\">F</td><td style = \"text-align: right;\">40000</td><td style = \"text-align: right;\">1462</td><td style = \"text-align: right;\">752</td><td style = \"text-align: right;\">18.5915</td></tr><tr><td class = \"rowNumber\" style = \"font-weight: bold; text-align: right;\">3</td><td style = \"text-align: right;\">15</td><td style = \"text-align: left;\">Divorced</td><td style = \"text-align: left;\">F</td><td style = \"text-align: right;\">40000</td><td style = \"text-align: right;\">1405</td><td style = \"text-align: right;\">747</td><td style = \"text-align: right;\">17.5751</td></tr><tr><td class = \"rowNumber\" style = \"font-weight: bold; text-align: right;\">4</td><td style = \"text-align: right;\">20</td><td style = \"text-align: left;\">Divorced</td><td style = \"text-align: left;\">F</td><td style = \"text-align: right;\">40000</td><td style = \"text-align: right;\">1416</td><td style = \"text-align: right;\">748</td><td style = \"text-align: right;\">17.7729</td></tr><tr><td class = \"rowNumber\" style = \"font-weight: bold; text-align: right;\">5</td><td style = \"text-align: right;\">25</td><td style = \"text-align: left;\">Divorced</td><td style = \"text-align: left;\">F</td><td style = \"text-align: right;\">40000</td><td style = \"text-align: right;\">1397</td><td style = \"text-align: right;\">744</td><td style = \"text-align: right;\">17.4913</td></tr><tr><td class = \"rowNumber\" style = \"font-weight: bold; text-align: right;\">6</td><td style = \"text-align: right;\">30</td><td style = \"text-align: left;\">Divorced</td><td style = \"text-align: left;\">F</td><td style = \"text-align: right;\">40000</td><td style = \"text-align: right;\">1410</td><td style = \"text-align: right;\">750</td><td style = \"text-align: right;\">17.5973</td></tr><tr><td class = \"rowNumber\" style = \"font-weight: bold; text-align: right;\">7</td><td style = \"text-align: right;\">35</td><td style = \"text-align: left;\">Divorced</td><td style = \"text-align: left;\">F</td><td style = \"text-align: right;\">40000</td><td style = \"text-align: right;\">1539</td><td style = \"text-align: right;\">752</td><td style = \"text-align: right;\">20.0869</td></tr><tr><td class = \"rowNumber\" style = \"font-weight: bold; text-align: right;\">8</td><td style = \"text-align: right;\">40</td><td style = \"text-align: left;\">Divorced</td><td style = \"text-align: left;\">F</td><td style = \"text-align: right;\">40000</td><td style = \"text-align: right;\">1541</td><td style = \"text-align: right;\">752</td><td style = \"text-align: right;\">20.1249</td></tr><tr><td class = \"rowNumber\" style = \"font-weight: bold; text-align: right;\">9</td><td style = \"text-align: right;\">45</td><td style = \"text-align: left;\">Divorced</td><td style = \"text-align: left;\">F</td><td style = \"text-align: right;\">40000</td><td style = \"text-align: right;\">1433</td><td style = \"text-align: right;\">750</td><td style = \"text-align: right;\">18.0641</td></tr><tr><td class = \"rowNumber\" style = \"font-weight: bold; text-align: right;\">10</td><td style = \"text-align: right;\">50</td><td style = \"text-align: left;\">Divorced</td><td style = \"text-align: left;\">F</td><td style = \"text-align: right;\">40000</td><td style = \"text-align: right;\">1394</td><td style = \"text-align: right;\">748</td><td style = \"text-align: right;\">17.3223</td></tr><tr><td class = \"rowNumber\" style = \"font-weight: bold; text-align: right;\">11</td><td style = \"text-align: right;\">55</td><td style = \"text-align: left;\">Divorced</td><td style = \"text-align: left;\">F</td><td style = \"text-align: right;\">40000</td><td style = \"text-align: right;\">1414</td><td style = \"text-align: right;\">742</td><td style = \"text-align: right;\">17.8919</td></tr><tr><td class = \"rowNumber\" style = \"font-weight: bold; text-align: right;\">12</td><td style = \"text-align: right;\">60</td><td style = \"text-align: left;\">Divorced</td><td style = \"text-align: left;\">F</td><td style = \"text-align: right;\">40000</td><td style = \"text-align: right;\">1413</td><td style = \"text-align: right;\">748</td><td style = \"text-align: right;\">17.7118</td></tr><tr><td class = \"rowNumber\" style = \"font-weight: bold; text-align: right;\">13</td><td style = \"text-align: right;\">65</td><td style = \"text-align: left;\">Divorced</td><td style = \"text-align: left;\">F</td><td style = \"text-align: right;\">40000</td><td style = \"text-align: right;\">1488</td><td style = \"text-align: right;\">748</td><td style = \"text-align: right;\">19.2074</td></tr><tr><td style = \"text-align: right;\">&vellip;</td><td style = \"text-align: right;\">&vellip;</td><td style = \"text-align: right;\">&vellip;</td><td style = \"text-align: right;\">&vellip;</td><td style = \"text-align: right;\">&vellip;</td><td style = \"text-align: right;\">&vellip;</td><td style = \"text-align: right;\">&vellip;</td><td style = \"text-align: right;\">&vellip;</td></tr><tr><td class = \"rowNumber\" style = \"font-weight: bold; text-align: right;\">629</td><td style = \"text-align: right;\">25</td><td style = \"text-align: left;\">Widowed</td><td style = \"text-align: left;\">M</td><td style = \"text-align: right;\">80000</td><td style = \"text-align: right;\">2961</td><td style = \"text-align: right;\">1498</td><td style = \"text-align: right;\">26.9525</td></tr><tr><td class = \"rowNumber\" style = \"font-weight: bold; text-align: right;\">630</td><td style = \"text-align: right;\">30</td><td style = \"text-align: left;\">Widowed</td><td style = \"text-align: left;\">M</td><td style = \"text-align: right;\">80000</td><td style = \"text-align: right;\">2893</td><td style = \"text-align: right;\">1499</td><td style = \"text-align: right;\">25.9799</td></tr><tr><td class = \"rowNumber\" style = \"font-weight: bold; text-align: right;\">631</td><td style = \"text-align: right;\">35</td><td style = \"text-align: left;\">Widowed</td><td style = \"text-align: left;\">M</td><td style = \"text-align: right;\">80000</td><td style = \"text-align: right;\">2961</td><td style = \"text-align: right;\">1515</td><td style = \"text-align: right;\">26.6393</td></tr><tr><td class = \"rowNumber\" style = \"font-weight: bold; text-align: right;\">632</td><td style = \"text-align: right;\">40</td><td style = \"text-align: left;\">Widowed</td><td style = \"text-align: left;\">M</td><td style = \"text-align: right;\">80000</td><td style = \"text-align: right;\">2976</td><td style = \"text-align: right;\">1494</td><td style = \"text-align: right;\">27.234</td></tr><tr><td class = \"rowNumber\" style = \"font-weight: bold; text-align: right;\">633</td><td style = \"text-align: right;\">45</td><td style = \"text-align: left;\">Widowed</td><td style = \"text-align: left;\">M</td><td style = \"text-align: right;\">80000</td><td style = \"text-align: right;\">2945</td><td style = \"text-align: right;\">1476</td><td style = \"text-align: right;\">27.1361</td></tr><tr><td class = \"rowNumber\" style = \"font-weight: bold; text-align: right;\">634</td><td style = \"text-align: right;\">50</td><td style = \"text-align: left;\">Widowed</td><td style = \"text-align: left;\">M</td><td style = \"text-align: right;\">80000</td><td style = \"text-align: right;\">2785</td><td style = \"text-align: right;\">1506</td><td style = \"text-align: right;\">24.2923</td></tr><tr><td class = \"rowNumber\" style = \"font-weight: bold; text-align: right;\">635</td><td style = \"text-align: right;\">55</td><td style = \"text-align: left;\">Widowed</td><td style = \"text-align: left;\">M</td><td style = \"text-align: right;\">80000</td><td style = \"text-align: right;\">2846</td><td style = \"text-align: right;\">1474</td><td style = \"text-align: right;\">25.7792</td></tr><tr><td class = \"rowNumber\" style = \"font-weight: bold; text-align: right;\">636</td><td style = \"text-align: right;\">60</td><td style = \"text-align: left;\">Widowed</td><td style = \"text-align: left;\">M</td><td style = \"text-align: right;\">80000</td><td style = \"text-align: right;\">2911</td><td style = \"text-align: right;\">1496</td><td style = \"text-align: right;\">26.2901</td></tr><tr><td class = \"rowNumber\" style = \"font-weight: bold; text-align: right;\">637</td><td style = \"text-align: right;\">65</td><td style = \"text-align: left;\">Widowed</td><td style = \"text-align: left;\">M</td><td style = \"text-align: right;\">80000</td><td style = \"text-align: right;\">2859</td><td style = \"text-align: right;\">1511</td><td style = \"text-align: right;\">25.2709</td></tr><tr><td class = \"rowNumber\" style = \"font-weight: bold; text-align: right;\">638</td><td style = \"text-align: right;\">70</td><td style = \"text-align: left;\">Widowed</td><td style = \"text-align: left;\">M</td><td style = \"text-align: right;\">80000</td><td style = \"text-align: right;\">2925</td><td style = \"text-align: right;\">1498</td><td style = \"text-align: right;\">26.4498</td></tr><tr><td class = \"rowNumber\" style = \"font-weight: bold; text-align: right;\">639</td><td style = \"text-align: right;\">75</td><td style = \"text-align: left;\">Widowed</td><td style = \"text-align: left;\">M</td><td style = \"text-align: right;\">80000</td><td style = \"text-align: right;\">2981</td><td style = \"text-align: right;\">1504</td><td style = \"text-align: right;\">27.1195</td></tr><tr><td class = \"rowNumber\" style = \"font-weight: bold; text-align: right;\">640</td><td style = \"text-align: right;\">80</td><td style = \"text-align: left;\">Widowed</td><td style = \"text-align: left;\">M</td><td style = \"text-align: right;\">80000</td><td style = \"text-align: right;\">2912</td><td style = \"text-align: right;\">1495</td><td style = \"text-align: right;\">26.3227</td></tr></tbody></table></div>"
      ],
      "text/latex": [
       "\\begin{tabular}{r|ccccccc}\n",
       "\t& AGE & MARITAL\\_STATUS & SEX & INCOME & population & estimated\\_population & Z\\_score\\\\\n",
       "\t\\hline\n",
       "\t& Int64 & String & Char & Int64 & Int64 & Int64 & Float64\\\\\n",
       "\t\\hline\n",
       "\t1 & 5 & Divorced & F & 40000 & 1443 & 738 & 18.5814 \\\\\n",
       "\t2 & 10 & Divorced & F & 40000 & 1462 & 752 & 18.5915 \\\\\n",
       "\t3 & 15 & Divorced & F & 40000 & 1405 & 747 & 17.5751 \\\\\n",
       "\t4 & 20 & Divorced & F & 40000 & 1416 & 748 & 17.7729 \\\\\n",
       "\t5 & 25 & Divorced & F & 40000 & 1397 & 744 & 17.4913 \\\\\n",
       "\t6 & 30 & Divorced & F & 40000 & 1410 & 750 & 17.5973 \\\\\n",
       "\t7 & 35 & Divorced & F & 40000 & 1539 & 752 & 20.0869 \\\\\n",
       "\t8 & 40 & Divorced & F & 40000 & 1541 & 752 & 20.1249 \\\\\n",
       "\t9 & 45 & Divorced & F & 40000 & 1433 & 750 & 18.0641 \\\\\n",
       "\t10 & 50 & Divorced & F & 40000 & 1394 & 748 & 17.3223 \\\\\n",
       "\t11 & 55 & Divorced & F & 40000 & 1414 & 742 & 17.8919 \\\\\n",
       "\t12 & 60 & Divorced & F & 40000 & 1413 & 748 & 17.7118 \\\\\n",
       "\t13 & 65 & Divorced & F & 40000 & 1488 & 748 & 19.2074 \\\\\n",
       "\t14 & 70 & Divorced & F & 40000 & 1445 & 747 & 18.3842 \\\\\n",
       "\t15 & 75 & Divorced & F & 40000 & 1446 & 752 & 18.2726 \\\\\n",
       "\t16 & 80 & Divorced & F & 40000 & 1445 & 752 & 18.2525 \\\\\n",
       "\t17 & 5 & Married & F & 40000 & 2102 & 1110 & 21.6749 \\\\\n",
       "\t18 & 10 & Married & F & 40000 & 2093 & 1130 & 21.0863 \\\\\n",
       "\t19 & 15 & Married & F & 40000 & 2208 & 1123 & 23.1329 \\\\\n",
       "\t20 & 20 & Married & F & 40000 & 2177 & 1125 & 22.5879 \\\\\n",
       "\t21 & 25 & Married & F & 40000 & 2185 & 1118 & 22.8681 \\\\\n",
       "\t22 & 30 & Married & F & 40000 & 2217 & 1128 & 23.1712 \\\\\n",
       "\t23 & 35 & Married & F & 40000 & 2202 & 1130 & 22.8868 \\\\\n",
       "\t24 & 40 & Married & F & 40000 & 2255 & 1130 & 23.7354 \\\\\n",
       "\t25 & 45 & Married & F & 40000 & 2152 & 1127 & 22.1352 \\\\\n",
       "\t26 & 50 & Married & F & 40000 & 2242 & 1125 & 23.6346 \\\\\n",
       "\t27 & 55 & Married & F & 40000 & 2199 & 1116 & 23.1373 \\\\\n",
       "\t28 & 60 & Married & F & 40000 & 2179 & 1125 & 22.6205 \\\\\n",
       "\t29 & 65 & Married & F & 40000 & 2130 & 1125 & 21.8147 \\\\\n",
       "\t30 & 70 & Married & F & 40000 & 2136 & 1123 & 21.9575 \\\\\n",
       "\t$\\dots$ & $\\dots$ & $\\dots$ & $\\dots$ & $\\dots$ & $\\dots$ & $\\dots$ & $\\dots$ \\\\\n",
       "\\end{tabular}\n"
      ],
      "text/plain": [
       "\u001b[1m640×7 DataFrame\u001b[0m\n",
       "\u001b[1m Row \u001b[0m│\u001b[1m AGE   \u001b[0m\u001b[1m MARITAL_STATUS \u001b[0m\u001b[1m SEX  \u001b[0m\u001b[1m INCOME \u001b[0m\u001b[1m population \u001b[0m\u001b[1m estimated_population \u001b[0m\u001b[1m \u001b[0m ⋯\n",
       "     │\u001b[90m Int64 \u001b[0m\u001b[90m String         \u001b[0m\u001b[90m Char \u001b[0m\u001b[90m Int64  \u001b[0m\u001b[90m Int64      \u001b[0m\u001b[90m Int64                \u001b[0m\u001b[90m \u001b[0m ⋯\n",
       "─────┼──────────────────────────────────────────────────────────────────────────\n",
       "   1 │     5  Divorced        F      40000        1443                   738   ⋯\n",
       "   2 │    10  Divorced        F      40000        1462                   752\n",
       "   3 │    15  Divorced        F      40000        1405                   747\n",
       "   4 │    20  Divorced        F      40000        1416                   748\n",
       "   5 │    25  Divorced        F      40000        1397                   744   ⋯\n",
       "   6 │    30  Divorced        F      40000        1410                   750\n",
       "   7 │    35  Divorced        F      40000        1539                   752\n",
       "   8 │    40  Divorced        F      40000        1541                   752\n",
       "   9 │    45  Divorced        F      40000        1433                   750   ⋯\n",
       "  10 │    50  Divorced        F      40000        1394                   748\n",
       "  11 │    55  Divorced        F      40000        1414                   742\n",
       "  ⋮  │   ⋮          ⋮          ⋮      ⋮         ⋮                ⋮             ⋱\n",
       " 631 │    35  Widowed         M      80000        2961                  1515\n",
       " 632 │    40  Widowed         M      80000        2976                  1494   ⋯\n",
       " 633 │    45  Widowed         M      80000        2945                  1476\n",
       " 634 │    50  Widowed         M      80000        2785                  1506\n",
       " 635 │    55  Widowed         M      80000        2846                  1474\n",
       " 636 │    60  Widowed         M      80000        2911                  1496   ⋯\n",
       " 637 │    65  Widowed         M      80000        2859                  1511\n",
       " 638 │    70  Widowed         M      80000        2925                  1498\n",
       " 639 │    75  Widowed         M      80000        2981                  1504\n",
       " 640 │    80  Widowed         M      80000        2912                  1495   ⋯\n",
       "\u001b[36m                                                   1 column and 619 rows omitted\u001b[0m"
      ]
     },
     "execution_count": 13,
     "metadata": {},
     "output_type": "execute_result"
    }
   ],
   "source": [
    "SIZE = 600000\n",
    "SEX = ['M', 'F']; SEX_WEIGHTS = [0.5, 0.5]\n",
    "MARITAL_STATUS = [\"Not_married\", \"Married\", \"Divorced\", \"Widowed\"]; MARITAL_WEIGHTS = [0.3, 0.5, 0.1, 0.1]\n",
    "AGE = [5, 10, 15, 20, 25, 30, 35, 40, 45, 50, 55, 60, 65, 70, 75, 80]; AGE_WEIGHTS = repeat([1 / 16], 16)\n",
    "INCOME = [40000, 50000, 60000, 70000, 80000]; INCOME_WEIGHTS = [0.2, 0.2, 0.2, 0.2, 0.2]\n",
    "\n",
    "using StatsBase\n",
    "disaggregated_independent_population = DataFrame(\n",
    "    AGE = sample(AGE, Weights(AGE_WEIGHTS), SIZE),\n",
    "    MARITAL_STATUS = sample(MARITAL_STATUS, Weights(MARITAL_WEIGHTS), SIZE),\n",
    "    SEX = sample(SEX, Weights(SEX_WEIGHTS), SIZE),\n",
    "    INCOME = sample(INCOME, Weights(INCOME_WEIGHTS), SIZE),\n",
    ")\n",
    "\n",
    "independent_population = combine(groupby(disaggregated_independent_population, names(disaggregated_independent_population), sort=true), nrow)\n",
    "rename!(independent_population, :nrow => :population)\n",
    "sort!(dependent_population, [:INCOME, :SEX, :MARITAL_STATUS, :AGE])"
   ]
  },
  {
   "attachments": {},
   "cell_type": "markdown",
   "metadata": {},
   "source": [
    "### 2.2. Compute marginal attribute distributions of the independent population\n",
    "Then we compute the distributions of population attributes. This is a type of data that we can usually get from the census data and will be input for our algorithms for population generation."
   ]
  },
  {
   "cell_type": "code",
   "execution_count": 15,
   "metadata": {
    "scrolled": false
   },
   "outputs": [
    {
     "data": {
      "text/plain": [
       "3-element Vector{DataFrame}:\n",
       " \u001b[1m32×3 DataFrame\u001b[0m\n",
       "\u001b[1m Row \u001b[0m│\u001b[1m AGE   \u001b[0m\u001b[1m SEX  \u001b[0m\u001b[1m population \u001b[0m\n",
       "     │\u001b[90m Int64 \u001b[0m\u001b[90m Char \u001b[0m\u001b[90m Int64      \u001b[0m\n",
       "─────┼─────────────────────────\n",
       "   1 │     5  F          19029\n",
       "   2 │    10  F          18865\n",
       "   3 │    15  F          18997\n",
       "   4 │    20  F          18662\n",
       "   5 │    25  F          18735\n",
       "   6 │    30  F          18712\n",
       "   7 │    35  F          18878\n",
       "   8 │    40  F          18555\n",
       "   9 │    45  F          18819\n",
       "  10 │    50  F          18570\n",
       "  11 │    55  F          18636\n",
       "  ⋮  │   ⋮     ⋮        ⋮\n",
       "  23 │    35  M          18797\n",
       "  24 │    40  M          18724\n",
       "  25 │    45  M          18704\n",
       "  26 │    50  M          18827\n",
       "  27 │    55  M          18683\n",
       "  28 │    60  M          18795\n",
       "  29 │    65  M          18777\n",
       "  30 │    70  M          18744\n",
       "  31 │    75  M          18773\n",
       "  32 │    80  M          18663\n",
       "\u001b[36m                11 rows omitted\u001b[0m\n",
       " \u001b[1m8×3 DataFrame\u001b[0m\n",
       "\u001b[1m Row \u001b[0m│\u001b[1m MARITAL_STATUS \u001b[0m\u001b[1m SEX  \u001b[0m\u001b[1m population \u001b[0m\n",
       "     │\u001b[90m String         \u001b[0m\u001b[90m Char \u001b[0m\u001b[90m Int64      \u001b[0m\n",
       "─────┼──────────────────────────────────\n",
       "   1 │ Divorced        F          29829\n",
       "   2 │ Married         F         150005\n",
       "   3 │ Not_married     F          90351\n",
       "   4 │ Widowed         F          29942\n",
       "   5 │ Divorced        M          29817\n",
       "   6 │ Married         M         149843\n",
       "   7 │ Not_married     M          90180\n",
       "   8 │ Widowed         M          30033\n",
       " \u001b[1m5×2 DataFrame\u001b[0m\n",
       "\u001b[1m Row \u001b[0m│\u001b[1m INCOME \u001b[0m\u001b[1m population \u001b[0m\n",
       "     │\u001b[90m Int64  \u001b[0m\u001b[90m Int64      \u001b[0m\n",
       "─────┼────────────────────\n",
       "   1 │  40000      120309\n",
       "   2 │  50000      119579\n",
       "   3 │  60000      120290\n",
       "   4 │  70000      119898\n",
       "   5 │  80000      119924"
      ]
     },
     "execution_count": 15,
     "metadata": {},
     "output_type": "execute_result"
    }
   ],
   "source": [
    "independent_age_sex = combine(groupby(disaggregated_independent_population, [:AGE, :SEX], sort=true), nrow); sort!(independent_age_sex, [:SEX, :AGE])\n",
    "independent_sex_marital = combine(groupby(disaggregated_independent_population, [:MARITAL_STATUS, :SEX], sort=true), nrow); sort!(independent_sex_marital, [:SEX, :MARITAL_STATUS])\n",
    "independent_income = combine(groupby(disaggregated_independent_population, [:INCOME], sort=true), nrow);\n",
    "independent_age_sex, independent_sex_marital, independent_income = map(x -> rename!(x, :nrow => :population), [independent_age_sex, independent_sex_marital, independent_income])"
   ]
  },
  {
   "attachments": {},
   "cell_type": "markdown",
   "metadata": {},
   "source": [
    "### 2.3. Generate dependent population from marginals\n",
    "Then, we use our algorithm to estimate joint distribution of the attributes. "
   ]
  },
  {
   "cell_type": "code",
   "execution_count": 16,
   "metadata": {},
   "outputs": [
    {
     "name": "stderr",
     "output_type": "stream",
     "text": [
      "\u001b[36m\u001b[1m[ \u001b[22m\u001b[39m\u001b[36m\u001b[1mInfo: \u001b[22m\u001b[39mConverged in 2 iterations.\n",
      "\u001b[36m\u001b[1m[ \u001b[22m\u001b[39m\u001b[36m\u001b[1mInfo: \u001b[22m\u001b[39mConverged in 2 iterations.\n",
      "\u001b[36m\u001b[1m[ \u001b[22m\u001b[39m\u001b[36m\u001b[1mInfo: \u001b[22m\u001b[39mConverged in 2 iterations.\n"
     ]
    },
    {
     "data": {
      "text/html": [
       "<div><div style = \"float: left;\"><span>640×5 DataFrame</span></div><div style = \"float: right;\"><span style = \"font-style: italic;\">615 rows omitted</span></div><div style = \"clear: both;\"></div></div><div class = \"data-frame\" style = \"overflow-x: scroll;\"><table class = \"data-frame\" style = \"margin-bottom: 6px;\"><thead><tr class = \"header\"><th class = \"rowNumber\" style = \"font-weight: bold; text-align: right;\">Row</th><th style = \"text-align: left;\">AGE</th><th style = \"text-align: left;\">MARITAL_STATUS</th><th style = \"text-align: left;\">SEX</th><th style = \"text-align: left;\">INCOME</th><th style = \"text-align: left;\">population</th></tr><tr class = \"subheader headerLastRow\"><th class = \"rowNumber\" style = \"font-weight: bold; text-align: right;\"></th><th title = \"Int64\" style = \"text-align: left;\">Int64</th><th title = \"String\" style = \"text-align: left;\">String</th><th title = \"Char\" style = \"text-align: left;\">Char</th><th title = \"Int64\" style = \"text-align: left;\">Int64</th><th title = \"Int64\" style = \"text-align: left;\">Int64</th></tr></thead><tbody><tr><td class = \"rowNumber\" style = \"font-weight: bold; text-align: right;\">1</td><td style = \"text-align: right;\">5</td><td style = \"text-align: left;\">Divorced</td><td style = \"text-align: left;\">F</td><td style = \"text-align: right;\">40000</td><td style = \"text-align: right;\">379</td></tr><tr><td class = \"rowNumber\" style = \"font-weight: bold; text-align: right;\">2</td><td style = \"text-align: right;\">10</td><td style = \"text-align: left;\">Divorced</td><td style = \"text-align: left;\">F</td><td style = \"text-align: right;\">40000</td><td style = \"text-align: right;\">376</td></tr><tr><td class = \"rowNumber\" style = \"font-weight: bold; text-align: right;\">3</td><td style = \"text-align: right;\">15</td><td style = \"text-align: left;\">Divorced</td><td style = \"text-align: left;\">F</td><td style = \"text-align: right;\">40000</td><td style = \"text-align: right;\">379</td></tr><tr><td class = \"rowNumber\" style = \"font-weight: bold; text-align: right;\">4</td><td style = \"text-align: right;\">20</td><td style = \"text-align: left;\">Divorced</td><td style = \"text-align: left;\">F</td><td style = \"text-align: right;\">40000</td><td style = \"text-align: right;\">372</td></tr><tr><td class = \"rowNumber\" style = \"font-weight: bold; text-align: right;\">5</td><td style = \"text-align: right;\">25</td><td style = \"text-align: left;\">Divorced</td><td style = \"text-align: left;\">F</td><td style = \"text-align: right;\">40000</td><td style = \"text-align: right;\">373</td></tr><tr><td class = \"rowNumber\" style = \"font-weight: bold; text-align: right;\">6</td><td style = \"text-align: right;\">30</td><td style = \"text-align: left;\">Divorced</td><td style = \"text-align: left;\">F</td><td style = \"text-align: right;\">40000</td><td style = \"text-align: right;\">373</td></tr><tr><td class = \"rowNumber\" style = \"font-weight: bold; text-align: right;\">7</td><td style = \"text-align: right;\">35</td><td style = \"text-align: left;\">Divorced</td><td style = \"text-align: left;\">F</td><td style = \"text-align: right;\">40000</td><td style = \"text-align: right;\">376</td></tr><tr><td class = \"rowNumber\" style = \"font-weight: bold; text-align: right;\">8</td><td style = \"text-align: right;\">40</td><td style = \"text-align: left;\">Divorced</td><td style = \"text-align: left;\">F</td><td style = \"text-align: right;\">40000</td><td style = \"text-align: right;\">370</td></tr><tr><td class = \"rowNumber\" style = \"font-weight: bold; text-align: right;\">9</td><td style = \"text-align: right;\">45</td><td style = \"text-align: left;\">Divorced</td><td style = \"text-align: left;\">F</td><td style = \"text-align: right;\">40000</td><td style = \"text-align: right;\">375</td></tr><tr><td class = \"rowNumber\" style = \"font-weight: bold; text-align: right;\">10</td><td style = \"text-align: right;\">50</td><td style = \"text-align: left;\">Divorced</td><td style = \"text-align: left;\">F</td><td style = \"text-align: right;\">40000</td><td style = \"text-align: right;\">370</td></tr><tr><td class = \"rowNumber\" style = \"font-weight: bold; text-align: right;\">11</td><td style = \"text-align: right;\">55</td><td style = \"text-align: left;\">Divorced</td><td style = \"text-align: left;\">F</td><td style = \"text-align: right;\">40000</td><td style = \"text-align: right;\">371</td></tr><tr><td class = \"rowNumber\" style = \"font-weight: bold; text-align: right;\">12</td><td style = \"text-align: right;\">60</td><td style = \"text-align: left;\">Divorced</td><td style = \"text-align: left;\">F</td><td style = \"text-align: right;\">40000</td><td style = \"text-align: right;\">378</td></tr><tr><td class = \"rowNumber\" style = \"font-weight: bold; text-align: right;\">13</td><td style = \"text-align: right;\">65</td><td style = \"text-align: left;\">Divorced</td><td style = \"text-align: left;\">F</td><td style = \"text-align: right;\">40000</td><td style = \"text-align: right;\">369</td></tr><tr><td style = \"text-align: right;\">&vellip;</td><td style = \"text-align: right;\">&vellip;</td><td style = \"text-align: right;\">&vellip;</td><td style = \"text-align: right;\">&vellip;</td><td style = \"text-align: right;\">&vellip;</td><td style = \"text-align: right;\">&vellip;</td></tr><tr><td class = \"rowNumber\" style = \"font-weight: bold; text-align: right;\">629</td><td style = \"text-align: right;\">25</td><td style = \"text-align: left;\">Widowed</td><td style = \"text-align: left;\">M</td><td style = \"text-align: right;\">80000</td><td style = \"text-align: right;\">377</td></tr><tr><td class = \"rowNumber\" style = \"font-weight: bold; text-align: right;\">630</td><td style = \"text-align: right;\">30</td><td style = \"text-align: left;\">Widowed</td><td style = \"text-align: left;\">M</td><td style = \"text-align: right;\">80000</td><td style = \"text-align: right;\">376</td></tr><tr><td class = \"rowNumber\" style = \"font-weight: bold; text-align: right;\">631</td><td style = \"text-align: right;\">35</td><td style = \"text-align: left;\">Widowed</td><td style = \"text-align: left;\">M</td><td style = \"text-align: right;\">80000</td><td style = \"text-align: right;\">376</td></tr><tr><td class = \"rowNumber\" style = \"font-weight: bold; text-align: right;\">632</td><td style = \"text-align: right;\">40</td><td style = \"text-align: left;\">Widowed</td><td style = \"text-align: left;\">M</td><td style = \"text-align: right;\">80000</td><td style = \"text-align: right;\">375</td></tr><tr><td class = \"rowNumber\" style = \"font-weight: bold; text-align: right;\">633</td><td style = \"text-align: right;\">45</td><td style = \"text-align: left;\">Widowed</td><td style = \"text-align: left;\">M</td><td style = \"text-align: right;\">80000</td><td style = \"text-align: right;\">374</td></tr><tr><td class = \"rowNumber\" style = \"font-weight: bold; text-align: right;\">634</td><td style = \"text-align: right;\">50</td><td style = \"text-align: left;\">Widowed</td><td style = \"text-align: left;\">M</td><td style = \"text-align: right;\">80000</td><td style = \"text-align: right;\">377</td></tr><tr><td class = \"rowNumber\" style = \"font-weight: bold; text-align: right;\">635</td><td style = \"text-align: right;\">55</td><td style = \"text-align: left;\">Widowed</td><td style = \"text-align: left;\">M</td><td style = \"text-align: right;\">80000</td><td style = \"text-align: right;\">374</td></tr><tr><td class = \"rowNumber\" style = \"font-weight: bold; text-align: right;\">636</td><td style = \"text-align: right;\">60</td><td style = \"text-align: left;\">Widowed</td><td style = \"text-align: left;\">M</td><td style = \"text-align: right;\">80000</td><td style = \"text-align: right;\">376</td></tr><tr><td class = \"rowNumber\" style = \"font-weight: bold; text-align: right;\">637</td><td style = \"text-align: right;\">65</td><td style = \"text-align: left;\">Widowed</td><td style = \"text-align: left;\">M</td><td style = \"text-align: right;\">80000</td><td style = \"text-align: right;\">376</td></tr><tr><td class = \"rowNumber\" style = \"font-weight: bold; text-align: right;\">638</td><td style = \"text-align: right;\">70</td><td style = \"text-align: left;\">Widowed</td><td style = \"text-align: left;\">M</td><td style = \"text-align: right;\">80000</td><td style = \"text-align: right;\">375</td></tr><tr><td class = \"rowNumber\" style = \"font-weight: bold; text-align: right;\">639</td><td style = \"text-align: right;\">75</td><td style = \"text-align: left;\">Widowed</td><td style = \"text-align: left;\">M</td><td style = \"text-align: right;\">80000</td><td style = \"text-align: right;\">376</td></tr><tr><td class = \"rowNumber\" style = \"font-weight: bold; text-align: right;\">640</td><td style = \"text-align: right;\">80</td><td style = \"text-align: left;\">Widowed</td><td style = \"text-align: left;\">M</td><td style = \"text-align: right;\">80000</td><td style = \"text-align: right;\">374</td></tr></tbody></table></div>"
      ],
      "text/latex": [
       "\\begin{tabular}{r|ccccc}\n",
       "\t& AGE & MARITAL\\_STATUS & SEX & INCOME & population\\\\\n",
       "\t\\hline\n",
       "\t& Int64 & String & Char & Int64 & Int64\\\\\n",
       "\t\\hline\n",
       "\t1 & 5 & Divorced & F & 40000 & 379 \\\\\n",
       "\t2 & 10 & Divorced & F & 40000 & 376 \\\\\n",
       "\t3 & 15 & Divorced & F & 40000 & 379 \\\\\n",
       "\t4 & 20 & Divorced & F & 40000 & 372 \\\\\n",
       "\t5 & 25 & Divorced & F & 40000 & 373 \\\\\n",
       "\t6 & 30 & Divorced & F & 40000 & 373 \\\\\n",
       "\t7 & 35 & Divorced & F & 40000 & 376 \\\\\n",
       "\t8 & 40 & Divorced & F & 40000 & 370 \\\\\n",
       "\t9 & 45 & Divorced & F & 40000 & 375 \\\\\n",
       "\t10 & 50 & Divorced & F & 40000 & 370 \\\\\n",
       "\t11 & 55 & Divorced & F & 40000 & 371 \\\\\n",
       "\t12 & 60 & Divorced & F & 40000 & 378 \\\\\n",
       "\t13 & 65 & Divorced & F & 40000 & 369 \\\\\n",
       "\t14 & 70 & Divorced & F & 40000 & 376 \\\\\n",
       "\t15 & 75 & Divorced & F & 40000 & 369 \\\\\n",
       "\t16 & 80 & Divorced & F & 40000 & 375 \\\\\n",
       "\t17 & 5 & Married & F & 40000 & 1907 \\\\\n",
       "\t18 & 10 & Married & F & 40000 & 1891 \\\\\n",
       "\t19 & 15 & Married & F & 40000 & 1904 \\\\\n",
       "\t20 & 20 & Married & F & 40000 & 1870 \\\\\n",
       "\t21 & 25 & Married & F & 40000 & 1878 \\\\\n",
       "\t22 & 30 & Married & F & 40000 & 1875 \\\\\n",
       "\t23 & 35 & Married & F & 40000 & 1892 \\\\\n",
       "\t24 & 40 & Married & F & 40000 & 1860 \\\\\n",
       "\t25 & 45 & Married & F & 40000 & 1886 \\\\\n",
       "\t26 & 50 & Married & F & 40000 & 1861 \\\\\n",
       "\t27 & 55 & Married & F & 40000 & 1868 \\\\\n",
       "\t28 & 60 & Married & F & 40000 & 1900 \\\\\n",
       "\t29 & 65 & Married & F & 40000 & 1855 \\\\\n",
       "\t30 & 70 & Married & F & 40000 & 1891 \\\\\n",
       "\t$\\dots$ & $\\dots$ & $\\dots$ & $\\dots$ & $\\dots$ & $\\dots$ \\\\\n",
       "\\end{tabular}\n"
      ],
      "text/plain": [
       "\u001b[1m640×5 DataFrame\u001b[0m\n",
       "\u001b[1m Row \u001b[0m│\u001b[1m AGE   \u001b[0m\u001b[1m MARITAL_STATUS \u001b[0m\u001b[1m SEX  \u001b[0m\u001b[1m INCOME \u001b[0m\u001b[1m population \u001b[0m\n",
       "     │\u001b[90m Int64 \u001b[0m\u001b[90m String         \u001b[0m\u001b[90m Char \u001b[0m\u001b[90m Int64  \u001b[0m\u001b[90m Int64      \u001b[0m\n",
       "─────┼─────────────────────────────────────────────────\n",
       "   1 │     5  Divorced        F      40000         379\n",
       "   2 │    10  Divorced        F      40000         376\n",
       "   3 │    15  Divorced        F      40000         379\n",
       "   4 │    20  Divorced        F      40000         372\n",
       "   5 │    25  Divorced        F      40000         373\n",
       "   6 │    30  Divorced        F      40000         373\n",
       "   7 │    35  Divorced        F      40000         376\n",
       "   8 │    40  Divorced        F      40000         370\n",
       "   9 │    45  Divorced        F      40000         375\n",
       "  10 │    50  Divorced        F      40000         370\n",
       "  11 │    55  Divorced        F      40000         371\n",
       "  ⋮  │   ⋮          ⋮          ⋮      ⋮         ⋮\n",
       " 631 │    35  Widowed         M      80000         376\n",
       " 632 │    40  Widowed         M      80000         375\n",
       " 633 │    45  Widowed         M      80000         374\n",
       " 634 │    50  Widowed         M      80000         377\n",
       " 635 │    55  Widowed         M      80000         374\n",
       " 636 │    60  Widowed         M      80000         376\n",
       " 637 │    65  Widowed         M      80000         376\n",
       " 638 │    70  Widowed         M      80000         375\n",
       " 639 │    75  Widowed         M      80000         376\n",
       " 640 │    80  Widowed         M      80000         374\n",
       "\u001b[36m                                       619 rows omitted\u001b[0m"
      ]
     },
     "execution_count": 16,
     "metadata": {},
     "output_type": "execute_result"
    }
   ],
   "source": [
    "#dependent population\n",
    "generated_aggregated_indep_population = generate_joint_distribution(independent_age_sex, independent_sex_marital, independent_income)\n",
    "generated_aggregated_indep_population = generated_aggregated_indep_population[:, Not(:id)]"
   ]
  },
  {
   "attachments": {},
   "cell_type": "markdown",
   "metadata": {},
   "source": [
    "### 2.4. Evaluation of fit of generated dependent population.\n",
    "Finally, we evaluate if the generated population is correct. We use approach based on Z-score described by [Williamson, 2013] [1].\n",
    "\n",
    "\n",
    "[1] Williamson, P. (2013). An evaluation of two synthetic small-area microdata simulation methodologies: Synthetic reconstruction and combinatorial optimisation. Spatial microsimulation: A reference guide for users, 19-47. https://ndl.ethernet.edu.et/bitstream/123456789/14722/1/205.pdf#page=38"
   ]
  },
  {
   "cell_type": "code",
   "execution_count": 17,
   "metadata": {},
   "outputs": [
    {
     "data": {
      "text/html": [
       "<div><div style = \"float: left;\"><span>640×7 DataFrame</span></div><div style = \"float: right;\"><span style = \"font-style: italic;\">615 rows omitted</span></div><div style = \"clear: both;\"></div></div><div class = \"data-frame\" style = \"overflow-x: scroll;\"><table class = \"data-frame\" style = \"margin-bottom: 6px;\"><thead><tr class = \"header\"><th class = \"rowNumber\" style = \"font-weight: bold; text-align: right;\">Row</th><th style = \"text-align: left;\">AGE</th><th style = \"text-align: left;\">MARITAL_STATUS</th><th style = \"text-align: left;\">SEX</th><th style = \"text-align: left;\">INCOME</th><th style = \"text-align: left;\">population</th><th style = \"text-align: left;\">estimated_population</th><th style = \"text-align: left;\">Z_score</th></tr><tr class = \"subheader headerLastRow\"><th class = \"rowNumber\" style = \"font-weight: bold; text-align: right;\"></th><th title = \"Int64\" style = \"text-align: left;\">Int64</th><th title = \"String\" style = \"text-align: left;\">String</th><th title = \"Char\" style = \"text-align: left;\">Char</th><th title = \"Int64\" style = \"text-align: left;\">Int64</th><th title = \"Int64\" style = \"text-align: left;\">Int64</th><th title = \"Int64\" style = \"text-align: left;\">Int64</th><th title = \"Float64\" style = \"text-align: left;\">Float64</th></tr></thead><tbody><tr><td class = \"rowNumber\" style = \"font-weight: bold; text-align: right;\">1</td><td style = \"text-align: right;\">5</td><td style = \"text-align: left;\">Divorced</td><td style = \"text-align: left;\">F</td><td style = \"text-align: right;\">40000</td><td style = \"text-align: right;\">423</td><td style = \"text-align: right;\">379</td><td style = \"text-align: right;\">2.14011</td></tr><tr><td class = \"rowNumber\" style = \"font-weight: bold; text-align: right;\">2</td><td style = \"text-align: right;\">5</td><td style = \"text-align: left;\">Divorced</td><td style = \"text-align: left;\">F</td><td style = \"text-align: right;\">50000</td><td style = \"text-align: right;\">379</td><td style = \"text-align: right;\">377</td><td style = \"text-align: right;\">0.102766</td></tr><tr><td class = \"rowNumber\" style = \"font-weight: bold; text-align: right;\">3</td><td style = \"text-align: right;\">5</td><td style = \"text-align: left;\">Divorced</td><td style = \"text-align: left;\">F</td><td style = \"text-align: right;\">60000</td><td style = \"text-align: right;\">382</td><td style = \"text-align: right;\">379</td><td style = \"text-align: right;\">0.153542</td></tr><tr><td class = \"rowNumber\" style = \"font-weight: bold; text-align: right;\">4</td><td style = \"text-align: right;\">5</td><td style = \"text-align: left;\">Divorced</td><td style = \"text-align: left;\">F</td><td style = \"text-align: right;\">70000</td><td style = \"text-align: right;\">352</td><td style = \"text-align: right;\">378</td><td style = \"text-align: right;\">-1.38621</td></tr><tr><td class = \"rowNumber\" style = \"font-weight: bold; text-align: right;\">5</td><td style = \"text-align: right;\">5</td><td style = \"text-align: left;\">Divorced</td><td style = \"text-align: left;\">F</td><td style = \"text-align: right;\">80000</td><td style = \"text-align: right;\">393</td><td style = \"text-align: right;\">378</td><td style = \"text-align: right;\">0.756898</td></tr><tr><td class = \"rowNumber\" style = \"font-weight: bold; text-align: right;\">6</td><td style = \"text-align: right;\">5</td><td style = \"text-align: left;\">Divorced</td><td style = \"text-align: left;\">M</td><td style = \"text-align: right;\">40000</td><td style = \"text-align: right;\">374</td><td style = \"text-align: right;\">370</td><td style = \"text-align: right;\">0.2069</td></tr><tr><td class = \"rowNumber\" style = \"font-weight: bold; text-align: right;\">7</td><td style = \"text-align: right;\">5</td><td style = \"text-align: left;\">Divorced</td><td style = \"text-align: left;\">M</td><td style = \"text-align: right;\">50000</td><td style = \"text-align: right;\">359</td><td style = \"text-align: right;\">368</td><td style = \"text-align: right;\">-0.475144</td></tr><tr><td class = \"rowNumber\" style = \"font-weight: bold; text-align: right;\">8</td><td style = \"text-align: right;\">5</td><td style = \"text-align: left;\">Divorced</td><td style = \"text-align: left;\">M</td><td style = \"text-align: right;\">60000</td><td style = \"text-align: right;\">373</td><td style = \"text-align: right;\">370</td><td style = \"text-align: right;\">0.155382</td></tr><tr><td class = \"rowNumber\" style = \"font-weight: bold; text-align: right;\">9</td><td style = \"text-align: right;\">5</td><td style = \"text-align: left;\">Divorced</td><td style = \"text-align: left;\">M</td><td style = \"text-align: right;\">70000</td><td style = \"text-align: right;\">359</td><td style = \"text-align: right;\">368</td><td style = \"text-align: right;\">-0.475144</td></tr><tr><td class = \"rowNumber\" style = \"font-weight: bold; text-align: right;\">10</td><td style = \"text-align: right;\">5</td><td style = \"text-align: left;\">Divorced</td><td style = \"text-align: left;\">M</td><td style = \"text-align: right;\">80000</td><td style = \"text-align: right;\">384</td><td style = \"text-align: right;\">369</td><td style = \"text-align: right;\">0.765711</td></tr><tr><td class = \"rowNumber\" style = \"font-weight: bold; text-align: right;\">11</td><td style = \"text-align: right;\">5</td><td style = \"text-align: left;\">Married</td><td style = \"text-align: left;\">F</td><td style = \"text-align: right;\">40000</td><td style = \"text-align: right;\">1892</td><td style = \"text-align: right;\">1907</td><td style = \"text-align: right;\">-0.345395</td></tr><tr><td class = \"rowNumber\" style = \"font-weight: bold; text-align: right;\">12</td><td style = \"text-align: right;\">5</td><td style = \"text-align: left;\">Married</td><td style = \"text-align: left;\">F</td><td style = \"text-align: right;\">50000</td><td style = \"text-align: right;\">1895</td><td style = \"text-align: right;\">1896</td><td style = \"text-align: right;\">-0.0230082</td></tr><tr><td class = \"rowNumber\" style = \"font-weight: bold; text-align: right;\">13</td><td style = \"text-align: right;\">5</td><td style = \"text-align: left;\">Married</td><td style = \"text-align: left;\">F</td><td style = \"text-align: right;\">60000</td><td style = \"text-align: right;\">1901</td><td style = \"text-align: right;\">1907</td><td style = \"text-align: right;\">-0.137832</td></tr><tr><td style = \"text-align: right;\">&vellip;</td><td style = \"text-align: right;\">&vellip;</td><td style = \"text-align: right;\">&vellip;</td><td style = \"text-align: right;\">&vellip;</td><td style = \"text-align: right;\">&vellip;</td><td style = \"text-align: right;\">&vellip;</td><td style = \"text-align: right;\">&vellip;</td><td style = \"text-align: right;\">&vellip;</td></tr><tr><td class = \"rowNumber\" style = \"font-weight: bold; text-align: right;\">629</td><td style = \"text-align: right;\">80</td><td style = \"text-align: left;\">Not_married</td><td style = \"text-align: left;\">M</td><td style = \"text-align: right;\">70000</td><td style = \"text-align: right;\">1112</td><td style = \"text-align: right;\">1121</td><td style = \"text-align: right;\">-0.270143</td></tr><tr><td class = \"rowNumber\" style = \"font-weight: bold; text-align: right;\">630</td><td style = \"text-align: right;\">80</td><td style = \"text-align: left;\">Not_married</td><td style = \"text-align: left;\">M</td><td style = \"text-align: right;\">80000</td><td style = \"text-align: right;\">1150</td><td style = \"text-align: right;\">1122</td><td style = \"text-align: right;\">0.826467</td></tr><tr><td class = \"rowNumber\" style = \"font-weight: bold; text-align: right;\">631</td><td style = \"text-align: right;\">80</td><td style = \"text-align: left;\">Widowed</td><td style = \"text-align: left;\">F</td><td style = \"text-align: right;\">40000</td><td style = \"text-align: right;\">384</td><td style = \"text-align: right;\">376</td><td style = \"text-align: right;\">0.408379</td></tr><tr><td class = \"rowNumber\" style = \"font-weight: bold; text-align: right;\">632</td><td style = \"text-align: right;\">80</td><td style = \"text-align: left;\">Widowed</td><td style = \"text-align: left;\">F</td><td style = \"text-align: right;\">50000</td><td style = \"text-align: right;\">388</td><td style = \"text-align: right;\">374</td><td style = \"text-align: right;\">0.710972</td></tr><tr><td class = \"rowNumber\" style = \"font-weight: bold; text-align: right;\">633</td><td style = \"text-align: right;\">80</td><td style = \"text-align: left;\">Widowed</td><td style = \"text-align: left;\">F</td><td style = \"text-align: right;\">60000</td><td style = \"text-align: right;\">433</td><td style = \"text-align: right;\">376</td><td style = \"text-align: right;\">2.74023</td></tr><tr><td class = \"rowNumber\" style = \"font-weight: bold; text-align: right;\">634</td><td style = \"text-align: right;\">80</td><td style = \"text-align: left;\">Widowed</td><td style = \"text-align: left;\">F</td><td style = \"text-align: right;\">70000</td><td style = \"text-align: right;\">354</td><td style = \"text-align: right;\">375</td><td style = \"text-align: right;\">-1.11647</td></tr><tr><td class = \"rowNumber\" style = \"font-weight: bold; text-align: right;\">635</td><td style = \"text-align: right;\">80</td><td style = \"text-align: left;\">Widowed</td><td style = \"text-align: left;\">F</td><td style = \"text-align: right;\">80000</td><td style = \"text-align: right;\">374</td><td style = \"text-align: right;\">375</td><td style = \"text-align: right;\">-0.0517249</td></tr><tr><td class = \"rowNumber\" style = \"font-weight: bold; text-align: right;\">636</td><td style = \"text-align: right;\">80</td><td style = \"text-align: left;\">Widowed</td><td style = \"text-align: left;\">M</td><td style = \"text-align: right;\">40000</td><td style = \"text-align: right;\">357</td><td style = \"text-align: right;\">375</td><td style = \"text-align: right;\">-0.952945</td></tr><tr><td class = \"rowNumber\" style = \"font-weight: bold; text-align: right;\">637</td><td style = \"text-align: right;\">80</td><td style = \"text-align: left;\">Widowed</td><td style = \"text-align: left;\">M</td><td style = \"text-align: right;\">50000</td><td style = \"text-align: right;\">365</td><td style = \"text-align: right;\">372</td><td style = \"text-align: right;\">-0.366508</td></tr><tr><td class = \"rowNumber\" style = \"font-weight: bold; text-align: right;\">638</td><td style = \"text-align: right;\">80</td><td style = \"text-align: left;\">Widowed</td><td style = \"text-align: left;\">M</td><td style = \"text-align: right;\">60000</td><td style = \"text-align: right;\">359</td><td style = \"text-align: right;\">375</td><td style = \"text-align: right;\">-0.8447</td></tr><tr><td class = \"rowNumber\" style = \"font-weight: bold; text-align: right;\">639</td><td style = \"text-align: right;\">80</td><td style = \"text-align: left;\">Widowed</td><td style = \"text-align: left;\">M</td><td style = \"text-align: right;\">70000</td><td style = \"text-align: right;\">368</td><td style = \"text-align: right;\">373</td><td style = \"text-align: right;\">-0.260723</td></tr><tr><td class = \"rowNumber\" style = \"font-weight: bold; text-align: right;\">640</td><td style = \"text-align: right;\">80</td><td style = \"text-align: left;\">Widowed</td><td style = \"text-align: left;\">M</td><td style = \"text-align: right;\">80000</td><td style = \"text-align: right;\">363</td><td style = \"text-align: right;\">374</td><td style = \"text-align: right;\">-0.577525</td></tr></tbody></table></div>"
      ],
      "text/latex": [
       "\\begin{tabular}{r|ccccccc}\n",
       "\t& AGE & MARITAL\\_STATUS & SEX & INCOME & population & estimated\\_population & Z\\_score\\\\\n",
       "\t\\hline\n",
       "\t& Int64 & String & Char & Int64 & Int64 & Int64 & Float64\\\\\n",
       "\t\\hline\n",
       "\t1 & 5 & Divorced & F & 40000 & 423 & 379 & 2.14011 \\\\\n",
       "\t2 & 5 & Divorced & F & 50000 & 379 & 377 & 0.102766 \\\\\n",
       "\t3 & 5 & Divorced & F & 60000 & 382 & 379 & 0.153542 \\\\\n",
       "\t4 & 5 & Divorced & F & 70000 & 352 & 378 & -1.38621 \\\\\n",
       "\t5 & 5 & Divorced & F & 80000 & 393 & 378 & 0.756898 \\\\\n",
       "\t6 & 5 & Divorced & M & 40000 & 374 & 370 & 0.2069 \\\\\n",
       "\t7 & 5 & Divorced & M & 50000 & 359 & 368 & -0.475144 \\\\\n",
       "\t8 & 5 & Divorced & M & 60000 & 373 & 370 & 0.155382 \\\\\n",
       "\t9 & 5 & Divorced & M & 70000 & 359 & 368 & -0.475144 \\\\\n",
       "\t10 & 5 & Divorced & M & 80000 & 384 & 369 & 0.765711 \\\\\n",
       "\t11 & 5 & Married & F & 40000 & 1892 & 1907 & -0.345395 \\\\\n",
       "\t12 & 5 & Married & F & 50000 & 1895 & 1896 & -0.0230082 \\\\\n",
       "\t13 & 5 & Married & F & 60000 & 1901 & 1907 & -0.137832 \\\\\n",
       "\t14 & 5 & Married & F & 70000 & 1958 & 1901 & 1.29026 \\\\\n",
       "\t15 & 5 & Married & F & 80000 & 1845 & 1901 & -1.30575 \\\\\n",
       "\t16 & 5 & Married & M & 40000 & 1865 & 1858 & 0.162343 \\\\\n",
       "\t17 & 5 & Married & M & 50000 & 1845 & 1847 & -0.0466338 \\\\\n",
       "\t18 & 5 & Married & M & 60000 & 1864 & 1858 & 0.139189 \\\\\n",
       "\t19 & 5 & Married & M & 70000 & 1798 & 1852 & -1.27541 \\\\\n",
       "\t20 & 5 & Married & M & 80000 & 1883 & 1852 & 0.715516 \\\\\n",
       "\t21 & 5 & Not\\_married & F & 40000 & 1186 & 1149 & 1.07545 \\\\\n",
       "\t22 & 5 & Not\\_married & F & 50000 & 1106 & 1142 & -1.08349 \\\\\n",
       "\t23 & 5 & Not\\_married & F & 60000 & 1170 & 1149 & 0.61454 \\\\\n",
       "\t24 & 5 & Not\\_married & F & 70000 & 1098 & 1145 & -1.41969 \\\\\n",
       "\t25 & 5 & Not\\_married & F & 80000 & 1144 & 1145 & -0.0295938 \\\\\n",
       "\t26 & 5 & Not\\_married & M & 40000 & 1122 & 1118 & 0.119528 \\\\\n",
       "\t27 & 5 & Not\\_married & M & 50000 & 1047 & 1111 & -1.97964 \\\\\n",
       "\t28 & 5 & Not\\_married & M & 60000 & 1169 & 1118 & 1.49309 \\\\\n",
       "\t29 & 5 & Not\\_married & M & 70000 & 1115 & 1114 & 0.0299755 \\\\\n",
       "\t30 & 5 & Not\\_married & M & 80000 & 1083 & 1114 & -0.942844 \\\\\n",
       "\t$\\dots$ & $\\dots$ & $\\dots$ & $\\dots$ & $\\dots$ & $\\dots$ & $\\dots$ & $\\dots$ \\\\\n",
       "\\end{tabular}\n"
      ],
      "text/plain": [
       "\u001b[1m640×7 DataFrame\u001b[0m\n",
       "\u001b[1m Row \u001b[0m│\u001b[1m AGE   \u001b[0m\u001b[1m MARITAL_STATUS \u001b[0m\u001b[1m SEX  \u001b[0m\u001b[1m INCOME \u001b[0m\u001b[1m population \u001b[0m\u001b[1m estimated_population \u001b[0m\u001b[1m \u001b[0m ⋯\n",
       "     │\u001b[90m Int64 \u001b[0m\u001b[90m String         \u001b[0m\u001b[90m Char \u001b[0m\u001b[90m Int64  \u001b[0m\u001b[90m Int64      \u001b[0m\u001b[90m Int64                \u001b[0m\u001b[90m \u001b[0m ⋯\n",
       "─────┼──────────────────────────────────────────────────────────────────────────\n",
       "   1 │     5  Divorced        F      40000         423                   379   ⋯\n",
       "   2 │     5  Divorced        F      50000         379                   377\n",
       "   3 │     5  Divorced        F      60000         382                   379\n",
       "   4 │     5  Divorced        F      70000         352                   378\n",
       "   5 │     5  Divorced        F      80000         393                   378   ⋯\n",
       "   6 │     5  Divorced        M      40000         374                   370\n",
       "   7 │     5  Divorced        M      50000         359                   368\n",
       "   8 │     5  Divorced        M      60000         373                   370\n",
       "   9 │     5  Divorced        M      70000         359                   368   ⋯\n",
       "  10 │     5  Divorced        M      80000         384                   369\n",
       "  11 │     5  Married         F      40000        1892                  1907\n",
       "  ⋮  │   ⋮          ⋮          ⋮      ⋮         ⋮                ⋮             ⋱\n",
       " 631 │    80  Widowed         F      40000         384                   376\n",
       " 632 │    80  Widowed         F      50000         388                   374   ⋯\n",
       " 633 │    80  Widowed         F      60000         433                   376\n",
       " 634 │    80  Widowed         F      70000         354                   375\n",
       " 635 │    80  Widowed         F      80000         374                   375\n",
       " 636 │    80  Widowed         M      40000         357                   375   ⋯\n",
       " 637 │    80  Widowed         M      50000         365                   372\n",
       " 638 │    80  Widowed         M      60000         359                   375\n",
       " 639 │    80  Widowed         M      70000         368                   373\n",
       " 640 │    80  Widowed         M      80000         363                   374   ⋯\n",
       "\u001b[36m                                                   1 column and 619 rows omitted\u001b[0m"
      ]
     },
     "execution_count": 17,
     "metadata": {},
     "output_type": "execute_result"
    }
   ],
   "source": [
    "sort!(generated_aggregated_indep_population)\n",
    "sort!(independent_population)\n",
    "independent_population.:estimated_population = generated_aggregated_indep_population.:population\n",
    "\n",
    "p = independent_population.:population/sum(independent_population.:population)\n",
    "t = independent_population.:estimated_population/sum(independent_population.:population)\n",
    "N = sum(independent_population.:population)\n",
    "independent_population.:Z_score = (p .- t) ./ sqrt.((p .* (1 .- p)) ./ N)\n",
    "\n",
    "independent_population"
   ]
  },
  {
   "cell_type": "code",
   "execution_count": 18,
   "metadata": {},
   "outputs": [
    {
     "name": "stdout",
     "output_type": "stream",
     "text": [
      "Percentage of well fitting values: 0.959375\n",
      "Table does have good fit. Critical value is 640 and our calculated statistic has value: 582.668278043634"
     ]
    }
   ],
   "source": [
    "#percentage of well-fitting values\n",
    "wfv = count(i -> (-1.96<i<1.96), independent_population.Z_score) / nrow(independent_population)\n",
    "print(\"Percentage of well fitting values: \", wfv, \"\\n\")\n",
    "\n",
    "#does the table have a good fit?\n",
    "cv = sum(independent_population.Z_score .^ 2) #much more than critical value for chi2 with 640 degrees of freedem -> bad fit\n",
    "print(\"Table does have good fit. Critical value is 640 and our calculated statistic has value: \", cv)"
   ]
  }
 ],
 "metadata": {
  "kernelspec": {
   "display_name": "Julia 1.8.5",
   "language": "julia",
   "name": "julia-1.8"
  },
  "language_info": {
   "file_extension": ".jl",
   "mimetype": "application/julia",
   "name": "julia",
   "version": "1.8.5"
  }
 },
 "nbformat": 4,
 "nbformat_minor": 2
}
