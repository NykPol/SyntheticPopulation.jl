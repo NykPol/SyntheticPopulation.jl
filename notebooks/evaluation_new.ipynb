{
 "cells": [
  {
   "cell_type": "code",
   "execution_count": 43,
   "metadata": {},
   "outputs": [],
   "source": [
    "include(\"../src/SyntheticPopulation.jl\")"
   ]
  },
  {
   "cell_type": "markdown",
   "metadata": {},
   "source": [
    "# Summary:\n",
    "1. Sample-free IPF algorithm is well suited for creating joint distributions of the attributes that are independent (96% of cells fit well).\n",
    "2. Sample-free IPF algorithm is not so efficient for creating joint distributions of the attributes that are highly dependent (10% of cells fit well).\n",
    "3. To overcome the challenge, we provide a configurable config file which helps better adjust IPF algorithm. The config is described in another file."
   ]
  },
  {
   "cell_type": "markdown",
   "metadata": {},
   "source": [
    "# 1. Population with dependent variables"
   ]
  },
  {
   "cell_type": "markdown",
   "metadata": {},
   "source": [
    "### 1.1. Generate target population with dependent variables\n",
    "First we generate target population that we will treat as the real population which we'll try to synthesize using available algorithms. The variables maritial status and income are highly dependent on sex."
   ]
  },
  {
   "cell_type": "code",
   "execution_count": 44,
   "metadata": {},
   "outputs": [
    {
     "data": {
      "text/html": [
       "<div><div style = \"float: left;\"><span>640×5 DataFrame</span></div><div style = \"float: right;\"><span style = \"font-style: italic;\">615 rows omitted</span></div><div style = \"clear: both;\"></div></div><div class = \"data-frame\" style = \"overflow-x: scroll;\"><table class = \"data-frame\" style = \"margin-bottom: 6px;\"><thead><tr class = \"header\"><th class = \"rowNumber\" style = \"font-weight: bold; text-align: right;\">Row</th><th style = \"text-align: left;\">AGE</th><th style = \"text-align: left;\">MARITIAL_STATUS</th><th style = \"text-align: left;\">SEX</th><th style = \"text-align: left;\">INCOME</th><th style = \"text-align: left;\">population</th></tr><tr class = \"subheader headerLastRow\"><th class = \"rowNumber\" style = \"font-weight: bold; text-align: right;\"></th><th title = \"Int64\" style = \"text-align: left;\">Int64</th><th title = \"String\" style = \"text-align: left;\">String</th><th title = \"Char\" style = \"text-align: left;\">Char</th><th title = \"Int64\" style = \"text-align: left;\">Int64</th><th title = \"Int64\" style = \"text-align: left;\">Int64</th></tr></thead><tbody><tr><td class = \"rowNumber\" style = \"font-weight: bold; text-align: right;\">1</td><td style = \"text-align: right;\">5</td><td style = \"text-align: left;\">Divorced</td><td style = \"text-align: left;\">F</td><td style = \"text-align: right;\">40000</td><td style = \"text-align: right;\">1496</td></tr><tr><td class = \"rowNumber\" style = \"font-weight: bold; text-align: right;\">2</td><td style = \"text-align: right;\">10</td><td style = \"text-align: left;\">Divorced</td><td style = \"text-align: left;\">F</td><td style = \"text-align: right;\">40000</td><td style = \"text-align: right;\">1422</td></tr><tr><td class = \"rowNumber\" style = \"font-weight: bold; text-align: right;\">3</td><td style = \"text-align: right;\">15</td><td style = \"text-align: left;\">Divorced</td><td style = \"text-align: left;\">F</td><td style = \"text-align: right;\">40000</td><td style = \"text-align: right;\">1442</td></tr><tr><td class = \"rowNumber\" style = \"font-weight: bold; text-align: right;\">4</td><td style = \"text-align: right;\">20</td><td style = \"text-align: left;\">Divorced</td><td style = \"text-align: left;\">F</td><td style = \"text-align: right;\">40000</td><td style = \"text-align: right;\">1457</td></tr><tr><td class = \"rowNumber\" style = \"font-weight: bold; text-align: right;\">5</td><td style = \"text-align: right;\">25</td><td style = \"text-align: left;\">Divorced</td><td style = \"text-align: left;\">F</td><td style = \"text-align: right;\">40000</td><td style = \"text-align: right;\">1448</td></tr><tr><td class = \"rowNumber\" style = \"font-weight: bold; text-align: right;\">6</td><td style = \"text-align: right;\">30</td><td style = \"text-align: left;\">Divorced</td><td style = \"text-align: left;\">F</td><td style = \"text-align: right;\">40000</td><td style = \"text-align: right;\">1503</td></tr><tr><td class = \"rowNumber\" style = \"font-weight: bold; text-align: right;\">7</td><td style = \"text-align: right;\">35</td><td style = \"text-align: left;\">Divorced</td><td style = \"text-align: left;\">F</td><td style = \"text-align: right;\">40000</td><td style = \"text-align: right;\">1481</td></tr><tr><td class = \"rowNumber\" style = \"font-weight: bold; text-align: right;\">8</td><td style = \"text-align: right;\">40</td><td style = \"text-align: left;\">Divorced</td><td style = \"text-align: left;\">F</td><td style = \"text-align: right;\">40000</td><td style = \"text-align: right;\">1457</td></tr><tr><td class = \"rowNumber\" style = \"font-weight: bold; text-align: right;\">9</td><td style = \"text-align: right;\">45</td><td style = \"text-align: left;\">Divorced</td><td style = \"text-align: left;\">F</td><td style = \"text-align: right;\">40000</td><td style = \"text-align: right;\">1503</td></tr><tr><td class = \"rowNumber\" style = \"font-weight: bold; text-align: right;\">10</td><td style = \"text-align: right;\">50</td><td style = \"text-align: left;\">Divorced</td><td style = \"text-align: left;\">F</td><td style = \"text-align: right;\">40000</td><td style = \"text-align: right;\">1494</td></tr><tr><td class = \"rowNumber\" style = \"font-weight: bold; text-align: right;\">11</td><td style = \"text-align: right;\">55</td><td style = \"text-align: left;\">Divorced</td><td style = \"text-align: left;\">F</td><td style = \"text-align: right;\">40000</td><td style = \"text-align: right;\">1422</td></tr><tr><td class = \"rowNumber\" style = \"font-weight: bold; text-align: right;\">12</td><td style = \"text-align: right;\">60</td><td style = \"text-align: left;\">Divorced</td><td style = \"text-align: left;\">F</td><td style = \"text-align: right;\">40000</td><td style = \"text-align: right;\">1384</td></tr><tr><td class = \"rowNumber\" style = \"font-weight: bold; text-align: right;\">13</td><td style = \"text-align: right;\">65</td><td style = \"text-align: left;\">Divorced</td><td style = \"text-align: left;\">F</td><td style = \"text-align: right;\">40000</td><td style = \"text-align: right;\">1517</td></tr><tr><td style = \"text-align: right;\">&vellip;</td><td style = \"text-align: right;\">&vellip;</td><td style = \"text-align: right;\">&vellip;</td><td style = \"text-align: right;\">&vellip;</td><td style = \"text-align: right;\">&vellip;</td><td style = \"text-align: right;\">&vellip;</td></tr><tr><td class = \"rowNumber\" style = \"font-weight: bold; text-align: right;\">629</td><td style = \"text-align: right;\">25</td><td style = \"text-align: left;\">Widowed</td><td style = \"text-align: left;\">M</td><td style = \"text-align: right;\">80000</td><td style = \"text-align: right;\">2841</td></tr><tr><td class = \"rowNumber\" style = \"font-weight: bold; text-align: right;\">630</td><td style = \"text-align: right;\">30</td><td style = \"text-align: left;\">Widowed</td><td style = \"text-align: left;\">M</td><td style = \"text-align: right;\">80000</td><td style = \"text-align: right;\">2916</td></tr><tr><td class = \"rowNumber\" style = \"font-weight: bold; text-align: right;\">631</td><td style = \"text-align: right;\">35</td><td style = \"text-align: left;\">Widowed</td><td style = \"text-align: left;\">M</td><td style = \"text-align: right;\">80000</td><td style = \"text-align: right;\">2873</td></tr><tr><td class = \"rowNumber\" style = \"font-weight: bold; text-align: right;\">632</td><td style = \"text-align: right;\">40</td><td style = \"text-align: left;\">Widowed</td><td style = \"text-align: left;\">M</td><td style = \"text-align: right;\">80000</td><td style = \"text-align: right;\">2942</td></tr><tr><td class = \"rowNumber\" style = \"font-weight: bold; text-align: right;\">633</td><td style = \"text-align: right;\">45</td><td style = \"text-align: left;\">Widowed</td><td style = \"text-align: left;\">M</td><td style = \"text-align: right;\">80000</td><td style = \"text-align: right;\">2970</td></tr><tr><td class = \"rowNumber\" style = \"font-weight: bold; text-align: right;\">634</td><td style = \"text-align: right;\">50</td><td style = \"text-align: left;\">Widowed</td><td style = \"text-align: left;\">M</td><td style = \"text-align: right;\">80000</td><td style = \"text-align: right;\">2864</td></tr><tr><td class = \"rowNumber\" style = \"font-weight: bold; text-align: right;\">635</td><td style = \"text-align: right;\">55</td><td style = \"text-align: left;\">Widowed</td><td style = \"text-align: left;\">M</td><td style = \"text-align: right;\">80000</td><td style = \"text-align: right;\">3034</td></tr><tr><td class = \"rowNumber\" style = \"font-weight: bold; text-align: right;\">636</td><td style = \"text-align: right;\">60</td><td style = \"text-align: left;\">Widowed</td><td style = \"text-align: left;\">M</td><td style = \"text-align: right;\">80000</td><td style = \"text-align: right;\">2890</td></tr><tr><td class = \"rowNumber\" style = \"font-weight: bold; text-align: right;\">637</td><td style = \"text-align: right;\">65</td><td style = \"text-align: left;\">Widowed</td><td style = \"text-align: left;\">M</td><td style = \"text-align: right;\">80000</td><td style = \"text-align: right;\">2961</td></tr><tr><td class = \"rowNumber\" style = \"font-weight: bold; text-align: right;\">638</td><td style = \"text-align: right;\">70</td><td style = \"text-align: left;\">Widowed</td><td style = \"text-align: left;\">M</td><td style = \"text-align: right;\">80000</td><td style = \"text-align: right;\">2933</td></tr><tr><td class = \"rowNumber\" style = \"font-weight: bold; text-align: right;\">639</td><td style = \"text-align: right;\">75</td><td style = \"text-align: left;\">Widowed</td><td style = \"text-align: left;\">M</td><td style = \"text-align: right;\">80000</td><td style = \"text-align: right;\">2820</td></tr><tr><td class = \"rowNumber\" style = \"font-weight: bold; text-align: right;\">640</td><td style = \"text-align: right;\">80</td><td style = \"text-align: left;\">Widowed</td><td style = \"text-align: left;\">M</td><td style = \"text-align: right;\">80000</td><td style = \"text-align: right;\">2905</td></tr></tbody></table></div>"
      ],
      "text/latex": [
       "\\begin{tabular}{r|ccccc}\n",
       "\t& AGE & MARITIAL\\_STATUS & SEX & INCOME & population\\\\\n",
       "\t\\hline\n",
       "\t& Int64 & String & Char & Int64 & Int64\\\\\n",
       "\t\\hline\n",
       "\t1 & 5 & Divorced & F & 40000 & 1496 \\\\\n",
       "\t2 & 10 & Divorced & F & 40000 & 1422 \\\\\n",
       "\t3 & 15 & Divorced & F & 40000 & 1442 \\\\\n",
       "\t4 & 20 & Divorced & F & 40000 & 1457 \\\\\n",
       "\t5 & 25 & Divorced & F & 40000 & 1448 \\\\\n",
       "\t6 & 30 & Divorced & F & 40000 & 1503 \\\\\n",
       "\t7 & 35 & Divorced & F & 40000 & 1481 \\\\\n",
       "\t8 & 40 & Divorced & F & 40000 & 1457 \\\\\n",
       "\t9 & 45 & Divorced & F & 40000 & 1503 \\\\\n",
       "\t10 & 50 & Divorced & F & 40000 & 1494 \\\\\n",
       "\t11 & 55 & Divorced & F & 40000 & 1422 \\\\\n",
       "\t12 & 60 & Divorced & F & 40000 & 1384 \\\\\n",
       "\t13 & 65 & Divorced & F & 40000 & 1517 \\\\\n",
       "\t14 & 70 & Divorced & F & 40000 & 1514 \\\\\n",
       "\t15 & 75 & Divorced & F & 40000 & 1461 \\\\\n",
       "\t16 & 80 & Divorced & F & 40000 & 1477 \\\\\n",
       "\t17 & 5 & Married & F & 40000 & 2194 \\\\\n",
       "\t18 & 10 & Married & F & 40000 & 2250 \\\\\n",
       "\t19 & 15 & Married & F & 40000 & 2320 \\\\\n",
       "\t20 & 20 & Married & F & 40000 & 2206 \\\\\n",
       "\t21 & 25 & Married & F & 40000 & 2123 \\\\\n",
       "\t22 & 30 & Married & F & 40000 & 2180 \\\\\n",
       "\t23 & 35 & Married & F & 40000 & 2188 \\\\\n",
       "\t24 & 40 & Married & F & 40000 & 2227 \\\\\n",
       "\t$\\dots$ & $\\dots$ & $\\dots$ & $\\dots$ & $\\dots$ & $\\dots$ \\\\\n",
       "\\end{tabular}\n"
      ],
      "text/plain": [
       "\u001b[1m640×5 DataFrame\u001b[0m\n",
       "\u001b[1m Row \u001b[0m│\u001b[1m AGE   \u001b[0m\u001b[1m MARITIAL_STATUS \u001b[0m\u001b[1m SEX  \u001b[0m\u001b[1m INCOME \u001b[0m\u001b[1m population \u001b[0m\n",
       "     │\u001b[90m Int64 \u001b[0m\u001b[90m String          \u001b[0m\u001b[90m Char \u001b[0m\u001b[90m Int64  \u001b[0m\u001b[90m Int64      \u001b[0m\n",
       "─────┼──────────────────────────────────────────────────\n",
       "   1 │     5  Divorced         F      40000        1496\n",
       "   2 │    10  Divorced         F      40000        1422\n",
       "   3 │    15  Divorced         F      40000        1442\n",
       "   4 │    20  Divorced         F      40000        1457\n",
       "   5 │    25  Divorced         F      40000        1448\n",
       "   6 │    30  Divorced         F      40000        1503\n",
       "   7 │    35  Divorced         F      40000        1481\n",
       "   8 │    40  Divorced         F      40000        1457\n",
       "  ⋮  │   ⋮           ⋮          ⋮      ⋮         ⋮\n",
       " 634 │    50  Widowed          M      80000        2864\n",
       " 635 │    55  Widowed          M      80000        3034\n",
       " 636 │    60  Widowed          M      80000        2890\n",
       " 637 │    65  Widowed          M      80000        2961\n",
       " 638 │    70  Widowed          M      80000        2933\n",
       " 639 │    75  Widowed          M      80000        2820\n",
       " 640 │    80  Widowed          M      80000        2905\n",
       "\u001b[36m                                        625 rows omitted\u001b[0m"
      ]
     },
     "metadata": {},
     "output_type": "display_data"
    }
   ],
   "source": [
    "SIZE = 600000\n",
    "SEX = ['M', 'F']; SEX_WEIGHTS = [0.5, 0.5]\n",
    "MARITIAL_STATUS = [\"Not_married\", \"Married\", \"Divorced\", \"Widowed\"]; \n",
    "MARITIAL_WEIGHTS_M = [0.1, 0.2, 0.3, 0.4]; \n",
    "MARITIAL_WEIGHTS_F = [0.4, 0.3, 0.2, 0.1];\n",
    "AGE = [5, 10, 15, 20, 25, 30, 35, 40, 45, 50, 55, 60, 65, 70, 75, 80]; \n",
    "AGE_WEIGHTS = repeat([1 / 16], 16)\n",
    "INCOME = [40000, 50000, 60000, 70000, 80000]; \n",
    "INCOME_WEIGHTS_M = [0.01, 0.1, 0.2, 0.3, 0.39];\n",
    "INCOME_WEIGHTS_F = [0.39, 0.3, 0.2, 0.1, 0.01];\n",
    "\n",
    "\n",
    "using StatsBase\n",
    "population_m = DataFrame(\n",
    "    AGE = sample(AGE, Weights(AGE_WEIGHTS),Int(SIZE / 2)),\n",
    "    MARITIAL_STATUS = sample(MARITIAL_STATUS, Weights(MARITIAL_WEIGHTS_M), Int(SIZE / 2)),\n",
    "    SEX = repeat(['M'], Int(SIZE / 2)),\n",
    "    INCOME = sample(INCOME, Weights(INCOME_WEIGHTS_M), Int(SIZE / 2)),\n",
    ")\n",
    "population_f = DataFrame(\n",
    "    AGE = sample(AGE, Weights(AGE_WEIGHTS), Int(SIZE / 2)),\n",
    "    MARITIAL_STATUS = sample(MARITIAL_STATUS, Weights(MARITIAL_WEIGHTS_F), Int(SIZE / 2)),\n",
    "    SEX = repeat(['F'], Int(SIZE / 2)),\n",
    "    INCOME = sample(INCOME, Weights(INCOME_WEIGHTS_F), Int(SIZE / 2)),\n",
    ")\n",
    "disaggregated_dependent_population = reduce(vcat, [population_f, population_m])\n",
    "\n",
    "dependent_population = combine(groupby(disaggregated_dependent_population, names(disaggregated_dependent_population), sort=true), nrow)\n",
    "rename!(dependent_population, :nrow => :population)\n",
    "sort!(dependent_population, [:INCOME, :SEX, :MARITIAL_STATUS, :AGE])"
   ]
  },
  {
   "cell_type": "markdown",
   "metadata": {},
   "source": [
    "### 1.2. Compute marginal attribute distributions of the dependent population\n",
    "Then we compute the marginal population attributes. This is a type of data that we can usually get from the census data and will be input for our algorithms for population generation."
   ]
  },
  {
   "cell_type": "code",
   "execution_count": 45,
   "metadata": {},
   "outputs": [
    {
     "data": {
      "text/plain": [
       "3-element Vector{DataFrame}:\n",
       " \u001b[1m32×3 DataFrame\u001b[0m\n",
       "\u001b[1m Row \u001b[0m│\u001b[1m AGE   \u001b[0m\u001b[1m SEX  \u001b[0m\u001b[1m population \u001b[0m\n",
       "     │\u001b[90m Int64 \u001b[0m\u001b[90m Char \u001b[0m\u001b[90m Int64      \u001b[0m\n",
       "─────┼─────────────────────────\n",
       "   1 │     5  F          18782\n",
       "   2 │    10  F          18321\n",
       "   3 │    15  F          18719\n",
       "   4 │    20  F          18932\n",
       "   5 │    25  F          18443\n",
       "   6 │    30  F          18839\n",
       "   7 │    35  F          18703\n",
       "   8 │    40  F          18816\n",
       "  ⋮  │   ⋮     ⋮        ⋮\n",
       "  26 │    50  M          18649\n",
       "  27 │    55  M          18908\n",
       "  28 │    60  M          18876\n",
       "  29 │    65  M          18988\n",
       "  30 │    70  M          18826\n",
       "  31 │    75  M          18426\n",
       "  32 │    80  M          18535\n",
       "\u001b[36m                17 rows omitted\u001b[0m\n",
       " \u001b[1m8×3 DataFrame\u001b[0m\n",
       "\u001b[1m Row \u001b[0m│\u001b[1m MARITIAL_STATUS \u001b[0m\u001b[1m SEX  \u001b[0m\u001b[1m population \u001b[0m\n",
       "     │\u001b[90m String          \u001b[0m\u001b[90m Char \u001b[0m\u001b[90m Int64      \u001b[0m\n",
       "─────┼───────────────────────────────────\n",
       "   1 │ Divorced         F          59900\n",
       "   2 │ Married          F          89707\n",
       "   3 │ Not_married      F         120561\n",
       "   4 │ Widowed          F          29832\n",
       "   5 │ Divorced         M          90614\n",
       "   6 │ Married          M          60158\n",
       "   7 │ Not_married      M          29856\n",
       "   8 │ Widowed          M         119372\n",
       " \u001b[1m5×2 DataFrame\u001b[0m\n",
       "\u001b[1m Row \u001b[0m│\u001b[1m INCOME \u001b[0m\u001b[1m population \u001b[0m\n",
       "     │\u001b[90m Int64  \u001b[0m\u001b[90m Int64      \u001b[0m\n",
       "─────┼────────────────────\n",
       "   1 │  40000      120464\n",
       "   2 │  50000      119660\n",
       "   3 │  60000      120014\n",
       "   4 │  70000      119885\n",
       "   5 │  80000      119977"
      ]
     },
     "metadata": {},
     "output_type": "display_data"
    }
   ],
   "source": [
    "dependent_age_sex = combine(groupby(disaggregated_dependent_population, [:AGE, :SEX], sort=true), nrow); sort!(dependent_age_sex, [:SEX, :AGE])\n",
    "dependent_sex_maritial = combine(groupby(disaggregated_dependent_population, [:MARITIAL_STATUS, :SEX], sort=true), nrow); sort!(dependent_sex_maritial, [:SEX, :MARITIAL_STATUS])\n",
    "dependent_income = combine(groupby(disaggregated_dependent_population, [:INCOME], sort=true), nrow)\n",
    "dependent_age_sex, dependent_sex_maritial, dependent_income = map(x -> rename!(x, :nrow => :population), [dependent_age_sex, dependent_sex_maritial, dependent_income])"
   ]
  },
  {
   "cell_type": "markdown",
   "metadata": {},
   "source": [
    "### 1.3. Generate dependent population from marginals\n",
    "Then, we use our algorithm to estimate joint distribution of the marginal attributes. "
   ]
  },
  {
   "cell_type": "code",
   "execution_count": 46,
   "metadata": {},
   "outputs": [
    {
     "name": "stderr",
     "output_type": "stream",
     "text": [
      "┌ Info: Converged in 2 iterations.\n",
      "└ @ ProportionalFitting /Users/marcinzurek/.julia/packages/ProportionalFitting/gNJEu/src/ipf.jl:130\n",
      "┌ Info: Converged in 2 iterations.\n",
      "└ @ ProportionalFitting /Users/marcinzurek/.julia/packages/ProportionalFitting/gNJEu/src/ipf.jl:130\n",
      "┌ Info: Inconsistent target margins, converting `X` and `mar` to proportions. Margin totals: [600001, 600000]\n",
      "└ @ ProportionalFitting /Users/marcinzurek/.julia/packages/ProportionalFitting/gNJEu/src/ipf.jl:61\n",
      "┌ Info: Converged in 1 iterations.\n",
      "└ @ ProportionalFitting /Users/marcinzurek/.julia/packages/ProportionalFitting/gNJEu/src/ipf.jl:130\n"
     ]
    },
    {
     "data": {
      "text/html": [
       "<div><div style = \"float: left;\"><span>640×5 DataFrame</span></div><div style = \"float: right;\"><span style = \"font-style: italic;\">615 rows omitted</span></div><div style = \"clear: both;\"></div></div><div class = \"data-frame\" style = \"overflow-x: scroll;\"><table class = \"data-frame\" style = \"margin-bottom: 6px;\"><thead><tr class = \"header\"><th class = \"rowNumber\" style = \"font-weight: bold; text-align: right;\">Row</th><th style = \"text-align: left;\">AGE</th><th style = \"text-align: left;\">MARITIAL_STATUS</th><th style = \"text-align: left;\">SEX</th><th style = \"text-align: left;\">INCOME</th><th style = \"text-align: left;\">population</th></tr><tr class = \"subheader headerLastRow\"><th class = \"rowNumber\" style = \"font-weight: bold; text-align: right;\"></th><th title = \"Int64\" style = \"text-align: left;\">Int64</th><th title = \"String\" style = \"text-align: left;\">String</th><th title = \"Char\" style = \"text-align: left;\">Char</th><th title = \"Int64\" style = \"text-align: left;\">Int64</th><th title = \"Int64\" style = \"text-align: left;\">Int64</th></tr></thead><tbody><tr><td class = \"rowNumber\" style = \"font-weight: bold; text-align: right;\">1</td><td style = \"text-align: right;\">5</td><td style = \"text-align: left;\">Divorced</td><td style = \"text-align: left;\">F</td><td style = \"text-align: right;\">40000</td><td style = \"text-align: right;\">753</td></tr><tr><td class = \"rowNumber\" style = \"font-weight: bold; text-align: right;\">2</td><td style = \"text-align: right;\">10</td><td style = \"text-align: left;\">Divorced</td><td style = \"text-align: left;\">F</td><td style = \"text-align: right;\">40000</td><td style = \"text-align: right;\">734</td></tr><tr><td class = \"rowNumber\" style = \"font-weight: bold; text-align: right;\">3</td><td style = \"text-align: right;\">15</td><td style = \"text-align: left;\">Divorced</td><td style = \"text-align: left;\">F</td><td style = \"text-align: right;\">40000</td><td style = \"text-align: right;\">750</td></tr><tr><td class = \"rowNumber\" style = \"font-weight: bold; text-align: right;\">4</td><td style = \"text-align: right;\">20</td><td style = \"text-align: left;\">Divorced</td><td style = \"text-align: left;\">F</td><td style = \"text-align: right;\">40000</td><td style = \"text-align: right;\">759</td></tr><tr><td class = \"rowNumber\" style = \"font-weight: bold; text-align: right;\">5</td><td style = \"text-align: right;\">25</td><td style = \"text-align: left;\">Divorced</td><td style = \"text-align: left;\">F</td><td style = \"text-align: right;\">40000</td><td style = \"text-align: right;\">739</td></tr><tr><td class = \"rowNumber\" style = \"font-weight: bold; text-align: right;\">6</td><td style = \"text-align: right;\">30</td><td style = \"text-align: left;\">Divorced</td><td style = \"text-align: left;\">F</td><td style = \"text-align: right;\">40000</td><td style = \"text-align: right;\">755</td></tr><tr><td class = \"rowNumber\" style = \"font-weight: bold; text-align: right;\">7</td><td style = \"text-align: right;\">35</td><td style = \"text-align: left;\">Divorced</td><td style = \"text-align: left;\">F</td><td style = \"text-align: right;\">40000</td><td style = \"text-align: right;\">750</td></tr><tr><td class = \"rowNumber\" style = \"font-weight: bold; text-align: right;\">8</td><td style = \"text-align: right;\">40</td><td style = \"text-align: left;\">Divorced</td><td style = \"text-align: left;\">F</td><td style = \"text-align: right;\">40000</td><td style = \"text-align: right;\">754</td></tr><tr><td class = \"rowNumber\" style = \"font-weight: bold; text-align: right;\">9</td><td style = \"text-align: right;\">45</td><td style = \"text-align: left;\">Divorced</td><td style = \"text-align: left;\">F</td><td style = \"text-align: right;\">40000</td><td style = \"text-align: right;\">763</td></tr><tr><td class = \"rowNumber\" style = \"font-weight: bold; text-align: right;\">10</td><td style = \"text-align: right;\">50</td><td style = \"text-align: left;\">Divorced</td><td style = \"text-align: left;\">F</td><td style = \"text-align: right;\">40000</td><td style = \"text-align: right;\">765</td></tr><tr><td class = \"rowNumber\" style = \"font-weight: bold; text-align: right;\">11</td><td style = \"text-align: right;\">55</td><td style = \"text-align: left;\">Divorced</td><td style = \"text-align: left;\">F</td><td style = \"text-align: right;\">40000</td><td style = \"text-align: right;\">752</td></tr><tr><td class = \"rowNumber\" style = \"font-weight: bold; text-align: right;\">12</td><td style = \"text-align: right;\">60</td><td style = \"text-align: left;\">Divorced</td><td style = \"text-align: left;\">F</td><td style = \"text-align: right;\">40000</td><td style = \"text-align: right;\">747</td></tr><tr><td class = \"rowNumber\" style = \"font-weight: bold; text-align: right;\">13</td><td style = \"text-align: right;\">65</td><td style = \"text-align: left;\">Divorced</td><td style = \"text-align: left;\">F</td><td style = \"text-align: right;\">40000</td><td style = \"text-align: right;\">758</td></tr><tr><td style = \"text-align: right;\">&vellip;</td><td style = \"text-align: right;\">&vellip;</td><td style = \"text-align: right;\">&vellip;</td><td style = \"text-align: right;\">&vellip;</td><td style = \"text-align: right;\">&vellip;</td><td style = \"text-align: right;\">&vellip;</td></tr><tr><td class = \"rowNumber\" style = \"font-weight: bold; text-align: right;\">629</td><td style = \"text-align: right;\">25</td><td style = \"text-align: left;\">Widowed</td><td style = \"text-align: left;\">M</td><td style = \"text-align: right;\">80000</td><td style = \"text-align: right;\">1497</td></tr><tr><td class = \"rowNumber\" style = \"font-weight: bold; text-align: right;\">630</td><td style = \"text-align: right;\">30</td><td style = \"text-align: left;\">Widowed</td><td style = \"text-align: left;\">M</td><td style = \"text-align: right;\">80000</td><td style = \"text-align: right;\">1485</td></tr><tr><td class = \"rowNumber\" style = \"font-weight: bold; text-align: right;\">631</td><td style = \"text-align: right;\">35</td><td style = \"text-align: left;\">Widowed</td><td style = \"text-align: left;\">M</td><td style = \"text-align: right;\">80000</td><td style = \"text-align: right;\">1483</td></tr><tr><td class = \"rowNumber\" style = \"font-weight: bold; text-align: right;\">632</td><td style = \"text-align: right;\">40</td><td style = \"text-align: left;\">Widowed</td><td style = \"text-align: left;\">M</td><td style = \"text-align: right;\">80000</td><td style = \"text-align: right;\">1492</td></tr><tr><td class = \"rowNumber\" style = \"font-weight: bold; text-align: right;\">633</td><td style = \"text-align: right;\">45</td><td style = \"text-align: left;\">Widowed</td><td style = \"text-align: left;\">M</td><td style = \"text-align: right;\">80000</td><td style = \"text-align: right;\">1473</td></tr><tr><td class = \"rowNumber\" style = \"font-weight: bold; text-align: right;\">634</td><td style = \"text-align: right;\">50</td><td style = \"text-align: left;\">Widowed</td><td style = \"text-align: left;\">M</td><td style = \"text-align: right;\">80000</td><td style = \"text-align: right;\">1484</td></tr><tr><td class = \"rowNumber\" style = \"font-weight: bold; text-align: right;\">635</td><td style = \"text-align: right;\">55</td><td style = \"text-align: left;\">Widowed</td><td style = \"text-align: left;\">M</td><td style = \"text-align: right;\">80000</td><td style = \"text-align: right;\">1505</td></tr><tr><td class = \"rowNumber\" style = \"font-weight: bold; text-align: right;\">636</td><td style = \"text-align: right;\">60</td><td style = \"text-align: left;\">Widowed</td><td style = \"text-align: left;\">M</td><td style = \"text-align: right;\">80000</td><td style = \"text-align: right;\">1502</td></tr><tr><td class = \"rowNumber\" style = \"font-weight: bold; text-align: right;\">637</td><td style = \"text-align: right;\">65</td><td style = \"text-align: left;\">Widowed</td><td style = \"text-align: left;\">M</td><td style = \"text-align: right;\">80000</td><td style = \"text-align: right;\">1511</td></tr><tr><td class = \"rowNumber\" style = \"font-weight: bold; text-align: right;\">638</td><td style = \"text-align: right;\">70</td><td style = \"text-align: left;\">Widowed</td><td style = \"text-align: left;\">M</td><td style = \"text-align: right;\">80000</td><td style = \"text-align: right;\">1498</td></tr><tr><td class = \"rowNumber\" style = \"font-weight: bold; text-align: right;\">639</td><td style = \"text-align: right;\">75</td><td style = \"text-align: left;\">Widowed</td><td style = \"text-align: left;\">M</td><td style = \"text-align: right;\">80000</td><td style = \"text-align: right;\">1466</td></tr><tr><td class = \"rowNumber\" style = \"font-weight: bold; text-align: right;\">640</td><td style = \"text-align: right;\">80</td><td style = \"text-align: left;\">Widowed</td><td style = \"text-align: left;\">M</td><td style = \"text-align: right;\">80000</td><td style = \"text-align: right;\">1475</td></tr></tbody></table></div>"
      ],
      "text/latex": [
       "\\begin{tabular}{r|ccccc}\n",
       "\t& AGE & MARITIAL\\_STATUS & SEX & INCOME & population\\\\\n",
       "\t\\hline\n",
       "\t& Int64 & String & Char & Int64 & Int64\\\\\n",
       "\t\\hline\n",
       "\t1 & 5 & Divorced & F & 40000 & 753 \\\\\n",
       "\t2 & 10 & Divorced & F & 40000 & 734 \\\\\n",
       "\t3 & 15 & Divorced & F & 40000 & 750 \\\\\n",
       "\t4 & 20 & Divorced & F & 40000 & 759 \\\\\n",
       "\t5 & 25 & Divorced & F & 40000 & 739 \\\\\n",
       "\t6 & 30 & Divorced & F & 40000 & 755 \\\\\n",
       "\t7 & 35 & Divorced & F & 40000 & 750 \\\\\n",
       "\t8 & 40 & Divorced & F & 40000 & 754 \\\\\n",
       "\t9 & 45 & Divorced & F & 40000 & 763 \\\\\n",
       "\t10 & 50 & Divorced & F & 40000 & 765 \\\\\n",
       "\t11 & 55 & Divorced & F & 40000 & 752 \\\\\n",
       "\t12 & 60 & Divorced & F & 40000 & 747 \\\\\n",
       "\t13 & 65 & Divorced & F & 40000 & 758 \\\\\n",
       "\t14 & 70 & Divorced & F & 40000 & 747 \\\\\n",
       "\t15 & 75 & Divorced & F & 40000 & 752 \\\\\n",
       "\t16 & 80 & Divorced & F & 40000 & 746 \\\\\n",
       "\t17 & 5 & Married & F & 40000 & 1128 \\\\\n",
       "\t18 & 10 & Married & F & 40000 & 1100 \\\\\n",
       "\t19 & 15 & Married & F & 40000 & 1124 \\\\\n",
       "\t20 & 20 & Married & F & 40000 & 1137 \\\\\n",
       "\t21 & 25 & Married & F & 40000 & 1107 \\\\\n",
       "\t22 & 30 & Married & F & 40000 & 1131 \\\\\n",
       "\t23 & 35 & Married & F & 40000 & 1123 \\\\\n",
       "\t24 & 40 & Married & F & 40000 & 1130 \\\\\n",
       "\t$\\dots$ & $\\dots$ & $\\dots$ & $\\dots$ & $\\dots$ & $\\dots$ \\\\\n",
       "\\end{tabular}\n"
      ],
      "text/plain": [
       "\u001b[1m640×5 DataFrame\u001b[0m\n",
       "\u001b[1m Row \u001b[0m│\u001b[1m AGE   \u001b[0m\u001b[1m MARITIAL_STATUS \u001b[0m\u001b[1m SEX  \u001b[0m\u001b[1m INCOME \u001b[0m\u001b[1m population \u001b[0m\n",
       "     │\u001b[90m Int64 \u001b[0m\u001b[90m String          \u001b[0m\u001b[90m Char \u001b[0m\u001b[90m Int64  \u001b[0m\u001b[90m Int64      \u001b[0m\n",
       "─────┼──────────────────────────────────────────────────\n",
       "   1 │     5  Divorced         F      40000         753\n",
       "   2 │    10  Divorced         F      40000         734\n",
       "   3 │    15  Divorced         F      40000         750\n",
       "   4 │    20  Divorced         F      40000         759\n",
       "   5 │    25  Divorced         F      40000         739\n",
       "   6 │    30  Divorced         F      40000         755\n",
       "   7 │    35  Divorced         F      40000         750\n",
       "   8 │    40  Divorced         F      40000         754\n",
       "  ⋮  │   ⋮           ⋮          ⋮      ⋮         ⋮\n",
       " 634 │    50  Widowed          M      80000        1484\n",
       " 635 │    55  Widowed          M      80000        1505\n",
       " 636 │    60  Widowed          M      80000        1502\n",
       " 637 │    65  Widowed          M      80000        1511\n",
       " 638 │    70  Widowed          M      80000        1498\n",
       " 639 │    75  Widowed          M      80000        1466\n",
       " 640 │    80  Widowed          M      80000        1475\n",
       "\u001b[36m                                        625 rows omitted\u001b[0m"
      ]
     },
     "metadata": {},
     "output_type": "display_data"
    }
   ],
   "source": [
    "#dependent population\n",
    "generated_dependent_aggregated_population = generate_joint_distributions(dependent_age_sex, dependent_sex_maritial, dependent_income)\n",
    "generated_dependent_aggregated_population = generated_dependent_aggregated_population[:, Not(:id)]"
   ]
  },
  {
   "cell_type": "markdown",
   "metadata": {},
   "source": [
    "### 1.4. Evaluation of fit of generated dependent population.\n",
    "Finally, we evaluate if the generated population is correct. We use approach based on Z-score described by Edwards, Tanton, 2013 [1].\n",
    "\n",
    "\n",
    "[1] Edwards, K. L., & Tanton, R. (2013). Validation of spatial microsimulation models. Spatial microsimulation: A reference guide for users, 249-258. https://ndl.ethernet.edu.et/bitstream/123456789/14722/1/205.pdf#page=38"
   ]
  },
  {
   "cell_type": "code",
   "execution_count": 47,
   "metadata": {},
   "outputs": [
    {
     "data": {
      "text/html": [
       "<div><div style = \"float: left;\"><span>640×7 DataFrame</span></div><div style = \"float: right;\"><span style = \"font-style: italic;\">615 rows omitted</span></div><div style = \"clear: both;\"></div></div><div class = \"data-frame\" style = \"overflow-x: scroll;\"><table class = \"data-frame\" style = \"margin-bottom: 6px;\"><thead><tr class = \"header\"><th class = \"rowNumber\" style = \"font-weight: bold; text-align: right;\">Row</th><th style = \"text-align: left;\">AGE</th><th style = \"text-align: left;\">MARITIAL_STATUS</th><th style = \"text-align: left;\">SEX</th><th style = \"text-align: left;\">INCOME</th><th style = \"text-align: left;\">population</th><th style = \"text-align: left;\">estimated_population</th><th style = \"text-align: left;\">Z_score</th></tr><tr class = \"subheader headerLastRow\"><th class = \"rowNumber\" style = \"font-weight: bold; text-align: right;\"></th><th title = \"Int64\" style = \"text-align: left;\">Int64</th><th title = \"String\" style = \"text-align: left;\">String</th><th title = \"Char\" style = \"text-align: left;\">Char</th><th title = \"Int64\" style = \"text-align: left;\">Int64</th><th title = \"Int64\" style = \"text-align: left;\">Int64</th><th title = \"Int64\" style = \"text-align: left;\">Int64</th><th title = \"Float64\" style = \"text-align: left;\">Float64</th></tr></thead><tbody><tr><td class = \"rowNumber\" style = \"font-weight: bold; text-align: right;\">1</td><td style = \"text-align: right;\">5</td><td style = \"text-align: left;\">Divorced</td><td style = \"text-align: left;\">F</td><td style = \"text-align: right;\">40000</td><td style = \"text-align: right;\">1496</td><td style = \"text-align: right;\">753</td><td style = \"text-align: right;\">19.2338</td></tr><tr><td class = \"rowNumber\" style = \"font-weight: bold; text-align: right;\">2</td><td style = \"text-align: right;\">5</td><td style = \"text-align: left;\">Divorced</td><td style = \"text-align: left;\">F</td><td style = \"text-align: right;\">50000</td><td style = \"text-align: right;\">1103</td><td style = \"text-align: right;\">748</td><td style = \"text-align: right;\">10.6989</td></tr><tr><td class = \"rowNumber\" style = \"font-weight: bold; text-align: right;\">3</td><td style = \"text-align: right;\">5</td><td style = \"text-align: left;\">Divorced</td><td style = \"text-align: left;\">F</td><td style = \"text-align: right;\">60000</td><td style = \"text-align: right;\">744</td><td style = \"text-align: right;\">750</td><td style = \"text-align: right;\">-0.220107</td></tr><tr><td class = \"rowNumber\" style = \"font-weight: bold; text-align: right;\">4</td><td style = \"text-align: right;\">5</td><td style = \"text-align: left;\">Divorced</td><td style = \"text-align: left;\">F</td><td style = \"text-align: right;\">70000</td><td style = \"text-align: right;\">381</td><td style = \"text-align: right;\">749</td><td style = \"text-align: right;\">-18.8592</td></tr><tr><td class = \"rowNumber\" style = \"font-weight: bold; text-align: right;\">5</td><td style = \"text-align: right;\">5</td><td style = \"text-align: left;\">Divorced</td><td style = \"text-align: left;\">F</td><td style = \"text-align: right;\">80000</td><td style = \"text-align: right;\">33</td><td style = \"text-align: right;\">750</td><td style = \"text-align: right;\">-124.817</td></tr><tr><td class = \"rowNumber\" style = \"font-weight: bold; text-align: right;\">6</td><td style = \"text-align: right;\">5</td><td style = \"text-align: left;\">Divorced</td><td style = \"text-align: left;\">M</td><td style = \"text-align: right;\">40000</td><td style = \"text-align: right;\">61</td><td style = \"text-align: right;\">1139</td><td style = \"text-align: right;\">-138.031</td></tr><tr><td class = \"rowNumber\" style = \"font-weight: bold; text-align: right;\">7</td><td style = \"text-align: right;\">5</td><td style = \"text-align: left;\">Divorced</td><td style = \"text-align: left;\">M</td><td style = \"text-align: right;\">50000</td><td style = \"text-align: right;\">587</td><td style = \"text-align: right;\">1132</td><td style = \"text-align: right;\">-22.5056</td></tr><tr><td class = \"rowNumber\" style = \"font-weight: bold; text-align: right;\">8</td><td style = \"text-align: right;\">5</td><td style = \"text-align: left;\">Divorced</td><td style = \"text-align: left;\">M</td><td style = \"text-align: right;\">60000</td><td style = \"text-align: right;\">1119</td><td style = \"text-align: right;\">1135</td><td style = \"text-align: right;\">-0.478752</td></tr><tr><td class = \"rowNumber\" style = \"font-weight: bold; text-align: right;\">9</td><td style = \"text-align: right;\">5</td><td style = \"text-align: left;\">Divorced</td><td style = \"text-align: left;\">M</td><td style = \"text-align: right;\">70000</td><td style = \"text-align: right;\">1769</td><td style = \"text-align: right;\">1134</td><td style = \"text-align: right;\">15.12</td></tr><tr><td class = \"rowNumber\" style = \"font-weight: bold; text-align: right;\">10</td><td style = \"text-align: right;\">5</td><td style = \"text-align: left;\">Divorced</td><td style = \"text-align: left;\">M</td><td style = \"text-align: right;\">80000</td><td style = \"text-align: right;\">2143</td><td style = \"text-align: right;\">1135</td><td style = \"text-align: right;\">21.8136</td></tr><tr><td class = \"rowNumber\" style = \"font-weight: bold; text-align: right;\">11</td><td style = \"text-align: right;\">5</td><td style = \"text-align: left;\">Married</td><td style = \"text-align: left;\">F</td><td style = \"text-align: right;\">40000</td><td style = \"text-align: right;\">2194</td><td style = \"text-align: right;\">1128</td><td style = \"text-align: right;\">22.8</td></tr><tr><td class = \"rowNumber\" style = \"font-weight: bold; text-align: right;\">12</td><td style = \"text-align: right;\">5</td><td style = \"text-align: left;\">Married</td><td style = \"text-align: left;\">F</td><td style = \"text-align: right;\">50000</td><td style = \"text-align: right;\">1619</td><td style = \"text-align: right;\">1120</td><td style = \"text-align: right;\">12.4183</td></tr><tr><td class = \"rowNumber\" style = \"font-weight: bold; text-align: right;\">13</td><td style = \"text-align: right;\">5</td><td style = \"text-align: left;\">Married</td><td style = \"text-align: left;\">F</td><td style = \"text-align: right;\">60000</td><td style = \"text-align: right;\">1083</td><td style = \"text-align: right;\">1123</td><td style = \"text-align: right;\">-1.21657</td></tr><tr><td style = \"text-align: right;\">&vellip;</td><td style = \"text-align: right;\">&vellip;</td><td style = \"text-align: right;\">&vellip;</td><td style = \"text-align: right;\">&vellip;</td><td style = \"text-align: right;\">&vellip;</td><td style = \"text-align: right;\">&vellip;</td><td style = \"text-align: right;\">&vellip;</td><td style = \"text-align: right;\">&vellip;</td></tr><tr><td class = \"rowNumber\" style = \"font-weight: bold; text-align: right;\">629</td><td style = \"text-align: right;\">80</td><td style = \"text-align: left;\">Not_married</td><td style = \"text-align: left;\">M</td><td style = \"text-align: right;\">70000</td><td style = \"text-align: right;\">533</td><td style = \"text-align: right;\">369</td><td style = \"text-align: right;\">7.10679</td></tr><tr><td class = \"rowNumber\" style = \"font-weight: bold; text-align: right;\">630</td><td style = \"text-align: right;\">80</td><td style = \"text-align: left;\">Not_married</td><td style = \"text-align: left;\">M</td><td style = \"text-align: right;\">80000</td><td style = \"text-align: right;\">711</td><td style = \"text-align: right;\">369</td><td style = \"text-align: right;\">12.8336</td></tr><tr><td class = \"rowNumber\" style = \"font-weight: bold; text-align: right;\">631</td><td style = \"text-align: right;\">80</td><td style = \"text-align: left;\">Widowed</td><td style = \"text-align: left;\">F</td><td style = \"text-align: right;\">40000</td><td style = \"text-align: right;\">730</td><td style = \"text-align: right;\">372</td><td style = \"text-align: right;\">13.2582</td></tr><tr><td class = \"rowNumber\" style = \"font-weight: bold; text-align: right;\">632</td><td style = \"text-align: right;\">80</td><td style = \"text-align: left;\">Widowed</td><td style = \"text-align: left;\">F</td><td style = \"text-align: right;\">50000</td><td style = \"text-align: right;\">612</td><td style = \"text-align: right;\">369</td><td style = \"text-align: right;\">9.82771</td></tr><tr><td class = \"rowNumber\" style = \"font-weight: bold; text-align: right;\">633</td><td style = \"text-align: right;\">80</td><td style = \"text-align: left;\">Widowed</td><td style = \"text-align: left;\">F</td><td style = \"text-align: right;\">60000</td><td style = \"text-align: right;\">337</td><td style = \"text-align: right;\">370</td><td style = \"text-align: right;\">-1.79813</td></tr><tr><td class = \"rowNumber\" style = \"font-weight: bold; text-align: right;\">634</td><td style = \"text-align: right;\">80</td><td style = \"text-align: left;\">Widowed</td><td style = \"text-align: left;\">F</td><td style = \"text-align: right;\">70000</td><td style = \"text-align: right;\">178</td><td style = \"text-align: right;\">370</td><td style = \"text-align: right;\">-14.3931</td></tr><tr><td class = \"rowNumber\" style = \"font-weight: bold; text-align: right;\">635</td><td style = \"text-align: right;\">80</td><td style = \"text-align: left;\">Widowed</td><td style = \"text-align: left;\">F</td><td style = \"text-align: right;\">80000</td><td style = \"text-align: right;\">19</td><td style = \"text-align: right;\">370</td><td style = \"text-align: right;\">-80.5262</td></tr><tr><td class = \"rowNumber\" style = \"font-weight: bold; text-align: right;\">636</td><td style = \"text-align: right;\">80</td><td style = \"text-align: left;\">Widowed</td><td style = \"text-align: left;\">M</td><td style = \"text-align: right;\">40000</td><td style = \"text-align: right;\">72</td><td style = \"text-align: right;\">1481</td><td style = \"text-align: right;\">-166.062</td></tr><tr><td class = \"rowNumber\" style = \"font-weight: bold; text-align: right;\">637</td><td style = \"text-align: right;\">80</td><td style = \"text-align: left;\">Widowed</td><td style = \"text-align: left;\">M</td><td style = \"text-align: right;\">50000</td><td style = \"text-align: right;\">779</td><td style = \"text-align: right;\">1471</td><td style = \"text-align: right;\">-24.8096</td></tr><tr><td class = \"rowNumber\" style = \"font-weight: bold; text-align: right;\">638</td><td style = \"text-align: right;\">80</td><td style = \"text-align: left;\">Widowed</td><td style = \"text-align: left;\">M</td><td style = \"text-align: right;\">60000</td><td style = \"text-align: right;\">1502</td><td style = \"text-align: right;\">1475</td><td style = \"text-align: right;\">0.697546</td></tr><tr><td class = \"rowNumber\" style = \"font-weight: bold; text-align: right;\">639</td><td style = \"text-align: right;\">80</td><td style = \"text-align: left;\">Widowed</td><td style = \"text-align: left;\">M</td><td style = \"text-align: right;\">70000</td><td style = \"text-align: right;\">2187</td><td style = \"text-align: right;\">1474</td><td style = \"text-align: right;\">15.2742</td></tr><tr><td class = \"rowNumber\" style = \"font-weight: bold; text-align: right;\">640</td><td style = \"text-align: right;\">80</td><td style = \"text-align: left;\">Widowed</td><td style = \"text-align: left;\">M</td><td style = \"text-align: right;\">80000</td><td style = \"text-align: right;\">2905</td><td style = \"text-align: right;\">1475</td><td style = \"text-align: right;\">26.596</td></tr></tbody></table></div>"
      ],
      "text/latex": [
       "\\begin{tabular}{r|ccccccc}\n",
       "\t& AGE & MARITIAL\\_STATUS & SEX & INCOME & population & estimated\\_population & Z\\_score\\\\\n",
       "\t\\hline\n",
       "\t& Int64 & String & Char & Int64 & Int64 & Int64 & Float64\\\\\n",
       "\t\\hline\n",
       "\t1 & 5 & Divorced & F & 40000 & 1496 & 753 & 19.2338 \\\\\n",
       "\t2 & 5 & Divorced & F & 50000 & 1103 & 748 & 10.6989 \\\\\n",
       "\t3 & 5 & Divorced & F & 60000 & 744 & 750 & -0.220107 \\\\\n",
       "\t4 & 5 & Divorced & F & 70000 & 381 & 749 & -18.8592 \\\\\n",
       "\t5 & 5 & Divorced & F & 80000 & 33 & 750 & -124.817 \\\\\n",
       "\t6 & 5 & Divorced & M & 40000 & 61 & 1139 & -138.031 \\\\\n",
       "\t7 & 5 & Divorced & M & 50000 & 587 & 1132 & -22.5056 \\\\\n",
       "\t8 & 5 & Divorced & M & 60000 & 1119 & 1135 & -0.478752 \\\\\n",
       "\t9 & 5 & Divorced & M & 70000 & 1769 & 1134 & 15.12 \\\\\n",
       "\t10 & 5 & Divorced & M & 80000 & 2143 & 1135 & 21.8136 \\\\\n",
       "\t11 & 5 & Married & F & 40000 & 2194 & 1128 & 22.8 \\\\\n",
       "\t12 & 5 & Married & F & 50000 & 1619 & 1120 & 12.4183 \\\\\n",
       "\t13 & 5 & Married & F & 60000 & 1083 & 1123 & -1.21657 \\\\\n",
       "\t14 & 5 & Married & F & 70000 & 561 & 1122 & -23.6965 \\\\\n",
       "\t15 & 5 & Married & F & 80000 & 48 & 1123 & -155.169 \\\\\n",
       "\t16 & 5 & Married & M & 40000 & 44 & 756 & -107.342 \\\\\n",
       "\t17 & 5 & Married & M & 50000 & 405 & 751 & -17.1987 \\\\\n",
       "\t18 & 5 & Married & M & 60000 & 778 & 753 & 0.896875 \\\\\n",
       "\t19 & 5 & Married & M & 70000 & 1108 & 753 & 10.6748 \\\\\n",
       "\t20 & 5 & Married & M & 80000 & 1471 & 753 & 18.7435 \\\\\n",
       "\t21 & 5 & Not\\_married & F & 40000 & 2978 & 1515 & 26.8759 \\\\\n",
       "\t22 & 5 & Not\\_married & F & 50000 & 2291 & 1505 & 16.4528 \\\\\n",
       "\t23 & 5 & Not\\_married & F & 60000 & 1528 & 1510 & 0.461068 \\\\\n",
       "\t24 & 5 & Not\\_married & F & 70000 & 761 & 1508 & -27.0959 \\\\\n",
       "\t$\\dots$ & $\\dots$ & $\\dots$ & $\\dots$ & $\\dots$ & $\\dots$ & $\\dots$ & $\\dots$ \\\\\n",
       "\\end{tabular}\n"
      ],
      "text/plain": [
       "\u001b[1m640×7 DataFrame\u001b[0m\n",
       "\u001b[1m Row \u001b[0m│\u001b[1m AGE   \u001b[0m\u001b[1m MARITIAL_STATUS \u001b[0m\u001b[1m SEX  \u001b[0m\u001b[1m INCOME \u001b[0m\u001b[1m population \u001b[0m\u001b[1m estimated_population \u001b[0m\u001b[1m\u001b[0m ⋯\n",
       "     │\u001b[90m Int64 \u001b[0m\u001b[90m String          \u001b[0m\u001b[90m Char \u001b[0m\u001b[90m Int64  \u001b[0m\u001b[90m Int64      \u001b[0m\u001b[90m Int64                \u001b[0m\u001b[90m\u001b[0m ⋯\n",
       "─────┼──────────────────────────────────────────────────────────────────────────\n",
       "   1 │     5  Divorced         F      40000        1496                   753  ⋯\n",
       "   2 │     5  Divorced         F      50000        1103                   748\n",
       "   3 │     5  Divorced         F      60000         744                   750\n",
       "   4 │     5  Divorced         F      70000         381                   749\n",
       "   5 │     5  Divorced         F      80000          33                   750  ⋯\n",
       "   6 │     5  Divorced         M      40000          61                  1139\n",
       "   7 │     5  Divorced         M      50000         587                  1132\n",
       "   8 │     5  Divorced         M      60000        1119                  1135\n",
       "  ⋮  │   ⋮           ⋮          ⋮      ⋮         ⋮                ⋮            ⋱\n",
       " 634 │    80  Widowed          F      70000         178                   370  ⋯\n",
       " 635 │    80  Widowed          F      80000          19                   370\n",
       " 636 │    80  Widowed          M      40000          72                  1481\n",
       " 637 │    80  Widowed          M      50000         779                  1471\n",
       " 638 │    80  Widowed          M      60000        1502                  1475  ⋯\n",
       " 639 │    80  Widowed          M      70000        2187                  1474\n",
       " 640 │    80  Widowed          M      80000        2905                  1475\n",
       "\u001b[36m                                                   1 column and 625 rows omitted\u001b[0m"
      ]
     },
     "metadata": {},
     "output_type": "display_data"
    }
   ],
   "source": [
    "sort!(generated_dependent_aggregated_population)\n",
    "sort!(dependent_population)\n",
    "dependent_population.:estimated_population = generated_dependent_aggregated_population.:population\n",
    "\n",
    "p = dependent_population.:population/sum(dependent_population.:population)\n",
    "t = dependent_population.:estimated_population/sum(dependent_population.:population)\n",
    "N = sum(dependent_population.:population)\n",
    "dependent_population.:Z_score = (p .- t) ./ sqrt.((p .* (1 .- p)) ./ N)\n",
    "dependent_population"
   ]
  },
  {
   "cell_type": "code",
   "execution_count": 48,
   "metadata": {
    "scrolled": true
   },
   "outputs": [
    {
     "name": "stdout",
     "output_type": "stream",
     "text": [
      "Percentage of well fitting values: 0.1953125\n",
      "Table does not have good fit. Critical value is 640 and our calculated statistic has value: 2.388516533436027e6"
     ]
    }
   ],
   "source": [
    "#percentage of well-fitting values\n",
    "wfv = count(i -> (-1.96<i<1.96), dependent_population.Z_score) / nrow(dependent_population)\n",
    "print(\"Percentage of well fitting values: \", wfv, \"\\n\")\n",
    "\n",
    "#does the table have a good fit?\n",
    "cv = sum(dependent_population.Z_score .^ 2) #much more than critical value for chi2 with 640 degrees of freedem -> bad fit\n",
    "print(\"Table does not have good fit. Critical value is 640 and our calculated statistic has value: \", cv)"
   ]
  },
  {
   "cell_type": "markdown",
   "metadata": {},
   "source": [
    "# 2. Population with independent variables"
   ]
  },
  {
   "cell_type": "markdown",
   "metadata": {},
   "source": [
    "### 2.1. Generate target population with independent variables\n",
    "First we generate target population that we will treat as the real population which we'll try to synthesize using available algorithms. All variables are independent."
   ]
  },
  {
   "cell_type": "code",
   "execution_count": 49,
   "metadata": {
    "scrolled": false
   },
   "outputs": [
    {
     "data": {
      "text/html": [
       "<div><div style = \"float: left;\"><span>640×7 DataFrame</span></div><div style = \"float: right;\"><span style = \"font-style: italic;\">615 rows omitted</span></div><div style = \"clear: both;\"></div></div><div class = \"data-frame\" style = \"overflow-x: scroll;\"><table class = \"data-frame\" style = \"margin-bottom: 6px;\"><thead><tr class = \"header\"><th class = \"rowNumber\" style = \"font-weight: bold; text-align: right;\">Row</th><th style = \"text-align: left;\">AGE</th><th style = \"text-align: left;\">MARITIAL_STATUS</th><th style = \"text-align: left;\">SEX</th><th style = \"text-align: left;\">INCOME</th><th style = \"text-align: left;\">population</th><th style = \"text-align: left;\">estimated_population</th><th style = \"text-align: left;\">Z_score</th></tr><tr class = \"subheader headerLastRow\"><th class = \"rowNumber\" style = \"font-weight: bold; text-align: right;\"></th><th title = \"Int64\" style = \"text-align: left;\">Int64</th><th title = \"String\" style = \"text-align: left;\">String</th><th title = \"Char\" style = \"text-align: left;\">Char</th><th title = \"Int64\" style = \"text-align: left;\">Int64</th><th title = \"Int64\" style = \"text-align: left;\">Int64</th><th title = \"Int64\" style = \"text-align: left;\">Int64</th><th title = \"Float64\" style = \"text-align: left;\">Float64</th></tr></thead><tbody><tr><td class = \"rowNumber\" style = \"font-weight: bold; text-align: right;\">1</td><td style = \"text-align: right;\">5</td><td style = \"text-align: left;\">Divorced</td><td style = \"text-align: left;\">F</td><td style = \"text-align: right;\">40000</td><td style = \"text-align: right;\">1496</td><td style = \"text-align: right;\">753</td><td style = \"text-align: right;\">19.2338</td></tr><tr><td class = \"rowNumber\" style = \"font-weight: bold; text-align: right;\">2</td><td style = \"text-align: right;\">10</td><td style = \"text-align: left;\">Divorced</td><td style = \"text-align: left;\">F</td><td style = \"text-align: right;\">40000</td><td style = \"text-align: right;\">1422</td><td style = \"text-align: right;\">734</td><td style = \"text-align: right;\">18.2664</td></tr><tr><td class = \"rowNumber\" style = \"font-weight: bold; text-align: right;\">3</td><td style = \"text-align: right;\">15</td><td style = \"text-align: left;\">Divorced</td><td style = \"text-align: left;\">F</td><td style = \"text-align: right;\">40000</td><td style = \"text-align: right;\">1442</td><td style = \"text-align: right;\">750</td><td style = \"text-align: right;\">18.2451</td></tr><tr><td class = \"rowNumber\" style = \"font-weight: bold; text-align: right;\">4</td><td style = \"text-align: right;\">20</td><td style = \"text-align: left;\">Divorced</td><td style = \"text-align: left;\">F</td><td style = \"text-align: right;\">40000</td><td style = \"text-align: right;\">1457</td><td style = \"text-align: right;\">759</td><td style = \"text-align: right;\">18.3085</td></tr><tr><td class = \"rowNumber\" style = \"font-weight: bold; text-align: right;\">5</td><td style = \"text-align: right;\">25</td><td style = \"text-align: left;\">Divorced</td><td style = \"text-align: left;\">F</td><td style = \"text-align: right;\">40000</td><td style = \"text-align: right;\">1448</td><td style = \"text-align: right;\">739</td><td style = \"text-align: right;\">18.6546</td></tr><tr><td class = \"rowNumber\" style = \"font-weight: bold; text-align: right;\">6</td><td style = \"text-align: right;\">30</td><td style = \"text-align: left;\">Divorced</td><td style = \"text-align: left;\">F</td><td style = \"text-align: right;\">40000</td><td style = \"text-align: right;\">1503</td><td style = \"text-align: right;\">755</td><td style = \"text-align: right;\">19.3182</td></tr><tr><td class = \"rowNumber\" style = \"font-weight: bold; text-align: right;\">7</td><td style = \"text-align: right;\">35</td><td style = \"text-align: left;\">Divorced</td><td style = \"text-align: left;\">F</td><td style = \"text-align: right;\">40000</td><td style = \"text-align: right;\">1481</td><td style = \"text-align: right;\">750</td><td style = \"text-align: right;\">19.0185</td></tr><tr><td class = \"rowNumber\" style = \"font-weight: bold; text-align: right;\">8</td><td style = \"text-align: right;\">40</td><td style = \"text-align: left;\">Divorced</td><td style = \"text-align: left;\">F</td><td style = \"text-align: right;\">40000</td><td style = \"text-align: right;\">1457</td><td style = \"text-align: right;\">754</td><td style = \"text-align: right;\">18.4397</td></tr><tr><td class = \"rowNumber\" style = \"font-weight: bold; text-align: right;\">9</td><td style = \"text-align: right;\">45</td><td style = \"text-align: left;\">Divorced</td><td style = \"text-align: left;\">F</td><td style = \"text-align: right;\">40000</td><td style = \"text-align: right;\">1503</td><td style = \"text-align: right;\">763</td><td style = \"text-align: right;\">19.1116</td></tr><tr><td class = \"rowNumber\" style = \"font-weight: bold; text-align: right;\">10</td><td style = \"text-align: right;\">50</td><td style = \"text-align: left;\">Divorced</td><td style = \"text-align: left;\">F</td><td style = \"text-align: right;\">40000</td><td style = \"text-align: right;\">1494</td><td style = \"text-align: right;\">765</td><td style = \"text-align: right;\">18.884</td></tr><tr><td class = \"rowNumber\" style = \"font-weight: bold; text-align: right;\">11</td><td style = \"text-align: right;\">55</td><td style = \"text-align: left;\">Divorced</td><td style = \"text-align: left;\">F</td><td style = \"text-align: right;\">40000</td><td style = \"text-align: right;\">1422</td><td style = \"text-align: right;\">752</td><td style = \"text-align: right;\">17.7885</td></tr><tr><td class = \"rowNumber\" style = \"font-weight: bold; text-align: right;\">12</td><td style = \"text-align: right;\">60</td><td style = \"text-align: left;\">Divorced</td><td style = \"text-align: left;\">F</td><td style = \"text-align: right;\">40000</td><td style = \"text-align: right;\">1384</td><td style = \"text-align: right;\">747</td><td style = \"text-align: right;\">17.1424</td></tr><tr><td class = \"rowNumber\" style = \"font-weight: bold; text-align: right;\">13</td><td style = \"text-align: right;\">65</td><td style = \"text-align: left;\">Divorced</td><td style = \"text-align: left;\">F</td><td style = \"text-align: right;\">40000</td><td style = \"text-align: right;\">1517</td><td style = \"text-align: right;\">758</td><td style = \"text-align: right;\">19.5119</td></tr><tr><td style = \"text-align: right;\">&vellip;</td><td style = \"text-align: right;\">&vellip;</td><td style = \"text-align: right;\">&vellip;</td><td style = \"text-align: right;\">&vellip;</td><td style = \"text-align: right;\">&vellip;</td><td style = \"text-align: right;\">&vellip;</td><td style = \"text-align: right;\">&vellip;</td><td style = \"text-align: right;\">&vellip;</td></tr><tr><td class = \"rowNumber\" style = \"font-weight: bold; text-align: right;\">629</td><td style = \"text-align: right;\">25</td><td style = \"text-align: left;\">Widowed</td><td style = \"text-align: left;\">M</td><td style = \"text-align: right;\">80000</td><td style = \"text-align: right;\">2841</td><td style = \"text-align: right;\">1497</td><td style = \"text-align: right;\">25.2752</td></tr><tr><td class = \"rowNumber\" style = \"font-weight: bold; text-align: right;\">630</td><td style = \"text-align: right;\">30</td><td style = \"text-align: left;\">Widowed</td><td style = \"text-align: left;\">M</td><td style = \"text-align: right;\">80000</td><td style = \"text-align: right;\">2916</td><td style = \"text-align: right;\">1485</td><td style = \"text-align: right;\">26.5646</td></tr><tr><td class = \"rowNumber\" style = \"font-weight: bold; text-align: right;\">631</td><td style = \"text-align: right;\">35</td><td style = \"text-align: left;\">Widowed</td><td style = \"text-align: left;\">M</td><td style = \"text-align: right;\">80000</td><td style = \"text-align: right;\">2873</td><td style = \"text-align: right;\">1483</td><td style = \"text-align: right;\">25.995</td></tr><tr><td class = \"rowNumber\" style = \"font-weight: bold; text-align: right;\">632</td><td style = \"text-align: right;\">40</td><td style = \"text-align: left;\">Widowed</td><td style = \"text-align: left;\">M</td><td style = \"text-align: right;\">80000</td><td style = \"text-align: right;\">2942</td><td style = \"text-align: right;\">1492</td><td style = \"text-align: right;\">26.7987</td></tr><tr><td class = \"rowNumber\" style = \"font-weight: bold; text-align: right;\">633</td><td style = \"text-align: right;\">45</td><td style = \"text-align: left;\">Widowed</td><td style = \"text-align: left;\">M</td><td style = \"text-align: right;\">80000</td><td style = \"text-align: right;\">2970</td><td style = \"text-align: right;\">1473</td><td style = \"text-align: right;\">27.5373</td></tr><tr><td class = \"rowNumber\" style = \"font-weight: bold; text-align: right;\">634</td><td style = \"text-align: right;\">50</td><td style = \"text-align: left;\">Widowed</td><td style = \"text-align: left;\">M</td><td style = \"text-align: right;\">80000</td><td style = \"text-align: right;\">2864</td><td style = \"text-align: right;\">1484</td><td style = \"text-align: right;\">25.8483</td></tr><tr><td class = \"rowNumber\" style = \"font-weight: bold; text-align: right;\">635</td><td style = \"text-align: right;\">55</td><td style = \"text-align: left;\">Widowed</td><td style = \"text-align: left;\">M</td><td style = \"text-align: right;\">80000</td><td style = \"text-align: right;\">3034</td><td style = \"text-align: right;\">1505</td><td style = \"text-align: right;\">27.8292</td></tr><tr><td class = \"rowNumber\" style = \"font-weight: bold; text-align: right;\">636</td><td style = \"text-align: right;\">60</td><td style = \"text-align: left;\">Widowed</td><td style = \"text-align: left;\">M</td><td style = \"text-align: right;\">80000</td><td style = \"text-align: right;\">2890</td><td style = \"text-align: right;\">1502</td><td style = \"text-align: right;\">25.8815</td></tr><tr><td class = \"rowNumber\" style = \"font-weight: bold; text-align: right;\">637</td><td style = \"text-align: right;\">65</td><td style = \"text-align: left;\">Widowed</td><td style = \"text-align: left;\">M</td><td style = \"text-align: right;\">80000</td><td style = \"text-align: right;\">2961</td><td style = \"text-align: right;\">1511</td><td style = \"text-align: right;\">26.713</td></tr><tr><td class = \"rowNumber\" style = \"font-weight: bold; text-align: right;\">638</td><td style = \"text-align: right;\">70</td><td style = \"text-align: left;\">Widowed</td><td style = \"text-align: left;\">M</td><td style = \"text-align: right;\">80000</td><td style = \"text-align: right;\">2933</td><td style = \"text-align: right;\">1498</td><td style = \"text-align: right;\">26.562</td></tr><tr><td class = \"rowNumber\" style = \"font-weight: bold; text-align: right;\">639</td><td style = \"text-align: right;\">75</td><td style = \"text-align: left;\">Widowed</td><td style = \"text-align: left;\">M</td><td style = \"text-align: right;\">80000</td><td style = \"text-align: right;\">2820</td><td style = \"text-align: right;\">1466</td><td style = \"text-align: right;\">25.5574</td></tr><tr><td class = \"rowNumber\" style = \"font-weight: bold; text-align: right;\">640</td><td style = \"text-align: right;\">80</td><td style = \"text-align: left;\">Widowed</td><td style = \"text-align: left;\">M</td><td style = \"text-align: right;\">80000</td><td style = \"text-align: right;\">2905</td><td style = \"text-align: right;\">1475</td><td style = \"text-align: right;\">26.596</td></tr></tbody></table></div>"
      ],
      "text/latex": [
       "\\begin{tabular}{r|ccccccc}\n",
       "\t& AGE & MARITIAL\\_STATUS & SEX & INCOME & population & estimated\\_population & Z\\_score\\\\\n",
       "\t\\hline\n",
       "\t& Int64 & String & Char & Int64 & Int64 & Int64 & Float64\\\\\n",
       "\t\\hline\n",
       "\t1 & 5 & Divorced & F & 40000 & 1496 & 753 & 19.2338 \\\\\n",
       "\t2 & 10 & Divorced & F & 40000 & 1422 & 734 & 18.2664 \\\\\n",
       "\t3 & 15 & Divorced & F & 40000 & 1442 & 750 & 18.2451 \\\\\n",
       "\t4 & 20 & Divorced & F & 40000 & 1457 & 759 & 18.3085 \\\\\n",
       "\t5 & 25 & Divorced & F & 40000 & 1448 & 739 & 18.6546 \\\\\n",
       "\t6 & 30 & Divorced & F & 40000 & 1503 & 755 & 19.3182 \\\\\n",
       "\t7 & 35 & Divorced & F & 40000 & 1481 & 750 & 19.0185 \\\\\n",
       "\t8 & 40 & Divorced & F & 40000 & 1457 & 754 & 18.4397 \\\\\n",
       "\t9 & 45 & Divorced & F & 40000 & 1503 & 763 & 19.1116 \\\\\n",
       "\t10 & 50 & Divorced & F & 40000 & 1494 & 765 & 18.884 \\\\\n",
       "\t11 & 55 & Divorced & F & 40000 & 1422 & 752 & 17.7885 \\\\\n",
       "\t12 & 60 & Divorced & F & 40000 & 1384 & 747 & 17.1424 \\\\\n",
       "\t13 & 65 & Divorced & F & 40000 & 1517 & 758 & 19.5119 \\\\\n",
       "\t14 & 70 & Divorced & F & 40000 & 1514 & 747 & 19.737 \\\\\n",
       "\t15 & 75 & Divorced & F & 40000 & 1461 & 752 & 18.5717 \\\\\n",
       "\t16 & 80 & Divorced & F & 40000 & 1477 & 746 & 19.0442 \\\\\n",
       "\t17 & 5 & Married & F & 40000 & 2194 & 1128 & 22.8 \\\\\n",
       "\t18 & 10 & Married & F & 40000 & 2250 & 1100 & 24.2897 \\\\\n",
       "\t19 & 15 & Married & F & 40000 & 2320 & 1124 & 24.8787 \\\\\n",
       "\t20 & 20 & Married & F & 40000 & 2206 & 1137 & 22.8021 \\\\\n",
       "\t21 & 25 & Married & F & 40000 & 2123 & 1107 & 22.0896 \\\\\n",
       "\t22 & 30 & Married & F & 40000 & 2180 & 1131 & 22.508 \\\\\n",
       "\t23 & 35 & Married & F & 40000 & 2188 & 1123 & 22.8097 \\\\\n",
       "\t24 & 40 & Married & F & 40000 & 2227 & 1130 & 23.2892 \\\\\n",
       "\t$\\dots$ & $\\dots$ & $\\dots$ & $\\dots$ & $\\dots$ & $\\dots$ & $\\dots$ & $\\dots$ \\\\\n",
       "\\end{tabular}\n"
      ],
      "text/plain": [
       "\u001b[1m640×7 DataFrame\u001b[0m\n",
       "\u001b[1m Row \u001b[0m│\u001b[1m AGE   \u001b[0m\u001b[1m MARITIAL_STATUS \u001b[0m\u001b[1m SEX  \u001b[0m\u001b[1m INCOME \u001b[0m\u001b[1m population \u001b[0m\u001b[1m estimated_population \u001b[0m\u001b[1m\u001b[0m ⋯\n",
       "     │\u001b[90m Int64 \u001b[0m\u001b[90m String          \u001b[0m\u001b[90m Char \u001b[0m\u001b[90m Int64  \u001b[0m\u001b[90m Int64      \u001b[0m\u001b[90m Int64                \u001b[0m\u001b[90m\u001b[0m ⋯\n",
       "─────┼──────────────────────────────────────────────────────────────────────────\n",
       "   1 │     5  Divorced         F      40000        1496                   753  ⋯\n",
       "   2 │    10  Divorced         F      40000        1422                   734\n",
       "   3 │    15  Divorced         F      40000        1442                   750\n",
       "   4 │    20  Divorced         F      40000        1457                   759\n",
       "   5 │    25  Divorced         F      40000        1448                   739  ⋯\n",
       "   6 │    30  Divorced         F      40000        1503                   755\n",
       "   7 │    35  Divorced         F      40000        1481                   750\n",
       "   8 │    40  Divorced         F      40000        1457                   754\n",
       "  ⋮  │   ⋮           ⋮          ⋮      ⋮         ⋮                ⋮            ⋱\n",
       " 634 │    50  Widowed          M      80000        2864                  1484  ⋯\n",
       " 635 │    55  Widowed          M      80000        3034                  1505\n",
       " 636 │    60  Widowed          M      80000        2890                  1502\n",
       " 637 │    65  Widowed          M      80000        2961                  1511\n",
       " 638 │    70  Widowed          M      80000        2933                  1498  ⋯\n",
       " 639 │    75  Widowed          M      80000        2820                  1466\n",
       " 640 │    80  Widowed          M      80000        2905                  1475\n",
       "\u001b[36m                                                   1 column and 625 rows omitted\u001b[0m"
      ]
     },
     "metadata": {},
     "output_type": "display_data"
    }
   ],
   "source": [
    "SIZE = 600000\n",
    "SEX = ['M', 'F']; SEX_WEIGHTS = [0.5, 0.5]\n",
    "MARITIAL_STATUS = [\"Not_married\", \"Married\", \"Divorced\", \"Widowed\"]; MARITIAL_WEIGHTS = [0.3, 0.5, 0.1, 0.1]\n",
    "AGE = [5, 10, 15, 20, 25, 30, 35, 40, 45, 50, 55, 60, 65, 70, 75, 80]; AGE_WEIGHTS = repeat([1 / 16], 16)\n",
    "INCOME = [40000, 50000, 60000, 70000, 80000]; INCOME_WEIGHTS = [0.2, 0.2, 0.2, 0.2, 0.2]\n",
    "\n",
    "using StatsBase\n",
    "disaggregated_independent_population = DataFrame(\n",
    "    AGE = sample(AGE, Weights(AGE_WEIGHTS), SIZE),\n",
    "    MARITIAL_STATUS = sample(MARITIAL_STATUS, Weights(MARITIAL_WEIGHTS), SIZE),\n",
    "    SEX = sample(SEX, Weights(SEX_WEIGHTS), SIZE),\n",
    "    INCOME = sample(INCOME, Weights(INCOME_WEIGHTS), SIZE),\n",
    ")\n",
    "\n",
    "independent_population = combine(groupby(disaggregated_independent_population, names(disaggregated_independent_population), sort=true), nrow)\n",
    "rename!(independent_population, :nrow => :population)\n",
    "sort!(dependent_population, [:INCOME, :SEX, :MARITIAL_STATUS, :AGE])"
   ]
  },
  {
   "cell_type": "markdown",
   "metadata": {},
   "source": [
    "### 2.2. Compute marginal attribute distributions of the independent population\n",
    "Then we compute the marginal population attributes. This is a type of data that we can usually get from the census data and will be input for our algorithms for population generation."
   ]
  },
  {
   "cell_type": "code",
   "execution_count": 50,
   "metadata": {
    "scrolled": false
   },
   "outputs": [
    {
     "data": {
      "text/plain": [
       "3-element Vector{DataFrame}:\n",
       " \u001b[1m32×3 DataFrame\u001b[0m\n",
       "\u001b[1m Row \u001b[0m│\u001b[1m AGE   \u001b[0m\u001b[1m SEX  \u001b[0m\u001b[1m population \u001b[0m\n",
       "     │\u001b[90m Int64 \u001b[0m\u001b[90m Char \u001b[0m\u001b[90m Int64      \u001b[0m\n",
       "─────┼─────────────────────────\n",
       "   1 │     5  F          18623\n",
       "   2 │    10  F          19012\n",
       "   3 │    15  F          18684\n",
       "   4 │    20  F          18835\n",
       "   5 │    25  F          18680\n",
       "   6 │    30  F          18711\n",
       "   7 │    35  F          18655\n",
       "   8 │    40  F          18752\n",
       "  ⋮  │   ⋮     ⋮        ⋮\n",
       "  26 │    50  M          19167\n",
       "  27 │    55  M          18707\n",
       "  28 │    60  M          18716\n",
       "  29 │    65  M          18645\n",
       "  30 │    70  M          18690\n",
       "  31 │    75  M          18805\n",
       "  32 │    80  M          18746\n",
       "\u001b[36m                17 rows omitted\u001b[0m\n",
       " \u001b[1m8×3 DataFrame\u001b[0m\n",
       "\u001b[1m Row \u001b[0m│\u001b[1m MARITIAL_STATUS \u001b[0m\u001b[1m SEX  \u001b[0m\u001b[1m population \u001b[0m\n",
       "     │\u001b[90m String          \u001b[0m\u001b[90m Char \u001b[0m\u001b[90m Int64      \u001b[0m\n",
       "─────┼───────────────────────────────────\n",
       "   1 │ Divorced         F          29919\n",
       "   2 │ Married          F         149462\n",
       "   3 │ Not_married      F          90583\n",
       "   4 │ Widowed          F          29959\n",
       "   5 │ Divorced         M          29751\n",
       "   6 │ Married          M         149860\n",
       "   7 │ Not_married      M          90171\n",
       "   8 │ Widowed          M          30295\n",
       " \u001b[1m5×2 DataFrame\u001b[0m\n",
       "\u001b[1m Row \u001b[0m│\u001b[1m INCOME \u001b[0m\u001b[1m population \u001b[0m\n",
       "     │\u001b[90m Int64  \u001b[0m\u001b[90m Int64      \u001b[0m\n",
       "─────┼────────────────────\n",
       "   1 │  40000      119788\n",
       "   2 │  50000      119924\n",
       "   3 │  60000      120415\n",
       "   4 │  70000      119843\n",
       "   5 │  80000      120030"
      ]
     },
     "metadata": {},
     "output_type": "display_data"
    }
   ],
   "source": [
    "independent_age_sex = combine(groupby(disaggregated_independent_population, [:AGE, :SEX], sort=true), nrow); sort!(independent_age_sex, [:SEX, :AGE])\n",
    "independent_sex_maritial = combine(groupby(disaggregated_independent_population, [:MARITIAL_STATUS, :SEX], sort=true), nrow); sort!(independent_sex_maritial, [:SEX, :MARITIAL_STATUS])\n",
    "independent_income = combine(groupby(disaggregated_independent_population, [:INCOME], sort=true), nrow);\n",
    "independent_age_sex, independent_sex_maritial, independent_income = map(x -> rename!(x, :nrow => :population), [independent_age_sex, independent_sex_maritial, independent_income])"
   ]
  },
  {
   "cell_type": "markdown",
   "metadata": {},
   "source": [
    "### 2.3. Generate dependent population from marginals\n",
    "Then, we use our algorithm to estimate joint distribution of the marginal attributes. "
   ]
  },
  {
   "cell_type": "code",
   "execution_count": 51,
   "metadata": {},
   "outputs": [
    {
     "name": "stderr",
     "output_type": "stream",
     "text": [
      "┌ Info: Converged in 2 iterations.\n",
      "└ @ ProportionalFitting /Users/marcinzurek/.julia/packages/ProportionalFitting/gNJEu/src/ipf.jl:130\n",
      "┌ Info: Converged in 2 iterations.\n",
      "└ @ ProportionalFitting /Users/marcinzurek/.julia/packages/ProportionalFitting/gNJEu/src/ipf.jl:130\n",
      "┌ Info: Inconsistent target margins, converting `X` and `mar` to proportions. Margin totals: [599999, 600000]\n",
      "└ @ ProportionalFitting /Users/marcinzurek/.julia/packages/ProportionalFitting/gNJEu/src/ipf.jl:61\n",
      "┌ Info: Converged in 1 iterations.\n",
      "└ @ ProportionalFitting /Users/marcinzurek/.julia/packages/ProportionalFitting/gNJEu/src/ipf.jl:130\n"
     ]
    },
    {
     "data": {
      "text/html": [
       "<div><div style = \"float: left;\"><span>640×5 DataFrame</span></div><div style = \"float: right;\"><span style = \"font-style: italic;\">615 rows omitted</span></div><div style = \"clear: both;\"></div></div><div class = \"data-frame\" style = \"overflow-x: scroll;\"><table class = \"data-frame\" style = \"margin-bottom: 6px;\"><thead><tr class = \"header\"><th class = \"rowNumber\" style = \"font-weight: bold; text-align: right;\">Row</th><th style = \"text-align: left;\">AGE</th><th style = \"text-align: left;\">MARITIAL_STATUS</th><th style = \"text-align: left;\">SEX</th><th style = \"text-align: left;\">INCOME</th><th style = \"text-align: left;\">population</th></tr><tr class = \"subheader headerLastRow\"><th class = \"rowNumber\" style = \"font-weight: bold; text-align: right;\"></th><th title = \"Int64\" style = \"text-align: left;\">Int64</th><th title = \"String\" style = \"text-align: left;\">String</th><th title = \"Char\" style = \"text-align: left;\">Char</th><th title = \"Int64\" style = \"text-align: left;\">Int64</th><th title = \"Int64\" style = \"text-align: left;\">Int64</th></tr></thead><tbody><tr><td class = \"rowNumber\" style = \"font-weight: bold; text-align: right;\">1</td><td style = \"text-align: right;\">5</td><td style = \"text-align: left;\">Divorced</td><td style = \"text-align: left;\">F</td><td style = \"text-align: right;\">40000</td><td style = \"text-align: right;\">371</td></tr><tr><td class = \"rowNumber\" style = \"font-weight: bold; text-align: right;\">2</td><td style = \"text-align: right;\">10</td><td style = \"text-align: left;\">Divorced</td><td style = \"text-align: left;\">F</td><td style = \"text-align: right;\">40000</td><td style = \"text-align: right;\">379</td></tr><tr><td class = \"rowNumber\" style = \"font-weight: bold; text-align: right;\">3</td><td style = \"text-align: right;\">15</td><td style = \"text-align: left;\">Divorced</td><td style = \"text-align: left;\">F</td><td style = \"text-align: right;\">40000</td><td style = \"text-align: right;\">372</td></tr><tr><td class = \"rowNumber\" style = \"font-weight: bold; text-align: right;\">4</td><td style = \"text-align: right;\">20</td><td style = \"text-align: left;\">Divorced</td><td style = \"text-align: left;\">F</td><td style = \"text-align: right;\">40000</td><td style = \"text-align: right;\">375</td></tr><tr><td class = \"rowNumber\" style = \"font-weight: bold; text-align: right;\">5</td><td style = \"text-align: right;\">25</td><td style = \"text-align: left;\">Divorced</td><td style = \"text-align: left;\">F</td><td style = \"text-align: right;\">40000</td><td style = \"text-align: right;\">372</td></tr><tr><td class = \"rowNumber\" style = \"font-weight: bold; text-align: right;\">6</td><td style = \"text-align: right;\">30</td><td style = \"text-align: left;\">Divorced</td><td style = \"text-align: left;\">F</td><td style = \"text-align: right;\">40000</td><td style = \"text-align: right;\">373</td></tr><tr><td class = \"rowNumber\" style = \"font-weight: bold; text-align: right;\">7</td><td style = \"text-align: right;\">35</td><td style = \"text-align: left;\">Divorced</td><td style = \"text-align: left;\">F</td><td style = \"text-align: right;\">40000</td><td style = \"text-align: right;\">372</td></tr><tr><td class = \"rowNumber\" style = \"font-weight: bold; text-align: right;\">8</td><td style = \"text-align: right;\">40</td><td style = \"text-align: left;\">Divorced</td><td style = \"text-align: left;\">F</td><td style = \"text-align: right;\">40000</td><td style = \"text-align: right;\">374</td></tr><tr><td class = \"rowNumber\" style = \"font-weight: bold; text-align: right;\">9</td><td style = \"text-align: right;\">45</td><td style = \"text-align: left;\">Divorced</td><td style = \"text-align: left;\">F</td><td style = \"text-align: right;\">40000</td><td style = \"text-align: right;\">369</td></tr><tr><td class = \"rowNumber\" style = \"font-weight: bold; text-align: right;\">10</td><td style = \"text-align: right;\">50</td><td style = \"text-align: left;\">Divorced</td><td style = \"text-align: left;\">F</td><td style = \"text-align: right;\">40000</td><td style = \"text-align: right;\">372</td></tr><tr><td class = \"rowNumber\" style = \"font-weight: bold; text-align: right;\">11</td><td style = \"text-align: right;\">55</td><td style = \"text-align: left;\">Divorced</td><td style = \"text-align: left;\">F</td><td style = \"text-align: right;\">40000</td><td style = \"text-align: right;\">374</td></tr><tr><td class = \"rowNumber\" style = \"font-weight: bold; text-align: right;\">12</td><td style = \"text-align: right;\">60</td><td style = \"text-align: left;\">Divorced</td><td style = \"text-align: left;\">F</td><td style = \"text-align: right;\">40000</td><td style = \"text-align: right;\">374</td></tr><tr><td class = \"rowNumber\" style = \"font-weight: bold; text-align: right;\">13</td><td style = \"text-align: right;\">65</td><td style = \"text-align: left;\">Divorced</td><td style = \"text-align: left;\">F</td><td style = \"text-align: right;\">40000</td><td style = \"text-align: right;\">372</td></tr><tr><td style = \"text-align: right;\">&vellip;</td><td style = \"text-align: right;\">&vellip;</td><td style = \"text-align: right;\">&vellip;</td><td style = \"text-align: right;\">&vellip;</td><td style = \"text-align: right;\">&vellip;</td><td style = \"text-align: right;\">&vellip;</td></tr><tr><td class = \"rowNumber\" style = \"font-weight: bold; text-align: right;\">629</td><td style = \"text-align: right;\">25</td><td style = \"text-align: left;\">Widowed</td><td style = \"text-align: left;\">M</td><td style = \"text-align: right;\">80000</td><td style = \"text-align: right;\">376</td></tr><tr><td class = \"rowNumber\" style = \"font-weight: bold; text-align: right;\">630</td><td style = \"text-align: right;\">30</td><td style = \"text-align: left;\">Widowed</td><td style = \"text-align: left;\">M</td><td style = \"text-align: right;\">80000</td><td style = \"text-align: right;\">383</td></tr><tr><td class = \"rowNumber\" style = \"font-weight: bold; text-align: right;\">631</td><td style = \"text-align: right;\">35</td><td style = \"text-align: left;\">Widowed</td><td style = \"text-align: left;\">M</td><td style = \"text-align: right;\">80000</td><td style = \"text-align: right;\">378</td></tr><tr><td class = \"rowNumber\" style = \"font-weight: bold; text-align: right;\">632</td><td style = \"text-align: right;\">40</td><td style = \"text-align: left;\">Widowed</td><td style = \"text-align: left;\">M</td><td style = \"text-align: right;\">80000</td><td style = \"text-align: right;\">379</td></tr><tr><td class = \"rowNumber\" style = \"font-weight: bold; text-align: right;\">633</td><td style = \"text-align: right;\">45</td><td style = \"text-align: left;\">Widowed</td><td style = \"text-align: left;\">M</td><td style = \"text-align: right;\">80000</td><td style = \"text-align: right;\">380</td></tr><tr><td class = \"rowNumber\" style = \"font-weight: bold; text-align: right;\">634</td><td style = \"text-align: right;\">50</td><td style = \"text-align: left;\">Widowed</td><td style = \"text-align: left;\">M</td><td style = \"text-align: right;\">80000</td><td style = \"text-align: right;\">387</td></tr><tr><td class = \"rowNumber\" style = \"font-weight: bold; text-align: right;\">635</td><td style = \"text-align: right;\">55</td><td style = \"text-align: left;\">Widowed</td><td style = \"text-align: left;\">M</td><td style = \"text-align: right;\">80000</td><td style = \"text-align: right;\">378</td></tr><tr><td class = \"rowNumber\" style = \"font-weight: bold; text-align: right;\">636</td><td style = \"text-align: right;\">60</td><td style = \"text-align: left;\">Widowed</td><td style = \"text-align: left;\">M</td><td style = \"text-align: right;\">80000</td><td style = \"text-align: right;\">378</td></tr><tr><td class = \"rowNumber\" style = \"font-weight: bold; text-align: right;\">637</td><td style = \"text-align: right;\">65</td><td style = \"text-align: left;\">Widowed</td><td style = \"text-align: left;\">M</td><td style = \"text-align: right;\">80000</td><td style = \"text-align: right;\">376</td></tr><tr><td class = \"rowNumber\" style = \"font-weight: bold; text-align: right;\">638</td><td style = \"text-align: right;\">70</td><td style = \"text-align: left;\">Widowed</td><td style = \"text-align: left;\">M</td><td style = \"text-align: right;\">80000</td><td style = \"text-align: right;\">377</td></tr><tr><td class = \"rowNumber\" style = \"font-weight: bold; text-align: right;\">639</td><td style = \"text-align: right;\">75</td><td style = \"text-align: left;\">Widowed</td><td style = \"text-align: left;\">M</td><td style = \"text-align: right;\">80000</td><td style = \"text-align: right;\">380</td></tr><tr><td class = \"rowNumber\" style = \"font-weight: bold; text-align: right;\">640</td><td style = \"text-align: right;\">80</td><td style = \"text-align: left;\">Widowed</td><td style = \"text-align: left;\">M</td><td style = \"text-align: right;\">80000</td><td style = \"text-align: right;\">379</td></tr></tbody></table></div>"
      ],
      "text/latex": [
       "\\begin{tabular}{r|ccccc}\n",
       "\t& AGE & MARITIAL\\_STATUS & SEX & INCOME & population\\\\\n",
       "\t\\hline\n",
       "\t& Int64 & String & Char & Int64 & Int64\\\\\n",
       "\t\\hline\n",
       "\t1 & 5 & Divorced & F & 40000 & 371 \\\\\n",
       "\t2 & 10 & Divorced & F & 40000 & 379 \\\\\n",
       "\t3 & 15 & Divorced & F & 40000 & 372 \\\\\n",
       "\t4 & 20 & Divorced & F & 40000 & 375 \\\\\n",
       "\t5 & 25 & Divorced & F & 40000 & 372 \\\\\n",
       "\t6 & 30 & Divorced & F & 40000 & 373 \\\\\n",
       "\t7 & 35 & Divorced & F & 40000 & 372 \\\\\n",
       "\t8 & 40 & Divorced & F & 40000 & 374 \\\\\n",
       "\t9 & 45 & Divorced & F & 40000 & 369 \\\\\n",
       "\t10 & 50 & Divorced & F & 40000 & 372 \\\\\n",
       "\t11 & 55 & Divorced & F & 40000 & 374 \\\\\n",
       "\t12 & 60 & Divorced & F & 40000 & 374 \\\\\n",
       "\t13 & 65 & Divorced & F & 40000 & 372 \\\\\n",
       "\t14 & 70 & Divorced & F & 40000 & 378 \\\\\n",
       "\t15 & 75 & Divorced & F & 40000 & 376 \\\\\n",
       "\t16 & 80 & Divorced & F & 40000 & 372 \\\\\n",
       "\t17 & 5 & Married & F & 40000 & 1853 \\\\\n",
       "\t18 & 10 & Married & F & 40000 & 1891 \\\\\n",
       "\t19 & 15 & Married & F & 40000 & 1859 \\\\\n",
       "\t20 & 20 & Married & F & 40000 & 1874 \\\\\n",
       "\t21 & 25 & Married & F & 40000 & 1859 \\\\\n",
       "\t22 & 30 & Married & F & 40000 & 1862 \\\\\n",
       "\t23 & 35 & Married & F & 40000 & 1856 \\\\\n",
       "\t24 & 40 & Married & F & 40000 & 1866 \\\\\n",
       "\t$\\dots$ & $\\dots$ & $\\dots$ & $\\dots$ & $\\dots$ & $\\dots$ \\\\\n",
       "\\end{tabular}\n"
      ],
      "text/plain": [
       "\u001b[1m640×5 DataFrame\u001b[0m\n",
       "\u001b[1m Row \u001b[0m│\u001b[1m AGE   \u001b[0m\u001b[1m MARITIAL_STATUS \u001b[0m\u001b[1m SEX  \u001b[0m\u001b[1m INCOME \u001b[0m\u001b[1m population \u001b[0m\n",
       "     │\u001b[90m Int64 \u001b[0m\u001b[90m String          \u001b[0m\u001b[90m Char \u001b[0m\u001b[90m Int64  \u001b[0m\u001b[90m Int64      \u001b[0m\n",
       "─────┼──────────────────────────────────────────────────\n",
       "   1 │     5  Divorced         F      40000         371\n",
       "   2 │    10  Divorced         F      40000         379\n",
       "   3 │    15  Divorced         F      40000         372\n",
       "   4 │    20  Divorced         F      40000         375\n",
       "   5 │    25  Divorced         F      40000         372\n",
       "   6 │    30  Divorced         F      40000         373\n",
       "   7 │    35  Divorced         F      40000         372\n",
       "   8 │    40  Divorced         F      40000         374\n",
       "  ⋮  │   ⋮           ⋮          ⋮      ⋮         ⋮\n",
       " 634 │    50  Widowed          M      80000         387\n",
       " 635 │    55  Widowed          M      80000         378\n",
       " 636 │    60  Widowed          M      80000         378\n",
       " 637 │    65  Widowed          M      80000         376\n",
       " 638 │    70  Widowed          M      80000         377\n",
       " 639 │    75  Widowed          M      80000         380\n",
       " 640 │    80  Widowed          M      80000         379\n",
       "\u001b[36m                                        625 rows omitted\u001b[0m"
      ]
     },
     "metadata": {},
     "output_type": "display_data"
    }
   ],
   "source": [
    "#dependent population\n",
    "generated_aggregated_indep_population = generate_joint_distributions(independent_age_sex, independent_sex_maritial, independent_income)\n",
    "generated_aggregated_indep_population = generated_aggregated_indep_population[:, Not(:id)]"
   ]
  },
  {
   "cell_type": "markdown",
   "metadata": {},
   "source": [
    "### 2.4. Evaluation of fit of generated dependent population.\n",
    "Finally, we evaluate if the generated population is correct. We use approach based on Z-score described by Edwards, Tanton, 2013 [1].\n",
    "\n",
    "\n",
    "[1] Edwards, K. L., & Tanton, R. (2013). Validation of spatial microsimulation models. Spatial microsimulation: A reference guide for users, 249-258. https://ndl.ethernet.edu.et/bitstream/123456789/14722/1/205.pdf#page=38"
   ]
  },
  {
   "cell_type": "code",
   "execution_count": 52,
   "metadata": {},
   "outputs": [
    {
     "data": {
      "text/html": [
       "<div><div style = \"float: left;\"><span>640×7 DataFrame</span></div><div style = \"float: right;\"><span style = \"font-style: italic;\">615 rows omitted</span></div><div style = \"clear: both;\"></div></div><div class = \"data-frame\" style = \"overflow-x: scroll;\"><table class = \"data-frame\" style = \"margin-bottom: 6px;\"><thead><tr class = \"header\"><th class = \"rowNumber\" style = \"font-weight: bold; text-align: right;\">Row</th><th style = \"text-align: left;\">AGE</th><th style = \"text-align: left;\">MARITIAL_STATUS</th><th style = \"text-align: left;\">SEX</th><th style = \"text-align: left;\">INCOME</th><th style = \"text-align: left;\">population</th><th style = \"text-align: left;\">estimated_population</th><th style = \"text-align: left;\">Z_score</th></tr><tr class = \"subheader headerLastRow\"><th class = \"rowNumber\" style = \"font-weight: bold; text-align: right;\"></th><th title = \"Int64\" style = \"text-align: left;\">Int64</th><th title = \"String\" style = \"text-align: left;\">String</th><th title = \"Char\" style = \"text-align: left;\">Char</th><th title = \"Int64\" style = \"text-align: left;\">Int64</th><th title = \"Int64\" style = \"text-align: left;\">Int64</th><th title = \"Int64\" style = \"text-align: left;\">Int64</th><th title = \"Float64\" style = \"text-align: left;\">Float64</th></tr></thead><tbody><tr><td class = \"rowNumber\" style = \"font-weight: bold; text-align: right;\">1</td><td style = \"text-align: right;\">5</td><td style = \"text-align: left;\">Divorced</td><td style = \"text-align: left;\">F</td><td style = \"text-align: right;\">40000</td><td style = \"text-align: right;\">351</td><td style = \"text-align: right;\">371</td><td style = \"text-align: right;\">-1.06783</td></tr><tr><td class = \"rowNumber\" style = \"font-weight: bold; text-align: right;\">2</td><td style = \"text-align: right;\">5</td><td style = \"text-align: left;\">Divorced</td><td style = \"text-align: left;\">F</td><td style = \"text-align: right;\">50000</td><td style = \"text-align: right;\">377</td><td style = \"text-align: right;\">371</td><td style = \"text-align: right;\">0.309113</td></tr><tr><td class = \"rowNumber\" style = \"font-weight: bold; text-align: right;\">3</td><td style = \"text-align: right;\">5</td><td style = \"text-align: left;\">Divorced</td><td style = \"text-align: left;\">F</td><td style = \"text-align: right;\">60000</td><td style = \"text-align: right;\">369</td><td style = \"text-align: right;\">373</td><td style = \"text-align: right;\">-0.208296</td></tr><tr><td class = \"rowNumber\" style = \"font-weight: bold; text-align: right;\">4</td><td style = \"text-align: right;\">5</td><td style = \"text-align: left;\">Divorced</td><td style = \"text-align: left;\">F</td><td style = \"text-align: right;\">70000</td><td style = \"text-align: right;\">305</td><td style = \"text-align: right;\">371</td><td style = \"text-align: right;\">-3.78011</td></tr><tr><td class = \"rowNumber\" style = \"font-weight: bold; text-align: right;\">5</td><td style = \"text-align: right;\">5</td><td style = \"text-align: left;\">Divorced</td><td style = \"text-align: left;\">F</td><td style = \"text-align: right;\">80000</td><td style = \"text-align: right;\">386</td><td style = \"text-align: right;\">372</td><td style = \"text-align: right;\">0.712811</td></tr><tr><td class = \"rowNumber\" style = \"font-weight: bold; text-align: right;\">6</td><td style = \"text-align: right;\">5</td><td style = \"text-align: left;\">Divorced</td><td style = \"text-align: left;\">M</td><td style = \"text-align: right;\">40000</td><td style = \"text-align: right;\">379</td><td style = \"text-align: right;\">368</td><td style = \"text-align: right;\">0.565211</td></tr><tr><td class = \"rowNumber\" style = \"font-weight: bold; text-align: right;\">7</td><td style = \"text-align: right;\">5</td><td style = \"text-align: left;\">Divorced</td><td style = \"text-align: left;\">M</td><td style = \"text-align: right;\">50000</td><td style = \"text-align: right;\">352</td><td style = \"text-align: right;\">369</td><td style = \"text-align: right;\">-0.906369</td></tr><tr><td class = \"rowNumber\" style = \"font-weight: bold; text-align: right;\">8</td><td style = \"text-align: right;\">5</td><td style = \"text-align: left;\">Divorced</td><td style = \"text-align: left;\">M</td><td style = \"text-align: right;\">60000</td><td style = \"text-align: right;\">374</td><td style = \"text-align: right;\">370</td><td style = \"text-align: right;\">0.2069</td></tr><tr><td class = \"rowNumber\" style = \"font-weight: bold; text-align: right;\">9</td><td style = \"text-align: right;\">5</td><td style = \"text-align: left;\">Divorced</td><td style = \"text-align: left;\">M</td><td style = \"text-align: right;\">70000</td><td style = \"text-align: right;\">376</td><td style = \"text-align: right;\">369</td><td style = \"text-align: right;\">0.361111</td></tr><tr><td class = \"rowNumber\" style = \"font-weight: bold; text-align: right;\">10</td><td style = \"text-align: right;\">5</td><td style = \"text-align: left;\">Divorced</td><td style = \"text-align: left;\">M</td><td style = \"text-align: right;\">80000</td><td style = \"text-align: right;\">360</td><td style = \"text-align: right;\">369</td><td style = \"text-align: right;\">-0.474484</td></tr><tr><td class = \"rowNumber\" style = \"font-weight: bold; text-align: right;\">11</td><td style = \"text-align: right;\">5</td><td style = \"text-align: left;\">Married</td><td style = \"text-align: left;\">F</td><td style = \"text-align: right;\">40000</td><td style = \"text-align: right;\">1853</td><td style = \"text-align: right;\">1853</td><td style = \"text-align: right;\">0.0</td></tr><tr><td class = \"rowNumber\" style = \"font-weight: bold; text-align: right;\">12</td><td style = \"text-align: right;\">5</td><td style = \"text-align: left;\">Married</td><td style = \"text-align: left;\">F</td><td style = \"text-align: right;\">50000</td><td style = \"text-align: right;\">1776</td><td style = \"text-align: right;\">1855</td><td style = \"text-align: right;\">-1.87737</td></tr><tr><td class = \"rowNumber\" style = \"font-weight: bold; text-align: right;\">13</td><td style = \"text-align: right;\">5</td><td style = \"text-align: left;\">Married</td><td style = \"text-align: left;\">F</td><td style = \"text-align: right;\">60000</td><td style = \"text-align: right;\">1797</td><td style = \"text-align: right;\">1862</td><td style = \"text-align: right;\">-1.53564</td></tr><tr><td style = \"text-align: right;\">&vellip;</td><td style = \"text-align: right;\">&vellip;</td><td style = \"text-align: right;\">&vellip;</td><td style = \"text-align: right;\">&vellip;</td><td style = \"text-align: right;\">&vellip;</td><td style = \"text-align: right;\">&vellip;</td><td style = \"text-align: right;\">&vellip;</td><td style = \"text-align: right;\">&vellip;</td></tr><tr><td class = \"rowNumber\" style = \"font-weight: bold; text-align: right;\">629</td><td style = \"text-align: right;\">80</td><td style = \"text-align: left;\">Not_married</td><td style = \"text-align: left;\">M</td><td style = \"text-align: right;\">70000</td><td style = \"text-align: right;\">1133</td><td style = \"text-align: right;\">1125</td><td style = \"text-align: right;\">0.237895</td></tr><tr><td class = \"rowNumber\" style = \"font-weight: bold; text-align: right;\">630</td><td style = \"text-align: right;\">80</td><td style = \"text-align: left;\">Not_married</td><td style = \"text-align: left;\">M</td><td style = \"text-align: right;\">80000</td><td style = \"text-align: right;\">1144</td><td style = \"text-align: right;\">1127</td><td style = \"text-align: right;\">0.503095</td></tr><tr><td class = \"rowNumber\" style = \"font-weight: bold; text-align: right;\">631</td><td style = \"text-align: right;\">80</td><td style = \"text-align: left;\">Widowed</td><td style = \"text-align: left;\">F</td><td style = \"text-align: right;\">40000</td><td style = \"text-align: right;\">389</td><td style = \"text-align: right;\">372</td><td style = \"text-align: right;\">0.862214</td></tr><tr><td class = \"rowNumber\" style = \"font-weight: bold; text-align: right;\">632</td><td style = \"text-align: right;\">80</td><td style = \"text-align: left;\">Widowed</td><td style = \"text-align: left;\">F</td><td style = \"text-align: right;\">50000</td><td style = \"text-align: right;\">385</td><td style = \"text-align: right;\">373</td><td style = \"text-align: right;\">0.611773</td></tr><tr><td class = \"rowNumber\" style = \"font-weight: bold; text-align: right;\">633</td><td style = \"text-align: right;\">80</td><td style = \"text-align: left;\">Widowed</td><td style = \"text-align: left;\">F</td><td style = \"text-align: right;\">60000</td><td style = \"text-align: right;\">397</td><td style = \"text-align: right;\">374</td><td style = \"text-align: right;\">1.15472</td></tr><tr><td class = \"rowNumber\" style = \"font-weight: bold; text-align: right;\">634</td><td style = \"text-align: right;\">80</td><td style = \"text-align: left;\">Widowed</td><td style = \"text-align: left;\">F</td><td style = \"text-align: right;\">70000</td><td style = \"text-align: right;\">369</td><td style = \"text-align: right;\">373</td><td style = \"text-align: right;\">-0.208296</td></tr><tr><td class = \"rowNumber\" style = \"font-weight: bold; text-align: right;\">635</td><td style = \"text-align: right;\">80</td><td style = \"text-align: left;\">Widowed</td><td style = \"text-align: left;\">F</td><td style = \"text-align: right;\">80000</td><td style = \"text-align: right;\">360</td><td style = \"text-align: right;\">373</td><td style = \"text-align: right;\">-0.685366</td></tr><tr><td class = \"rowNumber\" style = \"font-weight: bold; text-align: right;\">636</td><td style = \"text-align: right;\">80</td><td style = \"text-align: left;\">Widowed</td><td style = \"text-align: left;\">M</td><td style = \"text-align: right;\">40000</td><td style = \"text-align: right;\">349</td><td style = \"text-align: right;\">378</td><td style = \"text-align: right;\">-1.55279</td></tr><tr><td class = \"rowNumber\" style = \"font-weight: bold; text-align: right;\">637</td><td style = \"text-align: right;\">80</td><td style = \"text-align: left;\">Widowed</td><td style = \"text-align: left;\">M</td><td style = \"text-align: right;\">50000</td><td style = \"text-align: right;\">395</td><td style = \"text-align: right;\">378</td><td style = \"text-align: right;\">0.855645</td></tr><tr><td class = \"rowNumber\" style = \"font-weight: bold; text-align: right;\">638</td><td style = \"text-align: right;\">80</td><td style = \"text-align: left;\">Widowed</td><td style = \"text-align: left;\">M</td><td style = \"text-align: right;\">60000</td><td style = \"text-align: right;\">356</td><td style = \"text-align: right;\">380</td><td style = \"text-align: right;\">-1.27237</td></tr><tr><td class = \"rowNumber\" style = \"font-weight: bold; text-align: right;\">639</td><td style = \"text-align: right;\">80</td><td style = \"text-align: left;\">Widowed</td><td style = \"text-align: left;\">M</td><td style = \"text-align: right;\">70000</td><td style = \"text-align: right;\">381</td><td style = \"text-align: right;\">378</td><td style = \"text-align: right;\">0.153743</td></tr><tr><td class = \"rowNumber\" style = \"font-weight: bold; text-align: right;\">640</td><td style = \"text-align: right;\">80</td><td style = \"text-align: left;\">Widowed</td><td style = \"text-align: left;\">M</td><td style = \"text-align: right;\">80000</td><td style = \"text-align: right;\">375</td><td style = \"text-align: right;\">379</td><td style = \"text-align: right;\">-0.206624</td></tr></tbody></table></div>"
      ],
      "text/latex": [
       "\\begin{tabular}{r|ccccccc}\n",
       "\t& AGE & MARITIAL\\_STATUS & SEX & INCOME & population & estimated\\_population & Z\\_score\\\\\n",
       "\t\\hline\n",
       "\t& Int64 & String & Char & Int64 & Int64 & Int64 & Float64\\\\\n",
       "\t\\hline\n",
       "\t1 & 5 & Divorced & F & 40000 & 351 & 371 & -1.06783 \\\\\n",
       "\t2 & 5 & Divorced & F & 50000 & 377 & 371 & 0.309113 \\\\\n",
       "\t3 & 5 & Divorced & F & 60000 & 369 & 373 & -0.208296 \\\\\n",
       "\t4 & 5 & Divorced & F & 70000 & 305 & 371 & -3.78011 \\\\\n",
       "\t5 & 5 & Divorced & F & 80000 & 386 & 372 & 0.712811 \\\\\n",
       "\t6 & 5 & Divorced & M & 40000 & 379 & 368 & 0.565211 \\\\\n",
       "\t7 & 5 & Divorced & M & 50000 & 352 & 369 & -0.906369 \\\\\n",
       "\t8 & 5 & Divorced & M & 60000 & 374 & 370 & 0.2069 \\\\\n",
       "\t9 & 5 & Divorced & M & 70000 & 376 & 369 & 0.361111 \\\\\n",
       "\t10 & 5 & Divorced & M & 80000 & 360 & 369 & -0.474484 \\\\\n",
       "\t11 & 5 & Married & F & 40000 & 1853 & 1853 & 0.0 \\\\\n",
       "\t12 & 5 & Married & F & 50000 & 1776 & 1855 & -1.87737 \\\\\n",
       "\t13 & 5 & Married & F & 60000 & 1797 & 1862 & -1.53564 \\\\\n",
       "\t14 & 5 & Married & F & 70000 & 1885 & 1854 & 0.715137 \\\\\n",
       "\t15 & 5 & Married & F & 80000 & 1851 & 1856 & -0.116396 \\\\\n",
       "\t16 & 5 & Married & M & 40000 & 1808 & 1856 & -1.13057 \\\\\n",
       "\t17 & 5 & Married & M & 50000 & 1834 & 1858 & -0.561276 \\\\\n",
       "\t18 & 5 & Married & M & 60000 & 1940 & 1865 & 1.70555 \\\\\n",
       "\t19 & 5 & Married & M & 70000 & 1818 & 1857 & -0.916066 \\\\\n",
       "\t20 & 5 & Married & M & 80000 & 1895 & 1859 & 0.828295 \\\\\n",
       "\t21 & 5 & Not\\_married & F & 40000 & 1123 & 1123 & 0.0 \\\\\n",
       "\t22 & 5 & Not\\_married & F & 50000 & 1173 & 1124 & 1.4321 \\\\\n",
       "\t23 & 5 & Not\\_married & F & 60000 & 1172 & 1129 & 1.25727 \\\\\n",
       "\t24 & 5 & Not\\_married & F & 70000 & 1192 & 1124 & 1.97153 \\\\\n",
       "\t$\\dots$ & $\\dots$ & $\\dots$ & $\\dots$ & $\\dots$ & $\\dots$ & $\\dots$ & $\\dots$ \\\\\n",
       "\\end{tabular}\n"
      ],
      "text/plain": [
       "\u001b[1m640×7 DataFrame\u001b[0m\n",
       "\u001b[1m Row \u001b[0m│\u001b[1m AGE   \u001b[0m\u001b[1m MARITIAL_STATUS \u001b[0m\u001b[1m SEX  \u001b[0m\u001b[1m INCOME \u001b[0m\u001b[1m population \u001b[0m\u001b[1m estimated_population \u001b[0m\u001b[1m\u001b[0m ⋯\n",
       "     │\u001b[90m Int64 \u001b[0m\u001b[90m String          \u001b[0m\u001b[90m Char \u001b[0m\u001b[90m Int64  \u001b[0m\u001b[90m Int64      \u001b[0m\u001b[90m Int64                \u001b[0m\u001b[90m\u001b[0m ⋯\n",
       "─────┼──────────────────────────────────────────────────────────────────────────\n",
       "   1 │     5  Divorced         F      40000         351                   371  ⋯\n",
       "   2 │     5  Divorced         F      50000         377                   371\n",
       "   3 │     5  Divorced         F      60000         369                   373\n",
       "   4 │     5  Divorced         F      70000         305                   371\n",
       "   5 │     5  Divorced         F      80000         386                   372  ⋯\n",
       "   6 │     5  Divorced         M      40000         379                   368\n",
       "   7 │     5  Divorced         M      50000         352                   369\n",
       "   8 │     5  Divorced         M      60000         374                   370\n",
       "  ⋮  │   ⋮           ⋮          ⋮      ⋮         ⋮                ⋮            ⋱\n",
       " 634 │    80  Widowed          F      70000         369                   373  ⋯\n",
       " 635 │    80  Widowed          F      80000         360                   373\n",
       " 636 │    80  Widowed          M      40000         349                   378\n",
       " 637 │    80  Widowed          M      50000         395                   378\n",
       " 638 │    80  Widowed          M      60000         356                   380  ⋯\n",
       " 639 │    80  Widowed          M      70000         381                   378\n",
       " 640 │    80  Widowed          M      80000         375                   379\n",
       "\u001b[36m                                                   1 column and 625 rows omitted\u001b[0m"
      ]
     },
     "metadata": {},
     "output_type": "display_data"
    }
   ],
   "source": [
    "sort!(generated_aggregated_indep_population)\n",
    "sort!(independent_population)\n",
    "independent_population.:estimated_population = generated_aggregated_indep_population.:population\n",
    "\n",
    "p = independent_population.:population/sum(independent_population.:population)\n",
    "t = independent_population.:estimated_population/sum(independent_population.:population)\n",
    "N = sum(independent_population.:population)\n",
    "independent_population.:Z_score = (p .- t) ./ sqrt.((p .* (1 .- p)) ./ N)\n",
    "\n",
    "independent_population"
   ]
  },
  {
   "cell_type": "code",
   "execution_count": 53,
   "metadata": {},
   "outputs": [
    {
     "name": "stdout",
     "output_type": "stream",
     "text": [
      "Percentage of well fitting values: 0.940625\n",
      "Table does have good fit. Critical value is 640 and our calculated statistic has value: "
     ]
    },
    {
     "name": "stdout",
     "output_type": "stream",
     "text": [
      "697.2591193860881"
     ]
    }
   ],
   "source": [
    "#percentage of well-fitting values\n",
    "wfv = count(i -> (-1.96<i<1.96), independent_population.Z_score) / nrow(independent_population)\n",
    "print(\"Percentage of well fitting values: \", wfv, \"\\n\")\n",
    "\n",
    "#does the table have a good fit?\n",
    "cv = sum(independent_population.Z_score .^ 2) #much more than critical value for chi2 with 640 degrees of freedem -> bad fit\n",
    "print(\"Table does have good fit. Critical value is 640 and our calculated statistic has value: \", cv)"
   ]
  }
 ],
 "metadata": {
  "kernelspec": {
   "display_name": "Julia 1.8.5",
   "language": "julia",
   "name": "julia-1.8"
  },
  "language_info": {
   "file_extension": ".jl",
   "mimetype": "application/julia",
   "name": "julia",
   "version": "1.8.5"
  }
 },
 "nbformat": 4,
 "nbformat_minor": 2
}
