{
 "cells": [
  {
   "cell_type": "code",
   "execution_count": 19,
   "metadata": {},
   "outputs": [],
   "source": [
    "include(\"../src/SyntheticPopulation.jl\")"
   ]
  },
  {
   "cell_type": "markdown",
   "metadata": {},
   "source": [
    "# Summary:\n",
    "1. Sample-free IPF algorithm is well suited for creating joint distributions of the attributes that are independent (96% of cells fit well).\n",
    "2. Sample-free IPF algorithm is not so efficient for creating joint distributions of the attributes that are highly dependent (10% of cells fit well).\n",
    "3. To overcome the challenge, we provide a configurable config file which helps better adjust IPF algorithm. The config is described in another file."
   ]
  },
  {
   "cell_type": "markdown",
   "metadata": {},
   "source": [
    "# 1. Population with dependent variables"
   ]
  },
  {
   "cell_type": "markdown",
   "metadata": {},
   "source": [
    "### 1.1. Generate target population with dependent variables\n",
    "First we generate target population that we will treat as the real population which we'll try to synthesize using available algorithms. The variables maritial status and income are highly dependent on sex."
   ]
  },
  {
   "cell_type": "code",
   "execution_count": 40,
   "metadata": {},
   "outputs": [
    {
     "data": {
      "text/html": [
       "<div><div style = \"float: left;\"><span>640×5 DataFrame</span></div><div style = \"float: right;\"><span style = \"font-style: italic;\">615 rows omitted</span></div><div style = \"clear: both;\"></div></div><div class = \"data-frame\" style = \"overflow-x: scroll;\"><table class = \"data-frame\" style = \"margin-bottom: 6px;\"><thead><tr class = \"header\"><th class = \"rowNumber\" style = \"font-weight: bold; text-align: right;\">Row</th><th style = \"text-align: left;\">AGE</th><th style = \"text-align: left;\">MARITIAL_STATUS</th><th style = \"text-align: left;\">SEX</th><th style = \"text-align: left;\">INCOME</th><th style = \"text-align: left;\">population</th></tr><tr class = \"subheader headerLastRow\"><th class = \"rowNumber\" style = \"font-weight: bold; text-align: right;\"></th><th title = \"Int64\" style = \"text-align: left;\">Int64</th><th title = \"String\" style = \"text-align: left;\">String</th><th title = \"Char\" style = \"text-align: left;\">Char</th><th title = \"Int64\" style = \"text-align: left;\">Int64</th><th title = \"Int64\" style = \"text-align: left;\">Int64</th></tr></thead><tbody><tr><td class = \"rowNumber\" style = \"font-weight: bold; text-align: right;\">1</td><td style = \"text-align: right;\">5</td><td style = \"text-align: left;\">Divorced</td><td style = \"text-align: left;\">F</td><td style = \"text-align: right;\">40000</td><td style = \"text-align: right;\">1453</td></tr><tr><td class = \"rowNumber\" style = \"font-weight: bold; text-align: right;\">2</td><td style = \"text-align: right;\">10</td><td style = \"text-align: left;\">Divorced</td><td style = \"text-align: left;\">F</td><td style = \"text-align: right;\">40000</td><td style = \"text-align: right;\">1466</td></tr><tr><td class = \"rowNumber\" style = \"font-weight: bold; text-align: right;\">3</td><td style = \"text-align: right;\">15</td><td style = \"text-align: left;\">Divorced</td><td style = \"text-align: left;\">F</td><td style = \"text-align: right;\">40000</td><td style = \"text-align: right;\">1475</td></tr><tr><td class = \"rowNumber\" style = \"font-weight: bold; text-align: right;\">4</td><td style = \"text-align: right;\">20</td><td style = \"text-align: left;\">Divorced</td><td style = \"text-align: left;\">F</td><td style = \"text-align: right;\">40000</td><td style = \"text-align: right;\">1414</td></tr><tr><td class = \"rowNumber\" style = \"font-weight: bold; text-align: right;\">5</td><td style = \"text-align: right;\">25</td><td style = \"text-align: left;\">Divorced</td><td style = \"text-align: left;\">F</td><td style = \"text-align: right;\">40000</td><td style = \"text-align: right;\">1470</td></tr><tr><td class = \"rowNumber\" style = \"font-weight: bold; text-align: right;\">6</td><td style = \"text-align: right;\">30</td><td style = \"text-align: left;\">Divorced</td><td style = \"text-align: left;\">F</td><td style = \"text-align: right;\">40000</td><td style = \"text-align: right;\">1478</td></tr><tr><td class = \"rowNumber\" style = \"font-weight: bold; text-align: right;\">7</td><td style = \"text-align: right;\">35</td><td style = \"text-align: left;\">Divorced</td><td style = \"text-align: left;\">F</td><td style = \"text-align: right;\">40000</td><td style = \"text-align: right;\">1408</td></tr><tr><td class = \"rowNumber\" style = \"font-weight: bold; text-align: right;\">8</td><td style = \"text-align: right;\">40</td><td style = \"text-align: left;\">Divorced</td><td style = \"text-align: left;\">F</td><td style = \"text-align: right;\">40000</td><td style = \"text-align: right;\">1480</td></tr><tr><td class = \"rowNumber\" style = \"font-weight: bold; text-align: right;\">9</td><td style = \"text-align: right;\">45</td><td style = \"text-align: left;\">Divorced</td><td style = \"text-align: left;\">F</td><td style = \"text-align: right;\">40000</td><td style = \"text-align: right;\">1467</td></tr><tr><td class = \"rowNumber\" style = \"font-weight: bold; text-align: right;\">10</td><td style = \"text-align: right;\">50</td><td style = \"text-align: left;\">Divorced</td><td style = \"text-align: left;\">F</td><td style = \"text-align: right;\">40000</td><td style = \"text-align: right;\">1408</td></tr><tr><td class = \"rowNumber\" style = \"font-weight: bold; text-align: right;\">11</td><td style = \"text-align: right;\">55</td><td style = \"text-align: left;\">Divorced</td><td style = \"text-align: left;\">F</td><td style = \"text-align: right;\">40000</td><td style = \"text-align: right;\">1484</td></tr><tr><td class = \"rowNumber\" style = \"font-weight: bold; text-align: right;\">12</td><td style = \"text-align: right;\">60</td><td style = \"text-align: left;\">Divorced</td><td style = \"text-align: left;\">F</td><td style = \"text-align: right;\">40000</td><td style = \"text-align: right;\">1495</td></tr><tr><td class = \"rowNumber\" style = \"font-weight: bold; text-align: right;\">13</td><td style = \"text-align: right;\">65</td><td style = \"text-align: left;\">Divorced</td><td style = \"text-align: left;\">F</td><td style = \"text-align: right;\">40000</td><td style = \"text-align: right;\">1440</td></tr><tr><td style = \"text-align: right;\">&vellip;</td><td style = \"text-align: right;\">&vellip;</td><td style = \"text-align: right;\">&vellip;</td><td style = \"text-align: right;\">&vellip;</td><td style = \"text-align: right;\">&vellip;</td><td style = \"text-align: right;\">&vellip;</td></tr><tr><td class = \"rowNumber\" style = \"font-weight: bold; text-align: right;\">629</td><td style = \"text-align: right;\">25</td><td style = \"text-align: left;\">Widowed</td><td style = \"text-align: left;\">M</td><td style = \"text-align: right;\">80000</td><td style = \"text-align: right;\">2890</td></tr><tr><td class = \"rowNumber\" style = \"font-weight: bold; text-align: right;\">630</td><td style = \"text-align: right;\">30</td><td style = \"text-align: left;\">Widowed</td><td style = \"text-align: left;\">M</td><td style = \"text-align: right;\">80000</td><td style = \"text-align: right;\">2931</td></tr><tr><td class = \"rowNumber\" style = \"font-weight: bold; text-align: right;\">631</td><td style = \"text-align: right;\">35</td><td style = \"text-align: left;\">Widowed</td><td style = \"text-align: left;\">M</td><td style = \"text-align: right;\">80000</td><td style = \"text-align: right;\">2921</td></tr><tr><td class = \"rowNumber\" style = \"font-weight: bold; text-align: right;\">632</td><td style = \"text-align: right;\">40</td><td style = \"text-align: left;\">Widowed</td><td style = \"text-align: left;\">M</td><td style = \"text-align: right;\">80000</td><td style = \"text-align: right;\">2953</td></tr><tr><td class = \"rowNumber\" style = \"font-weight: bold; text-align: right;\">633</td><td style = \"text-align: right;\">45</td><td style = \"text-align: left;\">Widowed</td><td style = \"text-align: left;\">M</td><td style = \"text-align: right;\">80000</td><td style = \"text-align: right;\">2952</td></tr><tr><td class = \"rowNumber\" style = \"font-weight: bold; text-align: right;\">634</td><td style = \"text-align: right;\">50</td><td style = \"text-align: left;\">Widowed</td><td style = \"text-align: left;\">M</td><td style = \"text-align: right;\">80000</td><td style = \"text-align: right;\">2869</td></tr><tr><td class = \"rowNumber\" style = \"font-weight: bold; text-align: right;\">635</td><td style = \"text-align: right;\">55</td><td style = \"text-align: left;\">Widowed</td><td style = \"text-align: left;\">M</td><td style = \"text-align: right;\">80000</td><td style = \"text-align: right;\">2911</td></tr><tr><td class = \"rowNumber\" style = \"font-weight: bold; text-align: right;\">636</td><td style = \"text-align: right;\">60</td><td style = \"text-align: left;\">Widowed</td><td style = \"text-align: left;\">M</td><td style = \"text-align: right;\">80000</td><td style = \"text-align: right;\">2912</td></tr><tr><td class = \"rowNumber\" style = \"font-weight: bold; text-align: right;\">637</td><td style = \"text-align: right;\">65</td><td style = \"text-align: left;\">Widowed</td><td style = \"text-align: left;\">M</td><td style = \"text-align: right;\">80000</td><td style = \"text-align: right;\">2812</td></tr><tr><td class = \"rowNumber\" style = \"font-weight: bold; text-align: right;\">638</td><td style = \"text-align: right;\">70</td><td style = \"text-align: left;\">Widowed</td><td style = \"text-align: left;\">M</td><td style = \"text-align: right;\">80000</td><td style = \"text-align: right;\">2946</td></tr><tr><td class = \"rowNumber\" style = \"font-weight: bold; text-align: right;\">639</td><td style = \"text-align: right;\">75</td><td style = \"text-align: left;\">Widowed</td><td style = \"text-align: left;\">M</td><td style = \"text-align: right;\">80000</td><td style = \"text-align: right;\">2962</td></tr><tr><td class = \"rowNumber\" style = \"font-weight: bold; text-align: right;\">640</td><td style = \"text-align: right;\">80</td><td style = \"text-align: left;\">Widowed</td><td style = \"text-align: left;\">M</td><td style = \"text-align: right;\">80000</td><td style = \"text-align: right;\">2854</td></tr></tbody></table></div>"
      ],
      "text/latex": [
       "\\begin{tabular}{r|ccccc}\n",
       "\t& AGE & MARITIAL\\_STATUS & SEX & INCOME & population\\\\\n",
       "\t\\hline\n",
       "\t& Int64 & String & Char & Int64 & Int64\\\\\n",
       "\t\\hline\n",
       "\t1 & 5 & Divorced & F & 40000 & 1453 \\\\\n",
       "\t2 & 10 & Divorced & F & 40000 & 1466 \\\\\n",
       "\t3 & 15 & Divorced & F & 40000 & 1475 \\\\\n",
       "\t4 & 20 & Divorced & F & 40000 & 1414 \\\\\n",
       "\t5 & 25 & Divorced & F & 40000 & 1470 \\\\\n",
       "\t6 & 30 & Divorced & F & 40000 & 1478 \\\\\n",
       "\t7 & 35 & Divorced & F & 40000 & 1408 \\\\\n",
       "\t8 & 40 & Divorced & F & 40000 & 1480 \\\\\n",
       "\t9 & 45 & Divorced & F & 40000 & 1467 \\\\\n",
       "\t10 & 50 & Divorced & F & 40000 & 1408 \\\\\n",
       "\t11 & 55 & Divorced & F & 40000 & 1484 \\\\\n",
       "\t12 & 60 & Divorced & F & 40000 & 1495 \\\\\n",
       "\t13 & 65 & Divorced & F & 40000 & 1440 \\\\\n",
       "\t14 & 70 & Divorced & F & 40000 & 1552 \\\\\n",
       "\t15 & 75 & Divorced & F & 40000 & 1423 \\\\\n",
       "\t16 & 80 & Divorced & F & 40000 & 1465 \\\\\n",
       "\t17 & 5 & Married & F & 40000 & 2170 \\\\\n",
       "\t18 & 10 & Married & F & 40000 & 2214 \\\\\n",
       "\t19 & 15 & Married & F & 40000 & 2219 \\\\\n",
       "\t20 & 20 & Married & F & 40000 & 2185 \\\\\n",
       "\t21 & 25 & Married & F & 40000 & 2166 \\\\\n",
       "\t22 & 30 & Married & F & 40000 & 2131 \\\\\n",
       "\t23 & 35 & Married & F & 40000 & 2133 \\\\\n",
       "\t24 & 40 & Married & F & 40000 & 2170 \\\\\n",
       "\t25 & 45 & Married & F & 40000 & 2148 \\\\\n",
       "\t26 & 50 & Married & F & 40000 & 2212 \\\\\n",
       "\t27 & 55 & Married & F & 40000 & 2175 \\\\\n",
       "\t28 & 60 & Married & F & 40000 & 2207 \\\\\n",
       "\t29 & 65 & Married & F & 40000 & 2148 \\\\\n",
       "\t30 & 70 & Married & F & 40000 & 2177 \\\\\n",
       "\t$\\dots$ & $\\dots$ & $\\dots$ & $\\dots$ & $\\dots$ & $\\dots$ \\\\\n",
       "\\end{tabular}\n"
      ],
      "text/plain": [
       "\u001b[1m640×5 DataFrame\u001b[0m\n",
       "\u001b[1m Row \u001b[0m│\u001b[1m AGE   \u001b[0m\u001b[1m MARITIAL_STATUS \u001b[0m\u001b[1m SEX  \u001b[0m\u001b[1m INCOME \u001b[0m\u001b[1m population \u001b[0m\n",
       "     │\u001b[90m Int64 \u001b[0m\u001b[90m String          \u001b[0m\u001b[90m Char \u001b[0m\u001b[90m Int64  \u001b[0m\u001b[90m Int64      \u001b[0m\n",
       "─────┼──────────────────────────────────────────────────\n",
       "   1 │     5  Divorced         F      40000        1453\n",
       "   2 │    10  Divorced         F      40000        1466\n",
       "   3 │    15  Divorced         F      40000        1475\n",
       "   4 │    20  Divorced         F      40000        1414\n",
       "   5 │    25  Divorced         F      40000        1470\n",
       "   6 │    30  Divorced         F      40000        1478\n",
       "   7 │    35  Divorced         F      40000        1408\n",
       "   8 │    40  Divorced         F      40000        1480\n",
       "   9 │    45  Divorced         F      40000        1467\n",
       "  10 │    50  Divorced         F      40000        1408\n",
       "  11 │    55  Divorced         F      40000        1484\n",
       "  ⋮  │   ⋮           ⋮          ⋮      ⋮         ⋮\n",
       " 631 │    35  Widowed          M      80000        2921\n",
       " 632 │    40  Widowed          M      80000        2953\n",
       " 633 │    45  Widowed          M      80000        2952\n",
       " 634 │    50  Widowed          M      80000        2869\n",
       " 635 │    55  Widowed          M      80000        2911\n",
       " 636 │    60  Widowed          M      80000        2912\n",
       " 637 │    65  Widowed          M      80000        2812\n",
       " 638 │    70  Widowed          M      80000        2946\n",
       " 639 │    75  Widowed          M      80000        2962\n",
       " 640 │    80  Widowed          M      80000        2854\n",
       "\u001b[36m                                        619 rows omitted\u001b[0m"
      ]
     },
     "execution_count": 40,
     "metadata": {},
     "output_type": "execute_result"
    }
   ],
   "source": [
    "SIZE = 600000\n",
    "SEX = ['M', 'F']; SEX_WEIGHTS = [0.5, 0.5]\n",
    "MARITIAL_STATUS = [\"Not_married\", \"Married\", \"Divorced\", \"Widowed\"]; \n",
    "MARITIAL_WEIGHTS_M = [0.1, 0.2, 0.3, 0.4]; \n",
    "MARITIAL_WEIGHTS_F = [0.4, 0.3, 0.2, 0.1];\n",
    "AGE = [5, 10, 15, 20, 25, 30, 35, 40, 45, 50, 55, 60, 65, 70, 75, 80]; \n",
    "AGE_WEIGHTS = repeat([1 / 16], 16)\n",
    "INCOME = [40000, 50000, 60000, 70000, 80000]; \n",
    "INCOME_WEIGHTS_M = [0.01, 0.1, 0.2, 0.3, 0.39];\n",
    "INCOME_WEIGHTS_F = [0.39, 0.3, 0.2, 0.1, 0.01];\n",
    "\n",
    "\n",
    "using StatsBase\n",
    "population_m = DataFrame(\n",
    "    AGE = sample(AGE, Weights(AGE_WEIGHTS),Int(SIZE / 2)),\n",
    "    MARITIAL_STATUS = sample(MARITIAL_STATUS, Weights(MARITIAL_WEIGHTS_M), Int(SIZE / 2)),\n",
    "    SEX = repeat(['M'], Int(SIZE / 2)),\n",
    "    INCOME = sample(INCOME, Weights(INCOME_WEIGHTS_M), Int(SIZE / 2)),\n",
    ")\n",
    "population_f = DataFrame(\n",
    "    AGE = sample(AGE, Weights(AGE_WEIGHTS), Int(SIZE / 2)),\n",
    "    MARITIAL_STATUS = sample(MARITIAL_STATUS, Weights(MARITIAL_WEIGHTS_F), Int(SIZE / 2)),\n",
    "    SEX = repeat(['F'], Int(SIZE / 2)),\n",
    "    INCOME = sample(INCOME, Weights(INCOME_WEIGHTS_F), Int(SIZE / 2)),\n",
    ")\n",
    "disaggregated_dependent_population = reduce(vcat, [population_f, population_m])\n",
    "\n",
    "dependent_population = combine(groupby(disaggregated_dependent_population, names(disaggregated_dependent_population), sort=true), nrow)\n",
    "rename!(dependent_population, :nrow => :population)\n",
    "sort!(dependent_population, [:INCOME, :SEX, :MARITIAL_STATUS, :AGE])"
   ]
  },
  {
   "cell_type": "markdown",
   "metadata": {},
   "source": [
    "### 1.2. Compute marginal attribute distributions of the dependent population\n",
    "Then we compute the marginal population attributes. This is a type of data that we can usually get from the census data and will be input for our algorithms for population generation."
   ]
  },
  {
   "cell_type": "code",
   "execution_count": 25,
   "metadata": {},
   "outputs": [
    {
     "data": {
      "text/plain": [
       "3-element Vector{DataFrame}:\n",
       " \u001b[1m32×3 DataFrame\u001b[0m\n",
       "\u001b[1m Row \u001b[0m│\u001b[1m AGE   \u001b[0m\u001b[1m SEX  \u001b[0m\u001b[1m population \u001b[0m\n",
       "     │\u001b[90m Int64 \u001b[0m\u001b[90m Char \u001b[0m\u001b[90m Int64      \u001b[0m\n",
       "─────┼─────────────────────────\n",
       "   1 │     5  F          18760\n",
       "   2 │    10  F          18783\n",
       "   3 │    15  F          18815\n",
       "   4 │    20  F          18805\n",
       "   5 │    25  F          18765\n",
       "   6 │    30  F          18841\n",
       "   7 │    35  F          18619\n",
       "   8 │    40  F          18794\n",
       "   9 │    45  F          18779\n",
       "  10 │    50  F          18771\n",
       "  11 │    55  F          18730\n",
       "  ⋮  │   ⋮     ⋮        ⋮\n",
       "  23 │    35  M          18590\n",
       "  24 │    40  M          18823\n",
       "  25 │    45  M          18927\n",
       "  26 │    50  M          18905\n",
       "  27 │    55  M          18773\n",
       "  28 │    60  M          19025\n",
       "  29 │    65  M          18566\n",
       "  30 │    70  M          18476\n",
       "  31 │    75  M          18736\n",
       "  32 │    80  M          18718\n",
       "\u001b[36m                11 rows omitted\u001b[0m\n",
       " \u001b[1m8×3 DataFrame\u001b[0m\n",
       "\u001b[1m Row \u001b[0m│\u001b[1m MARITIAL_STATUS \u001b[0m\u001b[1m SEX  \u001b[0m\u001b[1m population \u001b[0m\n",
       "     │\u001b[90m String          \u001b[0m\u001b[90m Char \u001b[0m\u001b[90m Int64      \u001b[0m\n",
       "─────┼───────────────────────────────────\n",
       "   1 │ Divorced         F          59780\n",
       "   2 │ Married          F          89747\n",
       "   3 │ Not_married      F         120294\n",
       "   4 │ Widowed          F          30179\n",
       "   5 │ Divorced         M          89721\n",
       "   6 │ Married          M          60469\n",
       "   7 │ Not_married      M          29971\n",
       "   8 │ Widowed          M         119839\n",
       " \u001b[1m5×2 DataFrame\u001b[0m\n",
       "\u001b[1m Row \u001b[0m│\u001b[1m INCOME \u001b[0m\u001b[1m population \u001b[0m\n",
       "     │\u001b[90m Int64  \u001b[0m\u001b[90m Int64      \u001b[0m\n",
       "─────┼────────────────────\n",
       "   1 │  40000      119887\n",
       "   2 │  50000      120082\n",
       "   3 │  60000      120227\n",
       "   4 │  70000      119921\n",
       "   5 │  80000      119883"
      ]
     },
     "execution_count": 25,
     "metadata": {},
     "output_type": "execute_result"
    }
   ],
   "source": [
    "dependent_age_sex = combine(groupby(disaggregated_dependent_population, [:AGE, :SEX], sort=true), nrow); sort!(dependent_age_sex, [:SEX, :AGE])\n",
    "dependent_sex_maritial = combine(groupby(disaggregated_dependent_population, [:MARITIAL_STATUS, :SEX], sort=true), nrow); sort!(dependent_sex_maritial, [:SEX, :MARITIAL_STATUS])\n",
    "dependent_income = combine(groupby(disaggregated_dependent_population, [:INCOME], sort=true), nrow)\n",
    "dependent_age_sex, dependent_sex_maritial, dependent_income = map(x -> rename!(x, :nrow => :population), [dependent_age_sex, dependent_sex_maritial, dependent_income])"
   ]
  },
  {
   "cell_type": "markdown",
   "metadata": {},
   "source": [
    "### 1.3. Generate dependent population from marginals\n",
    "Then, we use our algorithm to estimate joint distribution of the marginal attributes. "
   ]
  },
  {
   "cell_type": "code",
   "execution_count": 52,
   "metadata": {},
   "outputs": [
    {
     "name": "stderr",
     "output_type": "stream",
     "text": [
      "\u001b[36m\u001b[1m[ \u001b[22m\u001b[39m\u001b[36m\u001b[1mInfo: \u001b[22m\u001b[39mConverged in 2 iterations.\n",
      "\u001b[36m\u001b[1m[ \u001b[22m\u001b[39m\u001b[36m\u001b[1mInfo: \u001b[22m\u001b[39mConverged in 2 iterations.\n",
      "\u001b[36m\u001b[1m[ \u001b[22m\u001b[39m\u001b[36m\u001b[1mInfo: \u001b[22m\u001b[39mInconsistent target margins, converting `X` and `mar` to proportions. Margin totals: [599996, 600000]\n",
      "\u001b[36m\u001b[1m[ \u001b[22m\u001b[39m\u001b[36m\u001b[1mInfo: \u001b[22m\u001b[39mConverged in 1 iterations.\n"
     ]
    },
    {
     "data": {
      "text/html": [
       "<div><div style = \"float: left;\"><span>640×5 DataFrame</span></div><div style = \"float: right;\"><span style = \"font-style: italic;\">615 rows omitted</span></div><div style = \"clear: both;\"></div></div><div class = \"data-frame\" style = \"overflow-x: scroll;\"><table class = \"data-frame\" style = \"margin-bottom: 6px;\"><thead><tr class = \"header\"><th class = \"rowNumber\" style = \"font-weight: bold; text-align: right;\">Row</th><th style = \"text-align: left;\">AGE</th><th style = \"text-align: left;\">MARITIAL_STATUS</th><th style = \"text-align: left;\">SEX</th><th style = \"text-align: left;\">INCOME</th><th style = \"text-align: left;\">population</th></tr><tr class = \"subheader headerLastRow\"><th class = \"rowNumber\" style = \"font-weight: bold; text-align: right;\"></th><th title = \"Int64\" style = \"text-align: left;\">Int64</th><th title = \"String\" style = \"text-align: left;\">String</th><th title = \"Char\" style = \"text-align: left;\">Char</th><th title = \"Int64\" style = \"text-align: left;\">Int64</th><th title = \"Int64\" style = \"text-align: left;\">Int64</th></tr></thead><tbody><tr><td class = \"rowNumber\" style = \"font-weight: bold; text-align: right;\">1</td><td style = \"text-align: right;\">5</td><td style = \"text-align: left;\">Divorced</td><td style = \"text-align: left;\">F</td><td style = \"text-align: right;\">40000</td><td style = \"text-align: right;\">747</td></tr><tr><td class = \"rowNumber\" style = \"font-weight: bold; text-align: right;\">2</td><td style = \"text-align: right;\">10</td><td style = \"text-align: left;\">Divorced</td><td style = \"text-align: left;\">F</td><td style = \"text-align: right;\">40000</td><td style = \"text-align: right;\">748</td></tr><tr><td class = \"rowNumber\" style = \"font-weight: bold; text-align: right;\">3</td><td style = \"text-align: right;\">15</td><td style = \"text-align: left;\">Divorced</td><td style = \"text-align: left;\">F</td><td style = \"text-align: right;\">40000</td><td style = \"text-align: right;\">749</td></tr><tr><td class = \"rowNumber\" style = \"font-weight: bold; text-align: right;\">4</td><td style = \"text-align: right;\">20</td><td style = \"text-align: left;\">Divorced</td><td style = \"text-align: left;\">F</td><td style = \"text-align: right;\">40000</td><td style = \"text-align: right;\">749</td></tr><tr><td class = \"rowNumber\" style = \"font-weight: bold; text-align: right;\">5</td><td style = \"text-align: right;\">25</td><td style = \"text-align: left;\">Divorced</td><td style = \"text-align: left;\">F</td><td style = \"text-align: right;\">40000</td><td style = \"text-align: right;\">747</td></tr><tr><td class = \"rowNumber\" style = \"font-weight: bold; text-align: right;\">6</td><td style = \"text-align: right;\">30</td><td style = \"text-align: left;\">Divorced</td><td style = \"text-align: left;\">F</td><td style = \"text-align: right;\">40000</td><td style = \"text-align: right;\">750</td></tr><tr><td class = \"rowNumber\" style = \"font-weight: bold; text-align: right;\">7</td><td style = \"text-align: right;\">35</td><td style = \"text-align: left;\">Divorced</td><td style = \"text-align: left;\">F</td><td style = \"text-align: right;\">40000</td><td style = \"text-align: right;\">741</td></tr><tr><td class = \"rowNumber\" style = \"font-weight: bold; text-align: right;\">8</td><td style = \"text-align: right;\">40</td><td style = \"text-align: left;\">Divorced</td><td style = \"text-align: left;\">F</td><td style = \"text-align: right;\">40000</td><td style = \"text-align: right;\">748</td></tr><tr><td class = \"rowNumber\" style = \"font-weight: bold; text-align: right;\">9</td><td style = \"text-align: right;\">45</td><td style = \"text-align: left;\">Divorced</td><td style = \"text-align: left;\">F</td><td style = \"text-align: right;\">40000</td><td style = \"text-align: right;\">748</td></tr><tr><td class = \"rowNumber\" style = \"font-weight: bold; text-align: right;\">10</td><td style = \"text-align: right;\">50</td><td style = \"text-align: left;\">Divorced</td><td style = \"text-align: left;\">F</td><td style = \"text-align: right;\">40000</td><td style = \"text-align: right;\">747</td></tr><tr><td class = \"rowNumber\" style = \"font-weight: bold; text-align: right;\">11</td><td style = \"text-align: right;\">55</td><td style = \"text-align: left;\">Divorced</td><td style = \"text-align: left;\">F</td><td style = \"text-align: right;\">40000</td><td style = \"text-align: right;\">746</td></tr><tr><td class = \"rowNumber\" style = \"font-weight: bold; text-align: right;\">12</td><td style = \"text-align: right;\">60</td><td style = \"text-align: left;\">Divorced</td><td style = \"text-align: left;\">F</td><td style = \"text-align: right;\">40000</td><td style = \"text-align: right;\">740</td></tr><tr><td class = \"rowNumber\" style = \"font-weight: bold; text-align: right;\">13</td><td style = \"text-align: right;\">65</td><td style = \"text-align: left;\">Divorced</td><td style = \"text-align: left;\">F</td><td style = \"text-align: right;\">40000</td><td style = \"text-align: right;\">750</td></tr><tr><td style = \"text-align: right;\">&vellip;</td><td style = \"text-align: right;\">&vellip;</td><td style = \"text-align: right;\">&vellip;</td><td style = \"text-align: right;\">&vellip;</td><td style = \"text-align: right;\">&vellip;</td><td style = \"text-align: right;\">&vellip;</td></tr><tr><td class = \"rowNumber\" style = \"font-weight: bold; text-align: right;\">629</td><td style = \"text-align: right;\">25</td><td style = \"text-align: left;\">Widowed</td><td style = \"text-align: left;\">M</td><td style = \"text-align: right;\">80000</td><td style = \"text-align: right;\">1498</td></tr><tr><td class = \"rowNumber\" style = \"font-weight: bold; text-align: right;\">630</td><td style = \"text-align: right;\">30</td><td style = \"text-align: left;\">Widowed</td><td style = \"text-align: left;\">M</td><td style = \"text-align: right;\">80000</td><td style = \"text-align: right;\">1497</td></tr><tr><td class = \"rowNumber\" style = \"font-weight: bold; text-align: right;\">631</td><td style = \"text-align: right;\">35</td><td style = \"text-align: left;\">Widowed</td><td style = \"text-align: left;\">M</td><td style = \"text-align: right;\">80000</td><td style = \"text-align: right;\">1484</td></tr><tr><td class = \"rowNumber\" style = \"font-weight: bold; text-align: right;\">632</td><td style = \"text-align: right;\">40</td><td style = \"text-align: left;\">Widowed</td><td style = \"text-align: left;\">M</td><td style = \"text-align: right;\">80000</td><td style = \"text-align: right;\">1502</td></tr><tr><td class = \"rowNumber\" style = \"font-weight: bold; text-align: right;\">633</td><td style = \"text-align: right;\">45</td><td style = \"text-align: left;\">Widowed</td><td style = \"text-align: left;\">M</td><td style = \"text-align: right;\">80000</td><td style = \"text-align: right;\">1511</td></tr><tr><td class = \"rowNumber\" style = \"font-weight: bold; text-align: right;\">634</td><td style = \"text-align: right;\">50</td><td style = \"text-align: left;\">Widowed</td><td style = \"text-align: left;\">M</td><td style = \"text-align: right;\">80000</td><td style = \"text-align: right;\">1509</td></tr><tr><td class = \"rowNumber\" style = \"font-weight: bold; text-align: right;\">635</td><td style = \"text-align: right;\">55</td><td style = \"text-align: left;\">Widowed</td><td style = \"text-align: left;\">M</td><td style = \"text-align: right;\">80000</td><td style = \"text-align: right;\">1498</td></tr><tr><td class = \"rowNumber\" style = \"font-weight: bold; text-align: right;\">636</td><td style = \"text-align: right;\">60</td><td style = \"text-align: left;\">Widowed</td><td style = \"text-align: left;\">M</td><td style = \"text-align: right;\">80000</td><td style = \"text-align: right;\">1519</td></tr><tr><td class = \"rowNumber\" style = \"font-weight: bold; text-align: right;\">637</td><td style = \"text-align: right;\">65</td><td style = \"text-align: left;\">Widowed</td><td style = \"text-align: left;\">M</td><td style = \"text-align: right;\">80000</td><td style = \"text-align: right;\">1482</td></tr><tr><td class = \"rowNumber\" style = \"font-weight: bold; text-align: right;\">638</td><td style = \"text-align: right;\">70</td><td style = \"text-align: left;\">Widowed</td><td style = \"text-align: left;\">M</td><td style = \"text-align: right;\">80000</td><td style = \"text-align: right;\">1475</td></tr><tr><td class = \"rowNumber\" style = \"font-weight: bold; text-align: right;\">639</td><td style = \"text-align: right;\">75</td><td style = \"text-align: left;\">Widowed</td><td style = \"text-align: left;\">M</td><td style = \"text-align: right;\">80000</td><td style = \"text-align: right;\">1495</td></tr><tr><td class = \"rowNumber\" style = \"font-weight: bold; text-align: right;\">640</td><td style = \"text-align: right;\">80</td><td style = \"text-align: left;\">Widowed</td><td style = \"text-align: left;\">M</td><td style = \"text-align: right;\">80000</td><td style = \"text-align: right;\">1494</td></tr></tbody></table></div>"
      ],
      "text/latex": [
       "\\begin{tabular}{r|ccccc}\n",
       "\t& AGE & MARITIAL\\_STATUS & SEX & INCOME & population\\\\\n",
       "\t\\hline\n",
       "\t& Int64 & String & Char & Int64 & Int64\\\\\n",
       "\t\\hline\n",
       "\t1 & 5 & Divorced & F & 40000 & 747 \\\\\n",
       "\t2 & 10 & Divorced & F & 40000 & 748 \\\\\n",
       "\t3 & 15 & Divorced & F & 40000 & 749 \\\\\n",
       "\t4 & 20 & Divorced & F & 40000 & 749 \\\\\n",
       "\t5 & 25 & Divorced & F & 40000 & 747 \\\\\n",
       "\t6 & 30 & Divorced & F & 40000 & 750 \\\\\n",
       "\t7 & 35 & Divorced & F & 40000 & 741 \\\\\n",
       "\t8 & 40 & Divorced & F & 40000 & 748 \\\\\n",
       "\t9 & 45 & Divorced & F & 40000 & 748 \\\\\n",
       "\t10 & 50 & Divorced & F & 40000 & 747 \\\\\n",
       "\t11 & 55 & Divorced & F & 40000 & 746 \\\\\n",
       "\t12 & 60 & Divorced & F & 40000 & 740 \\\\\n",
       "\t13 & 65 & Divorced & F & 40000 & 750 \\\\\n",
       "\t14 & 70 & Divorced & F & 40000 & 745 \\\\\n",
       "\t15 & 75 & Divorced & F & 40000 & 745 \\\\\n",
       "\t16 & 80 & Divorced & F & 40000 & 743 \\\\\n",
       "\t17 & 5 & Married & F & 40000 & 1121 \\\\\n",
       "\t18 & 10 & Married & F & 40000 & 1123 \\\\\n",
       "\t19 & 15 & Married & F & 40000 & 1125 \\\\\n",
       "\t20 & 20 & Married & F & 40000 & 1124 \\\\\n",
       "\t21 & 25 & Married & F & 40000 & 1122 \\\\\n",
       "\t22 & 30 & Married & F & 40000 & 1126 \\\\\n",
       "\t23 & 35 & Married & F & 40000 & 1113 \\\\\n",
       "\t24 & 40 & Married & F & 40000 & 1123 \\\\\n",
       "\t25 & 45 & Married & F & 40000 & 1123 \\\\\n",
       "\t26 & 50 & Married & F & 40000 & 1122 \\\\\n",
       "\t27 & 55 & Married & F & 40000 & 1120 \\\\\n",
       "\t28 & 60 & Married & F & 40000 & 1111 \\\\\n",
       "\t29 & 65 & Married & F & 40000 & 1126 \\\\\n",
       "\t30 & 70 & Married & F & 40000 & 1119 \\\\\n",
       "\t$\\dots$ & $\\dots$ & $\\dots$ & $\\dots$ & $\\dots$ & $\\dots$ \\\\\n",
       "\\end{tabular}\n"
      ],
      "text/plain": [
       "\u001b[1m640×5 DataFrame\u001b[0m\n",
       "\u001b[1m Row \u001b[0m│\u001b[1m AGE   \u001b[0m\u001b[1m MARITIAL_STATUS \u001b[0m\u001b[1m SEX  \u001b[0m\u001b[1m INCOME \u001b[0m\u001b[1m population \u001b[0m\n",
       "     │\u001b[90m Int64 \u001b[0m\u001b[90m String          \u001b[0m\u001b[90m Char \u001b[0m\u001b[90m Int64  \u001b[0m\u001b[90m Int64      \u001b[0m\n",
       "─────┼──────────────────────────────────────────────────\n",
       "   1 │     5  Divorced         F      40000         747\n",
       "   2 │    10  Divorced         F      40000         748\n",
       "   3 │    15  Divorced         F      40000         749\n",
       "   4 │    20  Divorced         F      40000         749\n",
       "   5 │    25  Divorced         F      40000         747\n",
       "   6 │    30  Divorced         F      40000         750\n",
       "   7 │    35  Divorced         F      40000         741\n",
       "   8 │    40  Divorced         F      40000         748\n",
       "   9 │    45  Divorced         F      40000         748\n",
       "  10 │    50  Divorced         F      40000         747\n",
       "  11 │    55  Divorced         F      40000         746\n",
       "  ⋮  │   ⋮           ⋮          ⋮      ⋮         ⋮\n",
       " 631 │    35  Widowed          M      80000        1484\n",
       " 632 │    40  Widowed          M      80000        1502\n",
       " 633 │    45  Widowed          M      80000        1511\n",
       " 634 │    50  Widowed          M      80000        1509\n",
       " 635 │    55  Widowed          M      80000        1498\n",
       " 636 │    60  Widowed          M      80000        1519\n",
       " 637 │    65  Widowed          M      80000        1482\n",
       " 638 │    70  Widowed          M      80000        1475\n",
       " 639 │    75  Widowed          M      80000        1495\n",
       " 640 │    80  Widowed          M      80000        1494\n",
       "\u001b[36m                                        619 rows omitted\u001b[0m"
      ]
     },
     "execution_count": 52,
     "metadata": {},
     "output_type": "execute_result"
    }
   ],
   "source": [
    "#dependent population\n",
    "generated_dependent_population, aggregated_population = generate_joint_distributions(dependent_age_sex, dependent_sex_maritial, dependent_income)\n",
    "generated_dependent_population.:population = aggregated_population.:population\n",
    "generated_dependent_population[:, Not(:id)]"
   ]
  },
  {
   "cell_type": "markdown",
   "metadata": {},
   "source": [
    "### 1.4. Evaluation of fit of generated dependent population.\n",
    "Finally, we evaluate if the generated population is correct. We use approach based on Z-score described by Edwards, Tanton, 2013 [1].\n",
    "\n",
    "\n",
    "[1] Edwards, K. L., & Tanton, R. (2013). Validation of spatial microsimulation models. Spatial microsimulation: A reference guide for users, 249-258. https://ndl.ethernet.edu.et/bitstream/123456789/14722/1/205.pdf#page=38"
   ]
  },
  {
   "cell_type": "code",
   "execution_count": 53,
   "metadata": {},
   "outputs": [
    {
     "data": {
      "text/html": [
       "<div><div style = \"float: left;\"><span>640×7 DataFrame</span></div><div style = \"float: right;\"><span style = \"font-style: italic;\">615 rows omitted</span></div><div style = \"clear: both;\"></div></div><div class = \"data-frame\" style = \"overflow-x: scroll;\"><table class = \"data-frame\" style = \"margin-bottom: 6px;\"><thead><tr class = \"header\"><th class = \"rowNumber\" style = \"font-weight: bold; text-align: right;\">Row</th><th style = \"text-align: left;\">AGE</th><th style = \"text-align: left;\">MARITIAL_STATUS</th><th style = \"text-align: left;\">SEX</th><th style = \"text-align: left;\">INCOME</th><th style = \"text-align: left;\">population</th><th style = \"text-align: left;\">estimated_population</th><th style = \"text-align: left;\">Z_score</th></tr><tr class = \"subheader headerLastRow\"><th class = \"rowNumber\" style = \"font-weight: bold; text-align: right;\"></th><th title = \"Int64\" style = \"text-align: left;\">Int64</th><th title = \"String\" style = \"text-align: left;\">String</th><th title = \"Char\" style = \"text-align: left;\">Char</th><th title = \"Int64\" style = \"text-align: left;\">Int64</th><th title = \"Int64\" style = \"text-align: left;\">Int64</th><th title = \"Int64\" style = \"text-align: left;\">Int64</th><th title = \"Float64\" style = \"text-align: left;\">Float64</th></tr></thead><tbody><tr><td class = \"rowNumber\" style = \"font-weight: bold; text-align: right;\">1</td><td style = \"text-align: right;\">5</td><td style = \"text-align: left;\">Divorced</td><td style = \"text-align: left;\">F</td><td style = \"text-align: right;\">40000</td><td style = \"text-align: right;\">1453</td><td style = \"text-align: right;\">747</td><td style = \"text-align: right;\">18.5438</td></tr><tr><td class = \"rowNumber\" style = \"font-weight: bold; text-align: right;\">2</td><td style = \"text-align: right;\">5</td><td style = \"text-align: left;\">Divorced</td><td style = \"text-align: left;\">F</td><td style = \"text-align: right;\">50000</td><td style = \"text-align: right;\">1124</td><td style = \"text-align: right;\">748</td><td style = \"text-align: right;\">11.2257</td></tr><tr><td class = \"rowNumber\" style = \"font-weight: bold; text-align: right;\">3</td><td style = \"text-align: right;\">5</td><td style = \"text-align: left;\">Divorced</td><td style = \"text-align: left;\">F</td><td style = \"text-align: right;\">60000</td><td style = \"text-align: right;\">743</td><td style = \"text-align: right;\">749</td><td style = \"text-align: right;\">-0.220255</td></tr><tr><td class = \"rowNumber\" style = \"font-weight: bold; text-align: right;\">4</td><td style = \"text-align: right;\">5</td><td style = \"text-align: left;\">Divorced</td><td style = \"text-align: left;\">F</td><td style = \"text-align: right;\">70000</td><td style = \"text-align: right;\">400</td><td style = \"text-align: right;\">749</td><td style = \"text-align: right;\">-17.4558</td></tr><tr><td class = \"rowNumber\" style = \"font-weight: bold; text-align: right;\">5</td><td style = \"text-align: right;\">5</td><td style = \"text-align: left;\">Divorced</td><td style = \"text-align: left;\">F</td><td style = \"text-align: right;\">80000</td><td style = \"text-align: right;\">50</td><td style = \"text-align: right;\">747</td><td style = \"text-align: right;\">-98.5748</td></tr><tr><td class = \"rowNumber\" style = \"font-weight: bold; text-align: right;\">6</td><td style = \"text-align: right;\">5</td><td style = \"text-align: left;\">Divorced</td><td style = \"text-align: left;\">M</td><td style = \"text-align: right;\">40000</td><td style = \"text-align: right;\">70</td><td style = \"text-align: right;\">750</td><td style = \"text-align: right;\">-81.2803</td></tr><tr><td class = \"rowNumber\" style = \"font-weight: bold; text-align: right;\">7</td><td style = \"text-align: right;\">5</td><td style = \"text-align: left;\">Divorced</td><td style = \"text-align: left;\">M</td><td style = \"text-align: right;\">50000</td><td style = \"text-align: right;\">597</td><td style = \"text-align: right;\">741</td><td style = \"text-align: right;\">-5.89646</td></tr><tr><td class = \"rowNumber\" style = \"font-weight: bold; text-align: right;\">8</td><td style = \"text-align: right;\">5</td><td style = \"text-align: left;\">Divorced</td><td style = \"text-align: left;\">M</td><td style = \"text-align: right;\">60000</td><td style = \"text-align: right;\">1129</td><td style = \"text-align: right;\">748</td><td style = \"text-align: right;\">11.3498</td></tr><tr><td class = \"rowNumber\" style = \"font-weight: bold; text-align: right;\">9</td><td style = \"text-align: right;\">5</td><td style = \"text-align: left;\">Divorced</td><td style = \"text-align: left;\">M</td><td style = \"text-align: right;\">70000</td><td style = \"text-align: right;\">1646</td><td style = \"text-align: right;\">748</td><td style = \"text-align: right;\">22.1645</td></tr><tr><td class = \"rowNumber\" style = \"font-weight: bold; text-align: right;\">10</td><td style = \"text-align: right;\">5</td><td style = \"text-align: left;\">Divorced</td><td style = \"text-align: left;\">M</td><td style = \"text-align: right;\">80000</td><td style = \"text-align: right;\">2210</td><td style = \"text-align: right;\">747</td><td style = \"text-align: right;\">31.1781</td></tr><tr><td class = \"rowNumber\" style = \"font-weight: bold; text-align: right;\">11</td><td style = \"text-align: right;\">5</td><td style = \"text-align: left;\">Married</td><td style = \"text-align: left;\">F</td><td style = \"text-align: right;\">40000</td><td style = \"text-align: right;\">2170</td><td style = \"text-align: right;\">746</td><td style = \"text-align: right;\">30.6244</td></tr><tr><td class = \"rowNumber\" style = \"font-weight: bold; text-align: right;\">12</td><td style = \"text-align: right;\">5</td><td style = \"text-align: left;\">Married</td><td style = \"text-align: left;\">F</td><td style = \"text-align: right;\">50000</td><td style = \"text-align: right;\">1690</td><td style = \"text-align: right;\">740</td><td style = \"text-align: right;\">23.1416</td></tr><tr><td class = \"rowNumber\" style = \"font-weight: bold; text-align: right;\">13</td><td style = \"text-align: right;\">5</td><td style = \"text-align: left;\">Married</td><td style = \"text-align: left;\">F</td><td style = \"text-align: right;\">60000</td><td style = \"text-align: right;\">1114</td><td style = \"text-align: right;\">750</td><td style = \"text-align: right;\">10.916</td></tr><tr><td style = \"text-align: right;\">&vellip;</td><td style = \"text-align: right;\">&vellip;</td><td style = \"text-align: right;\">&vellip;</td><td style = \"text-align: right;\">&vellip;</td><td style = \"text-align: right;\">&vellip;</td><td style = \"text-align: right;\">&vellip;</td><td style = \"text-align: right;\">&vellip;</td><td style = \"text-align: right;\">&vellip;</td></tr><tr><td class = \"rowNumber\" style = \"font-weight: bold; text-align: right;\">629</td><td style = \"text-align: right;\">80</td><td style = \"text-align: left;\">Not_married</td><td style = \"text-align: left;\">M</td><td style = \"text-align: right;\">70000</td><td style = \"text-align: right;\">574</td><td style = \"text-align: right;\">1498</td><td style = \"text-align: right;\">-38.5855</td></tr><tr><td class = \"rowNumber\" style = \"font-weight: bold; text-align: right;\">630</td><td style = \"text-align: right;\">80</td><td style = \"text-align: left;\">Not_married</td><td style = \"text-align: left;\">M</td><td style = \"text-align: right;\">80000</td><td style = \"text-align: right;\">735</td><td style = \"text-align: right;\">1497</td><td style = \"text-align: right;\">-28.124</td></tr><tr><td class = \"rowNumber\" style = \"font-weight: bold; text-align: right;\">631</td><td style = \"text-align: right;\">80</td><td style = \"text-align: left;\">Widowed</td><td style = \"text-align: left;\">F</td><td style = \"text-align: right;\">40000</td><td style = \"text-align: right;\">699</td><td style = \"text-align: right;\">1484</td><td style = \"text-align: right;\">-29.7087</td></tr><tr><td class = \"rowNumber\" style = \"font-weight: bold; text-align: right;\">632</td><td style = \"text-align: right;\">80</td><td style = \"text-align: left;\">Widowed</td><td style = \"text-align: left;\">F</td><td style = \"text-align: right;\">50000</td><td style = \"text-align: right;\">535</td><td style = \"text-align: right;\">1502</td><td style = \"text-align: right;\">-41.8257</td></tr><tr><td class = \"rowNumber\" style = \"font-weight: bold; text-align: right;\">633</td><td style = \"text-align: right;\">80</td><td style = \"text-align: left;\">Widowed</td><td style = \"text-align: left;\">F</td><td style = \"text-align: right;\">60000</td><td style = \"text-align: right;\">380</td><td style = \"text-align: right;\">1511</td><td style = \"text-align: right;\">-58.0375</td></tr><tr><td class = \"rowNumber\" style = \"font-weight: bold; text-align: right;\">634</td><td style = \"text-align: right;\">80</td><td style = \"text-align: left;\">Widowed</td><td style = \"text-align: left;\">F</td><td style = \"text-align: right;\">70000</td><td style = \"text-align: right;\">196</td><td style = \"text-align: right;\">1509</td><td style = \"text-align: right;\">-93.801</td></tr><tr><td class = \"rowNumber\" style = \"font-weight: bold; text-align: right;\">635</td><td style = \"text-align: right;\">80</td><td style = \"text-align: left;\">Widowed</td><td style = \"text-align: left;\">F</td><td style = \"text-align: right;\">80000</td><td style = \"text-align: right;\">26</td><td style = \"text-align: right;\">1498</td><td style = \"text-align: right;\">-288.689</td></tr><tr><td class = \"rowNumber\" style = \"font-weight: bold; text-align: right;\">636</td><td style = \"text-align: right;\">80</td><td style = \"text-align: left;\">Widowed</td><td style = \"text-align: left;\">M</td><td style = \"text-align: right;\">40000</td><td style = \"text-align: right;\">62</td><td style = \"text-align: right;\">1519</td><td style = \"text-align: right;\">-185.049</td></tr><tr><td class = \"rowNumber\" style = \"font-weight: bold; text-align: right;\">637</td><td style = \"text-align: right;\">80</td><td style = \"text-align: left;\">Widowed</td><td style = \"text-align: left;\">M</td><td style = \"text-align: right;\">50000</td><td style = \"text-align: right;\">760</td><td style = \"text-align: right;\">1482</td><td style = \"text-align: right;\">-26.2063</td></tr><tr><td class = \"rowNumber\" style = \"font-weight: bold; text-align: right;\">638</td><td style = \"text-align: right;\">80</td><td style = \"text-align: left;\">Widowed</td><td style = \"text-align: left;\">M</td><td style = \"text-align: right;\">60000</td><td style = \"text-align: right;\">1539</td><td style = \"text-align: right;\">1475</td><td style = \"text-align: right;\">1.6335</td></tr><tr><td class = \"rowNumber\" style = \"font-weight: bold; text-align: right;\">639</td><td style = \"text-align: right;\">80</td><td style = \"text-align: left;\">Widowed</td><td style = \"text-align: left;\">M</td><td style = \"text-align: right;\">70000</td><td style = \"text-align: right;\">2270</td><td style = \"text-align: right;\">1495</td><td style = \"text-align: right;\">16.2972</td></tr><tr><td class = \"rowNumber\" style = \"font-weight: bold; text-align: right;\">640</td><td style = \"text-align: right;\">80</td><td style = \"text-align: left;\">Widowed</td><td style = \"text-align: left;\">M</td><td style = \"text-align: right;\">80000</td><td style = \"text-align: right;\">2854</td><td style = \"text-align: right;\">1494</td><td style = \"text-align: right;\">25.518</td></tr></tbody></table></div>"
      ],
      "text/latex": [
       "\\begin{tabular}{r|ccccccc}\n",
       "\t& AGE & MARITIAL\\_STATUS & SEX & INCOME & population & estimated\\_population & Z\\_score\\\\\n",
       "\t\\hline\n",
       "\t& Int64 & String & Char & Int64 & Int64 & Int64 & Float64\\\\\n",
       "\t\\hline\n",
       "\t1 & 5 & Divorced & F & 40000 & 1453 & 747 & 18.5438 \\\\\n",
       "\t2 & 5 & Divorced & F & 50000 & 1124 & 748 & 11.2257 \\\\\n",
       "\t3 & 5 & Divorced & F & 60000 & 743 & 749 & -0.220255 \\\\\n",
       "\t4 & 5 & Divorced & F & 70000 & 400 & 749 & -17.4558 \\\\\n",
       "\t5 & 5 & Divorced & F & 80000 & 50 & 747 & -98.5748 \\\\\n",
       "\t6 & 5 & Divorced & M & 40000 & 70 & 750 & -81.2803 \\\\\n",
       "\t7 & 5 & Divorced & M & 50000 & 597 & 741 & -5.89646 \\\\\n",
       "\t8 & 5 & Divorced & M & 60000 & 1129 & 748 & 11.3498 \\\\\n",
       "\t9 & 5 & Divorced & M & 70000 & 1646 & 748 & 22.1645 \\\\\n",
       "\t10 & 5 & Divorced & M & 80000 & 2210 & 747 & 31.1781 \\\\\n",
       "\t11 & 5 & Married & F & 40000 & 2170 & 746 & 30.6244 \\\\\n",
       "\t12 & 5 & Married & F & 50000 & 1690 & 740 & 23.1416 \\\\\n",
       "\t13 & 5 & Married & F & 60000 & 1114 & 750 & 10.916 \\\\\n",
       "\t14 & 5 & Married & F & 70000 & 554 & 745 & -8.11856 \\\\\n",
       "\t15 & 5 & Married & F & 80000 & 53 & 745 & -95.0577 \\\\\n",
       "\t16 & 5 & Married & M & 40000 & 40 & 743 & -111.158 \\\\\n",
       "\t17 & 5 & Married & M & 50000 & 398 & 1121 & -36.2527 \\\\\n",
       "\t18 & 5 & Married & M & 60000 & 763 & 1123 & -13.0412 \\\\\n",
       "\t19 & 5 & Married & M & 70000 & 1205 & 1125 & 2.30692 \\\\\n",
       "\t20 & 5 & Married & M & 80000 & 1472 & 1124 & 9.08152 \\\\\n",
       "\t21 & 5 & Not\\_married & F & 40000 & 2887 & 1122 & 32.9283 \\\\\n",
       "\t22 & 5 & Not\\_married & F & 50000 & 2297 & 1126 & 24.4799 \\\\\n",
       "\t23 & 5 & Not\\_married & F & 60000 & 1516 & 1113 & 10.3635 \\\\\n",
       "\t24 & 5 & Not\\_married & F & 70000 & 692 & 1123 & -16.3936 \\\\\n",
       "\t25 & 5 & Not\\_married & F & 80000 & 79 & 1123 & -117.467 \\\\\n",
       "\t26 & 5 & Not\\_married & M & 40000 & 20 & 1122 & -246.419 \\\\\n",
       "\t27 & 5 & Not\\_married & M & 50000 & 171 & 1120 & -72.5822 \\\\\n",
       "\t28 & 5 & Not\\_married & M & 60000 & 373 & 1111 & -38.2241 \\\\\n",
       "\t29 & 5 & Not\\_married & M & 70000 & 564 & 1126 & -23.6756 \\\\\n",
       "\t30 & 5 & Not\\_married & M & 80000 & 720 & 1119 & -14.8788 \\\\\n",
       "\t$\\dots$ & $\\dots$ & $\\dots$ & $\\dots$ & $\\dots$ & $\\dots$ & $\\dots$ & $\\dots$ \\\\\n",
       "\\end{tabular}\n"
      ],
      "text/plain": [
       "\u001b[1m640×7 DataFrame\u001b[0m\n",
       "\u001b[1m Row \u001b[0m│\u001b[1m AGE   \u001b[0m\u001b[1m MARITIAL_STATUS \u001b[0m\u001b[1m SEX  \u001b[0m\u001b[1m INCOME \u001b[0m\u001b[1m population \u001b[0m\u001b[1m estimated_population \u001b[0m\u001b[1m\u001b[0m ⋯\n",
       "     │\u001b[90m Int64 \u001b[0m\u001b[90m String          \u001b[0m\u001b[90m Char \u001b[0m\u001b[90m Int64  \u001b[0m\u001b[90m Int64      \u001b[0m\u001b[90m Int64                \u001b[0m\u001b[90m\u001b[0m ⋯\n",
       "─────┼──────────────────────────────────────────────────────────────────────────\n",
       "   1 │     5  Divorced         F      40000        1453                   747  ⋯\n",
       "   2 │     5  Divorced         F      50000        1124                   748\n",
       "   3 │     5  Divorced         F      60000         743                   749\n",
       "   4 │     5  Divorced         F      70000         400                   749\n",
       "   5 │     5  Divorced         F      80000          50                   747  ⋯\n",
       "   6 │     5  Divorced         M      40000          70                   750\n",
       "   7 │     5  Divorced         M      50000         597                   741\n",
       "   8 │     5  Divorced         M      60000        1129                   748\n",
       "   9 │     5  Divorced         M      70000        1646                   748  ⋯\n",
       "  10 │     5  Divorced         M      80000        2210                   747\n",
       "  11 │     5  Married          F      40000        2170                   746\n",
       "  ⋮  │   ⋮           ⋮          ⋮      ⋮         ⋮                ⋮            ⋱\n",
       " 631 │    80  Widowed          F      40000         699                  1484\n",
       " 632 │    80  Widowed          F      50000         535                  1502  ⋯\n",
       " 633 │    80  Widowed          F      60000         380                  1511\n",
       " 634 │    80  Widowed          F      70000         196                  1509\n",
       " 635 │    80  Widowed          F      80000          26                  1498\n",
       " 636 │    80  Widowed          M      40000          62                  1519  ⋯\n",
       " 637 │    80  Widowed          M      50000         760                  1482\n",
       " 638 │    80  Widowed          M      60000        1539                  1475\n",
       " 639 │    80  Widowed          M      70000        2270                  1495\n",
       " 640 │    80  Widowed          M      80000        2854                  1494  ⋯\n",
       "\u001b[36m                                                   1 column and 619 rows omitted\u001b[0m"
      ]
     },
     "execution_count": 53,
     "metadata": {},
     "output_type": "execute_result"
    }
   ],
   "source": [
    "sort!(generated_dependent_population)\n",
    "sort!(dependent_population)\n",
    "dependent_population.:estimated_population = generated_dependent_population.:population\n",
    "\n",
    "p = dependent_population.:population/sum(dependent_population.:population)\n",
    "t = dependent_population.:estimated_population/sum(dependent_population.:population)\n",
    "N = sum(dependent_population.:population)\n",
    "dependent_population.:Z_score = (p .- t) ./ sqrt.((p .* (1 .- p)) ./ N)\n",
    "dependent_population"
   ]
  },
  {
   "cell_type": "code",
   "execution_count": 62,
   "metadata": {
    "scrolled": true
   },
   "outputs": [
    {
     "name": "stdout",
     "output_type": "stream",
     "text": [
      "Percentage of well fitting values: 0.0984375\n",
      "Table does not have good fit. Critical value is 640 and our calculated statistic has value: 3.9665000768291065e6"
     ]
    }
   ],
   "source": [
    "#percentage of well-fitting values\n",
    "wfv = count(i -> (-1.96<i<1.96), dependent_population.Z_score) / nrow(dependent_population)\n",
    "print(\"Percentage of well fitting values: \", wfv, \"\\n\")\n",
    "\n",
    "#does the table have a good fit?\n",
    "cv = sum(dependent_population.Z_score .^ 2) #much more than critical value for chi2 with 640 degrees of freedem -> bad fit\n",
    "print(\"Table does not have good fit. Critical value is 640 and our calculated statistic has value: \", cv)"
   ]
  },
  {
   "cell_type": "markdown",
   "metadata": {},
   "source": [
    "# 2. Population with independent variables"
   ]
  },
  {
   "cell_type": "markdown",
   "metadata": {},
   "source": [
    "### 2.1. Generate target population with independent variables\n",
    "First we generate target population that we will treat as the real population which we'll try to synthesize using available algorithms. All variables are independent."
   ]
  },
  {
   "cell_type": "code",
   "execution_count": 45,
   "metadata": {
    "scrolled": false
   },
   "outputs": [
    {
     "data": {
      "text/html": [
       "<div><div style = \"float: left;\"><span>640×5 DataFrame</span></div><div style = \"float: right;\"><span style = \"font-style: italic;\">615 rows omitted</span></div><div style = \"clear: both;\"></div></div><div class = \"data-frame\" style = \"overflow-x: scroll;\"><table class = \"data-frame\" style = \"margin-bottom: 6px;\"><thead><tr class = \"header\"><th class = \"rowNumber\" style = \"font-weight: bold; text-align: right;\">Row</th><th style = \"text-align: left;\">AGE</th><th style = \"text-align: left;\">MARITIAL_STATUS</th><th style = \"text-align: left;\">SEX</th><th style = \"text-align: left;\">INCOME</th><th style = \"text-align: left;\">population</th></tr><tr class = \"subheader headerLastRow\"><th class = \"rowNumber\" style = \"font-weight: bold; text-align: right;\"></th><th title = \"Int64\" style = \"text-align: left;\">Int64</th><th title = \"String\" style = \"text-align: left;\">String</th><th title = \"Char\" style = \"text-align: left;\">Char</th><th title = \"Int64\" style = \"text-align: left;\">Int64</th><th title = \"Int64\" style = \"text-align: left;\">Int64</th></tr></thead><tbody><tr><td class = \"rowNumber\" style = \"font-weight: bold; text-align: right;\">1</td><td style = \"text-align: right;\">5</td><td style = \"text-align: left;\">Divorced</td><td style = \"text-align: left;\">F</td><td style = \"text-align: right;\">40000</td><td style = \"text-align: right;\">1453</td></tr><tr><td class = \"rowNumber\" style = \"font-weight: bold; text-align: right;\">2</td><td style = \"text-align: right;\">10</td><td style = \"text-align: left;\">Divorced</td><td style = \"text-align: left;\">F</td><td style = \"text-align: right;\">40000</td><td style = \"text-align: right;\">1466</td></tr><tr><td class = \"rowNumber\" style = \"font-weight: bold; text-align: right;\">3</td><td style = \"text-align: right;\">15</td><td style = \"text-align: left;\">Divorced</td><td style = \"text-align: left;\">F</td><td style = \"text-align: right;\">40000</td><td style = \"text-align: right;\">1475</td></tr><tr><td class = \"rowNumber\" style = \"font-weight: bold; text-align: right;\">4</td><td style = \"text-align: right;\">20</td><td style = \"text-align: left;\">Divorced</td><td style = \"text-align: left;\">F</td><td style = \"text-align: right;\">40000</td><td style = \"text-align: right;\">1414</td></tr><tr><td class = \"rowNumber\" style = \"font-weight: bold; text-align: right;\">5</td><td style = \"text-align: right;\">25</td><td style = \"text-align: left;\">Divorced</td><td style = \"text-align: left;\">F</td><td style = \"text-align: right;\">40000</td><td style = \"text-align: right;\">1470</td></tr><tr><td class = \"rowNumber\" style = \"font-weight: bold; text-align: right;\">6</td><td style = \"text-align: right;\">30</td><td style = \"text-align: left;\">Divorced</td><td style = \"text-align: left;\">F</td><td style = \"text-align: right;\">40000</td><td style = \"text-align: right;\">1478</td></tr><tr><td class = \"rowNumber\" style = \"font-weight: bold; text-align: right;\">7</td><td style = \"text-align: right;\">35</td><td style = \"text-align: left;\">Divorced</td><td style = \"text-align: left;\">F</td><td style = \"text-align: right;\">40000</td><td style = \"text-align: right;\">1408</td></tr><tr><td class = \"rowNumber\" style = \"font-weight: bold; text-align: right;\">8</td><td style = \"text-align: right;\">40</td><td style = \"text-align: left;\">Divorced</td><td style = \"text-align: left;\">F</td><td style = \"text-align: right;\">40000</td><td style = \"text-align: right;\">1480</td></tr><tr><td class = \"rowNumber\" style = \"font-weight: bold; text-align: right;\">9</td><td style = \"text-align: right;\">45</td><td style = \"text-align: left;\">Divorced</td><td style = \"text-align: left;\">F</td><td style = \"text-align: right;\">40000</td><td style = \"text-align: right;\">1467</td></tr><tr><td class = \"rowNumber\" style = \"font-weight: bold; text-align: right;\">10</td><td style = \"text-align: right;\">50</td><td style = \"text-align: left;\">Divorced</td><td style = \"text-align: left;\">F</td><td style = \"text-align: right;\">40000</td><td style = \"text-align: right;\">1408</td></tr><tr><td class = \"rowNumber\" style = \"font-weight: bold; text-align: right;\">11</td><td style = \"text-align: right;\">55</td><td style = \"text-align: left;\">Divorced</td><td style = \"text-align: left;\">F</td><td style = \"text-align: right;\">40000</td><td style = \"text-align: right;\">1484</td></tr><tr><td class = \"rowNumber\" style = \"font-weight: bold; text-align: right;\">12</td><td style = \"text-align: right;\">60</td><td style = \"text-align: left;\">Divorced</td><td style = \"text-align: left;\">F</td><td style = \"text-align: right;\">40000</td><td style = \"text-align: right;\">1495</td></tr><tr><td class = \"rowNumber\" style = \"font-weight: bold; text-align: right;\">13</td><td style = \"text-align: right;\">65</td><td style = \"text-align: left;\">Divorced</td><td style = \"text-align: left;\">F</td><td style = \"text-align: right;\">40000</td><td style = \"text-align: right;\">1440</td></tr><tr><td style = \"text-align: right;\">&vellip;</td><td style = \"text-align: right;\">&vellip;</td><td style = \"text-align: right;\">&vellip;</td><td style = \"text-align: right;\">&vellip;</td><td style = \"text-align: right;\">&vellip;</td><td style = \"text-align: right;\">&vellip;</td></tr><tr><td class = \"rowNumber\" style = \"font-weight: bold; text-align: right;\">629</td><td style = \"text-align: right;\">25</td><td style = \"text-align: left;\">Widowed</td><td style = \"text-align: left;\">M</td><td style = \"text-align: right;\">80000</td><td style = \"text-align: right;\">2890</td></tr><tr><td class = \"rowNumber\" style = \"font-weight: bold; text-align: right;\">630</td><td style = \"text-align: right;\">30</td><td style = \"text-align: left;\">Widowed</td><td style = \"text-align: left;\">M</td><td style = \"text-align: right;\">80000</td><td style = \"text-align: right;\">2931</td></tr><tr><td class = \"rowNumber\" style = \"font-weight: bold; text-align: right;\">631</td><td style = \"text-align: right;\">35</td><td style = \"text-align: left;\">Widowed</td><td style = \"text-align: left;\">M</td><td style = \"text-align: right;\">80000</td><td style = \"text-align: right;\">2921</td></tr><tr><td class = \"rowNumber\" style = \"font-weight: bold; text-align: right;\">632</td><td style = \"text-align: right;\">40</td><td style = \"text-align: left;\">Widowed</td><td style = \"text-align: left;\">M</td><td style = \"text-align: right;\">80000</td><td style = \"text-align: right;\">2953</td></tr><tr><td class = \"rowNumber\" style = \"font-weight: bold; text-align: right;\">633</td><td style = \"text-align: right;\">45</td><td style = \"text-align: left;\">Widowed</td><td style = \"text-align: left;\">M</td><td style = \"text-align: right;\">80000</td><td style = \"text-align: right;\">2952</td></tr><tr><td class = \"rowNumber\" style = \"font-weight: bold; text-align: right;\">634</td><td style = \"text-align: right;\">50</td><td style = \"text-align: left;\">Widowed</td><td style = \"text-align: left;\">M</td><td style = \"text-align: right;\">80000</td><td style = \"text-align: right;\">2869</td></tr><tr><td class = \"rowNumber\" style = \"font-weight: bold; text-align: right;\">635</td><td style = \"text-align: right;\">55</td><td style = \"text-align: left;\">Widowed</td><td style = \"text-align: left;\">M</td><td style = \"text-align: right;\">80000</td><td style = \"text-align: right;\">2911</td></tr><tr><td class = \"rowNumber\" style = \"font-weight: bold; text-align: right;\">636</td><td style = \"text-align: right;\">60</td><td style = \"text-align: left;\">Widowed</td><td style = \"text-align: left;\">M</td><td style = \"text-align: right;\">80000</td><td style = \"text-align: right;\">2912</td></tr><tr><td class = \"rowNumber\" style = \"font-weight: bold; text-align: right;\">637</td><td style = \"text-align: right;\">65</td><td style = \"text-align: left;\">Widowed</td><td style = \"text-align: left;\">M</td><td style = \"text-align: right;\">80000</td><td style = \"text-align: right;\">2812</td></tr><tr><td class = \"rowNumber\" style = \"font-weight: bold; text-align: right;\">638</td><td style = \"text-align: right;\">70</td><td style = \"text-align: left;\">Widowed</td><td style = \"text-align: left;\">M</td><td style = \"text-align: right;\">80000</td><td style = \"text-align: right;\">2946</td></tr><tr><td class = \"rowNumber\" style = \"font-weight: bold; text-align: right;\">639</td><td style = \"text-align: right;\">75</td><td style = \"text-align: left;\">Widowed</td><td style = \"text-align: left;\">M</td><td style = \"text-align: right;\">80000</td><td style = \"text-align: right;\">2962</td></tr><tr><td class = \"rowNumber\" style = \"font-weight: bold; text-align: right;\">640</td><td style = \"text-align: right;\">80</td><td style = \"text-align: left;\">Widowed</td><td style = \"text-align: left;\">M</td><td style = \"text-align: right;\">80000</td><td style = \"text-align: right;\">2854</td></tr></tbody></table></div>"
      ],
      "text/latex": [
       "\\begin{tabular}{r|ccccc}\n",
       "\t& AGE & MARITIAL\\_STATUS & SEX & INCOME & population\\\\\n",
       "\t\\hline\n",
       "\t& Int64 & String & Char & Int64 & Int64\\\\\n",
       "\t\\hline\n",
       "\t1 & 5 & Divorced & F & 40000 & 1453 \\\\\n",
       "\t2 & 10 & Divorced & F & 40000 & 1466 \\\\\n",
       "\t3 & 15 & Divorced & F & 40000 & 1475 \\\\\n",
       "\t4 & 20 & Divorced & F & 40000 & 1414 \\\\\n",
       "\t5 & 25 & Divorced & F & 40000 & 1470 \\\\\n",
       "\t6 & 30 & Divorced & F & 40000 & 1478 \\\\\n",
       "\t7 & 35 & Divorced & F & 40000 & 1408 \\\\\n",
       "\t8 & 40 & Divorced & F & 40000 & 1480 \\\\\n",
       "\t9 & 45 & Divorced & F & 40000 & 1467 \\\\\n",
       "\t10 & 50 & Divorced & F & 40000 & 1408 \\\\\n",
       "\t11 & 55 & Divorced & F & 40000 & 1484 \\\\\n",
       "\t12 & 60 & Divorced & F & 40000 & 1495 \\\\\n",
       "\t13 & 65 & Divorced & F & 40000 & 1440 \\\\\n",
       "\t14 & 70 & Divorced & F & 40000 & 1552 \\\\\n",
       "\t15 & 75 & Divorced & F & 40000 & 1423 \\\\\n",
       "\t16 & 80 & Divorced & F & 40000 & 1465 \\\\\n",
       "\t17 & 5 & Married & F & 40000 & 2170 \\\\\n",
       "\t18 & 10 & Married & F & 40000 & 2214 \\\\\n",
       "\t19 & 15 & Married & F & 40000 & 2219 \\\\\n",
       "\t20 & 20 & Married & F & 40000 & 2185 \\\\\n",
       "\t21 & 25 & Married & F & 40000 & 2166 \\\\\n",
       "\t22 & 30 & Married & F & 40000 & 2131 \\\\\n",
       "\t23 & 35 & Married & F & 40000 & 2133 \\\\\n",
       "\t24 & 40 & Married & F & 40000 & 2170 \\\\\n",
       "\t25 & 45 & Married & F & 40000 & 2148 \\\\\n",
       "\t26 & 50 & Married & F & 40000 & 2212 \\\\\n",
       "\t27 & 55 & Married & F & 40000 & 2175 \\\\\n",
       "\t28 & 60 & Married & F & 40000 & 2207 \\\\\n",
       "\t29 & 65 & Married & F & 40000 & 2148 \\\\\n",
       "\t30 & 70 & Married & F & 40000 & 2177 \\\\\n",
       "\t$\\dots$ & $\\dots$ & $\\dots$ & $\\dots$ & $\\dots$ & $\\dots$ \\\\\n",
       "\\end{tabular}\n"
      ],
      "text/plain": [
       "\u001b[1m640×5 DataFrame\u001b[0m\n",
       "\u001b[1m Row \u001b[0m│\u001b[1m AGE   \u001b[0m\u001b[1m MARITIAL_STATUS \u001b[0m\u001b[1m SEX  \u001b[0m\u001b[1m INCOME \u001b[0m\u001b[1m population \u001b[0m\n",
       "     │\u001b[90m Int64 \u001b[0m\u001b[90m String          \u001b[0m\u001b[90m Char \u001b[0m\u001b[90m Int64  \u001b[0m\u001b[90m Int64      \u001b[0m\n",
       "─────┼──────────────────────────────────────────────────\n",
       "   1 │     5  Divorced         F      40000        1453\n",
       "   2 │    10  Divorced         F      40000        1466\n",
       "   3 │    15  Divorced         F      40000        1475\n",
       "   4 │    20  Divorced         F      40000        1414\n",
       "   5 │    25  Divorced         F      40000        1470\n",
       "   6 │    30  Divorced         F      40000        1478\n",
       "   7 │    35  Divorced         F      40000        1408\n",
       "   8 │    40  Divorced         F      40000        1480\n",
       "   9 │    45  Divorced         F      40000        1467\n",
       "  10 │    50  Divorced         F      40000        1408\n",
       "  11 │    55  Divorced         F      40000        1484\n",
       "  ⋮  │   ⋮           ⋮          ⋮      ⋮         ⋮\n",
       " 631 │    35  Widowed          M      80000        2921\n",
       " 632 │    40  Widowed          M      80000        2953\n",
       " 633 │    45  Widowed          M      80000        2952\n",
       " 634 │    50  Widowed          M      80000        2869\n",
       " 635 │    55  Widowed          M      80000        2911\n",
       " 636 │    60  Widowed          M      80000        2912\n",
       " 637 │    65  Widowed          M      80000        2812\n",
       " 638 │    70  Widowed          M      80000        2946\n",
       " 639 │    75  Widowed          M      80000        2962\n",
       " 640 │    80  Widowed          M      80000        2854\n",
       "\u001b[36m                                        619 rows omitted\u001b[0m"
      ]
     },
     "execution_count": 45,
     "metadata": {},
     "output_type": "execute_result"
    }
   ],
   "source": [
    "SIZE = 600000\n",
    "SEX = ['M', 'F']; SEX_WEIGHTS = [0.5, 0.5]\n",
    "MARITIAL_STATUS = [\"Not_married\", \"Married\", \"Divorced\", \"Widowed\"]; MARITIAL_WEIGHTS = [0.3, 0.5, 0.1, 0.1]\n",
    "AGE = [5, 10, 15, 20, 25, 30, 35, 40, 45, 50, 55, 60, 65, 70, 75, 80]; AGE_WEIGHTS = repeat([1 / 16], 16)\n",
    "INCOME = [40000, 50000, 60000, 70000, 80000]; INCOME_WEIGHTS = [0.2, 0.2, 0.2, 0.2, 0.2]\n",
    "\n",
    "using StatsBase\n",
    "disaggregated_independent_population = DataFrame(\n",
    "    AGE = sample(AGE, Weights(AGE_WEIGHTS), SIZE),\n",
    "    MARITIAL_STATUS = sample(MARITIAL_STATUS, Weights(MARITIAL_WEIGHTS), SIZE),\n",
    "    SEX = sample(SEX, Weights(SEX_WEIGHTS), SIZE),\n",
    "    INCOME = sample(INCOME, Weights(INCOME_WEIGHTS), SIZE),\n",
    ")\n",
    "\n",
    "independent_population = combine(groupby(disaggregated_independent_population, names(disaggregated_independent_population), sort=true), nrow)\n",
    "rename!(independent_population, :nrow => :population)\n",
    "sort!(dependent_population, [:INCOME, :SEX, :MARITIAL_STATUS, :AGE])"
   ]
  },
  {
   "cell_type": "markdown",
   "metadata": {},
   "source": [
    "### 2.2. Compute marginal attribute distributions of the independent population\n",
    "Then we compute the marginal population attributes. This is a type of data that we can usually get from the census data and will be input for our algorithms for population generation."
   ]
  },
  {
   "cell_type": "code",
   "execution_count": 46,
   "metadata": {
    "scrolled": false
   },
   "outputs": [
    {
     "data": {
      "text/plain": [
       "3-element Vector{DataFrame}:\n",
       " \u001b[1m32×3 DataFrame\u001b[0m\n",
       "\u001b[1m Row \u001b[0m│\u001b[1m AGE   \u001b[0m\u001b[1m SEX  \u001b[0m\u001b[1m population \u001b[0m\n",
       "     │\u001b[90m Int64 \u001b[0m\u001b[90m Char \u001b[0m\u001b[90m Int64      \u001b[0m\n",
       "─────┼─────────────────────────\n",
       "   1 │     5  F          18722\n",
       "   2 │    10  F          18709\n",
       "   3 │    15  F          18600\n",
       "   4 │    20  F          18792\n",
       "   5 │    25  F          19081\n",
       "   6 │    30  F          18902\n",
       "   7 │    35  F          18599\n",
       "   8 │    40  F          18766\n",
       "   9 │    45  F          18876\n",
       "  10 │    50  F          18992\n",
       "  11 │    55  F          18753\n",
       "  ⋮  │   ⋮     ⋮        ⋮\n",
       "  23 │    35  M          18780\n",
       "  24 │    40  M          18806\n",
       "  25 │    45  M          18636\n",
       "  26 │    50  M          18534\n",
       "  27 │    55  M          18684\n",
       "  28 │    60  M          18566\n",
       "  29 │    65  M          18664\n",
       "  30 │    70  M          19076\n",
       "  31 │    75  M          18623\n",
       "  32 │    80  M          18962\n",
       "\u001b[36m                11 rows omitted\u001b[0m\n",
       " \u001b[1m8×3 DataFrame\u001b[0m\n",
       "\u001b[1m Row \u001b[0m│\u001b[1m MARITIAL_STATUS \u001b[0m\u001b[1m SEX  \u001b[0m\u001b[1m population \u001b[0m\n",
       "     │\u001b[90m String          \u001b[0m\u001b[90m Char \u001b[0m\u001b[90m Int64      \u001b[0m\n",
       "─────┼───────────────────────────────────\n",
       "   1 │ Divorced         F          30246\n",
       "   2 │ Married          F         150184\n",
       "   3 │ Not_married      F          90018\n",
       "   4 │ Widowed          F          30001\n",
       "   5 │ Divorced         M          29990\n",
       "   6 │ Married          M         149014\n",
       "   7 │ Not_married      M          90469\n",
       "   8 │ Widowed          M          30078\n",
       " \u001b[1m5×2 DataFrame\u001b[0m\n",
       "\u001b[1m Row \u001b[0m│\u001b[1m INCOME \u001b[0m\u001b[1m population \u001b[0m\n",
       "     │\u001b[90m Int64  \u001b[0m\u001b[90m Int64      \u001b[0m\n",
       "─────┼────────────────────\n",
       "   1 │  40000      120085\n",
       "   2 │  50000      120108\n",
       "   3 │  60000      120261\n",
       "   4 │  70000      119652\n",
       "   5 │  80000      119894"
      ]
     },
     "execution_count": 46,
     "metadata": {},
     "output_type": "execute_result"
    }
   ],
   "source": [
    "independent_age_sex = combine(groupby(disaggregated_independent_population, [:AGE, :SEX], sort=true), nrow); sort!(independent_age_sex, [:SEX, :AGE])\n",
    "independent_sex_maritial = combine(groupby(disaggregated_independent_population, [:MARITIAL_STATUS, :SEX], sort=true), nrow); sort!(independent_sex_maritial, [:SEX, :MARITIAL_STATUS])\n",
    "independent_income = combine(groupby(disaggregated_independent_population, [:INCOME], sort=true), nrow);\n",
    "independent_age_sex, independent_sex_maritial, independent_income = map(x -> rename!(x, :nrow => :population), [independent_age_sex, independent_sex_maritial, independent_income])"
   ]
  },
  {
   "cell_type": "markdown",
   "metadata": {},
   "source": [
    "### 2.3. Generate dependent population from marginals\n",
    "Then, we use our algorithm to estimate joint distribution of the marginal attributes. "
   ]
  },
  {
   "cell_type": "code",
   "execution_count": 55,
   "metadata": {},
   "outputs": [
    {
     "name": "stderr",
     "output_type": "stream",
     "text": [
      "\u001b[36m\u001b[1m[ \u001b[22m\u001b[39m\u001b[36m\u001b[1mInfo: \u001b[22m\u001b[39mConverged in 2 iterations.\n",
      "\u001b[36m\u001b[1m[ \u001b[22m\u001b[39m\u001b[36m\u001b[1mInfo: \u001b[22m\u001b[39mConverged in 2 iterations.\n",
      "\u001b[36m\u001b[1m[ \u001b[22m\u001b[39m\u001b[36m\u001b[1mInfo: \u001b[22m\u001b[39mInconsistent target margins, converting `X` and `mar` to proportions. Margin totals: [599991, 600000]\n",
      "\u001b[36m\u001b[1m[ \u001b[22m\u001b[39m\u001b[36m\u001b[1mInfo: \u001b[22m\u001b[39mConverged in 1 iterations.\n"
     ]
    },
    {
     "data": {
      "text/html": [
       "<div><div style = \"float: left;\"><span>640×5 DataFrame</span></div><div style = \"float: right;\"><span style = \"font-style: italic;\">615 rows omitted</span></div><div style = \"clear: both;\"></div></div><div class = \"data-frame\" style = \"overflow-x: scroll;\"><table class = \"data-frame\" style = \"margin-bottom: 6px;\"><thead><tr class = \"header\"><th class = \"rowNumber\" style = \"font-weight: bold; text-align: right;\">Row</th><th style = \"text-align: left;\">AGE</th><th style = \"text-align: left;\">MARITIAL_STATUS</th><th style = \"text-align: left;\">SEX</th><th style = \"text-align: left;\">INCOME</th><th style = \"text-align: left;\">population</th></tr><tr class = \"subheader headerLastRow\"><th class = \"rowNumber\" style = \"font-weight: bold; text-align: right;\"></th><th title = \"Int64\" style = \"text-align: left;\">Int64</th><th title = \"String\" style = \"text-align: left;\">String</th><th title = \"Char\" style = \"text-align: left;\">Char</th><th title = \"Int64\" style = \"text-align: left;\">Int64</th><th title = \"Int64\" style = \"text-align: left;\">Int64</th></tr></thead><tbody><tr><td class = \"rowNumber\" style = \"font-weight: bold; text-align: right;\">1</td><td style = \"text-align: right;\">5</td><td style = \"text-align: left;\">Divorced</td><td style = \"text-align: left;\">F</td><td style = \"text-align: right;\">40000</td><td style = \"text-align: right;\">377</td></tr><tr><td class = \"rowNumber\" style = \"font-weight: bold; text-align: right;\">2</td><td style = \"text-align: right;\">10</td><td style = \"text-align: left;\">Divorced</td><td style = \"text-align: left;\">F</td><td style = \"text-align: right;\">40000</td><td style = \"text-align: right;\">377</td></tr><tr><td class = \"rowNumber\" style = \"font-weight: bold; text-align: right;\">3</td><td style = \"text-align: right;\">15</td><td style = \"text-align: left;\">Divorced</td><td style = \"text-align: left;\">F</td><td style = \"text-align: right;\">40000</td><td style = \"text-align: right;\">375</td></tr><tr><td class = \"rowNumber\" style = \"font-weight: bold; text-align: right;\">4</td><td style = \"text-align: right;\">20</td><td style = \"text-align: left;\">Divorced</td><td style = \"text-align: left;\">F</td><td style = \"text-align: right;\">40000</td><td style = \"text-align: right;\">379</td></tr><tr><td class = \"rowNumber\" style = \"font-weight: bold; text-align: right;\">5</td><td style = \"text-align: right;\">25</td><td style = \"text-align: left;\">Divorced</td><td style = \"text-align: left;\">F</td><td style = \"text-align: right;\">40000</td><td style = \"text-align: right;\">384</td></tr><tr><td class = \"rowNumber\" style = \"font-weight: bold; text-align: right;\">6</td><td style = \"text-align: right;\">30</td><td style = \"text-align: left;\">Divorced</td><td style = \"text-align: left;\">F</td><td style = \"text-align: right;\">40000</td><td style = \"text-align: right;\">381</td></tr><tr><td class = \"rowNumber\" style = \"font-weight: bold; text-align: right;\">7</td><td style = \"text-align: right;\">35</td><td style = \"text-align: left;\">Divorced</td><td style = \"text-align: left;\">F</td><td style = \"text-align: right;\">40000</td><td style = \"text-align: right;\">375</td></tr><tr><td class = \"rowNumber\" style = \"font-weight: bold; text-align: right;\">8</td><td style = \"text-align: right;\">40</td><td style = \"text-align: left;\">Divorced</td><td style = \"text-align: left;\">F</td><td style = \"text-align: right;\">40000</td><td style = \"text-align: right;\">378</td></tr><tr><td class = \"rowNumber\" style = \"font-weight: bold; text-align: right;\">9</td><td style = \"text-align: right;\">45</td><td style = \"text-align: left;\">Divorced</td><td style = \"text-align: left;\">F</td><td style = \"text-align: right;\">40000</td><td style = \"text-align: right;\">380</td></tr><tr><td class = \"rowNumber\" style = \"font-weight: bold; text-align: right;\">10</td><td style = \"text-align: right;\">50</td><td style = \"text-align: left;\">Divorced</td><td style = \"text-align: left;\">F</td><td style = \"text-align: right;\">40000</td><td style = \"text-align: right;\">383</td></tr><tr><td class = \"rowNumber\" style = \"font-weight: bold; text-align: right;\">11</td><td style = \"text-align: right;\">55</td><td style = \"text-align: left;\">Divorced</td><td style = \"text-align: left;\">F</td><td style = \"text-align: right;\">40000</td><td style = \"text-align: right;\">378</td></tr><tr><td class = \"rowNumber\" style = \"font-weight: bold; text-align: right;\">12</td><td style = \"text-align: right;\">60</td><td style = \"text-align: left;\">Divorced</td><td style = \"text-align: left;\">F</td><td style = \"text-align: right;\">40000</td><td style = \"text-align: right;\">379</td></tr><tr><td class = \"rowNumber\" style = \"font-weight: bold; text-align: right;\">13</td><td style = \"text-align: right;\">65</td><td style = \"text-align: left;\">Divorced</td><td style = \"text-align: left;\">F</td><td style = \"text-align: right;\">40000</td><td style = \"text-align: right;\">378</td></tr><tr><td style = \"text-align: right;\">&vellip;</td><td style = \"text-align: right;\">&vellip;</td><td style = \"text-align: right;\">&vellip;</td><td style = \"text-align: right;\">&vellip;</td><td style = \"text-align: right;\">&vellip;</td><td style = \"text-align: right;\">&vellip;</td></tr><tr><td class = \"rowNumber\" style = \"font-weight: bold; text-align: right;\">629</td><td style = \"text-align: right;\">25</td><td style = \"text-align: left;\">Widowed</td><td style = \"text-align: left;\">M</td><td style = \"text-align: right;\">80000</td><td style = \"text-align: right;\">375</td></tr><tr><td class = \"rowNumber\" style = \"font-weight: bold; text-align: right;\">630</td><td style = \"text-align: right;\">30</td><td style = \"text-align: left;\">Widowed</td><td style = \"text-align: left;\">M</td><td style = \"text-align: right;\">80000</td><td style = \"text-align: right;\">375</td></tr><tr><td class = \"rowNumber\" style = \"font-weight: bold; text-align: right;\">631</td><td style = \"text-align: right;\">35</td><td style = \"text-align: left;\">Widowed</td><td style = \"text-align: left;\">M</td><td style = \"text-align: right;\">80000</td><td style = \"text-align: right;\">377</td></tr><tr><td class = \"rowNumber\" style = \"font-weight: bold; text-align: right;\">632</td><td style = \"text-align: right;\">40</td><td style = \"text-align: left;\">Widowed</td><td style = \"text-align: left;\">M</td><td style = \"text-align: right;\">80000</td><td style = \"text-align: right;\">377</td></tr><tr><td class = \"rowNumber\" style = \"font-weight: bold; text-align: right;\">633</td><td style = \"text-align: right;\">45</td><td style = \"text-align: left;\">Widowed</td><td style = \"text-align: left;\">M</td><td style = \"text-align: right;\">80000</td><td style = \"text-align: right;\">374</td></tr><tr><td class = \"rowNumber\" style = \"font-weight: bold; text-align: right;\">634</td><td style = \"text-align: right;\">50</td><td style = \"text-align: left;\">Widowed</td><td style = \"text-align: left;\">M</td><td style = \"text-align: right;\">80000</td><td style = \"text-align: right;\">372</td></tr><tr><td class = \"rowNumber\" style = \"font-weight: bold; text-align: right;\">635</td><td style = \"text-align: right;\">55</td><td style = \"text-align: left;\">Widowed</td><td style = \"text-align: left;\">M</td><td style = \"text-align: right;\">80000</td><td style = \"text-align: right;\">375</td></tr><tr><td class = \"rowNumber\" style = \"font-weight: bold; text-align: right;\">636</td><td style = \"text-align: right;\">60</td><td style = \"text-align: left;\">Widowed</td><td style = \"text-align: left;\">M</td><td style = \"text-align: right;\">80000</td><td style = \"text-align: right;\">372</td></tr><tr><td class = \"rowNumber\" style = \"font-weight: bold; text-align: right;\">637</td><td style = \"text-align: right;\">65</td><td style = \"text-align: left;\">Widowed</td><td style = \"text-align: left;\">M</td><td style = \"text-align: right;\">80000</td><td style = \"text-align: right;\">374</td></tr><tr><td class = \"rowNumber\" style = \"font-weight: bold; text-align: right;\">638</td><td style = \"text-align: right;\">70</td><td style = \"text-align: left;\">Widowed</td><td style = \"text-align: left;\">M</td><td style = \"text-align: right;\">80000</td><td style = \"text-align: right;\">383</td></tr><tr><td class = \"rowNumber\" style = \"font-weight: bold; text-align: right;\">639</td><td style = \"text-align: right;\">75</td><td style = \"text-align: left;\">Widowed</td><td style = \"text-align: left;\">M</td><td style = \"text-align: right;\">80000</td><td style = \"text-align: right;\">374</td></tr><tr><td class = \"rowNumber\" style = \"font-weight: bold; text-align: right;\">640</td><td style = \"text-align: right;\">80</td><td style = \"text-align: left;\">Widowed</td><td style = \"text-align: left;\">M</td><td style = \"text-align: right;\">80000</td><td style = \"text-align: right;\">380</td></tr></tbody></table></div>"
      ],
      "text/latex": [
       "\\begin{tabular}{r|ccccc}\n",
       "\t& AGE & MARITIAL\\_STATUS & SEX & INCOME & population\\\\\n",
       "\t\\hline\n",
       "\t& Int64 & String & Char & Int64 & Int64\\\\\n",
       "\t\\hline\n",
       "\t1 & 5 & Divorced & F & 40000 & 377 \\\\\n",
       "\t2 & 10 & Divorced & F & 40000 & 377 \\\\\n",
       "\t3 & 15 & Divorced & F & 40000 & 375 \\\\\n",
       "\t4 & 20 & Divorced & F & 40000 & 379 \\\\\n",
       "\t5 & 25 & Divorced & F & 40000 & 384 \\\\\n",
       "\t6 & 30 & Divorced & F & 40000 & 381 \\\\\n",
       "\t7 & 35 & Divorced & F & 40000 & 375 \\\\\n",
       "\t8 & 40 & Divorced & F & 40000 & 378 \\\\\n",
       "\t9 & 45 & Divorced & F & 40000 & 380 \\\\\n",
       "\t10 & 50 & Divorced & F & 40000 & 383 \\\\\n",
       "\t11 & 55 & Divorced & F & 40000 & 378 \\\\\n",
       "\t12 & 60 & Divorced & F & 40000 & 379 \\\\\n",
       "\t13 & 65 & Divorced & F & 40000 & 378 \\\\\n",
       "\t14 & 70 & Divorced & F & 40000 & 381 \\\\\n",
       "\t15 & 75 & Divorced & F & 40000 & 377 \\\\\n",
       "\t16 & 80 & Divorced & F & 40000 & 372 \\\\\n",
       "\t17 & 5 & Married & F & 40000 & 1873 \\\\\n",
       "\t18 & 10 & Married & F & 40000 & 1872 \\\\\n",
       "\t19 & 15 & Married & F & 40000 & 1861 \\\\\n",
       "\t20 & 20 & Married & F & 40000 & 1880 \\\\\n",
       "\t21 & 25 & Married & F & 40000 & 1909 \\\\\n",
       "\t22 & 30 & Married & F & 40000 & 1891 \\\\\n",
       "\t23 & 35 & Married & F & 40000 & 1861 \\\\\n",
       "\t24 & 40 & Married & F & 40000 & 1877 \\\\\n",
       "\t25 & 45 & Married & F & 40000 & 1888 \\\\\n",
       "\t26 & 50 & Married & F & 40000 & 1900 \\\\\n",
       "\t27 & 55 & Married & F & 40000 & 1876 \\\\\n",
       "\t28 & 60 & Married & F & 40000 & 1880 \\\\\n",
       "\t29 & 65 & Married & F & 40000 & 1875 \\\\\n",
       "\t30 & 70 & Married & F & 40000 & 1894 \\\\\n",
       "\t$\\dots$ & $\\dots$ & $\\dots$ & $\\dots$ & $\\dots$ & $\\dots$ \\\\\n",
       "\\end{tabular}\n"
      ],
      "text/plain": [
       "\u001b[1m640×5 DataFrame\u001b[0m\n",
       "\u001b[1m Row \u001b[0m│\u001b[1m AGE   \u001b[0m\u001b[1m MARITIAL_STATUS \u001b[0m\u001b[1m SEX  \u001b[0m\u001b[1m INCOME \u001b[0m\u001b[1m population \u001b[0m\n",
       "     │\u001b[90m Int64 \u001b[0m\u001b[90m String          \u001b[0m\u001b[90m Char \u001b[0m\u001b[90m Int64  \u001b[0m\u001b[90m Int64      \u001b[0m\n",
       "─────┼──────────────────────────────────────────────────\n",
       "   1 │     5  Divorced         F      40000         377\n",
       "   2 │    10  Divorced         F      40000         377\n",
       "   3 │    15  Divorced         F      40000         375\n",
       "   4 │    20  Divorced         F      40000         379\n",
       "   5 │    25  Divorced         F      40000         384\n",
       "   6 │    30  Divorced         F      40000         381\n",
       "   7 │    35  Divorced         F      40000         375\n",
       "   8 │    40  Divorced         F      40000         378\n",
       "   9 │    45  Divorced         F      40000         380\n",
       "  10 │    50  Divorced         F      40000         383\n",
       "  11 │    55  Divorced         F      40000         378\n",
       "  ⋮  │   ⋮           ⋮          ⋮      ⋮         ⋮\n",
       " 631 │    35  Widowed          M      80000         377\n",
       " 632 │    40  Widowed          M      80000         377\n",
       " 633 │    45  Widowed          M      80000         374\n",
       " 634 │    50  Widowed          M      80000         372\n",
       " 635 │    55  Widowed          M      80000         375\n",
       " 636 │    60  Widowed          M      80000         372\n",
       " 637 │    65  Widowed          M      80000         374\n",
       " 638 │    70  Widowed          M      80000         383\n",
       " 639 │    75  Widowed          M      80000         374\n",
       " 640 │    80  Widowed          M      80000         380\n",
       "\u001b[36m                                        619 rows omitted\u001b[0m"
      ]
     },
     "execution_count": 55,
     "metadata": {},
     "output_type": "execute_result"
    }
   ],
   "source": [
    "#dependent population\n",
    "generated_independent_population, aggegated_indep_population = generate_joint_distributions(independent_age_sex, independent_sex_maritial, independent_income)\n",
    "generated_independent_population.:population = aggegated_indep_population.:population\n",
    "generated_independent_population = generated_independent_population[:, Not(:id)]"
   ]
  },
  {
   "cell_type": "markdown",
   "metadata": {},
   "source": [
    "### 2.4. Evaluation of fit of generated dependent population.\n",
    "Finally, we evaluate if the generated population is correct. We use approach based on Z-score described by Edwards, Tanton, 2013 [1].\n",
    "\n",
    "\n",
    "[1] Edwards, K. L., & Tanton, R. (2013). Validation of spatial microsimulation models. Spatial microsimulation: A reference guide for users, 249-258. https://ndl.ethernet.edu.et/bitstream/123456789/14722/1/205.pdf#page=38"
   ]
  },
  {
   "cell_type": "code",
   "execution_count": 56,
   "metadata": {},
   "outputs": [
    {
     "data": {
      "text/html": [
       "<div><div style = \"float: left;\"><span>640×7 DataFrame</span></div><div style = \"float: right;\"><span style = \"font-style: italic;\">615 rows omitted</span></div><div style = \"clear: both;\"></div></div><div class = \"data-frame\" style = \"overflow-x: scroll;\"><table class = \"data-frame\" style = \"margin-bottom: 6px;\"><thead><tr class = \"header\"><th class = \"rowNumber\" style = \"font-weight: bold; text-align: right;\">Row</th><th style = \"text-align: left;\">AGE</th><th style = \"text-align: left;\">MARITIAL_STATUS</th><th style = \"text-align: left;\">SEX</th><th style = \"text-align: left;\">INCOME</th><th style = \"text-align: left;\">population</th><th style = \"text-align: left;\">estimated_population</th><th style = \"text-align: left;\">Z_score</th></tr><tr class = \"subheader headerLastRow\"><th class = \"rowNumber\" style = \"font-weight: bold; text-align: right;\"></th><th title = \"Int64\" style = \"text-align: left;\">Int64</th><th title = \"String\" style = \"text-align: left;\">String</th><th title = \"Char\" style = \"text-align: left;\">Char</th><th title = \"Int64\" style = \"text-align: left;\">Int64</th><th title = \"Int64\" style = \"text-align: left;\">Int64</th><th title = \"Int64\" style = \"text-align: left;\">Int64</th><th title = \"Float64\" style = \"text-align: left;\">Float64</th></tr></thead><tbody><tr><td class = \"rowNumber\" style = \"font-weight: bold; text-align: right;\">1</td><td style = \"text-align: right;\">5</td><td style = \"text-align: left;\">Divorced</td><td style = \"text-align: left;\">F</td><td style = \"text-align: right;\">40000</td><td style = \"text-align: right;\">363</td><td style = \"text-align: right;\">377</td><td style = \"text-align: right;\">-0.735032</td></tr><tr><td class = \"rowNumber\" style = \"font-weight: bold; text-align: right;\">2</td><td style = \"text-align: right;\">5</td><td style = \"text-align: left;\">Divorced</td><td style = \"text-align: left;\">F</td><td style = \"text-align: right;\">50000</td><td style = \"text-align: right;\">334</td><td style = \"text-align: right;\">377</td><td style = \"text-align: right;\">-2.35351</td></tr><tr><td class = \"rowNumber\" style = \"font-weight: bold; text-align: right;\">3</td><td style = \"text-align: right;\">5</td><td style = \"text-align: left;\">Divorced</td><td style = \"text-align: left;\">F</td><td style = \"text-align: right;\">60000</td><td style = \"text-align: right;\">411</td><td style = \"text-align: right;\">378</td><td style = \"text-align: right;\">1.62833</td></tr><tr><td class = \"rowNumber\" style = \"font-weight: bold; text-align: right;\">4</td><td style = \"text-align: right;\">5</td><td style = \"text-align: left;\">Divorced</td><td style = \"text-align: left;\">F</td><td style = \"text-align: right;\">70000</td><td style = \"text-align: right;\">393</td><td style = \"text-align: right;\">376</td><td style = \"text-align: right;\">0.857818</td></tr><tr><td class = \"rowNumber\" style = \"font-weight: bold; text-align: right;\">5</td><td style = \"text-align: right;\">5</td><td style = \"text-align: left;\">Divorced</td><td style = \"text-align: left;\">F</td><td style = \"text-align: right;\">80000</td><td style = \"text-align: right;\">394</td><td style = \"text-align: right;\">377</td><td style = \"text-align: right;\">0.856729</td></tr><tr><td class = \"rowNumber\" style = \"font-weight: bold; text-align: right;\">6</td><td style = \"text-align: right;\">5</td><td style = \"text-align: left;\">Divorced</td><td style = \"text-align: left;\">M</td><td style = \"text-align: right;\">40000</td><td style = \"text-align: right;\">421</td><td style = \"text-align: right;\">379</td><td style = \"text-align: right;\">2.04767</td></tr><tr><td class = \"rowNumber\" style = \"font-weight: bold; text-align: right;\">7</td><td style = \"text-align: right;\">5</td><td style = \"text-align: left;\">Divorced</td><td style = \"text-align: left;\">M</td><td style = \"text-align: right;\">50000</td><td style = \"text-align: right;\">386</td><td style = \"text-align: right;\">379</td><td style = \"text-align: right;\">0.356405</td></tr><tr><td class = \"rowNumber\" style = \"font-weight: bold; text-align: right;\">8</td><td style = \"text-align: right;\">5</td><td style = \"text-align: left;\">Divorced</td><td style = \"text-align: left;\">M</td><td style = \"text-align: right;\">60000</td><td style = \"text-align: right;\">371</td><td style = \"text-align: right;\">380</td><td style = \"text-align: right;\">-0.467401</td></tr><tr><td class = \"rowNumber\" style = \"font-weight: bold; text-align: right;\">9</td><td style = \"text-align: right;\">5</td><td style = \"text-align: left;\">Divorced</td><td style = \"text-align: left;\">M</td><td style = \"text-align: right;\">70000</td><td style = \"text-align: right;\">375</td><td style = \"text-align: right;\">378</td><td style = \"text-align: right;\">-0.154968</td></tr><tr><td class = \"rowNumber\" style = \"font-weight: bold; text-align: right;\">10</td><td style = \"text-align: right;\">5</td><td style = \"text-align: left;\">Divorced</td><td style = \"text-align: left;\">M</td><td style = \"text-align: right;\">80000</td><td style = \"text-align: right;\">361</td><td style = \"text-align: right;\">378</td><td style = \"text-align: right;\">-0.895006</td></tr><tr><td class = \"rowNumber\" style = \"font-weight: bold; text-align: right;\">11</td><td style = \"text-align: right;\">5</td><td style = \"text-align: left;\">Married</td><td style = \"text-align: left;\">F</td><td style = \"text-align: right;\">40000</td><td style = \"text-align: right;\">1748</td><td style = \"text-align: right;\">1873</td><td style = \"text-align: right;\">-2.99415</td></tr><tr><td class = \"rowNumber\" style = \"font-weight: bold; text-align: right;\">12</td><td style = \"text-align: right;\">5</td><td style = \"text-align: left;\">Married</td><td style = \"text-align: left;\">F</td><td style = \"text-align: right;\">50000</td><td style = \"text-align: right;\">1875</td><td style = \"text-align: right;\">1873</td><td style = \"text-align: right;\">0.0462604</td></tr><tr><td class = \"rowNumber\" style = \"font-weight: bold; text-align: right;\">13</td><td style = \"text-align: right;\">5</td><td style = \"text-align: left;\">Married</td><td style = \"text-align: left;\">F</td><td style = \"text-align: right;\">60000</td><td style = \"text-align: right;\">1866</td><td style = \"text-align: right;\">1876</td><td style = \"text-align: right;\">-0.231857</td></tr><tr><td style = \"text-align: right;\">&vellip;</td><td style = \"text-align: right;\">&vellip;</td><td style = \"text-align: right;\">&vellip;</td><td style = \"text-align: right;\">&vellip;</td><td style = \"text-align: right;\">&vellip;</td><td style = \"text-align: right;\">&vellip;</td><td style = \"text-align: right;\">&vellip;</td><td style = \"text-align: right;\">&vellip;</td></tr><tr><td class = \"rowNumber\" style = \"font-weight: bold; text-align: right;\">629</td><td style = \"text-align: right;\">80</td><td style = \"text-align: left;\">Not_married</td><td style = \"text-align: left;\">M</td><td style = \"text-align: right;\">70000</td><td style = \"text-align: right;\">1133</td><td style = \"text-align: right;\">1142</td><td style = \"text-align: right;\">-0.267632</td></tr><tr><td class = \"rowNumber\" style = \"font-weight: bold; text-align: right;\">630</td><td style = \"text-align: right;\">80</td><td style = \"text-align: left;\">Not_married</td><td style = \"text-align: left;\">M</td><td style = \"text-align: right;\">80000</td><td style = \"text-align: right;\">1115</td><td style = \"text-align: right;\">1144</td><td style = \"text-align: right;\">-0.86929</td></tr><tr><td class = \"rowNumber\" style = \"font-weight: bold; text-align: right;\">631</td><td style = \"text-align: right;\">80</td><td style = \"text-align: left;\">Widowed</td><td style = \"text-align: left;\">F</td><td style = \"text-align: right;\">40000</td><td style = \"text-align: right;\">361</td><td style = \"text-align: right;\">369</td><td style = \"text-align: right;\">-0.421179</td></tr><tr><td class = \"rowNumber\" style = \"font-weight: bold; text-align: right;\">632</td><td style = \"text-align: right;\">80</td><td style = \"text-align: left;\">Widowed</td><td style = \"text-align: left;\">F</td><td style = \"text-align: right;\">50000</td><td style = \"text-align: right;\">384</td><td style = \"text-align: right;\">369</td><td style = \"text-align: right;\">0.765711</td></tr><tr><td class = \"rowNumber\" style = \"font-weight: bold; text-align: right;\">633</td><td style = \"text-align: right;\">80</td><td style = \"text-align: left;\">Widowed</td><td style = \"text-align: left;\">F</td><td style = \"text-align: right;\">60000</td><td style = \"text-align: right;\">391</td><td style = \"text-align: right;\">370</td><td style = \"text-align: right;\">1.06236</td></tr><tr><td class = \"rowNumber\" style = \"font-weight: bold; text-align: right;\">634</td><td style = \"text-align: right;\">80</td><td style = \"text-align: left;\">Widowed</td><td style = \"text-align: left;\">F</td><td style = \"text-align: right;\">70000</td><td style = \"text-align: right;\">368</td><td style = \"text-align: right;\">368</td><td style = \"text-align: right;\">0.0</td></tr><tr><td class = \"rowNumber\" style = \"font-weight: bold; text-align: right;\">635</td><td style = \"text-align: right;\">80</td><td style = \"text-align: left;\">Widowed</td><td style = \"text-align: left;\">F</td><td style = \"text-align: right;\">80000</td><td style = \"text-align: right;\">372</td><td style = \"text-align: right;\">368</td><td style = \"text-align: right;\">0.207455</td></tr><tr><td class = \"rowNumber\" style = \"font-weight: bold; text-align: right;\">636</td><td style = \"text-align: right;\">80</td><td style = \"text-align: left;\">Widowed</td><td style = \"text-align: left;\">M</td><td style = \"text-align: right;\">40000</td><td style = \"text-align: right;\">360</td><td style = \"text-align: right;\">381</td><td style = \"text-align: right;\">-1.10713</td></tr><tr><td class = \"rowNumber\" style = \"font-weight: bold; text-align: right;\">637</td><td style = \"text-align: right;\">80</td><td style = \"text-align: left;\">Widowed</td><td style = \"text-align: left;\">M</td><td style = \"text-align: right;\">50000</td><td style = \"text-align: right;\">400</td><td style = \"text-align: right;\">381</td><td style = \"text-align: right;\">0.950317</td></tr><tr><td class = \"rowNumber\" style = \"font-weight: bold; text-align: right;\">638</td><td style = \"text-align: right;\">80</td><td style = \"text-align: left;\">Widowed</td><td style = \"text-align: left;\">M</td><td style = \"text-align: right;\">60000</td><td style = \"text-align: right;\">392</td><td style = \"text-align: right;\">382</td><td style = \"text-align: right;\">0.505241</td></tr><tr><td class = \"rowNumber\" style = \"font-weight: bold; text-align: right;\">639</td><td style = \"text-align: right;\">80</td><td style = \"text-align: left;\">Widowed</td><td style = \"text-align: left;\">M</td><td style = \"text-align: right;\">70000</td><td style = \"text-align: right;\">385</td><td style = \"text-align: right;\">380</td><td style = \"text-align: right;\">0.254905</td></tr><tr><td class = \"rowNumber\" style = \"font-weight: bold; text-align: right;\">640</td><td style = \"text-align: right;\">80</td><td style = \"text-align: left;\">Widowed</td><td style = \"text-align: left;\">M</td><td style = \"text-align: right;\">80000</td><td style = \"text-align: right;\">367</td><td style = \"text-align: right;\">380</td><td style = \"text-align: right;\">-0.678802</td></tr></tbody></table></div>"
      ],
      "text/latex": [
       "\\begin{tabular}{r|ccccccc}\n",
       "\t& AGE & MARITIAL\\_STATUS & SEX & INCOME & population & estimated\\_population & Z\\_score\\\\\n",
       "\t\\hline\n",
       "\t& Int64 & String & Char & Int64 & Int64 & Int64 & Float64\\\\\n",
       "\t\\hline\n",
       "\t1 & 5 & Divorced & F & 40000 & 363 & 377 & -0.735032 \\\\\n",
       "\t2 & 5 & Divorced & F & 50000 & 334 & 377 & -2.35351 \\\\\n",
       "\t3 & 5 & Divorced & F & 60000 & 411 & 378 & 1.62833 \\\\\n",
       "\t4 & 5 & Divorced & F & 70000 & 393 & 376 & 0.857818 \\\\\n",
       "\t5 & 5 & Divorced & F & 80000 & 394 & 377 & 0.856729 \\\\\n",
       "\t6 & 5 & Divorced & M & 40000 & 421 & 379 & 2.04767 \\\\\n",
       "\t7 & 5 & Divorced & M & 50000 & 386 & 379 & 0.356405 \\\\\n",
       "\t8 & 5 & Divorced & M & 60000 & 371 & 380 & -0.467401 \\\\\n",
       "\t9 & 5 & Divorced & M & 70000 & 375 & 378 & -0.154968 \\\\\n",
       "\t10 & 5 & Divorced & M & 80000 & 361 & 378 & -0.895006 \\\\\n",
       "\t11 & 5 & Married & F & 40000 & 1748 & 1873 & -2.99415 \\\\\n",
       "\t12 & 5 & Married & F & 50000 & 1875 & 1873 & 0.0462604 \\\\\n",
       "\t13 & 5 & Married & F & 60000 & 1866 & 1876 & -0.231857 \\\\\n",
       "\t14 & 5 & Married & F & 70000 & 1943 & 1866 & 1.74968 \\\\\n",
       "\t15 & 5 & Married & F & 80000 & 1885 & 1870 & 0.346034 \\\\\n",
       "\t16 & 5 & Married & M & 40000 & 1873 & 1883 & -0.231425 \\\\\n",
       "\t17 & 5 & Married & M & 50000 & 1867 & 1884 & -0.394052 \\\\\n",
       "\t18 & 5 & Married & M & 60000 & 1887 & 1886 & 0.0230567 \\\\\n",
       "\t19 & 5 & Married & M & 70000 & 1918 & 1877 & 0.93768 \\\\\n",
       "\t20 & 5 & Married & M & 80000 & 1806 & 1880 & -1.74392 \\\\\n",
       "\t21 & 5 & Not\\_married & F & 40000 & 1145 & 1123 & 0.650781 \\\\\n",
       "\t22 & 5 & Not\\_married & F & 50000 & 1106 & 1123 & -0.511649 \\\\\n",
       "\t23 & 5 & Not\\_married & F & 60000 & 1086 & 1124 & -1.15415 \\\\\n",
       "\t24 & 5 & Not\\_married & F & 70000 & 1090 & 1119 & -0.879184 \\\\\n",
       "\t25 & 5 & Not\\_married & F & 80000 & 1169 & 1121 & 1.40526 \\\\\n",
       "\t26 & 5 & Not\\_married & M & 40000 & 1184 & 1143 & 1.19272 \\\\\n",
       "\t27 & 5 & Not\\_married & M & 50000 & 1113 & 1144 & -0.930074 \\\\\n",
       "\t28 & 5 & Not\\_married & M & 60000 & 1170 & 1145 & 0.731595 \\\\\n",
       "\t29 & 5 & Not\\_married & M & 70000 & 1198 & 1139 & 1.70631 \\\\\n",
       "\t30 & 5 & Not\\_married & M & 80000 & 1126 & 1142 & -0.477264 \\\\\n",
       "\t$\\dots$ & $\\dots$ & $\\dots$ & $\\dots$ & $\\dots$ & $\\dots$ & $\\dots$ & $\\dots$ \\\\\n",
       "\\end{tabular}\n"
      ],
      "text/plain": [
       "\u001b[1m640×7 DataFrame\u001b[0m\n",
       "\u001b[1m Row \u001b[0m│\u001b[1m AGE   \u001b[0m\u001b[1m MARITIAL_STATUS \u001b[0m\u001b[1m SEX  \u001b[0m\u001b[1m INCOME \u001b[0m\u001b[1m population \u001b[0m\u001b[1m estimated_population \u001b[0m\u001b[1m\u001b[0m ⋯\n",
       "     │\u001b[90m Int64 \u001b[0m\u001b[90m String          \u001b[0m\u001b[90m Char \u001b[0m\u001b[90m Int64  \u001b[0m\u001b[90m Int64      \u001b[0m\u001b[90m Int64                \u001b[0m\u001b[90m\u001b[0m ⋯\n",
       "─────┼──────────────────────────────────────────────────────────────────────────\n",
       "   1 │     5  Divorced         F      40000         363                   377  ⋯\n",
       "   2 │     5  Divorced         F      50000         334                   377\n",
       "   3 │     5  Divorced         F      60000         411                   378\n",
       "   4 │     5  Divorced         F      70000         393                   376\n",
       "   5 │     5  Divorced         F      80000         394                   377  ⋯\n",
       "   6 │     5  Divorced         M      40000         421                   379\n",
       "   7 │     5  Divorced         M      50000         386                   379\n",
       "   8 │     5  Divorced         M      60000         371                   380\n",
       "   9 │     5  Divorced         M      70000         375                   378  ⋯\n",
       "  10 │     5  Divorced         M      80000         361                   378\n",
       "  11 │     5  Married          F      40000        1748                  1873\n",
       "  ⋮  │   ⋮           ⋮          ⋮      ⋮         ⋮                ⋮            ⋱\n",
       " 631 │    80  Widowed          F      40000         361                   369\n",
       " 632 │    80  Widowed          F      50000         384                   369  ⋯\n",
       " 633 │    80  Widowed          F      60000         391                   370\n",
       " 634 │    80  Widowed          F      70000         368                   368\n",
       " 635 │    80  Widowed          F      80000         372                   368\n",
       " 636 │    80  Widowed          M      40000         360                   381  ⋯\n",
       " 637 │    80  Widowed          M      50000         400                   381\n",
       " 638 │    80  Widowed          M      60000         392                   382\n",
       " 639 │    80  Widowed          M      70000         385                   380\n",
       " 640 │    80  Widowed          M      80000         367                   380  ⋯\n",
       "\u001b[36m                                                   1 column and 619 rows omitted\u001b[0m"
      ]
     },
     "execution_count": 56,
     "metadata": {},
     "output_type": "execute_result"
    }
   ],
   "source": [
    "sort!(generated_independent_population)\n",
    "sort!(independent_population)\n",
    "independent_population.:estimated_population = generated_independent_population.:population\n",
    "\n",
    "p = independent_population.:population/sum(independent_population.:population)\n",
    "t = independent_population.:estimated_population/sum(independent_population.:population)\n",
    "N = sum(independent_population.:population)\n",
    "independent_population.:Z_score = (p .- t) ./ sqrt.((p .* (1 .- p)) ./ N)\n",
    "\n",
    "independent_population"
   ]
  },
  {
   "cell_type": "code",
   "execution_count": 61,
   "metadata": {},
   "outputs": [
    {
     "name": "stdout",
     "output_type": "stream",
     "text": [
      "Percentage of well fitting values: 0.95625\n",
      "Table does have good fit. Critical value is 640 and our calculated statistic has value: 587.3337345012303"
     ]
    }
   ],
   "source": [
    "#percentage of well-fitting values\n",
    "wfv = count(i -> (-1.96<i<1.96), independent_population.Z_score) / nrow(independent_population)\n",
    "print(\"Percentage of well fitting values: \", wfv, \"\\n\")\n",
    "\n",
    "#does the table have a good fit?\n",
    "cv = sum(independent_population.Z_score .^ 2) #much more than critical value for chi2 with 640 degrees of freedem -> bad fit\n",
    "print(\"Table does have good fit. Critical value is 640 and our calculated statistic has value: \", cv)"
   ]
  }
 ],
 "metadata": {
  "kernelspec": {
   "display_name": "Julia 1.8.5",
   "language": "julia",
   "name": "julia-1.8"
  },
  "language_info": {
   "file_extension": ".jl",
   "mimetype": "application/julia",
   "name": "julia",
   "version": "1.8.5"
  }
 },
 "nbformat": 4,
 "nbformat_minor": 2
}
