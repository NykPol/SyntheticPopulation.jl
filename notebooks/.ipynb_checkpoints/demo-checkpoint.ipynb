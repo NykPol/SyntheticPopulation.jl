{
 "cells": [
  {
   "cell_type": "markdown",
   "metadata": {},
   "source": [
    "# Synthetic population generation for Beijing"
   ]
  },
  {
   "cell_type": "markdown",
   "metadata": {},
   "source": [
    "The demo shows how you can generate the synthetic population of China using SyntheticPopulation.jl package."
   ]
  },
  {
   "cell_type": "markdown",
   "metadata": {},
   "source": [
    "## 1. Include SyntheticPopulation package"
   ]
  },
  {
   "cell_type": "code",
   "execution_count": 1,
   "metadata": {},
   "outputs": [
    {
     "data": {
      "text/plain": [
       "PyObject <module 'folium' from '/Users/marcinzurek/.julia/conda/3/x86_64/lib/python3.10/site-packages/folium/__init__.py'>"
      ]
     },
     "execution_count": 1,
     "metadata": {},
     "output_type": "execute_result"
    }
   ],
   "source": [
    "include(\"../src/SyntheticPopulation.jl\")\n",
    "using PyCall\n",
    "using Colors\n",
    "folium = pyimport(\"folium\")"
   ]
  },
  {
   "cell_type": "markdown",
   "metadata": {},
   "source": [
    "## 2. Provide marginal data for individuals and households"
   ]
  },
  {
   "cell_type": "markdown",
   "metadata": {},
   "source": [
    "For the purpose of this demo, we are using data from:\n",
    "- Beijing Statistical Yearbook: https://nj.tjj.beijing.gov.cn/nj/main/2021-tjnj/zk/indexeh.htm \n",
    "- China Statistical Yearbook: http://www.stats.gov.cn/sj/ndsj/2019/indexeh.htm\n",
    "\n",
    "The data is input manually in a form of Julia DataFrame. We are using the following tables:\n",
    "- For attributes of individuals:\n",
    "    - 3-6 PERMANENT POPULATION BY AGE COMPOSITION (2020)\n",
    "    - 2-13 Population by Sex, Marital Status and Region (2018)\n",
    "    - 5-4 PER CAPITA INCOME AND CONSUMPTION EXPENDITURE OF HOUSEHOLDS OF THE WHOLE CITY (2015-2020)\n",
    "- For attributes of households:\n",
    "    - 3-8 FAMILY SIZE OF PERMANENT POPULATION (2020)\n",
    "    \n",
    "Because of large population of Beijing, the data is scales by 0.1% to decrease computational costs.\n",
    "\n",
    "Each of dataframes provides information about the distribution of population. We can only access marginal distributions of attributes (e.g. population by age and sex)."
   ]
  },
  {
   "cell_type": "code",
   "execution_count": 2,
   "metadata": {},
   "outputs": [
    {
     "data": {
      "text/plain": [
       "0.001"
      ]
     },
     "execution_count": 2,
     "metadata": {},
     "output_type": "execute_result"
    }
   ],
   "source": [
    "#each individual and each household represent 1000 individuals or households\n",
    "SCALE = 0.001 "
   ]
  },
  {
   "cell_type": "code",
   "execution_count": 3,
   "metadata": {},
   "outputs": [
    {
     "data": {
      "text/html": [
       "<div><div style = \"float: left;\"><span>5×2 DataFrame</span></div><div style = \"clear: both;\"></div></div><div class = \"data-frame\" style = \"overflow-x: scroll;\"><table class = \"data-frame\" style = \"margin-bottom: 6px;\"><thead><tr class = \"header\"><th class = \"rowNumber\" style = \"font-weight: bold; text-align: right;\">Row</th><th style = \"text-align: left;\">hh_size</th><th style = \"text-align: left;\">population</th></tr><tr class = \"subheader headerLastRow\"><th class = \"rowNumber\" style = \"font-weight: bold; text-align: right;\"></th><th title = \"Int64\" style = \"text-align: left;\">Int64</th><th title = \"Int64\" style = \"text-align: left;\">Int64</th></tr></thead><tbody><tr><td class = \"rowNumber\" style = \"font-weight: bold; text-align: right;\">1</td><td style = \"text-align: right;\">1</td><td style = \"text-align: right;\">2461</td></tr><tr><td class = \"rowNumber\" style = \"font-weight: bold; text-align: right;\">2</td><td style = \"text-align: right;\">2</td><td style = \"text-align: right;\">2724</td></tr><tr><td class = \"rowNumber\" style = \"font-weight: bold; text-align: right;\">3</td><td style = \"text-align: right;\">3</td><td style = \"text-align: right;\">1786</td></tr><tr><td class = \"rowNumber\" style = \"font-weight: bold; text-align: right;\">4</td><td style = \"text-align: right;\">4</td><td style = \"text-align: right;\">741</td></tr><tr><td class = \"rowNumber\" style = \"font-weight: bold; text-align: right;\">5</td><td style = \"text-align: right;\">5</td><td style = \"text-align: right;\">518</td></tr></tbody></table></div>"
      ],
      "text/latex": [
       "\\begin{tabular}{r|cc}\n",
       "\t& hh\\_size & population\\\\\n",
       "\t\\hline\n",
       "\t& Int64 & Int64\\\\\n",
       "\t\\hline\n",
       "\t1 & 1 & 2461 \\\\\n",
       "\t2 & 2 & 2724 \\\\\n",
       "\t3 & 3 & 1786 \\\\\n",
       "\t4 & 4 & 741 \\\\\n",
       "\t5 & 5 & 518 \\\\\n",
       "\\end{tabular}\n"
      ],
      "text/plain": [
       "\u001b[1m5×2 DataFrame\u001b[0m\n",
       "\u001b[1m Row \u001b[0m│\u001b[1m hh_size \u001b[0m\u001b[1m population \u001b[0m\n",
       "     │\u001b[90m Int64   \u001b[0m\u001b[90m Int64      \u001b[0m\n",
       "─────┼─────────────────────\n",
       "   1 │       1        2461\n",
       "   2 │       2        2724\n",
       "   3 │       3        1786\n",
       "   4 │       4         741\n",
       "   5 │       5         518"
      ]
     },
     "execution_count": 3,
     "metadata": {},
     "output_type": "execute_result"
    }
   ],
   "source": [
    "#all values are based on China census data\n",
    "popoulation_size = 21890000\n",
    "\n",
    "#individuals\n",
    "marginal_ind_age_sex = DataFrame(\n",
    "    sex = repeat(['M', 'F'], 18),\n",
    "    age = repeat(2:5:87, inner = 2), \n",
    "    population = SCALE .* 10000 .* [52.6, 49.0, 48.5, 44.8, 33.6, 30.6, 34.6, 28.8, 71.6, 63.4, 99.6, 90.9, 130.9, 119.4, 110.8, 103.5, 83.8, 76.4, 84.2, 77.7, 84.2, 77.8, 82.8, 79.9, 67.7, 71.0, 56.9, 62.6, 31.5, 35.3, 18.5, 23.0, 15.2, 19.7, 12.5, 16.0]\n",
    "    )\n",
    "\n",
    "\n",
    "marginal_ind_sex_maritialstatus = DataFrame(\n",
    "    sex = repeat(['M', 'F'], 4), \n",
    "    maritialstatus = repeat([\"Not_married\", \"Married\", \"Divorced\", \"Widowed\"], inner = 2), \n",
    "    population = SCALE .* [1679, 1611, 5859, 5774, 140, 206, 128, 426] ./ 0.00082\n",
    "    )\n",
    "\n",
    "\n",
    "marginal_ind_income = DataFrame(\n",
    "    income = [25394, 44855, 63969, 88026, 145915], \n",
    "    population = repeat([popoulation_size * SCALE / 5], 5)\n",
    "    )\n",
    "\n",
    "#households\n",
    "marginal_hh_size = DataFrame(\n",
    "    hh_size = [1,2,3,4,5],\n",
    "    population = Int.(round.(SCALE * 8230000 .* [0.299, 0.331, 0.217, 0.09, 0.063]))\n",
    "    )"
   ]
  },
  {
   "cell_type": "markdown",
   "metadata": {},
   "source": [
    "## 3. Generate data about population in Beijing's districts."
   ]
  },
  {
   "cell_type": "markdown",
   "metadata": {},
   "source": [
    "Next, we generate a Julia DataFrame which presents population breakdown per each district. This consists of 2 steps:\n",
    "1. First, we download the distrct boundaries from https://osm-boundaries.com/Map and save into Julia DataFrame.\n",
    "2. Then, we manually add a column with population for each district, based on Beijing Statistical Yearbook (table 3-4 TOTAL NUMBER AND DENSITY OF PERMANENT POPULATION (BY DISTRICT) (2020))"
   ]
  },
  {
   "cell_type": "code",
   "execution_count": 4,
   "metadata": {
    "scrolled": false
   },
   "outputs": [
    {
     "name": "stdout",
     "output_type": "stream",
     "text": [
      "Downloading file... \n",
      "File downloaded. Unzipping file...\n",
      "File saved at /Users/marcinzurek/Desktop/Studia/Research/SyntheticPopulation/notebooks/file.geojson\n"
     ]
    },
    {
     "data": {
      "text/html": [
       "<div><div style = \"float: left;\"><span>16×3 DataFrame</span></div><div style = \"clear: both;\"></div></div><div class = \"data-frame\" style = \"overflow-x: scroll;\"><table class = \"data-frame\" style = \"margin-bottom: 6px;\"><thead><tr class = \"header\"><th class = \"rowNumber\" style = \"font-weight: bold; text-align: right;\">Row</th><th style = \"text-align: left;\">id</th><th style = \"text-align: left;\">geometry</th><th style = \"text-align: left;\">name</th></tr><tr class = \"subheader headerLastRow\"><th class = \"rowNumber\" style = \"font-weight: bold; text-align: right;\"></th><th title = \"Int64\" style = \"text-align: left;\">Int64</th><th title = \"Union{Missing, GeoJSON.Geometry}\" style = \"text-align: left;\">Geometry</th><th title = \"String\" style = \"text-align: left;\">String</th></tr></thead><tbody><tr><td class = \"rowNumber\" style = \"font-weight: bold; text-align: right;\">1</td><td style = \"text-align: right;\">1</td><td style = \"text-align: left;\">Polygon</td><td style = \"text-align: left;\">Shijingshan District</td></tr><tr><td class = \"rowNumber\" style = \"font-weight: bold; text-align: right;\">2</td><td style = \"text-align: right;\">2</td><td style = \"text-align: left;\">Polygon</td><td style = \"text-align: left;\">Haidian District</td></tr><tr><td class = \"rowNumber\" style = \"font-weight: bold; text-align: right;\">3</td><td style = \"text-align: right;\">3</td><td style = \"text-align: left;\">Polygon</td><td style = \"text-align: left;\">Fengtai District</td></tr><tr><td class = \"rowNumber\" style = \"font-weight: bold; text-align: right;\">4</td><td style = \"text-align: right;\">4</td><td style = \"text-align: left;\">MultiPolygon</td><td style = \"text-align: left;\">Chaoyang District</td></tr><tr><td class = \"rowNumber\" style = \"font-weight: bold; text-align: right;\">5</td><td style = \"text-align: right;\">5</td><td style = \"text-align: left;\">Polygon</td><td style = \"text-align: left;\">Yanqing District</td></tr><tr><td class = \"rowNumber\" style = \"font-weight: bold; text-align: right;\">6</td><td style = \"text-align: right;\">6</td><td style = \"text-align: left;\">Polygon</td><td style = \"text-align: left;\">Tongzhou District</td></tr><tr><td class = \"rowNumber\" style = \"font-weight: bold; text-align: right;\">7</td><td style = \"text-align: right;\">7</td><td style = \"text-align: left;\">Polygon</td><td style = \"text-align: left;\">Shunyi District</td></tr><tr><td class = \"rowNumber\" style = \"font-weight: bold; text-align: right;\">8</td><td style = \"text-align: right;\">8</td><td style = \"text-align: left;\">Polygon</td><td style = \"text-align: left;\">Pinggu District</td></tr><tr><td class = \"rowNumber\" style = \"font-weight: bold; text-align: right;\">9</td><td style = \"text-align: right;\">9</td><td style = \"text-align: left;\">Polygon</td><td style = \"text-align: left;\">Miyun District</td></tr><tr><td class = \"rowNumber\" style = \"font-weight: bold; text-align: right;\">10</td><td style = \"text-align: right;\">10</td><td style = \"text-align: left;\">Polygon</td><td style = \"text-align: left;\">Mentougou District</td></tr><tr><td class = \"rowNumber\" style = \"font-weight: bold; text-align: right;\">11</td><td style = \"text-align: right;\">11</td><td style = \"text-align: left;\">Polygon</td><td style = \"text-align: left;\">Huairou District</td></tr><tr><td class = \"rowNumber\" style = \"font-weight: bold; text-align: right;\">12</td><td style = \"text-align: right;\">12</td><td style = \"text-align: left;\">Polygon</td><td style = \"text-align: left;\">Fangshan District</td></tr><tr><td class = \"rowNumber\" style = \"font-weight: bold; text-align: right;\">13</td><td style = \"text-align: right;\">13</td><td style = \"text-align: left;\">Polygon</td><td style = \"text-align: left;\">Daxing District</td></tr><tr><td class = \"rowNumber\" style = \"font-weight: bold; text-align: right;\">14</td><td style = \"text-align: right;\">14</td><td style = \"text-align: left;\">Polygon</td><td style = \"text-align: left;\">Changping District</td></tr><tr><td class = \"rowNumber\" style = \"font-weight: bold; text-align: right;\">15</td><td style = \"text-align: right;\">15</td><td style = \"text-align: left;\">Polygon</td><td style = \"text-align: left;\">Xicheng District</td></tr><tr><td class = \"rowNumber\" style = \"font-weight: bold; text-align: right;\">16</td><td style = \"text-align: right;\">16</td><td style = \"text-align: left;\">Polygon</td><td style = \"text-align: left;\">Dongcheng District</td></tr></tbody></table></div>"
      ],
      "text/latex": [
       "\\begin{tabular}{r|ccc}\n",
       "\t& id & geometry & name\\\\\n",
       "\t\\hline\n",
       "\t& Int64 & Geometry & String\\\\\n",
       "\t\\hline\n",
       "\t1 & 1 & Polygon & Shijingshan District \\\\\n",
       "\t2 & 2 & Polygon & Haidian District \\\\\n",
       "\t3 & 3 & Polygon & Fengtai District \\\\\n",
       "\t4 & 4 & MultiPolygon & Chaoyang District \\\\\n",
       "\t5 & 5 & Polygon & Yanqing District \\\\\n",
       "\t6 & 6 & Polygon & Tongzhou District \\\\\n",
       "\t7 & 7 & Polygon & Shunyi District \\\\\n",
       "\t8 & 8 & Polygon & Pinggu District \\\\\n",
       "\t9 & 9 & Polygon & Miyun District \\\\\n",
       "\t10 & 10 & Polygon & Mentougou District \\\\\n",
       "\t11 & 11 & Polygon & Huairou District \\\\\n",
       "\t12 & 12 & Polygon & Fangshan District \\\\\n",
       "\t13 & 13 & Polygon & Daxing District \\\\\n",
       "\t14 & 14 & Polygon & Changping District \\\\\n",
       "\t15 & 15 & Polygon & Xicheng District \\\\\n",
       "\t16 & 16 & Polygon & Dongcheng District \\\\\n",
       "\\end{tabular}\n"
      ],
      "text/plain": [
       "\u001b[1m16×3 DataFrame\u001b[0m\n",
       "\u001b[1m Row \u001b[0m│\u001b[1m id    \u001b[0m\u001b[1m geometry     \u001b[0m\u001b[1m name                 \u001b[0m\n",
       "     │\u001b[90m Int64 \u001b[0m\u001b[90m Geometry     \u001b[0m\u001b[90m String               \u001b[0m\n",
       "─────┼───────────────────────────────────────────\n",
       "   1 │     1  Polygon       Shijingshan District\n",
       "   2 │     2  Polygon       Haidian District\n",
       "   3 │     3  Polygon       Fengtai District\n",
       "   4 │     4  MultiPolygon  Chaoyang District\n",
       "   5 │     5  Polygon       Yanqing District\n",
       "   6 │     6  Polygon       Tongzhou District\n",
       "   7 │     7  Polygon       Shunyi District\n",
       "   8 │     8  Polygon       Pinggu District\n",
       "   9 │     9  Polygon       Miyun District\n",
       "  10 │    10  Polygon       Mentougou District\n",
       "  11 │    11  Polygon       Huairou District\n",
       "  12 │    12  Polygon       Fangshan District\n",
       "  13 │    13  Polygon       Daxing District\n",
       "  14 │    14  Polygon       Changping District\n",
       "  15 │    15  Polygon       Xicheng District\n",
       "  16 │    16  Polygon       Dongcheng District"
      ]
     },
     "execution_count": 4,
     "metadata": {},
     "output_type": "execute_result"
    }
   ],
   "source": [
    "#areas\n",
    "URL = \"https://osm-boundaries.com/Download/Submit?apiKey=87100809b4085adb58139419c141e5a1&db=osm20230102&osmIds=-2988894,-2988933,-2988895,-288600,-2988896,-2988946,-5505984,-2988897,-2988898,-2988899,-2988900,-5505985,-2988901,-2988902,-568660,-2988903&format=GeoJSON&srid=4326\"\n",
    "areas = generate_areas_dataframe(URL)\n",
    "\n",
    "#aggregated_areas - population referenced from https://nj.tjj.beijing.gov.cn/nj/main/2021-tjnj/zk/indexeh.htm\n",
    "aggregated_areas = copy(areas)\n",
    "aggregated_areas.:population = SCALE .* 10000 .* [56.8, 313.2, 201.9, 345.1, 34.6, 184.0, 132.4, 45.7, 52.8, 39.3, 44.1, 131.3, 199.4, 226.9, 110.6, 70.9]\n",
    "aggregated_areas = aggregated_areas[:, [:id, :population]]\n",
    "areas"
   ]
  },
  {
   "cell_type": "markdown",
   "metadata": {},
   "source": [
    "## 4. Merge marginal distributions to obtain joint distributions for multiple attributes"
   ]
  },
  {
   "cell_type": "markdown",
   "metadata": {},
   "source": [
    "As the next step, we merge marginal distributions of attributes of individuals to obtain join distributions for attribute combinations. This is done using a recursive algorithm that leverages Iterative Proportional Fitting Method proposed by Guo, Bhat, 2007 [1].\n",
    "In addition, our algorithm is improved because it can be configured with a JSON file to provide more flexibility. This  approach is insipired by Ponge, Enbergs et al. 2021. The configuration documentation is described elsewhere.\n",
    "\n",
    "[1] Guo, J. Y., & Bhat, C. R. (2007). Population synthesis for microsimulating travel behavior. Transportation Research Record, 2014(1), 92-101.  \n",
    "[2] Ponge, J., Enbergs, M., Schüngel, M., Hellingrath, B., Karch, A., & Ludwig, S. (2021, December). Generating synthetic populations based on german census data. In 2021 Winter Simulation Conference (WSC) (pp. 1-12). IEEE."
   ]
  },
  {
   "cell_type": "code",
   "execution_count": 10,
   "metadata": {
    "scrolled": false
   },
   "outputs": [
    {
     "name": "stderr",
     "output_type": "stream",
     "text": [
      "\u001b[36m\u001b[1m[ \u001b[22m\u001b[39m\u001b[36m\u001b[1mInfo: \u001b[22m\u001b[39mInconsistent target margins, converting `X` and `mar` to proportions. Margin totals: [9520, 9502]\n",
      "\u001b[36m\u001b[1m[ \u001b[22m\u001b[39m\u001b[36m\u001b[1mInfo: \u001b[22m\u001b[39mConverged in 1 iterations.\n",
      "\u001b[36m\u001b[1m[ \u001b[22m\u001b[39m\u001b[36m\u001b[1mInfo: \u001b[22m\u001b[39mInconsistent target margins, converting `X` and `mar` to proportions. Margin totals: [9777, 9166]\n",
      "\u001b[36m\u001b[1m[ \u001b[22m\u001b[39m\u001b[36m\u001b[1mInfo: \u001b[22m\u001b[39mConverged in 1 iterations.\n",
      "\u001b[36m\u001b[1m[ \u001b[22m\u001b[39m\u001b[36m\u001b[1mInfo: \u001b[22m\u001b[39mInconsistent target margins, converting `X` and `mar` to proportions. Margin totals: [18668, 21890]\n",
      "\u001b[36m\u001b[1m[ \u001b[22m\u001b[39m\u001b[36m\u001b[1mInfo: \u001b[22m\u001b[39mConverged in 1 iterations.\n"
     ]
    },
    {
     "data": {
      "text/plain": [
       "(\u001b[1m568×5 DataFrame\u001b[0m\n",
       "\u001b[1m Row \u001b[0m│\u001b[1m id    \u001b[0m\u001b[1m maritialstatus \u001b[0m\u001b[1m sex   \u001b[0m\u001b[1m age    \u001b[0m\u001b[1m income  \u001b[0m\n",
       "     │\u001b[90m Int64 \u001b[0m\u001b[90m String?        \u001b[0m\u001b[90m Char? \u001b[0m\u001b[90m Int64? \u001b[0m\u001b[90m Int64?  \u001b[0m\n",
       "─────┼───────────────────────────────────────────────\n",
       "   1 │     1  Not_married     M          22    25394\n",
       "   2 │     2  Married         M          22    25394\n",
       "   3 │     3  Divorced        M          22    25394\n",
       "   4 │     4  Widowed         M          22    25394\n",
       "   5 │     5  Not_married     F          22    25394\n",
       "   6 │     6  Married         F          22    25394\n",
       "   7 │     7  Divorced        F          22    25394\n",
       "   8 │     8  Widowed         F          22    25394\n",
       "   9 │     9  Not_married     M          27    25394\n",
       "  10 │    10  Married         M          27    25394\n",
       "  11 │    11  Divorced        M          27    25394\n",
       "  ⋮  │   ⋮          ⋮           ⋮      ⋮        ⋮\n",
       " 559 │   559  Divorced        F          87   145915\n",
       " 560 │   560  Widowed         F          87   145915\n",
       " 561 │   561 \u001b[90m missing        \u001b[0m F           2 \u001b[90m missing \u001b[0m\n",
       " 562 │   562 \u001b[90m missing        \u001b[0m F           7 \u001b[90m missing \u001b[0m\n",
       " 563 │   563 \u001b[90m missing        \u001b[0m F          12 \u001b[90m missing \u001b[0m\n",
       " 564 │   564 \u001b[90m missing        \u001b[0m F          17 \u001b[90m missing \u001b[0m\n",
       " 565 │   565 \u001b[90m missing        \u001b[0m M           2 \u001b[90m missing \u001b[0m\n",
       " 566 │   566 \u001b[90m missing        \u001b[0m M           7 \u001b[90m missing \u001b[0m\n",
       " 567 │   567 \u001b[90m missing        \u001b[0m M          12 \u001b[90m missing \u001b[0m\n",
       " 568 │   568 \u001b[90m missing        \u001b[0m M          17 \u001b[90m missing \u001b[0m\n",
       "\u001b[36m                                     547 rows omitted\u001b[0m, \u001b[1m568×2 DataFrame\u001b[0m\n",
       "\u001b[1m Row \u001b[0m│\u001b[1m id    \u001b[0m\u001b[1m population \u001b[0m\n",
       "     │\u001b[90m Int64 \u001b[0m\u001b[90m Int64      \u001b[0m\n",
       "─────┼───────────────────\n",
       "   1 │     1          31\n",
       "   2 │     2         107\n",
       "   3 │     3           3\n",
       "   4 │     4           2\n",
       "   5 │     5          43\n",
       "   6 │     6         150\n",
       "   7 │     7           4\n",
       "   8 │     8           3\n",
       "   9 │     9          56\n",
       "  10 │    10         196\n",
       "  11 │    11           5\n",
       "  ⋮  │   ⋮        ⋮\n",
       " 559 │   559           1\n",
       " 560 │   560           2\n",
       " 561 │   561         490\n",
       " 562 │   562         448\n",
       " 563 │   563         306\n",
       " 564 │   564         288\n",
       " 565 │   565         526\n",
       " 566 │   566         485\n",
       " 567 │   567         336\n",
       " 568 │   568         346\n",
       "\u001b[36m         547 rows omitted\u001b[0m)"
      ]
     },
     "execution_count": 10,
     "metadata": {},
     "output_type": "execute_result"
    }
   ],
   "source": [
    "individuals, aggregated_individuals = generate_joint_distributions(marginal_ind_sex_maritialstatus, marginal_ind_age_sex, marginal_ind_income, config_file = \"config_file.json\")"
   ]
  },
  {
   "cell_type": "markdown",
   "metadata": {},
   "source": [
    "We do the same for a dataframe with households to generate households pool."
   ]
  },
  {
   "cell_type": "code",
   "execution_count": 11,
   "metadata": {},
   "outputs": [
    {
     "data": {
      "text/plain": [
       "(\u001b[1m5×2 DataFrame\u001b[0m\n",
       "\u001b[1m Row \u001b[0m│\u001b[1m id    \u001b[0m\u001b[1m hh_size \u001b[0m\n",
       "     │\u001b[90m Int64 \u001b[0m\u001b[90m Int64   \u001b[0m\n",
       "─────┼────────────────\n",
       "   1 │     1        1\n",
       "   2 │     2        2\n",
       "   3 │     3        3\n",
       "   4 │     4        4\n",
       "   5 │     5        5, \u001b[1m5×2 DataFrame\u001b[0m\n",
       "\u001b[1m Row \u001b[0m│\u001b[1m id    \u001b[0m\u001b[1m population \u001b[0m\n",
       "     │\u001b[90m Int64 \u001b[0m\u001b[90m Int64      \u001b[0m\n",
       "─────┼───────────────────\n",
       "   1 │     1        2461\n",
       "   2 │     2        2724\n",
       "   3 │     3        1786\n",
       "   4 │     4         741\n",
       "   5 │     5         518)"
      ]
     },
     "execution_count": 11,
     "metadata": {},
     "output_type": "execute_result"
    }
   ],
   "source": [
    "households, aggregated_households = generate_joint_distributions(marginal_hh_size)"
   ]
  },
  {
   "cell_type": "markdown",
   "metadata": {},
   "source": [
    "## 5. Assign individuals to households"
   ]
  },
  {
   "cell_type": "markdown",
   "metadata": {},
   "source": [
    "Once the individual pool and household pool is generated, we assign individuals to households. The individuals are assigned to households based on the following rules:\n",
    "1. Each household consists of household head.\n",
    "2. If household size is 2, then we draw a partner of opposite gender aged +/- 5 years from household head.\n",
    "3. If houhsehold size is 3-5, we fill the rest of household spots with childredn. Age difference between parents and child is between 15 and 40."
   ]
  },
  {
   "cell_type": "code",
   "execution_count": 13,
   "metadata": {
    "scrolled": false
   },
   "outputs": [
    {
     "name": "stdout",
     "output_type": "stream",
     "text": [
      "Total_number of individuals: 21885\n",
      "Total_number of households: 8230\n",
      "Allocation started... \n"
     ]
    },
    {
     "name": "stderr",
     "output_type": "stream",
     "text": [
      "\u001b[32mProgress: 100%|█████████████████████████████████████████| Time: 0:00:06\u001b[39m\n"
     ]
    },
    {
     "name": "stdout",
     "output_type": "stream",
     "text": [
      "Allocated 86.0% individuals.\n",
      "Allocated 100.0% households.\n"
     ]
    },
    {
     "data": {
      "text/plain": [
       "(\u001b[1m8230×9 DataFrame\u001b[0m\n",
       "\u001b[1m  Row \u001b[0m│\u001b[1m id    \u001b[0m\u001b[1m hh_attr_id \u001b[0m\u001b[1m hh_size \u001b[0m\u001b[1m individuals_allocated \u001b[0m\u001b[1m head_id \u001b[0m\u001b[1m partner_id\u001b[0m ⋯\n",
       "      │\u001b[90m Int64 \u001b[0m\u001b[90m Int64      \u001b[0m\u001b[90m Int64   \u001b[0m\u001b[90m Bool                  \u001b[0m\u001b[90m Int64   \u001b[0m\u001b[90m Int64     \u001b[0m ⋯\n",
       "──────┼─────────────────────────────────────────────────────────────────────────\n",
       "    1 │     1           1        1                   true      489           0 ⋯\n",
       "    2 │     2           1        1                   true      493           0\n",
       "    3 │     3           1        1                   true      233           0\n",
       "    4 │     4           1        1                   true      152           0\n",
       "    5 │     5           1        1                   true      287           0 ⋯\n",
       "    6 │     6           1        1                   true      412           0\n",
       "    7 │     7           1        1                   true      457           0\n",
       "    8 │     8           1        1                   true      532           0\n",
       "    9 │     9           1        1                   true      245           0 ⋯\n",
       "   10 │    10           1        1                   true      237           0\n",
       "   11 │    11           1        1                   true       75           0\n",
       "  ⋮   │   ⋮        ⋮          ⋮               ⋮               ⋮         ⋮      ⋱\n",
       " 8221 │  8221           5        5                   true      394         222\n",
       " 8222 │  8222           5        5                   true      290         246 ⋯\n",
       " 8223 │  8223           5        5                   true      474          78\n",
       " 8224 │  8224           5        5                   true       62         410\n",
       " 8225 │  8225           5        5                   true       10         326\n",
       " 8226 │  8226           5        5                   true       70         282 ⋯\n",
       " 8227 │  8227           5        5                   true      346         254\n",
       " 8228 │  8228           5        5                   true      242         286\n",
       " 8229 │  8229           5        5                   true      286         306\n",
       " 8230 │  8230           5        5                   true      234         398 ⋯\n",
       "\u001b[36m                                                 3 columns and 8209 rows omitted\u001b[0m, Dict{String, DataFrame}(\"unassigned_individuals\" => \u001b[1m471×2 DataFrame\u001b[0m\n",
       "\u001b[1m Row \u001b[0m│\u001b[1m id    \u001b[0m\u001b[1m population \u001b[0m\n",
       "     │\u001b[90m Int64 \u001b[0m\u001b[90m Int64      \u001b[0m\n",
       "─────┼───────────────────\n",
       "   1 │     1           3\n",
       "   2 │     5           1\n",
       "   3 │     6           3\n",
       "   4 │     9          21\n",
       "   5 │    10           8\n",
       "   6 │    11           2\n",
       "   7 │    12           3\n",
       "   8 │    13          23\n",
       "   9 │    14           3\n",
       "  10 │    15           2\n",
       "  11 │    16           1\n",
       "  ⋮  │   ⋮        ⋮\n",
       " 462 │   557           2\n",
       " 463 │   558           1\n",
       " 464 │   561          16\n",
       " 465 │   562          12\n",
       " 466 │   563           8\n",
       " 467 │   564           6\n",
       " 468 │   565          12\n",
       " 469 │   566           8\n",
       " 470 │   567           6\n",
       " 471 │   568          12\n",
       "\u001b[36m         450 rows omitted\u001b[0m, \"unassigned_households\" => \u001b[1m0×2 DataFrame\u001b[0m\n",
       "\u001b[1m Row \u001b[0m│\u001b[1m id    \u001b[0m\u001b[1m population \u001b[0m\n",
       "     │\u001b[90m Int64 \u001b[0m\u001b[90m Int64      \u001b[0m\n",
       "─────┴───────────────────))"
      ]
     },
     "execution_count": 13,
     "metadata": {},
     "output_type": "execute_result"
    }
   ],
   "source": [
    "disaggregated_households, unassigned = assign_individuals_to_households(individuals, aggregated_individuals, households, aggregated_households, return_unassigned = true)"
   ]
  },
  {
   "cell_type": "markdown",
   "metadata": {},
   "source": [
    "## 6. Assigning geographical coordinates for households."
   ]
  },
  {
   "cell_type": "markdown",
   "metadata": {},
   "source": [
    "Once each household is filled with individuals of certain type, we assign coordinates for each household. This is done in 2 steps:\n",
    "1. We draw a district for each of the households.\n",
    "2. We draw random coordinates that are within the polygon that represents district area. "
   ]
  },
  {
   "cell_type": "code",
   "execution_count": null,
   "metadata": {},
   "outputs": [],
   "source": [
    "disaggregated_households, unassigned = assign_areas_to_households!(disaggregated_households, areas, aggregated_areas, return_unassigned = true)\n",
    "disaggregated_households"
   ]
  },
  {
   "cell_type": "markdown",
   "metadata": {},
   "source": [
    "## 7. Visualisation"
   ]
  },
  {
   "cell_type": "markdown",
   "metadata": {},
   "source": [
    "In the dataframe `disaggregated_households` each row represents one household. For each household we assigned some household members, each of them being characterized by a set of attributes. Also, each household has coordinates that show the location of the household.\n",
    "\n",
    "Let's visualise it:"
   ]
  },
  {
   "cell_type": "code",
   "execution_count": null,
   "metadata": {
    "scrolled": false
   },
   "outputs": [],
   "source": [
    "m = folium.Map(location = [disaggregated_households.lat[1], disaggregated_households.lon[1]], zoom_start=11)\n",
    "i = 1\n",
    "for area in unique(disaggregated_households.area_id)\n",
    "    colrs = distinguishable_colors(length(unique(disaggregated_households.area_id)), [RGB(1,0.6,0.5)])\n",
    "    hh_color = \"#$(hex(colrs[i]))\"\n",
    "    i += 1\n",
    "    area  = filter(row -> row.area_id == area, disaggregated_households)\n",
    "    for i in 1:nrow(area)\n",
    "        folium.Circle(\n",
    "            location = (area.lat[i], area.lon[i]),\n",
    "            radius = 100,\n",
    "            color = hh_color,\n",
    "            fill = false,\n",
    "            fill_color = hh_color\n",
    "        ).add_to(m)\n",
    "    end\n",
    "end\n",
    "m"
   ]
  },
  {
   "cell_type": "code",
   "execution_count": null,
   "metadata": {},
   "outputs": [],
   "source": []
  }
 ],
 "metadata": {
  "kernelspec": {
   "display_name": "Julia 1.8.5",
   "language": "julia",
   "name": "julia-1.8"
  },
  "language_info": {
   "file_extension": ".jl",
   "mimetype": "application/julia",
   "name": "julia",
   "version": "1.8.5"
  }
 },
 "nbformat": 4,
 "nbformat_minor": 2
}
