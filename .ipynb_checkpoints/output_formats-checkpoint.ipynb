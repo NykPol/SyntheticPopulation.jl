{
 "cells": [
  {
   "cell_type": "markdown",
   "metadata": {},
   "source": [
    "## Data generation"
   ]
  },
  {
   "cell_type": "markdown",
   "metadata": {},
   "source": [
    "#### Include needed files"
   ]
  },
  {
   "cell_type": "code",
   "execution_count": 1,
   "metadata": {},
   "outputs": [],
   "source": [
    "include(\"src/SyntheticPopulation.jl\")"
   ]
  },
  {
   "cell_type": "markdown",
   "metadata": {},
   "source": [
    "#### Input data\n",
    "Manual dataframe generation based on real input data from census"
   ]
  },
  {
   "cell_type": "code",
   "execution_count": 8,
   "metadata": {},
   "outputs": [],
   "source": [
    "#each individual and each household represent 1000 individuals or households\n",
    "SCALE = 0.001 \n",
    "\n",
    "#all values are based on China census data\n",
    "popoulation_size = 21890000\n",
    "\n",
    "\n",
    "marginal_ind_age_sex = DataFrame(\n",
    "    sex = repeat(['M', 'F'], 18),\n",
    "    age = repeat(2:5:87, inner = 2), \n",
    "    population = SCALE .* 10000 .* [52.6, 49.0, 48.5, 44.8, 33.6, 30.6, 34.6, 28.8, 71.6, 63.4, 99.6, 90.9, 130.9, 119.4, 110.8, 103.5, 83.8, 76.4, 84.2, 77.7, 84.2, 77.8, 82.8, 79.9, 67.7, 71.0, 56.9, 62.6, 31.5, 35.3, 18.5, 23.0, 15.2, 19.7, 12.5, 16.0]\n",
    "    )\n",
    "\n",
    "\n",
    "marginal_ind_sex_maritialstatus = DataFrame(\n",
    "    sex = repeat(['M', 'F'], 4), \n",
    "    maritialstatus = repeat([\"Not_married\", \"Married\", \"Divorced\", \"Widowed\"], inner = 2), \n",
    "    population = SCALE .* [1679, 1611, 5859, 5774, 140, 206, 128, 426] ./ 0.00082\n",
    "    )\n",
    "\n",
    "\n",
    "marginal_ind_income = DataFrame(\n",
    "    income = [25394, 44855, 63969, 88026, 145915], \n",
    "    population = repeat([popoulation_size * SCALE / 5], 5)\n",
    "    )\n",
    "\n",
    "\n",
    "marginal_hh_size = DataFrame(\n",
    "    hh_size = [1,2,3,4,5],\n",
    "    population = Int.(round.(SCALE * 8230000 .* [0.299, 0.331, 0.217, 0.09, 0.063]))\n",
    "    )\n",
    "\n",
    "nothing"
   ]
  },
  {
   "cell_type": "markdown",
   "metadata": {},
   "source": [
    "Generate areas dataframes"
   ]
  },
  {
   "cell_type": "code",
   "execution_count": 21,
   "metadata": {},
   "outputs": [
    {
     "name": "stdout",
     "output_type": "stream",
     "text": [
      "Downloading file... \n",
      "File downloaded. Unzipping file...\n",
      "File saved at /Users/marcinzurek/Desktop/Studia/Research/SyntheticPopulation/file.geojson\n"
     ]
    }
   ],
   "source": [
    "#areas\n",
    "URL = \"https://osm-boundaries.com/Download/Submit?apiKey=87100809b4085adb58139419c141e5a1&db=osm20230102&osmIds=-2988894,-2988933,-2988895,-288600,-2988896,-2988946,-5505984,-2988897,-2988898,-2988899,-2988900,-5505985,-2988901,-2988902,-568660,-2988903&format=GeoJSON&srid=4326\"\n",
    "areas = generate_areas_dataframe(URL)\n",
    "\n",
    "#aggregated_areas - population referenced from https://nj.tjj.beijing.gov.cn/nj/main/2021-tjnj/zk/indexeh.htm\n",
    "aggregated_areas = copy(areas)\n",
    "aggregated_areas.:population = Int.(round.(SCALE .* 10000 .* [56.8, 313.2, 201.9, 345.1, 34.6, 184.0, 132.4, 45.7, 52.8, 39.3, 44.1, 131.3, 199.4, 226.9, 110.6, 70.9]))\n",
    "aggregated_areas = aggregated_areas[:, [:id, :population]]\n",
    "nothing"
   ]
  },
  {
   "cell_type": "markdown",
   "metadata": {},
   "source": [
    "Generate individuals and household dataframes"
   ]
  },
  {
   "cell_type": "code",
   "execution_count": 10,
   "metadata": {},
   "outputs": [
    {
     "name": "stderr",
     "output_type": "stream",
     "text": [
      "\u001b[36m\u001b[1m[ \u001b[22m\u001b[39m\u001b[36m\u001b[1mInfo: \u001b[22m\u001b[39mInconsistent target margins, converting `X` and `mar` to proportions. Margin totals: [9520, 9502]\n",
      "\u001b[36m\u001b[1m[ \u001b[22m\u001b[39m\u001b[36m\u001b[1mInfo: \u001b[22m\u001b[39mConverged in 1 iterations.\n",
      "\u001b[36m\u001b[1m[ \u001b[22m\u001b[39m\u001b[36m\u001b[1mInfo: \u001b[22m\u001b[39mInconsistent target margins, converting `X` and `mar` to proportions. Margin totals: [9777, 9166]\n",
      "\u001b[36m\u001b[1m[ \u001b[22m\u001b[39m\u001b[36m\u001b[1mInfo: \u001b[22m\u001b[39mConverged in 1 iterations.\n",
      "\u001b[36m\u001b[1m[ \u001b[22m\u001b[39m\u001b[36m\u001b[1mInfo: \u001b[22m\u001b[39mInconsistent target margins, converting `X` and `mar` to proportions. Margin totals: [18668, 21890]\n",
      "\u001b[36m\u001b[1m[ \u001b[22m\u001b[39m\u001b[36m\u001b[1mInfo: \u001b[22m\u001b[39mConverged in 1 iterations.\n"
     ]
    }
   ],
   "source": [
    "individuals, aggregated_individuals = generate_joint_distributions(marginal_ind_sex_maritialstatus, marginal_ind_age_sex, marginal_ind_income, config_file = \"config_file.json\")\n",
    "households, aggregated_households = generate_joint_distributions(marginal_hh_size)\n",
    "nothing"
   ]
  },
  {
   "cell_type": "markdown",
   "metadata": {},
   "source": [
    "Allocate individuals"
   ]
  },
  {
   "cell_type": "code",
   "execution_count": 11,
   "metadata": {},
   "outputs": [
    {
     "name": "stdout",
     "output_type": "stream",
     "text": [
      "Total_number of individuals: 21885\n",
      "Total_number of households: 8230\n",
      "Allocation started... \n"
     ]
    },
    {
     "name": "stderr",
     "output_type": "stream",
     "text": [
      "\u001b[32mProgress: 100%|█████████████████████████████████████████| Time: 0:00:04\u001b[39m\n"
     ]
    },
    {
     "name": "stdout",
     "output_type": "stream",
     "text": [
      "Allocated 86.0% individuals.\n",
      "Allocated 100.0% households.\n"
     ]
    }
   ],
   "source": [
    "aggregated_individuals, disaggregated_households, aggregated_households, unassigned = assign_individuals_to_households!(individuals, aggregated_individuals, households, aggregated_households, return_unassigned = true)\n",
    "nothing"
   ]
  },
  {
   "cell_type": "markdown",
   "metadata": {},
   "source": [
    "Allocate areas"
   ]
  },
  {
   "cell_type": "code",
   "execution_count": 12,
   "metadata": {},
   "outputs": [
    {
     "name": "stdout",
     "output_type": "stream",
     "text": [
      "===================\n",
      "Assigning coordinates to households...\n",
      "===================\n"
     ]
    },
    {
     "name": "stderr",
     "output_type": "stream",
     "text": [
      "\u001b[32mProgress: 100%|█████████████████████████████████████████| Time: 0:00:29\u001b[39m\n"
     ]
    }
   ],
   "source": [
    "disaggregated_households, unassigned = assign_areas_to_households!(disaggregated_households, areas, aggregated_areas, return_unassigned = true)\n",
    "nothing"
   ]
  },
  {
   "cell_type": "markdown",
   "metadata": {},
   "source": [
    "## Input and output data format"
   ]
  },
  {
   "cell_type": "markdown",
   "metadata": {},
   "source": [
    "### Naming convention:\n",
    "- `dataframe` - unique combinations of dataframe attributes with columns `:id` and multiple columns for each `attribute`.\n",
    "- `aggregated_dataframe` - aggregated population with columns `:id` and `:population`.\n",
    "- `disaggregated_dataframe` - disaggregated population.\n",
    "- `unassigned_dataframe` - aggregated population with columns `:id` and `:unassigned_population`.\n",
    "- `marginal_attr1_attr2` - flattened contingency tables with marginal distributions"
   ]
  },
  {
   "cell_type": "markdown",
   "metadata": {},
   "source": [
    "### Dataframes:"
   ]
  },
  {
   "cell_type": "markdown",
   "metadata": {},
   "source": [
    "`marginal_attr1_attr2`\n",
    "___________\n",
    "\n",
    "Description:\n",
    "- flattened multi-way contingency table with marginal distributions of the variables\n",
    "- example: `marginal_age_sex`\n",
    "\n",
    "Columns:\n",
    "- `:attr1` - 1st attribute of the contingency table\n",
    "- `:attr2`- 2nd attribute of the contingency table\n",
    "- `:attr3`, `attr4` - optional attributes\n",
    "- `:population` - total population or total number of elements for a given combination of attributes\n",
    "\n",
    "Returned by:\n",
    "- manual input based on different data sources (e.g. census)\n",
    "\n",
    "Mutated by:\n",
    "- N/A\n",
    "\n",
    "Used as argument by:\n",
    "- `generate_joint_distributions`"
   ]
  },
  {
   "cell_type": "markdown",
   "metadata": {},
   "source": [
    "`disaggregated_households`\n",
    "_____\n",
    "\n",
    "Description:\n",
    "- The final DataFrame that represents the estimated population. Each row is one household with charactieristics, such as assigned individuals and coordinates of households' location.\n",
    "\n",
    "Columns:\n",
    "- `:id` - ID of a household\n",
    "- `:hh_attr_id` - `:hh_attr_id` from DataFrame `households` that references a certain household type.\n",
    "- `:head_id` - `:ind_attr_id` from DataFrame `individuals` that references head of household\n",
    "- `:partner_id` - `:ind_attr_id` from DataFrame `individuals` that references partner of selected head, ==0 if not applicable\n",
    "- `:child1_id` - `:ind_attr_id` from DataFrame `individuals` that references child in household, ==0 if not applicable\n",
    "- `:child2_id` - `:ind_attr_id` from DataFrame `individuals` that references child in household, ==0 if not applicable\n",
    "- `:child3_id` - `:ind_attr_id` from DataFrame `individuals` that references child in household, ==0 if not applicable\n",
    "- `:lat` - latitude of the household location, ==0 if not assigned\n",
    "- `:lon` - longitude of the household location, ==0 if not assigned\n",
    "- `:area_id` - `:area_id` that references area from Dataframe `areas`, ==0 if not assigned\n",
    "\n",
    "Returned by:\n",
    "- `assign_individuals_to_households!`\n",
    "\n",
    "Mutated by:\n",
    "- `assign_areas_to_households!`\n",
    "\n",
    "Used as argument by:\n",
    "- `assign_areas_to_households!`"
   ]
  },
  {
   "cell_type": "code",
   "execution_count": 13,
   "metadata": {},
   "outputs": [
    {
     "data": {
      "text/html": [
       "<div><div style = \"float: left;\"><span>8230×10 DataFrame</span></div><div style = \"float: right;\"><span style = \"font-style: italic;\">8205 rows omitted</span></div><div style = \"clear: both;\"></div></div><div class = \"data-frame\" style = \"overflow-x: scroll;\"><table class = \"data-frame\" style = \"margin-bottom: 6px;\"><thead><tr class = \"header\"><th class = \"rowNumber\" style = \"font-weight: bold; text-align: right;\">Row</th><th style = \"text-align: left;\">id</th><th style = \"text-align: left;\">hh_size</th><th style = \"text-align: left;\">available</th><th style = \"text-align: left;\">head_id</th><th style = \"text-align: left;\">partner_id</th><th style = \"text-align: left;\">child1_id</th><th style = \"text-align: left;\">child2_id</th><th style = \"text-align: left;\">child3_id</th><th style = \"text-align: left;\">lat</th><th style = \"text-align: left;\">lon</th></tr><tr class = \"subheader headerLastRow\"><th class = \"rowNumber\" style = \"font-weight: bold; text-align: right;\"></th><th title = \"Int64\" style = \"text-align: left;\">Int64</th><th title = \"Int64\" style = \"text-align: left;\">Int64</th><th title = \"Bool\" style = \"text-align: left;\">Bool</th><th title = \"Int64\" style = \"text-align: left;\">Int64</th><th title = \"Int64\" style = \"text-align: left;\">Int64</th><th title = \"Int64\" style = \"text-align: left;\">Int64</th><th title = \"Int64\" style = \"text-align: left;\">Int64</th><th title = \"Int64\" style = \"text-align: left;\">Int64</th><th title = \"Float64\" style = \"text-align: left;\">Float64</th><th title = \"Float64\" style = \"text-align: left;\">Float64</th></tr></thead><tbody><tr><td class = \"rowNumber\" style = \"font-weight: bold; text-align: right;\">1</td><td style = \"text-align: right;\">1</td><td style = \"text-align: right;\">1</td><td style = \"text-align: right;\">false</td><td style = \"text-align: right;\">516</td><td style = \"text-align: right;\">0</td><td style = \"text-align: right;\">0</td><td style = \"text-align: right;\">0</td><td style = \"text-align: right;\">0</td><td style = \"text-align: right;\">39.8369</td><td style = \"text-align: right;\">116.074</td></tr><tr><td class = \"rowNumber\" style = \"font-weight: bold; text-align: right;\">2</td><td style = \"text-align: right;\">2</td><td style = \"text-align: right;\">1</td><td style = \"text-align: right;\">false</td><td style = \"text-align: right;\">73</td><td style = \"text-align: right;\">0</td><td style = \"text-align: right;\">0</td><td style = \"text-align: right;\">0</td><td style = \"text-align: right;\">0</td><td style = \"text-align: right;\">39.6054</td><td style = \"text-align: right;\">116.236</td></tr><tr><td class = \"rowNumber\" style = \"font-weight: bold; text-align: right;\">3</td><td style = \"text-align: right;\">3</td><td style = \"text-align: right;\">1</td><td style = \"text-align: right;\">false</td><td style = \"text-align: right;\">201</td><td style = \"text-align: right;\">0</td><td style = \"text-align: right;\">0</td><td style = \"text-align: right;\">0</td><td style = \"text-align: right;\">0</td><td style = \"text-align: right;\">39.902</td><td style = \"text-align: right;\">116.41</td></tr><tr><td class = \"rowNumber\" style = \"font-weight: bold; text-align: right;\">4</td><td style = \"text-align: right;\">4</td><td style = \"text-align: right;\">1</td><td style = \"text-align: right;\">false</td><td style = \"text-align: right;\">125</td><td style = \"text-align: right;\">0</td><td style = \"text-align: right;\">0</td><td style = \"text-align: right;\">0</td><td style = \"text-align: right;\">0</td><td style = \"text-align: right;\">39.87</td><td style = \"text-align: right;\">116.249</td></tr><tr><td class = \"rowNumber\" style = \"font-weight: bold; text-align: right;\">5</td><td style = \"text-align: right;\">5</td><td style = \"text-align: right;\">1</td><td style = \"text-align: right;\">false</td><td style = \"text-align: right;\">463</td><td style = \"text-align: right;\">0</td><td style = \"text-align: right;\">0</td><td style = \"text-align: right;\">0</td><td style = \"text-align: right;\">0</td><td style = \"text-align: right;\">39.8772</td><td style = \"text-align: right;\">116.607</td></tr><tr><td class = \"rowNumber\" style = \"font-weight: bold; text-align: right;\">6</td><td style = \"text-align: right;\">6</td><td style = \"text-align: right;\">1</td><td style = \"text-align: right;\">false</td><td style = \"text-align: right;\">65</td><td style = \"text-align: right;\">0</td><td style = \"text-align: right;\">0</td><td style = \"text-align: right;\">0</td><td style = \"text-align: right;\">0</td><td style = \"text-align: right;\">39.8556</td><td style = \"text-align: right;\">116.177</td></tr><tr><td class = \"rowNumber\" style = \"font-weight: bold; text-align: right;\">7</td><td style = \"text-align: right;\">7</td><td style = \"text-align: right;\">1</td><td style = \"text-align: right;\">false</td><td style = \"text-align: right;\">347</td><td style = \"text-align: right;\">0</td><td style = \"text-align: right;\">0</td><td style = \"text-align: right;\">0</td><td style = \"text-align: right;\">0</td><td style = \"text-align: right;\">39.757</td><td style = \"text-align: right;\">115.783</td></tr><tr><td class = \"rowNumber\" style = \"font-weight: bold; text-align: right;\">8</td><td style = \"text-align: right;\">8</td><td style = \"text-align: right;\">1</td><td style = \"text-align: right;\">false</td><td style = \"text-align: right;\">133</td><td style = \"text-align: right;\">0</td><td style = \"text-align: right;\">0</td><td style = \"text-align: right;\">0</td><td style = \"text-align: right;\">0</td><td style = \"text-align: right;\">39.9959</td><td style = \"text-align: right;\">116.385</td></tr><tr><td class = \"rowNumber\" style = \"font-weight: bold; text-align: right;\">9</td><td style = \"text-align: right;\">9</td><td style = \"text-align: right;\">1</td><td style = \"text-align: right;\">false</td><td style = \"text-align: right;\">189</td><td style = \"text-align: right;\">0</td><td style = \"text-align: right;\">0</td><td style = \"text-align: right;\">0</td><td style = \"text-align: right;\">0</td><td style = \"text-align: right;\">0.0</td><td style = \"text-align: right;\">0.0</td></tr><tr><td class = \"rowNumber\" style = \"font-weight: bold; text-align: right;\">10</td><td style = \"text-align: right;\">10</td><td style = \"text-align: right;\">1</td><td style = \"text-align: right;\">false</td><td style = \"text-align: right;\">193</td><td style = \"text-align: right;\">0</td><td style = \"text-align: right;\">0</td><td style = \"text-align: right;\">0</td><td style = \"text-align: right;\">0</td><td style = \"text-align: right;\">0.0</td><td style = \"text-align: right;\">0.0</td></tr><tr><td class = \"rowNumber\" style = \"font-weight: bold; text-align: right;\">11</td><td style = \"text-align: right;\">11</td><td style = \"text-align: right;\">1</td><td style = \"text-align: right;\">false</td><td style = \"text-align: right;\">473</td><td style = \"text-align: right;\">0</td><td style = \"text-align: right;\">0</td><td style = \"text-align: right;\">0</td><td style = \"text-align: right;\">0</td><td style = \"text-align: right;\">0.0</td><td style = \"text-align: right;\">0.0</td></tr><tr><td class = \"rowNumber\" style = \"font-weight: bold; text-align: right;\">12</td><td style = \"text-align: right;\">12</td><td style = \"text-align: right;\">1</td><td style = \"text-align: right;\">false</td><td style = \"text-align: right;\">321</td><td style = \"text-align: right;\">0</td><td style = \"text-align: right;\">0</td><td style = \"text-align: right;\">0</td><td style = \"text-align: right;\">0</td><td style = \"text-align: right;\">0.0</td><td style = \"text-align: right;\">0.0</td></tr><tr><td class = \"rowNumber\" style = \"font-weight: bold; text-align: right;\">13</td><td style = \"text-align: right;\">13</td><td style = \"text-align: right;\">1</td><td style = \"text-align: right;\">false</td><td style = \"text-align: right;\">9</td><td style = \"text-align: right;\">0</td><td style = \"text-align: right;\">0</td><td style = \"text-align: right;\">0</td><td style = \"text-align: right;\">0</td><td style = \"text-align: right;\">0.0</td><td style = \"text-align: right;\">0.0</td></tr><tr><td style = \"text-align: right;\">&vellip;</td><td style = \"text-align: right;\">&vellip;</td><td style = \"text-align: right;\">&vellip;</td><td style = \"text-align: right;\">&vellip;</td><td style = \"text-align: right;\">&vellip;</td><td style = \"text-align: right;\">&vellip;</td><td style = \"text-align: right;\">&vellip;</td><td style = \"text-align: right;\">&vellip;</td><td style = \"text-align: right;\">&vellip;</td><td style = \"text-align: right;\">&vellip;</td><td style = \"text-align: right;\">&vellip;</td></tr><tr><td class = \"rowNumber\" style = \"font-weight: bold; text-align: right;\">8219</td><td style = \"text-align: right;\">8219</td><td style = \"text-align: right;\">5</td><td style = \"text-align: right;\">false</td><td style = \"text-align: right;\">66</td><td style = \"text-align: right;\">30</td><td style = \"text-align: right;\">6</td><td style = \"text-align: right;\">454</td><td style = \"text-align: right;\">563</td><td style = \"text-align: right;\">39.9999</td><td style = \"text-align: right;\">116.472</td></tr><tr><td class = \"rowNumber\" style = \"font-weight: bold; text-align: right;\">8220</td><td style = \"text-align: right;\">8220</td><td style = \"text-align: right;\">5</td><td style = \"text-align: right;\">false</td><td style = \"text-align: right;\">126</td><td style = \"text-align: right;\">506</td><td style = \"text-align: right;\">566</td><td style = \"text-align: right;\">565</td><td style = \"text-align: right;\">562</td><td style = \"text-align: right;\">40.0925</td><td style = \"text-align: right;\">116.118</td></tr><tr><td class = \"rowNumber\" style = \"font-weight: bold; text-align: right;\">8221</td><td style = \"text-align: right;\">8221</td><td style = \"text-align: right;\">5</td><td style = \"text-align: right;\">false</td><td style = \"text-align: right;\">290</td><td style = \"text-align: right;\">518</td><td style = \"text-align: right;\">562</td><td style = \"text-align: right;\">564</td><td style = \"text-align: right;\">117</td><td style = \"text-align: right;\">40.3262</td><td style = \"text-align: right;\">116.344</td></tr><tr><td class = \"rowNumber\" style = \"font-weight: bold; text-align: right;\">8222</td><td style = \"text-align: right;\">8222</td><td style = \"text-align: right;\">5</td><td style = \"text-align: right;\">false</td><td style = \"text-align: right;\">142</td><td style = \"text-align: right;\">122</td><td style = \"text-align: right;\">562</td><td style = \"text-align: right;\">566</td><td style = \"text-align: right;\">2</td><td style = \"text-align: right;\">40.5432</td><td style = \"text-align: right;\">116.271</td></tr><tr><td class = \"rowNumber\" style = \"font-weight: bold; text-align: right;\">8223</td><td style = \"text-align: right;\">8223</td><td style = \"text-align: right;\">5</td><td style = \"text-align: right;\">false</td><td style = \"text-align: right;\">394</td><td style = \"text-align: right;\">78</td><td style = \"text-align: right;\">563</td><td style = \"text-align: right;\">562</td><td style = \"text-align: right;\">117</td><td style = \"text-align: right;\">40.0227</td><td style = \"text-align: right;\">116.345</td></tr><tr><td class = \"rowNumber\" style = \"font-weight: bold; text-align: right;\">8224</td><td style = \"text-align: right;\">8224</td><td style = \"text-align: right;\">5</td><td style = \"text-align: right;\">false</td><td style = \"text-align: right;\">238</td><td style = \"text-align: right;\">178</td><td style = \"text-align: right;\">567</td><td style = \"text-align: right;\">118</td><td style = \"text-align: right;\">118</td><td style = \"text-align: right;\">0.0</td><td style = \"text-align: right;\">0.0</td></tr><tr><td class = \"rowNumber\" style = \"font-weight: bold; text-align: right;\">8225</td><td style = \"text-align: right;\">8225</td><td style = \"text-align: right;\">5</td><td style = \"text-align: right;\">false</td><td style = \"text-align: right;\">458</td><td style = \"text-align: right;\">398</td><td style = \"text-align: right;\">565</td><td style = \"text-align: right;\">561</td><td style = \"text-align: right;\">2</td><td style = \"text-align: right;\">0.0</td><td style = \"text-align: right;\">0.0</td></tr><tr><td class = \"rowNumber\" style = \"font-weight: bold; text-align: right;\">8226</td><td style = \"text-align: right;\">8226</td><td style = \"text-align: right;\">5</td><td style = \"text-align: right;\">false</td><td style = \"text-align: right;\">14</td><td style = \"text-align: right;\">426</td><td style = \"text-align: right;\">6</td><td style = \"text-align: right;\">562</td><td style = \"text-align: right;\">226</td><td style = \"text-align: right;\">0.0</td><td style = \"text-align: right;\">0.0</td></tr><tr><td class = \"rowNumber\" style = \"font-weight: bold; text-align: right;\">8227</td><td style = \"text-align: right;\">8227</td><td style = \"text-align: right;\">5</td><td style = \"text-align: right;\">false</td><td style = \"text-align: right;\">138</td><td style = \"text-align: right;\">46</td><td style = \"text-align: right;\">564</td><td style = \"text-align: right;\">568</td><td style = \"text-align: right;\">4</td><td style = \"text-align: right;\">39.8905</td><td style = \"text-align: right;\">116.537</td></tr><tr><td class = \"rowNumber\" style = \"font-weight: bold; text-align: right;\">8228</td><td style = \"text-align: right;\">8228</td><td style = \"text-align: right;\">5</td><td style = \"text-align: right;\">false</td><td style = \"text-align: right;\">254</td><td style = \"text-align: right;\">90</td><td style = \"text-align: right;\">118</td><td style = \"text-align: right;\">566</td><td style = \"text-align: right;\">566</td><td style = \"text-align: right;\">39.7946</td><td style = \"text-align: right;\">116.883</td></tr><tr><td class = \"rowNumber\" style = \"font-weight: bold; text-align: right;\">8229</td><td style = \"text-align: right;\">8229</td><td style = \"text-align: right;\">5</td><td style = \"text-align: right;\">false</td><td style = \"text-align: right;\">290</td><td style = \"text-align: right;\">302</td><td style = \"text-align: right;\">450</td><td style = \"text-align: right;\">567</td><td style = \"text-align: right;\">561</td><td style = \"text-align: right;\">0.0</td><td style = \"text-align: right;\">0.0</td></tr><tr><td class = \"rowNumber\" style = \"font-weight: bold; text-align: right;\">8230</td><td style = \"text-align: right;\">8230</td><td style = \"text-align: right;\">5</td><td style = \"text-align: right;\">false</td><td style = \"text-align: right;\">270</td><td style = \"text-align: right;\">122</td><td style = \"text-align: right;\">342</td><td style = \"text-align: right;\">568</td><td style = \"text-align: right;\">566</td><td style = \"text-align: right;\">0.0</td><td style = \"text-align: right;\">0.0</td></tr></tbody></table></div>"
      ],
      "text/latex": [
       "\\begin{tabular}{r|ccccccccc}\n",
       "\t& id & hh\\_size & available & head\\_id & partner\\_id & child1\\_id & child2\\_id & child3\\_id & \\\\\n",
       "\t\\hline\n",
       "\t& Int64 & Int64 & Bool & Int64 & Int64 & Int64 & Int64 & Int64 & \\\\\n",
       "\t\\hline\n",
       "\t1 & 1 & 1 & 0 & 516 & 0 & 0 & 0 & 0 & $\\dots$ \\\\\n",
       "\t2 & 2 & 1 & 0 & 73 & 0 & 0 & 0 & 0 & $\\dots$ \\\\\n",
       "\t3 & 3 & 1 & 0 & 201 & 0 & 0 & 0 & 0 & $\\dots$ \\\\\n",
       "\t4 & 4 & 1 & 0 & 125 & 0 & 0 & 0 & 0 & $\\dots$ \\\\\n",
       "\t5 & 5 & 1 & 0 & 463 & 0 & 0 & 0 & 0 & $\\dots$ \\\\\n",
       "\t6 & 6 & 1 & 0 & 65 & 0 & 0 & 0 & 0 & $\\dots$ \\\\\n",
       "\t7 & 7 & 1 & 0 & 347 & 0 & 0 & 0 & 0 & $\\dots$ \\\\\n",
       "\t8 & 8 & 1 & 0 & 133 & 0 & 0 & 0 & 0 & $\\dots$ \\\\\n",
       "\t9 & 9 & 1 & 0 & 189 & 0 & 0 & 0 & 0 & $\\dots$ \\\\\n",
       "\t10 & 10 & 1 & 0 & 193 & 0 & 0 & 0 & 0 & $\\dots$ \\\\\n",
       "\t11 & 11 & 1 & 0 & 473 & 0 & 0 & 0 & 0 & $\\dots$ \\\\\n",
       "\t12 & 12 & 1 & 0 & 321 & 0 & 0 & 0 & 0 & $\\dots$ \\\\\n",
       "\t13 & 13 & 1 & 0 & 9 & 0 & 0 & 0 & 0 & $\\dots$ \\\\\n",
       "\t14 & 14 & 1 & 0 & 409 & 0 & 0 & 0 & 0 & $\\dots$ \\\\\n",
       "\t15 & 15 & 1 & 0 & 233 & 0 & 0 & 0 & 0 & $\\dots$ \\\\\n",
       "\t16 & 16 & 1 & 0 & 333 & 0 & 0 & 0 & 0 & $\\dots$ \\\\\n",
       "\t17 & 17 & 1 & 0 & 509 & 0 & 0 & 0 & 0 & $\\dots$ \\\\\n",
       "\t18 & 18 & 1 & 0 & 33 & 0 & 0 & 0 & 0 & $\\dots$ \\\\\n",
       "\t19 & 19 & 1 & 0 & 125 & 0 & 0 & 0 & 0 & $\\dots$ \\\\\n",
       "\t20 & 20 & 1 & 0 & 125 & 0 & 0 & 0 & 0 & $\\dots$ \\\\\n",
       "\t21 & 21 & 1 & 0 & 249 & 0 & 0 & 0 & 0 & $\\dots$ \\\\\n",
       "\t22 & 22 & 1 & 0 & 177 & 0 & 0 & 0 & 0 & $\\dots$ \\\\\n",
       "\t23 & 23 & 1 & 0 & 256 & 0 & 0 & 0 & 0 & $\\dots$ \\\\\n",
       "\t24 & 24 & 1 & 0 & 421 & 0 & 0 & 0 & 0 & $\\dots$ \\\\\n",
       "\t25 & 25 & 1 & 0 & 520 & 0 & 0 & 0 & 0 & $\\dots$ \\\\\n",
       "\t26 & 26 & 1 & 0 & 233 & 0 & 0 & 0 & 0 & $\\dots$ \\\\\n",
       "\t27 & 27 & 1 & 0 & 517 & 0 & 0 & 0 & 0 & $\\dots$ \\\\\n",
       "\t28 & 28 & 1 & 0 & 197 & 0 & 0 & 0 & 0 & $\\dots$ \\\\\n",
       "\t29 & 29 & 1 & 0 & 465 & 0 & 0 & 0 & 0 & $\\dots$ \\\\\n",
       "\t30 & 30 & 1 & 0 & 257 & 0 & 0 & 0 & 0 & $\\dots$ \\\\\n",
       "\t$\\dots$ & $\\dots$ & $\\dots$ & $\\dots$ & $\\dots$ & $\\dots$ & $\\dots$ & $\\dots$ & $\\dots$ &  \\\\\n",
       "\\end{tabular}\n"
      ],
      "text/plain": [
       "\u001b[1m8230×10 DataFrame\u001b[0m\n",
       "\u001b[1m  Row \u001b[0m│\u001b[1m id    \u001b[0m\u001b[1m hh_size \u001b[0m\u001b[1m available \u001b[0m\u001b[1m head_id \u001b[0m\u001b[1m partner_id \u001b[0m\u001b[1m child1_id \u001b[0m\u001b[1m child2_id \u001b[0m\u001b[1m \u001b[0m ⋯\n",
       "      │\u001b[90m Int64 \u001b[0m\u001b[90m Int64   \u001b[0m\u001b[90m Bool      \u001b[0m\u001b[90m Int64   \u001b[0m\u001b[90m Int64      \u001b[0m\u001b[90m Int64     \u001b[0m\u001b[90m Int64     \u001b[0m\u001b[90m \u001b[0m ⋯\n",
       "──────┼─────────────────────────────────────────────────────────────────────────\n",
       "    1 │     1        1      false      516           0          0          0   ⋯\n",
       "    2 │     2        1      false       73           0          0          0\n",
       "    3 │     3        1      false      201           0          0          0\n",
       "    4 │     4        1      false      125           0          0          0\n",
       "    5 │     5        1      false      463           0          0          0   ⋯\n",
       "    6 │     6        1      false       65           0          0          0\n",
       "    7 │     7        1      false      347           0          0          0\n",
       "    8 │     8        1      false      133           0          0          0\n",
       "    9 │     9        1      false      189           0          0          0   ⋯\n",
       "   10 │    10        1      false      193           0          0          0\n",
       "   11 │    11        1      false      473           0          0          0\n",
       "  ⋮   │   ⋮       ⋮         ⋮         ⋮         ⋮           ⋮          ⋮       ⋱\n",
       " 8221 │  8221        5      false      290         518        562        564\n",
       " 8222 │  8222        5      false      142         122        562        566   ⋯\n",
       " 8223 │  8223        5      false      394          78        563        562\n",
       " 8224 │  8224        5      false      238         178        567        118\n",
       " 8225 │  8225        5      false      458         398        565        561\n",
       " 8226 │  8226        5      false       14         426          6        562   ⋯\n",
       " 8227 │  8227        5      false      138          46        564        568\n",
       " 8228 │  8228        5      false      254          90        118        566\n",
       " 8229 │  8229        5      false      290         302        450        567\n",
       " 8230 │  8230        5      false      270         122        342        568   ⋯\n",
       "\u001b[36m                                                 3 columns and 8209 rows omitted\u001b[0m"
      ]
     },
     "execution_count": 13,
     "metadata": {},
     "output_type": "execute_result"
    }
   ],
   "source": [
    "disaggregated_households"
   ]
  },
  {
   "cell_type": "markdown",
   "metadata": {},
   "source": [
    "`individuals`\n",
    "______\n",
    "\n",
    "Description:\n",
    "- Each row represents a unique combination of attributes of individuals\n",
    "\n",
    "Columns:\n",
    "- `:id` - ID that represents a unique combination of attributes of individuals\n",
    "- different columns that represent the attributes of the individual, in our example these are:\n",
    "    - `:maritial_status`\n",
    "    - `:age`\n",
    "    - `:sex`\n",
    "    - `:income`\n",
    "\n",
    "Returned by:\n",
    "- `generate_joint_distributions`\n",
    "- can be also generated manually\n",
    "\n",
    "Mutated by:\n",
    "- N/A\n",
    "\n",
    "Used as argument by:\n",
    "- `assign_individuals_to_households!`"
   ]
  },
  {
   "cell_type": "code",
   "execution_count": 14,
   "metadata": {},
   "outputs": [
    {
     "data": {
      "text/html": [
       "<div><div style = \"float: left;\"><span>568×6 DataFrame</span></div><div style = \"float: right;\"><span style = \"font-style: italic;\">543 rows omitted</span></div><div style = \"clear: both;\"></div></div><div class = \"data-frame\" style = \"overflow-x: scroll;\"><table class = \"data-frame\" style = \"margin-bottom: 6px;\"><thead><tr class = \"header\"><th class = \"rowNumber\" style = \"font-weight: bold; text-align: right;\">Row</th><th style = \"text-align: left;\">id</th><th style = \"text-align: left;\">maritialstatus</th><th style = \"text-align: left;\">sex</th><th style = \"text-align: left;\">age</th><th style = \"text-align: left;\">income</th><th style = \"text-align: left;\">population</th></tr><tr class = \"subheader headerLastRow\"><th class = \"rowNumber\" style = \"font-weight: bold; text-align: right;\"></th><th title = \"Int64\" style = \"text-align: left;\">Int64</th><th title = \"Union{Missing, String}\" style = \"text-align: left;\">String?</th><th title = \"Union{Missing, Char}\" style = \"text-align: left;\">Char?</th><th title = \"Union{Missing, Int64}\" style = \"text-align: left;\">Int64?</th><th title = \"Union{Missing, Int64}\" style = \"text-align: left;\">Int64?</th><th title = \"Int64\" style = \"text-align: left;\">Int64</th></tr></thead><tbody><tr><td class = \"rowNumber\" style = \"font-weight: bold; text-align: right;\">1</td><td style = \"text-align: right;\">1</td><td style = \"text-align: left;\">Not_married</td><td style = \"text-align: left;\">M</td><td style = \"text-align: right;\">22</td><td style = \"text-align: right;\">25394</td><td style = \"text-align: right;\">31</td></tr><tr><td class = \"rowNumber\" style = \"font-weight: bold; text-align: right;\">2</td><td style = \"text-align: right;\">2</td><td style = \"text-align: left;\">Married</td><td style = \"text-align: left;\">M</td><td style = \"text-align: right;\">22</td><td style = \"text-align: right;\">25394</td><td style = \"text-align: right;\">107</td></tr><tr><td class = \"rowNumber\" style = \"font-weight: bold; text-align: right;\">3</td><td style = \"text-align: right;\">3</td><td style = \"text-align: left;\">Divorced</td><td style = \"text-align: left;\">M</td><td style = \"text-align: right;\">22</td><td style = \"text-align: right;\">25394</td><td style = \"text-align: right;\">3</td></tr><tr><td class = \"rowNumber\" style = \"font-weight: bold; text-align: right;\">4</td><td style = \"text-align: right;\">4</td><td style = \"text-align: left;\">Widowed</td><td style = \"text-align: left;\">M</td><td style = \"text-align: right;\">22</td><td style = \"text-align: right;\">25394</td><td style = \"text-align: right;\">2</td></tr><tr><td class = \"rowNumber\" style = \"font-weight: bold; text-align: right;\">5</td><td style = \"text-align: right;\">5</td><td style = \"text-align: left;\">Not_married</td><td style = \"text-align: left;\">F</td><td style = \"text-align: right;\">22</td><td style = \"text-align: right;\">25394</td><td style = \"text-align: right;\">43</td></tr><tr><td class = \"rowNumber\" style = \"font-weight: bold; text-align: right;\">6</td><td style = \"text-align: right;\">6</td><td style = \"text-align: left;\">Married</td><td style = \"text-align: left;\">F</td><td style = \"text-align: right;\">22</td><td style = \"text-align: right;\">25394</td><td style = \"text-align: right;\">150</td></tr><tr><td class = \"rowNumber\" style = \"font-weight: bold; text-align: right;\">7</td><td style = \"text-align: right;\">7</td><td style = \"text-align: left;\">Divorced</td><td style = \"text-align: left;\">F</td><td style = \"text-align: right;\">22</td><td style = \"text-align: right;\">25394</td><td style = \"text-align: right;\">4</td></tr><tr><td class = \"rowNumber\" style = \"font-weight: bold; text-align: right;\">8</td><td style = \"text-align: right;\">8</td><td style = \"text-align: left;\">Widowed</td><td style = \"text-align: left;\">F</td><td style = \"text-align: right;\">22</td><td style = \"text-align: right;\">25394</td><td style = \"text-align: right;\">3</td></tr><tr><td class = \"rowNumber\" style = \"font-weight: bold; text-align: right;\">9</td><td style = \"text-align: right;\">9</td><td style = \"text-align: left;\">Not_married</td><td style = \"text-align: left;\">M</td><td style = \"text-align: right;\">27</td><td style = \"text-align: right;\">25394</td><td style = \"text-align: right;\">56</td></tr><tr><td class = \"rowNumber\" style = \"font-weight: bold; text-align: right;\">10</td><td style = \"text-align: right;\">10</td><td style = \"text-align: left;\">Married</td><td style = \"text-align: left;\">M</td><td style = \"text-align: right;\">27</td><td style = \"text-align: right;\">25394</td><td style = \"text-align: right;\">196</td></tr><tr><td class = \"rowNumber\" style = \"font-weight: bold; text-align: right;\">11</td><td style = \"text-align: right;\">11</td><td style = \"text-align: left;\">Divorced</td><td style = \"text-align: left;\">M</td><td style = \"text-align: right;\">27</td><td style = \"text-align: right;\">25394</td><td style = \"text-align: right;\">5</td></tr><tr><td class = \"rowNumber\" style = \"font-weight: bold; text-align: right;\">12</td><td style = \"text-align: right;\">12</td><td style = \"text-align: left;\">Widowed</td><td style = \"text-align: left;\">M</td><td style = \"text-align: right;\">27</td><td style = \"text-align: right;\">25394</td><td style = \"text-align: right;\">4</td></tr><tr><td class = \"rowNumber\" style = \"font-weight: bold; text-align: right;\">13</td><td style = \"text-align: right;\">13</td><td style = \"text-align: left;\">Not_married</td><td style = \"text-align: left;\">F</td><td style = \"text-align: right;\">27</td><td style = \"text-align: right;\">25394</td><td style = \"text-align: right;\">48</td></tr><tr><td style = \"text-align: right;\">&vellip;</td><td style = \"text-align: right;\">&vellip;</td><td style = \"text-align: right;\">&vellip;</td><td style = \"text-align: right;\">&vellip;</td><td style = \"text-align: right;\">&vellip;</td><td style = \"text-align: right;\">&vellip;</td><td style = \"text-align: right;\">&vellip;</td></tr><tr><td class = \"rowNumber\" style = \"font-weight: bold; text-align: right;\">557</td><td style = \"text-align: right;\">557</td><td style = \"text-align: left;\">Not_married</td><td style = \"text-align: left;\">F</td><td style = \"text-align: right;\">87</td><td style = \"text-align: right;\">145915</td><td style = \"text-align: right;\">6</td></tr><tr><td class = \"rowNumber\" style = \"font-weight: bold; text-align: right;\">558</td><td style = \"text-align: right;\">558</td><td style = \"text-align: left;\">Married</td><td style = \"text-align: left;\">F</td><td style = \"text-align: right;\">87</td><td style = \"text-align: right;\">145915</td><td style = \"text-align: right;\">23</td></tr><tr><td class = \"rowNumber\" style = \"font-weight: bold; text-align: right;\">559</td><td style = \"text-align: right;\">559</td><td style = \"text-align: left;\">Divorced</td><td style = \"text-align: left;\">F</td><td style = \"text-align: right;\">87</td><td style = \"text-align: right;\">145915</td><td style = \"text-align: right;\">1</td></tr><tr><td class = \"rowNumber\" style = \"font-weight: bold; text-align: right;\">560</td><td style = \"text-align: right;\">560</td><td style = \"text-align: left;\">Widowed</td><td style = \"text-align: left;\">F</td><td style = \"text-align: right;\">87</td><td style = \"text-align: right;\">145915</td><td style = \"text-align: right;\">2</td></tr><tr><td class = \"rowNumber\" style = \"font-weight: bold; text-align: right;\">561</td><td style = \"text-align: right;\">561</td><td style = \"text-align: left;\">missing</td><td style = \"text-align: left;\">F</td><td style = \"text-align: right;\">2</td><td style = \"text-align: right;\">missing</td><td style = \"text-align: right;\">490</td></tr><tr><td class = \"rowNumber\" style = \"font-weight: bold; text-align: right;\">562</td><td style = \"text-align: right;\">562</td><td style = \"text-align: left;\">missing</td><td style = \"text-align: left;\">F</td><td style = \"text-align: right;\">7</td><td style = \"text-align: right;\">missing</td><td style = \"text-align: right;\">448</td></tr><tr><td class = \"rowNumber\" style = \"font-weight: bold; text-align: right;\">563</td><td style = \"text-align: right;\">563</td><td style = \"text-align: left;\">missing</td><td style = \"text-align: left;\">F</td><td style = \"text-align: right;\">12</td><td style = \"text-align: right;\">missing</td><td style = \"text-align: right;\">306</td></tr><tr><td class = \"rowNumber\" style = \"font-weight: bold; text-align: right;\">564</td><td style = \"text-align: right;\">564</td><td style = \"text-align: left;\">missing</td><td style = \"text-align: left;\">F</td><td style = \"text-align: right;\">17</td><td style = \"text-align: right;\">missing</td><td style = \"text-align: right;\">288</td></tr><tr><td class = \"rowNumber\" style = \"font-weight: bold; text-align: right;\">565</td><td style = \"text-align: right;\">565</td><td style = \"text-align: left;\">missing</td><td style = \"text-align: left;\">M</td><td style = \"text-align: right;\">2</td><td style = \"text-align: right;\">missing</td><td style = \"text-align: right;\">526</td></tr><tr><td class = \"rowNumber\" style = \"font-weight: bold; text-align: right;\">566</td><td style = \"text-align: right;\">566</td><td style = \"text-align: left;\">missing</td><td style = \"text-align: left;\">M</td><td style = \"text-align: right;\">7</td><td style = \"text-align: right;\">missing</td><td style = \"text-align: right;\">485</td></tr><tr><td class = \"rowNumber\" style = \"font-weight: bold; text-align: right;\">567</td><td style = \"text-align: right;\">567</td><td style = \"text-align: left;\">missing</td><td style = \"text-align: left;\">M</td><td style = \"text-align: right;\">12</td><td style = \"text-align: right;\">missing</td><td style = \"text-align: right;\">336</td></tr><tr><td class = \"rowNumber\" style = \"font-weight: bold; text-align: right;\">568</td><td style = \"text-align: right;\">568</td><td style = \"text-align: left;\">missing</td><td style = \"text-align: left;\">M</td><td style = \"text-align: right;\">17</td><td style = \"text-align: right;\">missing</td><td style = \"text-align: right;\">346</td></tr></tbody></table></div>"
      ],
      "text/latex": [
       "\\begin{tabular}{r|cccccc}\n",
       "\t& id & maritialstatus & sex & age & income & population\\\\\n",
       "\t\\hline\n",
       "\t& Int64 & String? & Char? & Int64? & Int64? & Int64\\\\\n",
       "\t\\hline\n",
       "\t1 & 1 & Not\\_married & M & 22 & 25394 & 31 \\\\\n",
       "\t2 & 2 & Married & M & 22 & 25394 & 107 \\\\\n",
       "\t3 & 3 & Divorced & M & 22 & 25394 & 3 \\\\\n",
       "\t4 & 4 & Widowed & M & 22 & 25394 & 2 \\\\\n",
       "\t5 & 5 & Not\\_married & F & 22 & 25394 & 43 \\\\\n",
       "\t6 & 6 & Married & F & 22 & 25394 & 150 \\\\\n",
       "\t7 & 7 & Divorced & F & 22 & 25394 & 4 \\\\\n",
       "\t8 & 8 & Widowed & F & 22 & 25394 & 3 \\\\\n",
       "\t9 & 9 & Not\\_married & M & 27 & 25394 & 56 \\\\\n",
       "\t10 & 10 & Married & M & 27 & 25394 & 196 \\\\\n",
       "\t11 & 11 & Divorced & M & 27 & 25394 & 5 \\\\\n",
       "\t12 & 12 & Widowed & M & 27 & 25394 & 4 \\\\\n",
       "\t13 & 13 & Not\\_married & F & 27 & 25394 & 48 \\\\\n",
       "\t14 & 14 & Married & F & 27 & 25394 & 166 \\\\\n",
       "\t15 & 15 & Divorced & F & 27 & 25394 & 4 \\\\\n",
       "\t16 & 16 & Widowed & F & 27 & 25394 & 4 \\\\\n",
       "\t17 & 17 & Not\\_married & M & 32 & 25394 & 36 \\\\\n",
       "\t18 & 18 & Married & M & 32 & 25394 & 126 \\\\\n",
       "\t19 & 19 & Divorced & M & 32 & 25394 & 3 \\\\\n",
       "\t20 & 20 & Widowed & M & 32 & 25394 & 3 \\\\\n",
       "\t21 & 21 & Not\\_married & F & 32 & 25394 & 36 \\\\\n",
       "\t22 & 22 & Married & F & 32 & 25394 & 126 \\\\\n",
       "\t23 & 23 & Divorced & F & 32 & 25394 & 3 \\\\\n",
       "\t24 & 24 & Widowed & F & 32 & 25394 & 3 \\\\\n",
       "\t25 & 25 & Not\\_married & M & 37 & 25394 & 36 \\\\\n",
       "\t26 & 26 & Married & M & 37 & 25394 & 126 \\\\\n",
       "\t27 & 27 & Divorced & M & 37 & 25394 & 3 \\\\\n",
       "\t28 & 28 & Widowed & M & 37 & 25394 & 3 \\\\\n",
       "\t29 & 29 & Not\\_married & F & 37 & 25394 & 36 \\\\\n",
       "\t30 & 30 & Married & F & 37 & 25394 & 124 \\\\\n",
       "\t$\\dots$ & $\\dots$ & $\\dots$ & $\\dots$ & $\\dots$ & $\\dots$ & $\\dots$ \\\\\n",
       "\\end{tabular}\n"
      ],
      "text/plain": [
       "\u001b[1m568×6 DataFrame\u001b[0m\n",
       "\u001b[1m Row \u001b[0m│\u001b[1m id    \u001b[0m\u001b[1m maritialstatus \u001b[0m\u001b[1m sex   \u001b[0m\u001b[1m age    \u001b[0m\u001b[1m income  \u001b[0m\u001b[1m population \u001b[0m\n",
       "     │\u001b[90m Int64 \u001b[0m\u001b[90m String?        \u001b[0m\u001b[90m Char? \u001b[0m\u001b[90m Int64? \u001b[0m\u001b[90m Int64?  \u001b[0m\u001b[90m Int64      \u001b[0m\n",
       "─────┼───────────────────────────────────────────────────────────\n",
       "   1 │     1  Not_married     M          22    25394          31\n",
       "   2 │     2  Married         M          22    25394         107\n",
       "   3 │     3  Divorced        M          22    25394           3\n",
       "   4 │     4  Widowed         M          22    25394           2\n",
       "   5 │     5  Not_married     F          22    25394          43\n",
       "   6 │     6  Married         F          22    25394         150\n",
       "   7 │     7  Divorced        F          22    25394           4\n",
       "   8 │     8  Widowed         F          22    25394           3\n",
       "   9 │     9  Not_married     M          27    25394          56\n",
       "  10 │    10  Married         M          27    25394         196\n",
       "  11 │    11  Divorced        M          27    25394           5\n",
       "  ⋮  │   ⋮          ⋮           ⋮      ⋮        ⋮         ⋮\n",
       " 559 │   559  Divorced        F          87   145915           1\n",
       " 560 │   560  Widowed         F          87   145915           2\n",
       " 561 │   561 \u001b[90m missing        \u001b[0m F           2 \u001b[90m missing \u001b[0m        490\n",
       " 562 │   562 \u001b[90m missing        \u001b[0m F           7 \u001b[90m missing \u001b[0m        448\n",
       " 563 │   563 \u001b[90m missing        \u001b[0m F          12 \u001b[90m missing \u001b[0m        306\n",
       " 564 │   564 \u001b[90m missing        \u001b[0m F          17 \u001b[90m missing \u001b[0m        288\n",
       " 565 │   565 \u001b[90m missing        \u001b[0m M           2 \u001b[90m missing \u001b[0m        526\n",
       " 566 │   566 \u001b[90m missing        \u001b[0m M           7 \u001b[90m missing \u001b[0m        485\n",
       " 567 │   567 \u001b[90m missing        \u001b[0m M          12 \u001b[90m missing \u001b[0m        336\n",
       " 568 │   568 \u001b[90m missing        \u001b[0m M          17 \u001b[90m missing \u001b[0m        346\n",
       "\u001b[36m                                                 547 rows omitted\u001b[0m"
      ]
     },
     "execution_count": 14,
     "metadata": {},
     "output_type": "execute_result"
    }
   ],
   "source": [
    "individuals"
   ]
  },
  {
   "cell_type": "markdown",
   "metadata": {},
   "source": [
    "`aggregated_individuals`\n",
    "________\n",
    "\n",
    "Description:\n",
    "- Each row represents number of individuals with unique combination of attributes represented by `:ind_attr_id`.\n",
    "\n",
    "Columns:\n",
    "- `:id` - `:id` from DataFrame `individuals` that references a unique combination of attributes of individuals\n",
    "- `:population` - number of estimated individuals with combination of attribtues described by `:inf_attr_id`\n",
    "\n",
    "Returned by:\n",
    "- `generate_joint_distributions`\n",
    "\n",
    "Mutated by:\n",
    "- `assign_areas_to_households!`\n",
    "\n",
    "Used as argument by:\n",
    "- `assign_individuals_to_households!`"
   ]
  },
  {
   "cell_type": "code",
   "execution_count": 19,
   "metadata": {},
   "outputs": [
    {
     "data": {
      "text/html": [
       "<div><div style = \"float: left;\"><span>568×2 DataFrame</span></div><div style = \"float: right;\"><span style = \"font-style: italic;\">543 rows omitted</span></div><div style = \"clear: both;\"></div></div><div class = \"data-frame\" style = \"overflow-x: scroll;\"><table class = \"data-frame\" style = \"margin-bottom: 6px;\"><thead><tr class = \"header\"><th class = \"rowNumber\" style = \"font-weight: bold; text-align: right;\">Row</th><th style = \"text-align: left;\">id</th><th style = \"text-align: left;\">population</th></tr><tr class = \"subheader headerLastRow\"><th class = \"rowNumber\" style = \"font-weight: bold; text-align: right;\"></th><th title = \"Int64\" style = \"text-align: left;\">Int64</th><th title = \"Int64\" style = \"text-align: left;\">Int64</th></tr></thead><tbody><tr><td class = \"rowNumber\" style = \"font-weight: bold; text-align: right;\">1</td><td style = \"text-align: right;\">1</td><td style = \"text-align: right;\">2</td></tr><tr><td class = \"rowNumber\" style = \"font-weight: bold; text-align: right;\">2</td><td style = \"text-align: right;\">2</td><td style = \"text-align: right;\">5</td></tr><tr><td class = \"rowNumber\" style = \"font-weight: bold; text-align: right;\">3</td><td style = \"text-align: right;\">3</td><td style = \"text-align: right;\">0</td></tr><tr><td class = \"rowNumber\" style = \"font-weight: bold; text-align: right;\">4</td><td style = \"text-align: right;\">4</td><td style = \"text-align: right;\">0</td></tr><tr><td class = \"rowNumber\" style = \"font-weight: bold; text-align: right;\">5</td><td style = \"text-align: right;\">5</td><td style = \"text-align: right;\">0</td></tr><tr><td class = \"rowNumber\" style = \"font-weight: bold; text-align: right;\">6</td><td style = \"text-align: right;\">6</td><td style = \"text-align: right;\">9</td></tr><tr><td class = \"rowNumber\" style = \"font-weight: bold; text-align: right;\">7</td><td style = \"text-align: right;\">7</td><td style = \"text-align: right;\">0</td></tr><tr><td class = \"rowNumber\" style = \"font-weight: bold; text-align: right;\">8</td><td style = \"text-align: right;\">8</td><td style = \"text-align: right;\">0</td></tr><tr><td class = \"rowNumber\" style = \"font-weight: bold; text-align: right;\">9</td><td style = \"text-align: right;\">9</td><td style = \"text-align: right;\">22</td></tr><tr><td class = \"rowNumber\" style = \"font-weight: bold; text-align: right;\">10</td><td style = \"text-align: right;\">10</td><td style = \"text-align: right;\">8</td></tr><tr><td class = \"rowNumber\" style = \"font-weight: bold; text-align: right;\">11</td><td style = \"text-align: right;\">11</td><td style = \"text-align: right;\">2</td></tr><tr><td class = \"rowNumber\" style = \"font-weight: bold; text-align: right;\">12</td><td style = \"text-align: right;\">12</td><td style = \"text-align: right;\">3</td></tr><tr><td class = \"rowNumber\" style = \"font-weight: bold; text-align: right;\">13</td><td style = \"text-align: right;\">13</td><td style = \"text-align: right;\">24</td></tr><tr><td style = \"text-align: right;\">&vellip;</td><td style = \"text-align: right;\">&vellip;</td><td style = \"text-align: right;\">&vellip;</td></tr><tr><td class = \"rowNumber\" style = \"font-weight: bold; text-align: right;\">557</td><td style = \"text-align: right;\">557</td><td style = \"text-align: right;\">3</td></tr><tr><td class = \"rowNumber\" style = \"font-weight: bold; text-align: right;\">558</td><td style = \"text-align: right;\">558</td><td style = \"text-align: right;\">3</td></tr><tr><td class = \"rowNumber\" style = \"font-weight: bold; text-align: right;\">559</td><td style = \"text-align: right;\">559</td><td style = \"text-align: right;\">0</td></tr><tr><td class = \"rowNumber\" style = \"font-weight: bold; text-align: right;\">560</td><td style = \"text-align: right;\">560</td><td style = \"text-align: right;\">0</td></tr><tr><td class = \"rowNumber\" style = \"font-weight: bold; text-align: right;\">561</td><td style = \"text-align: right;\">561</td><td style = \"text-align: right;\">10</td></tr><tr><td class = \"rowNumber\" style = \"font-weight: bold; text-align: right;\">562</td><td style = \"text-align: right;\">562</td><td style = \"text-align: right;\">6</td></tr><tr><td class = \"rowNumber\" style = \"font-weight: bold; text-align: right;\">563</td><td style = \"text-align: right;\">563</td><td style = \"text-align: right;\">9</td></tr><tr><td class = \"rowNumber\" style = \"font-weight: bold; text-align: right;\">564</td><td style = \"text-align: right;\">564</td><td style = \"text-align: right;\">7</td></tr><tr><td class = \"rowNumber\" style = \"font-weight: bold; text-align: right;\">565</td><td style = \"text-align: right;\">565</td><td style = \"text-align: right;\">9</td></tr><tr><td class = \"rowNumber\" style = \"font-weight: bold; text-align: right;\">566</td><td style = \"text-align: right;\">566</td><td style = \"text-align: right;\">8</td></tr><tr><td class = \"rowNumber\" style = \"font-weight: bold; text-align: right;\">567</td><td style = \"text-align: right;\">567</td><td style = \"text-align: right;\">7</td></tr><tr><td class = \"rowNumber\" style = \"font-weight: bold; text-align: right;\">568</td><td style = \"text-align: right;\">568</td><td style = \"text-align: right;\">10</td></tr></tbody></table></div>"
      ],
      "text/latex": [
       "\\begin{tabular}{r|cc}\n",
       "\t& id & population\\\\\n",
       "\t\\hline\n",
       "\t& Int64 & Int64\\\\\n",
       "\t\\hline\n",
       "\t1 & 1 & 2 \\\\\n",
       "\t2 & 2 & 5 \\\\\n",
       "\t3 & 3 & 0 \\\\\n",
       "\t4 & 4 & 0 \\\\\n",
       "\t5 & 5 & 0 \\\\\n",
       "\t6 & 6 & 9 \\\\\n",
       "\t7 & 7 & 0 \\\\\n",
       "\t8 & 8 & 0 \\\\\n",
       "\t9 & 9 & 22 \\\\\n",
       "\t10 & 10 & 8 \\\\\n",
       "\t11 & 11 & 2 \\\\\n",
       "\t12 & 12 & 3 \\\\\n",
       "\t13 & 13 & 24 \\\\\n",
       "\t14 & 14 & 1 \\\\\n",
       "\t15 & 15 & 4 \\\\\n",
       "\t16 & 16 & 0 \\\\\n",
       "\t17 & 17 & 14 \\\\\n",
       "\t18 & 18 & 8 \\\\\n",
       "\t19 & 19 & 1 \\\\\n",
       "\t20 & 20 & 2 \\\\\n",
       "\t21 & 21 & 15 \\\\\n",
       "\t22 & 22 & 2 \\\\\n",
       "\t23 & 23 & 1 \\\\\n",
       "\t24 & 24 & 2 \\\\\n",
       "\t25 & 25 & 18 \\\\\n",
       "\t26 & 26 & 2 \\\\\n",
       "\t27 & 27 & 1 \\\\\n",
       "\t28 & 28 & 1 \\\\\n",
       "\t29 & 29 & 15 \\\\\n",
       "\t30 & 30 & 4 \\\\\n",
       "\t$\\dots$ & $\\dots$ & $\\dots$ \\\\\n",
       "\\end{tabular}\n"
      ],
      "text/plain": [
       "\u001b[1m568×2 DataFrame\u001b[0m\n",
       "\u001b[1m Row \u001b[0m│\u001b[1m id    \u001b[0m\u001b[1m population \u001b[0m\n",
       "     │\u001b[90m Int64 \u001b[0m\u001b[90m Int64      \u001b[0m\n",
       "─────┼───────────────────\n",
       "   1 │     1           2\n",
       "   2 │     2           5\n",
       "   3 │     3           0\n",
       "   4 │     4           0\n",
       "   5 │     5           0\n",
       "   6 │     6           9\n",
       "   7 │     7           0\n",
       "   8 │     8           0\n",
       "   9 │     9          22\n",
       "  10 │    10           8\n",
       "  11 │    11           2\n",
       "  ⋮  │   ⋮        ⋮\n",
       " 559 │   559           0\n",
       " 560 │   560           0\n",
       " 561 │   561          10\n",
       " 562 │   562           6\n",
       " 563 │   563           9\n",
       " 564 │   564           7\n",
       " 565 │   565           9\n",
       " 566 │   566           8\n",
       " 567 │   567           7\n",
       " 568 │   568          10\n",
       "\u001b[36m         547 rows omitted\u001b[0m"
      ]
     },
     "execution_count": 19,
     "metadata": {},
     "output_type": "execute_result"
    }
   ],
   "source": [
    "aggregated_individuals"
   ]
  },
  {
   "cell_type": "markdown",
   "metadata": {},
   "source": [
    "`areas`\n",
    "______\n",
    "\n",
    "Description:\n",
    "- Each row represents a unique area and its characteristics\n",
    "\n",
    "Columns:\n",
    "- `:id` - ID of an area\n",
    "- additional data representing each area. In our case:\n",
    "    - `:geometry` - `MultyPolygon` or `Polygon` object that represents the territory of a given area\n",
    "    - `:name` - name of the area\n",
    "\n",
    "Returned by: \n",
    "- function `generate_areas_dataframe` given input data downloaded from https://osm-boundaries.com/\n",
    "- Can be also generated manually depending on data source\n",
    "\n",
    "Mutated by:\n",
    "- N/A\n",
    "\n",
    "Used as argument by:\n",
    "- assign_areas_to_households!"
   ]
  },
  {
   "cell_type": "code",
   "execution_count": 15,
   "metadata": {},
   "outputs": [
    {
     "data": {
      "text/html": [
       "<div><div style = \"float: left;\"><span>16×3 DataFrame</span></div><div style = \"clear: both;\"></div></div><div class = \"data-frame\" style = \"overflow-x: scroll;\"><table class = \"data-frame\" style = \"margin-bottom: 6px;\"><thead><tr class = \"header\"><th class = \"rowNumber\" style = \"font-weight: bold; text-align: right;\">Row</th><th style = \"text-align: left;\">id</th><th style = \"text-align: left;\">geometry</th><th style = \"text-align: left;\">name</th></tr><tr class = \"subheader headerLastRow\"><th class = \"rowNumber\" style = \"font-weight: bold; text-align: right;\"></th><th title = \"Int64\" style = \"text-align: left;\">Int64</th><th title = \"Union{Missing, GeoJSON.Geometry}\" style = \"text-align: left;\">Geometry</th><th title = \"String\" style = \"text-align: left;\">String</th></tr></thead><tbody><tr><td class = \"rowNumber\" style = \"font-weight: bold; text-align: right;\">1</td><td style = \"text-align: right;\">1</td><td style = \"text-align: left;\">Polygon</td><td style = \"text-align: left;\">Shijingshan District</td></tr><tr><td class = \"rowNumber\" style = \"font-weight: bold; text-align: right;\">2</td><td style = \"text-align: right;\">2</td><td style = \"text-align: left;\">Polygon</td><td style = \"text-align: left;\">Haidian District</td></tr><tr><td class = \"rowNumber\" style = \"font-weight: bold; text-align: right;\">3</td><td style = \"text-align: right;\">3</td><td style = \"text-align: left;\">Polygon</td><td style = \"text-align: left;\">Fengtai District</td></tr><tr><td class = \"rowNumber\" style = \"font-weight: bold; text-align: right;\">4</td><td style = \"text-align: right;\">4</td><td style = \"text-align: left;\">MultiPolygon</td><td style = \"text-align: left;\">Chaoyang District</td></tr><tr><td class = \"rowNumber\" style = \"font-weight: bold; text-align: right;\">5</td><td style = \"text-align: right;\">5</td><td style = \"text-align: left;\">Polygon</td><td style = \"text-align: left;\">Yanqing District</td></tr><tr><td class = \"rowNumber\" style = \"font-weight: bold; text-align: right;\">6</td><td style = \"text-align: right;\">6</td><td style = \"text-align: left;\">Polygon</td><td style = \"text-align: left;\">Tongzhou District</td></tr><tr><td class = \"rowNumber\" style = \"font-weight: bold; text-align: right;\">7</td><td style = \"text-align: right;\">7</td><td style = \"text-align: left;\">Polygon</td><td style = \"text-align: left;\">Shunyi District</td></tr><tr><td class = \"rowNumber\" style = \"font-weight: bold; text-align: right;\">8</td><td style = \"text-align: right;\">8</td><td style = \"text-align: left;\">Polygon</td><td style = \"text-align: left;\">Pinggu District</td></tr><tr><td class = \"rowNumber\" style = \"font-weight: bold; text-align: right;\">9</td><td style = \"text-align: right;\">9</td><td style = \"text-align: left;\">Polygon</td><td style = \"text-align: left;\">Miyun District</td></tr><tr><td class = \"rowNumber\" style = \"font-weight: bold; text-align: right;\">10</td><td style = \"text-align: right;\">10</td><td style = \"text-align: left;\">Polygon</td><td style = \"text-align: left;\">Mentougou District</td></tr><tr><td class = \"rowNumber\" style = \"font-weight: bold; text-align: right;\">11</td><td style = \"text-align: right;\">11</td><td style = \"text-align: left;\">Polygon</td><td style = \"text-align: left;\">Huairou District</td></tr><tr><td class = \"rowNumber\" style = \"font-weight: bold; text-align: right;\">12</td><td style = \"text-align: right;\">12</td><td style = \"text-align: left;\">Polygon</td><td style = \"text-align: left;\">Fangshan District</td></tr><tr><td class = \"rowNumber\" style = \"font-weight: bold; text-align: right;\">13</td><td style = \"text-align: right;\">13</td><td style = \"text-align: left;\">Polygon</td><td style = \"text-align: left;\">Daxing District</td></tr><tr><td class = \"rowNumber\" style = \"font-weight: bold; text-align: right;\">14</td><td style = \"text-align: right;\">14</td><td style = \"text-align: left;\">Polygon</td><td style = \"text-align: left;\">Changping District</td></tr><tr><td class = \"rowNumber\" style = \"font-weight: bold; text-align: right;\">15</td><td style = \"text-align: right;\">15</td><td style = \"text-align: left;\">Polygon</td><td style = \"text-align: left;\">Xicheng District</td></tr><tr><td class = \"rowNumber\" style = \"font-weight: bold; text-align: right;\">16</td><td style = \"text-align: right;\">16</td><td style = \"text-align: left;\">Polygon</td><td style = \"text-align: left;\">Dongcheng District</td></tr></tbody></table></div>"
      ],
      "text/latex": [
       "\\begin{tabular}{r|ccc}\n",
       "\t& id & geometry & name\\\\\n",
       "\t\\hline\n",
       "\t& Int64 & Geometry & String\\\\\n",
       "\t\\hline\n",
       "\t1 & 1 & Polygon & Shijingshan District \\\\\n",
       "\t2 & 2 & Polygon & Haidian District \\\\\n",
       "\t3 & 3 & Polygon & Fengtai District \\\\\n",
       "\t4 & 4 & MultiPolygon & Chaoyang District \\\\\n",
       "\t5 & 5 & Polygon & Yanqing District \\\\\n",
       "\t6 & 6 & Polygon & Tongzhou District \\\\\n",
       "\t7 & 7 & Polygon & Shunyi District \\\\\n",
       "\t8 & 8 & Polygon & Pinggu District \\\\\n",
       "\t9 & 9 & Polygon & Miyun District \\\\\n",
       "\t10 & 10 & Polygon & Mentougou District \\\\\n",
       "\t11 & 11 & Polygon & Huairou District \\\\\n",
       "\t12 & 12 & Polygon & Fangshan District \\\\\n",
       "\t13 & 13 & Polygon & Daxing District \\\\\n",
       "\t14 & 14 & Polygon & Changping District \\\\\n",
       "\t15 & 15 & Polygon & Xicheng District \\\\\n",
       "\t16 & 16 & Polygon & Dongcheng District \\\\\n",
       "\\end{tabular}\n"
      ],
      "text/plain": [
       "\u001b[1m16×3 DataFrame\u001b[0m\n",
       "\u001b[1m Row \u001b[0m│\u001b[1m id    \u001b[0m\u001b[1m geometry     \u001b[0m\u001b[1m name                 \u001b[0m\n",
       "     │\u001b[90m Int64 \u001b[0m\u001b[90m Geometry     \u001b[0m\u001b[90m String               \u001b[0m\n",
       "─────┼───────────────────────────────────────────\n",
       "   1 │     1  Polygon       Shijingshan District\n",
       "   2 │     2  Polygon       Haidian District\n",
       "   3 │     3  Polygon       Fengtai District\n",
       "   4 │     4  MultiPolygon  Chaoyang District\n",
       "   5 │     5  Polygon       Yanqing District\n",
       "   6 │     6  Polygon       Tongzhou District\n",
       "   7 │     7  Polygon       Shunyi District\n",
       "   8 │     8  Polygon       Pinggu District\n",
       "   9 │     9  Polygon       Miyun District\n",
       "  10 │    10  Polygon       Mentougou District\n",
       "  11 │    11  Polygon       Huairou District\n",
       "  12 │    12  Polygon       Fangshan District\n",
       "  13 │    13  Polygon       Daxing District\n",
       "  14 │    14  Polygon       Changping District\n",
       "  15 │    15  Polygon       Xicheng District\n",
       "  16 │    16  Polygon       Dongcheng District"
      ]
     },
     "execution_count": 15,
     "metadata": {},
     "output_type": "execute_result"
    }
   ],
   "source": [
    "areas"
   ]
  },
  {
   "cell_type": "markdown",
   "metadata": {},
   "source": [
    "`aggregated_areas`\n",
    "________________\n",
    "\n",
    "Description:\n",
    "- each row represents population for a given area\n",
    "\n",
    "Columns:\n",
    "- `:area_id` - `:area_id` from DataFrame `areas` that references a unique area\n",
    "- `population` - population for a given area\n",
    "\n",
    "Returned by:\n",
    "- it is generated manually given DataFrame `areas` and additional input data (e.g. from census)\n",
    "\n",
    "Mutated by:\n",
    "- N/A\n",
    "\n",
    "Used as argument by:\n",
    "- `assign_areas_to_households!`"
   ]
  },
  {
   "cell_type": "code",
   "execution_count": 20,
   "metadata": {},
   "outputs": [
    {
     "data": {
      "text/html": [
       "<div><div style = \"float: left;\"><span>16×2 DataFrame</span></div><div style = \"clear: both;\"></div></div><div class = \"data-frame\" style = \"overflow-x: scroll;\"><table class = \"data-frame\" style = \"margin-bottom: 6px;\"><thead><tr class = \"header\"><th class = \"rowNumber\" style = \"font-weight: bold; text-align: right;\">Row</th><th style = \"text-align: left;\">id</th><th style = \"text-align: left;\">population</th></tr><tr class = \"subheader headerLastRow\"><th class = \"rowNumber\" style = \"font-weight: bold; text-align: right;\"></th><th title = \"Int64\" style = \"text-align: left;\">Int64</th><th title = \"Float64\" style = \"text-align: left;\">Float64</th></tr></thead><tbody><tr><td class = \"rowNumber\" style = \"font-weight: bold; text-align: right;\">1</td><td style = \"text-align: right;\">1</td><td style = \"text-align: right;\">568.0</td></tr><tr><td class = \"rowNumber\" style = \"font-weight: bold; text-align: right;\">2</td><td style = \"text-align: right;\">2</td><td style = \"text-align: right;\">3132.0</td></tr><tr><td class = \"rowNumber\" style = \"font-weight: bold; text-align: right;\">3</td><td style = \"text-align: right;\">3</td><td style = \"text-align: right;\">2019.0</td></tr><tr><td class = \"rowNumber\" style = \"font-weight: bold; text-align: right;\">4</td><td style = \"text-align: right;\">4</td><td style = \"text-align: right;\">3451.0</td></tr><tr><td class = \"rowNumber\" style = \"font-weight: bold; text-align: right;\">5</td><td style = \"text-align: right;\">5</td><td style = \"text-align: right;\">346.0</td></tr><tr><td class = \"rowNumber\" style = \"font-weight: bold; text-align: right;\">6</td><td style = \"text-align: right;\">6</td><td style = \"text-align: right;\">1840.0</td></tr><tr><td class = \"rowNumber\" style = \"font-weight: bold; text-align: right;\">7</td><td style = \"text-align: right;\">7</td><td style = \"text-align: right;\">1324.0</td></tr><tr><td class = \"rowNumber\" style = \"font-weight: bold; text-align: right;\">8</td><td style = \"text-align: right;\">8</td><td style = \"text-align: right;\">457.0</td></tr><tr><td class = \"rowNumber\" style = \"font-weight: bold; text-align: right;\">9</td><td style = \"text-align: right;\">9</td><td style = \"text-align: right;\">528.0</td></tr><tr><td class = \"rowNumber\" style = \"font-weight: bold; text-align: right;\">10</td><td style = \"text-align: right;\">10</td><td style = \"text-align: right;\">393.0</td></tr><tr><td class = \"rowNumber\" style = \"font-weight: bold; text-align: right;\">11</td><td style = \"text-align: right;\">11</td><td style = \"text-align: right;\">441.0</td></tr><tr><td class = \"rowNumber\" style = \"font-weight: bold; text-align: right;\">12</td><td style = \"text-align: right;\">12</td><td style = \"text-align: right;\">1313.0</td></tr><tr><td class = \"rowNumber\" style = \"font-weight: bold; text-align: right;\">13</td><td style = \"text-align: right;\">13</td><td style = \"text-align: right;\">1994.0</td></tr><tr><td class = \"rowNumber\" style = \"font-weight: bold; text-align: right;\">14</td><td style = \"text-align: right;\">14</td><td style = \"text-align: right;\">2269.0</td></tr><tr><td class = \"rowNumber\" style = \"font-weight: bold; text-align: right;\">15</td><td style = \"text-align: right;\">15</td><td style = \"text-align: right;\">1106.0</td></tr><tr><td class = \"rowNumber\" style = \"font-weight: bold; text-align: right;\">16</td><td style = \"text-align: right;\">16</td><td style = \"text-align: right;\">709.0</td></tr></tbody></table></div>"
      ],
      "text/latex": [
       "\\begin{tabular}{r|cc}\n",
       "\t& id & population\\\\\n",
       "\t\\hline\n",
       "\t& Int64 & Float64\\\\\n",
       "\t\\hline\n",
       "\t1 & 1 & 568.0 \\\\\n",
       "\t2 & 2 & 3132.0 \\\\\n",
       "\t3 & 3 & 2019.0 \\\\\n",
       "\t4 & 4 & 3451.0 \\\\\n",
       "\t5 & 5 & 346.0 \\\\\n",
       "\t6 & 6 & 1840.0 \\\\\n",
       "\t7 & 7 & 1324.0 \\\\\n",
       "\t8 & 8 & 457.0 \\\\\n",
       "\t9 & 9 & 528.0 \\\\\n",
       "\t10 & 10 & 393.0 \\\\\n",
       "\t11 & 11 & 441.0 \\\\\n",
       "\t12 & 12 & 1313.0 \\\\\n",
       "\t13 & 13 & 1994.0 \\\\\n",
       "\t14 & 14 & 2269.0 \\\\\n",
       "\t15 & 15 & 1106.0 \\\\\n",
       "\t16 & 16 & 709.0 \\\\\n",
       "\\end{tabular}\n"
      ],
      "text/plain": [
       "\u001b[1m16×2 DataFrame\u001b[0m\n",
       "\u001b[1m Row \u001b[0m│\u001b[1m id    \u001b[0m\u001b[1m population \u001b[0m\n",
       "     │\u001b[90m Int64 \u001b[0m\u001b[90m Float64    \u001b[0m\n",
       "─────┼───────────────────\n",
       "   1 │     1       568.0\n",
       "   2 │     2      3132.0\n",
       "   3 │     3      2019.0\n",
       "   4 │     4      3451.0\n",
       "   5 │     5       346.0\n",
       "   6 │     6      1840.0\n",
       "   7 │     7      1324.0\n",
       "   8 │     8       457.0\n",
       "   9 │     9       528.0\n",
       "  10 │    10       393.0\n",
       "  11 │    11       441.0\n",
       "  12 │    12      1313.0\n",
       "  13 │    13      1994.0\n",
       "  14 │    14      2269.0\n",
       "  15 │    15      1106.0\n",
       "  16 │    16       709.0"
      ]
     },
     "execution_count": 20,
     "metadata": {},
     "output_type": "execute_result"
    }
   ],
   "source": [
    "aggregated_areas"
   ]
  },
  {
   "cell_type": "markdown",
   "metadata": {},
   "source": [
    "`households`\n",
    "_____________\n",
    "\n",
    "Description:\n",
    "- Each row represents a unique combination of attributes of household\n",
    "\n",
    "Columns:\n",
    "- `:hh_attr_id` - ID that represents a unique combination of attributes of individuals\n",
    "- different columns that represent the attributes of the household, in our example these are:\n",
    "    - `:hh_size`\n",
    "\n",
    "Returned by:\n",
    "- `generate_joint_distributions`\n",
    "- can be also generated manually (like in our case)\n",
    "\n",
    "Mutated by:\n",
    "- N/A"
   ]
  },
  {
   "cell_type": "code",
   "execution_count": 133,
   "metadata": {},
   "outputs": [
    {
     "data": {
      "text/html": [
       "<div><div style = \"float: left;\"><span>5×3 DataFrame</span></div><div style = \"clear: both;\"></div></div><div class = \"data-frame\" style = \"overflow-x: scroll;\"><table class = \"data-frame\" style = \"margin-bottom: 6px;\"><thead><tr class = \"header\"><th class = \"rowNumber\" style = \"font-weight: bold; text-align: right;\">Row</th><th style = \"text-align: left;\">id</th><th style = \"text-align: left;\">hh_size</th><th style = \"text-align: left;\">population</th></tr><tr class = \"subheader headerLastRow\"><th class = \"rowNumber\" style = \"font-weight: bold; text-align: right;\"></th><th title = \"Int64\" style = \"text-align: left;\">Int64</th><th title = \"Int64\" style = \"text-align: left;\">Int64</th><th title = \"Int64\" style = \"text-align: left;\">Int64</th></tr></thead><tbody><tr><td class = \"rowNumber\" style = \"font-weight: bold; text-align: right;\">1</td><td style = \"text-align: right;\">1</td><td style = \"text-align: right;\">1</td><td style = \"text-align: right;\">2461</td></tr><tr><td class = \"rowNumber\" style = \"font-weight: bold; text-align: right;\">2</td><td style = \"text-align: right;\">2</td><td style = \"text-align: right;\">2</td><td style = \"text-align: right;\">2724</td></tr><tr><td class = \"rowNumber\" style = \"font-weight: bold; text-align: right;\">3</td><td style = \"text-align: right;\">3</td><td style = \"text-align: right;\">3</td><td style = \"text-align: right;\">1786</td></tr><tr><td class = \"rowNumber\" style = \"font-weight: bold; text-align: right;\">4</td><td style = \"text-align: right;\">4</td><td style = \"text-align: right;\">4</td><td style = \"text-align: right;\">741</td></tr><tr><td class = \"rowNumber\" style = \"font-weight: bold; text-align: right;\">5</td><td style = \"text-align: right;\">5</td><td style = \"text-align: right;\">5</td><td style = \"text-align: right;\">518</td></tr></tbody></table></div>"
      ],
      "text/latex": [
       "\\begin{tabular}{r|ccc}\n",
       "\t& id & hh\\_size & population\\\\\n",
       "\t\\hline\n",
       "\t& Int64 & Int64 & Int64\\\\\n",
       "\t\\hline\n",
       "\t1 & 1 & 1 & 2461 \\\\\n",
       "\t2 & 2 & 2 & 2724 \\\\\n",
       "\t3 & 3 & 3 & 1786 \\\\\n",
       "\t4 & 4 & 4 & 741 \\\\\n",
       "\t5 & 5 & 5 & 518 \\\\\n",
       "\\end{tabular}\n"
      ],
      "text/plain": [
       "\u001b[1m5×3 DataFrame\u001b[0m\n",
       "\u001b[1m Row \u001b[0m│\u001b[1m id    \u001b[0m\u001b[1m hh_size \u001b[0m\u001b[1m population \u001b[0m\n",
       "     │\u001b[90m Int64 \u001b[0m\u001b[90m Int64   \u001b[0m\u001b[90m Int64      \u001b[0m\n",
       "─────┼────────────────────────────\n",
       "   1 │     1        1        2461\n",
       "   2 │     2        2        2724\n",
       "   3 │     3        3        1786\n",
       "   4 │     4        4         741\n",
       "   5 │     5        5         518"
      ]
     },
     "metadata": {},
     "output_type": "display_data"
    }
   ],
   "source": [
    "households"
   ]
  },
  {
   "cell_type": "markdown",
   "metadata": {},
   "source": [
    "`aggregated_households`\n",
    "___________________\n",
    "\n",
    "Description:\n",
    "- Each row represents number of households with unique combination of attributes represented by `:ind_hh_id`.\n",
    "\n",
    "Columns:\n",
    "- `:hh_attr_id` - `:hh_attr_id` from DataFrame `households` that references a certain household type\n",
    "- `:quantity` - number of households with combination of attributes described by `:hh_attr_id`\n",
    "\n",
    "Returned by:\n",
    "- `generate_joint_distributions`\n",
    "- can be also generated manually (like in our case)\n",
    "\n",
    "Mutated by:\n",
    "- `assign_individuals_to_households!`\n",
    "\n",
    "Used as argument by:\n",
    "- `assign_individuals_to_households!`"
   ]
  },
  {
   "cell_type": "code",
   "execution_count": 134,
   "metadata": {},
   "outputs": [
    {
     "data": {
      "text/html": [
       "<div><div style = \"float: left;\"><span>1×2 DataFrame</span></div><div style = \"clear: both;\"></div></div><div class = \"data-frame\" style = \"overflow-x: scroll;\"><table class = \"data-frame\" style = \"margin-bottom: 6px;\"><thead><tr class = \"header\"><th class = \"rowNumber\" style = \"font-weight: bold; text-align: right;\">Row</th><th style = \"text-align: left;\">id</th><th style = \"text-align: left;\">population</th></tr><tr class = \"subheader headerLastRow\"><th class = \"rowNumber\" style = \"font-weight: bold; text-align: right;\"></th><th title = \"Int64\" style = \"text-align: left;\">Int64</th><th title = \"Int64\" style = \"text-align: left;\">Int64</th></tr></thead><tbody><tr><td class = \"rowNumber\" style = \"font-weight: bold; text-align: right;\">1</td><td style = \"text-align: right;\">2</td><td style = \"text-align: right;\">0</td></tr></tbody></table></div>"
      ],
      "text/latex": [
       "\\begin{tabular}{r|cc}\n",
       "\t& id & population\\\\\n",
       "\t\\hline\n",
       "\t& Int64 & Int64\\\\\n",
       "\t\\hline\n",
       "\t1 & 2 & 0 \\\\\n",
       "\\end{tabular}\n"
      ],
      "text/plain": [
       "\u001b[1m1×2 DataFrame\u001b[0m\n",
       "\u001b[1m Row \u001b[0m│\u001b[1m id    \u001b[0m\u001b[1m population \u001b[0m\n",
       "     │\u001b[90m Int64 \u001b[0m\u001b[90m Int64      \u001b[0m\n",
       "─────┼───────────────────\n",
       "   1 │     2           0"
      ]
     },
     "metadata": {},
     "output_type": "display_data"
    }
   ],
   "source": [
    "aggregated_households"
   ]
  },
  {
   "cell_type": "markdown",
   "metadata": {},
   "source": [
    "### Optional output dataframes"
   ]
  },
  {
   "cell_type": "markdown",
   "metadata": {},
   "source": [
    "`unassigned_individuals`\n",
    "___________\n",
    "\n",
    "Description: \n",
    "- Mutation of `aggegated_individuals`. Represents individuals that were not assigned to any of the households\n",
    "\n",
    "Columns: \n",
    "- `ind_attr_id` - `ind_attr_id` from DataFrame `individuals` that represents unique combination of attribtues of individuals\n",
    "- `:population` - number of individuals with combination of attributs `ind_attr_id` that were not assigned to any household\n",
    "\n",
    "Returned by:\n",
    "- `assign_individuals_to_households!` if optional parameter `return_unassigned` is set to `true`\n",
    "\n",
    "Mutated by:\n",
    "- N/A\n",
    "\n",
    "Used as argument by:\n",
    "- N/A"
   ]
  },
  {
   "cell_type": "code",
   "execution_count": 22,
   "metadata": {},
   "outputs": [
    {
     "ename": "LoadError",
     "evalue": "KeyError: key \"unasssigned_individuals\" not found",
     "output_type": "error",
     "traceback": [
      "KeyError: key \"unasssigned_individuals\" not found",
      "",
      "Stacktrace:",
      " [1] getindex(h::Dict{String, DataFrame}, key::String)",
      "   @ Base ./dict.jl:498",
      " [2] top-level scope",
      "   @ In[22]:1"
     ]
    }
   ],
   "source": [
    "unassigned[\"unasssigned_individuals\"]"
   ]
  },
  {
   "cell_type": "markdown",
   "metadata": {},
   "source": [
    "`unassigned_households`\n",
    "___________\n",
    "\n",
    "Description: \n",
    "- Mutation of `aggregated_households`. Represents households to whom no individuals were allocated.\n",
    "\n",
    "Columns: \n",
    "- `:hh_attr_id` - `:hh_attr_id` from DataFrame `households` that represents unique combination of attribtues of household\n",
    "- `:population` - number of households with combination of attributes `hh_attr_id` with no individuals assigned\n",
    "\n",
    "Returned by:\n",
    "- `assign_individuals_to_households!` if optional parameter `return_unassigned` is set to `true`\n",
    "\n",
    "Mutated by:\n",
    "- N/A\n",
    "\n",
    "Used as argument by:\n",
    "- N/A"
   ]
  },
  {
   "cell_type": "code",
   "execution_count": 24,
   "metadata": {},
   "outputs": [
    {
     "ename": "LoadError",
     "evalue": "KeyError: key \"unassigned_households\" not found",
     "output_type": "error",
     "traceback": [
      "KeyError: key \"unassigned_households\" not found",
      "",
      "Stacktrace:",
      " [1] getindex(h::Dict{String, DataFrame}, key::String)",
      "   @ Base ./dict.jl:498",
      " [2] top-level scope",
      "   @ In[24]:1"
     ]
    }
   ],
   "source": [
    "unassigned[\"unassigned_households\"]"
   ]
  },
  {
   "cell_type": "markdown",
   "metadata": {},
   "source": [
    "`unassigned_areas`\n",
    "____________\n",
    "\n",
    "Description: \n",
    "- Mutation of `aggregated_areas`. Represents areas for whom estimated population does not match target population.\n",
    "- Examples: \n",
    "    - if the target population for an area is 100, but the total number of individuals in households in this area is 98, the `:population` value is 2\n",
    "    - if the target population for an area is 100, but the total number of individuals in households in this area is 105, the `:population` value is -5\n",
    "\n",
    "Columns: \n",
    "- `:area_id` - `:area_id` from DataFrame `areas` that represents the areas for which locations of households are estimated\n",
    "- `:population` - number of households with combination of attributes `hh_attr_id` that were not assigned any individuals\n",
    "\n",
    "Returned by:\n",
    "- `assign_areas_to_households!` if optional parameter `return_unassigned` is set to `true`\n",
    "\n",
    "Mutated by:\n",
    "- N/A\n",
    "\n",
    "Used as argument by:\n",
    "- N/A"
   ]
  },
  {
   "cell_type": "code",
   "execution_count": 26,
   "metadata": {},
   "outputs": [
    {
     "data": {
      "text/html": [
       "<div><div style = \"float: left;\"><span>0×9 DataFrame</span></div><div style = \"clear: both;\"></div></div><div class = \"data-frame\" style = \"overflow-x: scroll;\"><table class = \"data-frame\" style = \"margin-bottom: 6px;\"><thead><tr class = \"header\"><th class = \"rowNumber\" style = \"font-weight: bold; text-align: right;\">Row</th><th style = \"text-align: left;\">id</th><th style = \"text-align: left;\">geometry</th><th style = \"text-align: left;\">name</th><th style = \"text-align: left;\">population</th><th style = \"text-align: left;\">target_population</th><th style = \"text-align: left;\">max_lon</th><th style = \"text-align: left;\">min_lon</th><th style = \"text-align: left;\">max_lat</th><th style = \"text-align: left;\">min_lat</th></tr><tr class = \"subheader headerLastRow\"><th class = \"rowNumber\" style = \"font-weight: bold; text-align: right;\"></th><th title = \"Int64\" style = \"text-align: left;\">Int64</th><th title = \"Union{Missing, GeoJSON.Geometry}\" style = \"text-align: left;\">Geometry</th><th title = \"String\" style = \"text-align: left;\">String</th><th title = \"Float64\" style = \"text-align: left;\">Float64</th><th title = \"Int64\" style = \"text-align: left;\">Int64</th><th title = \"Float64\" style = \"text-align: left;\">Float64</th><th title = \"Float64\" style = \"text-align: left;\">Float64</th><th title = \"Float64\" style = \"text-align: left;\">Float64</th><th title = \"Float64\" style = \"text-align: left;\">Float64</th></tr></thead><tbody></tbody></table></div>"
      ],
      "text/latex": [
       "\\begin{tabular}{r|ccccccccc}\n",
       "\t& id & geometry & name & population & target\\_population & max\\_lon & min\\_lon & max\\_lat & \\\\\n",
       "\t\\hline\n",
       "\t& Int64 & Geometry & String & Float64 & Int64 & Float64 & Float64 & Float64 & \\\\\n",
       "\t\\hline\n",
       "\\end{tabular}\n"
      ],
      "text/plain": [
       "\u001b[1m0×9 DataFrame\u001b[0m\n",
       "\u001b[1m Row \u001b[0m│\u001b[1m id    \u001b[0m\u001b[1m geometry \u001b[0m\u001b[1m name   \u001b[0m\u001b[1m population \u001b[0m\u001b[1m target_population \u001b[0m\u001b[1m max_lon \u001b[0m\u001b[1m min_lo\u001b[0m ⋯\n",
       "     │\u001b[90m Int64 \u001b[0m\u001b[90m Geometry \u001b[0m\u001b[90m String \u001b[0m\u001b[90m Float64    \u001b[0m\u001b[90m Int64             \u001b[0m\u001b[90m Float64 \u001b[0m\u001b[90m Float6\u001b[0m ⋯\n",
       "─────┴──────────────────────────────────────────────────────────────────────────\n",
       "\u001b[36m                                                               3 columns omitted\u001b[0m"
      ]
     },
     "execution_count": 26,
     "metadata": {},
     "output_type": "execute_result"
    }
   ],
   "source": [
    "unassigned[\"unassigned_areas\"] #in our case all areas were assigned so dataframe is empty"
   ]
  },
  {
   "cell_type": "markdown",
   "metadata": {},
   "source": [
    "`disaggregated_unassigned_households`\n",
    "________\n",
    "\n",
    "Description:\n",
    "- Represents households to whom coordinates were not assigned. \n",
    "- Filtered rows of `disaggregated_households` for which `:lat`, `:lon` are equal to 0 after the `assign_areas_to_households!` is performed.\n",
    "\n",
    "Columns:\n",
    "- same as in `disaggragated_households`\n",
    "\n",
    "Returned by:\n",
    "- `assign_areas_to_households!` if optional parameter `return_unassigned` is set to `true`\n",
    "\n",
    "Mutated by:\n",
    "- N/A\n",
    "\n",
    "Used as argument by:\n",
    "- N/A"
   ]
  },
  {
   "cell_type": "code",
   "execution_count": 27,
   "metadata": {},
   "outputs": [
    {
     "data": {
      "text/html": [
       "<div><div style = \"float: left;\"><span>8230×10 DataFrame</span></div><div style = \"float: right;\"><span style = \"font-style: italic;\">8205 rows omitted</span></div><div style = \"clear: both;\"></div></div><div class = \"data-frame\" style = \"overflow-x: scroll;\"><table class = \"data-frame\" style = \"margin-bottom: 6px;\"><thead><tr class = \"header\"><th class = \"rowNumber\" style = \"font-weight: bold; text-align: right;\">Row</th><th style = \"text-align: left;\">id</th><th style = \"text-align: left;\">hh_size</th><th style = \"text-align: left;\">available</th><th style = \"text-align: left;\">head_id</th><th style = \"text-align: left;\">partner_id</th><th style = \"text-align: left;\">child1_id</th><th style = \"text-align: left;\">child2_id</th><th style = \"text-align: left;\">child3_id</th><th style = \"text-align: left;\">lat</th><th style = \"text-align: left;\">lon</th></tr><tr class = \"subheader headerLastRow\"><th class = \"rowNumber\" style = \"font-weight: bold; text-align: right;\"></th><th title = \"Int64\" style = \"text-align: left;\">Int64</th><th title = \"Int64\" style = \"text-align: left;\">Int64</th><th title = \"Bool\" style = \"text-align: left;\">Bool</th><th title = \"Int64\" style = \"text-align: left;\">Int64</th><th title = \"Int64\" style = \"text-align: left;\">Int64</th><th title = \"Int64\" style = \"text-align: left;\">Int64</th><th title = \"Int64\" style = \"text-align: left;\">Int64</th><th title = \"Int64\" style = \"text-align: left;\">Int64</th><th title = \"Float64\" style = \"text-align: left;\">Float64</th><th title = \"Float64\" style = \"text-align: left;\">Float64</th></tr></thead><tbody><tr><td class = \"rowNumber\" style = \"font-weight: bold; text-align: right;\">1</td><td style = \"text-align: right;\">1</td><td style = \"text-align: right;\">1</td><td style = \"text-align: right;\">false</td><td style = \"text-align: right;\">516</td><td style = \"text-align: right;\">0</td><td style = \"text-align: right;\">0</td><td style = \"text-align: right;\">0</td><td style = \"text-align: right;\">0</td><td style = \"text-align: right;\">0.0</td><td style = \"text-align: right;\">0.0</td></tr><tr><td class = \"rowNumber\" style = \"font-weight: bold; text-align: right;\">2</td><td style = \"text-align: right;\">2</td><td style = \"text-align: right;\">1</td><td style = \"text-align: right;\">false</td><td style = \"text-align: right;\">73</td><td style = \"text-align: right;\">0</td><td style = \"text-align: right;\">0</td><td style = \"text-align: right;\">0</td><td style = \"text-align: right;\">0</td><td style = \"text-align: right;\">0.0</td><td style = \"text-align: right;\">0.0</td></tr><tr><td class = \"rowNumber\" style = \"font-weight: bold; text-align: right;\">3</td><td style = \"text-align: right;\">3</td><td style = \"text-align: right;\">1</td><td style = \"text-align: right;\">false</td><td style = \"text-align: right;\">201</td><td style = \"text-align: right;\">0</td><td style = \"text-align: right;\">0</td><td style = \"text-align: right;\">0</td><td style = \"text-align: right;\">0</td><td style = \"text-align: right;\">0.0</td><td style = \"text-align: right;\">0.0</td></tr><tr><td class = \"rowNumber\" style = \"font-weight: bold; text-align: right;\">4</td><td style = \"text-align: right;\">4</td><td style = \"text-align: right;\">1</td><td style = \"text-align: right;\">false</td><td style = \"text-align: right;\">125</td><td style = \"text-align: right;\">0</td><td style = \"text-align: right;\">0</td><td style = \"text-align: right;\">0</td><td style = \"text-align: right;\">0</td><td style = \"text-align: right;\">0.0</td><td style = \"text-align: right;\">0.0</td></tr><tr><td class = \"rowNumber\" style = \"font-weight: bold; text-align: right;\">5</td><td style = \"text-align: right;\">5</td><td style = \"text-align: right;\">1</td><td style = \"text-align: right;\">false</td><td style = \"text-align: right;\">463</td><td style = \"text-align: right;\">0</td><td style = \"text-align: right;\">0</td><td style = \"text-align: right;\">0</td><td style = \"text-align: right;\">0</td><td style = \"text-align: right;\">0.0</td><td style = \"text-align: right;\">0.0</td></tr><tr><td class = \"rowNumber\" style = \"font-weight: bold; text-align: right;\">6</td><td style = \"text-align: right;\">6</td><td style = \"text-align: right;\">1</td><td style = \"text-align: right;\">false</td><td style = \"text-align: right;\">65</td><td style = \"text-align: right;\">0</td><td style = \"text-align: right;\">0</td><td style = \"text-align: right;\">0</td><td style = \"text-align: right;\">0</td><td style = \"text-align: right;\">0.0</td><td style = \"text-align: right;\">0.0</td></tr><tr><td class = \"rowNumber\" style = \"font-weight: bold; text-align: right;\">7</td><td style = \"text-align: right;\">7</td><td style = \"text-align: right;\">1</td><td style = \"text-align: right;\">false</td><td style = \"text-align: right;\">347</td><td style = \"text-align: right;\">0</td><td style = \"text-align: right;\">0</td><td style = \"text-align: right;\">0</td><td style = \"text-align: right;\">0</td><td style = \"text-align: right;\">0.0</td><td style = \"text-align: right;\">0.0</td></tr><tr><td class = \"rowNumber\" style = \"font-weight: bold; text-align: right;\">8</td><td style = \"text-align: right;\">8</td><td style = \"text-align: right;\">1</td><td style = \"text-align: right;\">false</td><td style = \"text-align: right;\">133</td><td style = \"text-align: right;\">0</td><td style = \"text-align: right;\">0</td><td style = \"text-align: right;\">0</td><td style = \"text-align: right;\">0</td><td style = \"text-align: right;\">0.0</td><td style = \"text-align: right;\">0.0</td></tr><tr><td class = \"rowNumber\" style = \"font-weight: bold; text-align: right;\">9</td><td style = \"text-align: right;\">9</td><td style = \"text-align: right;\">1</td><td style = \"text-align: right;\">false</td><td style = \"text-align: right;\">189</td><td style = \"text-align: right;\">0</td><td style = \"text-align: right;\">0</td><td style = \"text-align: right;\">0</td><td style = \"text-align: right;\">0</td><td style = \"text-align: right;\">0.0</td><td style = \"text-align: right;\">0.0</td></tr><tr><td class = \"rowNumber\" style = \"font-weight: bold; text-align: right;\">10</td><td style = \"text-align: right;\">10</td><td style = \"text-align: right;\">1</td><td style = \"text-align: right;\">false</td><td style = \"text-align: right;\">193</td><td style = \"text-align: right;\">0</td><td style = \"text-align: right;\">0</td><td style = \"text-align: right;\">0</td><td style = \"text-align: right;\">0</td><td style = \"text-align: right;\">0.0</td><td style = \"text-align: right;\">0.0</td></tr><tr><td class = \"rowNumber\" style = \"font-weight: bold; text-align: right;\">11</td><td style = \"text-align: right;\">11</td><td style = \"text-align: right;\">1</td><td style = \"text-align: right;\">false</td><td style = \"text-align: right;\">473</td><td style = \"text-align: right;\">0</td><td style = \"text-align: right;\">0</td><td style = \"text-align: right;\">0</td><td style = \"text-align: right;\">0</td><td style = \"text-align: right;\">0.0</td><td style = \"text-align: right;\">0.0</td></tr><tr><td class = \"rowNumber\" style = \"font-weight: bold; text-align: right;\">12</td><td style = \"text-align: right;\">12</td><td style = \"text-align: right;\">1</td><td style = \"text-align: right;\">false</td><td style = \"text-align: right;\">321</td><td style = \"text-align: right;\">0</td><td style = \"text-align: right;\">0</td><td style = \"text-align: right;\">0</td><td style = \"text-align: right;\">0</td><td style = \"text-align: right;\">0.0</td><td style = \"text-align: right;\">0.0</td></tr><tr><td class = \"rowNumber\" style = \"font-weight: bold; text-align: right;\">13</td><td style = \"text-align: right;\">13</td><td style = \"text-align: right;\">1</td><td style = \"text-align: right;\">false</td><td style = \"text-align: right;\">9</td><td style = \"text-align: right;\">0</td><td style = \"text-align: right;\">0</td><td style = \"text-align: right;\">0</td><td style = \"text-align: right;\">0</td><td style = \"text-align: right;\">0.0</td><td style = \"text-align: right;\">0.0</td></tr><tr><td style = \"text-align: right;\">&vellip;</td><td style = \"text-align: right;\">&vellip;</td><td style = \"text-align: right;\">&vellip;</td><td style = \"text-align: right;\">&vellip;</td><td style = \"text-align: right;\">&vellip;</td><td style = \"text-align: right;\">&vellip;</td><td style = \"text-align: right;\">&vellip;</td><td style = \"text-align: right;\">&vellip;</td><td style = \"text-align: right;\">&vellip;</td><td style = \"text-align: right;\">&vellip;</td><td style = \"text-align: right;\">&vellip;</td></tr><tr><td class = \"rowNumber\" style = \"font-weight: bold; text-align: right;\">8219</td><td style = \"text-align: right;\">8219</td><td style = \"text-align: right;\">5</td><td style = \"text-align: right;\">false</td><td style = \"text-align: right;\">66</td><td style = \"text-align: right;\">30</td><td style = \"text-align: right;\">6</td><td style = \"text-align: right;\">454</td><td style = \"text-align: right;\">563</td><td style = \"text-align: right;\">0.0</td><td style = \"text-align: right;\">0.0</td></tr><tr><td class = \"rowNumber\" style = \"font-weight: bold; text-align: right;\">8220</td><td style = \"text-align: right;\">8220</td><td style = \"text-align: right;\">5</td><td style = \"text-align: right;\">false</td><td style = \"text-align: right;\">126</td><td style = \"text-align: right;\">506</td><td style = \"text-align: right;\">566</td><td style = \"text-align: right;\">565</td><td style = \"text-align: right;\">562</td><td style = \"text-align: right;\">0.0</td><td style = \"text-align: right;\">0.0</td></tr><tr><td class = \"rowNumber\" style = \"font-weight: bold; text-align: right;\">8221</td><td style = \"text-align: right;\">8221</td><td style = \"text-align: right;\">5</td><td style = \"text-align: right;\">false</td><td style = \"text-align: right;\">290</td><td style = \"text-align: right;\">518</td><td style = \"text-align: right;\">562</td><td style = \"text-align: right;\">564</td><td style = \"text-align: right;\">117</td><td style = \"text-align: right;\">0.0</td><td style = \"text-align: right;\">0.0</td></tr><tr><td class = \"rowNumber\" style = \"font-weight: bold; text-align: right;\">8222</td><td style = \"text-align: right;\">8222</td><td style = \"text-align: right;\">5</td><td style = \"text-align: right;\">false</td><td style = \"text-align: right;\">142</td><td style = \"text-align: right;\">122</td><td style = \"text-align: right;\">562</td><td style = \"text-align: right;\">566</td><td style = \"text-align: right;\">2</td><td style = \"text-align: right;\">0.0</td><td style = \"text-align: right;\">0.0</td></tr><tr><td class = \"rowNumber\" style = \"font-weight: bold; text-align: right;\">8223</td><td style = \"text-align: right;\">8223</td><td style = \"text-align: right;\">5</td><td style = \"text-align: right;\">false</td><td style = \"text-align: right;\">394</td><td style = \"text-align: right;\">78</td><td style = \"text-align: right;\">563</td><td style = \"text-align: right;\">562</td><td style = \"text-align: right;\">117</td><td style = \"text-align: right;\">0.0</td><td style = \"text-align: right;\">0.0</td></tr><tr><td class = \"rowNumber\" style = \"font-weight: bold; text-align: right;\">8224</td><td style = \"text-align: right;\">8224</td><td style = \"text-align: right;\">5</td><td style = \"text-align: right;\">false</td><td style = \"text-align: right;\">238</td><td style = \"text-align: right;\">178</td><td style = \"text-align: right;\">567</td><td style = \"text-align: right;\">118</td><td style = \"text-align: right;\">118</td><td style = \"text-align: right;\">0.0</td><td style = \"text-align: right;\">0.0</td></tr><tr><td class = \"rowNumber\" style = \"font-weight: bold; text-align: right;\">8225</td><td style = \"text-align: right;\">8225</td><td style = \"text-align: right;\">5</td><td style = \"text-align: right;\">false</td><td style = \"text-align: right;\">458</td><td style = \"text-align: right;\">398</td><td style = \"text-align: right;\">565</td><td style = \"text-align: right;\">561</td><td style = \"text-align: right;\">2</td><td style = \"text-align: right;\">0.0</td><td style = \"text-align: right;\">0.0</td></tr><tr><td class = \"rowNumber\" style = \"font-weight: bold; text-align: right;\">8226</td><td style = \"text-align: right;\">8226</td><td style = \"text-align: right;\">5</td><td style = \"text-align: right;\">false</td><td style = \"text-align: right;\">14</td><td style = \"text-align: right;\">426</td><td style = \"text-align: right;\">6</td><td style = \"text-align: right;\">562</td><td style = \"text-align: right;\">226</td><td style = \"text-align: right;\">0.0</td><td style = \"text-align: right;\">0.0</td></tr><tr><td class = \"rowNumber\" style = \"font-weight: bold; text-align: right;\">8227</td><td style = \"text-align: right;\">8227</td><td style = \"text-align: right;\">5</td><td style = \"text-align: right;\">false</td><td style = \"text-align: right;\">138</td><td style = \"text-align: right;\">46</td><td style = \"text-align: right;\">564</td><td style = \"text-align: right;\">568</td><td style = \"text-align: right;\">4</td><td style = \"text-align: right;\">0.0</td><td style = \"text-align: right;\">0.0</td></tr><tr><td class = \"rowNumber\" style = \"font-weight: bold; text-align: right;\">8228</td><td style = \"text-align: right;\">8228</td><td style = \"text-align: right;\">5</td><td style = \"text-align: right;\">false</td><td style = \"text-align: right;\">254</td><td style = \"text-align: right;\">90</td><td style = \"text-align: right;\">118</td><td style = \"text-align: right;\">566</td><td style = \"text-align: right;\">566</td><td style = \"text-align: right;\">0.0</td><td style = \"text-align: right;\">0.0</td></tr><tr><td class = \"rowNumber\" style = \"font-weight: bold; text-align: right;\">8229</td><td style = \"text-align: right;\">8229</td><td style = \"text-align: right;\">5</td><td style = \"text-align: right;\">false</td><td style = \"text-align: right;\">290</td><td style = \"text-align: right;\">302</td><td style = \"text-align: right;\">450</td><td style = \"text-align: right;\">567</td><td style = \"text-align: right;\">561</td><td style = \"text-align: right;\">0.0</td><td style = \"text-align: right;\">0.0</td></tr><tr><td class = \"rowNumber\" style = \"font-weight: bold; text-align: right;\">8230</td><td style = \"text-align: right;\">8230</td><td style = \"text-align: right;\">5</td><td style = \"text-align: right;\">false</td><td style = \"text-align: right;\">270</td><td style = \"text-align: right;\">122</td><td style = \"text-align: right;\">342</td><td style = \"text-align: right;\">568</td><td style = \"text-align: right;\">566</td><td style = \"text-align: right;\">0.0</td><td style = \"text-align: right;\">0.0</td></tr></tbody></table></div>"
      ],
      "text/latex": [
       "\\begin{tabular}{r|ccccccccc}\n",
       "\t& id & hh\\_size & available & head\\_id & partner\\_id & child1\\_id & child2\\_id & child3\\_id & \\\\\n",
       "\t\\hline\n",
       "\t& Int64 & Int64 & Bool & Int64 & Int64 & Int64 & Int64 & Int64 & \\\\\n",
       "\t\\hline\n",
       "\t1 & 1 & 1 & 0 & 516 & 0 & 0 & 0 & 0 & $\\dots$ \\\\\n",
       "\t2 & 2 & 1 & 0 & 73 & 0 & 0 & 0 & 0 & $\\dots$ \\\\\n",
       "\t3 & 3 & 1 & 0 & 201 & 0 & 0 & 0 & 0 & $\\dots$ \\\\\n",
       "\t4 & 4 & 1 & 0 & 125 & 0 & 0 & 0 & 0 & $\\dots$ \\\\\n",
       "\t5 & 5 & 1 & 0 & 463 & 0 & 0 & 0 & 0 & $\\dots$ \\\\\n",
       "\t6 & 6 & 1 & 0 & 65 & 0 & 0 & 0 & 0 & $\\dots$ \\\\\n",
       "\t7 & 7 & 1 & 0 & 347 & 0 & 0 & 0 & 0 & $\\dots$ \\\\\n",
       "\t8 & 8 & 1 & 0 & 133 & 0 & 0 & 0 & 0 & $\\dots$ \\\\\n",
       "\t9 & 9 & 1 & 0 & 189 & 0 & 0 & 0 & 0 & $\\dots$ \\\\\n",
       "\t10 & 10 & 1 & 0 & 193 & 0 & 0 & 0 & 0 & $\\dots$ \\\\\n",
       "\t11 & 11 & 1 & 0 & 473 & 0 & 0 & 0 & 0 & $\\dots$ \\\\\n",
       "\t12 & 12 & 1 & 0 & 321 & 0 & 0 & 0 & 0 & $\\dots$ \\\\\n",
       "\t13 & 13 & 1 & 0 & 9 & 0 & 0 & 0 & 0 & $\\dots$ \\\\\n",
       "\t14 & 14 & 1 & 0 & 409 & 0 & 0 & 0 & 0 & $\\dots$ \\\\\n",
       "\t15 & 15 & 1 & 0 & 233 & 0 & 0 & 0 & 0 & $\\dots$ \\\\\n",
       "\t16 & 16 & 1 & 0 & 333 & 0 & 0 & 0 & 0 & $\\dots$ \\\\\n",
       "\t17 & 17 & 1 & 0 & 509 & 0 & 0 & 0 & 0 & $\\dots$ \\\\\n",
       "\t18 & 18 & 1 & 0 & 33 & 0 & 0 & 0 & 0 & $\\dots$ \\\\\n",
       "\t19 & 19 & 1 & 0 & 125 & 0 & 0 & 0 & 0 & $\\dots$ \\\\\n",
       "\t20 & 20 & 1 & 0 & 125 & 0 & 0 & 0 & 0 & $\\dots$ \\\\\n",
       "\t21 & 21 & 1 & 0 & 249 & 0 & 0 & 0 & 0 & $\\dots$ \\\\\n",
       "\t22 & 22 & 1 & 0 & 177 & 0 & 0 & 0 & 0 & $\\dots$ \\\\\n",
       "\t23 & 23 & 1 & 0 & 256 & 0 & 0 & 0 & 0 & $\\dots$ \\\\\n",
       "\t24 & 24 & 1 & 0 & 421 & 0 & 0 & 0 & 0 & $\\dots$ \\\\\n",
       "\t25 & 25 & 1 & 0 & 520 & 0 & 0 & 0 & 0 & $\\dots$ \\\\\n",
       "\t26 & 26 & 1 & 0 & 233 & 0 & 0 & 0 & 0 & $\\dots$ \\\\\n",
       "\t27 & 27 & 1 & 0 & 517 & 0 & 0 & 0 & 0 & $\\dots$ \\\\\n",
       "\t28 & 28 & 1 & 0 & 197 & 0 & 0 & 0 & 0 & $\\dots$ \\\\\n",
       "\t29 & 29 & 1 & 0 & 465 & 0 & 0 & 0 & 0 & $\\dots$ \\\\\n",
       "\t30 & 30 & 1 & 0 & 257 & 0 & 0 & 0 & 0 & $\\dots$ \\\\\n",
       "\t$\\dots$ & $\\dots$ & $\\dots$ & $\\dots$ & $\\dots$ & $\\dots$ & $\\dots$ & $\\dots$ & $\\dots$ &  \\\\\n",
       "\\end{tabular}\n"
      ],
      "text/plain": [
       "\u001b[1m8230×10 DataFrame\u001b[0m\n",
       "\u001b[1m  Row \u001b[0m│\u001b[1m id    \u001b[0m\u001b[1m hh_size \u001b[0m\u001b[1m available \u001b[0m\u001b[1m head_id \u001b[0m\u001b[1m partner_id \u001b[0m\u001b[1m child1_id \u001b[0m\u001b[1m child2_id \u001b[0m\u001b[1m \u001b[0m ⋯\n",
       "      │\u001b[90m Int64 \u001b[0m\u001b[90m Int64   \u001b[0m\u001b[90m Bool      \u001b[0m\u001b[90m Int64   \u001b[0m\u001b[90m Int64      \u001b[0m\u001b[90m Int64     \u001b[0m\u001b[90m Int64     \u001b[0m\u001b[90m \u001b[0m ⋯\n",
       "──────┼─────────────────────────────────────────────────────────────────────────\n",
       "    1 │     1        1      false      516           0          0          0   ⋯\n",
       "    2 │     2        1      false       73           0          0          0\n",
       "    3 │     3        1      false      201           0          0          0\n",
       "    4 │     4        1      false      125           0          0          0\n",
       "    5 │     5        1      false      463           0          0          0   ⋯\n",
       "    6 │     6        1      false       65           0          0          0\n",
       "    7 │     7        1      false      347           0          0          0\n",
       "    8 │     8        1      false      133           0          0          0\n",
       "    9 │     9        1      false      189           0          0          0   ⋯\n",
       "   10 │    10        1      false      193           0          0          0\n",
       "   11 │    11        1      false      473           0          0          0\n",
       "  ⋮   │   ⋮       ⋮         ⋮         ⋮         ⋮           ⋮          ⋮       ⋱\n",
       " 8221 │  8221        5      false      290         518        562        564\n",
       " 8222 │  8222        5      false      142         122        562        566   ⋯\n",
       " 8223 │  8223        5      false      394          78        563        562\n",
       " 8224 │  8224        5      false      238         178        567        118\n",
       " 8225 │  8225        5      false      458         398        565        561\n",
       " 8226 │  8226        5      false       14         426          6        562   ⋯\n",
       " 8227 │  8227        5      false      138          46        564        568\n",
       " 8228 │  8228        5      false      254          90        118        566\n",
       " 8229 │  8229        5      false      290         302        450        567\n",
       " 8230 │  8230        5      false      270         122        342        568   ⋯\n",
       "\u001b[36m                                                 3 columns and 8209 rows omitted\u001b[0m"
      ]
     },
     "execution_count": 27,
     "metadata": {},
     "output_type": "execute_result"
    }
   ],
   "source": [
    "unassigned[\"disaggregated_unassigned_households\"]"
   ]
  }
 ],
 "metadata": {
  "kernelspec": {
   "display_name": "Julia 1.8.5",
   "language": "julia",
   "name": "julia-1.8"
  },
  "language_info": {
   "file_extension": ".jl",
   "mimetype": "application/julia",
   "name": "julia",
   "version": "1.8.5"
  }
 },
 "nbformat": 4,
 "nbformat_minor": 2
}
