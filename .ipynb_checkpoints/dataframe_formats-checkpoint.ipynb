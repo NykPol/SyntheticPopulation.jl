{
 "cells": [
  {
   "cell_type": "markdown",
   "metadata": {},
   "source": [
    "## Data generation"
   ]
  },
  {
   "cell_type": "markdown",
   "metadata": {},
   "source": [
    "#### Include needed files\n",
    "The data and functiones are not explained here - detailed explanation is provided in `demo.ipynb`. This notebook only executes the code so that tables can be descirbed in further part."
   ]
  },
  {
   "cell_type": "code",
   "execution_count": 13,
   "metadata": {},
   "outputs": [
    {
     "name": "stdout",
     "output_type": "stream",
     "text": [
      "Downloading file... \n",
      "File downloaded. Unzipping file...\n",
      "File saved at /Users/marcinzurek/Desktop/Studia/Research/SyntheticPopulation/file.geojson\n"
     ]
    },
    {
     "name": "stderr",
     "output_type": "stream",
     "text": [
      "\u001b[36m\u001b[1m[ \u001b[22m\u001b[39m\u001b[36m\u001b[1mInfo: \u001b[22m\u001b[39mInconsistent target margins, converting `X` and `mar` to proportions. Margin totals: [9520, 9502]\n",
      "\u001b[36m\u001b[1m[ \u001b[22m\u001b[39m\u001b[36m\u001b[1mInfo: \u001b[22m\u001b[39mConverged in 1 iterations.\n",
      "\u001b[36m\u001b[1m[ \u001b[22m\u001b[39m\u001b[36m\u001b[1mInfo: \u001b[22m\u001b[39mInconsistent target margins, converting `X` and `mar` to proportions. Margin totals: [9777, 9166]\n",
      "\u001b[36m\u001b[1m[ \u001b[22m\u001b[39m\u001b[36m\u001b[1mInfo: \u001b[22m\u001b[39mConverged in 1 iterations.\n",
      "\u001b[36m\u001b[1m[ \u001b[22m\u001b[39m\u001b[36m\u001b[1mInfo: \u001b[22m\u001b[39mInconsistent target margins, converting `X` and `mar` to proportions. Margin totals: [18668, 21890]\n",
      "\u001b[36m\u001b[1m[ \u001b[22m\u001b[39m\u001b[36m\u001b[1mInfo: \u001b[22m\u001b[39mConverged in 1 iterations.\n"
     ]
    },
    {
     "name": "stdout",
     "output_type": "stream",
     "text": [
      "Total_number of individuals: 21885\n",
      "Total_number of households: 8230\n",
      "Allocation started... \n"
     ]
    },
    {
     "name": "stderr",
     "output_type": "stream",
     "text": [
      "\u001b[32mProgress: 100%|█████████████████████████████████████████| Time: 0:00:06\u001b[39m\n"
     ]
    },
    {
     "name": "stdout",
     "output_type": "stream",
     "text": [
      "Allocated 86.0% individuals.\n",
      "Allocated 100.0% households.\n",
      "===================\n",
      "Assigning coordinates to households...\n",
      "===================\n"
     ]
    },
    {
     "name": "stderr",
     "output_type": "stream",
     "text": [
      "\u001b[32mProgress: 100%|█████████████████████████████████████████| Time: 0:00:26\u001b[39m\n"
     ]
    }
   ],
   "source": [
    "include(\"src/SyntheticPopulation.jl\")\n",
    "\n",
    "SCALE = 0.001 \n",
    "popoulation_size = 21890000\n",
    "\n",
    "marginal_ind_age_sex = DataFrame(\n",
    "    sex = repeat(['M', 'F'], 18),\n",
    "    age = repeat(2:5:87, inner = 2), \n",
    "    population = SCALE .* 10000 .* [52.6, 49.0, 48.5, 44.8, 33.6, 30.6, 34.6, 28.8, 71.6, 63.4, 99.6, 90.9, 130.9, 119.4, 110.8, 103.5, 83.8, 76.4, 84.2, 77.7, 84.2, 77.8, 82.8, 79.9, 67.7, 71.0, 56.9, 62.6, 31.5, 35.3, 18.5, 23.0, 15.2, 19.7, 12.5, 16.0]\n",
    "    )\n",
    "marginal_ind_sex_maritialstatus = DataFrame(\n",
    "    sex = repeat(['M', 'F'], 4), \n",
    "    maritialstatus = repeat([\"Not_married\", \"Married\", \"Divorced\", \"Widowed\"], inner = 2), \n",
    "    population = SCALE .* [1679, 1611, 5859, 5774, 140, 206, 128, 426] ./ 0.00082\n",
    "    )\n",
    "marginal_ind_income = DataFrame(\n",
    "    income = [25394, 44855, 63969, 88026, 145915], \n",
    "    population = repeat([popoulation_size * SCALE / 5], 5)\n",
    "    )\n",
    "marginal_hh_size = DataFrame(\n",
    "    hh_size = [1,2,3,4,5],\n",
    "    population = Int.(round.(SCALE * 8230000 .* [0.299, 0.331, 0.217, 0.09, 0.063]))\n",
    "    )\n",
    "\n",
    "#areas\n",
    "URL = \"https://osm-boundaries.com/Download/Submit?apiKey=87100809b4085adb58139419c141e5a1&db=osm20230102&osmIds=-2988894,-2988933,-2988895,-288600,-2988896,-2988946,-5505984,-2988897,-2988898,-2988899,-2988900,-5505985,-2988901,-2988902,-568660,-2988903&format=GeoJSON&srid=4326\"\n",
    "areas = generate_areas_dataframe(URL)\n",
    "aggregated_areas = copy(areas)\n",
    "aggregated_areas.:population = Int.(round.(SCALE .* 10000 .* [56.8, 313.2, 201.9, 345.1, 34.6, 184.0, 132.4, 45.7, 52.8, 39.3, 44.1, 131.3, 199.4, 226.9, 110.6, 70.9]))\n",
    "aggregated_areas = aggregated_areas[:, [:id, :population]]\n",
    "\n",
    "#households and individuals\n",
    "individuals, aggregated_individuals = generate_joint_distributions(marginal_ind_sex_maritialstatus, marginal_ind_age_sex, marginal_ind_income, config_file = \"config_file.json\")\n",
    "households, aggregated_households = generate_joint_distributions(marginal_hh_size)\n",
    "\n",
    "#Allocation\n",
    "disaggregated_households, unassigned1 = assign_individuals_to_households(individuals, aggregated_individuals, households, aggregated_households, return_unassigned = true)\n",
    "disaggregated_households, unassigned2 = assign_areas_to_households!(disaggregated_households, areas, aggregated_areas, return_unassigned = true)\n",
    "\n",
    "nothing"
   ]
  },
  {
   "cell_type": "markdown",
   "metadata": {},
   "source": [
    "## Input and output data format"
   ]
  },
  {
   "cell_type": "markdown",
   "metadata": {},
   "source": [
    "### Naming convention:\n",
    "- `dataframe` - unique combinations of dataframe attributes with columns `:id` and multiple columns for each `attribute`.\n",
    "- `aggregated_dataframe` - aggregated population with columns `:id` and `:population`.\n",
    "- `disaggregated_dataframe` - disaggregated population.\n",
    "- `unassigned_dataframe` - aggregated population with columns `:id` and `:unassigned_population`.\n",
    "- `marginal_attr1_attr2` - flattened contingency tables with marginal distributions"
   ]
  },
  {
   "cell_type": "markdown",
   "metadata": {},
   "source": [
    "### Dataframes:"
   ]
  },
  {
   "cell_type": "markdown",
   "metadata": {},
   "source": [
    "`marginal_attr1_attr2`\n",
    "___________\n",
    "\n",
    "Description:\n",
    "- flattened multi-way contingency table with marginal distributions of the variables\n",
    "- example: `marginal_age_sex`\n",
    "\n",
    "Columns:\n",
    "- `:attr1` - 1st attribute of the contingency table\n",
    "- `:attr2`- 2nd attribute of the contingency table\n",
    "- `:attr3`, `attr4` - optional attributes\n",
    "- `:population` - total population or total number of elements for a given combination of attributes\n",
    "\n",
    "Returned by:\n",
    "- manual input based on different data sources (e.g. census)\n",
    "\n",
    "Mutated by:\n",
    "- N/A\n",
    "\n",
    "Used as argument by:\n",
    "- `generate_joint_distributions`"
   ]
  },
  {
   "cell_type": "markdown",
   "metadata": {},
   "source": [
    "`disaggregated_households`\n",
    "_____\n",
    "\n",
    "Description:\n",
    "- The final DataFrame that represents the estimated population. Each row is one household with charactieristics, such as assigned individuals and coordinates of households' location.\n",
    "\n",
    "Columns:\n",
    "- `:id` - ID of a household\n",
    "- `:hh_attr_id` - `:hh_attr_id` from DataFrame `households` that references a certain household type.\n",
    "- `:head_id` - `:id` from DataFrame `individuals` that references head of household\n",
    "- `:partner_id` - `:id` from DataFrame `individuals` that references partner of selected head, ==0 if not applicable\n",
    "- `:child1_id` - `:id` from DataFrame `individuals` that references child in household, ==0 if not applicable\n",
    "- `:child2_id` - `:id` from DataFrame `individuals` that references child in household, ==0 if not applicable\n",
    "- `:child3_id` - `:id` from DataFrame `individuals` that references child in household, ==0 if not applicable\n",
    "- `:lat` - latitude of the household location, ==0 if not assigned\n",
    "- `:lon` - longitude of the household location, ==0 if not assigned\n",
    "- `:area_id` - `:area_id` that references area from Dataframe `areas`, ==0 if not assigned\n",
    "\n",
    "Returned by:\n",
    "- `assign_individuals_to_households`\n",
    "\n",
    "Mutated by:\n",
    "- `assign_areas_to_households!`\n",
    "\n",
    "Used as argument by:\n",
    "- `assign_areas_to_households!`"
   ]
  },
  {
   "cell_type": "code",
   "execution_count": 14,
   "metadata": {},
   "outputs": [
    {
     "data": {
      "text/html": [
       "<div><div style = \"float: left;\"><span>8230×11 DataFrame</span></div><div style = \"float: right;\"><span style = \"font-style: italic;\">8205 rows omitted</span></div><div style = \"clear: both;\"></div></div><div class = \"data-frame\" style = \"overflow-x: scroll;\"><table class = \"data-frame\" style = \"margin-bottom: 6px;\"><thead><tr class = \"header\"><th class = \"rowNumber\" style = \"font-weight: bold; text-align: right;\">Row</th><th style = \"text-align: left;\">id</th><th style = \"text-align: left;\">hh_attr_id</th><th style = \"text-align: left;\">individuals_allocated</th><th style = \"text-align: left;\">head_id</th><th style = \"text-align: left;\">partner_id</th><th style = \"text-align: left;\">child1_id</th><th style = \"text-align: left;\">child2_id</th><th style = \"text-align: left;\">child3_id</th><th style = \"text-align: left;\">lat</th><th style = \"text-align: left;\">lon</th><th style = \"text-align: left;\">area_id</th></tr><tr class = \"subheader headerLastRow\"><th class = \"rowNumber\" style = \"font-weight: bold; text-align: right;\"></th><th title = \"Int64\" style = \"text-align: left;\">Int64</th><th title = \"Int64\" style = \"text-align: left;\">Int64</th><th title = \"Bool\" style = \"text-align: left;\">Bool</th><th title = \"Int64\" style = \"text-align: left;\">Int64</th><th title = \"Int64\" style = \"text-align: left;\">Int64</th><th title = \"Int64\" style = \"text-align: left;\">Int64</th><th title = \"Int64\" style = \"text-align: left;\">Int64</th><th title = \"Int64\" style = \"text-align: left;\">Int64</th><th title = \"Float64\" style = \"text-align: left;\">Float64</th><th title = \"Float64\" style = \"text-align: left;\">Float64</th><th title = \"Float64\" style = \"text-align: left;\">Float64</th></tr></thead><tbody><tr><td class = \"rowNumber\" style = \"font-weight: bold; text-align: right;\">1</td><td style = \"text-align: right;\">1</td><td style = \"text-align: right;\">1</td><td style = \"text-align: right;\">true</td><td style = \"text-align: right;\">269</td><td style = \"text-align: right;\">0</td><td style = \"text-align: right;\">0</td><td style = \"text-align: right;\">0</td><td style = \"text-align: right;\">0</td><td style = \"text-align: right;\">39.6711</td><td style = \"text-align: right;\">116.858</td><td style = \"text-align: right;\">6.0</td></tr><tr><td class = \"rowNumber\" style = \"font-weight: bold; text-align: right;\">2</td><td style = \"text-align: right;\">2</td><td style = \"text-align: right;\">1</td><td style = \"text-align: right;\">true</td><td style = \"text-align: right;\">349</td><td style = \"text-align: right;\">0</td><td style = \"text-align: right;\">0</td><td style = \"text-align: right;\">0</td><td style = \"text-align: right;\">0</td><td style = \"text-align: right;\">39.9374</td><td style = \"text-align: right;\">116.409</td><td style = \"text-align: right;\">16.0</td></tr><tr><td class = \"rowNumber\" style = \"font-weight: bold; text-align: right;\">3</td><td style = \"text-align: right;\">3</td><td style = \"text-align: right;\">1</td><td style = \"text-align: right;\">true</td><td style = \"text-align: right;\">21</td><td style = \"text-align: right;\">0</td><td style = \"text-align: right;\">0</td><td style = \"text-align: right;\">0</td><td style = \"text-align: right;\">0</td><td style = \"text-align: right;\">40.0</td><td style = \"text-align: right;\">116.373</td><td style = \"text-align: right;\">4.0</td></tr><tr><td class = \"rowNumber\" style = \"font-weight: bold; text-align: right;\">4</td><td style = \"text-align: right;\">4</td><td style = \"text-align: right;\">1</td><td style = \"text-align: right;\">true</td><td style = \"text-align: right;\">485</td><td style = \"text-align: right;\">0</td><td style = \"text-align: right;\">0</td><td style = \"text-align: right;\">0</td><td style = \"text-align: right;\">0</td><td style = \"text-align: right;\">40.1486</td><td style = \"text-align: right;\">116.096</td><td style = \"text-align: right;\">14.0</td></tr><tr><td class = \"rowNumber\" style = \"font-weight: bold; text-align: right;\">5</td><td style = \"text-align: right;\">5</td><td style = \"text-align: right;\">1</td><td style = \"text-align: right;\">true</td><td style = \"text-align: right;\">425</td><td style = \"text-align: right;\">0</td><td style = \"text-align: right;\">0</td><td style = \"text-align: right;\">0</td><td style = \"text-align: right;\">0</td><td style = \"text-align: right;\">40.2181</td><td style = \"text-align: right;\">116.235</td><td style = \"text-align: right;\">14.0</td></tr><tr><td class = \"rowNumber\" style = \"font-weight: bold; text-align: right;\">6</td><td style = \"text-align: right;\">6</td><td style = \"text-align: right;\">1</td><td style = \"text-align: right;\">true</td><td style = \"text-align: right;\">129</td><td style = \"text-align: right;\">0</td><td style = \"text-align: right;\">0</td><td style = \"text-align: right;\">0</td><td style = \"text-align: right;\">0</td><td style = \"text-align: right;\">39.8842</td><td style = \"text-align: right;\">116.487</td><td style = \"text-align: right;\">4.0</td></tr><tr><td class = \"rowNumber\" style = \"font-weight: bold; text-align: right;\">7</td><td style = \"text-align: right;\">7</td><td style = \"text-align: right;\">1</td><td style = \"text-align: right;\">true</td><td style = \"text-align: right;\">473</td><td style = \"text-align: right;\">0</td><td style = \"text-align: right;\">0</td><td style = \"text-align: right;\">0</td><td style = \"text-align: right;\">0</td><td style = \"text-align: right;\">40.1584</td><td style = \"text-align: right;\">117.255</td><td style = \"text-align: right;\">8.0</td></tr><tr><td class = \"rowNumber\" style = \"font-weight: bold; text-align: right;\">8</td><td style = \"text-align: right;\">8</td><td style = \"text-align: right;\">1</td><td style = \"text-align: right;\">true</td><td style = \"text-align: right;\">105</td><td style = \"text-align: right;\">0</td><td style = \"text-align: right;\">0</td><td style = \"text-align: right;\">0</td><td style = \"text-align: right;\">0</td><td style = \"text-align: right;\">40.4196</td><td style = \"text-align: right;\">116.49</td><td style = \"text-align: right;\">11.0</td></tr><tr><td class = \"rowNumber\" style = \"font-weight: bold; text-align: right;\">9</td><td style = \"text-align: right;\">9</td><td style = \"text-align: right;\">1</td><td style = \"text-align: right;\">true</td><td style = \"text-align: right;\">489</td><td style = \"text-align: right;\">0</td><td style = \"text-align: right;\">0</td><td style = \"text-align: right;\">0</td><td style = \"text-align: right;\">0</td><td style = \"text-align: right;\">40.1149</td><td style = \"text-align: right;\">116.762</td><td style = \"text-align: right;\">7.0</td></tr><tr><td class = \"rowNumber\" style = \"font-weight: bold; text-align: right;\">10</td><td style = \"text-align: right;\">10</td><td style = \"text-align: right;\">1</td><td style = \"text-align: right;\">true</td><td style = \"text-align: right;\">197</td><td style = \"text-align: right;\">0</td><td style = \"text-align: right;\">0</td><td style = \"text-align: right;\">0</td><td style = \"text-align: right;\">0</td><td style = \"text-align: right;\">39.7814</td><td style = \"text-align: right;\">116.412</td><td style = \"text-align: right;\">13.0</td></tr><tr><td class = \"rowNumber\" style = \"font-weight: bold; text-align: right;\">11</td><td style = \"text-align: right;\">11</td><td style = \"text-align: right;\">1</td><td style = \"text-align: right;\">true</td><td style = \"text-align: right;\">61</td><td style = \"text-align: right;\">0</td><td style = \"text-align: right;\">0</td><td style = \"text-align: right;\">0</td><td style = \"text-align: right;\">0</td><td style = \"text-align: right;\">39.6908</td><td style = \"text-align: right;\">116.247</td><td style = \"text-align: right;\">13.0</td></tr><tr><td class = \"rowNumber\" style = \"font-weight: bold; text-align: right;\">12</td><td style = \"text-align: right;\">12</td><td style = \"text-align: right;\">1</td><td style = \"text-align: right;\">true</td><td style = \"text-align: right;\">33</td><td style = \"text-align: right;\">0</td><td style = \"text-align: right;\">0</td><td style = \"text-align: right;\">0</td><td style = \"text-align: right;\">0</td><td style = \"text-align: right;\">39.6549</td><td style = \"text-align: right;\">116.171</td><td style = \"text-align: right;\">12.0</td></tr><tr><td class = \"rowNumber\" style = \"font-weight: bold; text-align: right;\">13</td><td style = \"text-align: right;\">13</td><td style = \"text-align: right;\">1</td><td style = \"text-align: right;\">true</td><td style = \"text-align: right;\">245</td><td style = \"text-align: right;\">0</td><td style = \"text-align: right;\">0</td><td style = \"text-align: right;\">0</td><td style = \"text-align: right;\">0</td><td style = \"text-align: right;\">40.0408</td><td style = \"text-align: right;\">116.094</td><td style = \"text-align: right;\">2.0</td></tr><tr><td style = \"text-align: right;\">&vellip;</td><td style = \"text-align: right;\">&vellip;</td><td style = \"text-align: right;\">&vellip;</td><td style = \"text-align: right;\">&vellip;</td><td style = \"text-align: right;\">&vellip;</td><td style = \"text-align: right;\">&vellip;</td><td style = \"text-align: right;\">&vellip;</td><td style = \"text-align: right;\">&vellip;</td><td style = \"text-align: right;\">&vellip;</td><td style = \"text-align: right;\">&vellip;</td><td style = \"text-align: right;\">&vellip;</td><td style = \"text-align: right;\">&vellip;</td></tr><tr><td class = \"rowNumber\" style = \"font-weight: bold; text-align: right;\">8219</td><td style = \"text-align: right;\">8219</td><td style = \"text-align: right;\">5</td><td style = \"text-align: right;\">true</td><td style = \"text-align: right;\">30</td><td style = \"text-align: right;\">74</td><td style = \"text-align: right;\">564</td><td style = \"text-align: right;\">565</td><td style = \"text-align: right;\">568</td><td style = \"text-align: right;\">39.8856</td><td style = \"text-align: right;\">116.518</td><td style = \"text-align: right;\">4.0</td></tr><tr><td class = \"rowNumber\" style = \"font-weight: bold; text-align: right;\">8220</td><td style = \"text-align: right;\">8220</td><td style = \"text-align: right;\">5</td><td style = \"text-align: right;\">true</td><td style = \"text-align: right;\">406</td><td style = \"text-align: right;\">458</td><td style = \"text-align: right;\">6</td><td style = \"text-align: right;\">454</td><td style = \"text-align: right;\">562</td><td style = \"text-align: right;\">39.9429</td><td style = \"text-align: right;\">116.406</td><td style = \"text-align: right;\">16.0</td></tr><tr><td class = \"rowNumber\" style = \"font-weight: bold; text-align: right;\">8221</td><td style = \"text-align: right;\">8221</td><td style = \"text-align: right;\">5</td><td style = \"text-align: right;\">true</td><td style = \"text-align: right;\">478</td><td style = \"text-align: right;\">34</td><td style = \"text-align: right;\">561</td><td style = \"text-align: right;\">566</td><td style = \"text-align: right;\">449</td><td style = \"text-align: right;\">40.7385</td><td style = \"text-align: right;\">116.654</td><td style = \"text-align: right;\">11.0</td></tr><tr><td class = \"rowNumber\" style = \"font-weight: bold; text-align: right;\">8222</td><td style = \"text-align: right;\">8222</td><td style = \"text-align: right;\">5</td><td style = \"text-align: right;\">true</td><td style = \"text-align: right;\">482</td><td style = \"text-align: right;\">254</td><td style = \"text-align: right;\">118</td><td style = \"text-align: right;\">225</td><td style = \"text-align: right;\">563</td><td style = \"text-align: right;\">40.142</td><td style = \"text-align: right;\">116.515</td><td style = \"text-align: right;\">7.0</td></tr><tr><td class = \"rowNumber\" style = \"font-weight: bold; text-align: right;\">8223</td><td style = \"text-align: right;\">8223</td><td style = \"text-align: right;\">5</td><td style = \"text-align: right;\">true</td><td style = \"text-align: right;\">146</td><td style = \"text-align: right;\">462</td><td style = \"text-align: right;\">561</td><td style = \"text-align: right;\">226</td><td style = \"text-align: right;\">563</td><td style = \"text-align: right;\">39.828</td><td style = \"text-align: right;\">116.451</td><td style = \"text-align: right;\">4.0</td></tr><tr><td class = \"rowNumber\" style = \"font-weight: bold; text-align: right;\">8224</td><td style = \"text-align: right;\">8224</td><td style = \"text-align: right;\">5</td><td style = \"text-align: right;\">true</td><td style = \"text-align: right;\">170</td><td style = \"text-align: right;\">94</td><td style = \"text-align: right;\">561</td><td style = \"text-align: right;\">338</td><td style = \"text-align: right;\">342</td><td style = \"text-align: right;\">39.9947</td><td style = \"text-align: right;\">116.204</td><td style = \"text-align: right;\">2.0</td></tr><tr><td class = \"rowNumber\" style = \"font-weight: bold; text-align: right;\">8225</td><td style = \"text-align: right;\">8225</td><td style = \"text-align: right;\">5</td><td style = \"text-align: right;\">true</td><td style = \"text-align: right;\">286</td><td style = \"text-align: right;\">466</td><td style = \"text-align: right;\">117</td><td style = \"text-align: right;\">230</td><td style = \"text-align: right;\">566</td><td style = \"text-align: right;\">39.8789</td><td style = \"text-align: right;\">116.321</td><td style = \"text-align: right;\">15.0</td></tr><tr><td class = \"rowNumber\" style = \"font-weight: bold; text-align: right;\">8226</td><td style = \"text-align: right;\">8226</td><td style = \"text-align: right;\">5</td><td style = \"text-align: right;\">true</td><td style = \"text-align: right;\">134</td><td style = \"text-align: right;\">146</td><td style = \"text-align: right;\">561</td><td style = \"text-align: right;\">563</td><td style = \"text-align: right;\">341</td><td style = \"text-align: right;\">39.6689</td><td style = \"text-align: right;\">116.609</td><td style = \"text-align: right;\">13.0</td></tr><tr><td class = \"rowNumber\" style = \"font-weight: bold; text-align: right;\">8227</td><td style = \"text-align: right;\">8227</td><td style = \"text-align: right;\">5</td><td style = \"text-align: right;\">true</td><td style = \"text-align: right;\">170</td><td style = \"text-align: right;\">358</td><td style = \"text-align: right;\">565</td><td style = \"text-align: right;\">6</td><td style = \"text-align: right;\">561</td><td style = \"text-align: right;\">40.0344</td><td style = \"text-align: right;\">116.203</td><td style = \"text-align: right;\">2.0</td></tr><tr><td class = \"rowNumber\" style = \"font-weight: bold; text-align: right;\">8228</td><td style = \"text-align: right;\">8228</td><td style = \"text-align: right;\">5</td><td style = \"text-align: right;\">true</td><td style = \"text-align: right;\">514</td><td style = \"text-align: right;\">238</td><td style = \"text-align: right;\">562</td><td style = \"text-align: right;\">562</td><td style = \"text-align: right;\">2</td><td style = \"text-align: right;\">39.7545</td><td style = \"text-align: right;\">115.841</td><td style = \"text-align: right;\">12.0</td></tr><tr><td class = \"rowNumber\" style = \"font-weight: bold; text-align: right;\">8229</td><td style = \"text-align: right;\">8229</td><td style = \"text-align: right;\">5</td><td style = \"text-align: right;\">true</td><td style = \"text-align: right;\">126</td><td style = \"text-align: right;\">554</td><td style = \"text-align: right;\">563</td><td style = \"text-align: right;\">565</td><td style = \"text-align: right;\">230</td><td style = \"text-align: right;\">39.8694</td><td style = \"text-align: right;\">116.524</td><td style = \"text-align: right;\">4.0</td></tr><tr><td class = \"rowNumber\" style = \"font-weight: bold; text-align: right;\">8230</td><td style = \"text-align: right;\">8230</td><td style = \"text-align: right;\">5</td><td style = \"text-align: right;\">true</td><td style = \"text-align: right;\">178</td><td style = \"text-align: right;\">142</td><td style = \"text-align: right;\">564</td><td style = \"text-align: right;\">563</td><td style = \"text-align: right;\">2</td><td style = \"text-align: right;\">39.9157</td><td style = \"text-align: right;\">116.216</td><td style = \"text-align: right;\">1.0</td></tr></tbody></table></div>"
      ],
      "text/latex": [
       "\\begin{tabular}{r|cccccccc}\n",
       "\t& id & hh\\_attr\\_id & individuals\\_allocated & head\\_id & partner\\_id & child1\\_id & child2\\_id & \\\\\n",
       "\t\\hline\n",
       "\t& Int64 & Int64 & Bool & Int64 & Int64 & Int64 & Int64 & \\\\\n",
       "\t\\hline\n",
       "\t1 & 1 & 1 & 1 & 269 & 0 & 0 & 0 & $\\dots$ \\\\\n",
       "\t2 & 2 & 1 & 1 & 349 & 0 & 0 & 0 & $\\dots$ \\\\\n",
       "\t3 & 3 & 1 & 1 & 21 & 0 & 0 & 0 & $\\dots$ \\\\\n",
       "\t4 & 4 & 1 & 1 & 485 & 0 & 0 & 0 & $\\dots$ \\\\\n",
       "\t5 & 5 & 1 & 1 & 425 & 0 & 0 & 0 & $\\dots$ \\\\\n",
       "\t6 & 6 & 1 & 1 & 129 & 0 & 0 & 0 & $\\dots$ \\\\\n",
       "\t7 & 7 & 1 & 1 & 473 & 0 & 0 & 0 & $\\dots$ \\\\\n",
       "\t8 & 8 & 1 & 1 & 105 & 0 & 0 & 0 & $\\dots$ \\\\\n",
       "\t9 & 9 & 1 & 1 & 489 & 0 & 0 & 0 & $\\dots$ \\\\\n",
       "\t10 & 10 & 1 & 1 & 197 & 0 & 0 & 0 & $\\dots$ \\\\\n",
       "\t11 & 11 & 1 & 1 & 61 & 0 & 0 & 0 & $\\dots$ \\\\\n",
       "\t12 & 12 & 1 & 1 & 33 & 0 & 0 & 0 & $\\dots$ \\\\\n",
       "\t13 & 13 & 1 & 1 & 245 & 0 & 0 & 0 & $\\dots$ \\\\\n",
       "\t14 & 14 & 1 & 1 & 9 & 0 & 0 & 0 & $\\dots$ \\\\\n",
       "\t15 & 15 & 1 & 1 & 521 & 0 & 0 & 0 & $\\dots$ \\\\\n",
       "\t16 & 16 & 1 & 1 & 17 & 0 & 0 & 0 & $\\dots$ \\\\\n",
       "\t17 & 17 & 1 & 1 & 345 & 0 & 0 & 0 & $\\dots$ \\\\\n",
       "\t18 & 18 & 1 & 1 & 67 & 0 & 0 & 0 & $\\dots$ \\\\\n",
       "\t19 & 19 & 1 & 1 & 405 & 0 & 0 & 0 & $\\dots$ \\\\\n",
       "\t20 & 20 & 1 & 1 & 25 & 0 & 0 & 0 & $\\dots$ \\\\\n",
       "\t21 & 21 & 1 & 1 & 185 & 0 & 0 & 0 & $\\dots$ \\\\\n",
       "\t22 & 22 & 1 & 1 & 549 & 0 & 0 & 0 & $\\dots$ \\\\\n",
       "\t23 & 23 & 1 & 1 & 537 & 0 & 0 & 0 & $\\dots$ \\\\\n",
       "\t24 & 24 & 1 & 1 & 357 & 0 & 0 & 0 & $\\dots$ \\\\\n",
       "\t25 & 25 & 1 & 1 & 408 & 0 & 0 & 0 & $\\dots$ \\\\\n",
       "\t26 & 26 & 1 & 1 & 177 & 0 & 0 & 0 & $\\dots$ \\\\\n",
       "\t27 & 27 & 1 & 1 & 301 & 0 & 0 & 0 & $\\dots$ \\\\\n",
       "\t28 & 28 & 1 & 1 & 29 & 0 & 0 & 0 & $\\dots$ \\\\\n",
       "\t29 & 29 & 1 & 1 & 309 & 0 & 0 & 0 & $\\dots$ \\\\\n",
       "\t30 & 30 & 1 & 1 & 201 & 0 & 0 & 0 & $\\dots$ \\\\\n",
       "\t$\\dots$ & $\\dots$ & $\\dots$ & $\\dots$ & $\\dots$ & $\\dots$ & $\\dots$ & $\\dots$ &  \\\\\n",
       "\\end{tabular}\n"
      ],
      "text/plain": [
       "\u001b[1m8230×11 DataFrame\u001b[0m\n",
       "\u001b[1m  Row \u001b[0m│\u001b[1m id    \u001b[0m\u001b[1m hh_attr_id \u001b[0m\u001b[1m individuals_allocated \u001b[0m\u001b[1m head_id \u001b[0m\u001b[1m partner_id \u001b[0m\u001b[1m child1_\u001b[0m ⋯\n",
       "      │\u001b[90m Int64 \u001b[0m\u001b[90m Int64      \u001b[0m\u001b[90m Bool                  \u001b[0m\u001b[90m Int64   \u001b[0m\u001b[90m Int64      \u001b[0m\u001b[90m Int64  \u001b[0m ⋯\n",
       "──────┼─────────────────────────────────────────────────────────────────────────\n",
       "    1 │     1           1                   true      269           0          ⋯\n",
       "    2 │     2           1                   true      349           0\n",
       "    3 │     3           1                   true       21           0\n",
       "    4 │     4           1                   true      485           0\n",
       "    5 │     5           1                   true      425           0          ⋯\n",
       "    6 │     6           1                   true      129           0\n",
       "    7 │     7           1                   true      473           0\n",
       "    8 │     8           1                   true      105           0\n",
       "    9 │     9           1                   true      489           0          ⋯\n",
       "   10 │    10           1                   true      197           0\n",
       "   11 │    11           1                   true       61           0\n",
       "  ⋮   │   ⋮        ⋮                 ⋮               ⋮         ⋮           ⋮   ⋱\n",
       " 8221 │  8221           5                   true      478          34        5\n",
       " 8222 │  8222           5                   true      482         254        1 ⋯\n",
       " 8223 │  8223           5                   true      146         462        5\n",
       " 8224 │  8224           5                   true      170          94        5\n",
       " 8225 │  8225           5                   true      286         466        1\n",
       " 8226 │  8226           5                   true      134         146        5 ⋯\n",
       " 8227 │  8227           5                   true      170         358        5\n",
       " 8228 │  8228           5                   true      514         238        5\n",
       " 8229 │  8229           5                   true      126         554        5\n",
       " 8230 │  8230           5                   true      178         142        5 ⋯\n",
       "\u001b[36m                                                 6 columns and 8209 rows omitted\u001b[0m"
      ]
     },
     "execution_count": 14,
     "metadata": {},
     "output_type": "execute_result"
    }
   ],
   "source": [
    "disaggregated_households"
   ]
  },
  {
   "cell_type": "markdown",
   "metadata": {},
   "source": [
    "`individuals`\n",
    "______\n",
    "\n",
    "Description:\n",
    "- Each row represents a unique combination of attributes of individuals\n",
    "\n",
    "Columns:\n",
    "- `:id` - ID that represents a unique combination of attributes of individuals\n",
    "- different columns that represent the attributes of the individual, in our example these are:\n",
    "    - `:maritial_status`\n",
    "    - `:age`\n",
    "    - `:sex`\n",
    "    - `:income`\n",
    "\n",
    "Returned by:\n",
    "- `generate_joint_distributions`\n",
    "\n",
    "Mutated by:\n",
    "- N/A\n",
    "\n",
    "Used as argument by:\n",
    "- `assign_individuals_to_households`"
   ]
  },
  {
   "cell_type": "code",
   "execution_count": 15,
   "metadata": {},
   "outputs": [
    {
     "data": {
      "text/html": [
       "<div><div style = \"float: left;\"><span>568×5 DataFrame</span></div><div style = \"float: right;\"><span style = \"font-style: italic;\">543 rows omitted</span></div><div style = \"clear: both;\"></div></div><div class = \"data-frame\" style = \"overflow-x: scroll;\"><table class = \"data-frame\" style = \"margin-bottom: 6px;\"><thead><tr class = \"header\"><th class = \"rowNumber\" style = \"font-weight: bold; text-align: right;\">Row</th><th style = \"text-align: left;\">id</th><th style = \"text-align: left;\">maritialstatus</th><th style = \"text-align: left;\">sex</th><th style = \"text-align: left;\">age</th><th style = \"text-align: left;\">income</th></tr><tr class = \"subheader headerLastRow\"><th class = \"rowNumber\" style = \"font-weight: bold; text-align: right;\"></th><th title = \"Int64\" style = \"text-align: left;\">Int64</th><th title = \"Union{Missing, String}\" style = \"text-align: left;\">String?</th><th title = \"Union{Missing, Char}\" style = \"text-align: left;\">Char?</th><th title = \"Union{Missing, Int64}\" style = \"text-align: left;\">Int64?</th><th title = \"Union{Missing, Int64}\" style = \"text-align: left;\">Int64?</th></tr></thead><tbody><tr><td class = \"rowNumber\" style = \"font-weight: bold; text-align: right;\">1</td><td style = \"text-align: right;\">1</td><td style = \"text-align: left;\">Not_married</td><td style = \"text-align: left;\">M</td><td style = \"text-align: right;\">22</td><td style = \"text-align: right;\">25394</td></tr><tr><td class = \"rowNumber\" style = \"font-weight: bold; text-align: right;\">2</td><td style = \"text-align: right;\">2</td><td style = \"text-align: left;\">Married</td><td style = \"text-align: left;\">M</td><td style = \"text-align: right;\">22</td><td style = \"text-align: right;\">25394</td></tr><tr><td class = \"rowNumber\" style = \"font-weight: bold; text-align: right;\">3</td><td style = \"text-align: right;\">3</td><td style = \"text-align: left;\">Divorced</td><td style = \"text-align: left;\">M</td><td style = \"text-align: right;\">22</td><td style = \"text-align: right;\">25394</td></tr><tr><td class = \"rowNumber\" style = \"font-weight: bold; text-align: right;\">4</td><td style = \"text-align: right;\">4</td><td style = \"text-align: left;\">Widowed</td><td style = \"text-align: left;\">M</td><td style = \"text-align: right;\">22</td><td style = \"text-align: right;\">25394</td></tr><tr><td class = \"rowNumber\" style = \"font-weight: bold; text-align: right;\">5</td><td style = \"text-align: right;\">5</td><td style = \"text-align: left;\">Not_married</td><td style = \"text-align: left;\">F</td><td style = \"text-align: right;\">22</td><td style = \"text-align: right;\">25394</td></tr><tr><td class = \"rowNumber\" style = \"font-weight: bold; text-align: right;\">6</td><td style = \"text-align: right;\">6</td><td style = \"text-align: left;\">Married</td><td style = \"text-align: left;\">F</td><td style = \"text-align: right;\">22</td><td style = \"text-align: right;\">25394</td></tr><tr><td class = \"rowNumber\" style = \"font-weight: bold; text-align: right;\">7</td><td style = \"text-align: right;\">7</td><td style = \"text-align: left;\">Divorced</td><td style = \"text-align: left;\">F</td><td style = \"text-align: right;\">22</td><td style = \"text-align: right;\">25394</td></tr><tr><td class = \"rowNumber\" style = \"font-weight: bold; text-align: right;\">8</td><td style = \"text-align: right;\">8</td><td style = \"text-align: left;\">Widowed</td><td style = \"text-align: left;\">F</td><td style = \"text-align: right;\">22</td><td style = \"text-align: right;\">25394</td></tr><tr><td class = \"rowNumber\" style = \"font-weight: bold; text-align: right;\">9</td><td style = \"text-align: right;\">9</td><td style = \"text-align: left;\">Not_married</td><td style = \"text-align: left;\">M</td><td style = \"text-align: right;\">27</td><td style = \"text-align: right;\">25394</td></tr><tr><td class = \"rowNumber\" style = \"font-weight: bold; text-align: right;\">10</td><td style = \"text-align: right;\">10</td><td style = \"text-align: left;\">Married</td><td style = \"text-align: left;\">M</td><td style = \"text-align: right;\">27</td><td style = \"text-align: right;\">25394</td></tr><tr><td class = \"rowNumber\" style = \"font-weight: bold; text-align: right;\">11</td><td style = \"text-align: right;\">11</td><td style = \"text-align: left;\">Divorced</td><td style = \"text-align: left;\">M</td><td style = \"text-align: right;\">27</td><td style = \"text-align: right;\">25394</td></tr><tr><td class = \"rowNumber\" style = \"font-weight: bold; text-align: right;\">12</td><td style = \"text-align: right;\">12</td><td style = \"text-align: left;\">Widowed</td><td style = \"text-align: left;\">M</td><td style = \"text-align: right;\">27</td><td style = \"text-align: right;\">25394</td></tr><tr><td class = \"rowNumber\" style = \"font-weight: bold; text-align: right;\">13</td><td style = \"text-align: right;\">13</td><td style = \"text-align: left;\">Not_married</td><td style = \"text-align: left;\">F</td><td style = \"text-align: right;\">27</td><td style = \"text-align: right;\">25394</td></tr><tr><td style = \"text-align: right;\">&vellip;</td><td style = \"text-align: right;\">&vellip;</td><td style = \"text-align: right;\">&vellip;</td><td style = \"text-align: right;\">&vellip;</td><td style = \"text-align: right;\">&vellip;</td><td style = \"text-align: right;\">&vellip;</td></tr><tr><td class = \"rowNumber\" style = \"font-weight: bold; text-align: right;\">557</td><td style = \"text-align: right;\">557</td><td style = \"text-align: left;\">Not_married</td><td style = \"text-align: left;\">F</td><td style = \"text-align: right;\">87</td><td style = \"text-align: right;\">145915</td></tr><tr><td class = \"rowNumber\" style = \"font-weight: bold; text-align: right;\">558</td><td style = \"text-align: right;\">558</td><td style = \"text-align: left;\">Married</td><td style = \"text-align: left;\">F</td><td style = \"text-align: right;\">87</td><td style = \"text-align: right;\">145915</td></tr><tr><td class = \"rowNumber\" style = \"font-weight: bold; text-align: right;\">559</td><td style = \"text-align: right;\">559</td><td style = \"text-align: left;\">Divorced</td><td style = \"text-align: left;\">F</td><td style = \"text-align: right;\">87</td><td style = \"text-align: right;\">145915</td></tr><tr><td class = \"rowNumber\" style = \"font-weight: bold; text-align: right;\">560</td><td style = \"text-align: right;\">560</td><td style = \"text-align: left;\">Widowed</td><td style = \"text-align: left;\">F</td><td style = \"text-align: right;\">87</td><td style = \"text-align: right;\">145915</td></tr><tr><td class = \"rowNumber\" style = \"font-weight: bold; text-align: right;\">561</td><td style = \"text-align: right;\">561</td><td style = \"text-align: left;\">missing</td><td style = \"text-align: left;\">F</td><td style = \"text-align: right;\">2</td><td style = \"text-align: right;\">missing</td></tr><tr><td class = \"rowNumber\" style = \"font-weight: bold; text-align: right;\">562</td><td style = \"text-align: right;\">562</td><td style = \"text-align: left;\">missing</td><td style = \"text-align: left;\">F</td><td style = \"text-align: right;\">7</td><td style = \"text-align: right;\">missing</td></tr><tr><td class = \"rowNumber\" style = \"font-weight: bold; text-align: right;\">563</td><td style = \"text-align: right;\">563</td><td style = \"text-align: left;\">missing</td><td style = \"text-align: left;\">F</td><td style = \"text-align: right;\">12</td><td style = \"text-align: right;\">missing</td></tr><tr><td class = \"rowNumber\" style = \"font-weight: bold; text-align: right;\">564</td><td style = \"text-align: right;\">564</td><td style = \"text-align: left;\">missing</td><td style = \"text-align: left;\">F</td><td style = \"text-align: right;\">17</td><td style = \"text-align: right;\">missing</td></tr><tr><td class = \"rowNumber\" style = \"font-weight: bold; text-align: right;\">565</td><td style = \"text-align: right;\">565</td><td style = \"text-align: left;\">missing</td><td style = \"text-align: left;\">M</td><td style = \"text-align: right;\">2</td><td style = \"text-align: right;\">missing</td></tr><tr><td class = \"rowNumber\" style = \"font-weight: bold; text-align: right;\">566</td><td style = \"text-align: right;\">566</td><td style = \"text-align: left;\">missing</td><td style = \"text-align: left;\">M</td><td style = \"text-align: right;\">7</td><td style = \"text-align: right;\">missing</td></tr><tr><td class = \"rowNumber\" style = \"font-weight: bold; text-align: right;\">567</td><td style = \"text-align: right;\">567</td><td style = \"text-align: left;\">missing</td><td style = \"text-align: left;\">M</td><td style = \"text-align: right;\">12</td><td style = \"text-align: right;\">missing</td></tr><tr><td class = \"rowNumber\" style = \"font-weight: bold; text-align: right;\">568</td><td style = \"text-align: right;\">568</td><td style = \"text-align: left;\">missing</td><td style = \"text-align: left;\">M</td><td style = \"text-align: right;\">17</td><td style = \"text-align: right;\">missing</td></tr></tbody></table></div>"
      ],
      "text/latex": [
       "\\begin{tabular}{r|ccccc}\n",
       "\t& id & maritialstatus & sex & age & income\\\\\n",
       "\t\\hline\n",
       "\t& Int64 & String? & Char? & Int64? & Int64?\\\\\n",
       "\t\\hline\n",
       "\t1 & 1 & Not\\_married & M & 22 & 25394 \\\\\n",
       "\t2 & 2 & Married & M & 22 & 25394 \\\\\n",
       "\t3 & 3 & Divorced & M & 22 & 25394 \\\\\n",
       "\t4 & 4 & Widowed & M & 22 & 25394 \\\\\n",
       "\t5 & 5 & Not\\_married & F & 22 & 25394 \\\\\n",
       "\t6 & 6 & Married & F & 22 & 25394 \\\\\n",
       "\t7 & 7 & Divorced & F & 22 & 25394 \\\\\n",
       "\t8 & 8 & Widowed & F & 22 & 25394 \\\\\n",
       "\t9 & 9 & Not\\_married & M & 27 & 25394 \\\\\n",
       "\t10 & 10 & Married & M & 27 & 25394 \\\\\n",
       "\t11 & 11 & Divorced & M & 27 & 25394 \\\\\n",
       "\t12 & 12 & Widowed & M & 27 & 25394 \\\\\n",
       "\t13 & 13 & Not\\_married & F & 27 & 25394 \\\\\n",
       "\t14 & 14 & Married & F & 27 & 25394 \\\\\n",
       "\t15 & 15 & Divorced & F & 27 & 25394 \\\\\n",
       "\t16 & 16 & Widowed & F & 27 & 25394 \\\\\n",
       "\t17 & 17 & Not\\_married & M & 32 & 25394 \\\\\n",
       "\t18 & 18 & Married & M & 32 & 25394 \\\\\n",
       "\t19 & 19 & Divorced & M & 32 & 25394 \\\\\n",
       "\t20 & 20 & Widowed & M & 32 & 25394 \\\\\n",
       "\t21 & 21 & Not\\_married & F & 32 & 25394 \\\\\n",
       "\t22 & 22 & Married & F & 32 & 25394 \\\\\n",
       "\t23 & 23 & Divorced & F & 32 & 25394 \\\\\n",
       "\t24 & 24 & Widowed & F & 32 & 25394 \\\\\n",
       "\t25 & 25 & Not\\_married & M & 37 & 25394 \\\\\n",
       "\t26 & 26 & Married & M & 37 & 25394 \\\\\n",
       "\t27 & 27 & Divorced & M & 37 & 25394 \\\\\n",
       "\t28 & 28 & Widowed & M & 37 & 25394 \\\\\n",
       "\t29 & 29 & Not\\_married & F & 37 & 25394 \\\\\n",
       "\t30 & 30 & Married & F & 37 & 25394 \\\\\n",
       "\t$\\dots$ & $\\dots$ & $\\dots$ & $\\dots$ & $\\dots$ & $\\dots$ \\\\\n",
       "\\end{tabular}\n"
      ],
      "text/plain": [
       "\u001b[1m568×5 DataFrame\u001b[0m\n",
       "\u001b[1m Row \u001b[0m│\u001b[1m id    \u001b[0m\u001b[1m maritialstatus \u001b[0m\u001b[1m sex   \u001b[0m\u001b[1m age    \u001b[0m\u001b[1m income  \u001b[0m\n",
       "     │\u001b[90m Int64 \u001b[0m\u001b[90m String?        \u001b[0m\u001b[90m Char? \u001b[0m\u001b[90m Int64? \u001b[0m\u001b[90m Int64?  \u001b[0m\n",
       "─────┼───────────────────────────────────────────────\n",
       "   1 │     1  Not_married     M          22    25394\n",
       "   2 │     2  Married         M          22    25394\n",
       "   3 │     3  Divorced        M          22    25394\n",
       "   4 │     4  Widowed         M          22    25394\n",
       "   5 │     5  Not_married     F          22    25394\n",
       "   6 │     6  Married         F          22    25394\n",
       "   7 │     7  Divorced        F          22    25394\n",
       "   8 │     8  Widowed         F          22    25394\n",
       "   9 │     9  Not_married     M          27    25394\n",
       "  10 │    10  Married         M          27    25394\n",
       "  11 │    11  Divorced        M          27    25394\n",
       "  ⋮  │   ⋮          ⋮           ⋮      ⋮        ⋮\n",
       " 559 │   559  Divorced        F          87   145915\n",
       " 560 │   560  Widowed         F          87   145915\n",
       " 561 │   561 \u001b[90m missing        \u001b[0m F           2 \u001b[90m missing \u001b[0m\n",
       " 562 │   562 \u001b[90m missing        \u001b[0m F           7 \u001b[90m missing \u001b[0m\n",
       " 563 │   563 \u001b[90m missing        \u001b[0m F          12 \u001b[90m missing \u001b[0m\n",
       " 564 │   564 \u001b[90m missing        \u001b[0m F          17 \u001b[90m missing \u001b[0m\n",
       " 565 │   565 \u001b[90m missing        \u001b[0m M           2 \u001b[90m missing \u001b[0m\n",
       " 566 │   566 \u001b[90m missing        \u001b[0m M           7 \u001b[90m missing \u001b[0m\n",
       " 567 │   567 \u001b[90m missing        \u001b[0m M          12 \u001b[90m missing \u001b[0m\n",
       " 568 │   568 \u001b[90m missing        \u001b[0m M          17 \u001b[90m missing \u001b[0m\n",
       "\u001b[36m                                     547 rows omitted\u001b[0m"
      ]
     },
     "execution_count": 15,
     "metadata": {},
     "output_type": "execute_result"
    }
   ],
   "source": [
    "individuals"
   ]
  },
  {
   "cell_type": "markdown",
   "metadata": {},
   "source": [
    "`aggregated_individuals`\n",
    "________\n",
    "\n",
    "Description:\n",
    "- Each row represents number of individuals with unique combination of attributes represented by `:id`.\n",
    "\n",
    "Columns:\n",
    "- `:id` - `:id` from DataFrame `individuals` that references a unique combination of attributes of individuals\n",
    "- `:population` - number of estimated individuals with combination of attribtues described by `:id`\n",
    "\n",
    "Returned by:\n",
    "- `generate_joint_distributions`\n",
    "\n",
    "Mutated by:\n",
    "- N/A\n",
    "\n",
    "Used as argument by:\n",
    "- `assign_individuals_to_households`"
   ]
  },
  {
   "cell_type": "code",
   "execution_count": 16,
   "metadata": {},
   "outputs": [
    {
     "data": {
      "text/html": [
       "<div><div style = \"float: left;\"><span>568×2 DataFrame</span></div><div style = \"float: right;\"><span style = \"font-style: italic;\">543 rows omitted</span></div><div style = \"clear: both;\"></div></div><div class = \"data-frame\" style = \"overflow-x: scroll;\"><table class = \"data-frame\" style = \"margin-bottom: 6px;\"><thead><tr class = \"header\"><th class = \"rowNumber\" style = \"font-weight: bold; text-align: right;\">Row</th><th style = \"text-align: left;\">id</th><th style = \"text-align: left;\">population</th></tr><tr class = \"subheader headerLastRow\"><th class = \"rowNumber\" style = \"font-weight: bold; text-align: right;\"></th><th title = \"Int64\" style = \"text-align: left;\">Int64</th><th title = \"Int64\" style = \"text-align: left;\">Int64</th></tr></thead><tbody><tr><td class = \"rowNumber\" style = \"font-weight: bold; text-align: right;\">1</td><td style = \"text-align: right;\">1</td><td style = \"text-align: right;\">31</td></tr><tr><td class = \"rowNumber\" style = \"font-weight: bold; text-align: right;\">2</td><td style = \"text-align: right;\">2</td><td style = \"text-align: right;\">107</td></tr><tr><td class = \"rowNumber\" style = \"font-weight: bold; text-align: right;\">3</td><td style = \"text-align: right;\">3</td><td style = \"text-align: right;\">3</td></tr><tr><td class = \"rowNumber\" style = \"font-weight: bold; text-align: right;\">4</td><td style = \"text-align: right;\">4</td><td style = \"text-align: right;\">2</td></tr><tr><td class = \"rowNumber\" style = \"font-weight: bold; text-align: right;\">5</td><td style = \"text-align: right;\">5</td><td style = \"text-align: right;\">43</td></tr><tr><td class = \"rowNumber\" style = \"font-weight: bold; text-align: right;\">6</td><td style = \"text-align: right;\">6</td><td style = \"text-align: right;\">150</td></tr><tr><td class = \"rowNumber\" style = \"font-weight: bold; text-align: right;\">7</td><td style = \"text-align: right;\">7</td><td style = \"text-align: right;\">4</td></tr><tr><td class = \"rowNumber\" style = \"font-weight: bold; text-align: right;\">8</td><td style = \"text-align: right;\">8</td><td style = \"text-align: right;\">3</td></tr><tr><td class = \"rowNumber\" style = \"font-weight: bold; text-align: right;\">9</td><td style = \"text-align: right;\">9</td><td style = \"text-align: right;\">56</td></tr><tr><td class = \"rowNumber\" style = \"font-weight: bold; text-align: right;\">10</td><td style = \"text-align: right;\">10</td><td style = \"text-align: right;\">196</td></tr><tr><td class = \"rowNumber\" style = \"font-weight: bold; text-align: right;\">11</td><td style = \"text-align: right;\">11</td><td style = \"text-align: right;\">5</td></tr><tr><td class = \"rowNumber\" style = \"font-weight: bold; text-align: right;\">12</td><td style = \"text-align: right;\">12</td><td style = \"text-align: right;\">4</td></tr><tr><td class = \"rowNumber\" style = \"font-weight: bold; text-align: right;\">13</td><td style = \"text-align: right;\">13</td><td style = \"text-align: right;\">48</td></tr><tr><td style = \"text-align: right;\">&vellip;</td><td style = \"text-align: right;\">&vellip;</td><td style = \"text-align: right;\">&vellip;</td></tr><tr><td class = \"rowNumber\" style = \"font-weight: bold; text-align: right;\">557</td><td style = \"text-align: right;\">557</td><td style = \"text-align: right;\">6</td></tr><tr><td class = \"rowNumber\" style = \"font-weight: bold; text-align: right;\">558</td><td style = \"text-align: right;\">558</td><td style = \"text-align: right;\">23</td></tr><tr><td class = \"rowNumber\" style = \"font-weight: bold; text-align: right;\">559</td><td style = \"text-align: right;\">559</td><td style = \"text-align: right;\">1</td></tr><tr><td class = \"rowNumber\" style = \"font-weight: bold; text-align: right;\">560</td><td style = \"text-align: right;\">560</td><td style = \"text-align: right;\">2</td></tr><tr><td class = \"rowNumber\" style = \"font-weight: bold; text-align: right;\">561</td><td style = \"text-align: right;\">561</td><td style = \"text-align: right;\">490</td></tr><tr><td class = \"rowNumber\" style = \"font-weight: bold; text-align: right;\">562</td><td style = \"text-align: right;\">562</td><td style = \"text-align: right;\">448</td></tr><tr><td class = \"rowNumber\" style = \"font-weight: bold; text-align: right;\">563</td><td style = \"text-align: right;\">563</td><td style = \"text-align: right;\">306</td></tr><tr><td class = \"rowNumber\" style = \"font-weight: bold; text-align: right;\">564</td><td style = \"text-align: right;\">564</td><td style = \"text-align: right;\">288</td></tr><tr><td class = \"rowNumber\" style = \"font-weight: bold; text-align: right;\">565</td><td style = \"text-align: right;\">565</td><td style = \"text-align: right;\">526</td></tr><tr><td class = \"rowNumber\" style = \"font-weight: bold; text-align: right;\">566</td><td style = \"text-align: right;\">566</td><td style = \"text-align: right;\">485</td></tr><tr><td class = \"rowNumber\" style = \"font-weight: bold; text-align: right;\">567</td><td style = \"text-align: right;\">567</td><td style = \"text-align: right;\">336</td></tr><tr><td class = \"rowNumber\" style = \"font-weight: bold; text-align: right;\">568</td><td style = \"text-align: right;\">568</td><td style = \"text-align: right;\">346</td></tr></tbody></table></div>"
      ],
      "text/latex": [
       "\\begin{tabular}{r|cc}\n",
       "\t& id & population\\\\\n",
       "\t\\hline\n",
       "\t& Int64 & Int64\\\\\n",
       "\t\\hline\n",
       "\t1 & 1 & 31 \\\\\n",
       "\t2 & 2 & 107 \\\\\n",
       "\t3 & 3 & 3 \\\\\n",
       "\t4 & 4 & 2 \\\\\n",
       "\t5 & 5 & 43 \\\\\n",
       "\t6 & 6 & 150 \\\\\n",
       "\t7 & 7 & 4 \\\\\n",
       "\t8 & 8 & 3 \\\\\n",
       "\t9 & 9 & 56 \\\\\n",
       "\t10 & 10 & 196 \\\\\n",
       "\t11 & 11 & 5 \\\\\n",
       "\t12 & 12 & 4 \\\\\n",
       "\t13 & 13 & 48 \\\\\n",
       "\t14 & 14 & 166 \\\\\n",
       "\t15 & 15 & 4 \\\\\n",
       "\t16 & 16 & 4 \\\\\n",
       "\t17 & 17 & 36 \\\\\n",
       "\t18 & 18 & 126 \\\\\n",
       "\t19 & 19 & 3 \\\\\n",
       "\t20 & 20 & 3 \\\\\n",
       "\t21 & 21 & 36 \\\\\n",
       "\t22 & 22 & 126 \\\\\n",
       "\t23 & 23 & 3 \\\\\n",
       "\t24 & 24 & 3 \\\\\n",
       "\t25 & 25 & 36 \\\\\n",
       "\t26 & 26 & 126 \\\\\n",
       "\t27 & 27 & 3 \\\\\n",
       "\t28 & 28 & 3 \\\\\n",
       "\t29 & 29 & 36 \\\\\n",
       "\t30 & 30 & 124 \\\\\n",
       "\t$\\dots$ & $\\dots$ & $\\dots$ \\\\\n",
       "\\end{tabular}\n"
      ],
      "text/plain": [
       "\u001b[1m568×2 DataFrame\u001b[0m\n",
       "\u001b[1m Row \u001b[0m│\u001b[1m id    \u001b[0m\u001b[1m population \u001b[0m\n",
       "     │\u001b[90m Int64 \u001b[0m\u001b[90m Int64      \u001b[0m\n",
       "─────┼───────────────────\n",
       "   1 │     1          31\n",
       "   2 │     2         107\n",
       "   3 │     3           3\n",
       "   4 │     4           2\n",
       "   5 │     5          43\n",
       "   6 │     6         150\n",
       "   7 │     7           4\n",
       "   8 │     8           3\n",
       "   9 │     9          56\n",
       "  10 │    10         196\n",
       "  11 │    11           5\n",
       "  ⋮  │   ⋮        ⋮\n",
       " 559 │   559           1\n",
       " 560 │   560           2\n",
       " 561 │   561         490\n",
       " 562 │   562         448\n",
       " 563 │   563         306\n",
       " 564 │   564         288\n",
       " 565 │   565         526\n",
       " 566 │   566         485\n",
       " 567 │   567         336\n",
       " 568 │   568         346\n",
       "\u001b[36m         547 rows omitted\u001b[0m"
      ]
     },
     "execution_count": 16,
     "metadata": {},
     "output_type": "execute_result"
    }
   ],
   "source": [
    "aggregated_individuals"
   ]
  },
  {
   "cell_type": "markdown",
   "metadata": {},
   "source": [
    "`areas`\n",
    "______\n",
    "\n",
    "Description:\n",
    "- Each row represents a unique area and its characteristics\n",
    "\n",
    "Columns:\n",
    "- `:id` - ID of an area\n",
    "- additional data representing each area. In our case:\n",
    "    - `:geometry` - `MultyPolygon` or `Polygon` object that represents the territory of a given area\n",
    "    - `:name` - name of the area\n",
    "\n",
    "Returned by: \n",
    "- function `generate_areas_dataframe` given input data downloaded from https://osm-boundaries.com/\n",
    "- Can be also generated manually depending on data source\n",
    "\n",
    "Mutated by:\n",
    "- N/A\n",
    "\n",
    "Used as argument by:\n",
    "- `assign_areas_to_households!`"
   ]
  },
  {
   "cell_type": "code",
   "execution_count": 17,
   "metadata": {},
   "outputs": [
    {
     "data": {
      "text/html": [
       "<div><div style = \"float: left;\"><span>16×3 DataFrame</span></div><div style = \"clear: both;\"></div></div><div class = \"data-frame\" style = \"overflow-x: scroll;\"><table class = \"data-frame\" style = \"margin-bottom: 6px;\"><thead><tr class = \"header\"><th class = \"rowNumber\" style = \"font-weight: bold; text-align: right;\">Row</th><th style = \"text-align: left;\">id</th><th style = \"text-align: left;\">geometry</th><th style = \"text-align: left;\">name</th></tr><tr class = \"subheader headerLastRow\"><th class = \"rowNumber\" style = \"font-weight: bold; text-align: right;\"></th><th title = \"Int64\" style = \"text-align: left;\">Int64</th><th title = \"Union{Missing, GeoJSON.Geometry}\" style = \"text-align: left;\">Geometry</th><th title = \"String\" style = \"text-align: left;\">String</th></tr></thead><tbody><tr><td class = \"rowNumber\" style = \"font-weight: bold; text-align: right;\">1</td><td style = \"text-align: right;\">1</td><td style = \"text-align: left;\">Polygon</td><td style = \"text-align: left;\">Shijingshan District</td></tr><tr><td class = \"rowNumber\" style = \"font-weight: bold; text-align: right;\">2</td><td style = \"text-align: right;\">2</td><td style = \"text-align: left;\">Polygon</td><td style = \"text-align: left;\">Haidian District</td></tr><tr><td class = \"rowNumber\" style = \"font-weight: bold; text-align: right;\">3</td><td style = \"text-align: right;\">3</td><td style = \"text-align: left;\">Polygon</td><td style = \"text-align: left;\">Fengtai District</td></tr><tr><td class = \"rowNumber\" style = \"font-weight: bold; text-align: right;\">4</td><td style = \"text-align: right;\">4</td><td style = \"text-align: left;\">MultiPolygon</td><td style = \"text-align: left;\">Chaoyang District</td></tr><tr><td class = \"rowNumber\" style = \"font-weight: bold; text-align: right;\">5</td><td style = \"text-align: right;\">5</td><td style = \"text-align: left;\">Polygon</td><td style = \"text-align: left;\">Yanqing District</td></tr><tr><td class = \"rowNumber\" style = \"font-weight: bold; text-align: right;\">6</td><td style = \"text-align: right;\">6</td><td style = \"text-align: left;\">Polygon</td><td style = \"text-align: left;\">Tongzhou District</td></tr><tr><td class = \"rowNumber\" style = \"font-weight: bold; text-align: right;\">7</td><td style = \"text-align: right;\">7</td><td style = \"text-align: left;\">Polygon</td><td style = \"text-align: left;\">Shunyi District</td></tr><tr><td class = \"rowNumber\" style = \"font-weight: bold; text-align: right;\">8</td><td style = \"text-align: right;\">8</td><td style = \"text-align: left;\">Polygon</td><td style = \"text-align: left;\">Pinggu District</td></tr><tr><td class = \"rowNumber\" style = \"font-weight: bold; text-align: right;\">9</td><td style = \"text-align: right;\">9</td><td style = \"text-align: left;\">Polygon</td><td style = \"text-align: left;\">Miyun District</td></tr><tr><td class = \"rowNumber\" style = \"font-weight: bold; text-align: right;\">10</td><td style = \"text-align: right;\">10</td><td style = \"text-align: left;\">Polygon</td><td style = \"text-align: left;\">Mentougou District</td></tr><tr><td class = \"rowNumber\" style = \"font-weight: bold; text-align: right;\">11</td><td style = \"text-align: right;\">11</td><td style = \"text-align: left;\">Polygon</td><td style = \"text-align: left;\">Huairou District</td></tr><tr><td class = \"rowNumber\" style = \"font-weight: bold; text-align: right;\">12</td><td style = \"text-align: right;\">12</td><td style = \"text-align: left;\">Polygon</td><td style = \"text-align: left;\">Fangshan District</td></tr><tr><td class = \"rowNumber\" style = \"font-weight: bold; text-align: right;\">13</td><td style = \"text-align: right;\">13</td><td style = \"text-align: left;\">Polygon</td><td style = \"text-align: left;\">Daxing District</td></tr><tr><td class = \"rowNumber\" style = \"font-weight: bold; text-align: right;\">14</td><td style = \"text-align: right;\">14</td><td style = \"text-align: left;\">Polygon</td><td style = \"text-align: left;\">Changping District</td></tr><tr><td class = \"rowNumber\" style = \"font-weight: bold; text-align: right;\">15</td><td style = \"text-align: right;\">15</td><td style = \"text-align: left;\">Polygon</td><td style = \"text-align: left;\">Xicheng District</td></tr><tr><td class = \"rowNumber\" style = \"font-weight: bold; text-align: right;\">16</td><td style = \"text-align: right;\">16</td><td style = \"text-align: left;\">Polygon</td><td style = \"text-align: left;\">Dongcheng District</td></tr></tbody></table></div>"
      ],
      "text/latex": [
       "\\begin{tabular}{r|ccc}\n",
       "\t& id & geometry & name\\\\\n",
       "\t\\hline\n",
       "\t& Int64 & Geometry & String\\\\\n",
       "\t\\hline\n",
       "\t1 & 1 & Polygon & Shijingshan District \\\\\n",
       "\t2 & 2 & Polygon & Haidian District \\\\\n",
       "\t3 & 3 & Polygon & Fengtai District \\\\\n",
       "\t4 & 4 & MultiPolygon & Chaoyang District \\\\\n",
       "\t5 & 5 & Polygon & Yanqing District \\\\\n",
       "\t6 & 6 & Polygon & Tongzhou District \\\\\n",
       "\t7 & 7 & Polygon & Shunyi District \\\\\n",
       "\t8 & 8 & Polygon & Pinggu District \\\\\n",
       "\t9 & 9 & Polygon & Miyun District \\\\\n",
       "\t10 & 10 & Polygon & Mentougou District \\\\\n",
       "\t11 & 11 & Polygon & Huairou District \\\\\n",
       "\t12 & 12 & Polygon & Fangshan District \\\\\n",
       "\t13 & 13 & Polygon & Daxing District \\\\\n",
       "\t14 & 14 & Polygon & Changping District \\\\\n",
       "\t15 & 15 & Polygon & Xicheng District \\\\\n",
       "\t16 & 16 & Polygon & Dongcheng District \\\\\n",
       "\\end{tabular}\n"
      ],
      "text/plain": [
       "\u001b[1m16×3 DataFrame\u001b[0m\n",
       "\u001b[1m Row \u001b[0m│\u001b[1m id    \u001b[0m\u001b[1m geometry     \u001b[0m\u001b[1m name                 \u001b[0m\n",
       "     │\u001b[90m Int64 \u001b[0m\u001b[90m Geometry     \u001b[0m\u001b[90m String               \u001b[0m\n",
       "─────┼───────────────────────────────────────────\n",
       "   1 │     1  Polygon       Shijingshan District\n",
       "   2 │     2  Polygon       Haidian District\n",
       "   3 │     3  Polygon       Fengtai District\n",
       "   4 │     4  MultiPolygon  Chaoyang District\n",
       "   5 │     5  Polygon       Yanqing District\n",
       "   6 │     6  Polygon       Tongzhou District\n",
       "   7 │     7  Polygon       Shunyi District\n",
       "   8 │     8  Polygon       Pinggu District\n",
       "   9 │     9  Polygon       Miyun District\n",
       "  10 │    10  Polygon       Mentougou District\n",
       "  11 │    11  Polygon       Huairou District\n",
       "  12 │    12  Polygon       Fangshan District\n",
       "  13 │    13  Polygon       Daxing District\n",
       "  14 │    14  Polygon       Changping District\n",
       "  15 │    15  Polygon       Xicheng District\n",
       "  16 │    16  Polygon       Dongcheng District"
      ]
     },
     "execution_count": 17,
     "metadata": {},
     "output_type": "execute_result"
    }
   ],
   "source": [
    "areas"
   ]
  },
  {
   "cell_type": "markdown",
   "metadata": {},
   "source": [
    "`aggregated_areas`\n",
    "________________\n",
    "\n",
    "Description:\n",
    "- each row represents population for a given area\n",
    "\n",
    "Columns:\n",
    "- `:id` - `:id` from DataFrame `areas` that references a unique area\n",
    "- `population` - population for a given area\n",
    "\n",
    "Returned by:\n",
    "- it is generated manually given DataFrame `areas` and additional input data (e.g. from census)\n",
    "\n",
    "Mutated by:\n",
    "- N/A\n",
    "\n",
    "Used as argument by:\n",
    "- `assign_areas_to_households!`"
   ]
  },
  {
   "cell_type": "code",
   "execution_count": 18,
   "metadata": {},
   "outputs": [
    {
     "data": {
      "text/html": [
       "<div><div style = \"float: left;\"><span>16×2 DataFrame</span></div><div style = \"clear: both;\"></div></div><div class = \"data-frame\" style = \"overflow-x: scroll;\"><table class = \"data-frame\" style = \"margin-bottom: 6px;\"><thead><tr class = \"header\"><th class = \"rowNumber\" style = \"font-weight: bold; text-align: right;\">Row</th><th style = \"text-align: left;\">id</th><th style = \"text-align: left;\">population</th></tr><tr class = \"subheader headerLastRow\"><th class = \"rowNumber\" style = \"font-weight: bold; text-align: right;\"></th><th title = \"Int64\" style = \"text-align: left;\">Int64</th><th title = \"Int64\" style = \"text-align: left;\">Int64</th></tr></thead><tbody><tr><td class = \"rowNumber\" style = \"font-weight: bold; text-align: right;\">1</td><td style = \"text-align: right;\">1</td><td style = \"text-align: right;\">568</td></tr><tr><td class = \"rowNumber\" style = \"font-weight: bold; text-align: right;\">2</td><td style = \"text-align: right;\">2</td><td style = \"text-align: right;\">3132</td></tr><tr><td class = \"rowNumber\" style = \"font-weight: bold; text-align: right;\">3</td><td style = \"text-align: right;\">3</td><td style = \"text-align: right;\">2019</td></tr><tr><td class = \"rowNumber\" style = \"font-weight: bold; text-align: right;\">4</td><td style = \"text-align: right;\">4</td><td style = \"text-align: right;\">3451</td></tr><tr><td class = \"rowNumber\" style = \"font-weight: bold; text-align: right;\">5</td><td style = \"text-align: right;\">5</td><td style = \"text-align: right;\">346</td></tr><tr><td class = \"rowNumber\" style = \"font-weight: bold; text-align: right;\">6</td><td style = \"text-align: right;\">6</td><td style = \"text-align: right;\">1840</td></tr><tr><td class = \"rowNumber\" style = \"font-weight: bold; text-align: right;\">7</td><td style = \"text-align: right;\">7</td><td style = \"text-align: right;\">1324</td></tr><tr><td class = \"rowNumber\" style = \"font-weight: bold; text-align: right;\">8</td><td style = \"text-align: right;\">8</td><td style = \"text-align: right;\">457</td></tr><tr><td class = \"rowNumber\" style = \"font-weight: bold; text-align: right;\">9</td><td style = \"text-align: right;\">9</td><td style = \"text-align: right;\">528</td></tr><tr><td class = \"rowNumber\" style = \"font-weight: bold; text-align: right;\">10</td><td style = \"text-align: right;\">10</td><td style = \"text-align: right;\">393</td></tr><tr><td class = \"rowNumber\" style = \"font-weight: bold; text-align: right;\">11</td><td style = \"text-align: right;\">11</td><td style = \"text-align: right;\">441</td></tr><tr><td class = \"rowNumber\" style = \"font-weight: bold; text-align: right;\">12</td><td style = \"text-align: right;\">12</td><td style = \"text-align: right;\">1313</td></tr><tr><td class = \"rowNumber\" style = \"font-weight: bold; text-align: right;\">13</td><td style = \"text-align: right;\">13</td><td style = \"text-align: right;\">1994</td></tr><tr><td class = \"rowNumber\" style = \"font-weight: bold; text-align: right;\">14</td><td style = \"text-align: right;\">14</td><td style = \"text-align: right;\">2269</td></tr><tr><td class = \"rowNumber\" style = \"font-weight: bold; text-align: right;\">15</td><td style = \"text-align: right;\">15</td><td style = \"text-align: right;\">1106</td></tr><tr><td class = \"rowNumber\" style = \"font-weight: bold; text-align: right;\">16</td><td style = \"text-align: right;\">16</td><td style = \"text-align: right;\">709</td></tr></tbody></table></div>"
      ],
      "text/latex": [
       "\\begin{tabular}{r|cc}\n",
       "\t& id & population\\\\\n",
       "\t\\hline\n",
       "\t& Int64 & Int64\\\\\n",
       "\t\\hline\n",
       "\t1 & 1 & 568 \\\\\n",
       "\t2 & 2 & 3132 \\\\\n",
       "\t3 & 3 & 2019 \\\\\n",
       "\t4 & 4 & 3451 \\\\\n",
       "\t5 & 5 & 346 \\\\\n",
       "\t6 & 6 & 1840 \\\\\n",
       "\t7 & 7 & 1324 \\\\\n",
       "\t8 & 8 & 457 \\\\\n",
       "\t9 & 9 & 528 \\\\\n",
       "\t10 & 10 & 393 \\\\\n",
       "\t11 & 11 & 441 \\\\\n",
       "\t12 & 12 & 1313 \\\\\n",
       "\t13 & 13 & 1994 \\\\\n",
       "\t14 & 14 & 2269 \\\\\n",
       "\t15 & 15 & 1106 \\\\\n",
       "\t16 & 16 & 709 \\\\\n",
       "\\end{tabular}\n"
      ],
      "text/plain": [
       "\u001b[1m16×2 DataFrame\u001b[0m\n",
       "\u001b[1m Row \u001b[0m│\u001b[1m id    \u001b[0m\u001b[1m population \u001b[0m\n",
       "     │\u001b[90m Int64 \u001b[0m\u001b[90m Int64      \u001b[0m\n",
       "─────┼───────────────────\n",
       "   1 │     1         568\n",
       "   2 │     2        3132\n",
       "   3 │     3        2019\n",
       "   4 │     4        3451\n",
       "   5 │     5         346\n",
       "   6 │     6        1840\n",
       "   7 │     7        1324\n",
       "   8 │     8         457\n",
       "   9 │     9         528\n",
       "  10 │    10         393\n",
       "  11 │    11         441\n",
       "  12 │    12        1313\n",
       "  13 │    13        1994\n",
       "  14 │    14        2269\n",
       "  15 │    15        1106\n",
       "  16 │    16         709"
      ]
     },
     "execution_count": 18,
     "metadata": {},
     "output_type": "execute_result"
    }
   ],
   "source": [
    "aggregated_areas"
   ]
  },
  {
   "cell_type": "markdown",
   "metadata": {},
   "source": [
    "`households`\n",
    "_____________\n",
    "\n",
    "Description:\n",
    "- Each row represents a unique combination of attributes of household\n",
    "\n",
    "Columns:\n",
    "- `id` - ID that represents a unique combination of attributes of individuals\n",
    "- different columns that represent the attributes of the household, in our example these are:\n",
    "    - `:hh_size`\n",
    "\n",
    "Returned by:\n",
    "- `generate_joint_distributions`\n",
    "\n",
    "Mutated by:\n",
    "- N/A\n",
    "\n",
    "Used as argument by:\n",
    "- `assign_individuals_to_households`"
   ]
  },
  {
   "cell_type": "code",
   "execution_count": 19,
   "metadata": {},
   "outputs": [
    {
     "data": {
      "text/html": [
       "<div><div style = \"float: left;\"><span>5×2 DataFrame</span></div><div style = \"clear: both;\"></div></div><div class = \"data-frame\" style = \"overflow-x: scroll;\"><table class = \"data-frame\" style = \"margin-bottom: 6px;\"><thead><tr class = \"header\"><th class = \"rowNumber\" style = \"font-weight: bold; text-align: right;\">Row</th><th style = \"text-align: left;\">id</th><th style = \"text-align: left;\">hh_size</th></tr><tr class = \"subheader headerLastRow\"><th class = \"rowNumber\" style = \"font-weight: bold; text-align: right;\"></th><th title = \"Int64\" style = \"text-align: left;\">Int64</th><th title = \"Int64\" style = \"text-align: left;\">Int64</th></tr></thead><tbody><tr><td class = \"rowNumber\" style = \"font-weight: bold; text-align: right;\">1</td><td style = \"text-align: right;\">1</td><td style = \"text-align: right;\">1</td></tr><tr><td class = \"rowNumber\" style = \"font-weight: bold; text-align: right;\">2</td><td style = \"text-align: right;\">2</td><td style = \"text-align: right;\">2</td></tr><tr><td class = \"rowNumber\" style = \"font-weight: bold; text-align: right;\">3</td><td style = \"text-align: right;\">3</td><td style = \"text-align: right;\">3</td></tr><tr><td class = \"rowNumber\" style = \"font-weight: bold; text-align: right;\">4</td><td style = \"text-align: right;\">4</td><td style = \"text-align: right;\">4</td></tr><tr><td class = \"rowNumber\" style = \"font-weight: bold; text-align: right;\">5</td><td style = \"text-align: right;\">5</td><td style = \"text-align: right;\">5</td></tr></tbody></table></div>"
      ],
      "text/latex": [
       "\\begin{tabular}{r|cc}\n",
       "\t& id & hh\\_size\\\\\n",
       "\t\\hline\n",
       "\t& Int64 & Int64\\\\\n",
       "\t\\hline\n",
       "\t1 & 1 & 1 \\\\\n",
       "\t2 & 2 & 2 \\\\\n",
       "\t3 & 3 & 3 \\\\\n",
       "\t4 & 4 & 4 \\\\\n",
       "\t5 & 5 & 5 \\\\\n",
       "\\end{tabular}\n"
      ],
      "text/plain": [
       "\u001b[1m5×2 DataFrame\u001b[0m\n",
       "\u001b[1m Row \u001b[0m│\u001b[1m id    \u001b[0m\u001b[1m hh_size \u001b[0m\n",
       "     │\u001b[90m Int64 \u001b[0m\u001b[90m Int64   \u001b[0m\n",
       "─────┼────────────────\n",
       "   1 │     1        1\n",
       "   2 │     2        2\n",
       "   3 │     3        3\n",
       "   4 │     4        4\n",
       "   5 │     5        5"
      ]
     },
     "execution_count": 19,
     "metadata": {},
     "output_type": "execute_result"
    }
   ],
   "source": [
    "households"
   ]
  },
  {
   "cell_type": "markdown",
   "metadata": {},
   "source": [
    "`aggregated_households`\n",
    "___________________\n",
    "\n",
    "Description:\n",
    "- Each row represents number of households with unique combination of attributes represented by `:id`.\n",
    "\n",
    "Columns:\n",
    "- `:id` - `:id` from DataFrame `households` that references a certain household type\n",
    "- `:population` - number of households with combination of attributes described by `:id`\n",
    "\n",
    "Returned by:\n",
    "- `generate_joint_distributions`\n",
    "- can be also generated manually (like in our case)\n",
    "\n",
    "Mutated by:\n",
    "- N/A\n",
    "\n",
    "Used as argument by:\n",
    "- `assign_individuals_to_households`"
   ]
  },
  {
   "cell_type": "code",
   "execution_count": 20,
   "metadata": {},
   "outputs": [
    {
     "data": {
      "text/html": [
       "<div><div style = \"float: left;\"><span>5×2 DataFrame</span></div><div style = \"clear: both;\"></div></div><div class = \"data-frame\" style = \"overflow-x: scroll;\"><table class = \"data-frame\" style = \"margin-bottom: 6px;\"><thead><tr class = \"header\"><th class = \"rowNumber\" style = \"font-weight: bold; text-align: right;\">Row</th><th style = \"text-align: left;\">id</th><th style = \"text-align: left;\">population</th></tr><tr class = \"subheader headerLastRow\"><th class = \"rowNumber\" style = \"font-weight: bold; text-align: right;\"></th><th title = \"Int64\" style = \"text-align: left;\">Int64</th><th title = \"Int64\" style = \"text-align: left;\">Int64</th></tr></thead><tbody><tr><td class = \"rowNumber\" style = \"font-weight: bold; text-align: right;\">1</td><td style = \"text-align: right;\">1</td><td style = \"text-align: right;\">2461</td></tr><tr><td class = \"rowNumber\" style = \"font-weight: bold; text-align: right;\">2</td><td style = \"text-align: right;\">2</td><td style = \"text-align: right;\">2724</td></tr><tr><td class = \"rowNumber\" style = \"font-weight: bold; text-align: right;\">3</td><td style = \"text-align: right;\">3</td><td style = \"text-align: right;\">1786</td></tr><tr><td class = \"rowNumber\" style = \"font-weight: bold; text-align: right;\">4</td><td style = \"text-align: right;\">4</td><td style = \"text-align: right;\">741</td></tr><tr><td class = \"rowNumber\" style = \"font-weight: bold; text-align: right;\">5</td><td style = \"text-align: right;\">5</td><td style = \"text-align: right;\">518</td></tr></tbody></table></div>"
      ],
      "text/latex": [
       "\\begin{tabular}{r|cc}\n",
       "\t& id & population\\\\\n",
       "\t\\hline\n",
       "\t& Int64 & Int64\\\\\n",
       "\t\\hline\n",
       "\t1 & 1 & 2461 \\\\\n",
       "\t2 & 2 & 2724 \\\\\n",
       "\t3 & 3 & 1786 \\\\\n",
       "\t4 & 4 & 741 \\\\\n",
       "\t5 & 5 & 518 \\\\\n",
       "\\end{tabular}\n"
      ],
      "text/plain": [
       "\u001b[1m5×2 DataFrame\u001b[0m\n",
       "\u001b[1m Row \u001b[0m│\u001b[1m id    \u001b[0m\u001b[1m population \u001b[0m\n",
       "     │\u001b[90m Int64 \u001b[0m\u001b[90m Int64      \u001b[0m\n",
       "─────┼───────────────────\n",
       "   1 │     1        2461\n",
       "   2 │     2        2724\n",
       "   3 │     3        1786\n",
       "   4 │     4         741\n",
       "   5 │     5         518"
      ]
     },
     "execution_count": 20,
     "metadata": {},
     "output_type": "execute_result"
    }
   ],
   "source": [
    "aggregated_households"
   ]
  },
  {
   "cell_type": "markdown",
   "metadata": {},
   "source": [
    "### Optional output dataframes"
   ]
  },
  {
   "cell_type": "markdown",
   "metadata": {},
   "source": [
    "`unassigned_individuals`\n",
    "___________\n",
    "\n",
    "Description: \n",
    "- Mutation of `aggegated_individuals`. Represents individuals that were not assigned to any of the households\n",
    "\n",
    "Columns: \n",
    "- `:id` - `:id` from DataFrame `individuals` that represents unique combination of attribtues of individuals\n",
    "- `:population` - number of individuals with combination of attributes with `:id` that were not assigned to any household\n",
    "\n",
    "Returned by:\n",
    "- `assign_individuals_to_households` if optional parameter `return_unassigned` is set to `true`\n",
    "\n",
    "Mutated by:\n",
    "- N/A\n",
    "\n",
    "Used as argument by:\n",
    "- N/A"
   ]
  },
  {
   "cell_type": "code",
   "execution_count": 21,
   "metadata": {},
   "outputs": [
    {
     "data": {
      "text/html": [
       "<div><div style = \"float: left;\"><span>468×2 DataFrame</span></div><div style = \"float: right;\"><span style = \"font-style: italic;\">443 rows omitted</span></div><div style = \"clear: both;\"></div></div><div class = \"data-frame\" style = \"overflow-x: scroll;\"><table class = \"data-frame\" style = \"margin-bottom: 6px;\"><thead><tr class = \"header\"><th class = \"rowNumber\" style = \"font-weight: bold; text-align: right;\">Row</th><th style = \"text-align: left;\">id</th><th style = \"text-align: left;\">population</th></tr><tr class = \"subheader headerLastRow\"><th class = \"rowNumber\" style = \"font-weight: bold; text-align: right;\"></th><th title = \"Int64\" style = \"text-align: left;\">Int64</th><th title = \"Int64\" style = \"text-align: left;\">Int64</th></tr></thead><tbody><tr><td class = \"rowNumber\" style = \"font-weight: bold; text-align: right;\">1</td><td style = \"text-align: right;\">2</td><td style = \"text-align: right;\">3</td></tr><tr><td class = \"rowNumber\" style = \"font-weight: bold; text-align: right;\">2</td><td style = \"text-align: right;\">5</td><td style = \"text-align: right;\">1</td></tr><tr><td class = \"rowNumber\" style = \"font-weight: bold; text-align: right;\">3</td><td style = \"text-align: right;\">6</td><td style = \"text-align: right;\">3</td></tr><tr><td class = \"rowNumber\" style = \"font-weight: bold; text-align: right;\">4</td><td style = \"text-align: right;\">9</td><td style = \"text-align: right;\">21</td></tr><tr><td class = \"rowNumber\" style = \"font-weight: bold; text-align: right;\">5</td><td style = \"text-align: right;\">10</td><td style = \"text-align: right;\">8</td></tr><tr><td class = \"rowNumber\" style = \"font-weight: bold; text-align: right;\">6</td><td style = \"text-align: right;\">11</td><td style = \"text-align: right;\">3</td></tr><tr><td class = \"rowNumber\" style = \"font-weight: bold; text-align: right;\">7</td><td style = \"text-align: right;\">12</td><td style = \"text-align: right;\">2</td></tr><tr><td class = \"rowNumber\" style = \"font-weight: bold; text-align: right;\">8</td><td style = \"text-align: right;\">13</td><td style = \"text-align: right;\">23</td></tr><tr><td class = \"rowNumber\" style = \"font-weight: bold; text-align: right;\">9</td><td style = \"text-align: right;\">14</td><td style = \"text-align: right;\">3</td></tr><tr><td class = \"rowNumber\" style = \"font-weight: bold; text-align: right;\">10</td><td style = \"text-align: right;\">15</td><td style = \"text-align: right;\">2</td></tr><tr><td class = \"rowNumber\" style = \"font-weight: bold; text-align: right;\">11</td><td style = \"text-align: right;\">17</td><td style = \"text-align: right;\">17</td></tr><tr><td class = \"rowNumber\" style = \"font-weight: bold; text-align: right;\">12</td><td style = \"text-align: right;\">18</td><td style = \"text-align: right;\">7</td></tr><tr><td class = \"rowNumber\" style = \"font-weight: bold; text-align: right;\">13</td><td style = \"text-align: right;\">19</td><td style = \"text-align: right;\">2</td></tr><tr><td style = \"text-align: right;\">&vellip;</td><td style = \"text-align: right;\">&vellip;</td><td style = \"text-align: right;\">&vellip;</td></tr><tr><td class = \"rowNumber\" style = \"font-weight: bold; text-align: right;\">457</td><td style = \"text-align: right;\">556</td><td style = \"text-align: right;\">1</td></tr><tr><td class = \"rowNumber\" style = \"font-weight: bold; text-align: right;\">458</td><td style = \"text-align: right;\">557</td><td style = \"text-align: right;\">5</td></tr><tr><td class = \"rowNumber\" style = \"font-weight: bold; text-align: right;\">459</td><td style = \"text-align: right;\">558</td><td style = \"text-align: right;\">3</td></tr><tr><td class = \"rowNumber\" style = \"font-weight: bold; text-align: right;\">460</td><td style = \"text-align: right;\">560</td><td style = \"text-align: right;\">1</td></tr><tr><td class = \"rowNumber\" style = \"font-weight: bold; text-align: right;\">461</td><td style = \"text-align: right;\">561</td><td style = \"text-align: right;\">6</td></tr><tr><td class = \"rowNumber\" style = \"font-weight: bold; text-align: right;\">462</td><td style = \"text-align: right;\">562</td><td style = \"text-align: right;\">12</td></tr><tr><td class = \"rowNumber\" style = \"font-weight: bold; text-align: right;\">463</td><td style = \"text-align: right;\">563</td><td style = \"text-align: right;\">11</td></tr><tr><td class = \"rowNumber\" style = \"font-weight: bold; text-align: right;\">464</td><td style = \"text-align: right;\">564</td><td style = \"text-align: right;\">9</td></tr><tr><td class = \"rowNumber\" style = \"font-weight: bold; text-align: right;\">465</td><td style = \"text-align: right;\">565</td><td style = \"text-align: right;\">16</td></tr><tr><td class = \"rowNumber\" style = \"font-weight: bold; text-align: right;\">466</td><td style = \"text-align: right;\">566</td><td style = \"text-align: right;\">16</td></tr><tr><td class = \"rowNumber\" style = \"font-weight: bold; text-align: right;\">467</td><td style = \"text-align: right;\">567</td><td style = \"text-align: right;\">10</td></tr><tr><td class = \"rowNumber\" style = \"font-weight: bold; text-align: right;\">468</td><td style = \"text-align: right;\">568</td><td style = \"text-align: right;\">8</td></tr></tbody></table></div>"
      ],
      "text/latex": [
       "\\begin{tabular}{r|cc}\n",
       "\t& id & population\\\\\n",
       "\t\\hline\n",
       "\t& Int64 & Int64\\\\\n",
       "\t\\hline\n",
       "\t1 & 2 & 3 \\\\\n",
       "\t2 & 5 & 1 \\\\\n",
       "\t3 & 6 & 3 \\\\\n",
       "\t4 & 9 & 21 \\\\\n",
       "\t5 & 10 & 8 \\\\\n",
       "\t6 & 11 & 3 \\\\\n",
       "\t7 & 12 & 2 \\\\\n",
       "\t8 & 13 & 23 \\\\\n",
       "\t9 & 14 & 3 \\\\\n",
       "\t10 & 15 & 2 \\\\\n",
       "\t11 & 17 & 17 \\\\\n",
       "\t12 & 18 & 7 \\\\\n",
       "\t13 & 19 & 2 \\\\\n",
       "\t14 & 20 & 2 \\\\\n",
       "\t15 & 21 & 20 \\\\\n",
       "\t16 & 22 & 2 \\\\\n",
       "\t17 & 23 & 1 \\\\\n",
       "\t18 & 24 & 1 \\\\\n",
       "\t19 & 25 & 17 \\\\\n",
       "\t20 & 26 & 7 \\\\\n",
       "\t21 & 27 & 2 \\\\\n",
       "\t22 & 28 & 2 \\\\\n",
       "\t23 & 29 & 18 \\\\\n",
       "\t24 & 31 & 1 \\\\\n",
       "\t25 & 33 & 10 \\\\\n",
       "\t26 & 34 & 6 \\\\\n",
       "\t27 & 35 & 1 \\\\\n",
       "\t28 & 36 & 2 \\\\\n",
       "\t29 & 37 & 15 \\\\\n",
       "\t30 & 38 & 2 \\\\\n",
       "\t$\\dots$ & $\\dots$ & $\\dots$ \\\\\n",
       "\\end{tabular}\n"
      ],
      "text/plain": [
       "\u001b[1m468×2 DataFrame\u001b[0m\n",
       "\u001b[1m Row \u001b[0m│\u001b[1m id    \u001b[0m\u001b[1m population \u001b[0m\n",
       "     │\u001b[90m Int64 \u001b[0m\u001b[90m Int64      \u001b[0m\n",
       "─────┼───────────────────\n",
       "   1 │     2           3\n",
       "   2 │     5           1\n",
       "   3 │     6           3\n",
       "   4 │     9          21\n",
       "   5 │    10           8\n",
       "   6 │    11           3\n",
       "   7 │    12           2\n",
       "   8 │    13          23\n",
       "   9 │    14           3\n",
       "  10 │    15           2\n",
       "  11 │    17          17\n",
       "  ⋮  │   ⋮        ⋮\n",
       " 459 │   558           3\n",
       " 460 │   560           1\n",
       " 461 │   561           6\n",
       " 462 │   562          12\n",
       " 463 │   563          11\n",
       " 464 │   564           9\n",
       " 465 │   565          16\n",
       " 466 │   566          16\n",
       " 467 │   567          10\n",
       " 468 │   568           8\n",
       "\u001b[36m         447 rows omitted\u001b[0m"
      ]
     },
     "execution_count": 21,
     "metadata": {},
     "output_type": "execute_result"
    }
   ],
   "source": [
    "unassigned1[\"unassigned_individuals\"]"
   ]
  },
  {
   "cell_type": "markdown",
   "metadata": {},
   "source": [
    "`unassigned_households`\n",
    "___________\n",
    "\n",
    "Description: \n",
    "- Mutation of `aggregated_households`. Represents households to whom no individuals were allocated.\n",
    "\n",
    "Columns: \n",
    "- `:id` - `:id` from DataFrame `households` that represents unique combination of attribtues of household\n",
    "- `:population` - number of households with combination of attributes represented by `:id` with no individuals assigned\n",
    "\n",
    "Returned by:\n",
    "- `assign_individuals_to_households` if optional parameter `return_unassigned` is set to `true`\n",
    "\n",
    "Mutated by:\n",
    "- N/A\n",
    "\n",
    "Used as argument by:\n",
    "- N/A"
   ]
  },
  {
   "cell_type": "code",
   "execution_count": 22,
   "metadata": {},
   "outputs": [
    {
     "data": {
      "text/html": [
       "<div><div style = \"float: left;\"><span>0×2 DataFrame</span></div><div style = \"clear: both;\"></div></div><div class = \"data-frame\" style = \"overflow-x: scroll;\"><table class = \"data-frame\" style = \"margin-bottom: 6px;\"><thead><tr class = \"header\"><th class = \"rowNumber\" style = \"font-weight: bold; text-align: right;\">Row</th><th style = \"text-align: left;\">id</th><th style = \"text-align: left;\">population</th></tr><tr class = \"subheader headerLastRow\"><th class = \"rowNumber\" style = \"font-weight: bold; text-align: right;\"></th><th title = \"Int64\" style = \"text-align: left;\">Int64</th><th title = \"Int64\" style = \"text-align: left;\">Int64</th></tr></thead><tbody></tbody></table></div>"
      ],
      "text/latex": [
       "\\begin{tabular}{r|cc}\n",
       "\t& id & population\\\\\n",
       "\t\\hline\n",
       "\t& Int64 & Int64\\\\\n",
       "\t\\hline\n",
       "\\end{tabular}\n"
      ],
      "text/plain": [
       "\u001b[1m0×2 DataFrame\u001b[0m\n",
       "\u001b[1m Row \u001b[0m│\u001b[1m id    \u001b[0m\u001b[1m population \u001b[0m\n",
       "     │\u001b[90m Int64 \u001b[0m\u001b[90m Int64      \u001b[0m\n",
       "─────┴───────────────────"
      ]
     },
     "execution_count": 22,
     "metadata": {},
     "output_type": "execute_result"
    }
   ],
   "source": [
    "unassigned1[\"unassigned_households\"] #in our case all areas were assigned so dataframe is empty"
   ]
  },
  {
   "cell_type": "markdown",
   "metadata": {},
   "source": [
    "`unassigned_areas`\n",
    "____________\n",
    "\n",
    "Description: \n",
    "- Mutation of `aggregated_areas`. Represents areas for whom estimated population does not match target population.\n",
    "- Examples: \n",
    "    - if the target population for an area is 100, but the total number of individuals in households in this area is 98, the `:population` value is 2\n",
    "    - if the target population for an area is 100, but the total number of individuals in households in this area is 105, the `:population` value is -5\n",
    "\n",
    "Columns: \n",
    "- `:id` - `:id` from DataFrame `areas` that represents the areas for which locations of households are estimated\n",
    "- `:population` - number of households with combination of attributes represented by `:id` that were not assigned any individuals\n",
    "\n",
    "Returned by:\n",
    "- `assign_areas_to_households!` if optional parameter `return_unassigned` is set to `true`\n",
    "\n",
    "Mutated by:\n",
    "- N/A\n",
    "\n",
    "Used as argument by:\n",
    "- N/A"
   ]
  },
  {
   "cell_type": "code",
   "execution_count": 23,
   "metadata": {},
   "outputs": [
    {
     "data": {
      "text/html": [
       "<div><div style = \"float: left;\"><span>1×9 DataFrame</span></div><div style = \"clear: both;\"></div></div><div class = \"data-frame\" style = \"overflow-x: scroll;\"><table class = \"data-frame\" style = \"margin-bottom: 6px;\"><thead><tr class = \"header\"><th class = \"rowNumber\" style = \"font-weight: bold; text-align: right;\">Row</th><th style = \"text-align: left;\">id</th><th style = \"text-align: left;\">geometry</th><th style = \"text-align: left;\">name</th><th style = \"text-align: left;\">population</th><th style = \"text-align: left;\">target_population</th><th style = \"text-align: left;\">max_lon</th><th style = \"text-align: left;\">min_lon</th><th style = \"text-align: left;\">max_lat</th><th style = \"text-align: left;\">min_lat</th></tr><tr class = \"subheader headerLastRow\"><th class = \"rowNumber\" style = \"font-weight: bold; text-align: right;\"></th><th title = \"Int64\" style = \"text-align: left;\">Int64</th><th title = \"Union{Missing, GeoJSON.Geometry}\" style = \"text-align: left;\">Geometry</th><th title = \"String\" style = \"text-align: left;\">String</th><th title = \"Int64\" style = \"text-align: left;\">Int64</th><th title = \"Int64\" style = \"text-align: left;\">Int64</th><th title = \"Float64\" style = \"text-align: left;\">Float64</th><th title = \"Float64\" style = \"text-align: left;\">Float64</th><th title = \"Float64\" style = \"text-align: left;\">Float64</th><th title = \"Float64\" style = \"text-align: left;\">Float64</th></tr></thead><tbody><tr><td class = \"rowNumber\" style = \"font-weight: bold; text-align: right;\">1</td><td style = \"text-align: right;\">4</td><td style = \"text-align: left;\">MultiPolygon</td><td style = \"text-align: left;\">Chaoyang District</td><td style = \"text-align: right;\">3451</td><td style = \"text-align: right;\">19</td><td style = \"text-align: right;\">116.639</td><td style = \"text-align: right;\">116.345</td><td style = \"text-align: right;\">40.1101</td><td style = \"text-align: right;\">39.8083</td></tr></tbody></table></div>"
      ],
      "text/latex": [
       "\\begin{tabular}{r|ccccccc}\n",
       "\t& id & geometry & name & population & target\\_population & max\\_lon & \\\\\n",
       "\t\\hline\n",
       "\t& Int64 & Geometry & String & Int64 & Int64 & Float64 & \\\\\n",
       "\t\\hline\n",
       "\t1 & 4 & MultiPolygon & Chaoyang District & 3451 & 19 & 116.639 & $\\dots$ \\\\\n",
       "\\end{tabular}\n"
      ],
      "text/plain": [
       "\u001b[1m1×9 DataFrame\u001b[0m\n",
       "\u001b[1m Row \u001b[0m│\u001b[1m id    \u001b[0m\u001b[1m geometry     \u001b[0m\u001b[1m name              \u001b[0m\u001b[1m population \u001b[0m\u001b[1m target_population \u001b[0m\u001b[1m \u001b[0m ⋯\n",
       "     │\u001b[90m Int64 \u001b[0m\u001b[90m Geometry     \u001b[0m\u001b[90m String            \u001b[0m\u001b[90m Int64      \u001b[0m\u001b[90m Int64             \u001b[0m\u001b[90m \u001b[0m ⋯\n",
       "─────┼──────────────────────────────────────────────────────────────────────────\n",
       "   1 │     4  MultiPolygon  Chaoyang District        3451                 19   ⋯\n",
       "\u001b[36m                                                               4 columns omitted\u001b[0m"
      ]
     },
     "execution_count": 23,
     "metadata": {},
     "output_type": "execute_result"
    }
   ],
   "source": [
    "unassigned2[\"unassigned_areas\"] #in our case 14 people (target population) were not assigned "
   ]
  },
  {
   "cell_type": "markdown",
   "metadata": {},
   "source": [
    "`disaggregated_unassigned_households`\n",
    "________\n",
    "\n",
    "Description:\n",
    "- Represents households to whom coordinates were not assigned. \n",
    "- Filtered rows of `disaggregated_households` for which `:lat`, `:lon` are equal to 0 after the `assign_areas_to_households!` is performed.\n",
    "\n",
    "Columns:\n",
    "- same as in `disaggragated_households`\n",
    "\n",
    "Returned by:\n",
    "- `assign_areas_to_households!` if optional parameter `return_unassigned` is set to `true`\n",
    "\n",
    "Mutated by:\n",
    "- N/A\n",
    "\n",
    "Used as argument by:\n",
    "- N/A"
   ]
  },
  {
   "cell_type": "code",
   "execution_count": 24,
   "metadata": {},
   "outputs": [
    {
     "data": {
      "text/html": [
       "<div><div style = \"float: left;\"><span>0×12 DataFrame</span></div><div style = \"clear: both;\"></div></div><div class = \"data-frame\" style = \"overflow-x: scroll;\"><table class = \"data-frame\" style = \"margin-bottom: 6px;\"><thead><tr class = \"header\"><th class = \"rowNumber\" style = \"font-weight: bold; text-align: right;\">Row</th><th style = \"text-align: left;\">id</th><th style = \"text-align: left;\">hh_attr_id</th><th style = \"text-align: left;\">hh_size</th><th style = \"text-align: left;\">individuals_allocated</th><th style = \"text-align: left;\">head_id</th><th style = \"text-align: left;\">partner_id</th><th style = \"text-align: left;\">child1_id</th><th style = \"text-align: left;\">child2_id</th><th style = \"text-align: left;\">child3_id</th><th style = \"text-align: left;\">lat</th><th style = \"text-align: left;\">lon</th><th style = \"text-align: left;\">area_id</th></tr><tr class = \"subheader headerLastRow\"><th class = \"rowNumber\" style = \"font-weight: bold; text-align: right;\"></th><th title = \"Int64\" style = \"text-align: left;\">Int64</th><th title = \"Int64\" style = \"text-align: left;\">Int64</th><th title = \"Int64\" style = \"text-align: left;\">Int64</th><th title = \"Bool\" style = \"text-align: left;\">Bool</th><th title = \"Int64\" style = \"text-align: left;\">Int64</th><th title = \"Int64\" style = \"text-align: left;\">Int64</th><th title = \"Int64\" style = \"text-align: left;\">Int64</th><th title = \"Int64\" style = \"text-align: left;\">Int64</th><th title = \"Int64\" style = \"text-align: left;\">Int64</th><th title = \"Float64\" style = \"text-align: left;\">Float64</th><th title = \"Float64\" style = \"text-align: left;\">Float64</th><th title = \"Int64\" style = \"text-align: left;\">Int64</th></tr></thead><tbody></tbody></table></div>"
      ],
      "text/latex": [
       "\\begin{tabular}{r|cccccccc}\n",
       "\t& id & hh\\_attr\\_id & hh\\_size & individuals\\_allocated & head\\_id & partner\\_id & child1\\_id & \\\\\n",
       "\t\\hline\n",
       "\t& Int64 & Int64 & Int64 & Bool & Int64 & Int64 & Int64 & \\\\\n",
       "\t\\hline\n",
       "\\end{tabular}\n"
      ],
      "text/plain": [
       "\u001b[1m0×12 DataFrame\u001b[0m\n",
       "\u001b[1m Row \u001b[0m│\u001b[1m id    \u001b[0m\u001b[1m hh_attr_id \u001b[0m\u001b[1m hh_size \u001b[0m\u001b[1m individuals_allocated \u001b[0m\u001b[1m head_id \u001b[0m\u001b[1m partner_id \u001b[0m\u001b[1m\u001b[0m ⋯\n",
       "     │\u001b[90m Int64 \u001b[0m\u001b[90m Int64      \u001b[0m\u001b[90m Int64   \u001b[0m\u001b[90m Bool                  \u001b[0m\u001b[90m Int64   \u001b[0m\u001b[90m Int64      \u001b[0m\u001b[90m\u001b[0m ⋯\n",
       "─────┴──────────────────────────────────────────────────────────────────────────\n",
       "\u001b[36m                                                               6 columns omitted\u001b[0m"
      ]
     },
     "execution_count": 24,
     "metadata": {},
     "output_type": "execute_result"
    }
   ],
   "source": [
    "unassigned2[\"disaggregated_unassigned_households\"] #in our case all households were assigned so dataframe is empty"
   ]
  }
 ],
 "metadata": {
  "kernelspec": {
   "display_name": "Julia 1.8.5",
   "language": "julia",
   "name": "julia-1.8"
  },
  "language_info": {
   "file_extension": ".jl",
   "mimetype": "application/julia",
   "name": "julia",
   "version": "1.8.5"
  }
 },
 "nbformat": 4,
 "nbformat_minor": 2
}
