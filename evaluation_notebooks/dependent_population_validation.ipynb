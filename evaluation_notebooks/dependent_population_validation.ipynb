{
 "cells": [
  {
   "cell_type": "code",
   "execution_count": 44,
   "metadata": {},
   "outputs": [
    {
     "name": "stderr",
     "output_type": "stream",
     "text": [
      "WARNING: replacing module SyntheticPopulation.\n"
     ]
    }
   ],
   "source": [
    "include(\"../src/SyntheticPopulation.jl\")\n",
    "include(\"utils.jl\")\n",
    "using .SyntheticPopulation\n",
    "using DataFrames\n",
    "using StatsBase"
   ]
  },
  {
   "attachments": {},
   "cell_type": "markdown",
   "metadata": {},
   "source": [
    "# Summary:\n",
    "Sample-free IPF algorithm is not efficient for creating joint distributions of the attributes that are highly dependent."
   ]
  },
  {
   "attachments": {},
   "cell_type": "markdown",
   "metadata": {},
   "source": [
    "# 1. Population with dependent variables"
   ]
  },
  {
   "attachments": {},
   "cell_type": "markdown",
   "metadata": {},
   "source": [
    "### 1.1. Generate target population with dependent variables\n",
    "First we generate target population that we'll try to synthesize using available algorithms. The variables marital status and income are highly dependent on sex."
   ]
  },
  {
   "cell_type": "code",
   "execution_count": 45,
   "metadata": {
    "scrolled": false
   },
   "outputs": [
    {
     "data": {
      "text/html": [
       "<div><div style = \"float: left;\"><span>526×5 DataFrame</span></div><div style = \"float: right;\"><span style = \"font-style: italic;\">501 rows omitted</span></div><div style = \"clear: both;\"></div></div><div class = \"data-frame\" style = \"overflow-x: scroll;\"><table class = \"data-frame\" style = \"margin-bottom: 6px;\"><thead><tr class = \"header\"><th class = \"rowNumber\" style = \"font-weight: bold; text-align: right;\">Row</th><th style = \"text-align: left;\">AGE</th><th style = \"text-align: left;\">MARITAL_STATUS</th><th style = \"text-align: left;\">SEX</th><th style = \"text-align: left;\">INCOME</th><th style = \"text-align: left;\">population</th></tr><tr class = \"subheader headerLastRow\"><th class = \"rowNumber\" style = \"font-weight: bold; text-align: right;\"></th><th title = \"Int64\" style = \"text-align: left;\">Int64</th><th title = \"Union{Missing, String}\" style = \"text-align: left;\">String?</th><th title = \"Char\" style = \"text-align: left;\">Char</th><th title = \"Union{Missing, Int64}\" style = \"text-align: left;\">Int64?</th><th title = \"Int64\" style = \"text-align: left;\">Int64</th></tr></thead><tbody><tr><td class = \"rowNumber\" style = \"font-weight: bold; text-align: right;\">1</td><td style = \"text-align: right;\">5</td><td style = \"font-style: italic; text-align: left;\">missing</td><td style = \"text-align: left;\">F</td><td style = \"font-style: italic; text-align: right;\">missing</td><td style = \"text-align: right;\">9993</td></tr><tr><td class = \"rowNumber\" style = \"font-weight: bold; text-align: right;\">2</td><td style = \"text-align: right;\">5</td><td style = \"font-style: italic; text-align: left;\">missing</td><td style = \"text-align: left;\">M</td><td style = \"font-style: italic; text-align: right;\">missing</td><td style = \"text-align: right;\">9928</td></tr><tr><td class = \"rowNumber\" style = \"font-weight: bold; text-align: right;\">3</td><td style = \"text-align: right;\">10</td><td style = \"font-style: italic; text-align: left;\">missing</td><td style = \"text-align: left;\">F</td><td style = \"font-style: italic; text-align: right;\">missing</td><td style = \"text-align: right;\">9975</td></tr><tr><td class = \"rowNumber\" style = \"font-weight: bold; text-align: right;\">4</td><td style = \"text-align: right;\">10</td><td style = \"font-style: italic; text-align: left;\">missing</td><td style = \"text-align: left;\">M</td><td style = \"font-style: italic; text-align: right;\">missing</td><td style = \"text-align: right;\">9947</td></tr><tr><td class = \"rowNumber\" style = \"font-weight: bold; text-align: right;\">5</td><td style = \"text-align: right;\">15</td><td style = \"font-style: italic; text-align: left;\">missing</td><td style = \"text-align: left;\">F</td><td style = \"font-style: italic; text-align: right;\">missing</td><td style = \"text-align: right;\">9994</td></tr><tr><td class = \"rowNumber\" style = \"font-weight: bold; text-align: right;\">6</td><td style = \"text-align: right;\">15</td><td style = \"font-style: italic; text-align: left;\">missing</td><td style = \"text-align: left;\">M</td><td style = \"font-style: italic; text-align: right;\">missing</td><td style = \"text-align: right;\">10163</td></tr><tr><td class = \"rowNumber\" style = \"font-weight: bold; text-align: right;\">7</td><td style = \"text-align: right;\">20</td><td style = \"text-align: left;\">Divorced</td><td style = \"text-align: left;\">F</td><td style = \"text-align: right;\">40000</td><td style = \"text-align: right;\">279</td></tr><tr><td class = \"rowNumber\" style = \"font-weight: bold; text-align: right;\">8</td><td style = \"text-align: right;\">20</td><td style = \"text-align: left;\">Divorced</td><td style = \"text-align: left;\">F</td><td style = \"text-align: right;\">50000</td><td style = \"text-align: right;\">2686</td></tr><tr><td class = \"rowNumber\" style = \"font-weight: bold; text-align: right;\">9</td><td style = \"text-align: right;\">20</td><td style = \"text-align: left;\">Divorced</td><td style = \"text-align: left;\">M</td><td style = \"text-align: right;\">40000</td><td style = \"text-align: right;\">392</td></tr><tr><td class = \"rowNumber\" style = \"font-weight: bold; text-align: right;\">10</td><td style = \"text-align: right;\">20</td><td style = \"text-align: left;\">Divorced</td><td style = \"text-align: left;\">M</td><td style = \"text-align: right;\">50000</td><td style = \"text-align: right;\">4067</td></tr><tr><td class = \"rowNumber\" style = \"font-weight: bold; text-align: right;\">11</td><td style = \"text-align: right;\">20</td><td style = \"text-align: left;\">Married</td><td style = \"text-align: left;\">F</td><td style = \"text-align: right;\">40000</td><td style = \"text-align: right;\">444</td></tr><tr><td class = \"rowNumber\" style = \"font-weight: bold; text-align: right;\">12</td><td style = \"text-align: right;\">20</td><td style = \"text-align: left;\">Married</td><td style = \"text-align: left;\">F</td><td style = \"text-align: right;\">50000</td><td style = \"text-align: right;\">4107</td></tr><tr><td class = \"rowNumber\" style = \"font-weight: bold; text-align: right;\">13</td><td style = \"text-align: right;\">20</td><td style = \"text-align: left;\">Married</td><td style = \"text-align: left;\">M</td><td style = \"text-align: right;\">40000</td><td style = \"text-align: right;\">255</td></tr><tr><td style = \"text-align: right;\">&vellip;</td><td style = \"text-align: right;\">&vellip;</td><td style = \"text-align: right;\">&vellip;</td><td style = \"text-align: right;\">&vellip;</td><td style = \"text-align: right;\">&vellip;</td><td style = \"text-align: right;\">&vellip;</td></tr><tr><td class = \"rowNumber\" style = \"font-weight: bold; text-align: right;\">515</td><td style = \"text-align: right;\">20</td><td style = \"text-align: left;\">Divorced</td><td style = \"text-align: left;\">M</td><td style = \"text-align: right;\">80000</td><td style = \"text-align: right;\">0</td></tr><tr><td class = \"rowNumber\" style = \"font-weight: bold; text-align: right;\">516</td><td style = \"text-align: right;\">25</td><td style = \"text-align: left;\">Divorced</td><td style = \"text-align: left;\">M</td><td style = \"text-align: right;\">80000</td><td style = \"text-align: right;\">0</td></tr><tr><td class = \"rowNumber\" style = \"font-weight: bold; text-align: right;\">517</td><td style = \"text-align: right;\">20</td><td style = \"text-align: left;\">Widowed</td><td style = \"text-align: left;\">M</td><td style = \"text-align: right;\">80000</td><td style = \"text-align: right;\">0</td></tr><tr><td class = \"rowNumber\" style = \"font-weight: bold; text-align: right;\">518</td><td style = \"text-align: right;\">25</td><td style = \"text-align: left;\">Widowed</td><td style = \"text-align: left;\">M</td><td style = \"text-align: right;\">80000</td><td style = \"text-align: right;\">0</td></tr><tr><td class = \"rowNumber\" style = \"font-weight: bold; text-align: right;\">519</td><td style = \"text-align: right;\">20</td><td style = \"text-align: left;\">Not_married</td><td style = \"text-align: left;\">F</td><td style = \"text-align: right;\">80000</td><td style = \"text-align: right;\">0</td></tr><tr><td class = \"rowNumber\" style = \"font-weight: bold; text-align: right;\">520</td><td style = \"text-align: right;\">25</td><td style = \"text-align: left;\">Not_married</td><td style = \"text-align: left;\">F</td><td style = \"text-align: right;\">80000</td><td style = \"text-align: right;\">0</td></tr><tr><td class = \"rowNumber\" style = \"font-weight: bold; text-align: right;\">521</td><td style = \"text-align: right;\">20</td><td style = \"text-align: left;\">Married</td><td style = \"text-align: left;\">F</td><td style = \"text-align: right;\">80000</td><td style = \"text-align: right;\">0</td></tr><tr><td class = \"rowNumber\" style = \"font-weight: bold; text-align: right;\">522</td><td style = \"text-align: right;\">25</td><td style = \"text-align: left;\">Married</td><td style = \"text-align: left;\">F</td><td style = \"text-align: right;\">80000</td><td style = \"text-align: right;\">0</td></tr><tr><td class = \"rowNumber\" style = \"font-weight: bold; text-align: right;\">523</td><td style = \"text-align: right;\">20</td><td style = \"text-align: left;\">Divorced</td><td style = \"text-align: left;\">F</td><td style = \"text-align: right;\">80000</td><td style = \"text-align: right;\">0</td></tr><tr><td class = \"rowNumber\" style = \"font-weight: bold; text-align: right;\">524</td><td style = \"text-align: right;\">25</td><td style = \"text-align: left;\">Divorced</td><td style = \"text-align: left;\">F</td><td style = \"text-align: right;\">80000</td><td style = \"text-align: right;\">0</td></tr><tr><td class = \"rowNumber\" style = \"font-weight: bold; text-align: right;\">525</td><td style = \"text-align: right;\">20</td><td style = \"text-align: left;\">Widowed</td><td style = \"text-align: left;\">F</td><td style = \"text-align: right;\">80000</td><td style = \"text-align: right;\">0</td></tr><tr><td class = \"rowNumber\" style = \"font-weight: bold; text-align: right;\">526</td><td style = \"text-align: right;\">25</td><td style = \"text-align: left;\">Widowed</td><td style = \"text-align: left;\">F</td><td style = \"text-align: right;\">80000</td><td style = \"text-align: right;\">0</td></tr></tbody></table></div>"
      ],
      "text/latex": [
       "\\begin{tabular}{r|ccccc}\n",
       "\t& AGE & MARITAL\\_STATUS & SEX & INCOME & population\\\\\n",
       "\t\\hline\n",
       "\t& Int64 & String? & Char & Int64? & Int64\\\\\n",
       "\t\\hline\n",
       "\t1 & 5 & \\emph{missing} & F & \\emph{missing} & 9993 \\\\\n",
       "\t2 & 5 & \\emph{missing} & M & \\emph{missing} & 9928 \\\\\n",
       "\t3 & 10 & \\emph{missing} & F & \\emph{missing} & 9975 \\\\\n",
       "\t4 & 10 & \\emph{missing} & M & \\emph{missing} & 9947 \\\\\n",
       "\t5 & 15 & \\emph{missing} & F & \\emph{missing} & 9994 \\\\\n",
       "\t6 & 15 & \\emph{missing} & M & \\emph{missing} & 10163 \\\\\n",
       "\t7 & 20 & Divorced & F & 40000 & 279 \\\\\n",
       "\t8 & 20 & Divorced & F & 50000 & 2686 \\\\\n",
       "\t9 & 20 & Divorced & M & 40000 & 392 \\\\\n",
       "\t10 & 20 & Divorced & M & 50000 & 4067 \\\\\n",
       "\t11 & 20 & Married & F & 40000 & 444 \\\\\n",
       "\t12 & 20 & Married & F & 50000 & 4107 \\\\\n",
       "\t13 & 20 & Married & M & 40000 & 255 \\\\\n",
       "\t14 & 20 & Married & M & 50000 & 2684 \\\\\n",
       "\t15 & 20 & Not\\_married & F & 40000 & 535 \\\\\n",
       "\t16 & 20 & Not\\_married & F & 50000 & 5493 \\\\\n",
       "\t17 & 20 & Not\\_married & M & 40000 & 136 \\\\\n",
       "\t18 & 20 & Not\\_married & M & 50000 & 1389 \\\\\n",
       "\t19 & 20 & Widowed & F & 40000 & 111 \\\\\n",
       "\t20 & 20 & Widowed & F & 50000 & 1387 \\\\\n",
       "\t21 & 20 & Widowed & M & 40000 & 582 \\\\\n",
       "\t22 & 20 & Widowed & M & 50000 & 5454 \\\\\n",
       "\t23 & 25 & Divorced & F & 40000 & 288 \\\\\n",
       "\t24 & 25 & Divorced & F & 50000 & 2728 \\\\\n",
       "\t$\\dots$ & $\\dots$ & $\\dots$ & $\\dots$ & $\\dots$ & $\\dots$ \\\\\n",
       "\\end{tabular}\n"
      ],
      "text/plain": [
       "\u001b[1m526×5 DataFrame\u001b[0m\n",
       "\u001b[1m Row \u001b[0m│\u001b[1m AGE   \u001b[0m\u001b[1m MARITAL_STATUS \u001b[0m\u001b[1m SEX  \u001b[0m\u001b[1m INCOME  \u001b[0m\u001b[1m population \u001b[0m\n",
       "     │\u001b[90m Int64 \u001b[0m\u001b[90m String?        \u001b[0m\u001b[90m Char \u001b[0m\u001b[90m Int64?  \u001b[0m\u001b[90m Int64      \u001b[0m\n",
       "─────┼──────────────────────────────────────────────────\n",
       "   1 │     5 \u001b[90m missing        \u001b[0m F    \u001b[90m missing \u001b[0m       9993\n",
       "   2 │     5 \u001b[90m missing        \u001b[0m M    \u001b[90m missing \u001b[0m       9928\n",
       "   3 │    10 \u001b[90m missing        \u001b[0m F    \u001b[90m missing \u001b[0m       9975\n",
       "   4 │    10 \u001b[90m missing        \u001b[0m M    \u001b[90m missing \u001b[0m       9947\n",
       "   5 │    15 \u001b[90m missing        \u001b[0m F    \u001b[90m missing \u001b[0m       9994\n",
       "   6 │    15 \u001b[90m missing        \u001b[0m M    \u001b[90m missing \u001b[0m      10163\n",
       "   7 │    20  Divorced        F       40000         279\n",
       "   8 │    20  Divorced        F       50000        2686\n",
       "  ⋮  │   ⋮          ⋮          ⋮       ⋮         ⋮\n",
       " 520 │    25  Not_married     F       80000           0\n",
       " 521 │    20  Married         F       80000           0\n",
       " 522 │    25  Married         F       80000           0\n",
       " 523 │    20  Divorced        F       80000           0\n",
       " 524 │    25  Divorced        F       80000           0\n",
       " 525 │    20  Widowed         F       80000           0\n",
       " 526 │    25  Widowed         F       80000           0\n",
       "\u001b[36m                                        511 rows omitted\u001b[0m"
      ]
     },
     "metadata": {},
     "output_type": "display_data"
    }
   ],
   "source": [
    "SIZE = 300000\n",
    "OLD_ADULTS = 0.6\n",
    "YOUNG_ADULTS = 0.2\n",
    "CHILDREN = 0.2\n",
    "\n",
    "SEX = ['M', 'F']; SEX_WEIGHTS = [0.5, 0.5]\n",
    "MARITAL_STATUS = [\"Not_married\", \"Married\", \"Divorced\", \"Widowed\"]; \n",
    "MARITAL_STATUS_WEIGHTS_M = [0.1, 0.2, 0.3, 0.4]; \n",
    "MARITAL_STATUS_WEIGHTS_F = [0.4, 0.3, 0.2, 0.1];\n",
    "\n",
    "AGE_YOUNG_ADULT = [20, 25];\n",
    "AGE_YOUNG_ADULT_WEIGHTS = repeat([1 / length(AGE_YOUNG_ADULT)], length(AGE_YOUNG_ADULT));\n",
    "AGE_OLD_ADULT = [30, 35, 40, 45, 50, 55, 60, 65, 70, 75, 80];\n",
    "AGE_OLD_ADULT_WEIGHTS = repeat([1 / length(AGE_OLD_ADULT)], length(AGE_OLD_ADULT));\n",
    "AGE_CHILDREN = [5, 10, 15];\n",
    "AGE_CHILDREN_WEIGHTS = repeat([1 / length(AGE_CHILDREN)], length(AGE_CHILDREN));\n",
    "\n",
    "INCOME = [40000, 50000, 60000, 70000, 80000];\n",
    "ZERO_INCOME = [60000, 70000, 80000]\n",
    "INCOME_WEIGHTS_M_YOUNG = SIZE ./ 2 .* YOUNG_ADULTS .* [0.01, 0.1, 0, 0, 0];\n",
    "INCOME_WEIGHTS_F_YOUNG = SIZE ./ 2 .* YOUNG_ADULTS .* [0.39, 0.3, 0, 0, 0];\n",
    "INCOME_WEIGHTS_M_OLD = SIZE ./2 * (OLD_ADULTS+YOUNG_ADULTS) .* [0.01, 0.1, 0.2, 0.3, 0.39] .- INCOME_WEIGHTS_M_YOUNG;\n",
    "INCOME_WEIGHTS_F_OLD = SIZE ./2 * (OLD_ADULTS+YOUNG_ADULTS) .*[0.39, 0.3, 0.2, 0.1, 0.01] .- INCOME_WEIGHTS_F_YOUNG;\n",
    "\n",
    "population_m_young_adult = DataFrame(\n",
    "    AGE = sample(AGE_YOUNG_ADULT, Weights(AGE_YOUNG_ADULT_WEIGHTS), Int(SIZE * YOUNG_ADULTS / 2)),\n",
    "    MARITAL_STATUS = sample(MARITAL_STATUS, Weights(MARITAL_STATUS_WEIGHTS_M), Int(SIZE * YOUNG_ADULTS / 2)),\n",
    "    SEX = repeat(['M'], Int(SIZE * YOUNG_ADULTS / 2)),\n",
    "    INCOME = sample(INCOME, Weights(INCOME_WEIGHTS_M_YOUNG), Int(SIZE * YOUNG_ADULTS / 2)),\n",
    ")\n",
    "population_f_young_adult = DataFrame(\n",
    "    AGE = sample(AGE_YOUNG_ADULT, Weights(AGE_YOUNG_ADULT_WEIGHTS), Int(SIZE * YOUNG_ADULTS / 2)),\n",
    "    MARITAL_STATUS = sample(MARITAL_STATUS, Weights(MARITAL_STATUS_WEIGHTS_F), Int(SIZE * YOUNG_ADULTS / 2)),\n",
    "    SEX = repeat(['F'], Int(SIZE * YOUNG_ADULTS / 2)),\n",
    "    INCOME = sample(INCOME, Weights(INCOME_WEIGHTS_M_YOUNG), Int(SIZE * YOUNG_ADULTS / 2)),\n",
    ")\n",
    "population_m_old_adult = DataFrame(\n",
    "    AGE = sample(AGE_OLD_ADULT, Weights(AGE_OLD_ADULT_WEIGHTS), Int(SIZE * OLD_ADULTS / 2)),\n",
    "    MARITAL_STATUS = sample(MARITAL_STATUS, Weights(MARITAL_STATUS_WEIGHTS_M), Int(SIZE * OLD_ADULTS / 2)),\n",
    "    SEX = repeat(['M'], Int(SIZE * OLD_ADULTS / 2)),\n",
    "    INCOME = sample(INCOME, Weights(INCOME_WEIGHTS_M_OLD), Int(SIZE * OLD_ADULTS / 2)),\n",
    ")\n",
    "population_f_old_adult = DataFrame(\n",
    "    AGE = sample(AGE_OLD_ADULT, Weights(AGE_OLD_ADULT_WEIGHTS), Int(SIZE * OLD_ADULTS / 2)),\n",
    "    MARITAL_STATUS = sample(MARITAL_STATUS, Weights(MARITAL_STATUS_WEIGHTS_F), Int(SIZE * OLD_ADULTS / 2)),\n",
    "    SEX = repeat(['F'], Int(SIZE * OLD_ADULTS / 2)),\n",
    "    INCOME = sample(INCOME, Weights(INCOME_WEIGHTS_F_OLD), Int(SIZE * OLD_ADULTS / 2)),\n",
    ")\n",
    "population_children = DataFrame(\n",
    "    AGE = sample(AGE_CHILDREN, Weights(AGE_CHILDREN_WEIGHTS), Int(SIZE * CHILDREN)),\n",
    "    MARITAL_STATUS = repeat([missing], Int(SIZE * CHILDREN)),\n",
    "    SEX = sample(SEX, Weights(SEX_WEIGHTS), Int(SIZE * CHILDREN)),\n",
    "    INCOME = repeat([missing], Int(SIZE * CHILDREN))\n",
    ")\n",
    "\n",
    "disaggregated_dependent_population = reduce(vcat, [\n",
    "    population_m_young_adult, \n",
    "    population_f_young_adult,\n",
    "    population_m_old_adult,\n",
    "    population_f_old_adult,\n",
    "    population_children\n",
    "    ]\n",
    ")\n",
    "\n",
    "dependent_population = combine(groupby(disaggregated_dependent_population, names(disaggregated_dependent_population), sort=true), nrow)\n",
    "rename!(dependent_population, :nrow => :population)\n",
    "zero_population = DataFrame(vec(collect(Iterators.product(AGE_YOUNG_ADULT, MARITAL_STATUS, SEX, ZERO_INCOME))))\n",
    "zero_population.:population = repeat([0], nrow(zero_population))\n",
    "rename!(zero_population, names(dependent_population))\n",
    "dependent_population = reduce(vcat, [dependent_population, zero_population])"
   ]
  },
  {
   "attachments": {},
   "cell_type": "markdown",
   "metadata": {},
   "source": [
    "### 1.2. Compute marginal attribute distributions of the dependent population\n",
    "Then we compute the marginal population attributes. This is a type of data that we can usually get from the census data and will be input for our algorithms for population generation."
   ]
  },
  {
   "cell_type": "code",
   "execution_count": 46,
   "metadata": {},
   "outputs": [
    {
     "data": {
      "text/html": [
       "<div><div style = \"float: left;\"><span>5×2 DataFrame</span></div><div style = \"clear: both;\"></div></div><div class = \"data-frame\" style = \"overflow-x: scroll;\"><table class = \"data-frame\" style = \"margin-bottom: 6px;\"><thead><tr class = \"header\"><th class = \"rowNumber\" style = \"font-weight: bold; text-align: right;\">Row</th><th style = \"text-align: left;\">INCOME</th><th style = \"text-align: left;\">population</th></tr><tr class = \"subheader headerLastRow\"><th class = \"rowNumber\" style = \"font-weight: bold; text-align: right;\"></th><th title = \"Union{Missing, Int64}\" style = \"text-align: left;\">Int64?</th><th title = \"Int64\" style = \"text-align: left;\">Int64</th></tr></thead><tbody><tr><td class = \"rowNumber\" style = \"font-weight: bold; text-align: right;\">1</td><td style = \"text-align: right;\">40000</td><td style = \"text-align: right;\">37971</td></tr><tr><td class = \"rowNumber\" style = \"font-weight: bold; text-align: right;\">2</td><td style = \"text-align: right;\">50000</td><td style = \"text-align: right;\">85988</td></tr><tr><td class = \"rowNumber\" style = \"font-weight: bold; text-align: right;\">3</td><td style = \"text-align: right;\">60000</td><td style = \"text-align: right;\">40203</td></tr><tr><td class = \"rowNumber\" style = \"font-weight: bold; text-align: right;\">4</td><td style = \"text-align: right;\">70000</td><td style = \"text-align: right;\">38506</td></tr><tr><td class = \"rowNumber\" style = \"font-weight: bold; text-align: right;\">5</td><td style = \"text-align: right;\">80000</td><td style = \"text-align: right;\">37332</td></tr></tbody></table></div>"
      ],
      "text/latex": [
       "\\begin{tabular}{r|cc}\n",
       "\t& INCOME & population\\\\\n",
       "\t\\hline\n",
       "\t& Int64? & Int64\\\\\n",
       "\t\\hline\n",
       "\t1 & 40000 & 37971 \\\\\n",
       "\t2 & 50000 & 85988 \\\\\n",
       "\t3 & 60000 & 40203 \\\\\n",
       "\t4 & 70000 & 38506 \\\\\n",
       "\t5 & 80000 & 37332 \\\\\n",
       "\\end{tabular}\n"
      ],
      "text/plain": [
       "\u001b[1m5×2 DataFrame\u001b[0m\n",
       "\u001b[1m Row \u001b[0m│\u001b[1m INCOME \u001b[0m\u001b[1m population \u001b[0m\n",
       "     │\u001b[90m Int64? \u001b[0m\u001b[90m Int64      \u001b[0m\n",
       "─────┼────────────────────\n",
       "   1 │  40000       37971\n",
       "   2 │  50000       85988\n",
       "   3 │  60000       40203\n",
       "   4 │  70000       38506\n",
       "   5 │  80000       37332"
      ]
     },
     "metadata": {},
     "output_type": "display_data"
    }
   ],
   "source": [
    "#Population by age and sex\n",
    "dependent_age_sex = combine(groupby(disaggregated_dependent_population, [:AGE, :SEX], sort=true), nrow); \n",
    "sort!(dependent_age_sex, [:SEX, :AGE])\n",
    "\n",
    "#Population by sex and marital status\n",
    "dependent_sex_marital = combine(groupby(disaggregated_dependent_population, [:MARITAL_STATUS, :SEX], sort=true), nrow); \n",
    "sort!(dependent_sex_marital, [:SEX, :MARITAL_STATUS])\n",
    "\n",
    "#Population by income\n",
    "dependent_income = combine(groupby(disaggregated_dependent_population, [:INCOME], sort=true), nrow)\n",
    "\n",
    "#Correct column names\n",
    "dependent_age_sex, dependent_sex_marital, dependent_income = map(x -> rename!(x, :nrow => :population), [dependent_age_sex, dependent_sex_marital, dependent_income])\n",
    "\n",
    "#filter out missing values\n",
    "dependent_sex_marital = filter(:MARITAL_STATUS => x -> typeof(x) != Missing, dependent_sex_marital)\n",
    "dependent_income = filter(:INCOME => x -> typeof(x) != Missing, dependent_income)"
   ]
  },
  {
   "attachments": {},
   "cell_type": "markdown",
   "metadata": {},
   "source": [
    "### 1.3. Generate dependent population from marginals\n",
    "Then, we use our algorithm to estimate joint distribution of the attributes. "
   ]
  },
  {
   "attachments": {},
   "cell_type": "markdown",
   "metadata": {},
   "source": [
    "#### Guo, Bhat, 2007"
   ]
  },
  {
   "cell_type": "code",
   "execution_count": 47,
   "metadata": {},
   "outputs": [
    {
     "name": "stderr",
     "output_type": "stream",
     "text": [
      "┌ Info: Inconsistent target margins, converting `X` and `mar` to proportions. Margin totals: [149962, 120000]\n",
      "└ @ ProportionalFitting /Users/marcinzurek/.julia/packages/ProportionalFitting/gNJEu/src/ipf.jl:61\n",
      "┌ Info: Converged in 1 iterations.\n",
      "└ @ ProportionalFitting /Users/marcinzurek/.julia/packages/ProportionalFitting/gNJEu/src/ipf.jl:130\n",
      "┌ Info: Inconsistent target margins, converting `X` and `mar` to proportions. Margin totals: [150038, 120000]\n",
      "└ @ ProportionalFitting /Users/marcinzurek/.julia/packages/ProportionalFitting/gNJEu/src/ipf.jl:61\n",
      "┌ Info: Converged in 1 iterations.\n",
      "└ @ ProportionalFitting /Users/marcinzurek/.julia/packages/ProportionalFitting/gNJEu/src/ipf.jl:130\n",
      "┌ Info: Inconsistent target margins, converting `X` and `mar` to proportions. Margin totals: [300000, 240000]\n",
      "└ @ ProportionalFitting /Users/marcinzurek/.julia/packages/ProportionalFitting/gNJEu/src/ipf.jl:61\n",
      "┌ Info: Converged in 1 iterations.\n",
      "└ @ ProportionalFitting /Users/marcinzurek/.julia/packages/ProportionalFitting/gNJEu/src/ipf.jl:130\n"
     ]
    },
    {
     "data": {
      "text/html": [
       "<div><div style = \"float: left;\"><span>640×5 DataFrame</span></div><div style = \"float: right;\"><span style = \"font-style: italic;\">615 rows omitted</span></div><div style = \"clear: both;\"></div></div><div class = \"data-frame\" style = \"overflow-x: scroll;\"><table class = \"data-frame\" style = \"margin-bottom: 6px;\"><thead><tr class = \"header\"><th class = \"rowNumber\" style = \"font-weight: bold; text-align: right;\">Row</th><th style = \"text-align: left;\">AGE</th><th style = \"text-align: left;\">MARITAL_STATUS</th><th style = \"text-align: left;\">SEX</th><th style = \"text-align: left;\">INCOME</th><th style = \"text-align: left;\">population</th></tr><tr class = \"subheader headerLastRow\"><th class = \"rowNumber\" style = \"font-weight: bold; text-align: right;\"></th><th title = \"Int64\" style = \"text-align: left;\">Int64</th><th title = \"String\" style = \"text-align: left;\">String</th><th title = \"Char\" style = \"text-align: left;\">Char</th><th title = \"Int64\" style = \"text-align: left;\">Int64</th><th title = \"Int64\" style = \"text-align: left;\">Int64</th></tr></thead><tbody><tr><td class = \"rowNumber\" style = \"font-weight: bold; text-align: right;\">1</td><td style = \"text-align: right;\">5</td><td style = \"text-align: left;\">Divorced</td><td style = \"text-align: left;\">F</td><td style = \"text-align: right;\">40000</td><td style = \"text-align: right;\">317</td></tr><tr><td class = \"rowNumber\" style = \"font-weight: bold; text-align: right;\">2</td><td style = \"text-align: right;\">10</td><td style = \"text-align: left;\">Divorced</td><td style = \"text-align: left;\">F</td><td style = \"text-align: right;\">40000</td><td style = \"text-align: right;\">316</td></tr><tr><td class = \"rowNumber\" style = \"font-weight: bold; text-align: right;\">3</td><td style = \"text-align: right;\">15</td><td style = \"text-align: left;\">Divorced</td><td style = \"text-align: left;\">F</td><td style = \"text-align: right;\">40000</td><td style = \"text-align: right;\">317</td></tr><tr><td class = \"rowNumber\" style = \"font-weight: bold; text-align: right;\">4</td><td style = \"text-align: right;\">20</td><td style = \"text-align: left;\">Divorced</td><td style = \"text-align: left;\">F</td><td style = \"text-align: right;\">40000</td><td style = \"text-align: right;\">477</td></tr><tr><td class = \"rowNumber\" style = \"font-weight: bold; text-align: right;\">5</td><td style = \"text-align: right;\">25</td><td style = \"text-align: left;\">Divorced</td><td style = \"text-align: left;\">F</td><td style = \"text-align: right;\">40000</td><td style = \"text-align: right;\">474</td></tr><tr><td class = \"rowNumber\" style = \"font-weight: bold; text-align: right;\">6</td><td style = \"text-align: right;\">30</td><td style = \"text-align: left;\">Divorced</td><td style = \"text-align: left;\">F</td><td style = \"text-align: right;\">40000</td><td style = \"text-align: right;\">264</td></tr><tr><td class = \"rowNumber\" style = \"font-weight: bold; text-align: right;\">7</td><td style = \"text-align: right;\">35</td><td style = \"text-align: left;\">Divorced</td><td style = \"text-align: left;\">F</td><td style = \"text-align: right;\">40000</td><td style = \"text-align: right;\">261</td></tr><tr><td class = \"rowNumber\" style = \"font-weight: bold; text-align: right;\">8</td><td style = \"text-align: right;\">40</td><td style = \"text-align: left;\">Divorced</td><td style = \"text-align: left;\">F</td><td style = \"text-align: right;\">40000</td><td style = \"text-align: right;\">260</td></tr><tr><td class = \"rowNumber\" style = \"font-weight: bold; text-align: right;\">9</td><td style = \"text-align: right;\">45</td><td style = \"text-align: left;\">Divorced</td><td style = \"text-align: left;\">F</td><td style = \"text-align: right;\">40000</td><td style = \"text-align: right;\">260</td></tr><tr><td class = \"rowNumber\" style = \"font-weight: bold; text-align: right;\">10</td><td style = \"text-align: right;\">50</td><td style = \"text-align: left;\">Divorced</td><td style = \"text-align: left;\">F</td><td style = \"text-align: right;\">40000</td><td style = \"text-align: right;\">258</td></tr><tr><td class = \"rowNumber\" style = \"font-weight: bold; text-align: right;\">11</td><td style = \"text-align: right;\">55</td><td style = \"text-align: left;\">Divorced</td><td style = \"text-align: left;\">F</td><td style = \"text-align: right;\">40000</td><td style = \"text-align: right;\">257</td></tr><tr><td class = \"rowNumber\" style = \"font-weight: bold; text-align: right;\">12</td><td style = \"text-align: right;\">60</td><td style = \"text-align: left;\">Divorced</td><td style = \"text-align: left;\">F</td><td style = \"text-align: right;\">40000</td><td style = \"text-align: right;\">259</td></tr><tr><td class = \"rowNumber\" style = \"font-weight: bold; text-align: right;\">13</td><td style = \"text-align: right;\">65</td><td style = \"text-align: left;\">Divorced</td><td style = \"text-align: left;\">F</td><td style = \"text-align: right;\">40000</td><td style = \"text-align: right;\">256</td></tr><tr><td style = \"text-align: right;\">&vellip;</td><td style = \"text-align: right;\">&vellip;</td><td style = \"text-align: right;\">&vellip;</td><td style = \"text-align: right;\">&vellip;</td><td style = \"text-align: right;\">&vellip;</td><td style = \"text-align: right;\">&vellip;</td></tr><tr><td class = \"rowNumber\" style = \"font-weight: bold; text-align: right;\">629</td><td style = \"text-align: right;\">25</td><td style = \"text-align: left;\">Widowed</td><td style = \"text-align: left;\">M</td><td style = \"text-align: right;\">80000</td><td style = \"text-align: right;\">940</td></tr><tr><td class = \"rowNumber\" style = \"font-weight: bold; text-align: right;\">630</td><td style = \"text-align: right;\">30</td><td style = \"text-align: left;\">Widowed</td><td style = \"text-align: left;\">M</td><td style = \"text-align: right;\">80000</td><td style = \"text-align: right;\">513</td></tr><tr><td class = \"rowNumber\" style = \"font-weight: bold; text-align: right;\">631</td><td style = \"text-align: right;\">35</td><td style = \"text-align: left;\">Widowed</td><td style = \"text-align: left;\">M</td><td style = \"text-align: right;\">80000</td><td style = \"text-align: right;\">517</td></tr><tr><td class = \"rowNumber\" style = \"font-weight: bold; text-align: right;\">632</td><td style = \"text-align: right;\">40</td><td style = \"text-align: left;\">Widowed</td><td style = \"text-align: left;\">M</td><td style = \"text-align: right;\">80000</td><td style = \"text-align: right;\">503</td></tr><tr><td class = \"rowNumber\" style = \"font-weight: bold; text-align: right;\">633</td><td style = \"text-align: right;\">45</td><td style = \"text-align: left;\">Widowed</td><td style = \"text-align: left;\">M</td><td style = \"text-align: right;\">80000</td><td style = \"text-align: right;\">517</td></tr><tr><td class = \"rowNumber\" style = \"font-weight: bold; text-align: right;\">634</td><td style = \"text-align: right;\">50</td><td style = \"text-align: left;\">Widowed</td><td style = \"text-align: left;\">M</td><td style = \"text-align: right;\">80000</td><td style = \"text-align: right;\">512</td></tr><tr><td class = \"rowNumber\" style = \"font-weight: bold; text-align: right;\">635</td><td style = \"text-align: right;\">55</td><td style = \"text-align: left;\">Widowed</td><td style = \"text-align: left;\">M</td><td style = \"text-align: right;\">80000</td><td style = \"text-align: right;\">516</td></tr><tr><td class = \"rowNumber\" style = \"font-weight: bold; text-align: right;\">636</td><td style = \"text-align: right;\">60</td><td style = \"text-align: left;\">Widowed</td><td style = \"text-align: left;\">M</td><td style = \"text-align: right;\">80000</td><td style = \"text-align: right;\">510</td></tr><tr><td class = \"rowNumber\" style = \"font-weight: bold; text-align: right;\">637</td><td style = \"text-align: right;\">65</td><td style = \"text-align: left;\">Widowed</td><td style = \"text-align: left;\">M</td><td style = \"text-align: right;\">80000</td><td style = \"text-align: right;\">500</td></tr><tr><td class = \"rowNumber\" style = \"font-weight: bold; text-align: right;\">638</td><td style = \"text-align: right;\">70</td><td style = \"text-align: left;\">Widowed</td><td style = \"text-align: left;\">M</td><td style = \"text-align: right;\">80000</td><td style = \"text-align: right;\">509</td></tr><tr><td class = \"rowNumber\" style = \"font-weight: bold; text-align: right;\">639</td><td style = \"text-align: right;\">75</td><td style = \"text-align: left;\">Widowed</td><td style = \"text-align: left;\">M</td><td style = \"text-align: right;\">80000</td><td style = \"text-align: right;\">521</td></tr><tr><td class = \"rowNumber\" style = \"font-weight: bold; text-align: right;\">640</td><td style = \"text-align: right;\">80</td><td style = \"text-align: left;\">Widowed</td><td style = \"text-align: left;\">M</td><td style = \"text-align: right;\">80000</td><td style = \"text-align: right;\">509</td></tr></tbody></table></div>"
      ],
      "text/latex": [
       "\\begin{tabular}{r|ccccc}\n",
       "\t& AGE & MARITAL\\_STATUS & SEX & INCOME & population\\\\\n",
       "\t\\hline\n",
       "\t& Int64 & String & Char & Int64 & Int64\\\\\n",
       "\t\\hline\n",
       "\t1 & 5 & Divorced & F & 40000 & 317 \\\\\n",
       "\t2 & 10 & Divorced & F & 40000 & 316 \\\\\n",
       "\t3 & 15 & Divorced & F & 40000 & 317 \\\\\n",
       "\t4 & 20 & Divorced & F & 40000 & 477 \\\\\n",
       "\t5 & 25 & Divorced & F & 40000 & 474 \\\\\n",
       "\t6 & 30 & Divorced & F & 40000 & 264 \\\\\n",
       "\t7 & 35 & Divorced & F & 40000 & 261 \\\\\n",
       "\t8 & 40 & Divorced & F & 40000 & 260 \\\\\n",
       "\t9 & 45 & Divorced & F & 40000 & 260 \\\\\n",
       "\t10 & 50 & Divorced & F & 40000 & 258 \\\\\n",
       "\t11 & 55 & Divorced & F & 40000 & 257 \\\\\n",
       "\t12 & 60 & Divorced & F & 40000 & 259 \\\\\n",
       "\t13 & 65 & Divorced & F & 40000 & 256 \\\\\n",
       "\t14 & 70 & Divorced & F & 40000 & 260 \\\\\n",
       "\t15 & 75 & Divorced & F & 40000 & 261 \\\\\n",
       "\t16 & 80 & Divorced & F & 40000 & 258 \\\\\n",
       "\t17 & 5 & Married & F & 40000 & 477 \\\\\n",
       "\t18 & 10 & Married & F & 40000 & 477 \\\\\n",
       "\t19 & 15 & Married & F & 40000 & 478 \\\\\n",
       "\t20 & 20 & Married & F & 40000 & 719 \\\\\n",
       "\t21 & 25 & Married & F & 40000 & 715 \\\\\n",
       "\t22 & 30 & Married & F & 40000 & 398 \\\\\n",
       "\t23 & 35 & Married & F & 40000 & 393 \\\\\n",
       "\t24 & 40 & Married & F & 40000 & 392 \\\\\n",
       "\t$\\dots$ & $\\dots$ & $\\dots$ & $\\dots$ & $\\dots$ & $\\dots$ \\\\\n",
       "\\end{tabular}\n"
      ],
      "text/plain": [
       "\u001b[1m640×5 DataFrame\u001b[0m\n",
       "\u001b[1m Row \u001b[0m│\u001b[1m AGE   \u001b[0m\u001b[1m MARITAL_STATUS \u001b[0m\u001b[1m SEX  \u001b[0m\u001b[1m INCOME \u001b[0m\u001b[1m population \u001b[0m\n",
       "     │\u001b[90m Int64 \u001b[0m\u001b[90m String         \u001b[0m\u001b[90m Char \u001b[0m\u001b[90m Int64  \u001b[0m\u001b[90m Int64      \u001b[0m\n",
       "─────┼─────────────────────────────────────────────────\n",
       "   1 │     5  Divorced        F      40000         317\n",
       "   2 │    10  Divorced        F      40000         316\n",
       "   3 │    15  Divorced        F      40000         317\n",
       "   4 │    20  Divorced        F      40000         477\n",
       "   5 │    25  Divorced        F      40000         474\n",
       "   6 │    30  Divorced        F      40000         264\n",
       "   7 │    35  Divorced        F      40000         261\n",
       "   8 │    40  Divorced        F      40000         260\n",
       "  ⋮  │   ⋮          ⋮          ⋮      ⋮         ⋮\n",
       " 634 │    50  Widowed         M      80000         512\n",
       " 635 │    55  Widowed         M      80000         516\n",
       " 636 │    60  Widowed         M      80000         510\n",
       " 637 │    65  Widowed         M      80000         500\n",
       " 638 │    70  Widowed         M      80000         509\n",
       " 639 │    75  Widowed         M      80000         521\n",
       " 640 │    80  Widowed         M      80000         509\n",
       "\u001b[36m                                       625 rows omitted\u001b[0m"
      ]
     },
     "metadata": {},
     "output_type": "display_data"
    }
   ],
   "source": [
    "guo_bhat = SyntheticPopulation.generate_joint_distribution(dependent_age_sex, dependent_sex_marital, dependent_income)\n",
    "guo_bhat = guo_bhat[:, Not(:id)]"
   ]
  },
  {
   "attachments": {},
   "cell_type": "markdown",
   "metadata": {},
   "source": [
    "#### Ponge, Enbergs, Schungel, Hellingrath, Karch, Ludwig, 2021"
   ]
  },
  {
   "cell_type": "code",
   "execution_count": 48,
   "metadata": {},
   "outputs": [
    {
     "name": "stderr",
     "output_type": "stream",
     "text": [
      "┌ Info: Inconsistent target margins, converting `X` and `mar` to proportions. Margin totals: [149962, 120000]\n",
      "└ @ ProportionalFitting /Users/marcinzurek/.julia/packages/ProportionalFitting/gNJEu/src/ipf.jl:61\n",
      "┌ Warning: Did not converge. Try increasing the number of iterations. Maximum absolute difference between subsequent iterations: NaN\n",
      "└ @ ProportionalFitting /Users/marcinzurek/.julia/packages/ProportionalFitting/gNJEu/src/ipf.jl:128\n",
      "┌ Info: Inconsistent target margins, converting `X` and `mar` to proportions. Margin totals: [149962, 120000]\n",
      "└ @ ProportionalFitting /Users/marcinzurek/.julia/packages/ProportionalFitting/gNJEu/src/ipf.jl:61\n",
      "┌ Info: Converged in 1 iterations.\n",
      "└ @ ProportionalFitting /Users/marcinzurek/.julia/packages/ProportionalFitting/gNJEu/src/ipf.jl:130\n",
      "┌ Info: Inconsistent target margins, converting `X` and `mar` to proportions. Margin totals: [150038, 120000]\n",
      "└ @ ProportionalFitting /Users/marcinzurek/.julia/packages/ProportionalFitting/gNJEu/src/ipf.jl:61\n",
      "┌ Warning: Did not converge. Try increasing the number of iterations. Maximum absolute difference between subsequent iterations: NaN\n",
      "└ @ ProportionalFitting /Users/marcinzurek/.julia/packages/ProportionalFitting/gNJEu/src/ipf.jl:128\n",
      "┌ Info: Inconsistent target margins, converting `X` and `mar` to proportions. Margin totals: [150038, 120000]\n",
      "└ @ ProportionalFitting /Users/marcinzurek/.julia/packages/ProportionalFitting/gNJEu/src/ipf.jl:61\n",
      "┌ Info: Converged in 1 iterations.\n",
      "└ @ ProportionalFitting /Users/marcinzurek/.julia/packages/ProportionalFitting/gNJEu/src/ipf.jl:130\n"
     ]
    },
    {
     "name": "stderr",
     "output_type": "stream",
     "text": [
      "┌ Info: Inconsistent target margins, converting `X` and `mar` to proportions. Margin totals: [300000, 240000]\n",
      "└ @ ProportionalFitting /Users/marcinzurek/.julia/packages/ProportionalFitting/gNJEu/src/ipf.jl:61\n",
      "┌ Info: Converged in 18 iterations.\n",
      "└ @ ProportionalFitting /Users/marcinzurek/.julia/packages/ProportionalFitting/gNJEu/src/ipf.jl:130\n"
     ]
    },
    {
     "data": {
      "text/html": [
       "<div><div style = \"float: left;\"><span>640×5 DataFrame</span></div><div style = \"float: right;\"><span style = \"font-style: italic;\">615 rows omitted</span></div><div style = \"clear: both;\"></div></div><div class = \"data-frame\" style = \"overflow-x: scroll;\"><table class = \"data-frame\" style = \"margin-bottom: 6px;\"><thead><tr class = \"header\"><th class = \"rowNumber\" style = \"font-weight: bold; text-align: right;\">Row</th><th style = \"text-align: left;\">AGE</th><th style = \"text-align: left;\">MARITAL_STATUS</th><th style = \"text-align: left;\">SEX</th><th style = \"text-align: left;\">INCOME</th><th style = \"text-align: left;\">population</th></tr><tr class = \"subheader headerLastRow\"><th class = \"rowNumber\" style = \"font-weight: bold; text-align: right;\"></th><th title = \"Int64\" style = \"text-align: left;\">Int64</th><th title = \"String\" style = \"text-align: left;\">String</th><th title = \"Char\" style = \"text-align: left;\">Char</th><th title = \"Int64\" style = \"text-align: left;\">Int64</th><th title = \"Int64\" style = \"text-align: left;\">Int64</th></tr></thead><tbody><tr><td class = \"rowNumber\" style = \"font-weight: bold; text-align: right;\">1</td><td style = \"text-align: right;\">5</td><td style = \"text-align: left;\">Divorced</td><td style = \"text-align: left;\">F</td><td style = \"text-align: right;\">40000</td><td style = \"text-align: right;\">243</td></tr><tr><td class = \"rowNumber\" style = \"font-weight: bold; text-align: right;\">2</td><td style = \"text-align: right;\">10</td><td style = \"text-align: left;\">Divorced</td><td style = \"text-align: left;\">F</td><td style = \"text-align: right;\">40000</td><td style = \"text-align: right;\">242</td></tr><tr><td class = \"rowNumber\" style = \"font-weight: bold; text-align: right;\">3</td><td style = \"text-align: right;\">15</td><td style = \"text-align: left;\">Divorced</td><td style = \"text-align: left;\">F</td><td style = \"text-align: right;\">40000</td><td style = \"text-align: right;\">243</td></tr><tr><td class = \"rowNumber\" style = \"font-weight: bold; text-align: right;\">4</td><td style = \"text-align: right;\">20</td><td style = \"text-align: left;\">Divorced</td><td style = \"text-align: left;\">F</td><td style = \"text-align: right;\">40000</td><td style = \"text-align: right;\">924</td></tr><tr><td class = \"rowNumber\" style = \"font-weight: bold; text-align: right;\">5</td><td style = \"text-align: right;\">25</td><td style = \"text-align: left;\">Divorced</td><td style = \"text-align: left;\">F</td><td style = \"text-align: right;\">40000</td><td style = \"text-align: right;\">919</td></tr><tr><td class = \"rowNumber\" style = \"font-weight: bold; text-align: right;\">6</td><td style = \"text-align: right;\">30</td><td style = \"text-align: left;\">Divorced</td><td style = \"text-align: left;\">F</td><td style = \"text-align: right;\">40000</td><td style = \"text-align: right;\">202</td></tr><tr><td class = \"rowNumber\" style = \"font-weight: bold; text-align: right;\">7</td><td style = \"text-align: right;\">35</td><td style = \"text-align: left;\">Divorced</td><td style = \"text-align: left;\">F</td><td style = \"text-align: right;\">40000</td><td style = \"text-align: right;\">200</td></tr><tr><td class = \"rowNumber\" style = \"font-weight: bold; text-align: right;\">8</td><td style = \"text-align: right;\">40</td><td style = \"text-align: left;\">Divorced</td><td style = \"text-align: left;\">F</td><td style = \"text-align: right;\">40000</td><td style = \"text-align: right;\">199</td></tr><tr><td class = \"rowNumber\" style = \"font-weight: bold; text-align: right;\">9</td><td style = \"text-align: right;\">45</td><td style = \"text-align: left;\">Divorced</td><td style = \"text-align: left;\">F</td><td style = \"text-align: right;\">40000</td><td style = \"text-align: right;\">199</td></tr><tr><td class = \"rowNumber\" style = \"font-weight: bold; text-align: right;\">10</td><td style = \"text-align: right;\">50</td><td style = \"text-align: left;\">Divorced</td><td style = \"text-align: left;\">F</td><td style = \"text-align: right;\">40000</td><td style = \"text-align: right;\">198</td></tr><tr><td class = \"rowNumber\" style = \"font-weight: bold; text-align: right;\">11</td><td style = \"text-align: right;\">55</td><td style = \"text-align: left;\">Divorced</td><td style = \"text-align: left;\">F</td><td style = \"text-align: right;\">40000</td><td style = \"text-align: right;\">197</td></tr><tr><td class = \"rowNumber\" style = \"font-weight: bold; text-align: right;\">12</td><td style = \"text-align: right;\">60</td><td style = \"text-align: left;\">Divorced</td><td style = \"text-align: left;\">F</td><td style = \"text-align: right;\">40000</td><td style = \"text-align: right;\">198</td></tr><tr><td class = \"rowNumber\" style = \"font-weight: bold; text-align: right;\">13</td><td style = \"text-align: right;\">65</td><td style = \"text-align: left;\">Divorced</td><td style = \"text-align: left;\">F</td><td style = \"text-align: right;\">40000</td><td style = \"text-align: right;\">196</td></tr><tr><td style = \"text-align: right;\">&vellip;</td><td style = \"text-align: right;\">&vellip;</td><td style = \"text-align: right;\">&vellip;</td><td style = \"text-align: right;\">&vellip;</td><td style = \"text-align: right;\">&vellip;</td><td style = \"text-align: right;\">&vellip;</td></tr><tr><td class = \"rowNumber\" style = \"font-weight: bold; text-align: right;\">629</td><td style = \"text-align: right;\">25</td><td style = \"text-align: left;\">Widowed</td><td style = \"text-align: left;\">M</td><td style = \"text-align: right;\">80000</td><td style = \"text-align: right;\">0</td></tr><tr><td class = \"rowNumber\" style = \"font-weight: bold; text-align: right;\">630</td><td style = \"text-align: right;\">30</td><td style = \"text-align: left;\">Widowed</td><td style = \"text-align: left;\">M</td><td style = \"text-align: right;\">80000</td><td style = \"text-align: right;\">642</td></tr><tr><td class = \"rowNumber\" style = \"font-weight: bold; text-align: right;\">631</td><td style = \"text-align: right;\">35</td><td style = \"text-align: left;\">Widowed</td><td style = \"text-align: left;\">M</td><td style = \"text-align: right;\">80000</td><td style = \"text-align: right;\">646</td></tr><tr><td class = \"rowNumber\" style = \"font-weight: bold; text-align: right;\">632</td><td style = \"text-align: right;\">40</td><td style = \"text-align: left;\">Widowed</td><td style = \"text-align: left;\">M</td><td style = \"text-align: right;\">80000</td><td style = \"text-align: right;\">628</td></tr><tr><td class = \"rowNumber\" style = \"font-weight: bold; text-align: right;\">633</td><td style = \"text-align: right;\">45</td><td style = \"text-align: left;\">Widowed</td><td style = \"text-align: left;\">M</td><td style = \"text-align: right;\">80000</td><td style = \"text-align: right;\">646</td></tr><tr><td class = \"rowNumber\" style = \"font-weight: bold; text-align: right;\">634</td><td style = \"text-align: right;\">50</td><td style = \"text-align: left;\">Widowed</td><td style = \"text-align: left;\">M</td><td style = \"text-align: right;\">80000</td><td style = \"text-align: right;\">640</td></tr><tr><td class = \"rowNumber\" style = \"font-weight: bold; text-align: right;\">635</td><td style = \"text-align: right;\">55</td><td style = \"text-align: left;\">Widowed</td><td style = \"text-align: left;\">M</td><td style = \"text-align: right;\">80000</td><td style = \"text-align: right;\">646</td></tr><tr><td class = \"rowNumber\" style = \"font-weight: bold; text-align: right;\">636</td><td style = \"text-align: right;\">60</td><td style = \"text-align: left;\">Widowed</td><td style = \"text-align: left;\">M</td><td style = \"text-align: right;\">80000</td><td style = \"text-align: right;\">637</td></tr><tr><td class = \"rowNumber\" style = \"font-weight: bold; text-align: right;\">637</td><td style = \"text-align: right;\">65</td><td style = \"text-align: left;\">Widowed</td><td style = \"text-align: left;\">M</td><td style = \"text-align: right;\">80000</td><td style = \"text-align: right;\">625</td></tr><tr><td class = \"rowNumber\" style = \"font-weight: bold; text-align: right;\">638</td><td style = \"text-align: right;\">70</td><td style = \"text-align: left;\">Widowed</td><td style = \"text-align: left;\">M</td><td style = \"text-align: right;\">80000</td><td style = \"text-align: right;\">636</td></tr><tr><td class = \"rowNumber\" style = \"font-weight: bold; text-align: right;\">639</td><td style = \"text-align: right;\">75</td><td style = \"text-align: left;\">Widowed</td><td style = \"text-align: left;\">M</td><td style = \"text-align: right;\">80000</td><td style = \"text-align: right;\">652</td></tr><tr><td class = \"rowNumber\" style = \"font-weight: bold; text-align: right;\">640</td><td style = \"text-align: right;\">80</td><td style = \"text-align: left;\">Widowed</td><td style = \"text-align: left;\">M</td><td style = \"text-align: right;\">80000</td><td style = \"text-align: right;\">637</td></tr></tbody></table></div>"
      ],
      "text/latex": [
       "\\begin{tabular}{r|ccccc}\n",
       "\t& AGE & MARITAL\\_STATUS & SEX & INCOME & population\\\\\n",
       "\t\\hline\n",
       "\t& Int64 & String & Char & Int64 & Int64\\\\\n",
       "\t\\hline\n",
       "\t1 & 5 & Divorced & F & 40000 & 243 \\\\\n",
       "\t2 & 10 & Divorced & F & 40000 & 242 \\\\\n",
       "\t3 & 15 & Divorced & F & 40000 & 243 \\\\\n",
       "\t4 & 20 & Divorced & F & 40000 & 924 \\\\\n",
       "\t5 & 25 & Divorced & F & 40000 & 919 \\\\\n",
       "\t6 & 30 & Divorced & F & 40000 & 202 \\\\\n",
       "\t7 & 35 & Divorced & F & 40000 & 200 \\\\\n",
       "\t8 & 40 & Divorced & F & 40000 & 199 \\\\\n",
       "\t9 & 45 & Divorced & F & 40000 & 199 \\\\\n",
       "\t10 & 50 & Divorced & F & 40000 & 198 \\\\\n",
       "\t11 & 55 & Divorced & F & 40000 & 197 \\\\\n",
       "\t12 & 60 & Divorced & F & 40000 & 198 \\\\\n",
       "\t13 & 65 & Divorced & F & 40000 & 196 \\\\\n",
       "\t14 & 70 & Divorced & F & 40000 & 199 \\\\\n",
       "\t15 & 75 & Divorced & F & 40000 & 200 \\\\\n",
       "\t16 & 80 & Divorced & F & 40000 & 198 \\\\\n",
       "\t17 & 5 & Married & F & 40000 & 366 \\\\\n",
       "\t18 & 10 & Married & F & 40000 & 365 \\\\\n",
       "\t19 & 15 & Married & F & 40000 & 366 \\\\\n",
       "\t20 & 20 & Married & F & 40000 & 1392 \\\\\n",
       "\t21 & 25 & Married & F & 40000 & 1384 \\\\\n",
       "\t22 & 30 & Married & F & 40000 & 305 \\\\\n",
       "\t23 & 35 & Married & F & 40000 & 301 \\\\\n",
       "\t24 & 40 & Married & F & 40000 & 300 \\\\\n",
       "\t$\\dots$ & $\\dots$ & $\\dots$ & $\\dots$ & $\\dots$ & $\\dots$ \\\\\n",
       "\\end{tabular}\n"
      ],
      "text/plain": [
       "\u001b[1m640×5 DataFrame\u001b[0m\n",
       "\u001b[1m Row \u001b[0m│\u001b[1m AGE   \u001b[0m\u001b[1m MARITAL_STATUS \u001b[0m\u001b[1m SEX  \u001b[0m\u001b[1m INCOME \u001b[0m\u001b[1m population \u001b[0m\n",
       "     │\u001b[90m Int64 \u001b[0m\u001b[90m String         \u001b[0m\u001b[90m Char \u001b[0m\u001b[90m Int64  \u001b[0m\u001b[90m Int64      \u001b[0m\n",
       "─────┼─────────────────────────────────────────────────\n",
       "   1 │     5  Divorced        F      40000         243\n",
       "   2 │    10  Divorced        F      40000         242\n",
       "   3 │    15  Divorced        F      40000         243\n",
       "   4 │    20  Divorced        F      40000         924\n",
       "   5 │    25  Divorced        F      40000         919\n",
       "   6 │    30  Divorced        F      40000         202\n",
       "   7 │    35  Divorced        F      40000         200\n",
       "   8 │    40  Divorced        F      40000         199\n",
       "  ⋮  │   ⋮          ⋮          ⋮      ⋮         ⋮\n",
       " 634 │    50  Widowed         M      80000         640\n",
       " 635 │    55  Widowed         M      80000         646\n",
       " 636 │    60  Widowed         M      80000         637\n",
       " 637 │    65  Widowed         M      80000         625\n",
       " 638 │    70  Widowed         M      80000         636\n",
       " 639 │    75  Widowed         M      80000         652\n",
       " 640 │    80  Widowed         M      80000         637\n",
       "\u001b[36m                                       625 rows omitted\u001b[0m"
      ]
     },
     "metadata": {},
     "output_type": "display_data"
    }
   ],
   "source": [
    "ponge_et_al = SyntheticPopulation.generate_joint_distribution(dependent_age_sex, dependent_sex_marital, dependent_income, config_file = \"ind_ponge2021.json\")\n",
    "ponge_et_al = ponge_et_al[:, Not(:id)]"
   ]
  },
  {
   "attachments": {},
   "cell_type": "markdown",
   "metadata": {},
   "source": [
    "#### Modified algorithm"
   ]
  },
  {
   "cell_type": "code",
   "execution_count": 49,
   "metadata": {
    "scrolled": true
   },
   "outputs": [
    {
     "name": "stderr",
     "output_type": "stream",
     "text": [
      "┌ Warning: Did not converge. Try increasing the number of iterations. Maximum absolute difference between subsequent iterations: NaN\n",
      "└ @ ProportionalFitting /Users/marcinzurek/.julia/packages/ProportionalFitting/gNJEu/src/ipf.jl:128\n",
      "┌ Info: Converged in 2 iterations.\n",
      "└ @ ProportionalFitting /Users/marcinzurek/.julia/packages/ProportionalFitting/gNJEu/src/ipf.jl:130\n",
      "┌ Warning: Did not converge. Try increasing the number of iterations. Maximum absolute difference between subsequent iterations: NaN\n",
      "└ @ ProportionalFitting /Users/marcinzurek/.julia/packages/ProportionalFitting/gNJEu/src/ipf.jl:128\n",
      "┌ Info: Converged in 3 iterations.\n",
      "└ @ ProportionalFitting /Users/marcinzurek/.julia/packages/ProportionalFitting/gNJEu/src/ipf.jl:130\n",
      "┌ Info: Inconsistent target margins, converting `X` and `mar` to proportions. Margin totals: [29962, 120000]\n",
      "└ @ ProportionalFitting /Users/marcinzurek/.julia/packages/ProportionalFitting/gNJEu/src/ipf.jl:61\n",
      "┌ Info: Converged in 1 iterations.\n",
      "└ @ ProportionalFitting /Users/marcinzurek/.julia/packages/ProportionalFitting/gNJEu/src/ipf.jl:130\n",
      "┌ Info: Inconsistent target margins, converting `X` and `mar` to proportions. Margin totals: [30038, 120000]\n",
      "└ @ ProportionalFitting /Users/marcinzurek/.julia/packages/ProportionalFitting/gNJEu/src/ipf.jl:61\n",
      "┌ Info: Converged in 1 iterations.\n",
      "└ @ ProportionalFitting /Users/marcinzurek/.julia/packages/ProportionalFitting/gNJEu/src/ipf.jl:130\n",
      "┌ Info: Inconsistent target margins, converting `X` and `mar` to proportions. Margin totals: [240001, 240000]\n",
      "└ @ ProportionalFitting /Users/marcinzurek/.julia/packages/ProportionalFitting/gNJEu/src/ipf.jl:61\n",
      "┌ Info: Converged in 22 iterations.\n",
      "└ @ ProportionalFitting /Users/marcinzurek/.julia/packages/ProportionalFitting/gNJEu/src/ipf.jl:130\n",
      "┌ Info: Inconsistent target margins, converting `X` and `mar` to proportions. Margin totals: [59999, 240000]\n",
      "└ @ ProportionalFitting /Users/marcinzurek/.julia/packages/ProportionalFitting/gNJEu/src/ipf.jl:61\n",
      "┌ Info: Converged in 1 iterations.\n",
      "└ @ ProportionalFitting /Users/marcinzurek/.julia/packages/ProportionalFitting/gNJEu/src/ipf.jl:130\n"
     ]
    },
    {
     "data": {
      "text/html": [
       "<div><div style = \"float: left;\"><span>526×5 DataFrame</span></div><div style = \"float: right;\"><span style = \"font-style: italic;\">501 rows omitted</span></div><div style = \"clear: both;\"></div></div><div class = \"data-frame\" style = \"overflow-x: scroll;\"><table class = \"data-frame\" style = \"margin-bottom: 6px;\"><thead><tr class = \"header\"><th class = \"rowNumber\" style = \"font-weight: bold; text-align: right;\">Row</th><th style = \"text-align: left;\">AGE</th><th style = \"text-align: left;\">MARITAL_STATUS</th><th style = \"text-align: left;\">SEX</th><th style = \"text-align: left;\">INCOME</th><th style = \"text-align: left;\">population</th></tr><tr class = \"subheader headerLastRow\"><th class = \"rowNumber\" style = \"font-weight: bold; text-align: right;\"></th><th title = \"Union{Missing, Int64}\" style = \"text-align: left;\">Int64?</th><th title = \"Union{Missing, String}\" style = \"text-align: left;\">String?</th><th title = \"Union{Missing, Char}\" style = \"text-align: left;\">Char?</th><th title = \"Union{Missing, Int64}\" style = \"text-align: left;\">Int64?</th><th title = \"Int64\" style = \"text-align: left;\">Int64</th></tr></thead><tbody><tr><td class = \"rowNumber\" style = \"font-weight: bold; text-align: right;\">1</td><td style = \"text-align: right;\">5</td><td style = \"font-style: italic; text-align: left;\">missing</td><td style = \"text-align: left;\">F</td><td style = \"font-style: italic; text-align: right;\">missing</td><td style = \"text-align: right;\">9991</td></tr><tr><td class = \"rowNumber\" style = \"font-weight: bold; text-align: right;\">2</td><td style = \"text-align: right;\">10</td><td style = \"font-style: italic; text-align: left;\">missing</td><td style = \"text-align: left;\">F</td><td style = \"font-style: italic; text-align: right;\">missing</td><td style = \"text-align: right;\">9976</td></tr><tr><td class = \"rowNumber\" style = \"font-weight: bold; text-align: right;\">3</td><td style = \"text-align: right;\">15</td><td style = \"font-style: italic; text-align: left;\">missing</td><td style = \"text-align: left;\">F</td><td style = \"font-style: italic; text-align: right;\">missing</td><td style = \"text-align: right;\">9995</td></tr><tr><td class = \"rowNumber\" style = \"font-weight: bold; text-align: right;\">4</td><td style = \"text-align: right;\">20</td><td style = \"text-align: left;\">Divorced</td><td style = \"text-align: left;\">F</td><td style = \"text-align: right;\">40000</td><td style = \"text-align: right;\">924</td></tr><tr><td class = \"rowNumber\" style = \"font-weight: bold; text-align: right;\">5</td><td style = \"text-align: right;\">25</td><td style = \"text-align: left;\">Divorced</td><td style = \"text-align: left;\">F</td><td style = \"text-align: right;\">40000</td><td style = \"text-align: right;\">919</td></tr><tr><td class = \"rowNumber\" style = \"font-weight: bold; text-align: right;\">6</td><td style = \"text-align: right;\">30</td><td style = \"text-align: left;\">Divorced</td><td style = \"text-align: left;\">F</td><td style = \"text-align: right;\">40000</td><td style = \"text-align: right;\">182</td></tr><tr><td class = \"rowNumber\" style = \"font-weight: bold; text-align: right;\">7</td><td style = \"text-align: right;\">35</td><td style = \"text-align: left;\">Divorced</td><td style = \"text-align: left;\">F</td><td style = \"text-align: right;\">40000</td><td style = \"text-align: right;\">180</td></tr><tr><td class = \"rowNumber\" style = \"font-weight: bold; text-align: right;\">8</td><td style = \"text-align: right;\">40</td><td style = \"text-align: left;\">Divorced</td><td style = \"text-align: left;\">F</td><td style = \"text-align: right;\">40000</td><td style = \"text-align: right;\">179</td></tr><tr><td class = \"rowNumber\" style = \"font-weight: bold; text-align: right;\">9</td><td style = \"text-align: right;\">45</td><td style = \"text-align: left;\">Divorced</td><td style = \"text-align: left;\">F</td><td style = \"text-align: right;\">40000</td><td style = \"text-align: right;\">179</td></tr><tr><td class = \"rowNumber\" style = \"font-weight: bold; text-align: right;\">10</td><td style = \"text-align: right;\">50</td><td style = \"text-align: left;\">Divorced</td><td style = \"text-align: left;\">F</td><td style = \"text-align: right;\">40000</td><td style = \"text-align: right;\">177</td></tr><tr><td class = \"rowNumber\" style = \"font-weight: bold; text-align: right;\">11</td><td style = \"text-align: right;\">55</td><td style = \"text-align: left;\">Divorced</td><td style = \"text-align: left;\">F</td><td style = \"text-align: right;\">40000</td><td style = \"text-align: right;\">177</td></tr><tr><td class = \"rowNumber\" style = \"font-weight: bold; text-align: right;\">12</td><td style = \"text-align: right;\">60</td><td style = \"text-align: left;\">Divorced</td><td style = \"text-align: left;\">F</td><td style = \"text-align: right;\">40000</td><td style = \"text-align: right;\">178</td></tr><tr><td class = \"rowNumber\" style = \"font-weight: bold; text-align: right;\">13</td><td style = \"text-align: right;\">65</td><td style = \"text-align: left;\">Divorced</td><td style = \"text-align: left;\">F</td><td style = \"text-align: right;\">40000</td><td style = \"text-align: right;\">176</td></tr><tr><td style = \"text-align: right;\">&vellip;</td><td style = \"text-align: right;\">&vellip;</td><td style = \"text-align: right;\">&vellip;</td><td style = \"text-align: right;\">&vellip;</td><td style = \"text-align: right;\">&vellip;</td><td style = \"text-align: right;\">&vellip;</td></tr><tr><td class = \"rowNumber\" style = \"font-weight: bold; text-align: right;\">515</td><td style = \"text-align: right;\">25</td><td style = \"text-align: left;\">Widowed</td><td style = \"text-align: left;\">M</td><td style = \"text-align: right;\">80000</td><td style = \"text-align: right;\">0</td></tr><tr><td class = \"rowNumber\" style = \"font-weight: bold; text-align: right;\">516</td><td style = \"text-align: right;\">30</td><td style = \"text-align: left;\">Widowed</td><td style = \"text-align: left;\">M</td><td style = \"text-align: right;\">80000</td><td style = \"text-align: right;\">684</td></tr><tr><td class = \"rowNumber\" style = \"font-weight: bold; text-align: right;\">517</td><td style = \"text-align: right;\">35</td><td style = \"text-align: left;\">Widowed</td><td style = \"text-align: left;\">M</td><td style = \"text-align: right;\">80000</td><td style = \"text-align: right;\">689</td></tr><tr><td class = \"rowNumber\" style = \"font-weight: bold; text-align: right;\">518</td><td style = \"text-align: right;\">40</td><td style = \"text-align: left;\">Widowed</td><td style = \"text-align: left;\">M</td><td style = \"text-align: right;\">80000</td><td style = \"text-align: right;\">670</td></tr><tr><td class = \"rowNumber\" style = \"font-weight: bold; text-align: right;\">519</td><td style = \"text-align: right;\">45</td><td style = \"text-align: left;\">Widowed</td><td style = \"text-align: left;\">M</td><td style = \"text-align: right;\">80000</td><td style = \"text-align: right;\">689</td></tr><tr><td class = \"rowNumber\" style = \"font-weight: bold; text-align: right;\">520</td><td style = \"text-align: right;\">50</td><td style = \"text-align: left;\">Widowed</td><td style = \"text-align: left;\">M</td><td style = \"text-align: right;\">80000</td><td style = \"text-align: right;\">682</td></tr><tr><td class = \"rowNumber\" style = \"font-weight: bold; text-align: right;\">521</td><td style = \"text-align: right;\">55</td><td style = \"text-align: left;\">Widowed</td><td style = \"text-align: left;\">M</td><td style = \"text-align: right;\">80000</td><td style = \"text-align: right;\">689</td></tr><tr><td class = \"rowNumber\" style = \"font-weight: bold; text-align: right;\">522</td><td style = \"text-align: right;\">60</td><td style = \"text-align: left;\">Widowed</td><td style = \"text-align: left;\">M</td><td style = \"text-align: right;\">80000</td><td style = \"text-align: right;\">679</td></tr><tr><td class = \"rowNumber\" style = \"font-weight: bold; text-align: right;\">523</td><td style = \"text-align: right;\">65</td><td style = \"text-align: left;\">Widowed</td><td style = \"text-align: left;\">M</td><td style = \"text-align: right;\">80000</td><td style = \"text-align: right;\">667</td></tr><tr><td class = \"rowNumber\" style = \"font-weight: bold; text-align: right;\">524</td><td style = \"text-align: right;\">70</td><td style = \"text-align: left;\">Widowed</td><td style = \"text-align: left;\">M</td><td style = \"text-align: right;\">80000</td><td style = \"text-align: right;\">678</td></tr><tr><td class = \"rowNumber\" style = \"font-weight: bold; text-align: right;\">525</td><td style = \"text-align: right;\">75</td><td style = \"text-align: left;\">Widowed</td><td style = \"text-align: left;\">M</td><td style = \"text-align: right;\">80000</td><td style = \"text-align: right;\">695</td></tr><tr><td class = \"rowNumber\" style = \"font-weight: bold; text-align: right;\">526</td><td style = \"text-align: right;\">80</td><td style = \"text-align: left;\">Widowed</td><td style = \"text-align: left;\">M</td><td style = \"text-align: right;\">80000</td><td style = \"text-align: right;\">679</td></tr></tbody></table></div>"
      ],
      "text/latex": [
       "\\begin{tabular}{r|ccccc}\n",
       "\t& AGE & MARITAL\\_STATUS & SEX & INCOME & population\\\\\n",
       "\t\\hline\n",
       "\t& Int64? & String? & Char? & Int64? & Int64\\\\\n",
       "\t\\hline\n",
       "\t1 & 5 & \\emph{missing} & F & \\emph{missing} & 9991 \\\\\n",
       "\t2 & 10 & \\emph{missing} & F & \\emph{missing} & 9976 \\\\\n",
       "\t3 & 15 & \\emph{missing} & F & \\emph{missing} & 9995 \\\\\n",
       "\t4 & 20 & Divorced & F & 40000 & 924 \\\\\n",
       "\t5 & 25 & Divorced & F & 40000 & 919 \\\\\n",
       "\t6 & 30 & Divorced & F & 40000 & 182 \\\\\n",
       "\t7 & 35 & Divorced & F & 40000 & 180 \\\\\n",
       "\t8 & 40 & Divorced & F & 40000 & 179 \\\\\n",
       "\t9 & 45 & Divorced & F & 40000 & 179 \\\\\n",
       "\t10 & 50 & Divorced & F & 40000 & 177 \\\\\n",
       "\t11 & 55 & Divorced & F & 40000 & 177 \\\\\n",
       "\t12 & 60 & Divorced & F & 40000 & 178 \\\\\n",
       "\t13 & 65 & Divorced & F & 40000 & 176 \\\\\n",
       "\t14 & 70 & Divorced & F & 40000 & 179 \\\\\n",
       "\t15 & 75 & Divorced & F & 40000 & 179 \\\\\n",
       "\t16 & 80 & Divorced & F & 40000 & 178 \\\\\n",
       "\t17 & 20 & Married & F & 40000 & 1392 \\\\\n",
       "\t18 & 25 & Married & F & 40000 & 1384 \\\\\n",
       "\t19 & 30 & Married & F & 40000 & 274 \\\\\n",
       "\t20 & 35 & Married & F & 40000 & 270 \\\\\n",
       "\t21 & 40 & Married & F & 40000 & 269 \\\\\n",
       "\t22 & 45 & Married & F & 40000 & 270 \\\\\n",
       "\t23 & 50 & Married & F & 40000 & 267 \\\\\n",
       "\t24 & 55 & Married & F & 40000 & 267 \\\\\n",
       "\t$\\dots$ & $\\dots$ & $\\dots$ & $\\dots$ & $\\dots$ & $\\dots$ \\\\\n",
       "\\end{tabular}\n"
      ],
      "text/plain": [
       "\u001b[1m526×5 DataFrame\u001b[0m\n",
       "\u001b[1m Row \u001b[0m│\u001b[1m AGE    \u001b[0m\u001b[1m MARITAL_STATUS \u001b[0m\u001b[1m SEX   \u001b[0m\u001b[1m INCOME  \u001b[0m\u001b[1m population \u001b[0m\n",
       "     │\u001b[90m Int64? \u001b[0m\u001b[90m String?        \u001b[0m\u001b[90m Char? \u001b[0m\u001b[90m Int64?  \u001b[0m\u001b[90m Int64      \u001b[0m\n",
       "─────┼────────────────────────────────────────────────────\n",
       "   1 │      5 \u001b[90m missing        \u001b[0m F     \u001b[90m missing \u001b[0m       9991\n",
       "   2 │     10 \u001b[90m missing        \u001b[0m F     \u001b[90m missing \u001b[0m       9976\n",
       "   3 │     15 \u001b[90m missing        \u001b[0m F     \u001b[90m missing \u001b[0m       9995\n",
       "   4 │     20  Divorced        F        40000         924\n",
       "   5 │     25  Divorced        F        40000         919\n",
       "   6 │     30  Divorced        F        40000         182\n",
       "   7 │     35  Divorced        F        40000         180\n",
       "   8 │     40  Divorced        F        40000         179\n",
       "  ⋮  │   ⋮           ⋮           ⋮       ⋮         ⋮\n",
       " 520 │     50  Widowed         M        80000         682\n",
       " 521 │     55  Widowed         M        80000         689\n",
       " 522 │     60  Widowed         M        80000         679\n",
       " 523 │     65  Widowed         M        80000         667\n",
       " 524 │     70  Widowed         M        80000         678\n",
       " 525 │     75  Widowed         M        80000         695\n",
       " 526 │     80  Widowed         M        80000         679\n",
       "\u001b[36m                                          511 rows omitted\u001b[0m"
      ]
     },
     "metadata": {},
     "output_type": "display_data"
    }
   ],
   "source": [
    "modified = SyntheticPopulation.generate_joint_distribution(dependent_age_sex, dependent_sex_marital, dependent_income, config_file = \"ind_modified.json\")\n",
    "modified = modified[:, Not(:id)]"
   ]
  },
  {
   "attachments": {},
   "cell_type": "markdown",
   "metadata": {},
   "source": [
    "### 1.4. Evaluation of fit of generated dependent population.\n",
    "Finally, we evaluate if the generated population is correct. We use approach based on Z-score described by [Williamson, 2013] [1].\n",
    "\n",
    "\n",
    "[1] Williamson, P. (2013). An evaluation of two synthetic small-area microdata simulation methodologies: Synthetic reconstruction and combinatorial optimisation. Spatial microsimulation: A reference guide for users, 19-47. https://ndl.ethernet.edu.et/bitstream/123456789/14722/1/205.pdf#page=38"
   ]
  },
  {
   "attachments": {},
   "cell_type": "markdown",
   "metadata": {},
   "source": [
    "#### Guo, Bhat, 2007"
   ]
  },
  {
   "cell_type": "code",
   "execution_count": 50,
   "metadata": {},
   "outputs": [
    {
     "name": "stdout",
     "output_type": "stream",
     "text": [
      "=================\n",
      "=Cell statistics=\n",
      "=================\n",
      "Percentage of well fitting values at 0.95 confidence interval: 0.009505703422053232\n",
      "Percentage of well fitting values at 0.90 confidence interval: 0.005703422053231939\n",
      "\n",
      "==================\n",
      "=Table statistics=\n",
      "==================\n",
      "Statistic value equals: Inf\n",
      "Table is not well fitting.\n",
      "\n"
     ]
    },
    {
     "data": {
      "text/html": [
       "<div><div style = \"float: left;\"><span>526×7 DataFrame</span></div><div style = \"float: right;\"><span style = \"font-style: italic;\">501 rows omitted</span></div><div style = \"clear: both;\"></div></div><div class = \"data-frame\" style = \"overflow-x: scroll;\"><table class = \"data-frame\" style = \"margin-bottom: 6px;\"><thead><tr class = \"header\"><th class = \"rowNumber\" style = \"font-weight: bold; text-align: right;\">Row</th><th style = \"text-align: left;\">AGE</th><th style = \"text-align: left;\">MARITAL_STATUS</th><th style = \"text-align: left;\">SEX</th><th style = \"text-align: left;\">INCOME</th><th style = \"text-align: left;\">population</th><th style = \"text-align: left;\">estimated_population</th><th style = \"text-align: left;\">Z_score</th></tr><tr class = \"subheader headerLastRow\"><th class = \"rowNumber\" style = \"font-weight: bold; text-align: right;\"></th><th title = \"Int64\" style = \"text-align: left;\">Int64</th><th title = \"Union{Missing, String}\" style = \"text-align: left;\">String?</th><th title = \"Char\" style = \"text-align: left;\">Char</th><th title = \"Union{Missing, Int64}\" style = \"text-align: left;\">Int64?</th><th title = \"Int64\" style = \"text-align: left;\">Int64</th><th title = \"Union{Missing, Int64}\" style = \"text-align: left;\">Int64?</th><th title = \"Float64\" style = \"text-align: left;\">Float64</th></tr></thead><tbody><tr><td class = \"rowNumber\" style = \"font-weight: bold; text-align: right;\">1</td><td style = \"text-align: right;\">20</td><td style = \"text-align: left;\">Divorced</td><td style = \"text-align: left;\">F</td><td style = \"text-align: right;\">40000</td><td style = \"text-align: right;\">279</td><td style = \"text-align: right;\">477</td><td style = \"text-align: right;\">-11.8595</td></tr><tr><td class = \"rowNumber\" style = \"font-weight: bold; text-align: right;\">2</td><td style = \"text-align: right;\">20</td><td style = \"text-align: left;\">Divorced</td><td style = \"text-align: left;\">F</td><td style = \"text-align: right;\">50000</td><td style = \"text-align: right;\">2686</td><td style = \"text-align: right;\">1081</td><td style = \"text-align: right;\">31.1082</td></tr><tr><td class = \"rowNumber\" style = \"font-weight: bold; text-align: right;\">3</td><td style = \"text-align: right;\">20</td><td style = \"text-align: left;\">Divorced</td><td style = \"text-align: left;\">F</td><td style = \"text-align: right;\">60000</td><td style = \"text-align: right;\">0</td><td style = \"text-align: right;\">505</td><td style = \"text-align: right;\">-Inf</td></tr><tr><td class = \"rowNumber\" style = \"font-weight: bold; text-align: right;\">4</td><td style = \"text-align: right;\">20</td><td style = \"text-align: left;\">Divorced</td><td style = \"text-align: left;\">F</td><td style = \"text-align: right;\">70000</td><td style = \"text-align: right;\">0</td><td style = \"text-align: right;\">484</td><td style = \"text-align: right;\">-Inf</td></tr><tr><td class = \"rowNumber\" style = \"font-weight: bold; text-align: right;\">5</td><td style = \"text-align: right;\">20</td><td style = \"text-align: left;\">Divorced</td><td style = \"text-align: left;\">F</td><td style = \"text-align: right;\">80000</td><td style = \"text-align: right;\">0</td><td style = \"text-align: right;\">469</td><td style = \"text-align: right;\">-Inf</td></tr><tr><td class = \"rowNumber\" style = \"font-weight: bold; text-align: right;\">6</td><td style = \"text-align: right;\">20</td><td style = \"text-align: left;\">Divorced</td><td style = \"text-align: left;\">M</td><td style = \"text-align: right;\">40000</td><td style = \"text-align: right;\">392</td><td style = \"text-align: right;\">707</td><td style = \"text-align: right;\">-15.9203</td></tr><tr><td class = \"rowNumber\" style = \"font-weight: bold; text-align: right;\">7</td><td style = \"text-align: right;\">20</td><td style = \"text-align: left;\">Divorced</td><td style = \"text-align: left;\">M</td><td style = \"text-align: right;\">50000</td><td style = \"text-align: right;\">4067</td><td style = \"text-align: right;\">1600</td><td style = \"text-align: right;\">38.949</td></tr><tr><td class = \"rowNumber\" style = \"font-weight: bold; text-align: right;\">8</td><td style = \"text-align: right;\">20</td><td style = \"text-align: left;\">Divorced</td><td style = \"text-align: left;\">M</td><td style = \"text-align: right;\">60000</td><td style = \"text-align: right;\">0</td><td style = \"text-align: right;\">748</td><td style = \"text-align: right;\">-Inf</td></tr><tr><td class = \"rowNumber\" style = \"font-weight: bold; text-align: right;\">9</td><td style = \"text-align: right;\">20</td><td style = \"text-align: left;\">Divorced</td><td style = \"text-align: left;\">M</td><td style = \"text-align: right;\">70000</td><td style = \"text-align: right;\">0</td><td style = \"text-align: right;\">717</td><td style = \"text-align: right;\">-Inf</td></tr><tr><td class = \"rowNumber\" style = \"font-weight: bold; text-align: right;\">10</td><td style = \"text-align: right;\">20</td><td style = \"text-align: left;\">Divorced</td><td style = \"text-align: left;\">M</td><td style = \"text-align: right;\">80000</td><td style = \"text-align: right;\">0</td><td style = \"text-align: right;\">695</td><td style = \"text-align: right;\">-Inf</td></tr><tr><td class = \"rowNumber\" style = \"font-weight: bold; text-align: right;\">11</td><td style = \"text-align: right;\">20</td><td style = \"text-align: left;\">Married</td><td style = \"text-align: left;\">F</td><td style = \"text-align: right;\">40000</td><td style = \"text-align: right;\">444</td><td style = \"text-align: right;\">719</td><td style = \"text-align: right;\">-13.0606</td></tr><tr><td class = \"rowNumber\" style = \"font-weight: bold; text-align: right;\">12</td><td style = \"text-align: right;\">20</td><td style = \"text-align: left;\">Married</td><td style = \"text-align: left;\">F</td><td style = \"text-align: right;\">50000</td><td style = \"text-align: right;\">4107</td><td style = \"text-align: right;\">1628</td><td style = \"text-align: right;\">38.95</td></tr><tr><td class = \"rowNumber\" style = \"font-weight: bold; text-align: right;\">13</td><td style = \"text-align: right;\">20</td><td style = \"text-align: left;\">Married</td><td style = \"text-align: left;\">F</td><td style = \"text-align: right;\">60000</td><td style = \"text-align: right;\">0</td><td style = \"text-align: right;\">761</td><td style = \"text-align: right;\">-Inf</td></tr><tr><td style = \"text-align: right;\">&vellip;</td><td style = \"text-align: right;\">&vellip;</td><td style = \"text-align: right;\">&vellip;</td><td style = \"text-align: right;\">&vellip;</td><td style = \"text-align: right;\">&vellip;</td><td style = \"text-align: right;\">&vellip;</td><td style = \"text-align: right;\">&vellip;</td><td style = \"text-align: right;\">&vellip;</td></tr><tr><td class = \"rowNumber\" style = \"font-weight: bold; text-align: right;\">515</td><td style = \"text-align: right;\">80</td><td style = \"text-align: left;\">Widowed</td><td style = \"text-align: left;\">F</td><td style = \"text-align: right;\">80000</td><td style = \"text-align: right;\">11</td><td style = \"text-align: right;\">128</td><td style = \"text-align: right;\">-35.2775</td></tr><tr><td class = \"rowNumber\" style = \"font-weight: bold; text-align: right;\">516</td><td style = \"text-align: right;\">80</td><td style = \"text-align: left;\">Widowed</td><td style = \"text-align: left;\">M</td><td style = \"text-align: right;\">40000</td><td style = \"text-align: right;\">29</td><td style = \"text-align: right;\">518</td><td style = \"text-align: right;\">-90.8094</td></tr><tr><td class = \"rowNumber\" style = \"font-weight: bold; text-align: right;\">517</td><td style = \"text-align: right;\">80</td><td style = \"text-align: left;\">Widowed</td><td style = \"text-align: left;\">M</td><td style = \"text-align: right;\">50000</td><td style = \"text-align: right;\">233</td><td style = \"text-align: right;\">1173</td><td style = \"text-align: right;\">-61.6054</td></tr><tr><td class = \"rowNumber\" style = \"font-weight: bold; text-align: right;\">518</td><td style = \"text-align: right;\">80</td><td style = \"text-align: left;\">Widowed</td><td style = \"text-align: left;\">M</td><td style = \"text-align: right;\">60000</td><td style = \"text-align: right;\">662</td><td style = \"text-align: right;\">549</td><td style = \"text-align: right;\">4.39672</td></tr><tr><td class = \"rowNumber\" style = \"font-weight: bold; text-align: right;\">519</td><td style = \"text-align: right;\">80</td><td style = \"text-align: left;\">Widowed</td><td style = \"text-align: left;\">M</td><td style = \"text-align: right;\">70000</td><td style = \"text-align: right;\">1006</td><td style = \"text-align: right;\">525</td><td style = \"text-align: right;\">15.1906</td></tr><tr><td class = \"rowNumber\" style = \"font-weight: bold; text-align: right;\">520</td><td style = \"text-align: right;\">80</td><td style = \"text-align: left;\">Widowed</td><td style = \"text-align: left;\">M</td><td style = \"text-align: right;\">80000</td><td style = \"text-align: right;\">1363</td><td style = \"text-align: right;\">509</td><td style = \"text-align: right;\">23.1846</td></tr><tr><td class = \"rowNumber\" style = \"font-weight: bold; text-align: right;\">521</td><td style = \"text-align: right;\">5</td><td style = \"text-align: left;\">missing</td><td style = \"text-align: left;\">F</td><td style = \"text-align: right;\">missing</td><td style = \"text-align: right;\">9993</td><td style = \"text-align: right;\">0</td><td style = \"text-align: right;\">101.673</td></tr><tr><td class = \"rowNumber\" style = \"font-weight: bold; text-align: right;\">522</td><td style = \"text-align: right;\">5</td><td style = \"text-align: left;\">missing</td><td style = \"text-align: left;\">M</td><td style = \"text-align: right;\">missing</td><td style = \"text-align: right;\">9928</td><td style = \"text-align: right;\">0</td><td style = \"text-align: right;\">101.33</td></tr><tr><td class = \"rowNumber\" style = \"font-weight: bold; text-align: right;\">523</td><td style = \"text-align: right;\">10</td><td style = \"text-align: left;\">missing</td><td style = \"text-align: left;\">F</td><td style = \"text-align: right;\">missing</td><td style = \"text-align: right;\">9975</td><td style = \"text-align: right;\">0</td><td style = \"text-align: right;\">101.578</td></tr><tr><td class = \"rowNumber\" style = \"font-weight: bold; text-align: right;\">524</td><td style = \"text-align: right;\">10</td><td style = \"text-align: left;\">missing</td><td style = \"text-align: left;\">M</td><td style = \"text-align: right;\">missing</td><td style = \"text-align: right;\">9947</td><td style = \"text-align: right;\">0</td><td style = \"text-align: right;\">101.43</td></tr><tr><td class = \"rowNumber\" style = \"font-weight: bold; text-align: right;\">525</td><td style = \"text-align: right;\">15</td><td style = \"text-align: left;\">missing</td><td style = \"text-align: left;\">F</td><td style = \"text-align: right;\">missing</td><td style = \"text-align: right;\">9994</td><td style = \"text-align: right;\">0</td><td style = \"text-align: right;\">101.678</td></tr><tr><td class = \"rowNumber\" style = \"font-weight: bold; text-align: right;\">526</td><td style = \"text-align: right;\">15</td><td style = \"text-align: left;\">missing</td><td style = \"text-align: left;\">M</td><td style = \"text-align: right;\">missing</td><td style = \"text-align: right;\">10163</td><td style = \"text-align: right;\">0</td><td style = \"text-align: right;\">102.564</td></tr></tbody></table></div>"
      ],
      "text/latex": [
       "\\begin{tabular}{r|ccccccc}\n",
       "\t& AGE & MARITAL\\_STATUS & SEX & INCOME & population & estimated\\_population & Z\\_score\\\\\n",
       "\t\\hline\n",
       "\t& Int64 & String? & Char & Int64? & Int64 & Int64? & Float64\\\\\n",
       "\t\\hline\n",
       "\t1 & 20 & Divorced & F & 40000 & 279 & 477 & -11.8595 \\\\\n",
       "\t2 & 20 & Divorced & F & 50000 & 2686 & 1081 & 31.1082 \\\\\n",
       "\t3 & 20 & Divorced & F & 60000 & 0 & 505 & -Inf \\\\\n",
       "\t4 & 20 & Divorced & F & 70000 & 0 & 484 & -Inf \\\\\n",
       "\t5 & 20 & Divorced & F & 80000 & 0 & 469 & -Inf \\\\\n",
       "\t6 & 20 & Divorced & M & 40000 & 392 & 707 & -15.9203 \\\\\n",
       "\t7 & 20 & Divorced & M & 50000 & 4067 & 1600 & 38.949 \\\\\n",
       "\t8 & 20 & Divorced & M & 60000 & 0 & 748 & -Inf \\\\\n",
       "\t9 & 20 & Divorced & M & 70000 & 0 & 717 & -Inf \\\\\n",
       "\t10 & 20 & Divorced & M & 80000 & 0 & 695 & -Inf \\\\\n",
       "\t11 & 20 & Married & F & 40000 & 444 & 719 & -13.0606 \\\\\n",
       "\t12 & 20 & Married & F & 50000 & 4107 & 1628 & 38.95 \\\\\n",
       "\t13 & 20 & Married & F & 60000 & 0 & 761 & -Inf \\\\\n",
       "\t14 & 20 & Married & F & 70000 & 0 & 729 & -Inf \\\\\n",
       "\t15 & 20 & Married & F & 80000 & 0 & 707 & -Inf \\\\\n",
       "\t16 & 20 & Married & M & 40000 & 255 & 473 & -13.6575 \\\\\n",
       "\t17 & 20 & Married & M & 50000 & 2684 & 1071 & 31.2748 \\\\\n",
       "\t18 & 20 & Married & M & 60000 & 0 & 501 & -Inf \\\\\n",
       "\t19 & 20 & Married & M & 70000 & 0 & 480 & -Inf \\\\\n",
       "\t20 & 20 & Married & M & 80000 & 0 & 465 & -Inf \\\\\n",
       "\t21 & 20 & Not\\_married & F & 40000 & 535 & 943 & -17.6551 \\\\\n",
       "\t22 & 20 & Not\\_married & F & 50000 & 5493 & 2136 & 45.7151 \\\\\n",
       "\t23 & 20 & Not\\_married & F & 60000 & 0 & 999 & -Inf \\\\\n",
       "\t24 & 20 & Not\\_married & F & 70000 & 0 & 956 & -Inf \\\\\n",
       "\t$\\dots$ & $\\dots$ & $\\dots$ & $\\dots$ & $\\dots$ & $\\dots$ & $\\dots$ & $\\dots$ \\\\\n",
       "\\end{tabular}\n"
      ],
      "text/plain": [
       "\u001b[1m526×7 DataFrame\u001b[0m\n",
       "\u001b[1m Row \u001b[0m│\u001b[1m AGE   \u001b[0m\u001b[1m MARITAL_STATUS \u001b[0m\u001b[1m SEX  \u001b[0m\u001b[1m INCOME  \u001b[0m\u001b[1m population \u001b[0m\u001b[1m estimated_population \u001b[0m\u001b[1m\u001b[0m ⋯\n",
       "     │\u001b[90m Int64 \u001b[0m\u001b[90m String?        \u001b[0m\u001b[90m Char \u001b[0m\u001b[90m Int64?  \u001b[0m\u001b[90m Int64      \u001b[0m\u001b[90m Int64?               \u001b[0m\u001b[90m\u001b[0m ⋯\n",
       "─────┼──────────────────────────────────────────────────────────────────────────\n",
       "   1 │    20  Divorced        F       40000         279                   477  ⋯\n",
       "   2 │    20  Divorced        F       50000        2686                  1081\n",
       "   3 │    20  Divorced        F       60000           0                   505\n",
       "   4 │    20  Divorced        F       70000           0                   484\n",
       "   5 │    20  Divorced        F       80000           0                   469  ⋯\n",
       "   6 │    20  Divorced        M       40000         392                   707\n",
       "   7 │    20  Divorced        M       50000        4067                  1600\n",
       "   8 │    20  Divorced        M       60000           0                   748\n",
       "  ⋮  │   ⋮          ⋮          ⋮       ⋮         ⋮                ⋮            ⋱\n",
       " 520 │    80  Widowed         M       80000        1363                   509  ⋯\n",
       " 521 │     5 \u001b[90m missing        \u001b[0m F    \u001b[90m missing \u001b[0m       9993                     0\n",
       " 522 │     5 \u001b[90m missing        \u001b[0m M    \u001b[90m missing \u001b[0m       9928                     0\n",
       " 523 │    10 \u001b[90m missing        \u001b[0m F    \u001b[90m missing \u001b[0m       9975                     0\n",
       " 524 │    10 \u001b[90m missing        \u001b[0m M    \u001b[90m missing \u001b[0m       9947                     0  ⋯\n",
       " 525 │    15 \u001b[90m missing        \u001b[0m F    \u001b[90m missing \u001b[0m       9994                     0\n",
       " 526 │    15 \u001b[90m missing        \u001b[0m M    \u001b[90m missing \u001b[0m      10163                     0\n",
       "\u001b[36m                                                   1 column and 511 rows omitted\u001b[0m"
      ]
     },
     "metadata": {},
     "output_type": "display_data"
    }
   ],
   "source": [
    "validate_table(guo_bhat, dependent_population)"
   ]
  },
  {
   "attachments": {},
   "cell_type": "markdown",
   "metadata": {},
   "source": [
    "#### Ponge, Enbergs, Schungel, Hellingrath, Karch, Ludwig, 2021"
   ]
  },
  {
   "cell_type": "code",
   "execution_count": 51,
   "metadata": {},
   "outputs": [
    {
     "name": "stdout",
     "output_type": "stream",
     "text": [
      "=================\n",
      "=Cell statistics=\n",
      "=================\n",
      "Percentage of well fitting values at 0.95 confidence interval: 0.2585551330798479\n",
      "Percentage of well fitting values at 0.90 confidence interval: 0.24524714828897337\n",
      "\n",
      "==================\n",
      "=Table statistics=\n",
      "==================\n",
      "Statistic value equals: 599591.3448394606\n",
      "Table is not well fitting.\n",
      "\n"
     ]
    },
    {
     "data": {
      "text/html": [
       "<div><div style = \"float: left;\"><span>526×7 DataFrame</span></div><div style = \"float: right;\"><span style = \"font-style: italic;\">501 rows omitted</span></div><div style = \"clear: both;\"></div></div><div class = \"data-frame\" style = \"overflow-x: scroll;\"><table class = \"data-frame\" style = \"margin-bottom: 6px;\"><thead><tr class = \"header\"><th class = \"rowNumber\" style = \"font-weight: bold; text-align: right;\">Row</th><th style = \"text-align: left;\">AGE</th><th style = \"text-align: left;\">MARITAL_STATUS</th><th style = \"text-align: left;\">SEX</th><th style = \"text-align: left;\">INCOME</th><th style = \"text-align: left;\">population</th><th style = \"text-align: left;\">estimated_population</th><th style = \"text-align: left;\">Z_score</th></tr><tr class = \"subheader headerLastRow\"><th class = \"rowNumber\" style = \"font-weight: bold; text-align: right;\"></th><th title = \"Int64\" style = \"text-align: left;\">Int64</th><th title = \"Union{Missing, String}\" style = \"text-align: left;\">String?</th><th title = \"Char\" style = \"text-align: left;\">Char</th><th title = \"Union{Missing, Int64}\" style = \"text-align: left;\">Int64?</th><th title = \"Int64\" style = \"text-align: left;\">Int64</th><th title = \"Union{Missing, Int64}\" style = \"text-align: left;\">Int64?</th><th title = \"Real\" style = \"text-align: left;\">Real</th></tr></thead><tbody><tr><td class = \"rowNumber\" style = \"font-weight: bold; text-align: right;\">1</td><td style = \"text-align: right;\">20</td><td style = \"text-align: left;\">Divorced</td><td style = \"text-align: left;\">F</td><td style = \"text-align: right;\">40000</td><td style = \"text-align: right;\">279</td><td style = \"text-align: right;\">924</td><td style = \"text-align: right;\">-38.6331</td></tr><tr><td class = \"rowNumber\" style = \"font-weight: bold; text-align: right;\">2</td><td style = \"text-align: right;\">20</td><td style = \"text-align: left;\">Divorced</td><td style = \"text-align: left;\">F</td><td style = \"text-align: right;\">50000</td><td style = \"text-align: right;\">2686</td><td style = \"text-align: right;\">2092</td><td style = \"text-align: right;\">11.5129</td></tr><tr><td class = \"rowNumber\" style = \"font-weight: bold; text-align: right;\">3</td><td style = \"text-align: right;\">20</td><td style = \"text-align: left;\">Divorced</td><td style = \"text-align: left;\">F</td><td style = \"text-align: right;\">60000</td><td style = \"text-align: right;\">0</td><td style = \"text-align: right;\">0</td><td style = \"text-align: right;\">0</td></tr><tr><td class = \"rowNumber\" style = \"font-weight: bold; text-align: right;\">4</td><td style = \"text-align: right;\">20</td><td style = \"text-align: left;\">Divorced</td><td style = \"text-align: left;\">F</td><td style = \"text-align: right;\">70000</td><td style = \"text-align: right;\">0</td><td style = \"text-align: right;\">0</td><td style = \"text-align: right;\">0</td></tr><tr><td class = \"rowNumber\" style = \"font-weight: bold; text-align: right;\">5</td><td style = \"text-align: right;\">20</td><td style = \"text-align: left;\">Divorced</td><td style = \"text-align: left;\">F</td><td style = \"text-align: right;\">80000</td><td style = \"text-align: right;\">0</td><td style = \"text-align: right;\">0</td><td style = \"text-align: right;\">0</td></tr><tr><td class = \"rowNumber\" style = \"font-weight: bold; text-align: right;\">6</td><td style = \"text-align: right;\">20</td><td style = \"text-align: left;\">Divorced</td><td style = \"text-align: left;\">M</td><td style = \"text-align: right;\">40000</td><td style = \"text-align: right;\">392</td><td style = \"text-align: right;\">1368</td><td style = \"text-align: right;\">-49.3277</td></tr><tr><td class = \"rowNumber\" style = \"font-weight: bold; text-align: right;\">7</td><td style = \"text-align: right;\">20</td><td style = \"text-align: left;\">Divorced</td><td style = \"text-align: left;\">M</td><td style = \"text-align: right;\">50000</td><td style = \"text-align: right;\">4067</td><td style = \"text-align: right;\">3099</td><td style = \"text-align: right;\">15.2828</td></tr><tr><td class = \"rowNumber\" style = \"font-weight: bold; text-align: right;\">8</td><td style = \"text-align: right;\">20</td><td style = \"text-align: left;\">Divorced</td><td style = \"text-align: left;\">M</td><td style = \"text-align: right;\">60000</td><td style = \"text-align: right;\">0</td><td style = \"text-align: right;\">0</td><td style = \"text-align: right;\">0</td></tr><tr><td class = \"rowNumber\" style = \"font-weight: bold; text-align: right;\">9</td><td style = \"text-align: right;\">20</td><td style = \"text-align: left;\">Divorced</td><td style = \"text-align: left;\">M</td><td style = \"text-align: right;\">70000</td><td style = \"text-align: right;\">0</td><td style = \"text-align: right;\">0</td><td style = \"text-align: right;\">0</td></tr><tr><td class = \"rowNumber\" style = \"font-weight: bold; text-align: right;\">10</td><td style = \"text-align: right;\">20</td><td style = \"text-align: left;\">Divorced</td><td style = \"text-align: left;\">M</td><td style = \"text-align: right;\">80000</td><td style = \"text-align: right;\">0</td><td style = \"text-align: right;\">0</td><td style = \"text-align: right;\">0</td></tr><tr><td class = \"rowNumber\" style = \"font-weight: bold; text-align: right;\">11</td><td style = \"text-align: right;\">20</td><td style = \"text-align: left;\">Married</td><td style = \"text-align: left;\">F</td><td style = \"text-align: right;\">40000</td><td style = \"text-align: right;\">444</td><td style = \"text-align: right;\">1392</td><td style = \"text-align: right;\">-45.0234</td></tr><tr><td class = \"rowNumber\" style = \"font-weight: bold; text-align: right;\">12</td><td style = \"text-align: right;\">20</td><td style = \"text-align: left;\">Married</td><td style = \"text-align: left;\">F</td><td style = \"text-align: right;\">50000</td><td style = \"text-align: right;\">4107</td><td style = \"text-align: right;\">3151</td><td style = \"text-align: right;\">15.0207</td></tr><tr><td class = \"rowNumber\" style = \"font-weight: bold; text-align: right;\">13</td><td style = \"text-align: right;\">20</td><td style = \"text-align: left;\">Married</td><td style = \"text-align: left;\">F</td><td style = \"text-align: right;\">60000</td><td style = \"text-align: right;\">0</td><td style = \"text-align: right;\">0</td><td style = \"text-align: right;\">0</td></tr><tr><td style = \"text-align: right;\">&vellip;</td><td style = \"text-align: right;\">&vellip;</td><td style = \"text-align: right;\">&vellip;</td><td style = \"text-align: right;\">&vellip;</td><td style = \"text-align: right;\">&vellip;</td><td style = \"text-align: right;\">&vellip;</td><td style = \"text-align: right;\">&vellip;</td><td style = \"text-align: right;\">&vellip;</td></tr><tr><td class = \"rowNumber\" style = \"font-weight: bold; text-align: right;\">515</td><td style = \"text-align: right;\">80</td><td style = \"text-align: left;\">Widowed</td><td style = \"text-align: left;\">F</td><td style = \"text-align: right;\">80000</td><td style = \"text-align: right;\">11</td><td style = \"text-align: right;\">160</td><td style = \"text-align: right;\">-44.926</td></tr><tr><td class = \"rowNumber\" style = \"font-weight: bold; text-align: right;\">516</td><td style = \"text-align: right;\">80</td><td style = \"text-align: left;\">Widowed</td><td style = \"text-align: left;\">M</td><td style = \"text-align: right;\">40000</td><td style = \"text-align: right;\">29</td><td style = \"text-align: right;\">397</td><td style = \"text-align: right;\">-68.3392</td></tr><tr><td class = \"rowNumber\" style = \"font-weight: bold; text-align: right;\">517</td><td style = \"text-align: right;\">80</td><td style = \"text-align: left;\">Widowed</td><td style = \"text-align: left;\">M</td><td style = \"text-align: right;\">50000</td><td style = \"text-align: right;\">233</td><td style = \"text-align: right;\">899</td><td style = \"text-align: right;\">-43.6481</td></tr><tr><td class = \"rowNumber\" style = \"font-weight: bold; text-align: right;\">518</td><td style = \"text-align: right;\">80</td><td style = \"text-align: left;\">Widowed</td><td style = \"text-align: left;\">M</td><td style = \"text-align: right;\">60000</td><td style = \"text-align: right;\">662</td><td style = \"text-align: right;\">686</td><td style = \"text-align: right;\">-0.933817</td></tr><tr><td class = \"rowNumber\" style = \"font-weight: bold; text-align: right;\">519</td><td style = \"text-align: right;\">80</td><td style = \"text-align: left;\">Widowed</td><td style = \"text-align: left;\">M</td><td style = \"text-align: right;\">70000</td><td style = \"text-align: right;\">1006</td><td style = \"text-align: right;\">657</td><td style = \"text-align: right;\">11.0219</td></tr><tr><td class = \"rowNumber\" style = \"font-weight: bold; text-align: right;\">520</td><td style = \"text-align: right;\">80</td><td style = \"text-align: left;\">Widowed</td><td style = \"text-align: left;\">M</td><td style = \"text-align: right;\">80000</td><td style = \"text-align: right;\">1363</td><td style = \"text-align: right;\">637</td><td style = \"text-align: right;\">19.7096</td></tr><tr><td class = \"rowNumber\" style = \"font-weight: bold; text-align: right;\">521</td><td style = \"text-align: right;\">5</td><td style = \"text-align: left;\">missing</td><td style = \"text-align: left;\">F</td><td style = \"text-align: right;\">missing</td><td style = \"text-align: right;\">9993</td><td style = \"text-align: right;\">0</td><td style = \"text-align: right;\">101.673</td></tr><tr><td class = \"rowNumber\" style = \"font-weight: bold; text-align: right;\">522</td><td style = \"text-align: right;\">5</td><td style = \"text-align: left;\">missing</td><td style = \"text-align: left;\">M</td><td style = \"text-align: right;\">missing</td><td style = \"text-align: right;\">9928</td><td style = \"text-align: right;\">0</td><td style = \"text-align: right;\">101.33</td></tr><tr><td class = \"rowNumber\" style = \"font-weight: bold; text-align: right;\">523</td><td style = \"text-align: right;\">10</td><td style = \"text-align: left;\">missing</td><td style = \"text-align: left;\">F</td><td style = \"text-align: right;\">missing</td><td style = \"text-align: right;\">9975</td><td style = \"text-align: right;\">0</td><td style = \"text-align: right;\">101.578</td></tr><tr><td class = \"rowNumber\" style = \"font-weight: bold; text-align: right;\">524</td><td style = \"text-align: right;\">10</td><td style = \"text-align: left;\">missing</td><td style = \"text-align: left;\">M</td><td style = \"text-align: right;\">missing</td><td style = \"text-align: right;\">9947</td><td style = \"text-align: right;\">0</td><td style = \"text-align: right;\">101.43</td></tr><tr><td class = \"rowNumber\" style = \"font-weight: bold; text-align: right;\">525</td><td style = \"text-align: right;\">15</td><td style = \"text-align: left;\">missing</td><td style = \"text-align: left;\">F</td><td style = \"text-align: right;\">missing</td><td style = \"text-align: right;\">9994</td><td style = \"text-align: right;\">0</td><td style = \"text-align: right;\">101.678</td></tr><tr><td class = \"rowNumber\" style = \"font-weight: bold; text-align: right;\">526</td><td style = \"text-align: right;\">15</td><td style = \"text-align: left;\">missing</td><td style = \"text-align: left;\">M</td><td style = \"text-align: right;\">missing</td><td style = \"text-align: right;\">10163</td><td style = \"text-align: right;\">0</td><td style = \"text-align: right;\">102.564</td></tr></tbody></table></div>"
      ],
      "text/latex": [
       "\\begin{tabular}{r|ccccccc}\n",
       "\t& AGE & MARITAL\\_STATUS & SEX & INCOME & population & estimated\\_population & Z\\_score\\\\\n",
       "\t\\hline\n",
       "\t& Int64 & String? & Char & Int64? & Int64 & Int64? & Real\\\\\n",
       "\t\\hline\n",
       "\t1 & 20 & Divorced & F & 40000 & 279 & 924 & -38.6331 \\\\\n",
       "\t2 & 20 & Divorced & F & 50000 & 2686 & 2092 & 11.5129 \\\\\n",
       "\t3 & 20 & Divorced & F & 60000 & 0 & 0 & 0 \\\\\n",
       "\t4 & 20 & Divorced & F & 70000 & 0 & 0 & 0 \\\\\n",
       "\t5 & 20 & Divorced & F & 80000 & 0 & 0 & 0 \\\\\n",
       "\t6 & 20 & Divorced & M & 40000 & 392 & 1368 & -49.3277 \\\\\n",
       "\t7 & 20 & Divorced & M & 50000 & 4067 & 3099 & 15.2828 \\\\\n",
       "\t8 & 20 & Divorced & M & 60000 & 0 & 0 & 0 \\\\\n",
       "\t9 & 20 & Divorced & M & 70000 & 0 & 0 & 0 \\\\\n",
       "\t10 & 20 & Divorced & M & 80000 & 0 & 0 & 0 \\\\\n",
       "\t11 & 20 & Married & F & 40000 & 444 & 1392 & -45.0234 \\\\\n",
       "\t12 & 20 & Married & F & 50000 & 4107 & 3151 & 15.0207 \\\\\n",
       "\t13 & 20 & Married & F & 60000 & 0 & 0 & 0 \\\\\n",
       "\t14 & 20 & Married & F & 70000 & 0 & 0 & 0 \\\\\n",
       "\t15 & 20 & Married & F & 80000 & 0 & 0 & 0 \\\\\n",
       "\t16 & 20 & Married & M & 40000 & 255 & 916 & -41.411 \\\\\n",
       "\t17 & 20 & Married & M & 50000 & 2684 & 2073 & 11.8468 \\\\\n",
       "\t18 & 20 & Married & M & 60000 & 0 & 0 & 0 \\\\\n",
       "\t19 & 20 & Married & M & 70000 & 0 & 0 & 0 \\\\\n",
       "\t20 & 20 & Married & M & 80000 & 0 & 0 & 0 \\\\\n",
       "\t21 & 20 & Not\\_married & F & 40000 & 535 & 1826 & -55.8646 \\\\\n",
       "\t22 & 20 & Not\\_married & F & 50000 & 5493 & 4135 & 18.493 \\\\\n",
       "\t23 & 20 & Not\\_married & F & 60000 & 0 & 0 & 0 \\\\\n",
       "\t24 & 20 & Not\\_married & F & 70000 & 0 & 0 & 0 \\\\\n",
       "\t$\\dots$ & $\\dots$ & $\\dots$ & $\\dots$ & $\\dots$ & $\\dots$ & $\\dots$ & $\\dots$ \\\\\n",
       "\\end{tabular}\n"
      ],
      "text/plain": [
       "\u001b[1m526×7 DataFrame\u001b[0m\n",
       "\u001b[1m Row \u001b[0m│\u001b[1m AGE   \u001b[0m\u001b[1m MARITAL_STATUS \u001b[0m\u001b[1m SEX  \u001b[0m\u001b[1m INCOME  \u001b[0m\u001b[1m population \u001b[0m\u001b[1m estimated_population \u001b[0m\u001b[1m\u001b[0m ⋯\n",
       "     │\u001b[90m Int64 \u001b[0m\u001b[90m String?        \u001b[0m\u001b[90m Char \u001b[0m\u001b[90m Int64?  \u001b[0m\u001b[90m Int64      \u001b[0m\u001b[90m Int64?               \u001b[0m\u001b[90m\u001b[0m ⋯\n",
       "─────┼──────────────────────────────────────────────────────────────────────────\n",
       "   1 │    20  Divorced        F       40000         279                   924  ⋯\n",
       "   2 │    20  Divorced        F       50000        2686                  2092\n",
       "   3 │    20  Divorced        F       60000           0                     0\n",
       "   4 │    20  Divorced        F       70000           0                     0\n",
       "   5 │    20  Divorced        F       80000           0                     0  ⋯\n",
       "   6 │    20  Divorced        M       40000         392                  1368\n",
       "   7 │    20  Divorced        M       50000        4067                  3099\n",
       "   8 │    20  Divorced        M       60000           0                     0\n",
       "  ⋮  │   ⋮          ⋮          ⋮       ⋮         ⋮                ⋮            ⋱\n",
       " 520 │    80  Widowed         M       80000        1363                   637  ⋯\n",
       " 521 │     5 \u001b[90m missing        \u001b[0m F    \u001b[90m missing \u001b[0m       9993                     0\n",
       " 522 │     5 \u001b[90m missing        \u001b[0m M    \u001b[90m missing \u001b[0m       9928                     0\n",
       " 523 │    10 \u001b[90m missing        \u001b[0m F    \u001b[90m missing \u001b[0m       9975                     0\n",
       " 524 │    10 \u001b[90m missing        \u001b[0m M    \u001b[90m missing \u001b[0m       9947                     0  ⋯\n",
       " 525 │    15 \u001b[90m missing        \u001b[0m F    \u001b[90m missing \u001b[0m       9994                     0\n",
       " 526 │    15 \u001b[90m missing        \u001b[0m M    \u001b[90m missing \u001b[0m      10163                     0\n",
       "\u001b[36m                                                   1 column and 511 rows omitted\u001b[0m"
      ]
     },
     "metadata": {},
     "output_type": "display_data"
    }
   ],
   "source": [
    "validate_table(ponge_et_al, dependent_population)"
   ]
  },
  {
   "attachments": {},
   "cell_type": "markdown",
   "metadata": {},
   "source": [
    "#### Modified algorithm"
   ]
  },
  {
   "cell_type": "code",
   "execution_count": 71,
   "metadata": {},
   "outputs": [
    {
     "name": "stdout",
     "output_type": "stream",
     "text": [
      "=================\n",
      "=Cell statistics=\n",
      "=================\n",
      "Percentage of well fitting values at 0.95 confidence interval: 0.2509505703422053\n"
     ]
    },
    {
     "name": "stdout",
     "output_type": "stream",
     "text": [
      "Percentage of well fitting values at 0.90 confidence interval: 0.21673003802281368\n",
      "\n",
      "==================\n",
      "=Table statistics=\n",
      "==================\n",
      "Statistic value equals: 530687.9161854419\n",
      "Table is not well fitting.\n",
      "\n"
     ]
    },
    {
     "data": {
      "text/html": [
       "<div><div style = \"float: left;\"><span>526×7 DataFrame</span></div><div style = \"float: right;\"><span style = \"font-style: italic;\">501 rows omitted</span></div><div style = \"clear: both;\"></div></div><div class = \"data-frame\" style = \"overflow-x: scroll;\"><table class = \"data-frame\" style = \"margin-bottom: 6px;\"><thead><tr class = \"header\"><th class = \"rowNumber\" style = \"font-weight: bold; text-align: right;\">Row</th><th style = \"text-align: left;\">AGE</th><th style = \"text-align: left;\">MARITAL_STATUS</th><th style = \"text-align: left;\">SEX</th><th style = \"text-align: left;\">INCOME</th><th style = \"text-align: left;\">population</th><th style = \"text-align: left;\">estimated_population</th><th style = \"text-align: left;\">Z_score</th></tr><tr class = \"subheader headerLastRow\"><th class = \"rowNumber\" style = \"font-weight: bold; text-align: right;\"></th><th title = \"Int64\" style = \"text-align: left;\">Int64</th><th title = \"Union{Missing, String}\" style = \"text-align: left;\">String?</th><th title = \"Char\" style = \"text-align: left;\">Char</th><th title = \"Union{Missing, Int64}\" style = \"text-align: left;\">Int64?</th><th title = \"Int64\" style = \"text-align: left;\">Int64</th><th title = \"Union{Missing, Int64}\" style = \"text-align: left;\">Int64?</th><th title = \"Real\" style = \"text-align: left;\">Real</th></tr></thead><tbody><tr><td class = \"rowNumber\" style = \"font-weight: bold; text-align: right;\">1</td><td style = \"text-align: right;\">5</td><td style = \"font-style: italic; text-align: left;\">missing</td><td style = \"text-align: left;\">F</td><td style = \"font-style: italic; text-align: right;\">missing</td><td style = \"text-align: right;\">9993</td><td style = \"text-align: right;\">9991</td><td style = \"text-align: right;\">0.0203488</td></tr><tr><td class = \"rowNumber\" style = \"font-weight: bold; text-align: right;\">2</td><td style = \"text-align: right;\">5</td><td style = \"font-style: italic; text-align: left;\">missing</td><td style = \"text-align: left;\">M</td><td style = \"font-style: italic; text-align: right;\">missing</td><td style = \"text-align: right;\">9928</td><td style = \"text-align: right;\">9928</td><td style = \"text-align: right;\">0.0</td></tr><tr><td class = \"rowNumber\" style = \"font-weight: bold; text-align: right;\">3</td><td style = \"text-align: right;\">10</td><td style = \"font-style: italic; text-align: left;\">missing</td><td style = \"text-align: left;\">F</td><td style = \"font-style: italic; text-align: right;\">missing</td><td style = \"text-align: right;\">9975</td><td style = \"text-align: right;\">9976</td><td style = \"text-align: right;\">-0.0101833</td></tr><tr><td class = \"rowNumber\" style = \"font-weight: bold; text-align: right;\">4</td><td style = \"text-align: right;\">10</td><td style = \"font-style: italic; text-align: left;\">missing</td><td style = \"text-align: left;\">M</td><td style = \"font-style: italic; text-align: right;\">missing</td><td style = \"text-align: right;\">9947</td><td style = \"text-align: right;\">9947</td><td style = \"text-align: right;\">0.0</td></tr><tr><td class = \"rowNumber\" style = \"font-weight: bold; text-align: right;\">5</td><td style = \"text-align: right;\">15</td><td style = \"font-style: italic; text-align: left;\">missing</td><td style = \"text-align: left;\">F</td><td style = \"font-style: italic; text-align: right;\">missing</td><td style = \"text-align: right;\">9994</td><td style = \"text-align: right;\">9995</td><td style = \"text-align: right;\">-0.0101739</td></tr><tr><td class = \"rowNumber\" style = \"font-weight: bold; text-align: right;\">6</td><td style = \"text-align: right;\">15</td><td style = \"font-style: italic; text-align: left;\">missing</td><td style = \"text-align: left;\">M</td><td style = \"font-style: italic; text-align: right;\">missing</td><td style = \"text-align: right;\">10163</td><td style = \"text-align: right;\">10161</td><td style = \"text-align: right;\">0.0201838</td></tr><tr><td class = \"rowNumber\" style = \"font-weight: bold; text-align: right;\">7</td><td style = \"text-align: right;\">20</td><td style = \"text-align: left;\">Divorced</td><td style = \"text-align: left;\">F</td><td style = \"text-align: right;\">40000</td><td style = \"text-align: right;\">279</td><td style = \"text-align: right;\">924</td><td style = \"text-align: right;\">-38.6331</td></tr><tr><td class = \"rowNumber\" style = \"font-weight: bold; text-align: right;\">8</td><td style = \"text-align: right;\">20</td><td style = \"text-align: left;\">Divorced</td><td style = \"text-align: left;\">F</td><td style = \"text-align: right;\">50000</td><td style = \"text-align: right;\">2686</td><td style = \"text-align: right;\">2092</td><td style = \"text-align: right;\">11.5129</td></tr><tr><td class = \"rowNumber\" style = \"font-weight: bold; text-align: right;\">9</td><td style = \"text-align: right;\">20</td><td style = \"text-align: left;\">Divorced</td><td style = \"text-align: left;\">F</td><td style = \"text-align: right;\">60000</td><td style = \"text-align: right;\">0</td><td style = \"text-align: right;\">0</td><td style = \"text-align: right;\">0</td></tr><tr><td class = \"rowNumber\" style = \"font-weight: bold; text-align: right;\">10</td><td style = \"text-align: right;\">20</td><td style = \"text-align: left;\">Divorced</td><td style = \"text-align: left;\">F</td><td style = \"text-align: right;\">70000</td><td style = \"text-align: right;\">0</td><td style = \"text-align: right;\">0</td><td style = \"text-align: right;\">0</td></tr><tr><td class = \"rowNumber\" style = \"font-weight: bold; text-align: right;\">11</td><td style = \"text-align: right;\">20</td><td style = \"text-align: left;\">Divorced</td><td style = \"text-align: left;\">F</td><td style = \"text-align: right;\">80000</td><td style = \"text-align: right;\">0</td><td style = \"text-align: right;\">0</td><td style = \"text-align: right;\">0</td></tr><tr><td class = \"rowNumber\" style = \"font-weight: bold; text-align: right;\">12</td><td style = \"text-align: right;\">20</td><td style = \"text-align: left;\">Divorced</td><td style = \"text-align: left;\">M</td><td style = \"text-align: right;\">40000</td><td style = \"text-align: right;\">392</td><td style = \"text-align: right;\">1368</td><td style = \"text-align: right;\">-49.3277</td></tr><tr><td class = \"rowNumber\" style = \"font-weight: bold; text-align: right;\">13</td><td style = \"text-align: right;\">20</td><td style = \"text-align: left;\">Divorced</td><td style = \"text-align: left;\">M</td><td style = \"text-align: right;\">50000</td><td style = \"text-align: right;\">4067</td><td style = \"text-align: right;\">3099</td><td style = \"text-align: right;\">15.2828</td></tr><tr><td style = \"text-align: right;\">&vellip;</td><td style = \"text-align: right;\">&vellip;</td><td style = \"text-align: right;\">&vellip;</td><td style = \"text-align: right;\">&vellip;</td><td style = \"text-align: right;\">&vellip;</td><td style = \"text-align: right;\">&vellip;</td><td style = \"text-align: right;\">&vellip;</td><td style = \"text-align: right;\">&vellip;</td></tr><tr><td class = \"rowNumber\" style = \"font-weight: bold; text-align: right;\">515</td><td style = \"text-align: right;\">80</td><td style = \"text-align: left;\">Not_married</td><td style = \"text-align: left;\">M</td><td style = \"text-align: right;\">70000</td><td style = \"text-align: right;\">216</td><td style = \"text-align: right;\">174</td><td style = \"text-align: right;\">2.85877</td></tr><tr><td class = \"rowNumber\" style = \"font-weight: bold; text-align: right;\">516</td><td style = \"text-align: right;\">80</td><td style = \"text-align: left;\">Not_married</td><td style = \"text-align: left;\">M</td><td style = \"text-align: right;\">80000</td><td style = \"text-align: right;\">321</td><td style = \"text-align: right;\">168</td><td style = \"text-align: right;\">8.5442</td></tr><tr><td class = \"rowNumber\" style = \"font-weight: bold; text-align: right;\">517</td><td style = \"text-align: right;\">80</td><td style = \"text-align: left;\">Widowed</td><td style = \"text-align: left;\">F</td><td style = \"text-align: right;\">40000</td><td style = \"text-align: right;\">280</td><td style = \"text-align: right;\">90</td><td style = \"text-align: right;\">11.36</td></tr><tr><td class = \"rowNumber\" style = \"font-weight: bold; text-align: right;\">518</td><td style = \"text-align: right;\">80</td><td style = \"text-align: left;\">Widowed</td><td style = \"text-align: left;\">F</td><td style = \"text-align: right;\">50000</td><td style = \"text-align: right;\">216</td><td style = \"text-align: right;\">203</td><td style = \"text-align: right;\">0.884857</td></tr><tr><td class = \"rowNumber\" style = \"font-weight: bold; text-align: right;\">519</td><td style = \"text-align: right;\">80</td><td style = \"text-align: left;\">Widowed</td><td style = \"text-align: left;\">F</td><td style = \"text-align: right;\">60000</td><td style = \"text-align: right;\">204</td><td style = \"text-align: right;\">184</td><td style = \"text-align: right;\">1.40076</td></tr><tr><td class = \"rowNumber\" style = \"font-weight: bold; text-align: right;\">520</td><td style = \"text-align: right;\">80</td><td style = \"text-align: left;\">Widowed</td><td style = \"text-align: left;\">F</td><td style = \"text-align: right;\">70000</td><td style = \"text-align: right;\">96</td><td style = \"text-align: right;\">176</td><td style = \"text-align: right;\">-8.16627</td></tr><tr><td class = \"rowNumber\" style = \"font-weight: bold; text-align: right;\">521</td><td style = \"text-align: right;\">80</td><td style = \"text-align: left;\">Widowed</td><td style = \"text-align: left;\">F</td><td style = \"text-align: right;\">80000</td><td style = \"text-align: right;\">11</td><td style = \"text-align: right;\">171</td><td style = \"text-align: right;\">-48.2427</td></tr><tr><td class = \"rowNumber\" style = \"font-weight: bold; text-align: right;\">522</td><td style = \"text-align: right;\">80</td><td style = \"text-align: left;\">Widowed</td><td style = \"text-align: left;\">M</td><td style = \"text-align: right;\">40000</td><td style = \"text-align: right;\">29</td><td style = \"text-align: right;\">356</td><td style = \"text-align: right;\">-60.7253</td></tr><tr><td class = \"rowNumber\" style = \"font-weight: bold; text-align: right;\">523</td><td style = \"text-align: right;\">80</td><td style = \"text-align: left;\">Widowed</td><td style = \"text-align: left;\">M</td><td style = \"text-align: right;\">50000</td><td style = \"text-align: right;\">233</td><td style = \"text-align: right;\">807</td><td style = \"text-align: right;\">-37.6186</td></tr><tr><td class = \"rowNumber\" style = \"font-weight: bold; text-align: right;\">524</td><td style = \"text-align: right;\">80</td><td style = \"text-align: left;\">Widowed</td><td style = \"text-align: left;\">M</td><td style = \"text-align: right;\">60000</td><td style = \"text-align: right;\">662</td><td style = \"text-align: right;\">731</td><td style = \"text-align: right;\">-2.68472</td></tr><tr><td class = \"rowNumber\" style = \"font-weight: bold; text-align: right;\">525</td><td style = \"text-align: right;\">80</td><td style = \"text-align: left;\">Widowed</td><td style = \"text-align: left;\">M</td><td style = \"text-align: right;\">70000</td><td style = \"text-align: right;\">1006</td><td style = \"text-align: right;\">701</td><td style = \"text-align: right;\">9.63231</td></tr><tr><td class = \"rowNumber\" style = \"font-weight: bold; text-align: right;\">526</td><td style = \"text-align: right;\">80</td><td style = \"text-align: left;\">Widowed</td><td style = \"text-align: left;\">M</td><td style = \"text-align: right;\">80000</td><td style = \"text-align: right;\">1363</td><td style = \"text-align: right;\">679</td><td style = \"text-align: right;\">18.5694</td></tr></tbody></table></div>"
      ],
      "text/latex": [
       "\\begin{tabular}{r|ccccccc}\n",
       "\t& AGE & MARITAL\\_STATUS & SEX & INCOME & population & estimated\\_population & Z\\_score\\\\\n",
       "\t\\hline\n",
       "\t& Int64 & String? & Char & Int64? & Int64 & Int64? & Real\\\\\n",
       "\t\\hline\n",
       "\t1 & 5 & \\emph{missing} & F & \\emph{missing} & 9993 & 9991 & 0.0203488 \\\\\n",
       "\t2 & 5 & \\emph{missing} & M & \\emph{missing} & 9928 & 9928 & 0.0 \\\\\n",
       "\t3 & 10 & \\emph{missing} & F & \\emph{missing} & 9975 & 9976 & -0.0101833 \\\\\n",
       "\t4 & 10 & \\emph{missing} & M & \\emph{missing} & 9947 & 9947 & 0.0 \\\\\n",
       "\t5 & 15 & \\emph{missing} & F & \\emph{missing} & 9994 & 9995 & -0.0101739 \\\\\n",
       "\t6 & 15 & \\emph{missing} & M & \\emph{missing} & 10163 & 10161 & 0.0201838 \\\\\n",
       "\t7 & 20 & Divorced & F & 40000 & 279 & 924 & -38.6331 \\\\\n",
       "\t8 & 20 & Divorced & F & 50000 & 2686 & 2092 & 11.5129 \\\\\n",
       "\t9 & 20 & Divorced & F & 60000 & 0 & 0 & 0 \\\\\n",
       "\t10 & 20 & Divorced & F & 70000 & 0 & 0 & 0 \\\\\n",
       "\t11 & 20 & Divorced & F & 80000 & 0 & 0 & 0 \\\\\n",
       "\t12 & 20 & Divorced & M & 40000 & 392 & 1368 & -49.3277 \\\\\n",
       "\t13 & 20 & Divorced & M & 50000 & 4067 & 3099 & 15.2828 \\\\\n",
       "\t14 & 20 & Divorced & M & 60000 & 0 & 0 & 0 \\\\\n",
       "\t15 & 20 & Divorced & M & 70000 & 0 & 0 & 0 \\\\\n",
       "\t16 & 20 & Divorced & M & 80000 & 0 & 0 & 0 \\\\\n",
       "\t17 & 20 & Married & F & 40000 & 444 & 1392 & -45.0234 \\\\\n",
       "\t18 & 20 & Married & F & 50000 & 4107 & 3151 & 15.0207 \\\\\n",
       "\t19 & 20 & Married & F & 60000 & 0 & 0 & 0 \\\\\n",
       "\t20 & 20 & Married & F & 70000 & 0 & 0 & 0 \\\\\n",
       "\t21 & 20 & Married & F & 80000 & 0 & 0 & 0 \\\\\n",
       "\t22 & 20 & Married & M & 40000 & 255 & 916 & -41.411 \\\\\n",
       "\t23 & 20 & Married & M & 50000 & 2684 & 2073 & 11.8468 \\\\\n",
       "\t24 & 20 & Married & M & 60000 & 0 & 0 & 0 \\\\\n",
       "\t$\\dots$ & $\\dots$ & $\\dots$ & $\\dots$ & $\\dots$ & $\\dots$ & $\\dots$ & $\\dots$ \\\\\n",
       "\\end{tabular}\n"
      ],
      "text/plain": [
       "\u001b[1m526×7 DataFrame\u001b[0m\n",
       "\u001b[1m Row \u001b[0m│\u001b[1m AGE   \u001b[0m\u001b[1m MARITAL_STATUS \u001b[0m\u001b[1m SEX  \u001b[0m\u001b[1m INCOME  \u001b[0m\u001b[1m population \u001b[0m\u001b[1m estimated_population \u001b[0m\u001b[1m\u001b[0m ⋯\n",
       "     │\u001b[90m Int64 \u001b[0m\u001b[90m String?        \u001b[0m\u001b[90m Char \u001b[0m\u001b[90m Int64?  \u001b[0m\u001b[90m Int64      \u001b[0m\u001b[90m Int64?               \u001b[0m\u001b[90m\u001b[0m ⋯\n",
       "─────┼──────────────────────────────────────────────────────────────────────────\n",
       "   1 │     5 \u001b[90m missing        \u001b[0m F    \u001b[90m missing \u001b[0m       9993                  9991  ⋯\n",
       "   2 │     5 \u001b[90m missing        \u001b[0m M    \u001b[90m missing \u001b[0m       9928                  9928\n",
       "   3 │    10 \u001b[90m missing        \u001b[0m F    \u001b[90m missing \u001b[0m       9975                  9976\n",
       "   4 │    10 \u001b[90m missing        \u001b[0m M    \u001b[90m missing \u001b[0m       9947                  9947\n",
       "   5 │    15 \u001b[90m missing        \u001b[0m F    \u001b[90m missing \u001b[0m       9994                  9995  ⋯\n",
       "   6 │    15 \u001b[90m missing        \u001b[0m M    \u001b[90m missing \u001b[0m      10163                 10161\n",
       "   7 │    20  Divorced        F       40000         279                   924\n",
       "   8 │    20  Divorced        F       50000        2686                  2092\n",
       "  ⋮  │   ⋮          ⋮          ⋮       ⋮         ⋮                ⋮            ⋱\n",
       " 520 │    80  Widowed         F       70000          96                   176  ⋯\n",
       " 521 │    80  Widowed         F       80000          11                   171\n",
       " 522 │    80  Widowed         M       40000          29                   356\n",
       " 523 │    80  Widowed         M       50000         233                   807\n",
       " 524 │    80  Widowed         M       60000         662                   731  ⋯\n",
       " 525 │    80  Widowed         M       70000        1006                   701\n",
       " 526 │    80  Widowed         M       80000        1363                   679\n",
       "\u001b[36m                                                   1 column and 511 rows omitted\u001b[0m"
      ]
     },
     "metadata": {},
     "output_type": "display_data"
    }
   ],
   "source": [
    "validate_table(modified, dependent_population)"
   ]
  },
  {
   "attachments": {},
   "cell_type": "markdown",
   "metadata": {},
   "source": [
    "### 1.5 Internal Validation"
   ]
  },
  {
   "attachments": {},
   "cell_type": "markdown",
   "metadata": {},
   "source": [
    "Once the tables have been generated, the internal validation can be performed. This is done to assess the distance between input contingency tables the the generated tables."
   ]
  },
  {
   "attachments": {},
   "cell_type": "markdown",
   "metadata": {},
   "source": [
    "#### Guo, Bhat, 2007"
   ]
  },
  {
   "cell_type": "code",
   "execution_count": 72,
   "metadata": {},
   "outputs": [
    {
     "data": {
      "text/plain": [
       "(\u001b[1m32×3 DataFrame\u001b[0m\n",
       "\u001b[1m Row \u001b[0m│\u001b[1m AGE   \u001b[0m\u001b[1m SEX  \u001b[0m\u001b[1m population \u001b[0m\n",
       "     │\u001b[90m Int64 \u001b[0m\u001b[90m Char \u001b[0m\u001b[90m Int64      \u001b[0m\n",
       "─────┼─────────────────────────\n",
       "   1 │     5  F           9991\n",
       "   2 │     5  M           9928\n",
       "   3 │    10  F           9976\n",
       "   4 │    10  M           9947\n",
       "   5 │    15  F           9995\n",
       "   6 │    15  M          10161\n",
       "   7 │    20  F          15043\n",
       "   8 │    20  M          14960\n",
       "  ⋮  │   ⋮     ⋮        ⋮\n",
       "  26 │    65  M           8003\n",
       "  27 │    70  F           8204\n",
       "  28 │    70  M           8139\n",
       "  29 │    75  F           8225\n",
       "  30 │    75  M           8336\n",
       "  31 │    80  F           8140\n",
       "  32 │    80  M           8148\n",
       "\u001b[36m                17 rows omitted\u001b[0m, \u001b[1m8×3 DataFrame\u001b[0m\n",
       "\u001b[1m Row \u001b[0m│\u001b[1m MARITAL_STATUS \u001b[0m\u001b[1m SEX  \u001b[0m\u001b[1m population \u001b[0m\n",
       "     │\u001b[90m String         \u001b[0m\u001b[90m Char \u001b[0m\u001b[90m Int64      \u001b[0m\n",
       "─────┼──────────────────────────────────\n",
       "   1 │ Divorced        F          30070\n",
       "   2 │ Divorced        M          44806\n",
       "   3 │ Married         F          45298\n",
       "   4 │ Married         M          29980\n",
       "   5 │ Not_married     F          59425\n",
       "   6 │ Not_married     M          14946\n",
       "   7 │ Widowed         F          15172\n",
       "   8 │ Widowed         M          60304, \u001b[1m5×2 DataFrame\u001b[0m\n",
       "\u001b[1m Row \u001b[0m│\u001b[1m INCOME \u001b[0m\u001b[1m population \u001b[0m\n",
       "     │\u001b[90m Int64  \u001b[0m\u001b[90m Int64      \u001b[0m\n",
       "─────┼────────────────────\n",
       "   1 │  40000       47459\n",
       "   2 │  50000      107487\n",
       "   3 │  60000       50255\n",
       "   4 │  70000       48134\n",
       "   5 │  80000       46666)"
      ]
     },
     "metadata": {},
     "output_type": "display_data"
    }
   ],
   "source": [
    "guo_bhat_age_sex, guo_bhat_sex_marital, guo_bhat_income = compute_marginals(guo_bhat)"
   ]
  },
  {
   "cell_type": "code",
   "execution_count": 73,
   "metadata": {},
   "outputs": [
    {
     "name": "stdout",
     "output_type": "stream",
     "text": [
      "=================\n",
      "=Cell statistics=\n",
      "=================\n",
      "Percentage of well fitting values at 0.95 confidence interval: 1.0\n",
      "Percentage of well fitting values at 0.90 confidence interval: 1.0\n",
      "\n",
      "==================\n",
      "=Table statistics=\n",
      "==================\n",
      "Statistic value equals: 0.004708713777727473\n",
      "Table is well fitting at 0.9 and 0.95 confidence interval.\n",
      "\n"
     ]
    },
    {
     "data": {
      "text/html": [
       "<div><div style = \"float: left;\"><span>32×5 DataFrame</span></div><div style = \"float: right;\"><span style = \"font-style: italic;\">7 rows omitted</span></div><div style = \"clear: both;\"></div></div><div class = \"data-frame\" style = \"overflow-x: scroll;\"><table class = \"data-frame\" style = \"margin-bottom: 6px;\"><thead><tr class = \"header\"><th class = \"rowNumber\" style = \"font-weight: bold; text-align: right;\">Row</th><th style = \"text-align: left;\">AGE</th><th style = \"text-align: left;\">SEX</th><th style = \"text-align: left;\">population</th><th style = \"text-align: left;\">estimated_population</th><th style = \"text-align: left;\">Z_score</th></tr><tr class = \"subheader headerLastRow\"><th class = \"rowNumber\" style = \"font-weight: bold; text-align: right;\"></th><th title = \"Int64\" style = \"text-align: left;\">Int64</th><th title = \"Char\" style = \"text-align: left;\">Char</th><th title = \"Int64\" style = \"text-align: left;\">Int64</th><th title = \"Union{Missing, Int64}\" style = \"text-align: left;\">Int64?</th><th title = \"Float64\" style = \"text-align: left;\">Float64</th></tr></thead><tbody><tr><td class = \"rowNumber\" style = \"font-weight: bold; text-align: right;\">1</td><td style = \"text-align: right;\">5</td><td style = \"text-align: left;\">F</td><td style = \"text-align: right;\">9993</td><td style = \"text-align: right;\">9991</td><td style = \"text-align: right;\">0.0203488</td></tr><tr><td class = \"rowNumber\" style = \"font-weight: bold; text-align: right;\">2</td><td style = \"text-align: right;\">5</td><td style = \"text-align: left;\">M</td><td style = \"text-align: right;\">9928</td><td style = \"text-align: right;\">9928</td><td style = \"text-align: right;\">0.0</td></tr><tr><td class = \"rowNumber\" style = \"font-weight: bold; text-align: right;\">3</td><td style = \"text-align: right;\">10</td><td style = \"text-align: left;\">F</td><td style = \"text-align: right;\">9975</td><td style = \"text-align: right;\">9976</td><td style = \"text-align: right;\">-0.0101833</td></tr><tr><td class = \"rowNumber\" style = \"font-weight: bold; text-align: right;\">4</td><td style = \"text-align: right;\">10</td><td style = \"text-align: left;\">M</td><td style = \"text-align: right;\">9947</td><td style = \"text-align: right;\">9947</td><td style = \"text-align: right;\">0.0</td></tr><tr><td class = \"rowNumber\" style = \"font-weight: bold; text-align: right;\">5</td><td style = \"text-align: right;\">15</td><td style = \"text-align: left;\">F</td><td style = \"text-align: right;\">9994</td><td style = \"text-align: right;\">9995</td><td style = \"text-align: right;\">-0.0101739</td></tr><tr><td class = \"rowNumber\" style = \"font-weight: bold; text-align: right;\">6</td><td style = \"text-align: right;\">15</td><td style = \"text-align: left;\">M</td><td style = \"text-align: right;\">10163</td><td style = \"text-align: right;\">10161</td><td style = \"text-align: right;\">0.0201838</td></tr><tr><td class = \"rowNumber\" style = \"font-weight: bold; text-align: right;\">7</td><td style = \"text-align: right;\">20</td><td style = \"text-align: left;\">F</td><td style = \"text-align: right;\">15042</td><td style = \"text-align: right;\">15043</td><td style = \"text-align: right;\">-0.00836599</td></tr><tr><td class = \"rowNumber\" style = \"font-weight: bold; text-align: right;\">8</td><td style = \"text-align: right;\">20</td><td style = \"text-align: left;\">M</td><td style = \"text-align: right;\">14959</td><td style = \"text-align: right;\">14960</td><td style = \"text-align: right;\">-0.00838795</td></tr><tr><td class = \"rowNumber\" style = \"font-weight: bold; text-align: right;\">9</td><td style = \"text-align: right;\">25</td><td style = \"text-align: left;\">F</td><td style = \"text-align: right;\">14958</td><td style = \"text-align: right;\">14959</td><td style = \"text-align: right;\">-0.00838821</td></tr><tr><td class = \"rowNumber\" style = \"font-weight: bold; text-align: right;\">10</td><td style = \"text-align: right;\">25</td><td style = \"text-align: left;\">M</td><td style = \"text-align: right;\">15041</td><td style = \"text-align: right;\">15040</td><td style = \"text-align: right;\">0.00836625</td></tr><tr><td class = \"rowNumber\" style = \"font-weight: bold; text-align: right;\">11</td><td style = \"text-align: right;\">30</td><td style = \"text-align: left;\">F</td><td style = \"text-align: right;\">8326</td><td style = \"text-align: right;\">8326</td><td style = \"text-align: right;\">0.0</td></tr><tr><td class = \"rowNumber\" style = \"font-weight: bold; text-align: right;\">12</td><td style = \"text-align: right;\">30</td><td style = \"text-align: left;\">M</td><td style = \"text-align: right;\">8209</td><td style = \"text-align: right;\">8207</td><td style = \"text-align: right;\">0.0223825</td></tr><tr><td class = \"rowNumber\" style = \"font-weight: bold; text-align: right;\">13</td><td style = \"text-align: right;\">35</td><td style = \"text-align: left;\">F</td><td style = \"text-align: right;\">8228</td><td style = \"text-align: right;\">8229</td><td style = \"text-align: right;\">-0.0111787</td></tr><tr><td style = \"text-align: right;\">&vellip;</td><td style = \"text-align: right;\">&vellip;</td><td style = \"text-align: right;\">&vellip;</td><td style = \"text-align: right;\">&vellip;</td><td style = \"text-align: right;\">&vellip;</td><td style = \"text-align: right;\">&vellip;</td></tr><tr><td class = \"rowNumber\" style = \"font-weight: bold; text-align: right;\">21</td><td style = \"text-align: right;\">55</td><td style = \"text-align: left;\">F</td><td style = \"text-align: right;\">8109</td><td style = \"text-align: right;\">8108</td><td style = \"text-align: right;\">0.0112581</td></tr><tr><td class = \"rowNumber\" style = \"font-weight: bold; text-align: right;\">22</td><td style = \"text-align: right;\">55</td><td style = \"text-align: left;\">M</td><td style = \"text-align: right;\">8260</td><td style = \"text-align: right;\">8260</td><td style = \"text-align: right;\">0.0</td></tr><tr><td class = \"rowNumber\" style = \"font-weight: bold; text-align: right;\">23</td><td style = \"text-align: right;\">60</td><td style = \"text-align: left;\">F</td><td style = \"text-align: right;\">8165</td><td style = \"text-align: right;\">8166</td><td style = \"text-align: right;\">-0.0112205</td></tr><tr><td class = \"rowNumber\" style = \"font-weight: bold; text-align: right;\">24</td><td style = \"text-align: right;\">60</td><td style = \"text-align: left;\">M</td><td style = \"text-align: right;\">8151</td><td style = \"text-align: right;\">8152</td><td style = \"text-align: right;\">-0.0112299</td></tr><tr><td class = \"rowNumber\" style = \"font-weight: bold; text-align: right;\">25</td><td style = \"text-align: right;\">65</td><td style = \"text-align: left;\">F</td><td style = \"text-align: right;\">8067</td><td style = \"text-align: right;\">8067</td><td style = \"text-align: right;\">0.0</td></tr><tr><td class = \"rowNumber\" style = \"font-weight: bold; text-align: right;\">26</td><td style = \"text-align: right;\">65</td><td style = \"text-align: left;\">M</td><td style = \"text-align: right;\">8001</td><td style = \"text-align: right;\">8003</td><td style = \"text-align: right;\">-0.0226635</td></tr><tr><td class = \"rowNumber\" style = \"font-weight: bold; text-align: right;\">27</td><td style = \"text-align: right;\">70</td><td style = \"text-align: left;\">F</td><td style = \"text-align: right;\">8204</td><td style = \"text-align: right;\">8204</td><td style = \"text-align: right;\">0.0</td></tr><tr><td class = \"rowNumber\" style = \"font-weight: bold; text-align: right;\">28</td><td style = \"text-align: right;\">70</td><td style = \"text-align: left;\">M</td><td style = \"text-align: right;\">8138</td><td style = \"text-align: right;\">8139</td><td style = \"text-align: right;\">-0.0112386</td></tr><tr><td class = \"rowNumber\" style = \"font-weight: bold; text-align: right;\">29</td><td style = \"text-align: right;\">75</td><td style = \"text-align: left;\">F</td><td style = \"text-align: right;\">8225</td><td style = \"text-align: right;\">8225</td><td style = \"text-align: right;\">0.0</td></tr><tr><td class = \"rowNumber\" style = \"font-weight: bold; text-align: right;\">30</td><td style = \"text-align: right;\">75</td><td style = \"text-align: left;\">M</td><td style = \"text-align: right;\">8338</td><td style = \"text-align: right;\">8336</td><td style = \"text-align: right;\">0.0222136</td></tr><tr><td class = \"rowNumber\" style = \"font-weight: bold; text-align: right;\">31</td><td style = \"text-align: right;\">80</td><td style = \"text-align: left;\">F</td><td style = \"text-align: right;\">8140</td><td style = \"text-align: right;\">8140</td><td style = \"text-align: right;\">0.0</td></tr><tr><td class = \"rowNumber\" style = \"font-weight: bold; text-align: right;\">32</td><td style = \"text-align: right;\">80</td><td style = \"text-align: left;\">M</td><td style = \"text-align: right;\">8149</td><td style = \"text-align: right;\">8148</td><td style = \"text-align: right;\">0.0112312</td></tr></tbody></table></div>"
      ],
      "text/latex": [
       "\\begin{tabular}{r|ccccc}\n",
       "\t& AGE & SEX & population & estimated\\_population & Z\\_score\\\\\n",
       "\t\\hline\n",
       "\t& Int64 & Char & Int64 & Int64? & Float64\\\\\n",
       "\t\\hline\n",
       "\t1 & 5 & F & 9993 & 9991 & 0.0203488 \\\\\n",
       "\t2 & 5 & M & 9928 & 9928 & 0.0 \\\\\n",
       "\t3 & 10 & F & 9975 & 9976 & -0.0101833 \\\\\n",
       "\t4 & 10 & M & 9947 & 9947 & 0.0 \\\\\n",
       "\t5 & 15 & F & 9994 & 9995 & -0.0101739 \\\\\n",
       "\t6 & 15 & M & 10163 & 10161 & 0.0201838 \\\\\n",
       "\t7 & 20 & F & 15042 & 15043 & -0.00836599 \\\\\n",
       "\t8 & 20 & M & 14959 & 14960 & -0.00838795 \\\\\n",
       "\t9 & 25 & F & 14958 & 14959 & -0.00838821 \\\\\n",
       "\t10 & 25 & M & 15041 & 15040 & 0.00836625 \\\\\n",
       "\t11 & 30 & F & 8326 & 8326 & 0.0 \\\\\n",
       "\t12 & 30 & M & 8209 & 8207 & 0.0223825 \\\\\n",
       "\t13 & 35 & F & 8228 & 8229 & -0.0111787 \\\\\n",
       "\t14 & 35 & M & 8263 & 8263 & 0.0 \\\\\n",
       "\t15 & 40 & F & 8199 & 8197 & 0.0223958 \\\\\n",
       "\t16 & 40 & M & 8038 & 8039 & -0.0113064 \\\\\n",
       "\t17 & 45 & F & 8207 & 8207 & 0.0 \\\\\n",
       "\t18 & 45 & M & 8269 & 8269 & 0.0 \\\\\n",
       "\t19 & 50 & F & 8130 & 8132 & -0.022488 \\\\\n",
       "\t20 & 50 & M & 8184 & 8184 & 0.0 \\\\\n",
       "\t21 & 55 & F & 8109 & 8108 & 0.0112581 \\\\\n",
       "\t22 & 55 & M & 8260 & 8260 & 0.0 \\\\\n",
       "\t23 & 60 & F & 8165 & 8166 & -0.0112205 \\\\\n",
       "\t24 & 60 & M & 8151 & 8152 & -0.0112299 \\\\\n",
       "\t$\\dots$ & $\\dots$ & $\\dots$ & $\\dots$ & $\\dots$ & $\\dots$ \\\\\n",
       "\\end{tabular}\n"
      ],
      "text/plain": [
       "\u001b[1m32×5 DataFrame\u001b[0m\n",
       "\u001b[1m Row \u001b[0m│\u001b[1m AGE   \u001b[0m\u001b[1m SEX  \u001b[0m\u001b[1m population \u001b[0m\u001b[1m estimated_population \u001b[0m\u001b[1m Z_score     \u001b[0m\n",
       "     │\u001b[90m Int64 \u001b[0m\u001b[90m Char \u001b[0m\u001b[90m Int64      \u001b[0m\u001b[90m Int64?               \u001b[0m\u001b[90m Float64     \u001b[0m\n",
       "─────┼────────────────────────────────────────────────────────────\n",
       "   1 │     5  F           9993                  9991   0.0203488\n",
       "   2 │     5  M           9928                  9928   0.0\n",
       "   3 │    10  F           9975                  9976  -0.0101833\n",
       "   4 │    10  M           9947                  9947   0.0\n",
       "   5 │    15  F           9994                  9995  -0.0101739\n",
       "   6 │    15  M          10163                 10161   0.0201838\n",
       "   7 │    20  F          15042                 15043  -0.00836599\n",
       "   8 │    20  M          14959                 14960  -0.00838795\n",
       "  ⋮  │   ⋮     ⋮        ⋮                ⋮                 ⋮\n",
       "  26 │    65  M           8001                  8003  -0.0226635\n",
       "  27 │    70  F           8204                  8204   0.0\n",
       "  28 │    70  M           8138                  8139  -0.0112386\n",
       "  29 │    75  F           8225                  8225   0.0\n",
       "  30 │    75  M           8338                  8336   0.0222136\n",
       "  31 │    80  F           8140                  8140   0.0\n",
       "  32 │    80  M           8149                  8148   0.0112312\n",
       "\u001b[36m                                                   17 rows omitted\u001b[0m"
      ]
     },
     "metadata": {},
     "output_type": "display_data"
    }
   ],
   "source": [
    "validate_table(guo_bhat_age_sex, dependent_age_sex)"
   ]
  },
  {
   "cell_type": "code",
   "execution_count": 74,
   "metadata": {},
   "outputs": [
    {
     "name": "stdout",
     "output_type": "stream",
     "text": [
      "=================\n",
      "=Cell statistics=\n",
      "=================\n",
      "Percentage of well fitting values at 0.95 confidence interval: 0.0\n",
      "Percentage of well fitting values at 0.90 confidence interval: 0.0\n",
      "\n",
      "==================\n",
      "=Table statistics=\n",
      "==================\n",
      "Statistic value equals: 17702.748461128518\n",
      "Table is not well fitting.\n",
      "\n"
     ]
    },
    {
     "data": {
      "text/html": [
       "<div><div style = \"float: left;\"><span>8×5 DataFrame</span></div><div style = \"clear: both;\"></div></div><div class = \"data-frame\" style = \"overflow-x: scroll;\"><table class = \"data-frame\" style = \"margin-bottom: 6px;\"><thead><tr class = \"header\"><th class = \"rowNumber\" style = \"font-weight: bold; text-align: right;\">Row</th><th style = \"text-align: left;\">MARITAL_STATUS</th><th style = \"text-align: left;\">SEX</th><th style = \"text-align: left;\">population</th><th style = \"text-align: left;\">estimated_population</th><th style = \"text-align: left;\">Z_score</th></tr><tr class = \"subheader headerLastRow\"><th class = \"rowNumber\" style = \"font-weight: bold; text-align: right;\"></th><th title = \"Union{Missing, String}\" style = \"text-align: left;\">String?</th><th title = \"Char\" style = \"text-align: left;\">Char</th><th title = \"Int64\" style = \"text-align: left;\">Int64</th><th title = \"Union{Missing, Int64}\" style = \"text-align: left;\">Int64?</th><th title = \"Float64\" style = \"text-align: left;\">Float64</th></tr></thead><tbody><tr><td class = \"rowNumber\" style = \"font-weight: bold; text-align: right;\">1</td><td style = \"text-align: left;\">Divorced</td><td style = \"text-align: left;\">F</td><td style = \"text-align: right;\">24058</td><td style = \"text-align: right;\">30070</td><td style = \"text-align: right;\">-40.8626</td></tr><tr><td class = \"rowNumber\" style = \"font-weight: bold; text-align: right;\">2</td><td style = \"text-align: left;\">Divorced</td><td style = \"text-align: left;\">M</td><td style = \"text-align: right;\">35836</td><td style = \"text-align: right;\">44806</td><td style = \"text-align: right;\">-51.3746</td></tr><tr><td class = \"rowNumber\" style = \"font-weight: bold; text-align: right;\">3</td><td style = \"text-align: left;\">Married</td><td style = \"text-align: left;\">F</td><td style = \"text-align: right;\">36245</td><td style = \"text-align: right;\">45298</td><td style = \"text-align: right;\">-51.6083</td></tr><tr><td class = \"rowNumber\" style = \"font-weight: bold; text-align: right;\">4</td><td style = \"text-align: left;\">Married</td><td style = \"text-align: left;\">M</td><td style = \"text-align: right;\">23977</td><td style = \"text-align: right;\">29980</td><td style = \"text-align: right;\">-40.8627</td></tr><tr><td class = \"rowNumber\" style = \"font-weight: bold; text-align: right;\">5</td><td style = \"text-align: left;\">Not_married</td><td style = \"text-align: left;\">F</td><td style = \"text-align: right;\">47553</td><td style = \"text-align: right;\">59425</td><td style = \"text-align: right;\">-60.7974</td></tr><tr><td class = \"rowNumber\" style = \"font-weight: bold; text-align: right;\">6</td><td style = \"text-align: left;\">Not_married</td><td style = \"text-align: left;\">M</td><td style = \"text-align: right;\">11954</td><td style = \"text-align: right;\">14946</td><td style = \"text-align: right;\">-28.0737</td></tr><tr><td class = \"rowNumber\" style = \"font-weight: bold; text-align: right;\">7</td><td style = \"text-align: left;\">Widowed</td><td style = \"text-align: left;\">F</td><td style = \"text-align: right;\">12144</td><td style = \"text-align: right;\">15172</td><td style = \"text-align: right;\">-28.2001</td></tr><tr><td class = \"rowNumber\" style = \"font-weight: bold; text-align: right;\">8</td><td style = \"text-align: left;\">Widowed</td><td style = \"text-align: left;\">M</td><td style = \"text-align: right;\">48233</td><td style = \"text-align: right;\">60304</td><td style = \"text-align: right;\">-61.4879</td></tr></tbody></table></div>"
      ],
      "text/latex": [
       "\\begin{tabular}{r|ccccc}\n",
       "\t& MARITAL\\_STATUS & SEX & population & estimated\\_population & Z\\_score\\\\\n",
       "\t\\hline\n",
       "\t& String? & Char & Int64 & Int64? & Float64\\\\\n",
       "\t\\hline\n",
       "\t1 & Divorced & F & 24058 & 30070 & -40.8626 \\\\\n",
       "\t2 & Divorced & M & 35836 & 44806 & -51.3746 \\\\\n",
       "\t3 & Married & F & 36245 & 45298 & -51.6083 \\\\\n",
       "\t4 & Married & M & 23977 & 29980 & -40.8627 \\\\\n",
       "\t5 & Not\\_married & F & 47553 & 59425 & -60.7974 \\\\\n",
       "\t6 & Not\\_married & M & 11954 & 14946 & -28.0737 \\\\\n",
       "\t7 & Widowed & F & 12144 & 15172 & -28.2001 \\\\\n",
       "\t8 & Widowed & M & 48233 & 60304 & -61.4879 \\\\\n",
       "\\end{tabular}\n"
      ],
      "text/plain": [
       "\u001b[1m8×5 DataFrame\u001b[0m\n",
       "\u001b[1m Row \u001b[0m│\u001b[1m MARITAL_STATUS \u001b[0m\u001b[1m SEX  \u001b[0m\u001b[1m population \u001b[0m\u001b[1m estimated_population \u001b[0m\u001b[1m Z_score  \u001b[0m\n",
       "     │\u001b[90m String?        \u001b[0m\u001b[90m Char \u001b[0m\u001b[90m Int64      \u001b[0m\u001b[90m Int64?               \u001b[0m\u001b[90m Float64  \u001b[0m\n",
       "─────┼──────────────────────────────────────────────────────────────────\n",
       "   1 │ Divorced        F          24058                 30070  -40.8626\n",
       "   2 │ Divorced        M          35836                 44806  -51.3746\n",
       "   3 │ Married         F          36245                 45298  -51.6083\n",
       "   4 │ Married         M          23977                 29980  -40.8627\n",
       "   5 │ Not_married     F          47553                 59425  -60.7974\n",
       "   6 │ Not_married     M          11954                 14946  -28.0737\n",
       "   7 │ Widowed         F          12144                 15172  -28.2001\n",
       "   8 │ Widowed         M          48233                 60304  -61.4879"
      ]
     },
     "metadata": {},
     "output_type": "display_data"
    }
   ],
   "source": [
    "validate_table(guo_bhat_sex_marital, dependent_sex_marital)"
   ]
  },
  {
   "cell_type": "code",
   "execution_count": 75,
   "metadata": {},
   "outputs": [
    {
     "name": "stdout",
     "output_type": "stream",
     "text": [
      "=================\n",
      "=Cell statistics=\n",
      "=================\n",
      "Percentage of well fitting values at 0.95 confidence interval: 0.0\n",
      "Percentage of well fitting values at 0.90 confidence interval: 0.0\n",
      "\n",
      "==================\n",
      "=Table statistics=\n",
      "==================\n",
      "Statistic value equals: 19842.866560258422\n",
      "Table is not well fitting.\n",
      "\n"
     ]
    },
    {
     "data": {
      "text/html": [
       "<div><div style = \"float: left;\"><span>5×4 DataFrame</span></div><div style = \"clear: both;\"></div></div><div class = \"data-frame\" style = \"overflow-x: scroll;\"><table class = \"data-frame\" style = \"margin-bottom: 6px;\"><thead><tr class = \"header\"><th class = \"rowNumber\" style = \"font-weight: bold; text-align: right;\">Row</th><th style = \"text-align: left;\">INCOME</th><th style = \"text-align: left;\">population</th><th style = \"text-align: left;\">estimated_population</th><th style = \"text-align: left;\">Z_score</th></tr><tr class = \"subheader headerLastRow\"><th class = \"rowNumber\" style = \"font-weight: bold; text-align: right;\"></th><th title = \"Union{Missing, Int64}\" style = \"text-align: left;\">Int64?</th><th title = \"Int64\" style = \"text-align: left;\">Int64</th><th title = \"Union{Missing, Int64}\" style = \"text-align: left;\">Int64?</th><th title = \"Float64\" style = \"text-align: left;\">Float64</th></tr></thead><tbody><tr><td class = \"rowNumber\" style = \"font-weight: bold; text-align: right;\">1</td><td style = \"text-align: right;\">40000</td><td style = \"text-align: right;\">37971</td><td style = \"text-align: right;\">47459</td><td style = \"text-align: right;\">-53.0698</td></tr><tr><td class = \"rowNumber\" style = \"font-weight: bold; text-align: right;\">2</td><td style = \"text-align: right;\">50000</td><td style = \"text-align: right;\">85988</td><td style = \"text-align: right;\">107487</td><td style = \"text-align: right;\">-91.5225</td></tr><tr><td class = \"rowNumber\" style = \"font-weight: bold; text-align: right;\">3</td><td style = \"text-align: right;\">60000</td><td style = \"text-align: right;\">40203</td><td style = \"text-align: right;\">50255</td><td style = \"text-align: right;\">-54.9458</td></tr><tr><td class = \"rowNumber\" style = \"font-weight: bold; text-align: right;\">4</td><td style = \"text-align: right;\">70000</td><td style = \"text-align: right;\">38506</td><td style = \"text-align: right;\">48134</td><td style = \"text-align: right;\">-53.5484</td></tr><tr><td class = \"rowNumber\" style = \"font-weight: bold; text-align: right;\">5</td><td style = \"text-align: right;\">80000</td><td style = \"text-align: right;\">37332</td><td style = \"text-align: right;\">46666</td><td style = \"text-align: right;\">-52.5703</td></tr></tbody></table></div>"
      ],
      "text/latex": [
       "\\begin{tabular}{r|cccc}\n",
       "\t& INCOME & population & estimated\\_population & Z\\_score\\\\\n",
       "\t\\hline\n",
       "\t& Int64? & Int64 & Int64? & Float64\\\\\n",
       "\t\\hline\n",
       "\t1 & 40000 & 37971 & 47459 & -53.0698 \\\\\n",
       "\t2 & 50000 & 85988 & 107487 & -91.5225 \\\\\n",
       "\t3 & 60000 & 40203 & 50255 & -54.9458 \\\\\n",
       "\t4 & 70000 & 38506 & 48134 & -53.5484 \\\\\n",
       "\t5 & 80000 & 37332 & 46666 & -52.5703 \\\\\n",
       "\\end{tabular}\n"
      ],
      "text/plain": [
       "\u001b[1m5×4 DataFrame\u001b[0m\n",
       "\u001b[1m Row \u001b[0m│\u001b[1m INCOME \u001b[0m\u001b[1m population \u001b[0m\u001b[1m estimated_population \u001b[0m\u001b[1m Z_score  \u001b[0m\n",
       "     │\u001b[90m Int64? \u001b[0m\u001b[90m Int64      \u001b[0m\u001b[90m Int64?               \u001b[0m\u001b[90m Float64  \u001b[0m\n",
       "─────┼────────────────────────────────────────────────────\n",
       "   1 │  40000       37971                 47459  -53.0698\n",
       "   2 │  50000       85988                107487  -91.5225\n",
       "   3 │  60000       40203                 50255  -54.9458\n",
       "   4 │  70000       38506                 48134  -53.5484\n",
       "   5 │  80000       37332                 46666  -52.5703"
      ]
     },
     "metadata": {},
     "output_type": "display_data"
    }
   ],
   "source": [
    "validate_table(guo_bhat_income, dependent_income)"
   ]
  },
  {
   "attachments": {},
   "cell_type": "markdown",
   "metadata": {},
   "source": [
    "#### Ponge, Enbergs, Schungel, Hellingrath, Karch, Ludwig, 2021"
   ]
  },
  {
   "cell_type": "code",
   "execution_count": 76,
   "metadata": {},
   "outputs": [
    {
     "data": {
      "text/plain": [
       "(\u001b[1m32×3 DataFrame\u001b[0m\n",
       "\u001b[1m Row \u001b[0m│\u001b[1m AGE   \u001b[0m\u001b[1m SEX  \u001b[0m\u001b[1m population \u001b[0m\n",
       "     │\u001b[90m Int64 \u001b[0m\u001b[90m Char \u001b[0m\u001b[90m Int64      \u001b[0m\n",
       "─────┼─────────────────────────\n",
       "   1 │     5  F           9993\n",
       "   2 │     5  M           9927\n",
       "   3 │    10  F           9975\n",
       "   4 │    10  M           9947\n",
       "   5 │    15  F           9996\n",
       "   6 │    15  M          10163\n",
       "   7 │    20  F          15042\n",
       "   8 │    20  M          14959\n",
       "  ⋮  │   ⋮     ⋮        ⋮\n",
       "  26 │    65  M           8004\n",
       "  27 │    70  F           8203\n",
       "  28 │    70  M           8137\n",
       "  29 │    75  F           8225\n",
       "  30 │    75  M           8339\n",
       "  31 │    80  F           8140\n",
       "  32 │    80  M           8150\n",
       "\u001b[36m                17 rows omitted\u001b[0m, \u001b[1m8×3 DataFrame\u001b[0m\n",
       "\u001b[1m Row \u001b[0m│\u001b[1m MARITAL_STATUS \u001b[0m\u001b[1m SEX  \u001b[0m\u001b[1m population \u001b[0m\n",
       "     │\u001b[90m String         \u001b[0m\u001b[90m Char \u001b[0m\u001b[90m Int64      \u001b[0m\n",
       "─────┼──────────────────────────────────\n",
       "   1 │ Divorced        F          30064\n",
       "   2 │ Divorced        M          44810\n",
       "   3 │ Married         F          45293\n",
       "   4 │ Married         M          29974\n",
       "   5 │ Not_married     F          59424\n",
       "   6 │ Not_married     M          14951\n",
       "   7 │ Widowed         F          15180\n",
       "   8 │ Widowed         M          60310, \u001b[1m5×2 DataFrame\u001b[0m\n",
       "\u001b[1m Row \u001b[0m│\u001b[1m INCOME \u001b[0m\u001b[1m population \u001b[0m\n",
       "     │\u001b[90m Int64  \u001b[0m\u001b[90m Int64      \u001b[0m\n",
       "─────┼────────────────────\n",
       "   1 │  40000       47466\n",
       "   2 │  50000      107485\n",
       "   3 │  60000       50252\n",
       "   4 │  70000       48133\n",
       "   5 │  80000       46670)"
      ]
     },
     "metadata": {},
     "output_type": "display_data"
    }
   ],
   "source": [
    "ponge_et_al_age_sex, ponge_et_al_sex_marital, ponge_et_al_income = compute_marginals(ponge_et_al)"
   ]
  },
  {
   "cell_type": "code",
   "execution_count": 77,
   "metadata": {},
   "outputs": [
    {
     "name": "stdout",
     "output_type": "stream",
     "text": [
      "=================\n",
      "=Cell statistics=\n",
      "=================\n",
      "Percentage of well fitting values at 0.95 confidence interval: 1.0\n",
      "Percentage of well fitting values at 0.90 confidence interval: 1.0\n",
      "\n",
      "==================\n",
      "=Table statistics=\n",
      "==================\n",
      "Statistic value equals: 0.004703957214813783\n",
      "Table is well fitting at 0.9 and 0.95 confidence interval.\n",
      "\n"
     ]
    },
    {
     "data": {
      "text/html": [
       "<div><div style = \"float: left;\"><span>32×5 DataFrame</span></div><div style = \"float: right;\"><span style = \"font-style: italic;\">7 rows omitted</span></div><div style = \"clear: both;\"></div></div><div class = \"data-frame\" style = \"overflow-x: scroll;\"><table class = \"data-frame\" style = \"margin-bottom: 6px;\"><thead><tr class = \"header\"><th class = \"rowNumber\" style = \"font-weight: bold; text-align: right;\">Row</th><th style = \"text-align: left;\">AGE</th><th style = \"text-align: left;\">SEX</th><th style = \"text-align: left;\">population</th><th style = \"text-align: left;\">estimated_population</th><th style = \"text-align: left;\">Z_score</th></tr><tr class = \"subheader headerLastRow\"><th class = \"rowNumber\" style = \"font-weight: bold; text-align: right;\"></th><th title = \"Int64\" style = \"text-align: left;\">Int64</th><th title = \"Char\" style = \"text-align: left;\">Char</th><th title = \"Int64\" style = \"text-align: left;\">Int64</th><th title = \"Union{Missing, Int64}\" style = \"text-align: left;\">Int64?</th><th title = \"Float64\" style = \"text-align: left;\">Float64</th></tr></thead><tbody><tr><td class = \"rowNumber\" style = \"font-weight: bold; text-align: right;\">1</td><td style = \"text-align: right;\">5</td><td style = \"text-align: left;\">F</td><td style = \"text-align: right;\">9993</td><td style = \"text-align: right;\">9993</td><td style = \"text-align: right;\">0.0</td></tr><tr><td class = \"rowNumber\" style = \"font-weight: bold; text-align: right;\">2</td><td style = \"text-align: right;\">5</td><td style = \"text-align: left;\">M</td><td style = \"text-align: right;\">9928</td><td style = \"text-align: right;\">9927</td><td style = \"text-align: right;\">0.0102065</td></tr><tr><td class = \"rowNumber\" style = \"font-weight: bold; text-align: right;\">3</td><td style = \"text-align: right;\">10</td><td style = \"text-align: left;\">F</td><td style = \"text-align: right;\">9975</td><td style = \"text-align: right;\">9975</td><td style = \"text-align: right;\">0.0</td></tr><tr><td class = \"rowNumber\" style = \"font-weight: bold; text-align: right;\">4</td><td style = \"text-align: right;\">10</td><td style = \"text-align: left;\">M</td><td style = \"text-align: right;\">9947</td><td style = \"text-align: right;\">9947</td><td style = \"text-align: right;\">0.0</td></tr><tr><td class = \"rowNumber\" style = \"font-weight: bold; text-align: right;\">5</td><td style = \"text-align: right;\">15</td><td style = \"text-align: left;\">F</td><td style = \"text-align: right;\">9994</td><td style = \"text-align: right;\">9996</td><td style = \"text-align: right;\">-0.0203478</td></tr><tr><td class = \"rowNumber\" style = \"font-weight: bold; text-align: right;\">6</td><td style = \"text-align: right;\">15</td><td style = \"text-align: left;\">M</td><td style = \"text-align: right;\">10163</td><td style = \"text-align: right;\">10163</td><td style = \"text-align: right;\">0.0</td></tr><tr><td class = \"rowNumber\" style = \"font-weight: bold; text-align: right;\">7</td><td style = \"text-align: right;\">20</td><td style = \"text-align: left;\">F</td><td style = \"text-align: right;\">15042</td><td style = \"text-align: right;\">15042</td><td style = \"text-align: right;\">0.0</td></tr><tr><td class = \"rowNumber\" style = \"font-weight: bold; text-align: right;\">8</td><td style = \"text-align: right;\">20</td><td style = \"text-align: left;\">M</td><td style = \"text-align: right;\">14959</td><td style = \"text-align: right;\">14959</td><td style = \"text-align: right;\">0.0</td></tr><tr><td class = \"rowNumber\" style = \"font-weight: bold; text-align: right;\">9</td><td style = \"text-align: right;\">25</td><td style = \"text-align: left;\">F</td><td style = \"text-align: right;\">14958</td><td style = \"text-align: right;\">14958</td><td style = \"text-align: right;\">0.0</td></tr><tr><td class = \"rowNumber\" style = \"font-weight: bold; text-align: right;\">10</td><td style = \"text-align: right;\">25</td><td style = \"text-align: left;\">M</td><td style = \"text-align: right;\">15041</td><td style = \"text-align: right;\">15041</td><td style = \"text-align: right;\">0.0</td></tr><tr><td class = \"rowNumber\" style = \"font-weight: bold; text-align: right;\">11</td><td style = \"text-align: right;\">30</td><td style = \"text-align: left;\">F</td><td style = \"text-align: right;\">8326</td><td style = \"text-align: right;\">8326</td><td style = \"text-align: right;\">0.0</td></tr><tr><td class = \"rowNumber\" style = \"font-weight: bold; text-align: right;\">12</td><td style = \"text-align: right;\">30</td><td style = \"text-align: left;\">M</td><td style = \"text-align: right;\">8209</td><td style = \"text-align: right;\">8210</td><td style = \"text-align: right;\">-0.0111913</td></tr><tr><td class = \"rowNumber\" style = \"font-weight: bold; text-align: right;\">13</td><td style = \"text-align: right;\">35</td><td style = \"text-align: left;\">F</td><td style = \"text-align: right;\">8228</td><td style = \"text-align: right;\">8228</td><td style = \"text-align: right;\">0.0</td></tr><tr><td style = \"text-align: right;\">&vellip;</td><td style = \"text-align: right;\">&vellip;</td><td style = \"text-align: right;\">&vellip;</td><td style = \"text-align: right;\">&vellip;</td><td style = \"text-align: right;\">&vellip;</td><td style = \"text-align: right;\">&vellip;</td></tr><tr><td class = \"rowNumber\" style = \"font-weight: bold; text-align: right;\">21</td><td style = \"text-align: right;\">55</td><td style = \"text-align: left;\">F</td><td style = \"text-align: right;\">8109</td><td style = \"text-align: right;\">8108</td><td style = \"text-align: right;\">0.0112581</td></tr><tr><td class = \"rowNumber\" style = \"font-weight: bold; text-align: right;\">22</td><td style = \"text-align: right;\">55</td><td style = \"text-align: left;\">M</td><td style = \"text-align: right;\">8260</td><td style = \"text-align: right;\">8261</td><td style = \"text-align: right;\">-0.0111576</td></tr><tr><td class = \"rowNumber\" style = \"font-weight: bold; text-align: right;\">23</td><td style = \"text-align: right;\">60</td><td style = \"text-align: left;\">F</td><td style = \"text-align: right;\">8165</td><td style = \"text-align: right;\">8165</td><td style = \"text-align: right;\">0.0</td></tr><tr><td class = \"rowNumber\" style = \"font-weight: bold; text-align: right;\">24</td><td style = \"text-align: right;\">60</td><td style = \"text-align: left;\">M</td><td style = \"text-align: right;\">8151</td><td style = \"text-align: right;\">8151</td><td style = \"text-align: right;\">0.0</td></tr><tr><td class = \"rowNumber\" style = \"font-weight: bold; text-align: right;\">25</td><td style = \"text-align: right;\">65</td><td style = \"text-align: left;\">F</td><td style = \"text-align: right;\">8067</td><td style = \"text-align: right;\">8067</td><td style = \"text-align: right;\">0.0</td></tr><tr><td class = \"rowNumber\" style = \"font-weight: bold; text-align: right;\">26</td><td style = \"text-align: right;\">65</td><td style = \"text-align: left;\">M</td><td style = \"text-align: right;\">8001</td><td style = \"text-align: right;\">8004</td><td style = \"text-align: right;\">-0.0339953</td></tr><tr><td class = \"rowNumber\" style = \"font-weight: bold; text-align: right;\">27</td><td style = \"text-align: right;\">70</td><td style = \"text-align: left;\">F</td><td style = \"text-align: right;\">8204</td><td style = \"text-align: right;\">8203</td><td style = \"text-align: right;\">0.0111946</td></tr><tr><td class = \"rowNumber\" style = \"font-weight: bold; text-align: right;\">28</td><td style = \"text-align: right;\">70</td><td style = \"text-align: left;\">M</td><td style = \"text-align: right;\">8138</td><td style = \"text-align: right;\">8137</td><td style = \"text-align: right;\">0.0112386</td></tr><tr><td class = \"rowNumber\" style = \"font-weight: bold; text-align: right;\">29</td><td style = \"text-align: right;\">75</td><td style = \"text-align: left;\">F</td><td style = \"text-align: right;\">8225</td><td style = \"text-align: right;\">8225</td><td style = \"text-align: right;\">0.0</td></tr><tr><td class = \"rowNumber\" style = \"font-weight: bold; text-align: right;\">30</td><td style = \"text-align: right;\">75</td><td style = \"text-align: left;\">M</td><td style = \"text-align: right;\">8338</td><td style = \"text-align: right;\">8339</td><td style = \"text-align: right;\">-0.0111068</td></tr><tr><td class = \"rowNumber\" style = \"font-weight: bold; text-align: right;\">31</td><td style = \"text-align: right;\">80</td><td style = \"text-align: left;\">F</td><td style = \"text-align: right;\">8140</td><td style = \"text-align: right;\">8140</td><td style = \"text-align: right;\">0.0</td></tr><tr><td class = \"rowNumber\" style = \"font-weight: bold; text-align: right;\">32</td><td style = \"text-align: right;\">80</td><td style = \"text-align: left;\">M</td><td style = \"text-align: right;\">8149</td><td style = \"text-align: right;\">8150</td><td style = \"text-align: right;\">-0.0112312</td></tr></tbody></table></div>"
      ],
      "text/latex": [
       "\\begin{tabular}{r|ccccc}\n",
       "\t& AGE & SEX & population & estimated\\_population & Z\\_score\\\\\n",
       "\t\\hline\n",
       "\t& Int64 & Char & Int64 & Int64? & Float64\\\\\n",
       "\t\\hline\n",
       "\t1 & 5 & F & 9993 & 9993 & 0.0 \\\\\n",
       "\t2 & 5 & M & 9928 & 9927 & 0.0102065 \\\\\n",
       "\t3 & 10 & F & 9975 & 9975 & 0.0 \\\\\n",
       "\t4 & 10 & M & 9947 & 9947 & 0.0 \\\\\n",
       "\t5 & 15 & F & 9994 & 9996 & -0.0203478 \\\\\n",
       "\t6 & 15 & M & 10163 & 10163 & 0.0 \\\\\n",
       "\t7 & 20 & F & 15042 & 15042 & 0.0 \\\\\n",
       "\t8 & 20 & M & 14959 & 14959 & 0.0 \\\\\n",
       "\t9 & 25 & F & 14958 & 14958 & 0.0 \\\\\n",
       "\t10 & 25 & M & 15041 & 15041 & 0.0 \\\\\n",
       "\t11 & 30 & F & 8326 & 8326 & 0.0 \\\\\n",
       "\t12 & 30 & M & 8209 & 8210 & -0.0111913 \\\\\n",
       "\t13 & 35 & F & 8228 & 8228 & 0.0 \\\\\n",
       "\t14 & 35 & M & 8263 & 8262 & 0.0111557 \\\\\n",
       "\t15 & 40 & F & 8199 & 8199 & 0.0 \\\\\n",
       "\t16 & 40 & M & 8038 & 8041 & -0.0339191 \\\\\n",
       "\t17 & 45 & F & 8207 & 8205 & 0.0223852 \\\\\n",
       "\t18 & 45 & M & 8269 & 8268 & 0.0111517 \\\\\n",
       "\t19 & 50 & F & 8130 & 8131 & -0.011244 \\\\\n",
       "\t20 & 50 & M & 8184 & 8185 & -0.0112079 \\\\\n",
       "\t21 & 55 & F & 8109 & 8108 & 0.0112581 \\\\\n",
       "\t22 & 55 & M & 8260 & 8261 & -0.0111576 \\\\\n",
       "\t23 & 60 & F & 8165 & 8165 & 0.0 \\\\\n",
       "\t24 & 60 & M & 8151 & 8151 & 0.0 \\\\\n",
       "\t$\\dots$ & $\\dots$ & $\\dots$ & $\\dots$ & $\\dots$ & $\\dots$ \\\\\n",
       "\\end{tabular}\n"
      ],
      "text/plain": [
       "\u001b[1m32×5 DataFrame\u001b[0m\n",
       "\u001b[1m Row \u001b[0m│\u001b[1m AGE   \u001b[0m\u001b[1m SEX  \u001b[0m\u001b[1m population \u001b[0m\u001b[1m estimated_population \u001b[0m\u001b[1m Z_score    \u001b[0m\n",
       "     │\u001b[90m Int64 \u001b[0m\u001b[90m Char \u001b[0m\u001b[90m Int64      \u001b[0m\u001b[90m Int64?               \u001b[0m\u001b[90m Float64    \u001b[0m\n",
       "─────┼───────────────────────────────────────────────────────────\n",
       "   1 │     5  F           9993                  9993   0.0\n",
       "   2 │     5  M           9928                  9927   0.0102065\n",
       "   3 │    10  F           9975                  9975   0.0\n",
       "   4 │    10  M           9947                  9947   0.0\n",
       "   5 │    15  F           9994                  9996  -0.0203478\n",
       "   6 │    15  M          10163                 10163   0.0\n",
       "   7 │    20  F          15042                 15042   0.0\n",
       "   8 │    20  M          14959                 14959   0.0\n",
       "  ⋮  │   ⋮     ⋮        ⋮                ⋮                ⋮\n",
       "  26 │    65  M           8001                  8004  -0.0339953\n",
       "  27 │    70  F           8204                  8203   0.0111946\n",
       "  28 │    70  M           8138                  8137   0.0112386\n",
       "  29 │    75  F           8225                  8225   0.0\n",
       "  30 │    75  M           8338                  8339  -0.0111068\n",
       "  31 │    80  F           8140                  8140   0.0\n",
       "  32 │    80  M           8149                  8150  -0.0112312\n",
       "\u001b[36m                                                  17 rows omitted\u001b[0m"
      ]
     },
     "metadata": {},
     "output_type": "display_data"
    }
   ],
   "source": [
    "validate_table(ponge_et_al_age_sex, dependent_age_sex)"
   ]
  },
  {
   "cell_type": "code",
   "execution_count": 78,
   "metadata": {},
   "outputs": [
    {
     "name": "stdout",
     "output_type": "stream",
     "text": [
      "=================\n",
      "=Cell statistics=\n",
      "=================\n",
      "Percentage of well fitting values at 0.95 confidence interval: 0.0\n",
      "Percentage of well fitting values at 0.90 confidence interval: 0.0\n",
      "\n",
      "==================\n",
      "=Table statistics=\n",
      "==================\n",
      "Statistic value equals: 17705.475106408994\n",
      "Table is not well fitting.\n",
      "\n"
     ]
    },
    {
     "data": {
      "text/html": [
       "<div><div style = \"float: left;\"><span>8×5 DataFrame</span></div><div style = \"clear: both;\"></div></div><div class = \"data-frame\" style = \"overflow-x: scroll;\"><table class = \"data-frame\" style = \"margin-bottom: 6px;\"><thead><tr class = \"header\"><th class = \"rowNumber\" style = \"font-weight: bold; text-align: right;\">Row</th><th style = \"text-align: left;\">MARITAL_STATUS</th><th style = \"text-align: left;\">SEX</th><th style = \"text-align: left;\">population</th><th style = \"text-align: left;\">estimated_population</th><th style = \"text-align: left;\">Z_score</th></tr><tr class = \"subheader headerLastRow\"><th class = \"rowNumber\" style = \"font-weight: bold; text-align: right;\"></th><th title = \"Union{Missing, String}\" style = \"text-align: left;\">String?</th><th title = \"Char\" style = \"text-align: left;\">Char</th><th title = \"Int64\" style = \"text-align: left;\">Int64</th><th title = \"Union{Missing, Int64}\" style = \"text-align: left;\">Int64?</th><th title = \"Float64\" style = \"text-align: left;\">Float64</th></tr></thead><tbody><tr><td class = \"rowNumber\" style = \"font-weight: bold; text-align: right;\">1</td><td style = \"text-align: left;\">Divorced</td><td style = \"text-align: left;\">F</td><td style = \"text-align: right;\">24058</td><td style = \"text-align: right;\">30064</td><td style = \"text-align: right;\">-40.8218</td></tr><tr><td class = \"rowNumber\" style = \"font-weight: bold; text-align: right;\">2</td><td style = \"text-align: left;\">Divorced</td><td style = \"text-align: left;\">M</td><td style = \"text-align: right;\">35836</td><td style = \"text-align: right;\">44810</td><td style = \"text-align: right;\">-51.3975</td></tr><tr><td class = \"rowNumber\" style = \"font-weight: bold; text-align: right;\">3</td><td style = \"text-align: left;\">Married</td><td style = \"text-align: left;\">F</td><td style = \"text-align: right;\">36245</td><td style = \"text-align: right;\">45293</td><td style = \"text-align: right;\">-51.5798</td></tr><tr><td class = \"rowNumber\" style = \"font-weight: bold; text-align: right;\">4</td><td style = \"text-align: left;\">Married</td><td style = \"text-align: left;\">M</td><td style = \"text-align: right;\">23977</td><td style = \"text-align: right;\">29974</td><td style = \"text-align: right;\">-40.8218</td></tr><tr><td class = \"rowNumber\" style = \"font-weight: bold; text-align: right;\">5</td><td style = \"text-align: left;\">Not_married</td><td style = \"text-align: left;\">F</td><td style = \"text-align: right;\">47553</td><td style = \"text-align: right;\">59424</td><td style = \"text-align: right;\">-60.7923</td></tr><tr><td class = \"rowNumber\" style = \"font-weight: bold; text-align: right;\">6</td><td style = \"text-align: left;\">Not_married</td><td style = \"text-align: left;\">M</td><td style = \"text-align: right;\">11954</td><td style = \"text-align: right;\">14951</td><td style = \"text-align: right;\">-28.1206</td></tr><tr><td class = \"rowNumber\" style = \"font-weight: bold; text-align: right;\">7</td><td style = \"text-align: left;\">Widowed</td><td style = \"text-align: left;\">F</td><td style = \"text-align: right;\">12144</td><td style = \"text-align: right;\">15180</td><td style = \"text-align: right;\">-28.2746</td></tr><tr><td class = \"rowNumber\" style = \"font-weight: bold; text-align: right;\">8</td><td style = \"text-align: left;\">Widowed</td><td style = \"text-align: left;\">M</td><td style = \"text-align: right;\">48233</td><td style = \"text-align: right;\">60310</td><td style = \"text-align: right;\">-61.5185</td></tr></tbody></table></div>"
      ],
      "text/latex": [
       "\\begin{tabular}{r|ccccc}\n",
       "\t& MARITAL\\_STATUS & SEX & population & estimated\\_population & Z\\_score\\\\\n",
       "\t\\hline\n",
       "\t& String? & Char & Int64 & Int64? & Float64\\\\\n",
       "\t\\hline\n",
       "\t1 & Divorced & F & 24058 & 30064 & -40.8218 \\\\\n",
       "\t2 & Divorced & M & 35836 & 44810 & -51.3975 \\\\\n",
       "\t3 & Married & F & 36245 & 45293 & -51.5798 \\\\\n",
       "\t4 & Married & M & 23977 & 29974 & -40.8218 \\\\\n",
       "\t5 & Not\\_married & F & 47553 & 59424 & -60.7923 \\\\\n",
       "\t6 & Not\\_married & M & 11954 & 14951 & -28.1206 \\\\\n",
       "\t7 & Widowed & F & 12144 & 15180 & -28.2746 \\\\\n",
       "\t8 & Widowed & M & 48233 & 60310 & -61.5185 \\\\\n",
       "\\end{tabular}\n"
      ],
      "text/plain": [
       "\u001b[1m8×5 DataFrame\u001b[0m\n",
       "\u001b[1m Row \u001b[0m│\u001b[1m MARITAL_STATUS \u001b[0m\u001b[1m SEX  \u001b[0m\u001b[1m population \u001b[0m\u001b[1m estimated_population \u001b[0m\u001b[1m Z_score  \u001b[0m\n",
       "     │\u001b[90m String?        \u001b[0m\u001b[90m Char \u001b[0m\u001b[90m Int64      \u001b[0m\u001b[90m Int64?               \u001b[0m\u001b[90m Float64  \u001b[0m\n",
       "─────┼──────────────────────────────────────────────────────────────────\n",
       "   1 │ Divorced        F          24058                 30064  -40.8218\n",
       "   2 │ Divorced        M          35836                 44810  -51.3975\n",
       "   3 │ Married         F          36245                 45293  -51.5798\n",
       "   4 │ Married         M          23977                 29974  -40.8218\n",
       "   5 │ Not_married     F          47553                 59424  -60.7923\n",
       "   6 │ Not_married     M          11954                 14951  -28.1206\n",
       "   7 │ Widowed         F          12144                 15180  -28.2746\n",
       "   8 │ Widowed         M          48233                 60310  -61.5185"
      ]
     },
     "metadata": {},
     "output_type": "display_data"
    }
   ],
   "source": [
    "validate_table(ponge_et_al_sex_marital, dependent_sex_marital)"
   ]
  },
  {
   "cell_type": "code",
   "execution_count": 79,
   "metadata": {},
   "outputs": [
    {
     "name": "stdout",
     "output_type": "stream",
     "text": [
      "=================\n",
      "=Cell statistics=\n",
      "=================\n",
      "Percentage of well fitting values at 0.95 confidence interval: 0.0\n",
      "Percentage of well fitting values at 0.90 confidence interval: 0.0\n",
      "\n",
      "==================\n",
      "=Table statistics=\n",
      "==================\n",
      "Statistic value equals: 19845.437208700387\n",
      "Table is not well fitting.\n",
      "\n"
     ]
    },
    {
     "data": {
      "text/html": [
       "<div><div style = \"float: left;\"><span>5×4 DataFrame</span></div><div style = \"clear: both;\"></div></div><div class = \"data-frame\" style = \"overflow-x: scroll;\"><table class = \"data-frame\" style = \"margin-bottom: 6px;\"><thead><tr class = \"header\"><th class = \"rowNumber\" style = \"font-weight: bold; text-align: right;\">Row</th><th style = \"text-align: left;\">INCOME</th><th style = \"text-align: left;\">population</th><th style = \"text-align: left;\">estimated_population</th><th style = \"text-align: left;\">Z_score</th></tr><tr class = \"subheader headerLastRow\"><th class = \"rowNumber\" style = \"font-weight: bold; text-align: right;\"></th><th title = \"Union{Missing, Int64}\" style = \"text-align: left;\">Int64?</th><th title = \"Int64\" style = \"text-align: left;\">Int64</th><th title = \"Union{Missing, Int64}\" style = \"text-align: left;\">Int64?</th><th title = \"Float64\" style = \"text-align: left;\">Float64</th></tr></thead><tbody><tr><td class = \"rowNumber\" style = \"font-weight: bold; text-align: right;\">1</td><td style = \"text-align: right;\">40000</td><td style = \"text-align: right;\">37971</td><td style = \"text-align: right;\">47466</td><td style = \"text-align: right;\">-53.109</td></tr><tr><td class = \"rowNumber\" style = \"font-weight: bold; text-align: right;\">2</td><td style = \"text-align: right;\">50000</td><td style = \"text-align: right;\">85988</td><td style = \"text-align: right;\">107485</td><td style = \"text-align: right;\">-91.5139</td></tr><tr><td class = \"rowNumber\" style = \"font-weight: bold; text-align: right;\">3</td><td style = \"text-align: right;\">60000</td><td style = \"text-align: right;\">40203</td><td style = \"text-align: right;\">50252</td><td style = \"text-align: right;\">-54.9294</td></tr><tr><td class = \"rowNumber\" style = \"font-weight: bold; text-align: right;\">4</td><td style = \"text-align: right;\">70000</td><td style = \"text-align: right;\">38506</td><td style = \"text-align: right;\">48133</td><td style = \"text-align: right;\">-53.5428</td></tr><tr><td class = \"rowNumber\" style = \"font-weight: bold; text-align: right;\">5</td><td style = \"text-align: right;\">80000</td><td style = \"text-align: right;\">37332</td><td style = \"text-align: right;\">46670</td><td style = \"text-align: right;\">-52.5928</td></tr></tbody></table></div>"
      ],
      "text/latex": [
       "\\begin{tabular}{r|cccc}\n",
       "\t& INCOME & population & estimated\\_population & Z\\_score\\\\\n",
       "\t\\hline\n",
       "\t& Int64? & Int64 & Int64? & Float64\\\\\n",
       "\t\\hline\n",
       "\t1 & 40000 & 37971 & 47466 & -53.109 \\\\\n",
       "\t2 & 50000 & 85988 & 107485 & -91.5139 \\\\\n",
       "\t3 & 60000 & 40203 & 50252 & -54.9294 \\\\\n",
       "\t4 & 70000 & 38506 & 48133 & -53.5428 \\\\\n",
       "\t5 & 80000 & 37332 & 46670 & -52.5928 \\\\\n",
       "\\end{tabular}\n"
      ],
      "text/plain": [
       "\u001b[1m5×4 DataFrame\u001b[0m\n",
       "\u001b[1m Row \u001b[0m│\u001b[1m INCOME \u001b[0m\u001b[1m population \u001b[0m\u001b[1m estimated_population \u001b[0m\u001b[1m Z_score  \u001b[0m\n",
       "     │\u001b[90m Int64? \u001b[0m\u001b[90m Int64      \u001b[0m\u001b[90m Int64?               \u001b[0m\u001b[90m Float64  \u001b[0m\n",
       "─────┼────────────────────────────────────────────────────\n",
       "   1 │  40000       37971                 47466  -53.109\n",
       "   2 │  50000       85988                107485  -91.5139\n",
       "   3 │  60000       40203                 50252  -54.9294\n",
       "   4 │  70000       38506                 48133  -53.5428\n",
       "   5 │  80000       37332                 46670  -52.5928"
      ]
     },
     "metadata": {},
     "output_type": "display_data"
    }
   ],
   "source": [
    "validate_table(ponge_et_al_income, dependent_income)"
   ]
  },
  {
   "attachments": {},
   "cell_type": "markdown",
   "metadata": {},
   "source": [
    "#### Modified"
   ]
  },
  {
   "cell_type": "code",
   "execution_count": 80,
   "metadata": {},
   "outputs": [
    {
     "data": {
      "text/plain": [
       "(\u001b[1m32×3 DataFrame\u001b[0m\n",
       "\u001b[1m Row \u001b[0m│\u001b[1m AGE    \u001b[0m\u001b[1m SEX   \u001b[0m\u001b[1m population \u001b[0m\n",
       "     │\u001b[90m Int64? \u001b[0m\u001b[90m Char? \u001b[0m\u001b[90m Int64      \u001b[0m\n",
       "─────┼───────────────────────────\n",
       "   1 │      5  F            9991\n",
       "   2 │      5  M            9928\n",
       "   3 │     10  F            9976\n",
       "   4 │     10  M            9947\n",
       "   5 │     15  F            9995\n",
       "   6 │     15  M           10161\n",
       "   7 │     20  F           15042\n",
       "   8 │     20  M           14959\n",
       "  ⋮  │   ⋮       ⋮        ⋮\n",
       "  26 │     65  M            8000\n",
       "  27 │     70  F            8202\n",
       "  28 │     70  M            8137\n",
       "  29 │     75  F            8223\n",
       "  30 │     75  M            8338\n",
       "  31 │     80  F            8141\n",
       "  32 │     80  M            8148\n",
       "\u001b[36m                  17 rows omitted\u001b[0m, \u001b[1m8×3 DataFrame\u001b[0m\n",
       "\u001b[1m Row \u001b[0m│\u001b[1m MARITAL_STATUS \u001b[0m\u001b[1m SEX   \u001b[0m\u001b[1m population \u001b[0m\n",
       "     │\u001b[90m String?        \u001b[0m\u001b[90m Char? \u001b[0m\u001b[90m Int64      \u001b[0m\n",
       "─────┼───────────────────────────────────\n",
       "   1 │ Divorced        F           24057\n",
       "   2 │ Divorced        M           35837\n",
       "   3 │ Married         F           36244\n",
       "   4 │ Married         M           23978\n",
       "   5 │ Not_married     F           47553\n",
       "   6 │ Not_married     M           11953\n",
       "   7 │ Widowed         F           12146\n",
       "   8 │ Widowed         M           48231, \u001b[1m5×2 DataFrame\u001b[0m\n",
       "\u001b[1m Row \u001b[0m│\u001b[1m INCOME \u001b[0m\u001b[1m population \u001b[0m\n",
       "     │\u001b[90m Int64? \u001b[0m\u001b[90m Int64      \u001b[0m\n",
       "─────┼────────────────────\n",
       "   1 │  40000       37974\n",
       "   2 │  50000       85987\n",
       "   3 │  60000       40205\n",
       "   4 │  70000       38507\n",
       "   5 │  80000       37326)"
      ]
     },
     "metadata": {},
     "output_type": "display_data"
    }
   ],
   "source": [
    "modified_age_sex, modified_sex_marital, modified_income = compute_marginals(modified)"
   ]
  },
  {
   "cell_type": "code",
   "execution_count": 81,
   "metadata": {},
   "outputs": [
    {
     "name": "stdout",
     "output_type": "stream",
     "text": [
      "=================\n",
      "=Cell statistics=\n",
      "=================\n",
      "Percentage of well fitting values at 0.95 confidence interval: 1.0\n",
      "Percentage of well fitting values at 0.90 confidence interval: 1.0\n",
      "\n",
      "==================\n",
      "=Table statistics=\n",
      "==================\n",
      "Statistic value equals: 0.005159468202086297\n",
      "Table is well fitting at 0.9 and 0.95 confidence interval.\n",
      "\n"
     ]
    },
    {
     "data": {
      "text/html": [
       "<div><div style = \"float: left;\"><span>32×5 DataFrame</span></div><div style = \"float: right;\"><span style = \"font-style: italic;\">7 rows omitted</span></div><div style = \"clear: both;\"></div></div><div class = \"data-frame\" style = \"overflow-x: scroll;\"><table class = \"data-frame\" style = \"margin-bottom: 6px;\"><thead><tr class = \"header\"><th class = \"rowNumber\" style = \"font-weight: bold; text-align: right;\">Row</th><th style = \"text-align: left;\">AGE</th><th style = \"text-align: left;\">SEX</th><th style = \"text-align: left;\">population</th><th style = \"text-align: left;\">estimated_population</th><th style = \"text-align: left;\">Z_score</th></tr><tr class = \"subheader headerLastRow\"><th class = \"rowNumber\" style = \"font-weight: bold; text-align: right;\"></th><th title = \"Int64\" style = \"text-align: left;\">Int64</th><th title = \"Char\" style = \"text-align: left;\">Char</th><th title = \"Int64\" style = \"text-align: left;\">Int64</th><th title = \"Union{Missing, Int64}\" style = \"text-align: left;\">Int64?</th><th title = \"Float64\" style = \"text-align: left;\">Float64</th></tr></thead><tbody><tr><td class = \"rowNumber\" style = \"font-weight: bold; text-align: right;\">1</td><td style = \"text-align: right;\">5</td><td style = \"text-align: left;\">F</td><td style = \"text-align: right;\">9993</td><td style = \"text-align: right;\">9991</td><td style = \"text-align: right;\">0.0203488</td></tr><tr><td class = \"rowNumber\" style = \"font-weight: bold; text-align: right;\">2</td><td style = \"text-align: right;\">5</td><td style = \"text-align: left;\">M</td><td style = \"text-align: right;\">9928</td><td style = \"text-align: right;\">9928</td><td style = \"text-align: right;\">0.0</td></tr><tr><td class = \"rowNumber\" style = \"font-weight: bold; text-align: right;\">3</td><td style = \"text-align: right;\">10</td><td style = \"text-align: left;\">F</td><td style = \"text-align: right;\">9975</td><td style = \"text-align: right;\">9976</td><td style = \"text-align: right;\">-0.0101833</td></tr><tr><td class = \"rowNumber\" style = \"font-weight: bold; text-align: right;\">4</td><td style = \"text-align: right;\">10</td><td style = \"text-align: left;\">M</td><td style = \"text-align: right;\">9947</td><td style = \"text-align: right;\">9947</td><td style = \"text-align: right;\">0.0</td></tr><tr><td class = \"rowNumber\" style = \"font-weight: bold; text-align: right;\">5</td><td style = \"text-align: right;\">15</td><td style = \"text-align: left;\">F</td><td style = \"text-align: right;\">9994</td><td style = \"text-align: right;\">9995</td><td style = \"text-align: right;\">-0.0101739</td></tr><tr><td class = \"rowNumber\" style = \"font-weight: bold; text-align: right;\">6</td><td style = \"text-align: right;\">15</td><td style = \"text-align: left;\">M</td><td style = \"text-align: right;\">10163</td><td style = \"text-align: right;\">10161</td><td style = \"text-align: right;\">0.0201838</td></tr><tr><td class = \"rowNumber\" style = \"font-weight: bold; text-align: right;\">7</td><td style = \"text-align: right;\">20</td><td style = \"text-align: left;\">F</td><td style = \"text-align: right;\">15042</td><td style = \"text-align: right;\">15042</td><td style = \"text-align: right;\">0.0</td></tr><tr><td class = \"rowNumber\" style = \"font-weight: bold; text-align: right;\">8</td><td style = \"text-align: right;\">20</td><td style = \"text-align: left;\">M</td><td style = \"text-align: right;\">14959</td><td style = \"text-align: right;\">14959</td><td style = \"text-align: right;\">0.0</td></tr><tr><td class = \"rowNumber\" style = \"font-weight: bold; text-align: right;\">9</td><td style = \"text-align: right;\">25</td><td style = \"text-align: left;\">F</td><td style = \"text-align: right;\">14958</td><td style = \"text-align: right;\">14958</td><td style = \"text-align: right;\">0.0</td></tr><tr><td class = \"rowNumber\" style = \"font-weight: bold; text-align: right;\">10</td><td style = \"text-align: right;\">25</td><td style = \"text-align: left;\">M</td><td style = \"text-align: right;\">15041</td><td style = \"text-align: right;\">15041</td><td style = \"text-align: right;\">0.0</td></tr><tr><td class = \"rowNumber\" style = \"font-weight: bold; text-align: right;\">11</td><td style = \"text-align: right;\">30</td><td style = \"text-align: left;\">F</td><td style = \"text-align: right;\">8326</td><td style = \"text-align: right;\">8327</td><td style = \"text-align: right;\">-0.0111146</td></tr><tr><td class = \"rowNumber\" style = \"font-weight: bold; text-align: right;\">12</td><td style = \"text-align: right;\">30</td><td style = \"text-align: left;\">M</td><td style = \"text-align: right;\">8209</td><td style = \"text-align: right;\">8208</td><td style = \"text-align: right;\">0.0111913</td></tr><tr><td class = \"rowNumber\" style = \"font-weight: bold; text-align: right;\">13</td><td style = \"text-align: right;\">35</td><td style = \"text-align: left;\">F</td><td style = \"text-align: right;\">8228</td><td style = \"text-align: right;\">8230</td><td style = \"text-align: right;\">-0.0223574</td></tr><tr><td style = \"text-align: right;\">&vellip;</td><td style = \"text-align: right;\">&vellip;</td><td style = \"text-align: right;\">&vellip;</td><td style = \"text-align: right;\">&vellip;</td><td style = \"text-align: right;\">&vellip;</td><td style = \"text-align: right;\">&vellip;</td></tr><tr><td class = \"rowNumber\" style = \"font-weight: bold; text-align: right;\">21</td><td style = \"text-align: right;\">55</td><td style = \"text-align: left;\">F</td><td style = \"text-align: right;\">8109</td><td style = \"text-align: right;\">8109</td><td style = \"text-align: right;\">0.0</td></tr><tr><td class = \"rowNumber\" style = \"font-weight: bold; text-align: right;\">22</td><td style = \"text-align: right;\">55</td><td style = \"text-align: left;\">M</td><td style = \"text-align: right;\">8260</td><td style = \"text-align: right;\">8263</td><td style = \"text-align: right;\">-0.0334729</td></tr><tr><td class = \"rowNumber\" style = \"font-weight: bold; text-align: right;\">23</td><td style = \"text-align: right;\">60</td><td style = \"text-align: left;\">F</td><td style = \"text-align: right;\">8165</td><td style = \"text-align: right;\">8165</td><td style = \"text-align: right;\">0.0</td></tr><tr><td class = \"rowNumber\" style = \"font-weight: bold; text-align: right;\">24</td><td style = \"text-align: right;\">60</td><td style = \"text-align: left;\">M</td><td style = \"text-align: right;\">8151</td><td style = \"text-align: right;\">8151</td><td style = \"text-align: right;\">0.0</td></tr><tr><td class = \"rowNumber\" style = \"font-weight: bold; text-align: right;\">25</td><td style = \"text-align: right;\">65</td><td style = \"text-align: left;\">F</td><td style = \"text-align: right;\">8067</td><td style = \"text-align: right;\">8066</td><td style = \"text-align: right;\">0.0112866</td></tr><tr><td class = \"rowNumber\" style = \"font-weight: bold; text-align: right;\">26</td><td style = \"text-align: right;\">65</td><td style = \"text-align: left;\">M</td><td style = \"text-align: right;\">8001</td><td style = \"text-align: right;\">8000</td><td style = \"text-align: right;\">0.0113318</td></tr><tr><td class = \"rowNumber\" style = \"font-weight: bold; text-align: right;\">27</td><td style = \"text-align: right;\">70</td><td style = \"text-align: left;\">F</td><td style = \"text-align: right;\">8204</td><td style = \"text-align: right;\">8202</td><td style = \"text-align: right;\">0.0223892</td></tr><tr><td class = \"rowNumber\" style = \"font-weight: bold; text-align: right;\">28</td><td style = \"text-align: right;\">70</td><td style = \"text-align: left;\">M</td><td style = \"text-align: right;\">8138</td><td style = \"text-align: right;\">8137</td><td style = \"text-align: right;\">0.0112386</td></tr><tr><td class = \"rowNumber\" style = \"font-weight: bold; text-align: right;\">29</td><td style = \"text-align: right;\">75</td><td style = \"text-align: left;\">F</td><td style = \"text-align: right;\">8225</td><td style = \"text-align: right;\">8223</td><td style = \"text-align: right;\">0.0223614</td></tr><tr><td class = \"rowNumber\" style = \"font-weight: bold; text-align: right;\">30</td><td style = \"text-align: right;\">75</td><td style = \"text-align: left;\">M</td><td style = \"text-align: right;\">8338</td><td style = \"text-align: right;\">8338</td><td style = \"text-align: right;\">0.0</td></tr><tr><td class = \"rowNumber\" style = \"font-weight: bold; text-align: right;\">31</td><td style = \"text-align: right;\">80</td><td style = \"text-align: left;\">F</td><td style = \"text-align: right;\">8140</td><td style = \"text-align: right;\">8141</td><td style = \"text-align: right;\">-0.0112373</td></tr><tr><td class = \"rowNumber\" style = \"font-weight: bold; text-align: right;\">32</td><td style = \"text-align: right;\">80</td><td style = \"text-align: left;\">M</td><td style = \"text-align: right;\">8149</td><td style = \"text-align: right;\">8148</td><td style = \"text-align: right;\">0.0112312</td></tr></tbody></table></div>"
      ],
      "text/latex": [
       "\\begin{tabular}{r|ccccc}\n",
       "\t& AGE & SEX & population & estimated\\_population & Z\\_score\\\\\n",
       "\t\\hline\n",
       "\t& Int64 & Char & Int64 & Int64? & Float64\\\\\n",
       "\t\\hline\n",
       "\t1 & 5 & F & 9993 & 9991 & 0.0203488 \\\\\n",
       "\t2 & 5 & M & 9928 & 9928 & 0.0 \\\\\n",
       "\t3 & 10 & F & 9975 & 9976 & -0.0101833 \\\\\n",
       "\t4 & 10 & M & 9947 & 9947 & 0.0 \\\\\n",
       "\t5 & 15 & F & 9994 & 9995 & -0.0101739 \\\\\n",
       "\t6 & 15 & M & 10163 & 10161 & 0.0201838 \\\\\n",
       "\t7 & 20 & F & 15042 & 15042 & 0.0 \\\\\n",
       "\t8 & 20 & M & 14959 & 14959 & 0.0 \\\\\n",
       "\t9 & 25 & F & 14958 & 14958 & 0.0 \\\\\n",
       "\t10 & 25 & M & 15041 & 15041 & 0.0 \\\\\n",
       "\t11 & 30 & F & 8326 & 8327 & -0.0111146 \\\\\n",
       "\t12 & 30 & M & 8209 & 8208 & 0.0111913 \\\\\n",
       "\t13 & 35 & F & 8228 & 8230 & -0.0223574 \\\\\n",
       "\t14 & 35 & M & 8263 & 8264 & -0.0111557 \\\\\n",
       "\t15 & 40 & F & 8199 & 8200 & -0.0111979 \\\\\n",
       "\t16 & 40 & M & 8038 & 8038 & 0.0 \\\\\n",
       "\t17 & 45 & F & 8207 & 8206 & 0.0111926 \\\\\n",
       "\t18 & 45 & M & 8269 & 8268 & 0.0111517 \\\\\n",
       "\t19 & 50 & F & 8130 & 8131 & -0.011244 \\\\\n",
       "\t20 & 50 & M & 8184 & 8184 & 0.0 \\\\\n",
       "\t21 & 55 & F & 8109 & 8109 & 0.0 \\\\\n",
       "\t22 & 55 & M & 8260 & 8263 & -0.0334729 \\\\\n",
       "\t23 & 60 & F & 8165 & 8165 & 0.0 \\\\\n",
       "\t24 & 60 & M & 8151 & 8151 & 0.0 \\\\\n",
       "\t$\\dots$ & $\\dots$ & $\\dots$ & $\\dots$ & $\\dots$ & $\\dots$ \\\\\n",
       "\\end{tabular}\n"
      ],
      "text/plain": [
       "\u001b[1m32×5 DataFrame\u001b[0m\n",
       "\u001b[1m Row \u001b[0m│\u001b[1m AGE   \u001b[0m\u001b[1m SEX  \u001b[0m\u001b[1m population \u001b[0m\u001b[1m estimated_population \u001b[0m\u001b[1m Z_score    \u001b[0m\n",
       "     │\u001b[90m Int64 \u001b[0m\u001b[90m Char \u001b[0m\u001b[90m Int64      \u001b[0m\u001b[90m Int64?               \u001b[0m\u001b[90m Float64    \u001b[0m\n",
       "─────┼───────────────────────────────────────────────────────────\n",
       "   1 │     5  F           9993                  9991   0.0203488\n",
       "   2 │     5  M           9928                  9928   0.0\n",
       "   3 │    10  F           9975                  9976  -0.0101833\n",
       "   4 │    10  M           9947                  9947   0.0\n",
       "   5 │    15  F           9994                  9995  -0.0101739\n",
       "   6 │    15  M          10163                 10161   0.0201838\n",
       "   7 │    20  F          15042                 15042   0.0\n",
       "   8 │    20  M          14959                 14959   0.0\n",
       "  ⋮  │   ⋮     ⋮        ⋮                ⋮                ⋮\n",
       "  26 │    65  M           8001                  8000   0.0113318\n",
       "  27 │    70  F           8204                  8202   0.0223892\n",
       "  28 │    70  M           8138                  8137   0.0112386\n",
       "  29 │    75  F           8225                  8223   0.0223614\n",
       "  30 │    75  M           8338                  8338   0.0\n",
       "  31 │    80  F           8140                  8141  -0.0112373\n",
       "  32 │    80  M           8149                  8148   0.0112312\n",
       "\u001b[36m                                                  17 rows omitted\u001b[0m"
      ]
     },
     "metadata": {},
     "output_type": "display_data"
    }
   ],
   "source": [
    "validate_table(modified_age_sex, dependent_age_sex)"
   ]
  },
  {
   "cell_type": "code",
   "execution_count": 82,
   "metadata": {},
   "outputs": [
    {
     "name": "stdout",
     "output_type": "stream",
     "text": [
      "=================\n",
      "=Cell statistics=\n",
      "=================\n",
      "Percentage of well fitting values at 0.95 confidence interval: 1.0\n",
      "Percentage of well fitting values at 0.90 confidence interval: 1.0\n",
      "\n",
      "==================\n",
      "=Table statistics=\n",
      "==================\n",
      "Statistic value equals: 0.0006965978691037966\n",
      "Table is well fitting at 0.9 and 0.95 confidence interval.\n",
      "\n"
     ]
    },
    {
     "data": {
      "text/html": [
       "<div><div style = \"float: left;\"><span>8×5 DataFrame</span></div><div style = \"clear: both;\"></div></div><div class = \"data-frame\" style = \"overflow-x: scroll;\"><table class = \"data-frame\" style = \"margin-bottom: 6px;\"><thead><tr class = \"header\"><th class = \"rowNumber\" style = \"font-weight: bold; text-align: right;\">Row</th><th style = \"text-align: left;\">MARITAL_STATUS</th><th style = \"text-align: left;\">SEX</th><th style = \"text-align: left;\">population</th><th style = \"text-align: left;\">estimated_population</th><th style = \"text-align: left;\">Z_score</th></tr><tr class = \"subheader headerLastRow\"><th class = \"rowNumber\" style = \"font-weight: bold; text-align: right;\"></th><th title = \"Union{Missing, String}\" style = \"text-align: left;\">String?</th><th title = \"Char\" style = \"text-align: left;\">Char</th><th title = \"Int64\" style = \"text-align: left;\">Int64</th><th title = \"Union{Missing, Int64}\" style = \"text-align: left;\">Int64?</th><th title = \"Float64\" style = \"text-align: left;\">Float64</th></tr></thead><tbody><tr><td class = \"rowNumber\" style = \"font-weight: bold; text-align: right;\">1</td><td style = \"text-align: left;\">Divorced</td><td style = \"text-align: left;\">F</td><td style = \"text-align: right;\">24058</td><td style = \"text-align: right;\">24057</td><td style = \"text-align: right;\">0.00679684</td></tr><tr><td class = \"rowNumber\" style = \"font-weight: bold; text-align: right;\">2</td><td style = \"text-align: left;\">Divorced</td><td style = \"text-align: left;\">M</td><td style = \"text-align: right;\">35836</td><td style = \"text-align: right;\">35837</td><td style = \"text-align: right;\">-0.00572738</td></tr><tr><td class = \"rowNumber\" style = \"font-weight: bold; text-align: right;\">3</td><td style = \"text-align: left;\">Married</td><td style = \"text-align: left;\">F</td><td style = \"text-align: right;\">36245</td><td style = \"text-align: right;\">36244</td><td style = \"text-align: right;\">0.00570069</td></tr><tr><td class = \"rowNumber\" style = \"font-weight: bold; text-align: right;\">4</td><td style = \"text-align: left;\">Married</td><td style = \"text-align: left;\">M</td><td style = \"text-align: right;\">23977</td><td style = \"text-align: right;\">23978</td><td style = \"text-align: right;\">-0.00680704</td></tr><tr><td class = \"rowNumber\" style = \"font-weight: bold; text-align: right;\">5</td><td style = \"text-align: left;\">Not_married</td><td style = \"text-align: left;\">F</td><td style = \"text-align: right;\">47553</td><td style = \"text-align: right;\">47553</td><td style = \"text-align: right;\">0.0</td></tr><tr><td class = \"rowNumber\" style = \"font-weight: bold; text-align: right;\">6</td><td style = \"text-align: left;\">Not_married</td><td style = \"text-align: left;\">M</td><td style = \"text-align: right;\">11954</td><td style = \"text-align: right;\">11953</td><td style = \"text-align: right;\">0.00938291</td></tr><tr><td class = \"rowNumber\" style = \"font-weight: bold; text-align: right;\">7</td><td style = \"text-align: left;\">Widowed</td><td style = \"text-align: left;\">F</td><td style = \"text-align: right;\">12144</td><td style = \"text-align: right;\">12146</td><td style = \"text-align: right;\">-0.0186262</td></tr><tr><td class = \"rowNumber\" style = \"font-weight: bold; text-align: right;\">8</td><td style = \"text-align: left;\">Widowed</td><td style = \"text-align: left;\">M</td><td style = \"text-align: right;\">48233</td><td style = \"text-align: right;\">48231</td><td style = \"text-align: right;\">0.0101877</td></tr></tbody></table></div>"
      ],
      "text/latex": [
       "\\begin{tabular}{r|ccccc}\n",
       "\t& MARITAL\\_STATUS & SEX & population & estimated\\_population & Z\\_score\\\\\n",
       "\t\\hline\n",
       "\t& String? & Char & Int64 & Int64? & Float64\\\\\n",
       "\t\\hline\n",
       "\t1 & Divorced & F & 24058 & 24057 & 0.00679684 \\\\\n",
       "\t2 & Divorced & M & 35836 & 35837 & -0.00572738 \\\\\n",
       "\t3 & Married & F & 36245 & 36244 & 0.00570069 \\\\\n",
       "\t4 & Married & M & 23977 & 23978 & -0.00680704 \\\\\n",
       "\t5 & Not\\_married & F & 47553 & 47553 & 0.0 \\\\\n",
       "\t6 & Not\\_married & M & 11954 & 11953 & 0.00938291 \\\\\n",
       "\t7 & Widowed & F & 12144 & 12146 & -0.0186262 \\\\\n",
       "\t8 & Widowed & M & 48233 & 48231 & 0.0101877 \\\\\n",
       "\\end{tabular}\n"
      ],
      "text/plain": [
       "\u001b[1m8×5 DataFrame\u001b[0m\n",
       "\u001b[1m Row \u001b[0m│\u001b[1m MARITAL_STATUS \u001b[0m\u001b[1m SEX  \u001b[0m\u001b[1m population \u001b[0m\u001b[1m estimated_population \u001b[0m\u001b[1m Z_score     \u001b[0m\n",
       "     │\u001b[90m String?        \u001b[0m\u001b[90m Char \u001b[0m\u001b[90m Int64      \u001b[0m\u001b[90m Int64?               \u001b[0m\u001b[90m Float64     \u001b[0m\n",
       "─────┼─────────────────────────────────────────────────────────────────────\n",
       "   1 │ Divorced        F          24058                 24057   0.00679684\n",
       "   2 │ Divorced        M          35836                 35837  -0.00572738\n",
       "   3 │ Married         F          36245                 36244   0.00570069\n",
       "   4 │ Married         M          23977                 23978  -0.00680704\n",
       "   5 │ Not_married     F          47553                 47553   0.0\n",
       "   6 │ Not_married     M          11954                 11953   0.00938291\n",
       "   7 │ Widowed         F          12144                 12146  -0.0186262\n",
       "   8 │ Widowed         M          48233                 48231   0.0101877"
      ]
     },
     "metadata": {},
     "output_type": "display_data"
    }
   ],
   "source": [
    "validate_table(modified_sex_marital, dependent_sex_marital)"
   ]
  },
  {
   "cell_type": "code",
   "execution_count": 83,
   "metadata": {},
   "outputs": [
    {
     "name": "stdout",
     "output_type": "stream",
     "text": [
      "=================\n",
      "=Cell statistics=\n",
      "=================\n",
      "Percentage of well fitting values at 0.95 confidence interval: 1.0\n",
      "Percentage of well fitting values at 0.90 confidence interval: 1.0\n",
      "\n",
      "==================\n",
      "=Table statistics=\n",
      "==================\n",
      "Statistic value equals: 0.0015920924348500958\n",
      "Table is well fitting at 0.9 and 0.95 confidence interval.\n",
      "\n"
     ]
    },
    {
     "data": {
      "text/html": [
       "<div><div style = \"float: left;\"><span>5×4 DataFrame</span></div><div style = \"clear: both;\"></div></div><div class = \"data-frame\" style = \"overflow-x: scroll;\"><table class = \"data-frame\" style = \"margin-bottom: 6px;\"><thead><tr class = \"header\"><th class = \"rowNumber\" style = \"font-weight: bold; text-align: right;\">Row</th><th style = \"text-align: left;\">INCOME</th><th style = \"text-align: left;\">population</th><th style = \"text-align: left;\">estimated_population</th><th style = \"text-align: left;\">Z_score</th></tr><tr class = \"subheader headerLastRow\"><th class = \"rowNumber\" style = \"font-weight: bold; text-align: right;\"></th><th title = \"Union{Missing, Int64}\" style = \"text-align: left;\">Int64?</th><th title = \"Int64\" style = \"text-align: left;\">Int64</th><th title = \"Union{Missing, Int64}\" style = \"text-align: left;\">Int64?</th><th title = \"Float64\" style = \"text-align: left;\">Float64</th></tr></thead><tbody><tr><td class = \"rowNumber\" style = \"font-weight: bold; text-align: right;\">1</td><td style = \"text-align: right;\">40000</td><td style = \"text-align: right;\">37971</td><td style = \"text-align: right;\">37974</td><td style = \"text-align: right;\">-0.0167801</td></tr><tr><td class = \"rowNumber\" style = \"font-weight: bold; text-align: right;\">2</td><td style = \"text-align: right;\">50000</td><td style = \"text-align: right;\">85988</td><td style = \"text-align: right;\">85987</td><td style = \"text-align: right;\">0.00425706</td></tr><tr><td class = \"rowNumber\" style = \"font-weight: bold; text-align: right;\">3</td><td style = \"text-align: right;\">60000</td><td style = \"text-align: right;\">40203</td><td style = \"text-align: right;\">40205</td><td style = \"text-align: right;\">-0.0109323</td></tr><tr><td class = \"rowNumber\" style = \"font-weight: bold; text-align: right;\">4</td><td style = \"text-align: right;\">70000</td><td style = \"text-align: right;\">38506</td><td style = \"text-align: right;\">38507</td><td style = \"text-align: right;\">-0.00556174</td></tr><tr><td class = \"rowNumber\" style = \"font-weight: bold; text-align: right;\">5</td><td style = \"text-align: right;\">80000</td><td style = \"text-align: right;\">37332</td><td style = \"text-align: right;\">37326</td><td style = \"text-align: right;\">0.0337928</td></tr></tbody></table></div>"
      ],
      "text/latex": [
       "\\begin{tabular}{r|cccc}\n",
       "\t& INCOME & population & estimated\\_population & Z\\_score\\\\\n",
       "\t\\hline\n",
       "\t& Int64? & Int64 & Int64? & Float64\\\\\n",
       "\t\\hline\n",
       "\t1 & 40000 & 37971 & 37974 & -0.0167801 \\\\\n",
       "\t2 & 50000 & 85988 & 85987 & 0.00425706 \\\\\n",
       "\t3 & 60000 & 40203 & 40205 & -0.0109323 \\\\\n",
       "\t4 & 70000 & 38506 & 38507 & -0.00556174 \\\\\n",
       "\t5 & 80000 & 37332 & 37326 & 0.0337928 \\\\\n",
       "\\end{tabular}\n"
      ],
      "text/plain": [
       "\u001b[1m5×4 DataFrame\u001b[0m\n",
       "\u001b[1m Row \u001b[0m│\u001b[1m INCOME \u001b[0m\u001b[1m population \u001b[0m\u001b[1m estimated_population \u001b[0m\u001b[1m Z_score     \u001b[0m\n",
       "     │\u001b[90m Int64? \u001b[0m\u001b[90m Int64      \u001b[0m\u001b[90m Int64?               \u001b[0m\u001b[90m Float64     \u001b[0m\n",
       "─────┼───────────────────────────────────────────────────────\n",
       "   1 │  40000       37971                 37974  -0.0167801\n",
       "   2 │  50000       85988                 85987   0.00425706\n",
       "   3 │  60000       40203                 40205  -0.0109323\n",
       "   4 │  70000       38506                 38507  -0.00556174\n",
       "   5 │  80000       37332                 37326   0.0337928"
      ]
     },
     "metadata": {},
     "output_type": "display_data"
    }
   ],
   "source": [
    "validate_table(modified_income, dependent_income)"
   ]
  }
 ],
 "metadata": {
  "kernelspec": {
   "display_name": "Julia 1.8.5",
   "language": "julia",
   "name": "julia-1.8"
  },
  "language_info": {
   "file_extension": ".jl",
   "mimetype": "application/julia",
   "name": "julia",
   "version": "1.8.5"
  }
 },
 "nbformat": 4,
 "nbformat_minor": 2
}
