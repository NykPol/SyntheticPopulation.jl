{
 "cells": [
  {
   "cell_type": "code",
   "execution_count": 29,
   "metadata": {},
   "outputs": [
    {
     "name": "stderr",
     "output_type": "stream",
     "text": [
      "WARNING: replacing module SyntheticPopulation.\n"
     ]
    }
   ],
   "source": [
    "include(\"../src/SyntheticPopulation.jl\")\n",
    "include(\"utils.jl\")\n",
    "using .SyntheticPopulation\n",
    "using DataFrames\n",
    "using StatsBase"
   ]
  },
  {
   "attachments": {},
   "cell_type": "markdown",
   "metadata": {},
   "source": [
    "# Summary:\n",
    "Sample-free IPF algorithm is not efficient for creating joint distributions of the attributes that are highly dependent."
   ]
  },
  {
   "attachments": {},
   "cell_type": "markdown",
   "metadata": {},
   "source": [
    "# 1. Population with dependent variables"
   ]
  },
  {
   "attachments": {},
   "cell_type": "markdown",
   "metadata": {},
   "source": [
    "### 1.1. Generate target population with dependent variables\n",
    "First we generate target population that we'll try to synthesize using available algorithms. The variables marital status and income are highly dependent on sex."
   ]
  },
  {
   "cell_type": "code",
   "execution_count": 30,
   "metadata": {
    "scrolled": false
   },
   "outputs": [
    {
     "data": {
      "text/html": [
       "<div><div style = \"float: left;\"><span>526×5 DataFrame</span></div><div style = \"float: right;\"><span style = \"font-style: italic;\">501 rows omitted</span></div><div style = \"clear: both;\"></div></div><div class = \"data-frame\" style = \"overflow-x: scroll;\"><table class = \"data-frame\" style = \"margin-bottom: 6px;\"><thead><tr class = \"header\"><th class = \"rowNumber\" style = \"font-weight: bold; text-align: right;\">Row</th><th style = \"text-align: left;\">AGE</th><th style = \"text-align: left;\">MARITAL_STATUS</th><th style = \"text-align: left;\">SEX</th><th style = \"text-align: left;\">INCOME</th><th style = \"text-align: left;\">population</th></tr><tr class = \"subheader headerLastRow\"><th class = \"rowNumber\" style = \"font-weight: bold; text-align: right;\"></th><th title = \"Int64\" style = \"text-align: left;\">Int64</th><th title = \"Union{Missing, String}\" style = \"text-align: left;\">String?</th><th title = \"Char\" style = \"text-align: left;\">Char</th><th title = \"Union{Missing, Int64}\" style = \"text-align: left;\">Int64?</th><th title = \"Int64\" style = \"text-align: left;\">Int64</th></tr></thead><tbody><tr><td class = \"rowNumber\" style = \"font-weight: bold; text-align: right;\">1</td><td style = \"text-align: right;\">5</td><td style = \"font-style: italic; text-align: left;\">missing</td><td style = \"text-align: left;\">F</td><td style = \"font-style: italic; text-align: right;\">missing</td><td style = \"text-align: right;\">10015</td></tr><tr><td class = \"rowNumber\" style = \"font-weight: bold; text-align: right;\">2</td><td style = \"text-align: right;\">5</td><td style = \"font-style: italic; text-align: left;\">missing</td><td style = \"text-align: left;\">M</td><td style = \"font-style: italic; text-align: right;\">missing</td><td style = \"text-align: right;\">9996</td></tr><tr><td class = \"rowNumber\" style = \"font-weight: bold; text-align: right;\">3</td><td style = \"text-align: right;\">10</td><td style = \"font-style: italic; text-align: left;\">missing</td><td style = \"text-align: left;\">F</td><td style = \"font-style: italic; text-align: right;\">missing</td><td style = \"text-align: right;\">9982</td></tr><tr><td class = \"rowNumber\" style = \"font-weight: bold; text-align: right;\">4</td><td style = \"text-align: right;\">10</td><td style = \"font-style: italic; text-align: left;\">missing</td><td style = \"text-align: left;\">M</td><td style = \"font-style: italic; text-align: right;\">missing</td><td style = \"text-align: right;\">9990</td></tr><tr><td class = \"rowNumber\" style = \"font-weight: bold; text-align: right;\">5</td><td style = \"text-align: right;\">15</td><td style = \"font-style: italic; text-align: left;\">missing</td><td style = \"text-align: left;\">F</td><td style = \"font-style: italic; text-align: right;\">missing</td><td style = \"text-align: right;\">9966</td></tr><tr><td class = \"rowNumber\" style = \"font-weight: bold; text-align: right;\">6</td><td style = \"text-align: right;\">15</td><td style = \"font-style: italic; text-align: left;\">missing</td><td style = \"text-align: left;\">M</td><td style = \"font-style: italic; text-align: right;\">missing</td><td style = \"text-align: right;\">10051</td></tr><tr><td class = \"rowNumber\" style = \"font-weight: bold; text-align: right;\">7</td><td style = \"text-align: right;\">20</td><td style = \"text-align: left;\">Divorced</td><td style = \"text-align: left;\">F</td><td style = \"text-align: right;\">40000</td><td style = \"text-align: right;\">280</td></tr><tr><td class = \"rowNumber\" style = \"font-weight: bold; text-align: right;\">8</td><td style = \"text-align: right;\">20</td><td style = \"text-align: left;\">Divorced</td><td style = \"text-align: left;\">F</td><td style = \"text-align: right;\">50000</td><td style = \"text-align: right;\">2732</td></tr><tr><td class = \"rowNumber\" style = \"font-weight: bold; text-align: right;\">9</td><td style = \"text-align: right;\">20</td><td style = \"text-align: left;\">Divorced</td><td style = \"text-align: left;\">M</td><td style = \"text-align: right;\">40000</td><td style = \"text-align: right;\">448</td></tr><tr><td class = \"rowNumber\" style = \"font-weight: bold; text-align: right;\">10</td><td style = \"text-align: right;\">20</td><td style = \"text-align: left;\">Divorced</td><td style = \"text-align: left;\">M</td><td style = \"text-align: right;\">50000</td><td style = \"text-align: right;\">4020</td></tr><tr><td class = \"rowNumber\" style = \"font-weight: bold; text-align: right;\">11</td><td style = \"text-align: right;\">20</td><td style = \"text-align: left;\">Married</td><td style = \"text-align: left;\">F</td><td style = \"text-align: right;\">40000</td><td style = \"text-align: right;\">423</td></tr><tr><td class = \"rowNumber\" style = \"font-weight: bold; text-align: right;\">12</td><td style = \"text-align: right;\">20</td><td style = \"text-align: left;\">Married</td><td style = \"text-align: left;\">F</td><td style = \"text-align: right;\">50000</td><td style = \"text-align: right;\">4168</td></tr><tr><td class = \"rowNumber\" style = \"font-weight: bold; text-align: right;\">13</td><td style = \"text-align: right;\">20</td><td style = \"text-align: left;\">Married</td><td style = \"text-align: left;\">M</td><td style = \"text-align: right;\">40000</td><td style = \"text-align: right;\">298</td></tr><tr><td style = \"text-align: right;\">&vellip;</td><td style = \"text-align: right;\">&vellip;</td><td style = \"text-align: right;\">&vellip;</td><td style = \"text-align: right;\">&vellip;</td><td style = \"text-align: right;\">&vellip;</td><td style = \"text-align: right;\">&vellip;</td></tr><tr><td class = \"rowNumber\" style = \"font-weight: bold; text-align: right;\">515</td><td style = \"text-align: right;\">20</td><td style = \"text-align: left;\">Divorced</td><td style = \"text-align: left;\">M</td><td style = \"text-align: right;\">80000</td><td style = \"text-align: right;\">0</td></tr><tr><td class = \"rowNumber\" style = \"font-weight: bold; text-align: right;\">516</td><td style = \"text-align: right;\">25</td><td style = \"text-align: left;\">Divorced</td><td style = \"text-align: left;\">M</td><td style = \"text-align: right;\">80000</td><td style = \"text-align: right;\">0</td></tr><tr><td class = \"rowNumber\" style = \"font-weight: bold; text-align: right;\">517</td><td style = \"text-align: right;\">20</td><td style = \"text-align: left;\">Widowed</td><td style = \"text-align: left;\">M</td><td style = \"text-align: right;\">80000</td><td style = \"text-align: right;\">0</td></tr><tr><td class = \"rowNumber\" style = \"font-weight: bold; text-align: right;\">518</td><td style = \"text-align: right;\">25</td><td style = \"text-align: left;\">Widowed</td><td style = \"text-align: left;\">M</td><td style = \"text-align: right;\">80000</td><td style = \"text-align: right;\">0</td></tr><tr><td class = \"rowNumber\" style = \"font-weight: bold; text-align: right;\">519</td><td style = \"text-align: right;\">20</td><td style = \"text-align: left;\">Not_married</td><td style = \"text-align: left;\">F</td><td style = \"text-align: right;\">80000</td><td style = \"text-align: right;\">0</td></tr><tr><td class = \"rowNumber\" style = \"font-weight: bold; text-align: right;\">520</td><td style = \"text-align: right;\">25</td><td style = \"text-align: left;\">Not_married</td><td style = \"text-align: left;\">F</td><td style = \"text-align: right;\">80000</td><td style = \"text-align: right;\">0</td></tr><tr><td class = \"rowNumber\" style = \"font-weight: bold; text-align: right;\">521</td><td style = \"text-align: right;\">20</td><td style = \"text-align: left;\">Married</td><td style = \"text-align: left;\">F</td><td style = \"text-align: right;\">80000</td><td style = \"text-align: right;\">0</td></tr><tr><td class = \"rowNumber\" style = \"font-weight: bold; text-align: right;\">522</td><td style = \"text-align: right;\">25</td><td style = \"text-align: left;\">Married</td><td style = \"text-align: left;\">F</td><td style = \"text-align: right;\">80000</td><td style = \"text-align: right;\">0</td></tr><tr><td class = \"rowNumber\" style = \"font-weight: bold; text-align: right;\">523</td><td style = \"text-align: right;\">20</td><td style = \"text-align: left;\">Divorced</td><td style = \"text-align: left;\">F</td><td style = \"text-align: right;\">80000</td><td style = \"text-align: right;\">0</td></tr><tr><td class = \"rowNumber\" style = \"font-weight: bold; text-align: right;\">524</td><td style = \"text-align: right;\">25</td><td style = \"text-align: left;\">Divorced</td><td style = \"text-align: left;\">F</td><td style = \"text-align: right;\">80000</td><td style = \"text-align: right;\">0</td></tr><tr><td class = \"rowNumber\" style = \"font-weight: bold; text-align: right;\">525</td><td style = \"text-align: right;\">20</td><td style = \"text-align: left;\">Widowed</td><td style = \"text-align: left;\">F</td><td style = \"text-align: right;\">80000</td><td style = \"text-align: right;\">0</td></tr><tr><td class = \"rowNumber\" style = \"font-weight: bold; text-align: right;\">526</td><td style = \"text-align: right;\">25</td><td style = \"text-align: left;\">Widowed</td><td style = \"text-align: left;\">F</td><td style = \"text-align: right;\">80000</td><td style = \"text-align: right;\">0</td></tr></tbody></table></div>"
      ],
      "text/latex": [
       "\\begin{tabular}{r|ccccc}\n",
       "\t& AGE & MARITAL\\_STATUS & SEX & INCOME & population\\\\\n",
       "\t\\hline\n",
       "\t& Int64 & String? & Char & Int64? & Int64\\\\\n",
       "\t\\hline\n",
       "\t1 & 5 & \\emph{missing} & F & \\emph{missing} & 10015 \\\\\n",
       "\t2 & 5 & \\emph{missing} & M & \\emph{missing} & 9996 \\\\\n",
       "\t3 & 10 & \\emph{missing} & F & \\emph{missing} & 9982 \\\\\n",
       "\t4 & 10 & \\emph{missing} & M & \\emph{missing} & 9990 \\\\\n",
       "\t5 & 15 & \\emph{missing} & F & \\emph{missing} & 9966 \\\\\n",
       "\t6 & 15 & \\emph{missing} & M & \\emph{missing} & 10051 \\\\\n",
       "\t7 & 20 & Divorced & F & 40000 & 280 \\\\\n",
       "\t8 & 20 & Divorced & F & 50000 & 2732 \\\\\n",
       "\t9 & 20 & Divorced & M & 40000 & 448 \\\\\n",
       "\t10 & 20 & Divorced & M & 50000 & 4020 \\\\\n",
       "\t11 & 20 & Married & F & 40000 & 423 \\\\\n",
       "\t12 & 20 & Married & F & 50000 & 4168 \\\\\n",
       "\t13 & 20 & Married & M & 40000 & 298 \\\\\n",
       "\t14 & 20 & Married & M & 50000 & 2791 \\\\\n",
       "\t15 & 20 & Not\\_married & F & 40000 & 542 \\\\\n",
       "\t16 & 20 & Not\\_married & F & 50000 & 5479 \\\\\n",
       "\t17 & 20 & Not\\_married & M & 40000 & 140 \\\\\n",
       "\t18 & 20 & Not\\_married & M & 50000 & 1387 \\\\\n",
       "\t19 & 20 & Widowed & F & 40000 & 141 \\\\\n",
       "\t20 & 20 & Widowed & F & 50000 & 1381 \\\\\n",
       "\t21 & 20 & Widowed & M & 40000 & 518 \\\\\n",
       "\t22 & 20 & Widowed & M & 50000 & 5585 \\\\\n",
       "\t23 & 25 & Divorced & F & 40000 & 247 \\\\\n",
       "\t24 & 25 & Divorced & F & 50000 & 2716 \\\\\n",
       "\t$\\dots$ & $\\dots$ & $\\dots$ & $\\dots$ & $\\dots$ & $\\dots$ \\\\\n",
       "\\end{tabular}\n"
      ],
      "text/plain": [
       "\u001b[1m526×5 DataFrame\u001b[0m\n",
       "\u001b[1m Row \u001b[0m│\u001b[1m AGE   \u001b[0m\u001b[1m MARITAL_STATUS \u001b[0m\u001b[1m SEX  \u001b[0m\u001b[1m INCOME  \u001b[0m\u001b[1m population \u001b[0m\n",
       "     │\u001b[90m Int64 \u001b[0m\u001b[90m String?        \u001b[0m\u001b[90m Char \u001b[0m\u001b[90m Int64?  \u001b[0m\u001b[90m Int64      \u001b[0m\n",
       "─────┼──────────────────────────────────────────────────\n",
       "   1 │     5 \u001b[90m missing        \u001b[0m F    \u001b[90m missing \u001b[0m      10015\n",
       "   2 │     5 \u001b[90m missing        \u001b[0m M    \u001b[90m missing \u001b[0m       9996\n",
       "   3 │    10 \u001b[90m missing        \u001b[0m F    \u001b[90m missing \u001b[0m       9982\n",
       "   4 │    10 \u001b[90m missing        \u001b[0m M    \u001b[90m missing \u001b[0m       9990\n",
       "   5 │    15 \u001b[90m missing        \u001b[0m F    \u001b[90m missing \u001b[0m       9966\n",
       "   6 │    15 \u001b[90m missing        \u001b[0m M    \u001b[90m missing \u001b[0m      10051\n",
       "   7 │    20  Divorced        F       40000         280\n",
       "   8 │    20  Divorced        F       50000        2732\n",
       "  ⋮  │   ⋮          ⋮          ⋮       ⋮         ⋮\n",
       " 520 │    25  Not_married     F       80000           0\n",
       " 521 │    20  Married         F       80000           0\n",
       " 522 │    25  Married         F       80000           0\n",
       " 523 │    20  Divorced        F       80000           0\n",
       " 524 │    25  Divorced        F       80000           0\n",
       " 525 │    20  Widowed         F       80000           0\n",
       " 526 │    25  Widowed         F       80000           0\n",
       "\u001b[36m                                        511 rows omitted\u001b[0m"
      ]
     },
     "metadata": {},
     "output_type": "display_data"
    }
   ],
   "source": [
    "SIZE = 300000\n",
    "OLD_ADULTS = 0.6\n",
    "YOUNG_ADULTS = 0.2\n",
    "CHILDREN = 0.2\n",
    "\n",
    "SEX = ['M', 'F']; SEX_WEIGHTS = [0.5, 0.5]\n",
    "MARITAL_STATUS = [\"Not_married\", \"Married\", \"Divorced\", \"Widowed\"]; \n",
    "MARITAL_STATUS_WEIGHTS_M = [0.1, 0.2, 0.3, 0.4]; \n",
    "MARITAL_STATUS_WEIGHTS_F = [0.4, 0.3, 0.2, 0.1];\n",
    "\n",
    "AGE_YOUNG_ADULT = [20, 25];\n",
    "AGE_YOUNG_ADULT_WEIGHTS = repeat([1 / length(AGE_YOUNG_ADULT)], length(AGE_YOUNG_ADULT));\n",
    "AGE_OLD_ADULT = [30, 35, 40, 45, 50, 55, 60, 65, 70, 75, 80];\n",
    "AGE_OLD_ADULT_WEIGHTS = repeat([1 / length(AGE_OLD_ADULT)], length(AGE_OLD_ADULT));\n",
    "AGE_CHILDREN = [5, 10, 15];\n",
    "AGE_CHILDREN_WEIGHTS = repeat([1 / length(AGE_CHILDREN)], length(AGE_CHILDREN));\n",
    "\n",
    "INCOME = [40000, 50000, 60000, 70000, 80000];\n",
    "ZERO_INCOME = [60000, 70000, 80000]\n",
    "INCOME_WEIGHTS_M_YOUNG = SIZE ./ 2 .* YOUNG_ADULTS .* [0.01, 0.1, 0, 0, 0];\n",
    "INCOME_WEIGHTS_F_YOUNG = SIZE ./ 2 .* YOUNG_ADULTS .* [0.39, 0.3, 0, 0, 0];\n",
    "INCOME_WEIGHTS_M_OLD = SIZE ./2 * (OLD_ADULTS+YOUNG_ADULTS) .* [0.01, 0.1, 0.2, 0.3, 0.39] .- INCOME_WEIGHTS_M_YOUNG;\n",
    "INCOME_WEIGHTS_F_OLD = SIZE ./2 * (OLD_ADULTS+YOUNG_ADULTS) .*[0.39, 0.3, 0.2, 0.1, 0.01] .- INCOME_WEIGHTS_F_YOUNG;\n",
    "\n",
    "population_m_young_adult = DataFrame(\n",
    "    AGE = sample(AGE_YOUNG_ADULT, Weights(AGE_YOUNG_ADULT_WEIGHTS), Int(SIZE * YOUNG_ADULTS / 2)),\n",
    "    MARITAL_STATUS = sample(MARITAL_STATUS, Weights(MARITAL_STATUS_WEIGHTS_M), Int(SIZE * YOUNG_ADULTS / 2)),\n",
    "    SEX = repeat(['M'], Int(SIZE * YOUNG_ADULTS / 2)),\n",
    "    INCOME = sample(INCOME, Weights(INCOME_WEIGHTS_M_YOUNG), Int(SIZE * YOUNG_ADULTS / 2)),\n",
    ")\n",
    "population_f_young_adult = DataFrame(\n",
    "    AGE = sample(AGE_YOUNG_ADULT, Weights(AGE_YOUNG_ADULT_WEIGHTS), Int(SIZE * YOUNG_ADULTS / 2)),\n",
    "    MARITAL_STATUS = sample(MARITAL_STATUS, Weights(MARITAL_STATUS_WEIGHTS_F), Int(SIZE * YOUNG_ADULTS / 2)),\n",
    "    SEX = repeat(['F'], Int(SIZE * YOUNG_ADULTS / 2)),\n",
    "    INCOME = sample(INCOME, Weights(INCOME_WEIGHTS_M_YOUNG), Int(SIZE * YOUNG_ADULTS / 2)),\n",
    ")\n",
    "population_m_old_adult = DataFrame(\n",
    "    AGE = sample(AGE_OLD_ADULT, Weights(AGE_OLD_ADULT_WEIGHTS), Int(SIZE * OLD_ADULTS / 2)),\n",
    "    MARITAL_STATUS = sample(MARITAL_STATUS, Weights(MARITAL_STATUS_WEIGHTS_M), Int(SIZE * OLD_ADULTS / 2)),\n",
    "    SEX = repeat(['M'], Int(SIZE * OLD_ADULTS / 2)),\n",
    "    INCOME = sample(INCOME, Weights(INCOME_WEIGHTS_M_OLD), Int(SIZE * OLD_ADULTS / 2)),\n",
    ")\n",
    "population_f_old_adult = DataFrame(\n",
    "    AGE = sample(AGE_OLD_ADULT, Weights(AGE_OLD_ADULT_WEIGHTS), Int(SIZE * OLD_ADULTS / 2)),\n",
    "    MARITAL_STATUS = sample(MARITAL_STATUS, Weights(MARITAL_STATUS_WEIGHTS_F), Int(SIZE * OLD_ADULTS / 2)),\n",
    "    SEX = repeat(['F'], Int(SIZE * OLD_ADULTS / 2)),\n",
    "    INCOME = sample(INCOME, Weights(INCOME_WEIGHTS_F_OLD), Int(SIZE * OLD_ADULTS / 2)),\n",
    ")\n",
    "population_children = DataFrame(\n",
    "    AGE = sample(AGE_CHILDREN, Weights(AGE_CHILDREN_WEIGHTS), Int(SIZE * CHILDREN)),\n",
    "    MARITAL_STATUS = repeat([missing], Int(SIZE * CHILDREN)),\n",
    "    SEX = sample(SEX, Weights(SEX_WEIGHTS), Int(SIZE * CHILDREN)),\n",
    "    INCOME = repeat([missing], Int(SIZE * CHILDREN))\n",
    ")\n",
    "\n",
    "disaggregated_dependent_population = reduce(vcat, [\n",
    "    population_m_young_adult, \n",
    "    population_f_young_adult,\n",
    "    population_m_old_adult,\n",
    "    population_f_old_adult,\n",
    "    population_children\n",
    "    ]\n",
    ")\n",
    "\n",
    "dependent_population = combine(groupby(disaggregated_dependent_population, names(disaggregated_dependent_population), sort=true), nrow)\n",
    "rename!(dependent_population, :nrow => :population)\n",
    "zero_population = DataFrame(vec(collect(Iterators.product(AGE_YOUNG_ADULT, MARITAL_STATUS, SEX, ZERO_INCOME))))\n",
    "zero_population.:population = repeat([0], nrow(zero_population))\n",
    "rename!(zero_population, names(dependent_population))\n",
    "dependent_population = reduce(vcat, [dependent_population, zero_population])"
   ]
  },
  {
   "attachments": {},
   "cell_type": "markdown",
   "metadata": {},
   "source": [
    "### 1.2. Compute marginal attribute distributions of the dependent population\n",
    "Then we compute the marginal population attributes. This is a type of data that we can usually get from the census data and will be input for our algorithms for population generation."
   ]
  },
  {
   "cell_type": "code",
   "execution_count": 31,
   "metadata": {},
   "outputs": [
    {
     "data": {
      "text/html": [
       "<div><div style = \"float: left;\"><span>5×2 DataFrame</span></div><div style = \"clear: both;\"></div></div><div class = \"data-frame\" style = \"overflow-x: scroll;\"><table class = \"data-frame\" style = \"margin-bottom: 6px;\"><thead><tr class = \"header\"><th class = \"rowNumber\" style = \"font-weight: bold; text-align: right;\">Row</th><th style = \"text-align: left;\">INCOME</th><th style = \"text-align: left;\">population</th></tr><tr class = \"subheader headerLastRow\"><th class = \"rowNumber\" style = \"font-weight: bold; text-align: right;\"></th><th title = \"Union{Missing, Int64}\" style = \"text-align: left;\">Int64?</th><th title = \"Int64\" style = \"text-align: left;\">Int64</th></tr></thead><tbody><tr><td class = \"rowNumber\" style = \"font-weight: bold; text-align: right;\">1</td><td style = \"text-align: right;\">40000</td><td style = \"text-align: right;\">37934</td></tr><tr><td class = \"rowNumber\" style = \"font-weight: bold; text-align: right;\">2</td><td style = \"text-align: right;\">50000</td><td style = \"text-align: right;\">85901</td></tr><tr><td class = \"rowNumber\" style = \"font-weight: bold; text-align: right;\">3</td><td style = \"text-align: right;\">60000</td><td style = \"text-align: right;\">40050</td></tr><tr><td class = \"rowNumber\" style = \"font-weight: bold; text-align: right;\">4</td><td style = \"text-align: right;\">70000</td><td style = \"text-align: right;\">38857</td></tr><tr><td class = \"rowNumber\" style = \"font-weight: bold; text-align: right;\">5</td><td style = \"text-align: right;\">80000</td><td style = \"text-align: right;\">37258</td></tr></tbody></table></div>"
      ],
      "text/latex": [
       "\\begin{tabular}{r|cc}\n",
       "\t& INCOME & population\\\\\n",
       "\t\\hline\n",
       "\t& Int64? & Int64\\\\\n",
       "\t\\hline\n",
       "\t1 & 40000 & 37934 \\\\\n",
       "\t2 & 50000 & 85901 \\\\\n",
       "\t3 & 60000 & 40050 \\\\\n",
       "\t4 & 70000 & 38857 \\\\\n",
       "\t5 & 80000 & 37258 \\\\\n",
       "\\end{tabular}\n"
      ],
      "text/plain": [
       "\u001b[1m5×2 DataFrame\u001b[0m\n",
       "\u001b[1m Row \u001b[0m│\u001b[1m INCOME \u001b[0m\u001b[1m population \u001b[0m\n",
       "     │\u001b[90m Int64? \u001b[0m\u001b[90m Int64      \u001b[0m\n",
       "─────┼────────────────────\n",
       "   1 │  40000       37934\n",
       "   2 │  50000       85901\n",
       "   3 │  60000       40050\n",
       "   4 │  70000       38857\n",
       "   5 │  80000       37258"
      ]
     },
     "metadata": {},
     "output_type": "display_data"
    }
   ],
   "source": [
    "#Population by age and sex\n",
    "dependent_age_sex = combine(groupby(disaggregated_dependent_population, [:AGE, :SEX], sort=true), nrow); \n",
    "sort!(dependent_age_sex, [:SEX, :AGE])\n",
    "\n",
    "#Population by sex and marital status\n",
    "dependent_sex_marital = combine(groupby(disaggregated_dependent_population, [:MARITAL_STATUS, :SEX], sort=true), nrow); \n",
    "sort!(dependent_sex_marital, [:SEX, :MARITAL_STATUS])\n",
    "\n",
    "#Population by income\n",
    "dependent_income = combine(groupby(disaggregated_dependent_population, [:INCOME], sort=true), nrow)\n",
    "\n",
    "#Correct column names\n",
    "dependent_age_sex, dependent_sex_marital, dependent_income = map(x -> rename!(x, :nrow => :population), [dependent_age_sex, dependent_sex_marital, dependent_income])\n",
    "\n",
    "#filter out missing values\n",
    "dependent_sex_marital = filter(:MARITAL_STATUS => x -> typeof(x) != Missing, dependent_sex_marital)\n",
    "dependent_income = filter(:INCOME => x -> typeof(x) != Missing, dependent_income)"
   ]
  },
  {
   "attachments": {},
   "cell_type": "markdown",
   "metadata": {},
   "source": [
    "### 1.3. Generate dependent population from marginals\n",
    "Then, we use our algorithm to estimate joint distribution of the attributes. "
   ]
  },
  {
   "attachments": {},
   "cell_type": "markdown",
   "metadata": {},
   "source": [
    "#### Guo, Bhat, 2007"
   ]
  },
  {
   "cell_type": "code",
   "execution_count": 32,
   "metadata": {},
   "outputs": [
    {
     "name": "stderr",
     "output_type": "stream",
     "text": [
      "┌ Info: Inconsistent target margins, converting `X` and `mar` to proportions. Margin totals: [149963, 120000]\n",
      "└ @ ProportionalFitting /Users/marcinzurek/.julia/packages/ProportionalFitting/gNJEu/src/ipf.jl:61\n",
      "┌ Info: Converged in 1 iterations.\n",
      "└ @ ProportionalFitting /Users/marcinzurek/.julia/packages/ProportionalFitting/gNJEu/src/ipf.jl:130\n",
      "┌ Info: Inconsistent target margins, converting `X` and `mar` to proportions. Margin totals: [150037, 120000]\n",
      "└ @ ProportionalFitting /Users/marcinzurek/.julia/packages/ProportionalFitting/gNJEu/src/ipf.jl:61\n",
      "┌ Info: Converged in 1 iterations.\n",
      "└ @ ProportionalFitting /Users/marcinzurek/.julia/packages/ProportionalFitting/gNJEu/src/ipf.jl:130\n",
      "┌ Info: Inconsistent target margins, converting `X` and `mar` to proportions. Margin totals: [299991, 240000]\n",
      "└ @ ProportionalFitting /Users/marcinzurek/.julia/packages/ProportionalFitting/gNJEu/src/ipf.jl:61\n",
      "┌ Info: Converged in 1 iterations.\n",
      "└ @ ProportionalFitting /Users/marcinzurek/.julia/packages/ProportionalFitting/gNJEu/src/ipf.jl:130\n"
     ]
    },
    {
     "data": {
      "text/html": [
       "<div><div style = \"float: left;\"><span>640×5 DataFrame</span></div><div style = \"float: right;\"><span style = \"font-style: italic;\">615 rows omitted</span></div><div style = \"clear: both;\"></div></div><div class = \"data-frame\" style = \"overflow-x: scroll;\"><table class = \"data-frame\" style = \"margin-bottom: 6px;\"><thead><tr class = \"header\"><th class = \"rowNumber\" style = \"font-weight: bold; text-align: right;\">Row</th><th style = \"text-align: left;\">AGE</th><th style = \"text-align: left;\">MARITAL_STATUS</th><th style = \"text-align: left;\">SEX</th><th style = \"text-align: left;\">INCOME</th><th style = \"text-align: left;\">population</th></tr><tr class = \"subheader headerLastRow\"><th class = \"rowNumber\" style = \"font-weight: bold; text-align: right;\"></th><th title = \"Int64\" style = \"text-align: left;\">Int64</th><th title = \"String\" style = \"text-align: left;\">String</th><th title = \"Char\" style = \"text-align: left;\">Char</th><th title = \"Int64\" style = \"text-align: left;\">Int64</th><th title = \"Int64\" style = \"text-align: left;\">Int64</th></tr></thead><tbody><tr><td class = \"rowNumber\" style = \"font-weight: bold; text-align: right;\">1</td><td style = \"text-align: right;\">5</td><td style = \"text-align: left;\">Divorced</td><td style = \"text-align: left;\">F</td><td style = \"text-align: right;\">40000</td><td style = \"text-align: right;\">315</td></tr><tr><td class = \"rowNumber\" style = \"font-weight: bold; text-align: right;\">2</td><td style = \"text-align: right;\">10</td><td style = \"text-align: left;\">Divorced</td><td style = \"text-align: left;\">F</td><td style = \"text-align: right;\">40000</td><td style = \"text-align: right;\">314</td></tr><tr><td class = \"rowNumber\" style = \"font-weight: bold; text-align: right;\">3</td><td style = \"text-align: right;\">15</td><td style = \"text-align: left;\">Divorced</td><td style = \"text-align: left;\">F</td><td style = \"text-align: right;\">40000</td><td style = \"text-align: right;\">313</td></tr><tr><td class = \"rowNumber\" style = \"font-weight: bold; text-align: right;\">4</td><td style = \"text-align: right;\">20</td><td style = \"text-align: left;\">Divorced</td><td style = \"text-align: left;\">F</td><td style = \"text-align: right;\">40000</td><td style = \"text-align: right;\">476</td></tr><tr><td class = \"rowNumber\" style = \"font-weight: bold; text-align: right;\">5</td><td style = \"text-align: right;\">25</td><td style = \"text-align: left;\">Divorced</td><td style = \"text-align: left;\">F</td><td style = \"text-align: right;\">40000</td><td style = \"text-align: right;\">467</td></tr><tr><td class = \"rowNumber\" style = \"font-weight: bold; text-align: right;\">6</td><td style = \"text-align: right;\">30</td><td style = \"text-align: left;\">Divorced</td><td style = \"text-align: left;\">F</td><td style = \"text-align: right;\">40000</td><td style = \"text-align: right;\">251</td></tr><tr><td class = \"rowNumber\" style = \"font-weight: bold; text-align: right;\">7</td><td style = \"text-align: right;\">35</td><td style = \"text-align: left;\">Divorced</td><td style = \"text-align: left;\">F</td><td style = \"text-align: right;\">40000</td><td style = \"text-align: right;\">261</td></tr><tr><td class = \"rowNumber\" style = \"font-weight: bold; text-align: right;\">8</td><td style = \"text-align: right;\">40</td><td style = \"text-align: left;\">Divorced</td><td style = \"text-align: left;\">F</td><td style = \"text-align: right;\">40000</td><td style = \"text-align: right;\">255</td></tr><tr><td class = \"rowNumber\" style = \"font-weight: bold; text-align: right;\">9</td><td style = \"text-align: right;\">45</td><td style = \"text-align: left;\">Divorced</td><td style = \"text-align: left;\">F</td><td style = \"text-align: right;\">40000</td><td style = \"text-align: right;\">262</td></tr><tr><td class = \"rowNumber\" style = \"font-weight: bold; text-align: right;\">10</td><td style = \"text-align: right;\">50</td><td style = \"text-align: left;\">Divorced</td><td style = \"text-align: left;\">F</td><td style = \"text-align: right;\">40000</td><td style = \"text-align: right;\">260</td></tr><tr><td class = \"rowNumber\" style = \"font-weight: bold; text-align: right;\">11</td><td style = \"text-align: right;\">55</td><td style = \"text-align: left;\">Divorced</td><td style = \"text-align: left;\">F</td><td style = \"text-align: right;\">40000</td><td style = \"text-align: right;\">259</td></tr><tr><td class = \"rowNumber\" style = \"font-weight: bold; text-align: right;\">12</td><td style = \"text-align: right;\">60</td><td style = \"text-align: left;\">Divorced</td><td style = \"text-align: left;\">F</td><td style = \"text-align: right;\">40000</td><td style = \"text-align: right;\">252</td></tr><tr><td class = \"rowNumber\" style = \"font-weight: bold; text-align: right;\">13</td><td style = \"text-align: right;\">65</td><td style = \"text-align: left;\">Divorced</td><td style = \"text-align: left;\">F</td><td style = \"text-align: right;\">40000</td><td style = \"text-align: right;\">258</td></tr><tr><td style = \"text-align: right;\">&vellip;</td><td style = \"text-align: right;\">&vellip;</td><td style = \"text-align: right;\">&vellip;</td><td style = \"text-align: right;\">&vellip;</td><td style = \"text-align: right;\">&vellip;</td><td style = \"text-align: right;\">&vellip;</td></tr><tr><td class = \"rowNumber\" style = \"font-weight: bold; text-align: right;\">629</td><td style = \"text-align: right;\">25</td><td style = \"text-align: left;\">Widowed</td><td style = \"text-align: left;\">M</td><td style = \"text-align: right;\">80000</td><td style = \"text-align: right;\">922</td></tr><tr><td class = \"rowNumber\" style = \"font-weight: bold; text-align: right;\">630</td><td style = \"text-align: right;\">30</td><td style = \"text-align: left;\">Widowed</td><td style = \"text-align: left;\">M</td><td style = \"text-align: right;\">80000</td><td style = \"text-align: right;\">512</td></tr><tr><td class = \"rowNumber\" style = \"font-weight: bold; text-align: right;\">631</td><td style = \"text-align: right;\">35</td><td style = \"text-align: left;\">Widowed</td><td style = \"text-align: left;\">M</td><td style = \"text-align: right;\">80000</td><td style = \"text-align: right;\">513</td></tr><tr><td class = \"rowNumber\" style = \"font-weight: bold; text-align: right;\">632</td><td style = \"text-align: right;\">40</td><td style = \"text-align: left;\">Widowed</td><td style = \"text-align: left;\">M</td><td style = \"text-align: right;\">80000</td><td style = \"text-align: right;\">515</td></tr><tr><td class = \"rowNumber\" style = \"font-weight: bold; text-align: right;\">633</td><td style = \"text-align: right;\">45</td><td style = \"text-align: left;\">Widowed</td><td style = \"text-align: left;\">M</td><td style = \"text-align: right;\">80000</td><td style = \"text-align: right;\">508</td></tr><tr><td class = \"rowNumber\" style = \"font-weight: bold; text-align: right;\">634</td><td style = \"text-align: right;\">50</td><td style = \"text-align: left;\">Widowed</td><td style = \"text-align: left;\">M</td><td style = \"text-align: right;\">80000</td><td style = \"text-align: right;\">507</td></tr><tr><td class = \"rowNumber\" style = \"font-weight: bold; text-align: right;\">635</td><td style = \"text-align: right;\">55</td><td style = \"text-align: left;\">Widowed</td><td style = \"text-align: left;\">M</td><td style = \"text-align: right;\">80000</td><td style = \"text-align: right;\">512</td></tr><tr><td class = \"rowNumber\" style = \"font-weight: bold; text-align: right;\">636</td><td style = \"text-align: right;\">60</td><td style = \"text-align: left;\">Widowed</td><td style = \"text-align: left;\">M</td><td style = \"text-align: right;\">80000</td><td style = \"text-align: right;\">501</td></tr><tr><td class = \"rowNumber\" style = \"font-weight: bold; text-align: right;\">637</td><td style = \"text-align: right;\">65</td><td style = \"text-align: left;\">Widowed</td><td style = \"text-align: left;\">M</td><td style = \"text-align: right;\">80000</td><td style = \"text-align: right;\">513</td></tr><tr><td class = \"rowNumber\" style = \"font-weight: bold; text-align: right;\">638</td><td style = \"text-align: right;\">70</td><td style = \"text-align: left;\">Widowed</td><td style = \"text-align: left;\">M</td><td style = \"text-align: right;\">80000</td><td style = \"text-align: right;\">514</td></tr><tr><td class = \"rowNumber\" style = \"font-weight: bold; text-align: right;\">639</td><td style = \"text-align: right;\">75</td><td style = \"text-align: left;\">Widowed</td><td style = \"text-align: left;\">M</td><td style = \"text-align: right;\">80000</td><td style = \"text-align: right;\">496</td></tr><tr><td class = \"rowNumber\" style = \"font-weight: bold; text-align: right;\">640</td><td style = \"text-align: right;\">80</td><td style = \"text-align: left;\">Widowed</td><td style = \"text-align: left;\">M</td><td style = \"text-align: right;\">80000</td><td style = \"text-align: right;\">507</td></tr></tbody></table></div>"
      ],
      "text/latex": [
       "\\begin{tabular}{r|ccccc}\n",
       "\t& AGE & MARITAL\\_STATUS & SEX & INCOME & population\\\\\n",
       "\t\\hline\n",
       "\t& Int64 & String & Char & Int64 & Int64\\\\\n",
       "\t\\hline\n",
       "\t1 & 5 & Divorced & F & 40000 & 315 \\\\\n",
       "\t2 & 10 & Divorced & F & 40000 & 314 \\\\\n",
       "\t3 & 15 & Divorced & F & 40000 & 313 \\\\\n",
       "\t4 & 20 & Divorced & F & 40000 & 476 \\\\\n",
       "\t5 & 25 & Divorced & F & 40000 & 467 \\\\\n",
       "\t6 & 30 & Divorced & F & 40000 & 251 \\\\\n",
       "\t7 & 35 & Divorced & F & 40000 & 261 \\\\\n",
       "\t8 & 40 & Divorced & F & 40000 & 255 \\\\\n",
       "\t9 & 45 & Divorced & F & 40000 & 262 \\\\\n",
       "\t10 & 50 & Divorced & F & 40000 & 260 \\\\\n",
       "\t11 & 55 & Divorced & F & 40000 & 259 \\\\\n",
       "\t12 & 60 & Divorced & F & 40000 & 252 \\\\\n",
       "\t13 & 65 & Divorced & F & 40000 & 258 \\\\\n",
       "\t14 & 70 & Divorced & F & 40000 & 260 \\\\\n",
       "\t15 & 75 & Divorced & F & 40000 & 253 \\\\\n",
       "\t16 & 80 & Divorced & F & 40000 & 257 \\\\\n",
       "\t17 & 5 & Married & F & 40000 & 474 \\\\\n",
       "\t18 & 10 & Married & F & 40000 & 473 \\\\\n",
       "\t19 & 15 & Married & F & 40000 & 472 \\\\\n",
       "\t20 & 20 & Married & F & 40000 & 717 \\\\\n",
       "\t21 & 25 & Married & F & 40000 & 703 \\\\\n",
       "\t22 & 30 & Married & F & 40000 & 378 \\\\\n",
       "\t23 & 35 & Married & F & 40000 & 393 \\\\\n",
       "\t24 & 40 & Married & F & 40000 & 384 \\\\\n",
       "\t$\\dots$ & $\\dots$ & $\\dots$ & $\\dots$ & $\\dots$ & $\\dots$ \\\\\n",
       "\\end{tabular}\n"
      ],
      "text/plain": [
       "\u001b[1m640×5 DataFrame\u001b[0m\n",
       "\u001b[1m Row \u001b[0m│\u001b[1m AGE   \u001b[0m\u001b[1m MARITAL_STATUS \u001b[0m\u001b[1m SEX  \u001b[0m\u001b[1m INCOME \u001b[0m\u001b[1m population \u001b[0m\n",
       "     │\u001b[90m Int64 \u001b[0m\u001b[90m String         \u001b[0m\u001b[90m Char \u001b[0m\u001b[90m Int64  \u001b[0m\u001b[90m Int64      \u001b[0m\n",
       "─────┼─────────────────────────────────────────────────\n",
       "   1 │     5  Divorced        F      40000         315\n",
       "   2 │    10  Divorced        F      40000         314\n",
       "   3 │    15  Divorced        F      40000         313\n",
       "   4 │    20  Divorced        F      40000         476\n",
       "   5 │    25  Divorced        F      40000         467\n",
       "   6 │    30  Divorced        F      40000         251\n",
       "   7 │    35  Divorced        F      40000         261\n",
       "   8 │    40  Divorced        F      40000         255\n",
       "  ⋮  │   ⋮          ⋮          ⋮      ⋮         ⋮\n",
       " 634 │    50  Widowed         M      80000         507\n",
       " 635 │    55  Widowed         M      80000         512\n",
       " 636 │    60  Widowed         M      80000         501\n",
       " 637 │    65  Widowed         M      80000         513\n",
       " 638 │    70  Widowed         M      80000         514\n",
       " 639 │    75  Widowed         M      80000         496\n",
       " 640 │    80  Widowed         M      80000         507\n",
       "\u001b[36m                                       625 rows omitted\u001b[0m"
      ]
     },
     "metadata": {},
     "output_type": "display_data"
    }
   ],
   "source": [
    "guo_bhat = SyntheticPopulation.generate_joint_distribution(dependent_age_sex, dependent_sex_marital, dependent_income)\n",
    "guo_bhat = guo_bhat[:, Not(:id)]"
   ]
  },
  {
   "attachments": {},
   "cell_type": "markdown",
   "metadata": {},
   "source": [
    "#### Ponge, Enbergs, Schungel, Hellingrath, Karch, Ludwig, 2021"
   ]
  },
  {
   "cell_type": "code",
   "execution_count": 33,
   "metadata": {},
   "outputs": [
    {
     "name": "stderr",
     "output_type": "stream",
     "text": [
      "┌ Info: Inconsistent target margins, converting `X` and `mar` to proportions. Margin totals: [149963, 120000]\n",
      "└ @ ProportionalFitting /Users/marcinzurek/.julia/packages/ProportionalFitting/gNJEu/src/ipf.jl:61\n",
      "┌ Warning: Did not converge. Try increasing the number of iterations. Maximum absolute difference between subsequent iterations: NaN\n",
      "└ @ ProportionalFitting /Users/marcinzurek/.julia/packages/ProportionalFitting/gNJEu/src/ipf.jl:128\n",
      "┌ Info: Inconsistent target margins, converting `X` and `mar` to proportions. Margin totals: [149963, 120000]\n",
      "└ @ ProportionalFitting /Users/marcinzurek/.julia/packages/ProportionalFitting/gNJEu/src/ipf.jl:61\n",
      "┌ Info: Converged in 1 iterations.\n",
      "└ @ ProportionalFitting /Users/marcinzurek/.julia/packages/ProportionalFitting/gNJEu/src/ipf.jl:130\n",
      "┌ Info: Inconsistent target margins, converting `X` and `mar` to proportions. Margin totals: [150037, 120000]\n",
      "└ @ ProportionalFitting /Users/marcinzurek/.julia/packages/ProportionalFitting/gNJEu/src/ipf.jl:61\n",
      "┌ Warning: Did not converge. Try increasing the number of iterations. Maximum absolute difference between subsequent iterations: NaN\n",
      "└ @ ProportionalFitting /Users/marcinzurek/.julia/packages/ProportionalFitting/gNJEu/src/ipf.jl:128\n",
      "┌ Info: Inconsistent target margins, converting `X` and `mar` to proportions. Margin totals: [150037, 120000]\n",
      "└ @ ProportionalFitting /Users/marcinzurek/.julia/packages/ProportionalFitting/gNJEu/src/ipf.jl:61\n",
      "┌ Info: Converged in 1 iterations.\n",
      "└ @ ProportionalFitting /Users/marcinzurek/.julia/packages/ProportionalFitting/gNJEu/src/ipf.jl:130\n"
     ]
    },
    {
     "name": "stderr",
     "output_type": "stream",
     "text": [
      "┌ Info: Inconsistent target margins, converting `X` and `mar` to proportions. Margin totals: [299991, 240000]\n",
      "└ @ ProportionalFitting /Users/marcinzurek/.julia/packages/ProportionalFitting/gNJEu/src/ipf.jl:61\n",
      "┌ Info: Converged in 18 iterations.\n",
      "└ @ ProportionalFitting /Users/marcinzurek/.julia/packages/ProportionalFitting/gNJEu/src/ipf.jl:130\n"
     ]
    },
    {
     "data": {
      "text/html": [
       "<div><div style = \"float: left;\"><span>640×5 DataFrame</span></div><div style = \"float: right;\"><span style = \"font-style: italic;\">615 rows omitted</span></div><div style = \"clear: both;\"></div></div><div class = \"data-frame\" style = \"overflow-x: scroll;\"><table class = \"data-frame\" style = \"margin-bottom: 6px;\"><thead><tr class = \"header\"><th class = \"rowNumber\" style = \"font-weight: bold; text-align: right;\">Row</th><th style = \"text-align: left;\">AGE</th><th style = \"text-align: left;\">MARITAL_STATUS</th><th style = \"text-align: left;\">SEX</th><th style = \"text-align: left;\">INCOME</th><th style = \"text-align: left;\">population</th></tr><tr class = \"subheader headerLastRow\"><th class = \"rowNumber\" style = \"font-weight: bold; text-align: right;\"></th><th title = \"Int64\" style = \"text-align: left;\">Int64</th><th title = \"String\" style = \"text-align: left;\">String</th><th title = \"Char\" style = \"text-align: left;\">Char</th><th title = \"Int64\" style = \"text-align: left;\">Int64</th><th title = \"Int64\" style = \"text-align: left;\">Int64</th></tr></thead><tbody><tr><td class = \"rowNumber\" style = \"font-weight: bold; text-align: right;\">1</td><td style = \"text-align: right;\">5</td><td style = \"text-align: left;\">Divorced</td><td style = \"text-align: left;\">F</td><td style = \"text-align: right;\">40000</td><td style = \"text-align: right;\">241</td></tr><tr><td class = \"rowNumber\" style = \"font-weight: bold; text-align: right;\">2</td><td style = \"text-align: right;\">10</td><td style = \"text-align: left;\">Divorced</td><td style = \"text-align: left;\">F</td><td style = \"text-align: right;\">40000</td><td style = \"text-align: right;\">240</td></tr><tr><td class = \"rowNumber\" style = \"font-weight: bold; text-align: right;\">3</td><td style = \"text-align: right;\">15</td><td style = \"text-align: left;\">Divorced</td><td style = \"text-align: left;\">F</td><td style = \"text-align: right;\">40000</td><td style = \"text-align: right;\">240</td></tr><tr><td class = \"rowNumber\" style = \"font-weight: bold; text-align: right;\">4</td><td style = \"text-align: right;\">20</td><td style = \"text-align: left;\">Divorced</td><td style = \"text-align: left;\">F</td><td style = \"text-align: right;\">40000</td><td style = \"text-align: right;\">922</td></tr><tr><td class = \"rowNumber\" style = \"font-weight: bold; text-align: right;\">5</td><td style = \"text-align: right;\">25</td><td style = \"text-align: left;\">Divorced</td><td style = \"text-align: left;\">F</td><td style = \"text-align: right;\">40000</td><td style = \"text-align: right;\">905</td></tr><tr><td class = \"rowNumber\" style = \"font-weight: bold; text-align: right;\">6</td><td style = \"text-align: right;\">30</td><td style = \"text-align: left;\">Divorced</td><td style = \"text-align: left;\">F</td><td style = \"text-align: right;\">40000</td><td style = \"text-align: right;\">192</td></tr><tr><td class = \"rowNumber\" style = \"font-weight: bold; text-align: right;\">7</td><td style = \"text-align: right;\">35</td><td style = \"text-align: left;\">Divorced</td><td style = \"text-align: left;\">F</td><td style = \"text-align: right;\">40000</td><td style = \"text-align: right;\">200</td></tr><tr><td class = \"rowNumber\" style = \"font-weight: bold; text-align: right;\">8</td><td style = \"text-align: right;\">40</td><td style = \"text-align: left;\">Divorced</td><td style = \"text-align: left;\">F</td><td style = \"text-align: right;\">40000</td><td style = \"text-align: right;\">195</td></tr><tr><td class = \"rowNumber\" style = \"font-weight: bold; text-align: right;\">9</td><td style = \"text-align: right;\">45</td><td style = \"text-align: left;\">Divorced</td><td style = \"text-align: left;\">F</td><td style = \"text-align: right;\">40000</td><td style = \"text-align: right;\">201</td></tr><tr><td class = \"rowNumber\" style = \"font-weight: bold; text-align: right;\">10</td><td style = \"text-align: right;\">50</td><td style = \"text-align: left;\">Divorced</td><td style = \"text-align: left;\">F</td><td style = \"text-align: right;\">40000</td><td style = \"text-align: right;\">199</td></tr><tr><td class = \"rowNumber\" style = \"font-weight: bold; text-align: right;\">11</td><td style = \"text-align: right;\">55</td><td style = \"text-align: left;\">Divorced</td><td style = \"text-align: left;\">F</td><td style = \"text-align: right;\">40000</td><td style = \"text-align: right;\">198</td></tr><tr><td class = \"rowNumber\" style = \"font-weight: bold; text-align: right;\">12</td><td style = \"text-align: right;\">60</td><td style = \"text-align: left;\">Divorced</td><td style = \"text-align: left;\">F</td><td style = \"text-align: right;\">40000</td><td style = \"text-align: right;\">193</td></tr><tr><td class = \"rowNumber\" style = \"font-weight: bold; text-align: right;\">13</td><td style = \"text-align: right;\">65</td><td style = \"text-align: left;\">Divorced</td><td style = \"text-align: left;\">F</td><td style = \"text-align: right;\">40000</td><td style = \"text-align: right;\">197</td></tr><tr><td style = \"text-align: right;\">&vellip;</td><td style = \"text-align: right;\">&vellip;</td><td style = \"text-align: right;\">&vellip;</td><td style = \"text-align: right;\">&vellip;</td><td style = \"text-align: right;\">&vellip;</td><td style = \"text-align: right;\">&vellip;</td></tr><tr><td class = \"rowNumber\" style = \"font-weight: bold; text-align: right;\">629</td><td style = \"text-align: right;\">25</td><td style = \"text-align: left;\">Widowed</td><td style = \"text-align: left;\">M</td><td style = \"text-align: right;\">80000</td><td style = \"text-align: right;\">0</td></tr><tr><td class = \"rowNumber\" style = \"font-weight: bold; text-align: right;\">630</td><td style = \"text-align: right;\">30</td><td style = \"text-align: left;\">Widowed</td><td style = \"text-align: left;\">M</td><td style = \"text-align: right;\">80000</td><td style = \"text-align: right;\">640</td></tr><tr><td class = \"rowNumber\" style = \"font-weight: bold; text-align: right;\">631</td><td style = \"text-align: right;\">35</td><td style = \"text-align: left;\">Widowed</td><td style = \"text-align: left;\">M</td><td style = \"text-align: right;\">80000</td><td style = \"text-align: right;\">642</td></tr><tr><td class = \"rowNumber\" style = \"font-weight: bold; text-align: right;\">632</td><td style = \"text-align: right;\">40</td><td style = \"text-align: left;\">Widowed</td><td style = \"text-align: left;\">M</td><td style = \"text-align: right;\">80000</td><td style = \"text-align: right;\">644</td></tr><tr><td class = \"rowNumber\" style = \"font-weight: bold; text-align: right;\">633</td><td style = \"text-align: right;\">45</td><td style = \"text-align: left;\">Widowed</td><td style = \"text-align: left;\">M</td><td style = \"text-align: right;\">80000</td><td style = \"text-align: right;\">635</td></tr><tr><td class = \"rowNumber\" style = \"font-weight: bold; text-align: right;\">634</td><td style = \"text-align: right;\">50</td><td style = \"text-align: left;\">Widowed</td><td style = \"text-align: left;\">M</td><td style = \"text-align: right;\">80000</td><td style = \"text-align: right;\">634</td></tr><tr><td class = \"rowNumber\" style = \"font-weight: bold; text-align: right;\">635</td><td style = \"text-align: right;\">55</td><td style = \"text-align: left;\">Widowed</td><td style = \"text-align: left;\">M</td><td style = \"text-align: right;\">80000</td><td style = \"text-align: right;\">640</td></tr><tr><td class = \"rowNumber\" style = \"font-weight: bold; text-align: right;\">636</td><td style = \"text-align: right;\">60</td><td style = \"text-align: left;\">Widowed</td><td style = \"text-align: left;\">M</td><td style = \"text-align: right;\">80000</td><td style = \"text-align: right;\">627</td></tr><tr><td class = \"rowNumber\" style = \"font-weight: bold; text-align: right;\">637</td><td style = \"text-align: right;\">65</td><td style = \"text-align: left;\">Widowed</td><td style = \"text-align: left;\">M</td><td style = \"text-align: right;\">80000</td><td style = \"text-align: right;\">642</td></tr><tr><td class = \"rowNumber\" style = \"font-weight: bold; text-align: right;\">638</td><td style = \"text-align: right;\">70</td><td style = \"text-align: left;\">Widowed</td><td style = \"text-align: left;\">M</td><td style = \"text-align: right;\">80000</td><td style = \"text-align: right;\">643</td></tr><tr><td class = \"rowNumber\" style = \"font-weight: bold; text-align: right;\">639</td><td style = \"text-align: right;\">75</td><td style = \"text-align: left;\">Widowed</td><td style = \"text-align: left;\">M</td><td style = \"text-align: right;\">80000</td><td style = \"text-align: right;\">620</td></tr><tr><td class = \"rowNumber\" style = \"font-weight: bold; text-align: right;\">640</td><td style = \"text-align: right;\">80</td><td style = \"text-align: left;\">Widowed</td><td style = \"text-align: left;\">M</td><td style = \"text-align: right;\">80000</td><td style = \"text-align: right;\">634</td></tr></tbody></table></div>"
      ],
      "text/latex": [
       "\\begin{tabular}{r|ccccc}\n",
       "\t& AGE & MARITAL\\_STATUS & SEX & INCOME & population\\\\\n",
       "\t\\hline\n",
       "\t& Int64 & String & Char & Int64 & Int64\\\\\n",
       "\t\\hline\n",
       "\t1 & 5 & Divorced & F & 40000 & 241 \\\\\n",
       "\t2 & 10 & Divorced & F & 40000 & 240 \\\\\n",
       "\t3 & 15 & Divorced & F & 40000 & 240 \\\\\n",
       "\t4 & 20 & Divorced & F & 40000 & 922 \\\\\n",
       "\t5 & 25 & Divorced & F & 40000 & 905 \\\\\n",
       "\t6 & 30 & Divorced & F & 40000 & 192 \\\\\n",
       "\t7 & 35 & Divorced & F & 40000 & 200 \\\\\n",
       "\t8 & 40 & Divorced & F & 40000 & 195 \\\\\n",
       "\t9 & 45 & Divorced & F & 40000 & 201 \\\\\n",
       "\t10 & 50 & Divorced & F & 40000 & 199 \\\\\n",
       "\t11 & 55 & Divorced & F & 40000 & 198 \\\\\n",
       "\t12 & 60 & Divorced & F & 40000 & 193 \\\\\n",
       "\t13 & 65 & Divorced & F & 40000 & 197 \\\\\n",
       "\t14 & 70 & Divorced & F & 40000 & 199 \\\\\n",
       "\t15 & 75 & Divorced & F & 40000 & 194 \\\\\n",
       "\t16 & 80 & Divorced & F & 40000 & 197 \\\\\n",
       "\t17 & 5 & Married & F & 40000 & 363 \\\\\n",
       "\t18 & 10 & Married & F & 40000 & 362 \\\\\n",
       "\t19 & 15 & Married & F & 40000 & 361 \\\\\n",
       "\t20 & 20 & Married & F & 40000 & 1390 \\\\\n",
       "\t21 & 25 & Married & F & 40000 & 1363 \\\\\n",
       "\t22 & 30 & Married & F & 40000 & 290 \\\\\n",
       "\t23 & 35 & Married & F & 40000 & 301 \\\\\n",
       "\t24 & 40 & Married & F & 40000 & 294 \\\\\n",
       "\t$\\dots$ & $\\dots$ & $\\dots$ & $\\dots$ & $\\dots$ & $\\dots$ \\\\\n",
       "\\end{tabular}\n"
      ],
      "text/plain": [
       "\u001b[1m640×5 DataFrame\u001b[0m\n",
       "\u001b[1m Row \u001b[0m│\u001b[1m AGE   \u001b[0m\u001b[1m MARITAL_STATUS \u001b[0m\u001b[1m SEX  \u001b[0m\u001b[1m INCOME \u001b[0m\u001b[1m population \u001b[0m\n",
       "     │\u001b[90m Int64 \u001b[0m\u001b[90m String         \u001b[0m\u001b[90m Char \u001b[0m\u001b[90m Int64  \u001b[0m\u001b[90m Int64      \u001b[0m\n",
       "─────┼─────────────────────────────────────────────────\n",
       "   1 │     5  Divorced        F      40000         241\n",
       "   2 │    10  Divorced        F      40000         240\n",
       "   3 │    15  Divorced        F      40000         240\n",
       "   4 │    20  Divorced        F      40000         922\n",
       "   5 │    25  Divorced        F      40000         905\n",
       "   6 │    30  Divorced        F      40000         192\n",
       "   7 │    35  Divorced        F      40000         200\n",
       "   8 │    40  Divorced        F      40000         195\n",
       "  ⋮  │   ⋮          ⋮          ⋮      ⋮         ⋮\n",
       " 634 │    50  Widowed         M      80000         634\n",
       " 635 │    55  Widowed         M      80000         640\n",
       " 636 │    60  Widowed         M      80000         627\n",
       " 637 │    65  Widowed         M      80000         642\n",
       " 638 │    70  Widowed         M      80000         643\n",
       " 639 │    75  Widowed         M      80000         620\n",
       " 640 │    80  Widowed         M      80000         634\n",
       "\u001b[36m                                       625 rows omitted\u001b[0m"
      ]
     },
     "metadata": {},
     "output_type": "display_data"
    }
   ],
   "source": [
    "ponge_et_al = SyntheticPopulation.generate_joint_distribution(dependent_age_sex, dependent_sex_marital, dependent_income, config_file = \"ind_ponge2021.json\")\n",
    "ponge_et_al = ponge_et_al[:, Not(:id)]"
   ]
  },
  {
   "attachments": {},
   "cell_type": "markdown",
   "metadata": {},
   "source": [
    "#### Modified algorithm"
   ]
  },
  {
   "cell_type": "code",
   "execution_count": 34,
   "metadata": {
    "scrolled": true
   },
   "outputs": [
    {
     "name": "stderr",
     "output_type": "stream",
     "text": [
      "┌ Info: Inconsistent target margins, converting `X` and `mar` to proportions. Margin totals: [149963, 120000]\n",
      "└ @ ProportionalFitting /Users/marcinzurek/.julia/packages/ProportionalFitting/gNJEu/src/ipf.jl:61\n",
      "┌ Warning: Did not converge. Try increasing the number of iterations. Maximum absolute difference between subsequent iterations: NaN\n",
      "└ @ ProportionalFitting /Users/marcinzurek/.julia/packages/ProportionalFitting/gNJEu/src/ipf.jl:128\n",
      "┌ Info: Inconsistent target margins, converting `X` and `mar` to proportions. Margin totals: [149963, 120000]\n",
      "└ @ ProportionalFitting /Users/marcinzurek/.julia/packages/ProportionalFitting/gNJEu/src/ipf.jl:61\n",
      "┌ Info: Converged in 1 iterations.\n",
      "└ @ ProportionalFitting /Users/marcinzurek/.julia/packages/ProportionalFitting/gNJEu/src/ipf.jl:130\n",
      "┌ Info: Inconsistent target margins, converting `X` and `mar` to proportions. Margin totals: [150037, 120000]\n",
      "└ @ ProportionalFitting /Users/marcinzurek/.julia/packages/ProportionalFitting/gNJEu/src/ipf.jl:61\n",
      "┌ Warning: Did not converge. Try increasing the number of iterations. Maximum absolute difference between subsequent iterations: NaN\n",
      "└ @ ProportionalFitting /Users/marcinzurek/.julia/packages/ProportionalFitting/gNJEu/src/ipf.jl:128\n",
      "┌ Info: Inconsistent target margins, converting `X` and `mar` to proportions. Margin totals: [150037, 120000]\n",
      "└ @ ProportionalFitting /Users/marcinzurek/.julia/packages/ProportionalFitting/gNJEu/src/ipf.jl:61\n",
      "┌ Info: Converged in 1 iterations.\n",
      "└ @ ProportionalFitting /Users/marcinzurek/.julia/packages/ProportionalFitting/gNJEu/src/ipf.jl:130\n",
      "┌ Info: Inconsistent target margins, converting `X` and `mar` to proportions. Margin totals: [299991, 240000]\n",
      "└ @ ProportionalFitting /Users/marcinzurek/.julia/packages/ProportionalFitting/gNJEu/src/ipf.jl:61\n",
      "┌ Info: Converged in 18 iterations.\n",
      "└ @ ProportionalFitting /Users/marcinzurek/.julia/packages/ProportionalFitting/gNJEu/src/ipf.jl:130\n"
     ]
    },
    {
     "data": {
      "text/html": [
       "<div><div style = \"float: left;\"><span>526×5 DataFrame</span></div><div style = \"float: right;\"><span style = \"font-style: italic;\">501 rows omitted</span></div><div style = \"clear: both;\"></div></div><div class = \"data-frame\" style = \"overflow-x: scroll;\"><table class = \"data-frame\" style = \"margin-bottom: 6px;\"><thead><tr class = \"header\"><th class = \"rowNumber\" style = \"font-weight: bold; text-align: right;\">Row</th><th style = \"text-align: left;\">AGE</th><th style = \"text-align: left;\">MARITAL_STATUS</th><th style = \"text-align: left;\">SEX</th><th style = \"text-align: left;\">INCOME</th><th style = \"text-align: left;\">population</th></tr><tr class = \"subheader headerLastRow\"><th class = \"rowNumber\" style = \"font-weight: bold; text-align: right;\"></th><th title = \"Union{Missing, Int64}\" style = \"text-align: left;\">Int64?</th><th title = \"Union{Missing, String}\" style = \"text-align: left;\">String?</th><th title = \"Union{Missing, Char}\" style = \"text-align: left;\">Char?</th><th title = \"Union{Missing, Int64}\" style = \"text-align: left;\">Int64?</th><th title = \"Int64\" style = \"text-align: left;\">Int64</th></tr></thead><tbody><tr><td class = \"rowNumber\" style = \"font-weight: bold; text-align: right;\">1</td><td style = \"text-align: right;\">5</td><td style = \"font-style: italic; text-align: left;\">missing</td><td style = \"text-align: left;\">F</td><td style = \"font-style: italic; text-align: right;\">missing</td><td style = \"text-align: right;\">10013</td></tr><tr><td class = \"rowNumber\" style = \"font-weight: bold; text-align: right;\">2</td><td style = \"text-align: right;\">10</td><td style = \"font-style: italic; text-align: left;\">missing</td><td style = \"text-align: left;\">F</td><td style = \"font-style: italic; text-align: right;\">missing</td><td style = \"text-align: right;\">9983</td></tr><tr><td class = \"rowNumber\" style = \"font-weight: bold; text-align: right;\">3</td><td style = \"text-align: right;\">15</td><td style = \"font-style: italic; text-align: left;\">missing</td><td style = \"text-align: left;\">F</td><td style = \"font-style: italic; text-align: right;\">missing</td><td style = \"text-align: right;\">9966</td></tr><tr><td class = \"rowNumber\" style = \"font-weight: bold; text-align: right;\">4</td><td style = \"text-align: right;\">20</td><td style = \"text-align: left;\">Divorced</td><td style = \"text-align: left;\">F</td><td style = \"text-align: right;\">40000</td><td style = \"text-align: right;\">922</td></tr><tr><td class = \"rowNumber\" style = \"font-weight: bold; text-align: right;\">5</td><td style = \"text-align: right;\">25</td><td style = \"text-align: left;\">Divorced</td><td style = \"text-align: left;\">F</td><td style = \"text-align: right;\">40000</td><td style = \"text-align: right;\">905</td></tr><tr><td class = \"rowNumber\" style = \"font-weight: bold; text-align: right;\">6</td><td style = \"text-align: right;\">30</td><td style = \"text-align: left;\">Divorced</td><td style = \"text-align: left;\">F</td><td style = \"text-align: right;\">40000</td><td style = \"text-align: right;\">192</td></tr><tr><td class = \"rowNumber\" style = \"font-weight: bold; text-align: right;\">7</td><td style = \"text-align: right;\">35</td><td style = \"text-align: left;\">Divorced</td><td style = \"text-align: left;\">F</td><td style = \"text-align: right;\">40000</td><td style = \"text-align: right;\">200</td></tr><tr><td class = \"rowNumber\" style = \"font-weight: bold; text-align: right;\">8</td><td style = \"text-align: right;\">40</td><td style = \"text-align: left;\">Divorced</td><td style = \"text-align: left;\">F</td><td style = \"text-align: right;\">40000</td><td style = \"text-align: right;\">195</td></tr><tr><td class = \"rowNumber\" style = \"font-weight: bold; text-align: right;\">9</td><td style = \"text-align: right;\">45</td><td style = \"text-align: left;\">Divorced</td><td style = \"text-align: left;\">F</td><td style = \"text-align: right;\">40000</td><td style = \"text-align: right;\">201</td></tr><tr><td class = \"rowNumber\" style = \"font-weight: bold; text-align: right;\">10</td><td style = \"text-align: right;\">50</td><td style = \"text-align: left;\">Divorced</td><td style = \"text-align: left;\">F</td><td style = \"text-align: right;\">40000</td><td style = \"text-align: right;\">199</td></tr><tr><td class = \"rowNumber\" style = \"font-weight: bold; text-align: right;\">11</td><td style = \"text-align: right;\">55</td><td style = \"text-align: left;\">Divorced</td><td style = \"text-align: left;\">F</td><td style = \"text-align: right;\">40000</td><td style = \"text-align: right;\">198</td></tr><tr><td class = \"rowNumber\" style = \"font-weight: bold; text-align: right;\">12</td><td style = \"text-align: right;\">60</td><td style = \"text-align: left;\">Divorced</td><td style = \"text-align: left;\">F</td><td style = \"text-align: right;\">40000</td><td style = \"text-align: right;\">193</td></tr><tr><td class = \"rowNumber\" style = \"font-weight: bold; text-align: right;\">13</td><td style = \"text-align: right;\">65</td><td style = \"text-align: left;\">Divorced</td><td style = \"text-align: left;\">F</td><td style = \"text-align: right;\">40000</td><td style = \"text-align: right;\">197</td></tr><tr><td style = \"text-align: right;\">&vellip;</td><td style = \"text-align: right;\">&vellip;</td><td style = \"text-align: right;\">&vellip;</td><td style = \"text-align: right;\">&vellip;</td><td style = \"text-align: right;\">&vellip;</td><td style = \"text-align: right;\">&vellip;</td></tr><tr><td class = \"rowNumber\" style = \"font-weight: bold; text-align: right;\">515</td><td style = \"text-align: right;\">25</td><td style = \"text-align: left;\">Widowed</td><td style = \"text-align: left;\">M</td><td style = \"text-align: right;\">80000</td><td style = \"text-align: right;\">0</td></tr><tr><td class = \"rowNumber\" style = \"font-weight: bold; text-align: right;\">516</td><td style = \"text-align: right;\">30</td><td style = \"text-align: left;\">Widowed</td><td style = \"text-align: left;\">M</td><td style = \"text-align: right;\">80000</td><td style = \"text-align: right;\">640</td></tr><tr><td class = \"rowNumber\" style = \"font-weight: bold; text-align: right;\">517</td><td style = \"text-align: right;\">35</td><td style = \"text-align: left;\">Widowed</td><td style = \"text-align: left;\">M</td><td style = \"text-align: right;\">80000</td><td style = \"text-align: right;\">642</td></tr><tr><td class = \"rowNumber\" style = \"font-weight: bold; text-align: right;\">518</td><td style = \"text-align: right;\">40</td><td style = \"text-align: left;\">Widowed</td><td style = \"text-align: left;\">M</td><td style = \"text-align: right;\">80000</td><td style = \"text-align: right;\">644</td></tr><tr><td class = \"rowNumber\" style = \"font-weight: bold; text-align: right;\">519</td><td style = \"text-align: right;\">45</td><td style = \"text-align: left;\">Widowed</td><td style = \"text-align: left;\">M</td><td style = \"text-align: right;\">80000</td><td style = \"text-align: right;\">635</td></tr><tr><td class = \"rowNumber\" style = \"font-weight: bold; text-align: right;\">520</td><td style = \"text-align: right;\">50</td><td style = \"text-align: left;\">Widowed</td><td style = \"text-align: left;\">M</td><td style = \"text-align: right;\">80000</td><td style = \"text-align: right;\">634</td></tr><tr><td class = \"rowNumber\" style = \"font-weight: bold; text-align: right;\">521</td><td style = \"text-align: right;\">55</td><td style = \"text-align: left;\">Widowed</td><td style = \"text-align: left;\">M</td><td style = \"text-align: right;\">80000</td><td style = \"text-align: right;\">640</td></tr><tr><td class = \"rowNumber\" style = \"font-weight: bold; text-align: right;\">522</td><td style = \"text-align: right;\">60</td><td style = \"text-align: left;\">Widowed</td><td style = \"text-align: left;\">M</td><td style = \"text-align: right;\">80000</td><td style = \"text-align: right;\">627</td></tr><tr><td class = \"rowNumber\" style = \"font-weight: bold; text-align: right;\">523</td><td style = \"text-align: right;\">65</td><td style = \"text-align: left;\">Widowed</td><td style = \"text-align: left;\">M</td><td style = \"text-align: right;\">80000</td><td style = \"text-align: right;\">642</td></tr><tr><td class = \"rowNumber\" style = \"font-weight: bold; text-align: right;\">524</td><td style = \"text-align: right;\">70</td><td style = \"text-align: left;\">Widowed</td><td style = \"text-align: left;\">M</td><td style = \"text-align: right;\">80000</td><td style = \"text-align: right;\">643</td></tr><tr><td class = \"rowNumber\" style = \"font-weight: bold; text-align: right;\">525</td><td style = \"text-align: right;\">75</td><td style = \"text-align: left;\">Widowed</td><td style = \"text-align: left;\">M</td><td style = \"text-align: right;\">80000</td><td style = \"text-align: right;\">620</td></tr><tr><td class = \"rowNumber\" style = \"font-weight: bold; text-align: right;\">526</td><td style = \"text-align: right;\">80</td><td style = \"text-align: left;\">Widowed</td><td style = \"text-align: left;\">M</td><td style = \"text-align: right;\">80000</td><td style = \"text-align: right;\">634</td></tr></tbody></table></div>"
      ],
      "text/latex": [
       "\\begin{tabular}{r|ccccc}\n",
       "\t& AGE & MARITAL\\_STATUS & SEX & INCOME & population\\\\\n",
       "\t\\hline\n",
       "\t& Int64? & String? & Char? & Int64? & Int64\\\\\n",
       "\t\\hline\n",
       "\t1 & 5 & \\emph{missing} & F & \\emph{missing} & 10013 \\\\\n",
       "\t2 & 10 & \\emph{missing} & F & \\emph{missing} & 9983 \\\\\n",
       "\t3 & 15 & \\emph{missing} & F & \\emph{missing} & 9966 \\\\\n",
       "\t4 & 20 & Divorced & F & 40000 & 922 \\\\\n",
       "\t5 & 25 & Divorced & F & 40000 & 905 \\\\\n",
       "\t6 & 30 & Divorced & F & 40000 & 192 \\\\\n",
       "\t7 & 35 & Divorced & F & 40000 & 200 \\\\\n",
       "\t8 & 40 & Divorced & F & 40000 & 195 \\\\\n",
       "\t9 & 45 & Divorced & F & 40000 & 201 \\\\\n",
       "\t10 & 50 & Divorced & F & 40000 & 199 \\\\\n",
       "\t11 & 55 & Divorced & F & 40000 & 198 \\\\\n",
       "\t12 & 60 & Divorced & F & 40000 & 193 \\\\\n",
       "\t13 & 65 & Divorced & F & 40000 & 197 \\\\\n",
       "\t14 & 70 & Divorced & F & 40000 & 199 \\\\\n",
       "\t15 & 75 & Divorced & F & 40000 & 194 \\\\\n",
       "\t16 & 80 & Divorced & F & 40000 & 197 \\\\\n",
       "\t17 & 20 & Married & F & 40000 & 1390 \\\\\n",
       "\t18 & 25 & Married & F & 40000 & 1363 \\\\\n",
       "\t19 & 30 & Married & F & 40000 & 290 \\\\\n",
       "\t20 & 35 & Married & F & 40000 & 301 \\\\\n",
       "\t21 & 40 & Married & F & 40000 & 294 \\\\\n",
       "\t22 & 45 & Married & F & 40000 & 302 \\\\\n",
       "\t23 & 50 & Married & F & 40000 & 300 \\\\\n",
       "\t24 & 55 & Married & F & 40000 & 298 \\\\\n",
       "\t$\\dots$ & $\\dots$ & $\\dots$ & $\\dots$ & $\\dots$ & $\\dots$ \\\\\n",
       "\\end{tabular}\n"
      ],
      "text/plain": [
       "\u001b[1m526×5 DataFrame\u001b[0m\n",
       "\u001b[1m Row \u001b[0m│\u001b[1m AGE    \u001b[0m\u001b[1m MARITAL_STATUS \u001b[0m\u001b[1m SEX   \u001b[0m\u001b[1m INCOME  \u001b[0m\u001b[1m population \u001b[0m\n",
       "     │\u001b[90m Int64? \u001b[0m\u001b[90m String?        \u001b[0m\u001b[90m Char? \u001b[0m\u001b[90m Int64?  \u001b[0m\u001b[90m Int64      \u001b[0m\n",
       "─────┼────────────────────────────────────────────────────\n",
       "   1 │      5 \u001b[90m missing        \u001b[0m F     \u001b[90m missing \u001b[0m      10013\n",
       "   2 │     10 \u001b[90m missing        \u001b[0m F     \u001b[90m missing \u001b[0m       9983\n",
       "   3 │     15 \u001b[90m missing        \u001b[0m F     \u001b[90m missing \u001b[0m       9966\n",
       "   4 │     20  Divorced        F        40000         922\n",
       "   5 │     25  Divorced        F        40000         905\n",
       "   6 │     30  Divorced        F        40000         192\n",
       "   7 │     35  Divorced        F        40000         200\n",
       "   8 │     40  Divorced        F        40000         195\n",
       "  ⋮  │   ⋮           ⋮           ⋮       ⋮         ⋮\n",
       " 520 │     50  Widowed         M        80000         634\n",
       " 521 │     55  Widowed         M        80000         640\n",
       " 522 │     60  Widowed         M        80000         627\n",
       " 523 │     65  Widowed         M        80000         642\n",
       " 524 │     70  Widowed         M        80000         643\n",
       " 525 │     75  Widowed         M        80000         620\n",
       " 526 │     80  Widowed         M        80000         634\n",
       "\u001b[36m                                          511 rows omitted\u001b[0m"
      ]
     },
     "metadata": {},
     "output_type": "display_data"
    }
   ],
   "source": [
    "modified = SyntheticPopulation.generate_joint_distribution(dependent_age_sex, dependent_sex_marital, dependent_income, config_file = \"ind_modified.json\")\n",
    "modified = modified[:, Not(:id)]"
   ]
  },
  {
   "attachments": {},
   "cell_type": "markdown",
   "metadata": {},
   "source": [
    "### 1.4. Evaluation of fit of generated dependent population.\n",
    "Finally, we evaluate if the generated population is correct. We use approach based on Z-score described by [Williamson, 2013] [1].\n",
    "\n",
    "\n",
    "[1] Williamson, P. (2013). An evaluation of two synthetic small-area microdata simulation methodologies: Synthetic reconstruction and combinatorial optimisation. Spatial microsimulation: A reference guide for users, 19-47. https://ndl.ethernet.edu.et/bitstream/123456789/14722/1/205.pdf#page=38"
   ]
  },
  {
   "attachments": {},
   "cell_type": "markdown",
   "metadata": {},
   "source": [
    "#### Guo, Bhat, 2007"
   ]
  },
  {
   "cell_type": "code",
   "execution_count": 35,
   "metadata": {},
   "outputs": [
    {
     "name": "stdout",
     "output_type": "stream",
     "text": [
      "=================\n",
      "=Cell statistics=\n",
      "=================\n",
      "\n",
      "Percentage of well fitting values at 0.95 confidence interval: 0.009505703422053232\n",
      "Percentage of well fitting values at 0.90 confidence interval: 0.0038022813688212928\n",
      "\n",
      "\n",
      "==================\n",
      "=Table statistics=\n",
      "==================\n",
      "\n",
      "Statistic value equals: Inf\n",
      "Table is not well fitting.\n"
     ]
    },
    {
     "data": {
      "text/html": [
       "<div><div style = \"float: left;\"><span>526×7 DataFrame</span></div><div style = \"float: right;\"><span style = \"font-style: italic;\">501 rows omitted</span></div><div style = \"clear: both;\"></div></div><div class = \"data-frame\" style = \"overflow-x: scroll;\"><table class = \"data-frame\" style = \"margin-bottom: 6px;\"><thead><tr class = \"header\"><th class = \"rowNumber\" style = \"font-weight: bold; text-align: right;\">Row</th><th style = \"text-align: left;\">AGE</th><th style = \"text-align: left;\">MARITAL_STATUS</th><th style = \"text-align: left;\">SEX</th><th style = \"text-align: left;\">INCOME</th><th style = \"text-align: left;\">population</th><th style = \"text-align: left;\">estimated_population</th><th style = \"text-align: left;\">Z_score</th></tr><tr class = \"subheader headerLastRow\"><th class = \"rowNumber\" style = \"font-weight: bold; text-align: right;\"></th><th title = \"Int64\" style = \"text-align: left;\">Int64</th><th title = \"Union{Missing, String}\" style = \"text-align: left;\">String?</th><th title = \"Char\" style = \"text-align: left;\">Char</th><th title = \"Union{Missing, Int64}\" style = \"text-align: left;\">Int64?</th><th title = \"Int64\" style = \"text-align: left;\">Int64</th><th title = \"Union{Missing, Int64}\" style = \"text-align: left;\">Int64?</th><th title = \"Float64\" style = \"text-align: left;\">Float64</th></tr></thead><tbody><tr><td class = \"rowNumber\" style = \"font-weight: bold; text-align: right;\">1</td><td style = \"text-align: right;\">20</td><td style = \"text-align: left;\">Divorced</td><td style = \"text-align: left;\">F</td><td style = \"text-align: right;\">40000</td><td style = \"text-align: right;\">280</td><td style = \"text-align: right;\">476</td><td style = \"text-align: right;\">-11.7187</td></tr><tr><td class = \"rowNumber\" style = \"font-weight: bold; text-align: right;\">2</td><td style = \"text-align: right;\">20</td><td style = \"text-align: left;\">Divorced</td><td style = \"text-align: left;\">F</td><td style = \"text-align: right;\">50000</td><td style = \"text-align: right;\">2732</td><td style = \"text-align: right;\">1078</td><td style = \"text-align: right;\">31.7894</td></tr><tr><td class = \"rowNumber\" style = \"font-weight: bold; text-align: right;\">3</td><td style = \"text-align: right;\">20</td><td style = \"text-align: left;\">Divorced</td><td style = \"text-align: left;\">F</td><td style = \"text-align: right;\">60000</td><td style = \"text-align: right;\">0</td><td style = \"text-align: right;\">502</td><td style = \"text-align: right;\">-Inf</td></tr><tr><td class = \"rowNumber\" style = \"font-weight: bold; text-align: right;\">4</td><td style = \"text-align: right;\">20</td><td style = \"text-align: left;\">Divorced</td><td style = \"text-align: left;\">F</td><td style = \"text-align: right;\">70000</td><td style = \"text-align: right;\">0</td><td style = \"text-align: right;\">487</td><td style = \"text-align: right;\">-Inf</td></tr><tr><td class = \"rowNumber\" style = \"font-weight: bold; text-align: right;\">5</td><td style = \"text-align: right;\">20</td><td style = \"text-align: left;\">Divorced</td><td style = \"text-align: left;\">F</td><td style = \"text-align: right;\">80000</td><td style = \"text-align: right;\">0</td><td style = \"text-align: right;\">467</td><td style = \"text-align: right;\">-Inf</td></tr><tr><td class = \"rowNumber\" style = \"font-weight: bold; text-align: right;\">6</td><td style = \"text-align: right;\">20</td><td style = \"text-align: left;\">Divorced</td><td style = \"text-align: left;\">M</td><td style = \"text-align: right;\">40000</td><td style = \"text-align: right;\">448</td><td style = \"text-align: right;\">717</td><td style = \"text-align: right;\">-12.7186</td></tr><tr><td class = \"rowNumber\" style = \"font-weight: bold; text-align: right;\">7</td><td style = \"text-align: right;\">20</td><td style = \"text-align: left;\">Divorced</td><td style = \"text-align: left;\">M</td><td style = \"text-align: right;\">50000</td><td style = \"text-align: right;\">4020</td><td style = \"text-align: right;\">1624</td><td style = \"text-align: right;\">38.0455</td></tr><tr><td class = \"rowNumber\" style = \"font-weight: bold; text-align: right;\">8</td><td style = \"text-align: right;\">20</td><td style = \"text-align: left;\">Divorced</td><td style = \"text-align: left;\">M</td><td style = \"text-align: right;\">60000</td><td style = \"text-align: right;\">0</td><td style = \"text-align: right;\">757</td><td style = \"text-align: right;\">-Inf</td></tr><tr><td class = \"rowNumber\" style = \"font-weight: bold; text-align: right;\">9</td><td style = \"text-align: right;\">20</td><td style = \"text-align: left;\">Divorced</td><td style = \"text-align: left;\">M</td><td style = \"text-align: right;\">70000</td><td style = \"text-align: right;\">0</td><td style = \"text-align: right;\">735</td><td style = \"text-align: right;\">-Inf</td></tr><tr><td class = \"rowNumber\" style = \"font-weight: bold; text-align: right;\">10</td><td style = \"text-align: right;\">20</td><td style = \"text-align: left;\">Divorced</td><td style = \"text-align: left;\">M</td><td style = \"text-align: right;\">80000</td><td style = \"text-align: right;\">0</td><td style = \"text-align: right;\">704</td><td style = \"text-align: right;\">-Inf</td></tr><tr><td class = \"rowNumber\" style = \"font-weight: bold; text-align: right;\">11</td><td style = \"text-align: right;\">20</td><td style = \"text-align: left;\">Married</td><td style = \"text-align: left;\">F</td><td style = \"text-align: right;\">40000</td><td style = \"text-align: right;\">423</td><td style = \"text-align: right;\">717</td><td style = \"text-align: right;\">-14.3049</td></tr><tr><td class = \"rowNumber\" style = \"font-weight: bold; text-align: right;\">12</td><td style = \"text-align: right;\">20</td><td style = \"text-align: left;\">Married</td><td style = \"text-align: left;\">F</td><td style = \"text-align: right;\">50000</td><td style = \"text-align: right;\">4168</td><td style = \"text-align: right;\">1624</td><td style = \"text-align: right;\">39.6818</td></tr><tr><td class = \"rowNumber\" style = \"font-weight: bold; text-align: right;\">13</td><td style = \"text-align: right;\">20</td><td style = \"text-align: left;\">Married</td><td style = \"text-align: left;\">F</td><td style = \"text-align: right;\">60000</td><td style = \"text-align: right;\">0</td><td style = \"text-align: right;\">757</td><td style = \"text-align: right;\">-Inf</td></tr><tr><td style = \"text-align: right;\">&vellip;</td><td style = \"text-align: right;\">&vellip;</td><td style = \"text-align: right;\">&vellip;</td><td style = \"text-align: right;\">&vellip;</td><td style = \"text-align: right;\">&vellip;</td><td style = \"text-align: right;\">&vellip;</td><td style = \"text-align: right;\">&vellip;</td><td style = \"text-align: right;\">&vellip;</td></tr><tr><td class = \"rowNumber\" style = \"font-weight: bold; text-align: right;\">515</td><td style = \"text-align: right;\">80</td><td style = \"text-align: left;\">Widowed</td><td style = \"text-align: left;\">F</td><td style = \"text-align: right;\">80000</td><td style = \"text-align: right;\">12</td><td style = \"text-align: right;\">128</td><td style = \"text-align: right;\">-33.487</td></tr><tr><td class = \"rowNumber\" style = \"font-weight: bold; text-align: right;\">516</td><td style = \"text-align: right;\">80</td><td style = \"text-align: left;\">Widowed</td><td style = \"text-align: left;\">M</td><td style = \"text-align: right;\">40000</td><td style = \"text-align: right;\">28</td><td style = \"text-align: right;\">516</td><td style = \"text-align: right;\">-92.2276</td></tr><tr><td class = \"rowNumber\" style = \"font-weight: bold; text-align: right;\">517</td><td style = \"text-align: right;\">80</td><td style = \"text-align: left;\">Widowed</td><td style = \"text-align: left;\">M</td><td style = \"text-align: right;\">50000</td><td style = \"text-align: right;\">244</td><td style = \"text-align: right;\">1169</td><td style = \"text-align: right;\">-59.2412</td></tr><tr><td class = \"rowNumber\" style = \"font-weight: bold; text-align: right;\">518</td><td style = \"text-align: right;\">80</td><td style = \"text-align: left;\">Widowed</td><td style = \"text-align: left;\">M</td><td style = \"text-align: right;\">60000</td><td style = \"text-align: right;\">651</td><td style = \"text-align: right;\">545</td><td style = \"text-align: right;\">4.15898</td></tr><tr><td class = \"rowNumber\" style = \"font-weight: bold; text-align: right;\">519</td><td style = \"text-align: right;\">80</td><td style = \"text-align: left;\">Widowed</td><td style = \"text-align: left;\">M</td><td style = \"text-align: right;\">70000</td><td style = \"text-align: right;\">990</td><td style = \"text-align: right;\">529</td><td style = \"text-align: right;\">14.6758</td></tr><tr><td class = \"rowNumber\" style = \"font-weight: bold; text-align: right;\">520</td><td style = \"text-align: right;\">80</td><td style = \"text-align: left;\">Widowed</td><td style = \"text-align: left;\">M</td><td style = \"text-align: right;\">80000</td><td style = \"text-align: right;\">1271</td><td style = \"text-align: right;\">507</td><td style = \"text-align: right;\">21.4755</td></tr><tr><td class = \"rowNumber\" style = \"font-weight: bold; text-align: right;\">521</td><td style = \"text-align: right;\">5</td><td style = \"text-align: left;\">missing</td><td style = \"text-align: left;\">F</td><td style = \"text-align: right;\">missing</td><td style = \"text-align: right;\">10015</td><td style = \"text-align: right;\">0</td><td style = \"text-align: right;\">101.788</td></tr><tr><td class = \"rowNumber\" style = \"font-weight: bold; text-align: right;\">522</td><td style = \"text-align: right;\">5</td><td style = \"text-align: left;\">missing</td><td style = \"text-align: left;\">M</td><td style = \"text-align: right;\">missing</td><td style = \"text-align: right;\">9996</td><td style = \"text-align: right;\">0</td><td style = \"text-align: right;\">101.688</td></tr><tr><td class = \"rowNumber\" style = \"font-weight: bold; text-align: right;\">523</td><td style = \"text-align: right;\">10</td><td style = \"text-align: left;\">missing</td><td style = \"text-align: left;\">F</td><td style = \"text-align: right;\">missing</td><td style = \"text-align: right;\">9982</td><td style = \"text-align: right;\">0</td><td style = \"text-align: right;\">101.615</td></tr><tr><td class = \"rowNumber\" style = \"font-weight: bold; text-align: right;\">524</td><td style = \"text-align: right;\">10</td><td style = \"text-align: left;\">missing</td><td style = \"text-align: left;\">M</td><td style = \"text-align: right;\">missing</td><td style = \"text-align: right;\">9990</td><td style = \"text-align: right;\">0</td><td style = \"text-align: right;\">101.657</td></tr><tr><td class = \"rowNumber\" style = \"font-weight: bold; text-align: right;\">525</td><td style = \"text-align: right;\">15</td><td style = \"text-align: left;\">missing</td><td style = \"text-align: left;\">F</td><td style = \"text-align: right;\">missing</td><td style = \"text-align: right;\">9966</td><td style = \"text-align: right;\">0</td><td style = \"text-align: right;\">101.531</td></tr><tr><td class = \"rowNumber\" style = \"font-weight: bold; text-align: right;\">526</td><td style = \"text-align: right;\">15</td><td style = \"text-align: left;\">missing</td><td style = \"text-align: left;\">M</td><td style = \"text-align: right;\">missing</td><td style = \"text-align: right;\">10051</td><td style = \"text-align: right;\">0</td><td style = \"text-align: right;\">101.978</td></tr></tbody></table></div>"
      ],
      "text/latex": [
       "\\begin{tabular}{r|ccccccc}\n",
       "\t& AGE & MARITAL\\_STATUS & SEX & INCOME & population & estimated\\_population & Z\\_score\\\\\n",
       "\t\\hline\n",
       "\t& Int64 & String? & Char & Int64? & Int64 & Int64? & Float64\\\\\n",
       "\t\\hline\n",
       "\t1 & 20 & Divorced & F & 40000 & 280 & 476 & -11.7187 \\\\\n",
       "\t2 & 20 & Divorced & F & 50000 & 2732 & 1078 & 31.7894 \\\\\n",
       "\t3 & 20 & Divorced & F & 60000 & 0 & 502 & -Inf \\\\\n",
       "\t4 & 20 & Divorced & F & 70000 & 0 & 487 & -Inf \\\\\n",
       "\t5 & 20 & Divorced & F & 80000 & 0 & 467 & -Inf \\\\\n",
       "\t6 & 20 & Divorced & M & 40000 & 448 & 717 & -12.7186 \\\\\n",
       "\t7 & 20 & Divorced & M & 50000 & 4020 & 1624 & 38.0455 \\\\\n",
       "\t8 & 20 & Divorced & M & 60000 & 0 & 757 & -Inf \\\\\n",
       "\t9 & 20 & Divorced & M & 70000 & 0 & 735 & -Inf \\\\\n",
       "\t10 & 20 & Divorced & M & 80000 & 0 & 704 & -Inf \\\\\n",
       "\t11 & 20 & Married & F & 40000 & 423 & 717 & -14.3049 \\\\\n",
       "\t12 & 20 & Married & F & 50000 & 4168 & 1624 & 39.6818 \\\\\n",
       "\t13 & 20 & Married & F & 60000 & 0 & 757 & -Inf \\\\\n",
       "\t14 & 20 & Married & F & 70000 & 0 & 735 & -Inf \\\\\n",
       "\t15 & 20 & Married & F & 80000 & 0 & 704 & -Inf \\\\\n",
       "\t16 & 20 & Married & M & 40000 & 298 & 481 & -10.6062 \\\\\n",
       "\t17 & 20 & Married & M & 50000 & 2791 & 1090 & 32.3485 \\\\\n",
       "\t18 & 20 & Married & M & 60000 & 0 & 508 & -Inf \\\\\n",
       "\t19 & 20 & Married & M & 70000 & 0 & 493 & -Inf \\\\\n",
       "\t20 & 20 & Married & M & 80000 & 0 & 473 & -Inf \\\\\n",
       "\t21 & 20 & Not\\_married & F & 40000 & 542 & 961 & -18.0139 \\\\\n",
       "\t22 & 20 & Not\\_married & F & 50000 & 5479 & 2176 & 45.0361 \\\\\n",
       "\t23 & 20 & Not\\_married & F & 60000 & 0 & 1014 & -Inf \\\\\n",
       "\t24 & 20 & Not\\_married & F & 70000 & 0 & 984 & -Inf \\\\\n",
       "\t$\\dots$ & $\\dots$ & $\\dots$ & $\\dots$ & $\\dots$ & $\\dots$ & $\\dots$ & $\\dots$ \\\\\n",
       "\\end{tabular}\n"
      ],
      "text/plain": [
       "\u001b[1m526×7 DataFrame\u001b[0m\n",
       "\u001b[1m Row \u001b[0m│\u001b[1m AGE   \u001b[0m\u001b[1m MARITAL_STATUS \u001b[0m\u001b[1m SEX  \u001b[0m\u001b[1m INCOME  \u001b[0m\u001b[1m population \u001b[0m\u001b[1m estimated_population \u001b[0m\u001b[1m\u001b[0m ⋯\n",
       "     │\u001b[90m Int64 \u001b[0m\u001b[90m String?        \u001b[0m\u001b[90m Char \u001b[0m\u001b[90m Int64?  \u001b[0m\u001b[90m Int64      \u001b[0m\u001b[90m Int64?               \u001b[0m\u001b[90m\u001b[0m ⋯\n",
       "─────┼──────────────────────────────────────────────────────────────────────────\n",
       "   1 │    20  Divorced        F       40000         280                   476  ⋯\n",
       "   2 │    20  Divorced        F       50000        2732                  1078\n",
       "   3 │    20  Divorced        F       60000           0                   502\n",
       "   4 │    20  Divorced        F       70000           0                   487\n",
       "   5 │    20  Divorced        F       80000           0                   467  ⋯\n",
       "   6 │    20  Divorced        M       40000         448                   717\n",
       "   7 │    20  Divorced        M       50000        4020                  1624\n",
       "   8 │    20  Divorced        M       60000           0                   757\n",
       "  ⋮  │   ⋮          ⋮          ⋮       ⋮         ⋮                ⋮            ⋱\n",
       " 520 │    80  Widowed         M       80000        1271                   507  ⋯\n",
       " 521 │     5 \u001b[90m missing        \u001b[0m F    \u001b[90m missing \u001b[0m      10015                     0\n",
       " 522 │     5 \u001b[90m missing        \u001b[0m M    \u001b[90m missing \u001b[0m       9996                     0\n",
       " 523 │    10 \u001b[90m missing        \u001b[0m F    \u001b[90m missing \u001b[0m       9982                     0\n",
       " 524 │    10 \u001b[90m missing        \u001b[0m M    \u001b[90m missing \u001b[0m       9990                     0  ⋯\n",
       " 525 │    15 \u001b[90m missing        \u001b[0m F    \u001b[90m missing \u001b[0m       9966                     0\n",
       " 526 │    15 \u001b[90m missing        \u001b[0m M    \u001b[90m missing \u001b[0m      10051                     0\n",
       "\u001b[36m                                                   1 column and 511 rows omitted\u001b[0m"
      ]
     },
     "metadata": {},
     "output_type": "display_data"
    }
   ],
   "source": [
    "validate_table(guo_bhat, dependent_population)"
   ]
  },
  {
   "attachments": {},
   "cell_type": "markdown",
   "metadata": {},
   "source": [
    "#### Ponge, Enbergs, Schungel, Hellingrath, Karch, Ludwig, 2021"
   ]
  },
  {
   "cell_type": "code",
   "execution_count": 36,
   "metadata": {},
   "outputs": [
    {
     "name": "stdout",
     "output_type": "stream",
     "text": [
      "=================\n",
      "=Cell statistics=\n",
      "=================\n",
      "\n",
      "Percentage of well fitting values at 0.95 confidence interval: 0.2623574144486692\n",
      "Percentage of well fitting values at 0.90 confidence interval: 0.2509505703422053\n",
      "\n",
      "\n",
      "==================\n",
      "=Table statistics=\n",
      "==================\n",
      "\n",
      "Statistic value equals: 602527.1362041465\n",
      "Table is not well fitting.\n"
     ]
    },
    {
     "data": {
      "text/html": [
       "<div><div style = \"float: left;\"><span>526×7 DataFrame</span></div><div style = \"float: right;\"><span style = \"font-style: italic;\">501 rows omitted</span></div><div style = \"clear: both;\"></div></div><div class = \"data-frame\" style = \"overflow-x: scroll;\"><table class = \"data-frame\" style = \"margin-bottom: 6px;\"><thead><tr class = \"header\"><th class = \"rowNumber\" style = \"font-weight: bold; text-align: right;\">Row</th><th style = \"text-align: left;\">AGE</th><th style = \"text-align: left;\">MARITAL_STATUS</th><th style = \"text-align: left;\">SEX</th><th style = \"text-align: left;\">INCOME</th><th style = \"text-align: left;\">population</th><th style = \"text-align: left;\">estimated_population</th><th style = \"text-align: left;\">Z_score</th></tr><tr class = \"subheader headerLastRow\"><th class = \"rowNumber\" style = \"font-weight: bold; text-align: right;\"></th><th title = \"Int64\" style = \"text-align: left;\">Int64</th><th title = \"Union{Missing, String}\" style = \"text-align: left;\">String?</th><th title = \"Char\" style = \"text-align: left;\">Char</th><th title = \"Union{Missing, Int64}\" style = \"text-align: left;\">Int64?</th><th title = \"Int64\" style = \"text-align: left;\">Int64</th><th title = \"Union{Missing, Int64}\" style = \"text-align: left;\">Int64?</th><th title = \"Real\" style = \"text-align: left;\">Real</th></tr></thead><tbody><tr><td class = \"rowNumber\" style = \"font-weight: bold; text-align: right;\">1</td><td style = \"text-align: right;\">20</td><td style = \"text-align: left;\">Divorced</td><td style = \"text-align: left;\">F</td><td style = \"text-align: right;\">40000</td><td style = \"text-align: right;\">280</td><td style = \"text-align: right;\">922</td><td style = \"text-align: right;\">-38.3848</td></tr><tr><td class = \"rowNumber\" style = \"font-weight: bold; text-align: right;\">2</td><td style = \"text-align: right;\">20</td><td style = \"text-align: left;\">Divorced</td><td style = \"text-align: left;\">F</td><td style = \"text-align: right;\">50000</td><td style = \"text-align: right;\">2732</td><td style = \"text-align: right;\">2089</td><td style = \"text-align: right;\">12.3583</td></tr><tr><td class = \"rowNumber\" style = \"font-weight: bold; text-align: right;\">3</td><td style = \"text-align: right;\">20</td><td style = \"text-align: left;\">Divorced</td><td style = \"text-align: left;\">F</td><td style = \"text-align: right;\">60000</td><td style = \"text-align: right;\">0</td><td style = \"text-align: right;\">0</td><td style = \"text-align: right;\">0</td></tr><tr><td class = \"rowNumber\" style = \"font-weight: bold; text-align: right;\">4</td><td style = \"text-align: right;\">20</td><td style = \"text-align: left;\">Divorced</td><td style = \"text-align: left;\">F</td><td style = \"text-align: right;\">70000</td><td style = \"text-align: right;\">0</td><td style = \"text-align: right;\">0</td><td style = \"text-align: right;\">0</td></tr><tr><td class = \"rowNumber\" style = \"font-weight: bold; text-align: right;\">5</td><td style = \"text-align: right;\">20</td><td style = \"text-align: left;\">Divorced</td><td style = \"text-align: left;\">F</td><td style = \"text-align: right;\">80000</td><td style = \"text-align: right;\">0</td><td style = \"text-align: right;\">0</td><td style = \"text-align: right;\">0</td></tr><tr><td class = \"rowNumber\" style = \"font-weight: bold; text-align: right;\">6</td><td style = \"text-align: right;\">20</td><td style = \"text-align: left;\">Divorced</td><td style = \"text-align: left;\">M</td><td style = \"text-align: right;\">40000</td><td style = \"text-align: right;\">448</td><td style = \"text-align: right;\">1390</td><td style = \"text-align: right;\">-44.5386</td></tr><tr><td class = \"rowNumber\" style = \"font-weight: bold; text-align: right;\">7</td><td style = \"text-align: right;\">20</td><td style = \"text-align: left;\">Divorced</td><td style = \"text-align: left;\">M</td><td style = \"text-align: right;\">50000</td><td style = \"text-align: right;\">4020</td><td style = \"text-align: right;\">3148</td><td style = \"text-align: right;\">13.8463</td></tr><tr><td class = \"rowNumber\" style = \"font-weight: bold; text-align: right;\">8</td><td style = \"text-align: right;\">20</td><td style = \"text-align: left;\">Divorced</td><td style = \"text-align: left;\">M</td><td style = \"text-align: right;\">60000</td><td style = \"text-align: right;\">0</td><td style = \"text-align: right;\">0</td><td style = \"text-align: right;\">0</td></tr><tr><td class = \"rowNumber\" style = \"font-weight: bold; text-align: right;\">9</td><td style = \"text-align: right;\">20</td><td style = \"text-align: left;\">Divorced</td><td style = \"text-align: left;\">M</td><td style = \"text-align: right;\">70000</td><td style = \"text-align: right;\">0</td><td style = \"text-align: right;\">0</td><td style = \"text-align: right;\">0</td></tr><tr><td class = \"rowNumber\" style = \"font-weight: bold; text-align: right;\">10</td><td style = \"text-align: right;\">20</td><td style = \"text-align: left;\">Divorced</td><td style = \"text-align: left;\">M</td><td style = \"text-align: right;\">80000</td><td style = \"text-align: right;\">0</td><td style = \"text-align: right;\">0</td><td style = \"text-align: right;\">0</td></tr><tr><td class = \"rowNumber\" style = \"font-weight: bold; text-align: right;\">11</td><td style = \"text-align: right;\">20</td><td style = \"text-align: left;\">Married</td><td style = \"text-align: left;\">F</td><td style = \"text-align: right;\">40000</td><td style = \"text-align: right;\">423</td><td style = \"text-align: right;\">1390</td><td style = \"text-align: right;\">-47.0503</td></tr><tr><td class = \"rowNumber\" style = \"font-weight: bold; text-align: right;\">12</td><td style = \"text-align: right;\">20</td><td style = \"text-align: left;\">Married</td><td style = \"text-align: left;\">F</td><td style = \"text-align: right;\">50000</td><td style = \"text-align: right;\">4168</td><td style = \"text-align: right;\">3147</td><td style = \"text-align: right;\">15.9258</td></tr><tr><td class = \"rowNumber\" style = \"font-weight: bold; text-align: right;\">13</td><td style = \"text-align: right;\">20</td><td style = \"text-align: left;\">Married</td><td style = \"text-align: left;\">F</td><td style = \"text-align: right;\">60000</td><td style = \"text-align: right;\">0</td><td style = \"text-align: right;\">0</td><td style = \"text-align: right;\">0</td></tr><tr><td style = \"text-align: right;\">&vellip;</td><td style = \"text-align: right;\">&vellip;</td><td style = \"text-align: right;\">&vellip;</td><td style = \"text-align: right;\">&vellip;</td><td style = \"text-align: right;\">&vellip;</td><td style = \"text-align: right;\">&vellip;</td><td style = \"text-align: right;\">&vellip;</td><td style = \"text-align: right;\">&vellip;</td></tr><tr><td class = \"rowNumber\" style = \"font-weight: bold; text-align: right;\">515</td><td style = \"text-align: right;\">80</td><td style = \"text-align: left;\">Widowed</td><td style = \"text-align: left;\">F</td><td style = \"text-align: right;\">80000</td><td style = \"text-align: right;\">12</td><td style = \"text-align: right;\">160</td><td style = \"text-align: right;\">-42.7248</td></tr><tr><td class = \"rowNumber\" style = \"font-weight: bold; text-align: right;\">516</td><td style = \"text-align: right;\">80</td><td style = \"text-align: left;\">Widowed</td><td style = \"text-align: left;\">M</td><td style = \"text-align: right;\">40000</td><td style = \"text-align: right;\">28</td><td style = \"text-align: right;\">395</td><td style = \"text-align: right;\">-69.3597</td></tr><tr><td class = \"rowNumber\" style = \"font-weight: bold; text-align: right;\">517</td><td style = \"text-align: right;\">80</td><td style = \"text-align: left;\">Widowed</td><td style = \"text-align: left;\">M</td><td style = \"text-align: right;\">50000</td><td style = \"text-align: right;\">244</td><td style = \"text-align: right;\">895</td><td style = \"text-align: right;\">-41.693</td></tr><tr><td class = \"rowNumber\" style = \"font-weight: bold; text-align: right;\">518</td><td style = \"text-align: right;\">80</td><td style = \"text-align: left;\">Widowed</td><td style = \"text-align: left;\">M</td><td style = \"text-align: right;\">60000</td><td style = \"text-align: right;\">651</td><td style = \"text-align: right;\">681</td><td style = \"text-align: right;\">-1.17707</td></tr><tr><td class = \"rowNumber\" style = \"font-weight: bold; text-align: right;\">519</td><td style = \"text-align: right;\">80</td><td style = \"text-align: left;\">Widowed</td><td style = \"text-align: left;\">M</td><td style = \"text-align: right;\">70000</td><td style = \"text-align: right;\">990</td><td style = \"text-align: right;\">661</td><td style = \"text-align: right;\">10.4736</td></tr><tr><td class = \"rowNumber\" style = \"font-weight: bold; text-align: right;\">520</td><td style = \"text-align: right;\">80</td><td style = \"text-align: left;\">Widowed</td><td style = \"text-align: left;\">M</td><td style = \"text-align: right;\">80000</td><td style = \"text-align: right;\">1271</td><td style = \"text-align: right;\">634</td><td style = \"text-align: right;\">17.9056</td></tr><tr><td class = \"rowNumber\" style = \"font-weight: bold; text-align: right;\">521</td><td style = \"text-align: right;\">5</td><td style = \"text-align: left;\">missing</td><td style = \"text-align: left;\">F</td><td style = \"text-align: right;\">missing</td><td style = \"text-align: right;\">10015</td><td style = \"text-align: right;\">0</td><td style = \"text-align: right;\">101.788</td></tr><tr><td class = \"rowNumber\" style = \"font-weight: bold; text-align: right;\">522</td><td style = \"text-align: right;\">5</td><td style = \"text-align: left;\">missing</td><td style = \"text-align: left;\">M</td><td style = \"text-align: right;\">missing</td><td style = \"text-align: right;\">9996</td><td style = \"text-align: right;\">0</td><td style = \"text-align: right;\">101.688</td></tr><tr><td class = \"rowNumber\" style = \"font-weight: bold; text-align: right;\">523</td><td style = \"text-align: right;\">10</td><td style = \"text-align: left;\">missing</td><td style = \"text-align: left;\">F</td><td style = \"text-align: right;\">missing</td><td style = \"text-align: right;\">9982</td><td style = \"text-align: right;\">0</td><td style = \"text-align: right;\">101.615</td></tr><tr><td class = \"rowNumber\" style = \"font-weight: bold; text-align: right;\">524</td><td style = \"text-align: right;\">10</td><td style = \"text-align: left;\">missing</td><td style = \"text-align: left;\">M</td><td style = \"text-align: right;\">missing</td><td style = \"text-align: right;\">9990</td><td style = \"text-align: right;\">0</td><td style = \"text-align: right;\">101.657</td></tr><tr><td class = \"rowNumber\" style = \"font-weight: bold; text-align: right;\">525</td><td style = \"text-align: right;\">15</td><td style = \"text-align: left;\">missing</td><td style = \"text-align: left;\">F</td><td style = \"text-align: right;\">missing</td><td style = \"text-align: right;\">9966</td><td style = \"text-align: right;\">0</td><td style = \"text-align: right;\">101.531</td></tr><tr><td class = \"rowNumber\" style = \"font-weight: bold; text-align: right;\">526</td><td style = \"text-align: right;\">15</td><td style = \"text-align: left;\">missing</td><td style = \"text-align: left;\">M</td><td style = \"text-align: right;\">missing</td><td style = \"text-align: right;\">10051</td><td style = \"text-align: right;\">0</td><td style = \"text-align: right;\">101.978</td></tr></tbody></table></div>"
      ],
      "text/latex": [
       "\\begin{tabular}{r|ccccccc}\n",
       "\t& AGE & MARITAL\\_STATUS & SEX & INCOME & population & estimated\\_population & Z\\_score\\\\\n",
       "\t\\hline\n",
       "\t& Int64 & String? & Char & Int64? & Int64 & Int64? & Real\\\\\n",
       "\t\\hline\n",
       "\t1 & 20 & Divorced & F & 40000 & 280 & 922 & -38.3848 \\\\\n",
       "\t2 & 20 & Divorced & F & 50000 & 2732 & 2089 & 12.3583 \\\\\n",
       "\t3 & 20 & Divorced & F & 60000 & 0 & 0 & 0 \\\\\n",
       "\t4 & 20 & Divorced & F & 70000 & 0 & 0 & 0 \\\\\n",
       "\t5 & 20 & Divorced & F & 80000 & 0 & 0 & 0 \\\\\n",
       "\t6 & 20 & Divorced & M & 40000 & 448 & 1390 & -44.5386 \\\\\n",
       "\t7 & 20 & Divorced & M & 50000 & 4020 & 3148 & 13.8463 \\\\\n",
       "\t8 & 20 & Divorced & M & 60000 & 0 & 0 & 0 \\\\\n",
       "\t9 & 20 & Divorced & M & 70000 & 0 & 0 & 0 \\\\\n",
       "\t10 & 20 & Divorced & M & 80000 & 0 & 0 & 0 \\\\\n",
       "\t11 & 20 & Married & F & 40000 & 423 & 1390 & -47.0503 \\\\\n",
       "\t12 & 20 & Married & F & 50000 & 4168 & 3147 & 15.9258 \\\\\n",
       "\t13 & 20 & Married & F & 60000 & 0 & 0 & 0 \\\\\n",
       "\t14 & 20 & Married & F & 70000 & 0 & 0 & 0 \\\\\n",
       "\t15 & 20 & Married & F & 80000 & 0 & 0 & 0 \\\\\n",
       "\t16 & 20 & Married & M & 40000 & 298 & 933 & -36.8028 \\\\\n",
       "\t17 & 20 & Married & M & 50000 & 2791 & 2112 & 12.9128 \\\\\n",
       "\t18 & 20 & Married & M & 60000 & 0 & 0 & 0 \\\\\n",
       "\t19 & 20 & Married & M & 70000 & 0 & 0 & 0 \\\\\n",
       "\t20 & 20 & Married & M & 80000 & 0 & 0 & 0 \\\\\n",
       "\t21 & 20 & Not\\_married & F & 40000 & 542 & 1862 & -56.7501 \\\\\n",
       "\t22 & 20 & Not\\_married & F & 50000 & 5479 & 4217 & 17.2072 \\\\\n",
       "\t23 & 20 & Not\\_married & F & 60000 & 0 & 0 & 0 \\\\\n",
       "\t24 & 20 & Not\\_married & F & 70000 & 0 & 0 & 0 \\\\\n",
       "\t$\\dots$ & $\\dots$ & $\\dots$ & $\\dots$ & $\\dots$ & $\\dots$ & $\\dots$ & $\\dots$ \\\\\n",
       "\\end{tabular}\n"
      ],
      "text/plain": [
       "\u001b[1m526×7 DataFrame\u001b[0m\n",
       "\u001b[1m Row \u001b[0m│\u001b[1m AGE   \u001b[0m\u001b[1m MARITAL_STATUS \u001b[0m\u001b[1m SEX  \u001b[0m\u001b[1m INCOME  \u001b[0m\u001b[1m population \u001b[0m\u001b[1m estimated_population \u001b[0m\u001b[1m\u001b[0m ⋯\n",
       "     │\u001b[90m Int64 \u001b[0m\u001b[90m String?        \u001b[0m\u001b[90m Char \u001b[0m\u001b[90m Int64?  \u001b[0m\u001b[90m Int64      \u001b[0m\u001b[90m Int64?               \u001b[0m\u001b[90m\u001b[0m ⋯\n",
       "─────┼──────────────────────────────────────────────────────────────────────────\n",
       "   1 │    20  Divorced        F       40000         280                   922  ⋯\n",
       "   2 │    20  Divorced        F       50000        2732                  2089\n",
       "   3 │    20  Divorced        F       60000           0                     0\n",
       "   4 │    20  Divorced        F       70000           0                     0\n",
       "   5 │    20  Divorced        F       80000           0                     0  ⋯\n",
       "   6 │    20  Divorced        M       40000         448                  1390\n",
       "   7 │    20  Divorced        M       50000        4020                  3148\n",
       "   8 │    20  Divorced        M       60000           0                     0\n",
       "  ⋮  │   ⋮          ⋮          ⋮       ⋮         ⋮                ⋮            ⋱\n",
       " 520 │    80  Widowed         M       80000        1271                   634  ⋯\n",
       " 521 │     5 \u001b[90m missing        \u001b[0m F    \u001b[90m missing \u001b[0m      10015                     0\n",
       " 522 │     5 \u001b[90m missing        \u001b[0m M    \u001b[90m missing \u001b[0m       9996                     0\n",
       " 523 │    10 \u001b[90m missing        \u001b[0m F    \u001b[90m missing \u001b[0m       9982                     0\n",
       " 524 │    10 \u001b[90m missing        \u001b[0m M    \u001b[90m missing \u001b[0m       9990                     0  ⋯\n",
       " 525 │    15 \u001b[90m missing        \u001b[0m F    \u001b[90m missing \u001b[0m       9966                     0\n",
       " 526 │    15 \u001b[90m missing        \u001b[0m M    \u001b[90m missing \u001b[0m      10051                     0\n",
       "\u001b[36m                                                   1 column and 511 rows omitted\u001b[0m"
      ]
     },
     "metadata": {},
     "output_type": "display_data"
    }
   ],
   "source": [
    "validate_table(ponge_et_al, dependent_population)"
   ]
  },
  {
   "attachments": {},
   "cell_type": "markdown",
   "metadata": {},
   "source": [
    "#### Modified algorithm"
   ]
  },
  {
   "cell_type": "code",
   "execution_count": 37,
   "metadata": {},
   "outputs": [
    {
     "name": "stdout",
     "output_type": "stream",
     "text": [
      "=================\n",
      "=Cell statistics=\n",
      "=================\n",
      "\n",
      "Percentage of well fitting values at 0.95 confidence interval: 0.2737642585551331\n",
      "Percentage of well fitting values at 0.90 confidence interval: 0.2623574144486692\n",
      "\n",
      "\n",
      "==================\n",
      "=Table statistics=\n",
      "==================\n",
      "\n",
      "Statistic value equals: 540458.1550910624\n",
      "Table is not well fitting.\n"
     ]
    },
    {
     "data": {
      "text/html": [
       "<div><div style = \"float: left;\"><span>526×7 DataFrame</span></div><div style = \"float: right;\"><span style = \"font-style: italic;\">501 rows omitted</span></div><div style = \"clear: both;\"></div></div><div class = \"data-frame\" style = \"overflow-x: scroll;\"><table class = \"data-frame\" style = \"margin-bottom: 6px;\"><thead><tr class = \"header\"><th class = \"rowNumber\" style = \"font-weight: bold; text-align: right;\">Row</th><th style = \"text-align: left;\">AGE</th><th style = \"text-align: left;\">MARITAL_STATUS</th><th style = \"text-align: left;\">SEX</th><th style = \"text-align: left;\">INCOME</th><th style = \"text-align: left;\">population</th><th style = \"text-align: left;\">estimated_population</th><th style = \"text-align: left;\">Z_score</th></tr><tr class = \"subheader headerLastRow\"><th class = \"rowNumber\" style = \"font-weight: bold; text-align: right;\"></th><th title = \"Int64\" style = \"text-align: left;\">Int64</th><th title = \"Union{Missing, String}\" style = \"text-align: left;\">String?</th><th title = \"Char\" style = \"text-align: left;\">Char</th><th title = \"Union{Missing, Int64}\" style = \"text-align: left;\">Int64?</th><th title = \"Int64\" style = \"text-align: left;\">Int64</th><th title = \"Union{Missing, Int64}\" style = \"text-align: left;\">Int64?</th><th title = \"Real\" style = \"text-align: left;\">Real</th></tr></thead><tbody><tr><td class = \"rowNumber\" style = \"font-weight: bold; text-align: right;\">1</td><td style = \"text-align: right;\">5</td><td style = \"font-style: italic; text-align: left;\">missing</td><td style = \"text-align: left;\">F</td><td style = \"font-style: italic; text-align: right;\">missing</td><td style = \"text-align: right;\">10015</td><td style = \"text-align: right;\">10013</td><td style = \"text-align: right;\">0.0203272</td></tr><tr><td class = \"rowNumber\" style = \"font-weight: bold; text-align: right;\">2</td><td style = \"text-align: right;\">5</td><td style = \"font-style: italic; text-align: left;\">missing</td><td style = \"text-align: left;\">M</td><td style = \"font-style: italic; text-align: right;\">missing</td><td style = \"text-align: right;\">9996</td><td style = \"text-align: right;\">9996</td><td style = \"text-align: right;\">0.0</td></tr><tr><td class = \"rowNumber\" style = \"font-weight: bold; text-align: right;\">3</td><td style = \"text-align: right;\">10</td><td style = \"font-style: italic; text-align: left;\">missing</td><td style = \"text-align: left;\">F</td><td style = \"font-style: italic; text-align: right;\">missing</td><td style = \"text-align: right;\">9982</td><td style = \"text-align: right;\">9983</td><td style = \"text-align: right;\">-0.0101798</td></tr><tr><td class = \"rowNumber\" style = \"font-weight: bold; text-align: right;\">4</td><td style = \"text-align: right;\">10</td><td style = \"font-style: italic; text-align: left;\">missing</td><td style = \"text-align: left;\">M</td><td style = \"font-style: italic; text-align: right;\">missing</td><td style = \"text-align: right;\">9990</td><td style = \"text-align: right;\">9989</td><td style = \"text-align: right;\">0.0101759</td></tr><tr><td class = \"rowNumber\" style = \"font-weight: bold; text-align: right;\">5</td><td style = \"text-align: right;\">15</td><td style = \"font-style: italic; text-align: left;\">missing</td><td style = \"text-align: left;\">F</td><td style = \"font-style: italic; text-align: right;\">missing</td><td style = \"text-align: right;\">9966</td><td style = \"text-align: right;\">9966</td><td style = \"text-align: right;\">0.0</td></tr><tr><td class = \"rowNumber\" style = \"font-weight: bold; text-align: right;\">6</td><td style = \"text-align: right;\">15</td><td style = \"font-style: italic; text-align: left;\">missing</td><td style = \"text-align: left;\">M</td><td style = \"font-style: italic; text-align: right;\">missing</td><td style = \"text-align: right;\">10051</td><td style = \"text-align: right;\">10050</td><td style = \"text-align: right;\">0.010146</td></tr><tr><td class = \"rowNumber\" style = \"font-weight: bold; text-align: right;\">7</td><td style = \"text-align: right;\">20</td><td style = \"text-align: left;\">Divorced</td><td style = \"text-align: left;\">F</td><td style = \"text-align: right;\">40000</td><td style = \"text-align: right;\">280</td><td style = \"text-align: right;\">922</td><td style = \"text-align: right;\">-38.3848</td></tr><tr><td class = \"rowNumber\" style = \"font-weight: bold; text-align: right;\">8</td><td style = \"text-align: right;\">20</td><td style = \"text-align: left;\">Divorced</td><td style = \"text-align: left;\">F</td><td style = \"text-align: right;\">50000</td><td style = \"text-align: right;\">2732</td><td style = \"text-align: right;\">2089</td><td style = \"text-align: right;\">12.3583</td></tr><tr><td class = \"rowNumber\" style = \"font-weight: bold; text-align: right;\">9</td><td style = \"text-align: right;\">20</td><td style = \"text-align: left;\">Divorced</td><td style = \"text-align: left;\">F</td><td style = \"text-align: right;\">60000</td><td style = \"text-align: right;\">0</td><td style = \"text-align: right;\">0</td><td style = \"text-align: right;\">0</td></tr><tr><td class = \"rowNumber\" style = \"font-weight: bold; text-align: right;\">10</td><td style = \"text-align: right;\">20</td><td style = \"text-align: left;\">Divorced</td><td style = \"text-align: left;\">F</td><td style = \"text-align: right;\">70000</td><td style = \"text-align: right;\">0</td><td style = \"text-align: right;\">0</td><td style = \"text-align: right;\">0</td></tr><tr><td class = \"rowNumber\" style = \"font-weight: bold; text-align: right;\">11</td><td style = \"text-align: right;\">20</td><td style = \"text-align: left;\">Divorced</td><td style = \"text-align: left;\">F</td><td style = \"text-align: right;\">80000</td><td style = \"text-align: right;\">0</td><td style = \"text-align: right;\">0</td><td style = \"text-align: right;\">0</td></tr><tr><td class = \"rowNumber\" style = \"font-weight: bold; text-align: right;\">12</td><td style = \"text-align: right;\">20</td><td style = \"text-align: left;\">Divorced</td><td style = \"text-align: left;\">M</td><td style = \"text-align: right;\">40000</td><td style = \"text-align: right;\">448</td><td style = \"text-align: right;\">1390</td><td style = \"text-align: right;\">-44.5386</td></tr><tr><td class = \"rowNumber\" style = \"font-weight: bold; text-align: right;\">13</td><td style = \"text-align: right;\">20</td><td style = \"text-align: left;\">Divorced</td><td style = \"text-align: left;\">M</td><td style = \"text-align: right;\">50000</td><td style = \"text-align: right;\">4020</td><td style = \"text-align: right;\">3148</td><td style = \"text-align: right;\">13.8463</td></tr><tr><td style = \"text-align: right;\">&vellip;</td><td style = \"text-align: right;\">&vellip;</td><td style = \"text-align: right;\">&vellip;</td><td style = \"text-align: right;\">&vellip;</td><td style = \"text-align: right;\">&vellip;</td><td style = \"text-align: right;\">&vellip;</td><td style = \"text-align: right;\">&vellip;</td><td style = \"text-align: right;\">&vellip;</td></tr><tr><td class = \"rowNumber\" style = \"font-weight: bold; text-align: right;\">515</td><td style = \"text-align: right;\">80</td><td style = \"text-align: left;\">Not_married</td><td style = \"text-align: left;\">M</td><td style = \"text-align: right;\">70000</td><td style = \"text-align: right;\">237</td><td style = \"text-align: right;\">165</td><td style = \"text-align: right;\">4.67875</td></tr><tr><td class = \"rowNumber\" style = \"font-weight: bold; text-align: right;\">516</td><td style = \"text-align: right;\">80</td><td style = \"text-align: left;\">Not_married</td><td style = \"text-align: left;\">M</td><td style = \"text-align: right;\">80000</td><td style = \"text-align: right;\">333</td><td style = \"text-align: right;\">158</td><td style = \"text-align: right;\">9.59527</td></tr><tr><td class = \"rowNumber\" style = \"font-weight: bold; text-align: right;\">517</td><td style = \"text-align: right;\">80</td><td style = \"text-align: left;\">Widowed</td><td style = \"text-align: left;\">F</td><td style = \"text-align: right;\">40000</td><td style = \"text-align: right;\">281</td><td style = \"text-align: right;\">99</td><td style = \"text-align: right;\">10.8623</td></tr><tr><td class = \"rowNumber\" style = \"font-weight: bold; text-align: right;\">518</td><td style = \"text-align: right;\">80</td><td style = \"text-align: left;\">Widowed</td><td style = \"text-align: left;\">F</td><td style = \"text-align: right;\">50000</td><td style = \"text-align: right;\">209</td><td style = \"text-align: right;\">225</td><td style = \"text-align: right;\">-1.10713</td></tr><tr><td class = \"rowNumber\" style = \"font-weight: bold; text-align: right;\">519</td><td style = \"text-align: right;\">80</td><td style = \"text-align: left;\">Widowed</td><td style = \"text-align: left;\">F</td><td style = \"text-align: right;\">60000</td><td style = \"text-align: right;\">195</td><td style = \"text-align: right;\">171</td><td style = \"text-align: right;\">1.71923</td></tr><tr><td class = \"rowNumber\" style = \"font-weight: bold; text-align: right;\">520</td><td style = \"text-align: right;\">80</td><td style = \"text-align: left;\">Widowed</td><td style = \"text-align: left;\">F</td><td style = \"text-align: right;\">70000</td><td style = \"text-align: right;\">102</td><td style = \"text-align: right;\">166</td><td style = \"text-align: right;\">-6.33802</td></tr><tr><td class = \"rowNumber\" style = \"font-weight: bold; text-align: right;\">521</td><td style = \"text-align: right;\">80</td><td style = \"text-align: left;\">Widowed</td><td style = \"text-align: left;\">F</td><td style = \"text-align: right;\">80000</td><td style = \"text-align: right;\">12</td><td style = \"text-align: right;\">160</td><td style = \"text-align: right;\">-42.7248</td></tr><tr><td class = \"rowNumber\" style = \"font-weight: bold; text-align: right;\">522</td><td style = \"text-align: right;\">80</td><td style = \"text-align: left;\">Widowed</td><td style = \"text-align: left;\">M</td><td style = \"text-align: right;\">40000</td><td style = \"text-align: right;\">28</td><td style = \"text-align: right;\">395</td><td style = \"text-align: right;\">-69.3597</td></tr><tr><td class = \"rowNumber\" style = \"font-weight: bold; text-align: right;\">523</td><td style = \"text-align: right;\">80</td><td style = \"text-align: left;\">Widowed</td><td style = \"text-align: left;\">M</td><td style = \"text-align: right;\">50000</td><td style = \"text-align: right;\">244</td><td style = \"text-align: right;\">895</td><td style = \"text-align: right;\">-41.693</td></tr><tr><td class = \"rowNumber\" style = \"font-weight: bold; text-align: right;\">524</td><td style = \"text-align: right;\">80</td><td style = \"text-align: left;\">Widowed</td><td style = \"text-align: left;\">M</td><td style = \"text-align: right;\">60000</td><td style = \"text-align: right;\">651</td><td style = \"text-align: right;\">681</td><td style = \"text-align: right;\">-1.17707</td></tr><tr><td class = \"rowNumber\" style = \"font-weight: bold; text-align: right;\">525</td><td style = \"text-align: right;\">80</td><td style = \"text-align: left;\">Widowed</td><td style = \"text-align: left;\">M</td><td style = \"text-align: right;\">70000</td><td style = \"text-align: right;\">990</td><td style = \"text-align: right;\">661</td><td style = \"text-align: right;\">10.4736</td></tr><tr><td class = \"rowNumber\" style = \"font-weight: bold; text-align: right;\">526</td><td style = \"text-align: right;\">80</td><td style = \"text-align: left;\">Widowed</td><td style = \"text-align: left;\">M</td><td style = \"text-align: right;\">80000</td><td style = \"text-align: right;\">1271</td><td style = \"text-align: right;\">634</td><td style = \"text-align: right;\">17.9056</td></tr></tbody></table></div>"
      ],
      "text/latex": [
       "\\begin{tabular}{r|ccccccc}\n",
       "\t& AGE & MARITAL\\_STATUS & SEX & INCOME & population & estimated\\_population & Z\\_score\\\\\n",
       "\t\\hline\n",
       "\t& Int64 & String? & Char & Int64? & Int64 & Int64? & Real\\\\\n",
       "\t\\hline\n",
       "\t1 & 5 & \\emph{missing} & F & \\emph{missing} & 10015 & 10013 & 0.0203272 \\\\\n",
       "\t2 & 5 & \\emph{missing} & M & \\emph{missing} & 9996 & 9996 & 0.0 \\\\\n",
       "\t3 & 10 & \\emph{missing} & F & \\emph{missing} & 9982 & 9983 & -0.0101798 \\\\\n",
       "\t4 & 10 & \\emph{missing} & M & \\emph{missing} & 9990 & 9989 & 0.0101759 \\\\\n",
       "\t5 & 15 & \\emph{missing} & F & \\emph{missing} & 9966 & 9966 & 0.0 \\\\\n",
       "\t6 & 15 & \\emph{missing} & M & \\emph{missing} & 10051 & 10050 & 0.010146 \\\\\n",
       "\t7 & 20 & Divorced & F & 40000 & 280 & 922 & -38.3848 \\\\\n",
       "\t8 & 20 & Divorced & F & 50000 & 2732 & 2089 & 12.3583 \\\\\n",
       "\t9 & 20 & Divorced & F & 60000 & 0 & 0 & 0 \\\\\n",
       "\t10 & 20 & Divorced & F & 70000 & 0 & 0 & 0 \\\\\n",
       "\t11 & 20 & Divorced & F & 80000 & 0 & 0 & 0 \\\\\n",
       "\t12 & 20 & Divorced & M & 40000 & 448 & 1390 & -44.5386 \\\\\n",
       "\t13 & 20 & Divorced & M & 50000 & 4020 & 3148 & 13.8463 \\\\\n",
       "\t14 & 20 & Divorced & M & 60000 & 0 & 0 & 0 \\\\\n",
       "\t15 & 20 & Divorced & M & 70000 & 0 & 0 & 0 \\\\\n",
       "\t16 & 20 & Divorced & M & 80000 & 0 & 0 & 0 \\\\\n",
       "\t17 & 20 & Married & F & 40000 & 423 & 1390 & -47.0503 \\\\\n",
       "\t18 & 20 & Married & F & 50000 & 4168 & 3147 & 15.9258 \\\\\n",
       "\t19 & 20 & Married & F & 60000 & 0 & 0 & 0 \\\\\n",
       "\t20 & 20 & Married & F & 70000 & 0 & 0 & 0 \\\\\n",
       "\t21 & 20 & Married & F & 80000 & 0 & 0 & 0 \\\\\n",
       "\t22 & 20 & Married & M & 40000 & 298 & 933 & -36.8028 \\\\\n",
       "\t23 & 20 & Married & M & 50000 & 2791 & 2112 & 12.9128 \\\\\n",
       "\t24 & 20 & Married & M & 60000 & 0 & 0 & 0 \\\\\n",
       "\t$\\dots$ & $\\dots$ & $\\dots$ & $\\dots$ & $\\dots$ & $\\dots$ & $\\dots$ & $\\dots$ \\\\\n",
       "\\end{tabular}\n"
      ],
      "text/plain": [
       "\u001b[1m526×7 DataFrame\u001b[0m\n",
       "\u001b[1m Row \u001b[0m│\u001b[1m AGE   \u001b[0m\u001b[1m MARITAL_STATUS \u001b[0m\u001b[1m SEX  \u001b[0m\u001b[1m INCOME  \u001b[0m\u001b[1m population \u001b[0m\u001b[1m estimated_population \u001b[0m\u001b[1m\u001b[0m ⋯\n",
       "     │\u001b[90m Int64 \u001b[0m\u001b[90m String?        \u001b[0m\u001b[90m Char \u001b[0m\u001b[90m Int64?  \u001b[0m\u001b[90m Int64      \u001b[0m\u001b[90m Int64?               \u001b[0m\u001b[90m\u001b[0m ⋯\n",
       "─────┼──────────────────────────────────────────────────────────────────────────\n",
       "   1 │     5 \u001b[90m missing        \u001b[0m F    \u001b[90m missing \u001b[0m      10015                 10013  ⋯\n",
       "   2 │     5 \u001b[90m missing        \u001b[0m M    \u001b[90m missing \u001b[0m       9996                  9996\n",
       "   3 │    10 \u001b[90m missing        \u001b[0m F    \u001b[90m missing \u001b[0m       9982                  9983\n",
       "   4 │    10 \u001b[90m missing        \u001b[0m M    \u001b[90m missing \u001b[0m       9990                  9989\n",
       "   5 │    15 \u001b[90m missing        \u001b[0m F    \u001b[90m missing \u001b[0m       9966                  9966  ⋯\n",
       "   6 │    15 \u001b[90m missing        \u001b[0m M    \u001b[90m missing \u001b[0m      10051                 10050\n",
       "   7 │    20  Divorced        F       40000         280                   922\n",
       "   8 │    20  Divorced        F       50000        2732                  2089\n",
       "  ⋮  │   ⋮          ⋮          ⋮       ⋮         ⋮                ⋮            ⋱\n",
       " 520 │    80  Widowed         F       70000         102                   166  ⋯\n",
       " 521 │    80  Widowed         F       80000          12                   160\n",
       " 522 │    80  Widowed         M       40000          28                   395\n",
       " 523 │    80  Widowed         M       50000         244                   895\n",
       " 524 │    80  Widowed         M       60000         651                   681  ⋯\n",
       " 525 │    80  Widowed         M       70000         990                   661\n",
       " 526 │    80  Widowed         M       80000        1271                   634\n",
       "\u001b[36m                                                   1 column and 511 rows omitted\u001b[0m"
      ]
     },
     "metadata": {},
     "output_type": "display_data"
    }
   ],
   "source": [
    "validate_table(modified, dependent_population)"
   ]
  },
  {
   "attachments": {},
   "cell_type": "markdown",
   "metadata": {},
   "source": [
    "### 1.5 Internal Validation"
   ]
  },
  {
   "attachments": {},
   "cell_type": "markdown",
   "metadata": {},
   "source": [
    "Once the tables have been generated, the internal validation can be performed. This is done to assess the distance between input contingency tables the the generated tables."
   ]
  },
  {
   "attachments": {},
   "cell_type": "markdown",
   "metadata": {},
   "source": [
    "#### Guo, Bhat, 2007"
   ]
  },
  {
   "cell_type": "code",
   "execution_count": 38,
   "metadata": {},
   "outputs": [
    {
     "data": {
      "text/plain": [
       "(\u001b[1m32×3 DataFrame\u001b[0m\n",
       "\u001b[1m Row \u001b[0m│\u001b[1m AGE   \u001b[0m\u001b[1m SEX  \u001b[0m\u001b[1m population \u001b[0m\n",
       "     │\u001b[90m Int64 \u001b[0m\u001b[90m Char \u001b[0m\u001b[90m Int64      \u001b[0m\n",
       "─────┼─────────────────────────\n",
       "   1 │     5  F          10017\n",
       "   2 │     5  M           9996\n",
       "   3 │    10  F           9981\n",
       "   4 │    10  M           9990\n",
       "   5 │    15  F           9967\n",
       "   6 │    15  M          10050\n",
       "   7 │    20  F          15145\n",
       "   8 │    20  M          15188\n",
       "  ⋮  │   ⋮     ⋮        ⋮\n",
       "  26 │    65  M           8249\n",
       "  27 │    70  F           8264\n",
       "  28 │    70  M           8269\n",
       "  29 │    75  F           8068\n",
       "  30 │    75  M           7975\n",
       "  31 │    80  F           8191\n",
       "  32 │    80  M           8147\n",
       "\u001b[36m                17 rows omitted\u001b[0m, \u001b[1m8×3 DataFrame\u001b[0m\n",
       "\u001b[1m Row \u001b[0m│\u001b[1m MARITAL_STATUS \u001b[0m\u001b[1m SEX  \u001b[0m\u001b[1m population \u001b[0m\n",
       "     │\u001b[90m String         \u001b[0m\u001b[90m Char \u001b[0m\u001b[90m Int64      \u001b[0m\n",
       "─────┼──────────────────────────────────\n",
       "   1 │ Divorced        F          29811\n",
       "   2 │ Divorced        M          44836\n",
       "   3 │ Married         F          44918\n",
       "   4 │ Married         M          30079\n",
       "   5 │ Not_married     F          60188\n",
       "   6 │ Not_married     M          14990\n",
       "   7 │ Widowed         F          15048\n",
       "   8 │ Widowed         M          60136, \u001b[1m5×2 DataFrame\u001b[0m\n",
       "\u001b[1m Row \u001b[0m│\u001b[1m INCOME \u001b[0m\u001b[1m population \u001b[0m\n",
       "     │\u001b[90m Int64  \u001b[0m\u001b[90m Int64      \u001b[0m\n",
       "─────┼────────────────────\n",
       "   1 │  40000       47423\n",
       "   2 │  50000      107372\n",
       "   3 │  60000       50071\n",
       "   4 │  70000       48569\n",
       "   5 │  80000       46571)"
      ]
     },
     "metadata": {},
     "output_type": "display_data"
    }
   ],
   "source": [
    "guo_bhat_age_sex, guo_bhat_sex_marital, guo_bhat_income = compute_marginals(guo_bhat)"
   ]
  },
  {
   "cell_type": "code",
   "execution_count": 50,
   "metadata": {},
   "outputs": [
    {
     "name": "stdout",
     "output_type": "stream",
     "text": [
      "=================\n",
      "=Cell statistics=\n",
      "=================\n",
      "\n",
      "Percentage of well fitting values at 0.95 confidence interval: 1.0\n",
      "Percentage of well fitting values at 0.90 confidence interval: 1.0\n",
      "\n",
      "\n",
      "==================\n",
      "=Table statistics=\n",
      "==================\n",
      "\n",
      "Statistic value equals: 0.00600498821344193\n",
      "Table is well fitting at 0.9 and 0.95 confidence interval.\n"
     ]
    },
    {
     "data": {
      "text/html": [
       "<div><div style = \"float: left;\"><span>32×5 DataFrame</span></div><div style = \"float: right;\"><span style = \"font-style: italic;\">7 rows omitted</span></div><div style = \"clear: both;\"></div></div><div class = \"data-frame\" style = \"overflow-x: scroll;\"><table class = \"data-frame\" style = \"margin-bottom: 6px;\"><thead><tr class = \"header\"><th class = \"rowNumber\" style = \"font-weight: bold; text-align: right;\">Row</th><th style = \"text-align: left;\">AGE</th><th style = \"text-align: left;\">SEX</th><th style = \"text-align: left;\">population</th><th style = \"text-align: left;\">estimated_population</th><th style = \"text-align: left;\">Z_score</th></tr><tr class = \"subheader headerLastRow\"><th class = \"rowNumber\" style = \"font-weight: bold; text-align: right;\"></th><th title = \"Int64\" style = \"text-align: left;\">Int64</th><th title = \"Char\" style = \"text-align: left;\">Char</th><th title = \"Int64\" style = \"text-align: left;\">Int64</th><th title = \"Union{Missing, Int64}\" style = \"text-align: left;\">Int64?</th><th title = \"Float64\" style = \"text-align: left;\">Float64</th></tr></thead><tbody><tr><td class = \"rowNumber\" style = \"font-weight: bold; text-align: right;\">1</td><td style = \"text-align: right;\">5</td><td style = \"text-align: left;\">F</td><td style = \"text-align: right;\">10015</td><td style = \"text-align: right;\">10017</td><td style = \"text-align: right;\">-0.0203272</td></tr><tr><td class = \"rowNumber\" style = \"font-weight: bold; text-align: right;\">2</td><td style = \"text-align: right;\">5</td><td style = \"text-align: left;\">M</td><td style = \"text-align: right;\">9996</td><td style = \"text-align: right;\">9996</td><td style = \"text-align: right;\">0.0</td></tr><tr><td class = \"rowNumber\" style = \"font-weight: bold; text-align: right;\">3</td><td style = \"text-align: right;\">10</td><td style = \"text-align: left;\">F</td><td style = \"text-align: right;\">9982</td><td style = \"text-align: right;\">9981</td><td style = \"text-align: right;\">0.0101798</td></tr><tr><td class = \"rowNumber\" style = \"font-weight: bold; text-align: right;\">4</td><td style = \"text-align: right;\">10</td><td style = \"text-align: left;\">M</td><td style = \"text-align: right;\">9990</td><td style = \"text-align: right;\">9990</td><td style = \"text-align: right;\">0.0</td></tr><tr><td class = \"rowNumber\" style = \"font-weight: bold; text-align: right;\">5</td><td style = \"text-align: right;\">15</td><td style = \"text-align: left;\">F</td><td style = \"text-align: right;\">9966</td><td style = \"text-align: right;\">9967</td><td style = \"text-align: right;\">-0.0101877</td></tr><tr><td class = \"rowNumber\" style = \"font-weight: bold; text-align: right;\">6</td><td style = \"text-align: right;\">15</td><td style = \"text-align: left;\">M</td><td style = \"text-align: right;\">10051</td><td style = \"text-align: right;\">10050</td><td style = \"text-align: right;\">0.010146</td></tr><tr><td class = \"rowNumber\" style = \"font-weight: bold; text-align: right;\">7</td><td style = \"text-align: right;\">20</td><td style = \"text-align: left;\">F</td><td style = \"text-align: right;\">15146</td><td style = \"text-align: right;\">15145</td><td style = \"text-align: right;\">0.00833874</td></tr><tr><td class = \"rowNumber\" style = \"font-weight: bold; text-align: right;\">8</td><td style = \"text-align: right;\">20</td><td style = \"text-align: left;\">M</td><td style = \"text-align: right;\">15187</td><td style = \"text-align: right;\">15188</td><td style = \"text-align: right;\">-0.00832808</td></tr><tr><td class = \"rowNumber\" style = \"font-weight: bold; text-align: right;\">9</td><td style = \"text-align: right;\">25</td><td style = \"text-align: left;\">F</td><td style = \"text-align: right;\">14854</td><td style = \"text-align: right;\">14852</td><td style = \"text-align: right;\">0.016832</td></tr><tr><td class = \"rowNumber\" style = \"font-weight: bold; text-align: right;\">10</td><td style = \"text-align: right;\">25</td><td style = \"text-align: left;\">M</td><td style = \"text-align: right;\">14813</td><td style = \"text-align: right;\">14814</td><td style = \"text-align: right;\">-0.00842702</td></tr><tr><td class = \"rowNumber\" style = \"font-weight: bold; text-align: right;\">11</td><td style = \"text-align: right;\">30</td><td style = \"text-align: left;\">F</td><td style = \"text-align: right;\">7989</td><td style = \"text-align: right;\">7988</td><td style = \"text-align: right;\">0.01134</td></tr><tr><td class = \"rowNumber\" style = \"font-weight: bold; text-align: right;\">12</td><td style = \"text-align: right;\">30</td><td style = \"text-align: left;\">M</td><td style = \"text-align: right;\">8225</td><td style = \"text-align: right;\">8226</td><td style = \"text-align: right;\">-0.0111807</td></tr><tr><td class = \"rowNumber\" style = \"font-weight: bold; text-align: right;\">13</td><td style = \"text-align: right;\">35</td><td style = \"text-align: left;\">F</td><td style = \"text-align: right;\">8293</td><td style = \"text-align: right;\">8295</td><td style = \"text-align: right;\">-0.0222721</td></tr><tr><td style = \"text-align: right;\">&vellip;</td><td style = \"text-align: right;\">&vellip;</td><td style = \"text-align: right;\">&vellip;</td><td style = \"text-align: right;\">&vellip;</td><td style = \"text-align: right;\">&vellip;</td><td style = \"text-align: right;\">&vellip;</td></tr><tr><td class = \"rowNumber\" style = \"font-weight: bold; text-align: right;\">21</td><td style = \"text-align: right;\">55</td><td style = \"text-align: left;\">F</td><td style = \"text-align: right;\">8235</td><td style = \"text-align: right;\">8236</td><td style = \"text-align: right;\">-0.0111741</td></tr><tr><td class = \"rowNumber\" style = \"font-weight: bold; text-align: right;\">22</td><td style = \"text-align: right;\">55</td><td style = \"text-align: left;\">M</td><td style = \"text-align: right;\">8234</td><td style = \"text-align: right;\">8234</td><td style = \"text-align: right;\">0.0</td></tr><tr><td class = \"rowNumber\" style = \"font-weight: bold; text-align: right;\">23</td><td style = \"text-align: right;\">60</td><td style = \"text-align: left;\">F</td><td style = \"text-align: right;\">8032</td><td style = \"text-align: right;\">8033</td><td style = \"text-align: right;\">-0.0113105</td></tr><tr><td class = \"rowNumber\" style = \"font-weight: bold; text-align: right;\">24</td><td style = \"text-align: right;\">60</td><td style = \"text-align: left;\">M</td><td style = \"text-align: right;\">8056</td><td style = \"text-align: right;\">8056</td><td style = \"text-align: right;\">0.0</td></tr><tr><td class = \"rowNumber\" style = \"font-weight: bold; text-align: right;\">25</td><td style = \"text-align: right;\">65</td><td style = \"text-align: left;\">F</td><td style = \"text-align: right;\">8201</td><td style = \"text-align: right;\">8200</td><td style = \"text-align: right;\">0.0111966</td></tr><tr><td class = \"rowNumber\" style = \"font-weight: bold; text-align: right;\">26</td><td style = \"text-align: right;\">65</td><td style = \"text-align: left;\">M</td><td style = \"text-align: right;\">8248</td><td style = \"text-align: right;\">8249</td><td style = \"text-align: right;\">-0.0111655</td></tr><tr><td class = \"rowNumber\" style = \"font-weight: bold; text-align: right;\">27</td><td style = \"text-align: right;\">70</td><td style = \"text-align: left;\">F</td><td style = \"text-align: right;\">8266</td><td style = \"text-align: right;\">8264</td><td style = \"text-align: right;\">0.0223074</td></tr><tr><td class = \"rowNumber\" style = \"font-weight: bold; text-align: right;\">28</td><td style = \"text-align: right;\">70</td><td style = \"text-align: left;\">M</td><td style = \"text-align: right;\">8269</td><td style = \"text-align: right;\">8269</td><td style = \"text-align: right;\">0.0</td></tr><tr><td class = \"rowNumber\" style = \"font-weight: bold; text-align: right;\">29</td><td style = \"text-align: right;\">75</td><td style = \"text-align: left;\">F</td><td style = \"text-align: right;\">8065</td><td style = \"text-align: right;\">8068</td><td style = \"text-align: right;\">-0.0338639</td></tr><tr><td class = \"rowNumber\" style = \"font-weight: bold; text-align: right;\">30</td><td style = \"text-align: right;\">75</td><td style = \"text-align: left;\">M</td><td style = \"text-align: right;\">7975</td><td style = \"text-align: right;\">7975</td><td style = \"text-align: right;\">0.0</td></tr><tr><td class = \"rowNumber\" style = \"font-weight: bold; text-align: right;\">31</td><td style = \"text-align: right;\">80</td><td style = \"text-align: left;\">F</td><td style = \"text-align: right;\">8190</td><td style = \"text-align: right;\">8191</td><td style = \"text-align: right;\">-0.0112039</td></tr><tr><td class = \"rowNumber\" style = \"font-weight: bold; text-align: right;\">32</td><td style = \"text-align: right;\">80</td><td style = \"text-align: left;\">M</td><td style = \"text-align: right;\">8146</td><td style = \"text-align: right;\">8147</td><td style = \"text-align: right;\">-0.0112333</td></tr></tbody></table></div>"
      ],
      "text/latex": [
       "\\begin{tabular}{r|ccccc}\n",
       "\t& AGE & SEX & population & estimated\\_population & Z\\_score\\\\\n",
       "\t\\hline\n",
       "\t& Int64 & Char & Int64 & Int64? & Float64\\\\\n",
       "\t\\hline\n",
       "\t1 & 5 & F & 10015 & 10017 & -0.0203272 \\\\\n",
       "\t2 & 5 & M & 9996 & 9996 & 0.0 \\\\\n",
       "\t3 & 10 & F & 9982 & 9981 & 0.0101798 \\\\\n",
       "\t4 & 10 & M & 9990 & 9990 & 0.0 \\\\\n",
       "\t5 & 15 & F & 9966 & 9967 & -0.0101877 \\\\\n",
       "\t6 & 15 & M & 10051 & 10050 & 0.010146 \\\\\n",
       "\t7 & 20 & F & 15146 & 15145 & 0.00833874 \\\\\n",
       "\t8 & 20 & M & 15187 & 15188 & -0.00832808 \\\\\n",
       "\t9 & 25 & F & 14854 & 14852 & 0.016832 \\\\\n",
       "\t10 & 25 & M & 14813 & 14814 & -0.00842702 \\\\\n",
       "\t11 & 30 & F & 7989 & 7988 & 0.01134 \\\\\n",
       "\t12 & 30 & M & 8225 & 8226 & -0.0111807 \\\\\n",
       "\t13 & 35 & F & 8293 & 8295 & -0.0222721 \\\\\n",
       "\t14 & 35 & M & 8250 & 8250 & 0.0 \\\\\n",
       "\t15 & 40 & F & 8114 & 8111 & 0.0337643 \\\\\n",
       "\t16 & 40 & M & 8281 & 8281 & 0.0 \\\\\n",
       "\t17 & 45 & F & 8340 & 8341 & -0.0111055 \\\\\n",
       "\t18 & 45 & M & 8160 & 8161 & -0.0112239 \\\\\n",
       "\t19 & 50 & F & 8275 & 8276 & -0.0111478 \\\\\n",
       "\t20 & 50 & M & 8156 & 8155 & 0.0112266 \\\\\n",
       "\t21 & 55 & F & 8235 & 8236 & -0.0111741 \\\\\n",
       "\t22 & 55 & M & 8234 & 8234 & 0.0 \\\\\n",
       "\t23 & 60 & F & 8032 & 8033 & -0.0113105 \\\\\n",
       "\t24 & 60 & M & 8056 & 8056 & 0.0 \\\\\n",
       "\t$\\dots$ & $\\dots$ & $\\dots$ & $\\dots$ & $\\dots$ & $\\dots$ \\\\\n",
       "\\end{tabular}\n"
      ],
      "text/plain": [
       "\u001b[1m32×5 DataFrame\u001b[0m\n",
       "\u001b[1m Row \u001b[0m│\u001b[1m AGE   \u001b[0m\u001b[1m SEX  \u001b[0m\u001b[1m population \u001b[0m\u001b[1m estimated_population \u001b[0m\u001b[1m Z_score     \u001b[0m\n",
       "     │\u001b[90m Int64 \u001b[0m\u001b[90m Char \u001b[0m\u001b[90m Int64      \u001b[0m\u001b[90m Int64?               \u001b[0m\u001b[90m Float64     \u001b[0m\n",
       "─────┼────────────────────────────────────────────────────────────\n",
       "   1 │     5  F          10015                 10017  -0.0203272\n",
       "   2 │     5  M           9996                  9996   0.0\n",
       "   3 │    10  F           9982                  9981   0.0101798\n",
       "   4 │    10  M           9990                  9990   0.0\n",
       "   5 │    15  F           9966                  9967  -0.0101877\n",
       "   6 │    15  M          10051                 10050   0.010146\n",
       "   7 │    20  F          15146                 15145   0.00833874\n",
       "   8 │    20  M          15187                 15188  -0.00832808\n",
       "  ⋮  │   ⋮     ⋮        ⋮                ⋮                 ⋮\n",
       "  26 │    65  M           8248                  8249  -0.0111655\n",
       "  27 │    70  F           8266                  8264   0.0223074\n",
       "  28 │    70  M           8269                  8269   0.0\n",
       "  29 │    75  F           8065                  8068  -0.0338639\n",
       "  30 │    75  M           7975                  7975   0.0\n",
       "  31 │    80  F           8190                  8191  -0.0112039\n",
       "  32 │    80  M           8146                  8147  -0.0112333\n",
       "\u001b[36m                                                   17 rows omitted\u001b[0m"
      ]
     },
     "metadata": {},
     "output_type": "display_data"
    }
   ],
   "source": [
    "validate_table(guo_bhat_age_sex, dependent_age_sex)"
   ]
  },
  {
   "cell_type": "code",
   "execution_count": 51,
   "metadata": {},
   "outputs": [
    {
     "name": "stdout",
     "output_type": "stream",
     "text": [
      "=================\n",
      "=Cell statistics=\n",
      "=================\n",
      "\n",
      "Percentage of well fitting values at 0.95 confidence interval: 0.0\n",
      "Percentage of well fitting values at 0.90 confidence interval: 0.0\n",
      "\n",
      "\n",
      "==================\n",
      "=Table statistics=\n",
      "==================\n",
      "\n",
      "Statistic value equals: 17713.023332168304\n",
      "Table is not well fitting.\n"
     ]
    },
    {
     "data": {
      "text/html": [
       "<div><div style = \"float: left;\"><span>8×5 DataFrame</span></div><div style = \"clear: both;\"></div></div><div class = \"data-frame\" style = \"overflow-x: scroll;\"><table class = \"data-frame\" style = \"margin-bottom: 6px;\"><thead><tr class = \"header\"><th class = \"rowNumber\" style = \"font-weight: bold; text-align: right;\">Row</th><th style = \"text-align: left;\">MARITAL_STATUS</th><th style = \"text-align: left;\">SEX</th><th style = \"text-align: left;\">population</th><th style = \"text-align: left;\">estimated_population</th><th style = \"text-align: left;\">Z_score</th></tr><tr class = \"subheader headerLastRow\"><th class = \"rowNumber\" style = \"font-weight: bold; text-align: right;\"></th><th title = \"Union{Missing, String}\" style = \"text-align: left;\">String?</th><th title = \"Char\" style = \"text-align: left;\">Char</th><th title = \"Int64\" style = \"text-align: left;\">Int64</th><th title = \"Union{Missing, Int64}\" style = \"text-align: left;\">Int64?</th><th title = \"Float64\" style = \"text-align: left;\">Float64</th></tr></thead><tbody><tr><td class = \"rowNumber\" style = \"font-weight: bold; text-align: right;\">1</td><td style = \"text-align: left;\">Divorced</td><td style = \"text-align: left;\">F</td><td style = \"text-align: right;\">23858</td><td style = \"text-align: right;\">29811</td><td style = \"text-align: right;\">-40.612</td></tr><tr><td class = \"rowNumber\" style = \"font-weight: bold; text-align: right;\">2</td><td style = \"text-align: left;\">Divorced</td><td style = \"text-align: left;\">M</td><td style = \"text-align: right;\">35860</td><td style = \"text-align: right;\">44836</td><td style = \"text-align: right;\">-51.3948</td></tr><tr><td class = \"rowNumber\" style = \"font-weight: bold; text-align: right;\">3</td><td style = \"text-align: left;\">Married</td><td style = \"text-align: left;\">F</td><td style = \"text-align: right;\">35944</td><td style = \"text-align: right;\">44918</td><td style = \"text-align: right;\">-51.3338</td></tr><tr><td class = \"rowNumber\" style = \"font-weight: bold; text-align: right;\">4</td><td style = \"text-align: left;\">Married</td><td style = \"text-align: left;\">M</td><td style = \"text-align: right;\">24062</td><td style = \"text-align: right;\">30079</td><td style = \"text-align: right;\">-40.8936</td></tr><tr><td class = \"rowNumber\" style = \"font-weight: bold; text-align: right;\">5</td><td style = \"text-align: left;\">Not_married</td><td style = \"text-align: left;\">F</td><td style = \"text-align: right;\">48160</td><td style = \"text-align: right;\">60188</td><td style = \"text-align: right;\">-61.3036</td></tr><tr><td class = \"rowNumber\" style = \"font-weight: bold; text-align: right;\">6</td><td style = \"text-align: left;\">Not_married</td><td style = \"text-align: left;\">M</td><td style = \"text-align: right;\">11983</td><td style = \"text-align: right;\">14990</td><td style = \"text-align: right;\">-28.1821</td></tr><tr><td class = \"rowNumber\" style = \"font-weight: bold; text-align: right;\">7</td><td style = \"text-align: left;\">Widowed</td><td style = \"text-align: left;\">F</td><td style = \"text-align: right;\">12038</td><td style = \"text-align: right;\">15048</td><td style = \"text-align: right;\">-28.149</td></tr><tr><td class = \"rowNumber\" style = \"font-weight: bold; text-align: right;\">8</td><td style = \"text-align: left;\">Widowed</td><td style = \"text-align: left;\">M</td><td style = \"text-align: right;\">48095</td><td style = \"text-align: right;\">60136</td><td style = \"text-align: right;\">-61.4009</td></tr></tbody></table></div>"
      ],
      "text/latex": [
       "\\begin{tabular}{r|ccccc}\n",
       "\t& MARITAL\\_STATUS & SEX & population & estimated\\_population & Z\\_score\\\\\n",
       "\t\\hline\n",
       "\t& String? & Char & Int64 & Int64? & Float64\\\\\n",
       "\t\\hline\n",
       "\t1 & Divorced & F & 23858 & 29811 & -40.612 \\\\\n",
       "\t2 & Divorced & M & 35860 & 44836 & -51.3948 \\\\\n",
       "\t3 & Married & F & 35944 & 44918 & -51.3338 \\\\\n",
       "\t4 & Married & M & 24062 & 30079 & -40.8936 \\\\\n",
       "\t5 & Not\\_married & F & 48160 & 60188 & -61.3036 \\\\\n",
       "\t6 & Not\\_married & M & 11983 & 14990 & -28.1821 \\\\\n",
       "\t7 & Widowed & F & 12038 & 15048 & -28.149 \\\\\n",
       "\t8 & Widowed & M & 48095 & 60136 & -61.4009 \\\\\n",
       "\\end{tabular}\n"
      ],
      "text/plain": [
       "\u001b[1m8×5 DataFrame\u001b[0m\n",
       "\u001b[1m Row \u001b[0m│\u001b[1m MARITAL_STATUS \u001b[0m\u001b[1m SEX  \u001b[0m\u001b[1m population \u001b[0m\u001b[1m estimated_population \u001b[0m\u001b[1m Z_score  \u001b[0m\n",
       "     │\u001b[90m String?        \u001b[0m\u001b[90m Char \u001b[0m\u001b[90m Int64      \u001b[0m\u001b[90m Int64?               \u001b[0m\u001b[90m Float64  \u001b[0m\n",
       "─────┼──────────────────────────────────────────────────────────────────\n",
       "   1 │ Divorced        F          23858                 29811  -40.612\n",
       "   2 │ Divorced        M          35860                 44836  -51.3948\n",
       "   3 │ Married         F          35944                 44918  -51.3338\n",
       "   4 │ Married         M          24062                 30079  -40.8936\n",
       "   5 │ Not_married     F          48160                 60188  -61.3036\n",
       "   6 │ Not_married     M          11983                 14990  -28.1821\n",
       "   7 │ Widowed         F          12038                 15048  -28.149\n",
       "   8 │ Widowed         M          48095                 60136  -61.4009"
      ]
     },
     "metadata": {},
     "output_type": "display_data"
    }
   ],
   "source": [
    "validate_table(guo_bhat_sex_marital, dependent_sex_marital)"
   ]
  },
  {
   "cell_type": "code",
   "execution_count": 52,
   "metadata": {},
   "outputs": [
    {
     "name": "stdout",
     "output_type": "stream",
     "text": [
      "=================\n",
      "=Cell statistics=\n",
      "=================\n",
      "\n",
      "Percentage of well fitting values at 0.95 confidence interval: 0.0\n",
      "Percentage of well fitting values at 0.90 confidence interval: 0.0\n",
      "\n",
      "\n",
      "==================\n",
      "=Table statistics=\n",
      "==================\n",
      "\n",
      "Statistic value equals: 19839.17108994752\n",
      "Table is not well fitting.\n"
     ]
    },
    {
     "data": {
      "text/html": [
       "<div><div style = \"float: left;\"><span>5×4 DataFrame</span></div><div style = \"clear: both;\"></div></div><div class = \"data-frame\" style = \"overflow-x: scroll;\"><table class = \"data-frame\" style = \"margin-bottom: 6px;\"><thead><tr class = \"header\"><th class = \"rowNumber\" style = \"font-weight: bold; text-align: right;\">Row</th><th style = \"text-align: left;\">INCOME</th><th style = \"text-align: left;\">population</th><th style = \"text-align: left;\">estimated_population</th><th style = \"text-align: left;\">Z_score</th></tr><tr class = \"subheader headerLastRow\"><th class = \"rowNumber\" style = \"font-weight: bold; text-align: right;\"></th><th title = \"Union{Missing, Int64}\" style = \"text-align: left;\">Int64?</th><th title = \"Int64\" style = \"text-align: left;\">Int64</th><th title = \"Union{Missing, Int64}\" style = \"text-align: left;\">Int64?</th><th title = \"Float64\" style = \"text-align: left;\">Float64</th></tr></thead><tbody><tr><td class = \"rowNumber\" style = \"font-weight: bold; text-align: right;\">1</td><td style = \"text-align: right;\">40000</td><td style = \"text-align: right;\">37934</td><td style = \"text-align: right;\">47423</td><td style = \"text-align: right;\">-53.0964</td></tr><tr><td class = \"rowNumber\" style = \"font-weight: bold; text-align: right;\">2</td><td style = \"text-align: right;\">50000</td><td style = \"text-align: right;\">85901</td><td style = \"text-align: right;\">107372</td><td style = \"text-align: right;\">-91.4237</td></tr><tr><td class = \"rowNumber\" style = \"font-weight: bold; text-align: right;\">3</td><td style = \"text-align: right;\">60000</td><td style = \"text-align: right;\">40050</td><td style = \"text-align: right;\">50071</td><td style = \"text-align: right;\">-54.8599</td></tr><tr><td class = \"rowNumber\" style = \"font-weight: bold; text-align: right;\">4</td><td style = \"text-align: right;\">70000</td><td style = \"text-align: right;\">38857</td><td style = \"text-align: right;\">48569</td><td style = \"text-align: right;\">-53.818</td></tr><tr><td class = \"rowNumber\" style = \"font-weight: bold; text-align: right;\">5</td><td style = \"text-align: right;\">80000</td><td style = \"text-align: right;\">37258</td><td style = \"text-align: right;\">46571</td><td style = \"text-align: right;\">-52.4945</td></tr></tbody></table></div>"
      ],
      "text/latex": [
       "\\begin{tabular}{r|cccc}\n",
       "\t& INCOME & population & estimated\\_population & Z\\_score\\\\\n",
       "\t\\hline\n",
       "\t& Int64? & Int64 & Int64? & Float64\\\\\n",
       "\t\\hline\n",
       "\t1 & 40000 & 37934 & 47423 & -53.0964 \\\\\n",
       "\t2 & 50000 & 85901 & 107372 & -91.4237 \\\\\n",
       "\t3 & 60000 & 40050 & 50071 & -54.8599 \\\\\n",
       "\t4 & 70000 & 38857 & 48569 & -53.818 \\\\\n",
       "\t5 & 80000 & 37258 & 46571 & -52.4945 \\\\\n",
       "\\end{tabular}\n"
      ],
      "text/plain": [
       "\u001b[1m5×4 DataFrame\u001b[0m\n",
       "\u001b[1m Row \u001b[0m│\u001b[1m INCOME \u001b[0m\u001b[1m population \u001b[0m\u001b[1m estimated_population \u001b[0m\u001b[1m Z_score  \u001b[0m\n",
       "     │\u001b[90m Int64? \u001b[0m\u001b[90m Int64      \u001b[0m\u001b[90m Int64?               \u001b[0m\u001b[90m Float64  \u001b[0m\n",
       "─────┼────────────────────────────────────────────────────\n",
       "   1 │  40000       37934                 47423  -53.0964\n",
       "   2 │  50000       85901                107372  -91.4237\n",
       "   3 │  60000       40050                 50071  -54.8599\n",
       "   4 │  70000       38857                 48569  -53.818\n",
       "   5 │  80000       37258                 46571  -52.4945"
      ]
     },
     "metadata": {},
     "output_type": "display_data"
    }
   ],
   "source": [
    "validate_table(guo_bhat_income, dependent_income)"
   ]
  },
  {
   "attachments": {},
   "cell_type": "markdown",
   "metadata": {},
   "source": [
    "#### Ponge, Enbergs, Schungel, Hellingrath, Karch, Ludwig, 2021"
   ]
  },
  {
   "cell_type": "code",
   "execution_count": 42,
   "metadata": {},
   "outputs": [
    {
     "data": {
      "text/plain": [
       "(\u001b[1m32×3 DataFrame\u001b[0m\n",
       "\u001b[1m Row \u001b[0m│\u001b[1m AGE   \u001b[0m\u001b[1m SEX  \u001b[0m\u001b[1m population \u001b[0m\n",
       "     │\u001b[90m Int64 \u001b[0m\u001b[90m Char \u001b[0m\u001b[90m Int64      \u001b[0m\n",
       "─────┼─────────────────────────\n",
       "   1 │     5  F          10013\n",
       "   2 │     5  M           9996\n",
       "   3 │    10  F           9983\n",
       "   4 │    10  M           9989\n",
       "   5 │    15  F           9966\n",
       "   6 │    15  M          10050\n",
       "   7 │    20  F          15146\n",
       "   8 │    20  M          15187\n",
       "  ⋮  │   ⋮     ⋮        ⋮\n",
       "  26 │    65  M           8250\n",
       "  27 │    70  F           8265\n",
       "  28 │    70  M           8269\n",
       "  29 │    75  F           8065\n",
       "  30 │    75  M           7973\n",
       "  31 │    80  F           8190\n",
       "  32 │    80  M           8147\n",
       "\u001b[36m                17 rows omitted\u001b[0m, \u001b[1m8×3 DataFrame\u001b[0m\n",
       "\u001b[1m Row \u001b[0m│\u001b[1m MARITAL_STATUS \u001b[0m\u001b[1m SEX  \u001b[0m\u001b[1m population \u001b[0m\n",
       "     │\u001b[90m String         \u001b[0m\u001b[90m Char \u001b[0m\u001b[90m Int64      \u001b[0m\n",
       "─────┼──────────────────────────────────\n",
       "   1 │ Divorced        F          29811\n",
       "   2 │ Divorced        M          44829\n",
       "   3 │ Married         F          44920\n",
       "   4 │ Married         M          30080\n",
       "   5 │ Not_married     F          60185\n",
       "   6 │ Not_married     M          14980\n",
       "   7 │ Widowed         F          15041\n",
       "   8 │ Widowed         M          60139, \u001b[1m5×2 DataFrame\u001b[0m\n",
       "\u001b[1m Row \u001b[0m│\u001b[1m INCOME \u001b[0m\u001b[1m population \u001b[0m\n",
       "     │\u001b[90m Int64  \u001b[0m\u001b[90m Int64      \u001b[0m\n",
       "─────┼────────────────────\n",
       "   1 │  40000       47416\n",
       "   2 │  50000      107370\n",
       "   3 │  60000       50061\n",
       "   4 │  70000       48570\n",
       "   5 │  80000       46568)"
      ]
     },
     "metadata": {},
     "output_type": "display_data"
    }
   ],
   "source": [
    "ponge_et_al_age_sex, ponge_et_al_sex_marital, ponge_et_al_income = compute_marginals(ponge_et_al)"
   ]
  },
  {
   "cell_type": "code",
   "execution_count": 53,
   "metadata": {},
   "outputs": [
    {
     "name": "stdout",
     "output_type": "stream",
     "text": [
      "=================\n",
      "=Cell statistics=\n",
      "=================\n",
      "\n",
      "Percentage of well fitting values at 0.95 confidence interval: 1.0\n",
      "Percentage of well fitting values at 0.90 confidence interval: 1.0\n",
      "\n",
      "\n",
      "==================\n",
      "=Table statistics=\n",
      "==================\n",
      "\n",
      "Statistic value equals: 0.0069684839695416684\n",
      "Table is well fitting at 0.9 and 0.95 confidence interval.\n"
     ]
    },
    {
     "data": {
      "text/html": [
       "<div><div style = \"float: left;\"><span>32×5 DataFrame</span></div><div style = \"float: right;\"><span style = \"font-style: italic;\">7 rows omitted</span></div><div style = \"clear: both;\"></div></div><div class = \"data-frame\" style = \"overflow-x: scroll;\"><table class = \"data-frame\" style = \"margin-bottom: 6px;\"><thead><tr class = \"header\"><th class = \"rowNumber\" style = \"font-weight: bold; text-align: right;\">Row</th><th style = \"text-align: left;\">AGE</th><th style = \"text-align: left;\">SEX</th><th style = \"text-align: left;\">population</th><th style = \"text-align: left;\">estimated_population</th><th style = \"text-align: left;\">Z_score</th></tr><tr class = \"subheader headerLastRow\"><th class = \"rowNumber\" style = \"font-weight: bold; text-align: right;\"></th><th title = \"Int64\" style = \"text-align: left;\">Int64</th><th title = \"Char\" style = \"text-align: left;\">Char</th><th title = \"Int64\" style = \"text-align: left;\">Int64</th><th title = \"Union{Missing, Int64}\" style = \"text-align: left;\">Int64?</th><th title = \"Float64\" style = \"text-align: left;\">Float64</th></tr></thead><tbody><tr><td class = \"rowNumber\" style = \"font-weight: bold; text-align: right;\">1</td><td style = \"text-align: right;\">5</td><td style = \"text-align: left;\">F</td><td style = \"text-align: right;\">10015</td><td style = \"text-align: right;\">10013</td><td style = \"text-align: right;\">0.0203272</td></tr><tr><td class = \"rowNumber\" style = \"font-weight: bold; text-align: right;\">2</td><td style = \"text-align: right;\">5</td><td style = \"text-align: left;\">M</td><td style = \"text-align: right;\">9996</td><td style = \"text-align: right;\">9996</td><td style = \"text-align: right;\">0.0</td></tr><tr><td class = \"rowNumber\" style = \"font-weight: bold; text-align: right;\">3</td><td style = \"text-align: right;\">10</td><td style = \"text-align: left;\">F</td><td style = \"text-align: right;\">9982</td><td style = \"text-align: right;\">9983</td><td style = \"text-align: right;\">-0.0101798</td></tr><tr><td class = \"rowNumber\" style = \"font-weight: bold; text-align: right;\">4</td><td style = \"text-align: right;\">10</td><td style = \"text-align: left;\">M</td><td style = \"text-align: right;\">9990</td><td style = \"text-align: right;\">9989</td><td style = \"text-align: right;\">0.0101759</td></tr><tr><td class = \"rowNumber\" style = \"font-weight: bold; text-align: right;\">5</td><td style = \"text-align: right;\">15</td><td style = \"text-align: left;\">F</td><td style = \"text-align: right;\">9966</td><td style = \"text-align: right;\">9966</td><td style = \"text-align: right;\">0.0</td></tr><tr><td class = \"rowNumber\" style = \"font-weight: bold; text-align: right;\">6</td><td style = \"text-align: right;\">15</td><td style = \"text-align: left;\">M</td><td style = \"text-align: right;\">10051</td><td style = \"text-align: right;\">10050</td><td style = \"text-align: right;\">0.010146</td></tr><tr><td class = \"rowNumber\" style = \"font-weight: bold; text-align: right;\">7</td><td style = \"text-align: right;\">20</td><td style = \"text-align: left;\">F</td><td style = \"text-align: right;\">15146</td><td style = \"text-align: right;\">15146</td><td style = \"text-align: right;\">0.0</td></tr><tr><td class = \"rowNumber\" style = \"font-weight: bold; text-align: right;\">8</td><td style = \"text-align: right;\">20</td><td style = \"text-align: left;\">M</td><td style = \"text-align: right;\">15187</td><td style = \"text-align: right;\">15187</td><td style = \"text-align: right;\">0.0</td></tr><tr><td class = \"rowNumber\" style = \"font-weight: bold; text-align: right;\">9</td><td style = \"text-align: right;\">25</td><td style = \"text-align: left;\">F</td><td style = \"text-align: right;\">14854</td><td style = \"text-align: right;\">14853</td><td style = \"text-align: right;\">0.00841599</td></tr><tr><td class = \"rowNumber\" style = \"font-weight: bold; text-align: right;\">10</td><td style = \"text-align: right;\">25</td><td style = \"text-align: left;\">M</td><td style = \"text-align: right;\">14813</td><td style = \"text-align: right;\">14813</td><td style = \"text-align: right;\">0.0</td></tr><tr><td class = \"rowNumber\" style = \"font-weight: bold; text-align: right;\">11</td><td style = \"text-align: right;\">30</td><td style = \"text-align: left;\">F</td><td style = \"text-align: right;\">7989</td><td style = \"text-align: right;\">7986</td><td style = \"text-align: right;\">0.0340201</td></tr><tr><td class = \"rowNumber\" style = \"font-weight: bold; text-align: right;\">12</td><td style = \"text-align: right;\">30</td><td style = \"text-align: left;\">M</td><td style = \"text-align: right;\">8225</td><td style = \"text-align: right;\">8224</td><td style = \"text-align: right;\">0.0111807</td></tr><tr><td class = \"rowNumber\" style = \"font-weight: bold; text-align: right;\">13</td><td style = \"text-align: right;\">35</td><td style = \"text-align: left;\">F</td><td style = \"text-align: right;\">8293</td><td style = \"text-align: right;\">8296</td><td style = \"text-align: right;\">-0.0334082</td></tr><tr><td style = \"text-align: right;\">&vellip;</td><td style = \"text-align: right;\">&vellip;</td><td style = \"text-align: right;\">&vellip;</td><td style = \"text-align: right;\">&vellip;</td><td style = \"text-align: right;\">&vellip;</td><td style = \"text-align: right;\">&vellip;</td></tr><tr><td class = \"rowNumber\" style = \"font-weight: bold; text-align: right;\">21</td><td style = \"text-align: right;\">55</td><td style = \"text-align: left;\">F</td><td style = \"text-align: right;\">8235</td><td style = \"text-align: right;\">8234</td><td style = \"text-align: right;\">0.0111741</td></tr><tr><td class = \"rowNumber\" style = \"font-weight: bold; text-align: right;\">22</td><td style = \"text-align: right;\">55</td><td style = \"text-align: left;\">M</td><td style = \"text-align: right;\">8234</td><td style = \"text-align: right;\">8231</td><td style = \"text-align: right;\">0.0335243</td></tr><tr><td class = \"rowNumber\" style = \"font-weight: bold; text-align: right;\">23</td><td style = \"text-align: right;\">60</td><td style = \"text-align: left;\">F</td><td style = \"text-align: right;\">8032</td><td style = \"text-align: right;\">8033</td><td style = \"text-align: right;\">-0.0113105</td></tr><tr><td class = \"rowNumber\" style = \"font-weight: bold; text-align: right;\">24</td><td style = \"text-align: right;\">60</td><td style = \"text-align: left;\">M</td><td style = \"text-align: right;\">8056</td><td style = \"text-align: right;\">8054</td><td style = \"text-align: right;\">0.0225882</td></tr><tr><td class = \"rowNumber\" style = \"font-weight: bold; text-align: right;\">25</td><td style = \"text-align: right;\">65</td><td style = \"text-align: left;\">F</td><td style = \"text-align: right;\">8201</td><td style = \"text-align: right;\">8201</td><td style = \"text-align: right;\">0.0</td></tr><tr><td class = \"rowNumber\" style = \"font-weight: bold; text-align: right;\">26</td><td style = \"text-align: right;\">65</td><td style = \"text-align: left;\">M</td><td style = \"text-align: right;\">8248</td><td style = \"text-align: right;\">8250</td><td style = \"text-align: right;\">-0.0223311</td></tr><tr><td class = \"rowNumber\" style = \"font-weight: bold; text-align: right;\">27</td><td style = \"text-align: right;\">70</td><td style = \"text-align: left;\">F</td><td style = \"text-align: right;\">8266</td><td style = \"text-align: right;\">8265</td><td style = \"text-align: right;\">0.0111537</td></tr><tr><td class = \"rowNumber\" style = \"font-weight: bold; text-align: right;\">28</td><td style = \"text-align: right;\">70</td><td style = \"text-align: left;\">M</td><td style = \"text-align: right;\">8269</td><td style = \"text-align: right;\">8269</td><td style = \"text-align: right;\">0.0</td></tr><tr><td class = \"rowNumber\" style = \"font-weight: bold; text-align: right;\">29</td><td style = \"text-align: right;\">75</td><td style = \"text-align: left;\">F</td><td style = \"text-align: right;\">8065</td><td style = \"text-align: right;\">8065</td><td style = \"text-align: right;\">0.0</td></tr><tr><td class = \"rowNumber\" style = \"font-weight: bold; text-align: right;\">30</td><td style = \"text-align: right;\">75</td><td style = \"text-align: left;\">M</td><td style = \"text-align: right;\">7975</td><td style = \"text-align: right;\">7973</td><td style = \"text-align: right;\">0.0226994</td></tr><tr><td class = \"rowNumber\" style = \"font-weight: bold; text-align: right;\">31</td><td style = \"text-align: right;\">80</td><td style = \"text-align: left;\">F</td><td style = \"text-align: right;\">8190</td><td style = \"text-align: right;\">8190</td><td style = \"text-align: right;\">0.0</td></tr><tr><td class = \"rowNumber\" style = \"font-weight: bold; text-align: right;\">32</td><td style = \"text-align: right;\">80</td><td style = \"text-align: left;\">M</td><td style = \"text-align: right;\">8146</td><td style = \"text-align: right;\">8147</td><td style = \"text-align: right;\">-0.0112333</td></tr></tbody></table></div>"
      ],
      "text/latex": [
       "\\begin{tabular}{r|ccccc}\n",
       "\t& AGE & SEX & population & estimated\\_population & Z\\_score\\\\\n",
       "\t\\hline\n",
       "\t& Int64 & Char & Int64 & Int64? & Float64\\\\\n",
       "\t\\hline\n",
       "\t1 & 5 & F & 10015 & 10013 & 0.0203272 \\\\\n",
       "\t2 & 5 & M & 9996 & 9996 & 0.0 \\\\\n",
       "\t3 & 10 & F & 9982 & 9983 & -0.0101798 \\\\\n",
       "\t4 & 10 & M & 9990 & 9989 & 0.0101759 \\\\\n",
       "\t5 & 15 & F & 9966 & 9966 & 0.0 \\\\\n",
       "\t6 & 15 & M & 10051 & 10050 & 0.010146 \\\\\n",
       "\t7 & 20 & F & 15146 & 15146 & 0.0 \\\\\n",
       "\t8 & 20 & M & 15187 & 15187 & 0.0 \\\\\n",
       "\t9 & 25 & F & 14854 & 14853 & 0.00841599 \\\\\n",
       "\t10 & 25 & M & 14813 & 14813 & 0.0 \\\\\n",
       "\t11 & 30 & F & 7989 & 7986 & 0.0340201 \\\\\n",
       "\t12 & 30 & M & 8225 & 8224 & 0.0111807 \\\\\n",
       "\t13 & 35 & F & 8293 & 8296 & -0.0334082 \\\\\n",
       "\t14 & 35 & M & 8250 & 8250 & 0.0 \\\\\n",
       "\t15 & 40 & F & 8114 & 8113 & 0.0112548 \\\\\n",
       "\t16 & 40 & M & 8281 & 8280 & 0.0111439 \\\\\n",
       "\t17 & 45 & F & 8340 & 8339 & 0.0111055 \\\\\n",
       "\t18 & 45 & M & 8160 & 8159 & 0.0112239 \\\\\n",
       "\t19 & 50 & F & 8275 & 8274 & 0.0111478 \\\\\n",
       "\t20 & 50 & M & 8156 & 8156 & 0.0 \\\\\n",
       "\t21 & 55 & F & 8235 & 8234 & 0.0111741 \\\\\n",
       "\t22 & 55 & M & 8234 & 8231 & 0.0335243 \\\\\n",
       "\t23 & 60 & F & 8032 & 8033 & -0.0113105 \\\\\n",
       "\t24 & 60 & M & 8056 & 8054 & 0.0225882 \\\\\n",
       "\t$\\dots$ & $\\dots$ & $\\dots$ & $\\dots$ & $\\dots$ & $\\dots$ \\\\\n",
       "\\end{tabular}\n"
      ],
      "text/plain": [
       "\u001b[1m32×5 DataFrame\u001b[0m\n",
       "\u001b[1m Row \u001b[0m│\u001b[1m AGE   \u001b[0m\u001b[1m SEX  \u001b[0m\u001b[1m population \u001b[0m\u001b[1m estimated_population \u001b[0m\u001b[1m Z_score     \u001b[0m\n",
       "     │\u001b[90m Int64 \u001b[0m\u001b[90m Char \u001b[0m\u001b[90m Int64      \u001b[0m\u001b[90m Int64?               \u001b[0m\u001b[90m Float64     \u001b[0m\n",
       "─────┼────────────────────────────────────────────────────────────\n",
       "   1 │     5  F          10015                 10013   0.0203272\n",
       "   2 │     5  M           9996                  9996   0.0\n",
       "   3 │    10  F           9982                  9983  -0.0101798\n",
       "   4 │    10  M           9990                  9989   0.0101759\n",
       "   5 │    15  F           9966                  9966   0.0\n",
       "   6 │    15  M          10051                 10050   0.010146\n",
       "   7 │    20  F          15146                 15146   0.0\n",
       "   8 │    20  M          15187                 15187   0.0\n",
       "  ⋮  │   ⋮     ⋮        ⋮                ⋮                 ⋮\n",
       "  26 │    65  M           8248                  8250  -0.0223311\n",
       "  27 │    70  F           8266                  8265   0.0111537\n",
       "  28 │    70  M           8269                  8269   0.0\n",
       "  29 │    75  F           8065                  8065   0.0\n",
       "  30 │    75  M           7975                  7973   0.0226994\n",
       "  31 │    80  F           8190                  8190   0.0\n",
       "  32 │    80  M           8146                  8147  -0.0112333\n",
       "\u001b[36m                                                   17 rows omitted\u001b[0m"
      ]
     },
     "metadata": {},
     "output_type": "display_data"
    }
   ],
   "source": [
    "validate_table(ponge_et_al_age_sex, dependent_age_sex)"
   ]
  },
  {
   "cell_type": "code",
   "execution_count": 54,
   "metadata": {},
   "outputs": [
    {
     "name": "stdout",
     "output_type": "stream",
     "text": [
      "=================\n",
      "=Cell statistics=\n",
      "=================\n",
      "\n",
      "Percentage of well fitting values at 0.95 confidence interval: 0.0\n",
      "Percentage of well fitting values at 0.90 confidence interval: 0.0\n",
      "\n",
      "\n",
      "==================\n",
      "=Table statistics=\n",
      "==================\n",
      "\n",
      "Statistic value equals: 17701.68517164271\n",
      "Table is not well fitting.\n"
     ]
    },
    {
     "data": {
      "text/html": [
       "<div><div style = \"float: left;\"><span>8×5 DataFrame</span></div><div style = \"clear: both;\"></div></div><div class = \"data-frame\" style = \"overflow-x: scroll;\"><table class = \"data-frame\" style = \"margin-bottom: 6px;\"><thead><tr class = \"header\"><th class = \"rowNumber\" style = \"font-weight: bold; text-align: right;\">Row</th><th style = \"text-align: left;\">MARITAL_STATUS</th><th style = \"text-align: left;\">SEX</th><th style = \"text-align: left;\">population</th><th style = \"text-align: left;\">estimated_population</th><th style = \"text-align: left;\">Z_score</th></tr><tr class = \"subheader headerLastRow\"><th class = \"rowNumber\" style = \"font-weight: bold; text-align: right;\"></th><th title = \"Union{Missing, String}\" style = \"text-align: left;\">String?</th><th title = \"Char\" style = \"text-align: left;\">Char</th><th title = \"Int64\" style = \"text-align: left;\">Int64</th><th title = \"Union{Missing, Int64}\" style = \"text-align: left;\">Int64?</th><th title = \"Float64\" style = \"text-align: left;\">Float64</th></tr></thead><tbody><tr><td class = \"rowNumber\" style = \"font-weight: bold; text-align: right;\">1</td><td style = \"text-align: left;\">Divorced</td><td style = \"text-align: left;\">F</td><td style = \"text-align: right;\">23858</td><td style = \"text-align: right;\">29811</td><td style = \"text-align: right;\">-40.612</td></tr><tr><td class = \"rowNumber\" style = \"font-weight: bold; text-align: right;\">2</td><td style = \"text-align: left;\">Divorced</td><td style = \"text-align: left;\">M</td><td style = \"text-align: right;\">35860</td><td style = \"text-align: right;\">44829</td><td style = \"text-align: right;\">-51.3547</td></tr><tr><td class = \"rowNumber\" style = \"font-weight: bold; text-align: right;\">3</td><td style = \"text-align: left;\">Married</td><td style = \"text-align: left;\">F</td><td style = \"text-align: right;\">35944</td><td style = \"text-align: right;\">44920</td><td style = \"text-align: right;\">-51.3453</td></tr><tr><td class = \"rowNumber\" style = \"font-weight: bold; text-align: right;\">4</td><td style = \"text-align: left;\">Married</td><td style = \"text-align: left;\">M</td><td style = \"text-align: right;\">24062</td><td style = \"text-align: right;\">30080</td><td style = \"text-align: right;\">-40.9004</td></tr><tr><td class = \"rowNumber\" style = \"font-weight: bold; text-align: right;\">5</td><td style = \"text-align: left;\">Not_married</td><td style = \"text-align: left;\">F</td><td style = \"text-align: right;\">48160</td><td style = \"text-align: right;\">60185</td><td style = \"text-align: right;\">-61.2883</td></tr><tr><td class = \"rowNumber\" style = \"font-weight: bold; text-align: right;\">6</td><td style = \"text-align: left;\">Not_married</td><td style = \"text-align: left;\">M</td><td style = \"text-align: right;\">11983</td><td style = \"text-align: right;\">14980</td><td style = \"text-align: right;\">-28.0883</td></tr><tr><td class = \"rowNumber\" style = \"font-weight: bold; text-align: right;\">7</td><td style = \"text-align: left;\">Widowed</td><td style = \"text-align: left;\">F</td><td style = \"text-align: right;\">12038</td><td style = \"text-align: right;\">15041</td><td style = \"text-align: right;\">-28.0836</td></tr><tr><td class = \"rowNumber\" style = \"font-weight: bold; text-align: right;\">8</td><td style = \"text-align: left;\">Widowed</td><td style = \"text-align: left;\">M</td><td style = \"text-align: right;\">48095</td><td style = \"text-align: right;\">60139</td><td style = \"text-align: right;\">-61.4162</td></tr></tbody></table></div>"
      ],
      "text/latex": [
       "\\begin{tabular}{r|ccccc}\n",
       "\t& MARITAL\\_STATUS & SEX & population & estimated\\_population & Z\\_score\\\\\n",
       "\t\\hline\n",
       "\t& String? & Char & Int64 & Int64? & Float64\\\\\n",
       "\t\\hline\n",
       "\t1 & Divorced & F & 23858 & 29811 & -40.612 \\\\\n",
       "\t2 & Divorced & M & 35860 & 44829 & -51.3547 \\\\\n",
       "\t3 & Married & F & 35944 & 44920 & -51.3453 \\\\\n",
       "\t4 & Married & M & 24062 & 30080 & -40.9004 \\\\\n",
       "\t5 & Not\\_married & F & 48160 & 60185 & -61.2883 \\\\\n",
       "\t6 & Not\\_married & M & 11983 & 14980 & -28.0883 \\\\\n",
       "\t7 & Widowed & F & 12038 & 15041 & -28.0836 \\\\\n",
       "\t8 & Widowed & M & 48095 & 60139 & -61.4162 \\\\\n",
       "\\end{tabular}\n"
      ],
      "text/plain": [
       "\u001b[1m8×5 DataFrame\u001b[0m\n",
       "\u001b[1m Row \u001b[0m│\u001b[1m MARITAL_STATUS \u001b[0m\u001b[1m SEX  \u001b[0m\u001b[1m population \u001b[0m\u001b[1m estimated_population \u001b[0m\u001b[1m Z_score  \u001b[0m\n",
       "     │\u001b[90m String?        \u001b[0m\u001b[90m Char \u001b[0m\u001b[90m Int64      \u001b[0m\u001b[90m Int64?               \u001b[0m\u001b[90m Float64  \u001b[0m\n",
       "─────┼──────────────────────────────────────────────────────────────────\n",
       "   1 │ Divorced        F          23858                 29811  -40.612\n",
       "   2 │ Divorced        M          35860                 44829  -51.3547\n",
       "   3 │ Married         F          35944                 44920  -51.3453\n",
       "   4 │ Married         M          24062                 30080  -40.9004\n",
       "   5 │ Not_married     F          48160                 60185  -61.2883\n",
       "   6 │ Not_married     M          11983                 14980  -28.0883\n",
       "   7 │ Widowed         F          12038                 15041  -28.0836\n",
       "   8 │ Widowed         M          48095                 60139  -61.4162"
      ]
     },
     "metadata": {},
     "output_type": "display_data"
    }
   ],
   "source": [
    "validate_table(ponge_et_al_sex_marital, dependent_sex_marital)"
   ]
  },
  {
   "cell_type": "code",
   "execution_count": 55,
   "metadata": {},
   "outputs": [
    {
     "name": "stdout",
     "output_type": "stream",
     "text": [
      "=================\n",
      "=Cell statistics=\n",
      "=================\n",
      "\n",
      "Percentage of well fitting values at 0.95 confidence interval: 0.0\n",
      "Percentage of well fitting values at 0.90 confidence interval: 0.0\n",
      "\n",
      "\n",
      "==================\n",
      "=Table statistics=\n",
      "==================\n",
      "\n",
      "Statistic value equals: 19826.273896930572\n",
      "Table is not well fitting.\n"
     ]
    },
    {
     "data": {
      "text/html": [
       "<div><div style = \"float: left;\"><span>5×4 DataFrame</span></div><div style = \"clear: both;\"></div></div><div class = \"data-frame\" style = \"overflow-x: scroll;\"><table class = \"data-frame\" style = \"margin-bottom: 6px;\"><thead><tr class = \"header\"><th class = \"rowNumber\" style = \"font-weight: bold; text-align: right;\">Row</th><th style = \"text-align: left;\">INCOME</th><th style = \"text-align: left;\">population</th><th style = \"text-align: left;\">estimated_population</th><th style = \"text-align: left;\">Z_score</th></tr><tr class = \"subheader headerLastRow\"><th class = \"rowNumber\" style = \"font-weight: bold; text-align: right;\"></th><th title = \"Union{Missing, Int64}\" style = \"text-align: left;\">Int64?</th><th title = \"Int64\" style = \"text-align: left;\">Int64</th><th title = \"Union{Missing, Int64}\" style = \"text-align: left;\">Int64?</th><th title = \"Float64\" style = \"text-align: left;\">Float64</th></tr></thead><tbody><tr><td class = \"rowNumber\" style = \"font-weight: bold; text-align: right;\">1</td><td style = \"text-align: right;\">40000</td><td style = \"text-align: right;\">37934</td><td style = \"text-align: right;\">47416</td><td style = \"text-align: right;\">-53.0572</td></tr><tr><td class = \"rowNumber\" style = \"font-weight: bold; text-align: right;\">2</td><td style = \"text-align: right;\">50000</td><td style = \"text-align: right;\">85901</td><td style = \"text-align: right;\">107370</td><td style = \"text-align: right;\">-91.4152</td></tr><tr><td class = \"rowNumber\" style = \"font-weight: bold; text-align: right;\">3</td><td style = \"text-align: right;\">60000</td><td style = \"text-align: right;\">40050</td><td style = \"text-align: right;\">50061</td><td style = \"text-align: right;\">-54.8051</td></tr><tr><td class = \"rowNumber\" style = \"font-weight: bold; text-align: right;\">4</td><td style = \"text-align: right;\">70000</td><td style = \"text-align: right;\">38857</td><td style = \"text-align: right;\">48570</td><td style = \"text-align: right;\">-53.8235</td></tr><tr><td class = \"rowNumber\" style = \"font-weight: bold; text-align: right;\">5</td><td style = \"text-align: right;\">80000</td><td style = \"text-align: right;\">37258</td><td style = \"text-align: right;\">46568</td><td style = \"text-align: right;\">-52.4776</td></tr></tbody></table></div>"
      ],
      "text/latex": [
       "\\begin{tabular}{r|cccc}\n",
       "\t& INCOME & population & estimated\\_population & Z\\_score\\\\\n",
       "\t\\hline\n",
       "\t& Int64? & Int64 & Int64? & Float64\\\\\n",
       "\t\\hline\n",
       "\t1 & 40000 & 37934 & 47416 & -53.0572 \\\\\n",
       "\t2 & 50000 & 85901 & 107370 & -91.4152 \\\\\n",
       "\t3 & 60000 & 40050 & 50061 & -54.8051 \\\\\n",
       "\t4 & 70000 & 38857 & 48570 & -53.8235 \\\\\n",
       "\t5 & 80000 & 37258 & 46568 & -52.4776 \\\\\n",
       "\\end{tabular}\n"
      ],
      "text/plain": [
       "\u001b[1m5×4 DataFrame\u001b[0m\n",
       "\u001b[1m Row \u001b[0m│\u001b[1m INCOME \u001b[0m\u001b[1m population \u001b[0m\u001b[1m estimated_population \u001b[0m\u001b[1m Z_score  \u001b[0m\n",
       "     │\u001b[90m Int64? \u001b[0m\u001b[90m Int64      \u001b[0m\u001b[90m Int64?               \u001b[0m\u001b[90m Float64  \u001b[0m\n",
       "─────┼────────────────────────────────────────────────────\n",
       "   1 │  40000       37934                 47416  -53.0572\n",
       "   2 │  50000       85901                107370  -91.4152\n",
       "   3 │  60000       40050                 50061  -54.8051\n",
       "   4 │  70000       38857                 48570  -53.8235\n",
       "   5 │  80000       37258                 46568  -52.4776"
      ]
     },
     "metadata": {},
     "output_type": "display_data"
    }
   ],
   "source": [
    "validate_table(ponge_et_al_income, dependent_income)"
   ]
  },
  {
   "attachments": {},
   "cell_type": "markdown",
   "metadata": {},
   "source": [
    "#### Modified"
   ]
  },
  {
   "cell_type": "code",
   "execution_count": 46,
   "metadata": {},
   "outputs": [
    {
     "data": {
      "text/plain": [
       "(\u001b[1m32×3 DataFrame\u001b[0m\n",
       "\u001b[1m Row \u001b[0m│\u001b[1m AGE    \u001b[0m\u001b[1m SEX   \u001b[0m\u001b[1m population \u001b[0m\n",
       "     │\u001b[90m Int64? \u001b[0m\u001b[90m Char? \u001b[0m\u001b[90m Int64      \u001b[0m\n",
       "─────┼───────────────────────────\n",
       "   1 │      5  F           10013\n",
       "   2 │      5  M            9996\n",
       "   3 │     10  F            9983\n",
       "   4 │     10  M            9989\n",
       "   5 │     15  F            9966\n",
       "   6 │     15  M           10050\n",
       "   7 │     20  F           15146\n",
       "   8 │     20  M           15187\n",
       "  ⋮  │   ⋮       ⋮        ⋮\n",
       "  26 │     65  M            8250\n",
       "  27 │     70  F            8265\n",
       "  28 │     70  M            8269\n",
       "  29 │     75  F            8065\n",
       "  30 │     75  M            7973\n",
       "  31 │     80  F            8190\n",
       "  32 │     80  M            8147\n",
       "\u001b[36m                  17 rows omitted\u001b[0m, \u001b[1m8×3 DataFrame\u001b[0m\n",
       "\u001b[1m Row \u001b[0m│\u001b[1m MARITAL_STATUS \u001b[0m\u001b[1m SEX   \u001b[0m\u001b[1m population \u001b[0m\n",
       "     │\u001b[90m String?        \u001b[0m\u001b[90m Char? \u001b[0m\u001b[90m Int64      \u001b[0m\n",
       "─────┼───────────────────────────────────\n",
       "   1 │ Divorced        F           23855\n",
       "   2 │ Divorced        M           35853\n",
       "   3 │ Married         F           35945\n",
       "   4 │ Married         M           24058\n",
       "   5 │ Not_married     F           48160\n",
       "   6 │ Not_married     M           11981\n",
       "   7 │ Widowed         F           12035\n",
       "   8 │ Widowed         M           48101, \u001b[1m5×2 DataFrame\u001b[0m\n",
       "\u001b[1m Row \u001b[0m│\u001b[1m INCOME \u001b[0m\u001b[1m population \u001b[0m\n",
       "     │\u001b[90m Int64? \u001b[0m\u001b[90m Int64      \u001b[0m\n",
       "─────┼────────────────────\n",
       "   1 │  40000       40158\n",
       "   2 │  50000       90932\n",
       "   3 │  60000       37545\n",
       "   4 │  70000       36427\n",
       "   5 │  80000       34926)"
      ]
     },
     "metadata": {},
     "output_type": "display_data"
    }
   ],
   "source": [
    "modified_age_sex, modified_sex_marital, modified_income = compute_marginals(modified)"
   ]
  },
  {
   "cell_type": "code",
   "execution_count": 56,
   "metadata": {},
   "outputs": [
    {
     "name": "stdout",
     "output_type": "stream",
     "text": [
      "=================\n",
      "=Cell statistics=\n",
      "=================\n",
      "\n",
      "Percentage of well fitting values at 0.95 confidence interval: 1.0\n",
      "Percentage of well fitting values at 0.90 confidence interval: 1.0\n",
      "\n",
      "\n",
      "==================\n",
      "=Table statistics=\n",
      "==================\n",
      "\n",
      "Statistic value equals: 0.0069684839695416684\n",
      "Table is well fitting at 0.9 and 0.95 confidence interval.\n"
     ]
    },
    {
     "data": {
      "text/html": [
       "<div><div style = \"float: left;\"><span>32×5 DataFrame</span></div><div style = \"float: right;\"><span style = \"font-style: italic;\">7 rows omitted</span></div><div style = \"clear: both;\"></div></div><div class = \"data-frame\" style = \"overflow-x: scroll;\"><table class = \"data-frame\" style = \"margin-bottom: 6px;\"><thead><tr class = \"header\"><th class = \"rowNumber\" style = \"font-weight: bold; text-align: right;\">Row</th><th style = \"text-align: left;\">AGE</th><th style = \"text-align: left;\">SEX</th><th style = \"text-align: left;\">population</th><th style = \"text-align: left;\">estimated_population</th><th style = \"text-align: left;\">Z_score</th></tr><tr class = \"subheader headerLastRow\"><th class = \"rowNumber\" style = \"font-weight: bold; text-align: right;\"></th><th title = \"Int64\" style = \"text-align: left;\">Int64</th><th title = \"Char\" style = \"text-align: left;\">Char</th><th title = \"Int64\" style = \"text-align: left;\">Int64</th><th title = \"Union{Missing, Int64}\" style = \"text-align: left;\">Int64?</th><th title = \"Float64\" style = \"text-align: left;\">Float64</th></tr></thead><tbody><tr><td class = \"rowNumber\" style = \"font-weight: bold; text-align: right;\">1</td><td style = \"text-align: right;\">5</td><td style = \"text-align: left;\">F</td><td style = \"text-align: right;\">10015</td><td style = \"text-align: right;\">10013</td><td style = \"text-align: right;\">0.0203272</td></tr><tr><td class = \"rowNumber\" style = \"font-weight: bold; text-align: right;\">2</td><td style = \"text-align: right;\">5</td><td style = \"text-align: left;\">M</td><td style = \"text-align: right;\">9996</td><td style = \"text-align: right;\">9996</td><td style = \"text-align: right;\">0.0</td></tr><tr><td class = \"rowNumber\" style = \"font-weight: bold; text-align: right;\">3</td><td style = \"text-align: right;\">10</td><td style = \"text-align: left;\">F</td><td style = \"text-align: right;\">9982</td><td style = \"text-align: right;\">9983</td><td style = \"text-align: right;\">-0.0101798</td></tr><tr><td class = \"rowNumber\" style = \"font-weight: bold; text-align: right;\">4</td><td style = \"text-align: right;\">10</td><td style = \"text-align: left;\">M</td><td style = \"text-align: right;\">9990</td><td style = \"text-align: right;\">9989</td><td style = \"text-align: right;\">0.0101759</td></tr><tr><td class = \"rowNumber\" style = \"font-weight: bold; text-align: right;\">5</td><td style = \"text-align: right;\">15</td><td style = \"text-align: left;\">F</td><td style = \"text-align: right;\">9966</td><td style = \"text-align: right;\">9966</td><td style = \"text-align: right;\">0.0</td></tr><tr><td class = \"rowNumber\" style = \"font-weight: bold; text-align: right;\">6</td><td style = \"text-align: right;\">15</td><td style = \"text-align: left;\">M</td><td style = \"text-align: right;\">10051</td><td style = \"text-align: right;\">10050</td><td style = \"text-align: right;\">0.010146</td></tr><tr><td class = \"rowNumber\" style = \"font-weight: bold; text-align: right;\">7</td><td style = \"text-align: right;\">20</td><td style = \"text-align: left;\">F</td><td style = \"text-align: right;\">15146</td><td style = \"text-align: right;\">15146</td><td style = \"text-align: right;\">0.0</td></tr><tr><td class = \"rowNumber\" style = \"font-weight: bold; text-align: right;\">8</td><td style = \"text-align: right;\">20</td><td style = \"text-align: left;\">M</td><td style = \"text-align: right;\">15187</td><td style = \"text-align: right;\">15187</td><td style = \"text-align: right;\">0.0</td></tr><tr><td class = \"rowNumber\" style = \"font-weight: bold; text-align: right;\">9</td><td style = \"text-align: right;\">25</td><td style = \"text-align: left;\">F</td><td style = \"text-align: right;\">14854</td><td style = \"text-align: right;\">14853</td><td style = \"text-align: right;\">0.00841599</td></tr><tr><td class = \"rowNumber\" style = \"font-weight: bold; text-align: right;\">10</td><td style = \"text-align: right;\">25</td><td style = \"text-align: left;\">M</td><td style = \"text-align: right;\">14813</td><td style = \"text-align: right;\">14813</td><td style = \"text-align: right;\">0.0</td></tr><tr><td class = \"rowNumber\" style = \"font-weight: bold; text-align: right;\">11</td><td style = \"text-align: right;\">30</td><td style = \"text-align: left;\">F</td><td style = \"text-align: right;\">7989</td><td style = \"text-align: right;\">7986</td><td style = \"text-align: right;\">0.0340201</td></tr><tr><td class = \"rowNumber\" style = \"font-weight: bold; text-align: right;\">12</td><td style = \"text-align: right;\">30</td><td style = \"text-align: left;\">M</td><td style = \"text-align: right;\">8225</td><td style = \"text-align: right;\">8224</td><td style = \"text-align: right;\">0.0111807</td></tr><tr><td class = \"rowNumber\" style = \"font-weight: bold; text-align: right;\">13</td><td style = \"text-align: right;\">35</td><td style = \"text-align: left;\">F</td><td style = \"text-align: right;\">8293</td><td style = \"text-align: right;\">8296</td><td style = \"text-align: right;\">-0.0334082</td></tr><tr><td style = \"text-align: right;\">&vellip;</td><td style = \"text-align: right;\">&vellip;</td><td style = \"text-align: right;\">&vellip;</td><td style = \"text-align: right;\">&vellip;</td><td style = \"text-align: right;\">&vellip;</td><td style = \"text-align: right;\">&vellip;</td></tr><tr><td class = \"rowNumber\" style = \"font-weight: bold; text-align: right;\">21</td><td style = \"text-align: right;\">55</td><td style = \"text-align: left;\">F</td><td style = \"text-align: right;\">8235</td><td style = \"text-align: right;\">8234</td><td style = \"text-align: right;\">0.0111741</td></tr><tr><td class = \"rowNumber\" style = \"font-weight: bold; text-align: right;\">22</td><td style = \"text-align: right;\">55</td><td style = \"text-align: left;\">M</td><td style = \"text-align: right;\">8234</td><td style = \"text-align: right;\">8231</td><td style = \"text-align: right;\">0.0335243</td></tr><tr><td class = \"rowNumber\" style = \"font-weight: bold; text-align: right;\">23</td><td style = \"text-align: right;\">60</td><td style = \"text-align: left;\">F</td><td style = \"text-align: right;\">8032</td><td style = \"text-align: right;\">8033</td><td style = \"text-align: right;\">-0.0113105</td></tr><tr><td class = \"rowNumber\" style = \"font-weight: bold; text-align: right;\">24</td><td style = \"text-align: right;\">60</td><td style = \"text-align: left;\">M</td><td style = \"text-align: right;\">8056</td><td style = \"text-align: right;\">8054</td><td style = \"text-align: right;\">0.0225882</td></tr><tr><td class = \"rowNumber\" style = \"font-weight: bold; text-align: right;\">25</td><td style = \"text-align: right;\">65</td><td style = \"text-align: left;\">F</td><td style = \"text-align: right;\">8201</td><td style = \"text-align: right;\">8201</td><td style = \"text-align: right;\">0.0</td></tr><tr><td class = \"rowNumber\" style = \"font-weight: bold; text-align: right;\">26</td><td style = \"text-align: right;\">65</td><td style = \"text-align: left;\">M</td><td style = \"text-align: right;\">8248</td><td style = \"text-align: right;\">8250</td><td style = \"text-align: right;\">-0.0223311</td></tr><tr><td class = \"rowNumber\" style = \"font-weight: bold; text-align: right;\">27</td><td style = \"text-align: right;\">70</td><td style = \"text-align: left;\">F</td><td style = \"text-align: right;\">8266</td><td style = \"text-align: right;\">8265</td><td style = \"text-align: right;\">0.0111537</td></tr><tr><td class = \"rowNumber\" style = \"font-weight: bold; text-align: right;\">28</td><td style = \"text-align: right;\">70</td><td style = \"text-align: left;\">M</td><td style = \"text-align: right;\">8269</td><td style = \"text-align: right;\">8269</td><td style = \"text-align: right;\">0.0</td></tr><tr><td class = \"rowNumber\" style = \"font-weight: bold; text-align: right;\">29</td><td style = \"text-align: right;\">75</td><td style = \"text-align: left;\">F</td><td style = \"text-align: right;\">8065</td><td style = \"text-align: right;\">8065</td><td style = \"text-align: right;\">0.0</td></tr><tr><td class = \"rowNumber\" style = \"font-weight: bold; text-align: right;\">30</td><td style = \"text-align: right;\">75</td><td style = \"text-align: left;\">M</td><td style = \"text-align: right;\">7975</td><td style = \"text-align: right;\">7973</td><td style = \"text-align: right;\">0.0226994</td></tr><tr><td class = \"rowNumber\" style = \"font-weight: bold; text-align: right;\">31</td><td style = \"text-align: right;\">80</td><td style = \"text-align: left;\">F</td><td style = \"text-align: right;\">8190</td><td style = \"text-align: right;\">8190</td><td style = \"text-align: right;\">0.0</td></tr><tr><td class = \"rowNumber\" style = \"font-weight: bold; text-align: right;\">32</td><td style = \"text-align: right;\">80</td><td style = \"text-align: left;\">M</td><td style = \"text-align: right;\">8146</td><td style = \"text-align: right;\">8147</td><td style = \"text-align: right;\">-0.0112333</td></tr></tbody></table></div>"
      ],
      "text/latex": [
       "\\begin{tabular}{r|ccccc}\n",
       "\t& AGE & SEX & population & estimated\\_population & Z\\_score\\\\\n",
       "\t\\hline\n",
       "\t& Int64 & Char & Int64 & Int64? & Float64\\\\\n",
       "\t\\hline\n",
       "\t1 & 5 & F & 10015 & 10013 & 0.0203272 \\\\\n",
       "\t2 & 5 & M & 9996 & 9996 & 0.0 \\\\\n",
       "\t3 & 10 & F & 9982 & 9983 & -0.0101798 \\\\\n",
       "\t4 & 10 & M & 9990 & 9989 & 0.0101759 \\\\\n",
       "\t5 & 15 & F & 9966 & 9966 & 0.0 \\\\\n",
       "\t6 & 15 & M & 10051 & 10050 & 0.010146 \\\\\n",
       "\t7 & 20 & F & 15146 & 15146 & 0.0 \\\\\n",
       "\t8 & 20 & M & 15187 & 15187 & 0.0 \\\\\n",
       "\t9 & 25 & F & 14854 & 14853 & 0.00841599 \\\\\n",
       "\t10 & 25 & M & 14813 & 14813 & 0.0 \\\\\n",
       "\t11 & 30 & F & 7989 & 7986 & 0.0340201 \\\\\n",
       "\t12 & 30 & M & 8225 & 8224 & 0.0111807 \\\\\n",
       "\t13 & 35 & F & 8293 & 8296 & -0.0334082 \\\\\n",
       "\t14 & 35 & M & 8250 & 8250 & 0.0 \\\\\n",
       "\t15 & 40 & F & 8114 & 8113 & 0.0112548 \\\\\n",
       "\t16 & 40 & M & 8281 & 8280 & 0.0111439 \\\\\n",
       "\t17 & 45 & F & 8340 & 8339 & 0.0111055 \\\\\n",
       "\t18 & 45 & M & 8160 & 8159 & 0.0112239 \\\\\n",
       "\t19 & 50 & F & 8275 & 8274 & 0.0111478 \\\\\n",
       "\t20 & 50 & M & 8156 & 8156 & 0.0 \\\\\n",
       "\t21 & 55 & F & 8235 & 8234 & 0.0111741 \\\\\n",
       "\t22 & 55 & M & 8234 & 8231 & 0.0335243 \\\\\n",
       "\t23 & 60 & F & 8032 & 8033 & -0.0113105 \\\\\n",
       "\t24 & 60 & M & 8056 & 8054 & 0.0225882 \\\\\n",
       "\t$\\dots$ & $\\dots$ & $\\dots$ & $\\dots$ & $\\dots$ & $\\dots$ \\\\\n",
       "\\end{tabular}\n"
      ],
      "text/plain": [
       "\u001b[1m32×5 DataFrame\u001b[0m\n",
       "\u001b[1m Row \u001b[0m│\u001b[1m AGE   \u001b[0m\u001b[1m SEX  \u001b[0m\u001b[1m population \u001b[0m\u001b[1m estimated_population \u001b[0m\u001b[1m Z_score     \u001b[0m\n",
       "     │\u001b[90m Int64 \u001b[0m\u001b[90m Char \u001b[0m\u001b[90m Int64      \u001b[0m\u001b[90m Int64?               \u001b[0m\u001b[90m Float64     \u001b[0m\n",
       "─────┼────────────────────────────────────────────────────────────\n",
       "   1 │     5  F          10015                 10013   0.0203272\n",
       "   2 │     5  M           9996                  9996   0.0\n",
       "   3 │    10  F           9982                  9983  -0.0101798\n",
       "   4 │    10  M           9990                  9989   0.0101759\n",
       "   5 │    15  F           9966                  9966   0.0\n",
       "   6 │    15  M          10051                 10050   0.010146\n",
       "   7 │    20  F          15146                 15146   0.0\n",
       "   8 │    20  M          15187                 15187   0.0\n",
       "  ⋮  │   ⋮     ⋮        ⋮                ⋮                 ⋮\n",
       "  26 │    65  M           8248                  8250  -0.0223311\n",
       "  27 │    70  F           8266                  8265   0.0111537\n",
       "  28 │    70  M           8269                  8269   0.0\n",
       "  29 │    75  F           8065                  8065   0.0\n",
       "  30 │    75  M           7975                  7973   0.0226994\n",
       "  31 │    80  F           8190                  8190   0.0\n",
       "  32 │    80  M           8146                  8147  -0.0112333\n",
       "\u001b[36m                                                   17 rows omitted\u001b[0m"
      ]
     },
     "metadata": {},
     "output_type": "display_data"
    }
   ],
   "source": [
    "validate_table(modified_age_sex, dependent_age_sex)"
   ]
  },
  {
   "cell_type": "code",
   "execution_count": 57,
   "metadata": {},
   "outputs": [
    {
     "name": "stdout",
     "output_type": "stream",
     "text": [
      "=================\n",
      "=Cell statistics=\n",
      "=================\n",
      "\n",
      "Percentage of well fitting values at 0.95 confidence interval: 1.0\n",
      "Percentage of well fitting values at 0.90 confidence interval: 1.0\n",
      "\n",
      "\n",
      "==================\n",
      "=Table statistics=\n",
      "==================\n",
      "\n",
      "Statistic value equals: 0.004871666395114081\n",
      "Table is well fitting at 0.9 and 0.95 confidence interval.\n"
     ]
    },
    {
     "data": {
      "text/html": [
       "<div><div style = \"float: left;\"><span>8×5 DataFrame</span></div><div style = \"clear: both;\"></div></div><div class = \"data-frame\" style = \"overflow-x: scroll;\"><table class = \"data-frame\" style = \"margin-bottom: 6px;\"><thead><tr class = \"header\"><th class = \"rowNumber\" style = \"font-weight: bold; text-align: right;\">Row</th><th style = \"text-align: left;\">MARITAL_STATUS</th><th style = \"text-align: left;\">SEX</th><th style = \"text-align: left;\">population</th><th style = \"text-align: left;\">estimated_population</th><th style = \"text-align: left;\">Z_score</th></tr><tr class = \"subheader headerLastRow\"><th class = \"rowNumber\" style = \"font-weight: bold; text-align: right;\"></th><th title = \"Union{Missing, String}\" style = \"text-align: left;\">String?</th><th title = \"Char\" style = \"text-align: left;\">Char</th><th title = \"Int64\" style = \"text-align: left;\">Int64</th><th title = \"Union{Missing, Int64}\" style = \"text-align: left;\">Int64?</th><th title = \"Float64\" style = \"text-align: left;\">Float64</th></tr></thead><tbody><tr><td class = \"rowNumber\" style = \"font-weight: bold; text-align: right;\">1</td><td style = \"text-align: left;\">Divorced</td><td style = \"text-align: left;\">F</td><td style = \"text-align: right;\">23858</td><td style = \"text-align: right;\">23855</td><td style = \"text-align: right;\">0.0204663</td></tr><tr><td class = \"rowNumber\" style = \"font-weight: bold; text-align: right;\">2</td><td style = \"text-align: left;\">Divorced</td><td style = \"text-align: left;\">M</td><td style = \"text-align: right;\">35860</td><td style = \"text-align: right;\">35853</td><td style = \"text-align: right;\">0.0400806</td></tr><tr><td class = \"rowNumber\" style = \"font-weight: bold; text-align: right;\">3</td><td style = \"text-align: left;\">Married</td><td style = \"text-align: left;\">F</td><td style = \"text-align: right;\">35944</td><td style = \"text-align: right;\">35945</td><td style = \"text-align: right;\">-0.00572029</td></tr><tr><td class = \"rowNumber\" style = \"font-weight: bold; text-align: right;\">4</td><td style = \"text-align: left;\">Married</td><td style = \"text-align: left;\">M</td><td style = \"text-align: right;\">24062</td><td style = \"text-align: right;\">24058</td><td style = \"text-align: right;\">0.0271854</td></tr><tr><td class = \"rowNumber\" style = \"font-weight: bold; text-align: right;\">5</td><td style = \"text-align: left;\">Not_married</td><td style = \"text-align: left;\">F</td><td style = \"text-align: right;\">48160</td><td style = \"text-align: right;\">48160</td><td style = \"text-align: right;\">0.0</td></tr><tr><td class = \"rowNumber\" style = \"font-weight: bold; text-align: right;\">6</td><td style = \"text-align: left;\">Not_married</td><td style = \"text-align: left;\">M</td><td style = \"text-align: right;\">11983</td><td style = \"text-align: right;\">11981</td><td style = \"text-align: right;\">0.0187443</td></tr><tr><td class = \"rowNumber\" style = \"font-weight: bold; text-align: right;\">7</td><td style = \"text-align: left;\">Widowed</td><td style = \"text-align: left;\">F</td><td style = \"text-align: right;\">12038</td><td style = \"text-align: right;\">12035</td><td style = \"text-align: right;\">0.0280555</td></tr><tr><td class = \"rowNumber\" style = \"font-weight: bold; text-align: right;\">8</td><td style = \"text-align: left;\">Widowed</td><td style = \"text-align: left;\">M</td><td style = \"text-align: right;\">48095</td><td style = \"text-align: right;\">48101</td><td style = \"text-align: right;\">-0.0305959</td></tr></tbody></table></div>"
      ],
      "text/latex": [
       "\\begin{tabular}{r|ccccc}\n",
       "\t& MARITAL\\_STATUS & SEX & population & estimated\\_population & Z\\_score\\\\\n",
       "\t\\hline\n",
       "\t& String? & Char & Int64 & Int64? & Float64\\\\\n",
       "\t\\hline\n",
       "\t1 & Divorced & F & 23858 & 23855 & 0.0204663 \\\\\n",
       "\t2 & Divorced & M & 35860 & 35853 & 0.0400806 \\\\\n",
       "\t3 & Married & F & 35944 & 35945 & -0.00572029 \\\\\n",
       "\t4 & Married & M & 24062 & 24058 & 0.0271854 \\\\\n",
       "\t5 & Not\\_married & F & 48160 & 48160 & 0.0 \\\\\n",
       "\t6 & Not\\_married & M & 11983 & 11981 & 0.0187443 \\\\\n",
       "\t7 & Widowed & F & 12038 & 12035 & 0.0280555 \\\\\n",
       "\t8 & Widowed & M & 48095 & 48101 & -0.0305959 \\\\\n",
       "\\end{tabular}\n"
      ],
      "text/plain": [
       "\u001b[1m8×5 DataFrame\u001b[0m\n",
       "\u001b[1m Row \u001b[0m│\u001b[1m MARITAL_STATUS \u001b[0m\u001b[1m SEX  \u001b[0m\u001b[1m population \u001b[0m\u001b[1m estimated_population \u001b[0m\u001b[1m Z_score     \u001b[0m\n",
       "     │\u001b[90m String?        \u001b[0m\u001b[90m Char \u001b[0m\u001b[90m Int64      \u001b[0m\u001b[90m Int64?               \u001b[0m\u001b[90m Float64     \u001b[0m\n",
       "─────┼─────────────────────────────────────────────────────────────────────\n",
       "   1 │ Divorced        F          23858                 23855   0.0204663\n",
       "   2 │ Divorced        M          35860                 35853   0.0400806\n",
       "   3 │ Married         F          35944                 35945  -0.00572029\n",
       "   4 │ Married         M          24062                 24058   0.0271854\n",
       "   5 │ Not_married     F          48160                 48160   0.0\n",
       "   6 │ Not_married     M          11983                 11981   0.0187443\n",
       "   7 │ Widowed         F          12038                 12035   0.0280555\n",
       "   8 │ Widowed         M          48095                 48101  -0.0305959"
      ]
     },
     "metadata": {},
     "output_type": "display_data"
    }
   ],
   "source": [
    "validate_table(modified_sex_marital, dependent_sex_marital)"
   ]
  },
  {
   "cell_type": "code",
   "execution_count": 58,
   "metadata": {},
   "outputs": [
    {
     "name": "stdout",
     "output_type": "stream",
     "text": [
      "=================\n",
      "=Cell statistics=\n",
      "=================\n",
      "\n",
      "Percentage of well fitting values at 0.95 confidence interval: 0.0\n",
      "Percentage of well fitting values at 0.90 confidence interval: 0.0\n",
      "\n",
      "\n",
      "==================\n",
      "=Table statistics=\n",
      "==================\n",
      "\n",
      "Statistic value equals: 1155.939990205556\n",
      "Table is not well fitting.\n"
     ]
    },
    {
     "data": {
      "text/html": [
       "<div><div style = \"float: left;\"><span>5×4 DataFrame</span></div><div style = \"clear: both;\"></div></div><div class = \"data-frame\" style = \"overflow-x: scroll;\"><table class = \"data-frame\" style = \"margin-bottom: 6px;\"><thead><tr class = \"header\"><th class = \"rowNumber\" style = \"font-weight: bold; text-align: right;\">Row</th><th style = \"text-align: left;\">INCOME</th><th style = \"text-align: left;\">population</th><th style = \"text-align: left;\">estimated_population</th><th style = \"text-align: left;\">Z_score</th></tr><tr class = \"subheader headerLastRow\"><th class = \"rowNumber\" style = \"font-weight: bold; text-align: right;\"></th><th title = \"Union{Missing, Int64}\" style = \"text-align: left;\">Int64?</th><th title = \"Int64\" style = \"text-align: left;\">Int64</th><th title = \"Union{Missing, Int64}\" style = \"text-align: left;\">Int64?</th><th title = \"Float64\" style = \"text-align: left;\">Float64</th></tr></thead><tbody><tr><td class = \"rowNumber\" style = \"font-weight: bold; text-align: right;\">1</td><td style = \"text-align: right;\">40000</td><td style = \"text-align: right;\">37934</td><td style = \"text-align: right;\">40158</td><td style = \"text-align: right;\">-12.4446</td></tr><tr><td class = \"rowNumber\" style = \"font-weight: bold; text-align: right;\">2</td><td style = \"text-align: right;\">50000</td><td style = \"text-align: right;\">85901</td><td style = \"text-align: right;\">90932</td><td style = \"text-align: right;\">-21.422</td></tr><tr><td class = \"rowNumber\" style = \"font-weight: bold; text-align: right;\">3</td><td style = \"text-align: right;\">60000</td><td style = \"text-align: right;\">40050</td><td style = \"text-align: right;\">37545</td><td style = \"text-align: right;\">13.7136</td></tr><tr><td class = \"rowNumber\" style = \"font-weight: bold; text-align: right;\">4</td><td style = \"text-align: right;\">70000</td><td style = \"text-align: right;\">38857</td><td style = \"text-align: right;\">36427</td><td style = \"text-align: right;\">13.4656</td></tr><tr><td class = \"rowNumber\" style = \"font-weight: bold; text-align: right;\">5</td><td style = \"text-align: right;\">80000</td><td style = \"text-align: right;\">37258</td><td style = \"text-align: right;\">34926</td><td style = \"text-align: right;\">13.1448</td></tr></tbody></table></div>"
      ],
      "text/latex": [
       "\\begin{tabular}{r|cccc}\n",
       "\t& INCOME & population & estimated\\_population & Z\\_score\\\\\n",
       "\t\\hline\n",
       "\t& Int64? & Int64 & Int64? & Float64\\\\\n",
       "\t\\hline\n",
       "\t1 & 40000 & 37934 & 40158 & -12.4446 \\\\\n",
       "\t2 & 50000 & 85901 & 90932 & -21.422 \\\\\n",
       "\t3 & 60000 & 40050 & 37545 & 13.7136 \\\\\n",
       "\t4 & 70000 & 38857 & 36427 & 13.4656 \\\\\n",
       "\t5 & 80000 & 37258 & 34926 & 13.1448 \\\\\n",
       "\\end{tabular}\n"
      ],
      "text/plain": [
       "\u001b[1m5×4 DataFrame\u001b[0m\n",
       "\u001b[1m Row \u001b[0m│\u001b[1m INCOME \u001b[0m\u001b[1m population \u001b[0m\u001b[1m estimated_population \u001b[0m\u001b[1m Z_score  \u001b[0m\n",
       "     │\u001b[90m Int64? \u001b[0m\u001b[90m Int64      \u001b[0m\u001b[90m Int64?               \u001b[0m\u001b[90m Float64  \u001b[0m\n",
       "─────┼────────────────────────────────────────────────────\n",
       "   1 │  40000       37934                 40158  -12.4446\n",
       "   2 │  50000       85901                 90932  -21.422\n",
       "   3 │  60000       40050                 37545   13.7136\n",
       "   4 │  70000       38857                 36427   13.4656\n",
       "   5 │  80000       37258                 34926   13.1448"
      ]
     },
     "metadata": {},
     "output_type": "display_data"
    }
   ],
   "source": [
    "validate_table(modified_income, dependent_income)"
   ]
  }
 ],
 "metadata": {
  "kernelspec": {
   "display_name": "Julia 1.8.5",
   "language": "julia",
   "name": "julia-1.8"
  },
  "language_info": {
   "file_extension": ".jl",
   "mimetype": "application/julia",
   "name": "julia",
   "version": "1.8.5"
  }
 },
 "nbformat": 4,
 "nbformat_minor": 2
}
