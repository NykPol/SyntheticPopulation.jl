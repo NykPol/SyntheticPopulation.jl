{
 "cells": [
  {
   "cell_type": "code",
   "execution_count": 231,
   "metadata": {},
   "outputs": [
    {
     "name": "stderr",
     "output_type": "stream",
     "text": [
      "WARNING: replacing module SyntheticPopulation.\n"
     ]
    }
   ],
   "source": [
    "include(\"../src/SyntheticPopulation.jl\")\n",
    "include(\"utils.jl\")\n",
    "using .SyntheticPopulation\n",
    "using DataFrames\n",
    "using StatsBase"
   ]
  },
  {
   "attachments": {},
   "cell_type": "markdown",
   "metadata": {},
   "source": [
    "# Summary:\n",
    "Sample-free IPF algorithm is well suited for creating joint distributions of the attributes that are independent."
   ]
  },
  {
   "attachments": {},
   "cell_type": "markdown",
   "metadata": {},
   "source": [
    "# 1. Population with independent variables"
   ]
  },
  {
   "attachments": {},
   "cell_type": "markdown",
   "metadata": {},
   "source": [
    "### 1.1. Generate target population with independent variables\n",
    "First we generate target population that we'll try to synthesize using available algorithms. All variables are independent."
   ]
  },
  {
   "cell_type": "code",
   "execution_count": 232,
   "metadata": {
    "scrolled": false
   },
   "outputs": [
    {
     "data": {
      "text/html": [
       "<div><div style = \"float: left;\"><span>526×5 DataFrame</span></div><div style = \"float: right;\"><span style = \"font-style: italic;\">501 rows omitted</span></div><div style = \"clear: both;\"></div></div><div class = \"data-frame\" style = \"overflow-x: scroll;\"><table class = \"data-frame\" style = \"margin-bottom: 6px;\"><thead><tr class = \"header\"><th class = \"rowNumber\" style = \"font-weight: bold; text-align: right;\">Row</th><th style = \"text-align: left;\">AGE</th><th style = \"text-align: left;\">MARITAL_STATUS</th><th style = \"text-align: left;\">SEX</th><th style = \"text-align: left;\">INCOME</th><th style = \"text-align: left;\">population</th></tr><tr class = \"subheader headerLastRow\"><th class = \"rowNumber\" style = \"font-weight: bold; text-align: right;\"></th><th title = \"Int64\" style = \"text-align: left;\">Int64</th><th title = \"Union{Missing, String}\" style = \"text-align: left;\">String?</th><th title = \"Char\" style = \"text-align: left;\">Char</th><th title = \"Union{Missing, Int64}\" style = \"text-align: left;\">Int64?</th><th title = \"Int64\" style = \"text-align: left;\">Int64</th></tr></thead><tbody><tr><td class = \"rowNumber\" style = \"font-weight: bold; text-align: right;\">1</td><td style = \"text-align: right;\">5</td><td style = \"font-style: italic; text-align: left;\">missing</td><td style = \"text-align: left;\">F</td><td style = \"font-style: italic; text-align: right;\">missing</td><td style = \"text-align: right;\">9992</td></tr><tr><td class = \"rowNumber\" style = \"font-weight: bold; text-align: right;\">2</td><td style = \"text-align: right;\">5</td><td style = \"font-style: italic; text-align: left;\">missing</td><td style = \"text-align: left;\">M</td><td style = \"font-style: italic; text-align: right;\">missing</td><td style = \"text-align: right;\">9944</td></tr><tr><td class = \"rowNumber\" style = \"font-weight: bold; text-align: right;\">3</td><td style = \"text-align: right;\">10</td><td style = \"font-style: italic; text-align: left;\">missing</td><td style = \"text-align: left;\">F</td><td style = \"font-style: italic; text-align: right;\">missing</td><td style = \"text-align: right;\">9970</td></tr><tr><td class = \"rowNumber\" style = \"font-weight: bold; text-align: right;\">4</td><td style = \"text-align: right;\">10</td><td style = \"font-style: italic; text-align: left;\">missing</td><td style = \"text-align: left;\">M</td><td style = \"font-style: italic; text-align: right;\">missing</td><td style = \"text-align: right;\">10021</td></tr><tr><td class = \"rowNumber\" style = \"font-weight: bold; text-align: right;\">5</td><td style = \"text-align: right;\">15</td><td style = \"font-style: italic; text-align: left;\">missing</td><td style = \"text-align: left;\">F</td><td style = \"font-style: italic; text-align: right;\">missing</td><td style = \"text-align: right;\">9974</td></tr><tr><td class = \"rowNumber\" style = \"font-weight: bold; text-align: right;\">6</td><td style = \"text-align: right;\">15</td><td style = \"font-style: italic; text-align: left;\">missing</td><td style = \"text-align: left;\">M</td><td style = \"font-style: italic; text-align: right;\">missing</td><td style = \"text-align: right;\">10099</td></tr><tr><td class = \"rowNumber\" style = \"font-weight: bold; text-align: right;\">7</td><td style = \"text-align: right;\">20</td><td style = \"text-align: left;\">Divorced</td><td style = \"text-align: left;\">F</td><td style = \"text-align: right;\">40000</td><td style = \"text-align: right;\">734</td></tr><tr><td class = \"rowNumber\" style = \"font-weight: bold; text-align: right;\">8</td><td style = \"text-align: right;\">20</td><td style = \"text-align: left;\">Divorced</td><td style = \"text-align: left;\">F</td><td style = \"text-align: right;\">50000</td><td style = \"text-align: right;\">737</td></tr><tr><td class = \"rowNumber\" style = \"font-weight: bold; text-align: right;\">9</td><td style = \"text-align: right;\">20</td><td style = \"text-align: left;\">Divorced</td><td style = \"text-align: left;\">M</td><td style = \"text-align: right;\">40000</td><td style = \"text-align: right;\">762</td></tr><tr><td class = \"rowNumber\" style = \"font-weight: bold; text-align: right;\">10</td><td style = \"text-align: right;\">20</td><td style = \"text-align: left;\">Divorced</td><td style = \"text-align: left;\">M</td><td style = \"text-align: right;\">50000</td><td style = \"text-align: right;\">761</td></tr><tr><td class = \"rowNumber\" style = \"font-weight: bold; text-align: right;\">11</td><td style = \"text-align: right;\">20</td><td style = \"text-align: left;\">Married</td><td style = \"text-align: left;\">F</td><td style = \"text-align: right;\">40000</td><td style = \"text-align: right;\">3668</td></tr><tr><td class = \"rowNumber\" style = \"font-weight: bold; text-align: right;\">12</td><td style = \"text-align: right;\">20</td><td style = \"text-align: left;\">Married</td><td style = \"text-align: left;\">F</td><td style = \"text-align: right;\">50000</td><td style = \"text-align: right;\">3759</td></tr><tr><td class = \"rowNumber\" style = \"font-weight: bold; text-align: right;\">13</td><td style = \"text-align: right;\">20</td><td style = \"text-align: left;\">Married</td><td style = \"text-align: left;\">M</td><td style = \"text-align: right;\">40000</td><td style = \"text-align: right;\">3797</td></tr><tr><td style = \"text-align: right;\">&vellip;</td><td style = \"text-align: right;\">&vellip;</td><td style = \"text-align: right;\">&vellip;</td><td style = \"text-align: right;\">&vellip;</td><td style = \"text-align: right;\">&vellip;</td><td style = \"text-align: right;\">&vellip;</td></tr><tr><td class = \"rowNumber\" style = \"font-weight: bold; text-align: right;\">515</td><td style = \"text-align: right;\">20</td><td style = \"text-align: left;\">Divorced</td><td style = \"text-align: left;\">M</td><td style = \"text-align: right;\">80000</td><td style = \"text-align: right;\">0</td></tr><tr><td class = \"rowNumber\" style = \"font-weight: bold; text-align: right;\">516</td><td style = \"text-align: right;\">25</td><td style = \"text-align: left;\">Divorced</td><td style = \"text-align: left;\">M</td><td style = \"text-align: right;\">80000</td><td style = \"text-align: right;\">0</td></tr><tr><td class = \"rowNumber\" style = \"font-weight: bold; text-align: right;\">517</td><td style = \"text-align: right;\">20</td><td style = \"text-align: left;\">Widowed</td><td style = \"text-align: left;\">M</td><td style = \"text-align: right;\">80000</td><td style = \"text-align: right;\">0</td></tr><tr><td class = \"rowNumber\" style = \"font-weight: bold; text-align: right;\">518</td><td style = \"text-align: right;\">25</td><td style = \"text-align: left;\">Widowed</td><td style = \"text-align: left;\">M</td><td style = \"text-align: right;\">80000</td><td style = \"text-align: right;\">0</td></tr><tr><td class = \"rowNumber\" style = \"font-weight: bold; text-align: right;\">519</td><td style = \"text-align: right;\">20</td><td style = \"text-align: left;\">Not_married</td><td style = \"text-align: left;\">F</td><td style = \"text-align: right;\">80000</td><td style = \"text-align: right;\">0</td></tr><tr><td class = \"rowNumber\" style = \"font-weight: bold; text-align: right;\">520</td><td style = \"text-align: right;\">25</td><td style = \"text-align: left;\">Not_married</td><td style = \"text-align: left;\">F</td><td style = \"text-align: right;\">80000</td><td style = \"text-align: right;\">0</td></tr><tr><td class = \"rowNumber\" style = \"font-weight: bold; text-align: right;\">521</td><td style = \"text-align: right;\">20</td><td style = \"text-align: left;\">Married</td><td style = \"text-align: left;\">F</td><td style = \"text-align: right;\">80000</td><td style = \"text-align: right;\">0</td></tr><tr><td class = \"rowNumber\" style = \"font-weight: bold; text-align: right;\">522</td><td style = \"text-align: right;\">25</td><td style = \"text-align: left;\">Married</td><td style = \"text-align: left;\">F</td><td style = \"text-align: right;\">80000</td><td style = \"text-align: right;\">0</td></tr><tr><td class = \"rowNumber\" style = \"font-weight: bold; text-align: right;\">523</td><td style = \"text-align: right;\">20</td><td style = \"text-align: left;\">Divorced</td><td style = \"text-align: left;\">F</td><td style = \"text-align: right;\">80000</td><td style = \"text-align: right;\">0</td></tr><tr><td class = \"rowNumber\" style = \"font-weight: bold; text-align: right;\">524</td><td style = \"text-align: right;\">25</td><td style = \"text-align: left;\">Divorced</td><td style = \"text-align: left;\">F</td><td style = \"text-align: right;\">80000</td><td style = \"text-align: right;\">0</td></tr><tr><td class = \"rowNumber\" style = \"font-weight: bold; text-align: right;\">525</td><td style = \"text-align: right;\">20</td><td style = \"text-align: left;\">Widowed</td><td style = \"text-align: left;\">F</td><td style = \"text-align: right;\">80000</td><td style = \"text-align: right;\">0</td></tr><tr><td class = \"rowNumber\" style = \"font-weight: bold; text-align: right;\">526</td><td style = \"text-align: right;\">25</td><td style = \"text-align: left;\">Widowed</td><td style = \"text-align: left;\">F</td><td style = \"text-align: right;\">80000</td><td style = \"text-align: right;\">0</td></tr></tbody></table></div>"
      ],
      "text/latex": [
       "\\begin{tabular}{r|ccccc}\n",
       "\t& AGE & MARITAL\\_STATUS & SEX & INCOME & population\\\\\n",
       "\t\\hline\n",
       "\t& Int64 & String? & Char & Int64? & Int64\\\\\n",
       "\t\\hline\n",
       "\t1 & 5 & \\emph{missing} & F & \\emph{missing} & 9992 \\\\\n",
       "\t2 & 5 & \\emph{missing} & M & \\emph{missing} & 9944 \\\\\n",
       "\t3 & 10 & \\emph{missing} & F & \\emph{missing} & 9970 \\\\\n",
       "\t4 & 10 & \\emph{missing} & M & \\emph{missing} & 10021 \\\\\n",
       "\t5 & 15 & \\emph{missing} & F & \\emph{missing} & 9974 \\\\\n",
       "\t6 & 15 & \\emph{missing} & M & \\emph{missing} & 10099 \\\\\n",
       "\t7 & 20 & Divorced & F & 40000 & 734 \\\\\n",
       "\t8 & 20 & Divorced & F & 50000 & 737 \\\\\n",
       "\t9 & 20 & Divorced & M & 40000 & 762 \\\\\n",
       "\t10 & 20 & Divorced & M & 50000 & 761 \\\\\n",
       "\t11 & 20 & Married & F & 40000 & 3668 \\\\\n",
       "\t12 & 20 & Married & F & 50000 & 3759 \\\\\n",
       "\t13 & 20 & Married & M & 40000 & 3797 \\\\\n",
       "\t14 & 20 & Married & M & 50000 & 3707 \\\\\n",
       "\t15 & 20 & Not\\_married & F & 40000 & 2337 \\\\\n",
       "\t16 & 20 & Not\\_married & F & 50000 & 2178 \\\\\n",
       "\t17 & 20 & Not\\_married & M & 40000 & 2223 \\\\\n",
       "\t18 & 20 & Not\\_married & M & 50000 & 2161 \\\\\n",
       "\t19 & 20 & Widowed & F & 40000 & 844 \\\\\n",
       "\t20 & 20 & Widowed & F & 50000 & 768 \\\\\n",
       "\t21 & 20 & Widowed & M & 40000 & 768 \\\\\n",
       "\t22 & 20 & Widowed & M & 50000 & 759 \\\\\n",
       "\t23 & 25 & Divorced & F & 40000 & 765 \\\\\n",
       "\t24 & 25 & Divorced & F & 50000 & 719 \\\\\n",
       "\t$\\dots$ & $\\dots$ & $\\dots$ & $\\dots$ & $\\dots$ & $\\dots$ \\\\\n",
       "\\end{tabular}\n"
      ],
      "text/plain": [
       "\u001b[1m526×5 DataFrame\u001b[0m\n",
       "\u001b[1m Row \u001b[0m│\u001b[1m AGE   \u001b[0m\u001b[1m MARITAL_STATUS \u001b[0m\u001b[1m SEX  \u001b[0m\u001b[1m INCOME  \u001b[0m\u001b[1m population \u001b[0m\n",
       "     │\u001b[90m Int64 \u001b[0m\u001b[90m String?        \u001b[0m\u001b[90m Char \u001b[0m\u001b[90m Int64?  \u001b[0m\u001b[90m Int64      \u001b[0m\n",
       "─────┼──────────────────────────────────────────────────\n",
       "   1 │     5 \u001b[90m missing        \u001b[0m F    \u001b[90m missing \u001b[0m       9992\n",
       "   2 │     5 \u001b[90m missing        \u001b[0m M    \u001b[90m missing \u001b[0m       9944\n",
       "   3 │    10 \u001b[90m missing        \u001b[0m F    \u001b[90m missing \u001b[0m       9970\n",
       "   4 │    10 \u001b[90m missing        \u001b[0m M    \u001b[90m missing \u001b[0m      10021\n",
       "   5 │    15 \u001b[90m missing        \u001b[0m F    \u001b[90m missing \u001b[0m       9974\n",
       "   6 │    15 \u001b[90m missing        \u001b[0m M    \u001b[90m missing \u001b[0m      10099\n",
       "   7 │    20  Divorced        F       40000         734\n",
       "   8 │    20  Divorced        F       50000         737\n",
       "  ⋮  │   ⋮          ⋮          ⋮       ⋮         ⋮\n",
       " 520 │    25  Not_married     F       80000           0\n",
       " 521 │    20  Married         F       80000           0\n",
       " 522 │    25  Married         F       80000           0\n",
       " 523 │    20  Divorced        F       80000           0\n",
       " 524 │    25  Divorced        F       80000           0\n",
       " 525 │    20  Widowed         F       80000           0\n",
       " 526 │    25  Widowed         F       80000           0\n",
       "\u001b[36m                                        511 rows omitted\u001b[0m"
      ]
     },
     "metadata": {},
     "output_type": "display_data"
    }
   ],
   "source": [
    "SIZE = 300000\n",
    "OLD_ADULTS = 0.6\n",
    "YOUNG_ADULTS = 0.2\n",
    "CHILDREN = 0.2\n",
    "\n",
    "SEX = ['M', 'F']; SEX_WEIGHTS = [0.5, 0.5]\n",
    "MARITAL_STATUS = [\"Not_married\", \"Married\", \"Divorced\", \"Widowed\"]; \n",
    "MARITAL_WEIGHTS = [0.3, 0.5, 0.1, 0.1]\n",
    "\n",
    "AGE_YOUNG_ADULT = [20, 25];\n",
    "AGE_YOUNG_ADULT_WEIGHTS = repeat([1 / length(AGE_YOUNG_ADULT)], length(AGE_YOUNG_ADULT));\n",
    "AGE_OLD_ADULT = [30, 35, 40, 45, 50, 55, 60, 65, 70, 75, 80];\n",
    "AGE_OLD_ADULT_WEIGHTS = repeat([1 / length(AGE_OLD_ADULT)], length(AGE_OLD_ADULT));\n",
    "AGE_CHILDREN = [5, 10, 15];\n",
    "AGE_CHILDREN_WEIGHTS = repeat([1 / length(AGE_CHILDREN)], length(AGE_CHILDREN));\n",
    "\n",
    "INCOME = [40000, 50000, 60000, 70000, 80000];\n",
    "ZERO_INCOME = [60000, 70000, 80000];\n",
    "INCOME_WEIGHTS_YOUNG = SIZE .* YOUNG_ADULTS .* [0.5, 0.5, 0, 0, 0]\n",
    "INCOME_WEIGHTS_OLD = SIZE * (OLD_ADULTS+YOUNG_ADULTS) .* [0.2, 0.2, 0.2, 0.2, 0.2] .- INCOME_WEIGHTS_YOUNG\n",
    "\n",
    "population_young_adult = DataFrame(\n",
    "    AGE = sample(AGE_YOUNG_ADULT, Weights(AGE_YOUNG_ADULT_WEIGHTS), Int(SIZE * YOUNG_ADULTS)),\n",
    "    MARITAL_STATUS = sample(MARITAL_STATUS, Weights(MARITAL_WEIGHTS), Int(SIZE * YOUNG_ADULTS)),\n",
    "    SEX = sample(SEX, Weights(SEX_WEIGHTS), Int(SIZE * YOUNG_ADULTS)),\n",
    "    INCOME = sample(INCOME, Weights(INCOME_WEIGHTS_YOUNG), Int(SIZE * YOUNG_ADULTS)),\n",
    ")\n",
    "population_old_adult = DataFrame(\n",
    "    AGE = sample(AGE_OLD_ADULT, Weights(AGE_OLD_ADULT_WEIGHTS), Int(SIZE * OLD_ADULTS)),\n",
    "    MARITAL_STATUS = sample(MARITAL_STATUS, Weights(MARITAL_WEIGHTS), Int(SIZE * OLD_ADULTS)),\n",
    "    SEX = sample(SEX, Weights(SEX_WEIGHTS), Int(SIZE * OLD_ADULTS)),\n",
    "    INCOME = sample(INCOME, Weights(INCOME_WEIGHTS_OLD), Int(SIZE * OLD_ADULTS)),\n",
    ")\n",
    "population_children = DataFrame(\n",
    "    AGE = sample(AGE_CHILDREN, Weights(AGE_CHILDREN_WEIGHTS), Int(SIZE * CHILDREN)),\n",
    "    MARITAL_STATUS = repeat([missing], Int(SIZE * CHILDREN)),\n",
    "    SEX = sample(SEX, Weights(SEX_WEIGHTS), Int(SIZE * CHILDREN)),\n",
    "    INCOME = repeat([missing], Int(SIZE * CHILDREN))\n",
    ")\n",
    "\n",
    "disaggregated_independent_population = reduce(vcat, [\n",
    "    population_young_adult, \n",
    "    population_old_adult,\n",
    "    population_children\n",
    "    ]\n",
    ")\n",
    "\n",
    "independent_population = combine(groupby(disaggregated_independent_population, names(disaggregated_independent_population), sort=true), nrow)\n",
    "rename!(independent_population, :nrow => :population)\n",
    "zero_population = DataFrame(vec(collect(Iterators.product(AGE_YOUNG_ADULT, MARITAL_STATUS, SEX, ZERO_INCOME))))\n",
    "zero_population.:population = repeat([0], nrow(zero_population))\n",
    "rename!(zero_population, names(independent_population))\n",
    "independent_population = reduce(vcat, [independent_population, zero_population])"
   ]
  },
  {
   "attachments": {},
   "cell_type": "markdown",
   "metadata": {},
   "source": [
    "### 1.2. Compute marginal attribute distributions of the independent population\n",
    "Then we compute the marginal population attributes. This is a type of data that we can usually get from the census data and will be input for our algorithms for population generation."
   ]
  },
  {
   "cell_type": "code",
   "execution_count": 233,
   "metadata": {},
   "outputs": [
    {
     "data": {
      "text/html": [
       "<div><div style = \"float: left;\"><span>5×2 DataFrame</span></div><div style = \"clear: both;\"></div></div><div class = \"data-frame\" style = \"overflow-x: scroll;\"><table class = \"data-frame\" style = \"margin-bottom: 6px;\"><thead><tr class = \"header\"><th class = \"rowNumber\" style = \"font-weight: bold; text-align: right;\">Row</th><th style = \"text-align: left;\">INCOME</th><th style = \"text-align: left;\">population</th></tr><tr class = \"subheader headerLastRow\"><th class = \"rowNumber\" style = \"font-weight: bold; text-align: right;\"></th><th title = \"Union{Missing, Int64}\" style = \"text-align: left;\">Int64?</th><th title = \"Int64\" style = \"text-align: left;\">Int64</th></tr></thead><tbody><tr><td class = \"rowNumber\" style = \"font-weight: bold; text-align: right;\">1</td><td style = \"text-align: right;\">40000</td><td style = \"text-align: right;\">48034</td></tr><tr><td class = \"rowNumber\" style = \"font-weight: bold; text-align: right;\">2</td><td style = \"text-align: right;\">50000</td><td style = \"text-align: right;\">47861</td></tr><tr><td class = \"rowNumber\" style = \"font-weight: bold; text-align: right;\">3</td><td style = \"text-align: right;\">60000</td><td style = \"text-align: right;\">47760</td></tr><tr><td class = \"rowNumber\" style = \"font-weight: bold; text-align: right;\">4</td><td style = \"text-align: right;\">70000</td><td style = \"text-align: right;\">48187</td></tr><tr><td class = \"rowNumber\" style = \"font-weight: bold; text-align: right;\">5</td><td style = \"text-align: right;\">80000</td><td style = \"text-align: right;\">48158</td></tr></tbody></table></div>"
      ],
      "text/latex": [
       "\\begin{tabular}{r|cc}\n",
       "\t& INCOME & population\\\\\n",
       "\t\\hline\n",
       "\t& Int64? & Int64\\\\\n",
       "\t\\hline\n",
       "\t1 & 40000 & 48034 \\\\\n",
       "\t2 & 50000 & 47861 \\\\\n",
       "\t3 & 60000 & 47760 \\\\\n",
       "\t4 & 70000 & 48187 \\\\\n",
       "\t5 & 80000 & 48158 \\\\\n",
       "\\end{tabular}\n"
      ],
      "text/plain": [
       "\u001b[1m5×2 DataFrame\u001b[0m\n",
       "\u001b[1m Row \u001b[0m│\u001b[1m INCOME \u001b[0m\u001b[1m population \u001b[0m\n",
       "     │\u001b[90m Int64? \u001b[0m\u001b[90m Int64      \u001b[0m\n",
       "─────┼────────────────────\n",
       "   1 │  40000       48034\n",
       "   2 │  50000       47861\n",
       "   3 │  60000       47760\n",
       "   4 │  70000       48187\n",
       "   5 │  80000       48158"
      ]
     },
     "metadata": {},
     "output_type": "display_data"
    }
   ],
   "source": [
    "#Population by age and sex\n",
    "independent_age_sex = combine(groupby(disaggregated_independent_population, [:AGE, :SEX], sort=true), nrow); \n",
    "sort!(independent_age_sex, [:SEX, :AGE])\n",
    "\n",
    "#Population by sex and marital status\n",
    "independent_sex_marital = combine(groupby(disaggregated_independent_population, [:MARITAL_STATUS, :SEX], sort=true), nrow); \n",
    "sort!(independent_sex_marital, [:SEX, :MARITAL_STATUS])\n",
    "\n",
    "#Population by income\n",
    "independent_income = combine(groupby(disaggregated_independent_population, [:INCOME], sort=true), nrow)\n",
    "\n",
    "#Correct column names\n",
    "independent_age_sex, independent_sex_marital, independent_income = map(x -> rename!(x, :nrow => :population), [independent_age_sex, independent_sex_marital, independent_income])\n",
    "\n",
    "#filter out missing values\n",
    "independent_sex_marital = filter(:MARITAL_STATUS => x -> typeof(x) != Missing, independent_sex_marital)\n",
    "independent_income = filter(:INCOME => x -> typeof(x) != Missing, independent_income)"
   ]
  },
  {
   "attachments": {},
   "cell_type": "markdown",
   "metadata": {},
   "source": [
    "### 1.3. Generate independent population from marginals\n",
    "Then, we use our algorithm to estimate joint distribution of the attributes. "
   ]
  },
  {
   "attachments": {},
   "cell_type": "markdown",
   "metadata": {},
   "source": [
    "#### Guo, Bhat, 2007"
   ]
  },
  {
   "cell_type": "code",
   "execution_count": 234,
   "metadata": {},
   "outputs": [
    {
     "name": "stderr",
     "output_type": "stream",
     "text": [
      "┌ Info: Inconsistent target margins, converting `X` and `mar` to proportions. Margin totals: [149969, 120033]\n",
      "└ @ ProportionalFitting /Users/marcinzurek/.julia/packages/ProportionalFitting/gNJEu/src/ipf.jl:61\n",
      "┌ Info: Converged in 1 iterations.\n",
      "└ @ ProportionalFitting /Users/marcinzurek/.julia/packages/ProportionalFitting/gNJEu/src/ipf.jl:130\n",
      "┌ Info: Inconsistent target margins, converting `X` and `mar` to proportions. Margin totals: [150031, 119967]\n",
      "└ @ ProportionalFitting /Users/marcinzurek/.julia/packages/ProportionalFitting/gNJEu/src/ipf.jl:61\n",
      "┌ Info: Converged in 1 iterations.\n",
      "└ @ ProportionalFitting /Users/marcinzurek/.julia/packages/ProportionalFitting/gNJEu/src/ipf.jl:130\n",
      "┌ Info: Inconsistent target margins, converting `X` and `mar` to proportions. Margin totals: [300004, 240000]\n",
      "└ @ ProportionalFitting /Users/marcinzurek/.julia/packages/ProportionalFitting/gNJEu/src/ipf.jl:61\n",
      "┌ Info: Converged in 1 iterations.\n",
      "└ @ ProportionalFitting /Users/marcinzurek/.julia/packages/ProportionalFitting/gNJEu/src/ipf.jl:130\n"
     ]
    },
    {
     "data": {
      "text/html": [
       "<div><div style = \"float: left;\"><span>640×5 DataFrame</span></div><div style = \"float: right;\"><span style = \"font-style: italic;\">615 rows omitted</span></div><div style = \"clear: both;\"></div></div><div class = \"data-frame\" style = \"overflow-x: scroll;\"><table class = \"data-frame\" style = \"margin-bottom: 6px;\"><thead><tr class = \"header\"><th class = \"rowNumber\" style = \"font-weight: bold; text-align: right;\">Row</th><th style = \"text-align: left;\">AGE</th><th style = \"text-align: left;\">MARITAL_STATUS</th><th style = \"text-align: left;\">SEX</th><th style = \"text-align: left;\">INCOME</th><th style = \"text-align: left;\">population</th></tr><tr class = \"subheader headerLastRow\"><th class = \"rowNumber\" style = \"font-weight: bold; text-align: right;\"></th><th title = \"Int64\" style = \"text-align: left;\">Int64</th><th title = \"String\" style = \"text-align: left;\">String</th><th title = \"Char\" style = \"text-align: left;\">Char</th><th title = \"Int64\" style = \"text-align: left;\">Int64</th><th title = \"Int64\" style = \"text-align: left;\">Int64</th></tr></thead><tbody><tr><td class = \"rowNumber\" style = \"font-weight: bold; text-align: right;\">1</td><td style = \"text-align: right;\">5</td><td style = \"text-align: left;\">Divorced</td><td style = \"text-align: left;\">F</td><td style = \"text-align: right;\">40000</td><td style = \"text-align: right;\">200</td></tr><tr><td class = \"rowNumber\" style = \"font-weight: bold; text-align: right;\">2</td><td style = \"text-align: right;\">10</td><td style = \"text-align: left;\">Divorced</td><td style = \"text-align: left;\">F</td><td style = \"text-align: right;\">40000</td><td style = \"text-align: right;\">200</td></tr><tr><td class = \"rowNumber\" style = \"font-weight: bold; text-align: right;\">3</td><td style = \"text-align: right;\">15</td><td style = \"text-align: left;\">Divorced</td><td style = \"text-align: left;\">F</td><td style = \"text-align: right;\">40000</td><td style = \"text-align: right;\">200</td></tr><tr><td class = \"rowNumber\" style = \"font-weight: bold; text-align: right;\">4</td><td style = \"text-align: right;\">20</td><td style = \"text-align: left;\">Divorced</td><td style = \"text-align: left;\">F</td><td style = \"text-align: right;\">40000</td><td style = \"text-align: right;\">301</td></tr><tr><td class = \"rowNumber\" style = \"font-weight: bold; text-align: right;\">5</td><td style = \"text-align: right;\">25</td><td style = \"text-align: left;\">Divorced</td><td style = \"text-align: left;\">F</td><td style = \"text-align: right;\">40000</td><td style = \"text-align: right;\">302</td></tr><tr><td class = \"rowNumber\" style = \"font-weight: bold; text-align: right;\">6</td><td style = \"text-align: right;\">30</td><td style = \"text-align: left;\">Divorced</td><td style = \"text-align: left;\">F</td><td style = \"text-align: right;\">40000</td><td style = \"text-align: right;\">164</td></tr><tr><td class = \"rowNumber\" style = \"font-weight: bold; text-align: right;\">7</td><td style = \"text-align: right;\">35</td><td style = \"text-align: left;\">Divorced</td><td style = \"text-align: left;\">F</td><td style = \"text-align: right;\">40000</td><td style = \"text-align: right;\">164</td></tr><tr><td class = \"rowNumber\" style = \"font-weight: bold; text-align: right;\">8</td><td style = \"text-align: right;\">40</td><td style = \"text-align: left;\">Divorced</td><td style = \"text-align: left;\">F</td><td style = \"text-align: right;\">40000</td><td style = \"text-align: right;\">163</td></tr><tr><td class = \"rowNumber\" style = \"font-weight: bold; text-align: right;\">9</td><td style = \"text-align: right;\">45</td><td style = \"text-align: left;\">Divorced</td><td style = \"text-align: left;\">F</td><td style = \"text-align: right;\">40000</td><td style = \"text-align: right;\">164</td></tr><tr><td class = \"rowNumber\" style = \"font-weight: bold; text-align: right;\">10</td><td style = \"text-align: right;\">50</td><td style = \"text-align: left;\">Divorced</td><td style = \"text-align: left;\">F</td><td style = \"text-align: right;\">40000</td><td style = \"text-align: right;\">165</td></tr><tr><td class = \"rowNumber\" style = \"font-weight: bold; text-align: right;\">11</td><td style = \"text-align: right;\">55</td><td style = \"text-align: left;\">Divorced</td><td style = \"text-align: left;\">F</td><td style = \"text-align: right;\">40000</td><td style = \"text-align: right;\">165</td></tr><tr><td class = \"rowNumber\" style = \"font-weight: bold; text-align: right;\">12</td><td style = \"text-align: right;\">60</td><td style = \"text-align: left;\">Divorced</td><td style = \"text-align: left;\">F</td><td style = \"text-align: right;\">40000</td><td style = \"text-align: right;\">163</td></tr><tr><td class = \"rowNumber\" style = \"font-weight: bold; text-align: right;\">13</td><td style = \"text-align: right;\">65</td><td style = \"text-align: left;\">Divorced</td><td style = \"text-align: left;\">F</td><td style = \"text-align: right;\">40000</td><td style = \"text-align: right;\">161</td></tr><tr><td style = \"text-align: right;\">&vellip;</td><td style = \"text-align: right;\">&vellip;</td><td style = \"text-align: right;\">&vellip;</td><td style = \"text-align: right;\">&vellip;</td><td style = \"text-align: right;\">&vellip;</td><td style = \"text-align: right;\">&vellip;</td></tr><tr><td class = \"rowNumber\" style = \"font-weight: bold; text-align: right;\">629</td><td style = \"text-align: right;\">25</td><td style = \"text-align: left;\">Widowed</td><td style = \"text-align: left;\">M</td><td style = \"text-align: right;\">80000</td><td style = \"text-align: right;\">300</td></tr><tr><td class = \"rowNumber\" style = \"font-weight: bold; text-align: right;\">630</td><td style = \"text-align: right;\">30</td><td style = \"text-align: left;\">Widowed</td><td style = \"text-align: left;\">M</td><td style = \"text-align: right;\">80000</td><td style = \"text-align: right;\">164</td></tr><tr><td class = \"rowNumber\" style = \"font-weight: bold; text-align: right;\">631</td><td style = \"text-align: right;\">35</td><td style = \"text-align: left;\">Widowed</td><td style = \"text-align: left;\">M</td><td style = \"text-align: right;\">80000</td><td style = \"text-align: right;\">167</td></tr><tr><td class = \"rowNumber\" style = \"font-weight: bold; text-align: right;\">632</td><td style = \"text-align: right;\">40</td><td style = \"text-align: left;\">Widowed</td><td style = \"text-align: left;\">M</td><td style = \"text-align: right;\">80000</td><td style = \"text-align: right;\">164</td></tr><tr><td class = \"rowNumber\" style = \"font-weight: bold; text-align: right;\">633</td><td style = \"text-align: right;\">45</td><td style = \"text-align: left;\">Widowed</td><td style = \"text-align: left;\">M</td><td style = \"text-align: right;\">80000</td><td style = \"text-align: right;\">164</td></tr><tr><td class = \"rowNumber\" style = \"font-weight: bold; text-align: right;\">634</td><td style = \"text-align: right;\">50</td><td style = \"text-align: left;\">Widowed</td><td style = \"text-align: left;\">M</td><td style = \"text-align: right;\">80000</td><td style = \"text-align: right;\">167</td></tr><tr><td class = \"rowNumber\" style = \"font-weight: bold; text-align: right;\">635</td><td style = \"text-align: right;\">55</td><td style = \"text-align: left;\">Widowed</td><td style = \"text-align: left;\">M</td><td style = \"text-align: right;\">80000</td><td style = \"text-align: right;\">161</td></tr><tr><td class = \"rowNumber\" style = \"font-weight: bold; text-align: right;\">636</td><td style = \"text-align: right;\">60</td><td style = \"text-align: left;\">Widowed</td><td style = \"text-align: left;\">M</td><td style = \"text-align: right;\">80000</td><td style = \"text-align: right;\">164</td></tr><tr><td class = \"rowNumber\" style = \"font-weight: bold; text-align: right;\">637</td><td style = \"text-align: right;\">65</td><td style = \"text-align: left;\">Widowed</td><td style = \"text-align: left;\">M</td><td style = \"text-align: right;\">80000</td><td style = \"text-align: right;\">160</td></tr><tr><td class = \"rowNumber\" style = \"font-weight: bold; text-align: right;\">638</td><td style = \"text-align: right;\">70</td><td style = \"text-align: left;\">Widowed</td><td style = \"text-align: left;\">M</td><td style = \"text-align: right;\">80000</td><td style = \"text-align: right;\">167</td></tr><tr><td class = \"rowNumber\" style = \"font-weight: bold; text-align: right;\">639</td><td style = \"text-align: right;\">75</td><td style = \"text-align: left;\">Widowed</td><td style = \"text-align: left;\">M</td><td style = \"text-align: right;\">80000</td><td style = \"text-align: right;\">165</td></tr><tr><td class = \"rowNumber\" style = \"font-weight: bold; text-align: right;\">640</td><td style = \"text-align: right;\">80</td><td style = \"text-align: left;\">Widowed</td><td style = \"text-align: left;\">M</td><td style = \"text-align: right;\">80000</td><td style = \"text-align: right;\">163</td></tr></tbody></table></div>"
      ],
      "text/latex": [
       "\\begin{tabular}{r|ccccc}\n",
       "\t& AGE & MARITAL\\_STATUS & SEX & INCOME & population\\\\\n",
       "\t\\hline\n",
       "\t& Int64 & String & Char & Int64 & Int64\\\\\n",
       "\t\\hline\n",
       "\t1 & 5 & Divorced & F & 40000 & 200 \\\\\n",
       "\t2 & 10 & Divorced & F & 40000 & 200 \\\\\n",
       "\t3 & 15 & Divorced & F & 40000 & 200 \\\\\n",
       "\t4 & 20 & Divorced & F & 40000 & 301 \\\\\n",
       "\t5 & 25 & Divorced & F & 40000 & 302 \\\\\n",
       "\t6 & 30 & Divorced & F & 40000 & 164 \\\\\n",
       "\t7 & 35 & Divorced & F & 40000 & 164 \\\\\n",
       "\t8 & 40 & Divorced & F & 40000 & 163 \\\\\n",
       "\t9 & 45 & Divorced & F & 40000 & 164 \\\\\n",
       "\t10 & 50 & Divorced & F & 40000 & 165 \\\\\n",
       "\t11 & 55 & Divorced & F & 40000 & 165 \\\\\n",
       "\t12 & 60 & Divorced & F & 40000 & 163 \\\\\n",
       "\t13 & 65 & Divorced & F & 40000 & 161 \\\\\n",
       "\t14 & 70 & Divorced & F & 40000 & 167 \\\\\n",
       "\t15 & 75 & Divorced & F & 40000 & 164 \\\\\n",
       "\t16 & 80 & Divorced & F & 40000 & 163 \\\\\n",
       "\t17 & 5 & Married & F & 40000 & 998 \\\\\n",
       "\t18 & 10 & Married & F & 40000 & 996 \\\\\n",
       "\t19 & 15 & Married & F & 40000 & 996 \\\\\n",
       "\t20 & 20 & Married & F & 40000 & 1501 \\\\\n",
       "\t21 & 25 & Married & F & 40000 & 1506 \\\\\n",
       "\t22 & 30 & Married & F & 40000 & 818 \\\\\n",
       "\t23 & 35 & Married & F & 40000 & 817 \\\\\n",
       "\t24 & 40 & Married & F & 40000 & 810 \\\\\n",
       "\t$\\dots$ & $\\dots$ & $\\dots$ & $\\dots$ & $\\dots$ & $\\dots$ \\\\\n",
       "\\end{tabular}\n"
      ],
      "text/plain": [
       "\u001b[1m640×5 DataFrame\u001b[0m\n",
       "\u001b[1m Row \u001b[0m│\u001b[1m AGE   \u001b[0m\u001b[1m MARITAL_STATUS \u001b[0m\u001b[1m SEX  \u001b[0m\u001b[1m INCOME \u001b[0m\u001b[1m population \u001b[0m\n",
       "     │\u001b[90m Int64 \u001b[0m\u001b[90m String         \u001b[0m\u001b[90m Char \u001b[0m\u001b[90m Int64  \u001b[0m\u001b[90m Int64      \u001b[0m\n",
       "─────┼─────────────────────────────────────────────────\n",
       "   1 │     5  Divorced        F      40000         200\n",
       "   2 │    10  Divorced        F      40000         200\n",
       "   3 │    15  Divorced        F      40000         200\n",
       "   4 │    20  Divorced        F      40000         301\n",
       "   5 │    25  Divorced        F      40000         302\n",
       "   6 │    30  Divorced        F      40000         164\n",
       "   7 │    35  Divorced        F      40000         164\n",
       "   8 │    40  Divorced        F      40000         163\n",
       "  ⋮  │   ⋮          ⋮          ⋮      ⋮         ⋮\n",
       " 634 │    50  Widowed         M      80000         167\n",
       " 635 │    55  Widowed         M      80000         161\n",
       " 636 │    60  Widowed         M      80000         164\n",
       " 637 │    65  Widowed         M      80000         160\n",
       " 638 │    70  Widowed         M      80000         167\n",
       " 639 │    75  Widowed         M      80000         165\n",
       " 640 │    80  Widowed         M      80000         163\n",
       "\u001b[36m                                       625 rows omitted\u001b[0m"
      ]
     },
     "metadata": {},
     "output_type": "display_data"
    }
   ],
   "source": [
    "guo_bhat = SyntheticPopulation.generate_joint_distribution(independent_age_sex, independent_sex_marital, independent_income)\n",
    "guo_bhat = guo_bhat[:, Not(:id)]"
   ]
  },
  {
   "attachments": {},
   "cell_type": "markdown",
   "metadata": {},
   "source": [
    "#### Ponge, Enbergs, Schungel, Hellingrath, Karch, Ludwig, 2021"
   ]
  },
  {
   "cell_type": "code",
   "execution_count": 235,
   "metadata": {},
   "outputs": [
    {
     "name": "stderr",
     "output_type": "stream",
     "text": [
      "┌ Info: Inconsistent target margins, converting `X` and `mar` to proportions. Margin totals: [149969, 120033]\n",
      "└ @ ProportionalFitting /Users/marcinzurek/.julia/packages/ProportionalFitting/gNJEu/src/ipf.jl:61\n",
      "┌ Warning: Did not converge. Try increasing the number of iterations. Maximum absolute difference between subsequent iterations: NaN\n",
      "└ @ ProportionalFitting /Users/marcinzurek/.julia/packages/ProportionalFitting/gNJEu/src/ipf.jl:128\n",
      "┌ Info: Inconsistent target margins, converting `X` and `mar` to proportions. Margin totals: [149969, 120033]\n",
      "└ @ ProportionalFitting /Users/marcinzurek/.julia/packages/ProportionalFitting/gNJEu/src/ipf.jl:61\n",
      "┌ Info: Converged in 1 iterations.\n",
      "└ @ ProportionalFitting /Users/marcinzurek/.julia/packages/ProportionalFitting/gNJEu/src/ipf.jl:130\n",
      "┌ Info: Inconsistent target margins, converting `X` and `mar` to proportions. Margin totals: [150031, 119967]\n",
      "└ @ ProportionalFitting /Users/marcinzurek/.julia/packages/ProportionalFitting/gNJEu/src/ipf.jl:61\n",
      "┌ Warning: Did not converge. Try increasing the number of iterations. Maximum absolute difference between subsequent iterations: NaN\n",
      "└ @ ProportionalFitting /Users/marcinzurek/.julia/packages/ProportionalFitting/gNJEu/src/ipf.jl:128\n",
      "┌ Info: Inconsistent target margins, converting `X` and `mar` to proportions. Margin totals: [150031, 119967]\n",
      "└ @ ProportionalFitting /Users/marcinzurek/.julia/packages/ProportionalFitting/gNJEu/src/ipf.jl:61\n",
      "┌ Info: Converged in 1 iterations.\n",
      "└ @ ProportionalFitting /Users/marcinzurek/.julia/packages/ProportionalFitting/gNJEu/src/ipf.jl:130\n"
     ]
    },
    {
     "name": "stderr",
     "output_type": "stream",
     "text": [
      "┌ Info: Inconsistent target margins, converting `X` and `mar` to proportions. Margin totals: [300004, 240000]\n",
      "└ @ ProportionalFitting /Users/marcinzurek/.julia/packages/ProportionalFitting/gNJEu/src/ipf.jl:61\n",
      "┌ Info: Converged in 27 iterations.\n",
      "└ @ ProportionalFitting /Users/marcinzurek/.julia/packages/ProportionalFitting/gNJEu/src/ipf.jl:130\n"
     ]
    },
    {
     "data": {
      "text/html": [
       "<div><div style = \"float: left;\"><span>640×5 DataFrame</span></div><div style = \"float: right;\"><span style = \"font-style: italic;\">615 rows omitted</span></div><div style = \"clear: both;\"></div></div><div class = \"data-frame\" style = \"overflow-x: scroll;\"><table class = \"data-frame\" style = \"margin-bottom: 6px;\"><thead><tr class = \"header\"><th class = \"rowNumber\" style = \"font-weight: bold; text-align: right;\">Row</th><th style = \"text-align: left;\">AGE</th><th style = \"text-align: left;\">MARITAL_STATUS</th><th style = \"text-align: left;\">SEX</th><th style = \"text-align: left;\">INCOME</th><th style = \"text-align: left;\">population</th></tr><tr class = \"subheader headerLastRow\"><th class = \"rowNumber\" style = \"font-weight: bold; text-align: right;\"></th><th title = \"Int64\" style = \"text-align: left;\">Int64</th><th title = \"String\" style = \"text-align: left;\">String</th><th title = \"Char\" style = \"text-align: left;\">Char</th><th title = \"Int64\" style = \"text-align: left;\">Int64</th><th title = \"Int64\" style = \"text-align: left;\">Int64</th></tr></thead><tbody><tr><td class = \"rowNumber\" style = \"font-weight: bold; text-align: right;\">1</td><td style = \"text-align: right;\">5</td><td style = \"text-align: left;\">Divorced</td><td style = \"text-align: left;\">F</td><td style = \"text-align: right;\">40000</td><td style = \"text-align: right;\">125</td></tr><tr><td class = \"rowNumber\" style = \"font-weight: bold; text-align: right;\">2</td><td style = \"text-align: right;\">10</td><td style = \"text-align: left;\">Divorced</td><td style = \"text-align: left;\">F</td><td style = \"text-align: right;\">40000</td><td style = \"text-align: right;\">125</td></tr><tr><td class = \"rowNumber\" style = \"font-weight: bold; text-align: right;\">3</td><td style = \"text-align: right;\">15</td><td style = \"text-align: left;\">Divorced</td><td style = \"text-align: left;\">F</td><td style = \"text-align: right;\">40000</td><td style = \"text-align: right;\">125</td></tr><tr><td class = \"rowNumber\" style = \"font-weight: bold; text-align: right;\">4</td><td style = \"text-align: right;\">20</td><td style = \"text-align: left;\">Divorced</td><td style = \"text-align: left;\">F</td><td style = \"text-align: right;\">40000</td><td style = \"text-align: right;\">753</td></tr><tr><td class = \"rowNumber\" style = \"font-weight: bold; text-align: right;\">5</td><td style = \"text-align: right;\">25</td><td style = \"text-align: left;\">Divorced</td><td style = \"text-align: left;\">F</td><td style = \"text-align: right;\">40000</td><td style = \"text-align: right;\">756</td></tr><tr><td class = \"rowNumber\" style = \"font-weight: bold; text-align: right;\">6</td><td style = \"text-align: right;\">30</td><td style = \"text-align: left;\">Divorced</td><td style = \"text-align: left;\">F</td><td style = \"text-align: right;\">40000</td><td style = \"text-align: right;\">102</td></tr><tr><td class = \"rowNumber\" style = \"font-weight: bold; text-align: right;\">7</td><td style = \"text-align: right;\">35</td><td style = \"text-align: left;\">Divorced</td><td style = \"text-align: left;\">F</td><td style = \"text-align: right;\">40000</td><td style = \"text-align: right;\">102</td></tr><tr><td class = \"rowNumber\" style = \"font-weight: bold; text-align: right;\">8</td><td style = \"text-align: right;\">40</td><td style = \"text-align: left;\">Divorced</td><td style = \"text-align: left;\">F</td><td style = \"text-align: right;\">40000</td><td style = \"text-align: right;\">101</td></tr><tr><td class = \"rowNumber\" style = \"font-weight: bold; text-align: right;\">9</td><td style = \"text-align: right;\">45</td><td style = \"text-align: left;\">Divorced</td><td style = \"text-align: left;\">F</td><td style = \"text-align: right;\">40000</td><td style = \"text-align: right;\">102</td></tr><tr><td class = \"rowNumber\" style = \"font-weight: bold; text-align: right;\">10</td><td style = \"text-align: right;\">50</td><td style = \"text-align: left;\">Divorced</td><td style = \"text-align: left;\">F</td><td style = \"text-align: right;\">40000</td><td style = \"text-align: right;\">103</td></tr><tr><td class = \"rowNumber\" style = \"font-weight: bold; text-align: right;\">11</td><td style = \"text-align: right;\">55</td><td style = \"text-align: left;\">Divorced</td><td style = \"text-align: left;\">F</td><td style = \"text-align: right;\">40000</td><td style = \"text-align: right;\">103</td></tr><tr><td class = \"rowNumber\" style = \"font-weight: bold; text-align: right;\">12</td><td style = \"text-align: right;\">60</td><td style = \"text-align: left;\">Divorced</td><td style = \"text-align: left;\">F</td><td style = \"text-align: right;\">40000</td><td style = \"text-align: right;\">102</td></tr><tr><td class = \"rowNumber\" style = \"font-weight: bold; text-align: right;\">13</td><td style = \"text-align: right;\">65</td><td style = \"text-align: left;\">Divorced</td><td style = \"text-align: left;\">F</td><td style = \"text-align: right;\">40000</td><td style = \"text-align: right;\">100</td></tr><tr><td style = \"text-align: right;\">&vellip;</td><td style = \"text-align: right;\">&vellip;</td><td style = \"text-align: right;\">&vellip;</td><td style = \"text-align: right;\">&vellip;</td><td style = \"text-align: right;\">&vellip;</td><td style = \"text-align: right;\">&vellip;</td></tr><tr><td class = \"rowNumber\" style = \"font-weight: bold; text-align: right;\">629</td><td style = \"text-align: right;\">25</td><td style = \"text-align: left;\">Widowed</td><td style = \"text-align: left;\">M</td><td style = \"text-align: right;\">80000</td><td style = \"text-align: right;\">0</td></tr><tr><td class = \"rowNumber\" style = \"font-weight: bold; text-align: right;\">630</td><td style = \"text-align: right;\">30</td><td style = \"text-align: left;\">Widowed</td><td style = \"text-align: left;\">M</td><td style = \"text-align: right;\">80000</td><td style = \"text-align: right;\">205</td></tr><tr><td class = \"rowNumber\" style = \"font-weight: bold; text-align: right;\">631</td><td style = \"text-align: right;\">35</td><td style = \"text-align: left;\">Widowed</td><td style = \"text-align: left;\">M</td><td style = \"text-align: right;\">80000</td><td style = \"text-align: right;\">208</td></tr><tr><td class = \"rowNumber\" style = \"font-weight: bold; text-align: right;\">632</td><td style = \"text-align: right;\">40</td><td style = \"text-align: left;\">Widowed</td><td style = \"text-align: left;\">M</td><td style = \"text-align: right;\">80000</td><td style = \"text-align: right;\">205</td></tr><tr><td class = \"rowNumber\" style = \"font-weight: bold; text-align: right;\">633</td><td style = \"text-align: right;\">45</td><td style = \"text-align: left;\">Widowed</td><td style = \"text-align: left;\">M</td><td style = \"text-align: right;\">80000</td><td style = \"text-align: right;\">205</td></tr><tr><td class = \"rowNumber\" style = \"font-weight: bold; text-align: right;\">634</td><td style = \"text-align: right;\">50</td><td style = \"text-align: left;\">Widowed</td><td style = \"text-align: left;\">M</td><td style = \"text-align: right;\">80000</td><td style = \"text-align: right;\">208</td></tr><tr><td class = \"rowNumber\" style = \"font-weight: bold; text-align: right;\">635</td><td style = \"text-align: right;\">55</td><td style = \"text-align: left;\">Widowed</td><td style = \"text-align: left;\">M</td><td style = \"text-align: right;\">80000</td><td style = \"text-align: right;\">201</td></tr><tr><td class = \"rowNumber\" style = \"font-weight: bold; text-align: right;\">636</td><td style = \"text-align: right;\">60</td><td style = \"text-align: left;\">Widowed</td><td style = \"text-align: left;\">M</td><td style = \"text-align: right;\">80000</td><td style = \"text-align: right;\">205</td></tr><tr><td class = \"rowNumber\" style = \"font-weight: bold; text-align: right;\">637</td><td style = \"text-align: right;\">65</td><td style = \"text-align: left;\">Widowed</td><td style = \"text-align: left;\">M</td><td style = \"text-align: right;\">80000</td><td style = \"text-align: right;\">200</td></tr><tr><td class = \"rowNumber\" style = \"font-weight: bold; text-align: right;\">638</td><td style = \"text-align: right;\">70</td><td style = \"text-align: left;\">Widowed</td><td style = \"text-align: left;\">M</td><td style = \"text-align: right;\">80000</td><td style = \"text-align: right;\">208</td></tr><tr><td class = \"rowNumber\" style = \"font-weight: bold; text-align: right;\">639</td><td style = \"text-align: right;\">75</td><td style = \"text-align: left;\">Widowed</td><td style = \"text-align: left;\">M</td><td style = \"text-align: right;\">80000</td><td style = \"text-align: right;\">206</td></tr><tr><td class = \"rowNumber\" style = \"font-weight: bold; text-align: right;\">640</td><td style = \"text-align: right;\">80</td><td style = \"text-align: left;\">Widowed</td><td style = \"text-align: left;\">M</td><td style = \"text-align: right;\">80000</td><td style = \"text-align: right;\">203</td></tr></tbody></table></div>"
      ],
      "text/latex": [
       "\\begin{tabular}{r|ccccc}\n",
       "\t& AGE & MARITAL\\_STATUS & SEX & INCOME & population\\\\\n",
       "\t\\hline\n",
       "\t& Int64 & String & Char & Int64 & Int64\\\\\n",
       "\t\\hline\n",
       "\t1 & 5 & Divorced & F & 40000 & 125 \\\\\n",
       "\t2 & 10 & Divorced & F & 40000 & 125 \\\\\n",
       "\t3 & 15 & Divorced & F & 40000 & 125 \\\\\n",
       "\t4 & 20 & Divorced & F & 40000 & 753 \\\\\n",
       "\t5 & 25 & Divorced & F & 40000 & 756 \\\\\n",
       "\t6 & 30 & Divorced & F & 40000 & 102 \\\\\n",
       "\t7 & 35 & Divorced & F & 40000 & 102 \\\\\n",
       "\t8 & 40 & Divorced & F & 40000 & 101 \\\\\n",
       "\t9 & 45 & Divorced & F & 40000 & 102 \\\\\n",
       "\t10 & 50 & Divorced & F & 40000 & 103 \\\\\n",
       "\t11 & 55 & Divorced & F & 40000 & 103 \\\\\n",
       "\t12 & 60 & Divorced & F & 40000 & 102 \\\\\n",
       "\t13 & 65 & Divorced & F & 40000 & 100 \\\\\n",
       "\t14 & 70 & Divorced & F & 40000 & 104 \\\\\n",
       "\t15 & 75 & Divorced & F & 40000 & 103 \\\\\n",
       "\t16 & 80 & Divorced & F & 40000 & 102 \\\\\n",
       "\t17 & 5 & Married & F & 40000 & 623 \\\\\n",
       "\t18 & 10 & Married & F & 40000 & 622 \\\\\n",
       "\t19 & 15 & Married & F & 40000 & 622 \\\\\n",
       "\t20 & 20 & Married & F & 40000 & 3756 \\\\\n",
       "\t21 & 25 & Married & F & 40000 & 3770 \\\\\n",
       "\t22 & 30 & Married & F & 40000 & 511 \\\\\n",
       "\t23 & 35 & Married & F & 40000 & 510 \\\\\n",
       "\t24 & 40 & Married & F & 40000 & 506 \\\\\n",
       "\t$\\dots$ & $\\dots$ & $\\dots$ & $\\dots$ & $\\dots$ & $\\dots$ \\\\\n",
       "\\end{tabular}\n"
      ],
      "text/plain": [
       "\u001b[1m640×5 DataFrame\u001b[0m\n",
       "\u001b[1m Row \u001b[0m│\u001b[1m AGE   \u001b[0m\u001b[1m MARITAL_STATUS \u001b[0m\u001b[1m SEX  \u001b[0m\u001b[1m INCOME \u001b[0m\u001b[1m population \u001b[0m\n",
       "     │\u001b[90m Int64 \u001b[0m\u001b[90m String         \u001b[0m\u001b[90m Char \u001b[0m\u001b[90m Int64  \u001b[0m\u001b[90m Int64      \u001b[0m\n",
       "─────┼─────────────────────────────────────────────────\n",
       "   1 │     5  Divorced        F      40000         125\n",
       "   2 │    10  Divorced        F      40000         125\n",
       "   3 │    15  Divorced        F      40000         125\n",
       "   4 │    20  Divorced        F      40000         753\n",
       "   5 │    25  Divorced        F      40000         756\n",
       "   6 │    30  Divorced        F      40000         102\n",
       "   7 │    35  Divorced        F      40000         102\n",
       "   8 │    40  Divorced        F      40000         101\n",
       "  ⋮  │   ⋮          ⋮          ⋮      ⋮         ⋮\n",
       " 634 │    50  Widowed         M      80000         208\n",
       " 635 │    55  Widowed         M      80000         201\n",
       " 636 │    60  Widowed         M      80000         205\n",
       " 637 │    65  Widowed         M      80000         200\n",
       " 638 │    70  Widowed         M      80000         208\n",
       " 639 │    75  Widowed         M      80000         206\n",
       " 640 │    80  Widowed         M      80000         203\n",
       "\u001b[36m                                       625 rows omitted\u001b[0m"
      ]
     },
     "metadata": {},
     "output_type": "display_data"
    }
   ],
   "source": [
    "ponge_et_al = SyntheticPopulation.generate_joint_distribution(independent_age_sex, independent_sex_marital, independent_income, config_file = \"ind_ponge2021.json\")\n",
    "ponge_et_al = ponge_et_al[:, Not(:id)]"
   ]
  },
  {
   "attachments": {},
   "cell_type": "markdown",
   "metadata": {},
   "source": [
    "#### Modified algorithm"
   ]
  },
  {
   "cell_type": "code",
   "execution_count": 236,
   "metadata": {
    "scrolled": true
   },
   "outputs": [
    {
     "name": "stderr",
     "output_type": "stream",
     "text": [
      "┌ Info: Inconsistent target margins, converting `X` and `mar` to proportions. Margin totals: [240000, 300000]\n",
      "└ @ ProportionalFitting /Users/marcinzurek/.julia/packages/ProportionalFitting/gNJEu/src/ipf.jl:61\n",
      "┌ Info: Converged in 25 iterations.\n",
      "└ @ ProportionalFitting /Users/marcinzurek/.julia/packages/ProportionalFitting/gNJEu/src/ipf.jl:130\n",
      "┌ Info: Inconsistent target margins, converting `X` and `mar` to proportions. Margin totals: [149970, 120033]\n",
      "└ @ ProportionalFitting /Users/marcinzurek/.julia/packages/ProportionalFitting/gNJEu/src/ipf.jl:61\n",
      "┌ Warning: Did not converge. Try increasing the number of iterations. Maximum absolute difference between subsequent iterations: NaN\n",
      "└ @ ProportionalFitting /Users/marcinzurek/.julia/packages/ProportionalFitting/gNJEu/src/ipf.jl:128\n",
      "┌ Info: Inconsistent target margins, converting `X` and `mar` to proportions. Margin totals: [149970, 120033]\n",
      "└ @ ProportionalFitting /Users/marcinzurek/.julia/packages/ProportionalFitting/gNJEu/src/ipf.jl:61\n",
      "┌ Info: Converged in 1 iterations.\n",
      "└ @ ProportionalFitting /Users/marcinzurek/.julia/packages/ProportionalFitting/gNJEu/src/ipf.jl:130\n",
      "┌ Info: Inconsistent target margins, converting `X` and `mar` to proportions. Margin totals: [150031, 119967]\n",
      "└ @ ProportionalFitting /Users/marcinzurek/.julia/packages/ProportionalFitting/gNJEu/src/ipf.jl:61\n",
      "┌ Warning: Did not converge. Try increasing the number of iterations. Maximum absolute difference between subsequent iterations: NaN\n",
      "└ @ ProportionalFitting /Users/marcinzurek/.julia/packages/ProportionalFitting/gNJEu/src/ipf.jl:128\n",
      "┌ Info: Inconsistent target margins, converting `X` and `mar` to proportions. Margin totals: [150031, 119967]\n",
      "└ @ ProportionalFitting /Users/marcinzurek/.julia/packages/ProportionalFitting/gNJEu/src/ipf.jl:61\n",
      "┌ Info: Converged in 1 iterations.\n",
      "└ @ ProportionalFitting /Users/marcinzurek/.julia/packages/ProportionalFitting/gNJEu/src/ipf.jl:130\n"
     ]
    },
    {
     "data": {
      "text/html": [
       "<div><div style = \"float: left;\"><span>526×5 DataFrame</span></div><div style = \"float: right;\"><span style = \"font-style: italic;\">501 rows omitted</span></div><div style = \"clear: both;\"></div></div><div class = \"data-frame\" style = \"overflow-x: scroll;\"><table class = \"data-frame\" style = \"margin-bottom: 6px;\"><thead><tr class = \"header\"><th class = \"rowNumber\" style = \"font-weight: bold; text-align: right;\">Row</th><th style = \"text-align: left;\">INCOME</th><th style = \"text-align: left;\">AGE</th><th style = \"text-align: left;\">MARITAL_STATUS</th><th style = \"text-align: left;\">SEX</th><th style = \"text-align: left;\">population</th></tr><tr class = \"subheader headerLastRow\"><th class = \"rowNumber\" style = \"font-weight: bold; text-align: right;\"></th><th title = \"Union{Missing, Int64}\" style = \"text-align: left;\">Int64?</th><th title = \"Union{Missing, Int64}\" style = \"text-align: left;\">Int64?</th><th title = \"Union{Missing, String}\" style = \"text-align: left;\">String?</th><th title = \"Union{Missing, Char}\" style = \"text-align: left;\">Char?</th><th title = \"Int64\" style = \"text-align: left;\">Int64</th></tr></thead><tbody><tr><td class = \"rowNumber\" style = \"font-weight: bold; text-align: right;\">1</td><td style = \"font-style: italic; text-align: right;\">missing</td><td style = \"text-align: right;\">5</td><td style = \"font-style: italic; text-align: left;\">missing</td><td style = \"text-align: left;\">F</td><td style = \"text-align: right;\">9995</td></tr><tr><td class = \"rowNumber\" style = \"font-weight: bold; text-align: right;\">2</td><td style = \"font-style: italic; text-align: right;\">missing</td><td style = \"text-align: right;\">10</td><td style = \"font-style: italic; text-align: left;\">missing</td><td style = \"text-align: left;\">F</td><td style = \"text-align: right;\">9968</td></tr><tr><td class = \"rowNumber\" style = \"font-weight: bold; text-align: right;\">3</td><td style = \"font-style: italic; text-align: right;\">missing</td><td style = \"text-align: right;\">15</td><td style = \"font-style: italic; text-align: left;\">missing</td><td style = \"text-align: left;\">F</td><td style = \"text-align: right;\">9973</td></tr><tr><td class = \"rowNumber\" style = \"font-weight: bold; text-align: right;\">4</td><td style = \"text-align: right;\">40000</td><td style = \"text-align: right;\">20</td><td style = \"text-align: left;\">Divorced</td><td style = \"text-align: left;\">F</td><td style = \"text-align: right;\">753</td></tr><tr><td class = \"rowNumber\" style = \"font-weight: bold; text-align: right;\">5</td><td style = \"text-align: right;\">50000</td><td style = \"text-align: right;\">20</td><td style = \"text-align: left;\">Divorced</td><td style = \"text-align: left;\">F</td><td style = \"text-align: right;\">751</td></tr><tr><td class = \"rowNumber\" style = \"font-weight: bold; text-align: right;\">6</td><td style = \"text-align: right;\">60000</td><td style = \"text-align: right;\">20</td><td style = \"text-align: left;\">Divorced</td><td style = \"text-align: left;\">F</td><td style = \"text-align: right;\">0</td></tr><tr><td class = \"rowNumber\" style = \"font-weight: bold; text-align: right;\">7</td><td style = \"text-align: right;\">70000</td><td style = \"text-align: right;\">20</td><td style = \"text-align: left;\">Divorced</td><td style = \"text-align: left;\">F</td><td style = \"text-align: right;\">0</td></tr><tr><td class = \"rowNumber\" style = \"font-weight: bold; text-align: right;\">8</td><td style = \"text-align: right;\">80000</td><td style = \"text-align: right;\">20</td><td style = \"text-align: left;\">Divorced</td><td style = \"text-align: left;\">F</td><td style = \"text-align: right;\">0</td></tr><tr><td class = \"rowNumber\" style = \"font-weight: bold; text-align: right;\">9</td><td style = \"text-align: right;\">40000</td><td style = \"text-align: right;\">25</td><td style = \"text-align: left;\">Divorced</td><td style = \"text-align: left;\">F</td><td style = \"text-align: right;\">756</td></tr><tr><td class = \"rowNumber\" style = \"font-weight: bold; text-align: right;\">10</td><td style = \"text-align: right;\">50000</td><td style = \"text-align: right;\">25</td><td style = \"text-align: left;\">Divorced</td><td style = \"text-align: left;\">F</td><td style = \"text-align: right;\">753</td></tr><tr><td class = \"rowNumber\" style = \"font-weight: bold; text-align: right;\">11</td><td style = \"text-align: right;\">60000</td><td style = \"text-align: right;\">25</td><td style = \"text-align: left;\">Divorced</td><td style = \"text-align: left;\">F</td><td style = \"text-align: right;\">0</td></tr><tr><td class = \"rowNumber\" style = \"font-weight: bold; text-align: right;\">12</td><td style = \"text-align: right;\">70000</td><td style = \"text-align: right;\">25</td><td style = \"text-align: left;\">Divorced</td><td style = \"text-align: left;\">F</td><td style = \"text-align: right;\">0</td></tr><tr><td class = \"rowNumber\" style = \"font-weight: bold; text-align: right;\">13</td><td style = \"text-align: right;\">80000</td><td style = \"text-align: right;\">25</td><td style = \"text-align: left;\">Divorced</td><td style = \"text-align: left;\">F</td><td style = \"text-align: right;\">0</td></tr><tr><td style = \"text-align: right;\">&vellip;</td><td style = \"text-align: right;\">&vellip;</td><td style = \"text-align: right;\">&vellip;</td><td style = \"text-align: right;\">&vellip;</td><td style = \"text-align: right;\">&vellip;</td><td style = \"text-align: right;\">&vellip;</td></tr><tr><td class = \"rowNumber\" style = \"font-weight: bold; text-align: right;\">515</td><td style = \"text-align: right;\">70000</td><td style = \"text-align: right;\">70</td><td style = \"text-align: left;\">Widowed</td><td style = \"text-align: left;\">M</td><td style = \"text-align: right;\">208</td></tr><tr><td class = \"rowNumber\" style = \"font-weight: bold; text-align: right;\">516</td><td style = \"text-align: right;\">80000</td><td style = \"text-align: right;\">70</td><td style = \"text-align: left;\">Widowed</td><td style = \"text-align: left;\">M</td><td style = \"text-align: right;\">208</td></tr><tr><td class = \"rowNumber\" style = \"font-weight: bold; text-align: right;\">517</td><td style = \"text-align: right;\">40000</td><td style = \"text-align: right;\">75</td><td style = \"text-align: left;\">Widowed</td><td style = \"text-align: left;\">M</td><td style = \"text-align: right;\">102</td></tr><tr><td class = \"rowNumber\" style = \"font-weight: bold; text-align: right;\">518</td><td style = \"text-align: right;\">50000</td><td style = \"text-align: right;\">75</td><td style = \"text-align: left;\">Widowed</td><td style = \"text-align: left;\">M</td><td style = \"text-align: right;\">102</td></tr><tr><td class = \"rowNumber\" style = \"font-weight: bold; text-align: right;\">519</td><td style = \"text-align: right;\">60000</td><td style = \"text-align: right;\">75</td><td style = \"text-align: left;\">Widowed</td><td style = \"text-align: left;\">M</td><td style = \"text-align: right;\">204</td></tr><tr><td class = \"rowNumber\" style = \"font-weight: bold; text-align: right;\">520</td><td style = \"text-align: right;\">70000</td><td style = \"text-align: right;\">75</td><td style = \"text-align: left;\">Widowed</td><td style = \"text-align: left;\">M</td><td style = \"text-align: right;\">206</td></tr><tr><td class = \"rowNumber\" style = \"font-weight: bold; text-align: right;\">521</td><td style = \"text-align: right;\">80000</td><td style = \"text-align: right;\">75</td><td style = \"text-align: left;\">Widowed</td><td style = \"text-align: left;\">M</td><td style = \"text-align: right;\">206</td></tr><tr><td class = \"rowNumber\" style = \"font-weight: bold; text-align: right;\">522</td><td style = \"text-align: right;\">40000</td><td style = \"text-align: right;\">80</td><td style = \"text-align: left;\">Widowed</td><td style = \"text-align: left;\">M</td><td style = \"text-align: right;\">101</td></tr><tr><td class = \"rowNumber\" style = \"font-weight: bold; text-align: right;\">523</td><td style = \"text-align: right;\">50000</td><td style = \"text-align: right;\">80</td><td style = \"text-align: left;\">Widowed</td><td style = \"text-align: left;\">M</td><td style = \"text-align: right;\">101</td></tr><tr><td class = \"rowNumber\" style = \"font-weight: bold; text-align: right;\">524</td><td style = \"text-align: right;\">60000</td><td style = \"text-align: right;\">80</td><td style = \"text-align: left;\">Widowed</td><td style = \"text-align: left;\">M</td><td style = \"text-align: right;\">202</td></tr><tr><td class = \"rowNumber\" style = \"font-weight: bold; text-align: right;\">525</td><td style = \"text-align: right;\">70000</td><td style = \"text-align: right;\">80</td><td style = \"text-align: left;\">Widowed</td><td style = \"text-align: left;\">M</td><td style = \"text-align: right;\">203</td></tr><tr><td class = \"rowNumber\" style = \"font-weight: bold; text-align: right;\">526</td><td style = \"text-align: right;\">80000</td><td style = \"text-align: right;\">80</td><td style = \"text-align: left;\">Widowed</td><td style = \"text-align: left;\">M</td><td style = \"text-align: right;\">203</td></tr></tbody></table></div>"
      ],
      "text/latex": [
       "\\begin{tabular}{r|ccccc}\n",
       "\t& INCOME & AGE & MARITAL\\_STATUS & SEX & population\\\\\n",
       "\t\\hline\n",
       "\t& Int64? & Int64? & String? & Char? & Int64\\\\\n",
       "\t\\hline\n",
       "\t1 & \\emph{missing} & 5 & \\emph{missing} & F & 9995 \\\\\n",
       "\t2 & \\emph{missing} & 10 & \\emph{missing} & F & 9968 \\\\\n",
       "\t3 & \\emph{missing} & 15 & \\emph{missing} & F & 9973 \\\\\n",
       "\t4 & 40000 & 20 & Divorced & F & 753 \\\\\n",
       "\t5 & 50000 & 20 & Divorced & F & 751 \\\\\n",
       "\t6 & 60000 & 20 & Divorced & F & 0 \\\\\n",
       "\t7 & 70000 & 20 & Divorced & F & 0 \\\\\n",
       "\t8 & 80000 & 20 & Divorced & F & 0 \\\\\n",
       "\t9 & 40000 & 25 & Divorced & F & 756 \\\\\n",
       "\t10 & 50000 & 25 & Divorced & F & 753 \\\\\n",
       "\t11 & 60000 & 25 & Divorced & F & 0 \\\\\n",
       "\t12 & 70000 & 25 & Divorced & F & 0 \\\\\n",
       "\t13 & 80000 & 25 & Divorced & F & 0 \\\\\n",
       "\t14 & 40000 & 30 & Divorced & F & 102 \\\\\n",
       "\t15 & 50000 & 30 & Divorced & F & 102 \\\\\n",
       "\t16 & 60000 & 30 & Divorced & F & 204 \\\\\n",
       "\t17 & 70000 & 30 & Divorced & F & 206 \\\\\n",
       "\t18 & 80000 & 30 & Divorced & F & 206 \\\\\n",
       "\t19 & 40000 & 35 & Divorced & F & 102 \\\\\n",
       "\t20 & 50000 & 35 & Divorced & F & 102 \\\\\n",
       "\t21 & 60000 & 35 & Divorced & F & 204 \\\\\n",
       "\t22 & 70000 & 35 & Divorced & F & 205 \\\\\n",
       "\t23 & 80000 & 35 & Divorced & F & 205 \\\\\n",
       "\t24 & 40000 & 40 & Divorced & F & 101 \\\\\n",
       "\t$\\dots$ & $\\dots$ & $\\dots$ & $\\dots$ & $\\dots$ & $\\dots$ \\\\\n",
       "\\end{tabular}\n"
      ],
      "text/plain": [
       "\u001b[1m526×5 DataFrame\u001b[0m\n",
       "\u001b[1m Row \u001b[0m│\u001b[1m INCOME  \u001b[0m\u001b[1m AGE    \u001b[0m\u001b[1m MARITAL_STATUS \u001b[0m\u001b[1m SEX   \u001b[0m\u001b[1m population \u001b[0m\n",
       "     │\u001b[90m Int64?  \u001b[0m\u001b[90m Int64? \u001b[0m\u001b[90m String?        \u001b[0m\u001b[90m Char? \u001b[0m\u001b[90m Int64      \u001b[0m\n",
       "─────┼────────────────────────────────────────────────────\n",
       "   1 │\u001b[90m missing \u001b[0m      5 \u001b[90m missing        \u001b[0m F            9995\n",
       "   2 │\u001b[90m missing \u001b[0m     10 \u001b[90m missing        \u001b[0m F            9968\n",
       "   3 │\u001b[90m missing \u001b[0m     15 \u001b[90m missing        \u001b[0m F            9973\n",
       "   4 │   40000      20  Divorced        F             753\n",
       "   5 │   50000      20  Divorced        F             751\n",
       "   6 │   60000      20  Divorced        F               0\n",
       "   7 │   70000      20  Divorced        F               0\n",
       "   8 │   80000      20  Divorced        F               0\n",
       "  ⋮  │    ⋮       ⋮           ⋮           ⋮        ⋮\n",
       " 520 │   70000      75  Widowed         M             206\n",
       " 521 │   80000      75  Widowed         M             206\n",
       " 522 │   40000      80  Widowed         M             101\n",
       " 523 │   50000      80  Widowed         M             101\n",
       " 524 │   60000      80  Widowed         M             202\n",
       " 525 │   70000      80  Widowed         M             203\n",
       " 526 │   80000      80  Widowed         M             203\n",
       "\u001b[36m                                          511 rows omitted\u001b[0m"
      ]
     },
     "metadata": {},
     "output_type": "display_data"
    }
   ],
   "source": [
    "modified = SyntheticPopulation.generate_joint_distribution(independent_income, independent_age_sex, independent_sex_marital, config_file = \"ind_modified.json\")\n",
    "modified = modified[:, Not(:id)]"
   ]
  },
  {
   "attachments": {},
   "cell_type": "markdown",
   "metadata": {},
   "source": [
    "### 1.4. External validation of fit of generated independent population.\n",
    "Finally, we evaluate if the generated population is correct. We use approach based on Z-score described by [Williamson, 2013] [1].\n",
    "\n",
    "\n",
    "[1] Williamson, P. (2013). An evaluation of two synthetic small-area microdata simulation methodologies: Synthetic reconstruction and combinatorial optimisation. Spatial microsimulation: A reference guide for users, 19-47. https://ndl.ethernet.edu.et/bitstream/123456789/14722/1/205.pdf#page=38"
   ]
  },
  {
   "attachments": {},
   "cell_type": "markdown",
   "metadata": {},
   "source": [
    "#### Guo, Bhat, 2007"
   ]
  },
  {
   "cell_type": "code",
   "execution_count": 237,
   "metadata": {},
   "outputs": [
    {
     "name": "stdout",
     "output_type": "stream",
     "text": [
      "=================\n",
      "=Cell statistics=\n",
      "=================\n",
      "\n",
      "Percentage of well fitting values at 0.95 confidence interval: 0.0\n",
      "Percentage of well fitting values at 0.90 confidence interval: 0.0\n",
      "\n",
      "\n",
      "==================\n",
      "=Table statistics=\n",
      "==================\n",
      "\n",
      "Statistic value equals: Inf\n",
      "Table is not well fitting.\n"
     ]
    },
    {
     "data": {
      "text/html": [
       "<div><div style = \"float: left;\"><span>526×7 DataFrame</span></div><div style = \"float: right;\"><span style = \"font-style: italic;\">501 rows omitted</span></div><div style = \"clear: both;\"></div></div><div class = \"data-frame\" style = \"overflow-x: scroll;\"><table class = \"data-frame\" style = \"margin-bottom: 6px;\"><thead><tr class = \"header\"><th class = \"rowNumber\" style = \"font-weight: bold; text-align: right;\">Row</th><th style = \"text-align: left;\">AGE</th><th style = \"text-align: left;\">MARITAL_STATUS</th><th style = \"text-align: left;\">SEX</th><th style = \"text-align: left;\">INCOME</th><th style = \"text-align: left;\">population</th><th style = \"text-align: left;\">estimated_population</th><th style = \"text-align: left;\">Z_score</th></tr><tr class = \"subheader headerLastRow\"><th class = \"rowNumber\" style = \"font-weight: bold; text-align: right;\"></th><th title = \"Int64\" style = \"text-align: left;\">Int64</th><th title = \"Union{Missing, String}\" style = \"text-align: left;\">String?</th><th title = \"Char\" style = \"text-align: left;\">Char</th><th title = \"Union{Missing, Int64}\" style = \"text-align: left;\">Int64?</th><th title = \"Int64\" style = \"text-align: left;\">Int64</th><th title = \"Union{Missing, Int64}\" style = \"text-align: left;\">Int64?</th><th title = \"Float64\" style = \"text-align: left;\">Float64</th></tr></thead><tbody><tr><td class = \"rowNumber\" style = \"font-weight: bold; text-align: right;\">1</td><td style = \"text-align: right;\">20</td><td style = \"text-align: left;\">Divorced</td><td style = \"text-align: left;\">F</td><td style = \"text-align: right;\">40000</td><td style = \"text-align: right;\">734</td><td style = \"text-align: right;\">301</td><td style = \"text-align: right;\">16.0019</td></tr><tr><td class = \"rowNumber\" style = \"font-weight: bold; text-align: right;\">2</td><td style = \"text-align: right;\">20</td><td style = \"text-align: left;\">Divorced</td><td style = \"text-align: left;\">F</td><td style = \"text-align: right;\">50000</td><td style = \"text-align: right;\">737</td><td style = \"text-align: right;\">300</td><td style = \"text-align: right;\">16.1169</td></tr><tr><td class = \"rowNumber\" style = \"font-weight: bold; text-align: right;\">3</td><td style = \"text-align: right;\">20</td><td style = \"text-align: left;\">Divorced</td><td style = \"text-align: left;\">F</td><td style = \"text-align: right;\">60000</td><td style = \"text-align: right;\">0</td><td style = \"text-align: right;\">299</td><td style = \"text-align: right;\">-Inf</td></tr><tr><td class = \"rowNumber\" style = \"font-weight: bold; text-align: right;\">4</td><td style = \"text-align: right;\">20</td><td style = \"text-align: left;\">Divorced</td><td style = \"text-align: left;\">F</td><td style = \"text-align: right;\">70000</td><td style = \"text-align: right;\">0</td><td style = \"text-align: right;\">302</td><td style = \"text-align: right;\">-Inf</td></tr><tr><td class = \"rowNumber\" style = \"font-weight: bold; text-align: right;\">5</td><td style = \"text-align: right;\">20</td><td style = \"text-align: left;\">Divorced</td><td style = \"text-align: left;\">F</td><td style = \"text-align: right;\">80000</td><td style = \"text-align: right;\">0</td><td style = \"text-align: right;\">302</td><td style = \"text-align: right;\">-Inf</td></tr><tr><td class = \"rowNumber\" style = \"font-weight: bold; text-align: right;\">6</td><td style = \"text-align: right;\">20</td><td style = \"text-align: left;\">Divorced</td><td style = \"text-align: left;\">M</td><td style = \"text-align: right;\">40000</td><td style = \"text-align: right;\">762</td><td style = \"text-align: right;\">302</td><td style = \"text-align: right;\">16.6852</td></tr><tr><td class = \"rowNumber\" style = \"font-weight: bold; text-align: right;\">7</td><td style = \"text-align: right;\">20</td><td style = \"text-align: left;\">Divorced</td><td style = \"text-align: left;\">M</td><td style = \"text-align: right;\">50000</td><td style = \"text-align: right;\">761</td><td style = \"text-align: right;\">301</td><td style = \"text-align: right;\">16.6962</td></tr><tr><td class = \"rowNumber\" style = \"font-weight: bold; text-align: right;\">8</td><td style = \"text-align: right;\">20</td><td style = \"text-align: left;\">Divorced</td><td style = \"text-align: left;\">M</td><td style = \"text-align: right;\">60000</td><td style = \"text-align: right;\">0</td><td style = \"text-align: right;\">300</td><td style = \"text-align: right;\">-Inf</td></tr><tr><td class = \"rowNumber\" style = \"font-weight: bold; text-align: right;\">9</td><td style = \"text-align: right;\">20</td><td style = \"text-align: left;\">Divorced</td><td style = \"text-align: left;\">M</td><td style = \"text-align: right;\">70000</td><td style = \"text-align: right;\">0</td><td style = \"text-align: right;\">303</td><td style = \"text-align: right;\">-Inf</td></tr><tr><td class = \"rowNumber\" style = \"font-weight: bold; text-align: right;\">10</td><td style = \"text-align: right;\">20</td><td style = \"text-align: left;\">Divorced</td><td style = \"text-align: left;\">M</td><td style = \"text-align: right;\">80000</td><td style = \"text-align: right;\">0</td><td style = \"text-align: right;\">303</td><td style = \"text-align: right;\">-Inf</td></tr><tr><td class = \"rowNumber\" style = \"font-weight: bold; text-align: right;\">11</td><td style = \"text-align: right;\">20</td><td style = \"text-align: left;\">Married</td><td style = \"text-align: left;\">F</td><td style = \"text-align: right;\">40000</td><td style = \"text-align: right;\">3668</td><td style = \"text-align: right;\">1501</td><td style = \"text-align: right;\">36.0011</td></tr><tr><td class = \"rowNumber\" style = \"font-weight: bold; text-align: right;\">12</td><td style = \"text-align: right;\">20</td><td style = \"text-align: left;\">Married</td><td style = \"text-align: left;\">F</td><td style = \"text-align: right;\">50000</td><td style = \"text-align: right;\">3759</td><td style = \"text-align: right;\">1495</td><td style = \"text-align: right;\">37.1602</td></tr><tr><td class = \"rowNumber\" style = \"font-weight: bold; text-align: right;\">13</td><td style = \"text-align: right;\">20</td><td style = \"text-align: left;\">Married</td><td style = \"text-align: left;\">F</td><td style = \"text-align: right;\">60000</td><td style = \"text-align: right;\">0</td><td style = \"text-align: right;\">1492</td><td style = \"text-align: right;\">-Inf</td></tr><tr><td style = \"text-align: right;\">&vellip;</td><td style = \"text-align: right;\">&vellip;</td><td style = \"text-align: right;\">&vellip;</td><td style = \"text-align: right;\">&vellip;</td><td style = \"text-align: right;\">&vellip;</td><td style = \"text-align: right;\">&vellip;</td><td style = \"text-align: right;\">&vellip;</td><td style = \"text-align: right;\">&vellip;</td></tr><tr><td class = \"rowNumber\" style = \"font-weight: bold; text-align: right;\">515</td><td style = \"text-align: right;\">80</td><td style = \"text-align: left;\">Widowed</td><td style = \"text-align: left;\">F</td><td style = \"text-align: right;\">80000</td><td style = \"text-align: right;\">214</td><td style = \"text-align: right;\">165</td><td style = \"text-align: right;\">3.35077</td></tr><tr><td class = \"rowNumber\" style = \"font-weight: bold; text-align: right;\">516</td><td style = \"text-align: right;\">80</td><td style = \"text-align: left;\">Widowed</td><td style = \"text-align: left;\">M</td><td style = \"text-align: right;\">40000</td><td style = \"text-align: right;\">78</td><td style = \"text-align: right;\">162</td><td style = \"text-align: right;\">-9.51236</td></tr><tr><td class = \"rowNumber\" style = \"font-weight: bold; text-align: right;\">517</td><td style = \"text-align: right;\">80</td><td style = \"text-align: left;\">Widowed</td><td style = \"text-align: left;\">M</td><td style = \"text-align: right;\">50000</td><td style = \"text-align: right;\">73</td><td style = \"text-align: right;\">162</td><td style = \"text-align: right;\">-10.4179</td></tr><tr><td class = \"rowNumber\" style = \"font-weight: bold; text-align: right;\">518</td><td style = \"text-align: right;\">80</td><td style = \"text-align: left;\">Widowed</td><td style = \"text-align: left;\">M</td><td style = \"text-align: right;\">60000</td><td style = \"text-align: right;\">213</td><td style = \"text-align: right;\">161</td><td style = \"text-align: right;\">3.56425</td></tr><tr><td class = \"rowNumber\" style = \"font-weight: bold; text-align: right;\">519</td><td style = \"text-align: right;\">80</td><td style = \"text-align: left;\">Widowed</td><td style = \"text-align: left;\">M</td><td style = \"text-align: right;\">70000</td><td style = \"text-align: right;\">195</td><td style = \"text-align: right;\">163</td><td style = \"text-align: right;\">2.29231</td></tr><tr><td class = \"rowNumber\" style = \"font-weight: bold; text-align: right;\">520</td><td style = \"text-align: right;\">80</td><td style = \"text-align: left;\">Widowed</td><td style = \"text-align: left;\">M</td><td style = \"text-align: right;\">80000</td><td style = \"text-align: right;\">248</td><td style = \"text-align: right;\">163</td><td style = \"text-align: right;\">5.39974</td></tr><tr><td class = \"rowNumber\" style = \"font-weight: bold; text-align: right;\">521</td><td style = \"text-align: right;\">5</td><td style = \"text-align: left;\">missing</td><td style = \"text-align: left;\">F</td><td style = \"text-align: right;\">missing</td><td style = \"text-align: right;\">9992</td><td style = \"text-align: right;\">0</td><td style = \"text-align: right;\">101.667</td></tr><tr><td class = \"rowNumber\" style = \"font-weight: bold; text-align: right;\">522</td><td style = \"text-align: right;\">5</td><td style = \"text-align: left;\">missing</td><td style = \"text-align: left;\">M</td><td style = \"text-align: right;\">missing</td><td style = \"text-align: right;\">9944</td><td style = \"text-align: right;\">0</td><td style = \"text-align: right;\">101.415</td></tr><tr><td class = \"rowNumber\" style = \"font-weight: bold; text-align: right;\">523</td><td style = \"text-align: right;\">10</td><td style = \"text-align: left;\">missing</td><td style = \"text-align: left;\">F</td><td style = \"text-align: right;\">missing</td><td style = \"text-align: right;\">9970</td><td style = \"text-align: right;\">0</td><td style = \"text-align: right;\">101.552</td></tr><tr><td class = \"rowNumber\" style = \"font-weight: bold; text-align: right;\">524</td><td style = \"text-align: right;\">10</td><td style = \"text-align: left;\">missing</td><td style = \"text-align: left;\">M</td><td style = \"text-align: right;\">missing</td><td style = \"text-align: right;\">10021</td><td style = \"text-align: right;\">0</td><td style = \"text-align: right;\">101.82</td></tr><tr><td class = \"rowNumber\" style = \"font-weight: bold; text-align: right;\">525</td><td style = \"text-align: right;\">15</td><td style = \"text-align: left;\">missing</td><td style = \"text-align: left;\">F</td><td style = \"text-align: right;\">missing</td><td style = \"text-align: right;\">9974</td><td style = \"text-align: right;\">0</td><td style = \"text-align: right;\">101.573</td></tr><tr><td class = \"rowNumber\" style = \"font-weight: bold; text-align: right;\">526</td><td style = \"text-align: right;\">15</td><td style = \"text-align: left;\">missing</td><td style = \"text-align: left;\">M</td><td style = \"text-align: right;\">missing</td><td style = \"text-align: right;\">10099</td><td style = \"text-align: right;\">0</td><td style = \"text-align: right;\">102.229</td></tr></tbody></table></div>"
      ],
      "text/latex": [
       "\\begin{tabular}{r|ccccccc}\n",
       "\t& AGE & MARITAL\\_STATUS & SEX & INCOME & population & estimated\\_population & Z\\_score\\\\\n",
       "\t\\hline\n",
       "\t& Int64 & String? & Char & Int64? & Int64 & Int64? & Float64\\\\\n",
       "\t\\hline\n",
       "\t1 & 20 & Divorced & F & 40000 & 734 & 301 & 16.0019 \\\\\n",
       "\t2 & 20 & Divorced & F & 50000 & 737 & 300 & 16.1169 \\\\\n",
       "\t3 & 20 & Divorced & F & 60000 & 0 & 299 & -Inf \\\\\n",
       "\t4 & 20 & Divorced & F & 70000 & 0 & 302 & -Inf \\\\\n",
       "\t5 & 20 & Divorced & F & 80000 & 0 & 302 & -Inf \\\\\n",
       "\t6 & 20 & Divorced & M & 40000 & 762 & 302 & 16.6852 \\\\\n",
       "\t7 & 20 & Divorced & M & 50000 & 761 & 301 & 16.6962 \\\\\n",
       "\t8 & 20 & Divorced & M & 60000 & 0 & 300 & -Inf \\\\\n",
       "\t9 & 20 & Divorced & M & 70000 & 0 & 303 & -Inf \\\\\n",
       "\t10 & 20 & Divorced & M & 80000 & 0 & 303 & -Inf \\\\\n",
       "\t11 & 20 & Married & F & 40000 & 3668 & 1501 & 36.0011 \\\\\n",
       "\t12 & 20 & Married & F & 50000 & 3759 & 1495 & 37.1602 \\\\\n",
       "\t13 & 20 & Married & F & 60000 & 0 & 1492 & -Inf \\\\\n",
       "\t14 & 20 & Married & F & 70000 & 0 & 1506 & -Inf \\\\\n",
       "\t15 & 20 & Married & F & 80000 & 0 & 1505 & -Inf \\\\\n",
       "\t16 & 20 & Married & M & 40000 & 3797 & 1496 & 37.5805 \\\\\n",
       "\t17 & 20 & Married & M & 50000 & 3707 & 1491 & 36.6234 \\\\\n",
       "\t18 & 20 & Married & M & 60000 & 0 & 1488 & -Inf \\\\\n",
       "\t19 & 20 & Married & M & 70000 & 0 & 1501 & -Inf \\\\\n",
       "\t20 & 20 & Married & M & 80000 & 0 & 1500 & -Inf \\\\\n",
       "\t21 & 20 & Not\\_married & F & 40000 & 2337 & 902 & 29.8003 \\\\\n",
       "\t22 & 20 & Not\\_married & F & 50000 & 2178 & 899 & 27.5058 \\\\\n",
       "\t23 & 20 & Not\\_married & F & 60000 & 0 & 897 & -Inf \\\\\n",
       "\t24 & 20 & Not\\_married & F & 70000 & 0 & 905 & -Inf \\\\\n",
       "\t$\\dots$ & $\\dots$ & $\\dots$ & $\\dots$ & $\\dots$ & $\\dots$ & $\\dots$ & $\\dots$ \\\\\n",
       "\\end{tabular}\n"
      ],
      "text/plain": [
       "\u001b[1m526×7 DataFrame\u001b[0m\n",
       "\u001b[1m Row \u001b[0m│\u001b[1m AGE   \u001b[0m\u001b[1m MARITAL_STATUS \u001b[0m\u001b[1m SEX  \u001b[0m\u001b[1m INCOME  \u001b[0m\u001b[1m population \u001b[0m\u001b[1m estimated_population \u001b[0m\u001b[1m\u001b[0m ⋯\n",
       "     │\u001b[90m Int64 \u001b[0m\u001b[90m String?        \u001b[0m\u001b[90m Char \u001b[0m\u001b[90m Int64?  \u001b[0m\u001b[90m Int64      \u001b[0m\u001b[90m Int64?               \u001b[0m\u001b[90m\u001b[0m ⋯\n",
       "─────┼──────────────────────────────────────────────────────────────────────────\n",
       "   1 │    20  Divorced        F       40000         734                   301  ⋯\n",
       "   2 │    20  Divorced        F       50000         737                   300\n",
       "   3 │    20  Divorced        F       60000           0                   299\n",
       "   4 │    20  Divorced        F       70000           0                   302\n",
       "   5 │    20  Divorced        F       80000           0                   302  ⋯\n",
       "   6 │    20  Divorced        M       40000         762                   302\n",
       "   7 │    20  Divorced        M       50000         761                   301\n",
       "   8 │    20  Divorced        M       60000           0                   300\n",
       "  ⋮  │   ⋮          ⋮          ⋮       ⋮         ⋮                ⋮            ⋱\n",
       " 520 │    80  Widowed         M       80000         248                   163  ⋯\n",
       " 521 │     5 \u001b[90m missing        \u001b[0m F    \u001b[90m missing \u001b[0m       9992                     0\n",
       " 522 │     5 \u001b[90m missing        \u001b[0m M    \u001b[90m missing \u001b[0m       9944                     0\n",
       " 523 │    10 \u001b[90m missing        \u001b[0m F    \u001b[90m missing \u001b[0m       9970                     0\n",
       " 524 │    10 \u001b[90m missing        \u001b[0m M    \u001b[90m missing \u001b[0m      10021                     0  ⋯\n",
       " 525 │    15 \u001b[90m missing        \u001b[0m F    \u001b[90m missing \u001b[0m       9974                     0\n",
       " 526 │    15 \u001b[90m missing        \u001b[0m M    \u001b[90m missing \u001b[0m      10099                     0\n",
       "\u001b[36m                                                   1 column and 511 rows omitted\u001b[0m"
      ]
     },
     "metadata": {},
     "output_type": "display_data"
    }
   ],
   "source": [
    "validate_table(guo_bhat, independent_population)"
   ]
  },
  {
   "attachments": {},
   "cell_type": "markdown",
   "metadata": {},
   "source": [
    "#### Ponge, Enbergs, Schungel, Hellingrath, Karch, Ludwig, 2021"
   ]
  },
  {
   "cell_type": "code",
   "execution_count": 238,
   "metadata": {},
   "outputs": [
    {
     "name": "stdout",
     "output_type": "stream",
     "text": [
      "=================\n",
      "=Cell statistics=\n",
      "=================\n",
      "\n",
      "Percentage of well fitting values at 0.95 confidence interval: 0.5532319391634981\n",
      "Percentage of well fitting values at 0.90 confidence interval: 0.49619771863117873\n",
      "\n",
      "\n",
      "==================\n",
      "=Table statistics=\n",
      "==================\n",
      "\n",
      "Statistic value equals: 65458.752241456736\n",
      "Table is not well fitting.\n"
     ]
    },
    {
     "data": {
      "text/html": [
       "<div><div style = \"float: left;\"><span>526×7 DataFrame</span></div><div style = \"float: right;\"><span style = \"font-style: italic;\">501 rows omitted</span></div><div style = \"clear: both;\"></div></div><div class = \"data-frame\" style = \"overflow-x: scroll;\"><table class = \"data-frame\" style = \"margin-bottom: 6px;\"><thead><tr class = \"header\"><th class = \"rowNumber\" style = \"font-weight: bold; text-align: right;\">Row</th><th style = \"text-align: left;\">AGE</th><th style = \"text-align: left;\">MARITAL_STATUS</th><th style = \"text-align: left;\">SEX</th><th style = \"text-align: left;\">INCOME</th><th style = \"text-align: left;\">population</th><th style = \"text-align: left;\">estimated_population</th><th style = \"text-align: left;\">Z_score</th></tr><tr class = \"subheader headerLastRow\"><th class = \"rowNumber\" style = \"font-weight: bold; text-align: right;\"></th><th title = \"Int64\" style = \"text-align: left;\">Int64</th><th title = \"Union{Missing, String}\" style = \"text-align: left;\">String?</th><th title = \"Char\" style = \"text-align: left;\">Char</th><th title = \"Union{Missing, Int64}\" style = \"text-align: left;\">Int64?</th><th title = \"Int64\" style = \"text-align: left;\">Int64</th><th title = \"Union{Missing, Int64}\" style = \"text-align: left;\">Int64?</th><th title = \"Real\" style = \"text-align: left;\">Real</th></tr></thead><tbody><tr><td class = \"rowNumber\" style = \"font-weight: bold; text-align: right;\">1</td><td style = \"text-align: right;\">20</td><td style = \"text-align: left;\">Divorced</td><td style = \"text-align: left;\">F</td><td style = \"text-align: right;\">40000</td><td style = \"text-align: right;\">734</td><td style = \"text-align: right;\">753</td><td style = \"text-align: right;\">-0.702162</td></tr><tr><td class = \"rowNumber\" style = \"font-weight: bold; text-align: right;\">2</td><td style = \"text-align: right;\">20</td><td style = \"text-align: left;\">Divorced</td><td style = \"text-align: left;\">F</td><td style = \"text-align: right;\">50000</td><td style = \"text-align: right;\">737</td><td style = \"text-align: right;\">751</td><td style = \"text-align: right;\">-0.516331</td></tr><tr><td class = \"rowNumber\" style = \"font-weight: bold; text-align: right;\">3</td><td style = \"text-align: right;\">20</td><td style = \"text-align: left;\">Divorced</td><td style = \"text-align: left;\">F</td><td style = \"text-align: right;\">60000</td><td style = \"text-align: right;\">0</td><td style = \"text-align: right;\">0</td><td style = \"text-align: right;\">0</td></tr><tr><td class = \"rowNumber\" style = \"font-weight: bold; text-align: right;\">4</td><td style = \"text-align: right;\">20</td><td style = \"text-align: left;\">Divorced</td><td style = \"text-align: left;\">F</td><td style = \"text-align: right;\">70000</td><td style = \"text-align: right;\">0</td><td style = \"text-align: right;\">0</td><td style = \"text-align: right;\">0</td></tr><tr><td class = \"rowNumber\" style = \"font-weight: bold; text-align: right;\">5</td><td style = \"text-align: right;\">20</td><td style = \"text-align: left;\">Divorced</td><td style = \"text-align: left;\">F</td><td style = \"text-align: right;\">80000</td><td style = \"text-align: right;\">0</td><td style = \"text-align: right;\">0</td><td style = \"text-align: right;\">0</td></tr><tr><td class = \"rowNumber\" style = \"font-weight: bold; text-align: right;\">6</td><td style = \"text-align: right;\">20</td><td style = \"text-align: left;\">Divorced</td><td style = \"text-align: left;\">M</td><td style = \"text-align: right;\">40000</td><td style = \"text-align: right;\">762</td><td style = \"text-align: right;\">756</td><td style = \"text-align: right;\">0.217634</td></tr><tr><td class = \"rowNumber\" style = \"font-weight: bold; text-align: right;\">7</td><td style = \"text-align: right;\">20</td><td style = \"text-align: left;\">Divorced</td><td style = \"text-align: left;\">M</td><td style = \"text-align: right;\">50000</td><td style = \"text-align: right;\">761</td><td style = \"text-align: right;\">754</td><td style = \"text-align: right;\">0.254072</td></tr><tr><td class = \"rowNumber\" style = \"font-weight: bold; text-align: right;\">8</td><td style = \"text-align: right;\">20</td><td style = \"text-align: left;\">Divorced</td><td style = \"text-align: left;\">M</td><td style = \"text-align: right;\">60000</td><td style = \"text-align: right;\">0</td><td style = \"text-align: right;\">0</td><td style = \"text-align: right;\">0</td></tr><tr><td class = \"rowNumber\" style = \"font-weight: bold; text-align: right;\">9</td><td style = \"text-align: right;\">20</td><td style = \"text-align: left;\">Divorced</td><td style = \"text-align: left;\">M</td><td style = \"text-align: right;\">70000</td><td style = \"text-align: right;\">0</td><td style = \"text-align: right;\">0</td><td style = \"text-align: right;\">0</td></tr><tr><td class = \"rowNumber\" style = \"font-weight: bold; text-align: right;\">10</td><td style = \"text-align: right;\">20</td><td style = \"text-align: left;\">Divorced</td><td style = \"text-align: left;\">M</td><td style = \"text-align: right;\">80000</td><td style = \"text-align: right;\">0</td><td style = \"text-align: right;\">0</td><td style = \"text-align: right;\">0</td></tr><tr><td class = \"rowNumber\" style = \"font-weight: bold; text-align: right;\">11</td><td style = \"text-align: right;\">20</td><td style = \"text-align: left;\">Married</td><td style = \"text-align: left;\">F</td><td style = \"text-align: right;\">40000</td><td style = \"text-align: right;\">3668</td><td style = \"text-align: right;\">3756</td><td style = \"text-align: right;\">-1.46197</td></tr><tr><td class = \"rowNumber\" style = \"font-weight: bold; text-align: right;\">12</td><td style = \"text-align: right;\">20</td><td style = \"text-align: left;\">Married</td><td style = \"text-align: left;\">F</td><td style = \"text-align: right;\">50000</td><td style = \"text-align: right;\">3759</td><td style = \"text-align: right;\">3743</td><td style = \"text-align: right;\">0.262616</td></tr><tr><td class = \"rowNumber\" style = \"font-weight: bold; text-align: right;\">13</td><td style = \"text-align: right;\">20</td><td style = \"text-align: left;\">Married</td><td style = \"text-align: left;\">F</td><td style = \"text-align: right;\">60000</td><td style = \"text-align: right;\">0</td><td style = \"text-align: right;\">0</td><td style = \"text-align: right;\">0</td></tr><tr><td style = \"text-align: right;\">&vellip;</td><td style = \"text-align: right;\">&vellip;</td><td style = \"text-align: right;\">&vellip;</td><td style = \"text-align: right;\">&vellip;</td><td style = \"text-align: right;\">&vellip;</td><td style = \"text-align: right;\">&vellip;</td><td style = \"text-align: right;\">&vellip;</td><td style = \"text-align: right;\">&vellip;</td></tr><tr><td class = \"rowNumber\" style = \"font-weight: bold; text-align: right;\">515</td><td style = \"text-align: right;\">80</td><td style = \"text-align: left;\">Widowed</td><td style = \"text-align: left;\">F</td><td style = \"text-align: right;\">80000</td><td style = \"text-align: right;\">214</td><td style = \"text-align: right;\">206</td><td style = \"text-align: right;\">0.547064</td></tr><tr><td class = \"rowNumber\" style = \"font-weight: bold; text-align: right;\">516</td><td style = \"text-align: right;\">80</td><td style = \"text-align: left;\">Widowed</td><td style = \"text-align: left;\">M</td><td style = \"text-align: right;\">40000</td><td style = \"text-align: right;\">78</td><td style = \"text-align: right;\">101</td><td style = \"text-align: right;\">-2.60458</td></tr><tr><td class = \"rowNumber\" style = \"font-weight: bold; text-align: right;\">517</td><td style = \"text-align: right;\">80</td><td style = \"text-align: left;\">Widowed</td><td style = \"text-align: left;\">M</td><td style = \"text-align: right;\">50000</td><td style = \"text-align: right;\">73</td><td style = \"text-align: right;\">101</td><td style = \"text-align: right;\">-3.27755</td></tr><tr><td class = \"rowNumber\" style = \"font-weight: bold; text-align: right;\">518</td><td style = \"text-align: right;\">80</td><td style = \"text-align: left;\">Widowed</td><td style = \"text-align: left;\">M</td><td style = \"text-align: right;\">60000</td><td style = \"text-align: right;\">213</td><td style = \"text-align: right;\">201</td><td style = \"text-align: right;\">0.822518</td></tr><tr><td class = \"rowNumber\" style = \"font-weight: bold; text-align: right;\">519</td><td style = \"text-align: right;\">80</td><td style = \"text-align: left;\">Widowed</td><td style = \"text-align: left;\">M</td><td style = \"text-align: right;\">70000</td><td style = \"text-align: right;\">195</td><td style = \"text-align: right;\">203</td><td style = \"text-align: right;\">-0.573078</td></tr><tr><td class = \"rowNumber\" style = \"font-weight: bold; text-align: right;\">520</td><td style = \"text-align: right;\">80</td><td style = \"text-align: left;\">Widowed</td><td style = \"text-align: left;\">M</td><td style = \"text-align: right;\">80000</td><td style = \"text-align: right;\">248</td><td style = \"text-align: right;\">203</td><td style = \"text-align: right;\">2.85868</td></tr><tr><td class = \"rowNumber\" style = \"font-weight: bold; text-align: right;\">521</td><td style = \"text-align: right;\">5</td><td style = \"text-align: left;\">missing</td><td style = \"text-align: left;\">F</td><td style = \"text-align: right;\">missing</td><td style = \"text-align: right;\">9992</td><td style = \"text-align: right;\">0</td><td style = \"text-align: right;\">101.667</td></tr><tr><td class = \"rowNumber\" style = \"font-weight: bold; text-align: right;\">522</td><td style = \"text-align: right;\">5</td><td style = \"text-align: left;\">missing</td><td style = \"text-align: left;\">M</td><td style = \"text-align: right;\">missing</td><td style = \"text-align: right;\">9944</td><td style = \"text-align: right;\">0</td><td style = \"text-align: right;\">101.415</td></tr><tr><td class = \"rowNumber\" style = \"font-weight: bold; text-align: right;\">523</td><td style = \"text-align: right;\">10</td><td style = \"text-align: left;\">missing</td><td style = \"text-align: left;\">F</td><td style = \"text-align: right;\">missing</td><td style = \"text-align: right;\">9970</td><td style = \"text-align: right;\">0</td><td style = \"text-align: right;\">101.552</td></tr><tr><td class = \"rowNumber\" style = \"font-weight: bold; text-align: right;\">524</td><td style = \"text-align: right;\">10</td><td style = \"text-align: left;\">missing</td><td style = \"text-align: left;\">M</td><td style = \"text-align: right;\">missing</td><td style = \"text-align: right;\">10021</td><td style = \"text-align: right;\">0</td><td style = \"text-align: right;\">101.82</td></tr><tr><td class = \"rowNumber\" style = \"font-weight: bold; text-align: right;\">525</td><td style = \"text-align: right;\">15</td><td style = \"text-align: left;\">missing</td><td style = \"text-align: left;\">F</td><td style = \"text-align: right;\">missing</td><td style = \"text-align: right;\">9974</td><td style = \"text-align: right;\">0</td><td style = \"text-align: right;\">101.573</td></tr><tr><td class = \"rowNumber\" style = \"font-weight: bold; text-align: right;\">526</td><td style = \"text-align: right;\">15</td><td style = \"text-align: left;\">missing</td><td style = \"text-align: left;\">M</td><td style = \"text-align: right;\">missing</td><td style = \"text-align: right;\">10099</td><td style = \"text-align: right;\">0</td><td style = \"text-align: right;\">102.229</td></tr></tbody></table></div>"
      ],
      "text/latex": [
       "\\begin{tabular}{r|ccccccc}\n",
       "\t& AGE & MARITAL\\_STATUS & SEX & INCOME & population & estimated\\_population & Z\\_score\\\\\n",
       "\t\\hline\n",
       "\t& Int64 & String? & Char & Int64? & Int64 & Int64? & Real\\\\\n",
       "\t\\hline\n",
       "\t1 & 20 & Divorced & F & 40000 & 734 & 753 & -0.702162 \\\\\n",
       "\t2 & 20 & Divorced & F & 50000 & 737 & 751 & -0.516331 \\\\\n",
       "\t3 & 20 & Divorced & F & 60000 & 0 & 0 & 0 \\\\\n",
       "\t4 & 20 & Divorced & F & 70000 & 0 & 0 & 0 \\\\\n",
       "\t5 & 20 & Divorced & F & 80000 & 0 & 0 & 0 \\\\\n",
       "\t6 & 20 & Divorced & M & 40000 & 762 & 756 & 0.217634 \\\\\n",
       "\t7 & 20 & Divorced & M & 50000 & 761 & 754 & 0.254072 \\\\\n",
       "\t8 & 20 & Divorced & M & 60000 & 0 & 0 & 0 \\\\\n",
       "\t9 & 20 & Divorced & M & 70000 & 0 & 0 & 0 \\\\\n",
       "\t10 & 20 & Divorced & M & 80000 & 0 & 0 & 0 \\\\\n",
       "\t11 & 20 & Married & F & 40000 & 3668 & 3756 & -1.46197 \\\\\n",
       "\t12 & 20 & Married & F & 50000 & 3759 & 3743 & 0.262616 \\\\\n",
       "\t13 & 20 & Married & F & 60000 & 0 & 0 & 0 \\\\\n",
       "\t14 & 20 & Married & F & 70000 & 0 & 0 & 0 \\\\\n",
       "\t15 & 20 & Married & F & 80000 & 0 & 0 & 0 \\\\\n",
       "\t16 & 20 & Married & M & 40000 & 3797 & 3744 & 0.865608 \\\\\n",
       "\t17 & 20 & Married & M & 50000 & 3707 & 3731 & -0.396643 \\\\\n",
       "\t18 & 20 & Married & M & 60000 & 0 & 0 & 0 \\\\\n",
       "\t19 & 20 & Married & M & 70000 & 0 & 0 & 0 \\\\\n",
       "\t20 & 20 & Married & M & 80000 & 0 & 0 & 0 \\\\\n",
       "\t21 & 20 & Not\\_married & F & 40000 & 2337 & 2258 & 1.64057 \\\\\n",
       "\t22 & 20 & Not\\_married & F & 50000 & 2178 & 2249 & -1.5269 \\\\\n",
       "\t23 & 20 & Not\\_married & F & 60000 & 0 & 0 & 0 \\\\\n",
       "\t24 & 20 & Not\\_married & F & 70000 & 0 & 0 & 0 \\\\\n",
       "\t$\\dots$ & $\\dots$ & $\\dots$ & $\\dots$ & $\\dots$ & $\\dots$ & $\\dots$ & $\\dots$ \\\\\n",
       "\\end{tabular}\n"
      ],
      "text/plain": [
       "\u001b[1m526×7 DataFrame\u001b[0m\n",
       "\u001b[1m Row \u001b[0m│\u001b[1m AGE   \u001b[0m\u001b[1m MARITAL_STATUS \u001b[0m\u001b[1m SEX  \u001b[0m\u001b[1m INCOME  \u001b[0m\u001b[1m population \u001b[0m\u001b[1m estimated_population \u001b[0m\u001b[1m\u001b[0m ⋯\n",
       "     │\u001b[90m Int64 \u001b[0m\u001b[90m String?        \u001b[0m\u001b[90m Char \u001b[0m\u001b[90m Int64?  \u001b[0m\u001b[90m Int64      \u001b[0m\u001b[90m Int64?               \u001b[0m\u001b[90m\u001b[0m ⋯\n",
       "─────┼──────────────────────────────────────────────────────────────────────────\n",
       "   1 │    20  Divorced        F       40000         734                   753  ⋯\n",
       "   2 │    20  Divorced        F       50000         737                   751\n",
       "   3 │    20  Divorced        F       60000           0                     0\n",
       "   4 │    20  Divorced        F       70000           0                     0\n",
       "   5 │    20  Divorced        F       80000           0                     0  ⋯\n",
       "   6 │    20  Divorced        M       40000         762                   756\n",
       "   7 │    20  Divorced        M       50000         761                   754\n",
       "   8 │    20  Divorced        M       60000           0                     0\n",
       "  ⋮  │   ⋮          ⋮          ⋮       ⋮         ⋮                ⋮            ⋱\n",
       " 520 │    80  Widowed         M       80000         248                   203  ⋯\n",
       " 521 │     5 \u001b[90m missing        \u001b[0m F    \u001b[90m missing \u001b[0m       9992                     0\n",
       " 522 │     5 \u001b[90m missing        \u001b[0m M    \u001b[90m missing \u001b[0m       9944                     0\n",
       " 523 │    10 \u001b[90m missing        \u001b[0m F    \u001b[90m missing \u001b[0m       9970                     0\n",
       " 524 │    10 \u001b[90m missing        \u001b[0m M    \u001b[90m missing \u001b[0m      10021                     0  ⋯\n",
       " 525 │    15 \u001b[90m missing        \u001b[0m F    \u001b[90m missing \u001b[0m       9974                     0\n",
       " 526 │    15 \u001b[90m missing        \u001b[0m M    \u001b[90m missing \u001b[0m      10099                     0\n",
       "\u001b[36m                                                   1 column and 511 rows omitted\u001b[0m"
      ]
     },
     "metadata": {},
     "output_type": "display_data"
    }
   ],
   "source": [
    "validate_table(ponge_et_al, independent_population)"
   ]
  },
  {
   "attachments": {},
   "cell_type": "markdown",
   "metadata": {},
   "source": [
    "#### Modified algorithm"
   ]
  },
  {
   "cell_type": "code",
   "execution_count": 239,
   "metadata": {},
   "outputs": [
    {
     "name": "stdout",
     "output_type": "stream",
     "text": [
      "=================\n",
      "=Cell statistics=\n",
      "=================\n",
      "\n",
      "Percentage of well fitting values at 0.95 confidence interval: 0.564638783269962\n",
      "Percentage of well fitting values at 0.90 confidence interval: 0.5057034220532319\n",
      "\n",
      "\n",
      "==================\n",
      "=Table statistics=\n",
      "==================\n",
      "\n",
      "Statistic value equals: 3388.672973177534\n",
      "Table is not well fitting.\n"
     ]
    },
    {
     "data": {
      "text/html": [
       "<div><div style = \"float: left;\"><span>526×7 DataFrame</span></div><div style = \"float: right;\"><span style = \"font-style: italic;\">501 rows omitted</span></div><div style = \"clear: both;\"></div></div><div class = \"data-frame\" style = \"overflow-x: scroll;\"><table class = \"data-frame\" style = \"margin-bottom: 6px;\"><thead><tr class = \"header\"><th class = \"rowNumber\" style = \"font-weight: bold; text-align: right;\">Row</th><th style = \"text-align: left;\">AGE</th><th style = \"text-align: left;\">MARITAL_STATUS</th><th style = \"text-align: left;\">SEX</th><th style = \"text-align: left;\">INCOME</th><th style = \"text-align: left;\">population</th><th style = \"text-align: left;\">estimated_population</th><th style = \"text-align: left;\">Z_score</th></tr><tr class = \"subheader headerLastRow\"><th class = \"rowNumber\" style = \"font-weight: bold; text-align: right;\"></th><th title = \"Int64\" style = \"text-align: left;\">Int64</th><th title = \"Union{Missing, String}\" style = \"text-align: left;\">String?</th><th title = \"Char\" style = \"text-align: left;\">Char</th><th title = \"Union{Missing, Int64}\" style = \"text-align: left;\">Int64?</th><th title = \"Int64\" style = \"text-align: left;\">Int64</th><th title = \"Union{Missing, Int64}\" style = \"text-align: left;\">Int64?</th><th title = \"Real\" style = \"text-align: left;\">Real</th></tr></thead><tbody><tr><td class = \"rowNumber\" style = \"font-weight: bold; text-align: right;\">1</td><td style = \"text-align: right;\">20</td><td style = \"text-align: left;\">Divorced</td><td style = \"text-align: left;\">F</td><td style = \"text-align: right;\">40000</td><td style = \"text-align: right;\">734</td><td style = \"text-align: right;\">753</td><td style = \"text-align: right;\">-0.702162</td></tr><tr><td class = \"rowNumber\" style = \"font-weight: bold; text-align: right;\">2</td><td style = \"text-align: right;\">20</td><td style = \"text-align: left;\">Divorced</td><td style = \"text-align: left;\">M</td><td style = \"text-align: right;\">40000</td><td style = \"text-align: right;\">762</td><td style = \"text-align: right;\">756</td><td style = \"text-align: right;\">0.217634</td></tr><tr><td class = \"rowNumber\" style = \"font-weight: bold; text-align: right;\">3</td><td style = \"text-align: right;\">20</td><td style = \"text-align: left;\">Married</td><td style = \"text-align: left;\">F</td><td style = \"text-align: right;\">40000</td><td style = \"text-align: right;\">3668</td><td style = \"text-align: right;\">3756</td><td style = \"text-align: right;\">-1.46197</td></tr><tr><td class = \"rowNumber\" style = \"font-weight: bold; text-align: right;\">4</td><td style = \"text-align: right;\">20</td><td style = \"text-align: left;\">Married</td><td style = \"text-align: left;\">M</td><td style = \"text-align: right;\">40000</td><td style = \"text-align: right;\">3797</td><td style = \"text-align: right;\">3744</td><td style = \"text-align: right;\">0.865608</td></tr><tr><td class = \"rowNumber\" style = \"font-weight: bold; text-align: right;\">5</td><td style = \"text-align: right;\">20</td><td style = \"text-align: left;\">Not_married</td><td style = \"text-align: left;\">F</td><td style = \"text-align: right;\">40000</td><td style = \"text-align: right;\">2337</td><td style = \"text-align: right;\">2257</td><td style = \"text-align: right;\">1.66134</td></tr><tr><td class = \"rowNumber\" style = \"font-weight: bold; text-align: right;\">6</td><td style = \"text-align: right;\">20</td><td style = \"text-align: left;\">Not_married</td><td style = \"text-align: left;\">M</td><td style = \"text-align: right;\">40000</td><td style = \"text-align: right;\">2223</td><td style = \"text-align: right;\">2234</td><td style = \"text-align: right;\">-0.234174</td></tr><tr><td class = \"rowNumber\" style = \"font-weight: bold; text-align: right;\">7</td><td style = \"text-align: right;\">20</td><td style = \"text-align: left;\">Widowed</td><td style = \"text-align: left;\">F</td><td style = \"text-align: right;\">40000</td><td style = \"text-align: right;\">844</td><td style = \"text-align: right;\">759</td><td style = \"text-align: right;\">2.92995</td></tr><tr><td class = \"rowNumber\" style = \"font-weight: bold; text-align: right;\">8</td><td style = \"text-align: right;\">20</td><td style = \"text-align: left;\">Widowed</td><td style = \"text-align: left;\">M</td><td style = \"text-align: right;\">40000</td><td style = \"text-align: right;\">768</td><td style = \"text-align: right;\">747</td><td style = \"text-align: right;\">0.758744</td></tr><tr><td class = \"rowNumber\" style = \"font-weight: bold; text-align: right;\">9</td><td style = \"text-align: right;\">25</td><td style = \"text-align: left;\">Divorced</td><td style = \"text-align: left;\">F</td><td style = \"text-align: right;\">40000</td><td style = \"text-align: right;\">765</td><td style = \"text-align: right;\">756</td><td style = \"text-align: right;\">0.325811</td></tr><tr><td class = \"rowNumber\" style = \"font-weight: bold; text-align: right;\">10</td><td style = \"text-align: right;\">25</td><td style = \"text-align: left;\">Divorced</td><td style = \"text-align: left;\">M</td><td style = \"text-align: right;\">40000</td><td style = \"text-align: right;\">785</td><td style = \"text-align: right;\">757</td><td style = \"text-align: right;\">1.00067</td></tr><tr><td class = \"rowNumber\" style = \"font-weight: bold; text-align: right;\">11</td><td style = \"text-align: right;\">25</td><td style = \"text-align: left;\">Married</td><td style = \"text-align: left;\">F</td><td style = \"text-align: right;\">40000</td><td style = \"text-align: right;\">3719</td><td style = \"text-align: right;\">3770</td><td style = \"text-align: right;\">-0.841523</td></tr><tr><td class = \"rowNumber\" style = \"font-weight: bold; text-align: right;\">12</td><td style = \"text-align: right;\">25</td><td style = \"text-align: left;\">Married</td><td style = \"text-align: left;\">M</td><td style = \"text-align: right;\">40000</td><td style = \"text-align: right;\">3732</td><td style = \"text-align: right;\">3749</td><td style = \"text-align: right;\">-0.280025</td></tr><tr><td class = \"rowNumber\" style = \"font-weight: bold; text-align: right;\">13</td><td style = \"text-align: right;\">25</td><td style = \"text-align: left;\">Not_married</td><td style = \"text-align: left;\">F</td><td style = \"text-align: right;\">40000</td><td style = \"text-align: right;\">2293</td><td style = \"text-align: right;\">2266</td><td style = \"text-align: right;\">0.566015</td></tr><tr><td style = \"text-align: right;\">&vellip;</td><td style = \"text-align: right;\">&vellip;</td><td style = \"text-align: right;\">&vellip;</td><td style = \"text-align: right;\">&vellip;</td><td style = \"text-align: right;\">&vellip;</td><td style = \"text-align: right;\">&vellip;</td><td style = \"text-align: right;\">&vellip;</td><td style = \"text-align: right;\">&vellip;</td></tr><tr><td class = \"rowNumber\" style = \"font-weight: bold; text-align: right;\">515</td><td style = \"text-align: right;\">80</td><td style = \"text-align: left;\">Married</td><td style = \"text-align: left;\">F</td><td style = \"text-align: right;\">80000</td><td style = \"text-align: right;\">1117</td><td style = \"text-align: right;\">1021</td><td style = \"text-align: right;\">2.87776</td></tr><tr><td class = \"rowNumber\" style = \"font-weight: bold; text-align: right;\">516</td><td style = \"text-align: right;\">80</td><td style = \"text-align: left;\">Married</td><td style = \"text-align: left;\">M</td><td style = \"text-align: right;\">80000</td><td style = \"text-align: right;\">1049</td><td style = \"text-align: right;\">1018</td><td style = \"text-align: right;\">0.958814</td></tr><tr><td class = \"rowNumber\" style = \"font-weight: bold; text-align: right;\">517</td><td style = \"text-align: right;\">80</td><td style = \"text-align: left;\">Not_married</td><td style = \"text-align: left;\">F</td><td style = \"text-align: right;\">80000</td><td style = \"text-align: right;\">672</td><td style = \"text-align: right;\">614</td><td style = \"text-align: right;\">2.23991</td></tr><tr><td class = \"rowNumber\" style = \"font-weight: bold; text-align: right;\">518</td><td style = \"text-align: right;\">80</td><td style = \"text-align: left;\">Not_married</td><td style = \"text-align: left;\">M</td><td style = \"text-align: right;\">80000</td><td style = \"text-align: right;\">625</td><td style = \"text-align: right;\">608</td><td style = \"text-align: right;\">0.680709</td></tr><tr><td class = \"rowNumber\" style = \"font-weight: bold; text-align: right;\">519</td><td style = \"text-align: right;\">80</td><td style = \"text-align: left;\">Widowed</td><td style = \"text-align: left;\">F</td><td style = \"text-align: right;\">80000</td><td style = \"text-align: right;\">214</td><td style = \"text-align: right;\">206</td><td style = \"text-align: right;\">0.547064</td></tr><tr><td class = \"rowNumber\" style = \"font-weight: bold; text-align: right;\">520</td><td style = \"text-align: right;\">80</td><td style = \"text-align: left;\">Widowed</td><td style = \"text-align: left;\">M</td><td style = \"text-align: right;\">80000</td><td style = \"text-align: right;\">248</td><td style = \"text-align: right;\">203</td><td style = \"text-align: right;\">2.85868</td></tr><tr><td class = \"rowNumber\" style = \"font-weight: bold; text-align: right;\">521</td><td style = \"text-align: right;\">5</td><td style = \"text-align: left;\">missing</td><td style = \"text-align: left;\">F</td><td style = \"text-align: right;\">missing</td><td style = \"text-align: right;\">9992</td><td style = \"text-align: right;\">9995</td><td style = \"text-align: right;\">-0.0305246</td></tr><tr><td class = \"rowNumber\" style = \"font-weight: bold; text-align: right;\">522</td><td style = \"text-align: right;\">5</td><td style = \"text-align: left;\">missing</td><td style = \"text-align: left;\">M</td><td style = \"text-align: right;\">missing</td><td style = \"text-align: right;\">9944</td><td style = \"text-align: right;\">9944</td><td style = \"text-align: right;\">0.0</td></tr><tr><td class = \"rowNumber\" style = \"font-weight: bold; text-align: right;\">523</td><td style = \"text-align: right;\">10</td><td style = \"text-align: left;\">missing</td><td style = \"text-align: left;\">F</td><td style = \"text-align: right;\">missing</td><td style = \"text-align: right;\">9970</td><td style = \"text-align: right;\">9968</td><td style = \"text-align: right;\">0.0203714</td></tr><tr><td class = \"rowNumber\" style = \"font-weight: bold; text-align: right;\">524</td><td style = \"text-align: right;\">10</td><td style = \"text-align: left;\">missing</td><td style = \"text-align: left;\">M</td><td style = \"text-align: right;\">missing</td><td style = \"text-align: right;\">10021</td><td style = \"text-align: right;\">10019</td><td style = \"text-align: right;\">0.0203213</td></tr><tr><td class = \"rowNumber\" style = \"font-weight: bold; text-align: right;\">525</td><td style = \"text-align: right;\">15</td><td style = \"text-align: left;\">missing</td><td style = \"text-align: left;\">F</td><td style = \"text-align: right;\">missing</td><td style = \"text-align: right;\">9974</td><td style = \"text-align: right;\">9973</td><td style = \"text-align: right;\">0.0101837</td></tr><tr><td class = \"rowNumber\" style = \"font-weight: bold; text-align: right;\">526</td><td style = \"text-align: right;\">15</td><td style = \"text-align: left;\">missing</td><td style = \"text-align: left;\">M</td><td style = \"text-align: right;\">missing</td><td style = \"text-align: right;\">10099</td><td style = \"text-align: right;\">10099</td><td style = \"text-align: right;\">0.0</td></tr></tbody></table></div>"
      ],
      "text/latex": [
       "\\begin{tabular}{r|ccccccc}\n",
       "\t& AGE & MARITAL\\_STATUS & SEX & INCOME & population & estimated\\_population & Z\\_score\\\\\n",
       "\t\\hline\n",
       "\t& Int64 & String? & Char & Int64? & Int64 & Int64? & Real\\\\\n",
       "\t\\hline\n",
       "\t1 & 20 & Divorced & F & 40000 & 734 & 753 & -0.702162 \\\\\n",
       "\t2 & 20 & Divorced & M & 40000 & 762 & 756 & 0.217634 \\\\\n",
       "\t3 & 20 & Married & F & 40000 & 3668 & 3756 & -1.46197 \\\\\n",
       "\t4 & 20 & Married & M & 40000 & 3797 & 3744 & 0.865608 \\\\\n",
       "\t5 & 20 & Not\\_married & F & 40000 & 2337 & 2257 & 1.66134 \\\\\n",
       "\t6 & 20 & Not\\_married & M & 40000 & 2223 & 2234 & -0.234174 \\\\\n",
       "\t7 & 20 & Widowed & F & 40000 & 844 & 759 & 2.92995 \\\\\n",
       "\t8 & 20 & Widowed & M & 40000 & 768 & 747 & 0.758744 \\\\\n",
       "\t9 & 25 & Divorced & F & 40000 & 765 & 756 & 0.325811 \\\\\n",
       "\t10 & 25 & Divorced & M & 40000 & 785 & 757 & 1.00067 \\\\\n",
       "\t11 & 25 & Married & F & 40000 & 3719 & 3770 & -0.841523 \\\\\n",
       "\t12 & 25 & Married & M & 40000 & 3732 & 3749 & -0.280025 \\\\\n",
       "\t13 & 25 & Not\\_married & F & 40000 & 2293 & 2266 & 0.566015 \\\\\n",
       "\t14 & 25 & Not\\_married & M & 40000 & 2201 & 2238 & -0.791573 \\\\\n",
       "\t15 & 25 & Widowed & F & 40000 & 772 & 762 & 0.360372 \\\\\n",
       "\t16 & 25 & Widowed & M & 40000 & 740 & 748 & -0.294449 \\\\\n",
       "\t17 & 30 & Divorced & F & 40000 & 75 & 102 & -3.11808 \\\\\n",
       "\t18 & 30 & Divorced & M & 40000 & 77 & 104 & -3.07733 \\\\\n",
       "\t19 & 30 & Married & F & 40000 & 412 & 511 & -4.88073 \\\\\n",
       "\t20 & 30 & Married & M & 40000 & 433 & 512 & -3.79924 \\\\\n",
       "\t21 & 30 & Not\\_married & F & 40000 & 259 & 307 & -2.98386 \\\\\n",
       "\t22 & 30 & Not\\_married & M & 40000 & 238 & 306 & -4.40953 \\\\\n",
       "\t23 & 30 & Widowed & F & 40000 & 77 & 103 & -2.96336 \\\\\n",
       "\t24 & 30 & Widowed & M & 40000 & 91 & 102 & -1.15329 \\\\\n",
       "\t$\\dots$ & $\\dots$ & $\\dots$ & $\\dots$ & $\\dots$ & $\\dots$ & $\\dots$ & $\\dots$ \\\\\n",
       "\\end{tabular}\n"
      ],
      "text/plain": [
       "\u001b[1m526×7 DataFrame\u001b[0m\n",
       "\u001b[1m Row \u001b[0m│\u001b[1m AGE   \u001b[0m\u001b[1m MARITAL_STATUS \u001b[0m\u001b[1m SEX  \u001b[0m\u001b[1m INCOME  \u001b[0m\u001b[1m population \u001b[0m\u001b[1m estimated_population \u001b[0m\u001b[1m\u001b[0m ⋯\n",
       "     │\u001b[90m Int64 \u001b[0m\u001b[90m String?        \u001b[0m\u001b[90m Char \u001b[0m\u001b[90m Int64?  \u001b[0m\u001b[90m Int64      \u001b[0m\u001b[90m Int64?               \u001b[0m\u001b[90m\u001b[0m ⋯\n",
       "─────┼──────────────────────────────────────────────────────────────────────────\n",
       "   1 │    20  Divorced        F       40000         734                   753  ⋯\n",
       "   2 │    20  Divorced        M       40000         762                   756\n",
       "   3 │    20  Married         F       40000        3668                  3756\n",
       "   4 │    20  Married         M       40000        3797                  3744\n",
       "   5 │    20  Not_married     F       40000        2337                  2257  ⋯\n",
       "   6 │    20  Not_married     M       40000        2223                  2234\n",
       "   7 │    20  Widowed         F       40000         844                   759\n",
       "   8 │    20  Widowed         M       40000         768                   747\n",
       "  ⋮  │   ⋮          ⋮          ⋮       ⋮         ⋮                ⋮            ⋱\n",
       " 520 │    80  Widowed         M       80000         248                   203  ⋯\n",
       " 521 │     5 \u001b[90m missing        \u001b[0m F    \u001b[90m missing \u001b[0m       9992                  9995\n",
       " 522 │     5 \u001b[90m missing        \u001b[0m M    \u001b[90m missing \u001b[0m       9944                  9944\n",
       " 523 │    10 \u001b[90m missing        \u001b[0m F    \u001b[90m missing \u001b[0m       9970                  9968\n",
       " 524 │    10 \u001b[90m missing        \u001b[0m M    \u001b[90m missing \u001b[0m      10021                 10019  ⋯\n",
       " 525 │    15 \u001b[90m missing        \u001b[0m F    \u001b[90m missing \u001b[0m       9974                  9973\n",
       " 526 │    15 \u001b[90m missing        \u001b[0m M    \u001b[90m missing \u001b[0m      10099                 10099\n",
       "\u001b[36m                                                   1 column and 511 rows omitted\u001b[0m"
      ]
     },
     "metadata": {},
     "output_type": "display_data"
    }
   ],
   "source": [
    "res = validate_table(modified, independent_population)"
   ]
  },
  {
   "attachments": {},
   "cell_type": "markdown",
   "metadata": {},
   "source": [
    "### 1.5 Internal Validation"
   ]
  },
  {
   "attachments": {},
   "cell_type": "markdown",
   "metadata": {},
   "source": [
    "Once the tables have been generated, the internal validation can be performed. This is done to assess the distance between input contingency tables the the generated tables."
   ]
  },
  {
   "attachments": {},
   "cell_type": "markdown",
   "metadata": {},
   "source": [
    "#### Guo, Bhat, 2007"
   ]
  },
  {
   "cell_type": "code",
   "execution_count": 240,
   "metadata": {},
   "outputs": [
    {
     "data": {
      "text/plain": [
       "(\u001b[1m32×3 DataFrame\u001b[0m\n",
       "\u001b[1m Row \u001b[0m│\u001b[1m AGE   \u001b[0m\u001b[1m SEX  \u001b[0m\u001b[1m population \u001b[0m\n",
       "     │\u001b[90m Int64 \u001b[0m\u001b[90m Char \u001b[0m\u001b[90m Int64      \u001b[0m\n",
       "─────┼─────────────────────────\n",
       "   1 │     5  F           9992\n",
       "   2 │     5  M           9942\n",
       "   3 │    10  F           9969\n",
       "   4 │    10  M          10023\n",
       "   5 │    15  F           9974\n",
       "   6 │    15  M          10100\n",
       "   7 │    20  F          15024\n",
       "   8 │    20  M          14940\n",
       "  ⋮  │   ⋮     ⋮        ⋮\n",
       "  26 │    65  M           7995\n",
       "  27 │    70  F           8328\n",
       "  28 │    70  M           8316\n",
       "  29 │    75  F           8199\n",
       "  30 │    75  M           8210\n",
       "  31 │    80  F           8157\n",
       "  32 │    80  M           8115\n",
       "\u001b[36m                17 rows omitted\u001b[0m, \u001b[1m8×3 DataFrame\u001b[0m\n",
       "\u001b[1m Row \u001b[0m│\u001b[1m MARITAL_STATUS \u001b[0m\u001b[1m SEX  \u001b[0m\u001b[1m population \u001b[0m\n",
       "     │\u001b[90m String         \u001b[0m\u001b[90m Char \u001b[0m\u001b[90m Int64      \u001b[0m\n",
       "─────┼──────────────────────────────────\n",
       "   1 │ Divorced        F          15014\n",
       "   2 │ Divorced        M          15169\n",
       "   3 │ Married         F          74850\n",
       "   4 │ Married         M          75081\n",
       "   5 │ Not_married     F          44982\n",
       "   6 │ Not_married     M          44808\n",
       "   7 │ Widowed         F          15128\n",
       "   8 │ Widowed         M          14988, \u001b[1m5×2 DataFrame\u001b[0m\n",
       "\u001b[1m Row \u001b[0m│\u001b[1m INCOME \u001b[0m\u001b[1m population \u001b[0m\n",
       "     │\u001b[90m Int64  \u001b[0m\u001b[90m Int64      \u001b[0m\n",
       "─────┼────────────────────\n",
       "   1 │  40000       60052\n",
       "   2 │  50000       59833\n",
       "   3 │  60000       59702\n",
       "   4 │  70000       60234\n",
       "   5 │  80000       60199)"
      ]
     },
     "metadata": {},
     "output_type": "display_data"
    }
   ],
   "source": [
    "guo_bhat_age_sex, guo_bhat_sex_marital, guo_bhat_income = compute_marginals(guo_bhat)"
   ]
  },
  {
   "cell_type": "code",
   "execution_count": 241,
   "metadata": {},
   "outputs": [
    {
     "name": "stdout",
     "output_type": "stream",
     "text": [
      "=================\n",
      "=Cell statistics=\n",
      "=================\n",
      "\n",
      "Percentage of well fitting values at 0.95 confidence interval: 1.0\n",
      "Percentage of well fitting values at 0.90 confidence interval: 1.0\n",
      "\n",
      "\n",
      "==================\n",
      "=Table statistics=\n",
      "==================\n",
      "\n",
      "Statistic value equals: 0.009744432276884478\n",
      "Table is well fitting at 0.9 and 0.95 confidence interval.\n"
     ]
    },
    {
     "data": {
      "text/html": [
       "<div><div style = \"float: left;\"><span>32×5 DataFrame</span></div><div style = \"float: right;\"><span style = \"font-style: italic;\">7 rows omitted</span></div><div style = \"clear: both;\"></div></div><div class = \"data-frame\" style = \"overflow-x: scroll;\"><table class = \"data-frame\" style = \"margin-bottom: 6px;\"><thead><tr class = \"header\"><th class = \"rowNumber\" style = \"font-weight: bold; text-align: right;\">Row</th><th style = \"text-align: left;\">AGE</th><th style = \"text-align: left;\">SEX</th><th style = \"text-align: left;\">population</th><th style = \"text-align: left;\">estimated_population</th><th style = \"text-align: left;\">Z_score</th></tr><tr class = \"subheader headerLastRow\"><th class = \"rowNumber\" style = \"font-weight: bold; text-align: right;\"></th><th title = \"Int64\" style = \"text-align: left;\">Int64</th><th title = \"Char\" style = \"text-align: left;\">Char</th><th title = \"Int64\" style = \"text-align: left;\">Int64</th><th title = \"Union{Missing, Int64}\" style = \"text-align: left;\">Int64?</th><th title = \"Float64\" style = \"text-align: left;\">Float64</th></tr></thead><tbody><tr><td class = \"rowNumber\" style = \"font-weight: bold; text-align: right;\">1</td><td style = \"text-align: right;\">5</td><td style = \"text-align: left;\">F</td><td style = \"text-align: right;\">9992</td><td style = \"text-align: right;\">9992</td><td style = \"text-align: right;\">0.0</td></tr><tr><td class = \"rowNumber\" style = \"font-weight: bold; text-align: right;\">2</td><td style = \"text-align: right;\">5</td><td style = \"text-align: left;\">M</td><td style = \"text-align: right;\">9944</td><td style = \"text-align: right;\">9942</td><td style = \"text-align: right;\">0.0203971</td></tr><tr><td class = \"rowNumber\" style = \"font-weight: bold; text-align: right;\">3</td><td style = \"text-align: right;\">10</td><td style = \"text-align: left;\">F</td><td style = \"text-align: right;\">9970</td><td style = \"text-align: right;\">9969</td><td style = \"text-align: right;\">0.0101857</td></tr><tr><td class = \"rowNumber\" style = \"font-weight: bold; text-align: right;\">4</td><td style = \"text-align: right;\">10</td><td style = \"text-align: left;\">M</td><td style = \"text-align: right;\">10021</td><td style = \"text-align: right;\">10023</td><td style = \"text-align: right;\">-0.0203213</td></tr><tr><td class = \"rowNumber\" style = \"font-weight: bold; text-align: right;\">5</td><td style = \"text-align: right;\">15</td><td style = \"text-align: left;\">F</td><td style = \"text-align: right;\">9974</td><td style = \"text-align: right;\">9974</td><td style = \"text-align: right;\">0.0</td></tr><tr><td class = \"rowNumber\" style = \"font-weight: bold; text-align: right;\">6</td><td style = \"text-align: right;\">15</td><td style = \"text-align: left;\">M</td><td style = \"text-align: right;\">10099</td><td style = \"text-align: right;\">10100</td><td style = \"text-align: right;\">-0.0101227</td></tr><tr><td class = \"rowNumber\" style = \"font-weight: bold; text-align: right;\">7</td><td style = \"text-align: right;\">20</td><td style = \"text-align: left;\">F</td><td style = \"text-align: right;\">15025</td><td style = \"text-align: right;\">15024</td><td style = \"text-align: right;\">0.00837047</td></tr><tr><td class = \"rowNumber\" style = \"font-weight: bold; text-align: right;\">8</td><td style = \"text-align: right;\">20</td><td style = \"text-align: left;\">M</td><td style = \"text-align: right;\">14938</td><td style = \"text-align: right;\">14940</td><td style = \"text-align: right;\">-0.0167871</td></tr><tr><td class = \"rowNumber\" style = \"font-weight: bold; text-align: right;\">9</td><td style = \"text-align: right;\">25</td><td style = \"text-align: left;\">F</td><td style = \"text-align: right;\">15078</td><td style = \"text-align: right;\">15078</td><td style = \"text-align: right;\">0.0</td></tr><tr><td class = \"rowNumber\" style = \"font-weight: bold; text-align: right;\">10</td><td style = \"text-align: right;\">25</td><td style = \"text-align: left;\">M</td><td style = \"text-align: right;\">14959</td><td style = \"text-align: right;\">14960</td><td style = \"text-align: right;\">-0.00838795</td></tr><tr><td class = \"rowNumber\" style = \"font-weight: bold; text-align: right;\">11</td><td style = \"text-align: right;\">30</td><td style = \"text-align: left;\">F</td><td style = \"text-align: right;\">8190</td><td style = \"text-align: right;\">8192</td><td style = \"text-align: right;\">-0.0224078</td></tr><tr><td class = \"rowNumber\" style = \"font-weight: bold; text-align: right;\">12</td><td style = \"text-align: right;\">30</td><td style = \"text-align: left;\">M</td><td style = \"text-align: right;\">8196</td><td style = \"text-align: right;\">8195</td><td style = \"text-align: right;\">0.0111999</td></tr><tr><td class = \"rowNumber\" style = \"font-weight: bold; text-align: right;\">13</td><td style = \"text-align: right;\">35</td><td style = \"text-align: left;\">F</td><td style = \"text-align: right;\">8177</td><td style = \"text-align: right;\">8178</td><td style = \"text-align: right;\">-0.0112125</td></tr><tr><td style = \"text-align: right;\">&vellip;</td><td style = \"text-align: right;\">&vellip;</td><td style = \"text-align: right;\">&vellip;</td><td style = \"text-align: right;\">&vellip;</td><td style = \"text-align: right;\">&vellip;</td><td style = \"text-align: right;\">&vellip;</td></tr><tr><td class = \"rowNumber\" style = \"font-weight: bold; text-align: right;\">21</td><td style = \"text-align: right;\">55</td><td style = \"text-align: left;\">F</td><td style = \"text-align: right;\">8253</td><td style = \"text-align: right;\">8255</td><td style = \"text-align: right;\">-0.0223245</td></tr><tr><td class = \"rowNumber\" style = \"font-weight: bold; text-align: right;\">22</td><td style = \"text-align: right;\">55</td><td style = \"text-align: left;\">M</td><td style = \"text-align: right;\">8039</td><td style = \"text-align: right;\">8041</td><td style = \"text-align: right;\">-0.0226114</td></tr><tr><td class = \"rowNumber\" style = \"font-weight: bold; text-align: right;\">23</td><td style = \"text-align: right;\">60</td><td style = \"text-align: left;\">F</td><td style = \"text-align: right;\">8127</td><td style = \"text-align: right;\">8127</td><td style = \"text-align: right;\">0.0</td></tr><tr><td class = \"rowNumber\" style = \"font-weight: bold; text-align: right;\">24</td><td style = \"text-align: right;\">60</td><td style = \"text-align: left;\">M</td><td style = \"text-align: right;\">8187</td><td style = \"text-align: right;\">8189</td><td style = \"text-align: right;\">-0.0224118</td></tr><tr><td class = \"rowNumber\" style = \"font-weight: bold; text-align: right;\">25</td><td style = \"text-align: right;\">65</td><td style = \"text-align: left;\">F</td><td style = \"text-align: right;\">8014</td><td style = \"text-align: right;\">8015</td><td style = \"text-align: right;\">-0.0113228</td></tr><tr><td class = \"rowNumber\" style = \"font-weight: bold; text-align: right;\">26</td><td style = \"text-align: right;\">65</td><td style = \"text-align: left;\">M</td><td style = \"text-align: right;\">7997</td><td style = \"text-align: right;\">7995</td><td style = \"text-align: right;\">0.0226691</td></tr><tr><td class = \"rowNumber\" style = \"font-weight: bold; text-align: right;\">27</td><td style = \"text-align: right;\">70</td><td style = \"text-align: left;\">F</td><td style = \"text-align: right;\">8327</td><td style = \"text-align: right;\">8328</td><td style = \"text-align: right;\">-0.0111139</td></tr><tr><td class = \"rowNumber\" style = \"font-weight: bold; text-align: right;\">28</td><td style = \"text-align: right;\">70</td><td style = \"text-align: left;\">M</td><td style = \"text-align: right;\">8316</td><td style = \"text-align: right;\">8316</td><td style = \"text-align: right;\">0.0</td></tr><tr><td class = \"rowNumber\" style = \"font-weight: bold; text-align: right;\">29</td><td style = \"text-align: right;\">75</td><td style = \"text-align: left;\">F</td><td style = \"text-align: right;\">8199</td><td style = \"text-align: right;\">8199</td><td style = \"text-align: right;\">0.0</td></tr><tr><td class = \"rowNumber\" style = \"font-weight: bold; text-align: right;\">30</td><td style = \"text-align: right;\">75</td><td style = \"text-align: left;\">M</td><td style = \"text-align: right;\">8206</td><td style = \"text-align: right;\">8210</td><td style = \"text-align: right;\">-0.0447731</td></tr><tr><td class = \"rowNumber\" style = \"font-weight: bold; text-align: right;\">31</td><td style = \"text-align: right;\">80</td><td style = \"text-align: left;\">F</td><td style = \"text-align: right;\">8156</td><td style = \"text-align: right;\">8157</td><td style = \"text-align: right;\">-0.0112266</td></tr><tr><td class = \"rowNumber\" style = \"font-weight: bold; text-align: right;\">32</td><td style = \"text-align: right;\">80</td><td style = \"text-align: left;\">M</td><td style = \"text-align: right;\">8113</td><td style = \"text-align: right;\">8115</td><td style = \"text-align: right;\">-0.0225109</td></tr></tbody></table></div>"
      ],
      "text/latex": [
       "\\begin{tabular}{r|ccccc}\n",
       "\t& AGE & SEX & population & estimated\\_population & Z\\_score\\\\\n",
       "\t\\hline\n",
       "\t& Int64 & Char & Int64 & Int64? & Float64\\\\\n",
       "\t\\hline\n",
       "\t1 & 5 & F & 9992 & 9992 & 0.0 \\\\\n",
       "\t2 & 5 & M & 9944 & 9942 & 0.0203971 \\\\\n",
       "\t3 & 10 & F & 9970 & 9969 & 0.0101857 \\\\\n",
       "\t4 & 10 & M & 10021 & 10023 & -0.0203213 \\\\\n",
       "\t5 & 15 & F & 9974 & 9974 & 0.0 \\\\\n",
       "\t6 & 15 & M & 10099 & 10100 & -0.0101227 \\\\\n",
       "\t7 & 20 & F & 15025 & 15024 & 0.00837047 \\\\\n",
       "\t8 & 20 & M & 14938 & 14940 & -0.0167871 \\\\\n",
       "\t9 & 25 & F & 15078 & 15078 & 0.0 \\\\\n",
       "\t10 & 25 & M & 14959 & 14960 & -0.00838795 \\\\\n",
       "\t11 & 30 & F & 8190 & 8192 & -0.0224078 \\\\\n",
       "\t12 & 30 & M & 8196 & 8195 & 0.0111999 \\\\\n",
       "\t13 & 35 & F & 8177 & 8178 & -0.0112125 \\\\\n",
       "\t14 & 35 & M & 8315 & 8316 & -0.0111217 \\\\\n",
       "\t15 & 40 & F & 8112 & 8111 & 0.0112561 \\\\\n",
       "\t16 & 40 & M & 8183 & 8185 & -0.0224171 \\\\\n",
       "\t17 & 45 & F & 8159 & 8160 & -0.0112246 \\\\\n",
       "\t18 & 45 & M & 8205 & 8203 & 0.0223879 \\\\\n",
       "\t19 & 50 & F & 8216 & 8215 & 0.0111866 \\\\\n",
       "\t20 & 50 & M & 8313 & 8316 & -0.0333691 \\\\\n",
       "\t21 & 55 & F & 8253 & 8255 & -0.0223245 \\\\\n",
       "\t22 & 55 & M & 8039 & 8041 & -0.0226114 \\\\\n",
       "\t23 & 60 & F & 8127 & 8127 & 0.0 \\\\\n",
       "\t24 & 60 & M & 8187 & 8189 & -0.0224118 \\\\\n",
       "\t$\\dots$ & $\\dots$ & $\\dots$ & $\\dots$ & $\\dots$ & $\\dots$ \\\\\n",
       "\\end{tabular}\n"
      ],
      "text/plain": [
       "\u001b[1m32×5 DataFrame\u001b[0m\n",
       "\u001b[1m Row \u001b[0m│\u001b[1m AGE   \u001b[0m\u001b[1m SEX  \u001b[0m\u001b[1m population \u001b[0m\u001b[1m estimated_population \u001b[0m\u001b[1m Z_score     \u001b[0m\n",
       "     │\u001b[90m Int64 \u001b[0m\u001b[90m Char \u001b[0m\u001b[90m Int64      \u001b[0m\u001b[90m Int64?               \u001b[0m\u001b[90m Float64     \u001b[0m\n",
       "─────┼────────────────────────────────────────────────────────────\n",
       "   1 │     5  F           9992                  9992   0.0\n",
       "   2 │     5  M           9944                  9942   0.0203971\n",
       "   3 │    10  F           9970                  9969   0.0101857\n",
       "   4 │    10  M          10021                 10023  -0.0203213\n",
       "   5 │    15  F           9974                  9974   0.0\n",
       "   6 │    15  M          10099                 10100  -0.0101227\n",
       "   7 │    20  F          15025                 15024   0.00837047\n",
       "   8 │    20  M          14938                 14940  -0.0167871\n",
       "  ⋮  │   ⋮     ⋮        ⋮                ⋮                 ⋮\n",
       "  26 │    65  M           7997                  7995   0.0226691\n",
       "  27 │    70  F           8327                  8328  -0.0111139\n",
       "  28 │    70  M           8316                  8316   0.0\n",
       "  29 │    75  F           8199                  8199   0.0\n",
       "  30 │    75  M           8206                  8210  -0.0447731\n",
       "  31 │    80  F           8156                  8157  -0.0112266\n",
       "  32 │    80  M           8113                  8115  -0.0225109\n",
       "\u001b[36m                                                   17 rows omitted\u001b[0m"
      ]
     },
     "metadata": {},
     "output_type": "display_data"
    }
   ],
   "source": [
    "validate_table(guo_bhat_age_sex, independent_age_sex)"
   ]
  },
  {
   "cell_type": "code",
   "execution_count": 242,
   "metadata": {},
   "outputs": [
    {
     "name": "stdout",
     "output_type": "stream",
     "text": [
      "=================\n",
      "=Cell statistics=\n",
      "=================\n",
      "\n",
      "Percentage of well fitting values at 0.95 confidence interval: 0.0\n",
      "Percentage of well fitting values at 0.90 confidence interval: 0.0\n",
      "\n",
      "\n",
      "==================\n",
      "=Table statistics=\n",
      "==================\n",
      "\n",
      "Statistic value equals: 18458.000085225383\n",
      "Table is not well fitting.\n"
     ]
    },
    {
     "data": {
      "text/html": [
       "<div><div style = \"float: left;\"><span>8×5 DataFrame</span></div><div style = \"clear: both;\"></div></div><div class = \"data-frame\" style = \"overflow-x: scroll;\"><table class = \"data-frame\" style = \"margin-bottom: 6px;\"><thead><tr class = \"header\"><th class = \"rowNumber\" style = \"font-weight: bold; text-align: right;\">Row</th><th style = \"text-align: left;\">MARITAL_STATUS</th><th style = \"text-align: left;\">SEX</th><th style = \"text-align: left;\">population</th><th style = \"text-align: left;\">estimated_population</th><th style = \"text-align: left;\">Z_score</th></tr><tr class = \"subheader headerLastRow\"><th class = \"rowNumber\" style = \"font-weight: bold; text-align: right;\"></th><th title = \"Union{Missing, String}\" style = \"text-align: left;\">String?</th><th title = \"Char\" style = \"text-align: left;\">Char</th><th title = \"Int64\" style = \"text-align: left;\">Int64</th><th title = \"Union{Missing, Int64}\" style = \"text-align: left;\">Int64?</th><th title = \"Float64\" style = \"text-align: left;\">Float64</th></tr></thead><tbody><tr><td class = \"rowNumber\" style = \"font-weight: bold; text-align: right;\">1</td><td style = \"text-align: left;\">Divorced</td><td style = \"text-align: left;\">F</td><td style = \"text-align: right;\">12013</td><td style = \"text-align: right;\">15014</td><td style = \"text-align: right;\">-28.0925</td></tr><tr><td class = \"rowNumber\" style = \"font-weight: bold; text-align: right;\">2</td><td style = \"text-align: left;\">Divorced</td><td style = \"text-align: left;\">M</td><td style = \"text-align: right;\">12127</td><td style = \"text-align: right;\">15169</td><td style = \"text-align: right;\">-28.3493</td></tr><tr><td class = \"rowNumber\" style = \"font-weight: bold; text-align: right;\">3</td><td style = \"text-align: left;\">Married</td><td style = \"text-align: left;\">F</td><td style = \"text-align: right;\">59910</td><td style = \"text-align: right;\">74850</td><td style = \"text-align: right;\">-70.4631</td></tr><tr><td class = \"rowNumber\" style = \"font-weight: bold; text-align: right;\">4</td><td style = \"text-align: left;\">Married</td><td style = \"text-align: left;\">M</td><td style = \"text-align: right;\">60031</td><td style = \"text-align: right;\">75081</td><td style = \"text-align: right;\">-70.9342</td></tr><tr><td class = \"rowNumber\" style = \"font-weight: bold; text-align: right;\">5</td><td style = \"text-align: left;\">Not_married</td><td style = \"text-align: left;\">F</td><td style = \"text-align: right;\">36005</td><td style = \"text-align: right;\">44982</td><td style = \"text-align: right;\">-51.3152</td></tr><tr><td class = \"rowNumber\" style = \"font-weight: bold; text-align: right;\">6</td><td style = \"text-align: left;\">Not_married</td><td style = \"text-align: left;\">M</td><td style = \"text-align: right;\">35827</td><td style = \"text-align: right;\">44808</td><td style = \"text-align: right;\">-51.443</td></tr><tr><td class = \"rowNumber\" style = \"font-weight: bold; text-align: right;\">7</td><td style = \"text-align: left;\">Widowed</td><td style = \"text-align: left;\">F</td><td style = \"text-align: right;\">12105</td><td style = \"text-align: right;\">15128</td><td style = \"text-align: right;\">-28.1964</td></tr><tr><td class = \"rowNumber\" style = \"font-weight: bold; text-align: right;\">8</td><td style = \"text-align: left;\">Widowed</td><td style = \"text-align: left;\">M</td><td style = \"text-align: right;\">11982</td><td style = \"text-align: right;\">14988</td><td style = \"text-align: right;\">-28.1738</td></tr></tbody></table></div>"
      ],
      "text/latex": [
       "\\begin{tabular}{r|ccccc}\n",
       "\t& MARITAL\\_STATUS & SEX & population & estimated\\_population & Z\\_score\\\\\n",
       "\t\\hline\n",
       "\t& String? & Char & Int64 & Int64? & Float64\\\\\n",
       "\t\\hline\n",
       "\t1 & Divorced & F & 12013 & 15014 & -28.0925 \\\\\n",
       "\t2 & Divorced & M & 12127 & 15169 & -28.3493 \\\\\n",
       "\t3 & Married & F & 59910 & 74850 & -70.4631 \\\\\n",
       "\t4 & Married & M & 60031 & 75081 & -70.9342 \\\\\n",
       "\t5 & Not\\_married & F & 36005 & 44982 & -51.3152 \\\\\n",
       "\t6 & Not\\_married & M & 35827 & 44808 & -51.443 \\\\\n",
       "\t7 & Widowed & F & 12105 & 15128 & -28.1964 \\\\\n",
       "\t8 & Widowed & M & 11982 & 14988 & -28.1738 \\\\\n",
       "\\end{tabular}\n"
      ],
      "text/plain": [
       "\u001b[1m8×5 DataFrame\u001b[0m\n",
       "\u001b[1m Row \u001b[0m│\u001b[1m MARITAL_STATUS \u001b[0m\u001b[1m SEX  \u001b[0m\u001b[1m population \u001b[0m\u001b[1m estimated_population \u001b[0m\u001b[1m Z_score  \u001b[0m\n",
       "     │\u001b[90m String?        \u001b[0m\u001b[90m Char \u001b[0m\u001b[90m Int64      \u001b[0m\u001b[90m Int64?               \u001b[0m\u001b[90m Float64  \u001b[0m\n",
       "─────┼──────────────────────────────────────────────────────────────────\n",
       "   1 │ Divorced        F          12013                 15014  -28.0925\n",
       "   2 │ Divorced        M          12127                 15169  -28.3493\n",
       "   3 │ Married         F          59910                 74850  -70.4631\n",
       "   4 │ Married         M          60031                 75081  -70.9342\n",
       "   5 │ Not_married     F          36005                 44982  -51.3152\n",
       "   6 │ Not_married     M          35827                 44808  -51.443\n",
       "   7 │ Widowed         F          12105                 15128  -28.1964\n",
       "   8 │ Widowed         M          11982                 14988  -28.1738"
      ]
     },
     "metadata": {},
     "output_type": "display_data"
    }
   ],
   "source": [
    "validate_table(guo_bhat_sex_marital, independent_sex_marital)"
   ]
  },
  {
   "cell_type": "code",
   "execution_count": 243,
   "metadata": {},
   "outputs": [
    {
     "name": "stdout",
     "output_type": "stream",
     "text": [
      "=================\n",
      "=Cell statistics=\n",
      "=================\n",
      "\n",
      "Percentage of well fitting values at 0.95 confidence interval: 0.0\n",
      "Percentage of well fitting values at 0.90 confidence interval: 0.0\n",
      "\n",
      "\n",
      "==================\n",
      "=Table statistics=\n",
      "==================\n",
      "\n",
      "Statistic value equals: 18762.571246014555\n",
      "Table is not well fitting.\n"
     ]
    },
    {
     "data": {
      "text/html": [
       "<div><div style = \"float: left;\"><span>5×4 DataFrame</span></div><div style = \"clear: both;\"></div></div><div class = \"data-frame\" style = \"overflow-x: scroll;\"><table class = \"data-frame\" style = \"margin-bottom: 6px;\"><thead><tr class = \"header\"><th class = \"rowNumber\" style = \"font-weight: bold; text-align: right;\">Row</th><th style = \"text-align: left;\">INCOME</th><th style = \"text-align: left;\">population</th><th style = \"text-align: left;\">estimated_population</th><th style = \"text-align: left;\">Z_score</th></tr><tr class = \"subheader headerLastRow\"><th class = \"rowNumber\" style = \"font-weight: bold; text-align: right;\"></th><th title = \"Union{Missing, Int64}\" style = \"text-align: left;\">Int64?</th><th title = \"Int64\" style = \"text-align: left;\">Int64</th><th title = \"Union{Missing, Int64}\" style = \"text-align: left;\">Int64?</th><th title = \"Float64\" style = \"text-align: left;\">Float64</th></tr></thead><tbody><tr><td class = \"rowNumber\" style = \"font-weight: bold; text-align: right;\">1</td><td style = \"text-align: right;\">40000</td><td style = \"text-align: right;\">48034</td><td style = \"text-align: right;\">60052</td><td style = \"text-align: right;\">-61.3128</td></tr><tr><td class = \"rowNumber\" style = \"font-weight: bold; text-align: right;\">2</td><td style = \"text-align: right;\">50000</td><td style = \"text-align: right;\">47861</td><td style = \"text-align: right;\">59833</td><td style = \"text-align: right;\">-61.1609</td></tr><tr><td class = \"rowNumber\" style = \"font-weight: bold; text-align: right;\">3</td><td style = \"text-align: right;\">60000</td><td style = \"text-align: right;\">47760</td><td style = \"text-align: right;\">59702</td><td style = \"text-align: right;\">-61.056</td></tr><tr><td class = \"rowNumber\" style = \"font-weight: bold; text-align: right;\">4</td><td style = \"text-align: right;\">70000</td><td style = \"text-align: right;\">48187</td><td style = \"text-align: right;\">60234</td><td style = \"text-align: right;\">-61.3876</td></tr><tr><td class = \"rowNumber\" style = \"font-weight: bold; text-align: right;\">5</td><td style = \"text-align: right;\">80000</td><td style = \"text-align: right;\">48158</td><td style = \"text-align: right;\">60199</td><td style = \"text-align: right;\">-61.3708</td></tr></tbody></table></div>"
      ],
      "text/latex": [
       "\\begin{tabular}{r|cccc}\n",
       "\t& INCOME & population & estimated\\_population & Z\\_score\\\\\n",
       "\t\\hline\n",
       "\t& Int64? & Int64 & Int64? & Float64\\\\\n",
       "\t\\hline\n",
       "\t1 & 40000 & 48034 & 60052 & -61.3128 \\\\\n",
       "\t2 & 50000 & 47861 & 59833 & -61.1609 \\\\\n",
       "\t3 & 60000 & 47760 & 59702 & -61.056 \\\\\n",
       "\t4 & 70000 & 48187 & 60234 & -61.3876 \\\\\n",
       "\t5 & 80000 & 48158 & 60199 & -61.3708 \\\\\n",
       "\\end{tabular}\n"
      ],
      "text/plain": [
       "\u001b[1m5×4 DataFrame\u001b[0m\n",
       "\u001b[1m Row \u001b[0m│\u001b[1m INCOME \u001b[0m\u001b[1m population \u001b[0m\u001b[1m estimated_population \u001b[0m\u001b[1m Z_score  \u001b[0m\n",
       "     │\u001b[90m Int64? \u001b[0m\u001b[90m Int64      \u001b[0m\u001b[90m Int64?               \u001b[0m\u001b[90m Float64  \u001b[0m\n",
       "─────┼────────────────────────────────────────────────────\n",
       "   1 │  40000       48034                 60052  -61.3128\n",
       "   2 │  50000       47861                 59833  -61.1609\n",
       "   3 │  60000       47760                 59702  -61.056\n",
       "   4 │  70000       48187                 60234  -61.3876\n",
       "   5 │  80000       48158                 60199  -61.3708"
      ]
     },
     "metadata": {},
     "output_type": "display_data"
    }
   ],
   "source": [
    "validate_table(guo_bhat_income, independent_income)"
   ]
  },
  {
   "attachments": {},
   "cell_type": "markdown",
   "metadata": {},
   "source": [
    "#### Ponge, Enbergs, Schungel, Hellingrath, Karch, Ludwig, 2021"
   ]
  },
  {
   "cell_type": "code",
   "execution_count": 244,
   "metadata": {},
   "outputs": [
    {
     "data": {
      "text/plain": [
       "(\u001b[1m32×3 DataFrame\u001b[0m\n",
       "\u001b[1m Row \u001b[0m│\u001b[1m AGE   \u001b[0m\u001b[1m SEX  \u001b[0m\u001b[1m population \u001b[0m\n",
       "     │\u001b[90m Int64 \u001b[0m\u001b[90m Char \u001b[0m\u001b[90m Int64      \u001b[0m\n",
       "─────┼─────────────────────────\n",
       "   1 │     5  F           9994\n",
       "   2 │     5  M           9945\n",
       "   3 │    10  F           9970\n",
       "   4 │    10  M          10022\n",
       "   5 │    15  F           9972\n",
       "   6 │    15  M          10098\n",
       "   7 │    20  F          15025\n",
       "   8 │    20  M          14938\n",
       "  ⋮  │   ⋮     ⋮        ⋮\n",
       "  26 │    65  M           7996\n",
       "  27 │    70  F           8327\n",
       "  28 │    70  M           8316\n",
       "  29 │    75  F           8198\n",
       "  30 │    75  M           8205\n",
       "  31 │    80  F           8159\n",
       "  32 │    80  M           8112\n",
       "\u001b[36m                17 rows omitted\u001b[0m, \u001b[1m8×3 DataFrame\u001b[0m\n",
       "\u001b[1m Row \u001b[0m│\u001b[1m MARITAL_STATUS \u001b[0m\u001b[1m SEX  \u001b[0m\u001b[1m population \u001b[0m\n",
       "     │\u001b[90m String         \u001b[0m\u001b[90m Char \u001b[0m\u001b[90m Int64      \u001b[0m\n",
       "─────┼──────────────────────────────────\n",
       "   1 │ Divorced        F          15005\n",
       "   2 │ Divorced        M          15168\n",
       "   3 │ Married         F          74853\n",
       "   4 │ Married         M          75073\n",
       "   5 │ Not_married     F          44986\n",
       "   6 │ Not_married     M          44806\n",
       "   7 │ Widowed         F          15126\n",
       "   8 │ Widowed         M          14981, \u001b[1m5×2 DataFrame\u001b[0m\n",
       "\u001b[1m Row \u001b[0m│\u001b[1m INCOME \u001b[0m\u001b[1m population \u001b[0m\n",
       "     │\u001b[90m Int64  \u001b[0m\u001b[90m Int64      \u001b[0m\n",
       "─────┼────────────────────\n",
       "   1 │  40000       60044\n",
       "   2 │  50000       59828\n",
       "   3 │  60000       59697\n",
       "   4 │  70000       60231\n",
       "   5 │  80000       60198)"
      ]
     },
     "metadata": {},
     "output_type": "display_data"
    }
   ],
   "source": [
    "ponge_et_al_age_sex, ponge_et_al_sex_marital, ponge_et_al_income = compute_marginals(ponge_et_al)"
   ]
  },
  {
   "cell_type": "code",
   "execution_count": 245,
   "metadata": {},
   "outputs": [
    {
     "name": "stdout",
     "output_type": "stream",
     "text": [
      "=================\n",
      "=Cell statistics=\n",
      "=================\n",
      "\n",
      "Percentage of well fitting values at 0.95 confidence interval: 1.0\n",
      "Percentage of well fitting values at 0.90 confidence interval: 1.0\n",
      "\n",
      "\n",
      "==================\n",
      "=Table statistics=\n",
      "==================\n",
      "\n",
      "Statistic value equals: 0.004938867916401493\n",
      "Table is well fitting at 0.9 and 0.95 confidence interval.\n"
     ]
    },
    {
     "data": {
      "text/html": [
       "<div><div style = \"float: left;\"><span>32×5 DataFrame</span></div><div style = \"float: right;\"><span style = \"font-style: italic;\">7 rows omitted</span></div><div style = \"clear: both;\"></div></div><div class = \"data-frame\" style = \"overflow-x: scroll;\"><table class = \"data-frame\" style = \"margin-bottom: 6px;\"><thead><tr class = \"header\"><th class = \"rowNumber\" style = \"font-weight: bold; text-align: right;\">Row</th><th style = \"text-align: left;\">AGE</th><th style = \"text-align: left;\">SEX</th><th style = \"text-align: left;\">population</th><th style = \"text-align: left;\">estimated_population</th><th style = \"text-align: left;\">Z_score</th></tr><tr class = \"subheader headerLastRow\"><th class = \"rowNumber\" style = \"font-weight: bold; text-align: right;\"></th><th title = \"Int64\" style = \"text-align: left;\">Int64</th><th title = \"Char\" style = \"text-align: left;\">Char</th><th title = \"Int64\" style = \"text-align: left;\">Int64</th><th title = \"Union{Missing, Int64}\" style = \"text-align: left;\">Int64?</th><th title = \"Float64\" style = \"text-align: left;\">Float64</th></tr></thead><tbody><tr><td class = \"rowNumber\" style = \"font-weight: bold; text-align: right;\">1</td><td style = \"text-align: right;\">5</td><td style = \"text-align: left;\">F</td><td style = \"text-align: right;\">9992</td><td style = \"text-align: right;\">9994</td><td style = \"text-align: right;\">-0.0203498</td></tr><tr><td class = \"rowNumber\" style = \"font-weight: bold; text-align: right;\">2</td><td style = \"text-align: right;\">5</td><td style = \"text-align: left;\">M</td><td style = \"text-align: right;\">9944</td><td style = \"text-align: right;\">9945</td><td style = \"text-align: right;\">-0.0101986</td></tr><tr><td class = \"rowNumber\" style = \"font-weight: bold; text-align: right;\">3</td><td style = \"text-align: right;\">10</td><td style = \"text-align: left;\">F</td><td style = \"text-align: right;\">9970</td><td style = \"text-align: right;\">9970</td><td style = \"text-align: right;\">0.0</td></tr><tr><td class = \"rowNumber\" style = \"font-weight: bold; text-align: right;\">4</td><td style = \"text-align: right;\">10</td><td style = \"text-align: left;\">M</td><td style = \"text-align: right;\">10021</td><td style = \"text-align: right;\">10022</td><td style = \"text-align: right;\">-0.0101607</td></tr><tr><td class = \"rowNumber\" style = \"font-weight: bold; text-align: right;\">5</td><td style = \"text-align: right;\">15</td><td style = \"text-align: left;\">F</td><td style = \"text-align: right;\">9974</td><td style = \"text-align: right;\">9972</td><td style = \"text-align: right;\">0.0203675</td></tr><tr><td class = \"rowNumber\" style = \"font-weight: bold; text-align: right;\">6</td><td style = \"text-align: right;\">15</td><td style = \"text-align: left;\">M</td><td style = \"text-align: right;\">10099</td><td style = \"text-align: right;\">10098</td><td style = \"text-align: right;\">0.0101227</td></tr><tr><td class = \"rowNumber\" style = \"font-weight: bold; text-align: right;\">7</td><td style = \"text-align: right;\">20</td><td style = \"text-align: left;\">F</td><td style = \"text-align: right;\">15025</td><td style = \"text-align: right;\">15025</td><td style = \"text-align: right;\">0.0</td></tr><tr><td class = \"rowNumber\" style = \"font-weight: bold; text-align: right;\">8</td><td style = \"text-align: right;\">20</td><td style = \"text-align: left;\">M</td><td style = \"text-align: right;\">14938</td><td style = \"text-align: right;\">14938</td><td style = \"text-align: right;\">0.0</td></tr><tr><td class = \"rowNumber\" style = \"font-weight: bold; text-align: right;\">9</td><td style = \"text-align: right;\">25</td><td style = \"text-align: left;\">F</td><td style = \"text-align: right;\">15078</td><td style = \"text-align: right;\">15079</td><td style = \"text-align: right;\">-0.00835653</td></tr><tr><td class = \"rowNumber\" style = \"font-weight: bold; text-align: right;\">10</td><td style = \"text-align: right;\">25</td><td style = \"text-align: left;\">M</td><td style = \"text-align: right;\">14959</td><td style = \"text-align: right;\">14958</td><td style = \"text-align: right;\">0.00838795</td></tr><tr><td class = \"rowNumber\" style = \"font-weight: bold; text-align: right;\">11</td><td style = \"text-align: right;\">30</td><td style = \"text-align: left;\">F</td><td style = \"text-align: right;\">8190</td><td style = \"text-align: right;\">8190</td><td style = \"text-align: right;\">0.0</td></tr><tr><td class = \"rowNumber\" style = \"font-weight: bold; text-align: right;\">12</td><td style = \"text-align: right;\">30</td><td style = \"text-align: left;\">M</td><td style = \"text-align: right;\">8196</td><td style = \"text-align: right;\">8197</td><td style = \"text-align: right;\">-0.0111999</td></tr><tr><td class = \"rowNumber\" style = \"font-weight: bold; text-align: right;\">13</td><td style = \"text-align: right;\">35</td><td style = \"text-align: left;\">F</td><td style = \"text-align: right;\">8177</td><td style = \"text-align: right;\">8176</td><td style = \"text-align: right;\">0.0112125</td></tr><tr><td style = \"text-align: right;\">&vellip;</td><td style = \"text-align: right;\">&vellip;</td><td style = \"text-align: right;\">&vellip;</td><td style = \"text-align: right;\">&vellip;</td><td style = \"text-align: right;\">&vellip;</td><td style = \"text-align: right;\">&vellip;</td></tr><tr><td class = \"rowNumber\" style = \"font-weight: bold; text-align: right;\">21</td><td style = \"text-align: right;\">55</td><td style = \"text-align: left;\">F</td><td style = \"text-align: right;\">8253</td><td style = \"text-align: right;\">8253</td><td style = \"text-align: right;\">0.0</td></tr><tr><td class = \"rowNumber\" style = \"font-weight: bold; text-align: right;\">22</td><td style = \"text-align: right;\">55</td><td style = \"text-align: left;\">M</td><td style = \"text-align: right;\">8039</td><td style = \"text-align: right;\">8041</td><td style = \"text-align: right;\">-0.0226114</td></tr><tr><td class = \"rowNumber\" style = \"font-weight: bold; text-align: right;\">23</td><td style = \"text-align: right;\">60</td><td style = \"text-align: left;\">F</td><td style = \"text-align: right;\">8127</td><td style = \"text-align: right;\">8128</td><td style = \"text-align: right;\">-0.011246</td></tr><tr><td class = \"rowNumber\" style = \"font-weight: bold; text-align: right;\">24</td><td style = \"text-align: right;\">60</td><td style = \"text-align: left;\">M</td><td style = \"text-align: right;\">8187</td><td style = \"text-align: right;\">8187</td><td style = \"text-align: right;\">0.0</td></tr><tr><td class = \"rowNumber\" style = \"font-weight: bold; text-align: right;\">25</td><td style = \"text-align: right;\">65</td><td style = \"text-align: left;\">F</td><td style = \"text-align: right;\">8014</td><td style = \"text-align: right;\">8013</td><td style = \"text-align: right;\">0.0113228</td></tr><tr><td class = \"rowNumber\" style = \"font-weight: bold; text-align: right;\">26</td><td style = \"text-align: right;\">65</td><td style = \"text-align: left;\">M</td><td style = \"text-align: right;\">7997</td><td style = \"text-align: right;\">7996</td><td style = \"text-align: right;\">0.0113345</td></tr><tr><td class = \"rowNumber\" style = \"font-weight: bold; text-align: right;\">27</td><td style = \"text-align: right;\">70</td><td style = \"text-align: left;\">F</td><td style = \"text-align: right;\">8327</td><td style = \"text-align: right;\">8327</td><td style = \"text-align: right;\">0.0</td></tr><tr><td class = \"rowNumber\" style = \"font-weight: bold; text-align: right;\">28</td><td style = \"text-align: right;\">70</td><td style = \"text-align: left;\">M</td><td style = \"text-align: right;\">8316</td><td style = \"text-align: right;\">8316</td><td style = \"text-align: right;\">0.0</td></tr><tr><td class = \"rowNumber\" style = \"font-weight: bold; text-align: right;\">29</td><td style = \"text-align: right;\">75</td><td style = \"text-align: left;\">F</td><td style = \"text-align: right;\">8199</td><td style = \"text-align: right;\">8198</td><td style = \"text-align: right;\">0.0111979</td></tr><tr><td class = \"rowNumber\" style = \"font-weight: bold; text-align: right;\">30</td><td style = \"text-align: right;\">75</td><td style = \"text-align: left;\">M</td><td style = \"text-align: right;\">8206</td><td style = \"text-align: right;\">8205</td><td style = \"text-align: right;\">0.0111933</td></tr><tr><td class = \"rowNumber\" style = \"font-weight: bold; text-align: right;\">31</td><td style = \"text-align: right;\">80</td><td style = \"text-align: left;\">F</td><td style = \"text-align: right;\">8156</td><td style = \"text-align: right;\">8159</td><td style = \"text-align: right;\">-0.0336797</td></tr><tr><td class = \"rowNumber\" style = \"font-weight: bold; text-align: right;\">32</td><td style = \"text-align: right;\">80</td><td style = \"text-align: left;\">M</td><td style = \"text-align: right;\">8113</td><td style = \"text-align: right;\">8112</td><td style = \"text-align: right;\">0.0112554</td></tr></tbody></table></div>"
      ],
      "text/latex": [
       "\\begin{tabular}{r|ccccc}\n",
       "\t& AGE & SEX & population & estimated\\_population & Z\\_score\\\\\n",
       "\t\\hline\n",
       "\t& Int64 & Char & Int64 & Int64? & Float64\\\\\n",
       "\t\\hline\n",
       "\t1 & 5 & F & 9992 & 9994 & -0.0203498 \\\\\n",
       "\t2 & 5 & M & 9944 & 9945 & -0.0101986 \\\\\n",
       "\t3 & 10 & F & 9970 & 9970 & 0.0 \\\\\n",
       "\t4 & 10 & M & 10021 & 10022 & -0.0101607 \\\\\n",
       "\t5 & 15 & F & 9974 & 9972 & 0.0203675 \\\\\n",
       "\t6 & 15 & M & 10099 & 10098 & 0.0101227 \\\\\n",
       "\t7 & 20 & F & 15025 & 15025 & 0.0 \\\\\n",
       "\t8 & 20 & M & 14938 & 14938 & 0.0 \\\\\n",
       "\t9 & 25 & F & 15078 & 15079 & -0.00835653 \\\\\n",
       "\t10 & 25 & M & 14959 & 14958 & 0.00838795 \\\\\n",
       "\t11 & 30 & F & 8190 & 8190 & 0.0 \\\\\n",
       "\t12 & 30 & M & 8196 & 8197 & -0.0111999 \\\\\n",
       "\t13 & 35 & F & 8177 & 8176 & 0.0112125 \\\\\n",
       "\t14 & 35 & M & 8315 & 8314 & 0.0111217 \\\\\n",
       "\t15 & 40 & F & 8112 & 8111 & 0.0112561 \\\\\n",
       "\t16 & 40 & M & 8183 & 8183 & 0.0 \\\\\n",
       "\t17 & 45 & F & 8159 & 8160 & -0.0112246 \\\\\n",
       "\t18 & 45 & M & 8205 & 8203 & 0.0223879 \\\\\n",
       "\t19 & 50 & F & 8216 & 8215 & 0.0111866 \\\\\n",
       "\t20 & 50 & M & 8313 & 8313 & 0.0 \\\\\n",
       "\t21 & 55 & F & 8253 & 8253 & 0.0 \\\\\n",
       "\t22 & 55 & M & 8039 & 8041 & -0.0226114 \\\\\n",
       "\t23 & 60 & F & 8127 & 8128 & -0.011246 \\\\\n",
       "\t24 & 60 & M & 8187 & 8187 & 0.0 \\\\\n",
       "\t$\\dots$ & $\\dots$ & $\\dots$ & $\\dots$ & $\\dots$ & $\\dots$ \\\\\n",
       "\\end{tabular}\n"
      ],
      "text/plain": [
       "\u001b[1m32×5 DataFrame\u001b[0m\n",
       "\u001b[1m Row \u001b[0m│\u001b[1m AGE   \u001b[0m\u001b[1m SEX  \u001b[0m\u001b[1m population \u001b[0m\u001b[1m estimated_population \u001b[0m\u001b[1m Z_score     \u001b[0m\n",
       "     │\u001b[90m Int64 \u001b[0m\u001b[90m Char \u001b[0m\u001b[90m Int64      \u001b[0m\u001b[90m Int64?               \u001b[0m\u001b[90m Float64     \u001b[0m\n",
       "─────┼────────────────────────────────────────────────────────────\n",
       "   1 │     5  F           9992                  9994  -0.0203498\n",
       "   2 │     5  M           9944                  9945  -0.0101986\n",
       "   3 │    10  F           9970                  9970   0.0\n",
       "   4 │    10  M          10021                 10022  -0.0101607\n",
       "   5 │    15  F           9974                  9972   0.0203675\n",
       "   6 │    15  M          10099                 10098   0.0101227\n",
       "   7 │    20  F          15025                 15025   0.0\n",
       "   8 │    20  M          14938                 14938   0.0\n",
       "  ⋮  │   ⋮     ⋮        ⋮                ⋮                 ⋮\n",
       "  26 │    65  M           7997                  7996   0.0113345\n",
       "  27 │    70  F           8327                  8327   0.0\n",
       "  28 │    70  M           8316                  8316   0.0\n",
       "  29 │    75  F           8199                  8198   0.0111979\n",
       "  30 │    75  M           8206                  8205   0.0111933\n",
       "  31 │    80  F           8156                  8159  -0.0336797\n",
       "  32 │    80  M           8113                  8112   0.0112554\n",
       "\u001b[36m                                                   17 rows omitted\u001b[0m"
      ]
     },
     "metadata": {},
     "output_type": "display_data"
    }
   ],
   "source": [
    "validate_table(ponge_et_al_age_sex, independent_age_sex)"
   ]
  },
  {
   "cell_type": "code",
   "execution_count": 246,
   "metadata": {},
   "outputs": [
    {
     "name": "stdout",
     "output_type": "stream",
     "text": [
      "=================\n",
      "=Cell statistics=\n",
      "=================\n",
      "\n",
      "Percentage of well fitting values at 0.95 confidence interval: 0.0\n",
      "Percentage of well fitting values at 0.90 confidence interval: 0.0\n",
      "\n",
      "\n",
      "==================\n",
      "=Table statistics=\n",
      "==================\n",
      "\n",
      "Statistic value equals: 18445.816157143287\n",
      "Table is not well fitting.\n"
     ]
    },
    {
     "data": {
      "text/html": [
       "<div><div style = \"float: left;\"><span>8×5 DataFrame</span></div><div style = \"clear: both;\"></div></div><div class = \"data-frame\" style = \"overflow-x: scroll;\"><table class = \"data-frame\" style = \"margin-bottom: 6px;\"><thead><tr class = \"header\"><th class = \"rowNumber\" style = \"font-weight: bold; text-align: right;\">Row</th><th style = \"text-align: left;\">MARITAL_STATUS</th><th style = \"text-align: left;\">SEX</th><th style = \"text-align: left;\">population</th><th style = \"text-align: left;\">estimated_population</th><th style = \"text-align: left;\">Z_score</th></tr><tr class = \"subheader headerLastRow\"><th class = \"rowNumber\" style = \"font-weight: bold; text-align: right;\"></th><th title = \"Union{Missing, String}\" style = \"text-align: left;\">String?</th><th title = \"Char\" style = \"text-align: left;\">Char</th><th title = \"Int64\" style = \"text-align: left;\">Int64</th><th title = \"Union{Missing, Int64}\" style = \"text-align: left;\">Int64?</th><th title = \"Float64\" style = \"text-align: left;\">Float64</th></tr></thead><tbody><tr><td class = \"rowNumber\" style = \"font-weight: bold; text-align: right;\">1</td><td style = \"text-align: left;\">Divorced</td><td style = \"text-align: left;\">F</td><td style = \"text-align: right;\">12013</td><td style = \"text-align: right;\">15005</td><td style = \"text-align: right;\">-28.0083</td></tr><tr><td class = \"rowNumber\" style = \"font-weight: bold; text-align: right;\">2</td><td style = \"text-align: left;\">Divorced</td><td style = \"text-align: left;\">M</td><td style = \"text-align: right;\">12127</td><td style = \"text-align: right;\">15168</td><td style = \"text-align: right;\">-28.3399</td></tr><tr><td class = \"rowNumber\" style = \"font-weight: bold; text-align: right;\">3</td><td style = \"text-align: left;\">Married</td><td style = \"text-align: left;\">F</td><td style = \"text-align: right;\">59910</td><td style = \"text-align: right;\">74853</td><td style = \"text-align: right;\">-70.4773</td></tr><tr><td class = \"rowNumber\" style = \"font-weight: bold; text-align: right;\">4</td><td style = \"text-align: left;\">Married</td><td style = \"text-align: left;\">M</td><td style = \"text-align: right;\">60031</td><td style = \"text-align: right;\">75073</td><td style = \"text-align: right;\">-70.8965</td></tr><tr><td class = \"rowNumber\" style = \"font-weight: bold; text-align: right;\">5</td><td style = \"text-align: left;\">Not_married</td><td style = \"text-align: left;\">F</td><td style = \"text-align: right;\">36005</td><td style = \"text-align: right;\">44986</td><td style = \"text-align: right;\">-51.338</td></tr><tr><td class = \"rowNumber\" style = \"font-weight: bold; text-align: right;\">6</td><td style = \"text-align: left;\">Not_married</td><td style = \"text-align: left;\">M</td><td style = \"text-align: right;\">35827</td><td style = \"text-align: right;\">44806</td><td style = \"text-align: right;\">-51.4315</td></tr><tr><td class = \"rowNumber\" style = \"font-weight: bold; text-align: right;\">7</td><td style = \"text-align: left;\">Widowed</td><td style = \"text-align: left;\">F</td><td style = \"text-align: right;\">12105</td><td style = \"text-align: right;\">15126</td><td style = \"text-align: right;\">-28.1778</td></tr><tr><td class = \"rowNumber\" style = \"font-weight: bold; text-align: right;\">8</td><td style = \"text-align: left;\">Widowed</td><td style = \"text-align: left;\">M</td><td style = \"text-align: right;\">11982</td><td style = \"text-align: right;\">14981</td><td style = \"text-align: right;\">-28.1082</td></tr></tbody></table></div>"
      ],
      "text/latex": [
       "\\begin{tabular}{r|ccccc}\n",
       "\t& MARITAL\\_STATUS & SEX & population & estimated\\_population & Z\\_score\\\\\n",
       "\t\\hline\n",
       "\t& String? & Char & Int64 & Int64? & Float64\\\\\n",
       "\t\\hline\n",
       "\t1 & Divorced & F & 12013 & 15005 & -28.0083 \\\\\n",
       "\t2 & Divorced & M & 12127 & 15168 & -28.3399 \\\\\n",
       "\t3 & Married & F & 59910 & 74853 & -70.4773 \\\\\n",
       "\t4 & Married & M & 60031 & 75073 & -70.8965 \\\\\n",
       "\t5 & Not\\_married & F & 36005 & 44986 & -51.338 \\\\\n",
       "\t6 & Not\\_married & M & 35827 & 44806 & -51.4315 \\\\\n",
       "\t7 & Widowed & F & 12105 & 15126 & -28.1778 \\\\\n",
       "\t8 & Widowed & M & 11982 & 14981 & -28.1082 \\\\\n",
       "\\end{tabular}\n"
      ],
      "text/plain": [
       "\u001b[1m8×5 DataFrame\u001b[0m\n",
       "\u001b[1m Row \u001b[0m│\u001b[1m MARITAL_STATUS \u001b[0m\u001b[1m SEX  \u001b[0m\u001b[1m population \u001b[0m\u001b[1m estimated_population \u001b[0m\u001b[1m Z_score  \u001b[0m\n",
       "     │\u001b[90m String?        \u001b[0m\u001b[90m Char \u001b[0m\u001b[90m Int64      \u001b[0m\u001b[90m Int64?               \u001b[0m\u001b[90m Float64  \u001b[0m\n",
       "─────┼──────────────────────────────────────────────────────────────────\n",
       "   1 │ Divorced        F          12013                 15005  -28.0083\n",
       "   2 │ Divorced        M          12127                 15168  -28.3399\n",
       "   3 │ Married         F          59910                 74853  -70.4773\n",
       "   4 │ Married         M          60031                 75073  -70.8965\n",
       "   5 │ Not_married     F          36005                 44986  -51.338\n",
       "   6 │ Not_married     M          35827                 44806  -51.4315\n",
       "   7 │ Widowed         F          12105                 15126  -28.1778\n",
       "   8 │ Widowed         M          11982                 14981  -28.1082"
      ]
     },
     "metadata": {},
     "output_type": "display_data"
    }
   ],
   "source": [
    "validate_table(ponge_et_al_sex_marital, independent_sex_marital)"
   ]
  },
  {
   "cell_type": "code",
   "execution_count": 247,
   "metadata": {},
   "outputs": [
    {
     "name": "stdout",
     "output_type": "stream",
     "text": [
      "=================\n",
      "=Cell statistics=\n",
      "=================\n",
      "\n",
      "Percentage of well fitting values at 0.95 confidence interval: 0.0\n",
      "Percentage of well fitting values at 0.90 confidence interval: 0.0\n",
      "\n",
      "\n",
      "==================\n",
      "=Table statistics=\n",
      "==================\n",
      "\n",
      "Statistic value equals: 18748.8210537047\n",
      "Table is not well fitting.\n"
     ]
    },
    {
     "data": {
      "text/html": [
       "<div><div style = \"float: left;\"><span>5×4 DataFrame</span></div><div style = \"clear: both;\"></div></div><div class = \"data-frame\" style = \"overflow-x: scroll;\"><table class = \"data-frame\" style = \"margin-bottom: 6px;\"><thead><tr class = \"header\"><th class = \"rowNumber\" style = \"font-weight: bold; text-align: right;\">Row</th><th style = \"text-align: left;\">INCOME</th><th style = \"text-align: left;\">population</th><th style = \"text-align: left;\">estimated_population</th><th style = \"text-align: left;\">Z_score</th></tr><tr class = \"subheader headerLastRow\"><th class = \"rowNumber\" style = \"font-weight: bold; text-align: right;\"></th><th title = \"Union{Missing, Int64}\" style = \"text-align: left;\">Int64?</th><th title = \"Int64\" style = \"text-align: left;\">Int64</th><th title = \"Union{Missing, Int64}\" style = \"text-align: left;\">Int64?</th><th title = \"Float64\" style = \"text-align: left;\">Float64</th></tr></thead><tbody><tr><td class = \"rowNumber\" style = \"font-weight: bold; text-align: right;\">1</td><td style = \"text-align: right;\">40000</td><td style = \"text-align: right;\">48034</td><td style = \"text-align: right;\">60044</td><td style = \"text-align: right;\">-61.272</td></tr><tr><td class = \"rowNumber\" style = \"font-weight: bold; text-align: right;\">2</td><td style = \"text-align: right;\">50000</td><td style = \"text-align: right;\">47861</td><td style = \"text-align: right;\">59828</td><td style = \"text-align: right;\">-61.1353</td></tr><tr><td class = \"rowNumber\" style = \"font-weight: bold; text-align: right;\">3</td><td style = \"text-align: right;\">60000</td><td style = \"text-align: right;\">47760</td><td style = \"text-align: right;\">59697</td><td style = \"text-align: right;\">-61.0305</td></tr><tr><td class = \"rowNumber\" style = \"font-weight: bold; text-align: right;\">4</td><td style = \"text-align: right;\">70000</td><td style = \"text-align: right;\">48187</td><td style = \"text-align: right;\">60231</td><td style = \"text-align: right;\">-61.3723</td></tr><tr><td class = \"rowNumber\" style = \"font-weight: bold; text-align: right;\">5</td><td style = \"text-align: right;\">80000</td><td style = \"text-align: right;\">48158</td><td style = \"text-align: right;\">60198</td><td style = \"text-align: right;\">-61.3657</td></tr></tbody></table></div>"
      ],
      "text/latex": [
       "\\begin{tabular}{r|cccc}\n",
       "\t& INCOME & population & estimated\\_population & Z\\_score\\\\\n",
       "\t\\hline\n",
       "\t& Int64? & Int64 & Int64? & Float64\\\\\n",
       "\t\\hline\n",
       "\t1 & 40000 & 48034 & 60044 & -61.272 \\\\\n",
       "\t2 & 50000 & 47861 & 59828 & -61.1353 \\\\\n",
       "\t3 & 60000 & 47760 & 59697 & -61.0305 \\\\\n",
       "\t4 & 70000 & 48187 & 60231 & -61.3723 \\\\\n",
       "\t5 & 80000 & 48158 & 60198 & -61.3657 \\\\\n",
       "\\end{tabular}\n"
      ],
      "text/plain": [
       "\u001b[1m5×4 DataFrame\u001b[0m\n",
       "\u001b[1m Row \u001b[0m│\u001b[1m INCOME \u001b[0m\u001b[1m population \u001b[0m\u001b[1m estimated_population \u001b[0m\u001b[1m Z_score  \u001b[0m\n",
       "     │\u001b[90m Int64? \u001b[0m\u001b[90m Int64      \u001b[0m\u001b[90m Int64?               \u001b[0m\u001b[90m Float64  \u001b[0m\n",
       "─────┼────────────────────────────────────────────────────\n",
       "   1 │  40000       48034                 60044  -61.272\n",
       "   2 │  50000       47861                 59828  -61.1353\n",
       "   3 │  60000       47760                 59697  -61.0305\n",
       "   4 │  70000       48187                 60231  -61.3723\n",
       "   5 │  80000       48158                 60198  -61.3657"
      ]
     },
     "metadata": {},
     "output_type": "display_data"
    }
   ],
   "source": [
    "validate_table(ponge_et_al_income, independent_income)"
   ]
  },
  {
   "attachments": {},
   "cell_type": "markdown",
   "metadata": {},
   "source": [
    "#### Modified"
   ]
  },
  {
   "cell_type": "code",
   "execution_count": 248,
   "metadata": {},
   "outputs": [
    {
     "data": {
      "text/plain": [
       "(\u001b[1m32×3 DataFrame\u001b[0m\n",
       "\u001b[1m Row \u001b[0m│\u001b[1m AGE    \u001b[0m\u001b[1m SEX   \u001b[0m\u001b[1m population \u001b[0m\n",
       "     │\u001b[90m Int64? \u001b[0m\u001b[90m Char? \u001b[0m\u001b[90m Int64      \u001b[0m\n",
       "─────┼───────────────────────────\n",
       "   1 │      5  F            9995\n",
       "   2 │      5  M            9944\n",
       "   3 │     10  F            9968\n",
       "   4 │     10  M           10019\n",
       "   5 │     15  F            9973\n",
       "   6 │     15  M           10099\n",
       "   7 │     20  F           15024\n",
       "   8 │     20  M           14938\n",
       "  ⋮  │   ⋮       ⋮        ⋮\n",
       "  26 │     65  M            7995\n",
       "  27 │     70  F            8329\n",
       "  28 │     70  M            8315\n",
       "  29 │     75  F            8198\n",
       "  30 │     75  M            8205\n",
       "  31 │     80  F            8158\n",
       "  32 │     80  M            8114\n",
       "\u001b[36m                  17 rows omitted\u001b[0m, \u001b[1m8×3 DataFrame\u001b[0m\n",
       "\u001b[1m Row \u001b[0m│\u001b[1m MARITAL_STATUS \u001b[0m\u001b[1m SEX   \u001b[0m\u001b[1m population \u001b[0m\n",
       "     │\u001b[90m String?        \u001b[0m\u001b[90m Char? \u001b[0m\u001b[90m Int64      \u001b[0m\n",
       "─────┼───────────────────────────────────\n",
       "   1 │ Divorced        F           12011\n",
       "   2 │ Divorced        M           12129\n",
       "   3 │ Married         F           59914\n",
       "   4 │ Married         M           60026\n",
       "   5 │ Not_married     F           36004\n",
       "   6 │ Not_married     M           35828\n",
       "   7 │ Widowed         F           12108\n",
       "   8 │ Widowed         M           11979, \u001b[1m5×2 DataFrame\u001b[0m\n",
       "\u001b[1m Row \u001b[0m│\u001b[1m INCOME \u001b[0m\u001b[1m population \u001b[0m\n",
       "     │\u001b[90m Int64? \u001b[0m\u001b[90m Int64      \u001b[0m\n",
       "─────┼────────────────────\n",
       "   1 │  40000       52539\n",
       "   2 │  50000       52358\n",
       "   3 │  60000       44780\n",
       "   4 │  70000       45172\n",
       "   5 │  80000       45150)"
      ]
     },
     "metadata": {},
     "output_type": "display_data"
    }
   ],
   "source": [
    "modified_age_sex, modified_sex_marital, modified_income = compute_marginals(modified)"
   ]
  },
  {
   "cell_type": "code",
   "execution_count": 249,
   "metadata": {},
   "outputs": [
    {
     "name": "stdout",
     "output_type": "stream",
     "text": [
      "=================\n",
      "=Cell statistics=\n",
      "=================\n",
      "\n",
      "Percentage of well fitting values at 0.95 confidence interval: 1.0\n",
      "Percentage of well fitting values at 0.90 confidence interval: 1.0\n",
      "\n",
      "\n",
      "==================\n",
      "=Table statistics=\n",
      "==================\n",
      "\n",
      "Statistic value equals: 0.005397113911590847\n",
      "Table is well fitting at 0.9 and 0.95 confidence interval.\n"
     ]
    },
    {
     "data": {
      "text/html": [
       "<div><div style = \"float: left;\"><span>32×5 DataFrame</span></div><div style = \"float: right;\"><span style = \"font-style: italic;\">7 rows omitted</span></div><div style = \"clear: both;\"></div></div><div class = \"data-frame\" style = \"overflow-x: scroll;\"><table class = \"data-frame\" style = \"margin-bottom: 6px;\"><thead><tr class = \"header\"><th class = \"rowNumber\" style = \"font-weight: bold; text-align: right;\">Row</th><th style = \"text-align: left;\">AGE</th><th style = \"text-align: left;\">SEX</th><th style = \"text-align: left;\">population</th><th style = \"text-align: left;\">estimated_population</th><th style = \"text-align: left;\">Z_score</th></tr><tr class = \"subheader headerLastRow\"><th class = \"rowNumber\" style = \"font-weight: bold; text-align: right;\"></th><th title = \"Int64\" style = \"text-align: left;\">Int64</th><th title = \"Char\" style = \"text-align: left;\">Char</th><th title = \"Int64\" style = \"text-align: left;\">Int64</th><th title = \"Union{Missing, Int64}\" style = \"text-align: left;\">Int64?</th><th title = \"Float64\" style = \"text-align: left;\">Float64</th></tr></thead><tbody><tr><td class = \"rowNumber\" style = \"font-weight: bold; text-align: right;\">1</td><td style = \"text-align: right;\">5</td><td style = \"text-align: left;\">F</td><td style = \"text-align: right;\">9992</td><td style = \"text-align: right;\">9995</td><td style = \"text-align: right;\">-0.0305246</td></tr><tr><td class = \"rowNumber\" style = \"font-weight: bold; text-align: right;\">2</td><td style = \"text-align: right;\">5</td><td style = \"text-align: left;\">M</td><td style = \"text-align: right;\">9944</td><td style = \"text-align: right;\">9944</td><td style = \"text-align: right;\">0.0</td></tr><tr><td class = \"rowNumber\" style = \"font-weight: bold; text-align: right;\">3</td><td style = \"text-align: right;\">10</td><td style = \"text-align: left;\">F</td><td style = \"text-align: right;\">9970</td><td style = \"text-align: right;\">9968</td><td style = \"text-align: right;\">0.0203714</td></tr><tr><td class = \"rowNumber\" style = \"font-weight: bold; text-align: right;\">4</td><td style = \"text-align: right;\">10</td><td style = \"text-align: left;\">M</td><td style = \"text-align: right;\">10021</td><td style = \"text-align: right;\">10019</td><td style = \"text-align: right;\">0.0203213</td></tr><tr><td class = \"rowNumber\" style = \"font-weight: bold; text-align: right;\">5</td><td style = \"text-align: right;\">15</td><td style = \"text-align: left;\">F</td><td style = \"text-align: right;\">9974</td><td style = \"text-align: right;\">9973</td><td style = \"text-align: right;\">0.0101837</td></tr><tr><td class = \"rowNumber\" style = \"font-weight: bold; text-align: right;\">6</td><td style = \"text-align: right;\">15</td><td style = \"text-align: left;\">M</td><td style = \"text-align: right;\">10099</td><td style = \"text-align: right;\">10099</td><td style = \"text-align: right;\">0.0</td></tr><tr><td class = \"rowNumber\" style = \"font-weight: bold; text-align: right;\">7</td><td style = \"text-align: right;\">20</td><td style = \"text-align: left;\">F</td><td style = \"text-align: right;\">15025</td><td style = \"text-align: right;\">15024</td><td style = \"text-align: right;\">0.00837047</td></tr><tr><td class = \"rowNumber\" style = \"font-weight: bold; text-align: right;\">8</td><td style = \"text-align: right;\">20</td><td style = \"text-align: left;\">M</td><td style = \"text-align: right;\">14938</td><td style = \"text-align: right;\">14938</td><td style = \"text-align: right;\">0.0</td></tr><tr><td class = \"rowNumber\" style = \"font-weight: bold; text-align: right;\">9</td><td style = \"text-align: right;\">25</td><td style = \"text-align: left;\">F</td><td style = \"text-align: right;\">15078</td><td style = \"text-align: right;\">15079</td><td style = \"text-align: right;\">-0.00835653</td></tr><tr><td class = \"rowNumber\" style = \"font-weight: bold; text-align: right;\">10</td><td style = \"text-align: right;\">25</td><td style = \"text-align: left;\">M</td><td style = \"text-align: right;\">14959</td><td style = \"text-align: right;\">14959</td><td style = \"text-align: right;\">0.0</td></tr><tr><td class = \"rowNumber\" style = \"font-weight: bold; text-align: right;\">11</td><td style = \"text-align: right;\">30</td><td style = \"text-align: left;\">F</td><td style = \"text-align: right;\">8190</td><td style = \"text-align: right;\">8189</td><td style = \"text-align: right;\">0.0112039</td></tr><tr><td class = \"rowNumber\" style = \"font-weight: bold; text-align: right;\">12</td><td style = \"text-align: right;\">30</td><td style = \"text-align: left;\">M</td><td style = \"text-align: right;\">8196</td><td style = \"text-align: right;\">8195</td><td style = \"text-align: right;\">0.0111999</td></tr><tr><td class = \"rowNumber\" style = \"font-weight: bold; text-align: right;\">13</td><td style = \"text-align: right;\">35</td><td style = \"text-align: left;\">F</td><td style = \"text-align: right;\">8177</td><td style = \"text-align: right;\">8177</td><td style = \"text-align: right;\">0.0</td></tr><tr><td style = \"text-align: right;\">&vellip;</td><td style = \"text-align: right;\">&vellip;</td><td style = \"text-align: right;\">&vellip;</td><td style = \"text-align: right;\">&vellip;</td><td style = \"text-align: right;\">&vellip;</td><td style = \"text-align: right;\">&vellip;</td></tr><tr><td class = \"rowNumber\" style = \"font-weight: bold; text-align: right;\">21</td><td style = \"text-align: right;\">55</td><td style = \"text-align: left;\">F</td><td style = \"text-align: right;\">8253</td><td style = \"text-align: right;\">8253</td><td style = \"text-align: right;\">0.0</td></tr><tr><td class = \"rowNumber\" style = \"font-weight: bold; text-align: right;\">22</td><td style = \"text-align: right;\">55</td><td style = \"text-align: left;\">M</td><td style = \"text-align: right;\">8039</td><td style = \"text-align: right;\">8039</td><td style = \"text-align: right;\">0.0</td></tr><tr><td class = \"rowNumber\" style = \"font-weight: bold; text-align: right;\">23</td><td style = \"text-align: right;\">60</td><td style = \"text-align: left;\">F</td><td style = \"text-align: right;\">8127</td><td style = \"text-align: right;\">8127</td><td style = \"text-align: right;\">0.0</td></tr><tr><td class = \"rowNumber\" style = \"font-weight: bold; text-align: right;\">24</td><td style = \"text-align: right;\">60</td><td style = \"text-align: left;\">M</td><td style = \"text-align: right;\">8187</td><td style = \"text-align: right;\">8186</td><td style = \"text-align: right;\">0.0112059</td></tr><tr><td class = \"rowNumber\" style = \"font-weight: bold; text-align: right;\">25</td><td style = \"text-align: right;\">65</td><td style = \"text-align: left;\">F</td><td style = \"text-align: right;\">8014</td><td style = \"text-align: right;\">8013</td><td style = \"text-align: right;\">0.0113228</td></tr><tr><td class = \"rowNumber\" style = \"font-weight: bold; text-align: right;\">26</td><td style = \"text-align: right;\">65</td><td style = \"text-align: left;\">M</td><td style = \"text-align: right;\">7997</td><td style = \"text-align: right;\">7995</td><td style = \"text-align: right;\">0.0226691</td></tr><tr><td class = \"rowNumber\" style = \"font-weight: bold; text-align: right;\">27</td><td style = \"text-align: right;\">70</td><td style = \"text-align: left;\">F</td><td style = \"text-align: right;\">8327</td><td style = \"text-align: right;\">8329</td><td style = \"text-align: right;\">-0.0222279</td></tr><tr><td class = \"rowNumber\" style = \"font-weight: bold; text-align: right;\">28</td><td style = \"text-align: right;\">70</td><td style = \"text-align: left;\">M</td><td style = \"text-align: right;\">8316</td><td style = \"text-align: right;\">8315</td><td style = \"text-align: right;\">0.0111211</td></tr><tr><td class = \"rowNumber\" style = \"font-weight: bold; text-align: right;\">29</td><td style = \"text-align: right;\">75</td><td style = \"text-align: left;\">F</td><td style = \"text-align: right;\">8199</td><td style = \"text-align: right;\">8198</td><td style = \"text-align: right;\">0.0111979</td></tr><tr><td class = \"rowNumber\" style = \"font-weight: bold; text-align: right;\">30</td><td style = \"text-align: right;\">75</td><td style = \"text-align: left;\">M</td><td style = \"text-align: right;\">8206</td><td style = \"text-align: right;\">8205</td><td style = \"text-align: right;\">0.0111933</td></tr><tr><td class = \"rowNumber\" style = \"font-weight: bold; text-align: right;\">31</td><td style = \"text-align: right;\">80</td><td style = \"text-align: left;\">F</td><td style = \"text-align: right;\">8156</td><td style = \"text-align: right;\">8158</td><td style = \"text-align: right;\">-0.0224531</td></tr><tr><td class = \"rowNumber\" style = \"font-weight: bold; text-align: right;\">32</td><td style = \"text-align: right;\">80</td><td style = \"text-align: left;\">M</td><td style = \"text-align: right;\">8113</td><td style = \"text-align: right;\">8114</td><td style = \"text-align: right;\">-0.0112554</td></tr></tbody></table></div>"
      ],
      "text/latex": [
       "\\begin{tabular}{r|ccccc}\n",
       "\t& AGE & SEX & population & estimated\\_population & Z\\_score\\\\\n",
       "\t\\hline\n",
       "\t& Int64 & Char & Int64 & Int64? & Float64\\\\\n",
       "\t\\hline\n",
       "\t1 & 5 & F & 9992 & 9995 & -0.0305246 \\\\\n",
       "\t2 & 5 & M & 9944 & 9944 & 0.0 \\\\\n",
       "\t3 & 10 & F & 9970 & 9968 & 0.0203714 \\\\\n",
       "\t4 & 10 & M & 10021 & 10019 & 0.0203213 \\\\\n",
       "\t5 & 15 & F & 9974 & 9973 & 0.0101837 \\\\\n",
       "\t6 & 15 & M & 10099 & 10099 & 0.0 \\\\\n",
       "\t7 & 20 & F & 15025 & 15024 & 0.00837047 \\\\\n",
       "\t8 & 20 & M & 14938 & 14938 & 0.0 \\\\\n",
       "\t9 & 25 & F & 15078 & 15079 & -0.00835653 \\\\\n",
       "\t10 & 25 & M & 14959 & 14959 & 0.0 \\\\\n",
       "\t11 & 30 & F & 8190 & 8189 & 0.0112039 \\\\\n",
       "\t12 & 30 & M & 8196 & 8195 & 0.0111999 \\\\\n",
       "\t13 & 35 & F & 8177 & 8177 & 0.0 \\\\\n",
       "\t14 & 35 & M & 8315 & 8315 & 0.0 \\\\\n",
       "\t15 & 40 & F & 8112 & 8112 & 0.0 \\\\\n",
       "\t16 & 40 & M & 8183 & 8182 & 0.0112085 \\\\\n",
       "\t17 & 45 & F & 8159 & 8160 & -0.0112246 \\\\\n",
       "\t18 & 45 & M & 8205 & 8205 & 0.0 \\\\\n",
       "\t19 & 50 & F & 8216 & 8218 & -0.0223733 \\\\\n",
       "\t20 & 50 & M & 8313 & 8314 & -0.011123 \\\\\n",
       "\t21 & 55 & F & 8253 & 8253 & 0.0 \\\\\n",
       "\t22 & 55 & M & 8039 & 8039 & 0.0 \\\\\n",
       "\t23 & 60 & F & 8127 & 8127 & 0.0 \\\\\n",
       "\t24 & 60 & M & 8187 & 8186 & 0.0112059 \\\\\n",
       "\t$\\dots$ & $\\dots$ & $\\dots$ & $\\dots$ & $\\dots$ & $\\dots$ \\\\\n",
       "\\end{tabular}\n"
      ],
      "text/plain": [
       "\u001b[1m32×5 DataFrame\u001b[0m\n",
       "\u001b[1m Row \u001b[0m│\u001b[1m AGE   \u001b[0m\u001b[1m SEX  \u001b[0m\u001b[1m population \u001b[0m\u001b[1m estimated_population \u001b[0m\u001b[1m Z_score     \u001b[0m\n",
       "     │\u001b[90m Int64 \u001b[0m\u001b[90m Char \u001b[0m\u001b[90m Int64      \u001b[0m\u001b[90m Int64?               \u001b[0m\u001b[90m Float64     \u001b[0m\n",
       "─────┼────────────────────────────────────────────────────────────\n",
       "   1 │     5  F           9992                  9995  -0.0305246\n",
       "   2 │     5  M           9944                  9944   0.0\n",
       "   3 │    10  F           9970                  9968   0.0203714\n",
       "   4 │    10  M          10021                 10019   0.0203213\n",
       "   5 │    15  F           9974                  9973   0.0101837\n",
       "   6 │    15  M          10099                 10099   0.0\n",
       "   7 │    20  F          15025                 15024   0.00837047\n",
       "   8 │    20  M          14938                 14938   0.0\n",
       "  ⋮  │   ⋮     ⋮        ⋮                ⋮                 ⋮\n",
       "  26 │    65  M           7997                  7995   0.0226691\n",
       "  27 │    70  F           8327                  8329  -0.0222279\n",
       "  28 │    70  M           8316                  8315   0.0111211\n",
       "  29 │    75  F           8199                  8198   0.0111979\n",
       "  30 │    75  M           8206                  8205   0.0111933\n",
       "  31 │    80  F           8156                  8158  -0.0224531\n",
       "  32 │    80  M           8113                  8114  -0.0112554\n",
       "\u001b[36m                                                   17 rows omitted\u001b[0m"
      ]
     },
     "metadata": {},
     "output_type": "display_data"
    }
   ],
   "source": [
    "validate_table(modified_age_sex, independent_age_sex)"
   ]
  },
  {
   "cell_type": "code",
   "execution_count": 250,
   "metadata": {},
   "outputs": [
    {
     "name": "stdout",
     "output_type": "stream",
     "text": [
      "=================\n",
      "=Cell statistics=\n",
      "=================\n",
      "\n",
      "Percentage of well fitting values at 0.95 confidence interval: 1.0\n",
      "Percentage of well fitting values at 0.90 confidence interval: 1.0\n",
      "\n",
      "\n",
      "==================\n",
      "=Table statistics=\n",
      "==================\n",
      "\n",
      "Statistic value equals: 0.00324825892928292\n",
      "Table is well fitting at 0.9 and 0.95 confidence interval.\n"
     ]
    },
    {
     "data": {
      "text/html": [
       "<div><div style = \"float: left;\"><span>8×5 DataFrame</span></div><div style = \"clear: both;\"></div></div><div class = \"data-frame\" style = \"overflow-x: scroll;\"><table class = \"data-frame\" style = \"margin-bottom: 6px;\"><thead><tr class = \"header\"><th class = \"rowNumber\" style = \"font-weight: bold; text-align: right;\">Row</th><th style = \"text-align: left;\">MARITAL_STATUS</th><th style = \"text-align: left;\">SEX</th><th style = \"text-align: left;\">population</th><th style = \"text-align: left;\">estimated_population</th><th style = \"text-align: left;\">Z_score</th></tr><tr class = \"subheader headerLastRow\"><th class = \"rowNumber\" style = \"font-weight: bold; text-align: right;\"></th><th title = \"Union{Missing, String}\" style = \"text-align: left;\">String?</th><th title = \"Char\" style = \"text-align: left;\">Char</th><th title = \"Int64\" style = \"text-align: left;\">Int64</th><th title = \"Union{Missing, Int64}\" style = \"text-align: left;\">Int64?</th><th title = \"Float64\" style = \"text-align: left;\">Float64</th></tr></thead><tbody><tr><td class = \"rowNumber\" style = \"font-weight: bold; text-align: right;\">1</td><td style = \"text-align: left;\">Divorced</td><td style = \"text-align: left;\">F</td><td style = \"text-align: right;\">12013</td><td style = \"text-align: right;\">12011</td><td style = \"text-align: right;\">0.0187221</td></tr><tr><td class = \"rowNumber\" style = \"font-weight: bold; text-align: right;\">2</td><td style = \"text-align: left;\">Divorced</td><td style = \"text-align: left;\">M</td><td style = \"text-align: right;\">12127</td><td style = \"text-align: right;\">12129</td><td style = \"text-align: right;\">-0.0186386</td></tr><tr><td class = \"rowNumber\" style = \"font-weight: bold; text-align: right;\">3</td><td style = \"text-align: left;\">Married</td><td style = \"text-align: left;\">F</td><td style = \"text-align: right;\">59910</td><td style = \"text-align: right;\">59914</td><td style = \"text-align: right;\">-0.0188656</td></tr><tr><td class = \"rowNumber\" style = \"font-weight: bold; text-align: right;\">4</td><td style = \"text-align: left;\">Married</td><td style = \"text-align: left;\">M</td><td style = \"text-align: right;\">60031</td><td style = \"text-align: right;\">60026</td><td style = \"text-align: right;\">0.0235662</td></tr><tr><td class = \"rowNumber\" style = \"font-weight: bold; text-align: right;\">5</td><td style = \"text-align: left;\">Not_married</td><td style = \"text-align: left;\">F</td><td style = \"text-align: right;\">36005</td><td style = \"text-align: right;\">36004</td><td style = \"text-align: right;\">0.00571629</td></tr><tr><td class = \"rowNumber\" style = \"font-weight: bold; text-align: right;\">6</td><td style = \"text-align: left;\">Not_married</td><td style = \"text-align: left;\">M</td><td style = \"text-align: right;\">35827</td><td style = \"text-align: right;\">35828</td><td style = \"text-align: right;\">-0.00572798</td></tr><tr><td class = \"rowNumber\" style = \"font-weight: bold; text-align: right;\">7</td><td style = \"text-align: left;\">Widowed</td><td style = \"text-align: left;\">F</td><td style = \"text-align: right;\">12105</td><td style = \"text-align: right;\">12108</td><td style = \"text-align: right;\">-0.0279819</td></tr><tr><td class = \"rowNumber\" style = \"font-weight: bold; text-align: right;\">8</td><td style = \"text-align: left;\">Widowed</td><td style = \"text-align: left;\">M</td><td style = \"text-align: right;\">11982</td><td style = \"text-align: right;\">11979</td><td style = \"text-align: right;\">0.0281176</td></tr></tbody></table></div>"
      ],
      "text/latex": [
       "\\begin{tabular}{r|ccccc}\n",
       "\t& MARITAL\\_STATUS & SEX & population & estimated\\_population & Z\\_score\\\\\n",
       "\t\\hline\n",
       "\t& String? & Char & Int64 & Int64? & Float64\\\\\n",
       "\t\\hline\n",
       "\t1 & Divorced & F & 12013 & 12011 & 0.0187221 \\\\\n",
       "\t2 & Divorced & M & 12127 & 12129 & -0.0186386 \\\\\n",
       "\t3 & Married & F & 59910 & 59914 & -0.0188656 \\\\\n",
       "\t4 & Married & M & 60031 & 60026 & 0.0235662 \\\\\n",
       "\t5 & Not\\_married & F & 36005 & 36004 & 0.00571629 \\\\\n",
       "\t6 & Not\\_married & M & 35827 & 35828 & -0.00572798 \\\\\n",
       "\t7 & Widowed & F & 12105 & 12108 & -0.0279819 \\\\\n",
       "\t8 & Widowed & M & 11982 & 11979 & 0.0281176 \\\\\n",
       "\\end{tabular}\n"
      ],
      "text/plain": [
       "\u001b[1m8×5 DataFrame\u001b[0m\n",
       "\u001b[1m Row \u001b[0m│\u001b[1m MARITAL_STATUS \u001b[0m\u001b[1m SEX  \u001b[0m\u001b[1m population \u001b[0m\u001b[1m estimated_population \u001b[0m\u001b[1m Z_score     \u001b[0m\n",
       "     │\u001b[90m String?        \u001b[0m\u001b[90m Char \u001b[0m\u001b[90m Int64      \u001b[0m\u001b[90m Int64?               \u001b[0m\u001b[90m Float64     \u001b[0m\n",
       "─────┼─────────────────────────────────────────────────────────────────────\n",
       "   1 │ Divorced        F          12013                 12011   0.0187221\n",
       "   2 │ Divorced        M          12127                 12129  -0.0186386\n",
       "   3 │ Married         F          59910                 59914  -0.0188656\n",
       "   4 │ Married         M          60031                 60026   0.0235662\n",
       "   5 │ Not_married     F          36005                 36004   0.00571629\n",
       "   6 │ Not_married     M          35827                 35828  -0.00572798\n",
       "   7 │ Widowed         F          12105                 12108  -0.0279819\n",
       "   8 │ Widowed         M          11982                 11979   0.0281176"
      ]
     },
     "metadata": {},
     "output_type": "display_data"
    }
   ],
   "source": [
    "validate_table(modified_sex_marital, independent_sex_marital)"
   ]
  },
  {
   "cell_type": "code",
   "execution_count": 251,
   "metadata": {},
   "outputs": [
    {
     "name": "stdout",
     "output_type": "stream",
     "text": [
      "=================\n",
      "=Cell statistics=\n",
      "=================\n",
      "\n",
      "Percentage of well fitting values at 0.95 confidence interval: 0.0\n",
      "Percentage of well fitting values at 0.90 confidence interval: 0.0\n",
      "\n",
      "\n",
      "==================\n",
      "=Table statistics=\n",
      "==================\n",
      "\n",
      "Statistic value equals: 1759.2392056835945\n",
      "Table is not well fitting.\n"
     ]
    },
    {
     "data": {
      "text/html": [
       "<div><div style = \"float: left;\"><span>5×4 DataFrame</span></div><div style = \"clear: both;\"></div></div><div class = \"data-frame\" style = \"overflow-x: scroll;\"><table class = \"data-frame\" style = \"margin-bottom: 6px;\"><thead><tr class = \"header\"><th class = \"rowNumber\" style = \"font-weight: bold; text-align: right;\">Row</th><th style = \"text-align: left;\">INCOME</th><th style = \"text-align: left;\">population</th><th style = \"text-align: left;\">estimated_population</th><th style = \"text-align: left;\">Z_score</th></tr><tr class = \"subheader headerLastRow\"><th class = \"rowNumber\" style = \"font-weight: bold; text-align: right;\"></th><th title = \"Union{Missing, Int64}\" style = \"text-align: left;\">Int64?</th><th title = \"Int64\" style = \"text-align: left;\">Int64</th><th title = \"Union{Missing, Int64}\" style = \"text-align: left;\">Int64?</th><th title = \"Float64\" style = \"text-align: left;\">Float64</th></tr></thead><tbody><tr><td class = \"rowNumber\" style = \"font-weight: bold; text-align: right;\">1</td><td style = \"text-align: right;\">40000</td><td style = \"text-align: right;\">48034</td><td style = \"text-align: right;\">52539</td><td style = \"text-align: right;\">-22.9834</td></tr><tr><td class = \"rowNumber\" style = \"font-weight: bold; text-align: right;\">2</td><td style = \"text-align: right;\">50000</td><td style = \"text-align: right;\">47861</td><td style = \"text-align: right;\">52358</td><td style = \"text-align: right;\">-22.9736</td></tr><tr><td class = \"rowNumber\" style = \"font-weight: bold; text-align: right;\">3</td><td style = \"text-align: right;\">60000</td><td style = \"text-align: right;\">47760</td><td style = \"text-align: right;\">44780</td><td style = \"text-align: right;\">15.2359</td></tr><tr><td class = \"rowNumber\" style = \"font-weight: bold; text-align: right;\">4</td><td style = \"text-align: right;\">70000</td><td style = \"text-align: right;\">48187</td><td style = \"text-align: right;\">45172</td><td style = \"text-align: right;\">15.3635</td></tr><tr><td class = \"rowNumber\" style = \"font-weight: bold; text-align: right;\">5</td><td style = \"text-align: right;\">80000</td><td style = \"text-align: right;\">48158</td><td style = \"text-align: right;\">45150</td><td style = \"text-align: right;\">15.3312</td></tr></tbody></table></div>"
      ],
      "text/latex": [
       "\\begin{tabular}{r|cccc}\n",
       "\t& INCOME & population & estimated\\_population & Z\\_score\\\\\n",
       "\t\\hline\n",
       "\t& Int64? & Int64 & Int64? & Float64\\\\\n",
       "\t\\hline\n",
       "\t1 & 40000 & 48034 & 52539 & -22.9834 \\\\\n",
       "\t2 & 50000 & 47861 & 52358 & -22.9736 \\\\\n",
       "\t3 & 60000 & 47760 & 44780 & 15.2359 \\\\\n",
       "\t4 & 70000 & 48187 & 45172 & 15.3635 \\\\\n",
       "\t5 & 80000 & 48158 & 45150 & 15.3312 \\\\\n",
       "\\end{tabular}\n"
      ],
      "text/plain": [
       "\u001b[1m5×4 DataFrame\u001b[0m\n",
       "\u001b[1m Row \u001b[0m│\u001b[1m INCOME \u001b[0m\u001b[1m population \u001b[0m\u001b[1m estimated_population \u001b[0m\u001b[1m Z_score  \u001b[0m\n",
       "     │\u001b[90m Int64? \u001b[0m\u001b[90m Int64      \u001b[0m\u001b[90m Int64?               \u001b[0m\u001b[90m Float64  \u001b[0m\n",
       "─────┼────────────────────────────────────────────────────\n",
       "   1 │  40000       48034                 52539  -22.9834\n",
       "   2 │  50000       47861                 52358  -22.9736\n",
       "   3 │  60000       47760                 44780   15.2359\n",
       "   4 │  70000       48187                 45172   15.3635\n",
       "   5 │  80000       48158                 45150   15.3312"
      ]
     },
     "metadata": {},
     "output_type": "display_data"
    }
   ],
   "source": [
    "validate_table(modified_income, independent_income)"
   ]
  },
  {
   "cell_type": "code",
   "execution_count": 252,
   "metadata": {},
   "outputs": [
    {
     "data": {
      "text/html": [
       "<div><div style = \"float: left;\"><span>68×3 DataFrame</span></div><div style = \"float: right;\"><span style = \"font-style: italic;\">43 rows omitted</span></div><div style = \"clear: both;\"></div></div><div class = \"data-frame\" style = \"overflow-x: scroll;\"><table class = \"data-frame\" style = \"margin-bottom: 6px;\"><thead><tr class = \"header\"><th class = \"rowNumber\" style = \"font-weight: bold; text-align: right;\">Row</th><th style = \"text-align: left;\">AGE</th><th style = \"text-align: left;\">INCOME</th><th style = \"text-align: left;\">estimated_population_sum</th></tr><tr class = \"subheader headerLastRow\"><th class = \"rowNumber\" style = \"font-weight: bold; text-align: right;\"></th><th title = \"Union{Missing, Int64}\" style = \"text-align: left;\">Int64?</th><th title = \"Union{Missing, Int64}\" style = \"text-align: left;\">Int64?</th><th title = \"Int64\" style = \"text-align: left;\">Int64</th></tr></thead><tbody><tr><td class = \"rowNumber\" style = \"font-weight: bold; text-align: right;\">1</td><td style = \"text-align: right;\">20</td><td style = \"text-align: right;\">40000</td><td style = \"text-align: right;\">15006</td></tr><tr><td class = \"rowNumber\" style = \"font-weight: bold; text-align: right;\">2</td><td style = \"text-align: right;\">20</td><td style = \"text-align: right;\">50000</td><td style = \"text-align: right;\">14956</td></tr><tr><td class = \"rowNumber\" style = \"font-weight: bold; text-align: right;\">3</td><td style = \"text-align: right;\">20</td><td style = \"text-align: right;\">60000</td><td style = \"text-align: right;\">0</td></tr><tr><td class = \"rowNumber\" style = \"font-weight: bold; text-align: right;\">4</td><td style = \"text-align: right;\">20</td><td style = \"text-align: right;\">70000</td><td style = \"text-align: right;\">0</td></tr><tr><td class = \"rowNumber\" style = \"font-weight: bold; text-align: right;\">5</td><td style = \"text-align: right;\">20</td><td style = \"text-align: right;\">80000</td><td style = \"text-align: right;\">0</td></tr><tr><td class = \"rowNumber\" style = \"font-weight: bold; text-align: right;\">6</td><td style = \"text-align: right;\">25</td><td style = \"text-align: right;\">40000</td><td style = \"text-align: right;\">15046</td></tr><tr><td class = \"rowNumber\" style = \"font-weight: bold; text-align: right;\">7</td><td style = \"text-align: right;\">25</td><td style = \"text-align: right;\">50000</td><td style = \"text-align: right;\">14992</td></tr><tr><td class = \"rowNumber\" style = \"font-weight: bold; text-align: right;\">8</td><td style = \"text-align: right;\">25</td><td style = \"text-align: right;\">60000</td><td style = \"text-align: right;\">0</td></tr><tr><td class = \"rowNumber\" style = \"font-weight: bold; text-align: right;\">9</td><td style = \"text-align: right;\">25</td><td style = \"text-align: right;\">70000</td><td style = \"text-align: right;\">0</td></tr><tr><td class = \"rowNumber\" style = \"font-weight: bold; text-align: right;\">10</td><td style = \"text-align: right;\">25</td><td style = \"text-align: right;\">80000</td><td style = \"text-align: right;\">0</td></tr><tr><td class = \"rowNumber\" style = \"font-weight: bold; text-align: right;\">11</td><td style = \"text-align: right;\">30</td><td style = \"text-align: right;\">40000</td><td style = \"text-align: right;\">2047</td></tr><tr><td class = \"rowNumber\" style = \"font-weight: bold; text-align: right;\">12</td><td style = \"text-align: right;\">30</td><td style = \"text-align: right;\">50000</td><td style = \"text-align: right;\">2040</td></tr><tr><td class = \"rowNumber\" style = \"font-weight: bold; text-align: right;\">13</td><td style = \"text-align: right;\">30</td><td style = \"text-align: right;\">60000</td><td style = \"text-align: right;\">4076</td></tr><tr><td style = \"text-align: right;\">&vellip;</td><td style = \"text-align: right;\">&vellip;</td><td style = \"text-align: right;\">&vellip;</td><td style = \"text-align: right;\">&vellip;</td></tr><tr><td class = \"rowNumber\" style = \"font-weight: bold; text-align: right;\">57</td><td style = \"text-align: right;\">75</td><td style = \"text-align: right;\">50000</td><td style = \"text-align: right;\">2042</td></tr><tr><td class = \"rowNumber\" style = \"font-weight: bold; text-align: right;\">58</td><td style = \"text-align: right;\">75</td><td style = \"text-align: right;\">60000</td><td style = \"text-align: right;\">4081</td></tr><tr><td class = \"rowNumber\" style = \"font-weight: bold; text-align: right;\">59</td><td style = \"text-align: right;\">75</td><td style = \"text-align: right;\">70000</td><td style = \"text-align: right;\">4117</td></tr><tr><td class = \"rowNumber\" style = \"font-weight: bold; text-align: right;\">60</td><td style = \"text-align: right;\">75</td><td style = \"text-align: right;\">80000</td><td style = \"text-align: right;\">4115</td></tr><tr><td class = \"rowNumber\" style = \"font-weight: bold; text-align: right;\">61</td><td style = \"text-align: right;\">80</td><td style = \"text-align: right;\">40000</td><td style = \"text-align: right;\">2034</td></tr><tr><td class = \"rowNumber\" style = \"font-weight: bold; text-align: right;\">62</td><td style = \"text-align: right;\">80</td><td style = \"text-align: right;\">50000</td><td style = \"text-align: right;\">2025</td></tr><tr><td class = \"rowNumber\" style = \"font-weight: bold; text-align: right;\">63</td><td style = \"text-align: right;\">80</td><td style = \"text-align: right;\">60000</td><td style = \"text-align: right;\">4049</td></tr><tr><td class = \"rowNumber\" style = \"font-weight: bold; text-align: right;\">64</td><td style = \"text-align: right;\">80</td><td style = \"text-align: right;\">70000</td><td style = \"text-align: right;\">4083</td></tr><tr><td class = \"rowNumber\" style = \"font-weight: bold; text-align: right;\">65</td><td style = \"text-align: right;\">80</td><td style = \"text-align: right;\">80000</td><td style = \"text-align: right;\">4081</td></tr><tr><td class = \"rowNumber\" style = \"font-weight: bold; text-align: right;\">66</td><td style = \"text-align: right;\">5</td><td style = \"text-align: right;\">missing</td><td style = \"text-align: right;\">19939</td></tr><tr><td class = \"rowNumber\" style = \"font-weight: bold; text-align: right;\">67</td><td style = \"text-align: right;\">10</td><td style = \"text-align: right;\">missing</td><td style = \"text-align: right;\">19987</td></tr><tr><td class = \"rowNumber\" style = \"font-weight: bold; text-align: right;\">68</td><td style = \"text-align: right;\">15</td><td style = \"text-align: right;\">missing</td><td style = \"text-align: right;\">20072</td></tr></tbody></table></div>"
      ],
      "text/latex": [
       "\\begin{tabular}{r|ccc}\n",
       "\t& AGE & INCOME & estimated\\_population\\_sum\\\\\n",
       "\t\\hline\n",
       "\t& Int64? & Int64? & Int64\\\\\n",
       "\t\\hline\n",
       "\t1 & 20 & 40000 & 15006 \\\\\n",
       "\t2 & 20 & 50000 & 14956 \\\\\n",
       "\t3 & 20 & 60000 & 0 \\\\\n",
       "\t4 & 20 & 70000 & 0 \\\\\n",
       "\t5 & 20 & 80000 & 0 \\\\\n",
       "\t6 & 25 & 40000 & 15046 \\\\\n",
       "\t7 & 25 & 50000 & 14992 \\\\\n",
       "\t8 & 25 & 60000 & 0 \\\\\n",
       "\t9 & 25 & 70000 & 0 \\\\\n",
       "\t10 & 25 & 80000 & 0 \\\\\n",
       "\t11 & 30 & 40000 & 2047 \\\\\n",
       "\t12 & 30 & 50000 & 2040 \\\\\n",
       "\t13 & 30 & 60000 & 4076 \\\\\n",
       "\t14 & 30 & 70000 & 4111 \\\\\n",
       "\t15 & 30 & 80000 & 4110 \\\\\n",
       "\t16 & 35 & 40000 & 2061 \\\\\n",
       "\t17 & 35 & 50000 & 2053 \\\\\n",
       "\t18 & 35 & 60000 & 4103 \\\\\n",
       "\t19 & 35 & 70000 & 4138 \\\\\n",
       "\t20 & 35 & 80000 & 4137 \\\\\n",
       "\t21 & 40 & 40000 & 2034 \\\\\n",
       "\t22 & 40 & 50000 & 2029 \\\\\n",
       "\t23 & 40 & 60000 & 4054 \\\\\n",
       "\t24 & 40 & 70000 & 4090 \\\\\n",
       "\t$\\dots$ & $\\dots$ & $\\dots$ & $\\dots$ \\\\\n",
       "\\end{tabular}\n"
      ],
      "text/plain": [
       "\u001b[1m68×3 DataFrame\u001b[0m\n",
       "\u001b[1m Row \u001b[0m│\u001b[1m AGE    \u001b[0m\u001b[1m INCOME  \u001b[0m\u001b[1m estimated_population_sum \u001b[0m\n",
       "     │\u001b[90m Int64? \u001b[0m\u001b[90m Int64?  \u001b[0m\u001b[90m Int64                    \u001b[0m\n",
       "─────┼───────────────────────────────────────────\n",
       "   1 │     20    40000                     15006\n",
       "   2 │     20    50000                     14956\n",
       "   3 │     20    60000                         0\n",
       "   4 │     20    70000                         0\n",
       "   5 │     20    80000                         0\n",
       "   6 │     25    40000                     15046\n",
       "   7 │     25    50000                     14992\n",
       "   8 │     25    60000                         0\n",
       "  ⋮  │   ⋮        ⋮                ⋮\n",
       "  62 │     80    50000                      2025\n",
       "  63 │     80    60000                      4049\n",
       "  64 │     80    70000                      4083\n",
       "  65 │     80    80000                      4081\n",
       "  66 │      5 \u001b[90m missing \u001b[0m                    19939\n",
       "  67 │     10 \u001b[90m missing \u001b[0m                    19987\n",
       "  68 │     15 \u001b[90m missing \u001b[0m                    20072\n",
       "\u001b[36m                                  53 rows omitted\u001b[0m"
      ]
     },
     "metadata": {},
     "output_type": "display_data"
    }
   ],
   "source": [
    "combine(groupby(modified, [:AGE, :INCOME]), :estimated_population => sum)"
   ]
  }
 ],
 "metadata": {
  "kernelspec": {
   "display_name": "Julia 1.8.5",
   "language": "julia",
   "name": "julia-1.8"
  },
  "language_info": {
   "file_extension": ".jl",
   "mimetype": "application/julia",
   "name": "julia",
   "version": "1.8.5"
  }
 },
 "nbformat": 4,
 "nbformat_minor": 2
}
